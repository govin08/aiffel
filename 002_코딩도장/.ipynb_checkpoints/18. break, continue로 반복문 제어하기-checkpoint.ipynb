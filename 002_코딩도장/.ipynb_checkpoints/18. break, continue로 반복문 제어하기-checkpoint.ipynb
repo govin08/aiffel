{
 "cells": [
  {
   "cell_type": "markdown",
   "id": "d58dcc3e",
   "metadata": {},
   "source": [
    "# 18. break, continue로 반복문 제어하기"
   ]
  },
  {
   "cell_type": "markdown",
   "id": "e519e24b",
   "metadata": {},
   "source": [
    "`break`는 `for`와 `while` 문법에서 제어흐름을 벗어나기 위해 사용합니다.\n",
    "즉, 루프를 완전히 중단하죠. `continue`는 `break`와 비슷하지만 약간 다른 점이 있습니다.\n",
    "`break`는 제어흐름을 중단하고 빠져 나오지만, `continue`는 제어흐름(반복)을 유지한 상태에서 코드의 실행만 건너뛰는 역할을 합니다.\n",
    "마치 카드 게임을 할 때 패가 안 좋으면 판을 포기하고 다음 기회를 노리는 것과 비슷합니다.\n",
    "\n",
    " - `break`: 제어흐름 중단\n",
    " - `continue`: 제어흐름 유지, 코드 실행만 건너뜀, i.e. `continue` 뒤의 명령어들을 무시함.\n",
    "\n",
    "|명령어|사용하는 때|설명|요약|\n",
    "|:--:|:-----:|:--|:--:|\n",
    "|pass|if, for, while|아무 일도 하지 않고 넘어간다.|**넘어간다**|\n",
    "|break|for, while|제어흐름을 중단하고 빠져나온다.|**끝낸다**|\n",
    "|continue|for, while|제어흐름을 유지한 상태에서 코드 실행을 건너뛴다.|**건너뛴다**|\n"
   ]
  },
  {
   "cell_type": "markdown",
   "id": "f69cd06e",
   "metadata": {},
   "source": [
    "## 18.1. break로 반복문 끝내기"
   ]
  },
  {
   "cell_type": "markdown",
   "id": "4d88fdeb",
   "metadata": {},
   "source": [
    "### 18.1.1. while에서 break로 반복문 끝내기"
   ]
  },
  {
   "cell_type": "code",
   "execution_count": 35,
   "id": "356d23a7",
   "metadata": {},
   "outputs": [
    {
     "name": "stdout",
     "output_type": "stream",
     "text": [
      "0\n",
      "1\n",
      "2\n",
      "3\n",
      "4\n",
      "5\n",
      "6\n",
      "7\n",
      "8\n",
      "9\n"
     ]
    }
   ],
   "source": [
    "i = 0\n",
    "while True:\n",
    "    print(i)\n",
    "    i +=1\n",
    "    if i==10:\n",
    "        break"
   ]
  },
  {
   "cell_type": "markdown",
   "id": "dbab5a31",
   "metadata": {},
   "source": [
    "위 코드에서 `break`은 `while`문을 빠져나오는 것이지 `if`문을 빠져나오는 것이 아니다.\n",
    "`break`은 `while`과 `for`에 작용한다."
   ]
  },
  {
   "cell_type": "markdown",
   "id": "443c77ac",
   "metadata": {},
   "source": [
    "### 18.1.2. for에서 break로 반복문 끝내기"
   ]
  },
  {
   "cell_type": "code",
   "execution_count": 36,
   "id": "932d5991",
   "metadata": {
    "scrolled": true
   },
   "outputs": [
    {
     "name": "stdout",
     "output_type": "stream",
     "text": [
      "0\n",
      "1\n",
      "2\n",
      "3\n",
      "4\n",
      "5\n",
      "6\n",
      "7\n",
      "8\n",
      "9\n",
      "10\n"
     ]
    }
   ],
   "source": [
    "for i in range(100):\n",
    "    print(i)\n",
    "    if i == 10:\n",
    "        break"
   ]
  },
  {
   "cell_type": "markdown",
   "id": "2f54670d",
   "metadata": {},
   "source": [
    "## 18.2. continue로 코드 실행 건너뛰기"
   ]
  },
  {
   "cell_type": "markdown",
   "id": "e8726d80",
   "metadata": {},
   "source": [
    "### 18.2.1. for에서 continue로 코드 실행 건너뛰기"
   ]
  },
  {
   "cell_type": "code",
   "execution_count": 39,
   "id": "4f497bb2",
   "metadata": {},
   "outputs": [
    {
     "name": "stdout",
     "output_type": "stream",
     "text": [
      "1\n",
      "3\n",
      "5\n",
      "7\n",
      "9\n",
      "11\n",
      "13\n",
      "15\n",
      "17\n",
      "19\n"
     ]
    }
   ],
   "source": [
    "for i in range(20):\n",
    "    if i % 2 == 0:\n",
    "        continue\n",
    "    print(i)"
   ]
  },
  {
   "cell_type": "markdown",
   "id": "4eac6fb7",
   "metadata": {},
   "source": [
    "## 18.2.2. while 반복문에서 continue로 코드 실행 건너뛰기"
   ]
  },
  {
   "cell_type": "code",
   "execution_count": 52,
   "id": "3c093d92",
   "metadata": {},
   "outputs": [
    {
     "name": "stdout",
     "output_type": "stream",
     "text": [
      "1\n",
      "3\n",
      "5\n",
      "7\n",
      "9\n",
      "11\n",
      "13\n",
      "15\n",
      "17\n",
      "19\n"
     ]
    }
   ],
   "source": [
    "i=0\n",
    "while i < 20:\n",
    "    i += 1\n",
    "    if i % 2 == 0:\n",
    "        continue\n",
    "    print(i)"
   ]
  },
  {
   "cell_type": "code",
   "execution_count": 69,
   "id": "4c75964a",
   "metadata": {},
   "outputs": [],
   "source": [
    "for i in range(10):\n",
    "    pass"
   ]
  },
  {
   "cell_type": "code",
   "execution_count": 76,
   "id": "b0f21d4c",
   "metadata": {},
   "outputs": [],
   "source": [
    "i=0\n",
    "while i < 10:\n",
    "    i += 1\n",
    "    pass"
   ]
  },
  {
   "cell_type": "markdown",
   "id": "6828b509",
   "metadata": {},
   "source": [
    "`for`문과 `while`문에서의 `break` 사용 도식\n",
    "\n",
    "![nn](img/0826_for-while-break.jpg)"
   ]
  },
  {
   "cell_type": "markdown",
   "id": "11b9bde8",
   "metadata": {},
   "source": [
    "## 18.3. 입력한 횟수대로 반복하기"
   ]
  },
  {
   "cell_type": "code",
   "execution_count": 77,
   "id": "9846a0d1",
   "metadata": {},
   "outputs": [
    {
     "name": "stdout",
     "output_type": "stream",
     "text": [
      "반복할 횟수를 입력하세요: 10\n",
      "0\n",
      "1\n",
      "2\n",
      "3\n",
      "4\n",
      "5\n",
      "6\n",
      "7\n",
      "8\n",
      "9\n"
     ]
    }
   ],
   "source": [
    "count = int(input('반복할 횟수를 입력하세요: '))\n",
    "\n",
    "i = 0\n",
    "while True:\n",
    "    print(i)\n",
    "    i += 1\n",
    "    if i == count:\n",
    "        break"
   ]
  },
  {
   "cell_type": "code",
   "execution_count": 78,
   "id": "89f9d370",
   "metadata": {
    "scrolled": true
   },
   "outputs": [
    {
     "name": "stdout",
     "output_type": "stream",
     "text": [
      "반복할 횟수를 입력하세요: 10\n",
      "1\n",
      "3\n",
      "5\n",
      "7\n",
      "9\n"
     ]
    }
   ],
   "source": [
    "count = int(input('반복할 횟수를 입력하세요: '))\n",
    " \n",
    "for i in range(count + 1):\n",
    "    if i % 2 == 0:\n",
    "        continue\n",
    "    print(i)"
   ]
  },
  {
   "cell_type": "markdown",
   "id": "d21c6c6a",
   "metadata": {},
   "source": [
    "## 18.4. 퀴즈"
   ]
  },
  {
   "cell_type": "markdown",
   "id": "8110b763",
   "metadata": {},
   "source": [
    "## 18.5. 연습문제"
   ]
  },
  {
   "cell_type": "markdown",
   "id": "dc78380d",
   "metadata": {},
   "source": [
    "## 18.6. 심사문제"
   ]
  },
  {
   "cell_type": "code",
   "execution_count": 82,
   "id": "9ef0aab7",
   "metadata": {},
   "outputs": [
    {
     "name": "stdout",
     "output_type": "stream",
     "text": [
      "50 51 52 54 55 56 57 58 59 60 61 62 64 65 66 67 68 69 70 71 72 74 75 76 77 78 79 80 81 82 84 85 86 87 88 89 90 91 92 94 95 96 97 98 99 "
     ]
    }
   ],
   "source": [
    "start = 50\n",
    "stop = 100\n",
    "i = start\n",
    "while True:\n",
    "    if i % 10 == 3:\n",
    "        i+=1\n",
    "        continue\n",
    "    if i == stop:\n",
    "        break\n",
    "    print(i,end=' ')\n",
    "    i+=1"
   ]
  },
  {
   "cell_type": "code",
   "execution_count": 2,
   "id": "d6aa8037",
   "metadata": {},
   "outputs": [
    {
     "name": "stdout",
     "output_type": "stream",
     "text": [
      "50 100\n",
      "50 51 52 54 55 56 57 58 59 60 61 62 64 65 66 67 68 69 70 71 72 74 75 76 77 78 79 80 81 82 84 85 86 87 88 89 90 91 92 94 95 96 97 98 99 "
     ]
    }
   ],
   "source": [
    "start, stop = map(int, input().split())\n",
    "i = start\n",
    "while True:\n",
    "    if i % 10 == 3:\n",
    "        i+=1\n",
    "        continue\n",
    "    if i > stop:\n",
    "        break\n",
    "    print(i,end=' ')\n",
    "    i+=1\n"
   ]
  },
  {
   "cell_type": "markdown",
   "id": "b89c2e23",
   "metadata": {},
   "source": [
    "## 18.7*. 직접 만든 문제"
   ]
  },
  {
   "cell_type": "markdown",
   "id": "a9a2ad3c",
   "metadata": {},
   "source": [
    "문제1)\n",
    "\n",
    "```\n",
    "for i in range(3,100,3):\n",
    "    print(i,end= ', ')\n",
    "```\n",
    "위의 코드를 변형하고 `break`을 적절히 추가하여, 100보다 작은 3의 배수들을 차례로 나열하는 코드를 구성하여라."
   ]
  },
  {
   "cell_type": "code",
   "execution_count": 53,
   "id": "3a24ab87",
   "metadata": {},
   "outputs": [
    {
     "name": "stdout",
     "output_type": "stream",
     "text": [
      "3, 6, 9, 12, 15, 18, 21, 24, 27, 30, 33, 36, 39, 42, 45, 48, 51, 54, 57, 60, 63, 66, 69, 72, 75, 78, 81, 84, 87, 90, 93, 96, 99, "
     ]
    }
   ],
   "source": [
    "for i in range(3,1000,3):\n",
    "    if i > 100:\n",
    "        break\n",
    "    print(i,end= ', ')"
   ]
  },
  {
   "cell_type": "markdown",
   "id": "16c128b5",
   "metadata": {},
   "source": [
    "문제2)\n",
    "\n",
    "```\n",
    "i=3\n",
    "while i < 100:\n",
    "    print(i,end= ', ')\n",
    "    i+=3\n",
    "```\n",
    "위의 코드를 변형하고 `break`을 적절히 추가하여, 100보다 작은 3의 배수들을 차례로 나열하는 코드를 구성하여라."
   ]
  },
  {
   "cell_type": "code",
   "execution_count": 67,
   "id": "72e9bf23",
   "metadata": {},
   "outputs": [
    {
     "name": "stdout",
     "output_type": "stream",
     "text": [
      "3, 6, 9, 12, 15, 18, 21, 24, 27, 30, 33, 36, 39, 42, 45, 48, 51, 54, 57, 60, 63, 66, 69, 72, 75, 78, 81, 84, 87, 90, 93, 96, 99, "
     ]
    }
   ],
   "source": [
    "i=3\n",
    "while i < 1000:\n",
    "    if i > 100:\n",
    "        break\n",
    "    print(i,end= ', ')\n",
    "    i+=3"
   ]
  },
  {
   "cell_type": "markdown",
   "id": "0a6eb8e6",
   "metadata": {},
   "source": [
    "문제3)\n",
    "\n",
    "```\n",
    "for i in range(3,100,3):\n",
    "    print(i,end= ', ')\n",
    "```\n",
    "위의 코드를 변형하고 `continue`를 적절히 추가하여, 100보다 작은 3의 배수들을 차례로 나열하는 코드를 구성하여라."
   ]
  },
  {
   "cell_type": "code",
   "execution_count": 60,
   "id": "56ba17a7",
   "metadata": {
    "scrolled": true
   },
   "outputs": [
    {
     "name": "stdout",
     "output_type": "stream",
     "text": [
      "3, 6, 9, 12, 15, 18, 21, 24, 27, 30, 33, 36, 39, 42, 45, 48, 51, 54, 57, 60, 63, 66, 69, 72, 75, 78, 81, 84, 87, 90, 93, 96, 99, "
     ]
    }
   ],
   "source": [
    "for i in range(1,100):\n",
    "    if i % 3 != 0:\n",
    "        continue\n",
    "    print(i,end= ', ')"
   ]
  },
  {
   "cell_type": "markdown",
   "id": "ce170f82",
   "metadata": {},
   "source": [
    "문제4)\n",
    "\n",
    "```\n",
    "i=3\n",
    "while i < 100:\n",
    "    print(i,end= ', ')\n",
    "    i+=3\n",
    "```\n",
    "위의 코드를 변형하고 `continue`를 적절히 추가하여, 100보다 작은 3의 배수들을 차례로 나열하는 코드를 구성하여라."
   ]
  },
  {
   "cell_type": "code",
   "execution_count": 68,
   "id": "afa58ef0",
   "metadata": {},
   "outputs": [
    {
     "name": "stdout",
     "output_type": "stream",
     "text": [
      "3, 6, 9, 12, 15, 18, 21, 24, 27, 30, 33, 36, 39, 42, 45, 48, 51, 54, 57, 60, 63, 66, 69, 72, 75, 78, 81, 84, 87, 90, 93, 96, 99, "
     ]
    }
   ],
   "source": [
    "i=1\n",
    "while i < 100:\n",
    "    i+=1\n",
    "    if i % 3!=0:\n",
    "        continue\n",
    "    print(i,end= ', ')"
   ]
  }
 ],
 "metadata": {
  "kernelspec": {
   "display_name": "Python 3 (ipykernel)",
   "language": "python",
   "name": "python3"
  },
  "language_info": {
   "codemirror_mode": {
    "name": "ipython",
    "version": 3
   },
   "file_extension": ".py",
   "mimetype": "text/x-python",
   "name": "python",
   "nbconvert_exporter": "python",
   "pygments_lexer": "ipython3",
   "version": "3.9.7"
  }
 },
 "nbformat": 4,
 "nbformat_minor": 5
}
