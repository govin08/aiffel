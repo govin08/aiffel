{
 "cells": [
  {
   "cell_type": "markdown",
   "id": "6c22bd8b",
   "metadata": {},
   "source": [
    "# 6. 변수와 입력 사용하기"
   ]
  },
  {
   "cell_type": "markdown",
   "id": "feba089a",
   "metadata": {},
   "source": [
    "## 6.1. 변수 만들기"
   ]
  },
  {
   "cell_type": "code",
   "execution_count": 77,
   "id": "376b76c3",
   "metadata": {
    "scrolled": true
   },
   "outputs": [
    {
     "data": {
      "text/plain": [
       "10"
      ]
     },
     "execution_count": 77,
     "metadata": {},
     "output_type": "execute_result"
    }
   ],
   "source": [
    "x=10\n",
    "x"
   ]
  },
  {
   "cell_type": "code",
   "execution_count": 79,
   "id": "44523626",
   "metadata": {},
   "outputs": [
    {
     "data": {
      "text/plain": [
       "'hello world'"
      ]
     },
     "execution_count": 79,
     "metadata": {},
     "output_type": "execute_result"
    }
   ],
   "source": [
    "y = 'hello world'\n",
    "y"
   ]
  },
  {
   "cell_type": "markdown",
   "id": "db7feacd",
   "metadata": {},
   "source": [
    "### 6.1.1. 변수의 자료형 알아내기"
   ]
  },
  {
   "cell_type": "code",
   "execution_count": 81,
   "id": "5a316e0b",
   "metadata": {},
   "outputs": [
    {
     "name": "stdout",
     "output_type": "stream",
     "text": [
      "<class 'int'>\n",
      "<class 'str'>\n"
     ]
    }
   ],
   "source": [
    "print(type(x))\n",
    "print(type(y))"
   ]
  },
  {
   "cell_type": "markdown",
   "id": "e521cf7d",
   "metadata": {},
   "source": [
    "### 6.1.2. 변수 여러 개를 한 번에 만들기"
   ]
  },
  {
   "cell_type": "code",
   "execution_count": 82,
   "id": "9393ed28",
   "metadata": {},
   "outputs": [
    {
     "name": "stdout",
     "output_type": "stream",
     "text": [
      "10 20 30\n"
     ]
    }
   ],
   "source": [
    "x,y,z=10,20,30\n",
    "print(x,y,z)"
   ]
  },
  {
   "cell_type": "code",
   "execution_count": 83,
   "id": "0ac5e810",
   "metadata": {},
   "outputs": [
    {
     "name": "stdout",
     "output_type": "stream",
     "text": [
      "20 10\n"
     ]
    }
   ],
   "source": [
    "x, y = 10, 20\n",
    "x, y = y, x\n",
    "print(x,y)"
   ]
  },
  {
   "cell_type": "markdown",
   "id": "0b7b33a5",
   "metadata": {},
   "source": [
    "## 6.2. 변수로 계산하기"
   ]
  },
  {
   "cell_type": "code",
   "execution_count": 84,
   "id": "7f6b44dd",
   "metadata": {},
   "outputs": [
    {
     "name": "stdout",
     "output_type": "stream",
     "text": [
      "30\n"
     ]
    }
   ],
   "source": [
    "a = 10\n",
    "b = 20\n",
    "print(a+b)"
   ]
  },
  {
   "cell_type": "markdown",
   "id": "3ab58548",
   "metadata": {},
   "source": [
    "### 6.2.1. 산술 연산 후 할당 연산자 사용하기"
   ]
  },
  {
   "cell_type": "code",
   "execution_count": 86,
   "id": "d2f864e0",
   "metadata": {},
   "outputs": [
    {
     "name": "stdout",
     "output_type": "stream",
     "text": [
      "30\n"
     ]
    }
   ],
   "source": [
    "a=10\n",
    "print(a+20)"
   ]
  },
  {
   "cell_type": "code",
   "execution_count": 87,
   "id": "762194c9",
   "metadata": {},
   "outputs": [
    {
     "name": "stdout",
     "output_type": "stream",
     "text": [
      "30\n"
     ]
    }
   ],
   "source": [
    "a=10\n",
    "a=a+20\n",
    "print(a)"
   ]
  },
  {
   "cell_type": "code",
   "execution_count": 88,
   "id": "6339b8a1",
   "metadata": {},
   "outputs": [
    {
     "name": "stdout",
     "output_type": "stream",
     "text": [
      "30\n"
     ]
    }
   ],
   "source": [
    "a=10\n",
    "a+=20\n",
    "print(a)"
   ]
  },
  {
   "cell_type": "markdown",
   "id": "259a1f5d",
   "metadata": {},
   "source": [
    "## 6.3. 입력값을 변수에 저장하기"
   ]
  },
  {
   "cell_type": "markdown",
   "id": "0e1b1fe8",
   "metadata": {},
   "source": [
    "### 6.3.1. input 함수 사용하기"
   ]
  },
  {
   "cell_type": "code",
   "execution_count": 89,
   "id": "e6600355",
   "metadata": {},
   "outputs": [
    {
     "name": "stdout",
     "output_type": "stream",
     "text": [
      "Hello, world!\n"
     ]
    },
    {
     "data": {
      "text/plain": [
       "'Hello, world!'"
      ]
     },
     "execution_count": 89,
     "metadata": {},
     "output_type": "execute_result"
    }
   ],
   "source": [
    "input()"
   ]
  },
  {
   "cell_type": "markdown",
   "id": "3c32b5e2",
   "metadata": {},
   "source": [
    "### 6.3.2. input 함수의 결과를 변수에 할당하기"
   ]
  },
  {
   "cell_type": "code",
   "execution_count": 90,
   "id": "e434b72d",
   "metadata": {},
   "outputs": [
    {
     "name": "stdout",
     "output_type": "stream",
     "text": [
      "Hello world!\n"
     ]
    }
   ],
   "source": [
    "x = input()"
   ]
  },
  {
   "cell_type": "code",
   "execution_count": 91,
   "id": "a7e9820f",
   "metadata": {},
   "outputs": [
    {
     "name": "stdout",
     "output_type": "stream",
     "text": [
      "Hello world!\n"
     ]
    }
   ],
   "source": [
    "print(x)"
   ]
  },
  {
   "cell_type": "code",
   "execution_count": 92,
   "id": "334ab03c",
   "metadata": {},
   "outputs": [
    {
     "name": "stdout",
     "output_type": "stream",
     "text": [
      "문자열을 입력하세요hello world\n"
     ]
    }
   ],
   "source": [
    "x = input('문자열을 입력하세요')"
   ]
  },
  {
   "cell_type": "code",
   "execution_count": 93,
   "id": "03706f40",
   "metadata": {},
   "outputs": [
    {
     "name": "stdout",
     "output_type": "stream",
     "text": [
      "hello world\n"
     ]
    }
   ],
   "source": [
    "print(x)"
   ]
  },
  {
   "cell_type": "markdown",
   "id": "9ef35724",
   "metadata": {},
   "source": [
    "실행을 해보면 '문자열을 입력하세요: '처럼 안내 문구가 먼저 나옵니다. 여기에 문자열을 입력한 뒤 엔터 키를 누르면 입력한 그대로 출력됩니다. 즉, 이 문자열은 사용자에게 입력받는 값의 용도를 미리 알려줄 때 사용합니다. 다른 말로는 **프롬프트(prompt)**라고도 부릅니다(파이썬 프롬프트 >>>와 같은 의미입니다)."
   ]
  },
  {
   "cell_type": "markdown",
   "id": "2b3dff63",
   "metadata": {},
   "source": [
    "### 6.3.3. 두 숫자의 합 구하기"
   ]
  },
  {
   "cell_type": "code",
   "execution_count": 96,
   "id": "42cd891f",
   "metadata": {},
   "outputs": [
    {
     "name": "stdout",
     "output_type": "stream",
     "text": [
      "첫번재 숫자를 입력하세요: 10\n",
      "두번재 숫자를 입력하세요: 20\n",
      "1020\n"
     ]
    }
   ],
   "source": [
    "a= input('첫번재 숫자를 입력하세요: ')\n",
    "b= input('두번재 숫자를 입력하세요: ')\n",
    "print(a+b)"
   ]
  },
  {
   "cell_type": "code",
   "execution_count": 97,
   "id": "f4f2b695",
   "metadata": {},
   "outputs": [
    {
     "name": "stdout",
     "output_type": "stream",
     "text": [
      "<class 'str'>\n"
     ]
    }
   ],
   "source": [
    "print(type(a))"
   ]
  },
  {
   "cell_type": "markdown",
   "id": "6dd2afc9",
   "metadata": {},
   "source": [
    "### 6.3.4. 입력 값을 정수로 변환하기"
   ]
  },
  {
   "cell_type": "code",
   "execution_count": 101,
   "id": "c15030ad",
   "metadata": {},
   "outputs": [
    {
     "name": "stdout",
     "output_type": "stream",
     "text": [
      "첫번째 숫자를 입력하세요 : 10\n"
     ]
    }
   ],
   "source": [
    "a = int(input('첫번째 숫자를 입력하세요 : '))\n",
    "#b = input(int('첫번째 숫자를 입력하세요 : ')) #오류"
   ]
  },
  {
   "cell_type": "code",
   "execution_count": 99,
   "id": "44df9615",
   "metadata": {},
   "outputs": [
    {
     "name": "stdout",
     "output_type": "stream",
     "text": [
      "10\n",
      "<class 'int'>\n"
     ]
    }
   ],
   "source": [
    "print(a)\n",
    "print(type(a))"
   ]
  },
  {
   "cell_type": "markdown",
   "id": "cead4b37",
   "metadata": {},
   "source": [
    "## 6.4.1. 입력값을 변수 두 개에 저장하기"
   ]
  },
  {
   "cell_type": "code",
   "execution_count": 108,
   "id": "08558db8",
   "metadata": {},
   "outputs": [
    {
     "name": "stdout",
     "output_type": "stream",
     "text": [
      "문자열 두 개를 입력하세요: 10 20\n",
      "10\n",
      "20\n"
     ]
    }
   ],
   "source": [
    "a, b = input('문자열 두 개를 입력하세요: ').split() \n",
    "print(a)\n",
    "print(b)"
   ]
  },
  {
   "cell_type": "code",
   "execution_count": 113,
   "id": "da2daae9",
   "metadata": {},
   "outputs": [
    {
     "name": "stdout",
     "output_type": "stream",
     "text": [
      "문자열 두 개를 입력하세요: 10 20\n",
      "10\n",
      "20\n"
     ]
    }
   ],
   "source": [
    "a, b = input('문자열 두 개를 입력하세요: ').split() \n",
    "print(a)\n",
    "print(b)"
   ]
  },
  {
   "cell_type": "code",
   "execution_count": 126,
   "id": "5d01e4ee",
   "metadata": {},
   "outputs": [
    {
     "name": "stdout",
     "output_type": "stream",
     "text": [
      "문자열 두 개를 입력하세요: 10, 20.3\n",
      "['10,', '20.3']\n",
      "<class 'list'>\n"
     ]
    }
   ],
   "source": [
    "L = input('문자열 두 개를 입력하세요: ').split()\n",
    "print(L)\n",
    "print(type(L))"
   ]
  },
  {
   "cell_type": "markdown",
   "id": "406e5033",
   "metadata": {},
   "source": [
    "### 6.4.2 입력 값을 정수로 변환하기"
   ]
  },
  {
   "cell_type": "code",
   "execution_count": 123,
   "id": "1129c7c3",
   "metadata": {},
   "outputs": [
    {
     "name": "stdout",
     "output_type": "stream",
     "text": [
      "문자열 두 개를 입력하세요: 10 20\n",
      "10\n",
      "20\n"
     ]
    }
   ],
   "source": [
    "a, b = input('문자열 두 개를 입력하세요: ').split() \n",
    "a=int(a)\n",
    "b=int(b)\n",
    "print(a)\n",
    "print(b)\n",
    "\n",
    "# issue : '10, 20'을 입력하면 잘 출력된다. 그런데 '10.2, 20.3'을 입력하면 에러가 뜬다."
   ]
  },
  {
   "cell_type": "code",
   "execution_count": 121,
   "id": "91f29ef6",
   "metadata": {},
   "outputs": [
    {
     "name": "stdout",
     "output_type": "stream",
     "text": [
      "10\n"
     ]
    }
   ],
   "source": [
    "a=10.2\n",
    "a=int(a)\n",
    "print(a)"
   ]
  },
  {
   "cell_type": "markdown",
   "id": "65366873",
   "metadata": {},
   "source": [
    "### 6.4.3. map을 사용하여 정수로 변환하기"
   ]
  },
  {
   "cell_type": "code",
   "execution_count": 124,
   "id": "8c735c98",
   "metadata": {},
   "outputs": [
    {
     "name": "stdout",
     "output_type": "stream",
     "text": [
      "10 20\n"
     ]
    }
   ],
   "source": [
    "a,b = map(int,(10.2,20.3))\n",
    "print(a,b)"
   ]
  },
  {
   "cell_type": "code",
   "execution_count": 127,
   "id": "ad5ccd0d",
   "metadata": {},
   "outputs": [
    {
     "name": "stdout",
     "output_type": "stream",
     "text": [
      "10 20\n"
     ]
    }
   ],
   "source": [
    "a,b = map(int,[10.2,20.3])\n",
    "print(a,b)"
   ]
  },
  {
   "cell_type": "markdown",
   "id": "f89952ee",
   "metadata": {},
   "source": [
    "### 6.4.4. 입력받은 값을 콤마를 기준으로 분리하기"
   ]
  },
  {
   "cell_type": "code",
   "execution_count": 128,
   "id": "ee272a88",
   "metadata": {},
   "outputs": [
    {
     "name": "stdout",
     "output_type": "stream",
     "text": [
      "숫자 두 개를 입려하세요:10,20\n",
      "10\n",
      "20\n"
     ]
    }
   ],
   "source": [
    "a,b = input('숫자 두 개를 입려하세요:').split(',')\n",
    "print(a)\n",
    "print(b)"
   ]
  },
  {
   "cell_type": "markdown",
   "id": "832a2e6e",
   "metadata": {},
   "source": [
    "## 6.5. 퀴즈"
   ]
  },
  {
   "cell_type": "markdown",
   "id": "1264e057",
   "metadata": {},
   "source": [
    "#### 2번문제\n",
    "\n",
    "> 다음 중 변수 이름으로 사용할 수 없는 것을 모두 고르세요.\n",
    "> 1. 300\n",
    "> 2. _53A\n",
    "> 3. if\n",
    "> 4. z\n",
    "> 5. H-80\n",
    "> 6. _hello3\n",
    "> 7. 30seconds\n",
    "> 8. 99%"
   ]
  },
  {
   "cell_type": "markdown",
   "id": "063cb8de",
   "metadata": {},
   "source": [
    "|순번|코드|사용가능여부|이유|비고|\n",
    "|-|-|-|-|-|\n",
    "|(a)|300|불가능|숫자(3)부터 시작하면 안됩니다.|맞음|\n",
    "|(b)|\\_53A|가능||맞음|\n",
    "|(c)|if|불가능|파이썬의 키워드(if)는 사용할 수 없습니다.|맞음|\n",
    "|(d)|z|가능||맞음|\n",
    "|(e)|H-80|불가능|특수문자(-)는 사용할 수 없습니다.|맞음|\n",
    "|(f)|\\_hello3|가능||틀림|\n",
    "|(g)|30seconds|불가능|숫자(3)부터 시작하면 안됩니다.|맞음|\n",
    "|(h)|99%|불가능|숫자(9)부터 시작하면 안되고 특수문자(%)는 사용할 수 없습니다.|맞음|"
   ]
  },
  {
   "cell_type": "markdown",
   "id": "c841edbb",
   "metadata": {},
   "source": [
    "> 변수를 지을 때의 규칙\n",
    "> - 영문 문자와 숫자를 사용할 수 있습니다.\n",
    "> - 대소문자를 구분합니다.\n",
    "> - 문자부터 시작해야 하며 숫자부터 시작하면 안 됩니다.\n",
    "> - _(밑줄 문자)로 시작할 수 있습니다.\n",
    "> - 특수 문자(+, -, *, /, $, @, &, % 등)는 사용할 수 없습니다.\n",
    "> - 파이썬의 키워드(if, for, while, and, or 등)는 사용할 수 없습니다."
   ]
  },
  {
   "cell_type": "markdown",
   "id": "ec65a883",
   "metadata": {},
   "source": [
    "#### 3번문제"
   ]
  },
  {
   "cell_type": "code",
   "execution_count": 190,
   "id": "c7bd76cb",
   "metadata": {},
   "outputs": [
    {
     "name": "stdout",
     "output_type": "stream",
     "text": [
      "-20\n"
     ]
    }
   ],
   "source": [
    "a=20\n",
    "b=30\n",
    "c=-a\n",
    "print(c)"
   ]
  },
  {
   "cell_type": "code",
   "execution_count": 191,
   "id": "d6281149",
   "metadata": {},
   "outputs": [],
   "source": [
    "del a,b,c"
   ]
  },
  {
   "cell_type": "code",
   "execution_count": 215,
   "id": "a6fb9895",
   "metadata": {},
   "outputs": [
    {
     "ename": "SyntaxError",
     "evalue": "invalid syntax (2166200384.py, line 3)",
     "output_type": "error",
     "traceback": [
      "\u001b[0;36m  File \u001b[0;32m\"/tmp/ipykernel_174/2166200384.py\"\u001b[0;36m, line \u001b[0;32m3\u001b[0m\n\u001b[0;31m    b+ =a\u001b[0m\n\u001b[0m       ^\u001b[0m\n\u001b[0;31mSyntaxError\u001b[0m\u001b[0;31m:\u001b[0m invalid syntax\n"
     ]
    }
   ],
   "source": [
    "a=20\n",
    "b=30\n",
    "b+ =a\n",
    "print(b)"
   ]
  },
  {
   "cell_type": "code",
   "execution_count": 196,
   "id": "1cb43892",
   "metadata": {},
   "outputs": [],
   "source": [
    "del a,b"
   ]
  },
  {
   "cell_type": "code",
   "execution_count": 210,
   "id": "bf857175",
   "metadata": {},
   "outputs": [
    {
     "name": "stdout",
     "output_type": "stream",
     "text": [
      "0\n"
     ]
    }
   ],
   "source": [
    "a=20\n",
    "b=30\n",
    "c=a//b\n",
    "print(c)"
   ]
  },
  {
   "cell_type": "code",
   "execution_count": 211,
   "id": "3d530268",
   "metadata": {},
   "outputs": [],
   "source": [
    "del a,b,c"
   ]
  },
  {
   "cell_type": "code",
   "execution_count": 212,
   "id": "ff9f8e95",
   "metadata": {},
   "outputs": [
    {
     "ename": "NameError",
     "evalue": "name 'c' is not defined",
     "output_type": "error",
     "traceback": [
      "\u001b[0;31m---------------------------------------------------------------------------\u001b[0m",
      "\u001b[0;31mNameError\u001b[0m                                 Traceback (most recent call last)",
      "\u001b[0;32m/tmp/ipykernel_174/3615335262.py\u001b[0m in \u001b[0;36m<module>\u001b[0;34m\u001b[0m\n\u001b[1;32m      1\u001b[0m \u001b[0ma\u001b[0m\u001b[0;34m=\u001b[0m\u001b[0;36m20\u001b[0m\u001b[0;34m\u001b[0m\u001b[0;34m\u001b[0m\u001b[0m\n\u001b[1;32m      2\u001b[0m \u001b[0mb\u001b[0m\u001b[0;34m=\u001b[0m\u001b[0;36m30\u001b[0m\u001b[0;34m\u001b[0m\u001b[0;34m\u001b[0m\u001b[0m\n\u001b[0;32m----> 3\u001b[0;31m \u001b[0mc\u001b[0m\u001b[0;34m-=\u001b[0m\u001b[0mb\u001b[0m\u001b[0;34m\u001b[0m\u001b[0;34m\u001b[0m\u001b[0m\n\u001b[0m\u001b[1;32m      4\u001b[0m \u001b[0mprint\u001b[0m\u001b[0;34m(\u001b[0m\u001b[0mc\u001b[0m\u001b[0;34m)\u001b[0m\u001b[0;34m\u001b[0m\u001b[0;34m\u001b[0m\u001b[0m\n",
      "\u001b[0;31mNameError\u001b[0m: name 'c' is not defined"
     ]
    }
   ],
   "source": [
    "a=20\n",
    "b=30\n",
    "c-=b\n",
    "print(c)"
   ]
  },
  {
   "cell_type": "code",
   "execution_count": 213,
   "id": "4625e662",
   "metadata": {},
   "outputs": [],
   "source": [
    "del a,b"
   ]
  },
  {
   "cell_type": "code",
   "execution_count": 214,
   "id": "f0f800af",
   "metadata": {},
   "outputs": [
    {
     "name": "stdout",
     "output_type": "stream",
     "text": [
      "30\n"
     ]
    }
   ],
   "source": [
    "a=20\n",
    "b=30\n",
    "c=a+10\n",
    "print(c)"
   ]
  },
  {
   "cell_type": "markdown",
   "id": "9d46bbf6",
   "metadata": {},
   "source": [
    "## 6.6. 연습문제 : 정수 세 개를 입력받고 합계 출력하기"
   ]
  },
  {
   "cell_type": "markdown",
   "id": "045c4a9e",
   "metadata": {},
   "source": [
    "## 6.7. 심사문제 : 변수 만들기"
   ]
  },
  {
   "cell_type": "code",
   "execution_count": 216,
   "id": "fb64bd20",
   "metadata": {},
   "outputs": [
    {
     "name": "stdout",
     "output_type": "stream",
     "text": [
      "50\n",
      "100\n",
      "None\n"
     ]
    }
   ],
   "source": [
    "a=50\n",
    "b=100\n",
    "c=None\n",
    "print(a)\n",
    "print(b)\n",
    "print(c)"
   ]
  },
  {
   "cell_type": "markdown",
   "id": "498c1dcf",
   "metadata": {},
   "source": [
    "6.8. 심사문제 : 평균 점수 구하기"
   ]
  },
  {
   "cell_type": "code",
   "execution_count": 225,
   "id": "af6f8006",
   "metadata": {},
   "outputs": [
    {
     "name": "stdout",
     "output_type": "stream",
     "text": [
      "10 20 30 40\n",
      "25\n"
     ]
    }
   ],
   "source": [
    "a,b,c,d=map(int,input().split())\n",
    "average=int((a+b+c+d)/4)\n",
    "print(average)"
   ]
  },
  {
   "cell_type": "markdown",
   "id": "3a4607b6",
   "metadata": {},
   "source": [
    "## 6.9*. 스스로 만든 문제"
   ]
  },
  {
   "cell_type": "markdown",
   "id": "980da532",
   "metadata": {},
   "source": [
    "리스트 L은 다음과 같이 정의되어 있다."
   ]
  },
  {
   "cell_type": "code",
   "execution_count": 158,
   "id": "1298acd0",
   "metadata": {},
   "outputs": [],
   "source": [
    "L=[5, 5.3, '5']"
   ]
  },
  {
   "cell_type": "markdown",
   "id": "ad6933fc",
   "metadata": {},
   "source": [
    "이때, L의 세 원소(?) 5, 5.3, '5'의 데이터타입을 출력하는 코드를 만들어라. (함수 map, type을 사용하여라.)"
   ]
  },
  {
   "cell_type": "code",
   "execution_count": null,
   "id": "ab5c0674",
   "metadata": {},
   "outputs": [],
   "source": [
    "[int, float, str]"
   ]
  },
  {
   "cell_type": "code",
   "execution_count": 266,
   "id": "a8de8ad4",
   "metadata": {},
   "outputs": [
    {
     "data": {
      "text/plain": [
       "int"
      ]
     },
     "execution_count": 266,
     "metadata": {},
     "output_type": "execute_result"
    }
   ],
   "source": [
    "type(5)"
   ]
  },
  {
   "cell_type": "code",
   "execution_count": 268,
   "id": "91c1691f",
   "metadata": {},
   "outputs": [
    {
     "name": "stdout",
     "output_type": "stream",
     "text": [
      "<class 'int'>\n",
      "<class 'float'>\n",
      "<class 'str'>\n"
     ]
    }
   ],
   "source": [
    "a,b,c=map(type,L)\n",
    "print(a)\n",
    "print(b)\n",
    "print(c)"
   ]
  }
 ],
 "metadata": {
  "kernelspec": {
   "display_name": "Python 3 (ipykernel)",
   "language": "python",
   "name": "python3"
  },
  "language_info": {
   "codemirror_mode": {
    "name": "ipython",
    "version": 3
   },
   "file_extension": ".py",
   "mimetype": "text/x-python",
   "name": "python",
   "nbconvert_exporter": "python",
   "pygments_lexer": "ipython3",
   "version": "3.9.7"
  }
 },
 "nbformat": 4,
 "nbformat_minor": 5
}
