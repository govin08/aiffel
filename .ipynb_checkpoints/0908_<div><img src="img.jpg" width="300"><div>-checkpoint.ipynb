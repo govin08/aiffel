{
 "cells": [
  {
   "attachments": {},
   "cell_type": "markdown",
   "id": "df613a84",
   "metadata": {},
   "source": [
    "https://stackoverflow.com/questions/41598916/resize-the-image-in-jupyter-notebook-using-markdown"
   ]
  }
 ],
 "metadata": {
  "kernelspec": {
   "display_name": "Python 3 (ipykernel)",
   "language": "python",
   "name": "python3"
  },
  "language_info": {
   "codemirror_mode": {
    "name": "ipython",
    "version": 3
   },
   "file_extension": ".py",
   "mimetype": "text/x-python",
   "name": "python",
   "nbconvert_exporter": "python",
   "pygments_lexer": "ipython3",
   "version": "3.9.7"
  }
 },
 "nbformat": 4,
 "nbformat_minor": 5
}
