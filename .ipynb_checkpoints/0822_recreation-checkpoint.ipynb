{
 "cells": [
  {
   "cell_type": "markdown",
   "id": "ba2b0623",
   "metadata": {},
   "source": [
    "# 아이펠 1주차 월요일\n",
    "- 오리엔테이션, 출결, 수료, 졸업 등 설명\n",
    "- 개더 타운 (gather town)\n",
    "- 노션\n",
    "- 아지트\n",
    "- LMS (Learning Management System) 설명\n",
    "- LMS 실습\n",
    "- 점심시간\n",
    "- 숙지사항 (dos and donts)\n",
    "- 퍼실리테이팅(Facilitating)과 패들릿(Padlet) - 강노원님\n",
    "- (아지트, 노션)에의 초대 - 김경민님"
   ]
  }
 ],
 "metadata": {
  "kernelspec": {
   "display_name": "Python 3 (ipykernel)",
   "language": "python",
   "name": "python3"
  },
  "language_info": {
   "codemirror_mode": {
    "name": "ipython",
    "version": 3
   },
   "file_extension": ".py",
   "mimetype": "text/x-python",
   "name": "python",
   "nbconvert_exporter": "python",
   "pygments_lexer": "ipython3",
   "version": "3.9.7"
  }
 },
 "nbformat": 4,
 "nbformat_minor": 5
}
