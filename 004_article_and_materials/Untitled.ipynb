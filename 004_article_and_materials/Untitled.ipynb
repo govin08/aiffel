{
 "cells": [
  {
   "cell_type": "code",
   "execution_count": 1,
   "id": "ad7a80e4",
   "metadata": {},
   "outputs": [
    {
     "data": {
      "text/html": [
       "<style>.container { width:100% !important; }</style>"
      ],
      "text/plain": [
       "<IPython.core.display.HTML object>"
      ]
     },
     "metadata": {},
     "output_type": "display_data"
    }
   ],
   "source": [
    "#optional installations: \n",
    "#!pip install yfinance --upgrade --no-cache-dir\n",
    "#!pip3 install pandas_datareader\n",
    "\n",
    "\n",
    "from IPython.core.display import display, HTML\n",
    "display(HTML(\"<style>.container { width:100% !important; }</style>\"))\n",
    "\n",
    "# ___library_import_statements___\n",
    "import pandas as pd\n",
    "\n",
    "# for pandas_datareader, otherwise it might have issues, sometimes there is some version mismatch\n",
    "pd.core.common.is_list_like = pd.api.types.is_list_like\n",
    "\n",
    "# make pandas to print dataframes nicely\n",
    "pd.set_option('expand_frame_repr', False)  \n",
    "\n",
    "import pandas_datareader.data as web\n",
    "import numpy as np\n",
    "import matplotlib.pyplot as plt\n",
    "import datetime\n",
    "import time\n",
    "\n",
    "#newest yahoo API \n",
    "import yfinance as yahoo_finance\n",
    "\n",
    "#optional \n",
    "#yahoo_finance.pdr_override()\n",
    "\n",
    "%matplotlib inline\n"
   ]
  },
  {
   "cell_type": "code",
   "execution_count": 2,
   "id": "92f3e02e",
   "metadata": {},
   "outputs": [],
   "source": [
    "# ___variables___\n",
    "#ticker = 'AAPL'\n",
    "#ticker = 'TSLA'\n",
    "#ticker = 'GOOGL'\n",
    "#ticker = 'NFLX'\n",
    "#ticker = 'GOOG'\n",
    "ticker = 'BIDU'\n",
    "\n",
    "start_time = datetime.datetime(2017, 1, 1)\n",
    "#end_time = datetime.datetime(2019, 1, 20)\n",
    "end_time = datetime.datetime.now().date().isoformat()         # today\n"
   ]
  },
  {
   "cell_type": "code",
   "execution_count": 3,
   "id": "994e7b0f",
   "metadata": {},
   "outputs": [
    {
     "name": "stdout",
     "output_type": "stream",
     "text": [
      "connected to yahoo\n",
      "        Date        High         Low        Open       Close   Volume   Adj Close\n",
      "0 2017-01-03  169.660004  165.820007  166.300003  168.300003  2314700  168.300003\n",
      "1 2017-01-04  173.259995  168.300003  169.740005  171.960007  2033200  171.960007\n",
      "2 2017-01-05  177.839996  172.500000  172.649994  177.470001  2733000  177.470001\n",
      "3 2017-01-06  177.279999  173.250000  176.279999  176.380005  2254700  176.380005\n",
      "4 2017-01-09  179.720001  176.820007  178.000000  177.160004  1760400  177.160004\n"
     ]
    }
   ],
   "source": [
    "# yahoo gives only daily historical data\n",
    "connected = False\n",
    "while not connected:\n",
    "    try:\n",
    "        df = web.get_data_yahoo(ticker, start=start_time, end=end_time)\n",
    "        connected = True\n",
    "        print('connected to yahoo')\n",
    "    except Exception as e:\n",
    "        print(\"type error: \" + str(e))\n",
    "        time.sleep( 5 )\n",
    "        pass   \n",
    "\n",
    "# use numerical integer index instead of date    \n",
    "df = df.reset_index()\n",
    "print(df.head(5))\n"
   ]
  },
  {
   "cell_type": "code",
   "execution_count": 4,
   "id": "6f7d28b1",
   "metadata": {},
   "outputs": [],
   "source": [
    "def bollinger_bands(df, n, m):\n",
    "    # takes dataframe on input\n",
    "    # n = smoothing length\n",
    "    # m = number of standard deviations away from MA\n",
    "    \n",
    "    #typical price\n",
    "    TP = (df['High'] + df['Low'] + df['Close']) / 3\n",
    "    # but we will use Adj close instead for now, depends\n",
    "    \n",
    "    data = TP\n",
    "    #data = df['Adj Close']\n",
    "    \n",
    "    # takes one column from dataframe\n",
    "    B_MA = pd.Series((data.rolling(n, min_periods=n).mean()), name='B_MA')\n",
    "    sigma = data.rolling(n, min_periods=n).std() \n",
    "    \n",
    "    BU = pd.Series((B_MA + m * sigma), name='BU')\n",
    "    BL = pd.Series((B_MA - m * sigma), name='BL')\n",
    "    \n",
    "    df = df.join(B_MA)\n",
    "    df = df.join(BU)\n",
    "    df = df.join(BL)\n",
    "    \n",
    "    return df\n"
   ]
  },
  {
   "cell_type": "code",
   "execution_count": 5,
   "id": "c10d2f53",
   "metadata": {},
   "outputs": [],
   "source": [
    "n = 20   # datapoint rolling window\n",
    "m = 2    # sigma width\n",
    "df = bollinger_bands(df, 20, 2)\n"
   ]
  },
  {
   "cell_type": "code",
   "execution_count": 6,
   "id": "2c6f3a31",
   "metadata": {},
   "outputs": [
    {
     "name": "stdout",
     "output_type": "stream",
     "text": [
      "        Date        High         Low        Open       Close   Volume   Adj Close  B_MA  BU  BL\n",
      "0 2017-01-03  169.660004  165.820007  166.300003  168.300003  2314700  168.300003   NaN NaN NaN\n",
      "1 2017-01-04  173.259995  168.300003  169.740005  171.960007  2033200  171.960007   NaN NaN NaN\n",
      "2 2017-01-05  177.839996  172.500000  172.649994  177.470001  2733000  177.470001   NaN NaN NaN\n",
      "3 2017-01-06  177.279999  173.250000  176.279999  176.380005  2254700  176.380005   NaN NaN NaN\n",
      "4 2017-01-09  179.720001  176.820007  178.000000  177.160004  1760400  177.160004   NaN NaN NaN\n",
      "           Date        High         Low        Open       Close   Volume   Adj Close        B_MA          BU          BL\n",
      "1422 2022-08-26  155.479996  147.470001  154.270004  147.710007  3317600  147.710007  136.723334  147.450815  125.995853\n",
      "1423 2022-08-29  151.669998  147.179993  148.300003  147.320007  2335800  147.320007  137.475501  149.352480  125.598522\n",
      "1424 2022-08-30  148.990005  134.710007  147.949997  137.690002  9243800  137.690002  137.851001  149.600175  126.101827\n",
      "1425 2022-08-31  148.570007  141.639999  143.000000  143.970001  5447900  143.970001  138.359835  150.385287  126.334382\n",
      "1426 2022-09-01  145.910004  141.580002  144.149994  144.479996  2426100  144.479996  138.547001  150.810277  126.283725\n"
     ]
    }
   ],
   "source": [
    "print(df.head())\n",
    "print(df.tail())\n"
   ]
  },
  {
   "cell_type": "code",
   "execution_count": null,
   "id": "49941f4a",
   "metadata": {},
   "outputs": [],
   "source": [
    "# plot price\n",
    "plt.figure(figsize=(15,5))\n",
    "plt.plot(df['Date'], df['Adj Close'])\n",
    "plt.title('Price chart (Adj Close) ' + str(ticker))\n",
    "plt.show()\n",
    "\n",
    "# plot correspondingRSI values and significant levels\n",
    "plt.figure(figsize=(15,5))\n",
    "plt.title('Bollinger Bands chart ' + str(ticker))\n",
    "plt.plot(df['Date'], df['Adj Close'])\n",
    "plt.plot(df['Date'], df['BU'], alpha=0.3)\n",
    "plt.plot(df['Date'], df['BL'], alpha=0.3)\n",
    "plt.plot(df['Date'], df['B_MA'], alpha=0.3)\n",
    "plt.fill_between(df['Date'], df['BU'], df['BL'], color='grey', alpha=0.1)\n",
    "\n",
    "plt.show()\n"
   ]
  }
 ],
 "metadata": {
  "kernelspec": {
   "display_name": "Python 3 (ipykernel)",
   "language": "python",
   "name": "python3"
  },
  "language_info": {
   "codemirror_mode": {
    "name": "ipython",
    "version": 3
   },
   "file_extension": ".py",
   "mimetype": "text/x-python",
   "name": "python",
   "nbconvert_exporter": "python",
   "pygments_lexer": "ipython3",
   "version": "3.9.7"
  }
 },
 "nbformat": 4,
 "nbformat_minor": 5
}
