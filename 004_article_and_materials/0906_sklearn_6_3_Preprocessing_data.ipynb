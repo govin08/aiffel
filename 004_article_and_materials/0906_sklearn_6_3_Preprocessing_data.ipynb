{
 "cells": [
  {
   "cell_type": "markdown",
   "id": "0f52cb94",
   "metadata": {},
   "source": [
    "# 1. standardization (z-score)"
   ]
  },
  {
   "cell_type": "code",
   "execution_count": 1,
   "id": "bbc05eb9",
   "metadata": {},
   "outputs": [],
   "source": [
    "from sklearn import preprocessing\n",
    "import numpy as np"
   ]
  },
  {
   "cell_type": "code",
   "execution_count": 2,
   "id": "fff45eff",
   "metadata": {},
   "outputs": [
    {
     "data": {
      "text/plain": [
       "StandardScaler()"
      ]
     },
     "execution_count": 2,
     "metadata": {},
     "output_type": "execute_result"
    }
   ],
   "source": [
    "X_train = np.array([[ 1., -1.,  2.],\n",
    "                    [ 2.,  0.,  0.],\n",
    "                    [ 0.,  1., -1.]])\n",
    "scaler = preprocessing.StandardScaler().fit(X_train)\n",
    "scaler"
   ]
  },
  {
   "cell_type": "code",
   "execution_count": 3,
   "id": "7032a38d",
   "metadata": {},
   "outputs": [
    {
     "data": {
      "text/plain": [
       "array([1.        , 0.        , 0.33333333])"
      ]
     },
     "execution_count": 3,
     "metadata": {},
     "output_type": "execute_result"
    }
   ],
   "source": [
    "scaler.mean_"
   ]
  },
  {
   "cell_type": "code",
   "execution_count": 4,
   "id": "5f0e3b40",
   "metadata": {},
   "outputs": [
    {
     "data": {
      "text/plain": [
       "array([0.81649658, 0.81649658, 1.24721913])"
      ]
     },
     "execution_count": 4,
     "metadata": {},
     "output_type": "execute_result"
    }
   ],
   "source": [
    "scaler.scale_"
   ]
  },
  {
   "cell_type": "markdown",
   "id": "1ef344f0",
   "metadata": {},
   "source": [
    "1, 2, 0의 분산은 $\\frac23$이다. 표준편차는 0.8164이다."
   ]
  },
  {
   "cell_type": "code",
   "execution_count": 5,
   "id": "142e73d5",
   "metadata": {},
   "outputs": [
    {
     "data": {
      "text/plain": [
       "array([[ 0.        , -1.22474487,  1.33630621],\n",
       "       [ 1.22474487,  0.        , -0.26726124],\n",
       "       [-1.22474487,  1.22474487, -1.06904497]])"
      ]
     },
     "execution_count": 5,
     "metadata": {},
     "output_type": "execute_result"
    }
   ],
   "source": [
    "X_scaled = scaler.transform(X_train)\n",
    "X_scaled"
   ]
  },
  {
   "cell_type": "markdown",
   "id": "e4c761b4",
   "metadata": {},
   "source": [
    "# 2. normalization (minmax)"
   ]
  },
  {
   "cell_type": "code",
   "execution_count": 6,
   "id": "da229965",
   "metadata": {},
   "outputs": [
    {
     "data": {
      "text/plain": [
       "array([[0.5       , 0.        , 1.        ],\n",
       "       [1.        , 0.5       , 0.33333333],\n",
       "       [0.        , 1.        , 0.        ]])"
      ]
     },
     "execution_count": 6,
     "metadata": {},
     "output_type": "execute_result"
    }
   ],
   "source": [
    "X_train = np.array([[ 1., -1.,  2.],\n",
    "                    [ 2.,  0.,  0.],\n",
    "                    [ 0.,  1., -1.]])\n",
    "min_max_scaler = preprocessing.MinMaxScaler()\n",
    "X_train_minmax = min_max_scaler.fit_transform(X_train)\n",
    "X_train_minmax"
   ]
  },
  {
   "cell_type": "markdown",
   "id": "6ebf83bc",
   "metadata": {},
   "source": [
    "위의 코드에서 minmax를 열별로 수행했다.\n",
    "첫번째 열에서 1, 2, 0의 최솟값이 0이고 최댓값이 2이므로, 세 개의 값은 각각 0.5, 1, 0으로 사상된다.\n",
    "\\begin{align*}\n",
    "f_1(x)&=\\frac{x-0}{2-0}=\\frac x2\\\\\n",
    "f_1(1)&=\\frac12\\\\\n",
    "f_1(2)&=1\\\\\n",
    "f_1(0)&=0\n",
    "\\end{align*}\n",
    "두번째 열에서 -1, 0, 1의 최솟값이 -1이고 최댓값이 1이므로, 세 개의 값은 각각 0, 0.5, 1로 사상된다.\n",
    "\\begin{align*}\n",
    "f_2(x) &=\\frac{x-(-1)}{1-(-1)}=\\frac{x+1}2\\\\\n",
    "f_2(-1)&=0\\\\\n",
    "f_2(0) &=\\frac12\\\\\n",
    "f_2(1) &=1\n",
    "\\end{align*}\n"
   ]
  },
  {
   "cell_type": "code",
   "execution_count": 7,
   "id": "1d9165d2",
   "metadata": {},
   "outputs": [
    {
     "data": {
      "text/plain": [
       "array([[-1.5       ,  0.        ,  1.66666667]])"
      ]
     },
     "execution_count": 7,
     "metadata": {},
     "output_type": "execute_result"
    }
   ],
   "source": [
    "X_test = np.array([[-3., -1.,  4.]])\n",
    "X_test_minmax = min_max_scaler.transform(X_test)\n",
    "X_test_minmax"
   ]
  },
  {
   "cell_type": "markdown",
   "id": "0e0f8c0d",
   "metadata": {},
   "source": [
    "test set에 minmax를 적용시킬 때에는 이번에도 열을 기준으로 하고, trainset에서 했던 기준 그대로를 적용한다.\n",
    "따라서 첫번째 열의 -3은 -1.5로 사상되고, 두번째 열의 -1은 0으로 사상된다.\n",
    "\\begin{align*}\n",
    "f_1(-3)&=-\\frac32\\\\\n",
    "f_2(-1)&=0\n",
    "\\end{align*}"
   ]
  }
 ],
 "metadata": {
  "kernelspec": {
   "display_name": "Python 3 (ipykernel)",
   "language": "python",
   "name": "python3"
  },
  "language_info": {
   "codemirror_mode": {
    "name": "ipython",
    "version": 3
   },
   "file_extension": ".py",
   "mimetype": "text/x-python",
   "name": "python",
   "nbconvert_exporter": "python",
   "pygments_lexer": "ipython3",
   "version": "3.9.7"
  }
 },
 "nbformat": 4,
 "nbformat_minor": 5
}
