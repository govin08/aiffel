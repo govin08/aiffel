{
 "cells": [
  {
   "cell_type": "markdown",
   "id": "f9bce043",
   "metadata": {},
   "source": [
    "`XOR`이 선형함수일 수 있을까?"
   ]
  },
  {
   "cell_type": "markdown",
   "id": "e3a80458",
   "metadata": {},
   "source": [
    "`XOR`은 논리게이트, 논리연산자 등 다양한 이름으로 불리지만, 결국 함수이다.\n",
    "어떤 함수냐 하면\n",
    "\\begin{align*}\n",
    "f(T,T)&=F\\\\\n",
    "f(T,F)&=T\\\\\n",
    "f(F,T)&=T\\\\\n",
    "f(F,F)&=F\n",
    "\\end{align*}\n",
    "인 함수이다.\n",
    "$T$를 1로, $f$를 0으로 치환하면\n",
    "\\begin{align*}\n",
    "f(1,1)&=0\\\\\n",
    "f(1,0)&=1\\\\\n",
    "f(0,1)&=1\\\\\n",
    "f(0,0)&=0\\tag{1}\n",
    "\\end{align*}\n",
    "이 된다.\n",
    "함수 $f(=$XOR)의 정의역과 공역을 무엇으로 설정해야 하는지도 생각해봐야겠지만,\n",
    "아무래도 입력값으로 $(i,j)$ ($i\\in\\{0,1\\}$, $j\\in\\{0,1\\}$)가 들어가므로 정의역을\n",
    "$$\\{0,1\\}^2=\\{(i,j):i,j\\in\\{0,1\\}\\}$$\n",
    "로 두고, 공역을\n",
    "$$\\{0,1\\}$$\n",
    "로 두는 것이 맞아 보인다.\n",
    "즉 함수 $f$는 $f:\\{0,1\\}^2\\to\\{0,1\\}$인 함수이다.\n",
    "\n",
    "함수 $f$를 선형함수 $f(x)=Ax$의 형태로 표현하기 위해서 생각해보면, ($x$가 벡터이고, 열벡터(=$2\\times 1$ 행렬)의 형태라고 하면) A는 $1\\times2$ 행렬, 즉 행벡터여야 한다.\n",
    "즉\n",
    "$$f\\left(\\begin{bmatrix}x_1\\\\x_2\\end{bmatrix}\\right)=A\\begin{bmatrix}x_1\\\\x_2\\end{bmatrix}$$\n",
    "에서 $f$가 스칼라이므로\n",
    "$$f\\left(\\begin{bmatrix}x_1\\\\x_2\\end{bmatrix}\\right)=\\begin{bmatrix}a_1&a_2\\end{bmatrix}\\begin{bmatrix}x_1\\\\x_2\\end{bmatrix}$$\n",
    "의 형태여야 맞다.\n",
    "다시 말해서\n",
    "$$f(x_1,x_2)=a_1x_1+a_2x_2$$\n",
    "이다.\n",
    "(1)을 대입하면\n",
    "\n",
    "\\begin{align*}\n",
    "a_1\\times1+a_2\\times1&=0\\\\\n",
    "a_1\\times1+a_2\\times0&=1\\\\\n",
    "a_1\\times0+a_2\\times1&=1\\\\\n",
    "a_1\\times0+a_2\\times0&=0\\\\\n",
    "\\end{align*}\n",
    "\n",
    "이 된다.\n",
    "일반적인 실수의 연산을 가정한다면, 위의 네 식 중 두번째와 세번째 식에서 $a_1=1$, $a_2=1$이다.\n",
    "그런데 이것은 첫번째 식에 모순이므로 위의 네 식을 만족시키는 $a_1$, $a_2$는 존재하지 않는다.\n",
    "다시 말해, 조건을 만족시키는 선형함수는 존재하지 않고, `XOR` 함수는 선형함수로 표현될 수 없다.\n",
    "\n",
    "하지만 이건 일반적인 실수의 연산을 가정했을 경우이다.\n",
    "달리 연산을 정의하면 다른 결과가 나올 수도 있을 것 같다.\n",
    "가령 [이렇게](https://en.wikipedia.org/wiki/GF(2))\n",
    "\\begin{align*}\n",
    "0+0=0\\\\\n",
    "0+1=1\\\\\n",
    "1+0=1\\\\\n",
    "1+1=0\\\\\n",
    "0\\times0=0\\\\\n",
    "0\\times1=0\\\\\n",
    "1\\times0=0\\\\\n",
    "1\\times1=1\n",
    "\\end{align*}\n",
    "덧셈과 곱셈을 정의할 수도 있다."
   ]
  }
 ],
 "metadata": {
  "kernelspec": {
   "display_name": "Python 3 (ipykernel)",
   "language": "python",
   "name": "python3"
  },
  "language_info": {
   "codemirror_mode": {
    "name": "ipython",
    "version": 3
   },
   "file_extension": ".py",
   "mimetype": "text/x-python",
   "name": "python",
   "nbconvert_exporter": "python",
   "pygments_lexer": "ipython3",
   "version": "3.9.7"
  }
 },
 "nbformat": 4,
 "nbformat_minor": 5
}
