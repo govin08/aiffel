{
 "cells": [
  {
   "cell_type": "markdown",
   "id": "93343cbb",
   "metadata": {},
   "source": [
    "[Compute Bollinger Bands for stocks with Python and Pandas](https://tcoil.info/compute-bollinger-bands-for-stocks-with-python-and-pandas)"
   ]
  },
  {
   "cell_type": "markdown",
   "id": "e3b43507",
   "metadata": {},
   "source": [
    "`# pip install pandas_reader`\n",
    "\n",
    "`# pip install yfinance`"
   ]
  },
  {
   "cell_type": "code",
   "execution_count": 3,
   "id": "61cbbee5",
   "metadata": {},
   "outputs": [
    {
     "data": {
      "text/html": [
       "<style>.container { width:100% !important; }</style>"
      ],
      "text/plain": [
       "<IPython.core.display.HTML object>"
      ]
     },
     "metadata": {},
     "output_type": "display_data"
    }
   ],
   "source": [
    "#optional installations: \n",
    "#!pip install yfinance --upgrade --no-cache-dir\n",
    "#!pip3 install pandas_datareader\n",
    "\n",
    "\n",
    "from IPython.core.display import display, HTML\n",
    "display(HTML(\"<style>.container { width:100% !important; }</style>\"))\n",
    "\n",
    "# ___library_import_statements___\n",
    "import pandas as pd\n",
    "\n",
    "# for pandas_datareader, otherwise it might have issues, sometimes there is some version mismatch\n",
    "pd.core.common.is_list_like = pd.api.types.is_list_like\n",
    "\n",
    "# make pandas to print dataframes nicely\n",
    "pd.set_option('expand_frame_repr', False)  \n",
    "\n",
    "import pandas_datareader.data as web\n",
    "import numpy as np\n",
    "import matplotlib.pyplot as plt\n",
    "import datetime\n",
    "import time\n",
    "\n",
    "#newest yahoo API \n",
    "import yfinance as yahoo_finance\n",
    "\n",
    "#optional \n",
    "#yahoo_finance.pdr_override()\n",
    "\n",
    "%matplotlib inline"
   ]
  }
 ],
 "metadata": {
  "kernelspec": {
   "display_name": "Python 3 (ipykernel)",
   "language": "python",
   "name": "python3"
  },
  "language_info": {
   "codemirror_mode": {
    "name": "ipython",
    "version": 3
   },
   "file_extension": ".py",
   "mimetype": "text/x-python",
   "name": "python",
   "nbconvert_exporter": "python",
   "pygments_lexer": "ipython3",
   "version": "3.9.7"
  }
 },
 "nbformat": 4,
 "nbformat_minor": 5
}
