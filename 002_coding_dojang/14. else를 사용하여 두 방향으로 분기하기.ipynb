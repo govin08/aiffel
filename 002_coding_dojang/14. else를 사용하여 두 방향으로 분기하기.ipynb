{
 "cells": [
  {
   "cell_type": "markdown",
   "id": "cb1303a8",
   "metadata": {},
   "source": [
    "# 14. else를 사용하여 두 방향으로 분기하기"
   ]
  },
  {
   "cell_type": "markdown",
   "id": "e099c288",
   "metadata": {},
   "source": [
    "분기 = branch\n",
    "\n",
    "'둘 이상으로 갈라지다.'"
   ]
  },
  {
   "cell_type": "markdown",
   "id": "01ddc10e",
   "metadata": {},
   "source": [
    "## 14.1. else 사용하기"
   ]
  },
  {
   "cell_type": "code",
   "execution_count": 27,
   "id": "a684345b",
   "metadata": {},
   "outputs": [
    {
     "name": "stdout",
     "output_type": "stream",
     "text": [
      "10이 아닙니다.\n"
     ]
    }
   ],
   "source": [
    "x=5\n",
    "if x==10:\n",
    "    print('10입니다.')\n",
    "else:\n",
    "    print('10이 아닙니다.')"
   ]
  },
  {
   "cell_type": "markdown",
   "id": "f60c3f55",
   "metadata": {},
   "source": [
    "### 14.1.1. if와 else의 기본 형태와 실행 흐름 알아보기"
   ]
  },
  {
   "cell_type": "markdown",
   "id": "c0e97d08",
   "metadata": {},
   "source": [
    "## 14.2. else와 들여쓰기"
   ]
  },
  {
   "cell_type": "code",
   "execution_count": 38,
   "id": "ef76ec25",
   "metadata": {},
   "outputs": [
    {
     "name": "stdout",
     "output_type": "stream",
     "text": [
      "1\n",
      "x에 들어있는 숫자는\n",
      "10이 아닙니다.\n"
     ]
    }
   ],
   "source": [
    "x=int(input())\n",
    "if x == 10:\n",
    "    print('10입니다.') \n",
    "else:\n",
    "    print('x에 들어있는 숫자는')\n",
    "    print('10이 아닙니다.') "
   ]
  },
  {
   "cell_type": "markdown",
   "id": "de6cc848",
   "metadata": {},
   "source": [
    "## 14.3. if 조건문의 동작 방식 알아보기"
   ]
  },
  {
   "cell_type": "code",
   "execution_count": 40,
   "id": "b52b66b8",
   "metadata": {
    "scrolled": true
   },
   "outputs": [
    {
     "name": "stdout",
     "output_type": "stream",
     "text": [
      "참\n",
      "거짓\n",
      "거짓\n"
     ]
    }
   ],
   "source": [
    "if True:\n",
    "    print('참')\n",
    "else:\n",
    "    print('거짓')\n",
    "if False:\n",
    "    print('참')\n",
    "else:\n",
    "    print('거짓')\n",
    "if None:\n",
    "    print('참')\n",
    "else:\n",
    "    print('거짓')"
   ]
  },
  {
   "cell_type": "markdown",
   "id": "94e6a1c9",
   "metadata": {},
   "source": [
    "- `if True`라는 if 조건식은, 뒤따라오는 if 본문을 그대로 출력하겠다는 의미이다.\n",
    "- `if True'라고 말하나 'if 2==2'라고 말하나 같은 의미일 것이다."
   ]
  },
  {
   "cell_type": "markdown",
   "id": "e75f745a",
   "metadata": {},
   "source": [
    "### 14.3.1. if 조건문에 숫자 지정하기"
   ]
  },
  {
   "cell_type": "code",
   "execution_count": 41,
   "id": "a9d90814",
   "metadata": {},
   "outputs": [
    {
     "name": "stdout",
     "output_type": "stream",
     "text": [
      "거짓\n",
      "참\n",
      "참\n",
      "참\n",
      "참\n"
     ]
    }
   ],
   "source": [
    "if 0:\n",
    "    print('참')\n",
    "else:\n",
    "    print('거짓')    # 0은 거짓\n",
    " \n",
    "if 1:\n",
    "    print('참')    # 1은 참\n",
    "else:\n",
    "    print('거짓')\n",
    " \n",
    "if 0x1F:    # 16진수\n",
    "    print('참')    # 0x1F는 참\n",
    "else:\n",
    "    print('거짓')\n",
    " \n",
    "if 0b1000:    # 2진수\n",
    "    print('참')    # 0b1000은 참\n",
    "else:\n",
    "    print('거짓')\n",
    " \n",
    "if 13.5:    # 실수\n",
    "    print('참')    # 13.5는 참\n",
    "else:\n",
    "    print('거짓')"
   ]
  },
  {
   "cell_type": "markdown",
   "id": "ca0e1458",
   "metadata": {},
   "source": [
    "### 14.3.2. if 조건문에 문자열 지정하기"
   ]
  },
  {
   "cell_type": "code",
   "execution_count": 42,
   "id": "d5b26dfe",
   "metadata": {},
   "outputs": [
    {
     "name": "stdout",
     "output_type": "stream",
     "text": [
      "참\n",
      "거짓\n"
     ]
    }
   ],
   "source": [
    "if 'Hello':    # 문자열\n",
    "    print('참')    # 문자열은 참\n",
    "else:\n",
    "    print('거짓')\n",
    " \n",
    "if '':    # 빈 문자열\n",
    "    print('참')\n",
    "else:\n",
    "    print('거짓')    # 빈 문자열은 거짓"
   ]
  },
  {
   "cell_type": "markdown",
   "id": "b069966f",
   "metadata": {},
   "source": [
    "False로 취급하는 것들\n",
    " - `None`\n",
    " - `False`\n",
    " - `0`\n",
    " - `0.0`\n",
    " - `0.00`\n",
    " - `0j`\n",
    " - `\"\"`\n",
    " - `''`\n",
    " - `[]`\n",
    " - `()`\n",
    " - `{}`"
   ]
  },
  {
   "cell_type": "markdown",
   "id": "3fb31809",
   "metadata": {},
   "source": [
    "## 14.4. 조건식을 여러 개 지정하기"
   ]
  },
  {
   "cell_type": "code",
   "execution_count": 47,
   "id": "02548a5a",
   "metadata": {},
   "outputs": [
    {
     "name": "stdout",
     "output_type": "stream",
     "text": [
      "참\n"
     ]
    }
   ],
   "source": [
    "x=0\n",
    "y=0\n",
    "\n",
    "if x==0 and y==0:\n",
    "    print('참')\n",
    "else:\n",
    "    print('거짓')"
   ]
  },
  {
   "cell_type": "markdown",
   "id": "f5cfaf25",
   "metadata": {},
   "source": [
    "### 14.4.1. 중첩 if 조건문과 논리 연산자"
   ]
  },
  {
   "cell_type": "code",
   "execution_count": 52,
   "id": "4dd751c9",
   "metadata": {},
   "outputs": [
    {
     "name": "stdout",
     "output_type": "stream",
     "text": [
      "19\n",
      "20보다 작은 양수입니다.\n"
     ]
    }
   ],
   "source": [
    "x=int(input())\n",
    "if x>0:\n",
    "    if x<20:\n",
    "        print('20보다 작은 양수입니다.')"
   ]
  },
  {
   "cell_type": "code",
   "execution_count": 53,
   "id": "b72e8bca",
   "metadata": {},
   "outputs": [
    {
     "name": "stdout",
     "output_type": "stream",
     "text": [
      "19\n",
      "20보다 작은 양수입니다.\n"
     ]
    }
   ],
   "source": [
    "x=int(input())\n",
    "if x > 0 and x < 20:\n",
    "    print('20보다 작은 양수입니다.')"
   ]
  },
  {
   "cell_type": "code",
   "execution_count": 55,
   "id": "737ddadf",
   "metadata": {},
   "outputs": [
    {
     "name": "stdout",
     "output_type": "stream",
     "text": [
      "19\n",
      "20보다 작은 양수입니다.\n"
     ]
    }
   ],
   "source": [
    "x=int(input())\n",
    "if 0<x<20:\n",
    "    print('20보다 작은 양수입니다.')"
   ]
  },
  {
   "cell_type": "markdown",
   "id": "50189fe3",
   "metadata": {},
   "source": [
    "## 14.5. 퀴즈"
   ]
  },
  {
   "cell_type": "markdown",
   "id": "fa9baf2e",
   "metadata": {},
   "source": [
    "잘 이해가 안된다. 4번"
   ]
  },
  {
   "cell_type": "code",
   "execution_count": 67,
   "id": "57138eeb",
   "metadata": {},
   "outputs": [],
   "source": [
    "a=[True,False]"
   ]
  },
  {
   "cell_type": "code",
   "execution_count": 73,
   "id": "6d97eaea",
   "metadata": {},
   "outputs": [
    {
     "name": "stdout",
     "output_type": "stream",
     "text": [
      "False\n",
      "False\n",
      "True\n",
      "True\n"
     ]
    }
   ],
   "source": [
    "print(a[0] and a[1])\n",
    "print(a[0] & a[1])\n",
    "print(a[0] or a[1])\n",
    "print(a[0] | a[1])"
   ]
  },
  {
   "cell_type": "code",
   "execution_count": 80,
   "id": "5530d788",
   "metadata": {},
   "outputs": [
    {
     "name": "stdout",
     "output_type": "stream",
     "text": [
      "참\n",
      "거짓\n",
      "거짓\n",
      "거짓\n",
      "참\n",
      "거짓\n",
      "거짓\n",
      "거짓\n",
      "참\n",
      "참\n",
      "참\n",
      "거짓\n",
      "참\n",
      "참\n",
      "참\n",
      "거짓\n"
     ]
    }
   ],
   "source": [
    "# and\n",
    "if True and True:\n",
    "    print('참')\n",
    "else:\n",
    "    print('거짓')\n",
    "if True and False:\n",
    "    print('참')\n",
    "else:\n",
    "    print('거짓')\n",
    "if False and True:\n",
    "    print('참')\n",
    "else:\n",
    "    print('거짓')\n",
    "if False and False:\n",
    "    print('참')\n",
    "else:\n",
    "    print('거짓')\n",
    "    \n",
    "# & (ampersand)\n",
    "if True & True:\n",
    "    print('참')\n",
    "else:\n",
    "    print('거짓')\n",
    "if True & False:\n",
    "    print('참')\n",
    "else:\n",
    "    print('거짓')\n",
    "if False & True:\n",
    "    print('참')\n",
    "else:\n",
    "    print('거짓')\n",
    "if False & False:\n",
    "    print('참')\n",
    "else:\n",
    "    print('거짓')\n",
    "# or\n",
    "if True or True:\n",
    "    print('참')\n",
    "else:\n",
    "    print('거짓')\n",
    "if True or False:\n",
    "    print('참')\n",
    "else:\n",
    "    print('거짓')\n",
    "if False or True:\n",
    "    print('참')\n",
    "else:\n",
    "    print('거짓')\n",
    "if False or False:\n",
    "    print('참')\n",
    "else:\n",
    "    print('거짓')\n",
    "# & (ampersand)\n",
    "if True | True:\n",
    "    print('참')\n",
    "else:\n",
    "    print('거짓')\n",
    "if True | False:\n",
    "    print('참')\n",
    "else:\n",
    "    print('거짓')\n",
    "if False | True:\n",
    "    print('참')\n",
    "else:\n",
    "    print('거짓')\n",
    "if False | False:\n",
    "    print('참')\n",
    "else:\n",
    "    print('거짓')"
   ]
  },
  {
   "cell_type": "code",
   "execution_count": 81,
   "id": "fc330036",
   "metadata": {},
   "outputs": [
    {
     "name": "stdout",
     "output_type": "stream",
     "text": [
      "거짓\n"
     ]
    }
   ],
   "source": [
    "if 3==3 | 3==2:\n",
    "    print('참')\n",
    "else:\n",
    "    print('거짓')"
   ]
  },
  {
   "cell_type": "code",
   "execution_count": 85,
   "id": "7101a4df",
   "metadata": {},
   "outputs": [
    {
     "data": {
      "text/plain": [
       "True"
      ]
     },
     "execution_count": 85,
     "metadata": {},
     "output_type": "execute_result"
    }
   ],
   "source": [
    "(3==3)is(True)"
   ]
  },
  {
   "cell_type": "code",
   "execution_count": 87,
   "id": "5534ccf4",
   "metadata": {},
   "outputs": [
    {
     "name": "stdout",
     "output_type": "stream",
     "text": [
      "10\n",
      "20\n",
      "다시 하세요.\n"
     ]
    }
   ],
   "source": [
    "x = int(input())\n",
    "y = int(input())\n",
    "# if x == 10 and y == 20:\n",
    "# if x == 10 or y == 20:\n",
    "# if x == 10 not y == 20:\n",
    "if x == 10 | y == 20:\n",
    "# if x and y:\n",
    "    print(\"통과입니다.\")\n",
    "else:\n",
    "    print(\"다시 하세요.\")"
   ]
  },
  {
   "cell_type": "markdown",
   "id": "7cea46ea",
   "metadata": {},
   "source": [
    "## 14.6. 퀴즈"
   ]
  },
  {
   "cell_type": "markdown",
   "id": "30b973d2",
   "metadata": {},
   "source": [
    "## 14.7. 심사문제"
   ]
  },
  {
   "cell_type": "code",
   "execution_count": 1,
   "id": "a75cb83a",
   "metadata": {},
   "outputs": [
    {
     "name": "stdout",
     "output_type": "stream",
     "text": [
      "합격\n"
     ]
    }
   ],
   "source": [
    "x=['100','80','80','90']\n",
    "x=list(map(int,x))\n",
    "m = (x[0]+x[1]+x[2]+x[3])/4 \n",
    "if 0<= m<= 100:\n",
    "    if m>=80:\n",
    "        print(\"합격\")\n",
    "    else:\n",
    "        print(\"불합격\")\n",
    "else:\n",
    "    print(\"잘못된 점수\")"
   ]
  },
  {
   "cell_type": "code",
   "execution_count": 106,
   "id": "c4a98081",
   "metadata": {},
   "outputs": [
    {
     "name": "stdout",
     "output_type": "stream",
     "text": [
      "1 2\n"
     ]
    },
    {
     "ename": "TypeError",
     "evalue": "int() argument must be a string, a bytes-like object or a number, not 'list'",
     "output_type": "error",
     "traceback": [
      "\u001b[0;31m---------------------------------------------------------------------------\u001b[0m",
      "\u001b[0;31mTypeError\u001b[0m                                 Traceback (most recent call last)",
      "\u001b[0;32m/tmp/ipykernel_532/1480012328.py\u001b[0m in \u001b[0;36m<module>\u001b[0;34m\u001b[0m\n\u001b[0;32m----> 1\u001b[0;31m \u001b[0mmap\u001b[0m\u001b[0;34m(\u001b[0m\u001b[0mint\u001b[0m\u001b[0;34m(\u001b[0m\u001b[0minput\u001b[0m\u001b[0;34m(\u001b[0m\u001b[0;34m)\u001b[0m\u001b[0;34m.\u001b[0m\u001b[0msplit\u001b[0m\u001b[0;34m(\u001b[0m\u001b[0;34m)\u001b[0m\u001b[0;34m)\u001b[0m\u001b[0;34m)\u001b[0m\u001b[0;34m\u001b[0m\u001b[0;34m\u001b[0m\u001b[0m\n\u001b[0m",
      "\u001b[0;31mTypeError\u001b[0m: int() argument must be a string, a bytes-like object or a number, not 'list'"
     ]
    }
   ],
   "source": [
    "map(int(input().split()))"
   ]
  },
  {
   "cell_type": "code",
   "execution_count": 123,
   "id": "0146326b",
   "metadata": {},
   "outputs": [
    {
     "name": "stdout",
     "output_type": "stream",
     "text": [
      "100 80 80 90\n",
      "합격\n"
     ]
    }
   ],
   "source": [
    "x=input().split()\n",
    "x=list(map(int,x))\n",
    "#x=['100','80','80','90']\n",
    "x=list(map(int,x))\n",
    "m = (x[0]+x[1]+x[2]+x[3])/4 \n",
    "if 0<= m<= 100:\n",
    "    if m>=80:\n",
    "        print(\"합격\")\n",
    "    else:\n",
    "        print(\"불합격\")\n",
    "else:\n",
    "    print(\"잘못된 점수\")"
   ]
  },
  {
   "cell_type": "code",
   "execution_count": 125,
   "id": "9d994c3b",
   "metadata": {},
   "outputs": [
    {
     "name": "stdout",
     "output_type": "stream",
     "text": [
      "0 1000 1000 200\n",
      "잘못된 점수\n"
     ]
    }
   ],
   "source": [
    "x=input().split()\n",
    "x2=list(map(int,x))\n",
    "#x=['100','80','80','90']\n",
    "x3=list(map(int,x2))\n",
    "m = (x3[0]+x3[1]+x3[2]+x3[3])/4 \n",
    "if 0<= m<= 100:\n",
    "    if m>=80:\n",
    "        print(\"합격\")\n",
    "    else:\n",
    "        print(\"불합격\")\n",
    "else:\n",
    "    print(\"잘못된 점수\")"
   ]
  },
  {
   "cell_type": "code",
   "execution_count": 130,
   "id": "7ceacf95",
   "metadata": {},
   "outputs": [
    {
     "name": "stdout",
     "output_type": "stream",
     "text": [
      "100 200 200 200\n",
      "잘못된 점수\n"
     ]
    }
   ],
   "source": [
    "a,b,c,d = map(int, input().split())\n",
    "m = (a+b+c+d)/4 \n",
    "if 0<= m<= 100:\n",
    "    if m>=80:\n",
    "        print(\"합격\")\n",
    "    else:\n",
    "        print(\"불합격\")\n",
    "else:\n",
    "    print(\"잘못된 점수\")"
   ]
  },
  {
   "cell_type": "code",
   "execution_count": 134,
   "id": "7074374a",
   "metadata": {},
   "outputs": [
    {
     "name": "stdout",
     "output_type": "stream",
     "text": [
      "80 80 80 90\n",
      "합격\n"
     ]
    }
   ],
   "source": [
    "a,b,c,d = map(int, input().split())\n",
    "m = (a+b+c+d)/4 \n",
    "if a<0 or a>100 or b<0 or b>100 or c<0 or c>100 or d<0 or d>100:\n",
    "    print(\"잘못된 점수\")\n",
    "else:\n",
    "    if m>=80:\n",
    "        print(\"합격\")\n",
    "    else:\n",
    "        print(\"불합격\")"
   ]
  },
  {
   "cell_type": "markdown",
   "id": "2b311901",
   "metadata": {},
   "source": [
    "## 14.8. 직접 만든 문제"
   ]
  },
  {
   "cell_type": "markdown",
   "id": "0d0c4d4f",
   "metadata": {},
   "source": [
    "함수 $f(x)=|x|$ (단 $x$는 정수)를 `if`와 `else`를 활용하여 만드는 코드가 다음과 같습니다. 빈칸을 채워주세요.\n",
    "```\n",
    "if ____:\n",
    "    print(_)\n",
    "else:\n",
    "    print(__)\n",
    "```"
   ]
  },
  {
   "cell_type": "code",
   "execution_count": 31,
   "id": "3c632f4c",
   "metadata": {},
   "outputs": [
    {
     "name": "stdout",
     "output_type": "stream",
     "text": [
      "0\n",
      "0\n"
     ]
    }
   ],
   "source": [
    "x = int(input())\n",
    "if x >=0:\n",
    "    print(x)\n",
    "else:\n",
    "    print(-x)"
   ]
  }
 ],
 "metadata": {
  "kernelspec": {
   "display_name": "Python 3 (ipykernel)",
   "language": "python",
   "name": "python3"
  },
  "language_info": {
   "codemirror_mode": {
    "name": "ipython",
    "version": 3
   },
   "file_extension": ".py",
   "mimetype": "text/x-python",
   "name": "python",
   "nbconvert_exporter": "python",
   "pygments_lexer": "ipython3",
   "version": "3.9.7"
  }
 },
 "nbformat": 4,
 "nbformat_minor": 5
}
