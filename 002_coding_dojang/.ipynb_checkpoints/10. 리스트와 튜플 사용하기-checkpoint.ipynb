{
 "cells": [
  {
   "cell_type": "markdown",
   "id": "dfb10819",
   "metadata": {},
   "source": [
    "# 10. 리스트와 튜플 사용하기"
   ]
  },
  {
   "cell_type": "markdown",
   "id": "a6ca69e4",
   "metadata": {},
   "source": [
    "## 10.1. 리스트 만들기"
   ]
  },
  {
   "cell_type": "code",
   "execution_count": 1,
   "id": "a2156a23",
   "metadata": {},
   "outputs": [
    {
     "name": "stdout",
     "output_type": "stream",
     "text": [
      "[38, 21, 53, 62, 19]\n"
     ]
    }
   ],
   "source": [
    "a = [38, 21, 53, 62, 19]\n",
    "print(a)"
   ]
  },
  {
   "cell_type": "code",
   "execution_count": 2,
   "id": "70f1e804",
   "metadata": {
    "scrolled": true
   },
   "outputs": [
    {
     "data": {
      "text/plain": [
       "[38, 21, 53, 62, 19]"
      ]
     },
     "execution_count": 2,
     "metadata": {},
     "output_type": "execute_result"
    }
   ],
   "source": [
    "a"
   ]
  },
  {
   "cell_type": "markdown",
   "id": "3a8cfb20",
   "metadata": {},
   "source": [
    "### 10.1.1 리스트에 여러 가지 자료형 저장하기"
   ]
  },
  {
   "cell_type": "markdown",
   "id": "48247371",
   "metadata": {},
   "source": [
    "교재에 있는 list"
   ]
  },
  {
   "cell_type": "code",
   "execution_count": 3,
   "id": "81199a76",
   "metadata": {},
   "outputs": [
    {
     "data": {
      "text/plain": [
       "['james', 17, 175.3, True]"
      ]
     },
     "execution_count": 3,
     "metadata": {},
     "output_type": "execute_result"
    }
   ],
   "source": [
    "person = ['james', 17, 175.3, True]\n",
    "person"
   ]
  },
  {
   "cell_type": "code",
   "execution_count": 4,
   "id": "9f6d8cf7",
   "metadata": {},
   "outputs": [
    {
     "name": "stdout",
     "output_type": "stream",
     "text": [
      "<class 'list'>\n"
     ]
    }
   ],
   "source": [
    "print(type(person))"
   ]
  },
  {
   "cell_type": "code",
   "execution_count": 5,
   "id": "76799289",
   "metadata": {},
   "outputs": [
    {
     "name": "stdout",
     "output_type": "stream",
     "text": [
      "<class 'str'>\n",
      "<class 'int'>\n",
      "<class 'float'>\n",
      "<class 'bool'>\n"
     ]
    }
   ],
   "source": [
    "for x in person:\n",
    "    print(type(x))"
   ]
  },
  {
   "cell_type": "markdown",
   "id": "f5678949",
   "metadata": {},
   "source": [
    "직접 해본 np.array"
   ]
  },
  {
   "cell_type": "code",
   "execution_count": 6,
   "id": "260186e9",
   "metadata": {},
   "outputs": [],
   "source": [
    "import numpy as np"
   ]
  },
  {
   "cell_type": "code",
   "execution_count": 7,
   "id": "1d914347",
   "metadata": {},
   "outputs": [
    {
     "data": {
      "text/plain": [
       "array(['james', '17', '175.3', 'True'], dtype='<U32')"
      ]
     },
     "execution_count": 7,
     "metadata": {},
     "output_type": "execute_result"
    }
   ],
   "source": [
    "person2 = np.array(['james', 17, 175.3, True])\n",
    "person2"
   ]
  },
  {
   "cell_type": "code",
   "execution_count": 8,
   "id": "f28b0651",
   "metadata": {},
   "outputs": [
    {
     "name": "stdout",
     "output_type": "stream",
     "text": [
      "<class 'numpy.ndarray'>\n"
     ]
    }
   ],
   "source": [
    "print(type(person2))"
   ]
  },
  {
   "cell_type": "code",
   "execution_count": 9,
   "id": "8f3f3ce5",
   "metadata": {},
   "outputs": [
    {
     "name": "stdout",
     "output_type": "stream",
     "text": [
      "<class 'numpy.str_'>\n",
      "<class 'numpy.str_'>\n",
      "<class 'numpy.str_'>\n",
      "<class 'numpy.str_'>\n"
     ]
    }
   ],
   "source": [
    "for x in person2:\n",
    "    print(type(x))"
   ]
  },
  {
   "cell_type": "markdown",
   "id": "fb46366b",
   "metadata": {},
   "source": [
    "np.array에는 한 종류의 datatype만이 들어갈 수 있다."
   ]
  },
  {
   "cell_type": "code",
   "execution_count": 10,
   "id": "3b35ac91",
   "metadata": {},
   "outputs": [
    {
     "name": "stdout",
     "output_type": "stream",
     "text": [
      "True\n",
      "False\n"
     ]
    }
   ],
   "source": [
    "A=[1,2,3,4]\n",
    "B=list([1,2,3,4])\n",
    "print(A == B)\n",
    "print(A is B)"
   ]
  },
  {
   "cell_type": "markdown",
   "id": "5694524b",
   "metadata": {},
   "source": [
    "### 10.1.2. 빈 리스트 만들기"
   ]
  },
  {
   "cell_type": "code",
   "execution_count": 11,
   "id": "2701cf45",
   "metadata": {},
   "outputs": [
    {
     "name": "stdout",
     "output_type": "stream",
     "text": [
      "[]\n"
     ]
    }
   ],
   "source": [
    "a = []\n",
    "print(a)"
   ]
  },
  {
   "cell_type": "code",
   "execution_count": 12,
   "id": "264216c3",
   "metadata": {},
   "outputs": [
    {
     "name": "stdout",
     "output_type": "stream",
     "text": [
      "[]\n"
     ]
    }
   ],
   "source": [
    "b = list()\n",
    "print(b)"
   ]
  },
  {
   "cell_type": "markdown",
   "id": "8a5ea4fb",
   "metadata": {},
   "source": [
    "### 10.1.3 range를 사용하여 리스트 만들기"
   ]
  },
  {
   "cell_type": "code",
   "execution_count": 36,
   "id": "290c3e7b",
   "metadata": {
    "scrolled": true
   },
   "outputs": [
    {
     "name": "stdout",
     "output_type": "stream",
     "text": [
      "range(0, 10)\n",
      "[0, 1, 2, 3, 4, 5, 6, 7, 8, 9]\n",
      "[0, 1, 2, 3, 4, 5, 6, 7, 8, 9]\n",
      "[1, 2, 3, 4, 5, 6, 7, 8, 9]\n"
     ]
    }
   ],
   "source": [
    "A = range(10)\n",
    "B = list(range(10))\n",
    "C = list(range(0,10))\n",
    "D = list(range(1,10))\n",
    "print(A)\n",
    "print(B)\n",
    "print(C)\n",
    "print(D)"
   ]
  },
  {
   "cell_type": "markdown",
   "id": "f45eba3e",
   "metadata": {},
   "source": [
    "`list[range(n)]`는 $0\\le x<n$인 정수 $n$개로 이루어진 list이다."
   ]
  },
  {
   "cell_type": "markdown",
   "id": "f74a50d4",
   "metadata": {},
   "source": [
    "## 10.2. 튜플 사용하기"
   ]
  },
  {
   "cell_type": "code",
   "execution_count": null,
   "id": "7818182c",
   "metadata": {},
   "outputs": [],
   "source": [
    "A = (38, 21, 53, 62, 19)\n",
    "print(A)"
   ]
  },
  {
   "cell_type": "code",
   "execution_count": null,
   "id": "85301d88",
   "metadata": {},
   "outputs": [],
   "source": [
    "B=list([38, 21, 53, 62, 19])\n",
    "print(B)"
   ]
  },
  {
   "cell_type": "code",
   "execution_count": null,
   "id": "922ebdc1",
   "metadata": {},
   "outputs": [],
   "source": [
    "print(A[1])\n",
    "print(B[1])\n",
    "print(A[1]==B[1])\n",
    "print(A[1] is B[1])"
   ]
  },
  {
   "cell_type": "markdown",
   "id": "8fdffe79",
   "metadata": {},
   "source": [
    "- list는 수학에서 말하는 unordered tuple이다.\n",
    "- tuple은 수학에서 말하는 ordered tuple 혹은 sequence이다."
   ]
  },
  {
   "cell_type": "code",
   "execution_count": null,
   "id": "fc4e3822",
   "metadata": {},
   "outputs": [],
   "source": [
    "person = ('james', 17, 175.3, True)\n",
    "print(person)"
   ]
  },
  {
   "cell_type": "markdown",
   "id": "61d6b075",
   "metadata": {},
   "source": [
    "- list는 요소들을 변경, 추가, 삭제할 수 있다.\n",
    "- tuple은 요소들을 변경. 추가, 삭제할 수 없다."
   ]
  },
  {
   "cell_type": "code",
   "execution_count": null,
   "id": "76887775",
   "metadata": {},
   "outputs": [],
   "source": [
    "A=(1,2,3)\n",
    "B=tuple([1,2,3])\n",
    "C=1,2,3\n",
    "#D=tuple(1,2,3) 잘못된 표현\n",
    "print(A)\n",
    "print(B)\n",
    "print(C)\n",
    "print(A is B)\n",
    "print(A is C)\n",
    "print(B is C)\n",
    "print(A == B)\n",
    "print(A == C)\n",
    "print(B == C)"
   ]
  },
  {
   "cell_type": "markdown",
   "id": "0974b76b",
   "metadata": {},
   "source": [
    "list2tuple, tuple2list"
   ]
  },
  {
   "cell_type": "code",
   "execution_count": 42,
   "id": "66999e8f",
   "metadata": {},
   "outputs": [
    {
     "name": "stdout",
     "output_type": "stream",
     "text": [
      "(1, 2, 3)\n",
      "[2, 3, 4]\n"
     ]
    }
   ],
   "source": [
    "A=[1,2,3]\n",
    "A=tuple(A)\n",
    "B=(2,3,4)\n",
    "B=list(B)\n",
    "print(A)\n",
    "print(B)\n",
    "C=(1,2,3)"
   ]
  },
  {
   "cell_type": "markdown",
   "id": "c1624617",
   "metadata": {},
   "source": [
    "np.array2list"
   ]
  },
  {
   "cell_type": "code",
   "execution_count": null,
   "id": "b3c14934",
   "metadata": {
    "scrolled": true
   },
   "outputs": [],
   "source": [
    "import numpy as np\n",
    "A=[1,2,3]\n",
    "A=np.array(A)\n",
    "print(type(A))\n",
    "B=np.array([2,3,4])\n",
    "B=B.tolist()\n",
    "print(type(B))"
   ]
  },
  {
   "cell_type": "markdown",
   "id": "441bb415",
   "metadata": {},
   "source": [
    "## 10.3. 퀴즈"
   ]
  },
  {
   "cell_type": "markdown",
   "id": "c896ecaf",
   "metadata": {},
   "source": [
    "## 10.4. 연습문제 : range로 리스트 만들기"
   ]
  },
  {
   "cell_type": "markdown",
   "id": "c1d556a6",
   "metadata": {},
   "source": [
    "## 10.5. 심사문제 : range로 튜플 만들기"
   ]
  },
  {
   "cell_type": "code",
   "execution_count": null,
   "id": "95054d97",
   "metadata": {},
   "outputs": [],
   "source": [
    "a=tuple(range(-10,10,int(input())))\n",
    "print(a)"
   ]
  },
  {
   "cell_type": "markdown",
   "id": "7491a943",
   "metadata": {},
   "source": [
    "## 10. 6*. 직접 만든 문제"
   ]
  },
  {
   "cell_type": "markdown",
   "id": "873b8a9f",
   "metadata": {},
   "source": [
    "(문제1) list와 np.array의 차이 : 각 요소들의 datatype"
   ]
  },
  {
   "cell_type": "markdown",
   "id": "08863d4c",
   "metadata": {},
   "source": [
    "(문제2)\n",
    "```\n",
    "a = []\n",
    "b = list()\n",
    "print(a == b)\n",
    "print(a is b)\n",
    "```"
   ]
  },
  {
   "cell_type": "markdown",
   "id": "20502644",
   "metadata": {},
   "source": [
    "(문제3)\n",
    "```\n",
    "A=[1,2,3,4]\n",
    "B=list([1,2,3,4])\n",
    "print(A == B)\n",
    "print(A is B)\n",
    "```"
   ]
  },
  {
   "cell_type": "markdown",
   "id": "65a48ddb",
   "metadata": {},
   "source": [
    "(문제3)\n",
    "```\n",
    "A=(1,2,3)\n",
    "B=tuple([1,2,3])\n",
    "C=1,2,3\n",
    "#D=tuple(1,2,3) 잘못된 표현\n",
    "print(A is B)\n",
    "print(A is C)\n",
    "print(B is C)\n",
    "print(A == B)\n",
    "print(A == C)\n",
    "print(B == C)\n",
    "```"
   ]
  },
  {
   "cell_type": "markdown",
   "id": "358268e9",
   "metadata": {},
   "source": [
    "**(문제4) 다음 중 결과가 다르게 나오는 것은?**\n",
    "```\n",
    "A=[1,2,3]\n",
    "B=list((1,2,3))\n",
    "C=list(range(1,4))\n",
    "D=[range(1,4)]\n",
    "print(A)\n",
    "print(B)\n",
    "print(C)\n",
    "print(D)\n",
    "```"
   ]
  },
  {
   "cell_type": "code",
   "execution_count": 189,
   "id": "e209f010",
   "metadata": {},
   "outputs": [
    {
     "name": "stdout",
     "output_type": "stream",
     "text": [
      "[1, 2, 3]\n",
      "[1, 2, 3]\n",
      "[1, 2, 3]\n",
      "[range(1, 4)]\n",
      "<class 'list'>\n",
      "1\n"
     ]
    }
   ],
   "source": [
    "A=[1,2,3]\n",
    "B=list((1,2,3))\n",
    "C=list(range(1,4))\n",
    "D=[range(1,4)]\n",
    "print(A)\n",
    "print(B)\n",
    "print(C)\n",
    "print(D)\n",
    "print(type(D))\n",
    "print(len(D))"
   ]
  }
 ],
 "metadata": {
  "kernelspec": {
   "display_name": "Python 3 (ipykernel)",
   "language": "python",
   "name": "python3"
  },
  "language_info": {
   "codemirror_mode": {
    "name": "ipython",
    "version": 3
   },
   "file_extension": ".py",
   "mimetype": "text/x-python",
   "name": "python",
   "nbconvert_exporter": "python",
   "pygments_lexer": "ipython3",
   "version": "3.9.7"
  }
 },
 "nbformat": 4,
 "nbformat_minor": 5
}
