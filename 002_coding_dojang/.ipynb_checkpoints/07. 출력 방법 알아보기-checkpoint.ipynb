{
 "cells": [
  {
   "cell_type": "markdown",
   "id": "69175117",
   "metadata": {},
   "source": [
    "# 7. 출력 방법 알아보기"
   ]
  },
  {
   "cell_type": "markdown",
   "id": "a951bf1f",
   "metadata": {},
   "source": [
    "## 7.1. 값을 여러 개 출력하기"
   ]
  },
  {
   "cell_type": "code",
   "execution_count": 226,
   "id": "93ed3277",
   "metadata": {},
   "outputs": [
    {
     "name": "stdout",
     "output_type": "stream",
     "text": [
      "1 2 3\n",
      "hello python\n"
     ]
    }
   ],
   "source": [
    "print(1,2,3)\n",
    "print('hello','python')"
   ]
  },
  {
   "cell_type": "markdown",
   "id": "b1c642d4",
   "metadata": {},
   "source": [
    "### 7.1.1. sep 사이에 문자 넣기"
   ]
  },
  {
   "cell_type": "code",
   "execution_count": 227,
   "id": "d362f35d",
   "metadata": {},
   "outputs": [
    {
     "name": "stdout",
     "output_type": "stream",
     "text": [
      "1 2 3\n",
      "1,2,3\n",
      "123\n",
      "1 2 3\n",
      "1  2  3\n"
     ]
    }
   ],
   "source": [
    "print(1,2,3)\n",
    "print(1,2,3,sep=',')\n",
    "print(1,2,3,sep='')\n",
    "print(1,2,3,sep=' ')\n",
    "print(1,2,3,sep='  ')"
   ]
  },
  {
   "cell_type": "markdown",
   "id": "95a64604",
   "metadata": {},
   "source": [
    "## 7.2. 줄바꿈 활용하기"
   ]
  },
  {
   "cell_type": "code",
   "execution_count": 228,
   "id": "faa21db9",
   "metadata": {},
   "outputs": [
    {
     "name": "stdout",
     "output_type": "stream",
     "text": [
      "1 2 3\n",
      "1\n",
      "2\n",
      "3\n"
     ]
    }
   ],
   "source": [
    "print(1,2,3)\n",
    "print(1,2,3,sep='\\n')"
   ]
  },
  {
   "cell_type": "markdown",
   "id": "f51619c1",
   "metadata": {},
   "source": [
    "여기까지 쓰고 \\n 줄을 바꾸겠다."
   ]
  },
  {
   "cell_type": "code",
   "execution_count": 235,
   "id": "b756e979",
   "metadata": {},
   "outputs": [
    {
     "name": "stdout",
     "output_type": "stream",
     "text": [
      "여기까지 쓰고 \n",
      " 줄을 바꾸겠다.\n"
     ]
    }
   ],
   "source": [
    "print('여기까지 쓰고 \\n 줄을 바꾸겠다.')"
   ]
  },
  {
   "cell_type": "code",
   "execution_count": 236,
   "id": "4bf1129d",
   "metadata": {},
   "outputs": [
    {
     "data": {
      "text/plain": [
       "'여기까지 쓰고 \\n 줄을 바꾸겠다.'"
      ]
     },
     "execution_count": 236,
     "metadata": {},
     "output_type": "execute_result"
    }
   ],
   "source": [
    "'여기까지 쓰고 \\n 줄을 바꾸겠다.'"
   ]
  },
  {
   "cell_type": "code",
   "execution_count": 242,
   "id": "0610772a",
   "metadata": {},
   "outputs": [
    {
     "ename": "SyntaxError",
     "evalue": "unexpected character after line continuation character (2394039199.py, line 1)",
     "output_type": "error",
     "traceback": [
      "\u001b[0;36m  File \u001b[0;32m\"/tmp/ipykernel_174/2394039199.py\"\u001b[0;36m, line \u001b[0;32m1\u001b[0m\n\u001b[0;31m    print('여기까지 쓰고' \\n '줄을 바꾸겠다.')\u001b[0m\n\u001b[0m                                 ^\u001b[0m\n\u001b[0;31mSyntaxError\u001b[0m\u001b[0;31m:\u001b[0m unexpected character after line continuation character\n"
     ]
    }
   ],
   "source": [
    "print('여기까지 쓰고' \\n '줄을 바꾸겠다.')"
   ]
  },
  {
   "cell_type": "code",
   "execution_count": 243,
   "id": "35f14f1e",
   "metadata": {},
   "outputs": [
    {
     "name": "stdout",
     "output_type": "stream",
     "text": [
      "x가  30 이고 y가 20 이면 \n",
      " x+y는 50 이다.\n"
     ]
    }
   ],
   "source": [
    "print('x가 ',30,'이고 y가',20,'이면 \\n x+y는',50,'이다.')"
   ]
  },
  {
   "cell_type": "markdown",
   "id": "304fdbaa",
   "metadata": {},
   "source": [
    "- \\n은 문자열 안에 사용한다."
   ]
  },
  {
   "cell_type": "markdown",
   "id": "94fa4ab9",
   "metadata": {},
   "source": [
    "### 7.2.1. end 사용하기"
   ]
  },
  {
   "cell_type": "markdown",
   "id": "f1368f4a",
   "metadata": {},
   "source": [
    ">기본적으로 print의 end에 \\n이 지정되어 있다."
   ]
  },
  {
   "cell_type": "code",
   "execution_count": 244,
   "id": "a4a2409f",
   "metadata": {},
   "outputs": [
    {
     "name": "stdout",
     "output_type": "stream",
     "text": [
      "1\n",
      "2\n",
      "3\n"
     ]
    }
   ],
   "source": [
    "print(1)\n",
    "print(2)\n",
    "print(3)"
   ]
  },
  {
   "cell_type": "code",
   "execution_count": 246,
   "id": "4b27edc9",
   "metadata": {},
   "outputs": [
    {
     "name": "stdout",
     "output_type": "stream",
     "text": [
      "1\n",
      "2\n",
      "3\n"
     ]
    }
   ],
   "source": [
    "print(1,end='\\n')\n",
    "print(2,end='\\n')\n",
    "print(3)"
   ]
  },
  {
   "cell_type": "code",
   "execution_count": 245,
   "id": "cc3d23e0",
   "metadata": {},
   "outputs": [
    {
     "name": "stdout",
     "output_type": "stream",
     "text": [
      "123\n"
     ]
    }
   ],
   "source": [
    "print(1,end='')\n",
    "print(2,end='')\n",
    "print(3)"
   ]
  },
  {
   "cell_type": "code",
   "execution_count": 247,
   "id": "a96a4164",
   "metadata": {},
   "outputs": [
    {
     "name": "stdout",
     "output_type": "stream",
     "text": [
      "1 2 3\n"
     ]
    }
   ],
   "source": [
    "print(1,end=' ')\n",
    "print(2,end=' ')\n",
    "print(3)"
   ]
  },
  {
   "cell_type": "markdown",
   "id": "1707b752",
   "metadata": {},
   "source": [
    "## 7.3. 퀴즈"
   ]
  },
  {
   "cell_type": "markdown",
   "id": "4dcd5b7c",
   "metadata": {},
   "source": [
    "#### 3번 문제"
   ]
  },
  {
   "cell_type": "code",
   "execution_count": 250,
   "id": "2276095e",
   "metadata": {},
   "outputs": [
    {
     "name": "stdout",
     "output_type": "stream",
     "text": [
      "Hello Python\n",
      "Hello\n",
      "Python\n",
      "Hello Python\n",
      "Hello\n",
      "Python\n",
      "Hello\n",
      "Python\n"
     ]
    }
   ],
   "source": [
    "print('Hello', 'Python')\n",
    "print('Hello\\nPython')\n",
    "print('Hello', 'Python',end='\\n')\n",
    "print('Hello', 'Python',sep='\\n')\n",
    "print('Hello','\\n', 'Python',sep='')"
   ]
  },
  {
   "cell_type": "markdown",
   "id": "a1f523e2",
   "metadata": {},
   "source": [
    "## 7.4. 연습문제 : 날짜와 시간 출력하기"
   ]
  },
  {
   "cell_type": "markdown",
   "id": "5552d781",
   "metadata": {},
   "source": [
    "## 7.5. 심사문제 :  날짜와 시간 출력하기"
   ]
  },
  {
   "cell_type": "code",
   "execution_count": 251,
   "id": "d9a9d6de",
   "metadata": {},
   "outputs": [
    {
     "name": "stdout",
     "output_type": "stream",
     "text": [
      "2022 8 23 4 00 00\n"
     ]
    }
   ],
   "source": [
    "year, month, day, hour, minute, second = input().split()"
   ]
  },
  {
   "cell_type": "code",
   "execution_count": 256,
   "id": "45f2ee0c",
   "metadata": {},
   "outputs": [
    {
     "name": "stdout",
     "output_type": "stream",
     "text": [
      "2022-8-23T4:00:00\n"
     ]
    }
   ],
   "source": [
    "print(year,month,day,sep='-',end='T')\n",
    "print(hour, minute, second, sep=':')"
   ]
  },
  {
   "cell_type": "markdown",
   "id": "072730f9",
   "metadata": {},
   "source": [
    "## 7.6*. 스스로 만든 문제"
   ]
  },
  {
   "cell_type": "code",
   "execution_count": 270,
   "id": "9bf30425",
   "metadata": {},
   "outputs": [
    {
     "name": "stdout",
     "output_type": "stream",
     "text": [
      "김선중 쏘카 3기 17회차\n",
      "김선중/쏘카/3기/17회차\n"
     ]
    }
   ],
   "source": [
    "name, campus, 기, 회차 = input().split()\n",
    "print(name,campus,기,회차,sep='/')"
   ]
  },
  {
   "cell_type": "code",
   "execution_count": 269,
   "id": "e7cca1bd",
   "metadata": {
    "scrolled": true
   },
   "outputs": [
    {
     "name": "stdout",
     "output_type": "stream",
     "text": [
      "김선중 쏘카 3기 17회차\n"
     ]
    }
   ],
   "source": [
    "name, campus, 기, 회차 = input().split()\n"
   ]
  },
  {
   "cell_type": "code",
   "execution_count": 271,
   "id": "bcde8cc8",
   "metadata": {},
   "outputs": [
    {
     "name": "stdout",
     "output_type": "stream",
     "text": [
      "hello\n",
      "world\n"
     ]
    }
   ],
   "source": [
    "print('hello');print('world')"
   ]
  },
  {
   "cell_type": "markdown",
   "id": "9edd6b18",
   "metadata": {},
   "source": [
    "# **서로 만든 문제들(8월 23일)"
   ]
  },
  {
   "cell_type": "markdown",
   "id": "7735b8a5",
   "metadata": {},
   "source": [
    "#### 연수님 문제"
   ]
  },
  {
   "cell_type": "code",
   "execution_count": 281,
   "id": "93b49147",
   "metadata": {},
   "outputs": [],
   "source": [
    "url=\"http://sharebook.kr\""
   ]
  },
  {
   "cell_type": "code",
   "execution_count": 290,
   "id": "e3b4c38f",
   "metadata": {},
   "outputs": [
    {
     "name": "stdout",
     "output_type": "stream",
     "text": [
      "['http://sharebook', 'kr']\n",
      "<class 'list'>\n",
      "kr\n"
     ]
    }
   ],
   "source": [
    "url_split=url.split('.')\n",
    "print(url_split)\n",
    "print(type(url_split))\n",
    "print(url_split[-1])"
   ]
  },
  {
   "cell_type": "code",
   "execution_count": 285,
   "id": "9d45bc62",
   "metadata": {},
   "outputs": [
    {
     "name": "stdout",
     "output_type": "stream",
     "text": [
      "kr\n"
     ]
    }
   ],
   "source": [
    "print(url[-2:])"
   ]
  },
  {
   "cell_type": "markdown",
   "id": "d92efbfa",
   "metadata": {},
   "source": [
    "#### 희성님 문제"
   ]
  },
  {
   "cell_type": "code",
   "execution_count": 279,
   "id": "b03d7624",
   "metadata": {},
   "outputs": [
    {
     "name": "stderr",
     "output_type": "stream",
     "text": [
      "<>:2: SyntaxWarning: \"is\" with a literal. Did you mean \"==\"?\n",
      "<>:2: SyntaxWarning: \"is\" with a literal. Did you mean \"==\"?\n",
      "/tmp/ipykernel_174/2522190273.py:2: SyntaxWarning: \"is\" with a literal. Did you mean \"==\"?\n",
      "  a is -6\n"
     ]
    },
    {
     "data": {
      "text/plain": [
       "False"
      ]
     },
     "execution_count": 279,
     "metadata": {},
     "output_type": "execute_result"
    }
   ],
   "source": [
    "a=-6\n",
    "a is -6"
   ]
  },
  {
   "cell_type": "code",
   "execution_count": 280,
   "id": "6316a023",
   "metadata": {},
   "outputs": [
    {
     "name": "stderr",
     "output_type": "stream",
     "text": [
      "<>:2: SyntaxWarning: \"is\" with a literal. Did you mean \"==\"?\n",
      "<>:2: SyntaxWarning: \"is\" with a literal. Did you mean \"==\"?\n",
      "/tmp/ipykernel_174/910685623.py:2: SyntaxWarning: \"is\" with a literal. Did you mean \"==\"?\n",
      "  a is -5\n"
     ]
    },
    {
     "data": {
      "text/plain": [
       "True"
      ]
     },
     "execution_count": 280,
     "metadata": {},
     "output_type": "execute_result"
    }
   ],
   "source": [
    "a=-5\n",
    "a is -5"
   ]
  },
  {
   "cell_type": "code",
   "execution_count": 274,
   "id": "e913664f",
   "metadata": {},
   "outputs": [
    {
     "name": "stderr",
     "output_type": "stream",
     "text": [
      "<>:2: SyntaxWarning: \"is\" with a literal. Did you mean \"==\"?\n",
      "<>:2: SyntaxWarning: \"is\" with a literal. Did you mean \"==\"?\n",
      "/tmp/ipykernel_174/3917151905.py:2: SyntaxWarning: \"is\" with a literal. Did you mean \"==\"?\n",
      "  a is 4\n"
     ]
    },
    {
     "data": {
      "text/plain": [
       "True"
      ]
     },
     "execution_count": 274,
     "metadata": {},
     "output_type": "execute_result"
    }
   ],
   "source": [
    "a=4\n",
    "a is 4"
   ]
  }
 ],
 "metadata": {
  "kernelspec": {
   "display_name": "Python 3 (ipykernel)",
   "language": "python",
   "name": "python3"
  },
  "language_info": {
   "codemirror_mode": {
    "name": "ipython",
    "version": 3
   },
   "file_extension": ".py",
   "mimetype": "text/x-python",
   "name": "python",
   "nbconvert_exporter": "python",
   "pygments_lexer": "ipython3",
   "version": "3.9.7"
  }
 },
 "nbformat": 4,
 "nbformat_minor": 5
}
