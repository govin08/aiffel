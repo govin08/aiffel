{
 "cells": [
  {
   "cell_type": "markdown",
   "id": "2658814f",
   "metadata": {},
   "source": [
    "# 12. 딕셔너리 사용하기"
   ]
  },
  {
   "cell_type": "code",
   "execution_count": 128,
   "id": "d1388ab3",
   "metadata": {},
   "outputs": [],
   "source": [
    "lux = [490, 334, 550, 18.72]"
   ]
  },
  {
   "cell_type": "markdown",
   "id": "267db123",
   "metadata": {},
   "source": [
    "## 12.1. 딕셔너리 만들기"
   ]
  },
  {
   "cell_type": "code",
   "execution_count": 133,
   "id": "34909d94",
   "metadata": {},
   "outputs": [],
   "source": [
    "lux = {'health':490, 'mana':334, 'melee':550, 'armor':18.72}"
   ]
  },
  {
   "cell_type": "code",
   "execution_count": 137,
   "id": "b3312f83",
   "metadata": {},
   "outputs": [
    {
     "name": "stdout",
     "output_type": "stream",
     "text": [
      "{'health': 490, 'mana': 334, 'melee': 550, 'armor': 18.72}\n",
      "490\n"
     ]
    }
   ],
   "source": [
    "print(lux)\n",
    "print(lux['health'])"
   ]
  },
  {
   "cell_type": "markdown",
   "id": "3a91fb06",
   "metadata": {},
   "source": [
    "### 12.1.1. 키 이름이 중복되면?"
   ]
  },
  {
   "cell_type": "code",
   "execution_count": 138,
   "id": "dba22930",
   "metadata": {},
   "outputs": [
    {
     "name": "stdout",
     "output_type": "stream",
     "text": [
      "334\n"
     ]
    }
   ],
   "source": [
    "lux = {'health':490, 'health':334, 'melee':550, 'armor':18.72}\n",
    "print(lux['health'])"
   ]
  },
  {
   "cell_type": "markdown",
   "id": "7d3af975",
   "metadata": {},
   "source": [
    "> 딕셔너리에 키와 값을 저장할 때 키가 중복되면 가장 뒤에 있는 값만 사용합니다. 따라서 중복되는 키는 저장되지 않습니다."
   ]
  },
  {
   "cell_type": "markdown",
   "id": "d1c3ee31",
   "metadata": {},
   "source": [
    "### 12.1.2. 딕셔너리 키의 자료형"
   ]
  },
  {
   "cell_type": "code",
   "execution_count": 136,
   "id": "ec3a02b3",
   "metadata": {},
   "outputs": [
    {
     "name": "stdout",
     "output_type": "stream",
     "text": [
      "{100: 'hundred', False: 0, 3.5: [3.5, 3.5]}\n"
     ]
    }
   ],
   "source": [
    "x = {100: 'hundred', False: 0, 3.5: [3.5, 3.5]}\n",
    "print(x)"
   ]
  },
  {
   "cell_type": "markdown",
   "id": "674fd0f0",
   "metadata": {},
   "source": [
    "### 12.1.3. 빈 딕셔너리 만들기"
   ]
  },
  {
   "cell_type": "code",
   "execution_count": 140,
   "id": "bda39393",
   "metadata": {},
   "outputs": [
    {
     "name": "stdout",
     "output_type": "stream",
     "text": [
      "{}\n",
      "{}\n"
     ]
    }
   ],
   "source": [
    "x = {}\n",
    "print(x)\n",
    "y=dict()\n",
    "print(y)"
   ]
  },
  {
   "cell_type": "markdown",
   "id": "d6be531d",
   "metadata": {},
   "source": [
    "### 12.1.4. dict로 딕셔너리 만들기"
   ]
  },
  {
   "cell_type": "code",
   "execution_count": 157,
   "id": "1c2e345c",
   "metadata": {},
   "outputs": [
    {
     "name": "stdout",
     "output_type": "stream",
     "text": [
      "{'a': 1, 'b': 2}\n",
      "{'a': 1, 'b': 2}\n",
      "{'a': 1, 'b': 2}\n",
      "{'a': 1, 'b': 2}\n",
      "{'a': 1, 'b': 2}\n"
     ]
    }
   ],
   "source": [
    "A = {'a':1,'b':2}\n",
    "B = dict(a=1,b=2)\n",
    "C = dict(zip(['a','b'],[1,2]))\n",
    "D = dict([('a',1),('b',2)])\n",
    "E = dict({'a':1,'b':2})\n",
    "print(A)\n",
    "print(B)\n",
    "print(C)\n",
    "print(D)\n",
    "print(E)"
   ]
  },
  {
   "cell_type": "markdown",
   "id": "4d640a44",
   "metadata": {},
   "source": [
    "## 12.2. 딕셔너리의 키에 접근하고 값 할당하기"
   ]
  },
  {
   "cell_type": "code",
   "execution_count": 158,
   "id": "2eb69cd2",
   "metadata": {},
   "outputs": [
    {
     "data": {
      "text/plain": [
       "1"
      ]
     },
     "execution_count": 158,
     "metadata": {},
     "output_type": "execute_result"
    }
   ],
   "source": [
    "A = {'a':1,'b':2}\n",
    "A['a']"
   ]
  },
  {
   "cell_type": "markdown",
   "id": "7c8743b9",
   "metadata": {},
   "source": [
    "### 12.2.1 딕셔너리의 키에 값 할당하기"
   ]
  },
  {
   "cell_type": "code",
   "execution_count": 159,
   "id": "59fec314",
   "metadata": {},
   "outputs": [
    {
     "name": "stdout",
     "output_type": "stream",
     "text": [
      "{'a': 3, 'b': 2}\n"
     ]
    }
   ],
   "source": [
    "A = {'a':1,'b':2}\n",
    "A['a']=3\n",
    "print(A)"
   ]
  },
  {
   "cell_type": "code",
   "execution_count": 160,
   "id": "b626a8cd",
   "metadata": {},
   "outputs": [
    {
     "name": "stdout",
     "output_type": "stream",
     "text": [
      "{'a': 1, 'b': 2, 'c': 3}\n"
     ]
    }
   ],
   "source": [
    "A = {'a':1,'b':2}\n",
    "A['c']=3\n",
    "print(A)"
   ]
  },
  {
   "cell_type": "markdown",
   "id": "1d3ba7db",
   "metadata": {},
   "source": [
    "### 12.2.2 딕셔너리에 키가 있는지 확인하기"
   ]
  },
  {
   "cell_type": "code",
   "execution_count": 162,
   "id": "51dcfa9f",
   "metadata": {},
   "outputs": [
    {
     "name": "stdout",
     "output_type": "stream",
     "text": [
      "True\n",
      "False\n"
     ]
    }
   ],
   "source": [
    "A = {'a':1,'b':2}\n",
    "print('a' in A)\n",
    "print(1 in A)"
   ]
  },
  {
   "cell_type": "markdown",
   "id": "26fbfddb",
   "metadata": {},
   "source": [
    "### 12.2.3. 딕셔너리의 키 개수 구하기"
   ]
  },
  {
   "cell_type": "code",
   "execution_count": 163,
   "id": "27695865",
   "metadata": {},
   "outputs": [
    {
     "data": {
      "text/plain": [
       "2"
      ]
     },
     "execution_count": 163,
     "metadata": {},
     "output_type": "execute_result"
    }
   ],
   "source": [
    "A = {'a':1,'b':2}\n",
    "len(A)"
   ]
  },
  {
   "cell_type": "markdown",
   "id": "b64c0a99",
   "metadata": {},
   "source": [
    "## 12.3. 퀴즈"
   ]
  },
  {
   "cell_type": "markdown",
   "id": "8ee0cbd7",
   "metadata": {},
   "source": [
    "2번"
   ]
  },
  {
   "cell_type": "code",
   "execution_count": 164,
   "id": "ed5bf44d",
   "metadata": {},
   "outputs": [
    {
     "data": {
      "text/plain": [
       "'Hello'"
      ]
     },
     "execution_count": 164,
     "metadata": {},
     "output_type": "execute_result"
    }
   ],
   "source": [
    "x = {10: 'Hello', 'world': 30}\n",
    "x[10]"
   ]
  },
  {
   "cell_type": "markdown",
   "id": "acbfb690",
   "metadata": {},
   "source": [
    "3번"
   ]
  },
  {
   "cell_type": "code",
   "execution_count": 169,
   "id": "a18fb348",
   "metadata": {},
   "outputs": [
    {
     "name": "stdout",
     "output_type": "stream",
     "text": [
      "1500 2000\n",
      "1500 2000\n",
      "15002000\n"
     ]
    }
   ],
   "source": [
    "fruits = {'apple': 1500, 'pear': 3000, 'grape': 1400}\n",
    "fruits['orange'] = 2000\n",
    "print(fruits['apple'], fruits['orange'])\n",
    "print(str(fruits['apple']),str(fruits['orange']))\n",
    "print(str(fruits['apple'])+str(fruits['orange']))"
   ]
  },
  {
   "cell_type": "markdown",
   "id": "bc90deac",
   "metadata": {},
   "source": [
    "## 12.4. 연습문제"
   ]
  },
  {
   "cell_type": "markdown",
   "id": "d5ed996e",
   "metadata": {},
   "source": [
    "## 12.5. 심사문제"
   ]
  },
  {
   "cell_type": "code",
   "execution_count": 1,
   "id": "9d44339d",
   "metadata": {},
   "outputs": [
    {
     "name": "stdout",
     "output_type": "stream",
     "text": [
      "1 4 5\n",
      "['1', '4', '5']\n",
      "2 2 2\n",
      "<map object at 0x7f926c216df0>\n",
      "{'1': 2.0, '4': 2.0, '5': 2.0}\n"
     ]
    }
   ],
   "source": [
    "keys = input().split()\n",
    "print(keys)\n",
    "values = input().split()\n",
    "values = map(float,values)\n",
    "print(values)\n",
    "x = dict(zip(keys,values))\n",
    "print(x)"
   ]
  },
  {
   "cell_type": "markdown",
   "id": "b5614369",
   "metadata": {},
   "source": [
    "## 12.6*. 직접 만든 문제"
   ]
  },
  {
   "cell_type": "markdown",
   "id": "dc104226",
   "metadata": {},
   "source": [
    "```\n",
    "A = {'a':1,'b':2}\n",
    "print('a' in A)\n",
    "print(1 in A)\n",
    "```"
   ]
  },
  {
   "cell_type": "markdown",
   "id": "4b5e5343",
   "metadata": {},
   "source": [
    "# 12* 다른 분들이 만드신 문제들"
   ]
  },
  {
   "cell_type": "markdown",
   "id": "18b5f855",
   "metadata": {},
   "source": [
    "## 12.1. 희성님"
   ]
  },
  {
   "cell_type": "markdown",
   "id": "e95bb42b",
   "metadata": {},
   "source": [
    "첫번째 문제"
   ]
  },
  {
   "cell_type": "code",
   "execution_count": 181,
   "id": "aab94042",
   "metadata": {},
   "outputs": [
    {
     "name": "stdout",
     "output_type": "stream",
     "text": [
      "range(1, 11)\n",
      "[1, 2, 3, 4, 5, 6, 7, 8, 9, 10]\n",
      "[1, 3, 5, 7, 9]\n",
      "[2, 4, 6, 8, 10]\n",
      "[10, 9, 8, 7, 6, 5, 4, 3, 2, 1]\n",
      "[10, 8, 6, 4, 2]\n",
      "[9, 7, 5, 3, 1]\n"
     ]
    }
   ],
   "source": [
    "nums = range(1,11)\n",
    "#리스트로 변환\n",
    "print(nums)\n",
    "nums1 = list(nums)\n",
    "print(nums1)\n",
    "#짝수만\n",
    "nums2 = nums1[::2]\n",
    "print(nums2)\n",
    "#홀수만\n",
    "nums3 = nums1[1::2]\n",
    "print(nums3)\n",
    "#역방향\n",
    "nums4 = nums1[::-1]\n",
    "print(nums4)\n",
    "#역방향홀수\n",
    "nums6 = nums1[-2::-2]\n",
    "print(nums5)\n",
    "\n",
    "#역방향짝수\n",
    "nums5 = nums1[::-2]\n",
    "print(nums6)\n"
   ]
  },
  {
   "cell_type": "markdown",
   "id": "c07060c8",
   "metadata": {},
   "source": [
    "두번째 문제"
   ]
  },
  {
   "cell_type": "code",
   "execution_count": 196,
   "id": "1aace891",
   "metadata": {},
   "outputs": [
    {
     "name": "stdout",
     "output_type": "stream",
     "text": [
      "{'a': 1, 'b': 2, 'c': 3, 'd': 4, 'e': 5}\n",
      "{'a': 1, 'b': 2, 'c': 3, 'd': 4, 'e': 5}\n"
     ]
    }
   ],
   "source": [
    "a = ['a', 'b', 'c', 'd', 'e']\n",
    "b = [1, 2, 3, 4, 5]\n",
    "c = {a[0]:b[0],a[1]:b[1],a[2]:b[2],a[3]:b[3],a[4]:b[4]}\n",
    "print(c)\n",
    "d = dict(zip(a,b))\n",
    "print(d)"
   ]
  },
  {
   "cell_type": "markdown",
   "id": "2e65986d",
   "metadata": {},
   "source": [
    "## 12.2. 예진님"
   ]
  },
  {
   "cell_type": "code",
   "execution_count": 194,
   "id": "9ab076e3",
   "metadata": {},
   "outputs": [
    {
     "name": "stdout",
     "output_type": "stream",
     "text": [
      "['a', 'x', 'b', 'c', 'd']\n"
     ]
    }
   ],
   "source": [
    "movie_rank = ['a','b','c','d']\n",
    "movie_rank.insert(1, 'x')\n",
    "print(movie_rank)"
   ]
  }
 ],
 "metadata": {
  "kernelspec": {
   "display_name": "Python 3 (ipykernel)",
   "language": "python",
   "name": "python3"
  },
  "language_info": {
   "codemirror_mode": {
    "name": "ipython",
    "version": 3
   },
   "file_extension": ".py",
   "mimetype": "text/x-python",
   "name": "python",
   "nbconvert_exporter": "python",
   "pygments_lexer": "ipython3",
   "version": "3.9.7"
  }
 },
 "nbformat": 4,
 "nbformat_minor": 5
}
