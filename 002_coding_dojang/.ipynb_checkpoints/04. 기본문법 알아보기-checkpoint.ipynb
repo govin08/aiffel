{
 "cells": [
  {
   "cell_type": "markdown",
   "id": "4e46f655",
   "metadata": {},
   "source": [
    "# 4. 기본 문법 알아보기"
   ]
  },
  {
   "cell_type": "markdown",
   "id": "1e4ea882",
   "metadata": {},
   "source": [
    "## 4.1. 세미콜론"
   ]
  },
  {
   "cell_type": "code",
   "execution_count": 1,
   "id": "2b9b9b8e",
   "metadata": {},
   "outputs": [
    {
     "name": "stdout",
     "output_type": "stream",
     "text": [
      "Hello, world!\n"
     ]
    }
   ],
   "source": [
    "print('Hello, world!')"
   ]
  },
  {
   "cell_type": "code",
   "execution_count": 2,
   "id": "050ce7ab",
   "metadata": {},
   "outputs": [
    {
     "name": "stdout",
     "output_type": "stream",
     "text": [
      "Hello, world!\n",
      "1234\n"
     ]
    }
   ],
   "source": [
    "print('Hello, world!') ; print('1234')"
   ]
  },
  {
   "cell_type": "markdown",
   "id": "80fd7cfd",
   "metadata": {},
   "source": [
    "## 4.2. 주석"
   ]
  },
  {
   "cell_type": "markdown",
   "id": "b3f53796",
   "metadata": {},
   "source": [
    "### 4.2.1. 한 줄 주석"
   ]
  },
  {
   "cell_type": "code",
   "execution_count": 3,
   "id": "16585009",
   "metadata": {},
   "outputs": [],
   "source": [
    "#print('Hello, world!')"
   ]
  },
  {
   "cell_type": "code",
   "execution_count": 5,
   "id": "9ffe67b2",
   "metadata": {},
   "outputs": [
    {
     "name": "stdout",
     "output_type": "stream",
     "text": [
      "Hello, world\n"
     ]
    }
   ],
   "source": [
    "a = 1 + 2 #더하기\n",
    "print('Hello, world') #printf('1234567890')"
   ]
  },
  {
   "cell_type": "code",
   "execution_count": 6,
   "id": "eedf8910",
   "metadata": {},
   "outputs": [
    {
     "name": "stdout",
     "output_type": "stream",
     "text": [
      "Hello, world!\n",
      "1234567890\n"
     ]
    }
   ],
   "source": [
    "print('Hello, world!')\n",
    "print('1234567890')"
   ]
  },
  {
   "cell_type": "markdown",
   "id": "c52effbc",
   "metadata": {},
   "source": [
    "### 4.2.2. 블록 주석"
   ]
  },
  {
   "cell_type": "code",
   "execution_count": 8,
   "id": "2cab5f7f",
   "metadata": {},
   "outputs": [
    {
     "name": "stdout",
     "output_type": "stream",
     "text": [
      "Hello, world!\n",
      "1234567890\n"
     ]
    }
   ],
   "source": [
    "print('Hello, world!')\n",
    "print('1234567890')"
   ]
  },
  {
   "cell_type": "code",
   "execution_count": 7,
   "id": "6ba4602b",
   "metadata": {},
   "outputs": [],
   "source": [
    "# print('Hello, world!')\n",
    "# print('1234567890')"
   ]
  },
  {
   "cell_type": "code",
   "execution_count": 9,
   "id": "181ff009",
   "metadata": {},
   "outputs": [],
   "source": [
    "# 단축키는 'Ctrl + /'"
   ]
  },
  {
   "cell_type": "markdown",
   "id": "f923e361",
   "metadata": {},
   "source": [
    "## 4.3. 들여쓰기"
   ]
  },
  {
   "cell_type": "code",
   "execution_count": 13,
   "id": "2b1407b7",
   "metadata": {},
   "outputs": [],
   "source": [
    "# 네 칸 들여쓰기 (tab)\n",
    "if a==0:\n",
    "    print('10입니다.')"
   ]
  },
  {
   "cell_type": "code",
   "execution_count": 14,
   "id": "0152ab84",
   "metadata": {},
   "outputs": [],
   "source": [
    "# 두 칸 들여쓰기 (마찬가지로 동작함)\n",
    "if a==0:\n",
    "  print('10입니다.')"
   ]
  },
  {
   "cell_type": "markdown",
   "id": "ed54d135",
   "metadata": {},
   "source": [
    "## 4.4. 코드 블록"
   ]
  },
  {
   "cell_type": "markdown",
   "id": "be7bcdbc",
   "metadata": {},
   "source": [
    " - 코드 블록은 특정한 동작을 위해서 코드가 모여 있는 상태를 뜻한다.\n",
    " - 들여쓰기를 기준으로 코드 블록을 구성한다.\n",
    " - 들여쓰기 칸 수가 같아야 한다."
   ]
  },
  {
   "cell_type": "code",
   "execution_count": 15,
   "id": "9e624559",
   "metadata": {},
   "outputs": [],
   "source": [
    "if a == 10:\n",
    "      print('10')\n",
    "      print('입니다.')"
   ]
  },
  {
   "cell_type": "code",
   "execution_count": 16,
   "id": "20eadfd1",
   "metadata": {},
   "outputs": [],
   "source": [
    "if a == 10:\n",
    "  print('10')\n",
    "  print('입니다.')"
   ]
  },
  {
   "cell_type": "code",
   "execution_count": 18,
   "id": "c9cf86a3",
   "metadata": {},
   "outputs": [],
   "source": [
    "# 에러\n",
    "# if a == 10:\n",
    "#   print('10')\n",
    "#     print('입니다.')"
   ]
  },
  {
   "cell_type": "markdown",
   "id": "646f6d47",
   "metadata": {},
   "source": [
    "## 4. 5*. 스스로 만든 퀴즈"
   ]
  },
  {
   "cell_type": "markdown",
   "id": "9417b95f",
   "metadata": {},
   "source": [
    "다음 6개의 코드들이 작동하는지, 작동하지 않는지 판단해주세요."
   ]
  },
  {
   "cell_type": "code",
   "execution_count": 259,
   "id": "171e4a68",
   "metadata": {
    "scrolled": true
   },
   "outputs": [
    {
     "name": "stdout",
     "output_type": "stream",
     "text": [
      "1\n",
      "2\n",
      "3\n",
      "4\n",
      "5\n"
     ]
    }
   ],
   "source": [
    "#1 : 한 칸 indent\n",
    "a=0\n",
    "for i in range(5):\n",
    " a=a+1\n",
    " print(a)"
   ]
  },
  {
   "cell_type": "code",
   "execution_count": 260,
   "id": "996b254a",
   "metadata": {},
   "outputs": [
    {
     "name": "stdout",
     "output_type": "stream",
     "text": [
      "1\n",
      "2\n",
      "3\n",
      "4\n",
      "5\n"
     ]
    }
   ],
   "source": [
    "#2 : 두 칸 indent\n",
    "a=0\n",
    "for i in range(5):\n",
    "  a=a+1\n",
    "  print(a)"
   ]
  },
  {
   "cell_type": "code",
   "execution_count": 261,
   "id": "d854e36e",
   "metadata": {},
   "outputs": [
    {
     "name": "stdout",
     "output_type": "stream",
     "text": [
      "1\n",
      "2\n",
      "3\n",
      "4\n",
      "5\n"
     ]
    }
   ],
   "source": [
    "#3 : 세 칸 indent\n",
    "a=0\n",
    "for i in range(5):\n",
    "   a=a+1\n",
    "   print(a)"
   ]
  },
  {
   "cell_type": "code",
   "execution_count": 262,
   "id": "4b680267",
   "metadata": {},
   "outputs": [
    {
     "name": "stdout",
     "output_type": "stream",
     "text": [
      "1\n",
      "2\n",
      "3\n",
      "4\n",
      "5\n"
     ]
    }
   ],
   "source": [
    "#4 : 네 칸 indent\n",
    "a=0\n",
    "for i in range(5):\n",
    "    a=a+1\n",
    "    print(a)"
   ]
  },
  {
   "cell_type": "code",
   "execution_count": 258,
   "id": "f0eac30f",
   "metadata": {},
   "outputs": [
    {
     "name": "stdout",
     "output_type": "stream",
     "text": [
      "1\n",
      "2\n",
      "3\n",
      "4\n",
      "5\n"
     ]
    }
   ],
   "source": [
    "#4 tab indent\n",
    "a=0\n",
    "for i in range(5):\n",
    "    a=a+1\n",
    "    print(a)"
   ]
  },
  {
   "cell_type": "code",
   "execution_count": 264,
   "id": "92f71741",
   "metadata": {},
   "outputs": [
    {
     "name": "stdout",
     "output_type": "stream",
     "text": [
      "1\n",
      "2\n",
      "3\n",
      "4\n",
      "5\n"
     ]
    }
   ],
   "source": [
    "#5 다섯 칸 indent\n",
    "a=0\n",
    "for i in range(5):\n",
    " a=a+1\n",
    " print(a)"
   ]
  }
 ],
 "metadata": {
  "kernelspec": {
   "display_name": "Python 3 (ipykernel)",
   "language": "python",
   "name": "python3"
  },
  "language_info": {
   "codemirror_mode": {
    "name": "ipython",
    "version": 3
   },
   "file_extension": ".py",
   "mimetype": "text/x-python",
   "name": "python",
   "nbconvert_exporter": "python",
   "pygments_lexer": "ipython3",
   "version": "3.9.7"
  }
 },
 "nbformat": 4,
 "nbformat_minor": 5
}
