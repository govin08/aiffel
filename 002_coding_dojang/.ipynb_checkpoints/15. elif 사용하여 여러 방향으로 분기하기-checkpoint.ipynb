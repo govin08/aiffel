{
 "cells": [
  {
   "cell_type": "markdown",
   "id": "2b3200ef",
   "metadata": {},
   "source": [
    "# 15. elif 사용하여 여러 방향으로 분기하기"
   ]
  },
  {
   "cell_type": "markdown",
   "id": "b79d7da2",
   "metadata": {},
   "source": [
    "## 15.1.elif 사용하기"
   ]
  },
  {
   "cell_type": "markdown",
   "id": "a645b21d",
   "metadata": {},
   "source": [
    "`elif` = else if"
   ]
  },
  {
   "cell_type": "code",
   "execution_count": 135,
   "id": "825d0346",
   "metadata": {},
   "outputs": [],
   "source": [
    "x==20\n",
    "if x==10:\n",
    "    print('10입니다.')\n",
    "elif x==20:\n",
    "    print('20입니다.')"
   ]
  },
  {
   "cell_type": "markdown",
   "id": "d773920d",
   "metadata": {},
   "source": [
    "### 15.1.1. if, elif, else 모두 사용하기"
   ]
  },
  {
   "cell_type": "code",
   "execution_count": 137,
   "id": "710a08ae",
   "metadata": {},
   "outputs": [
    {
     "name": "stdout",
     "output_type": "stream",
     "text": [
      "10입니다.\n",
      "10도 20도 아닙니다.\n",
      "20입니다.\n"
     ]
    }
   ],
   "source": [
    "X=[10,15,20]\n",
    "for x in X:\n",
    "    if x==10:\n",
    "        print('10입니다.')\n",
    "    elif x==20:\n",
    "        print('20입니다.')\n",
    "    else:\n",
    "        print('10도 20도 아닙니다.')"
   ]
  },
  {
   "cell_type": "markdown",
   "id": "9bd799b8",
   "metadata": {},
   "source": [
    "### 15.1.2. 음료수 자판기 만들기"
   ]
  },
  {
   "cell_type": "code",
   "execution_count": 140,
   "id": "0c389116",
   "metadata": {},
   "outputs": [
    {
     "name": "stdout",
     "output_type": "stream",
     "text": [
      "3\n",
      "환타\n"
     ]
    }
   ],
   "source": [
    "button = int(input())\n",
    " \n",
    "if button == 1:\n",
    "    print('콜라')\n",
    "elif button == 2:\n",
    "    print('사이다')\n",
    "elif button == 3:\n",
    "    print('환타')\n",
    "else:\n",
    "    print('제공하지 않는 메뉴')"
   ]
  },
  {
   "cell_type": "markdown",
   "id": "91975ac2",
   "metadata": {},
   "source": [
    "## 15.2. 퀴즈"
   ]
  },
  {
   "cell_type": "markdown",
   "id": "1a42c733",
   "metadata": {},
   "source": [
    "## 15.3. 연습문제"
   ]
  },
  {
   "cell_type": "code",
   "execution_count": 6,
   "id": "8500d6bd",
   "metadata": {},
   "outputs": [
    {
     "name": "stdout",
     "output_type": "stream",
     "text": [
      "35\n",
      "7750\n"
     ]
    }
   ],
   "source": [
    "x = int(input())\n",
    "balance = 9000\n",
    "if x>=19:\n",
    "    print(balance-1250)\n",
    "elif 13<=x<=18:\n",
    "    print(balance-1050)\n",
    "elif 7<=x<=12:\n",
    "    print(balance-650)"
   ]
  },
  {
   "cell_type": "markdown",
   "id": "e74b1331",
   "metadata": {},
   "source": [
    "## 15.4*. 직접 만든 문제"
   ]
  },
  {
   "cell_type": "markdown",
   "id": "c849970d",
   "metadata": {},
   "source": [
    "## 15.5*. 퍼실님이 만드신 문제"
   ]
  },
  {
   "cell_type": "markdown",
   "id": "08e4377b",
   "metadata": {},
   "source": [
    "#### 아이유의 만 나이 계산하기\n",
    "|출생월|출생년|계산법|\n",
    "|:------:|:---:|:---|\n",
    "|8월이전|·|현재년-출생년|\n",
    "|8월|25일 이전|현재년-출생년|\n",
    "|8월|26일 이후|현재년-출생년-1|\n",
    "|8월 이후|·|현재년-출생년-1|"
   ]
  },
  {
   "cell_type": "code",
   "execution_count": 26,
   "id": "cc195f12",
   "metadata": {},
   "outputs": [
    {
     "name": "stdout",
     "output_type": "stream",
     "text": [
      "2022 8 25\n",
      "오늘의 날짜는 2022년 8월 25일 입니다.\n",
      "아이유의 생일은 1993년 5월 16일 입니다.\n",
      "아이유의 만 나이는 29입니다.\n",
      "유재석의 생일은 1972년 8월 14일 입니다.\n",
      "유재석의 만 나이는 50입니다.\n",
      "박명수의 생일은 1970년 8월 27일 입니다.\n",
      "박명수의 만 나이는 51입니다.\n",
      "강다니엘의 생일은 1996년 12월 10일 입니다.\n",
      "강다니엘의 만 나이는 25입니다.\n"
     ]
    }
   ],
   "source": [
    "now_year, now_month, now_day = map(int,input().split())\n",
    "# #입력\n",
    "# now_year = 2022\n",
    "# now_month = 8\n",
    "# now_day = 25\n",
    "\n",
    "#기존에 정의해야 함\n",
    "iu_year = 1993\n",
    "iu_month = 5\n",
    "iu_day = 16\n",
    "\n",
    "yoo_year = 1972\n",
    "yoo_month = 8\n",
    "yoo_day = 14\n",
    "\n",
    "park_year = 1970\n",
    "park_month = 8\n",
    "park_day = 27\n",
    "\n",
    "kang_year = 1996\n",
    "kang_month = 12\n",
    "kang_day = 10\n",
    "\n",
    "iu_age = now_year-iu_year\n",
    "if iu_month < 8:\n",
    "    iu_full_age = iu_age\n",
    "elif iu_month==8:\n",
    "    if iu_day<=25:\n",
    "        iu_full_age = iu_age\n",
    "    else:\n",
    "        iu_full_age = iu_age-1\n",
    "else:\n",
    "    iu_full_age = iu_age-1\n",
    "\n",
    "yoo_age = now_year-yoo_year\n",
    "if yoo_month < 8:\n",
    "    yoo_full_age = yoo_age\n",
    "elif yoo_month==8:\n",
    "    if yoo_day<=25:\n",
    "        yoo_full_age = yoo_age\n",
    "    else:\n",
    "        yoo_full_age = yoo_age-1\n",
    "else:\n",
    "    iu_full_age = iu_age-1\n",
    "\n",
    "park_age = now_year-park_year\n",
    "if park_month < 8:\n",
    "    park_full_age = park_age\n",
    "elif park_month==8:\n",
    "    if park_day<=25:\n",
    "        park_full_age = park_age\n",
    "    else:\n",
    "        park_full_age = park_age-1\n",
    "else:\n",
    "    park_full_age = park_age-1\n",
    "\n",
    "kang_age = now_year-kang_year\n",
    "if kang_month < 8:\n",
    "    kang_full_age = kang_age\n",
    "elif kang_month==8:\n",
    "    if kang_day<=25:\n",
    "        kang_full_age = kang_age\n",
    "    else:\n",
    "        kang_full_age = kang_age-1\n",
    "else:\n",
    "    kang_full_age = kang_age-1\n",
    "    print('오늘의 날짜는 {}년 {}월 {}일 입니다.'.format(now_year,now_month,now_day))\n",
    "print('아이유의 생일은 {}년 {}월 {}일 입니다.'.format(iu_year,iu_month,iu_day))\n",
    "print('아이유의 만 나이는 {}입니다.'.format(iu_full_age))\n",
    "print('유재석의 생일은 {}년 {}월 {}일 입니다.'.format(yoo_year,yoo_month,yoo_day))\n",
    "print('유재석의 만 나이는 {}입니다.'.format(yoo_full_age))\n",
    "print('박명수의 생일은 {}년 {}월 {}일 입니다.'.format(park_year,park_month,park_day))\n",
    "print('박명수의 만 나이는 {}입니다.'.format(park_full_age))\n",
    "print('강다니엘의 생일은 {}년 {}월 {}일 입니다.'.format(kang_year,kang_month,kang_day))\n",
    "print('강다니엘의 만 나이는 {}입니다.'.format(kang_full_age))"
   ]
  },
  {
   "cell_type": "code",
   "execution_count": 5,
   "id": "305d4981",
   "metadata": {},
   "outputs": [
    {
     "name": "stdout",
     "output_type": "stream",
     "text": [
      "2022 8 24\n",
      "오늘의 날짜는 2022년 8월 24일 입니다.\n",
      "\n",
      "아이유의 생일은 1993년 5월 16일 입니다.\n",
      "아이유의 만 나이는 29입니다.\n",
      "\n",
      "유재석의 생일은 1972년 8월 14일 입니다.\n",
      "유재석의 만 나이는 50입니다.\n",
      "\n",
      "박명수의 생일은 1970년 8월 27일 입니다.\n",
      "박명수의 만 나이는 51입니다.\n",
      "\n",
      "강다니엘의 생일은 1996년 12월 10일 입니다.\n",
      "강다니엘의 만 나이는 25입니다.\n"
     ]
    }
   ],
   "source": [
    "now_year, now_month, now_day = map(int,input().split())\n",
    "# #입력\n",
    "# now_year = 2022\n",
    "# now_month = 8\n",
    "# now_day = 25\n",
    "\n",
    "#차례대로 아이유 / 유재석 / 박명수 / 강다니엘\n",
    "years = [1993, 1972, 1970, 1996]\n",
    "months = [5, 8, 8, 12]\n",
    "days = [16, 14, 27, 10]\n",
    "full_ages = [0, 0, 0, 0]\n",
    "for i in range(4):\n",
    "    if months[i] < 8:\n",
    "        full_age = now_year-years[i]\n",
    "    elif months[i]==8:\n",
    "        if days[i]<=25:\n",
    "            full_age = now_year-years[i]\n",
    "        else:\n",
    "            full_age = now_year-years[i]-1\n",
    "    else:\n",
    "        full_age = now_year-years[i]-1\n",
    "    full_ages[i] = full_age\n",
    "print('오늘의 날짜는 {}년 {}월 {}일 입니다.'.format(now_year,now_month,now_day))\n",
    "print()\n",
    "print('아이유의 생일은 {}년 {}월 {}일 입니다.'.format(years[0],months[0],days[0]))\n",
    "print('아이유의 만 나이는 {}입니다.'.format(full_ages[0]))\n",
    "print()\n",
    "print('유재석의 생일은 {}년 {}월 {}일 입니다.'.format(years[1],months[1],days[1]))\n",
    "print('유재석의 만 나이는 {}입니다.'.format(full_ages[1]))\n",
    "print()\n",
    "print('박명수의 생일은 {}년 {}월 {}일 입니다.'.format(years[2],months[2],days[2]))\n",
    "print('박명수의 만 나이는 {}입니다.'.format(full_ages[2]))\n",
    "print()\n",
    "print('강다니엘의 생일은 {}년 {}월 {}일 입니다.'.format(years[3],months[3],days[3]))\n",
    "print('강다니엘의 만 나이는 {}입니다.'.format(full_ages[3]))"
   ]
  }
 ],
 "metadata": {
  "kernelspec": {
   "display_name": "Python 3 (ipykernel)",
   "language": "python",
   "name": "python3"
  },
  "language_info": {
   "codemirror_mode": {
    "name": "ipython",
    "version": 3
   },
   "file_extension": ".py",
   "mimetype": "text/x-python",
   "name": "python",
   "nbconvert_exporter": "python",
   "pygments_lexer": "ipython3",
   "version": "3.9.7"
  }
 },
 "nbformat": 4,
 "nbformat_minor": 5
}
