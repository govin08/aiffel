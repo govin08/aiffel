{
 "cells": [
  {
   "cell_type": "markdown",
   "id": "67eb563a",
   "metadata": {},
   "source": [
    "# 9. 문자열 사용하기"
   ]
  },
  {
   "cell_type": "markdown",
   "id": "4bbbe078",
   "metadata": {},
   "source": [
    "## 9.1. 문자열 사용하기"
   ]
  },
  {
   "cell_type": "code",
   "execution_count": 361,
   "id": "cf9a6c03",
   "metadata": {},
   "outputs": [
    {
     "data": {
      "text/plain": [
       "'Hello, world!'"
      ]
     },
     "execution_count": 361,
     "metadata": {},
     "output_type": "execute_result"
    }
   ],
   "source": [
    "hello = 'Hello, world!'\n",
    "hello"
   ]
  },
  {
   "cell_type": "code",
   "execution_count": 362,
   "id": "62da1477",
   "metadata": {},
   "outputs": [
    {
     "data": {
      "text/plain": [
       "'Hello, world'"
      ]
     },
     "execution_count": 362,
     "metadata": {},
     "output_type": "execute_result"
    }
   ],
   "source": [
    "hello = \"Hello, world\"\n",
    "hello"
   ]
  },
  {
   "cell_type": "code",
   "execution_count": 363,
   "id": "3be5867e",
   "metadata": {},
   "outputs": [
    {
     "ename": "SyntaxError",
     "evalue": "invalid syntax (4072323194.py, line 1)",
     "output_type": "error",
     "traceback": [
      "\u001b[0;36m  File \u001b[0;32m\"/tmp/ipykernel_174/4072323194.py\"\u001b[0;36m, line \u001b[0;32m1\u001b[0m\n\u001b[0;31m    hello = ''Hello, world!''\u001b[0m\n\u001b[0m              ^\u001b[0m\n\u001b[0;31mSyntaxError\u001b[0m\u001b[0;31m:\u001b[0m invalid syntax\n"
     ]
    }
   ],
   "source": [
    "hello = ''Hello, world!''\n",
    "hello"
   ]
  },
  {
   "cell_type": "code",
   "execution_count": 364,
   "id": "a9b7ae61",
   "metadata": {},
   "outputs": [
    {
     "ename": "SyntaxError",
     "evalue": "EOF while scanning triple-quoted string literal (4098890314.py, line 2)",
     "output_type": "error",
     "traceback": [
      "\u001b[0;36m  File \u001b[0;32m\"/tmp/ipykernel_174/4098890314.py\"\u001b[0;36m, line \u001b[0;32m2\u001b[0m\n\u001b[0;31m    hello\u001b[0m\n\u001b[0m         \n^\u001b[0m\n\u001b[0;31mSyntaxError\u001b[0m\u001b[0;31m:\u001b[0m EOF while scanning triple-quoted string literal\n"
     ]
    }
   ],
   "source": [
    "hello = \"\"\"Hello, world!\"\"\n",
    "hello"
   ]
  },
  {
   "cell_type": "code",
   "execution_count": 365,
   "id": "72d7344e",
   "metadata": {},
   "outputs": [
    {
     "data": {
      "text/plain": [
       "'Hello, world!'"
      ]
     },
     "execution_count": 365,
     "metadata": {},
     "output_type": "execute_result"
    }
   ],
   "source": [
    "hello = '''Hello, world!'''\n",
    "hello"
   ]
  },
  {
   "cell_type": "code",
   "execution_count": 366,
   "id": "90578c7f",
   "metadata": {},
   "outputs": [
    {
     "data": {
      "text/plain": [
       "'Hello, world!'"
      ]
     },
     "execution_count": 366,
     "metadata": {},
     "output_type": "execute_result"
    }
   ],
   "source": [
    "hello = \"\"\"Hello, world!\"\"\"\n",
    "hello"
   ]
  },
  {
   "cell_type": "code",
   "execution_count": 367,
   "id": "5313e3e5",
   "metadata": {},
   "outputs": [
    {
     "ename": "SyntaxError",
     "evalue": "EOL while scanning string literal (958330681.py, line 1)",
     "output_type": "error",
     "traceback": [
      "\u001b[0;36m  File \u001b[0;32m\"/tmp/ipykernel_174/958330681.py\"\u001b[0;36m, line \u001b[0;32m1\u001b[0m\n\u001b[0;31m    hello = ''''Hello, world!''''\u001b[0m\n\u001b[0m                                 ^\u001b[0m\n\u001b[0;31mSyntaxError\u001b[0m\u001b[0;31m:\u001b[0m EOL while scanning string literal\n"
     ]
    }
   ],
   "source": [
    "hello = ''''Hello, world!''''\n",
    "hello"
   ]
  },
  {
   "cell_type": "code",
   "execution_count": 368,
   "id": "c1766f3d",
   "metadata": {},
   "outputs": [
    {
     "data": {
      "text/plain": [
       "\"''Hello, world!\""
      ]
     },
     "execution_count": 368,
     "metadata": {},
     "output_type": "execute_result"
    }
   ],
   "source": [
    "hello = '''''Hello, world!'''''\n",
    "hello"
   ]
  },
  {
   "cell_type": "markdown",
   "id": "c6dc8b8c",
   "metadata": {},
   "source": [
    "작은따옴표 혹은 큰따옴표가가 홀수개이면 먹히지만, 짝수개일때는 먹히지 않는다. 가령 '''Hello, world!'''라고 적을 때에 맨 앞의 작은따옴표 세 개에서 앞의 두 개는 서로 상쇄되어 없어지는 것 같다. 그러니까 실제로는 작은따옴표가 한 개 있는 것과 같은 것이다.\n",
    "\n",
    "하지만 다음 예에서 보듯 '와 '''는 차이가 있는 것 같기도 하다."
   ]
  },
  {
   "cell_type": "markdown",
   "id": "90bd9965",
   "metadata": {},
   "source": [
    "### 9.1.1. 여러 줄로 된 문자열 사용하기."
   ]
  },
  {
   "cell_type": "code",
   "execution_count": 372,
   "id": "a0782c06",
   "metadata": {},
   "outputs": [
    {
     "name": "stdout",
     "output_type": "stream",
     "text": [
      "Hello world!\n",
      "안녕하세요.\n",
      "Python입니다.\n"
     ]
    }
   ],
   "source": [
    "hello = '''Hello world!\n",
    "안녕하세요.\n",
    "Python입니다.'''\n",
    "print(hello)"
   ]
  },
  {
   "cell_type": "code",
   "execution_count": 373,
   "id": "ff9530af",
   "metadata": {},
   "outputs": [
    {
     "data": {
      "text/plain": [
       "'Hello world!\\n안녕하세요.\\nPython입니다.'"
      ]
     },
     "execution_count": 373,
     "metadata": {},
     "output_type": "execute_result"
    }
   ],
   "source": [
    "hello = '''Hello world!\n",
    "안녕하세요.\n",
    "Python입니다.'''\n",
    "hello"
   ]
  },
  {
   "cell_type": "code",
   "execution_count": 378,
   "id": "5b9fcf86",
   "metadata": {},
   "outputs": [
    {
     "ename": "SyntaxError",
     "evalue": "EOL while scanning string literal (4150390292.py, line 1)",
     "output_type": "error",
     "traceback": [
      "\u001b[0;36m  File \u001b[0;32m\"/tmp/ipykernel_174/4150390292.py\"\u001b[0;36m, line \u001b[0;32m1\u001b[0m\n\u001b[0;31m    hello = 'Hello world!\u001b[0m\n\u001b[0m                         ^\u001b[0m\n\u001b[0;31mSyntaxError\u001b[0m\u001b[0;31m:\u001b[0m EOL while scanning string literal\n"
     ]
    }
   ],
   "source": [
    "hello = 'Hello world!\n",
    "안녕하세요.\n",
    "Python입니다.'\n",
    "print(hello)"
   ]
  },
  {
   "cell_type": "code",
   "execution_count": 379,
   "id": "ba2003db",
   "metadata": {},
   "outputs": [
    {
     "ename": "SyntaxError",
     "evalue": "invalid syntax (664608060.py, line 1)",
     "output_type": "error",
     "traceback": [
      "\u001b[0;36m  File \u001b[0;32m\"/tmp/ipykernel_174/664608060.py\"\u001b[0;36m, line \u001b[0;32m1\u001b[0m\n\u001b[0;31m    hello = ''Hello world!\u001b[0m\n\u001b[0m              ^\u001b[0m\n\u001b[0;31mSyntaxError\u001b[0m\u001b[0;31m:\u001b[0m invalid syntax\n"
     ]
    }
   ],
   "source": [
    "hello = ''Hello world!\n",
    "안녕하세요.\n",
    "Python입니다.''\n",
    "print(hello)"
   ]
  },
  {
   "cell_type": "code",
   "execution_count": 380,
   "id": "e3484f75",
   "metadata": {},
   "outputs": [
    {
     "ename": "SyntaxError",
     "evalue": "EOL while scanning string literal (423250409.py, line 3)",
     "output_type": "error",
     "traceback": [
      "\u001b[0;36m  File \u001b[0;32m\"/tmp/ipykernel_174/423250409.py\"\u001b[0;36m, line \u001b[0;32m3\u001b[0m\n\u001b[0;31m    Python입니다.''''\u001b[0m\n\u001b[0m                  \n^\u001b[0m\n\u001b[0;31mSyntaxError\u001b[0m\u001b[0;31m:\u001b[0m EOL while scanning string literal\n"
     ]
    }
   ],
   "source": [
    "hello = ''''Hello world!\n",
    "안녕하세요.\n",
    "Python입니다.''''\n",
    "print(hello)"
   ]
  },
  {
   "cell_type": "code",
   "execution_count": 381,
   "id": "1061882f",
   "metadata": {},
   "outputs": [
    {
     "name": "stdout",
     "output_type": "stream",
     "text": [
      "''Hello world!\n",
      "안녕하세요.\n",
      "Python입니다.\n"
     ]
    }
   ],
   "source": [
    "hello = '''''Hello world!\n",
    "안녕하세요.\n",
    "Python입니다.'''''\n",
    "print(hello)"
   ]
  },
  {
   "cell_type": "markdown",
   "id": "56ecf81d",
   "metadata": {},
   "source": [
    "이번에도 다섯 개는 세 개와 마찬가지로 된다. 한 개, 두 개, 네 개는 안된다."
   ]
  },
  {
   "cell_type": "code",
   "execution_count": 388,
   "id": "3f43fd04",
   "metadata": {},
   "outputs": [
    {
     "name": "stdout",
     "output_type": "stream",
     "text": [
      "Hello world!\n",
      "안녕하세요.\n",
      "Python입니다.\n"
     ]
    }
   ],
   "source": [
    "hello = \"\"\"Hello world!\n",
    "안녕하세요.\n",
    "Python입니다.\"\"\"\n",
    "print(hello)"
   ]
  },
  {
   "cell_type": "markdown",
   "id": "65cc2330",
   "metadata": {},
   "source": [
    "### 9.1.2. 문자열 안에 작은따옴표나 큰따옴표 포함하기"
   ]
  },
  {
   "cell_type": "code",
   "execution_count": 383,
   "id": "67688b00",
   "metadata": {},
   "outputs": [
    {
     "name": "stdout",
     "output_type": "stream",
     "text": [
      "Python isn't difficult\n"
     ]
    }
   ],
   "source": [
    "s = \"Python isn't difficult\"\n",
    "print(s)"
   ]
  },
  {
   "cell_type": "code",
   "execution_count": 385,
   "id": "f5e81f24",
   "metadata": {},
   "outputs": [
    {
     "name": "stdout",
     "output_type": "stream",
     "text": [
      "Python isn't difficult\n"
     ]
    }
   ],
   "source": [
    "s = 'Python isn\\'t difficult'\n",
    "print(s)"
   ]
  },
  {
   "cell_type": "code",
   "execution_count": 384,
   "id": "5c73d32c",
   "metadata": {},
   "outputs": [
    {
     "name": "stdout",
     "output_type": "stream",
     "text": [
      "He said \"Python is easy\"\n"
     ]
    }
   ],
   "source": [
    "s = 'He said \"Python is easy\"'\n",
    "print(s)"
   ]
  },
  {
   "cell_type": "code",
   "execution_count": 386,
   "id": "0a4c847f",
   "metadata": {},
   "outputs": [
    {
     "name": "stdout",
     "output_type": "stream",
     "text": [
      "He said \"Python is easy\"\n"
     ]
    }
   ],
   "source": [
    "s = \"He said \\\"Python is easy\\\"\"\n",
    "print(s)"
   ]
  },
  {
   "cell_type": "markdown",
   "id": "de8f52c2",
   "metadata": {},
   "source": [
    "## 9.2. 퀴즈"
   ]
  },
  {
   "cell_type": "markdown",
   "id": "e430aa0f",
   "metadata": {},
   "source": [
    "#### 3번 문제"
   ]
  },
  {
   "cell_type": "code",
   "execution_count": 396,
   "id": "168bdef0",
   "metadata": {},
   "outputs": [
    {
     "name": "stdout",
     "output_type": "stream",
     "text": [
      "Hello, 'Python'\n"
     ]
    }
   ],
   "source": [
    "print('Hello, \\'Python\\'')"
   ]
  },
  {
   "cell_type": "code",
   "execution_count": 397,
   "id": "24cdf268",
   "metadata": {},
   "outputs": [
    {
     "ename": "SyntaxError",
     "evalue": "invalid syntax (2109327760.py, line 1)",
     "output_type": "error",
     "traceback": [
      "\u001b[0;36m  File \u001b[0;32m\"/tmp/ipykernel_174/2109327760.py\"\u001b[0;36m, line \u001b[0;32m1\u001b[0m\n\u001b[0;31m    print('Hello, 'Python'')\u001b[0m\n\u001b[0m                   ^\u001b[0m\n\u001b[0;31mSyntaxError\u001b[0m\u001b[0;31m:\u001b[0m invalid syntax\n"
     ]
    }
   ],
   "source": [
    "print('Hello, 'Python'')"
   ]
  },
  {
   "cell_type": "code",
   "execution_count": 398,
   "id": "829b02d6",
   "metadata": {},
   "outputs": [
    {
     "name": "stdout",
     "output_type": "stream",
     "text": [
      "Hello, 'Python'\n"
     ]
    }
   ],
   "source": [
    "print(\"Hello, 'Python'\")"
   ]
  },
  {
   "cell_type": "code",
   "execution_count": 399,
   "id": "25ad5db7",
   "metadata": {},
   "outputs": [
    {
     "name": "stdout",
     "output_type": "stream",
     "text": [
      "\"Hello\", Python\n"
     ]
    }
   ],
   "source": [
    "print(\"\"\"\"Hello\", Python\"\"\")"
   ]
  },
  {
   "cell_type": "code",
   "execution_count": 400,
   "id": "9226fc19",
   "metadata": {},
   "outputs": [
    {
     "ename": "SyntaxError",
     "evalue": "invalid syntax (3245846950.py, line 1)",
     "output_type": "error",
     "traceback": [
      "\u001b[0;36m  File \u001b[0;32m\"/tmp/ipykernel_174/3245846950.py\"\u001b[0;36m, line \u001b[0;32m1\u001b[0m\n\u001b[0;31m    print(\"\"Hello\", Python\")\u001b[0m\n\u001b[0m            ^\u001b[0m\n\u001b[0;31mSyntaxError\u001b[0m\u001b[0;31m:\u001b[0m invalid syntax\n"
     ]
    }
   ],
   "source": [
    "print(\"\"Hello\", Python\")"
   ]
  },
  {
   "cell_type": "code",
   "execution_count": null,
   "id": "cabce755",
   "metadata": {},
   "outputs": [],
   "source": []
  }
 ],
 "metadata": {
  "kernelspec": {
   "display_name": "Python 3 (ipykernel)",
   "language": "python",
   "name": "python3"
  },
  "language_info": {
   "codemirror_mode": {
    "name": "ipython",
    "version": 3
   },
   "file_extension": ".py",
   "mimetype": "text/x-python",
   "name": "python",
   "nbconvert_exporter": "python",
   "pygments_lexer": "ipython3",
   "version": "3.9.7"
  }
 },
 "nbformat": 4,
 "nbformat_minor": 5
}
