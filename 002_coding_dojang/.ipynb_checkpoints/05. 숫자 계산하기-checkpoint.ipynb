{
 "cells": [
  {
   "cell_type": "markdown",
   "id": "57840191",
   "metadata": {},
   "source": [
    "# 5. 숫자 계산하기"
   ]
  },
  {
   "cell_type": "markdown",
   "id": "e060bccc",
   "metadata": {},
   "source": [
    "## 5.1. 정수 계산하기"
   ]
  },
  {
   "cell_type": "markdown",
   "id": "56462095",
   "metadata": {},
   "source": [
    "### 5.1.1 사칙연산"
   ]
  },
  {
   "cell_type": "code",
   "execution_count": 31,
   "id": "f1121c21",
   "metadata": {},
   "outputs": [
    {
     "data": {
      "text/plain": [
       "2"
      ]
     },
     "execution_count": 31,
     "metadata": {},
     "output_type": "execute_result"
    }
   ],
   "source": [
    "1+1"
   ]
  },
  {
   "cell_type": "code",
   "execution_count": 20,
   "id": "64ed9c83",
   "metadata": {},
   "outputs": [
    {
     "data": {
      "text/plain": [
       "-1"
      ]
     },
     "execution_count": 20,
     "metadata": {},
     "output_type": "execute_result"
    }
   ],
   "source": [
    "1-2"
   ]
  },
  {
   "cell_type": "code",
   "execution_count": 21,
   "id": "5d676dc7",
   "metadata": {},
   "outputs": [
    {
     "data": {
      "text/plain": [
       "4"
      ]
     },
     "execution_count": 21,
     "metadata": {},
     "output_type": "execute_result"
    }
   ],
   "source": [
    "2*2"
   ]
  },
  {
   "cell_type": "code",
   "execution_count": 22,
   "id": "2096b313",
   "metadata": {},
   "outputs": [
    {
     "data": {
      "text/plain": [
       "2.5"
      ]
     },
     "execution_count": 22,
     "metadata": {},
     "output_type": "execute_result"
    }
   ],
   "source": [
    "5/2"
   ]
  },
  {
   "cell_type": "code",
   "execution_count": 27,
   "id": "eeeef9d6",
   "metadata": {},
   "outputs": [
    {
     "data": {
      "text/plain": [
       "2.0"
      ]
     },
     "execution_count": 27,
     "metadata": {},
     "output_type": "execute_result"
    }
   ],
   "source": [
    "4/2"
   ]
  },
  {
   "cell_type": "code",
   "execution_count": 28,
   "id": "1b5c6c70",
   "metadata": {},
   "outputs": [
    {
     "name": "stdout",
     "output_type": "stream",
     "text": [
      "<class 'int'>\n",
      "<class 'float'>\n",
      "2.0\n"
     ]
    }
   ],
   "source": [
    "print(type(1+1)); print(type(5/2)) ; print(4/2)"
   ]
  },
  {
   "cell_type": "markdown",
   "id": "f38370dd",
   "metadata": {},
   "source": [
    "### 5.1.2. 정수의 나눗셈 : 몫"
   ]
  },
  {
   "cell_type": "code",
   "execution_count": 32,
   "id": "749ea664",
   "metadata": {},
   "outputs": [
    {
     "name": "stdout",
     "output_type": "stream",
     "text": [
      "2\n",
      "2\n"
     ]
    }
   ],
   "source": [
    "print(5//2)\n",
    "print(4//2)"
   ]
  },
  {
   "cell_type": "markdown",
   "id": "afcc477a",
   "metadata": {},
   "source": [
    "### 5.1.3. 정수의 나눗셈 : 나눗셈"
   ]
  },
  {
   "cell_type": "code",
   "execution_count": 33,
   "id": "6260245f",
   "metadata": {},
   "outputs": [
    {
     "name": "stdout",
     "output_type": "stream",
     "text": [
      "1\n",
      "0\n"
     ]
    }
   ],
   "source": [
    "print(5%2)\n",
    "print(4%2)"
   ]
  },
  {
   "cell_type": "code",
   "execution_count": 39,
   "id": "0ec03916",
   "metadata": {},
   "outputs": [
    {
     "name": "stdout",
     "output_type": "stream",
     "text": [
      "5를 2로 나누면 몫은  2 이고, 나머지는 1 이다.\n"
     ]
    }
   ],
   "source": [
    "print('5를 2로 나누면 몫은 ', 5//2,'이고, 나머지는',5%2,'이다.')"
   ]
  },
  {
   "cell_type": "markdown",
   "id": "87e83854",
   "metadata": {},
   "source": [
    "### 5.1.4. 거듭제곱을 구하는 ** 연산자"
   ]
  },
  {
   "cell_type": "code",
   "execution_count": 40,
   "id": "292dae00",
   "metadata": {},
   "outputs": [
    {
     "data": {
      "text/plain": [
       "1024"
      ]
     },
     "execution_count": 40,
     "metadata": {},
     "output_type": "execute_result"
    }
   ],
   "source": [
    "2**10"
   ]
  },
  {
   "cell_type": "code",
   "execution_count": 41,
   "id": "e1840183",
   "metadata": {},
   "outputs": [
    {
     "data": {
      "text/plain": [
       "20"
      ]
     },
     "execution_count": 41,
     "metadata": {},
     "output_type": "execute_result"
    }
   ],
   "source": [
    "2*10"
   ]
  },
  {
   "cell_type": "code",
   "execution_count": 53,
   "id": "b378cdaf",
   "metadata": {},
   "outputs": [
    {
     "name": "stdout",
     "output_type": "stream",
     "text": [
      "1 2 3 4 5\n",
      "2 4 6 8 10\n",
      "3 6 9 12 15\n",
      "4 8 12 16 20\n",
      "5 10 15 20 25\n"
     ]
    }
   ],
   "source": [
    "print(1*1,1*2,1*3,1*4,1*5)\n",
    "print(2*1,2*2,2*3,2*4,2*5)\n",
    "print(3*1,3*2,3*3,3*4,3*5)\n",
    "print(4*1,4*2,4*3,4*4,4*5)\n",
    "print(5*1,5*2,5*3,5*4,5*5)"
   ]
  },
  {
   "cell_type": "code",
   "execution_count": 55,
   "id": "61d25cb7",
   "metadata": {},
   "outputs": [
    {
     "name": "stdout",
     "output_type": "stream",
     "text": [
      "^는 어떤 연산이지?\n",
      "0 3 2 5 4\n",
      "3 0 1 6 7\n",
      "2 1 0 7 6\n",
      "5 6 7 0 1\n",
      "4 7 6 1 0\n"
     ]
    }
   ],
   "source": [
    "print('^는 어떤 연산이지?')\n",
    "print(1^1,1^2,1^3,1^4,1^5)\n",
    "print(2^1,2^2,2^3,2^4,2^5)\n",
    "print(3^1,3^2,3^3,3^4,3^5)\n",
    "print(4^1,4^2,4^3,4^4,4^5)\n",
    "print(5^1,5^2,5^3,5^4,5^5)"
   ]
  },
  {
   "cell_type": "markdown",
   "id": "1c9be2eb",
   "metadata": {},
   "source": [
    "### 5.1.5. 값을 정수로 만들기"
   ]
  },
  {
   "cell_type": "code",
   "execution_count": 60,
   "id": "4b210737",
   "metadata": {},
   "outputs": [
    {
     "name": "stdout",
     "output_type": "stream",
     "text": [
      "3\n",
      "<class 'int'>\n",
      "2\n",
      "<class 'int'>\n",
      "10\n",
      "<class 'int'>\n"
     ]
    }
   ],
   "source": [
    "a=3.3 ; print(int(a)) ; print(type(int(a)))\n",
    "b=5/2 ; print(int(b)) ; print(type(int(b)))\n",
    "c='10' ; print(int(c)) ; print(type(int(c)))"
   ]
  },
  {
   "cell_type": "markdown",
   "id": "4707151f",
   "metadata": {},
   "source": [
    "### 5.1.6. 객체의 자료형 알아내기"
   ]
  },
  {
   "cell_type": "code",
   "execution_count": 62,
   "id": "6e632116",
   "metadata": {},
   "outputs": [
    {
     "name": "stdout",
     "output_type": "stream",
     "text": [
      "<class 'int'>\n",
      "<class 'float'>\n",
      "<class 'str'>\n"
     ]
    }
   ],
   "source": [
    "print(type(10))\n",
    "print(type(10.1))\n",
    "print(type('10'))"
   ]
  },
  {
   "cell_type": "code",
   "execution_count": 66,
   "id": "9e238f41",
   "metadata": {},
   "outputs": [
    {
     "name": "stdout",
     "output_type": "stream",
     "text": [
      "2 1\n"
     ]
    }
   ],
   "source": [
    "quotient,remainder = divmod(5,2)\n",
    "print(quotient,remainder)"
   ]
  },
  {
   "cell_type": "markdown",
   "id": "307a8a35",
   "metadata": {},
   "source": [
    "## 5.2. 실수 계산하기"
   ]
  },
  {
   "cell_type": "code",
   "execution_count": 67,
   "id": "6ad2331e",
   "metadata": {},
   "outputs": [
    {
     "data": {
      "text/plain": [
       "5.6"
      ]
     },
     "execution_count": 67,
     "metadata": {},
     "output_type": "execute_result"
    }
   ],
   "source": [
    "3.5+2.1"
   ]
  },
  {
   "cell_type": "code",
   "execution_count": 68,
   "id": "82652ea4",
   "metadata": {},
   "outputs": [
    {
     "data": {
      "text/plain": [
       "1.5999999999999996"
      ]
     },
     "execution_count": 68,
     "metadata": {},
     "output_type": "execute_result"
    }
   ],
   "source": [
    "4.3-2.7"
   ]
  },
  {
   "cell_type": "code",
   "execution_count": 69,
   "id": "77abb86d",
   "metadata": {},
   "outputs": [
    {
     "data": {
      "text/plain": [
       "4.65"
      ]
     },
     "execution_count": 69,
     "metadata": {},
     "output_type": "execute_result"
    }
   ],
   "source": [
    "1.5*3.1"
   ]
  },
  {
   "cell_type": "code",
   "execution_count": 70,
   "id": "f8f5cc7b",
   "metadata": {},
   "outputs": [
    {
     "data": {
      "text/plain": [
       "1.7741935483870968"
      ]
     },
     "execution_count": 70,
     "metadata": {},
     "output_type": "execute_result"
    }
   ],
   "source": [
    "5.5/3.1"
   ]
  },
  {
   "cell_type": "markdown",
   "id": "4a086e96",
   "metadata": {},
   "source": [
    "### 5.2.1. 실수와 정수를 함께 계산하면?"
   ]
  },
  {
   "cell_type": "code",
   "execution_count": 71,
   "id": "98066d29",
   "metadata": {},
   "outputs": [
    {
     "data": {
      "text/plain": [
       "9.2"
      ]
     },
     "execution_count": 71,
     "metadata": {},
     "output_type": "execute_result"
    }
   ],
   "source": [
    "4.2+5"
   ]
  },
  {
   "cell_type": "markdown",
   "id": "8eb3337c",
   "metadata": {},
   "source": [
    "### 5.2.2. 값을 실수로 만들기"
   ]
  },
  {
   "cell_type": "code",
   "execution_count": 72,
   "id": "042b478a",
   "metadata": {},
   "outputs": [
    {
     "name": "stdout",
     "output_type": "stream",
     "text": [
      "5.0\n",
      "3.0\n",
      "5.3\n"
     ]
    }
   ],
   "source": [
    "print(float(5))\n",
    "print(float(1+2))\n",
    "print(float('5.3'))"
   ]
  },
  {
   "cell_type": "code",
   "execution_count": 73,
   "id": "f4ed7c7e",
   "metadata": {},
   "outputs": [
    {
     "data": {
      "text/plain": [
       "(1.2+1.3j)"
      ]
     },
     "execution_count": 73,
     "metadata": {},
     "output_type": "execute_result"
    }
   ],
   "source": [
    "1.2+1.3j"
   ]
  },
  {
   "cell_type": "markdown",
   "id": "40449750",
   "metadata": {},
   "source": [
    "## 5.3. 괄호 사용하기"
   ]
  },
  {
   "cell_type": "code",
   "execution_count": 75,
   "id": "c262938d",
   "metadata": {},
   "outputs": [
    {
     "name": "stdout",
     "output_type": "stream",
     "text": [
      "37\n",
      "72\n"
     ]
    }
   ],
   "source": [
    "print(35+1*2)\n",
    "print((35+1)*2)"
   ]
  },
  {
   "cell_type": "markdown",
   "id": "7cf6d8fc",
   "metadata": {},
   "source": [
    "## 5.4. 퀴즈"
   ]
  },
  {
   "cell_type": "markdown",
   "id": "cb405ad9",
   "metadata": {},
   "source": [
    "## 5.5. 연습문제"
   ]
  },
  {
   "cell_type": "markdown",
   "id": "c837c942",
   "metadata": {},
   "source": [
    "## 5.6 심사문제 "
   ]
  },
  {
   "cell_type": "markdown",
   "id": "f2657b95",
   "metadata": {},
   "source": [
    "## 5.7*. 스스로 만든 퀴즈"
   ]
  },
  {
   "cell_type": "markdown",
   "id": "13bb104a",
   "metadata": {},
   "source": [
    "파이썬에서"
   ]
  },
  {
   "cell_type": "code",
   "execution_count": 146,
   "id": "e4138c88",
   "metadata": {},
   "outputs": [
    {
     "data": {
      "text/plain": [
       "81"
      ]
     },
     "execution_count": 146,
     "metadata": {},
     "output_type": "execute_result"
    }
   ],
   "source": [
    "3**4"
   ]
  },
  {
   "cell_type": "markdown",
   "id": "0744b8de",
   "metadata": {},
   "source": [
    "와 같이 입력하면 3의 네제곱인 81이 출력된다.\n",
    "그런데 보통 수식 입력기에서는 지수를 정의할 때"
   ]
  },
  {
   "cell_type": "code",
   "execution_count": 265,
   "id": "58f5ce48",
   "metadata": {},
   "outputs": [
    {
     "data": {
      "text/plain": [
       "7"
      ]
     },
     "execution_count": 265,
     "metadata": {},
     "output_type": "execute_result"
    }
   ],
   "source": [
    "3^4"
   ]
  },
  {
   "cell_type": "markdown",
   "id": "f4473033",
   "metadata": {},
   "source": [
    "라고 쓴다.\n",
    "실제 파이썬에서 위의 식을 입력하면 81 대신 7이 뜬다.\n",
    "이건 무슨 연산일까?"
   ]
  }
 ],
 "metadata": {
  "kernelspec": {
   "display_name": "Python 3 (ipykernel)",
   "language": "python",
   "name": "python3"
  },
  "language_info": {
   "codemirror_mode": {
    "name": "ipython",
    "version": 3
   },
   "file_extension": ".py",
   "mimetype": "text/x-python",
   "name": "python",
   "nbconvert_exporter": "python",
   "pygments_lexer": "ipython3",
   "version": "3.9.7"
  }
 },
 "nbformat": 4,
 "nbformat_minor": 5
}
