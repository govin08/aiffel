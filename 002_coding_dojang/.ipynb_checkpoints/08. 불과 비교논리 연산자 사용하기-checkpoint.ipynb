{
 "cells": [
  {
   "cell_type": "markdown",
   "id": "c676a57d",
   "metadata": {},
   "source": [
    "# 8. 불과 비교논리 연산자 사용하기"
   ]
  },
  {
   "cell_type": "markdown",
   "id": "d3198487",
   "metadata": {},
   "source": [
    "## 8.1. 불과 비교 연산자 사용하기"
   ]
  },
  {
   "cell_type": "code",
   "execution_count": 293,
   "id": "c947734b",
   "metadata": {},
   "outputs": [
    {
     "data": {
      "text/plain": [
       "True"
      ]
     },
     "execution_count": 293,
     "metadata": {},
     "output_type": "execute_result"
    }
   ],
   "source": [
    "True"
   ]
  },
  {
   "cell_type": "code",
   "execution_count": 294,
   "id": "28014da0",
   "metadata": {},
   "outputs": [
    {
     "data": {
      "text/plain": [
       "False"
      ]
     },
     "execution_count": 294,
     "metadata": {},
     "output_type": "execute_result"
    }
   ],
   "source": [
    "False"
   ]
  },
  {
   "cell_type": "markdown",
   "id": "ac31ccf5",
   "metadata": {},
   "source": [
    "### 8.1.1. 비교 연산자의 판단 결과"
   ]
  },
  {
   "cell_type": "code",
   "execution_count": 296,
   "id": "6cd0e291",
   "metadata": {},
   "outputs": [
    {
     "data": {
      "text/plain": [
       "True"
      ]
     },
     "execution_count": 296,
     "metadata": {},
     "output_type": "execute_result"
    }
   ],
   "source": [
    "3>1"
   ]
  },
  {
   "cell_type": "code",
   "execution_count": 295,
   "id": "19347b69",
   "metadata": {},
   "outputs": [
    {
     "data": {
      "text/plain": [
       "False"
      ]
     },
     "execution_count": 295,
     "metadata": {},
     "output_type": "execute_result"
    }
   ],
   "source": [
    "1>3"
   ]
  },
  {
   "cell_type": "markdown",
   "id": "f5cc9712",
   "metadata": {},
   "source": [
    "### 8.1.2. 숫자가 같은지 다른지 비교하기"
   ]
  },
  {
   "cell_type": "code",
   "execution_count": 297,
   "id": "c67791db",
   "metadata": {},
   "outputs": [
    {
     "data": {
      "text/plain": [
       "True"
      ]
     },
     "execution_count": 297,
     "metadata": {},
     "output_type": "execute_result"
    }
   ],
   "source": [
    "10==10"
   ]
  },
  {
   "cell_type": "code",
   "execution_count": 298,
   "id": "210ab3af",
   "metadata": {},
   "outputs": [
    {
     "data": {
      "text/plain": [
       "True"
      ]
     },
     "execution_count": 298,
     "metadata": {},
     "output_type": "execute_result"
    }
   ],
   "source": [
    "10!=5"
   ]
  },
  {
   "cell_type": "markdown",
   "id": "24e713b2",
   "metadata": {},
   "source": [
    "### 8.1.3. 문자열이 같은지 다른지 비교하기"
   ]
  },
  {
   "cell_type": "code",
   "execution_count": 301,
   "id": "686ea240",
   "metadata": {},
   "outputs": [
    {
     "data": {
      "text/plain": [
       "True"
      ]
     },
     "execution_count": 301,
     "metadata": {},
     "output_type": "execute_result"
    }
   ],
   "source": [
    "'Python' == 'Python'"
   ]
  },
  {
   "cell_type": "code",
   "execution_count": 303,
   "id": "52714044",
   "metadata": {},
   "outputs": [
    {
     "data": {
      "text/plain": [
       "False"
      ]
     },
     "execution_count": 303,
     "metadata": {},
     "output_type": "execute_result"
    }
   ],
   "source": [
    "'Python' == 'python'"
   ]
  },
  {
   "cell_type": "markdown",
   "id": "9d381b21",
   "metadata": {},
   "source": [
    "### 8.1.4. 부등호 사용하기"
   ]
  },
  {
   "cell_type": "code",
   "execution_count": 304,
   "id": "67d569ee",
   "metadata": {},
   "outputs": [
    {
     "data": {
      "text/plain": [
       "False"
      ]
     },
     "execution_count": 304,
     "metadata": {},
     "output_type": "execute_result"
    }
   ],
   "source": [
    "10>20"
   ]
  },
  {
   "cell_type": "markdown",
   "id": "fe5866bd",
   "metadata": {},
   "source": [
    "### 8.1.5. 객체가 같은지 다른지 비교하기"
   ]
  },
  {
   "cell_type": "code",
   "execution_count": 305,
   "id": "0f1dd1f6",
   "metadata": {},
   "outputs": [
    {
     "data": {
      "text/plain": [
       "True"
      ]
     },
     "execution_count": 305,
     "metadata": {},
     "output_type": "execute_result"
    }
   ],
   "source": [
    "1==1.0"
   ]
  },
  {
   "cell_type": "markdown",
   "id": "1a37cc15",
   "metadata": {},
   "source": [
    ">1과 1.0은 정수와 실수라는 차이점이 있지만 값은 같다."
   ]
  },
  {
   "cell_type": "code",
   "execution_count": 306,
   "id": "eaffb629",
   "metadata": {},
   "outputs": [
    {
     "name": "stderr",
     "output_type": "stream",
     "text": [
      "<>:1: SyntaxWarning: \"is\" with a literal. Did you mean \"==\"?\n",
      "<>:1: SyntaxWarning: \"is\" with a literal. Did you mean \"==\"?\n",
      "/tmp/ipykernel_174/3336455986.py:1: SyntaxWarning: \"is\" with a literal. Did you mean \"==\"?\n",
      "  1 is 1.0\n"
     ]
    },
    {
     "data": {
      "text/plain": [
       "False"
      ]
     },
     "execution_count": 306,
     "metadata": {},
     "output_type": "execute_result"
    }
   ],
   "source": [
    "1 is 1.0"
   ]
  },
  {
   "cell_type": "markdown",
   "id": "249440d6",
   "metadata": {},
   "source": [
    ">1과 1.0은 각각 정수 객체, 실수 객체이므로 객체로서는 서로 다르다."
   ]
  },
  {
   "cell_type": "code",
   "execution_count": 309,
   "id": "df1a7843",
   "metadata": {},
   "outputs": [
    {
     "name": "stdout",
     "output_type": "stream",
     "text": [
      "140467712256304\n",
      "140467644419856\n"
     ]
    }
   ],
   "source": [
    "print(id(1),id(1.0),sep='\\n')"
   ]
  },
  {
   "cell_type": "markdown",
   "id": "7e1b1b12",
   "metadata": {},
   "source": [
    "## 8.2. 논리 연산자 사용하기"
   ]
  },
  {
   "cell_type": "markdown",
   "id": "96044af6",
   "metadata": {},
   "source": [
    "### 8.2.1. 논리 연산자와 비교 연산자를 함께 사용하기"
   ]
  },
  {
   "cell_type": "code",
   "execution_count": 315,
   "id": "793e58fe",
   "metadata": {},
   "outputs": [
    {
     "name": "stdout",
     "output_type": "stream",
     "text": [
      "False\n",
      "True\n",
      "True\n",
      "True\n",
      "False\n",
      "False\n"
     ]
    }
   ],
   "source": [
    "print(bool(0))\n",
    "print(bool(1))\n",
    "print(bool(2))\n",
    "print(bool(3))\n",
    "print(bool(0.0))\n",
    "print(bool(0.00))"
   ]
  },
  {
   "cell_type": "markdown",
   "id": "300edcdc",
   "metadata": {},
   "source": [
    "$$\\text{bool}(x)=\\begin{cases}\n",
    "\\text{'False'}&(x==0)\\\\\n",
    "\\text{'True'}&(\\text{otherwise})\n",
    "\\end{cases}$$"
   ]
  },
  {
   "cell_type": "markdown",
   "id": "6f5a8934",
   "metadata": {},
   "source": [
    "> 문자열 'Python'도 불로 따지면 True라서 True and True가 되어 True가 나올 것 같지만 'Python'이 나왔습니다. 왜냐하면 파이썬에서 논리 연산자는 마지막으로 단락 평가를 실시한 값을 그대로 반환하기 때문입니다. 따라서 논리 연산자는 무조건 불을 반환하지 않습니다."
   ]
  },
  {
   "cell_type": "code",
   "execution_count": 326,
   "id": "db0d58a3",
   "metadata": {},
   "outputs": [
    {
     "data": {
      "text/plain": [
       "'Python'"
      ]
     },
     "execution_count": 326,
     "metadata": {},
     "output_type": "execute_result"
    }
   ],
   "source": [
    "True and 'Python'"
   ]
  },
  {
   "cell_type": "markdown",
   "id": "7158819c",
   "metadata": {},
   "source": [
    "마지막으로 단락평가를 실시한 값이 'Python'이므로 'Python'이 출력된다."
   ]
  },
  {
   "cell_type": "code",
   "execution_count": 327,
   "id": "9659cd32",
   "metadata": {},
   "outputs": [
    {
     "data": {
      "text/plain": [
       "True"
      ]
     },
     "execution_count": 327,
     "metadata": {},
     "output_type": "execute_result"
    }
   ],
   "source": [
    "True or 'Python'"
   ]
  },
  {
   "cell_type": "markdown",
   "id": "98830280",
   "metadata": {},
   "source": [
    "\"True or\"에서 이미 boolean 값이 True로 결정된다."
   ]
  },
  {
   "cell_type": "code",
   "execution_count": 336,
   "id": "b4d6cf76",
   "metadata": {},
   "outputs": [
    {
     "data": {
      "text/plain": [
       "True"
      ]
     },
     "execution_count": 336,
     "metadata": {},
     "output_type": "execute_result"
    }
   ],
   "source": [
    "'Python' and True"
   ]
  },
  {
   "cell_type": "markdown",
   "id": "dde03094",
   "metadata": {},
   "source": [
    "마지막으로 단락평가를 실시한 값이 True이므로 True가 출력된다."
   ]
  },
  {
   "cell_type": "code",
   "execution_count": 330,
   "id": "a065efe6",
   "metadata": {},
   "outputs": [
    {
     "data": {
      "text/plain": [
       "'Python'"
      ]
     },
     "execution_count": 330,
     "metadata": {},
     "output_type": "execute_result"
    }
   ],
   "source": [
    "'Python' or True"
   ]
  },
  {
   "cell_type": "markdown",
   "id": "f2ed4f61",
   "metadata": {},
   "source": [
    "\"or True\"에서 이미 boolean 값이 True로 결정된다."
   ]
  },
  {
   "cell_type": "code",
   "execution_count": 332,
   "id": "9f5a5f89",
   "metadata": {},
   "outputs": [
    {
     "data": {
      "text/plain": [
       "False"
      ]
     },
     "execution_count": 332,
     "metadata": {},
     "output_type": "execute_result"
    }
   ],
   "source": [
    "False and 'Python'"
   ]
  },
  {
   "cell_type": "markdown",
   "id": "249931f3",
   "metadata": {},
   "source": [
    "\"False and\"에서 이미 boolean 값이 False로 결정된다."
   ]
  },
  {
   "cell_type": "code",
   "execution_count": 333,
   "id": "615379ae",
   "metadata": {},
   "outputs": [
    {
     "data": {
      "text/plain": [
       "'Python'"
      ]
     },
     "execution_count": 333,
     "metadata": {},
     "output_type": "execute_result"
    }
   ],
   "source": [
    "False or 'Python'"
   ]
  },
  {
   "cell_type": "markdown",
   "id": "22c8174a",
   "metadata": {},
   "source": [
    "마지막으로 단락평가를 실시한 값이 'Python'이므로 'Python'이 출력된다."
   ]
  },
  {
   "cell_type": "code",
   "execution_count": 334,
   "id": "8177e25d",
   "metadata": {},
   "outputs": [
    {
     "data": {
      "text/plain": [
       "False"
      ]
     },
     "execution_count": 334,
     "metadata": {},
     "output_type": "execute_result"
    }
   ],
   "source": [
    "'Python' and False"
   ]
  },
  {
   "cell_type": "markdown",
   "id": "cd2195c3",
   "metadata": {},
   "source": [
    "\"and False\"에서 이미 boolean 값이 False로 결정된다."
   ]
  },
  {
   "cell_type": "code",
   "execution_count": 337,
   "id": "ee03d38e",
   "metadata": {},
   "outputs": [
    {
     "data": {
      "text/plain": [
       "'Python'"
      ]
     },
     "execution_count": 337,
     "metadata": {},
     "output_type": "execute_result"
    }
   ],
   "source": [
    "'Python' or False"
   ]
  },
  {
   "cell_type": "markdown",
   "id": "86e1d591",
   "metadata": {},
   "source": [
    "★★★★★★ 이건 뭐지?\n",
    "\n",
    "가설 : A or B는 $max\\{A,B\\}$의 의미이다.\n",
    "예를 들어\n",
    "\n",
    "True or True = max{1,1}=1=True\n",
    "\n",
    "True or False = max{1,0}=1=True\n",
    "\n",
    "False or True = max{0,1}=1=True\n",
    "\n",
    "False or False = max{0,0}=0=False\n",
    "\n",
    "그런데 임의의 문자열 x에 대하여 x\\ge0이다. 따라서\n",
    "\n",
    "'Python' or False = max{x,0}=x='Python'\n",
    "\n",
    "이다. 즉 A or B = $\\max\\{A, B\\}$, A and B = $\\min\\{A, B\\}$라는 것인데, 이 가설은 $(A,B)\\in\\{0,1\\}^2$인 경우에는 참이다. 하지만 다른 경우에는 예외가 있다. $0\\le\\text{'Python'}\\le1$로 가정하고 생각해봤을 때, \n",
    "\n",
    "'Python' and True = True\n",
    "\n",
    "인 것이 설명되지 않는다.\n",
    "\n",
    "'Python' and True = $\\min\\{\\text{'Python'}, 1\\}$='Python' 이어야 할 것 같기 떄문이다."
   ]
  },
  {
   "cell_type": "code",
   "execution_count": 321,
   "id": "f61978f4",
   "metadata": {},
   "outputs": [
    {
     "data": {
      "text/plain": [
       "10"
      ]
     },
     "execution_count": 321,
     "metadata": {},
     "output_type": "execute_result"
    }
   ],
   "source": [
    "True and 10"
   ]
  },
  {
   "cell_type": "code",
   "execution_count": 338,
   "id": "d7738667",
   "metadata": {},
   "outputs": [
    {
     "data": {
      "text/plain": [
       "True"
      ]
     },
     "execution_count": 338,
     "metadata": {},
     "output_type": "execute_result"
    }
   ],
   "source": [
    "True or 10"
   ]
  },
  {
   "cell_type": "code",
   "execution_count": 340,
   "id": "207d3c0f",
   "metadata": {},
   "outputs": [
    {
     "data": {
      "text/plain": [
       "True"
      ]
     },
     "execution_count": 340,
     "metadata": {},
     "output_type": "execute_result"
    }
   ],
   "source": [
    "10 and True"
   ]
  },
  {
   "cell_type": "code",
   "execution_count": 341,
   "id": "615a8ab7",
   "metadata": {},
   "outputs": [
    {
     "data": {
      "text/plain": [
       "10"
      ]
     },
     "execution_count": 341,
     "metadata": {},
     "output_type": "execute_result"
    }
   ],
   "source": [
    "10 or True"
   ]
  },
  {
   "cell_type": "code",
   "execution_count": 342,
   "id": "0e7adfd6",
   "metadata": {},
   "outputs": [
    {
     "data": {
      "text/plain": [
       "False"
      ]
     },
     "execution_count": 342,
     "metadata": {},
     "output_type": "execute_result"
    }
   ],
   "source": [
    "False and 10"
   ]
  },
  {
   "cell_type": "code",
   "execution_count": 343,
   "id": "a36479e1",
   "metadata": {},
   "outputs": [
    {
     "data": {
      "text/plain": [
       "10"
      ]
     },
     "execution_count": 343,
     "metadata": {},
     "output_type": "execute_result"
    }
   ],
   "source": [
    "False or 10"
   ]
  },
  {
   "cell_type": "code",
   "execution_count": 344,
   "id": "81dc9f99",
   "metadata": {},
   "outputs": [
    {
     "data": {
      "text/plain": [
       "False"
      ]
     },
     "execution_count": 344,
     "metadata": {},
     "output_type": "execute_result"
    }
   ],
   "source": [
    "10 and False"
   ]
  },
  {
   "cell_type": "code",
   "execution_count": 345,
   "id": "5c8b776e",
   "metadata": {},
   "outputs": [
    {
     "data": {
      "text/plain": [
       "10"
      ]
     },
     "execution_count": 345,
     "metadata": {},
     "output_type": "execute_result"
    }
   ],
   "source": [
    "10 or False"
   ]
  },
  {
   "cell_type": "markdown",
   "id": "ad59d41f",
   "metadata": {},
   "source": [
    "'Python'을 10으로 대체했을 때에도 결과가 완전히 같다."
   ]
  },
  {
   "cell_type": "code",
   "execution_count": 339,
   "id": "9549e20b",
   "metadata": {
    "scrolled": true
   },
   "outputs": [
    {
     "data": {
      "text/plain": [
       "3"
      ]
     },
     "execution_count": 339,
     "metadata": {},
     "output_type": "execute_result"
    }
   ],
   "source": [
    "True+2"
   ]
  },
  {
   "cell_type": "markdown",
   "id": "17ec90a3",
   "metadata": {},
   "source": [
    "True는 숫자 1로도 동작한다."
   ]
  },
  {
   "cell_type": "code",
   "execution_count": 323,
   "id": "30e22760",
   "metadata": {},
   "outputs": [
    {
     "name": "stdout",
     "output_type": "stream",
     "text": [
      "<class 'bool'>\n"
     ]
    }
   ],
   "source": [
    "print(type(True))"
   ]
  },
  {
   "cell_type": "code",
   "execution_count": 324,
   "id": "b2a6d61d",
   "metadata": {},
   "outputs": [
    {
     "data": {
      "text/plain": [
       "'Python'"
      ]
     },
     "execution_count": 324,
     "metadata": {},
     "output_type": "execute_result"
    }
   ],
   "source": [
    "True and 'Python'"
   ]
  },
  {
   "cell_type": "markdown",
   "id": "3a2548d7",
   "metadata": {},
   "source": [
    "## 8.3. 퀴즈"
   ]
  },
  {
   "cell_type": "markdown",
   "id": "51d516a7",
   "metadata": {},
   "source": [
    "#### 2번 문제"
   ]
  },
  {
   "cell_type": "code",
   "execution_count": 346,
   "id": "709643c8",
   "metadata": {},
   "outputs": [
    {
     "data": {
      "text/plain": [
       "True"
      ]
     },
     "execution_count": 346,
     "metadata": {},
     "output_type": "execute_result"
    }
   ],
   "source": [
    "6==2*3"
   ]
  },
  {
   "cell_type": "code",
   "execution_count": 347,
   "id": "43c54106",
   "metadata": {},
   "outputs": [
    {
     "name": "stderr",
     "output_type": "stream",
     "text": [
      "<>:1: SyntaxWarning: \"is\" with a literal. Did you mean \"==\"?\n",
      "<>:1: SyntaxWarning: \"is\" with a literal. Did you mean \"==\"?\n",
      "/tmp/ipykernel_174/1350344336.py:1: SyntaxWarning: \"is\" with a literal. Did you mean \"==\"?\n",
      "  6 is 2*3\n"
     ]
    },
    {
     "data": {
      "text/plain": [
       "True"
      ]
     },
     "execution_count": 347,
     "metadata": {},
     "output_type": "execute_result"
    }
   ],
   "source": [
    "6 is 2*3"
   ]
  },
  {
   "cell_type": "code",
   "execution_count": 348,
   "id": "ea4f112b",
   "metadata": {},
   "outputs": [
    {
     "name": "stdout",
     "output_type": "stream",
     "text": [
      "<class 'int'>\n"
     ]
    }
   ],
   "source": [
    "print(type(2*3))"
   ]
  },
  {
   "cell_type": "markdown",
   "id": "a04d8c51",
   "metadata": {},
   "source": [
    "#### 3번 문제"
   ]
  },
  {
   "cell_type": "code",
   "execution_count": 349,
   "id": "308bad23",
   "metadata": {},
   "outputs": [
    {
     "ename": "SyntaxError",
     "evalue": "cannot assign to operator (4282741320.py, line 1)",
     "output_type": "error",
     "traceback": [
      "\u001b[0;36m  File \u001b[0;32m\"/tmp/ipykernel_174/4282741320.py\"\u001b[0;36m, line \u001b[0;32m1\u001b[0m\n\u001b[0;31m    a=10 or b=10\u001b[0m\n\u001b[0m      ^\u001b[0m\n\u001b[0;31mSyntaxError\u001b[0m\u001b[0;31m:\u001b[0m cannot assign to operator\n"
     ]
    }
   ],
   "source": [
    "a=10 or b=10"
   ]
  },
  {
   "cell_type": "code",
   "execution_count": 350,
   "id": "f2438b5d",
   "metadata": {},
   "outputs": [
    {
     "ename": "SyntaxError",
     "evalue": "cannot assign to operator (2165501183.py, line 1)",
     "output_type": "error",
     "traceback": [
      "\u001b[0;36m  File \u001b[0;32m\"/tmp/ipykernel_174/2165501183.py\"\u001b[0;36m, line \u001b[0;32m1\u001b[0m\n\u001b[0;31m    True or b=10\u001b[0m\n\u001b[0m    ^\u001b[0m\n\u001b[0;31mSyntaxError\u001b[0m\u001b[0;31m:\u001b[0m cannot assign to operator\n"
     ]
    }
   ],
   "source": [
    "True or b=10"
   ]
  },
  {
   "cell_type": "code",
   "execution_count": 351,
   "id": "ac542411",
   "metadata": {},
   "outputs": [
    {
     "data": {
      "text/plain": [
       "True"
      ]
     },
     "execution_count": 351,
     "metadata": {},
     "output_type": "execute_result"
    }
   ],
   "source": [
    "True or b"
   ]
  },
  {
   "cell_type": "markdown",
   "id": "fb15e6bc",
   "metadata": {},
   "source": [
    "## 8.4. 연습문제 : 합격 여부 출력하기"
   ]
  },
  {
   "cell_type": "code",
   "execution_count": 353,
   "id": "f8e15ca1",
   "metadata": {},
   "outputs": [
    {
     "name": "stdout",
     "output_type": "stream",
     "text": [
      "100 100 100 50\n",
      "False\n"
     ]
    }
   ],
   "source": [
    "a,b,c,d = map(int,input().split())\n",
    "print(a >= 90 and b > 80 and c > 85 and d >=80)"
   ]
  }
 ],
 "metadata": {
  "kernelspec": {
   "display_name": "Python 3 (ipykernel)",
   "language": "python",
   "name": "python3"
  },
  "language_info": {
   "codemirror_mode": {
    "name": "ipython",
    "version": 3
   },
   "file_extension": ".py",
   "mimetype": "text/x-python",
   "name": "python",
   "nbconvert_exporter": "python",
   "pygments_lexer": "ipython3",
   "version": "3.9.7"
  }
 },
 "nbformat": 4,
 "nbformat_minor": 5
}
