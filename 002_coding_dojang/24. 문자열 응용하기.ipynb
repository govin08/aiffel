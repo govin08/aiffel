{
 "cells": [
  {
   "cell_type": "markdown",
   "id": "b05a6aef",
   "metadata": {},
   "source": [
    "# 24. 문자열 응용하기"
   ]
  },
  {
   "cell_type": "markdown",
   "id": "aed9289d",
   "metadata": {},
   "source": [
    "- string\n",
    "- `str`"
   ]
  },
  {
   "cell_type": "markdown",
   "id": "5f5cf36e",
   "metadata": {},
   "source": [
    "## 24.1. 문자열 조작하기"
   ]
  },
  {
   "cell_type": "markdown",
   "id": "02ac7b07",
   "metadata": {},
   "source": [
    "문자열과 관련한 여러 매서드들이 있다.\n",
    "\n",
    "|매서드|설명|문법|반환|분류|비고|\n",
    "|:-:|:-:|:-:|:-:|:-:|:-:|\n",
    "|`replace`|문자열을 바꾼다.|*str*.`replace`(*str*,*str*)|*str*|*str*의 _method_||\n",
    "|`maketrans`|translation을 하나 만든다.|<font color=green>**str**</font>.`maketrnas`(*str*,*str*)|*dict*|*type*의 _method_||\n",
    "|`translate`|translation을 적용한다.|*str*.`translate`(name)|*str*|*str*의 _method_||\n",
    "|`split`|공백을 기준으로 문자열을 분리하여 리스트를 만든다.|*str*.`split`()|*list*|*str*의 _method_|공백->특정문자열|\n",
    "|`join`|구분자 문자열과 문자열 리스트의 요소들을 연결하여 문자열로 만든다.|*str*.`join`(*list*)|*str*|*str*의 _method_||\n",
    "|`upper`|모든 소문자를 대문자로 바군다.|*str*.`upper`()|*str*|*str*의 _method_||\n",
    "|`lower`|모든 대문자를 소문자로 바꾼다.|*str*.`lower`()|*str*|*str*의 _method_||\n",
    "|`lstrip`|왼쪽 공백을 삭제한다.|*str*.ll`lstrip`()|*str*|*str*의 _method_|공백->특정문자열|\n",
    "|`rstrip`|오른쪽 공백을 삭제한다.|*str*.`rstrip`()|*str*|*str*의 _method_|공백->특정문자열|\n",
    "|`strip`|모든 공백을 삭제한다.|*str*.l`strip`()|*str*|*str*의 _method_|공백->특정문자열|\n",
    "|`ljust`|주어진 문자열을 왼쪽 정렬하고 나머지는 공백으로 채운다.|*str*.`ljust`(*int*) |*str*|*str*의 _method_||\n",
    "|`rjust`|주어진 문자열을 오른쪽 정렬하고 나머지는 공백으로 채운다.|*str*.`rjust`(*int*) |*str*|*str*의 _method_||\n",
    "|`center`|주어진 문자열을 가운데 정렬하고 나머지는 공백으로 채운다.|*str*.`center`(*int*) |*str*|*str*의 _method_||\n",
    "|`zfill`|주어진 문자열을 왼쪽 정렬하고 나머지는 공백으로 채운다.|*str*.`zfill`(*int*) |*str*|*str*의 _method_||\n",
    "|`find`(*str*), `index`(*str*)|해당 문자열 안에 특정 문자열의 위치를 (왼쪽부터) 찾는다.|*str*.`find`(*str*)|*int*|*str*의 _method_||\n",
    "|`rfind`(*str*), `rindex`(*str*)|해당 문자열 안에 특정 문자열의 위치를 (오른쪽부터) 찾는다.|*str*.`rfind`(*str*)|*int*|*str*의 _method_||\n",
    "|`count`(*str*)|해당 문자열 안에 특정 문자열의 개수를 센다.|*str*.`count`(*str*)|*int*|*str*의 _method_||"
   ]
  },
  {
   "cell_type": "markdown",
   "id": "b5ad8d7a",
   "metadata": {},
   "source": [
    "### 24.1.1 문자열 바꾸기"
   ]
  },
  {
   "cell_type": "markdown",
   "id": "a75a9af6",
   "metadata": {},
   "source": [
    "`replace` : 문자열을 바꾼다."
   ]
  },
  {
   "cell_type": "code",
   "execution_count": 1,
   "id": "08b1fed6",
   "metadata": {},
   "outputs": [
    {
     "data": {
      "text/plain": [
       "'Hello, python!'"
      ]
     },
     "execution_count": 1,
     "metadata": {},
     "output_type": "execute_result"
    }
   ],
   "source": [
    "'Hello, world!'.replace('world','python')"
   ]
  },
  {
   "cell_type": "code",
   "execution_count": 21,
   "id": "1bad5b9d",
   "metadata": {},
   "outputs": [
    {
     "name": "stdout",
     "output_type": "stream",
     "text": [
      "Hello world!\n"
     ]
    }
   ],
   "source": [
    "s = 'Hello world!'\n",
    "s.replace('world','python')\n",
    "print(s)"
   ]
  },
  {
   "cell_type": "code",
   "execution_count": 26,
   "id": "06221bf9",
   "metadata": {},
   "outputs": [
    {
     "name": "stdout",
     "output_type": "stream",
     "text": [
      "<method 'replace' of 'str' objects>\n",
      "<class 'method_descriptor'>\n"
     ]
    }
   ],
   "source": [
    "print(str.replace)\n",
    "print(type(str.replace))"
   ]
  },
  {
   "cell_type": "markdown",
   "id": "c8dd8410",
   "metadata": {},
   "source": [
    "### 24.1.2. 문자 바꾸기"
   ]
  },
  {
   "cell_type": "markdown",
   "id": "cab02cfc",
   "metadata": {},
   "source": [
    "- `maketrans` : translation을 하나 만든다.\n",
    "- `translate` : translation을 적용한다."
   ]
  },
  {
   "cell_type": "code",
   "execution_count": 20,
   "id": "fed9add9",
   "metadata": {},
   "outputs": [
    {
     "data": {
      "text/plain": [
       "'1ppl2'"
      ]
     },
     "execution_count": 20,
     "metadata": {},
     "output_type": "execute_result"
    }
   ],
   "source": [
    "table = str.maketrans('aeiou','12345')\n",
    "'apple'.translate(table)"
   ]
  },
  {
   "cell_type": "code",
   "execution_count": 15,
   "id": "3b9e5678",
   "metadata": {},
   "outputs": [
    {
     "name": "stdout",
     "output_type": "stream",
     "text": [
      "{97: 49, 101: 50, 105: 51, 111: 52, 117: 53}\n",
      "<class 'dict'>\n"
     ]
    }
   ],
   "source": [
    "print(table)\n",
    "print(type(table))"
   ]
  },
  {
   "cell_type": "markdown",
   "id": "e1bc0db0",
   "metadata": {},
   "source": [
    "<font color=red> 이건 어떤 딕셔너리지? </font>"
   ]
  },
  {
   "cell_type": "code",
   "execution_count": 16,
   "id": "668d2a3e",
   "metadata": {},
   "outputs": [
    {
     "name": "stdout",
     "output_type": "stream",
     "text": [
      "<class 'str'>\n",
      "<class 'type'>\n"
     ]
    }
   ],
   "source": [
    "print(str)\n",
    "print(type(str))"
   ]
  },
  {
   "cell_type": "code",
   "execution_count": 17,
   "id": "a5416fb9",
   "metadata": {},
   "outputs": [
    {
     "name": "stdout",
     "output_type": "stream",
     "text": [
      "<built-in method maketrans of type object at 0x55bd81591d40>\n",
      "<class 'builtin_function_or_method'>\n"
     ]
    }
   ],
   "source": [
    "print(str.maketrans)\n",
    "print(type(str.maketrans))"
   ]
  },
  {
   "cell_type": "code",
   "execution_count": 18,
   "id": "e5d2680d",
   "metadata": {},
   "outputs": [
    {
     "name": "stdout",
     "output_type": "stream",
     "text": [
      "<method 'translate' of 'str' objects>\n",
      "<class 'method_descriptor'>\n"
     ]
    }
   ],
   "source": [
    "print(str.translate)\n",
    "print(type(str.translate))"
   ]
  },
  {
   "cell_type": "code",
   "execution_count": 19,
   "id": "42da4c97",
   "metadata": {},
   "outputs": [
    {
     "data": {
      "text/plain": [
       "'1ppl2'"
      ]
     },
     "execution_count": 19,
     "metadata": {},
     "output_type": "execute_result"
    }
   ],
   "source": [
    "# 한줄에 시행해보기\n",
    "'apple'.translate(str.maketrans('aeiou','12345'))"
   ]
  },
  {
   "cell_type": "markdown",
   "id": "e617746b",
   "metadata": {},
   "source": [
    "### 24.1.3. 문자열 분리하기"
   ]
  },
  {
   "cell_type": "markdown",
   "id": "91e7ab04",
   "metadata": {},
   "source": [
    "`split` : 공백을 기준으로 문자열을 분리하여 리스트를 만든다."
   ]
  },
  {
   "cell_type": "code",
   "execution_count": 23,
   "id": "898e9527",
   "metadata": {},
   "outputs": [
    {
     "data": {
      "text/plain": [
       "['apple', 'pear', 'grape', 'pineapple', 'orange']"
      ]
     },
     "execution_count": 23,
     "metadata": {},
     "output_type": "execute_result"
    }
   ],
   "source": [
    "'apple pear grape pineapple orange'.split()"
   ]
  },
  {
   "cell_type": "code",
   "execution_count": 29,
   "id": "b5f15131",
   "metadata": {},
   "outputs": [
    {
     "name": "stdout",
     "output_type": "stream",
     "text": [
      "<method 'split' of 'str' objects>\n",
      "<class 'method_descriptor'>\n"
     ]
    }
   ],
   "source": [
    "print(str.split)\n",
    "print(type(str.split))"
   ]
  },
  {
   "cell_type": "markdown",
   "id": "261ee9fd",
   "metadata": {},
   "source": [
    "### 24.1.4. 구분자 문자열과 문자열 리스트 연결하기"
   ]
  },
  {
   "cell_type": "markdown",
   "id": "b98379e3",
   "metadata": {},
   "source": [
    "`join` : 구분자 문자열과 문자열 리스트의 요소들을 연결하여 문자열로 만든다."
   ]
  },
  {
   "cell_type": "code",
   "execution_count": 30,
   "id": "3ef9f59f",
   "metadata": {},
   "outputs": [
    {
     "data": {
      "text/plain": [
       "'apple pear grape'"
      ]
     },
     "execution_count": 30,
     "metadata": {},
     "output_type": "execute_result"
    }
   ],
   "source": [
    "' '.join(['apple', 'pear', 'grape'])"
   ]
  },
  {
   "cell_type": "code",
   "execution_count": 31,
   "id": "74beda44",
   "metadata": {},
   "outputs": [
    {
     "data": {
      "text/plain": [
       "'apple1pear1grape'"
      ]
     },
     "execution_count": 31,
     "metadata": {},
     "output_type": "execute_result"
    }
   ],
   "source": [
    "'1'.join(['apple', 'pear', 'grape'])"
   ]
  },
  {
   "cell_type": "code",
   "execution_count": 39,
   "id": "e220ac1f",
   "metadata": {},
   "outputs": [
    {
     "name": "stdout",
     "output_type": "stream",
     "text": [
      "<method 'join' of 'str' objects> <class 'method_descriptor'>\n"
     ]
    }
   ],
   "source": [
    "print(str.join,type(str.join))"
   ]
  },
  {
   "cell_type": "markdown",
   "id": "f50acb0c",
   "metadata": {},
   "source": [
    "### 24.1.5. 소문자를 대문자로 바꾸기\n",
    "### 24.1.6. 대문자를 소문자로 바꾸기"
   ]
  },
  {
   "cell_type": "code",
   "execution_count": 36,
   "id": "32352d0c",
   "metadata": {},
   "outputs": [
    {
     "data": {
      "text/plain": [
       "'PYTHON'"
      ]
     },
     "execution_count": 36,
     "metadata": {},
     "output_type": "execute_result"
    }
   ],
   "source": [
    "'Python'.upper()"
   ]
  },
  {
   "cell_type": "code",
   "execution_count": 37,
   "id": "f60f3a7d",
   "metadata": {},
   "outputs": [
    {
     "data": {
      "text/plain": [
       "'python'"
      ]
     },
     "execution_count": 37,
     "metadata": {},
     "output_type": "execute_result"
    }
   ],
   "source": [
    "'Python'.lower()"
   ]
  },
  {
   "cell_type": "code",
   "execution_count": 38,
   "id": "76525604",
   "metadata": {},
   "outputs": [
    {
     "name": "stdout",
     "output_type": "stream",
     "text": [
      "<method 'upper' of 'str' objects> <class 'method_descriptor'>\n",
      "<method 'lower' of 'str' objects> <class 'method_descriptor'>\n"
     ]
    }
   ],
   "source": [
    "print(str.upper,type(str.upper))\n",
    "print(str.lower,type(str.lower))"
   ]
  },
  {
   "cell_type": "markdown",
   "id": "aca1029b",
   "metadata": {},
   "source": [
    "### 24.1.7. 왼쪽 공백 삭제하기\n",
    "### 24.1.8. 오른쪽 공백 삭제하기\n",
    "### 24.1.9. 양쪽 공백 삭제하기\n",
    "### 24.1.10. 왼쪽의 특정 문자 삭제하기\n",
    "### 24.1.11. 오른쪽의 특정 문자 삭제하기\n",
    "### 24.1.12. 양쪽의 특정 문자 삭제하기"
   ]
  },
  {
   "cell_type": "markdown",
   "id": "039a209e",
   "metadata": {},
   "source": [
    "- `lstrip()` : 왼쪽 공백 삭제\n",
    "- `rstrip()` : 오른족 공백 삭제\n",
    "- `strip()` : 양쪽 공백 삭제\n",
    "- `lstrip(str)` : 왼쪽 특정문자 삭제\n",
    "- `rstrip(str)` : 오른쪽 특정문자 삭제\n",
    "- `strip(str)` : 양쪽 특정문자 삭제"
   ]
  },
  {
   "cell_type": "code",
   "execution_count": 45,
   "id": "8c097526",
   "metadata": {},
   "outputs": [
    {
     "data": {
      "text/plain": [
       "'python  '"
      ]
     },
     "execution_count": 45,
     "metadata": {},
     "output_type": "execute_result"
    }
   ],
   "source": [
    "\" python  \".lstrip()"
   ]
  },
  {
   "cell_type": "code",
   "execution_count": 41,
   "id": "1031e4f8",
   "metadata": {},
   "outputs": [
    {
     "data": {
      "text/plain": [
       "' python'"
      ]
     },
     "execution_count": 41,
     "metadata": {},
     "output_type": "execute_result"
    }
   ],
   "source": [
    "\" python  \".rstrip()"
   ]
  },
  {
   "cell_type": "code",
   "execution_count": 42,
   "id": "62ca5229",
   "metadata": {},
   "outputs": [
    {
     "data": {
      "text/plain": [
       "'python'"
      ]
     },
     "execution_count": 42,
     "metadata": {},
     "output_type": "execute_result"
    }
   ],
   "source": [
    "\" python  \".strip()"
   ]
  },
  {
   "cell_type": "code",
   "execution_count": 48,
   "id": "648da382",
   "metadata": {},
   "outputs": [
    {
     "data": {
      "text/plain": [
       "'python..'"
      ]
     },
     "execution_count": 48,
     "metadata": {},
     "output_type": "execute_result"
    }
   ],
   "source": [
    "\"...python..\".lstrip('.')"
   ]
  },
  {
   "cell_type": "code",
   "execution_count": 49,
   "id": "651f1f4f",
   "metadata": {},
   "outputs": [
    {
     "data": {
      "text/plain": [
       "'...python'"
      ]
     },
     "execution_count": 49,
     "metadata": {},
     "output_type": "execute_result"
    }
   ],
   "source": [
    "\"...python..\".rstrip('.')"
   ]
  },
  {
   "cell_type": "code",
   "execution_count": 50,
   "id": "f6472aae",
   "metadata": {},
   "outputs": [
    {
     "data": {
      "text/plain": [
       "'python'"
      ]
     },
     "execution_count": 50,
     "metadata": {},
     "output_type": "execute_result"
    }
   ],
   "source": [
    "\"...python..\".strip('.')"
   ]
  },
  {
   "cell_type": "code",
   "execution_count": 44,
   "id": "3cd53c53",
   "metadata": {},
   "outputs": [
    {
     "name": "stdout",
     "output_type": "stream",
     "text": [
      "<method 'lstrip' of 'str' objects> <class 'method_descriptor'>\n",
      "<method 'rstrip' of 'str' objects> <class 'method_descriptor'>\n",
      "<method 'strip' of 'str' objects> <class 'method_descriptor'>\n"
     ]
    }
   ],
   "source": [
    "print(str.lstrip,type(str.lstrip))\n",
    "print(str.rstrip,type(str.rstrip))\n",
    "print(str.strip,type(str.strip))"
   ]
  },
  {
   "cell_type": "markdown",
   "id": "d69bd561",
   "metadata": {},
   "source": [
    "### 24.1.13. 문자열을 왼쪽 정렬하기\n",
    "### 24.1.14. 문자열을 오른쪽 정렬하기\n",
    "### 24.1.15. 문자열을 가운데 정렬하기"
   ]
  },
  {
   "cell_type": "markdown",
   "id": "9f00071c",
   "metadata": {},
   "source": [
    "- `ljust(int)` : 주어진 문자열을 왼쪽 정렬하고 빈공간은 여백으로 처리.\n",
    "- `rjust(int)` : 주어진 문자열을 오른쪽 정렬하고 빈공간은 여백으로 처리.\n",
    "- `center(int)` : 주어진 문자열을 가운데 정렬하고 빈공간은 여백으로 처리."
   ]
  },
  {
   "cell_type": "code",
   "execution_count": 54,
   "id": "8d8ff659",
   "metadata": {},
   "outputs": [
    {
     "name": "stdout",
     "output_type": "stream",
     "text": [
      "python    \n",
      "    python\n",
      "  python  \n"
     ]
    }
   ],
   "source": [
    "print('python'.ljust(10))\n",
    "print('python'.rjust(10))\n",
    "print('python'.center(10))"
   ]
  },
  {
   "cell_type": "code",
   "execution_count": 55,
   "id": "6835c963",
   "metadata": {},
   "outputs": [
    {
     "name": "stdout",
     "output_type": "stream",
     "text": [
      "10\n"
     ]
    }
   ],
   "source": [
    "a = 'python'.ljust(10)\n",
    "print(len(a))"
   ]
  },
  {
   "cell_type": "markdown",
   "id": "c4600e84",
   "metadata": {},
   "source": [
    "### 24.1.16. 메서드 체이닝"
   ]
  },
  {
   "cell_type": "markdown",
   "id": "af87862c",
   "metadata": {},
   "source": [
    "메서드를 줄줄이 연결한다."
   ]
  },
  {
   "cell_type": "code",
   "execution_count": 56,
   "id": "6343d065",
   "metadata": {},
   "outputs": [
    {
     "data": {
      "text/plain": [
       "'    PYTHON'"
      ]
     },
     "execution_count": 56,
     "metadata": {},
     "output_type": "execute_result"
    }
   ],
   "source": [
    "'python'.rjust(10).upper()"
   ]
  },
  {
   "cell_type": "markdown",
   "id": "3adea87f",
   "metadata": {},
   "source": [
    "### 24.1.17. 문자열 왼쪽에 0 채우기"
   ]
  },
  {
   "cell_type": "markdown",
   "id": "086f2e58",
   "metadata": {},
   "source": [
    "`zfill(n)`: 문자열 왼쪽에 0을 채워 lenth n인 문자열을 만든다."
   ]
  },
  {
   "cell_type": "code",
   "execution_count": 59,
   "id": "cf41ac41",
   "metadata": {},
   "outputs": [
    {
     "name": "stdout",
     "output_type": "stream",
     "text": [
      "0035\n",
      "03.5\n",
      "hello\n",
      "0000000035\n",
      "00000003.5\n",
      "00000hello\n"
     ]
    }
   ],
   "source": [
    "print('35'.zfill(4))\n",
    "print('3.5'.zfill(4))\n",
    "print('hello'.zfill(4))\n",
    "print('35'.zfill(10))\n",
    "print('3.5'.zfill(10))\n",
    "print('hello'.zfill(10))"
   ]
  },
  {
   "cell_type": "markdown",
   "id": "f93216e4",
   "metadata": {},
   "source": [
    "### 24.1.18. (왼쪽에서부터) 문자열 위치 찾기"
   ]
  },
  {
   "cell_type": "markdown",
   "id": "7531bfa0",
   "metadata": {},
   "source": [
    "### 24.1.19. 오른쪽에서부터 문자열 위치 찾기"
   ]
  },
  {
   "cell_type": "markdown",
   "id": "ade9cc13",
   "metadata": {},
   "source": [
    "### 24.1.20. 왼쪽에서부터 문자열 위치 찾기"
   ]
  },
  {
   "cell_type": "markdown",
   "id": "62109150",
   "metadata": {},
   "source": [
    "### 24.1.21. 오른쪽에서부터 문자열 위치 찾기"
   ]
  },
  {
   "cell_type": "markdown",
   "id": "1d9e51cd",
   "metadata": {},
   "source": [
    "- `find(str)`, `index(str)` : 해당 문자열 안에 특정 문자열의 위치를 (왼쪽부터) 찾는다.\n",
    "- `rfind(str)`, `rindex(str)` : 해당 문자열 안에 특정 문자열의 위치를 (오른쪽부터) 찾는다."
   ]
  },
  {
   "cell_type": "code",
   "execution_count": 87,
   "id": "d944ff67",
   "metadata": {},
   "outputs": [
    {
     "name": "stdout",
     "output_type": "stream",
     "text": [
      "0\n",
      "3\n",
      "0\n",
      "3\n"
     ]
    }
   ],
   "source": [
    "print('calculus'.find('c'))\n",
    "print('calculus'.rfind('c'))\n",
    "print('calculus'.index('c'))\n",
    "print('calculus'.rindex('c'))"
   ]
  },
  {
   "cell_type": "markdown",
   "id": "d7209f69",
   "metadata": {},
   "source": [
    "|character|<font color=red>c</font>|a|l|<font color=red>c</font>|u|l|u|s|\n",
    "|:-:|-|-|-|-|-|-|-|-|\n",
    "|index|<font color=red>0</font>|1|2|<font color=red>3</font>|4|5|6|7|"
   ]
  },
  {
   "cell_type": "markdown",
   "id": "cb5cd64a",
   "metadata": {},
   "source": [
    "### 24.1.22. 문자열 개수 세기"
   ]
  },
  {
   "cell_type": "code",
   "execution_count": 90,
   "id": "ed72ef25",
   "metadata": {},
   "outputs": [
    {
     "name": "stdout",
     "output_type": "stream",
     "text": [
      "2\n"
     ]
    }
   ],
   "source": [
    "print('calculus'.count('c'))"
   ]
  },
  {
   "cell_type": "code",
   "execution_count": 91,
   "id": "433ff926",
   "metadata": {},
   "outputs": [
    {
     "name": "stdout",
     "output_type": "stream",
     "text": [
      "8\n",
      "2\n",
      "<method 'count' of 'str' objects>\n",
      "<built-in function len>\n"
     ]
    }
   ],
   "source": [
    "C = 'calculus'\n",
    "print(len(C))\n",
    "print(C.count('c'))\n",
    "print(str.count)\n",
    "print(len)"
   ]
  },
  {
   "cell_type": "markdown",
   "id": "bcef16d7",
   "metadata": {},
   "source": [
    "## 24.2. 문자열 서식 지정자와 포매팅 사용하기"
   ]
  },
  {
   "cell_type": "markdown",
   "id": "b23c6d97",
   "metadata": {},
   "source": [
    " - 서식 지정자 : format specifier\n",
    "  - `str` %x `str` %y\n",
    "    - y : `str`,`int`, `float`\n",
    "    - %x : %s, %d, %f\n",
    "    - %x에 y를 대입해서 출력한다.\n",
    "  - `str` %.nf`str` % y\n",
    "    - y : `int`, `float`\n",
    "    - 숫자 y를 소수 n째짜리까지 출력한다.\n",
    "  - `str` %ns`str` % y\n",
    "    - %ns에 y를 대입하되, 오른쪽정렬하고 n개의 문자열로 출력한다.\n",
    "    - y : `str`\n",
    " - format 매서드 : string formatting\n",
    "  - `str`,{},`str`,{}.format{x,y}\n",
    "    - 두 중괄호 대신 각각 x와 y를 대입하여라.\n",
    "    - 중괄호 안에 정수를 넣어 순서를 특정해 넣거나 중복해서 넣을 수 있다.\n",
    "    - 중괄호 안에 변수를 넣을 수 있다.\n",
    "  - f'`str` {variable}'\n",
    "    - {variable}에 이미 지정한 변수를 대입해 출력한다.\n",
    "    - 여러 개의 변수를 넣을 수 있다.\n",
    "  - '{0:x<n}'.format(`str`)\n",
    "    - `str`을 왼쪽 정렬(<)하고 n개의 문자열로 출력하며 x를 padding한다.\n",
    "    - 0은 생략되어도 좋다.\n",
    "    - x도 생략되어도 좋다. 생략된다면, 여백이 padding된다.\n",
    " - 기타 응용\n",
    "    - `'%03d' % 35`, `'{0:03d}'.format(35)`\n",
    "      - 출력 : 035\n",
    "      - 앞에 0을 padding하되 3개의 문자열을 출력한다.\n",
    "    - `'%08.2f' % 3.6`,`'{0:08.2f}'.format(3.6)`\n",
    "      - 출력 : 00003.60\n",
    "      - 앞에 0을 padding하되 소수점 두자리까지 표현하고, 8개의 문자열을 출력한다."
   ]
  },
  {
   "cell_type": "markdown",
   "id": "127bfcbb",
   "metadata": {},
   "source": [
    "### 24.2.1. 서식 지정자로 문자열 넣기"
   ]
  },
  {
   "cell_type": "code",
   "execution_count": 92,
   "id": "43fdbfe7",
   "metadata": {},
   "outputs": [
    {
     "data": {
      "text/plain": [
       "'I am james.'"
      ]
     },
     "execution_count": 92,
     "metadata": {},
     "output_type": "execute_result"
    }
   ],
   "source": [
    "'I am %s.' % 'james'"
   ]
  },
  {
   "cell_type": "markdown",
   "id": "8e7ac542",
   "metadata": {},
   "source": [
    " - **literally** : 'I am %s.'라는 문자열을 출력하되, %s라고 표시된 곳에는 % 이하의 부분, 즉 'james'를 넣어라.\n",
    " - `%s`는 `str` 형식을 쓰겠다는 뜻이다."
   ]
  },
  {
   "cell_type": "code",
   "execution_count": 93,
   "id": "26181173",
   "metadata": {},
   "outputs": [
    {
     "data": {
      "text/plain": [
       "'I am maria'"
      ]
     },
     "execution_count": 93,
     "metadata": {},
     "output_type": "execute_result"
    }
   ],
   "source": [
    "name = 'maria'\n",
    "'I am %s' % name"
   ]
  },
  {
   "cell_type": "markdown",
   "id": "1869d252",
   "metadata": {},
   "source": [
    "### 24.2.2. 서식 지정자로 숫자 넣기"
   ]
  },
  {
   "cell_type": "code",
   "execution_count": 94,
   "id": "9b803412",
   "metadata": {},
   "outputs": [
    {
     "data": {
      "text/plain": [
       "'I am 20 years old.'"
      ]
     },
     "execution_count": 94,
     "metadata": {},
     "output_type": "execute_result"
    }
   ],
   "source": [
    "'I am %d years old.' % 20"
   ]
  },
  {
   "cell_type": "markdown",
   "id": "5c11f2c8",
   "metadata": {},
   "source": [
    " - **literally** : 'I am %d years old.'라는 문자열을 출력하되, %d라고 표시된 곳에는 % 이하의 부분, 즉 20를 넣어라.\n",
    " - decimal integer : <font color=red> 소수점을 버리고 integer를 만든다는 뜻인가? </font>\n",
    " - `%` 이하 부분은 `int`와 `float`이 들어갈 수 있는 것 같다."
   ]
  },
  {
   "cell_type": "code",
   "execution_count": 95,
   "id": "314b289c",
   "metadata": {},
   "outputs": [
    {
     "data": {
      "text/plain": [
       "'I am 20 years old.'"
      ]
     },
     "execution_count": 95,
     "metadata": {},
     "output_type": "execute_result"
    }
   ],
   "source": [
    "'I am %d years old.' % 20.2"
   ]
  },
  {
   "cell_type": "code",
   "execution_count": 96,
   "id": "27841e7d",
   "metadata": {},
   "outputs": [
    {
     "ename": "TypeError",
     "evalue": "%d format: a number is required, not str",
     "output_type": "error",
     "traceback": [
      "\u001b[0;31m---------------------------------------------------------------------------\u001b[0m",
      "\u001b[0;31mTypeError\u001b[0m                                 Traceback (most recent call last)",
      "\u001b[0;32m/tmp/ipykernel_188/4108163080.py\u001b[0m in \u001b[0;36m<module>\u001b[0;34m\u001b[0m\n\u001b[0;32m----> 1\u001b[0;31m \u001b[0;34m'I am %d years old.'\u001b[0m \u001b[0;34m%\u001b[0m \u001b[0;34m'20'\u001b[0m\u001b[0;34m\u001b[0m\u001b[0;34m\u001b[0m\u001b[0m\n\u001b[0m",
      "\u001b[0;31mTypeError\u001b[0m: %d format: a number is required, not str"
     ]
    }
   ],
   "source": [
    "'I am %d years old.' % '20'"
   ]
  },
  {
   "cell_type": "markdown",
   "id": "b8e14101",
   "metadata": {},
   "source": [
    "### 24.2.3. 서식 지정자로 소수점 표현하기"
   ]
  },
  {
   "cell_type": "code",
   "execution_count": 100,
   "id": "d8003480",
   "metadata": {},
   "outputs": [
    {
     "data": {
      "text/plain": [
       "'2.300000'"
      ]
     },
     "execution_count": 100,
     "metadata": {},
     "output_type": "execute_result"
    }
   ],
   "source": [
    "'%f' % 2.3"
   ]
  },
  {
   "cell_type": "markdown",
   "id": "88605b82",
   "metadata": {},
   "source": [
    " - **literally** : '%f'를 출력하여라.\n",
    "  - 단 `%f`라고 표시된 곳에는 `%` 이하의 부분, 즉 2.3를 넣어라.\n",
    "  - 소수점 이하 6자리까지 표시하는 것이 default이다.\n",
    " - floating point\n",
    " - `%` 이하 부분은 `int`와 `float`이 들어갈 수 있는 것 같다."
   ]
  },
  {
   "cell_type": "code",
   "execution_count": 98,
   "id": "934a8403",
   "metadata": {},
   "outputs": [
    {
     "data": {
      "text/plain": [
       "'2.000000'"
      ]
     },
     "execution_count": 98,
     "metadata": {},
     "output_type": "execute_result"
    }
   ],
   "source": [
    "'%f' % 2"
   ]
  },
  {
   "cell_type": "code",
   "execution_count": 99,
   "id": "60068b41",
   "metadata": {
    "scrolled": true
   },
   "outputs": [
    {
     "ename": "TypeError",
     "evalue": "must be real number, not str",
     "output_type": "error",
     "traceback": [
      "\u001b[0;31m---------------------------------------------------------------------------\u001b[0m",
      "\u001b[0;31mTypeError\u001b[0m                                 Traceback (most recent call last)",
      "\u001b[0;32m/tmp/ipykernel_188/1450848268.py\u001b[0m in \u001b[0;36m<module>\u001b[0;34m\u001b[0m\n\u001b[0;32m----> 1\u001b[0;31m \u001b[0;34m'%f'\u001b[0m \u001b[0;34m%\u001b[0m \u001b[0;34m'2'\u001b[0m\u001b[0;34m\u001b[0m\u001b[0;34m\u001b[0m\u001b[0m\n\u001b[0m",
      "\u001b[0;31mTypeError\u001b[0m: must be real number, not str"
     ]
    }
   ],
   "source": [
    "'%f' % '2'"
   ]
  },
  {
   "cell_type": "code",
   "execution_count": 101,
   "id": "f82f623a",
   "metadata": {},
   "outputs": [
    {
     "data": {
      "text/plain": [
       "'2.30'"
      ]
     },
     "execution_count": 101,
     "metadata": {},
     "output_type": "execute_result"
    }
   ],
   "source": [
    "'%.2f' % 2.3"
   ]
  },
  {
   "cell_type": "code",
   "execution_count": null,
   "id": "35b3f3c8",
   "metadata": {},
   "outputs": [],
   "source": [
    "'%.2f' % 2.3"
   ]
  },
  {
   "cell_type": "markdown",
   "id": "f9acce9b",
   "metadata": {},
   "source": [
    "소수점 이하 2자리까지 출력하여라."
   ]
  },
  {
   "cell_type": "markdown",
   "id": "fe4a61d2",
   "metadata": {},
   "source": [
    "### 24.2.4. 서식 지정자로 문자열 정렬하기"
   ]
  },
  {
   "cell_type": "code",
   "execution_count": 104,
   "id": "41661ea5",
   "metadata": {},
   "outputs": [
    {
     "name": "stdout",
     "output_type": "stream",
     "text": [
      "    python\n",
      "    python\n"
     ]
    }
   ],
   "source": [
    "print('%10s' % 'python')\n",
    "print('python'.rjust(10))"
   ]
  },
  {
   "cell_type": "markdown",
   "id": "51382b2c",
   "metadata": {},
   "source": [
    "### 24.2.5. 서식 지정자로 문자열 안에 여러 개 넣기"
   ]
  },
  {
   "cell_type": "code",
   "execution_count": 105,
   "id": "29ee9feb",
   "metadata": {},
   "outputs": [
    {
     "data": {
      "text/plain": [
       "'Today is 3 April.'"
      ]
     },
     "execution_count": 105,
     "metadata": {},
     "output_type": "execute_result"
    }
   ],
   "source": [
    "'Today is %d %s.' % (3, 'April')"
   ]
  },
  {
   "cell_type": "markdown",
   "id": "0b886a1b",
   "metadata": {},
   "source": [
    "### 24.2.6. format 매서드 사용하기"
   ]
  },
  {
   "cell_type": "code",
   "execution_count": 106,
   "id": "50715ec9",
   "metadata": {},
   "outputs": [
    {
     "data": {
      "text/plain": [
       "'Hello, world!'"
      ]
     },
     "execution_count": 106,
     "metadata": {},
     "output_type": "execute_result"
    }
   ],
   "source": [
    "'Hello, {0}'.format('world!')"
   ]
  },
  {
   "cell_type": "code",
   "execution_count": 108,
   "id": "bad1642f",
   "metadata": {},
   "outputs": [
    {
     "data": {
      "text/plain": [
       "'Hello, 100'"
      ]
     },
     "execution_count": 108,
     "metadata": {},
     "output_type": "execute_result"
    }
   ],
   "source": [
    "'Hello, {0}'.format('100')"
   ]
  },
  {
   "cell_type": "code",
   "execution_count": 109,
   "id": "e5d49b2f",
   "metadata": {},
   "outputs": [
    {
     "data": {
      "text/plain": [
       "'Hello, 100'"
      ]
     },
     "execution_count": 109,
     "metadata": {},
     "output_type": "execute_result"
    }
   ],
   "source": [
    "'Hello, {0}'.format(100)"
   ]
  },
  {
   "cell_type": "code",
   "execution_count": 107,
   "id": "944aff0e",
   "metadata": {},
   "outputs": [
    {
     "data": {
      "text/plain": [
       "'Hello, world!'"
      ]
     },
     "execution_count": 107,
     "metadata": {},
     "output_type": "execute_result"
    }
   ],
   "source": [
    "'Hello, {}'.format('world!')"
   ]
  },
  {
   "cell_type": "markdown",
   "id": "d14a7ab1",
   "metadata": {},
   "source": [
    "### 24.2.7. format 매서드로 값을 여러 개 넣기"
   ]
  },
  {
   "cell_type": "code",
   "execution_count": 110,
   "id": "107b52e3",
   "metadata": {},
   "outputs": [
    {
     "data": {
      "text/plain": [
       "'Hello, Python 3.6 Script'"
      ]
     },
     "execution_count": 110,
     "metadata": {},
     "output_type": "execute_result"
    }
   ],
   "source": [
    "'Hello, {0} {2} {1}'.format('Python', 'Script', 3.6)"
   ]
  },
  {
   "cell_type": "code",
   "execution_count": 112,
   "id": "86c81337",
   "metadata": {},
   "outputs": [
    {
     "data": {
      "text/plain": [
       "'Hello, Python Script 3.6'"
      ]
     },
     "execution_count": 112,
     "metadata": {},
     "output_type": "execute_result"
    }
   ],
   "source": [
    "'Hello, {} {} {}'.format('Python', 'Script', 3.6)"
   ]
  },
  {
   "cell_type": "markdown",
   "id": "1ecdb034",
   "metadata": {},
   "source": [
    "### 24.2.8. format 매서드로 같은 값을 여러 개 넣기"
   ]
  },
  {
   "cell_type": "code",
   "execution_count": 113,
   "id": "db74c948",
   "metadata": {},
   "outputs": [
    {
     "data": {
      "text/plain": [
       "'Python Python Script Script'"
      ]
     },
     "execution_count": 113,
     "metadata": {},
     "output_type": "execute_result"
    }
   ],
   "source": [
    "'{0} {0} {1} {1}'.format('Python', 'Script')"
   ]
  },
  {
   "cell_type": "markdown",
   "id": "58ac181b",
   "metadata": {},
   "source": [
    "### 24.2.9. format 매서드에서 인덱스 생략하기"
   ]
  },
  {
   "cell_type": "code",
   "execution_count": 114,
   "id": "ce84a3e9",
   "metadata": {},
   "outputs": [
    {
     "data": {
      "text/plain": [
       "'Hello, Python Script 3.6'"
      ]
     },
     "execution_count": 114,
     "metadata": {},
     "output_type": "execute_result"
    }
   ],
   "source": [
    "'Hello, {} {} {}'.format('Python', 'Script', 3.6)"
   ]
  },
  {
   "cell_type": "markdown",
   "id": "ece26ded",
   "metadata": {},
   "source": [
    "### 24.2.10. format 매서드에서 인덱스 대신 이름 지정하기"
   ]
  },
  {
   "cell_type": "code",
   "execution_count": 115,
   "id": "468c948c",
   "metadata": {},
   "outputs": [
    {
     "data": {
      "text/plain": [
       "'Hello, Python 3.6'"
      ]
     },
     "execution_count": 115,
     "metadata": {},
     "output_type": "execute_result"
    }
   ],
   "source": [
    "'Hello, {language} {version}'.format(language='Python', version=3.6)"
   ]
  },
  {
   "cell_type": "markdown",
   "id": "9e01248e",
   "metadata": {},
   "source": [
    "### 24.2.11. 문자열 포매팅에 변수 그대로 사용하기"
   ]
  },
  {
   "cell_type": "code",
   "execution_count": 118,
   "id": "bd1623e0",
   "metadata": {},
   "outputs": [
    {
     "name": "stdout",
     "output_type": "stream",
     "text": [
      "Hello, Python 3.6\n",
      "Hello, Python 3.6\n"
     ]
    }
   ],
   "source": [
    "language = 'Python'\n",
    "version = 3.6\n",
    "print(f'Hello, {language} {version}')\n",
    "print('Hello, Python 3.6')"
   ]
  },
  {
   "cell_type": "markdown",
   "id": "cf34595a",
   "metadata": {},
   "source": [
    "### 24.2.12. format 매서드로 문자열 정렬하기\n",
    "### 24.2.14. 채우기와 정렬을 조합해서 사용하기"
   ]
  },
  {
   "cell_type": "markdown",
   "id": "2d988ae3",
   "metadata": {},
   "source": [
    "두 subsubsection이 서로 연관되어 있으므로 12와 14를 붙였다. 13은 밑에 적었다."
   ]
  },
  {
   "cell_type": "code",
   "execution_count": 158,
   "id": "8764552c",
   "metadata": {},
   "outputs": [
    {
     "name": "stdout",
     "output_type": "stream",
     "text": [
      "python    \n",
      "    python\n",
      "python    \n",
      "    python\n",
      "python    \n",
      "    python\n",
      "python0000\n",
      "0000python\n",
      "python0000\n",
      "0000python\n"
     ]
    }
   ],
   "source": [
    "print('{0:<10}'.format('python'))\n",
    "print('{0:>10}'.format('python'))\n",
    "print('{:<10}'.format('python'))\n",
    "print('{:>10}'.format('python'))\n",
    "print('python'.ljust(10))\n",
    "print('python'.rjust(10))\n",
    "print('{0:0<10}'.format('python'))\n",
    "print('{0:0>10}'.format('python'))\n",
    "print('{:0<10}'.format('python'))\n",
    "print('{:0>10}'.format('python'))"
   ]
  },
  {
   "cell_type": "code",
   "execution_count": null,
   "id": "3fd17bf8",
   "metadata": {},
   "outputs": [],
   "source": [
    "print('{0:<10}'.format('python'),'1')\n",
    "print('python'.ljust(10),'1')"
   ]
  },
  {
   "cell_type": "markdown",
   "id": "b6b4dcba",
   "metadata": {},
   "source": [
    "### 24.2.13. 숫자 개수 맞추기"
   ]
  },
  {
   "cell_type": "code",
   "execution_count": 139,
   "id": "c07ba24e",
   "metadata": {},
   "outputs": [
    {
     "name": "stdout",
     "output_type": "stream",
     "text": [
      "001\n",
      "035\n",
      "001\n",
      "035\n"
     ]
    }
   ],
   "source": [
    "print('%03d' % 1)\n",
    "print('%03d' % 35)\n",
    "print('{0:03d}'.format(1))\n",
    "print('{0:03d}'.format(35))"
   ]
  },
  {
   "cell_type": "code",
   "execution_count": 2,
   "id": "2304da2d",
   "metadata": {},
   "outputs": [
    {
     "name": "stdout",
     "output_type": "stream",
     "text": [
      "00003.60\n",
      "00150.37\n",
      "00003.60\n",
      "00150.37\n"
     ]
    }
   ],
   "source": [
    "print('%08.2f' % 3.6)\n",
    "print('%08.2f' % 150.37)\n",
    "print('{0:08.2f}'.format(3.6))\n",
    "print('{0:08.2f}'.format(150.37))"
   ]
  },
  {
   "cell_type": "code",
   "execution_count": 8,
   "id": "bd0e91dc",
   "metadata": {},
   "outputs": [
    {
     "name": "stdout",
     "output_type": "stream",
     "text": [
      "3.14159265\n"
     ]
    }
   ],
   "source": [
    "import numpy as np\n",
    "print('{:.8f}'.format(np.pi))"
   ]
  },
  {
   "cell_type": "markdown",
   "id": "24ed65d6",
   "metadata": {},
   "source": [
    "## 24.3. 퀴즈"
   ]
  },
  {
   "cell_type": "markdown",
   "id": "d34c0548",
   "metadata": {},
   "source": [
    "2번 문제"
   ]
  },
  {
   "cell_type": "code",
   "execution_count": 159,
   "id": "53324cc5",
   "metadata": {},
   "outputs": [
    {
     "name": "stdout",
     "output_type": "stream",
     "text": [
      "pythON    \n"
     ]
    }
   ],
   "source": [
    "print('Python'.lower().replace('on', 'ON').ljust(10))"
   ]
  },
  {
   "cell_type": "markdown",
   "id": "b83e1051",
   "metadata": {},
   "source": [
    "3번 문제"
   ]
  },
  {
   "cell_type": "code",
   "execution_count": 160,
   "id": "488bf987",
   "metadata": {},
   "outputs": [
    {
     "data": {
      "text/plain": [
       "'Hello, Python 3.6'"
      ]
     },
     "execution_count": 160,
     "metadata": {},
     "output_type": "execute_result"
    }
   ],
   "source": [
    "'{hello}, {language} 3.6'.format(hello='Hello', language='Python')"
   ]
  },
  {
   "cell_type": "code",
   "execution_count": 161,
   "id": "1868f9ab",
   "metadata": {},
   "outputs": [
    {
     "data": {
      "text/plain": [
       "'Hello,Python3.6'"
      ]
     },
     "execution_count": 161,
     "metadata": {},
     "output_type": "execute_result"
    }
   ],
   "source": [
    "'%s%s%s' % ('Hello,', 'Python', '3.6')"
   ]
  },
  {
   "cell_type": "markdown",
   "id": "10db5a53",
   "metadata": {},
   "source": [
    "4번 문제"
   ]
  },
  {
   "cell_type": "code",
   "execution_count": 168,
   "id": "a1717e8c",
   "metadata": {},
   "outputs": [
    {
     "name": "stdout",
     "output_type": "stream",
     "text": [
      "   1675.3000\n",
      "   1675.3000\n",
      "   1675.3000\n",
      "0001675.3000\n"
     ]
    }
   ],
   "source": [
    "print('{0:>12.4f}'.format(1675.3)) # basic\n",
    "#print('{ :>12.4f}'.format(1675.3))\n",
    "print('{:>12.4f}'.format(1675.3)) #c\n",
    "print('{: >12.4f}'.format(1675.3)) #d\n",
    "print('{:0>12.4f}'.format(1675.3)) #e"
   ]
  },
  {
   "cell_type": "markdown",
   "id": "fd12dec9",
   "metadata": {},
   "source": [
    "## 24.4. 연습문제"
   ]
  },
  {
   "cell_type": "code",
   "execution_count": 172,
   "id": "87c18eaa",
   "metadata": {},
   "outputs": [
    {
     "name": "stdout",
     "output_type": "stream",
     "text": [
      "python.exe\n"
     ]
    }
   ],
   "source": [
    "path = 'C:\\\\Users\\\\dojang\\\\AppData\\\\Local\\\\Programs\\\\Python\\\\Python36-32\\\\python.exe'\n",
    "x = path.split('\\\\')\n",
    "filename = x[-1]\n",
    "print(filename)"
   ]
  },
  {
   "cell_type": "code",
   "execution_count": 173,
   "id": "108bd648",
   "metadata": {},
   "outputs": [
    {
     "name": "stdout",
     "output_type": "stream",
     "text": [
      "python.exe\n"
     ]
    }
   ],
   "source": [
    "path = 'C:\\\\Users\\\\dojang\\\\AppData\\\\Local\\\\Programs\\\\Python\\\\Python36-32\\\\python.exe'\n",
    "x = path.split('\\\\')\n",
    "x.reverse()\n",
    "filename = x[0]\n",
    "print(filename)"
   ]
  },
  {
   "cell_type": "code",
   "execution_count": 177,
   "id": "6db5f7b0",
   "metadata": {},
   "outputs": [
    {
     "name": "stdout",
     "output_type": "stream",
     "text": [
      "python.exe\n"
     ]
    }
   ],
   "source": [
    "path = 'C:\\\\Users\\\\dojang\\\\AppData\\\\Local\\\\Programs\\\\Python\\\\Python36-32\\\\python.exe'\n",
    "filename = path[path.rfind('\\\\') + 1:] # 이건 자세히 보지 않았다.\n",
    "print(filename)"
   ]
  },
  {
   "cell_type": "markdown",
   "id": "4542ce24",
   "metadata": {},
   "source": [
    "## 24.5. 심사문제"
   ]
  },
  {
   "cell_type": "code",
   "execution_count": 238,
   "id": "4cd3f42b",
   "metadata": {},
   "outputs": [
    {
     "name": "stdout",
     "output_type": "stream",
     "text": [
      "the grown-ups' response, this time, was to advise me to lay aside my drawings of boa constrictors, whether from the inside or the outside, and devote myself instead to geography, history, arithmetic, and grammar. That is why, at the, age of six, I gave up what might have been a magnificent career as a painter. I had been disheartened by the failure of my Drawing Number One and my Drawing Number Two. Grown-ups never understand anything by themselves, and it is tiresome for children to be always and forever explaining things to the.\n",
      "6\n"
     ]
    }
   ],
   "source": [
    "A = input().split()\n",
    "B = []\n",
    "for word in A:\n",
    "    temp = word.strip('.,')\n",
    "    B.append(temp)\n",
    "print(B.count('the'))"
   ]
  },
  {
   "cell_type": "markdown",
   "id": "825fa4e7",
   "metadata": {},
   "source": [
    "답 : 6"
   ]
  },
  {
   "cell_type": "markdown",
   "id": "5bed5501",
   "metadata": {},
   "source": [
    "the python and the java are the important ones in these communities. So we can breathe. the,"
   ]
  },
  {
   "cell_type": "markdown",
   "id": "d06fbfb2",
   "metadata": {},
   "source": [
    "답 : 3"
   ]
  },
  {
   "cell_type": "markdown",
   "id": "3a139ae3",
   "metadata": {},
   "source": [
    "## 24.6. 심사문제"
   ]
  },
  {
   "cell_type": "markdown",
   "id": "b036a50a",
   "metadata": {},
   "source": [
    "51900;83000;158000;367500;250000;59200;128500;1304000"
   ]
  },
  {
   "cell_type": "code",
   "execution_count": 6,
   "id": "04bbf0c0",
   "metadata": {},
   "outputs": [
    {
     "name": "stdout",
     "output_type": "stream",
     "text": [
      "51900;83000;158000;367500;250000;59200;128500;1304000\n",
      "1,304,000\n",
      "  367,500\n",
      "  250,000\n",
      "  158,000\n",
      "  128,500\n",
      "   83,000\n",
      "   59,200\n",
      "   51,900\n"
     ]
    }
   ],
   "source": [
    "A = input()\n",
    "B = A.split(';')\n",
    "C = list(map(int, B))\n",
    "C.sort(reverse=True)\n",
    "for c in C:\n",
    "    d = '{:>9,}'.format(c)\n",
    "    print(d)"
   ]
  },
  {
   "cell_type": "code",
   "execution_count": 4,
   "id": "9be89ca2",
   "metadata": {},
   "outputs": [
    {
     "name": "stdout",
     "output_type": "stream",
     "text": [
      "1,304,000\n",
      "  367,500\n",
      "  250,000\n",
      "  158,000\n",
      "  128,500\n",
      "   83,000\n",
      "   59,200\n",
      "   51,900\n"
     ]
    }
   ],
   "source": [
    "A = '51900;83000;158000;367500;250000;59200;128500;1304000'\n",
    "B = A.split(';')\n",
    "C = list(map(int, B))\n",
    "C.sort(reverse=True)\n",
    "for c in C:\n",
    "    d = '{:>9,}'.format(c)a\n",
    "    print(d)"
   ]
  }
 ],
 "metadata": {
  "kernelspec": {
   "display_name": "Python 3 (ipykernel)",
   "language": "python",
   "name": "python3"
  },
  "language_info": {
   "codemirror_mode": {
    "name": "ipython",
    "version": 3
   },
   "file_extension": ".py",
   "mimetype": "text/x-python",
   "name": "python",
   "nbconvert_exporter": "python",
   "pygments_lexer": "ipython3",
   "version": "3.9.7"
  }
 },
 "nbformat": 4,
 "nbformat_minor": 5
}
