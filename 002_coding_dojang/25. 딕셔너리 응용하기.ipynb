{
 "cells": [
  {
   "cell_type": "markdown",
   "id": "a41119c2",
   "metadata": {},
   "source": [
    "# 25. 딕셔너리 응용하기"
   ]
  },
  {
   "cell_type": "markdown",
   "id": "15fa1421",
   "metadata": {},
   "source": [
    "딕셔너리는 복잡하기도 복잡하거니와 양이 너무 많다.\n",
    "따라서 따로 내용 정리는 하지 않고, 주어진 코드들을 다 실행해보는 것에만 목표를 두어야겠다."
   ]
  },
  {
   "cell_type": "markdown",
   "id": "ad6a4ece",
   "metadata": {},
   "source": [
    "(다 공부하고 퀴즈도 풀었다.) 그렇긴 하지만 그래도 어떤 dictionary에 어떤 method들이 있는지는 나열해놓으면 좋을 것 같다."
   ]
  },
  {
   "cell_type": "markdown",
   "id": "d489e21f",
   "metadata": {},
   "source": [
    "딕셔너리와과 관련한 여러 매서드들이 있다.\n",
    "한 매서드에도 여러 활용과 문법이 있지만, 대표적인 문법 하나씩만 적겠다.\n",
    " - 아래에서 key라고 적는 것은 그것이 key의 역할을 한다는 뜻이지, key 클래스라는 뜻은 아니다. (그런 클래스는 없다 <font color=red> ?</font>)\n",
    " - 마찬가지로 value라고 적는 것은 그것이 value의 역할을 한다는 뜻이다."
   ]
  },
  {
   "cell_type": "markdown",
   "id": "2d53dfaf",
   "metadata": {},
   "source": [
    "|매서드|설명|문법|반환|분류|비고|\n",
    "|:-:|:-:|:-:|:-:|:-:|:-:|\n",
    "|`setdefault`|키-값 쌍을 추가한다.|*dict*.`setdefault`(key,value)|x|*dict*의 _method_||\n",
    "|`update`|키의 값을 수정한다.|*dict*.`update`(key,value)|x|*dict*의 _method_||\n",
    "|`pop`|키를 삭제한다.|*dict*.`pop`(key)|삭제되는 value|*dict*의 _method_||\n",
    "|`del`|키를 삭제한다.|*dict*.`pop`[key]|x|*dict*의 _method_||\n",
    "|`popitem`|마지막 키-값 쌍을 삭제한다.|*dict*.`popitem`()|삭제되는 (key, value)|*dict*의 _method_||\n",
    "|`clear`|모든 키-값 쌍을 삭제한다.|*dict*.`clear`()|x|*dict*의 _method_||\n",
    "|`get`|키의 값을 가져온다.|*dict*.`get`()|해당되는 value|*dict*의 _method_||\n",
    "|`items`|모든 키-값 쌍을 가져온다.|*dict*.`items`()|x|_dict_items_||\n",
    "|`keys`|모든 키들을 가져온다.|*dict*.`keys`()|x|_dict_keys_||\n",
    "|`values`|모든 값들을 쌍을 가져온다.|*dict*.`values`()|x|_dict_values_||\n",
    "|`copy`|복사한다.|*dict*.`copy`()|x|_module_||\n",
    "|`deepcopy`|깊게복사한다.|*dict*.`copy.deepcopy`()|x|*copy*의 _function_||"
   ]
  },
  {
   "cell_type": "markdown",
   "id": "87ac731c",
   "metadata": {},
   "source": [
    "그래도 얼추 정리는 된 것 같다.\n",
    "하지만 완벽하지는 못하다.\n",
    "반환값 말고도 그 결과값이 무엇인지 명시하면 좋을텐데, 그렇게 하려면 머리가 너무 아프다."
   ]
  },
  {
   "cell_type": "markdown",
   "id": "a1a645f9",
   "metadata": {},
   "source": [
    "## 25.1. 딕셔너리 조작하기"
   ]
  },
  {
   "cell_type": "markdown",
   "id": "7aed465e",
   "metadata": {},
   "source": [
    "### 25.1.1. 딕셔너리에 키-값 쌍 추가하기\n",
    " - `setdefault` : 키-값 쌍 추가\n",
    " - `update` : 키의 값 수정, 키가 없으면 키-값 쌍 추가"
   ]
  },
  {
   "cell_type": "markdown",
   "id": "0d55a02d",
   "metadata": {},
   "source": [
    "### 25.1.2. 딕셔너리에 키와 기본값 저장하기\n",
    "`setdefault` : 딕셔너리에 키-값 쌍을 추가한다."
   ]
  },
  {
   "cell_type": "code",
   "execution_count": 297,
   "id": "a5448057",
   "metadata": {},
   "outputs": [
    {
     "name": "stdout",
     "output_type": "stream",
     "text": [
      "{'a': 10, 'b': 20, 'c': 30, 'd': 40}\n"
     ]
    }
   ],
   "source": [
    "x = {'a': 10,'b': 20,'c': 30,'d': 40}\n",
    "print(x)"
   ]
  },
  {
   "cell_type": "code",
   "execution_count": 301,
   "id": "2c62f987",
   "metadata": {},
   "outputs": [
    {
     "name": "stdout",
     "output_type": "stream",
     "text": [
      "{'a': 10, 'b': 20, 'c': 30, 'd': 40, 'e': None}\n"
     ]
    }
   ],
   "source": [
    "x = {'a': 10,'b': 20,'c': 30,'d': 40}\n",
    "x.setdefault('e')\n",
    "print(x)"
   ]
  },
  {
   "cell_type": "code",
   "execution_count": 11,
   "id": "44ee4960",
   "metadata": {},
   "outputs": [
    {
     "name": "stdout",
     "output_type": "stream",
     "text": [
      "{'a': 10, 'b': 20, 'c': 30, 'd': 40, 'e': None, 'f': 100}\n"
     ]
    }
   ],
   "source": [
    "x.setdefault('f',100)\n",
    "print(x)"
   ]
  },
  {
   "cell_type": "markdown",
   "id": "e59483e6",
   "metadata": {},
   "source": [
    "### 25.1.3. 딕셔너리에서 키의 값 수정하기\n",
    "`update` : 딕셔너리에서 키의 값을 수정한다."
   ]
  },
  {
   "cell_type": "code",
   "execution_count": 13,
   "id": "965a7ddb",
   "metadata": {},
   "outputs": [
    {
     "name": "stdout",
     "output_type": "stream",
     "text": [
      "{'a': 90, 'b': 20, 'c': 30, 'd': 40}\n"
     ]
    }
   ],
   "source": [
    "x = {'a': 10,'b': 20,'c': 30,'d': 40}\n",
    "x.update(a=90)\n",
    "print(x)"
   ]
  },
  {
   "cell_type": "code",
   "execution_count": 14,
   "id": "5f1cb64a",
   "metadata": {},
   "outputs": [
    {
     "name": "stdout",
     "output_type": "stream",
     "text": [
      "{'a': 90, 'b': 20, 'c': 30, 'd': 40, 'e': 50}\n"
     ]
    }
   ],
   "source": [
    "x.update(e=50)\n",
    "print(x)"
   ]
  },
  {
   "cell_type": "code",
   "execution_count": 15,
   "id": "4c4e752e",
   "metadata": {},
   "outputs": [
    {
     "name": "stdout",
     "output_type": "stream",
     "text": [
      "{'a': 900, 'b': 20, 'c': 30, 'd': 40, 'e': 50, 'f': 60}\n"
     ]
    }
   ],
   "source": [
    "x.update(a=900,f=60)\n",
    "print(x)"
   ]
  },
  {
   "cell_type": "code",
   "execution_count": 19,
   "id": "342d3680",
   "metadata": {},
   "outputs": [
    {
     "name": "stdout",
     "output_type": "stream",
     "text": [
      "{1: 'one', 2: 'two'}\n",
      "{1: 'ONE', 2: 'two', 3: 'THREE'}\n"
     ]
    }
   ],
   "source": [
    "y = {1:\"one\",2:\"two\"}\n",
    "print(y)\n",
    "y.update({1:\"ONE\",3:\"THREE\"})\n",
    "print(y)"
   ]
  },
  {
   "cell_type": "code",
   "execution_count": 302,
   "id": "5cb9cc83",
   "metadata": {},
   "outputs": [
    {
     "name": "stdout",
     "output_type": "stream",
     "text": [
      "{'a': {'python': '3.9'}, 'b': {'python': '3.6'}, 2: 'TWO', 4: 'FOUR'}\n"
     ]
    }
   ],
   "source": [
    "y.update([[2,'TWO'],[4,'FOUR']])\n",
    "print(y)"
   ]
  },
  {
   "cell_type": "markdown",
   "id": "c26bbbf6",
   "metadata": {},
   "source": [
    "### 25.1.4. 딕셔너리에서 키-값 쌍 삭제하기"
   ]
  },
  {
   "cell_type": "code",
   "execution_count": 24,
   "id": "4630457c",
   "metadata": {},
   "outputs": [
    {
     "data": {
      "text/plain": [
       "10"
      ]
     },
     "execution_count": 24,
     "metadata": {},
     "output_type": "execute_result"
    }
   ],
   "source": [
    "x = {'a':10, 'b':20,'c':30,'d':40}\n",
    "x.pop('a')"
   ]
  },
  {
   "cell_type": "code",
   "execution_count": 25,
   "id": "080bb715",
   "metadata": {},
   "outputs": [
    {
     "name": "stdout",
     "output_type": "stream",
     "text": [
      "{'b': 20, 'c': 30, 'd': 40}\n"
     ]
    }
   ],
   "source": [
    "print(x)"
   ]
  },
  {
   "cell_type": "code",
   "execution_count": 26,
   "id": "08bb9687",
   "metadata": {},
   "outputs": [
    {
     "data": {
      "text/plain": [
       "0"
      ]
     },
     "execution_count": 26,
     "metadata": {},
     "output_type": "execute_result"
    }
   ],
   "source": [
    "x.pop('z',0)"
   ]
  },
  {
   "cell_type": "code",
   "execution_count": 28,
   "id": "964d3d71",
   "metadata": {},
   "outputs": [
    {
     "name": "stdout",
     "output_type": "stream",
     "text": [
      "{'b': 20, 'c': 30, 'd': 40}\n"
     ]
    }
   ],
   "source": [
    "x = {'a':10, 'b':20,'c':30,'d':40}\n",
    "del x['a']\n",
    "print(x)"
   ]
  },
  {
   "cell_type": "markdown",
   "id": "7d521450",
   "metadata": {},
   "source": [
    "### 25.1.5. 딕셔너리에서 마지막 키-값 쌍 삭제하기"
   ]
  },
  {
   "cell_type": "markdown",
   "id": "547daefb",
   "metadata": {},
   "source": [
    " - Python 3.5 이하에서는 '마지막'이라는 말이 '임의의'라는 말로 바뀌어야 한다.\n",
    " - 하지만, 지금은 Python 3.9를 사용하고 있으므로 '마지막'이 맞을 것이다."
   ]
  },
  {
   "cell_type": "code",
   "execution_count": 305,
   "id": "776b9280",
   "metadata": {},
   "outputs": [
    {
     "data": {
      "text/plain": [
       "('d', 40)"
      ]
     },
     "execution_count": 305,
     "metadata": {},
     "output_type": "execute_result"
    }
   ],
   "source": [
    "x = {'a':10, 'b':20,'c':30,'d':40}\n",
    "x.popitem()"
   ]
  },
  {
   "cell_type": "code",
   "execution_count": 32,
   "id": "2a05b3be",
   "metadata": {},
   "outputs": [
    {
     "name": "stdout",
     "output_type": "stream",
     "text": [
      "{'a': 10, 'b': 20}\n"
     ]
    }
   ],
   "source": [
    "print(x)"
   ]
  },
  {
   "cell_type": "code",
   "execution_count": 36,
   "id": "3a8abd8b",
   "metadata": {},
   "outputs": [
    {
     "name": "stdout",
     "output_type": "stream",
     "text": [
      "<method 'popitem' of 'dict' objects> <class 'method_descriptor'>\n"
     ]
    }
   ],
   "source": [
    "print(dict.popitem,type(dict.popitem))"
   ]
  },
  {
   "cell_type": "markdown",
   "id": "45c7e7c6",
   "metadata": {},
   "source": [
    "### 25.1.6. 딕셔너리의 모든 키-값 쌍을 삭제하기"
   ]
  },
  {
   "cell_type": "code",
   "execution_count": 307,
   "id": "a09eb7da",
   "metadata": {},
   "outputs": [
    {
     "name": "stdout",
     "output_type": "stream",
     "text": [
      "{}\n"
     ]
    }
   ],
   "source": [
    "x = {'a': 10, 'b': 20, 'c': 30, 'd': 40}\n",
    "x.clear()\n",
    "print(x)"
   ]
  },
  {
   "cell_type": "markdown",
   "id": "316b6c03",
   "metadata": {},
   "source": [
    "### 25.1.7. 딕셔너리에서 키의 값을 가져오기"
   ]
  },
  {
   "cell_type": "code",
   "execution_count": 40,
   "id": "279b8e65",
   "metadata": {},
   "outputs": [
    {
     "data": {
      "text/plain": [
       "10"
      ]
     },
     "execution_count": 40,
     "metadata": {},
     "output_type": "execute_result"
    }
   ],
   "source": [
    "x = {'a': 10, 'b': 20, 'c': 30, 'd': 40}\n",
    "x.get('a')"
   ]
  },
  {
   "cell_type": "code",
   "execution_count": 39,
   "id": "519ed713",
   "metadata": {},
   "outputs": [
    {
     "data": {
      "text/plain": [
       "0"
      ]
     },
     "execution_count": 39,
     "metadata": {},
     "output_type": "execute_result"
    }
   ],
   "source": [
    "x.get('z',0)"
   ]
  },
  {
   "cell_type": "markdown",
   "id": "7a096ab3",
   "metadata": {},
   "source": [
    "### 25.1.8. 딕셔너리에서 키-값 쌍을 모두 가져오기"
   ]
  },
  {
   "cell_type": "code",
   "execution_count": 49,
   "id": "cc8330da",
   "metadata": {},
   "outputs": [
    {
     "name": "stdout",
     "output_type": "stream",
     "text": [
      "dict_items([('a', 10), ('b', 20), ('c', 30), ('d', 40)])\n",
      "dict_keys(['a', 'b', 'c', 'd'])\n",
      "dict_values([10, 20, 30, 40])\n",
      "<class 'dict_items'>\n",
      "<class 'dict_keys'>\n",
      "<class 'dict_values'>\n"
     ]
    }
   ],
   "source": [
    "x = {'a': 10, 'b': 20, 'c': 30, 'd': 40}\n",
    "print(x.items())\n",
    "print(x.keys())\n",
    "print(x.values())\n",
    "print(type(x.items()))\n",
    "print(type(x.keys()))\n",
    "print(type(x.values()))"
   ]
  },
  {
   "cell_type": "markdown",
   "id": "94c0947d",
   "metadata": {},
   "source": [
    "### 25.1.9. 리스트와 튜플로 딕셔너리 만들기"
   ]
  },
  {
   "cell_type": "code",
   "execution_count": 50,
   "id": "2739bbc7",
   "metadata": {},
   "outputs": [
    {
     "name": "stdout",
     "output_type": "stream",
     "text": [
      "{'a': None, 'b': None, 'c': None, 'd': None}\n"
     ]
    }
   ],
   "source": [
    "keys = ['a', 'b', 'c', 'd']\n",
    "x = dict.fromkeys(keys)\n",
    "print(x)"
   ]
  },
  {
   "cell_type": "code",
   "execution_count": 51,
   "id": "52d5f97b",
   "metadata": {},
   "outputs": [
    {
     "name": "stdout",
     "output_type": "stream",
     "text": [
      "<built-in method fromkeys of type object at 0x55c2a715e0a0>\n",
      "<class 'builtin_function_or_method'>\n"
     ]
    }
   ],
   "source": [
    "print(dict.fromkeys)\n",
    "print(type(dict.fromkeys))"
   ]
  },
  {
   "cell_type": "markdown",
   "id": "5245c19d",
   "metadata": {},
   "source": [
    "## 25.2. 반복문으로 딕셔너리의 키-값 쌍을 모두 출력하기"
   ]
  },
  {
   "cell_type": "code",
   "execution_count": 52,
   "id": "dc08bd54",
   "metadata": {},
   "outputs": [
    {
     "name": "stdout",
     "output_type": "stream",
     "text": [
      "a 10\n",
      "b 20\n",
      "c 30\n",
      "d 40\n"
     ]
    }
   ],
   "source": [
    "x = {'a': 10, 'b': 20, 'c': 30, 'd': 40}\n",
    "for key, value in x.items():\n",
    "    print(key,value)"
   ]
  },
  {
   "cell_type": "code",
   "execution_count": 54,
   "id": "210c676b",
   "metadata": {},
   "outputs": [
    {
     "name": "stdout",
     "output_type": "stream",
     "text": [
      "<method 'items' of 'dict' objects>\n",
      "<class 'method_descriptor'>\n",
      "dict_items([('a', 10), ('b', 20), ('c', 30), ('d', 40)])\n",
      "<class 'dict_items'>\n"
     ]
    }
   ],
   "source": [
    "print(dict.items)\n",
    "print(type(dict.items))\n",
    "print(dict.items(x))\n",
    "print(type(dict.items(x)))"
   ]
  },
  {
   "cell_type": "markdown",
   "id": "0f6dc60a",
   "metadata": {},
   "source": [
    "### 25.2.1. 딕셔너리의 키만 출력하기\n",
    "### 25.2.2. 딕셔너리의 값만 출력하기"
   ]
  },
  {
   "cell_type": "code",
   "execution_count": 62,
   "id": "ec7744cd",
   "metadata": {},
   "outputs": [
    {
     "name": "stdout",
     "output_type": "stream",
     "text": [
      "a b c d \n",
      "10 20 30 40 "
     ]
    }
   ],
   "source": [
    "x = {'a': 10, 'b': 20, 'c': 30, 'd': 40}\n",
    "for key in x.keys():\n",
    "    print(key, end = ' ')\n",
    "print()\n",
    "for value in x.values():\n",
    "    print(value, end = ' ')"
   ]
  },
  {
   "cell_type": "markdown",
   "id": "974e0895",
   "metadata": {},
   "source": [
    "## 25.3. 딕셔너리 표현 식 사용하기"
   ]
  },
  {
   "cell_type": "code",
   "execution_count": 68,
   "id": "d06352e4",
   "metadata": {},
   "outputs": [
    {
     "name": "stdout",
     "output_type": "stream",
     "text": [
      "{'a': None, 'b': None, 'c': None, 'd': None}\n"
     ]
    }
   ],
   "source": [
    "keys = ['a', 'b', 'c', 'd']\n",
    "x = {key: value for key, value in dict.fromkeys(keys).items()}\n",
    "print(x)"
   ]
  },
  {
   "cell_type": "code",
   "execution_count": 71,
   "id": "68b97c69",
   "metadata": {},
   "outputs": [
    {
     "name": "stdout",
     "output_type": "stream",
     "text": [
      "<built-in method fromkeys of type object at 0x55c2a715e0a0>\n",
      "<class 'builtin_function_or_method'>\n",
      "{'a': None, 'b': None, 'c': None, 'd': None}\n",
      "<class 'dict'>\n"
     ]
    }
   ],
   "source": [
    "print(dict.fromkeys)\n",
    "print(type(dict.fromkeys))\n",
    "print(dict.fromkeys(keys))\n",
    "print(type(dict.fromkeys(keys)))"
   ]
  },
  {
   "cell_type": "code",
   "execution_count": 74,
   "id": "74630972",
   "metadata": {},
   "outputs": [
    {
     "name": "stdout",
     "output_type": "stream",
     "text": [
      "{'a': 0, 'b': 0, 'c': 0, 'd': 0}\n"
     ]
    }
   ],
   "source": [
    "y = {key: 0 for key in dict.fromkeys(['a', 'b', 'c', 'd']).keys()} \n",
    "print(y)"
   ]
  },
  {
   "cell_type": "code",
   "execution_count": 76,
   "id": "79fbafb8",
   "metadata": {
    "scrolled": true
   },
   "outputs": [
    {
     "name": "stdout",
     "output_type": "stream",
     "text": [
      "{10: 'a', 20: 'b', 30: 'c', 40: 'd'}\n"
     ]
    }
   ],
   "source": [
    "z = {value: key for key, value in {'a': 10, 'b': 20, 'c': 30, 'd': 40}.items()}\n",
    "print(z)"
   ]
  },
  {
   "cell_type": "markdown",
   "id": "7e5546d2",
   "metadata": {},
   "source": [
    "### 25.3.1. 딕셔너리 표현식에서 if 조건문 사용하기"
   ]
  },
  {
   "cell_type": "code",
   "execution_count": 77,
   "id": "c0618703",
   "metadata": {},
   "outputs": [
    {
     "name": "stdout",
     "output_type": "stream",
     "text": [
      "{'a': 10, 'c': 30, 'd': 40}\n"
     ]
    }
   ],
   "source": [
    "x = {'a': 10, 'b': 20, 'c': 30, 'd': 40}\n",
    "x = {key:value for key, value in x.items() if value !=20}\n",
    "print(x)"
   ]
  },
  {
   "cell_type": "markdown",
   "id": "309b7a1d",
   "metadata": {},
   "source": [
    "## 25.4. 딕셔너리 안에 딕셔너리 사용하기"
   ]
  },
  {
   "cell_type": "code",
   "execution_count": 81,
   "id": "11949b82",
   "metadata": {},
   "outputs": [
    {
     "name": "stdout",
     "output_type": "stream",
     "text": [
      "{'Mercury': {'mean_radius': 2439.7, 'mass': 3.3022e+23, 'orbital_period': 87.969}, 'Venus': {'mean_radius': 6051.8, 'mass': 4.8676e+24, 'orbital_period': 224.70069}, 'Earth': {'mean_radius': 6371.0, 'mass': 5.97219e+24, 'orbital_period': 365.25641}, 'Mars': {'mean_radius': 3389.5, 'mass': 6.4185e+23, 'orbital_period': 686.96}}\n",
      "{'mean_radius': 6051.8, 'mass': 4.8676e+24, 'orbital_period': 224.70069}\n",
      "6051.8\n"
     ]
    }
   ],
   "source": [
    "terrestrial_planet = {\n",
    "    'Mercury': {\n",
    "        'mean_radius': 2439.7,\n",
    "        'mass': 3.3022E+23,\n",
    "        'orbital_period': 87.969\n",
    "    },\n",
    "    'Venus': {\n",
    "        'mean_radius': 6051.8,\n",
    "        'mass': 4.8676E+24,\n",
    "        'orbital_period': 224.70069,\n",
    "    },\n",
    "    'Earth': {\n",
    "        'mean_radius': 6371.0,\n",
    "        'mass': 5.97219E+24,\n",
    "        'orbital_period': 365.25641,\n",
    "    },\n",
    "    'Mars': {\n",
    "        'mean_radius': 3389.5,\n",
    "        'mass': 6.4185E+23,\n",
    "        'orbital_period': 686.9600,\n",
    "    }\n",
    "}\n",
    "print(terrestrial_planet)\n",
    "print(terrestrial_planet['Venus'])\n",
    " \n",
    "print(terrestrial_planet['Venus']['mean_radius'])    # 6051.8\n"
   ]
  },
  {
   "cell_type": "code",
   "execution_count": 82,
   "id": "b964c263",
   "metadata": {},
   "outputs": [
    {
     "data": {
      "text/plain": [
       "500.0"
      ]
     },
     "execution_count": 82,
     "metadata": {},
     "output_type": "execute_result"
    }
   ],
   "source": [
    "a= 3E+2\n",
    "b= 2E+2\n",
    "a+b"
   ]
  },
  {
   "cell_type": "markdown",
   "id": "795ea553",
   "metadata": {},
   "source": [
    "## 25.5. 딕셔너리의 할당과 복사"
   ]
  },
  {
   "cell_type": "code",
   "execution_count": 1,
   "id": "55325fa8",
   "metadata": {},
   "outputs": [],
   "source": [
    "x = {'a': 0, 'b': 0, 'c': 0, 'd': 0}\n",
    "y = x\n",
    "z = x.copy()"
   ]
  },
  {
   "cell_type": "markdown",
   "id": "64da44b4",
   "metadata": {},
   "source": [
    "- `y`는 `x`를 그대로 할당한 것이고\n",
    "- `z`는 `x`를 복사한 것이다."
   ]
  },
  {
   "cell_type": "code",
   "execution_count": 2,
   "id": "04d4c82a",
   "metadata": {},
   "outputs": [
    {
     "name": "stdout",
     "output_type": "stream",
     "text": [
      "True True\n",
      "True False\n"
     ]
    }
   ],
   "source": [
    "print(y == x, y is x)\n",
    "print(z == x, z is x)"
   ]
  },
  {
   "cell_type": "markdown",
   "id": "28c467d0",
   "metadata": {},
   "source": [
    " - 할당한 변수 `y`는 원래 변수 `x`와 완전히 같다.\n",
    " - 하지만 복사한 변수 `z`는 원래 변수 `x`와 값은 같지만 주소까지 같지는 않다."
   ]
  },
  {
   "cell_type": "code",
   "execution_count": 264,
   "id": "3ccccd73",
   "metadata": {},
   "outputs": [
    {
     "name": "stdout",
     "output_type": "stream",
     "text": [
      "1 True True\n",
      "0 False False\n"
     ]
    }
   ],
   "source": [
    "x['a']=1\n",
    "print(y['a'],y['a'] == x['a'],y['a'] is x['a'])\n",
    "print(z['a'],z['a'] == x['a'],z['a'] is x['a'])"
   ]
  },
  {
   "cell_type": "markdown",
   "id": "72e3e593",
   "metadata": {},
   "source": [
    "- `x` 에서 `'a'`의 키값을 변경하면\n",
    "- `y`에서 `'a'`의 키값은 `x`에 따라서 변경되지만\n",
    "- `z`에서 `'a'`의 키값은 `x`와 별개로 동작한다. (변경되지 않는다.)\n",
    "\n",
    "즉, `x`와 독립된 변수 `z`를 만들려면 단순히 *할당*만 해서는 안되고 **복사**해야 한다."
   ]
  },
  {
   "cell_type": "markdown",
   "id": "28e87c2f",
   "metadata": {},
   "source": [
    "### 25.5.1. 중첩 딕셔너리의 할당과 복사 알아보기"
   ]
  },
  {
   "cell_type": "code",
   "execution_count": 327,
   "id": "82ccdb90",
   "metadata": {},
   "outputs": [],
   "source": [
    "x = {'a': {'python': '2.7'}, 'b': {'python': '3.6'}}\n",
    "y = x\n",
    "x.copy()\n",
    "import copy\n",
    "w = copy.deepcopy(x)"
   ]
  },
  {
   "cell_type": "markdown",
   "id": "d126615e",
   "metadata": {},
   "source": [
    "- `y`는 `x`를 그대로 할당한 것이고\n",
    "- `z`는 `x`를 복사한 것이며\n",
    "- `w`는 `x`를 깊게 복사한 것이다."
   ]
  },
  {
   "cell_type": "code",
   "execution_count": 276,
   "id": "e0c2d87c",
   "metadata": {},
   "outputs": [
    {
     "name": "stdout",
     "output_type": "stream",
     "text": [
      "True True\n",
      "True False\n",
      "True False\n"
     ]
    }
   ],
   "source": [
    "print(y == x, y is x)\n",
    "print(z == x, z is x)\n",
    "print(w == x, w is x)"
   ]
  },
  {
   "cell_type": "markdown",
   "id": "368485e8",
   "metadata": {},
   "source": [
    " - 할당한 변수 `y`는 원래 변수 `x`와 완전히 같다.\n",
    " - 하지만 복사한 변수 `z`는 원래 변수 `x`와 값은 같지만 주소까지 같지는 않다.\n",
    " - 깊게 복사한 변수 `w`도 원래 변수 `x`와 값은 같지만 주소까지 같지는 않다."
   ]
  },
  {
   "cell_type": "code",
   "execution_count": 277,
   "id": "8d71958b",
   "metadata": {},
   "outputs": [
    {
     "name": "stdout",
     "output_type": "stream",
     "text": [
      "3.9 True True\n",
      "3.9 True True\n",
      "2.7 False False\n"
     ]
    }
   ],
   "source": [
    "x['a']['python']='3.9'\n",
    "print(y['a']['python'],y['a']['python'] == x['a']['python'], y['a']['python'] is x['a']['python'])\n",
    "print(z['a']['python'],z['a']['python'] == x['a']['python'], z['a']['python'] is x['a']['python'])\n",
    "print(w['a']['python'],w['a']['python'] == x['a']['python'], w['a']['python'] is x['a']['python'])"
   ]
  },
  {
   "cell_type": "markdown",
   "id": "73c84b83",
   "metadata": {},
   "source": [
    "- `x`에서 `'a'`의 키값, 에서 `'python'`의 키값을 변경하면\n",
    "- `y`에서 `'a'`의 키값, 에서 `'python'`의 키값은 변경되고\n",
    "- `z`에서 `'a'`의 키값, 에서 `'python'`의 키값도 변경되지만\n",
    "- `w`에서 `'a'`의 키값, 에서 `'python'`의 키값은 별개로 동작한다. (변경되지 않는다.)\n",
    "\n",
    "따라서, `x`와 독립된 변수 `w`를 만들려면 단순히 *할당*만 해서는 안되고, *복사*를 해도 안되며, 반드시 **깊은 복사**를 해야만 한다.\n",
    "\n",
    "즉, 원래의 변수 `x`와 (2레벨 이상의 의미에서) 다른 변수 `w`를 만드려면 **깊은 복사**를 해야 한다. (말이 정확치 않다.)\n",
    "\n",
    "(이후추가) `001_LMS_fundamental_SO3\\7-당신의 행운의 숫자는? 나만의 n면체 주사위 위젯 만들기.ipynb`의 7-2에서 : \n",
    " - 혹은 [python copy documentation](https://docs.python.org/3/library/copy.html)에서\n",
    " - The difference between shallow and deep copying is only relevant for compound objects (objects that contain other objects, like lists or class instances):\n",
    "     - A shallow copy constructs a new compound object and then (to the extent possible) inserts references into it to the objects found in the original.\n",
    "     - A deep copy constructs a new compound object and then, recursively, inserts copies into it of the objects found in the original.\n",
    "\n"
   ]
  },
  {
   "cell_type": "markdown",
   "id": "e759c772",
   "metadata": {},
   "source": [
    "아래의 예시는 25.5. 이하의 예시와 진배없다. 하지만, 그래도 같은 결과가 나오는지 확인해보려고 한다."
   ]
  },
  {
   "cell_type": "code",
   "execution_count": 266,
   "id": "023700de",
   "metadata": {},
   "outputs": [],
   "source": [
    "x = {'a': {'python': '2.7'}, 'b': {'python': '3.6'}}\n",
    "y = x\n",
    "z = x.copy()\n",
    "import copy\n",
    "w = copy.deepcopy(x)"
   ]
  },
  {
   "cell_type": "code",
   "execution_count": 267,
   "id": "8f61e3f5",
   "metadata": {},
   "outputs": [
    {
     "name": "stdout",
     "output_type": "stream",
     "text": [
      "True True\n",
      "True False\n",
      "True False\n"
     ]
    }
   ],
   "source": [
    "print(y == x, y is x)\n",
    "print(z == x, z is x)\n",
    "print(w == x, w is x)"
   ]
  },
  {
   "cell_type": "code",
   "execution_count": 269,
   "id": "22876389",
   "metadata": {},
   "outputs": [
    {
     "name": "stdout",
     "output_type": "stream",
     "text": [
      "{'python': '3.9'} True True\n",
      "{'python': '2.7'} False False\n",
      "{'python': '2.7'} False False\n"
     ]
    }
   ],
   "source": [
    "x['a']={'python': '3.9'}\n",
    "print(y['a'], y['a'] == x['a'], y['a'] is x['a'])\n",
    "print(z['a'], z['a'] == x['a'], z['a'] is x['a'])\n",
    "print(w['a'], w['a'] == x['a'], w['a'] is x['a'])"
   ]
  },
  {
   "cell_type": "markdown",
   "id": "a63affd4",
   "metadata": {},
   "source": [
    "예상대로, 같은 결과가 나온다."
   ]
  },
  {
   "cell_type": "markdown",
   "id": "cbf23bf4",
   "metadata": {},
   "source": [
    "## 25.6. 퀴즈"
   ]
  },
  {
   "cell_type": "markdown",
   "id": "9a797f96",
   "metadata": {},
   "source": [
    "1번 문제"
   ]
  },
  {
   "cell_type": "code",
   "execution_count": 132,
   "id": "f4ce3a4d",
   "metadata": {},
   "outputs": [
    {
     "data": {
      "text/plain": [
       "1"
      ]
     },
     "execution_count": 132,
     "metadata": {},
     "output_type": "execute_result"
    }
   ],
   "source": [
    "# a : 틀렸다.\n",
    "x = {'Python':1,'Java':2,'C':3}\n",
    "# x.pop() # error : pop expected at least 1 argument, got 0\n",
    "x.pop('Python') # 옳은 표현"
   ]
  },
  {
   "cell_type": "code",
   "execution_count": 123,
   "id": "695bc5a6",
   "metadata": {},
   "outputs": [
    {
     "data": {
      "text/plain": [
       "('C', 3)"
      ]
     },
     "execution_count": 123,
     "metadata": {},
     "output_type": "execute_result"
    }
   ],
   "source": [
    "# b : 틀렸다.\n",
    "x = {'Python':1,'Java':2,'C':3}\n",
    "x.popitem()"
   ]
  },
  {
   "cell_type": "code",
   "execution_count": 127,
   "id": "c5303747",
   "metadata": {},
   "outputs": [
    {
     "name": "stdout",
     "output_type": "stream",
     "text": [
      "{'Java': 2, 'C': 3}\n"
     ]
    }
   ],
   "source": [
    "# c : 맞다.\n",
    "x = {'Python':1,'Java':2,'C':3}\n",
    "x.pop('Python',100) # return : 1\n",
    "print(x)"
   ]
  },
  {
   "cell_type": "code",
   "execution_count": 137,
   "id": "357a6252",
   "metadata": {},
   "outputs": [],
   "source": [
    "# d : 틀렸다.\n",
    "x = {'Python':1,'Java':2,'C':3}\n",
    "# x.remove('Python') # error : 'dict' object has no attribute 'remove' "
   ]
  },
  {
   "cell_type": "code",
   "execution_count": 140,
   "id": "b3617386",
   "metadata": {},
   "outputs": [
    {
     "name": "stdout",
     "output_type": "stream",
     "text": [
      "{'Java': 2, 'C': 3}\n"
     ]
    }
   ],
   "source": [
    "# e : 맞다.\n",
    "x = {'Python':1,'Java':2,'C':3}\n",
    "del x['Python'] # return : x\n",
    "print(x)"
   ]
  },
  {
   "cell_type": "markdown",
   "id": "5d31b429",
   "metadata": {},
   "source": [
    "2번 문제 : 올바르지 않은 것은?\n",
    " - a. `setdefault`는 딕셔너리에 키-값 쌍을 추가한다. o\n",
    " - b. `setdefault`는 키만 지정하면 값은 0으로 지정한다. x / 9이 아니라 None이다.\n",
    " - c. `keys`는 딕셔너리의 키-값 쌍을 모두 가져온다. x / 키만 가져온다.\n",
    " - d. `clear`는 딕셔너리에 키-값 쌍을 모두 삭제한다. o\n",
    " - e. `update`는 딕셔너리에 키의 값을 수정한다. o "
   ]
  },
  {
   "cell_type": "markdown",
   "id": "20a52895",
   "metadata": {},
   "source": [
    "3번 문제"
   ]
  },
  {
   "cell_type": "code",
   "execution_count": 161,
   "id": "f592ee16",
   "metadata": {},
   "outputs": [
    {
     "name": "stdout",
     "output_type": "stream",
     "text": [
      "a\n",
      "b\n",
      "c\n"
     ]
    }
   ],
   "source": [
    "# a : 틀렸다.\n",
    "x = {'a':1,'b':2,'c':3}\n",
    "# for key, value in x:\n",
    "#     print(key)\n",
    "# error : not enough values to unpack (expected 2, got 1)\n",
    "for key,value in x.items(): # 유효한 답 -> e\n",
    "    print(key)"
   ]
  },
  {
   "cell_type": "code",
   "execution_count": 158,
   "id": "160b4e66",
   "metadata": {},
   "outputs": [
    {
     "name": "stdout",
     "output_type": "stream",
     "text": [
      "a\n",
      "b\n",
      "c\n"
     ]
    }
   ],
   "source": [
    "# b : 맞다.\n",
    "x = {'a':1,'b':2,'c':3}\n",
    "for key in x: # 틀릴 것 같이 보이지만 맞았다.\n",
    "    print(key)\n",
    "# for key in x.keys(): # altenative answer -> c\n",
    "#     print(key)\n"
   ]
  },
  {
   "cell_type": "code",
   "execution_count": 159,
   "id": "fbbe3cac",
   "metadata": {},
   "outputs": [
    {
     "name": "stdout",
     "output_type": "stream",
     "text": [
      "a\n",
      "b\n",
      "c\n"
     ]
    }
   ],
   "source": [
    "# c : 맞다.\n",
    "x = {'a':1,'b':2,'c':3}\n",
    "for key in x.keys(): # 문법에 정확히 맞다.\n",
    "    print(key)"
   ]
  },
  {
   "cell_type": "code",
   "execution_count": 160,
   "id": "fbadd53a",
   "metadata": {},
   "outputs": [
    {
     "name": "stdout",
     "output_type": "stream",
     "text": [
      "1\n",
      "2\n",
      "3\n"
     ]
    }
   ],
   "source": [
    "# d : 틀렸다.\n",
    "x = {'a':1,'b':2,'c':3}\n",
    "for value in x.values(): # 키들을 출력해야 하는데, 값들을 출력하고 있다.\n",
    "    print(value)"
   ]
  },
  {
   "cell_type": "code",
   "execution_count": 162,
   "id": "63d63a20",
   "metadata": {},
   "outputs": [
    {
     "name": "stdout",
     "output_type": "stream",
     "text": [
      "a\n",
      "b\n",
      "c\n"
     ]
    }
   ],
   "source": [
    "# e : 맞다.\n",
    "x = {'a':1,'b':2,'c':3}\n",
    "for key, value in x.items(): # 문법에 정확히 맞다.\n",
    "    print(key)"
   ]
  },
  {
   "cell_type": "markdown",
   "id": "b42c639e",
   "metadata": {},
   "source": [
    "4번 문제 : `x = {'a': 10, 'b': 20, 'c': 30, 'd': 40}`일 때, 값이 40인 키-값을 삭제하는 방법은?"
   ]
  },
  {
   "cell_type": "code",
   "execution_count": 188,
   "id": "94bd28be",
   "metadata": {},
   "outputs": [
    {
     "ename": "RuntimeError",
     "evalue": "dictionary changed size during iteration",
     "output_type": "error",
     "traceback": [
      "\u001b[0;31m---------------------------------------------------------------------------\u001b[0m",
      "\u001b[0;31mRuntimeError\u001b[0m                              Traceback (most recent call last)",
      "\u001b[0;32m/tmp/ipykernel_33/3342491992.py\u001b[0m in \u001b[0;36m<module>\u001b[0;34m\u001b[0m\n\u001b[1;32m      1\u001b[0m \u001b[0;31m# a : 맞을 것 같은데 틀리네?\u001b[0m\u001b[0;34m\u001b[0m\u001b[0;34m\u001b[0m\u001b[0m\n\u001b[1;32m      2\u001b[0m \u001b[0mx\u001b[0m \u001b[0;34m=\u001b[0m \u001b[0;34m{\u001b[0m\u001b[0;34m'a'\u001b[0m\u001b[0;34m:\u001b[0m \u001b[0;36m10\u001b[0m\u001b[0;34m,\u001b[0m \u001b[0;34m'b'\u001b[0m\u001b[0;34m:\u001b[0m \u001b[0;36m20\u001b[0m\u001b[0;34m,\u001b[0m \u001b[0;34m'c'\u001b[0m\u001b[0;34m:\u001b[0m \u001b[0;36m30\u001b[0m\u001b[0;34m,\u001b[0m \u001b[0;34m'd'\u001b[0m\u001b[0;34m:\u001b[0m \u001b[0;36m40\u001b[0m\u001b[0;34m}\u001b[0m\u001b[0;34m\u001b[0m\u001b[0;34m\u001b[0m\u001b[0m\n\u001b[0;32m----> 3\u001b[0;31m \u001b[0;32mfor\u001b[0m \u001b[0mkey\u001b[0m\u001b[0;34m,\u001b[0m \u001b[0mvalue\u001b[0m \u001b[0;32min\u001b[0m \u001b[0mx\u001b[0m\u001b[0;34m.\u001b[0m\u001b[0mitems\u001b[0m\u001b[0;34m(\u001b[0m\u001b[0;34m)\u001b[0m\u001b[0;34m:\u001b[0m \u001b[0;31m# RuntimeError: dictionary changed size during iteration\u001b[0m\u001b[0;34m\u001b[0m\u001b[0;34m\u001b[0m\u001b[0m\n\u001b[0m\u001b[1;32m      4\u001b[0m \u001b[0;34m\u001b[0m\u001b[0m\n\u001b[1;32m      5\u001b[0m     \u001b[0;32mif\u001b[0m \u001b[0mvalue\u001b[0m \u001b[0;34m==\u001b[0m \u001b[0;36m40\u001b[0m\u001b[0;34m:\u001b[0m\u001b[0;34m\u001b[0m\u001b[0;34m\u001b[0m\u001b[0m\n",
      "\u001b[0;31mRuntimeError\u001b[0m: dictionary changed size during iteration"
     ]
    }
   ],
   "source": [
    "# a : 맞을 것 같은데 틀리네?\n",
    "x = {'a': 10, 'b': 20, 'c': 30, 'd': 40}\n",
    "for key, value in x.items(): # RuntimeError: dictionary changed size during iteration\n",
    "\n",
    "    if value == 40:\n",
    "        del x[key]\n",
    "print(x)"
   ]
  },
  {
   "cell_type": "code",
   "execution_count": 191,
   "id": "7a1bb0bb",
   "metadata": {},
   "outputs": [
    {
     "name": "stdout",
     "output_type": "stream",
     "text": [
      "{'a': 10, 'b': 20, 'c': 30}\n"
     ]
    }
   ],
   "source": [
    "# 위의 코드를 풀어 쓴 아래 코드는 정상적으로 동작한다.\n",
    "x = {'a': 10, 'b': 20, 'c': 30, 'd': 40}\n",
    "key = list(x.keys())[0]\n",
    "value = list(x.values())[0]\n",
    "if value == 40:\n",
    "    del x[key]\n",
    "key = list(x.keys())[1]\n",
    "value = list(x.values())[1]\n",
    "if value == 40:\n",
    "    del x[key]\n",
    "key = list(x.keys())[2]\n",
    "value = list(x.values())[2]\n",
    "if value == 40:\n",
    "    del x[key]\n",
    "key = list(x.keys())[3]\n",
    "value = list(x.values())[3]\n",
    "if value == 40:\n",
    "    del x[key]\n",
    "print(x)"
   ]
  },
  {
   "cell_type": "code",
   "execution_count": 208,
   "id": "826f883c",
   "metadata": {},
   "outputs": [
    {
     "name": "stdout",
     "output_type": "stream",
     "text": [
      "{'b': 20, 'c': 30, 'd': 40}\n"
     ]
    }
   ],
   "source": [
    "# b : 틀렸다.\n",
    "# x = {'a': 10, 'b': 20, 'c': 30, 'd': 40}\n",
    "# del x[40] # KeyError: 40\n",
    "# print(x)\n",
    "\n",
    "x = {'a': 10, 'b': 20, 'c': 30, 'd': 40}\n",
    "del x['a'] # 옳게 만들어진 코드\n",
    "print(x)"
   ]
  },
  {
   "cell_type": "code",
   "execution_count": 203,
   "id": "0e410040",
   "metadata": {},
   "outputs": [
    {
     "name": "stdout",
     "output_type": "stream",
     "text": [
      "{'a': 10, 'b': 20, 'c': 30, 'd': 40}\n"
     ]
    }
   ],
   "source": [
    "# c : 틀렸다.\n",
    "x = {'a': 10, 'b': 20, 'c': 30, 'd': 40}\n",
    "x = {key: value for key, value in x.items()} # 아무 일도 하지 않았다.\n",
    "print(x)"
   ]
  },
  {
   "cell_type": "code",
   "execution_count": 204,
   "id": "9bb1df97",
   "metadata": {},
   "outputs": [
    {
     "name": "stdout",
     "output_type": "stream",
     "text": [
      "True\n",
      "False\n",
      "True\n",
      "False\n"
     ]
    }
   ],
   "source": [
    "x = {'a': 10, 'b': 20, 'c': 30, 'd': 40}\n",
    "y = {key: value for key, value in x.items()}\n",
    "z = x.copy()\n",
    "print(x == y)\n",
    "print(x is y) # y는 x와 비교했을 때, 주소만 다를 뿐 그 값이 완전히 같다.\n",
    "print(y == z)\n",
    "print(y is z) # y는 z = x.copy()와 비교했을 때에도, 주소가 다르고 값이 같다."
   ]
  },
  {
   "cell_type": "code",
   "execution_count": 209,
   "id": "f5a83b4b",
   "metadata": {},
   "outputs": [
    {
     "name": "stdout",
     "output_type": "stream",
     "text": [
      "{'a': 10, 'b': 20, 'c': 30}\n"
     ]
    }
   ],
   "source": [
    "# d : 맞다.\n",
    "x = {'a': 10, 'b': 20, 'c': 30, 'd': 40}\n",
    "x = {key: value for key, value in x.items() if value != 40} # 문법에 정확히 맞다.\n",
    "print(x)"
   ]
  },
  {
   "cell_type": "code",
   "execution_count": 210,
   "id": "49ec4e6e",
   "metadata": {},
   "outputs": [
    {
     "name": "stdout",
     "output_type": "stream",
     "text": [
      "{'d': 40}\n"
     ]
    }
   ],
   "source": [
    "# e : 틀렸다.\n",
    "x = {'a': 10, 'b': 20, 'c': 30, 'd': 40}\n",
    "x = {key: value for key, value in x.items() if value == 40} # 정답인 d와 반대로 적었다.\n",
    "print(x)"
   ]
  },
  {
   "cell_type": "markdown",
   "id": "ed95d560",
   "metadata": {},
   "source": [
    "5번 문제 : 쉬운.. 줄 알았는데 어렵네.. 는 아니고 쉽다."
   ]
  },
  {
   "cell_type": "code",
   "execution_count": 217,
   "id": "2f57fc8c",
   "metadata": {},
   "outputs": [
    {
     "data": {
      "text/plain": [
       "1"
      ]
     },
     "execution_count": 217,
     "metadata": {},
     "output_type": "execute_result"
    }
   ],
   "source": [
    "terrestrial_planet = {\n",
    "    'Earth': {\n",
    "        'physical_characteristics': {\n",
    "            'mean_radius': 6371.0,\n",
    "            'mass': 5.97219E+24\n",
    "        },\n",
    "        'orbital_characteristics': {\n",
    "            'orbital_period': 365.25641,\n",
    "            'satellites': 1\n",
    "        }\n",
    "    },\n",
    "    'Mars': {\n",
    "        'physical_characteristics': {\n",
    "            'mean_radius': 3389.5,\n",
    "            'mass': 6.4185E+23\n",
    "        },\n",
    "        'orbital_characteristics': {\n",
    "            'orbital_period': 686.9600,\n",
    "            'satellites': 2\n",
    "        }\n",
    "    }\n",
    "}\n",
    "terrestrial_planet['Earth']['orbital_characteristics']['satellites']"
   ]
  },
  {
   "cell_type": "markdown",
   "id": "74363e1c",
   "metadata": {},
   "source": [
    "6번 문제 : "
   ]
  },
  {
   "cell_type": "code",
   "execution_count": null,
   "id": "f122f540",
   "metadata": {},
   "outputs": [],
   "source": [
    "import copy\n",
    "x = {'python': {'version': '2.7'}, 'script': {'name': 'hello.py'}}\n",
    "a = x\n",
    "b = x.copy()\n",
    "c = copy.deepcopy(x)\n",
    "x['python']['version'] = '3.6'\n",
    "print(a['python']['version'], b['python']['version'], c['python']['version'])"
   ]
  },
  {
   "cell_type": "markdown",
   "id": "9e195b61",
   "metadata": {},
   "source": [
    " - 원래의 변수 와 (2레벨 이상의 의미에서) 다른 변수 를 만드려면 **깊은 복사**를 해야 한다.(cf. 25.5.1)\n",
    " - `a['python']['version']`는 당연히 `x['python']['version']`(=`3.6`)과 같다. (할당)\n",
    "   - 실제로 두 값은 뼛속까지 같다 (`is`)\n",
    " - `b['python']['version']`는 여전히 `x['python']['version']`(=`3.6`)과 같다. (복사)\n",
    "   - 이 두 값도 뼛속까지 같다 (`is`)\n",
    " - `c['python']['version']`는 `x['python']['version']`(=`3.6`)와 다르다. (깊은복사)\n",
    "   - 이 두 값은 뼛속까지 같지 않을 뿐더러 (`not is`), 값 또한 다르다(`!=`).\n",
    "   - `c['python']['version']`는 변경되기 전 값인 `2.7`이다."
   ]
  },
  {
   "cell_type": "markdown",
   "id": "b4ba43dc",
   "metadata": {},
   "source": [
    "열심히 적었다.\n",
    "맞는 말을 적은 것 같다.\n",
    "하지만 10분 정도만 흐른다고 하더라도 다시 참 거짓을 판별하라고 하면 못하겠다."
   ]
  },
  {
   "cell_type": "markdown",
   "id": "bc98d39f",
   "metadata": {},
   "source": [
    "## 25.7. 연습문제"
   ]
  },
  {
   "cell_type": "code",
   "execution_count": 283,
   "id": "755ede52",
   "metadata": {
    "scrolled": true
   },
   "outputs": [
    {
     "name": "stdout",
     "output_type": "stream",
     "text": [
      "dict_keys(['korean', 'english', 'mathematics', 'science'])\n",
      "[94, 91, 89, 83]\n",
      "89.25\n"
     ]
    }
   ],
   "source": [
    "maria = {'korean': 94, 'english': 91, 'mathematics': 89, 'science': 83}\n",
    "print(maria.keys())\n",
    "A = []\n",
    "for value in maria.values():\n",
    "    A.append(value)\n",
    "print(A)\n",
    "print(sum(A)/len(A))\n",
    "#print(average)"
   ]
  },
  {
   "cell_type": "markdown",
   "id": "3b615dfe",
   "metadata": {},
   "source": [
    "## 25.8. 심사문제"
   ]
  },
  {
   "cell_type": "code",
   "execution_count": 292,
   "id": "948ec50e",
   "metadata": {},
   "outputs": [
    {
     "name": "stdout",
     "output_type": "stream",
     "text": [
      "{'alpha': 10, 'beta': 20, 'gamma': 30, 'delta': 40, 'epsilon': 0.01}\n",
      "{'alpha': 10, 'beta': 20, 'delta': 40, 'epsilon': 0.01}\n",
      "{'alpha': 10, 'beta': 20, 'epsilon': 0.01}\n"
     ]
    }
   ],
   "source": [
    "keys = ['alpha', 'beta', 'gamma', 'delta','epsilon']\n",
    "values = [10, 20, 30, 40, 0.01]\n",
    "x = dict(zip(keys,values))\n",
    "print(x)\n",
    "x = {key:value for key, value in x.items() if value !=30}\n",
    "print(x)\n",
    "del x['delta']\n",
    "print(x)"
   ]
  },
  {
   "cell_type": "code",
   "execution_count": 293,
   "id": "8e69ff28",
   "metadata": {},
   "outputs": [
    {
     "name": "stdout",
     "output_type": "stream",
     "text": [
      "{'alpha': 10, 'bravo': 20, 'charlie': 30, 'delta': 40}\n",
      "{'alpha': 10, 'bravo': 20, 'delta': 40}\n",
      "{'alpha': 10, 'bravo': 20}\n"
     ]
    }
   ],
   "source": [
    "keys = ['alpha', 'bravo', 'charlie', 'delta']\n",
    "values = [10, 20, 30, 40]\n",
    "x = dict(zip(keys,values))\n",
    "print(x)\n",
    "x = {key:value for key, value in x.items() if value !=30}\n",
    "print(x)\n",
    "del x['delta']\n",
    "print(x)"
   ]
  },
  {
   "cell_type": "markdown",
   "id": "e89b0b76",
   "metadata": {},
   "source": [
    "입력1 : alpha bravo charlie delta\n",
    "입력2 : 10 20 30 40"
   ]
  },
  {
   "cell_type": "code",
   "execution_count": 295,
   "id": "7ed35620",
   "metadata": {},
   "outputs": [
    {
     "name": "stdout",
     "output_type": "stream",
     "text": [
      "alpha bravo charlie delta echo foxtrot golf\n",
      "30 40 50 60 70 80 90\n",
      "{'bravo': 40, 'charlie': 50, 'echo': 70, 'foxtrot': 80, 'golf': 90}\n"
     ]
    }
   ],
   "source": [
    "keys = input().split()\n",
    "values = map(int, input().split())\n",
    "x = dict(zip(keys,values))\n",
    "x = {key:value for key, value in x.items() if value !=30}\n",
    "del x['delta']\n",
    "print(x)"
   ]
  }
 ],
 "metadata": {
  "kernelspec": {
   "display_name": "Python 3 (ipykernel)",
   "language": "python",
   "name": "python3"
  },
  "language_info": {
   "codemirror_mode": {
    "name": "ipython",
    "version": 3
   },
   "file_extension": ".py",
   "mimetype": "text/x-python",
   "name": "python",
   "nbconvert_exporter": "python",
   "pygments_lexer": "ipython3",
   "version": "3.9.7"
  }
 },
 "nbformat": 4,
 "nbformat_minor": 5
}
