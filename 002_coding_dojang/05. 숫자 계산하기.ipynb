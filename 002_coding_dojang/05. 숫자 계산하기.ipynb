{
 "cells": [
  {
   "cell_type": "markdown",
   "id": "78eb4063",
   "metadata": {},
   "source": [
    "# 5. 숫자 계산하기"
   ]
  },
  {
   "cell_type": "markdown",
   "id": "94cbe185",
   "metadata": {},
   "source": [
    "## 5.1. 정수 계산하기"
   ]
  },
  {
   "cell_type": "markdown",
   "id": "050c5d87",
   "metadata": {},
   "source": [
    "### 5.1.1 사칙연산"
   ]
  },
  {
   "cell_type": "code",
   "execution_count": 31,
   "id": "0178979b",
   "metadata": {},
   "outputs": [
    {
     "data": {
      "text/plain": [
       "2"
      ]
     },
     "execution_count": 31,
     "metadata": {},
     "output_type": "execute_result"
    }
   ],
   "source": [
    "1+1"
   ]
  },
  {
   "cell_type": "code",
   "execution_count": 20,
   "id": "ebcb6f29",
   "metadata": {},
   "outputs": [
    {
     "data": {
      "text/plain": [
       "-1"
      ]
     },
     "execution_count": 20,
     "metadata": {},
     "output_type": "execute_result"
    }
   ],
   "source": [
    "1-2"
   ]
  },
  {
   "cell_type": "code",
   "execution_count": 21,
   "id": "601f2cfd",
   "metadata": {},
   "outputs": [
    {
     "data": {
      "text/plain": [
       "4"
      ]
     },
     "execution_count": 21,
     "metadata": {},
     "output_type": "execute_result"
    }
   ],
   "source": [
    "2*2"
   ]
  },
  {
   "cell_type": "code",
   "execution_count": 22,
   "id": "b9129c4e",
   "metadata": {},
   "outputs": [
    {
     "data": {
      "text/plain": [
       "2.5"
      ]
     },
     "execution_count": 22,
     "metadata": {},
     "output_type": "execute_result"
    }
   ],
   "source": [
    "5/2"
   ]
  },
  {
   "cell_type": "code",
   "execution_count": 27,
   "id": "841ff0e5",
   "metadata": {},
   "outputs": [
    {
     "data": {
      "text/plain": [
       "2.0"
      ]
     },
     "execution_count": 27,
     "metadata": {},
     "output_type": "execute_result"
    }
   ],
   "source": [
    "4/2"
   ]
  },
  {
   "cell_type": "code",
   "execution_count": 28,
   "id": "0922debd",
   "metadata": {},
   "outputs": [
    {
     "name": "stdout",
     "output_type": "stream",
     "text": [
      "<class 'int'>\n",
      "<class 'float'>\n",
      "2.0\n"
     ]
    }
   ],
   "source": [
    "print(type(1+1)); print(type(5/2)) ; print(4/2)"
   ]
  },
  {
   "cell_type": "markdown",
   "id": "92d46b19",
   "metadata": {},
   "source": [
    "### 5.1.2. 정수의 나눗셈 : 몫"
   ]
  },
  {
   "cell_type": "code",
   "execution_count": 32,
   "id": "83ee6b8c",
   "metadata": {},
   "outputs": [
    {
     "name": "stdout",
     "output_type": "stream",
     "text": [
      "2\n",
      "2\n"
     ]
    }
   ],
   "source": [
    "print(5//2)\n",
    "print(4//2)"
   ]
  },
  {
   "cell_type": "markdown",
   "id": "3be835cc",
   "metadata": {},
   "source": [
    "### 5.1.3. 정수의 나눗셈 : 나눗셈"
   ]
  },
  {
   "cell_type": "code",
   "execution_count": 33,
   "id": "fa825353",
   "metadata": {},
   "outputs": [
    {
     "name": "stdout",
     "output_type": "stream",
     "text": [
      "1\n",
      "0\n"
     ]
    }
   ],
   "source": [
    "print(5%2)\n",
    "print(4%2)"
   ]
  },
  {
   "cell_type": "code",
   "execution_count": 39,
   "id": "419a5871",
   "metadata": {},
   "outputs": [
    {
     "name": "stdout",
     "output_type": "stream",
     "text": [
      "5를 2로 나누면 몫은  2 이고, 나머지는 1 이다.\n"
     ]
    }
   ],
   "source": [
    "print('5를 2로 나누면 몫은 ', 5//2,'이고, 나머지는',5%2,'이다.')"
   ]
  },
  {
   "cell_type": "markdown",
   "id": "cbb94710",
   "metadata": {},
   "source": [
    "### 5.1.4. 거듭제곱을 구하는 ** 연산자"
   ]
  },
  {
   "cell_type": "code",
   "execution_count": 40,
   "id": "19ffe860",
   "metadata": {},
   "outputs": [
    {
     "data": {
      "text/plain": [
       "1024"
      ]
     },
     "execution_count": 40,
     "metadata": {},
     "output_type": "execute_result"
    }
   ],
   "source": [
    "2**10"
   ]
  },
  {
   "cell_type": "code",
   "execution_count": 41,
   "id": "4760e14f",
   "metadata": {},
   "outputs": [
    {
     "data": {
      "text/plain": [
       "20"
      ]
     },
     "execution_count": 41,
     "metadata": {},
     "output_type": "execute_result"
    }
   ],
   "source": [
    "2*10"
   ]
  },
  {
   "cell_type": "code",
   "execution_count": 53,
   "id": "5dfcb4fd",
   "metadata": {},
   "outputs": [
    {
     "name": "stdout",
     "output_type": "stream",
     "text": [
      "1 2 3 4 5\n",
      "2 4 6 8 10\n",
      "3 6 9 12 15\n",
      "4 8 12 16 20\n",
      "5 10 15 20 25\n"
     ]
    }
   ],
   "source": [
    "print(1*1,1*2,1*3,1*4,1*5)\n",
    "print(2*1,2*2,2*3,2*4,2*5)\n",
    "print(3*1,3*2,3*3,3*4,3*5)\n",
    "print(4*1,4*2,4*3,4*4,4*5)\n",
    "print(5*1,5*2,5*3,5*4,5*5)"
   ]
  },
  {
   "cell_type": "code",
   "execution_count": 55,
   "id": "a19513bd",
   "metadata": {},
   "outputs": [
    {
     "name": "stdout",
     "output_type": "stream",
     "text": [
      "^는 어떤 연산이지?\n",
      "0 3 2 5 4\n",
      "3 0 1 6 7\n",
      "2 1 0 7 6\n",
      "5 6 7 0 1\n",
      "4 7 6 1 0\n"
     ]
    }
   ],
   "source": [
    "print('^는 어떤 연산이지?')\n",
    "print(1^1,1^2,1^3,1^4,1^5)\n",
    "print(2^1,2^2,2^3,2^4,2^5)\n",
    "print(3^1,3^2,3^3,3^4,3^5)\n",
    "print(4^1,4^2,4^3,4^4,4^5)\n",
    "print(5^1,5^2,5^3,5^4,5^5)"
   ]
  },
  {
   "cell_type": "markdown",
   "id": "b1f9b7e3",
   "metadata": {},
   "source": [
    "### 5.1.5. 값을 정수로 만들기"
   ]
  },
  {
   "cell_type": "code",
   "execution_count": 60,
   "id": "ac06e03e",
   "metadata": {},
   "outputs": [
    {
     "name": "stdout",
     "output_type": "stream",
     "text": [
      "3\n",
      "<class 'int'>\n",
      "2\n",
      "<class 'int'>\n",
      "10\n",
      "<class 'int'>\n"
     ]
    }
   ],
   "source": [
    "a=3.3 ; print(int(a)) ; print(type(int(a)))\n",
    "b=5/2 ; print(int(b)) ; print(type(int(b)))\n",
    "c='10' ; print(int(c)) ; print(type(int(c)))"
   ]
  },
  {
   "cell_type": "markdown",
   "id": "d71037d9",
   "metadata": {},
   "source": [
    "### 5.1.6. 객체의 자료형 알아내기"
   ]
  },
  {
   "cell_type": "code",
   "execution_count": 62,
   "id": "af773a50",
   "metadata": {},
   "outputs": [
    {
     "name": "stdout",
     "output_type": "stream",
     "text": [
      "<class 'int'>\n",
      "<class 'float'>\n",
      "<class 'str'>\n"
     ]
    }
   ],
   "source": [
    "print(type(10))\n",
    "print(type(10.1))\n",
    "print(type('10'))"
   ]
  },
  {
   "cell_type": "code",
   "execution_count": 66,
   "id": "c1c5694c",
   "metadata": {},
   "outputs": [
    {
     "name": "stdout",
     "output_type": "stream",
     "text": [
      "2 1\n"
     ]
    }
   ],
   "source": [
    "quotient,remainder = divmod(5,2)\n",
    "print(quotient,remainder)"
   ]
  },
  {
   "cell_type": "markdown",
   "id": "54ba2097",
   "metadata": {},
   "source": [
    "## 5.2. 실수 계산하기"
   ]
  },
  {
   "cell_type": "code",
   "execution_count": 67,
   "id": "c85a00e6",
   "metadata": {},
   "outputs": [
    {
     "data": {
      "text/plain": [
       "5.6"
      ]
     },
     "execution_count": 67,
     "metadata": {},
     "output_type": "execute_result"
    }
   ],
   "source": [
    "3.5+2.1"
   ]
  },
  {
   "cell_type": "code",
   "execution_count": 68,
   "id": "ea97a9b0",
   "metadata": {},
   "outputs": [
    {
     "data": {
      "text/plain": [
       "1.5999999999999996"
      ]
     },
     "execution_count": 68,
     "metadata": {},
     "output_type": "execute_result"
    }
   ],
   "source": [
    "4.3-2.7"
   ]
  },
  {
   "cell_type": "code",
   "execution_count": 69,
   "id": "f053a8fa",
   "metadata": {},
   "outputs": [
    {
     "data": {
      "text/plain": [
       "4.65"
      ]
     },
     "execution_count": 69,
     "metadata": {},
     "output_type": "execute_result"
    }
   ],
   "source": [
    "1.5*3.1"
   ]
  },
  {
   "cell_type": "code",
   "execution_count": 70,
   "id": "6c4230ae",
   "metadata": {},
   "outputs": [
    {
     "data": {
      "text/plain": [
       "1.7741935483870968"
      ]
     },
     "execution_count": 70,
     "metadata": {},
     "output_type": "execute_result"
    }
   ],
   "source": [
    "5.5/3.1"
   ]
  },
  {
   "cell_type": "markdown",
   "id": "5e49a31d",
   "metadata": {},
   "source": [
    "### 5.2.1. 실수와 정수를 함께 계산하면?"
   ]
  },
  {
   "cell_type": "code",
   "execution_count": 71,
   "id": "30feaf88",
   "metadata": {},
   "outputs": [
    {
     "data": {
      "text/plain": [
       "9.2"
      ]
     },
     "execution_count": 71,
     "metadata": {},
     "output_type": "execute_result"
    }
   ],
   "source": [
    "4.2+5"
   ]
  },
  {
   "cell_type": "markdown",
   "id": "7119e8db",
   "metadata": {},
   "source": [
    "### 5.2.2. 값을 실수로 만들기"
   ]
  },
  {
   "cell_type": "code",
   "execution_count": 72,
   "id": "f4ba04b4",
   "metadata": {},
   "outputs": [
    {
     "name": "stdout",
     "output_type": "stream",
     "text": [
      "5.0\n",
      "3.0\n",
      "5.3\n"
     ]
    }
   ],
   "source": [
    "print(float(5))\n",
    "print(float(1+2))\n",
    "print(float('5.3'))"
   ]
  },
  {
   "cell_type": "code",
   "execution_count": 73,
   "id": "79ffa089",
   "metadata": {},
   "outputs": [
    {
     "data": {
      "text/plain": [
       "(1.2+1.3j)"
      ]
     },
     "execution_count": 73,
     "metadata": {},
     "output_type": "execute_result"
    }
   ],
   "source": [
    "1.2+1.3j"
   ]
  },
  {
   "cell_type": "markdown",
   "id": "671db8e5",
   "metadata": {},
   "source": [
    "## 5.3. 괄호 사용하기"
   ]
  },
  {
   "cell_type": "code",
   "execution_count": 75,
   "id": "79b01138",
   "metadata": {},
   "outputs": [
    {
     "name": "stdout",
     "output_type": "stream",
     "text": [
      "37\n",
      "72\n"
     ]
    }
   ],
   "source": [
    "print(35+1*2)\n",
    "print((35+1)*2)"
   ]
  },
  {
   "cell_type": "markdown",
   "id": "aa5b716e",
   "metadata": {},
   "source": [
    "## 5.4. 퀴즈"
   ]
  },
  {
   "cell_type": "markdown",
   "id": "5909d94e",
   "metadata": {},
   "source": [
    "## 5.5. 연습문제"
   ]
  },
  {
   "cell_type": "markdown",
   "id": "25cbfc9c",
   "metadata": {},
   "source": [
    "## 5.6 심사문제 "
   ]
  },
  {
   "cell_type": "markdown",
   "id": "839933e2",
   "metadata": {},
   "source": [
    "## 5.7*. 스스로 만든 퀴즈"
   ]
  },
  {
   "cell_type": "markdown",
   "id": "29bf2937",
   "metadata": {},
   "source": [
    "파이썬에서"
   ]
  },
  {
   "cell_type": "code",
   "execution_count": 146,
   "id": "a2e6ad8e",
   "metadata": {},
   "outputs": [
    {
     "data": {
      "text/plain": [
       "81"
      ]
     },
     "execution_count": 146,
     "metadata": {},
     "output_type": "execute_result"
    }
   ],
   "source": [
    "3**4"
   ]
  },
  {
   "cell_type": "markdown",
   "id": "68b87c87",
   "metadata": {},
   "source": [
    "와 같이 입력하면 3의 네제곱인 81이 출력된다.\n",
    "그런데 보통 수식 입력기에서는 지수를 정의할 때"
   ]
  },
  {
   "cell_type": "code",
   "execution_count": 265,
   "id": "85c3349c",
   "metadata": {},
   "outputs": [
    {
     "data": {
      "text/plain": [
       "7"
      ]
     },
     "execution_count": 265,
     "metadata": {},
     "output_type": "execute_result"
    }
   ],
   "source": [
    "3^4"
   ]
  },
  {
   "cell_type": "markdown",
   "id": "33e0fbf1",
   "metadata": {},
   "source": [
    "라고 쓴다.\n",
    "실제 파이썬에서 위의 식을 입력하면 81 대신 7이 뜬다.\n",
    "이건 무슨 연산일까?"
   ]
  }
 ],
 "metadata": {
  "kernelspec": {
   "display_name": "Python 3 (ipykernel)",
   "language": "python",
   "name": "python3"
  },
  "language_info": {
   "codemirror_mode": {
    "name": "ipython",
    "version": 3
   },
   "file_extension": ".py",
   "mimetype": "text/x-python",
   "name": "python",
   "nbconvert_exporter": "python",
   "pygments_lexer": "ipython3",
   "version": "3.9.7"
  }
 },
 "nbformat": 4,
 "nbformat_minor": 5
}
