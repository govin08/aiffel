{
 "cells": [
  {
   "cell_type": "markdown",
   "id": "b8e789d5",
   "metadata": {},
   "source": [
    "# 1. 준비"
   ]
  },
  {
   "cell_type": "code",
   "execution_count": 1,
   "id": "e1ed72fd",
   "metadata": {},
   "outputs": [],
   "source": [
    "from functools import reduce\n",
    "import numpy as np\n",
    "import matplotlib.pylab as plt"
   ]
  },
  {
   "cell_type": "code",
   "execution_count": 2,
   "id": "4c21fcab",
   "metadata": {},
   "outputs": [],
   "source": [
    "def step_func(x:np.ndarray):\n",
    "    return (x>0).astype(np.int64)"
   ]
  },
  {
   "cell_type": "code",
   "execution_count": 3,
   "id": "c6231a1d",
   "metadata": {},
   "outputs": [
    {
     "data": {
      "text/plain": [
       "array([0, 0, 0, 0, 1, 1])"
      ]
     },
     "execution_count": 3,
     "metadata": {},
     "output_type": "execute_result"
    }
   ],
   "source": [
    "step_func(np.arange(-3,3))"
   ]
  },
  {
   "cell_type": "code",
   "execution_count": 4,
   "id": "943f27e1",
   "metadata": {},
   "outputs": [],
   "source": [
    "def sigmode(x:np.ndarray):\n",
    "    return 1 / (1+np.exp(-x))"
   ]
  },
  {
   "cell_type": "code",
   "execution_count": 5,
   "id": "a462df6c",
   "metadata": {},
   "outputs": [
    {
     "data": {
      "text/plain": [
       "array([0.04742587, 0.11920292, 0.26894142, 0.5       , 0.73105858,\n",
       "       0.88079708])"
      ]
     },
     "execution_count": 5,
     "metadata": {},
     "output_type": "execute_result"
    }
   ],
   "source": [
    "sigmode(np.arange(-3,3))"
   ]
  },
  {
   "cell_type": "code",
   "execution_count": 6,
   "id": "ea00f0f3",
   "metadata": {},
   "outputs": [],
   "source": [
    "def relu(x:np.ndarray):\n",
    "    return np.maximum(0,x)"
   ]
  },
  {
   "cell_type": "code",
   "execution_count": 7,
   "id": "2a4ca9f2",
   "metadata": {},
   "outputs": [
    {
     "data": {
      "text/plain": [
       "array([0, 0, 0, 0, 1, 2])"
      ]
     },
     "execution_count": 7,
     "metadata": {},
     "output_type": "execute_result"
    }
   ],
   "source": [
    "relu(np.arange(-3,3))"
   ]
  },
  {
   "cell_type": "code",
   "execution_count": 8,
   "id": "3a66716c",
   "metadata": {},
   "outputs": [],
   "source": [
    "def init_network_matrix():\n",
    "    return {\n",
    "        \"W1\" : np.array([[0.1, 0.3, 0.5], [0.2, 0.4, 0.6]])\n",
    "        , \"b1\" : np.array([0.1, 0.2, 0.3])\n",
    "        , \"W2\" : np.array([[0.1, 0.4], [0.2, 0.5], [0.3, 0.6]])\n",
    "        , \"b2\" : np.array([0.1, 0.2])\n",
    "        , \"W3\" : np.array([[0.1, 0.3], [0.2, 0.4]])\n",
    "        , \"b3\" : np.array([0.1, 0.2])\n",
    "    }"
   ]
  },
  {
   "cell_type": "code",
   "execution_count": 9,
   "id": "5212d31a",
   "metadata": {},
   "outputs": [
    {
     "data": {
      "text/plain": [
       "{'W1': array([[0.1, 0.3, 0.5],\n",
       "        [0.2, 0.4, 0.6]]),\n",
       " 'b1': array([0.1, 0.2, 0.3]),\n",
       " 'W2': array([[0.1, 0.4],\n",
       "        [0.2, 0.5],\n",
       "        [0.3, 0.6]]),\n",
       " 'b2': array([0.1, 0.2]),\n",
       " 'W3': array([[0.1, 0.3],\n",
       "        [0.2, 0.4]]),\n",
       " 'b3': array([0.1, 0.2])}"
      ]
     },
     "execution_count": 9,
     "metadata": {},
     "output_type": "execute_result"
    }
   ],
   "source": [
    "init_network_matrix()"
   ]
  },
  {
   "cell_type": "code",
   "execution_count": 10,
   "id": "f7d0cc83",
   "metadata": {},
   "outputs": [],
   "source": [
    "def identity_func(y):\n",
    "    return y"
   ]
  },
  {
   "cell_type": "code",
   "execution_count": 11,
   "id": "5d92412b",
   "metadata": {},
   "outputs": [
    {
     "data": {
      "text/plain": [
       "array([-3, -2, -1,  0,  1,  2])"
      ]
     },
     "execution_count": 11,
     "metadata": {},
     "output_type": "execute_result"
    }
   ],
   "source": [
    "identity_func(np.arange(-3,3))"
   ]
  },
  {
   "cell_type": "markdown",
   "id": "80829c9e",
   "metadata": {},
   "source": [
    "# 2. `forward`"
   ]
  },
  {
   "cell_type": "code",
   "execution_count": 12,
   "id": "83d0b5ec",
   "metadata": {},
   "outputs": [],
   "source": [
    "def forward(network:dict, x:np.ndarray) -> np.ndarray:\n",
    "    W1, W2, W3 = network[\"W1\"], network[\"W2\"], network[\"W3\"]\n",
    "    b1, b2, b3 = network[\"b1\"], network[\"b2\"], network[\"b3\"]\n",
    "    \n",
    "    a1 = (x @ W1) + b1\n",
    "    z1 = sigmode(a1)\n",
    "    a2 = (z1 @ W2) + b2\n",
    "    z2 = sigmode(a2)\n",
    "    a3 = (z2 @ W3) + b3\n",
    "    y = identity_func(a3)\n",
    "    \n",
    "    return y"
   ]
  },
  {
   "cell_type": "code",
   "execution_count": 13,
   "id": "2058ac64",
   "metadata": {},
   "outputs": [],
   "source": [
    "network = init_network_matrix()"
   ]
  },
  {
   "cell_type": "code",
   "execution_count": 14,
   "id": "0d625127",
   "metadata": {},
   "outputs": [
    {
     "name": "stdout",
     "output_type": "stream",
     "text": [
      "forward func:[0.31682708 0.69627909]\n"
     ]
    }
   ],
   "source": [
    "x = np.array([1.0, 0.5])\n",
    "y = forward(network, x)\n",
    "print(f\"forward func:{y}\")"
   ]
  },
  {
   "cell_type": "markdown",
   "id": "b196d986",
   "metadata": {},
   "source": [
    "# 3. `forward` revisited"
   ]
  },
  {
   "cell_type": "code",
   "execution_count": 15,
   "id": "aff383dd",
   "metadata": {},
   "outputs": [],
   "source": [
    "x = np.array([1.0, 0.5])\n",
    "W1 = np.array([[0.1, 0.3, 0.5], [0.2, 0.4, 0.6]])\n",
    "b1 = np.array([0.1, 0.2, 0.3])\n",
    "W2 = np.array([[0.1, 0.4], [0.2, 0.5], [0.3, 0.6]])\n",
    "b2 = np.array([0.1, 0.2])\n",
    "W3 = np.array([[0.1, 0.3], [0.2, 0.4]])\n",
    "b3 = np.array([0.1, 0.2])"
   ]
  },
  {
   "cell_type": "code",
   "execution_count": 16,
   "id": "d73bddf9",
   "metadata": {},
   "outputs": [
    {
     "name": "stdout",
     "output_type": "stream",
     "text": [
      "[0.31682708 0.69627909]\n"
     ]
    }
   ],
   "source": [
    "a1 = (x @ W1) + b1\n",
    "z1 = sigmode(a1)\n",
    "a2 = (z1 @ W2) + b2\n",
    "z2 = sigmode(a2)\n",
    "a3 = (z2 @ W3) + b3\n",
    "y = identity_func(a3)\n",
    "print(y)"
   ]
  },
  {
   "cell_type": "markdown",
   "id": "fde35802",
   "metadata": {},
   "source": [
    "# 3. `forward_reduce`"
   ]
  },
  {
   "cell_type": "code",
   "execution_count": 17,
   "id": "c1ea9ff0",
   "metadata": {},
   "outputs": [],
   "source": [
    "def forward_reduce(x:np.ndarray, vectors:list, bias:list, func:list) -> np.ndarray:\n",
    "    \n",
    "    def reduce_network_forward(x_:np.array, layer_behavior:tuple) -> np.ndarray:\n",
    "        v, b, func = layer_behavior\n",
    "        return func((x_@ v)+b)\n",
    "    \n",
    "    return list(reduce(reduce_network_forward, zip(vectors,bias,func),x))"
   ]
  },
  {
   "cell_type": "code",
   "execution_count": 18,
   "id": "87c44000",
   "metadata": {},
   "outputs": [],
   "source": [
    "network = init_network_matrix()"
   ]
  },
  {
   "cell_type": "code",
   "execution_count": 19,
   "id": "f8743386",
   "metadata": {},
   "outputs": [],
   "source": [
    "vectors = [network[\"W1\"], network[\"W2\"],network[\"W3\"]]\n",
    "bias = [network[\"b1\"], network[\"b2\"],network[\"b3\"]]\n",
    "func = [sigmode, sigmode, identity_func]"
   ]
  },
  {
   "cell_type": "code",
   "execution_count": 20,
   "id": "02927ee1",
   "metadata": {},
   "outputs": [
    {
     "name": "stdout",
     "output_type": "stream",
     "text": [
      "forward_reduce func:[0.3168270764110298, 0.6962790898619668]\n"
     ]
    }
   ],
   "source": [
    "y2 = forward_reduce(x, vectors, bias, func)\n",
    "print(f\"forward_reduce func:{y2}\")"
   ]
  },
  {
   "cell_type": "code",
   "execution_count": 21,
   "id": "c5c1cecc",
   "metadata": {},
   "outputs": [
    {
     "name": "stdout",
     "output_type": "stream",
     "text": [
      "forward func:[0.31682708 0.69627909]\n",
      "forward_reduce func:[0.3168270764110298, 0.6962790898619668]\n"
     ]
    }
   ],
   "source": [
    "print(f\"forward func:{y}\")\n",
    "print(f\"forward_reduce func:{y2}\")"
   ]
  }
 ],
 "metadata": {
  "kernelspec": {
   "display_name": "Python 3 (ipykernel)",
   "language": "python",
   "name": "python3"
  },
  "language_info": {
   "codemirror_mode": {
    "name": "ipython",
    "version": 3
   },
   "file_extension": ".py",
   "mimetype": "text/x-python",
   "name": "python",
   "nbconvert_exporter": "python",
   "pygments_lexer": "ipython3",
   "version": "3.9.7"
  }
 },
 "nbformat": 4,
 "nbformat_minor": 5
}
