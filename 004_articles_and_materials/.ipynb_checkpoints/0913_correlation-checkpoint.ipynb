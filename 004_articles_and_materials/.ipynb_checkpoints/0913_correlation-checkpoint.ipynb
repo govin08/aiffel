{
 "cells": [
  {
   "cell_type": "code",
   "execution_count": 8,
   "id": "5b603a97",
   "metadata": {},
   "outputs": [
    {
     "data": {
      "text/plain": [
       "array([[ 1.       , -0.8510645],\n",
       "       [-0.8510645,  1.       ]])"
      ]
     },
     "execution_count": 8,
     "metadata": {},
     "output_type": "execute_result"
    }
   ],
   "source": [
    "import numpy as np\n",
    "import pandas as pd\n",
    "# def histogram_intersection(a, b):\n",
    "#     v = np.minimum(a, b).sum().round(decimals=1)\n",
    "#     return v\n",
    "df = pd.DataFrame([(.2, .3, 1), (.0, .6, 1), (.6, .0, 1), (.2, .1, 1)],\n",
    "                  columns=['dogs', 'cats','fish'])\n",
    "df\n",
    "np.corrcoef(df['dogs'],df['cats'])"
   ]
  },
  {
   "cell_type": "code",
   "execution_count": 9,
   "id": "4c62b9d4",
   "metadata": {},
   "outputs": [
    {
     "data": {
      "text/plain": [
       "array([[0.77395605, 0.43887844, 0.85859792],\n",
       "       [0.69736803, 0.09417735, 0.97562235],\n",
       "       [0.7611397 , 0.78606431, 0.12811363]])"
      ]
     },
     "execution_count": 9,
     "metadata": {},
     "output_type": "execute_result"
    }
   ],
   "source": [
    "import numpy as np\n",
    "rng = np.random.default_rng(seed=42)\n",
    "xarr = rng.random((3, 3))\n",
    "xarr"
   ]
  },
  {
   "cell_type": "code",
   "execution_count": null,
   "id": "aee682bf",
   "metadata": {},
   "outputs": [],
   "source": [
    "R1 = np.corrcoef(xarr)\n",
    "R1\n",
    "array([[ 1.        ,  0.99256089, -0.68080986],\n",
    "       [ 0.99256089,  1.        , -0.76492172],\n",
    "       [-0.68080986, -0.76492172,  1.        ]])\n"
   ]
  }
 ],
 "metadata": {
  "kernelspec": {
   "display_name": "Python 3 (ipykernel)",
   "language": "python",
   "name": "python3"
  },
  "language_info": {
   "codemirror_mode": {
    "name": "ipython",
    "version": 3
   },
   "file_extension": ".py",
   "mimetype": "text/x-python",
   "name": "python",
   "nbconvert_exporter": "python",
   "pygments_lexer": "ipython3",
   "version": "3.9.7"
  }
 },
 "nbformat": 4,
 "nbformat_minor": 5
}
