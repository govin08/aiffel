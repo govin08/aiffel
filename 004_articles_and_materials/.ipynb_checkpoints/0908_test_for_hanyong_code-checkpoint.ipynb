{
 "cells": [
  {
   "cell_type": "markdown",
   "id": "68a984a7",
   "metadata": {},
   "source": [
    "# 1. 준비"
   ]
  },
  {
   "cell_type": "code",
   "execution_count": 4,
   "id": "7a789fb9",
   "metadata": {},
   "outputs": [],
   "source": [
    "from functools import reduce\n",
    "import numpy as np\n",
    "import matplotlib.pylab as plt"
   ]
  },
  {
   "cell_type": "code",
   "execution_count": 5,
   "id": "4ef91ec3",
   "metadata": {},
   "outputs": [],
   "source": [
    "def step_func(x:np.ndarray):\n",
    "    return (x>0).astype(np.int64)"
   ]
  },
  {
   "cell_type": "code",
   "execution_count": 13,
   "id": "41565f29",
   "metadata": {},
   "outputs": [
    {
     "data": {
      "text/plain": [
       "array([0, 0, 0, 0, 1, 1])"
      ]
     },
     "execution_count": 13,
     "metadata": {},
     "output_type": "execute_result"
    }
   ],
   "source": [
    "step_func(np.arange(-3,3))"
   ]
  },
  {
   "cell_type": "code",
   "execution_count": 11,
   "id": "37323168",
   "metadata": {},
   "outputs": [],
   "source": [
    "def sigmode(x:np.ndarray):\n",
    "    return 1 / (1+np.exp(-x))"
   ]
  },
  {
   "cell_type": "code",
   "execution_count": 14,
   "id": "e3d57a81",
   "metadata": {},
   "outputs": [
    {
     "data": {
      "text/plain": [
       "array([0.04742587, 0.11920292, 0.26894142, 0.5       , 0.73105858,\n",
       "       0.88079708])"
      ]
     },
     "execution_count": 14,
     "metadata": {},
     "output_type": "execute_result"
    }
   ],
   "source": [
    "sigmode(np.arange(-3,3))"
   ]
  },
  {
   "cell_type": "code",
   "execution_count": 15,
   "id": "f93411fc",
   "metadata": {},
   "outputs": [],
   "source": [
    "def relu(x:np.ndarray):\n",
    "    return np.maximum(0,x)"
   ]
  },
  {
   "cell_type": "code",
   "execution_count": 16,
   "id": "442d5548",
   "metadata": {},
   "outputs": [
    {
     "data": {
      "text/plain": [
       "array([0, 0, 0, 0, 1, 2])"
      ]
     },
     "execution_count": 16,
     "metadata": {},
     "output_type": "execute_result"
    }
   ],
   "source": [
    "relu(np.arange(-3,3))"
   ]
  },
  {
   "cell_type": "code",
   "execution_count": 18,
   "id": "6636cfea",
   "metadata": {},
   "outputs": [],
   "source": [
    "def init_network_matrix():\n",
    "    return {\n",
    "        \"W1\" : np.array([[0.1, 0.3, 0.5], [0.2, 0.4, 0.6]])\n",
    "        , \"b1\" : np.array([0.1, 0.2, 0.3])\n",
    "        , \"W2\" : np.array([[0.1, 0.4], [0.2, 0.5], [0.3, 0.6]])\n",
    "        , \"b2\" : np.array([0.1, 0.2])\n",
    "        , \"W3\" : np.array([[0.1, 0.3], [0.2, 0.4]])\n",
    "        , \"b3\" : np.array([0.1, 0.2])\n",
    "    }"
   ]
  },
  {
   "cell_type": "code",
   "execution_count": 20,
   "id": "2b1fdfdd",
   "metadata": {},
   "outputs": [
    {
     "data": {
      "text/plain": [
       "{'W1': array([[0.1, 0.3, 0.5],\n",
       "        [0.2, 0.4, 0.6]]),\n",
       " 'b1': array([0.1, 0.2, 0.3]),\n",
       " 'W2': array([[0.1, 0.4],\n",
       "        [0.2, 0.5],\n",
       "        [0.3, 0.6]]),\n",
       " 'b2': array([0.1, 0.2]),\n",
       " 'W3': array([[0.1, 0.3],\n",
       "        [0.2, 0.4]]),\n",
       " 'b3': array([0.1, 0.2])}"
      ]
     },
     "execution_count": 20,
     "metadata": {},
     "output_type": "execute_result"
    }
   ],
   "source": [
    "init_network_matrix()"
   ]
  },
  {
   "cell_type": "code",
   "execution_count": 21,
   "id": "7efdcf37",
   "metadata": {},
   "outputs": [],
   "source": [
    "def identity_func(y):\n",
    "    return y"
   ]
  },
  {
   "cell_type": "code",
   "execution_count": 22,
   "id": "d4f3c5ab",
   "metadata": {},
   "outputs": [
    {
     "data": {
      "text/plain": [
       "array([-3, -2, -1,  0,  1,  2])"
      ]
     },
     "execution_count": 22,
     "metadata": {},
     "output_type": "execute_result"
    }
   ],
   "source": [
    "identity_func(np.arange(-3,3))"
   ]
  },
  {
   "cell_type": "markdown",
   "id": "a668c122",
   "metadata": {},
   "source": [
    "# 2. `forward`"
   ]
  },
  {
   "cell_type": "code",
   "execution_count": 33,
   "id": "4ba8c236",
   "metadata": {},
   "outputs": [],
   "source": [
    "def forward(network:dict, x:np.ndarray) -> np.ndarray:\n",
    "    W1, W2, W3 = network[\"W1\"], network[\"W2\"], network[\"W3\"]\n",
    "    b1, b2, b3 = network[\"b1\"], network[\"b2\"], network[\"b3\"]\n",
    "    \n",
    "    a1 = (x @ W1) + b1\n",
    "    z1 = sigmode(a1)\n",
    "    a2 = (z1 @ W2) + b2\n",
    "    z2 = sigmode(a2)\n",
    "    a3 = (z2 @ W3) + b3\n",
    "    y = identity_func(a3)\n",
    "    \n",
    "    return y"
   ]
  },
  {
   "cell_type": "code",
   "execution_count": 34,
   "id": "fa921820",
   "metadata": {},
   "outputs": [],
   "source": [
    "network = init_network_matrix()"
   ]
  },
  {
   "cell_type": "code",
   "execution_count": 36,
   "id": "24e13b1c",
   "metadata": {},
   "outputs": [
    {
     "name": "stdout",
     "output_type": "stream",
     "text": [
      "forward func:[0.31682708 0.69627909]\n"
     ]
    }
   ],
   "source": [
    "x = np.array([1.0, 0.5])\n",
    "y = forward(network, x)\n",
    "print(f\"forward func:{y}\")"
   ]
  },
  {
   "cell_type": "markdown",
   "id": "8405d523",
   "metadata": {},
   "source": [
    "# 3. `forward` revisited"
   ]
  },
  {
   "cell_type": "code",
   "execution_count": 37,
   "id": "a1c8ed41",
   "metadata": {},
   "outputs": [],
   "source": [
    "x = np.array([1.0, 0.5])\n",
    "W1 = np.array([[0.1, 0.3, 0.5], [0.2, 0.4, 0.6]])\n",
    "b1 = np.array([0.1, 0.2, 0.3])\n",
    "W2 = np.array([[0.1, 0.4], [0.2, 0.5], [0.3, 0.6]])\n",
    "b2 = np.array([0.1, 0.2])\n",
    "W3 = np.array([[0.1, 0.3], [0.2, 0.4]])\n",
    "b3 = np.array([0.1, 0.2])"
   ]
  },
  {
   "cell_type": "code",
   "execution_count": null,
   "id": "9a4cf5a6",
   "metadata": {},
   "outputs": [],
   "source": []
  },
  {
   "cell_type": "markdown",
   "id": "b513b320",
   "metadata": {},
   "source": [
    "# 3. `forward_reduce`"
   ]
  },
  {
   "cell_type": "code",
   "execution_count": 23,
   "id": "be865298",
   "metadata": {},
   "outputs": [],
   "source": [
    "def forward_reduce(x:np.ndarray, vectors:list, bias:list, func:list) -> np.ndarray:\n",
    "    \n",
    "    def reduce_network_forward(x_:np.array, layer_behavior:tuple) -> np.ndarray:\n",
    "        v, b, func = layer_behavior\n",
    "        return func((x_@ v)+b)\n",
    "    \n",
    "    return list(reduce(reduce_network_forward, zip(vectors,bias,func),x))"
   ]
  },
  {
   "cell_type": "code",
   "execution_count": null,
   "id": "21a3b8c7",
   "metadata": {},
   "outputs": [],
   "source": []
  }
 ],
 "metadata": {
  "kernelspec": {
   "display_name": "Python 3 (ipykernel)",
   "language": "python",
   "name": "python3"
  },
  "language_info": {
   "codemirror_mode": {
    "name": "ipython",
    "version": 3
   },
   "file_extension": ".py",
   "mimetype": "text/x-python",
   "name": "python",
   "nbconvert_exporter": "python",
   "pygments_lexer": "ipython3",
   "version": "3.9.7"
  }
 },
 "nbformat": 4,
 "nbformat_minor": 5
}
