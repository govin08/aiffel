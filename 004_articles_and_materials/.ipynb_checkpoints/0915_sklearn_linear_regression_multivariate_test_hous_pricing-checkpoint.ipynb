{
 "cells": [
  {
   "cell_type": "markdown",
   "id": "428c705c",
   "metadata": {},
   "source": [
    "https://satishgunjal.com/multivariate_lr_scikit/"
   ]
  },
  {
   "cell_type": "code",
   "execution_count": 8,
   "id": "aac9f0e9",
   "metadata": {},
   "outputs": [],
   "source": [
    "import numpy as np\n",
    "import pandas as pd\n",
    "import matplotlib.pyplot as plt\n",
    "from sklearn import linear_model\n",
    "from sklearn.model_selection import train_test_split\n",
    "from sklearn.metrics import mean_squared_error"
   ]
  },
  {
   "cell_type": "code",
   "execution_count": 2,
   "id": "10bb36b1",
   "metadata": {
    "scrolled": true
   },
   "outputs": [
    {
     "name": "stdout",
     "output_type": "stream",
     "text": [
      "Dimension of dataset=  (47, 3)\n"
     ]
    },
    {
     "data": {
      "text/html": [
       "<div>\n",
       "<style scoped>\n",
       "    .dataframe tbody tr th:only-of-type {\n",
       "        vertical-align: middle;\n",
       "    }\n",
       "\n",
       "    .dataframe tbody tr th {\n",
       "        vertical-align: top;\n",
       "    }\n",
       "\n",
       "    .dataframe thead th {\n",
       "        text-align: right;\n",
       "    }\n",
       "</style>\n",
       "<table border=\"1\" class=\"dataframe\">\n",
       "  <thead>\n",
       "    <tr style=\"text-align: right;\">\n",
       "      <th></th>\n",
       "      <th>size(in square feet)</th>\n",
       "      <th>number of bedrooms</th>\n",
       "      <th>price</th>\n",
       "    </tr>\n",
       "  </thead>\n",
       "  <tbody>\n",
       "    <tr>\n",
       "      <th>0</th>\n",
       "      <td>2104</td>\n",
       "      <td>3</td>\n",
       "      <td>399900</td>\n",
       "    </tr>\n",
       "    <tr>\n",
       "      <th>1</th>\n",
       "      <td>1600</td>\n",
       "      <td>3</td>\n",
       "      <td>329900</td>\n",
       "    </tr>\n",
       "    <tr>\n",
       "      <th>2</th>\n",
       "      <td>2400</td>\n",
       "      <td>3</td>\n",
       "      <td>369000</td>\n",
       "    </tr>\n",
       "    <tr>\n",
       "      <th>3</th>\n",
       "      <td>1416</td>\n",
       "      <td>2</td>\n",
       "      <td>232000</td>\n",
       "    </tr>\n",
       "    <tr>\n",
       "      <th>4</th>\n",
       "      <td>3000</td>\n",
       "      <td>4</td>\n",
       "      <td>539900</td>\n",
       "    </tr>\n",
       "  </tbody>\n",
       "</table>\n",
       "</div>"
      ],
      "text/plain": [
       "   size(in square feet)   number of bedrooms   price\n",
       "0                  2104                    3  399900\n",
       "1                  1600                    3  329900\n",
       "2                  2400                    3  369000\n",
       "3                  1416                    2  232000\n",
       "4                  3000                    4  539900"
      ]
     },
     "execution_count": 2,
     "metadata": {},
     "output_type": "execute_result"
    }
   ],
   "source": [
    "df = pd.read_csv('https://raw.githubusercontent.com/satishgunjal/datasets/master/multivariate_housing_prices_in_portlans_oregon.csv')\n",
    "print('Dimension of dataset= ', df.shape)\n",
    "df.head() # To get first n rows from the dataset default value of n is 5"
   ]
  },
  {
   "cell_type": "code",
   "execution_count": 4,
   "id": "81de8fad",
   "metadata": {},
   "outputs": [
    {
     "name": "stdout",
     "output_type": "stream",
     "text": [
      "Total no of training examples (m) = 47 \n",
      "\n",
      "X = [2104    3] , y = 399900\n",
      "X = [1600    3] , y = 329900\n",
      "X = [2400    3] , y = 369000\n",
      "X = [1416    2] , y = 232000\n",
      "X = [3000    4] , y = 539900\n"
     ]
    }
   ],
   "source": [
    "X = df.values[:, 0:2]  # get input values from first two columns\n",
    "y = df.values[:, 2]  # get output values from last coulmn\n",
    "m = len(y) # Number of training examples\n",
    "\n",
    "print('Total no of training examples (m) = %s \\n' %(m))\n",
    "\n",
    "# Show only first 5 records\n",
    "for i in range(5):\n",
    "    print('X =', X[i, ], ', y =', y[i])"
   ]
  },
  {
   "cell_type": "code",
   "execution_count": 9,
   "id": "ff310bae",
   "metadata": {},
   "outputs": [
    {
     "data": {
      "text/plain": [
       "array([[2104,    3],\n",
       "       [1600,    3],\n",
       "       [2400,    3],\n",
       "       [1416,    2],\n",
       "       [3000,    4],\n",
       "       [1985,    4],\n",
       "       [1534,    3],\n",
       "       [1427,    3],\n",
       "       [1380,    3],\n",
       "       [1494,    3],\n",
       "       [1940,    4],\n",
       "       [2000,    3],\n",
       "       [1890,    3],\n",
       "       [4478,    5],\n",
       "       [1268,    3],\n",
       "       [2300,    4],\n",
       "       [1320,    2],\n",
       "       [1236,    3],\n",
       "       [2609,    4],\n",
       "       [3031,    4],\n",
       "       [1767,    3],\n",
       "       [1888,    2],\n",
       "       [1604,    3],\n",
       "       [1962,    4],\n",
       "       [3890,    3],\n",
       "       [1100,    3],\n",
       "       [1458,    3],\n",
       "       [2526,    3],\n",
       "       [2200,    3],\n",
       "       [2637,    3],\n",
       "       [1839,    2],\n",
       "       [1000,    1],\n",
       "       [2040,    4],\n",
       "       [3137,    3],\n",
       "       [1811,    4],\n",
       "       [1437,    3],\n",
       "       [1239,    3],\n",
       "       [2132,    4],\n",
       "       [4215,    4],\n",
       "       [2162,    4],\n",
       "       [1664,    2],\n",
       "       [2238,    3],\n",
       "       [2567,    4],\n",
       "       [1200,    3],\n",
       "       [ 852,    2],\n",
       "       [1852,    4],\n",
       "       [1203,    3]])"
      ]
     },
     "execution_count": 9,
     "metadata": {},
     "output_type": "execute_result"
    }
   ],
   "source": []
  },
  {
   "cell_type": "code",
   "execution_count": 5,
   "id": "b8887d95",
   "metadata": {
    "scrolled": true
   },
   "outputs": [
    {
     "name": "stderr",
     "output_type": "stream",
     "text": [
      "/opt/conda/lib/python3.9/site-packages/sklearn/linear_model/_base.py:141: FutureWarning: 'normalize' was deprecated in version 1.0 and will be removed in 1.2.\n",
      "If you wish to scale the data, use Pipeline with a StandardScaler in a preprocessing stage. To reproduce the previous behavior:\n",
      "\n",
      "from sklearn.pipeline import make_pipeline\n",
      "\n",
      "model = make_pipeline(StandardScaler(with_mean=False), LinearRegression())\n",
      "\n",
      "If you wish to pass a sample_weight parameter, you need to pass it as a fit parameter to each step of the pipeline as follows:\n",
      "\n",
      "kwargs = {s[0] + '__sample_weight': sample_weight for s in model.steps}\n",
      "model.fit(X, y, **kwargs)\n",
      "\n",
      "\n",
      "  warnings.warn(\n"
     ]
    },
    {
     "data": {
      "text/plain": [
       "LinearRegression(normalize=True)"
      ]
     },
     "execution_count": 5,
     "metadata": {},
     "output_type": "execute_result"
    }
   ],
   "source": [
    "model_ols =  linear_model.LinearRegression(normalize=True)\n",
    "model_ols.fit(X,y) \n",
    "# fit() method is used for training the model\n",
    "# Note the first parameter(feature) is must be 2D array(feature matrix)\n"
   ]
  },
  {
   "cell_type": "code",
   "execution_count": 6,
   "id": "55afe079",
   "metadata": {},
   "outputs": [
    {
     "name": "stdout",
     "output_type": "stream",
     "text": [
      "coef=  [  139.21067402 -8738.01911233]\n",
      "intercept=  89597.9095427974\n"
     ]
    }
   ],
   "source": [
    "coef = model_ols.coef_\n",
    "intercept = model_ols.intercept_\n",
    "print('coef= ', coef)\n",
    "print('intercept= ', intercept)"
   ]
  },
  {
   "cell_type": "code",
   "execution_count": 7,
   "id": "43aa80a3",
   "metadata": {},
   "outputs": [
    {
     "data": {
      "text/html": [
       "<div>\n",
       "<style scoped>\n",
       "    .dataframe tbody tr th:only-of-type {\n",
       "        vertical-align: middle;\n",
       "    }\n",
       "\n",
       "    .dataframe tbody tr th {\n",
       "        vertical-align: top;\n",
       "    }\n",
       "\n",
       "    .dataframe thead th {\n",
       "        text-align: right;\n",
       "    }\n",
       "</style>\n",
       "<table border=\"1\" class=\"dataframe\">\n",
       "  <thead>\n",
       "    <tr style=\"text-align: right;\">\n",
       "      <th></th>\n",
       "      <th>0</th>\n",
       "      <th>1</th>\n",
       "      <th>2</th>\n",
       "      <th>3</th>\n",
       "      <th>4</th>\n",
       "      <th>5</th>\n",
       "      <th>6</th>\n",
       "      <th>7</th>\n",
       "      <th>8</th>\n",
       "      <th>9</th>\n",
       "      <th>...</th>\n",
       "      <th>37</th>\n",
       "      <th>38</th>\n",
       "      <th>39</th>\n",
       "      <th>40</th>\n",
       "      <th>41</th>\n",
       "      <th>42</th>\n",
       "      <th>43</th>\n",
       "      <th>44</th>\n",
       "      <th>45</th>\n",
       "      <th>46</th>\n",
       "    </tr>\n",
       "  </thead>\n",
       "  <tbody>\n",
       "    <tr>\n",
       "      <th>Actual Price</th>\n",
       "      <td>399900.000000</td>\n",
       "      <td>329900.000000</td>\n",
       "      <td>369000.000000</td>\n",
       "      <td>232000.000000</td>\n",
       "      <td>539900.000000</td>\n",
       "      <td>299900.000000</td>\n",
       "      <td>314900.000000</td>\n",
       "      <td>198999.000000</td>\n",
       "      <td>212000.00000</td>\n",
       "      <td>242500.000000</td>\n",
       "      <td>...</td>\n",
       "      <td>345000.000000</td>\n",
       "      <td>549000.000000</td>\n",
       "      <td>287000.00000</td>\n",
       "      <td>368500.000000</td>\n",
       "      <td>329900.000000</td>\n",
       "      <td>314000.000000</td>\n",
       "      <td>299000.000000</td>\n",
       "      <td>179900.000000</td>\n",
       "      <td>299900.000000</td>\n",
       "      <td>239500.000000</td>\n",
       "    </tr>\n",
       "    <tr>\n",
       "      <th>Predicted Price</th>\n",
       "      <td>356283.110339</td>\n",
       "      <td>286120.930634</td>\n",
       "      <td>397489.469848</td>\n",
       "      <td>269244.185727</td>\n",
       "      <td>472277.855146</td>\n",
       "      <td>330979.021018</td>\n",
       "      <td>276933.026149</td>\n",
       "      <td>262037.484029</td>\n",
       "      <td>255494.58235</td>\n",
       "      <td>271364.599188</td>\n",
       "      <td>...</td>\n",
       "      <td>351442.990099</td>\n",
       "      <td>641418.824078</td>\n",
       "      <td>355619.31032</td>\n",
       "      <td>303768.432883</td>\n",
       "      <td>374937.340657</td>\n",
       "      <td>411999.633297</td>\n",
       "      <td>230436.661027</td>\n",
       "      <td>190729.365581</td>\n",
       "      <td>312464.001374</td>\n",
       "      <td>230854.293049</td>\n",
       "    </tr>\n",
       "  </tbody>\n",
       "</table>\n",
       "<p>2 rows × 47 columns</p>\n",
       "</div>"
      ],
      "text/plain": [
       "                            0              1              2              3   \\\n",
       "Actual Price     399900.000000  329900.000000  369000.000000  232000.000000   \n",
       "Predicted Price  356283.110339  286120.930634  397489.469848  269244.185727   \n",
       "\n",
       "                            4              5              6              7   \\\n",
       "Actual Price     539900.000000  299900.000000  314900.000000  198999.000000   \n",
       "Predicted Price  472277.855146  330979.021018  276933.026149  262037.484029   \n",
       "\n",
       "                           8              9   ...             37  \\\n",
       "Actual Price     212000.00000  242500.000000  ...  345000.000000   \n",
       "Predicted Price  255494.58235  271364.599188  ...  351442.990099   \n",
       "\n",
       "                            38            39             40             41  \\\n",
       "Actual Price     549000.000000  287000.00000  368500.000000  329900.000000   \n",
       "Predicted Price  641418.824078  355619.31032  303768.432883  374937.340657   \n",
       "\n",
       "                            42             43             44             45  \\\n",
       "Actual Price     314000.000000  299000.000000  179900.000000  299900.000000   \n",
       "Predicted Price  411999.633297  230436.661027  190729.365581  312464.001374   \n",
       "\n",
       "                            46  \n",
       "Actual Price     239500.000000  \n",
       "Predicted Price  230854.293049  \n",
       "\n",
       "[2 rows x 47 columns]"
      ]
     },
     "execution_count": 7,
     "metadata": {},
     "output_type": "execute_result"
    }
   ],
   "source": [
    "predictedPrice = pd.DataFrame(model_ols.predict(X), columns=['Predicted Price']) # Create new dataframe of column'Predicted Price'\n",
    "actualPrice = pd.DataFrame(y, columns=['Actual Price'])\n",
    "actualPrice = actualPrice.reset_index(drop=True) # Drop the index so that we can concat it, to create new dataframe\n",
    "df_actual_vs_predicted = pd.concat([actualPrice,predictedPrice],axis =1)\n",
    "df_actual_vs_predicted.T\n"
   ]
  }
 ],
 "metadata": {
  "kernelspec": {
   "display_name": "Python 3 (ipykernel)",
   "language": "python",
   "name": "python3"
  },
  "language_info": {
   "codemirror_mode": {
    "name": "ipython",
    "version": 3
   },
   "file_extension": ".py",
   "mimetype": "text/x-python",
   "name": "python",
   "nbconvert_exporter": "python",
   "pygments_lexer": "ipython3",
   "version": "3.9.7"
  }
 },
 "nbformat": 4,
 "nbformat_minor": 5
}
