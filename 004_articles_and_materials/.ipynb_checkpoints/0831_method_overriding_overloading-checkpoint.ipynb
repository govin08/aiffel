{
 "cells": [
  {
   "cell_type": "markdown",
   "id": "cbc34f50",
   "metadata": {},
   "source": [
    "# Method Overriding / Method Overloading in Python"
   ]
  },
  {
   "cell_type": "markdown",
   "id": "632b3cd1",
   "metadata": {},
   "source": [
    "파이썬의 `class`를 공부하다 보면, `class`의 상속(heritence)의 개념에 대해 배우게 된다.\n",
    "그러다보면 자연스럽게 **method overriding**이라는 말을 접하게 된다.\n",
    "이것은 단순히 subclass(자식 클래스)가 superclass(부모 클래스)를 상속할 때, superclass에서 정의된 *method*를 새롭게 정의하다는 뜻이다.\n",
    "\n",
    "한편, 이것와 (발음이) 비슷한 **method overloading**이라는 개념 또한 존재한다.\n",
    "method overloading은, 비단 `class`의 상속의 상황에서만 발생되는 것은 아니고, 일반적인 상황에서 널리 쓰이는 말인 것 같다.\n",
    "이 글에서는 이 두 가지 개념을 정리해보려고 한다."
   ]
  },
  {
   "cell_type": "markdown",
   "id": "489c7750",
   "metadata": {},
   "source": [
    "# 1. 사전 찾아보기"
   ]
  },
  {
   "cell_type": "markdown",
   "id": "299238e0",
   "metadata": {},
   "source": [
    "override, overload는 흔히 쓰는 영어 단어가 아니기도 하고, 잘 와닿지도 않는다.\n",
    "그래서 사전을 한 번 찾아보았다.\n",
    "\n",
    "## override\n",
    "1. (직권을 이용하여 결정·명령 등을) 기각[무시]하다\n",
    "2. …보다 더 중요하다[우선하다]\n",
    "\n",
    "직역하면 위에 올라탄다는 것이니 정말로 '기각하고, 무시하고, 기존의 것보다 우선한다'는 뜻이 되겠다.\n",
    "method overriding이 정확하게 이 의미를 가지고 있다.\n",
    "superclass에서 정의되어 있었던 *method*들이 이미 존재했었는데, subclass를 정의할 때 그 *method*들을 무시하고 새롭게 정의한다는 말이다.\n",
    "\n",
    "## overload\n",
    "1. 과적하다.\n",
    "2. 너무 많이 주다[부과하다]\n",
    "3. (컴퓨터전기 시스템 등에) 과부하가 걸리게 하다.\n",
    "\n",
    "이번에도 직역하면, load가 '적재하다'라는 의미이니 과하게 적재한다는 의미에서 '과적'이다.\n",
    "그리고 일이나 메모리 등이 과하게 많이 부과되어 버티기 힘든 상황을 가리키는 단어이다.\n",
    "그러니까 조금은 부정적인 뉘앙스를 풍기는 단어이다.\n",
    "\n",
    "하지만 method overloading에 부정적인 뉘앙스가 있지는 않다. 몇몇 자료들을 찾아보기로는 method overloading은 그냥 '한 method를 서로 다른 여러가지 방법으로 쓰는 것'을 말한다. 물론 한 method에 여러 기능/문법들을 부과하면 그것이 문제가 될 수 있으니 그런 의미에서 과부하가 걸린다는 의미가 포함되어 있을지도 모르겠다."
   ]
  },
  {
   "cell_type": "markdown",
   "id": "c9c2008b",
   "metadata": {},
   "source": [
    "# 2. Method overriding"
   ]
  },
  {
   "cell_type": "code",
   "execution_count": 36,
   "id": "530c459d",
   "metadata": {},
   "outputs": [
    {
     "name": "stdout",
     "output_type": "stream",
     "text": [
      "높이는 4입니다.\n",
      "넓이는 12입니다.\n",
      "높이는 4입니다.\n",
      "넓이는 6.0입니다.\n"
     ]
    }
   ],
   "source": [
    "class Rectangle:\n",
    "    def __init__(self, width, height):\n",
    "        self.width = width\n",
    "        self.height = height\n",
    "        \n",
    "    def widthis(self):\n",
    "        print(\"밑변은\",str(self.widthis)+\"입니다.\")\n",
    "        \n",
    "    def heightis(self):\n",
    "        print(\"높이는\",str(self.height)+\"입니다.\")\n",
    "        \n",
    "    def areais(self):\n",
    "        print(\"넓이는\",str(self.width*self.height)+\"입니다.\")\n",
    "\n",
    "class Triangle(Rectangle):\n",
    "    def __init__(self, width, height):\n",
    "        super().__init__(width, height)\n",
    "        \n",
    "    def areais(self):\n",
    "        print(\"넓이는\",str(self.width*self.height/2)+\"입니다.\")\n",
    "\n",
    "A = Rectangle(3,4)\n",
    "A.heightis()\n",
    "# A.widthis()\n",
    "A.areais()\n",
    "\n",
    "B = Triangle(3,4)\n",
    "B.heightis()\n",
    "# A.widthis()\n",
    "B.areais()"
   ]
  },
  {
   "cell_type": "markdown",
   "id": "74077309",
   "metadata": {},
   "source": [
    "먼저 `Rectangle`이라는 클래스를 만들어보았다.\n",
    "이것은 <em>width</em>와 <em>height</em>를 속성(attribute)으로 가지는 클래스이다.\n",
    "여기에 <em>method</em>를 세 개, <em>widthis</em>와 <em>heightis</em>, *areais* 만들었는데, 각각은 가로 길이와 세로 길이, 그리고 넓이를 출력하는 함수이다.\n",
    "\n",
    "그리고 `Triangle`이라는 클래스를 만들어보았다.\n",
    "삼각형의 넓이를 구할 때 밑변과 높이가 필요한데, 이것은 직사각형의 가로길이와 세로길이와 비슷하다.\n",
    "그래서`Triangle` 클래스는 `Rectangle` 클래스에서 상속했다.\n",
    "앞의 두 <em>method</em>인 <em>widthis</em>와 <em>heightis</em>는 그대로 가져다 써도 상관이 없지만 *areais*는 그대로 가져다 쓰면 안된다.\n",
    "그래서 *areais*를 새로 정의했다.\n",
    "다시 말해, <em>method</em>가 새로 정의되었다.\n",
    "\n",
    "이것을 method overriding이라고 한다."
   ]
  },
  {
   "cell_type": "markdown",
   "id": "a161fd52",
   "metadata": {},
   "source": [
    "# 3. method overloading"
   ]
  },
  {
   "cell_type": "markdown",
   "id": "074fa3e1",
   "metadata": {},
   "source": [
    "method overloading은 method overriding과 완전히 다른 개념이다.\n",
    "하지만 비슷한 문제인 '넓이 구하기'로 예를 들어 보겠다. 이 코드는 [이곳](https://www.edureka.co/blog/python-method-overloading/)의 코드를 그대로 가져온 것이다."
   ]
  },
  {
   "cell_type": "code",
   "execution_count": 41,
   "id": "453db55e",
   "metadata": {},
   "outputs": [
    {
     "name": "stdout",
     "output_type": "stream",
     "text": [
      "Area Value: 0\n",
      "Area Value: 16\n",
      "Area Value: 15\n"
     ]
    }
   ],
   "source": [
    "class Compute:\n",
    "    def area(self, x = None, y = None):\n",
    "        if x != None and y != None:\n",
    "            return x * y\n",
    "        elif x != None:\n",
    "            return x * x\n",
    "        else:\n",
    "            return 0\n",
    "obj = Compute()\n",
    "print(\"Area Value:\", obj.area())\n",
    "print(\"Area Value:\", obj.area(4))\n",
    "print(\"Area Value:\", obj.area(3, 5))"
   ]
  },
  {
   "cell_type": "markdown",
   "id": "862238c9",
   "metadata": {},
   "source": [
    "위의 정의는 직사각형의 가로 길이와 세로 길이가 주어졌을 때, 그 직사각형의 넓이를 구하는 문제를 다루고 있다.\n",
    "*method*인 *area*가 직사각형의 넓이를 구하는 역할을 하는데, 이 *method*는 기본적으로 두 개 인자를 받지만, 한 개 인자를 받아도 값을 출력하도록 되어 있다.\n",
    "심지어 인자가 없어도 출력(0)하도록 정의되어 있다.\n",
    "이처럼 하나의 *method*가 인자의 수에 상관없이 결과를 낼 때, 이것을 *method overloading*이라고 한다.\n",
    "\n",
    "그런데 이건 *method*의 문제만이 아니다.\n",
    "그냥 일반적인 *function*도 마찬가지의 개념이 있을 것이다.\n",
    "이것을 function overloading이라고 한다.\n",
    "다시 말해, 위의 코드에서 `class`는 아무런 역할을 하지 않았다.\n",
    "그냥 아래와 같이 코드를 짜도 overloading은 유효하다."
   ]
  },
  {
   "cell_type": "code",
   "execution_count": 42,
   "id": "52e55826",
   "metadata": {},
   "outputs": [
    {
     "name": "stdout",
     "output_type": "stream",
     "text": [
      "Area Value: 0\n",
      "Area Value: 16\n",
      "Area Value: 15\n"
     ]
    }
   ],
   "source": [
    "def area(x = None, y = None):\n",
    "    if x != None and y != None:\n",
    "        return x * y\n",
    "    elif x != None:\n",
    "        return x * x\n",
    "    else:\n",
    "        return 0\n",
    "print(\"Area Value:\", area())\n",
    "print(\"Area Value:\", area(4))\n",
    "print(\"Area Value:\", area(3, 5))"
   ]
  },
  {
   "cell_type": "markdown",
   "id": "8391bc68",
   "metadata": {},
   "source": [
    "어떤 정의에서는 **인자의 수** 외에도 **datatype**을 가지고 정의하는 경우도 있다.\n",
    "그러니까, 서로 다른 datatype이 들어온다고 하더라도 그것을 각각 잘 처리할 수 있는 하나의 함수가 있다면 그걸 method/function overloading이라고 하는 것이다.\n",
    "\n",
    "[아래 코드](https://www.geeksforgeeks.org/difference-between-method-overloading-and-method-overriding-in-python/)는 인자의 수가 다르더라도, 그리고 datatype이 `str`이거나 `int`라고 하더라도, 각각 잘 결과를 내는 함수를 정의하고 있다."
   ]
  },
  {
   "cell_type": "code",
   "execution_count": 49,
   "id": "67e89e62",
   "metadata": {},
   "outputs": [
    {
     "name": "stdout",
     "output_type": "stream",
     "text": [
      "11\n",
      "Python is OOP\n"
     ]
    }
   ],
   "source": [
    "def add(datatype, *args):\n",
    "    if datatype =='int':\n",
    "        answer = 0\n",
    "    if datatype =='str':\n",
    "        answer =''\n",
    "    for x in args:\n",
    "        answer = answer + x\n",
    "    print(answer)\n",
    "add('int', 5, 6)\n",
    "add('str','Python ','is ','OOP')"
   ]
  },
  {
   "cell_type": "markdown",
   "id": "68845d5b",
   "metadata": {},
   "source": [
    "그런데 또 대부분의 자료들에서는 \"파이썬에는 method overloading이 지원되지 않는다\"라고 말한다.\n",
    "그게 무슨 말인지는 잘 모르겠다.\n",
    "다른 언어들에서는 method overloading이 지원된다는 뜻인데, 다른 언어에서 어떻게 method overloading이 되는지를 봐야 무슨 말인지 알 지 않을까 싶다."
   ]
  }
 ],
 "metadata": {
  "kernelspec": {
   "display_name": "Python 3 (ipykernel)",
   "language": "python",
   "name": "python3"
  },
  "language_info": {
   "codemirror_mode": {
    "name": "ipython",
    "version": 3
   },
   "file_extension": ".py",
   "mimetype": "text/x-python",
   "name": "python",
   "nbconvert_exporter": "python",
   "pygments_lexer": "ipython3",
   "version": "3.9.7"
  }
 },
 "nbformat": 4,
 "nbformat_minor": 5
}
