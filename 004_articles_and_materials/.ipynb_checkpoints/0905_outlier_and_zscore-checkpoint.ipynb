{
 "cells": [
  {
   "cell_type": "code",
   "execution_count": 1,
   "id": "53946c59",
   "metadata": {},
   "outputs": [],
   "source": [
    "import numpy as np\n",
    "import pandas as pd"
   ]
  },
  {
   "cell_type": "code",
   "execution_count": 25,
   "id": "3eedb8ba",
   "metadata": {},
   "outputs": [
    {
     "name": "stdout",
     "output_type": "stream",
     "text": [
      "[ 1  3  4  5  5  7  8  8  9 10]\n",
      "length : 10\n",
      "mean : 6.0\n",
      "median : 6.0\n",
      "sum : 60\n"
     ]
    }
   ],
   "source": [
    "A = np.array([1, 3, 4, 5, 5, 7, 8, 8, 9, 10])\n",
    "print(A)\n",
    "print(\"length :\",len(A))\n",
    "print(\"mean :\",np.mean(A))\n",
    "print(\"median :\",np.median(A))\n",
    "print(\"sum :\",np.sum(A))"
   ]
  },
  {
   "cell_type": "code",
   "execution_count": 26,
   "id": "da86ab2b",
   "metadata": {},
   "outputs": [
    {
     "name": "stdout",
     "output_type": "stream",
     "text": [
      "[  1   3   4   5   5   7   8   8   9 150]\n",
      "length : 10\n",
      "mean : 20.0\n",
      "median : 6.0\n",
      "sum : 200\n"
     ]
    }
   ],
   "source": [
    "B = np.array([1, 3, 4, 5, 5, 7, 8, 8, 9, 150])\n",
    "print(B)\n",
    "print(\"length :\",len(B))\n",
    "print(\"mean :\",np.mean(B))\n",
    "print(\"median :\",np.median(B))\n",
    "print(\"sum :\",np.sum(B))"
   ]
  },
  {
   "cell_type": "markdown",
   "id": "88aa46f3",
   "metadata": {},
   "source": [
    "`A`에서는 평균이 자료를 잘 대표한다고 할 수 있다.\n",
    "\n",
    "하지만 `B`에서는 평균이 자료를 잘 대표한다고 할 수없다.\n",
    "따라서 이 때에는 평균에 기반한 'zscore' 방법을 완전히 믿을 수 없다."
   ]
  }
 ],
 "metadata": {
  "kernelspec": {
   "display_name": "Python 3 (ipykernel)",
   "language": "python",
   "name": "python3"
  },
  "language_info": {
   "codemirror_mode": {
    "name": "ipython",
    "version": 3
   },
   "file_extension": ".py",
   "mimetype": "text/x-python",
   "name": "python",
   "nbconvert_exporter": "python",
   "pygments_lexer": "ipython3",
   "version": "3.9.7"
  }
 },
 "nbformat": 4,
 "nbformat_minor": 5
}
