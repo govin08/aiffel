{
 "cells": [
  {
   "cell_type": "code",
   "execution_count": 2,
   "id": "39692e45",
   "metadata": {},
   "outputs": [],
   "source": [
    "import numpy as np\n",
    "from PIL import Image\n",
    "import matplotlib.pyplot as plt\n",
    "%matplotlib inline"
   ]
  },
  {
   "cell_type": "markdown",
   "id": "6b86fc6c",
   "metadata": {},
   "source": [
    "NumPy는 \"numerical python\"의 줄임말.\n",
    "\n",
    "> 파이썬은 자체적으로 배열 자료형을 제공하지 않는다. 따라서 배열을 구현한 다른 패키지를 임포트해야 한다. 파이썬에서 배열을 사용하기 위한 표준 패키지는 넘파이(NumPy)다.\n",
    "([데이터 사이언스 스쿨](https://datascienceschool.net/01%20python/03.01%20%EB%84%98%ED%8C%8C%EC%9D%B4%20%EB%B0%B0%EC%97%B4.html))\n",
    "\n",
    "> The fundamental package for scientific computing with Python.\n",
    "([NumPy 공식 홈페이지](https://numpy.org/))\n",
    "\n",
    "> NumPy is a library for the Python programming language, adding support for large, multi-dimensional arrays and matrices, along with a large collection of high-level mathematical functions to operate on these arrays.\n",
    "([Wikipedia](https://en.wikipedia.org/wiki/NumPy))\n",
    "\n",
    "> NumPy is a Python package which is the core library for scientific computing, that contains a powerful N-dimensional array object, provide tools for integrating C, C++ etc.\n",
    "It is also useful in linear algebra, random number capability etc.\n",
    "([c-sharpcorner.com](https://www.c-sharpcorner.com/article/comparing-scipy-numpy-matplotlib-and-pylab/))\n",
    "\n",
    "\n",
    "파이썬이 처음 만들어질 당시(1991년), 파이썬은 수치적인 계산을 하기에 적합하지 않았다.\n",
    "다른 프로그래밍 언어들에는 모두 배열형(array type)의 데이터타입이 존재했지만, 유독 파이썬에는 배열형의 데이터타입이 없었다.\n",
    "이때문에 벡터와 행렬, 텐서의 계산을 할 때에 불편하고 느렸다.\n",
    "\n",
    "1997년, MIT 대학원생이었던 Jim Hugunin은 C언어를 사용해 **Numeric**이라는 모듈을 개발한다.\n",
    "Numeric은 파이썬에서의 행렬 연산을 용이하게 해주었다.\n",
    "\n",
    "한편, Perry Greenfield 등은 큰 사이즈의 배열에 대한 연산을 빠르게 해주는 패키지인 **Numarray**를 개발한다.\n",
    "하지만, Numarray는 Numeric에 비해 지나치게 무거운 패키지였고, 간단한 계산을 하는 데에도 많은 시간이 걸린다는 단점이 있었다.\n",
    "\n",
    "이후 2000년대 초반동안, Numeric을 발전시킨 여러 패키지들이 출시되었다.\n",
    "2005년에 Travis Oliphant는 Numarray의 장점들을 살려 Numeric에 포함시키는 데 성공한다.\n",
    "이는 SciPy 패키지를 개발하는 과정에서 이루어졌고, \n",
    "\n",
    "**NumPy**를 내놓는다.\n",
    "이후, 파이썬에서 수치적인 계산을 하는 데 있어서 NumPy는 필수적인 패키지가 되었다."
   ]
  },
  {
   "cell_type": "markdown",
   "id": "d8d7037e",
   "metadata": {},
   "source": [
    "# Python의 'list'와 NumPy의 'array'"
   ]
  },
  {
   "cell_type": "markdown",
   "id": "7a963b78",
   "metadata": {},
   "source": [
    "## Python list"
   ]
  },
  {
   "cell_type": "code",
   "execution_count": 3,
   "id": "d61df661",
   "metadata": {},
   "outputs": [],
   "source": [
    "a = [1,3,5,6]"
   ]
  },
  {
   "cell_type": "markdown",
   "id": "8802130f",
   "metadata": {},
   "source": [
    "a를 1, 3, 5, 6으로 이루어진 list의 형태로 정의한다. "
   ]
  },
  {
   "cell_type": "code",
   "execution_count": 4,
   "id": "88fdc999",
   "metadata": {},
   "outputs": [
    {
     "name": "stdout",
     "output_type": "stream",
     "text": [
      "[1, 3, 5, 6]\n"
     ]
    }
   ],
   "source": [
    "print(a)"
   ]
  },
  {
   "cell_type": "markdown",
   "id": "2b04f265",
   "metadata": {},
   "source": [
    "a를 출력하여, 어떻게 생겼는지 확인할 수 있다."
   ]
  },
  {
   "cell_type": "code",
   "execution_count": 5,
   "id": "787a3262",
   "metadata": {},
   "outputs": [
    {
     "data": {
      "text/plain": [
       "list"
      ]
     },
     "execution_count": 5,
     "metadata": {},
     "output_type": "execute_result"
    }
   ],
   "source": [
    "type(a)"
   ]
  },
  {
   "cell_type": "markdown",
   "id": "fb5a31cf",
   "metadata": {},
   "source": [
    "* a의 데이터타입을 확인할 수 있다. 이때 출력되는 데이터타입은 'list'이다.\n",
    "* list는 python에서 기본적으로 제공하는 데이터타입이다."
   ]
  },
  {
   "cell_type": "markdown",
   "id": "45d960c2",
   "metadata": {},
   "source": [
    "## NumPy ndarray"
   ]
  },
  {
   "cell_type": "code",
   "execution_count": 6,
   "id": "07f9b090",
   "metadata": {},
   "outputs": [],
   "source": [
    "b = np.array(a)"
   ]
  },
  {
   "cell_type": "markdown",
   "id": "2b473263",
   "metadata": {},
   "source": [
    "* b=np.ndarray(a)라는 명령어를 입력함으로써, b의 데이터타입을 'list'에서 'ndarray'로 바꿀 수 있다. 이때 NumPy 모듈에 있는 'np.array()'라는 함수를 사용하였다."
   ]
  },
  {
   "cell_type": "code",
   "execution_count": 7,
   "id": "2fc507a1",
   "metadata": {},
   "outputs": [
    {
     "name": "stdout",
     "output_type": "stream",
     "text": [
      "[1 3 5 6]\n"
     ]
    }
   ],
   "source": [
    "print(b)"
   ]
  },
  {
   "cell_type": "code",
   "execution_count": 8,
   "id": "08ac4a00",
   "metadata": {
    "scrolled": true
   },
   "outputs": [
    {
     "name": "stdout",
     "output_type": "stream",
     "text": [
      "<class 'numpy.ndarray'>\n"
     ]
    }
   ],
   "source": [
    "print(type(b))"
   ]
  },
  {
   "cell_type": "markdown",
   "id": "f2269d09",
   "metadata": {},
   "source": [
    " - 데이터타입이 numpy.ndarray로 바뀐 것을 확인할 수 있다.\n",
    " - ndarray라는 데이터타입명의 어원은 'n-dimensional array'이다."
   ]
  },
  {
   "cell_type": "code",
   "execution_count": 9,
   "id": "f520f515",
   "metadata": {},
   "outputs": [],
   "source": [
    "# b.dtype"
   ]
  },
  {
   "cell_type": "code",
   "execution_count": 10,
   "id": "b4dceed7",
   "metadata": {},
   "outputs": [
    {
     "name": "stdout",
     "output_type": "stream",
     "text": [
      "[[[[0.00000000e+000 6.95209112e-310 3.28553654e-321             nan\n",
      "    1.97109091e-268 0.00000000e+000]\n",
      "   [1.67416765e+243 9.08815980e+223 4.90922779e+252 8.52522419e-072\n",
      "    3.77670238e+209 7.10068145e-154]\n",
      "   [1.41586962e+190 3.30146351e-258 1.61446180e+184 1.67626279e+243\n",
      "    1.39539401e-258 2.11330732e+214]\n",
      "   [1.72289158e-259 8.02638874e+165 3.72296875e-027 1.19307548e+190\n",
      "    7.69847017e+218 1.16304916e+214]\n",
      "   [6.18955652e+223 7.52035284e+199 2.75545886e+212 1.15822725e+171\n",
      "    7.52037087e+199 1.72962956e+270]]\n",
      "\n",
      "  [[1.35447822e+243 1.97134294e-153 7.68528861e+170 4.44390491e+252\n",
      "    9.82157945e+252 5.74009979e+169]\n",
      "   [8.52532526e-072 4.40571859e-085 1.63156549e-086 6.24024511e-085\n",
      "    5.38151315e+228 1.39565693e-258]\n",
      "   [8.46376169e+218 5.94019073e+276 1.61757067e+184 3.54586812e+246\n",
      "    8.80090545e+199 6.65429978e+246]\n",
      "   [8.80090545e+199 1.17233867e+214 2.58631769e+161 5.00994387e+223\n",
      "    1.27816551e+108 1.06098264e-153]\n",
      "   [1.50763447e+161 2.66943816e+092 5.04609011e+223 1.45764727e-258\n",
      "    7.35167784e+223 1.96871752e-153]]\n",
      "\n",
      "  [[6.24019618e-085 1.36180897e+161 1.96871752e-153 6.83349573e-140\n",
      "    1.06620857e+224 1.27277821e+232]\n",
      "   [1.14448054e+243 1.05995038e+189 1.16304916e+214 6.24024511e-085\n",
      "    5.38891887e+228 5.29367972e+180]\n",
      "   [4.19105289e+175 3.72296875e-027 6.32258108e+180 1.11929035e+200\n",
      "    5.59939869e-067 5.73495745e+169]\n",
      "   [4.42660196e-038 8.38916524e+217 4.61968658e+281 9.79432787e+199\n",
      "    1.67583468e+243 5.55186204e-048]\n",
      "   [8.38916524e+217 4.61968658e+281 9.79432778e+199 1.67667469e+243\n",
      "    1.97241762e-062 6.01347002e-154]]]]\n",
      "<class 'numpy.ndarray'>\n"
     ]
    }
   ],
   "source": [
    "c = np.ndarray(a)\n",
    "print(c)\n",
    "print(type(c))"
   ]
  },
  {
   "cell_type": "markdown",
   "id": "8a72aab8",
   "metadata": {},
   "source": [
    "\n",
    "## list / ndarray 간 변환"
   ]
  },
  {
   "cell_type": "markdown",
   "id": "48072ebc",
   "metadata": {},
   "source": [
    "주어진 python list를 numpy.ndarray로 바꾸는 것은 1.2에서 했었다(np.array)"
   ]
  },
  {
   "cell_type": "code",
   "execution_count": 12,
   "id": "22a8ad2f",
   "metadata": {
    "scrolled": true
   },
   "outputs": [
    {
     "name": "stdout",
     "output_type": "stream",
     "text": [
      "[1, 3, 5, 6]\n",
      "<class 'list'>\n"
     ]
    }
   ],
   "source": [
    "c = b.tolist()\n",
    "print(c)\n",
    "print(type(c))"
   ]
  },
  {
   "cell_type": "markdown",
   "id": "a0008d6c",
   "metadata": {},
   "source": [
    "numpy.array를 python list로 바꿀 때는 tolist 함수를 사용할 수 있다."
   ]
  },
  {
   "cell_type": "markdown",
   "id": "ad20205a",
   "metadata": {},
   "source": [
    "## list / ndarray 간 차이점"
   ]
  },
  {
   "cell_type": "markdown",
   "id": "40d3738c",
   "metadata": {},
   "source": [
    "### 덧셈"
   ]
  },
  {
   "cell_type": "markdown",
   "id": "22030cc5",
   "metadata": {},
   "source": [
    "두 벡터 $a=(1,2,3,4)$, $b=(10,20,30,40)$이 주어져있을 때 두 벡터를 더한 값은\n",
    "$$a+b=(11,22,33,44)$$\n",
    "이다.\n",
    "하지만 Python의 list를 사용할 경우 두 리스트를 이어붙이는(concatenate) 결과를 내놓는다."
   ]
  },
  {
   "cell_type": "code",
   "execution_count": 13,
   "id": "f2c95caf",
   "metadata": {
    "scrolled": true
   },
   "outputs": [
    {
     "name": "stdout",
     "output_type": "stream",
     "text": [
      "[1, 2, 3, 4, 10, 20, 30, 40]\n"
     ]
    }
   ],
   "source": [
    "a = [1, 2, 3, 4]\n",
    "b = [10, 20, 30, 40]\n",
    "print(a+b)"
   ]
  },
  {
   "cell_type": "markdown",
   "id": "54dc4280",
   "metadata": {},
   "source": [
    "NumPy array는 '보통의' 정의대로 결과를 출력한다."
   ]
  },
  {
   "cell_type": "code",
   "execution_count": 14,
   "id": "7a1f7068",
   "metadata": {},
   "outputs": [
    {
     "name": "stdout",
     "output_type": "stream",
     "text": [
      "[11 22 33 44]\n"
     ]
    }
   ],
   "source": [
    "a = np.array([1, 2, 3, 4])\n",
    "b = np.array([10, 20, 30, 40])\n",
    "print(a+b)"
   ]
  },
  {
   "cell_type": "markdown",
   "id": "5c08720a",
   "metadata": {},
   "source": [
    "### 곱셈"
   ]
  },
  {
   "cell_type": "markdown",
   "id": "39190647",
   "metadata": {},
   "source": [
    "또한, Python list를 사용하면 두 벡터 $a$, $b$를 단순한 명령어로 곱하는 것이 불가능하다."
   ]
  },
  {
   "cell_type": "code",
   "execution_count": 15,
   "id": "172ecb1e",
   "metadata": {
    "scrolled": true
   },
   "outputs": [
    {
     "ename": "TypeError",
     "evalue": "can't multiply sequence by non-int of type 'list'",
     "output_type": "error",
     "traceback": [
      "\u001b[1;31m---------------------------------------------------------------------------\u001b[0m",
      "\u001b[1;31mTypeError\u001b[0m                                 Traceback (most recent call last)",
      "\u001b[1;32m~\\AppData\\Local\\Temp/ipykernel_13488/468954666.py\u001b[0m in \u001b[0;36m<module>\u001b[1;34m\u001b[0m\n\u001b[0;32m      1\u001b[0m \u001b[0ma\u001b[0m \u001b[1;33m=\u001b[0m \u001b[1;33m[\u001b[0m\u001b[1;36m1\u001b[0m\u001b[1;33m,\u001b[0m \u001b[1;36m2\u001b[0m\u001b[1;33m,\u001b[0m \u001b[1;36m3\u001b[0m\u001b[1;33m,\u001b[0m \u001b[1;36m4\u001b[0m\u001b[1;33m]\u001b[0m\u001b[1;33m\u001b[0m\u001b[1;33m\u001b[0m\u001b[0m\n\u001b[0;32m      2\u001b[0m \u001b[0mb\u001b[0m \u001b[1;33m=\u001b[0m \u001b[1;33m[\u001b[0m\u001b[1;36m10\u001b[0m\u001b[1;33m,\u001b[0m \u001b[1;36m20\u001b[0m\u001b[1;33m,\u001b[0m \u001b[1;36m30\u001b[0m\u001b[1;33m,\u001b[0m \u001b[1;36m40\u001b[0m\u001b[1;33m]\u001b[0m\u001b[1;33m\u001b[0m\u001b[1;33m\u001b[0m\u001b[0m\n\u001b[1;32m----> 3\u001b[1;33m \u001b[0ma\u001b[0m\u001b[1;33m*\u001b[0m\u001b[0mb\u001b[0m\u001b[1;33m\u001b[0m\u001b[1;33m\u001b[0m\u001b[0m\n\u001b[0m",
      "\u001b[1;31mTypeError\u001b[0m: can't multiply sequence by non-int of type 'list'"
     ]
    }
   ],
   "source": [
    "a = [1, 2, 3, 4]\n",
    "b = [10, 20, 30, 40]\n",
    "a*b"
   ]
  },
  {
   "cell_type": "markdown",
   "id": "9df332c1",
   "metadata": {},
   "source": [
    "반면, NumPy array는 elementwise한 곱셈을 출력해준다."
   ]
  },
  {
   "cell_type": "code",
   "execution_count": 17,
   "id": "07eb9f70",
   "metadata": {},
   "outputs": [
    {
     "data": {
      "text/plain": [
       "array([ 10,  40,  90, 160])"
      ]
     },
     "execution_count": 17,
     "metadata": {},
     "output_type": "execute_result"
    }
   ],
   "source": [
    "a = np.array([1, 2, 3, 4])\n",
    "b = np.array([10, 20, 30, 40])\n",
    "a*b"
   ]
  },
  {
   "cell_type": "markdown",
   "id": "c575b0b4",
   "metadata": {},
   "source": [
    "### 스칼라곱"
   ]
  },
  {
   "cell_type": "markdown",
   "id": "3cf03f7a",
   "metadata": {},
   "source": [
    "실수 $3$과 벡터 $a=(1,2,3,4)$가 주어져있을 때, 두 대상을 '곱해서' 할 수 있는 것은 스칼라곱(scalar multiplication)일 것이다. 우리는 결과가\n",
    "$$3\\cdot a=(3,6,9,12)$$\n",
    "와 같이 나타라리라고 예상할 수 있다.\n",
    "\n",
    "하지만, Python list에서는 4차원의 벡터 $a$ 세 개를 이어붙여서 12차원의 벡터를 결과로 내놓는다."
   ]
  },
  {
   "cell_type": "code",
   "execution_count": 18,
   "id": "8f189404",
   "metadata": {},
   "outputs": [
    {
     "name": "stdout",
     "output_type": "stream",
     "text": [
      "[1, 2, 3, 4, 1, 2, 3, 4, 1, 2, 3, 4]\n"
     ]
    }
   ],
   "source": [
    "a= [1, 2, 3, 4]\n",
    "print(3*a)"
   ]
  },
  {
   "cell_type": "markdown",
   "id": "05454f97",
   "metadata": {},
   "source": [
    "반면, NumPy array에서는 스칼라곱을 출력해준다.\n",
    "이렇듯, NumPy array는 Python list에 비해 훨씬 직관적인 결과를 제공해준다."
   ]
  },
  {
   "cell_type": "code",
   "execution_count": 19,
   "id": "9459c2d6",
   "metadata": {
    "scrolled": true
   },
   "outputs": [
    {
     "name": "stdout",
     "output_type": "stream",
     "text": [
      "[ 3  6  9 12]\n"
     ]
    }
   ],
   "source": [
    "a = np.array([1, 2, 3, 4])\n",
    "print(3*a)"
   ]
  },
  {
   "cell_type": "markdown",
   "id": "e1cbce1f",
   "metadata": {},
   "source": [
    "- 출처 : https://richwind.co.kr/1"
   ]
  },
  {
   "cell_type": "markdown",
   "id": "ae8164a2",
   "metadata": {},
   "source": [
    "### list vs ndarray"
   ]
  },
  {
   "cell_type": "markdown",
   "id": "8aa4b888",
   "metadata": {},
   "source": [
    "**1.4.1**의 벡터의 덧셈을 NumPy 없이 Python의 list만 가지고 구현할 수 있다.\n",
    "하지만 아래에서 보듯, **1.4.1**보다 복잡하다.\n",
    "\n",
    "먼저, for 문과 append를 사용해 벡터의 덧셈을 수행할 수 있다."
   ]
  },
  {
   "cell_type": "code",
   "execution_count": 20,
   "id": "d33e9b8f",
   "metadata": {},
   "outputs": [
    {
     "name": "stdout",
     "output_type": "stream",
     "text": [
      "[11, 22, 33, 44]\n"
     ]
    }
   ],
   "source": [
    "# list로서의 구현 1 : append\n",
    "a = [1, 2, 3, 4]\n",
    "b = [10, 20, 30, 40]\n",
    "c = []\n",
    "for i in range(4):\n",
    "    c.append(a[i]+b[i])\n",
    "print(c)"
   ]
  },
  {
   "cell_type": "markdown",
   "id": "70d77fe6",
   "metadata": {},
   "source": [
    "조금 더 나아가, python의 내장함수인 zip을 사용할 수도 있다."
   ]
  },
  {
   "cell_type": "code",
   "execution_count": 21,
   "id": "19c8c206",
   "metadata": {},
   "outputs": [
    {
     "name": "stdout",
     "output_type": "stream",
     "text": [
      "[10, 40, 90, 160]\n"
     ]
    }
   ],
   "source": [
    "# list로서의 구현 2 : zip\n",
    "a = [1, 2, 3, 4]\n",
    "b = [10, 20, 30, 40]\n",
    "c = [(x * y) for x, y in zip(a, b)]\n",
    "# print(list(zip(a, b)))\n",
    "print(c)"
   ]
  },
  {
   "cell_type": "markdown",
   "id": "10183e42",
   "metadata": {},
   "source": [
    "이렇듯, NumPy의 array를 사용하는 방식은 Python의 list를 사용하는 방식보다 훨씬 간편하다.\n",
    "하지만 더 중요한 점은 NumPy의 array의 연산이 Python의 list의 연산보다 훨씬 빠르다는 점이다.\n",
    "아래 코드에서는 1000만차원의 두 벡터를 elementwise하게 곱하는 연산을 NumPy의 array / Python의 list를 사용하여 각각 수행하고 있다.\n",
    "결과적으로, NumPy array가 Python list보다 시간적으로 수 십 배에서 수 백 배정도 빠르다는 것을 알 수 있다."
   ]
  },
  {
   "cell_type": "code",
   "execution_count": 167,
   "id": "17d54f54",
   "metadata": {
    "scrolled": true
   },
   "outputs": [
    {
     "name": "stderr",
     "output_type": "stream",
     "text": [
      "C:\\Users\\shyze\\AppData\\Local\\Temp/ipykernel_13488/3846621077.py:13: RuntimeWarning: overflow encountered in long_scalars\n",
      "  resultantList1.append(array1[i]*array2[i])\n"
     ]
    },
    {
     "name": "stdout",
     "output_type": "stream",
     "text": [
      "Time taken by Lists(append) : 16.931538343429565 seconds\n",
      "Time taken by Lists(zip) : 1.6767125129699707 seconds\n",
      "Time taken by NumPy Arrays : 0.031263113021850586 seconds\n",
      "NumPy Arrays is  541.58 times faster than Lists(append)\n",
      "NumPy Arrays is  53.63 times faster than Lists(zip)\n"
     ]
    }
   ],
   "source": [
    "import time\n",
    "\n",
    "N = 10000000\n",
    "list1 = range(N)\n",
    "list2 = range(N)\n",
    "array1 = np.arange(N) \n",
    "array2 = np.arange(N)\n",
    "\n",
    "# list(append)를 사용했을 때\n",
    "initialTime = time.time()\n",
    "resultantList1 = []\n",
    "for i in range(N):\n",
    "    resultantList1.append(array1[i]*array2[i])\n",
    "T1 = time.time() - initialTime\n",
    "print(\"Time taken by Lists(append) :\",(T1),\"seconds\")\n",
    "\n",
    "# list(zip)을 사용했을 때\n",
    "initialTime = time.time()\n",
    "resultantList2 = [(a * b) for a, b in zip(list1, list2)]\n",
    "T2 = time.time() - initialTime\n",
    "print(\"Time taken by Lists(zip) :\",(T2),\"seconds\")\n",
    "\n",
    "# NumPy array를 사용했을 때\n",
    "initialTime = time.time()\n",
    "resultantArray = array1 * array2\n",
    "T3 = time.time() - initialTime\n",
    "print(\"Time taken by NumPy Arrays :\",(T3),\"seconds\")\n",
    "\n",
    "print(\"NumPy Arrays is \",round(T1/T3,2),\"times faster than Lists(append)\")\n",
    "print(\"NumPy Arrays is \",round(T2/T3,2),\"times faster than Lists(zip)\")"
   ]
  },
  {
   "cell_type": "markdown",
   "id": "6df5f17c",
   "metadata": {},
   "source": [
    "# 벡터, 행렬, 텐서"
   ]
  },
  {
   "cell_type": "markdown",
   "id": "fb555c6b",
   "metadata": {},
   "source": [
    "## 벡터"
   ]
  },
  {
   "cell_type": "markdown",
   "id": "99002e8b",
   "metadata": {},
   "source": [
    " - $F$가 field일 때, $F^n$은 vector space이고, $F^n$의 원소는 벡터이다.\n",
    "여기에서는 $\\mathbb R^n$의 원소, 즉 $(a_1,a_2,\\cdots,a_n)$만을 다룬다. \n",
    "$(a_i\\in\\mathbb R)$\n",
    " - 이 문서에서 벡터는 $a,b,c,\\cdots$ 등으로 표기하겠다."
   ]
  },
  {
   "cell_type": "code",
   "execution_count": 23,
   "id": "3a2a98da",
   "metadata": {},
   "outputs": [],
   "source": [
    "a = np.array([1,3,5,6])"
   ]
  },
  {
   "cell_type": "code",
   "execution_count": 24,
   "id": "3e5b3870",
   "metadata": {},
   "outputs": [
    {
     "name": "stdout",
     "output_type": "stream",
     "text": [
      "[1 3 5 6]\n"
     ]
    }
   ],
   "source": [
    "print(a)"
   ]
  },
  {
   "cell_type": "code",
   "execution_count": 25,
   "id": "ceaf7030",
   "metadata": {
    "scrolled": true
   },
   "outputs": [
    {
     "name": "stdout",
     "output_type": "stream",
     "text": [
      "1\n"
     ]
    }
   ],
   "source": [
    "print(a.ndim)"
   ]
  },
  {
   "cell_type": "markdown",
   "id": "a125990f",
   "metadata": {},
   "source": [
    "* 어떤 tensor의 rank를 출력하는 명령어는 ndim이다.\n",
    "* a는 벡터, 즉 rank 1 tensor이다."
   ]
  },
  {
   "cell_type": "code",
   "execution_count": 26,
   "id": "192611f1",
   "metadata": {
    "scrolled": true
   },
   "outputs": [
    {
     "name": "stdout",
     "output_type": "stream",
     "text": [
      "(4,)\n"
     ]
    }
   ],
   "source": [
    "print(a.shape)"
   ]
  },
  {
   "cell_type": "markdown",
   "id": "efa2b30a",
   "metadata": {},
   "source": [
    "* 어떤 tensor의 모양을 출력하는 함수는 shape이다.\n",
    "* a는 4차원의 벡터이다."
   ]
  },
  {
   "cell_type": "code",
   "execution_count": 27,
   "id": "a92e0330",
   "metadata": {},
   "outputs": [],
   "source": [
    "# print(a.size)"
   ]
  },
  {
   "cell_type": "code",
   "execution_count": 28,
   "id": "d8a9a987",
   "metadata": {},
   "outputs": [],
   "source": [
    "# b = np.zeros(2)\n",
    "# print(b)\n",
    "# c = np.ones(3)\n",
    "# print(c)\n",
    "# d = np.empty(4)\n",
    "# print(d)"
   ]
  },
  {
   "cell_type": "code",
   "execution_count": 29,
   "id": "ae8c0015",
   "metadata": {},
   "outputs": [],
   "source": [
    "# e = np.arange(6)\n",
    "# print(e)\n",
    "# f = np.arange(2,6)\n",
    "# print(f)\n",
    "# g = np.linspace(1,5,9)\n",
    "# print(g)"
   ]
  },
  {
   "cell_type": "markdown",
   "id": "57602306",
   "metadata": {},
   "source": [
    "## 행렬"
   ]
  },
  {
   "cell_type": "markdown",
   "id": "61d93d35",
   "metadata": {},
   "source": [
    " - $F$가 field일 때, $F^{m\\times n}$도 역시 vector space이고, $F^{m\\times n}$의 원소는 $m\\times n$ 행렬이다.\n",
    "파이썬에서는 $\\mathbb R^{m\\times n}$의 원소, 즉 $(a_{ij})_{m\\times n}$만을 다룬다. \n",
    "$(a_{ij}\\in\\mathbb R)$\n",
    " - 이 문서에서 행렬은 $A, B, C,\\cdots$ 등으로 표기하겠다."
   ]
  },
  {
   "cell_type": "code",
   "execution_count": 30,
   "id": "f5db3a10",
   "metadata": {},
   "outputs": [],
   "source": [
    "A = np.array([[1,3,5],[2,4,6]])"
   ]
  },
  {
   "cell_type": "markdown",
   "id": "897cce7f",
   "metadata": {},
   "source": [
    " - 행렬은, 차원이 같은 여러 개의 벡터들을 순서대로 나열한 것이라고 볼 수 있다.\n",
    "즉, 여러 개의 행벡터를 세로로 쌓아놓은 것이다. (https://numpy.org/doc/stable/user/quickstart.html)\n",
    "따라서, 길이가 같은 list들의 list에 np.array 함수를 적용시키면 그것이 NumPy에서의 행렬이 된다.\n",
    " - 다시 말해, NumPy array에서의 rank 1 tensor는 '열벡터'가 아닌 '행벡터'로 간주하는 것이 바람직하다.\n",
    "벡터를 print했을 때, 숫자들이 가로로 배열되는 것 외에도, 뒤에 나올 hstack, vstack과의 연관성을 생각해봐도 그렇다."
   ]
  },
  {
   "cell_type": "code",
   "execution_count": 31,
   "id": "10c2d06a",
   "metadata": {
    "scrolled": true
   },
   "outputs": [
    {
     "name": "stdout",
     "output_type": "stream",
     "text": [
      "[[1 3 5]\n",
      " [2 4 6]]\n"
     ]
    }
   ],
   "source": [
    "print(A)"
   ]
  },
  {
   "cell_type": "code",
   "execution_count": 32,
   "id": "b8c3207b",
   "metadata": {},
   "outputs": [
    {
     "name": "stdout",
     "output_type": "stream",
     "text": [
      "2\n"
     ]
    }
   ],
   "source": [
    "print(A.ndim)"
   ]
  },
  {
   "cell_type": "markdown",
   "id": "fb9bba49",
   "metadata": {},
   "source": [
    "* A는 행렬, 즉 rank 2 tensor이다."
   ]
  },
  {
   "cell_type": "code",
   "execution_count": 33,
   "id": "a09ee0be",
   "metadata": {
    "scrolled": true
   },
   "outputs": [
    {
     "name": "stdout",
     "output_type": "stream",
     "text": [
      "(2, 3)\n"
     ]
    }
   ],
   "source": [
    "print(A.shape)"
   ]
  },
  {
   "cell_type": "markdown",
   "id": "ecd2fad0",
   "metadata": {},
   "source": [
    "* A는 $2\\times3$ 행렬이다."
   ]
  },
  {
   "cell_type": "code",
   "execution_count": 170,
   "id": "d2d620f1",
   "metadata": {},
   "outputs": [],
   "source": [
    "# a = np.array([1,3,5,6])\n",
    "# print(a)\n",
    "# b = np.expand_dims(a, axis = 0)\n",
    "# print(b)\n",
    "# print(b.shape)\n",
    "# c = np.expand_dims(a, axis = 1)\n",
    "# print(c)\n",
    "# print(c.shape)"
   ]
  },
  {
   "cell_type": "markdown",
   "id": "b7c61c8f",
   "metadata": {},
   "source": [
    "## 텐서"
   ]
  },
  {
   "cell_type": "markdown",
   "id": "804d13ce",
   "metadata": {},
   "source": [
    "- 수학에서의 tensor란 몇가지 조건을 만족시키는 multilinear map의 일종이다.\n",
    "- 하지만 여기서의 tensor란 단순히 $\\mathbb Q^{n_1\\times\\cdots\\times n_k}$의 원소를 의미한다.\n",
    "- 행렬(rank 2 tensor)이 a list of lists였다면, rank 3 텐서는 a list of lists of lists이고, rank 4 tensor는 a list of lists of lists of lists이다.\n",
    "- 이 문서에서 벡터는 $a,b,c,\\cdots$로, 행렬은 $A,B,C,\\cdots$로, rank 3 tensor는 $X,Y,Z,\\cdots$로 표기하였다."
   ]
  },
  {
   "cell_type": "code",
   "execution_count": 35,
   "id": "27632e77",
   "metadata": {},
   "outputs": [],
   "source": [
    "X = np.array([[[1,3,5],[2,4,6]],[[0,1,2],[3,4,5]]])"
   ]
  },
  {
   "cell_type": "markdown",
   "id": "cf197400",
   "metadata": {},
   "source": [
    "shape이 같은 두 행렬을 병렬적으로 나열하면 rank 3 tensor가 만들어진다."
   ]
  },
  {
   "cell_type": "code",
   "execution_count": 36,
   "id": "203a389c",
   "metadata": {
    "scrolled": true
   },
   "outputs": [
    {
     "name": "stdout",
     "output_type": "stream",
     "text": [
      "[[[1 3 5]\n",
      "  [2 4 6]]\n",
      "\n",
      " [[0 1 2]\n",
      "  [3 4 5]]]\n"
     ]
    }
   ],
   "source": [
    "print(X)"
   ]
  },
  {
   "cell_type": "code",
   "execution_count": 37,
   "id": "ae7fee7a",
   "metadata": {},
   "outputs": [
    {
     "name": "stdout",
     "output_type": "stream",
     "text": [
      "3\n"
     ]
    }
   ],
   "source": [
    "print(X.ndim)"
   ]
  },
  {
   "cell_type": "markdown",
   "id": "4a1d4697",
   "metadata": {},
   "source": [
    "* X는 rank 3 tensor이다."
   ]
  },
  {
   "cell_type": "code",
   "execution_count": 38,
   "id": "fdc8d5c5",
   "metadata": {},
   "outputs": [
    {
     "name": "stdout",
     "output_type": "stream",
     "text": [
      "(2, 2, 3)\n"
     ]
    }
   ],
   "source": [
    "print(X.shape)"
   ]
  },
  {
   "cell_type": "markdown",
   "id": "214a9994",
   "metadata": {},
   "source": [
    "* X의 shape이 (2, 2, 3)이다.\n",
    "* 행렬(rank 2 tenstor)에서는 '행'과 '열'이라는 명칭이 있었다. 예컨대 **2.2**에서 A의 2행 3열의 숫자는 $6$이라고 말할 수 있다.\n",
    "이때, '행'을 첫번째 축(axis), '열'을 두번째 축이라고 말한다.\n",
    "다시 말해, 행렬(rank 2 tensor)는 한 개의 축을 가지고 있다.\n",
    "마찬가지로, 벡터(rank 1 tensor)는 한 개의 축을, rank 3 tensor는 세 개의 축을 가진다고 말할 수 있다.\n",
    "* rank 3 tensor가 적용되는 대표적인 예는 LSTM이다. keras를 이용해 LSTM을 만들 때 그 입력값은 rank 3 tensor여야 하고 이때의 shape은 (batch_size, n_time_steps, n_features)이다.\n",
    "컬러 사진 또한 rank 3 tensor로 간주할 수 있다."
   ]
  },
  {
   "cell_type": "markdown",
   "id": "d3fc109b",
   "metadata": {},
   "source": [
    "# 텐서의 shape 변환"
   ]
  },
  {
   "cell_type": "code",
   "execution_count": 184,
   "id": "d5fbcc73",
   "metadata": {},
   "outputs": [
    {
     "name": "stdout",
     "output_type": "stream",
     "text": [
      "[[1 3 5]\n",
      " [2 4 6]]\n",
      "(2, 3)\n"
     ]
    }
   ],
   "source": [
    "A = np.array([[1,3,5],[2,4,6]])\n",
    "print(A)\n",
    "print(A.shape)"
   ]
  },
  {
   "cell_type": "markdown",
   "id": "445ddd9f",
   "metadata": {},
   "source": [
    "## flatten"
   ]
  },
  {
   "cell_type": "code",
   "execution_count": 185,
   "id": "a96db9e2",
   "metadata": {},
   "outputs": [
    {
     "name": "stdout",
     "output_type": "stream",
     "text": [
      "[1 3 5 2 4 6]\n"
     ]
    }
   ],
   "source": [
    "a = A.flatten()\n",
    "print(a)"
   ]
  },
  {
   "cell_type": "code",
   "execution_count": 186,
   "id": "814dc61c",
   "metadata": {
    "scrolled": true
   },
   "outputs": [
    {
     "name": "stdout",
     "output_type": "stream",
     "text": [
      "(6,)\n"
     ]
    }
   ],
   "source": [
    "print(a.shape)"
   ]
  },
  {
   "cell_type": "markdown",
   "id": "d5f34740",
   "metadata": {},
   "source": [
    "* rank 2 이상의 tensor를 벡터로 바꿀 수 있다. 이것을 실행하는 명령어는 flatten이다.\n",
    "* 여기에서는 (2,3)이었던 B의 shape을 (6,)으로 바꿀 수 있다."
   ]
  },
  {
   "cell_type": "code",
   "execution_count": 189,
   "id": "be682b58",
   "metadata": {},
   "outputs": [],
   "source": [
    "# b = A.ravel()\n",
    "# print(b)\n",
    "# print(b.shape)"
   ]
  },
  {
   "cell_type": "markdown",
   "id": "29085d8e",
   "metadata": {},
   "source": [
    "## reshape"
   ]
  },
  {
   "cell_type": "code",
   "execution_count": 176,
   "id": "edef5eb8",
   "metadata": {},
   "outputs": [
    {
     "name": "stdout",
     "output_type": "stream",
     "text": [
      "[[1 3]\n",
      " [5 2]\n",
      " [4 6]]\n"
     ]
    }
   ],
   "source": [
    "B = A.reshape(3,2)\n",
    "print(B)"
   ]
  },
  {
   "cell_type": "code",
   "execution_count": 177,
   "id": "34dcc5e1",
   "metadata": {},
   "outputs": [
    {
     "name": "stdout",
     "output_type": "stream",
     "text": [
      "(3, 2)\n"
     ]
    }
   ],
   "source": [
    "print(B.shape)"
   ]
  },
  {
   "cell_type": "markdown",
   "id": "cd8e76d9",
   "metadata": {},
   "source": [
    "* tensor의 shape을 원하는 형태로 바꿀 수 있다. 이때 사용되는 명령어는 reshape이다.\n",
    "* 따라서 이것은 flatten을 포함하는 개념이다. 즉 'B = B.reshape(6)'이라고 선언하면 3.1과 같은 결과를 얻을 것이다.\n",
    "* 여기에서는 (2,3)이었던 B의 shape을 (3,2)로 바꾸었다.\n",
    "* 2 by 3 행렬의 각 element들을 일렬로 나열하고 그것을 3 by 2 행렬의 형태로 집어넣는다. 따라서 이것은 transpose와 다르다. 바로 뒤의 3.3에서 B를 transpose한 결과와 비교해볼 수 있을 것이다."
   ]
  },
  {
   "cell_type": "code",
   "execution_count": 182,
   "id": "277b3be3",
   "metadata": {},
   "outputs": [
    {
     "name": "stdout",
     "output_type": "stream",
     "text": [
      "[[1 3]\n",
      " [5 2]\n",
      " [4 6]]\n",
      "(3, 2)\n"
     ]
    }
   ],
   "source": [
    "# C = np.resize(A,(3,2))\n",
    "# print(C)\n",
    "# print(C.shape)"
   ]
  },
  {
   "cell_type": "code",
   "execution_count": 183,
   "id": "4a2fca23",
   "metadata": {},
   "outputs": [
    {
     "name": "stdout",
     "output_type": "stream",
     "text": [
      "[[1 3]\n",
      " [5 2]\n",
      " [4 6]\n",
      " [1 3]]\n",
      "(4, 2)\n"
     ]
    }
   ],
   "source": [
    "# D = np.resize(A,(4,2))\n",
    "# print(D)\n",
    "# print(D.shape)"
   ]
  },
  {
   "cell_type": "markdown",
   "id": "90d0d5dd",
   "metadata": {},
   "source": [
    "## transpose"
   ]
  },
  {
   "cell_type": "code",
   "execution_count": 44,
   "id": "cf87c625",
   "metadata": {},
   "outputs": [
    {
     "name": "stdout",
     "output_type": "stream",
     "text": [
      "[[1 2]\n",
      " [3 4]\n",
      " [5 6]]\n"
     ]
    }
   ],
   "source": [
    "C = A.T\n",
    "print(C)"
   ]
  },
  {
   "cell_type": "code",
   "execution_count": 45,
   "id": "ff04ecdc",
   "metadata": {},
   "outputs": [
    {
     "name": "stdout",
     "output_type": "stream",
     "text": [
      "(3, 2)\n"
     ]
    }
   ],
   "source": [
    "print(C.shape)"
   ]
  },
  {
   "cell_type": "markdown",
   "id": "38b826a7",
   "metadata": {},
   "source": [
    "matrix를 transpose하는 명령어는 'T'이다."
   ]
  },
  {
   "cell_type": "markdown",
   "id": "02db0ad7",
   "metadata": {},
   "source": [
    "# 텐서에 적용되는 기본 연산들"
   ]
  },
  {
   "cell_type": "markdown",
   "id": "432b5063",
   "metadata": {},
   "source": [
    "## 이항연산"
   ]
  },
  {
   "cell_type": "markdown",
   "id": "61e0f7c4",
   "metadata": {},
   "source": [
    "* 두 벡터 혹은 두 행렬에 대한 이항연산($f:S\\times S\\to S$, 예를 들면 사칙연산)은 두 벡터 혹은 두 행렬이 서로 같은 shape을 가질 때 이루어질 수 있다.\n",
    "* 이때의 원칙은 연산이 elementwise하게 적용된다는 점이다.\n",
    "* 따라서, 두 행렬을 연산 \\*로 곱한다고 할지라도, 행렬곱이 아닌 elementwise 곱이 된다."
   ]
  },
  {
   "cell_type": "markdown",
   "id": "1837289a",
   "metadata": {},
   "source": [
    "### 벡터에 대한 사칙연산"
   ]
  },
  {
   "cell_type": "code",
   "execution_count": 46,
   "id": "f3abb8c7",
   "metadata": {},
   "outputs": [
    {
     "name": "stdout",
     "output_type": "stream",
     "text": [
      "[1 3 5]\n",
      "[2 4 6]\n"
     ]
    }
   ],
   "source": [
    "a = np.array([1,3,5])\n",
    "b = np.array([2,4,6])\n",
    "print(a)\n",
    "print(b)"
   ]
  },
  {
   "cell_type": "code",
   "execution_count": 47,
   "id": "6d205b3c",
   "metadata": {},
   "outputs": [
    {
     "name": "stdout",
     "output_type": "stream",
     "text": [
      "[ 3  7 11]\n"
     ]
    }
   ],
   "source": [
    "print(a+b)"
   ]
  },
  {
   "cell_type": "code",
   "execution_count": 48,
   "id": "c5f292c9",
   "metadata": {},
   "outputs": [
    {
     "name": "stdout",
     "output_type": "stream",
     "text": [
      "[-1 -1 -1]\n"
     ]
    }
   ],
   "source": [
    "print(a-b)"
   ]
  },
  {
   "cell_type": "code",
   "execution_count": 49,
   "id": "ea595913",
   "metadata": {},
   "outputs": [
    {
     "name": "stdout",
     "output_type": "stream",
     "text": [
      "[ 2 12 30]\n"
     ]
    }
   ],
   "source": [
    "print(a*b)"
   ]
  },
  {
   "cell_type": "code",
   "execution_count": 50,
   "id": "bfd32cb2",
   "metadata": {},
   "outputs": [
    {
     "name": "stdout",
     "output_type": "stream",
     "text": [
      "[0.5        0.75       0.83333333]\n"
     ]
    }
   ],
   "source": [
    "print(a/b)"
   ]
  },
  {
   "cell_type": "markdown",
   "id": "1c3dea7c",
   "metadata": {},
   "source": [
    "### 행렬에 대한 사칙연산"
   ]
  },
  {
   "cell_type": "code",
   "execution_count": 51,
   "id": "a2fcb26c",
   "metadata": {},
   "outputs": [
    {
     "name": "stdout",
     "output_type": "stream",
     "text": [
      "[[1 3 5]\n",
      " [2 4 6]]\n",
      "[[0 1 2]\n",
      " [3 4 5]]\n"
     ]
    }
   ],
   "source": [
    "A = np.array([[1,3,5],[2,4,6]])\n",
    "B = np.array([[0,1,2],[3,4,5]])\n",
    "print(A)\n",
    "print(B)"
   ]
  },
  {
   "cell_type": "code",
   "execution_count": 52,
   "id": "6a8b41ee",
   "metadata": {},
   "outputs": [
    {
     "name": "stdout",
     "output_type": "stream",
     "text": [
      "[[ 1  4  7]\n",
      " [ 5  8 11]]\n"
     ]
    }
   ],
   "source": [
    "print(A+B)"
   ]
  },
  {
   "cell_type": "code",
   "execution_count": 53,
   "id": "86a05bc8",
   "metadata": {},
   "outputs": [
    {
     "name": "stdout",
     "output_type": "stream",
     "text": [
      "[[ 1  2  3]\n",
      " [-1  0  1]]\n"
     ]
    }
   ],
   "source": [
    "print(A-B)"
   ]
  },
  {
   "cell_type": "code",
   "execution_count": 54,
   "id": "9f5cae19",
   "metadata": {},
   "outputs": [
    {
     "name": "stdout",
     "output_type": "stream",
     "text": [
      "[[ 0  3 10]\n",
      " [ 6 16 30]]\n"
     ]
    }
   ],
   "source": [
    "print(A*B)"
   ]
  },
  {
   "cell_type": "code",
   "execution_count": 55,
   "id": "c8fd7757",
   "metadata": {
    "scrolled": true
   },
   "outputs": [
    {
     "name": "stdout",
     "output_type": "stream",
     "text": [
      "[[       inf 3.         2.5       ]\n",
      " [0.66666667 1.         1.2       ]]\n"
     ]
    },
    {
     "name": "stderr",
     "output_type": "stream",
     "text": [
      "C:\\Users\\shyze\\AppData\\Local\\Temp/ipykernel_13488/108995000.py:1: RuntimeWarning: divide by zero encountered in true_divide\n",
      "  print(A/B)\n"
     ]
    }
   ],
   "source": [
    "print(A/B)"
   ]
  },
  {
   "cell_type": "markdown",
   "id": "cc47bf19",
   "metadata": {},
   "source": [
    "## 벡터의 내적과 행렬곱"
   ]
  },
  {
   "cell_type": "markdown",
   "id": "f4a81f6c",
   "metadata": {},
   "source": [
    "이항연산들 외에 중요한 연산들로는 내적, 행렬곱 등이 있다.\n",
    "명령어 \\*는 elementwise 곱을 의미한다고 했으므로 이것으로 행렬곱 연산을 할 수는 없다.\n",
    "대신 '@'를 사용하거나, 내적을 나타내는 명령어인 '.dot'을 사용할 수 있다."
   ]
  },
  {
   "cell_type": "markdown",
   "id": "0ae2cc08",
   "metadata": {},
   "source": [
    "### 벡터의 내적"
   ]
  },
  {
   "cell_type": "code",
   "execution_count": 56,
   "id": "42a31023",
   "metadata": {},
   "outputs": [
    {
     "name": "stdout",
     "output_type": "stream",
     "text": [
      "44\n",
      "44\n"
     ]
    }
   ],
   "source": [
    "a = np.array([1,3,5])\n",
    "b = np.array([2,4,6])\n",
    "print(a@b)\n",
    "print(a.dot(b))"
   ]
  },
  {
   "cell_type": "markdown",
   "id": "80da73d2",
   "metadata": {},
   "source": [
    "### 행렬곱"
   ]
  },
  {
   "cell_type": "code",
   "execution_count": 57,
   "id": "7a1adf15",
   "metadata": {},
   "outputs": [
    {
     "name": "stdout",
     "output_type": "stream",
     "text": [
      "[[26 35]\n",
      " [32 44]]\n",
      "[[26 35]\n",
      " [32 44]]\n"
     ]
    }
   ],
   "source": [
    "A = np.array([[1,3,5],[2,4,6]])\n",
    "B = np.array([[0,1],[2,3],[4,5]])\n",
    "print(A@B)\n",
    "print(A.dot(B))"
   ]
  },
  {
   "cell_type": "markdown",
   "id": "7b27e26e",
   "metadata": {},
   "source": [
    "## broadcasting"
   ]
  },
  {
   "cell_type": "markdown",
   "id": "ba0316b6",
   "metadata": {},
   "source": [
    "shape이 서로 같지 않더라도 이항연산이 수행될 수 있는 경우가 있다. 예를 들어, 벡터 (1,3,5)와 숫자 2를 더할 수 있다. 이 경우, 숫자 2를 벡터 (1,3,5)의 각 성분에 일괄적으로 더하는 것으로 간주하는 것이다. 이와 같이 계산되는 방식을 broadcasting이라고 한다."
   ]
  },
  {
   "cell_type": "markdown",
   "id": "c0643793",
   "metadata": {},
   "source": [
    "### 벡터 + 스칼라"
   ]
  },
  {
   "cell_type": "code",
   "execution_count": 58,
   "id": "a815a201",
   "metadata": {},
   "outputs": [],
   "source": [
    "a = np.array([1,3,5])"
   ]
  },
  {
   "cell_type": "code",
   "execution_count": 59,
   "id": "937bf7c0",
   "metadata": {},
   "outputs": [
    {
     "name": "stdout",
     "output_type": "stream",
     "text": [
      "[1 3 5]\n"
     ]
    }
   ],
   "source": [
    "print(a)"
   ]
  },
  {
   "cell_type": "code",
   "execution_count": 60,
   "id": "730d0eac",
   "metadata": {},
   "outputs": [
    {
     "name": "stdout",
     "output_type": "stream",
     "text": [
      "[3 5 7]\n"
     ]
    }
   ],
   "source": [
    "print(a+2)"
   ]
  },
  {
   "cell_type": "code",
   "execution_count": null,
   "id": "3b2a5a9a",
   "metadata": {},
   "outputs": [],
   "source": [
    "print(a+np.array([2,2,2]))"
   ]
  },
  {
   "cell_type": "markdown",
   "id": "ab51be61",
   "metadata": {},
   "source": [
    "### 행렬 + 스칼라"
   ]
  },
  {
   "cell_type": "markdown",
   "id": "b2ae28fa",
   "metadata": {},
   "source": [
    "'벡터 + 스칼라'가 아닌 '행렬 + 스칼라'의 형태에서도 마찬가지로 broadcasting이 일어난다."
   ]
  },
  {
   "cell_type": "code",
   "execution_count": 61,
   "id": "702ddbe1",
   "metadata": {},
   "outputs": [
    {
     "name": "stdout",
     "output_type": "stream",
     "text": [
      "[[1 3 5]\n",
      " [2 4 6]]\n"
     ]
    }
   ],
   "source": [
    "A = np.array([[1,3,5],[2,4,6]])\n",
    "print(A)"
   ]
  },
  {
   "cell_type": "code",
   "execution_count": 62,
   "id": "8b784f76",
   "metadata": {},
   "outputs": [
    {
     "name": "stdout",
     "output_type": "stream",
     "text": [
      "[[3 5 7]\n",
      " [4 6 8]]\n"
     ]
    }
   ],
   "source": [
    "print(A+2)"
   ]
  },
  {
   "cell_type": "markdown",
   "id": "33b2bd78",
   "metadata": {},
   "source": [
    "### 행렬 + 벡터"
   ]
  },
  {
   "cell_type": "markdown",
   "id": "18fa5f70",
   "metadata": {},
   "source": [
    "벡터의 차원과 행렬의 열 수(두번째 axis의 차원)가 같다면 여전히 broadcasting이 일어난다."
   ]
  },
  {
   "cell_type": "code",
   "execution_count": 63,
   "id": "e3d9bee5",
   "metadata": {},
   "outputs": [],
   "source": [
    "a = np.array([2,2,2])\n",
    "A = np.array([[1,3,5],[2,4,6]])\n",
    "B = np.array([[1,3],[5,2],[4,6]])"
   ]
  },
  {
   "cell_type": "code",
   "execution_count": 64,
   "id": "be6cce3b",
   "metadata": {},
   "outputs": [
    {
     "name": "stdout",
     "output_type": "stream",
     "text": [
      "[2 2 2]\n",
      "(3,)\n"
     ]
    }
   ],
   "source": [
    "print(a)\n",
    "print(a.shape)"
   ]
  },
  {
   "cell_type": "code",
   "execution_count": 65,
   "id": "8d7f1478",
   "metadata": {
    "scrolled": true
   },
   "outputs": [
    {
     "name": "stdout",
     "output_type": "stream",
     "text": [
      "[[1 3 5]\n",
      " [2 4 6]]\n",
      "(2, 3)\n"
     ]
    }
   ],
   "source": [
    "print(A)\n",
    "print(A.shape)"
   ]
  },
  {
   "cell_type": "code",
   "execution_count": 66,
   "id": "5dc29925",
   "metadata": {
    "scrolled": true
   },
   "outputs": [
    {
     "name": "stdout",
     "output_type": "stream",
     "text": [
      "[[1 3]\n",
      " [5 2]\n",
      " [4 6]]\n",
      "(3, 2)\n"
     ]
    }
   ],
   "source": [
    "print(B)\n",
    "print(B.shape)"
   ]
  },
  {
   "cell_type": "code",
   "execution_count": 67,
   "id": "2c7ad4a7",
   "metadata": {
    "scrolled": true
   },
   "outputs": [
    {
     "name": "stdout",
     "output_type": "stream",
     "text": [
      "[[3 5 7]\n",
      " [4 6 8]]\n"
     ]
    }
   ],
   "source": [
    "print(a+A)"
   ]
  },
  {
   "cell_type": "code",
   "execution_count": 68,
   "id": "352e0ff9",
   "metadata": {
    "scrolled": true
   },
   "outputs": [
    {
     "ename": "ValueError",
     "evalue": "operands could not be broadcast together with shapes (3,) (3,2) ",
     "output_type": "error",
     "traceback": [
      "\u001b[1;31m---------------------------------------------------------------------------\u001b[0m",
      "\u001b[1;31mValueError\u001b[0m                                Traceback (most recent call last)",
      "\u001b[1;32m~\\AppData\\Local\\Temp/ipykernel_13488/1416726781.py\u001b[0m in \u001b[0;36m<module>\u001b[1;34m\u001b[0m\n\u001b[1;32m----> 1\u001b[1;33m \u001b[0mprint\u001b[0m\u001b[1;33m(\u001b[0m\u001b[0ma\u001b[0m\u001b[1;33m+\u001b[0m\u001b[0mB\u001b[0m\u001b[1;33m)\u001b[0m\u001b[1;33m\u001b[0m\u001b[1;33m\u001b[0m\u001b[0m\n\u001b[0m",
      "\u001b[1;31mValueError\u001b[0m: operands could not be broadcast together with shapes (3,) (3,2) "
     ]
    }
   ],
   "source": [
    "print(a+B)"
   ]
  },
  {
   "cell_type": "markdown",
   "id": "f9952cf0",
   "metadata": {},
   "source": [
    "## 텐서 + 텐서"
   ]
  },
  {
   "cell_type": "markdown",
   "id": "34c1c296",
   "metadata": {},
   "source": [
    "일반적으로 두 텐서 $X$, $Y$에 대하여, 두 텐서 사이의 이항연산에서 broadcasting이 일어날 조건은, 두 텐서의 shape의 값을 오른쪽부터 나열했을 때, 서로 일치하거나, 둘 중 하나가 1이면 된다."
   ]
  },
  {
   "cell_type": "code",
   "execution_count": 202,
   "id": "48e997b0",
   "metadata": {},
   "outputs": [],
   "source": [
    "X = np.arange(6).reshape(1,3,2)\n",
    "Y = np.arange(12).reshape(4,3,1)"
   ]
  },
  {
   "cell_type": "code",
   "execution_count": 203,
   "id": "c7b51381",
   "metadata": {},
   "outputs": [
    {
     "name": "stdout",
     "output_type": "stream",
     "text": [
      "[[[0 1]\n",
      "  [2 3]\n",
      "  [4 5]]]\n",
      "[[[ 0]\n",
      "  [ 1]\n",
      "  [ 2]]\n",
      "\n",
      " [[ 3]\n",
      "  [ 4]\n",
      "  [ 5]]\n",
      "\n",
      " [[ 6]\n",
      "  [ 7]\n",
      "  [ 8]]\n",
      "\n",
      " [[ 9]\n",
      "  [10]\n",
      "  [11]]]\n",
      "(1, 3, 2)\n",
      "(4, 3, 1)\n"
     ]
    }
   ],
   "source": [
    "print(X)\n",
    "print(Y)\n",
    "print(X.shape)\n",
    "print(Y.shape)"
   ]
  },
  {
   "cell_type": "code",
   "execution_count": 206,
   "id": "192bd1f5",
   "metadata": {},
   "outputs": [
    {
     "name": "stdout",
     "output_type": "stream",
     "text": [
      "[[[ 0  1]\n",
      "  [ 3  4]\n",
      "  [ 6  7]]\n",
      "\n",
      " [[ 3  4]\n",
      "  [ 6  7]\n",
      "  [ 9 10]]\n",
      "\n",
      " [[ 6  7]\n",
      "  [ 9 10]\n",
      "  [12 13]]\n",
      "\n",
      " [[ 9 10]\n",
      "  [12 13]\n",
      "  [15 16]]]\n",
      "(4, 3, 2)\n"
     ]
    }
   ],
   "source": [
    "Z = X+Y\n",
    "print(Z)\n",
    "print(Z.shape)"
   ]
  },
  {
   "cell_type": "markdown",
   "id": "0d3de4e2",
   "metadata": {},
   "source": [
    "$X$의 마지막 shape 값은 2이고 $Y$의 마지막 shape 값은 1이다.\n",
    "$X$의 가운데 shape 값은 3이고 $Y$의 가운데 shape 값도 3이다.\n",
    "$X$의 맨 처음 shape 값은 1이고, $Y$의 맨 처음 shape 값은 4이다.\n",
    "따라서 broadcasting 조건을 만족시킨다."
   ]
  },
  {
   "cell_type": "markdown",
   "id": "5767abf9",
   "metadata": {},
   "source": [
    "## broadcasting의 활용"
   ]
  },
  {
   "cell_type": "markdown",
   "id": "08516351",
   "metadata": {},
   "source": [
    "broadcasting을 활용함으로써, 벡터와 행렬에 대한 기본적인 이항연산이 쉽게 이루어질 수 있다.\n",
    "만약 broadcasting 없이 기본적인 elementwise 이항연산만을 사용해야 한다면, 스칼라곱(sclar multiplication)은 다음과 같이 쓸 수밖에 없다.\n",
    "\n",
    "실수 $3$과 벡터 $(1,2,4)$를 스칼라곱하려면"
   ]
  },
  {
   "cell_type": "code",
   "execution_count": 69,
   "id": "4fb4ab8a",
   "metadata": {
    "scrolled": true
   },
   "outputs": [
    {
     "name": "stdout",
     "output_type": "stream",
     "text": [
      "[ 3  6 12]\n"
     ]
    }
   ],
   "source": [
    "print(np.array([3,3,3])*np.array([1,2,4]))"
   ]
  },
  {
   "cell_type": "markdown",
   "id": "c7a86282",
   "metadata": {},
   "source": [
    "와 같이 할 수밖에 없다. 벡터 $(1,2,4)$와 같은 shape의 벡터 $(3,3,3)$을 인위적으로 만들어주어야 한다.\n",
    "하지만, NumPy array에서는 벡터와 스칼라 사이에 broadcasting이 적용되므로"
   ]
  },
  {
   "cell_type": "code",
   "execution_count": 70,
   "id": "2e96815e",
   "metadata": {},
   "outputs": [
    {
     "name": "stdout",
     "output_type": "stream",
     "text": [
      "[ 3  6 12]\n"
     ]
    }
   ],
   "source": [
    "print(3*np.array([1,2,4]))"
   ]
  },
  {
   "cell_type": "markdown",
   "id": "d30ca768",
   "metadata": {},
   "source": [
    "와 같이 간소하게 처리할 수 있다.\n",
    "이것이 적용될 수 있는 상황은 무궁무진하게 많다.\n",
    "\n",
    "**4.4.1** ~ **4.4.4**에 그것들을 설명없이 소개하고 있다.\n",
    "만약 broadcasting이 적용되지 않았다면, 코드는 훨씬 복잡해졌을 것이다."
   ]
  },
  {
   "cell_type": "markdown",
   "id": "75b21970",
   "metadata": {},
   "source": [
    "### 스칼라곱"
   ]
  },
  {
   "cell_type": "code",
   "execution_count": 71,
   "id": "53fdfc80",
   "metadata": {},
   "outputs": [
    {
     "name": "stdout",
     "output_type": "stream",
     "text": [
      "[ 3  6 12]\n"
     ]
    }
   ],
   "source": [
    "print(3*np.array([1,2,4]))"
   ]
  },
  {
   "cell_type": "markdown",
   "id": "561872f3",
   "metadata": {},
   "source": [
    "### 사칙연산"
   ]
  },
  {
   "cell_type": "code",
   "execution_count": 72,
   "id": "152572aa",
   "metadata": {},
   "outputs": [
    {
     "name": "stdout",
     "output_type": "stream",
     "text": [
      "[4 5 7]\n",
      "[-2 -1  1]\n",
      "[ 3  6 12]\n",
      "[0.33333333 0.66666667 1.33333333]\n"
     ]
    }
   ],
   "source": [
    "print(np.array([1,2,4])+3)\n",
    "print(np.array([1,2,4])-3)\n",
    "print(np.array([1,2,4])*3)\n",
    "print(np.array([1,2,4])/3)"
   ]
  },
  {
   "cell_type": "markdown",
   "id": "57b477ee",
   "metadata": {},
   "source": [
    "### 몫과 나머지"
   ]
  },
  {
   "cell_type": "code",
   "execution_count": 73,
   "id": "b112cdd6",
   "metadata": {},
   "outputs": [
    {
     "name": "stdout",
     "output_type": "stream",
     "text": [
      "[0 0 1]\n",
      "[1 2 1]\n"
     ]
    }
   ],
   "source": [
    "print(np.array([1,2,4])//3)\n",
    "print(np.array([1,2,4])%3)"
   ]
  },
  {
   "cell_type": "markdown",
   "id": "876f1994",
   "metadata": {},
   "source": [
    "### 거듭제곱(지수)"
   ]
  },
  {
   "cell_type": "code",
   "execution_count": 207,
   "id": "8ad9fbd9",
   "metadata": {},
   "outputs": [
    {
     "name": "stdout",
     "output_type": "stream",
     "text": [
      "[ 1  4 16]\n"
     ]
    }
   ],
   "source": [
    "print(np.array([1,2,4])**2)"
   ]
  },
  {
   "cell_type": "markdown",
   "id": "809c7056",
   "metadata": {},
   "source": [
    "### 그림 파일에 broadcasting 적용하기"
   ]
  },
  {
   "cell_type": "code",
   "execution_count": 213,
   "id": "ef4552db",
   "metadata": {},
   "outputs": [
    {
     "name": "stdout",
     "output_type": "stream",
     "text": [
      "(200, 133, 3)\n"
     ]
    },
    {
     "data": {
      "text/plain": [
       "<matplotlib.image.AxesImage at 0x1f5bb03cc10>"
      ]
     },
     "execution_count": 213,
     "metadata": {},
     "output_type": "execute_result"
    },
    {
     "data": {
      "image/png": "[encoded data removed]",
      "text/plain": [
       "<Figure size 432x288 with 1 Axes>"
      ]
     },
     "metadata": {
      "needs_background": "light"
     },
     "output_type": "display_data"
    }
   ],
   "source": [
    "run = Image.open('img/run_image.png')\n",
    "run = np.array(run)\n",
    "run = run[:,:,:3]\n",
    "print(run.shape)\n",
    "plt.imshow(run)"
   ]
  },
  {
   "cell_type": "code",
   "execution_count": 209,
   "id": "a344726a",
   "metadata": {},
   "outputs": [
    {
     "data": {
      "text/plain": [
       "<matplotlib.image.AxesImage at 0x1f5bafd5be0>"
      ]
     },
     "execution_count": 209,
     "metadata": {},
     "output_type": "execute_result"
    },
    {
     "data": {
      "image/png": "[encoded data removed]",
      "text/plain": [
       "<Figure size 432x288 with 1 Axes>"
      ]
     },
     "metadata": {
      "needs_background": "light"
     },
     "output_type": "display_data"
    }
   ],
   "source": [
    "run = run*np.array([0,1,1])\n",
    "plt.imshow(run)"
   ]
  },
  {
   "cell_type": "markdown",
   "id": "bb460887",
   "metadata": {},
   "source": [
    "# Indexing과 Slicing"
   ]
  },
  {
   "cell_type": "markdown",
   "id": "f2c0f98f",
   "metadata": {},
   "source": [
    "## 벡터에서의 indexing과 slicing"
   ]
  },
  {
   "cell_type": "code",
   "execution_count": 75,
   "id": "2dbb424e",
   "metadata": {},
   "outputs": [],
   "source": [
    "# these are all equivalent to the latter\n",
    "# a = np.arange(1,20,2)\n",
    "# a = np.array(list(range(1,20,2)))\n",
    "# a = np.linspace(1,19,10)"
   ]
  },
  {
   "cell_type": "code",
   "execution_count": 76,
   "id": "25b84a51",
   "metadata": {},
   "outputs": [
    {
     "name": "stdout",
     "output_type": "stream",
     "text": [
      "[ 1  3  5  7  9 11 13 15 17 19]\n"
     ]
    }
   ],
   "source": [
    "a = np.array([1,3,5,7,9,11,13,15,17,19])\n",
    "print(a)"
   ]
  },
  {
   "cell_type": "markdown",
   "id": "b8e5a1d8",
   "metadata": {},
   "source": [
    "### indexing"
   ]
  },
  {
   "cell_type": "markdown",
   "id": "04f6b2fc",
   "metadata": {},
   "source": [
    "주어진 벡터 $a$에서 특정 순번의 성분을 추출할 수 있다.\n",
    "벡터 $a$ 뒤에 대괄호로 순번 $m$을 적어주면\n",
    "\n",
    "<center>a[m]</center>\n",
    "\n",
    "$a$의 $m$번째 성분이 추출된다.\n",
    "다만 주의할 점은, 숫자 0을 첫번째 순번으로 인식한다는 것이다."
   ]
  },
  {
   "cell_type": "code",
   "execution_count": 77,
   "id": "3ed775c9",
   "metadata": {},
   "outputs": [
    {
     "name": "stdout",
     "output_type": "stream",
     "text": [
      "1\n"
     ]
    }
   ],
   "source": [
    "print(a[0])"
   ]
  },
  {
   "cell_type": "markdown",
   "id": "aa098582",
   "metadata": {},
   "source": [
    "벡터 a의 첫번째(0) 성분을 출력한다."
   ]
  },
  {
   "cell_type": "code",
   "execution_count": 78,
   "id": "6c0b63a9",
   "metadata": {},
   "outputs": [
    {
     "name": "stdout",
     "output_type": "stream",
     "text": [
      "3\n"
     ]
    }
   ],
   "source": [
    "print(a[1])"
   ]
  },
  {
   "cell_type": "markdown",
   "id": "109d8d94",
   "metadata": {},
   "source": [
    "벡터 a의 두번째(1) 성분을 출력한다."
   ]
  },
  {
   "cell_type": "code",
   "execution_count": 79,
   "id": "2f497336",
   "metadata": {},
   "outputs": [
    {
     "name": "stdout",
     "output_type": "stream",
     "text": [
      "19\n"
     ]
    }
   ],
   "source": [
    "print(a[-1])"
   ]
  },
  {
   "cell_type": "markdown",
   "id": "eb1f78af",
   "metadata": {},
   "source": [
    "벡터 a의 마지막(-1) 성분을 출력한다."
   ]
  },
  {
   "cell_type": "markdown",
   "id": "9bbbfa39",
   "metadata": {},
   "source": [
    "### slicing"
   ]
  },
  {
   "cell_type": "markdown",
   "id": "e05a60d4",
   "metadata": {},
   "source": [
    "주어진 벡터 $a$에서 특정 순번부터 다른 특정 순번까지 추출해 나열할 수 있다.\n",
    "대괄호 속에 두 개의 숫자 $m$, $n$을 콜론과 함께 적어주면\n",
    "<center>a[m:n]</center>\n",
    "벡터 $a$의 $m$번째 성분부터 ($m$번째 성분 포함) $n$번째 성분까지 ($n$번째 성분 제외) 출력된다."
   ]
  },
  {
   "cell_type": "code",
   "execution_count": 80,
   "id": "6059153b",
   "metadata": {},
   "outputs": [
    {
     "name": "stdout",
     "output_type": "stream",
     "text": [
      "[ 1  3  5  7  9 11 13 15 17 19]\n"
     ]
    }
   ],
   "source": [
    "print(a)"
   ]
  },
  {
   "cell_type": "code",
   "execution_count": 81,
   "id": "f716e2ec",
   "metadata": {},
   "outputs": [
    {
     "name": "stdout",
     "output_type": "stream",
     "text": [
      "[1 3 5]\n"
     ]
    }
   ],
   "source": [
    "print(a[0:3])"
   ]
  },
  {
   "cell_type": "markdown",
   "id": "63a433f5",
   "metadata": {},
   "source": [
    "벡터 a를 첫번째(0)부터 네번째(3)까지로 자른다. 이때, 첫번째는 포함하고 네번째는 포함하지 않는다."
   ]
  },
  {
   "cell_type": "code",
   "execution_count": 82,
   "id": "64f6c802",
   "metadata": {},
   "outputs": [
    {
     "name": "stdout",
     "output_type": "stream",
     "text": [
      "[1 3 5]\n"
     ]
    }
   ],
   "source": [
    "print(a[:3])"
   ]
  },
  {
   "cell_type": "markdown",
   "id": "95ffcf8c",
   "metadata": {},
   "source": [
    "앞의 0은 생략될 수 있다. 다시 말해, 벡터 a를 처음부터 네번째(3)까지로 자른다."
   ]
  },
  {
   "cell_type": "code",
   "execution_count": 83,
   "id": "9a30a76a",
   "metadata": {},
   "outputs": [
    {
     "name": "stdout",
     "output_type": "stream",
     "text": [
      "[ 7  9 11 13 15 17 19]\n"
     ]
    }
   ],
   "source": [
    "print(a[3:])"
   ]
  },
  {
   "cell_type": "markdown",
   "id": "18ace008",
   "metadata": {},
   "source": [
    "벡터 a를 네번째(3)부터 끝까지 자른다."
   ]
  },
  {
   "cell_type": "code",
   "execution_count": 84,
   "id": "092540db",
   "metadata": {},
   "outputs": [
    {
     "name": "stdout",
     "output_type": "stream",
     "text": [
      "[ 1  3  5  7  9 11 13 15 17 19]\n"
     ]
    }
   ],
   "source": [
    "print(a[:])"
   ]
  },
  {
   "cell_type": "markdown",
   "id": "f90a00c2",
   "metadata": {},
   "source": [
    "a[m:n]에서 m와 n를 모두 생략하면 원래의 a와 완전히 같다."
   ]
  },
  {
   "cell_type": "code",
   "execution_count": 85,
   "id": "1eef84d0",
   "metadata": {},
   "outputs": [
    {
     "name": "stdout",
     "output_type": "stream",
     "text": [
      "[1 5 9]\n"
     ]
    }
   ],
   "source": [
    "print(a[0:5:2])"
   ]
  },
  {
   "cell_type": "markdown",
   "id": "c30b6c60",
   "metadata": {},
   "source": [
    "벡터 A를 첫번째(0)부터 여섯번째(5)까지로 자르되 increment를 2로 한 index만 포함하여 자른다. 즉, 0, 2, 4번째의 원소들만을 출력한다."
   ]
  },
  {
   "cell_type": "code",
   "execution_count": 86,
   "id": "a3d59b1a",
   "metadata": {},
   "outputs": [],
   "source": [
    "# print(a[a > 4])\n",
    "# print(a[a%3 == 0])"
   ]
  },
  {
   "cell_type": "markdown",
   "id": "9e665230",
   "metadata": {},
   "source": [
    "## 행렬에서의 indexing과 slicing"
   ]
  },
  {
   "cell_type": "code",
   "execution_count": 87,
   "id": "044ac761",
   "metadata": {},
   "outputs": [
    {
     "name": "stdout",
     "output_type": "stream",
     "text": [
      "[[ 1  3  5  7  9]\n",
      " [ 0  1  2  3  4]\n",
      " [ 1  2  4  8 16]\n",
      " [10 20 30 40 50]]\n"
     ]
    }
   ],
   "source": [
    "A = np.array([[1,3,5,7,9],[0,1,2,3,4],[1,2,4,8,16],[10,20,30,40,50]])\n",
    "print(A)"
   ]
  },
  {
   "cell_type": "markdown",
   "id": "94893c66",
   "metadata": {},
   "source": [
    "행렬의 경우에도 마찬가지의 방법으로 indexing하고 slicing할 수 있다. 다만, 행렬에는 두 개의 axis가 있으므로 두 axis의 순번을 모두 지정해줄 수 있다."
   ]
  },
  {
   "cell_type": "markdown",
   "id": "713ec275",
   "metadata": {},
   "source": [
    "### indexing"
   ]
  },
  {
   "cell_type": "code",
   "execution_count": 88,
   "id": "fbe8acc8",
   "metadata": {},
   "outputs": [
    {
     "name": "stdout",
     "output_type": "stream",
     "text": [
      "[1 3 5 7 9]\n"
     ]
    }
   ],
   "source": [
    "print(A[0])"
   ]
  },
  {
   "cell_type": "markdown",
   "id": "795ed0bf",
   "metadata": {},
   "source": [
    "$A$의 첫번째(0) 성분을 추출한다.\n",
    "$A$는 두 행벡터 (1,3,5,7,9), (0,1,2,3,4)로 이루어진 array이므로 첫번째 성분은 (1,3,5,7,9)이다."
   ]
  },
  {
   "cell_type": "code",
   "execution_count": 89,
   "id": "37b6a25b",
   "metadata": {},
   "outputs": [
    {
     "name": "stdout",
     "output_type": "stream",
     "text": [
      "5\n"
     ]
    }
   ],
   "source": [
    "print(A[0][2])"
   ]
  },
  {
   "cell_type": "markdown",
   "id": "28c8043d",
   "metadata": {},
   "source": [
    "A[0]의 세번째(2) 성분을 추출한다."
   ]
  },
  {
   "cell_type": "code",
   "execution_count": 90,
   "id": "2716dd2e",
   "metadata": {},
   "outputs": [
    {
     "name": "stdout",
     "output_type": "stream",
     "text": [
      "5\n"
     ]
    }
   ],
   "source": [
    "print(A[0,2])"
   ]
  },
  {
   "cell_type": "markdown",
   "id": "ee24f456",
   "metadata": {},
   "source": [
    "$A$의 1행(0) 3열(2) 성분을 추출한다.\n",
    "그 결과는 위의 명령어(print(A[0][2]))를 실행한 결과와 완전히 같다."
   ]
  },
  {
   "cell_type": "markdown",
   "id": "1ce83724",
   "metadata": {},
   "source": [
    "### slicing"
   ]
  },
  {
   "cell_type": "code",
   "execution_count": 91,
   "id": "7729e860",
   "metadata": {
    "scrolled": true
   },
   "outputs": [
    {
     "name": "stdout",
     "output_type": "stream",
     "text": [
      "[[2 3]\n",
      " [4 8]]\n"
     ]
    }
   ],
   "source": [
    "print(A[1:3,2:4])"
   ]
  },
  {
   "cell_type": "markdown",
   "id": "d4efad7e",
   "metadata": {},
   "source": [
    "$A$에서 행을 2행(1)부터 4행(3)까지 자르고, 열은 2행(2)부터 4행(4)까지 자른다.\n",
    "결과적으로 $2\\times2$ 행렬이 출력된다."
   ]
  },
  {
   "cell_type": "code",
   "execution_count": 92,
   "id": "6d3da0d9",
   "metadata": {
    "scrolled": true
   },
   "outputs": [
    {
     "name": "stdout",
     "output_type": "stream",
     "text": [
      "[3 5]\n"
     ]
    }
   ],
   "source": [
    "print(A[0,1:3])"
   ]
  },
  {
   "cell_type": "markdown",
   "id": "8007e852",
   "metadata": {},
   "source": [
    "$A$에서 행을 첫번째 행(0)만을 지정하고, 열을 두번째(1)부터 네번째(3)까지의 성분을 자른다."
   ]
  },
  {
   "cell_type": "markdown",
   "id": "1ffc8a19",
   "metadata": {},
   "source": [
    "# Concatenating 과 stackings"
   ]
  },
  {
   "cell_type": "code",
   "execution_count": 93,
   "id": "004da7f1",
   "metadata": {},
   "outputs": [],
   "source": [
    "from IPython.display import Image"
   ]
  },
  {
   "cell_type": "markdown",
   "id": "5d323383",
   "metadata": {},
   "source": [
    "## Concatenate"
   ]
  },
  {
   "cell_type": "markdown",
   "id": "9fb1410c",
   "metadata": {},
   "source": [
    "concatenate 함수는 여러 개의 텐서를 특정한 axis(default = 0)를 따라 합쳐준다.\n",
    "따라서, **지정된 axis의 shape 값을 제외하면 나머지의 shape이 일치해야 한다.**\n",
    "\n",
    "아래 블로그의 자료들을 참고하였다.\n",
    " - https://everyday-image-processing.tistory.com/86\n",
    " - https://everyday-image-processing.tistory.com/87"
   ]
  },
  {
   "cell_type": "markdown",
   "id": "c3430713",
   "metadata": {},
   "source": [
    "### (2,2) + (2,2)"
   ]
  },
  {
   "cell_type": "code",
   "execution_count": 94,
   "id": "76ef4679",
   "metadata": {},
   "outputs": [
    {
     "name": "stdout",
     "output_type": "stream",
     "text": [
      "[[1 2]\n",
      " [3 4]]\n",
      "[[5 6]\n",
      " [7 8]]\n"
     ]
    }
   ],
   "source": [
    "A = np.array([[1, 2], [3, 4]])\n",
    "B = np.array([[5, 6], [7, 8]])\n",
    "print(A)\n",
    "print(B)"
   ]
  },
  {
   "cell_type": "code",
   "execution_count": 95,
   "id": "43178e56",
   "metadata": {},
   "outputs": [
    {
     "name": "stdout",
     "output_type": "stream",
     "text": [
      "[[1 2]\n",
      " [3 4]\n",
      " [5 6]\n",
      " [7 8]]\n"
     ]
    }
   ],
   "source": [
    "print(np.concatenate((A, B), axis=0))"
   ]
  },
  {
   "cell_type": "markdown",
   "id": "ccd3c157",
   "metadata": {},
   "source": [
    "<img src=\"img/concatenate_1.png\" alt=\"drawing\" width=\"400\"/>\n",
    "</p><center> shape : $(2,2) + (2,2)\\xrightarrow{\\text{axis=0}}(4,2)$ </center></p>\n",
    "위에서 언급했듯, axis=0은 행의 방향, 즉 세로방향이다.\n",
    "따라서, 'np.concatenate((A, B), axis=0)'는 $A$와 $B$를 세로로 쌓는다."
   ]
  },
  {
   "cell_type": "code",
   "execution_count": 96,
   "id": "83bf6fbc",
   "metadata": {},
   "outputs": [
    {
     "name": "stdout",
     "output_type": "stream",
     "text": [
      "[[1 2 5 6]\n",
      " [3 4 7 8]]\n"
     ]
    }
   ],
   "source": [
    "print(np.concatenate((A, B), axis=1))"
   ]
  },
  {
   "cell_type": "markdown",
   "id": "b9b63bec",
   "metadata": {},
   "source": [
    "<img src=\"img/concatenate_2.png\" alt=\"drawing\" width=\"500\"/>\n",
    "</p><center> shape : $(2,2) + (2,2)\\xrightarrow{\\text{axis=1}}(2,4)$ </center></p>\n",
    "마찬가지로, axis=1은 열의 방향, 즉 가로방향이다. \n",
    "따라서, 'np.concatenate((A, B), axis=1)'는 $A$와 $B$를 가로로 쌓는다."
   ]
  },
  {
   "cell_type": "markdown",
   "id": "6ecec0d3",
   "metadata": {},
   "source": [
    "### (2,3) + (2,2)"
   ]
  },
  {
   "cell_type": "code",
   "execution_count": 97,
   "id": "cdf179d8",
   "metadata": {},
   "outputs": [
    {
     "name": "stdout",
     "output_type": "stream",
     "text": [
      "[[1 2 3]\n",
      " [4 5 6]]\n",
      "[[ 7  8]\n",
      " [ 9 10]]\n"
     ]
    }
   ],
   "source": [
    "A = np.array([[1,2,3],[4,5,6]])\n",
    "B = np.array([[7,8],[9,10]])\n",
    "print(A)\n",
    "print(B)"
   ]
  },
  {
   "cell_type": "code",
   "execution_count": 98,
   "id": "6154aa5f",
   "metadata": {},
   "outputs": [
    {
     "ename": "ValueError",
     "evalue": "all the input array dimensions for the concatenation axis must match exactly, but along dimension 1, the array at index 0 has size 3 and the array at index 1 has size 2",
     "output_type": "error",
     "traceback": [
      "\u001b[1;31m---------------------------------------------------------------------------\u001b[0m",
      "\u001b[1;31mValueError\u001b[0m                                Traceback (most recent call last)",
      "\u001b[1;32m~\\AppData\\Local\\Temp/ipykernel_13488/3492771515.py\u001b[0m in \u001b[0;36m<module>\u001b[1;34m\u001b[0m\n\u001b[1;32m----> 1\u001b[1;33m \u001b[0mprint\u001b[0m\u001b[1;33m(\u001b[0m\u001b[0mnp\u001b[0m\u001b[1;33m.\u001b[0m\u001b[0mconcatenate\u001b[0m\u001b[1;33m(\u001b[0m\u001b[1;33m(\u001b[0m\u001b[0mA\u001b[0m\u001b[1;33m,\u001b[0m\u001b[0mB\u001b[0m\u001b[1;33m)\u001b[0m\u001b[1;33m,\u001b[0m\u001b[0maxis\u001b[0m\u001b[1;33m=\u001b[0m\u001b[1;36m0\u001b[0m\u001b[1;33m)\u001b[0m\u001b[1;33m)\u001b[0m\u001b[1;33m\u001b[0m\u001b[1;33m\u001b[0m\u001b[0m\n\u001b[0m",
      "\u001b[1;32m<__array_function__ internals>\u001b[0m in \u001b[0;36mconcatenate\u001b[1;34m(*args, **kwargs)\u001b[0m\n",
      "\u001b[1;31mValueError\u001b[0m: all the input array dimensions for the concatenation axis must match exactly, but along dimension 1, the array at index 0 has size 3 and the array at index 1 has size 2"
     ]
    }
   ],
   "source": [
    "print(np.concatenate((A,B),axis=0))"
   ]
  },
  {
   "cell_type": "markdown",
   "id": "b50a7875",
   "metadata": {},
   "source": [
    "<img src=\"img/concatenate_3.png\" alt=\"drawing\" width=\"350\"/>\n",
    "</p><center> shape : $(2,3) + (2,2)\\xrightarrow{\\text{axis=0}}\\text{error}$ </center></p>\n",
    "마찬가지로 두 행렬을 세로로 쌓는다.\n",
    "하지만 이번에는 쌓을 수 없다.\n",
    "가로 길이가 다르기 때문이다.\n",
    "\n",
    "다시 말하면, 지정된 axis가 0이므로 나머지 axis(=1)의 값들이 같아야한다.\n",
    "하지만 각각 3과 2로 서로 다른 것이다."
   ]
  },
  {
   "cell_type": "code",
   "execution_count": 99,
   "id": "1e7f66f6",
   "metadata": {},
   "outputs": [
    {
     "name": "stdout",
     "output_type": "stream",
     "text": [
      "[[ 1  2  3  7  8]\n",
      " [ 4  5  6  9 10]]\n"
     ]
    }
   ],
   "source": [
    "print(np.concatenate((A,B),axis=1))"
   ]
  },
  {
   "cell_type": "markdown",
   "id": "90f3a900",
   "metadata": {},
   "source": [
    "<img src=\"img/concatenate_4.png\" alt=\"drawing\" width=\"350\"/>\n",
    "</p><center> shape : $(2,3) + (2,2)\\xrightarrow{\\text{axis=1}}(2,5)$ </center></p>\n",
    "\n",
    "이번에는 두 행렬을 가로로 쌓는데 성공했다.\n",
    "가로(axis=1)로 쌓고 있으므로 세로 길이(axis=0)가 같아야 한다.\n",
    "그런데 두 행렬 모두 axis=0의 값은 2인 것이다."
   ]
  },
  {
   "cell_type": "markdown",
   "id": "2b5982bc",
   "metadata": {},
   "source": [
    "### (2,3,3) + (2,3,1)"
   ]
  },
  {
   "cell_type": "code",
   "execution_count": 100,
   "id": "3abad324",
   "metadata": {},
   "outputs": [],
   "source": [
    "# X = np.arange(1,19).reshape(2,3,3)\n",
    "# Y = np.arange(19,25).reshape(2,3,1)"
   ]
  },
  {
   "cell_type": "code",
   "execution_count": 101,
   "id": "8f33acb2",
   "metadata": {},
   "outputs": [
    {
     "name": "stdout",
     "output_type": "stream",
     "text": [
      "[[[ 1  2  3]\n",
      "  [ 4  5  6]\n",
      "  [ 7  8  9]]\n",
      "\n",
      " [[10 11 12]\n",
      "  [13 14 15]\n",
      "  [16 17 18]]]\n",
      "[[[19]\n",
      "  [20]\n",
      "  [21]]\n",
      "\n",
      " [[22]\n",
      "  [23]\n",
      "  [24]]]\n",
      "(2, 3, 3)\n",
      "(2, 3, 1)\n"
     ]
    }
   ],
   "source": [
    "X = np.array([[[1,2,3],[4,5,6],[7,8,9]],[[10,11,12],[13,14,15],[16,17,18]]])\n",
    "Y = np.array([[[19],[20],[21]],[[22],[23],[24]]])\n",
    "print(X)\n",
    "print(Y)\n",
    "print(X.shape)\n",
    "print(Y.shape)"
   ]
  },
  {
   "cell_type": "code",
   "execution_count": 102,
   "id": "4eec9f60",
   "metadata": {
    "scrolled": true
   },
   "outputs": [
    {
     "name": "stdout",
     "output_type": "stream",
     "text": [
      "[[[ 1  2  3 19]\n",
      "  [ 4  5  6 20]\n",
      "  [ 7  8  9 21]]\n",
      "\n",
      " [[10 11 12 22]\n",
      "  [13 14 15 23]\n",
      "  [16 17 18 24]]]\n"
     ]
    }
   ],
   "source": [
    "print(np.concatenate((X,Y),axis=2))"
   ]
  },
  {
   "cell_type": "markdown",
   "id": "47131547",
   "metadata": {},
   "source": [
    "<img src=\"img/concatenate_5.png\" alt=\"drawing\" width=\"500\"/>\n",
    "</p><center> shape : $(2,3,3) + (2,3,1)\\xrightarrow{\\text{axis=2}}(2.3.4)$ </center></p>\n",
    "rank 3 tensor의 경우에도 concatenate을 적용시킬 수 있다.\n",
    "이 경우 두 텐서 $X$, $Y$의 shape이 각각 (2,3,3), (2,3,1)이므로 오직 shape=2에 대해서만 concatenate시킬 수 있다.    "
   ]
  },
  {
   "cell_type": "markdown",
   "id": "080af40c",
   "metadata": {},
   "source": [
    "## vstack과 hstack"
   ]
  },
  {
   "cell_type": "markdown",
   "id": "a05e713a",
   "metadata": {},
   "source": [
    "vstack에서의 v는 'vertical', hstack에서의 h는 'horizontal'을 의미한다.\n",
    "따라서, 이 명령어들은 concatenate에서 axis를 각각 0과 1로 지정한 것과 거의 일치한다.\n",
    "\n",
    "<center>np.vstack((A,B))$\\quad\\approx\\quad$np.concatenate((A,B),axis=0)</center>\n",
    "<center>np.hstack((A,B))$\\quad\\approx\\quad$np.concatenate((A,B),axis=1)</center>\n",
    "\n",
    "아래의 결과들은 **6.1**에서 함수 concatenate 대신 vstack 혹은 hstack을 적용한 것들이다."
   ]
  },
  {
   "cell_type": "code",
   "execution_count": 103,
   "id": "160e4701",
   "metadata": {},
   "outputs": [
    {
     "name": "stdout",
     "output_type": "stream",
     "text": [
      "[[1 2]\n",
      " [3 4]\n",
      " [5 6]\n",
      " [7 8]]\n",
      "[[1 2 5 6]\n",
      " [3 4 7 8]]\n"
     ]
    }
   ],
   "source": [
    "A = np.array([[1, 2], [3, 4]])\n",
    "B = np.array([[5, 6], [7, 8]])\n",
    "print(np.vstack((A,B)))\n",
    "print(np.hstack((A,B)))"
   ]
  },
  {
   "cell_type": "code",
   "execution_count": 104,
   "id": "d8e69dbb",
   "metadata": {},
   "outputs": [
    {
     "name": "stdout",
     "output_type": "stream",
     "text": [
      "[[ 1  2  3  7  8]\n",
      " [ 4  5  6  9 10]]\n"
     ]
    }
   ],
   "source": [
    "A = np.array([[1,2,3],[4,5,6]])\n",
    "B = np.array([[7,8],[9,10]])\n",
    "# print(np.vstack((A,B))) # error\n",
    "print(np.hstack((A,B)))"
   ]
  },
  {
   "cell_type": "markdown",
   "id": "d45a3943",
   "metadata": {},
   "source": [
    "np.vstack((A,B))와 np.concatenate((A,B),axis=0), np.hstack((A,B))과 np.concatenate((A,B),axis=1)가 서로 일치하지 않는 경우는 $A$ 혹은 $B$가 벡터일 때이다."
   ]
  },
  {
   "cell_type": "code",
   "execution_count": 105,
   "id": "c21e540f",
   "metadata": {
    "scrolled": true
   },
   "outputs": [],
   "source": [
    "A = np.array([[1,2,3],[4,5,6]])\n",
    "B = np.array([7,8,9])"
   ]
  },
  {
   "cell_type": "code",
   "execution_count": 106,
   "id": "6873ee7c",
   "metadata": {},
   "outputs": [
    {
     "ename": "ValueError",
     "evalue": "all the input arrays must have same number of dimensions, but the array at index 0 has 2 dimension(s) and the array at index 1 has 1 dimension(s)",
     "output_type": "error",
     "traceback": [
      "\u001b[1;31m---------------------------------------------------------------------------\u001b[0m",
      "\u001b[1;31mValueError\u001b[0m                                Traceback (most recent call last)",
      "\u001b[1;32m~\\AppData\\Local\\Temp/ipykernel_13488/3492771515.py\u001b[0m in \u001b[0;36m<module>\u001b[1;34m\u001b[0m\n\u001b[1;32m----> 1\u001b[1;33m \u001b[0mprint\u001b[0m\u001b[1;33m(\u001b[0m\u001b[0mnp\u001b[0m\u001b[1;33m.\u001b[0m\u001b[0mconcatenate\u001b[0m\u001b[1;33m(\u001b[0m\u001b[1;33m(\u001b[0m\u001b[0mA\u001b[0m\u001b[1;33m,\u001b[0m\u001b[0mB\u001b[0m\u001b[1;33m)\u001b[0m\u001b[1;33m,\u001b[0m\u001b[0maxis\u001b[0m\u001b[1;33m=\u001b[0m\u001b[1;36m0\u001b[0m\u001b[1;33m)\u001b[0m\u001b[1;33m)\u001b[0m\u001b[1;33m\u001b[0m\u001b[1;33m\u001b[0m\u001b[0m\n\u001b[0m",
      "\u001b[1;32m<__array_function__ internals>\u001b[0m in \u001b[0;36mconcatenate\u001b[1;34m(*args, **kwargs)\u001b[0m\n",
      "\u001b[1;31mValueError\u001b[0m: all the input arrays must have same number of dimensions, but the array at index 0 has 2 dimension(s) and the array at index 1 has 1 dimension(s)"
     ]
    }
   ],
   "source": [
    "print(np.concatenate((A,B),axis=0))"
   ]
  },
  {
   "cell_type": "code",
   "execution_count": 107,
   "id": "2ab96511",
   "metadata": {},
   "outputs": [
    {
     "name": "stdout",
     "output_type": "stream",
     "text": [
      "[[1 2 3]\n",
      " [4 5 6]\n",
      " [7 8 9]]\n"
     ]
    }
   ],
   "source": [
    "print(np.vstack((A,B)))"
   ]
  },
  {
   "cell_type": "code",
   "execution_count": 108,
   "id": "e7855cb7",
   "metadata": {},
   "outputs": [
    {
     "name": "stdout",
     "output_type": "stream",
     "text": [
      "[[1 2 3]\n",
      " [4 5 6]\n",
      " [7 8 9]]\n"
     ]
    }
   ],
   "source": [
    "print(np.vstack((A,B.reshape(1,3))))"
   ]
  },
  {
   "cell_type": "code",
   "execution_count": 109,
   "id": "b11c3c0b",
   "metadata": {},
   "outputs": [
    {
     "name": "stdout",
     "output_type": "stream",
     "text": [
      "[[1 2 3]\n",
      " [4 5 6]\n",
      " [7 8 9]]\n"
     ]
    }
   ],
   "source": [
    "print(np.concatenate((A,B.reshape(1,3)),axis=0))"
   ]
  },
  {
   "cell_type": "markdown",
   "id": "5197a212",
   "metadata": {},
   "source": [
    "$A$의 shape이 (2,3)이고 $B$의 shape이 (3,)일때 둘을 세로로 합치는 문제를 생각하자.\n",
    "이 때, $B$의 shape을 (1,3)으로 바꿔주지 않는 이상 concatenate 함수를 적용할 수 없다.\n",
    "하지만, vstack의 경우 $B$의 shape이 (3,)이라고 하더라도 적용될 수 있다."
   ]
  },
  {
   "cell_type": "code",
   "execution_count": 110,
   "id": "8af301b0",
   "metadata": {},
   "outputs": [],
   "source": [
    "A = np.array([1,2,3])\n",
    "B = np.array([4,5])"
   ]
  },
  {
   "cell_type": "code",
   "execution_count": 111,
   "id": "97d2e4df",
   "metadata": {},
   "outputs": [
    {
     "name": "stdout",
     "output_type": "stream",
     "text": [
      "[1 2 3 4 5]\n"
     ]
    }
   ],
   "source": [
    "print(np.hstack((A,B)))"
   ]
  },
  {
   "cell_type": "code",
   "execution_count": 112,
   "id": "3e488c1a",
   "metadata": {},
   "outputs": [
    {
     "name": "stdout",
     "output_type": "stream",
     "text": [
      "[1 2 3 4 5]\n"
     ]
    }
   ],
   "source": [
    "print(np.concatenate((A,B),axis=0))"
   ]
  },
  {
   "cell_type": "code",
   "execution_count": 113,
   "id": "9b076e75",
   "metadata": {},
   "outputs": [
    {
     "ename": "AxisError",
     "evalue": "axis 1 is out of bounds for array of dimension 1",
     "output_type": "error",
     "traceback": [
      "\u001b[1;31m---------------------------------------------------------------------------\u001b[0m",
      "\u001b[1;31mAxisError\u001b[0m                                 Traceback (most recent call last)",
      "\u001b[1;32m~\\AppData\\Local\\Temp/ipykernel_13488/3095595979.py\u001b[0m in \u001b[0;36m<module>\u001b[1;34m\u001b[0m\n\u001b[1;32m----> 1\u001b[1;33m \u001b[0mprint\u001b[0m\u001b[1;33m(\u001b[0m\u001b[0mnp\u001b[0m\u001b[1;33m.\u001b[0m\u001b[0mconcatenate\u001b[0m\u001b[1;33m(\u001b[0m\u001b[1;33m(\u001b[0m\u001b[0mA\u001b[0m\u001b[1;33m,\u001b[0m\u001b[0mB\u001b[0m\u001b[1;33m)\u001b[0m\u001b[1;33m,\u001b[0m\u001b[0maxis\u001b[0m\u001b[1;33m=\u001b[0m\u001b[1;36m1\u001b[0m\u001b[1;33m)\u001b[0m\u001b[1;33m)\u001b[0m\u001b[1;33m\u001b[0m\u001b[1;33m\u001b[0m\u001b[0m\n\u001b[0m",
      "\u001b[1;32m<__array_function__ internals>\u001b[0m in \u001b[0;36mconcatenate\u001b[1;34m(*args, **kwargs)\u001b[0m\n",
      "\u001b[1;31mAxisError\u001b[0m: axis 1 is out of bounds for array of dimension 1"
     ]
    }
   ],
   "source": [
    "print(np.concatenate((A,B),axis=1))"
   ]
  },
  {
   "cell_type": "markdown",
   "id": "bda622b2",
   "metadata": {},
   "source": [
    "$A$와 $B$가 모두 벡터인 경우, hstack을 사용하여 두 벡터를 가로로 이어붙일 수 있다.\n",
    "concatenate를 사용하여도 동일한 결과를 낼 수 있다.\n",
    "하지만, 가로방향으로의 합치기임에도 불구하고, axis=1은 적용할 수 없다.\n",
    "벡터의 axis가 0밖에 없기 때문이다.\n",
    "\n",
    "함수 concatenate, vstack, hstack 들은 세 개 이상의 tensor들에게도 적용할 수 있다.\n",
    "\n",
    "언급한 세 개의 함수 외에도 stack, dstack, column_stack 등이 있다."
   ]
  },
  {
   "cell_type": "code",
   "execution_count": 114,
   "id": "4443125d",
   "metadata": {},
   "outputs": [],
   "source": [
    "# # stack\n",
    "# A = np.array([[1, 2, 3], [3, 4, 5]])\n",
    "# B = np.array([[5, 6, 7], [7, 8, 9]])\n",
    "# print(np.concatenate((A, B), axis=0))\n",
    "# print(np.stack((A, B), axis=0))"
   ]
  },
  {
   "cell_type": "code",
   "execution_count": 115,
   "id": "85bd6973",
   "metadata": {},
   "outputs": [],
   "source": [
    "# # dstack\n",
    "# a = np.array([1, 2, 3])\n",
    "# b = np.array([4, 5, 6])\n",
    "# print(np.dstack((a,b)))\n",
    "# print(np.stack((a,b),axis=-1))"
   ]
  },
  {
   "cell_type": "code",
   "execution_count": 116,
   "id": "af2a7f11",
   "metadata": {},
   "outputs": [],
   "source": [
    "# # column_stack\n",
    "# a = np.array([1, 2, 3])\n",
    "# b = np.array([4, 5, 6])\n",
    "# print(np.column_stack((a,b)))"
   ]
  },
  {
   "cell_type": "markdown",
   "id": "e8c27e10",
   "metadata": {},
   "source": [
    "## hstack의 활용 : 두 개의 그림 합치기"
   ]
  },
  {
   "cell_type": "code",
   "execution_count": 212,
   "id": "3a6f8b6e",
   "metadata": {},
   "outputs": [
    {
     "name": "stdout",
     "output_type": "stream",
     "text": [
      "(200, 133, 4)\n",
      "(200, 200, 4)\n"
     ]
    }
   ],
   "source": [
    "run1 = Image.open('img/run_image.png')\n",
    "run1 = np.array(run1)\n",
    "run2 = Image.open('img/run_picto.png')\n",
    "run2 = np.array(run2)\n",
    "print(run1.shape)\n",
    "print(run2.shape)"
   ]
  },
  {
   "cell_type": "code",
   "execution_count": 119,
   "id": "0aaa2007",
   "metadata": {
    "scrolled": true
   },
   "outputs": [
    {
     "data": {
      "text/plain": [
       "<matplotlib.image.AxesImage at 0x1f5b7d90790>"
      ]
     },
     "execution_count": 119,
     "metadata": {},
     "output_type": "execute_result"
    },
    {
     "data": {
      "image/png": "[encoded data removed]",
      "text/plain": [
       "<Figure size 432x288 with 1 Axes>"
      ]
     },
     "metadata": {
      "needs_background": "light"
     },
     "output_type": "display_data"
    }
   ],
   "source": [
    "plt.imshow(run1)"
   ]
  },
  {
   "cell_type": "code",
   "execution_count": 120,
   "id": "d6683a37",
   "metadata": {
    "scrolled": true
   },
   "outputs": [
    {
     "data": {
      "text/plain": [
       "<matplotlib.image.AxesImage at 0x1f5b7e38c40>"
      ]
     },
     "execution_count": 120,
     "metadata": {},
     "output_type": "execute_result"
    },
    {
     "data": {
      "image/png": "[encoded data removed]",
      "text/plain": [
       "<Figure size 432x288 with 1 Axes>"
      ]
     },
     "metadata": {
      "needs_background": "light"
     },
     "output_type": "display_data"
    }
   ],
   "source": [
    "plt.imshow(run2)"
   ]
  },
  {
   "cell_type": "code",
   "execution_count": 121,
   "id": "6b0ec5a0",
   "metadata": {},
   "outputs": [],
   "source": [
    "run = np.hstack((run1,run2))\n",
    "#run = np.concatenate((run1,run2),axis=1)"
   ]
  },
  {
   "cell_type": "code",
   "execution_count": 122,
   "id": "e88a25b9",
   "metadata": {
    "scrolled": false
   },
   "outputs": [
    {
     "data": {
      "text/plain": [
       "<matplotlib.image.AxesImage at 0x1f5b7eb3d90>"
      ]
     },
     "execution_count": 122,
     "metadata": {},
     "output_type": "execute_result"
    },
    {
     "data": {
      "image/png": "[encoded data removed]",
      "text/plain": [
       "<Figure size 432x288 with 1 Axes>"
      ]
     },
     "metadata": {
      "needs_background": "light"
     },
     "output_type": "display_data"
    }
   ],
   "source": [
    "plt.imshow(run)"
   ]
  },
  {
   "cell_type": "markdown",
   "id": "9b17541e",
   "metadata": {},
   "source": [
    "# 참고한 자료들"
   ]
  },
  {
   "cell_type": "markdown",
   "id": "4fdfab39",
   "metadata": {},
   "source": [
    " - NumPy 매뉴얼 : https://numpy.org/doc/stable/index.html\n",
    " - wikipedia : 'numpy', 'python', 'binary operation', 'tensor'\n",
    " - NumPy의 기원 : https://wedatalab.tistory.com/108\n",
    " - Python list와 NumPy array 사이의 비교 https://richwind.co.kr/1 \n",
    " - concatenate, stack\n",
    "  - https://everyday-image-processing.tistory.com/86\n",
    "  - https://everyday-image-processing.tistory.com/87\n",
    " - hstack, vstack\n",
    "  - https://www.w3resource.com/numpy/manipulation/hstack.php\n",
    "  - https://www.w3resource.com/numpy/manipulation/vstack.php"
   ]
  }
 ],
 "metadata": {
  "kernelspec": {
   "display_name": "Python 3 (ipykernel)",
   "language": "python",
   "name": "python3"
  },
  "language_info": {
   "codemirror_mode": {
    "name": "ipython",
    "version": 3
   },
   "file_extension": ".py",
   "mimetype": "text/x-python",
   "name": "python",
   "nbconvert_exporter": "python",
   "pygments_lexer": "ipython3",
   "version": "3.9.7"
  },
  "toc": {
   "base_numbering": 1,
   "nav_menu": {},
   "number_sections": true,
   "sideBar": true,
   "skip_h1_title": false,
   "title_cell": "Table of Contents",
   "title_sidebar": "Contents",
   "toc_cell": false,
   "toc_position": {
    "height": "calc(100% - 180px)",
    "left": "10px",
    "top": "150px",
    "width": "296px"
   },
   "toc_section_display": true,
   "toc_window_display": true
  }
 },
 "nbformat": 4,
 "nbformat_minor": 5
}
