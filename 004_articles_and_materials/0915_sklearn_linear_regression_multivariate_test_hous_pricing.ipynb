{
 "cells": [
  {
   "cell_type": "markdown",
   "id": "56815526",
   "metadata": {},
   "source": [
    "https://satishgunjal.com/multivariate_lr_scikit/"
   ]
  },
  {
   "cell_type": "code",
   "execution_count": 11,
   "id": "b7f45d4c",
   "metadata": {},
   "outputs": [],
   "source": [
    "import numpy as np\n",
    "import pandas as pd\n",
    "import matplotlib.pyplot as plt\n",
    "from sklearn.linear_model import LinearRegression\n",
    "from sklearn.model_selection import train_test_split\n",
    "from sklearn.metrics import mean_squared_error"
   ]
  },
  {
   "cell_type": "code",
   "execution_count": 2,
   "id": "b3d97d2e",
   "metadata": {
    "scrolled": true
   },
   "outputs": [
    {
     "name": "stdout",
     "output_type": "stream",
     "text": [
      "Dimension of dataset=  (47, 3)\n"
     ]
    },
    {
     "data": {
      "text/html": [
       "<div>\n",
       "<style scoped>\n",
       "    .dataframe tbody tr th:only-of-type {\n",
       "        vertical-align: middle;\n",
       "    }\n",
       "\n",
       "    .dataframe tbody tr th {\n",
       "        vertical-align: top;\n",
       "    }\n",
       "\n",
       "    .dataframe thead th {\n",
       "        text-align: right;\n",
       "    }\n",
       "</style>\n",
       "<table border=\"1\" class=\"dataframe\">\n",
       "  <thead>\n",
       "    <tr style=\"text-align: right;\">\n",
       "      <th></th>\n",
       "      <th>size(in square feet)</th>\n",
       "      <th>number of bedrooms</th>\n",
       "      <th>price</th>\n",
       "    </tr>\n",
       "  </thead>\n",
       "  <tbody>\n",
       "    <tr>\n",
       "      <th>0</th>\n",
       "      <td>2104</td>\n",
       "      <td>3</td>\n",
       "      <td>399900</td>\n",
       "    </tr>\n",
       "    <tr>\n",
       "      <th>1</th>\n",
       "      <td>1600</td>\n",
       "      <td>3</td>\n",
       "      <td>329900</td>\n",
       "    </tr>\n",
       "    <tr>\n",
       "      <th>2</th>\n",
       "      <td>2400</td>\n",
       "      <td>3</td>\n",
       "      <td>369000</td>\n",
       "    </tr>\n",
       "    <tr>\n",
       "      <th>3</th>\n",
       "      <td>1416</td>\n",
       "      <td>2</td>\n",
       "      <td>232000</td>\n",
       "    </tr>\n",
       "    <tr>\n",
       "      <th>4</th>\n",
       "      <td>3000</td>\n",
       "      <td>4</td>\n",
       "      <td>539900</td>\n",
       "    </tr>\n",
       "  </tbody>\n",
       "</table>\n",
       "</div>"
      ],
      "text/plain": [
       "   size(in square feet)   number of bedrooms   price\n",
       "0                  2104                    3  399900\n",
       "1                  1600                    3  329900\n",
       "2                  2400                    3  369000\n",
       "3                  1416                    2  232000\n",
       "4                  3000                    4  539900"
      ]
     },
     "execution_count": 2,
     "metadata": {},
     "output_type": "execute_result"
    }
   ],
   "source": [
    "df = pd.read_csv('https://raw.githubusercontent.com/satishgunjal/datasets/master/multivariate_housing_prices_in_portlans_oregon.csv')\n",
    "print('Dimension of dataset= ', df.shape)\n",
    "df.head() # To get first n rows from the dataset default value of n is 5"
   ]
  },
  {
   "cell_type": "code",
   "execution_count": 4,
   "id": "2cbd39e2",
   "metadata": {},
   "outputs": [
    {
     "name": "stdout",
     "output_type": "stream",
     "text": [
      "Total no of training examples (m) = 47 \n",
      "\n",
      "X = [2104    3] , y = 399900\n",
      "X = [1600    3] , y = 329900\n",
      "X = [2400    3] , y = 369000\n",
      "X = [1416    2] , y = 232000\n",
      "X = [3000    4] , y = 539900\n"
     ]
    }
   ],
   "source": [
    "X = df.values[:, 0:2]  # get input values from first two columns\n",
    "y = df.values[:, 2]  # get output values from last coulmn\n",
    "m = len(y) # Number of training examples\n",
    "\n",
    "print('Total no of training examples (m) = %s \\n' %(m))\n",
    "\n",
    "# Show only first 5 records\n",
    "for i in range(5):\n",
    "    print('X =', X[i, ], ', y =', y[i])"
   ]
  },
  {
   "cell_type": "code",
   "execution_count": 13,
   "id": "61bb9b09",
   "metadata": {},
   "outputs": [],
   "source": [
    "X_train, X_test, y_train, y_test = train_test_split(X, y, test_size=0.2, random_state=1)"
   ]
  },
  {
   "cell_type": "code",
   "execution_count": 17,
   "id": "92b12fea",
   "metadata": {},
   "outputs": [
    {
     "data": {
      "text/html": [
       "<div>\n",
       "<style scoped>\n",
       "    .dataframe tbody tr th:only-of-type {\n",
       "        vertical-align: middle;\n",
       "    }\n",
       "\n",
       "    .dataframe tbody tr th {\n",
       "        vertical-align: top;\n",
       "    }\n",
       "\n",
       "    .dataframe thead th {\n",
       "        text-align: right;\n",
       "    }\n",
       "</style>\n",
       "<table border=\"1\" class=\"dataframe\">\n",
       "  <thead>\n",
       "    <tr style=\"text-align: right;\">\n",
       "      <th></th>\n",
       "      <th>0</th>\n",
       "      <th>1</th>\n",
       "    </tr>\n",
       "  </thead>\n",
       "  <tbody>\n",
       "    <tr>\n",
       "      <th>0</th>\n",
       "      <td>573900.0</td>\n",
       "      <td>639651.382385</td>\n",
       "    </tr>\n",
       "    <tr>\n",
       "      <th>1</th>\n",
       "      <td>242900.0</td>\n",
       "      <td>287658.882182</td>\n",
       "    </tr>\n",
       "    <tr>\n",
       "      <th>2</th>\n",
       "      <td>287000.0</td>\n",
       "      <td>356757.474714</td>\n",
       "    </tr>\n",
       "    <tr>\n",
       "      <th>3</th>\n",
       "      <td>249900.0</td>\n",
       "      <td>261944.644415</td>\n",
       "    </tr>\n",
       "    <tr>\n",
       "      <th>4</th>\n",
       "      <td>369000.0</td>\n",
       "      <td>410224.949619</td>\n",
       "    </tr>\n",
       "    <tr>\n",
       "      <th>5</th>\n",
       "      <td>232000.0</td>\n",
       "      <td>275531.954162</td>\n",
       "    </tr>\n",
       "    <tr>\n",
       "      <th>6</th>\n",
       "      <td>299900.0</td>\n",
       "      <td>446717.610401</td>\n",
       "    </tr>\n",
       "    <tr>\n",
       "      <th>7</th>\n",
       "      <td>314900.0</td>\n",
       "      <td>337972.223172</td>\n",
       "    </tr>\n",
       "    <tr>\n",
       "      <th>8</th>\n",
       "      <td>299900.0</td>\n",
       "      <td>309024.458501</td>\n",
       "    </tr>\n",
       "    <tr>\n",
       "      <th>9</th>\n",
       "      <td>464500.0</td>\n",
       "      <td>265178.171320</td>\n",
       "    </tr>\n",
       "  </tbody>\n",
       "</table>\n",
       "</div>"
      ],
      "text/plain": [
       "          0              1\n",
       "0  573900.0  639651.382385\n",
       "1  242900.0  287658.882182\n",
       "2  287000.0  356757.474714\n",
       "3  249900.0  261944.644415\n",
       "4  369000.0  410224.949619\n",
       "5  232000.0  275531.954162\n",
       "6  299900.0  446717.610401\n",
       "7  314900.0  337972.223172\n",
       "8  299900.0  309024.458501\n",
       "9  464500.0  265178.171320"
      ]
     },
     "execution_count": 17,
     "metadata": {},
     "output_type": "execute_result"
    }
   ],
   "source": [
    "model = LinearRegression()\n",
    "model.fit(X_train, y_train)\n",
    "predictions = model.predict(X_test)\n",
    "result = pd.DataFrame(np.array([y_test,predictions]).T)\n",
    "result"
   ]
  },
  {
   "cell_type": "code",
   "execution_count": 18,
   "id": "0fd71cc8",
   "metadata": {},
   "outputs": [
    {
     "data": {
      "text/plain": [
       "7683249339.8828125"
      ]
     },
     "execution_count": 18,
     "metadata": {},
     "output_type": "execute_result"
    }
   ],
   "source": [
    "mse = mean_squared_error(y_test, predictions)\n",
    "mse"
   ]
  },
  {
   "cell_type": "code",
   "execution_count": 12,
   "id": "72380755",
   "metadata": {
    "scrolled": true
   },
   "outputs": [
    {
     "name": "stderr",
     "output_type": "stream",
     "text": [
      "/opt/conda/lib/python3.9/site-packages/sklearn/linear_model/_base.py:141: FutureWarning: 'normalize' was deprecated in version 1.0 and will be removed in 1.2.\n",
      "If you wish to scale the data, use Pipeline with a StandardScaler in a preprocessing stage. To reproduce the previous behavior:\n",
      "\n",
      "from sklearn.pipeline import make_pipeline\n",
      "\n",
      "model = make_pipeline(StandardScaler(with_mean=False), LinearRegression())\n",
      "\n",
      "If you wish to pass a sample_weight parameter, you need to pass it as a fit parameter to each step of the pipeline as follows:\n",
      "\n",
      "kwargs = {s[0] + '__sample_weight': sample_weight for s in model.steps}\n",
      "model.fit(X, y, **kwargs)\n",
      "\n",
      "\n",
      "  warnings.warn(\n"
     ]
    },
    {
     "data": {
      "text/plain": [
       "LinearRegression(normalize=True)"
      ]
     },
     "execution_count": 12,
     "metadata": {},
     "output_type": "execute_result"
    }
   ],
   "source": [
    "model_ols =  LinearRegression(normalize=True)\n",
    "model_ols.fit(X,y) \n",
    "# fit() method is used for training the model\n",
    "# Note the first parameter(feature) is must be 2D array(feature matrix)\n"
   ]
  },
  {
   "cell_type": "code",
   "execution_count": 6,
   "id": "ff5f0b81",
   "metadata": {},
   "outputs": [
    {
     "name": "stdout",
     "output_type": "stream",
     "text": [
      "coef=  [  139.21067402 -8738.01911233]\n",
      "intercept=  89597.9095427974\n"
     ]
    }
   ],
   "source": [
    "coef = model_ols.coef_\n",
    "intercept = model_ols.intercept_\n",
    "print('coef= ', coef)\n",
    "print('intercept= ', intercept)"
   ]
  },
  {
   "cell_type": "code",
   "execution_count": 7,
   "id": "a4d288b1",
   "metadata": {},
   "outputs": [
    {
     "data": {
      "text/html": [
       "<div>\n",
       "<style scoped>\n",
       "    .dataframe tbody tr th:only-of-type {\n",
       "        vertical-align: middle;\n",
       "    }\n",
       "\n",
       "    .dataframe tbody tr th {\n",
       "        vertical-align: top;\n",
       "    }\n",
       "\n",
       "    .dataframe thead th {\n",
       "        text-align: right;\n",
       "    }\n",
       "</style>\n",
       "<table border=\"1\" class=\"dataframe\">\n",
       "  <thead>\n",
       "    <tr style=\"text-align: right;\">\n",
       "      <th></th>\n",
       "      <th>0</th>\n",
       "      <th>1</th>\n",
       "      <th>2</th>\n",
       "      <th>3</th>\n",
       "      <th>4</th>\n",
       "      <th>5</th>\n",
       "      <th>6</th>\n",
       "      <th>7</th>\n",
       "      <th>8</th>\n",
       "      <th>9</th>\n",
       "      <th>...</th>\n",
       "      <th>37</th>\n",
       "      <th>38</th>\n",
       "      <th>39</th>\n",
       "      <th>40</th>\n",
       "      <th>41</th>\n",
       "      <th>42</th>\n",
       "      <th>43</th>\n",
       "      <th>44</th>\n",
       "      <th>45</th>\n",
       "      <th>46</th>\n",
       "    </tr>\n",
       "  </thead>\n",
       "  <tbody>\n",
       "    <tr>\n",
       "      <th>Actual Price</th>\n",
       "      <td>399900.000000</td>\n",
       "      <td>329900.000000</td>\n",
       "      <td>369000.000000</td>\n",
       "      <td>232000.000000</td>\n",
       "      <td>539900.000000</td>\n",
       "      <td>299900.000000</td>\n",
       "      <td>314900.000000</td>\n",
       "      <td>198999.000000</td>\n",
       "      <td>212000.00000</td>\n",
       "      <td>242500.000000</td>\n",
       "      <td>...</td>\n",
       "      <td>345000.000000</td>\n",
       "      <td>549000.000000</td>\n",
       "      <td>287000.00000</td>\n",
       "      <td>368500.000000</td>\n",
       "      <td>329900.000000</td>\n",
       "      <td>314000.000000</td>\n",
       "      <td>299000.000000</td>\n",
       "      <td>179900.000000</td>\n",
       "      <td>299900.000000</td>\n",
       "      <td>239500.000000</td>\n",
       "    </tr>\n",
       "    <tr>\n",
       "      <th>Predicted Price</th>\n",
       "      <td>356283.110339</td>\n",
       "      <td>286120.930634</td>\n",
       "      <td>397489.469848</td>\n",
       "      <td>269244.185727</td>\n",
       "      <td>472277.855146</td>\n",
       "      <td>330979.021018</td>\n",
       "      <td>276933.026149</td>\n",
       "      <td>262037.484029</td>\n",
       "      <td>255494.58235</td>\n",
       "      <td>271364.599188</td>\n",
       "      <td>...</td>\n",
       "      <td>351442.990099</td>\n",
       "      <td>641418.824078</td>\n",
       "      <td>355619.31032</td>\n",
       "      <td>303768.432883</td>\n",
       "      <td>374937.340657</td>\n",
       "      <td>411999.633297</td>\n",
       "      <td>230436.661027</td>\n",
       "      <td>190729.365581</td>\n",
       "      <td>312464.001374</td>\n",
       "      <td>230854.293049</td>\n",
       "    </tr>\n",
       "  </tbody>\n",
       "</table>\n",
       "<p>2 rows × 47 columns</p>\n",
       "</div>"
      ],
      "text/plain": [
       "                            0              1              2              3   \\\n",
       "Actual Price     399900.000000  329900.000000  369000.000000  232000.000000   \n",
       "Predicted Price  356283.110339  286120.930634  397489.469848  269244.185727   \n",
       "\n",
       "                            4              5              6              7   \\\n",
       "Actual Price     539900.000000  299900.000000  314900.000000  198999.000000   \n",
       "Predicted Price  472277.855146  330979.021018  276933.026149  262037.484029   \n",
       "\n",
       "                           8              9   ...             37  \\\n",
       "Actual Price     212000.00000  242500.000000  ...  345000.000000   \n",
       "Predicted Price  255494.58235  271364.599188  ...  351442.990099   \n",
       "\n",
       "                            38            39             40             41  \\\n",
       "Actual Price     549000.000000  287000.00000  368500.000000  329900.000000   \n",
       "Predicted Price  641418.824078  355619.31032  303768.432883  374937.340657   \n",
       "\n",
       "                            42             43             44             45  \\\n",
       "Actual Price     314000.000000  299000.000000  179900.000000  299900.000000   \n",
       "Predicted Price  411999.633297  230436.661027  190729.365581  312464.001374   \n",
       "\n",
       "                            46  \n",
       "Actual Price     239500.000000  \n",
       "Predicted Price  230854.293049  \n",
       "\n",
       "[2 rows x 47 columns]"
      ]
     },
     "execution_count": 7,
     "metadata": {},
     "output_type": "execute_result"
    }
   ],
   "source": [
    "predictedPrice = pd.DataFrame(model_ols.predict(X), columns=['Predicted Price']) # Create new dataframe of column'Predicted Price'\n",
    "actualPrice = pd.DataFrame(y, columns=['Actual Price'])\n",
    "actualPrice = actualPrice.reset_index(drop=True) # Drop the index so that we can concat it, to create new dataframe\n",
    "df_actual_vs_predicted = pd.concat([actualPrice,predictedPrice],axis =1)\n",
    "df_actual_vs_predicted.T\n"
   ]
  }
 ],
 "metadata": {
  "kernelspec": {
   "display_name": "Python 3 (ipykernel)",
   "language": "python",
   "name": "python3"
  },
  "language_info": {
   "codemirror_mode": {
    "name": "ipython",
    "version": 3
   },
   "file_extension": ".py",
   "mimetype": "text/x-python",
   "name": "python",
   "nbconvert_exporter": "python",
   "pygments_lexer": "ipython3",
   "version": "3.9.7"
  }
 },
 "nbformat": 4,
 "nbformat_minor": 5
}
