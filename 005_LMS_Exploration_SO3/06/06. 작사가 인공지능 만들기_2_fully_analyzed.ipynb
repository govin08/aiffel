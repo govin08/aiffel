{
 "cells": [
  {
   "cell_type": "markdown",
   "id": "8bfa776b",
   "metadata": {},
   "source": [
    "# "
   ]
  },
  {
   "cell_type": "markdown",
   "id": "41620927",
   "metadata": {},
   "source": [
    "# "
   ]
  },
  {
   "cell_type": "markdown",
   "id": "1f9646f5",
   "metadata": {},
   "source": [
    "# "
   ]
  },
  {
   "cell_type": "markdown",
   "id": "fbfac50e",
   "metadata": {},
   "source": [
    "# "
   ]
  },
  {
   "cell_type": "markdown",
   "id": "2f364fe0",
   "metadata": {},
   "source": [
    "# "
   ]
  },
  {
   "cell_type": "markdown",
   "id": "2a071b01",
   "metadata": {},
   "source": [
    "# 작사가 인공지능 만들기"
   ]
  },
  {
   "cell_type": "markdown",
   "id": "23bb427b",
   "metadata": {},
   "source": [
    "## 들어가며"
   ]
  },
  {
   "cell_type": "markdown",
   "id": "6a4974f2",
   "metadata": {},
   "source": [
    "## 시퀀스? 스퀀스!"
   ]
  },
  {
   "cell_type": "markdown",
   "id": "4c2f1e35",
   "metadata": {},
   "source": [
    "## I 대신 am을 쓰면 반 이상은 맞더라"
   ]
  },
  {
   "cell_type": "code",
   "execution_count": 2,
   "id": "4880521d",
   "metadata": {},
   "outputs": [
    {
     "name": "stdout",
     "output_type": "stream",
     "text": [
      "Source 문장: <start> 나는 밥을 먹었다 \n",
      "Target 문장:  나는 밥을 먹었다 <end>\n"
     ]
    }
   ],
   "source": [
    "sentence = \" 나는 밥을 먹었다 \"\n",
    "# <start>는 문장의 시작 입니다. \n",
    "# <start> 토큰을 받은 순환 신경망은 \"나는\"을 출력한다.\n",
    "# 출력된 \"나는\"이라는 단어를 다시 입력으로 사용하고 이러한 반복을 통해 \"먹었다\"까지 \n",
    "# 글을 생성한다. 마지막으로 끝(완성)을 뜻하는 <end> 토큰을 생성하여 마무리 합니다. \n",
    "source_sentence = \"<start>\" + sentence\n",
    "target_sentence = sentence + \"<end>\"\n",
    "\n",
    "print(\"Source 문장:\", source_sentence)\n",
    "# Source 문장: <start> 나는 밥을 먹었다\n",
    "print(\"Target 문장:\", target_sentence)\n",
    "# Target 문장:  나는 밥을 먹었다 <end>"
   ]
  },
  {
   "cell_type": "markdown",
   "id": "bb86734b",
   "metadata": {},
   "source": [
    "## 실습 (1) 데이터 다듬기"
   ]
  },
  {
   "cell_type": "markdown",
   "id": "7125bbe8",
   "metadata": {},
   "source": [
    "### `raw_corpus`"
   ]
  },
  {
   "cell_type": "code",
   "execution_count": 3,
   "id": "130fec5b",
   "metadata": {},
   "outputs": [
    {
     "name": "stdout",
     "output_type": "stream",
     "text": [
      "['First Citizen:', 'Before we proceed any further, hear me speak.', '', 'All:', 'Speak, speak.', '', 'First Citizen:', 'You are all resolved rather to die than to famish?', '']\n"
     ]
    }
   ],
   "source": [
    "import os, re \n",
    "import numpy as np\n",
    "import tensorflow as tf\n",
    "\n",
    "file_path = '../../data/exploration_06/data/shakespeare.txt'\n",
    "with open(file_path, \"r\") as f:\n",
    "    raw_corpus = f.read().splitlines()\n",
    "\n",
    "print(raw_corpus[:9])"
   ]
  },
  {
   "cell_type": "markdown",
   "id": "e5f85b0f",
   "metadata": {},
   "source": [
    "### "
   ]
  },
  {
   "cell_type": "code",
   "execution_count": 4,
   "id": "c45d8767",
   "metadata": {},
   "outputs": [
    {
     "name": "stdout",
     "output_type": "stream",
     "text": [
      "Before we proceed any further, hear me speak.\n",
      "Speak, speak.\n",
      "You are all resolved rather to die than to famish?\n"
     ]
    }
   ],
   "source": [
    "# enumerate() 함수를 이용하여 raw_corpus list 내에 저장된 문장과 그 문장의 인덱스를 반환 (인덱스, 문장 순)\n",
    "for idx, sentence in enumerate(raw_corpus):\n",
    "    if len(sentence) == 0: continue   # 길이가 0인 문장은 건너뜁니다.\n",
    "    if sentence[-1] == \":\": continue  # 문장의 끝이 : 인 문장은 건너뜁니다.\n",
    "\n",
    "    if idx > 9: break   # 일단 문장 10개만 확인해 볼 겁니다.\n",
    "        \n",
    "    print(sentence)"
   ]
  },
  {
   "cell_type": "markdown",
   "id": "83861330",
   "metadata": {},
   "source": [
    "### `preprocess_sentence`"
   ]
  },
  {
   "cell_type": "code",
   "execution_count": 5,
   "id": "f579f5b3",
   "metadata": {
    "scrolled": true
   },
   "outputs": [
    {
     "name": "stdout",
     "output_type": "stream",
     "text": [
      "<start> this is sample sentence . <end>\n"
     ]
    }
   ],
   "source": [
    "# 입력된 문장을\n",
    "#     1. 소문자로 바꾸고, 양쪽 공백을 지웁니다\n",
    "#     2. 특수문자 양쪽에 공백을 넣고\n",
    "#     3. 여러개의 공백은 하나의 공백으로 바꿉니다\n",
    "#     4. a-zA-Z?.!,¿가 아닌 모든 문자를 하나의 공백으로 바꿉니다\n",
    "#     5. 다시 양쪽 공백을 지웁니다\n",
    "#     6. 문장 시작에는 <start>, 끝에는 <end>를 추가합니다\n",
    "# 이 순서로 처리해주면 문제가 되는 상황을 방지할 수 있겠네요!\n",
    "def preprocess_sentence(sentence):\n",
    "    sentence = sentence.lower().strip() # 1\n",
    "    sentence = re.sub(r\"([?.!,¿])\", r\" \\1 \", sentence) # 2\n",
    "    sentence = re.sub(r'[\" \"]+', \" \", sentence) # 3\n",
    "    sentence = re.sub(r\"[^a-zA-Z?.!,¿]+\", \" \", sentence) # 4\n",
    "    sentence = sentence.strip() # 5\n",
    "    sentence = '<start> ' + sentence + ' <end>' # 6\n",
    "    return sentence\n",
    "\n",
    "# 이 문장이 어떻게 필터링되는지 확인해 보세요.\n",
    "print(preprocess_sentence(\"This @_is ;;;sample        sentence.\"))"
   ]
  },
  {
   "cell_type": "markdown",
   "id": "50a44412",
   "metadata": {},
   "source": [
    "- before :__Linear-algebra is a central branch of mathetmatics. Is calculus more important than linear-algebra? I don't know.\"\n",
    "- after : \\<start\\>linear algebra is a central branch of mathetmatics. is calculus more important than linear algebra? i don t know. \\<end\\>\n",
    "- before : This @_is ;;;sample________sentence.\n",
    "- after : \\<start\\>this is sample sentence. \\<end\\>"
   ]
  },
  {
   "cell_type": "markdown",
   "id": "5d089007",
   "metadata": {},
   "source": [
    "### `corpus`"
   ]
  },
  {
   "cell_type": "code",
   "execution_count": 6,
   "id": "4c4b8a6c",
   "metadata": {
    "scrolled": false
   },
   "outputs": [
    {
     "data": {
      "text/plain": [
       "['<start> before we proceed any further , hear me speak . <end>',\n",
       " '<start> speak , speak . <end>',\n",
       " '<start> you are all resolved rather to die than to famish ? <end>',\n",
       " '<start> resolved . resolved . <end>',\n",
       " '<start> first , you know caius marcius is chief enemy to the people . <end>',\n",
       " '<start> we know t , we know t . <end>',\n",
       " '<start> let us kill him , and we ll have corn at our own price . <end>',\n",
       " '<start> is t a verdict ? <end>',\n",
       " '<start> no more talking on t let it be done away , away ! <end>',\n",
       " '<start> one word , good citizens . <end>']"
      ]
     },
     "execution_count": 6,
     "metadata": {},
     "output_type": "execute_result"
    }
   ],
   "source": [
    "# 여기에 정제된 문장을 모을겁니다\n",
    "corpus = []\n",
    "\n",
    "# raw_corpus list에 저장된 문장들을 순서대로 반환하여 sentence에 저장\n",
    "for sentence in raw_corpus:\n",
    "    # 우리가 원하지 않는 문장은 건너뜁니다\n",
    "    if len(sentence) == 0: continue\n",
    "    if sentence[-1] == \":\": continue\n",
    "    \n",
    "    # 앞서 구현한 preprocess_sentence() 함수를 이용하여 문장을 정제를 하고 담아주세요\n",
    "    preprocessed_sentence = preprocess_sentence(sentence)\n",
    "    corpus.append(preprocessed_sentence)\n",
    "        \n",
    "# 정제된 결과를 10개만 확인해보죠\n",
    "corpus[:10]"
   ]
  },
  {
   "cell_type": "code",
   "execution_count": 7,
   "id": "30e60565",
   "metadata": {},
   "outputs": [
    {
     "data": {
      "text/plain": [
       "24015"
      ]
     },
     "execution_count": 7,
     "metadata": {},
     "output_type": "execute_result"
    }
   ],
   "source": [
    "len(corpus)"
   ]
  },
  {
   "cell_type": "markdown",
   "id": "311d832b",
   "metadata": {},
   "source": [
    "### `tensor`, `tokenizer`"
   ]
  },
  {
   "cell_type": "code",
   "execution_count": 8,
   "id": "9b555674",
   "metadata": {},
   "outputs": [
    {
     "name": "stdout",
     "output_type": "stream",
     "text": [
      "[[   2  143   40 ...    0    0    0]\n",
      " [   2  110    4 ...    0    0    0]\n",
      " [   2   11   50 ...    0    0    0]\n",
      " ...\n",
      " [   2  149 4553 ...    0    0    0]\n",
      " [   2   34   71 ...    0    0    0]\n",
      " [   2  945   34 ...    0    0    0]] <keras_preprocessing.text.Tokenizer object at 0x7f21048ccb80>\n"
     ]
    }
   ],
   "source": [
    "# 토큰화 할 때 텐서플로우의 Tokenizer와 pad_sequences를 사용합니다\n",
    "# 더 잘 알기 위해 아래 문서들을 참고하면 좋습니다\n",
    "# https://www.tensorflow.org/api_docs/python/tf/keras/preprocessing/text/Tokenizer\n",
    "# https://www.tensorflow.org/api_docs/python/tf/keras/preprocessing/sequence/pad_sequences\n",
    "def tokenize(corpus):\n",
    "    # 7000단어를 기억할 수 있는 tokenizer를 만들겁니다\n",
    "    # 우리는 이미 문장을 정제했으니 filters가 필요없어요\n",
    "    # 7000단어에 포함되지 못한 단어는 '<unk>'로 바꿀거에요\n",
    "    tokenizer = tf.keras.preprocessing.text.Tokenizer(\n",
    "        num_words=7000, \n",
    "        filters=' ',\n",
    "        oov_token=\"<unk>\"\n",
    "    )\n",
    "    # corpus를 이용해 tokenizer 내부의 단어장을 완성합니다\n",
    "    # tokenizer.fit_on_texts(texts): 문자 데이터를 입력받아 리스트의 형태로 변환하는 메서드\n",
    "    tokenizer.fit_on_texts(corpus)\n",
    "    # 준비한 tokenizer를 이용해 corpus를 Tensor로 변환합니다\n",
    "    # tokenizer.texts_to_sequences(texts): 텍스트 안의 단어들을 숫자의 시퀀스 형태로 변환하는 메서드\n",
    "    tensor = tokenizer.texts_to_sequences(corpus)   \n",
    "    # 입력 데이터의 시퀀스 길이를 일정하게 맞춰줍니다\n",
    "    # 만약 시퀀스가 짧다면 문장 뒤에 패딩을 붙여 길이를 맞춰줍니다.\n",
    "    # 문장 앞에 패딩을 붙여 길이를 맞추고 싶다면 padding='pre'를 사용합니다\n",
    "    tensor = tf.keras.preprocessing.sequence.pad_sequences(tensor, padding='post')  \n",
    "    \n",
    "    print(tensor,tokenizer)\n",
    "    return tensor, tokenizer\n",
    "\n",
    "tensor, tokenizer = tokenize(corpus)"
   ]
  },
  {
   "cell_type": "code",
   "execution_count": 9,
   "id": "295722b8",
   "metadata": {},
   "outputs": [
    {
     "name": "stdout",
     "output_type": "stream",
     "text": [
      "<class 'list'>\n",
      "24015\n"
     ]
    }
   ],
   "source": [
    "print(type(corpus))\n",
    "print(len(corpus))"
   ]
  },
  {
   "cell_type": "code",
   "execution_count": 10,
   "id": "8365ca47",
   "metadata": {},
   "outputs": [],
   "source": [
    "tokenizer = tf.keras.preprocessing.text.Tokenizer(num_words=7000, filters=' ',\n",
    "                                                  oov_token=\"<unk>\")"
   ]
  },
  {
   "cell_type": "code",
   "execution_count": 11,
   "id": "96a0915b",
   "metadata": {},
   "outputs": [],
   "source": [
    "tokenizer.fit_on_texts(corpus)"
   ]
  },
  {
   "cell_type": "code",
   "execution_count": 12,
   "id": "a7821c58",
   "metadata": {},
   "outputs": [],
   "source": [
    "tensor = tokenizer.texts_to_sequences(corpus)"
   ]
  },
  {
   "cell_type": "code",
   "execution_count": 13,
   "id": "a42bed0e",
   "metadata": {},
   "outputs": [
    {
     "name": "stdout",
     "output_type": "stream",
     "text": [
      "<class 'list'>\n",
      "24015\n"
     ]
    }
   ],
   "source": [
    "print(type(tensor))\n",
    "print(len(tensor))"
   ]
  },
  {
   "cell_type": "code",
   "execution_count": 14,
   "id": "f43a5d79",
   "metadata": {},
   "outputs": [],
   "source": [
    "tensor = tf.keras.preprocessing.sequence.pad_sequences(tensor, padding='post')"
   ]
  },
  {
   "cell_type": "code",
   "execution_count": 15,
   "id": "8cb70759",
   "metadata": {},
   "outputs": [
    {
     "name": "stdout",
     "output_type": "stream",
     "text": [
      "<class 'numpy.ndarray'>\n",
      "(24015, 21)\n"
     ]
    }
   ],
   "source": [
    "print(type(tensor))\n",
    "print(tensor.shape)"
   ]
  },
  {
   "cell_type": "code",
   "execution_count": 16,
   "id": "926c6c32",
   "metadata": {
    "scrolled": true
   },
   "outputs": [
    {
     "name": "stdout",
     "output_type": "stream",
     "text": [
      "<class 'numpy.ndarray'>\n",
      "(24015, 21)\n",
      "<start> before we proceed any further , hear me speak . <end>\n",
      "<start> speak , speak . <end>\n",
      "<start> you are all resolved rather to die than to famish ? <end>\n",
      "[  2 143  40 933 140 591   4 124  24 110   5   3   0   0   0   0   0   0\n",
      "   0   0   0]\n",
      "[  2 110   4 110   5   3   0   0   0   0   0   0   0   0   0   0   0   0\n",
      "   0   0   0]\n",
      "[   2   11   50   43 1201  316    9  201   74    9 3034   15    3    0\n",
      "    0    0    0    0    0    0    0]\n"
     ]
    }
   ],
   "source": [
    "print(type(tensor))\n",
    "print(tensor.shape) #24015개의 문장, 각 문장은 21차원의 벡터\n",
    "print(corpus[0])\n",
    "print(corpus[1])\n",
    "print(corpus[2])\n",
    "print(tensor[0])\n",
    "print(tensor[1])\n",
    "print(tensor[2])"
   ]
  },
  {
   "attachments": {
    "image.png": {
     "image/png": "[encoded data removed]"
    }
   },
   "cell_type": "markdown",
   "id": "5f383cb3",
   "metadata": {},
   "source": [
    "![image.png](attachment:image.png)"
   ]
  },
  {
   "cell_type": "code",
   "execution_count": 17,
   "id": "aa980037",
   "metadata": {},
   "outputs": [
    {
     "name": "stdout",
     "output_type": "stream",
     "text": [
      "<class 'keras_preprocessing.text.Tokenizer'>\n",
      "['__class__', '__delattr__', '__dict__', '__dir__', '__doc__', '__eq__', '__format__', '__ge__', '__getattribute__', '__gt__', '__hash__', '__init__', '__init_subclass__', '__le__', '__lt__', '__module__', '__ne__', '__new__', '__reduce__', '__reduce_ex__', '__repr__', '__setattr__', '__sizeof__', '__str__', '__subclasshook__', '__weakref__', '_keras_api_names', '_keras_api_names_v1', 'char_level', 'document_count', 'filters', 'fit_on_sequences', 'fit_on_texts', 'get_config', 'index_docs', 'index_word', 'lower', 'num_words', 'oov_token', 'sequences_to_matrix', 'sequences_to_texts', 'sequences_to_texts_generator', 'split', 'texts_to_matrix', 'texts_to_sequences', 'texts_to_sequences_generator', 'to_json', 'word_counts', 'word_docs', 'word_index']\n"
     ]
    }
   ],
   "source": [
    "print(type(tokenizer))\n",
    "print(dir(tokenizer))"
   ]
  },
  {
   "cell_type": "markdown",
   "id": "0856c544",
   "metadata": {},
   "source": [
    "- `fit_on_texts` : Updates internal vocabulary based on a list of texts.\n",
    "- `texts_to_sequences` : Transforms each text in texts to a sequence of integers.\n",
    "- `index_word` : \n",
    "- `num_words` : the maximum number of words to keep, based on word frequency\n",
    "- `filters` : a string where each element is a character that will be filtered from the texts.\n",
    "- `oov_token` : if given, it will be added to word_index and used to replace out-of-vocabulary words during text_to_sequence calls"
   ]
  },
  {
   "cell_type": "code",
   "execution_count": 18,
   "id": "f78b8243",
   "metadata": {},
   "outputs": [
    {
     "name": "stdout",
     "output_type": "stream",
     "text": [
      "<class 'dict'>\n",
      "11179\n"
     ]
    }
   ],
   "source": [
    "print(type(tokenizer.index_word))\n",
    "print(len(tokenizer.index_word))"
   ]
  },
  {
   "cell_type": "code",
   "execution_count": 19,
   "id": "2bc3936f",
   "metadata": {},
   "outputs": [
    {
     "name": "stdout",
     "output_type": "stream",
     "text": [
      "7000\n",
      " \n",
      "<unk>\n"
     ]
    }
   ],
   "source": [
    "print(tokenizer.num_words)\n",
    "print(tokenizer.filters)\n",
    "print(tokenizer.oov_token)"
   ]
  },
  {
   "cell_type": "markdown",
   "id": "c3f795fc",
   "metadata": {},
   "source": [
    "### "
   ]
  },
  {
   "cell_type": "code",
   "execution_count": 20,
   "id": "77b52155",
   "metadata": {},
   "outputs": [
    {
     "name": "stdout",
     "output_type": "stream",
     "text": [
      "[[   2  143   40  933  140  591    4  124   24  110]\n",
      " [   2  110    4  110    5    3    0    0    0    0]\n",
      " [   2   11   50   43 1201  316    9  201   74    9]]\n"
     ]
    }
   ],
   "source": [
    "print(tensor[:3, :10])"
   ]
  },
  {
   "cell_type": "markdown",
   "id": "47120075",
   "metadata": {},
   "source": [
    "### `tokenizer.index_word`"
   ]
  },
  {
   "cell_type": "code",
   "execution_count": 21,
   "id": "f14ef3d0",
   "metadata": {
    "scrolled": true
   },
   "outputs": [
    {
     "name": "stdout",
     "output_type": "stream",
     "text": [
      "1 : <unk>\n",
      "2 : <start>\n",
      "3 : <end>\n",
      "4 : ,\n",
      "5 : .\n",
      "6 : the\n",
      "7 : and\n",
      "8 : i\n",
      "9 : to\n",
      "10 : of\n",
      "False\n"
     ]
    }
   ],
   "source": [
    "# tokenizer.index_word: 현재 계산된 단어의 인덱스와 인덱스에 해당하는 단어를 dictionary 형대로 반환 (Ex. {index: '~~', index: '~~', ...})\n",
    "for idx in tokenizer.index_word:\n",
    "    print(idx, \":\", tokenizer.index_word[idx])\n",
    "\n",
    "    if idx >= 10: break\n",
    "print(0 in tokenizer.index_word)"
   ]
  },
  {
   "cell_type": "markdown",
   "id": "84722361",
   "metadata": {},
   "source": [
    "### `src_input`, `tgt_input`"
   ]
  },
  {
   "cell_type": "code",
   "execution_count": 22,
   "id": "d59fa7d9",
   "metadata": {},
   "outputs": [
    {
     "name": "stdout",
     "output_type": "stream",
     "text": [
      "[  2 143  40 933 140 591   4 124  24 110   5   3   0   0   0   0   0   0\n",
      "   0   0]\n",
      "[143  40 933 140 591   4 124  24 110   5   3   0   0   0   0   0   0   0\n",
      "   0   0]\n"
     ]
    }
   ],
   "source": [
    "# tensor에서 마지막 토큰을 잘라내서 소스 문장을 생성합니다\n",
    "# 마지막 토큰은 <end>가 아니라 <pad>일 가능성이 높습니다.\n",
    "src_input = tensor[:, :-1]  \n",
    "# tensor에서 <start>를 잘라내서 타겟 문장을 생성합니다.\n",
    "tgt_input = tensor[:, 1:]    \n",
    "\n",
    "print(src_input[0])\n",
    "print(tgt_input[0])"
   ]
  },
  {
   "cell_type": "markdown",
   "id": "cb4a11ce",
   "metadata": {},
   "source": [
    "### `dataset`"
   ]
  },
  {
   "cell_type": "code",
   "execution_count": 23,
   "id": "2c0b3119",
   "metadata": {},
   "outputs": [
    {
     "data": {
      "text/plain": [
       "<BatchDataset shapes: ((256, 20), (256, 20)), types: (tf.int32, tf.int32)>"
      ]
     },
     "execution_count": 23,
     "metadata": {},
     "output_type": "execute_result"
    }
   ],
   "source": [
    "BUFFER_SIZE = len(src_input)\n",
    "BATCH_SIZE = 256\n",
    "steps_per_epoch = len(src_input) // BATCH_SIZE\n",
    "\n",
    " # tokenizer가 구축한 단어사전 내 7000개와, 여기 포함되지 않은 0:<pad>를 포함하여 7001개\n",
    " # tokenizer.num_words: 주어진 데이터의 문장들에서 빈도수가 높은 n개의 단어만 선택\n",
    " # tokenize() 함수에서 num_words를 7000개로 선언했기 때문에, tokenizer.num_words의 값은 7000\n",
    "VOCAB_SIZE = tokenizer.num_words + 1   \n",
    "\n",
    "# 준비한 데이터 소스로부터 데이터셋을 만듭니다\n",
    "# 데이터셋에 대해서는 아래 문서를 참고하세요\n",
    "# 자세히 알아둘수록 도움이 많이 되는 중요한 문서입니다\n",
    "# https://www.tensorflow.org/api_docs/python/tf/data/Dataset\n",
    "dataset = tf.data.Dataset.from_tensor_slices((src_input, tgt_input))\n",
    "dataset = dataset.shuffle(BUFFER_SIZE)\n",
    "dataset = dataset.batch(BATCH_SIZE, drop_remainder=True)\n",
    "dataset"
   ]
  },
  {
   "cell_type": "code",
   "execution_count": 24,
   "id": "4325a92c",
   "metadata": {},
   "outputs": [
    {
     "name": "stdout",
     "output_type": "stream",
     "text": [
      "24015\n",
      "256\n",
      "93\n"
     ]
    }
   ],
   "source": [
    "print(len(src_input))\n",
    "print(256)\n",
    "print(len(src_input)//256)"
   ]
  },
  {
   "cell_type": "code",
   "execution_count": 25,
   "id": "3ff447fb",
   "metadata": {},
   "outputs": [],
   "source": [
    "dataset = tf.data.Dataset.from_tensor_slices((src_input, tgt_input))"
   ]
  },
  {
   "cell_type": "code",
   "execution_count": 26,
   "id": "92bf49e8",
   "metadata": {},
   "outputs": [
    {
     "name": "stdout",
     "output_type": "stream",
     "text": [
      "(24015, 2, 20)\n"
     ]
    }
   ],
   "source": [
    "dataset_as_np_array = np.array([data for data in dataset])\n",
    "print(dataset_as_np_array.shape)"
   ]
  },
  {
   "cell_type": "code",
   "execution_count": 27,
   "id": "9049d9d2",
   "metadata": {},
   "outputs": [
    {
     "name": "stdout",
     "output_type": "stream",
     "text": [
      "[  2 143  40 933 140 591   4 124  24 110   5   3   0   0   0   0   0   0\n",
      "   0   0]\n",
      "[143  40 933 140 591   4 124  24 110   5   3   0   0   0   0   0   0   0\n",
      "   0   0]\n",
      "[  2 110   4 110   5   3   0   0   0   0   0   0   0   0   0   0   0   0\n",
      "   0   0]\n",
      "[110   4 110   5   3   0   0   0   0   0   0   0   0   0   0   0   0   0\n",
      "   0   0]\n"
     ]
    }
   ],
   "source": [
    "print(dataset_as_np_array[0,0])\n",
    "print(dataset_as_np_array[0,1])\n",
    "print(dataset_as_np_array[1,0])\n",
    "print(dataset_as_np_array[1,1])"
   ]
  },
  {
   "cell_type": "code",
   "execution_count": 28,
   "id": "c9732650",
   "metadata": {},
   "outputs": [
    {
     "name": "stdout",
     "output_type": "stream",
     "text": [
      "(24015, 2, 20)\n"
     ]
    }
   ],
   "source": [
    "dataset = dataset.shuffle(BUFFER_SIZE)\n",
    "dataset_as_np_array = np.array([data for data in dataset])\n",
    "print(dataset_as_np_array.shape)"
   ]
  },
  {
   "cell_type": "code",
   "execution_count": 29,
   "id": "fcf512ce",
   "metadata": {},
   "outputs": [
    {
     "name": "stdout",
     "output_type": "stream",
     "text": [
      "[   2 3875    4   32   23   84    4   57    6 1508   10 4316    3    0\n",
      "    0    0    0    0    0    0]\n",
      "[3875    4   32   23   84    4   57    6 1508   10 4316    3    0    0\n",
      "    0    0    0    0    0    0]\n",
      "[  2  20   8  31 603  66  12 214  21 707   3   0   0   0   0   0   0   0\n",
      "   0   0]\n",
      "[ 20   8  31 603  66  12 214  21 707   3   0   0   0   0   0   0   0   0\n",
      "   0   0]\n"
     ]
    }
   ],
   "source": [
    "print(dataset_as_np_array[0,0])\n",
    "print(dataset_as_np_array[0,1])\n",
    "print(dataset_as_np_array[1,0])\n",
    "print(dataset_as_np_array[1,1])"
   ]
  },
  {
   "cell_type": "code",
   "execution_count": 30,
   "id": "b5c8acd0",
   "metadata": {},
   "outputs": [
    {
     "name": "stdout",
     "output_type": "stream",
     "text": [
      "<class 'tensorflow.python.data.ops.dataset_ops.BatchDataset'>\n",
      "93\n"
     ]
    }
   ],
   "source": [
    "dataset = dataset.batch(BATCH_SIZE, drop_remainder=True)\n",
    "print(type(dataset))\n",
    "print(len(dataset))"
   ]
  },
  {
   "cell_type": "code",
   "execution_count": 31,
   "id": "cd48c23a",
   "metadata": {},
   "outputs": [
    {
     "name": "stdout",
     "output_type": "stream",
     "text": [
      "(93, 2, 256, 20)\n"
     ]
    }
   ],
   "source": [
    "dataset_as_np_array = np.array([data for data in dataset])\n",
    "print(dataset_as_np_array.shape)"
   ]
  },
  {
   "cell_type": "code",
   "execution_count": 32,
   "id": "16c23662",
   "metadata": {
    "scrolled": true
   },
   "outputs": [
    {
     "name": "stdout",
     "output_type": "stream",
     "text": [
      "[[   2    7 3917 ...    0    0    0]\n",
      " [   2  765    8 ...    0    0    0]\n",
      " [   2   84   23 ...    0    0    0]\n",
      " ...\n",
      " [   2  377  681 ...    0    0    0]\n",
      " [   2  105 1853 ...    0    0    0]\n",
      " [   2  590    4 ...    0    0    0]]\n",
      "[[   7 3917  232 ...    0    0    0]\n",
      " [ 765    8  169 ...    0    0    0]\n",
      " [  84   23    9 ...    0    0    0]\n",
      " ...\n",
      " [ 377  681   12 ...    0    0    0]\n",
      " [ 105 1853   67 ...    0    0    0]\n",
      " [ 590    4   85 ...    0    0    0]]\n",
      "[[   2   62  147 ...    0    0    0]\n",
      " [   2   19    4 ...    0    0    0]\n",
      " [   2   49  969 ...    0    0    0]\n",
      " ...\n",
      " [   2    9  298 ...    0    0    0]\n",
      " [   2   86 1984 ...    0    0    0]\n",
      " [   2   22 2907 ...    0    0    0]]\n",
      "[[  62  147    8 ...    0    0    0]\n",
      " [  19    4   91 ...    0    0    0]\n",
      " [  49  969    4 ...    0    0    0]\n",
      " ...\n",
      " [   9  298   44 ...    0    0    0]\n",
      " [  86 1984    6 ...    0    0    0]\n",
      " [  22 2907   14 ...    0    0    0]]\n"
     ]
    }
   ],
   "source": [
    "print(dataset_as_np_array[0,0])\n",
    "print(dataset_as_np_array[0,1])\n",
    "print(dataset_as_np_array[1,0])\n",
    "print(dataset_as_np_array[1,1])"
   ]
  },
  {
   "cell_type": "code",
   "execution_count": 33,
   "id": "2e31a473",
   "metadata": {},
   "outputs": [
    {
     "data": {
      "text/plain": [
       "<BatchDataset shapes: ((256, 20), (256, 20)), types: (tf.int32, tf.int32)>"
      ]
     },
     "execution_count": 33,
     "metadata": {},
     "output_type": "execute_result"
    }
   ],
   "source": [
    "dataset"
   ]
  },
  {
   "cell_type": "markdown",
   "id": "e9ba5e45",
   "metadata": {},
   "source": [
    "## 실습 (2) 인공지능 학습시키기"
   ]
  },
  {
   "cell_type": "markdown",
   "id": "3bf69497",
   "metadata": {},
   "source": [
    "### `model`"
   ]
  },
  {
   "cell_type": "code",
   "execution_count": 34,
   "id": "96166e0b",
   "metadata": {},
   "outputs": [],
   "source": [
    "class TextGenerator(tf.keras.Model):\n",
    "    def __init__(self, vocab_size, embedding_size, hidden_size):\n",
    "        super().__init__()\n",
    "        # Embedding 레이어, 2개의 LSTM 레이어, 1개의 Dense 레이어로 구성되어 있다.\n",
    "        # Embedding 레이어는 단어 사전의 인덱스 값을 해당 인덱스 번째의 워드 벡터로 바꿔준다.\n",
    "        # 이 워드 벡터는 의미 벡터 공간에서 단어의 추상적 표현으로 사용된다. \n",
    "        self.embedding = tf.keras.layers.Embedding(vocab_size, embedding_size) \n",
    "        self.rnn_1 = tf.keras.layers.LSTM(hidden_size, return_sequences=True)  \n",
    "        self.rnn_2 = tf.keras.layers.LSTM(hidden_size, return_sequences=True)\n",
    "        self.linear = tf.keras.layers.Dense(vocab_size)\n",
    "        \n",
    "    def call(self, x):\n",
    "        out = self.embedding(x)\n",
    "        out = self.rnn_1(out)\n",
    "        out = self.rnn_2(out)\n",
    "        out = self.linear(out)\n",
    "        \n",
    "        return out\n",
    "# embedding size 값이 커질수록 단어의 추상적인 특징들을 더 잡아낼 수 있지만\n",
    "# 그만큼 충분한 데이터가 없으면 안좋은 결과 값을 가져옵니다!   \n",
    "embedding_size = 256 # 워드 벡터의 차원수를 말하며 단어가 추상적으로 표현되는 크기입니다.\n",
    "hidden_size = 1024 # 모델에 얼마나 많은 일꾼을 둘 것인가? 정도로 이해하면 좋다.\n",
    "model = TextGenerator(tokenizer.num_words + 1, embedding_size , hidden_size) # tokenizer.num_words에 +1인 이유는 문장에 없는 pad가 사용되었기 때문이다."
   ]
  },
  {
   "cell_type": "markdown",
   "id": "150bd348",
   "metadata": {},
   "source": [
    "### "
   ]
  },
  {
   "cell_type": "code",
   "execution_count": 74,
   "id": "f260f323",
   "metadata": {
    "scrolled": true
   },
   "outputs": [
    {
     "data": {
      "text/plain": [
       "<tf.Tensor: shape=(256, 20, 7001), dtype=float32, numpy=\n",
       "array([[[ -3.0514135 ,   3.6969502 ,  -8.831471  , ...,  -8.81112   ,\n",
       "          -8.012526  ,  -8.651166  ],\n",
       "        [ -3.5106676 ,   6.4686856 ,  -8.977999  , ..., -11.058538  ,\n",
       "         -11.372764  ,  -8.5872    ],\n",
       "        [ -5.1337075 ,   6.1280274 , -10.608118  , ...,  -8.57676   ,\n",
       "         -10.895319  , -10.190677  ],\n",
       "        ...,\n",
       "        [ 16.253113  ,   0.18009357, -21.84259   , ..., -27.626005  ,\n",
       "         -24.315926  , -21.241253  ],\n",
       "        [ 16.265593  ,   0.251688  , -21.862291  , ..., -27.694239  ,\n",
       "         -24.292906  , -21.255611  ],\n",
       "        [ 16.263536  ,   0.39460325, -21.885323  , ..., -27.792274  ,\n",
       "         -24.206167  , -21.269848  ]],\n",
       "\n",
       "       [[ -3.0514135 ,   3.6969502 ,  -8.831471  , ...,  -8.81112   ,\n",
       "          -8.012526  ,  -8.651166  ],\n",
       "        [ -0.99496937,   3.5168676 , -11.649495  , ..., -12.955412  ,\n",
       "         -15.17435   , -11.475777  ],\n",
       "        [ -0.7281848 ,   3.1874876 , -15.804045  , ..., -16.249912  ,\n",
       "         -14.825832  , -15.7495365 ],\n",
       "        ...,\n",
       "        [ 16.121326  ,  -0.06245429, -21.79465   , ..., -27.318586  ,\n",
       "         -24.381332  , -21.073675  ],\n",
       "        [ 16.206959  ,   0.11806187, -21.89905   , ..., -27.605421  ,\n",
       "         -24.411116  , -21.181444  ],\n",
       "        [ 16.257265  ,   0.26131454, -21.945862  , ..., -27.752665  ,\n",
       "         -24.376137  , -21.227764  ]],\n",
       "\n",
       "       [[ -3.0514135 ,   3.6969502 ,  -8.831471  , ...,  -8.81112   ,\n",
       "          -8.012526  ,  -8.651166  ],\n",
       "        [ -3.8560853 ,   4.059438  , -13.075423  , ..., -13.937977  ,\n",
       "         -15.999132  , -12.645107  ],\n",
       "        [ -6.154023  ,   5.1839867 , -13.624462  , ..., -11.883712  ,\n",
       "         -11.986266  , -13.427869  ],\n",
       "        ...,\n",
       "        [ 16.098043  ,   0.1749244 , -21.749584  , ..., -27.44885   ,\n",
       "         -24.444593  , -21.047834  ],\n",
       "        [ 16.106705  ,   0.26147282, -21.763     , ..., -27.561295  ,\n",
       "         -24.426285  , -21.060684  ],\n",
       "        [ 16.107185  ,   0.41260973, -21.792362  , ..., -27.697674  ,\n",
       "         -24.360134  , -21.084133  ]],\n",
       "\n",
       "       ...,\n",
       "\n",
       "       [[ -3.0514135 ,   3.6969502 ,  -8.831471  , ...,  -8.81112   ,\n",
       "          -8.012526  ,  -8.651166  ],\n",
       "        [  0.3359446 ,   1.5548989 , -11.895478  , ..., -13.194715  ,\n",
       "         -13.365064  , -11.607521  ],\n",
       "        [ -2.9071143 ,   0.9705168 , -14.338353  , ..., -13.015499  ,\n",
       "         -10.550703  , -14.129138  ],\n",
       "        ...,\n",
       "        [ 16.091967  ,   0.56293017, -21.804266  , ..., -27.979553  ,\n",
       "         -24.201973  , -21.095673  ],\n",
       "        [ 16.140598  ,   0.5533836 , -21.858406  , ..., -27.980913  ,\n",
       "         -24.140352  , -21.13066   ],\n",
       "        [ 16.152325  ,   0.53998333, -21.877106  , ..., -27.992165  ,\n",
       "         -24.135254  , -21.141666  ]],\n",
       "\n",
       "       [[ -3.0514135 ,   3.6969502 ,  -8.831471  , ...,  -8.81112   ,\n",
       "          -8.012526  ,  -8.651166  ],\n",
       "        [ -4.259649  ,   4.7715173 , -13.649264  , ..., -15.402631  ,\n",
       "         -12.098555  , -13.489641  ],\n",
       "        [ -3.5748575 ,   5.570555  , -11.987245  , ..., -12.705639  ,\n",
       "         -12.069049  , -11.336905  ],\n",
       "        ...,\n",
       "        [ 16.210958  ,   0.25748995, -21.831652  , ..., -27.67959   ,\n",
       "         -24.39746   , -21.083424  ],\n",
       "        [ 16.230188  ,   0.38906118, -21.852133  , ..., -27.729818  ,\n",
       "         -24.397524  , -21.09473   ],\n",
       "        [ 16.244038  ,   0.49108154, -21.860365  , ..., -27.760803  ,\n",
       "         -24.373762  , -21.097004  ]],\n",
       "\n",
       "       [[ -3.0514135 ,   3.6969502 ,  -8.831471  , ...,  -8.81112   ,\n",
       "          -8.012526  ,  -8.651166  ],\n",
       "        [ -4.948025  ,   5.1259003 , -11.023593  , ..., -11.198156  ,\n",
       "         -14.601641  , -10.777001  ],\n",
       "        [ -4.37243   ,   5.5683384 ,  -8.973174  , ..., -10.895596  ,\n",
       "         -11.40823   ,  -8.759891  ],\n",
       "        ...,\n",
       "        [ 16.192259  ,   0.14139153, -21.79122   , ..., -27.523037  ,\n",
       "         -24.186022  , -21.044079  ],\n",
       "        [ 16.188536  ,   0.14322577, -21.782694  , ..., -27.486803  ,\n",
       "         -24.19281   , -21.03524   ],\n",
       "        [ 16.185043  ,   0.1403248 , -21.774183  , ..., -27.455517  ,\n",
       "         -24.196222  , -21.02705   ]]], dtype=float32)>"
      ]
     },
     "execution_count": 74,
     "metadata": {},
     "output_type": "execute_result"
    }
   ],
   "source": [
    "# 데이터셋에서 데이터 한 배치만 불러오는 방법입니다.\n",
    "# 지금은 동작 원리에 너무 빠져들지 마세요~\n",
    "for src_sample, tgt_sample in dataset.take(1): break\n",
    "\n",
    "# 한 배치만 불러온 데이터를 모델에 넣어봅니다\n",
    "model(src_sample)"
   ]
  },
  {
   "cell_type": "code",
   "execution_count": 36,
   "id": "939ed1c6",
   "metadata": {},
   "outputs": [
    {
     "name": "stdout",
     "output_type": "stream",
     "text": [
      "(93, 2, 256, 20)\n"
     ]
    }
   ],
   "source": [
    "dataset_as_np_array = np.array([data for data in dataset])\n",
    "print(dataset_as_np_array.shape) #batch, src/tgt, batch_size, length_of_sentences"
   ]
  },
  {
   "cell_type": "code",
   "execution_count": 37,
   "id": "b852c658",
   "metadata": {},
   "outputs": [
    {
     "name": "stdout",
     "output_type": "stream",
     "text": [
      "(1, 2, 256, 20)\n"
     ]
    }
   ],
   "source": [
    "sample_as_np_array = np.array([data for data in dataset.take(1)])\n",
    "print(sample_as_np_array.shape)"
   ]
  },
  {
   "cell_type": "code",
   "execution_count": 39,
   "id": "7ad6265b",
   "metadata": {},
   "outputs": [
    {
     "name": "stdout",
     "output_type": "stream",
     "text": [
      "<class 'tensorflow.python.framework.ops.EagerTensor'>\n",
      "(256, 20, 7001)\n"
     ]
    }
   ],
   "source": [
    "prd_sample = model(src_sample)\n",
    "print(type(prd_sample))\n",
    "prd_sample_as_np_array = np.array([data for data in prd_sample])\n",
    "print(prd_sample.shape)"
   ]
  },
  {
   "cell_type": "markdown",
   "id": "1ab0ef24",
   "metadata": {},
   "source": [
    "- 이 모델의 입력값은 `src_sample`이다.\n",
    "  - `src_sample`의 shape은 (1, 1, 256, 20)으로 추정된다.\n",
    "- 이 모델의 입력값에 대한 라벨은 `tgt_sample`이다.\n",
    "  - `tgt_sample`의 shape은 (1, 1, 256, 20)으로 추정된다.\n",
    "  - `src_sample`과 `tgt_sample`은 `dataset.take(1)`와 같은 명령어로 한꺼번에 불러와진다.\n",
    "  - `dataset.take(1)`의 shape은 (1, 2, 256, 20)이다.\n",
    "  - `dataset`의 shape은 (93, 2, 256, 20)이었다.\n",
    "  이때 각각의 rank는 `steps_per_epoch`, src/tgt, 배치의 크기, 문장의 길이 (단어의 최대 개수)를 나타낸다.\n",
    "  - `dataset.take(1)`는 `dataset`의 첫번째 step까지를 포착한 것이다.\n",
    "- 이 모델의 출력값인 `model(src_sample)`을 `prd_sample`로 두었다.\n",
    "  - `prd_sample`의 shape은 (256, 20, 7001)로 추정된다.\n",
    "  - 앞의 256과 20의 의미에 대해서는 명확하다.\n",
    "  각각 배치 사이즈와 문장 길이이다.\n",
    "  - 7001은 예측할 단어를 one-hot vector로 표현했기 때문에 나타나는 것 같다.\n",
    "  - 즉, 이 tensor의 `[a,b,:]`는 7001차원의 one-hot vector가 나타날 것이다.\n",
    "  이 벡터는 a번째 배치의 b번째 문장이 주어졌을 때, 그 다음으로 나올 단어에 대한 one-hot vector일 것이다.\n",
    "  - 그러니까, `tgt_sample`과 `prd_sample`의 shape이 서로 다르다.\n",
    "  따라서 `prd_sample`에 대한 어떤 종류의 처리가 앞으로 필요할 것이다.\n",
    "- 위의 논리를 통해서 보면, dataset은 (그중에서도 src에 해당하는 부분은) 다음과 같은 hierachy가 존재함을 알 수 있다.\n",
    "\n",
    "dataset (93, 2, 256, 20)\n",
    "\n",
    "├── batch 1 (2, 256, 20)\n",
    "\n",
    "    ├── src (256, 20)\n",
    "\n",
    "        ├── sentence 1 (20,)\n",
    "\n",
    "        ：\n",
    "\n",
    "        └── sentence 20 (20,)\n",
    "\n",
    "    ：\n",
    "\n",
    "    └── tgt (256, 20)\n",
    "\n",
    "        ├── sentence 1 (20,)\n",
    "\n",
    "        ：\n",
    "\n",
    "        └── sentence 20 (20,)\n",
    "\n",
    "：\n",
    "\n",
    "├── batch 93 (2, 256, 20)\n",
    "\n",
    "    ├── src (256, 20)\n",
    "\n",
    "        ├── sentence 1 (20,)\n",
    "\n",
    "        ：\n",
    "\n",
    "        └── sentence 20 (20,)\n",
    "\n",
    "    ：\n",
    "\n",
    "    └── tgt (256, 20)\n",
    "\n",
    "        ├── sentence 1 (20,)\n",
    "\n",
    "        ：\n",
    "\n",
    "        └── sentence 20 (20,)"
   ]
  },
  {
   "cell_type": "markdown",
   "id": "246e0d62",
   "metadata": {},
   "source": [
    "### "
   ]
  },
  {
   "cell_type": "code",
   "execution_count": 13,
   "id": "81f4d736",
   "metadata": {
    "collapsed": true
   },
   "outputs": [
    {
     "name": "stdout",
     "output_type": "stream",
     "text": [
      "Model: \"text_generator\"\n",
      "_________________________________________________________________\n",
      "Layer (type)                 Output Shape              Param #   \n",
      "=================================================================\n",
      "embedding (Embedding)        multiple                  1792256   \n",
      "_________________________________________________________________\n",
      "lstm (LSTM)                  multiple                  5246976   \n",
      "_________________________________________________________________\n",
      "lstm_1 (LSTM)                multiple                  8392704   \n",
      "_________________________________________________________________\n",
      "dense (Dense)                multiple                  7176025   \n",
      "=================================================================\n",
      "Total params: 22,607,961\n",
      "Trainable params: 22,607,961\n",
      "Non-trainable params: 0\n",
      "_________________________________________________________________\n"
     ]
    }
   ],
   "source": [
    "# 모델의 구조를 확인합니다.\n",
    "model.summary()"
   ]
  },
  {
   "cell_type": "markdown",
   "id": "c3055db3",
   "metadata": {},
   "source": [
    "### `model.fit`, `model.compile`"
   ]
  },
  {
   "cell_type": "code",
   "execution_count": 40,
   "id": "2b265866",
   "metadata": {},
   "outputs": [
    {
     "name": "stdout",
     "output_type": "stream",
     "text": [
      "Epoch 1/30\n",
      "93/93 [==============================] - 19s 180ms/step - loss: 3.4687\n",
      "Epoch 2/30\n",
      "93/93 [==============================] - 18s 188ms/step - loss: 2.8019\n",
      "Epoch 3/30\n",
      "93/93 [==============================] - 19s 200ms/step - loss: 2.6990\n",
      "Epoch 4/30\n",
      "93/93 [==============================] - 19s 206ms/step - loss: 2.5956\n",
      "Epoch 5/30\n",
      "93/93 [==============================] - 19s 199ms/step - loss: 2.5294\n",
      "Epoch 6/30\n",
      "93/93 [==============================] - 18s 195ms/step - loss: 2.4764\n",
      "Epoch 7/30\n",
      "93/93 [==============================] - 18s 198ms/step - loss: 2.4202\n",
      "Epoch 8/30\n",
      "93/93 [==============================] - 19s 200ms/step - loss: 2.3670\n",
      "Epoch 9/30\n",
      "93/93 [==============================] - 19s 201ms/step - loss: 2.3153\n",
      "Epoch 10/30\n",
      "93/93 [==============================] - 19s 200ms/step - loss: 2.2641\n",
      "Epoch 11/30\n",
      "93/93 [==============================] - 19s 199ms/step - loss: 2.2150\n",
      "Epoch 12/30\n",
      "93/93 [==============================] - 19s 199ms/step - loss: 2.1685\n",
      "Epoch 13/30\n",
      "93/93 [==============================] - 19s 199ms/step - loss: 2.1217\n",
      "Epoch 14/30\n",
      "93/93 [==============================] - 19s 199ms/step - loss: 2.0747\n",
      "Epoch 15/30\n",
      "93/93 [==============================] - 19s 199ms/step - loss: 2.0284\n",
      "Epoch 16/30\n",
      "93/93 [==============================] - 19s 200ms/step - loss: 1.9806\n",
      "Epoch 17/30\n",
      "93/93 [==============================] - 19s 200ms/step - loss: 1.9327\n",
      "Epoch 18/30\n",
      "93/93 [==============================] - 19s 200ms/step - loss: 1.8850\n",
      "Epoch 19/30\n",
      "93/93 [==============================] - 19s 200ms/step - loss: 1.8362\n",
      "Epoch 20/30\n",
      "93/93 [==============================] - 19s 201ms/step - loss: 1.7867\n",
      "Epoch 21/30\n",
      "93/93 [==============================] - 19s 200ms/step - loss: 1.7379\n",
      "Epoch 22/30\n",
      "93/93 [==============================] - 19s 200ms/step - loss: 1.6898\n",
      "Epoch 23/30\n",
      "93/93 [==============================] - 19s 200ms/step - loss: 1.6397\n",
      "Epoch 24/30\n",
      "93/93 [==============================] - 19s 200ms/step - loss: 1.5916\n",
      "Epoch 25/30\n",
      "93/93 [==============================] - 19s 200ms/step - loss: 1.5421\n",
      "Epoch 26/30\n",
      "93/93 [==============================] - 19s 200ms/step - loss: 1.4923\n",
      "Epoch 27/30\n",
      "93/93 [==============================] - 19s 200ms/step - loss: 1.4437\n",
      "Epoch 28/30\n",
      "93/93 [==============================] - 19s 200ms/step - loss: 1.3929\n",
      "Epoch 29/30\n",
      "93/93 [==============================] - 19s 201ms/step - loss: 1.3418\n",
      "Epoch 30/30\n",
      "93/93 [==============================] - 19s 201ms/step - loss: 1.2891\n"
     ]
    },
    {
     "data": {
      "text/plain": [
       "<keras.callbacks.History at 0x7f2100dce520>"
      ]
     },
     "execution_count": 40,
     "metadata": {},
     "output_type": "execute_result"
    }
   ],
   "source": [
    "# optimizer와 loss등은 차차 배웁니다\n",
    "# 혹시 미리 알고 싶다면 아래 문서를 참고하세요\n",
    "# https://www.tensorflow.org/api_docs/python/tf/keras/optimizers\n",
    "# https://www.tensorflow.org/api_docs/python/tf/keras/losses\n",
    "# 양이 상당히 많은 편이니 지금 보는 것은 추천하지 않습니다\n",
    "\n",
    "# Adam 알고리즘을 구현하는 optimzier이며 어떤 optimzier를 써야할지 모른다면 Adam을 쓰는 것도 방법이다.\n",
    "# 우리가 학습을 할 때 최대한 틀리지 않는 방향으로 학습을 해야한다.\n",
    "# 여기서 얼마나 틀리는지(loss)를 알게하는 함수가 손실함수 이다.\n",
    "# 이 손실함수의 최소값을 찾는 것을 학습의 목표로 하며 여기서 최소값을 찾아가는 과정을 optimization 이라하고\n",
    "# 이를 수행하는 알고리즘을 optimizer(최적화)라고 한다.\n",
    "\n",
    "optimizer = tf.keras.optimizers.Adam() # Adam은 현재 가장 많이 사용하는 옵티마이저이다. 자세한 내용은 차차 배운다.\n",
    "loss = tf.keras.losses.SparseCategoricalCrossentropy( # 훈련 데이터의 라벨이 정수의 형태로 제공될 때 사용하는 손실함수이다.\n",
    "    from_logits=True, # 기본값은 False이다. 모델에 의해 생성된 출력 값이 정규화되지 않았음을 손실 함수에 알려준다. 즉 softmax함수가 적용되지 않았다는걸 의미한다. \n",
    "    reduction='none'  # 기본값은 SUM이다. 각자 나오는 값의 반환 원할 때 None을 사용한다.\n",
    ")\n",
    "# 모델을 학습시키키 위한 학습과정을 설정하는 단계이다.\n",
    "model.compile(loss=loss, optimizer=optimizer) # 손실함수와 훈련과정을 설정했다.\n",
    "model.fit(dataset, epochs=30) # 만들어둔 데이터셋으로 모델을 학습한다. 30번 학습을 반복하겠다는 의미다."
   ]
  },
  {
   "cell_type": "markdown",
   "id": "67cf1eae",
   "metadata": {},
   "source": [
    "## 실습 (3) 잘 만들어졌는지 평가하기"
   ]
  },
  {
   "cell_type": "markdown",
   "id": "3a7c53fc",
   "metadata": {},
   "source": [
    "### "
   ]
  },
  {
   "cell_type": "code",
   "execution_count": 41,
   "id": "8baeb8ed",
   "metadata": {},
   "outputs": [],
   "source": [
    "#문장생성 함수 정의\n",
    "#모델에게 시작 문장을 전달하면 모델이 시작 문장을 바탕으로 작문을 진행\n",
    "def generate_text(model, tokenizer, init_sentence=\"<start>\", max_len=20): #시작 문자열을 init_sentence 로 받으며 디폴트값은 <start> 를 받는다\n",
    "    # 테스트를 위해서 입력받은 init_sentence도 텐서로 변환합니다\n",
    "    test_input = tokenizer.texts_to_sequences([init_sentence]) #텍스트 안의 단어들을 숫자의 시퀀스의 형태로 변환\n",
    "    test_tensor = tf.convert_to_tensor(test_input, dtype=tf.int64)\n",
    "    end_token = tokenizer.word_index[\"<end>\"]\n",
    "\n",
    "    # 단어 하나씩 예측해 문장을 만듭니다\n",
    "    #    1. 입력받은 문장의 텐서를 입력합니다\n",
    "    #    2. 예측된 값 중 가장 높은 확률인 word index를 뽑아냅니다\n",
    "    #    3. 2에서 예측된 word index를 문장 뒤에 붙입니다\n",
    "    #    4. 모델이 <end>를 예측했거나, max_len에 도달했다면 문장 생성을 마칩니다 (도달 하지 못하였으면 while 루프를 돌면서 다음 단어를 예측)\n",
    "    while True: #루프를 돌면서 init_sentence에 단어를 하나씩 생성성\n",
    "        # 1\n",
    "        predict = model(test_tensor) \n",
    "        # 2\n",
    "        predict_word = tf.argmax(tf.nn.softmax(predict, axis=-1), axis=-1)[:, -1] \n",
    "        # 3 \n",
    "        test_tensor = tf.concat([test_tensor, tf.expand_dims(predict_word, axis=0)], axis=-1)\n",
    "        # 4 \n",
    "        if predict_word.numpy()[0] == end_token: break\n",
    "        if test_tensor.shape[1] >= max_len: break\n",
    "\n",
    "    generated = \"\"\n",
    "    # tokenizer를 이용해 word index를 단어로 하나씩 변환합니다 \n",
    "    for word_index in test_tensor[0].numpy():\n",
    "        generated += tokenizer.index_word[word_index] + \" \"\n",
    "\n",
    "    return generated #최종적으로 모델이 생성한 문장을 반환"
   ]
  },
  {
   "cell_type": "code",
   "execution_count": 42,
   "id": "511779ab",
   "metadata": {},
   "outputs": [],
   "source": [
    "init_sentence = \"<start> he sat on\""
   ]
  },
  {
   "cell_type": "code",
   "execution_count": 43,
   "id": "4beb9b32",
   "metadata": {},
   "outputs": [],
   "source": [
    "test_input = tokenizer.texts_to_sequences([init_sentence])"
   ]
  },
  {
   "cell_type": "code",
   "execution_count": 44,
   "id": "9d945feb",
   "metadata": {},
   "outputs": [
    {
     "data": {
      "text/plain": [
       "[[2, 27, 3180, 52]]"
      ]
     },
     "execution_count": 44,
     "metadata": {},
     "output_type": "execute_result"
    }
   ],
   "source": [
    "test_input"
   ]
  },
  {
   "cell_type": "code",
   "execution_count": 45,
   "id": "a6dee895",
   "metadata": {},
   "outputs": [],
   "source": [
    "test_tensor = tf.convert_to_tensor(test_input, dtype=tf.int64)"
   ]
  },
  {
   "cell_type": "code",
   "execution_count": 46,
   "id": "79c1f8fe",
   "metadata": {},
   "outputs": [
    {
     "data": {
      "text/plain": [
       "<tf.Tensor: shape=(1, 4), dtype=int64, numpy=array([[   2,   27, 3180,   52]])>"
      ]
     },
     "execution_count": 46,
     "metadata": {},
     "output_type": "execute_result"
    }
   ],
   "source": [
    "test_tensor"
   ]
  },
  {
   "cell_type": "code",
   "execution_count": 47,
   "id": "337502e1",
   "metadata": {},
   "outputs": [
    {
     "data": {
      "text/plain": [
       "3"
      ]
     },
     "execution_count": 47,
     "metadata": {},
     "output_type": "execute_result"
    }
   ],
   "source": [
    "end_token = tokenizer.word_index[\"<end>\"]\n",
    "end_token"
   ]
  },
  {
   "cell_type": "code",
   "execution_count": 48,
   "id": "996a19ce",
   "metadata": {},
   "outputs": [
    {
     "data": {
      "text/plain": [
       "<tf.Tensor: shape=(1, 4, 7001), dtype=float32, numpy=\n",
       "array([[[ -3.051416 ,   3.696951 ,  -8.831473 , ...,  -8.811118 ,\n",
       "          -8.012525 ,  -8.651165 ],\n",
       "        [ -3.2565126,   5.6126227,  -9.304058 , ..., -11.500596 ,\n",
       "         -14.960632 ,  -9.114545 ],\n",
       "        [ -4.4368005,   4.350048 , -11.46468  , ..., -12.195612 ,\n",
       "          -8.785845 , -11.178638 ],\n",
       "        [ -4.5176725,   3.8872557, -11.611043 , ...,  -8.24683  ,\n",
       "          -5.747051 , -11.250833 ]]], dtype=float32)>"
      ]
     },
     "execution_count": 48,
     "metadata": {},
     "output_type": "execute_result"
    }
   ],
   "source": [
    "predict = model(test_tensor)\n",
    "predict"
   ]
  },
  {
   "cell_type": "code",
   "execution_count": 53,
   "id": "74506dbc",
   "metadata": {},
   "outputs": [
    {
     "data": {
      "text/plain": [
       "<tf.Tensor: shape=(10,), dtype=float32, numpy=\n",
       "array([-3.051416  ,  3.696951  , -8.831473  , -0.98473465, -4.0406938 ,\n",
       "       -5.806791  ,  4.6388636 ,  5.161111  ,  5.045443  ,  4.4601064 ],\n",
       "      dtype=float32)>"
      ]
     },
     "execution_count": 53,
     "metadata": {},
     "output_type": "execute_result"
    }
   ],
   "source": [
    "predict[0,0,:10]"
   ]
  },
  {
   "cell_type": "code",
   "execution_count": 49,
   "id": "01f3a84c",
   "metadata": {},
   "outputs": [
    {
     "data": {
      "text/plain": [
       "<tf.Tensor: shape=(1, 4, 7001), dtype=float32, numpy=\n",
       "array([[[1.7487160e-05, 1.4910685e-02, 5.4009732e-08, ...,\n",
       "         5.5120374e-08, 1.2250024e-07, 6.4681338e-08],\n",
       "        [2.8071127e-06, 1.9956132e-02, 6.6350503e-09, ...,\n",
       "         7.3773343e-10, 2.3185969e-11, 8.0195193e-09],\n",
       "        [2.8612494e-06, 1.8734207e-02, 2.5373847e-09, ...,\n",
       "         1.2216492e-09, 3.6964902e-08, 3.3776331e-09],\n",
       "        [1.2564150e-06, 5.6149671e-03, 1.0435698e-09, ...,\n",
       "         3.0170398e-08, 3.6746937e-07, 1.4960939e-09]]], dtype=float32)>"
      ]
     },
     "execution_count": 49,
     "metadata": {},
     "output_type": "execute_result"
    }
   ],
   "source": [
    "tf.nn.softmax(predict, axis = -1)"
   ]
  },
  {
   "cell_type": "code",
   "execution_count": 54,
   "id": "657efff2",
   "metadata": {},
   "outputs": [
    {
     "data": {
      "text/plain": [
       "<tf.Tensor: shape=(10,), dtype=float32, numpy=\n",
       "array([1.7487160e-05, 1.4910685e-02, 5.4009732e-08, 1.3812345e-04,\n",
       "       6.5025092e-06, 1.1119242e-06, 3.8244151e-02, 6.4472444e-02,\n",
       "       5.7430193e-02, 3.1983927e-02], dtype=float32)>"
      ]
     },
     "execution_count": 54,
     "metadata": {},
     "output_type": "execute_result"
    }
   ],
   "source": [
    "tf.nn.softmax(predict, axis = -1)[0,0,:10]"
   ]
  },
  {
   "cell_type": "code",
   "execution_count": 50,
   "id": "6badfa15",
   "metadata": {},
   "outputs": [
    {
     "data": {
      "text/plain": [
       "<tf.Tensor: shape=(1, 4), dtype=int64, numpy=array([[ 7, 18,  4, 24]])>"
      ]
     },
     "execution_count": 50,
     "metadata": {},
     "output_type": "execute_result"
    }
   ],
   "source": [
    "tf.argmax(tf.nn.softmax(predict, axis = -1),axis=-1)"
   ]
  },
  {
   "cell_type": "code",
   "execution_count": 30,
   "id": "591b491e",
   "metadata": {},
   "outputs": [
    {
     "data": {
      "text/plain": [
       "<tf.Tensor: shape=(1,), dtype=int64, numpy=array([24])>"
      ]
     },
     "execution_count": 30,
     "metadata": {},
     "output_type": "execute_result"
    }
   ],
   "source": [
    "tf.argmax(tf.nn.softmax(predict, axis = -1),axis=-1)[:,-1]"
   ]
  },
  {
   "cell_type": "code",
   "execution_count": 55,
   "id": "949fc188",
   "metadata": {},
   "outputs": [],
   "source": [
    "predict_word = tf.argmax(tf.nn.softmax(predict, axis=-1), axis=-1)[:, -1]"
   ]
  },
  {
   "cell_type": "code",
   "execution_count": 56,
   "id": "384386f6",
   "metadata": {},
   "outputs": [
    {
     "data": {
      "text/plain": [
       "<tf.Tensor: shape=(1,), dtype=int64, numpy=array([24])>"
      ]
     },
     "execution_count": 56,
     "metadata": {},
     "output_type": "execute_result"
    }
   ],
   "source": [
    "predict_word"
   ]
  },
  {
   "cell_type": "code",
   "execution_count": 57,
   "id": "8f18f80e",
   "metadata": {},
   "outputs": [
    {
     "data": {
      "text/plain": [
       "<tf.Tensor: shape=(1, 4), dtype=int64, numpy=array([[   2,   27, 3180,   52]])>"
      ]
     },
     "execution_count": 57,
     "metadata": {},
     "output_type": "execute_result"
    }
   ],
   "source": [
    "test_tensor"
   ]
  },
  {
   "cell_type": "code",
   "execution_count": 58,
   "id": "88a5a1da",
   "metadata": {
    "scrolled": true
   },
   "outputs": [
    {
     "data": {
      "text/plain": [
       "<tf.Tensor: shape=(1, 1), dtype=int64, numpy=array([[24]])>"
      ]
     },
     "execution_count": 58,
     "metadata": {},
     "output_type": "execute_result"
    }
   ],
   "source": [
    "tf.expand_dims(predict_word,axis=0)"
   ]
  },
  {
   "cell_type": "code",
   "execution_count": 59,
   "id": "86962744",
   "metadata": {},
   "outputs": [
    {
     "data": {
      "text/plain": [
       "<tf.Tensor: shape=(1, 5), dtype=int64, numpy=array([[   2,   27, 3180,   52,   24]])>"
      ]
     },
     "execution_count": 59,
     "metadata": {},
     "output_type": "execute_result"
    }
   ],
   "source": [
    "test_tensor = tf.concat([test_tensor, tf.expand_dims(predict_word, axis=0)], axis=-1)\n",
    "test_tensor"
   ]
  },
  {
   "cell_type": "code",
   "execution_count": 60,
   "id": "13c499b2",
   "metadata": {},
   "outputs": [
    {
     "data": {
      "text/plain": [
       "<tf.Tensor: shape=(1, 5, 7001), dtype=float32, numpy=\n",
       "array([[[ -3.0514162,   3.696951 ,  -8.831473 , ...,  -8.811117 ,\n",
       "          -8.012525 ,  -8.651165 ],\n",
       "        [ -3.2565129,   5.6126227,  -9.304058 , ..., -11.500596 ,\n",
       "         -14.960633 ,  -9.114545 ],\n",
       "        [ -4.4368005,   4.350048 , -11.464679 , ..., -12.195612 ,\n",
       "          -8.785845 , -11.178638 ],\n",
       "        [ -4.517672 ,   3.8872557, -11.611043 , ...,  -8.24683  ,\n",
       "          -5.7470512, -11.250833 ],\n",
       "        [ -1.6840702,   2.3764992, -12.582758 , ..., -17.401278 ,\n",
       "         -17.443468 , -12.404248 ]]], dtype=float32)>"
      ]
     },
     "execution_count": 60,
     "metadata": {},
     "output_type": "execute_result"
    }
   ],
   "source": [
    "predict = model(test_tensor)\n",
    "predict"
   ]
  },
  {
   "cell_type": "code",
   "execution_count": 61,
   "id": "2feaa320",
   "metadata": {},
   "outputs": [
    {
     "data": {
      "text/plain": [
       "<tf.Tensor: shape=(10,), dtype=float32, numpy=\n",
       "array([-3.0514162,  3.696951 , -8.831473 , -0.9847348, -4.0406938,\n",
       "       -5.806791 ,  4.6388636,  5.161111 ,  5.045443 ,  4.4601064],\n",
       "      dtype=float32)>"
      ]
     },
     "execution_count": 61,
     "metadata": {},
     "output_type": "execute_result"
    }
   ],
   "source": [
    "predict[0,0,:10]"
   ]
  },
  {
   "cell_type": "code",
   "execution_count": 62,
   "id": "02a46cab",
   "metadata": {},
   "outputs": [
    {
     "data": {
      "text/plain": [
       "<tf.Tensor: shape=(1, 5, 7001), dtype=float32, numpy=\n",
       "array([[[1.7487144e-05, 1.4910685e-02, 5.4009732e-08, ...,\n",
       "         5.5120431e-08, 1.2250024e-07, 6.4681338e-08],\n",
       "        [2.8071124e-06, 1.9956131e-02, 6.6350498e-09, ...,\n",
       "         7.3773337e-10, 2.3185922e-11, 8.0195184e-09],\n",
       "        [2.8612467e-06, 1.8734209e-02, 2.5373872e-09, ...,\n",
       "         1.2216480e-09, 3.6964902e-08, 3.3776362e-09],\n",
       "        [1.2564160e-06, 5.6149671e-03, 1.0435707e-09, ...,\n",
       "         3.0170366e-08, 3.6746897e-07, 1.4960951e-09],\n",
       "        [3.4399192e-05, 1.9954059e-03, 6.3578232e-10, ...,\n",
       "         5.1363189e-12, 4.9241227e-12, 7.6003687e-10]]], dtype=float32)>"
      ]
     },
     "execution_count": 62,
     "metadata": {},
     "output_type": "execute_result"
    }
   ],
   "source": [
    "tf.nn.softmax(predict, axis = -1)"
   ]
  },
  {
   "cell_type": "code",
   "execution_count": 63,
   "id": "9e8a8a68",
   "metadata": {},
   "outputs": [
    {
     "data": {
      "text/plain": [
       "<tf.Tensor: shape=(10,), dtype=float32, numpy=\n",
       "array([1.7487144e-05, 1.4910685e-02, 5.4009732e-08, 1.3812345e-04,\n",
       "       6.5025092e-06, 1.1119242e-06, 3.8244151e-02, 6.4472444e-02,\n",
       "       5.7430193e-02, 3.1983927e-02], dtype=float32)>"
      ]
     },
     "execution_count": 63,
     "metadata": {},
     "output_type": "execute_result"
    }
   ],
   "source": [
    "tf.nn.softmax(predict, axis = -1)[0,0,:10]"
   ]
  },
  {
   "cell_type": "code",
   "execution_count": 64,
   "id": "5d60d09f",
   "metadata": {},
   "outputs": [
    {
     "data": {
      "text/plain": [
       "<tf.Tensor: shape=(1, 5), dtype=int64, numpy=array([[ 7, 18,  4, 24,  4]])>"
      ]
     },
     "execution_count": 64,
     "metadata": {},
     "output_type": "execute_result"
    }
   ],
   "source": [
    "tf.argmax(tf.nn.softmax(predict, axis = -1),axis=-1)"
   ]
  },
  {
   "cell_type": "code",
   "execution_count": 65,
   "id": "79c675a9",
   "metadata": {},
   "outputs": [
    {
     "data": {
      "text/plain": [
       "<tf.Tensor: shape=(1,), dtype=int64, numpy=array([4])>"
      ]
     },
     "execution_count": 65,
     "metadata": {},
     "output_type": "execute_result"
    }
   ],
   "source": [
    "tf.argmax(tf.nn.softmax(predict, axis = -1),axis=-1)[:,-1]"
   ]
  },
  {
   "cell_type": "code",
   "execution_count": 66,
   "id": "6775013d",
   "metadata": {},
   "outputs": [],
   "source": [
    "predict_word = tf.argmax(tf.nn.softmax(predict, axis=-1), axis=-1)[:, -1]"
   ]
  },
  {
   "cell_type": "code",
   "execution_count": 67,
   "id": "ef555c57",
   "metadata": {},
   "outputs": [
    {
     "data": {
      "text/plain": [
       "<tf.Tensor: shape=(1,), dtype=int64, numpy=array([4])>"
      ]
     },
     "execution_count": 67,
     "metadata": {},
     "output_type": "execute_result"
    }
   ],
   "source": [
    "predict_word"
   ]
  },
  {
   "cell_type": "code",
   "execution_count": 68,
   "id": "4bd9cc7c",
   "metadata": {},
   "outputs": [
    {
     "data": {
      "text/plain": [
       "<tf.Tensor: shape=(1, 5), dtype=int64, numpy=array([[   2,   27, 3180,   52,   24]])>"
      ]
     },
     "execution_count": 68,
     "metadata": {},
     "output_type": "execute_result"
    }
   ],
   "source": [
    "test_tensor"
   ]
  },
  {
   "cell_type": "code",
   "execution_count": 69,
   "id": "1f663122",
   "metadata": {
    "scrolled": true
   },
   "outputs": [
    {
     "data": {
      "text/plain": [
       "<tf.Tensor: shape=(1, 1), dtype=int64, numpy=array([[4]])>"
      ]
     },
     "execution_count": 69,
     "metadata": {},
     "output_type": "execute_result"
    }
   ],
   "source": [
    "tf.expand_dims(predict_word,axis=0)"
   ]
  },
  {
   "cell_type": "code",
   "execution_count": 70,
   "id": "b24aaf88",
   "metadata": {},
   "outputs": [
    {
     "data": {
      "text/plain": [
       "<tf.Tensor: shape=(1, 6), dtype=int64, numpy=array([[   2,   27, 3180,   52,   24,    4]])>"
      ]
     },
     "execution_count": 70,
     "metadata": {},
     "output_type": "execute_result"
    }
   ],
   "source": [
    "test_tensor = tf.concat([test_tensor, tf.expand_dims(predict_word, axis=0)], axis=-1)\n",
    "test_tensor"
   ]
  },
  {
   "cell_type": "markdown",
   "id": "2680f1ae",
   "metadata": {},
   "source": [
    "### "
   ]
  },
  {
   "cell_type": "code",
   "execution_count": 73,
   "id": "829c5bc1",
   "metadata": {},
   "outputs": [
    {
     "data": {
      "text/plain": [
       "'<start> he sat on me , and i am sure of all . <end> '"
      ]
     },
     "execution_count": 73,
     "metadata": {},
     "output_type": "execute_result"
    }
   ],
   "source": [
    "generate_text(model, tokenizer, init_sentence=\"<start> he sat on\") # 시작문장으로 he를 넣어 문장생성 함수 실행"
   ]
  },
  {
   "cell_type": "markdown",
   "id": "033798bd",
   "metadata": {},
   "source": [
    "## 프로젝트 : 멋진 작사가 만들기"
   ]
  },
  {
   "cell_type": "markdown",
   "id": "2ad8c24b",
   "metadata": {},
   "source": [
    "## 프로젝트 제출"
   ]
  },
  {
   "cell_type": "markdown",
   "id": "231b865d",
   "metadata": {},
   "source": []
  }
 ],
 "metadata": {
  "kernelspec": {
   "display_name": "Python 3 (ipykernel)",
   "language": "python",
   "name": "python3"
  },
  "language_info": {
   "codemirror_mode": {
    "name": "ipython",
    "version": 3
   },
   "file_extension": ".py",
   "mimetype": "text/x-python",
   "name": "python",
   "nbconvert_exporter": "python",
   "pygments_lexer": "ipython3",
   "version": "3.9.7"
  },
  "toc": {
   "base_numbering": 1,
   "nav_menu": {},
   "number_sections": true,
   "sideBar": true,
   "skip_h1_title": false,
   "title_cell": "Table of Contents",
   "title_sidebar": "Contents",
   "toc_cell": false,
   "toc_position": {
    "height": "calc(100% - 180px)",
    "left": "10px",
    "top": "150px",
    "width": "280.438px"
   },
   "toc_section_display": true,
   "toc_window_display": false
  }
 },
 "nbformat": 4,
 "nbformat_minor": 5
}
