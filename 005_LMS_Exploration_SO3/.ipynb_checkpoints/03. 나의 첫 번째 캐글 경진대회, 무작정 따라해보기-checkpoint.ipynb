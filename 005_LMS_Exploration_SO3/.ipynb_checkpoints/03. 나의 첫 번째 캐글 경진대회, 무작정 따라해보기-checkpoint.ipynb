{
 "cells": [
  {
   "cell_type": "markdown",
   "id": "3de9113d",
   "metadata": {},
   "source": [
    "## 3.1. 들어가며"
   ]
  },
  {
   "cell_type": "markdown",
   "id": "0659b3fb",
   "metadata": {},
   "source": [
    "## 3.2. 대회의 시작 (1) 참가 규칙, 평가 기준 살펴보기"
   ]
  },
  {
   "cell_type": "markdown",
   "id": "503e02f7",
   "metadata": {},
   "source": [
    "## 3.3. 대회의 시작 (2) 데이터 살펴보기"
   ]
  },
  {
   "cell_type": "markdown",
   "id": "ae9911c0",
   "metadata": {},
   "source": [
    "## 3.4. 일단 제출하고 시작해! Baseline 모델 (1) Baseline 셋팅하기"
   ]
  },
  {
   "cell_type": "code",
   "execution_count": 1,
   "id": "f04aa578",
   "metadata": {},
   "outputs": [],
   "source": [
    "import matplotlib.pyplot as plt"
   ]
  },
  {
   "cell_type": "markdown",
   "id": "f4cde6d3",
   "metadata": {},
   "source": [
    "## 3.5. 일단 제출하고 시작해! Baseline 모델 (2) 라이브러리, 데이터 가져오기"
   ]
  },
  {
   "cell_type": "code",
   "execution_count": 2,
   "id": "dd324b96",
   "metadata": {},
   "outputs": [
    {
     "name": "stdout",
     "output_type": "stream",
     "text": [
      "얍💢\n"
     ]
    }
   ],
   "source": [
    "import warnings\n",
    "warnings.filterwarnings(\"ignore\")\n",
    "\n",
    "import os\n",
    "from os.path import join\n",
    "\n",
    "import pandas as pd\n",
    "import numpy as np\n",
    "\n",
    "import missingno as msno\n",
    "\n",
    "from sklearn.ensemble import GradientBoostingRegressor\n",
    "from sklearn.model_selection import KFold, cross_val_score\n",
    "import xgboost as xgb\n",
    "import lightgbm as lgb\n",
    "\n",
    "import matplotlib.pyplot as plt\n",
    "import seaborn as sns\n",
    "\n",
    "print('얍💢')"
   ]
  },
  {
   "cell_type": "code",
   "execution_count": 3,
   "id": "f34a7a98",
   "metadata": {},
   "outputs": [
    {
     "name": "stdout",
     "output_type": "stream",
     "text": [
      "/aiffel/aiffel/kaggle_kakr_housing/data/train.csv\n",
      "/aiffel/aiffel/kaggle_kakr_housing/data/test.csv\n"
     ]
    }
   ],
   "source": [
    "data_dir = os.getenv('HOME')+'/aiffel/kaggle_kakr_housing/data'\n",
    "\n",
    "train_data_path = join(data_dir, 'train.csv')\n",
    "sub_data_path = join(data_dir, 'test.csv')      # 테스트, 즉 submission 시 사용할 데이터 경로\n",
    "\n",
    "print(train_data_path)\n",
    "print(sub_data_path)"
   ]
  },
  {
   "cell_type": "markdown",
   "id": "e8a35d85",
   "metadata": {},
   "source": [
    "## 3.6. 일단 제출하고 시작해! Baseline 모델 (3) 데이터 이해하기"
   ]
  },
  {
   "cell_type": "code",
   "execution_count": 4,
   "id": "6e35c91d",
   "metadata": {},
   "outputs": [
    {
     "name": "stdout",
     "output_type": "stream",
     "text": [
      "train data dim : (15035, 21)\n",
      "sub data dim : (6555, 20)\n"
     ]
    }
   ],
   "source": [
    "data = pd.read_csv('03/data/train.csv')\n",
    "sub = pd.read_csv('03/data/test.csv')\n",
    "print('train data dim : {}'.format(data.shape))\n",
    "print('sub data dim : {}'.format(sub.shape))"
   ]
  },
  {
   "cell_type": "code",
   "execution_count": 5,
   "id": "faedf28e",
   "metadata": {},
   "outputs": [
    {
     "data": {
      "text/html": [
       "<div>\n",
       "<style scoped>\n",
       "    .dataframe tbody tr th:only-of-type {\n",
       "        vertical-align: middle;\n",
       "    }\n",
       "\n",
       "    .dataframe tbody tr th {\n",
       "        vertical-align: top;\n",
       "    }\n",
       "\n",
       "    .dataframe thead th {\n",
       "        text-align: right;\n",
       "    }\n",
       "</style>\n",
       "<table border=\"1\" class=\"dataframe\">\n",
       "  <thead>\n",
       "    <tr style=\"text-align: right;\">\n",
       "      <th></th>\n",
       "      <th>id</th>\n",
       "      <th>date</th>\n",
       "      <th>price</th>\n",
       "      <th>bedrooms</th>\n",
       "      <th>bathrooms</th>\n",
       "      <th>sqft_living</th>\n",
       "      <th>sqft_lot</th>\n",
       "      <th>floors</th>\n",
       "      <th>waterfront</th>\n",
       "      <th>view</th>\n",
       "      <th>condition</th>\n",
       "      <th>grade</th>\n",
       "      <th>sqft_above</th>\n",
       "      <th>sqft_basement</th>\n",
       "      <th>yr_built</th>\n",
       "      <th>yr_renovated</th>\n",
       "      <th>zipcode</th>\n",
       "      <th>lat</th>\n",
       "      <th>long</th>\n",
       "      <th>sqft_living15</th>\n",
       "      <th>sqft_lot15</th>\n",
       "    </tr>\n",
       "  </thead>\n",
       "  <tbody>\n",
       "    <tr>\n",
       "      <th>0</th>\n",
       "      <td>0</td>\n",
       "      <td>20141013T000000</td>\n",
       "      <td>221900.0</td>\n",
       "      <td>3</td>\n",
       "      <td>1.00</td>\n",
       "      <td>1180</td>\n",
       "      <td>5650</td>\n",
       "      <td>1.0</td>\n",
       "      <td>0</td>\n",
       "      <td>0</td>\n",
       "      <td>3</td>\n",
       "      <td>7</td>\n",
       "      <td>1180</td>\n",
       "      <td>0</td>\n",
       "      <td>1955</td>\n",
       "      <td>0</td>\n",
       "      <td>98178</td>\n",
       "      <td>47.5112</td>\n",
       "      <td>-122.257</td>\n",
       "      <td>1340</td>\n",
       "      <td>5650</td>\n",
       "    </tr>\n",
       "    <tr>\n",
       "      <th>1</th>\n",
       "      <td>1</td>\n",
       "      <td>20150225T000000</td>\n",
       "      <td>180000.0</td>\n",
       "      <td>2</td>\n",
       "      <td>1.00</td>\n",
       "      <td>770</td>\n",
       "      <td>10000</td>\n",
       "      <td>1.0</td>\n",
       "      <td>0</td>\n",
       "      <td>0</td>\n",
       "      <td>3</td>\n",
       "      <td>6</td>\n",
       "      <td>770</td>\n",
       "      <td>0</td>\n",
       "      <td>1933</td>\n",
       "      <td>0</td>\n",
       "      <td>98028</td>\n",
       "      <td>47.7379</td>\n",
       "      <td>-122.233</td>\n",
       "      <td>2720</td>\n",
       "      <td>8062</td>\n",
       "    </tr>\n",
       "    <tr>\n",
       "      <th>2</th>\n",
       "      <td>2</td>\n",
       "      <td>20150218T000000</td>\n",
       "      <td>510000.0</td>\n",
       "      <td>3</td>\n",
       "      <td>2.00</td>\n",
       "      <td>1680</td>\n",
       "      <td>8080</td>\n",
       "      <td>1.0</td>\n",
       "      <td>0</td>\n",
       "      <td>0</td>\n",
       "      <td>3</td>\n",
       "      <td>8</td>\n",
       "      <td>1680</td>\n",
       "      <td>0</td>\n",
       "      <td>1987</td>\n",
       "      <td>0</td>\n",
       "      <td>98074</td>\n",
       "      <td>47.6168</td>\n",
       "      <td>-122.045</td>\n",
       "      <td>1800</td>\n",
       "      <td>7503</td>\n",
       "    </tr>\n",
       "    <tr>\n",
       "      <th>3</th>\n",
       "      <td>3</td>\n",
       "      <td>20140627T000000</td>\n",
       "      <td>257500.0</td>\n",
       "      <td>3</td>\n",
       "      <td>2.25</td>\n",
       "      <td>1715</td>\n",
       "      <td>6819</td>\n",
       "      <td>2.0</td>\n",
       "      <td>0</td>\n",
       "      <td>0</td>\n",
       "      <td>3</td>\n",
       "      <td>7</td>\n",
       "      <td>1715</td>\n",
       "      <td>0</td>\n",
       "      <td>1995</td>\n",
       "      <td>0</td>\n",
       "      <td>98003</td>\n",
       "      <td>47.3097</td>\n",
       "      <td>-122.327</td>\n",
       "      <td>2238</td>\n",
       "      <td>6819</td>\n",
       "    </tr>\n",
       "    <tr>\n",
       "      <th>4</th>\n",
       "      <td>4</td>\n",
       "      <td>20150115T000000</td>\n",
       "      <td>291850.0</td>\n",
       "      <td>3</td>\n",
       "      <td>1.50</td>\n",
       "      <td>1060</td>\n",
       "      <td>9711</td>\n",
       "      <td>1.0</td>\n",
       "      <td>0</td>\n",
       "      <td>0</td>\n",
       "      <td>3</td>\n",
       "      <td>7</td>\n",
       "      <td>1060</td>\n",
       "      <td>0</td>\n",
       "      <td>1963</td>\n",
       "      <td>0</td>\n",
       "      <td>98198</td>\n",
       "      <td>47.4095</td>\n",
       "      <td>-122.315</td>\n",
       "      <td>1650</td>\n",
       "      <td>9711</td>\n",
       "    </tr>\n",
       "    <tr>\n",
       "      <th>...</th>\n",
       "      <td>...</td>\n",
       "      <td>...</td>\n",
       "      <td>...</td>\n",
       "      <td>...</td>\n",
       "      <td>...</td>\n",
       "      <td>...</td>\n",
       "      <td>...</td>\n",
       "      <td>...</td>\n",
       "      <td>...</td>\n",
       "      <td>...</td>\n",
       "      <td>...</td>\n",
       "      <td>...</td>\n",
       "      <td>...</td>\n",
       "      <td>...</td>\n",
       "      <td>...</td>\n",
       "      <td>...</td>\n",
       "      <td>...</td>\n",
       "      <td>...</td>\n",
       "      <td>...</td>\n",
       "      <td>...</td>\n",
       "      <td>...</td>\n",
       "    </tr>\n",
       "    <tr>\n",
       "      <th>15030</th>\n",
       "      <td>15030</td>\n",
       "      <td>20141014T000000</td>\n",
       "      <td>610685.0</td>\n",
       "      <td>4</td>\n",
       "      <td>2.50</td>\n",
       "      <td>2520</td>\n",
       "      <td>6023</td>\n",
       "      <td>2.0</td>\n",
       "      <td>0</td>\n",
       "      <td>0</td>\n",
       "      <td>3</td>\n",
       "      <td>9</td>\n",
       "      <td>2520</td>\n",
       "      <td>0</td>\n",
       "      <td>2014</td>\n",
       "      <td>0</td>\n",
       "      <td>98056</td>\n",
       "      <td>47.5137</td>\n",
       "      <td>-122.167</td>\n",
       "      <td>2520</td>\n",
       "      <td>6023</td>\n",
       "    </tr>\n",
       "    <tr>\n",
       "      <th>15031</th>\n",
       "      <td>15031</td>\n",
       "      <td>20150326T000000</td>\n",
       "      <td>1007500.0</td>\n",
       "      <td>4</td>\n",
       "      <td>3.50</td>\n",
       "      <td>3510</td>\n",
       "      <td>7200</td>\n",
       "      <td>2.0</td>\n",
       "      <td>0</td>\n",
       "      <td>0</td>\n",
       "      <td>3</td>\n",
       "      <td>9</td>\n",
       "      <td>2600</td>\n",
       "      <td>910</td>\n",
       "      <td>2009</td>\n",
       "      <td>0</td>\n",
       "      <td>98136</td>\n",
       "      <td>47.5537</td>\n",
       "      <td>-122.398</td>\n",
       "      <td>2050</td>\n",
       "      <td>6200</td>\n",
       "    </tr>\n",
       "    <tr>\n",
       "      <th>15032</th>\n",
       "      <td>15032</td>\n",
       "      <td>20140521T000000</td>\n",
       "      <td>360000.0</td>\n",
       "      <td>3</td>\n",
       "      <td>2.50</td>\n",
       "      <td>1530</td>\n",
       "      <td>1131</td>\n",
       "      <td>3.0</td>\n",
       "      <td>0</td>\n",
       "      <td>0</td>\n",
       "      <td>3</td>\n",
       "      <td>8</td>\n",
       "      <td>1530</td>\n",
       "      <td>0</td>\n",
       "      <td>2009</td>\n",
       "      <td>0</td>\n",
       "      <td>98103</td>\n",
       "      <td>47.6993</td>\n",
       "      <td>-122.346</td>\n",
       "      <td>1530</td>\n",
       "      <td>1509</td>\n",
       "    </tr>\n",
       "    <tr>\n",
       "      <th>15033</th>\n",
       "      <td>15033</td>\n",
       "      <td>20150223T000000</td>\n",
       "      <td>400000.0</td>\n",
       "      <td>4</td>\n",
       "      <td>2.50</td>\n",
       "      <td>2310</td>\n",
       "      <td>5813</td>\n",
       "      <td>2.0</td>\n",
       "      <td>0</td>\n",
       "      <td>0</td>\n",
       "      <td>3</td>\n",
       "      <td>8</td>\n",
       "      <td>2310</td>\n",
       "      <td>0</td>\n",
       "      <td>2014</td>\n",
       "      <td>0</td>\n",
       "      <td>98146</td>\n",
       "      <td>47.5107</td>\n",
       "      <td>-122.362</td>\n",
       "      <td>1830</td>\n",
       "      <td>7200</td>\n",
       "    </tr>\n",
       "    <tr>\n",
       "      <th>15034</th>\n",
       "      <td>15034</td>\n",
       "      <td>20141015T000000</td>\n",
       "      <td>325000.0</td>\n",
       "      <td>2</td>\n",
       "      <td>0.75</td>\n",
       "      <td>1020</td>\n",
       "      <td>1076</td>\n",
       "      <td>2.0</td>\n",
       "      <td>0</td>\n",
       "      <td>0</td>\n",
       "      <td>3</td>\n",
       "      <td>7</td>\n",
       "      <td>1020</td>\n",
       "      <td>0</td>\n",
       "      <td>2008</td>\n",
       "      <td>0</td>\n",
       "      <td>98144</td>\n",
       "      <td>47.5941</td>\n",
       "      <td>-122.299</td>\n",
       "      <td>1020</td>\n",
       "      <td>1357</td>\n",
       "    </tr>\n",
       "  </tbody>\n",
       "</table>\n",
       "<p>15035 rows × 21 columns</p>\n",
       "</div>"
      ],
      "text/plain": [
       "          id             date      price  bedrooms  bathrooms  sqft_living  \\\n",
       "0          0  20141013T000000   221900.0         3       1.00         1180   \n",
       "1          1  20150225T000000   180000.0         2       1.00          770   \n",
       "2          2  20150218T000000   510000.0         3       2.00         1680   \n",
       "3          3  20140627T000000   257500.0         3       2.25         1715   \n",
       "4          4  20150115T000000   291850.0         3       1.50         1060   \n",
       "...      ...              ...        ...       ...        ...          ...   \n",
       "15030  15030  20141014T000000   610685.0         4       2.50         2520   \n",
       "15031  15031  20150326T000000  1007500.0         4       3.50         3510   \n",
       "15032  15032  20140521T000000   360000.0         3       2.50         1530   \n",
       "15033  15033  20150223T000000   400000.0         4       2.50         2310   \n",
       "15034  15034  20141015T000000   325000.0         2       0.75         1020   \n",
       "\n",
       "       sqft_lot  floors  waterfront  view  condition  grade  sqft_above  \\\n",
       "0          5650     1.0           0     0          3      7        1180   \n",
       "1         10000     1.0           0     0          3      6         770   \n",
       "2          8080     1.0           0     0          3      8        1680   \n",
       "3          6819     2.0           0     0          3      7        1715   \n",
       "4          9711     1.0           0     0          3      7        1060   \n",
       "...         ...     ...         ...   ...        ...    ...         ...   \n",
       "15030      6023     2.0           0     0          3      9        2520   \n",
       "15031      7200     2.0           0     0          3      9        2600   \n",
       "15032      1131     3.0           0     0          3      8        1530   \n",
       "15033      5813     2.0           0     0          3      8        2310   \n",
       "15034      1076     2.0           0     0          3      7        1020   \n",
       "\n",
       "       sqft_basement  yr_built  yr_renovated  zipcode      lat     long  \\\n",
       "0                  0      1955             0    98178  47.5112 -122.257   \n",
       "1                  0      1933             0    98028  47.7379 -122.233   \n",
       "2                  0      1987             0    98074  47.6168 -122.045   \n",
       "3                  0      1995             0    98003  47.3097 -122.327   \n",
       "4                  0      1963             0    98198  47.4095 -122.315   \n",
       "...              ...       ...           ...      ...      ...      ...   \n",
       "15030              0      2014             0    98056  47.5137 -122.167   \n",
       "15031            910      2009             0    98136  47.5537 -122.398   \n",
       "15032              0      2009             0    98103  47.6993 -122.346   \n",
       "15033              0      2014             0    98146  47.5107 -122.362   \n",
       "15034              0      2008             0    98144  47.5941 -122.299   \n",
       "\n",
       "       sqft_living15  sqft_lot15  \n",
       "0               1340        5650  \n",
       "1               2720        8062  \n",
       "2               1800        7503  \n",
       "3               2238        6819  \n",
       "4               1650        9711  \n",
       "...              ...         ...  \n",
       "15030           2520        6023  \n",
       "15031           2050        6200  \n",
       "15032           1530        1509  \n",
       "15033           1830        7200  \n",
       "15034           1020        1357  \n",
       "\n",
       "[15035 rows x 21 columns]"
      ]
     },
     "metadata": {},
     "output_type": "display_data"
    }
   ],
   "source": [
    "with pd.option_context('display.max_rows', 21, 'display.max_columns', None): \n",
    "    display(data)\n"
   ]
  },
  {
   "cell_type": "code",
   "execution_count": 6,
   "id": "4d917e23",
   "metadata": {},
   "outputs": [
    {
     "name": "stdout",
     "output_type": "stream",
     "text": [
      "<class 'pandas.core.frame.DataFrame'>\n",
      "RangeIndex: 15035 entries, 0 to 15034\n",
      "Data columns (total 21 columns):\n",
      " #   Column         Non-Null Count  Dtype  \n",
      "---  ------         --------------  -----  \n",
      " 0   id             15035 non-null  int64  \n",
      " 1   date           15035 non-null  object \n",
      " 2   price          15035 non-null  float64\n",
      " 3   bedrooms       15035 non-null  int64  \n",
      " 4   bathrooms      15035 non-null  float64\n",
      " 5   sqft_living    15035 non-null  int64  \n",
      " 6   sqft_lot       15035 non-null  int64  \n",
      " 7   floors         15035 non-null  float64\n",
      " 8   waterfront     15035 non-null  int64  \n",
      " 9   view           15035 non-null  int64  \n",
      " 10  condition      15035 non-null  int64  \n",
      " 11  grade          15035 non-null  int64  \n",
      " 12  sqft_above     15035 non-null  int64  \n",
      " 13  sqft_basement  15035 non-null  int64  \n",
      " 14  yr_built       15035 non-null  int64  \n",
      " 15  yr_renovated   15035 non-null  int64  \n",
      " 16  zipcode        15035 non-null  int64  \n",
      " 17  lat            15035 non-null  float64\n",
      " 18  long           15035 non-null  float64\n",
      " 19  sqft_living15  15035 non-null  int64  \n",
      " 20  sqft_lot15     15035 non-null  int64  \n",
      "dtypes: float64(5), int64(15), object(1)\n",
      "memory usage: 2.4+ MB\n"
     ]
    }
   ],
   "source": [
    "data.info()"
   ]
  },
  {
   "cell_type": "code",
   "execution_count": 7,
   "id": "983c6c7d",
   "metadata": {},
   "outputs": [
    {
     "data": {
      "text/plain": [
       "Index(['id', 'date', 'price', 'bedrooms', 'bathrooms', 'sqft_living',\n",
       "       'sqft_lot', 'floors', 'waterfront', 'view', 'condition', 'grade',\n",
       "       'sqft_above', 'sqft_basement', 'yr_built', 'yr_renovated', 'zipcode',\n",
       "       'lat', 'long', 'sqft_living15', 'sqft_lot15'],\n",
       "      dtype='object')"
      ]
     },
     "execution_count": 7,
     "metadata": {},
     "output_type": "execute_result"
    }
   ],
   "source": [
    "data.columns"
   ]
  },
  {
   "cell_type": "code",
   "execution_count": 8,
   "id": "63247fbe",
   "metadata": {},
   "outputs": [
    {
     "data": {
      "text/plain": [
       "0    14928\n",
       "1      107\n",
       "Name: waterfront, dtype: int64"
      ]
     },
     "execution_count": 8,
     "metadata": {},
     "output_type": "execute_result"
    }
   ],
   "source": [
    "data['waterfront'].value_counts()"
   ]
  },
  {
   "cell_type": "code",
   "execution_count": 9,
   "id": "64c0410c",
   "metadata": {},
   "outputs": [
    {
     "data": {
      "text/plain": [
       "0    13548\n",
       "2      665\n",
       "3      373\n",
       "1      241\n",
       "4      208\n",
       "Name: view, dtype: int64"
      ]
     },
     "execution_count": 9,
     "metadata": {},
     "output_type": "execute_result"
    }
   ],
   "source": [
    "data['view'].value_counts()"
   ]
  },
  {
   "cell_type": "code",
   "execution_count": 10,
   "id": "1d6edcd5",
   "metadata": {},
   "outputs": [
    {
     "data": {
      "text/plain": [
       "3    9793\n",
       "4    3956\n",
       "5    1155\n",
       "2     110\n",
       "1      21\n",
       "Name: condition, dtype: int64"
      ]
     },
     "execution_count": 10,
     "metadata": {},
     "output_type": "execute_result"
    }
   ],
   "source": [
    "data['condition'].value_counts()"
   ]
  },
  {
   "cell_type": "code",
   "execution_count": 11,
   "id": "79667041",
   "metadata": {},
   "outputs": [
    {
     "data": {
      "text/plain": [
       "7     6228\n",
       "8     4207\n",
       "9     1855\n",
       "6     1406\n",
       "10     781\n",
       "11     288\n",
       "5      174\n",
       "12      61\n",
       "4       23\n",
       "13       9\n",
       "3        2\n",
       "1        1\n",
       "Name: grade, dtype: int64"
      ]
     },
     "execution_count": 11,
     "metadata": {},
     "output_type": "execute_result"
    }
   ],
   "source": [
    "data['grade'].value_counts()"
   ]
  },
  {
   "cell_type": "code",
   "execution_count": 12,
   "id": "d6999f81",
   "metadata": {},
   "outputs": [
    {
     "data": {
      "text/plain": [
       "2014    405\n",
       "2006    325\n",
       "2004    305\n",
       "2005    302\n",
       "2003    284\n",
       "       ... \n",
       "1901     21\n",
       "1933     20\n",
       "1902     20\n",
       "1935     19\n",
       "1934     11\n",
       "Name: yr_built, Length: 116, dtype: int64"
      ]
     },
     "execution_count": 12,
     "metadata": {},
     "output_type": "execute_result"
    }
   ],
   "source": [
    "data['yr_built'].value_counts()"
   ]
  },
  {
   "cell_type": "code",
   "execution_count": 13,
   "id": "ef4e048e",
   "metadata": {},
   "outputs": [
    {
     "data": {
      "text/plain": [
       "0       14404\n",
       "2014       71\n",
       "2013       28\n",
       "2007       25\n",
       "2003       25\n",
       "        ...  \n",
       "1940        1\n",
       "1950        1\n",
       "1954        1\n",
       "1948        1\n",
       "1944        1\n",
       "Name: yr_renovated, Length: 65, dtype: int64"
      ]
     },
     "execution_count": 13,
     "metadata": {},
     "output_type": "execute_result"
    }
   ],
   "source": [
    "data['yr_renovated'].value_counts()"
   ]
  },
  {
   "cell_type": "code",
   "execution_count": 14,
   "id": "e7b34076",
   "metadata": {},
   "outputs": [
    {
     "name": "stdout",
     "output_type": "stream",
     "text": [
      "Index(['id', 'date', 'bedrooms', 'bathrooms', 'sqft_living', 'sqft_lot',\n",
      "       'floors', 'waterfront', 'view', 'condition', 'grade', 'sqft_above',\n",
      "       'sqft_basement', 'yr_built', 'yr_renovated', 'zipcode', 'lat', 'long',\n",
      "       'sqft_living15', 'sqft_lot15'],\n",
      "      dtype='object')\n"
     ]
    }
   ],
   "source": [
    "y = data['price']\n",
    "del data['price']\n",
    "\n",
    "print(data.columns)"
   ]
  },
  {
   "cell_type": "code",
   "execution_count": 15,
   "id": "c6ac20af",
   "metadata": {},
   "outputs": [
    {
     "data": {
      "text/plain": [
       "Index(['id', 'date', 'bedrooms', 'bathrooms', 'sqft_living', 'sqft_lot',\n",
       "       'floors', 'waterfront', 'view', 'condition', 'grade', 'sqft_above',\n",
       "       'sqft_basement', 'yr_built', 'yr_renovated', 'zipcode', 'lat', 'long',\n",
       "       'sqft_living15', 'sqft_lot15'],\n",
       "      dtype='object')"
      ]
     },
     "execution_count": 15,
     "metadata": {},
     "output_type": "execute_result"
    }
   ],
   "source": [
    "data.columns"
   ]
  },
  {
   "cell_type": "code",
   "execution_count": 16,
   "id": "417b9945",
   "metadata": {},
   "outputs": [
    {
     "name": "stdout",
     "output_type": "stream",
     "text": [
      "(15035, 20)\n",
      "(6555, 20)\n"
     ]
    }
   ],
   "source": [
    "print(data.shape)\n",
    "print(sub.shape)"
   ]
  },
  {
   "cell_type": "code",
   "execution_count": 17,
   "id": "db4d0c7e",
   "metadata": {},
   "outputs": [
    {
     "name": "stdout",
     "output_type": "stream",
     "text": [
      "21590\n"
     ]
    }
   ],
   "source": [
    "train_len = len(data)\n",
    "data = pd.concat((data, sub), axis=0)\n",
    "\n",
    "print(len(data))"
   ]
  },
  {
   "cell_type": "code",
   "execution_count": 18,
   "id": "1a8443ca",
   "metadata": {},
   "outputs": [
    {
     "name": "stdout",
     "output_type": "stream",
     "text": [
      "(21590, 20)\n"
     ]
    }
   ],
   "source": [
    "print(data.shape)"
   ]
  },
  {
   "cell_type": "code",
   "execution_count": 19,
   "id": "63ff9ce7",
   "metadata": {
    "scrolled": true
   },
   "outputs": [
    {
     "data": {
      "text/html": [
       "<div>\n",
       "<style scoped>\n",
       "    .dataframe tbody tr th:only-of-type {\n",
       "        vertical-align: middle;\n",
       "    }\n",
       "\n",
       "    .dataframe tbody tr th {\n",
       "        vertical-align: top;\n",
       "    }\n",
       "\n",
       "    .dataframe thead th {\n",
       "        text-align: right;\n",
       "    }\n",
       "</style>\n",
       "<table border=\"1\" class=\"dataframe\">\n",
       "  <thead>\n",
       "    <tr style=\"text-align: right;\">\n",
       "      <th></th>\n",
       "      <th>id</th>\n",
       "      <th>date</th>\n",
       "      <th>bedrooms</th>\n",
       "      <th>bathrooms</th>\n",
       "      <th>sqft_living</th>\n",
       "      <th>sqft_lot</th>\n",
       "      <th>floors</th>\n",
       "      <th>waterfront</th>\n",
       "      <th>view</th>\n",
       "      <th>condition</th>\n",
       "      <th>grade</th>\n",
       "      <th>sqft_above</th>\n",
       "      <th>sqft_basement</th>\n",
       "      <th>yr_built</th>\n",
       "      <th>yr_renovated</th>\n",
       "      <th>zipcode</th>\n",
       "      <th>lat</th>\n",
       "      <th>long</th>\n",
       "      <th>sqft_living15</th>\n",
       "      <th>sqft_lot15</th>\n",
       "    </tr>\n",
       "  </thead>\n",
       "  <tbody>\n",
       "    <tr>\n",
       "      <th>0</th>\n",
       "      <td>0</td>\n",
       "      <td>20141013T000000</td>\n",
       "      <td>3</td>\n",
       "      <td>1.00</td>\n",
       "      <td>1180</td>\n",
       "      <td>5650</td>\n",
       "      <td>1.0</td>\n",
       "      <td>0</td>\n",
       "      <td>0</td>\n",
       "      <td>3</td>\n",
       "      <td>7</td>\n",
       "      <td>1180</td>\n",
       "      <td>0</td>\n",
       "      <td>1955</td>\n",
       "      <td>0</td>\n",
       "      <td>98178</td>\n",
       "      <td>47.5112</td>\n",
       "      <td>-122.257</td>\n",
       "      <td>1340</td>\n",
       "      <td>5650</td>\n",
       "    </tr>\n",
       "    <tr>\n",
       "      <th>1</th>\n",
       "      <td>1</td>\n",
       "      <td>20150225T000000</td>\n",
       "      <td>2</td>\n",
       "      <td>1.00</td>\n",
       "      <td>770</td>\n",
       "      <td>10000</td>\n",
       "      <td>1.0</td>\n",
       "      <td>0</td>\n",
       "      <td>0</td>\n",
       "      <td>3</td>\n",
       "      <td>6</td>\n",
       "      <td>770</td>\n",
       "      <td>0</td>\n",
       "      <td>1933</td>\n",
       "      <td>0</td>\n",
       "      <td>98028</td>\n",
       "      <td>47.7379</td>\n",
       "      <td>-122.233</td>\n",
       "      <td>2720</td>\n",
       "      <td>8062</td>\n",
       "    </tr>\n",
       "    <tr>\n",
       "      <th>2</th>\n",
       "      <td>2</td>\n",
       "      <td>20150218T000000</td>\n",
       "      <td>3</td>\n",
       "      <td>2.00</td>\n",
       "      <td>1680</td>\n",
       "      <td>8080</td>\n",
       "      <td>1.0</td>\n",
       "      <td>0</td>\n",
       "      <td>0</td>\n",
       "      <td>3</td>\n",
       "      <td>8</td>\n",
       "      <td>1680</td>\n",
       "      <td>0</td>\n",
       "      <td>1987</td>\n",
       "      <td>0</td>\n",
       "      <td>98074</td>\n",
       "      <td>47.6168</td>\n",
       "      <td>-122.045</td>\n",
       "      <td>1800</td>\n",
       "      <td>7503</td>\n",
       "    </tr>\n",
       "    <tr>\n",
       "      <th>3</th>\n",
       "      <td>3</td>\n",
       "      <td>20140627T000000</td>\n",
       "      <td>3</td>\n",
       "      <td>2.25</td>\n",
       "      <td>1715</td>\n",
       "      <td>6819</td>\n",
       "      <td>2.0</td>\n",
       "      <td>0</td>\n",
       "      <td>0</td>\n",
       "      <td>3</td>\n",
       "      <td>7</td>\n",
       "      <td>1715</td>\n",
       "      <td>0</td>\n",
       "      <td>1995</td>\n",
       "      <td>0</td>\n",
       "      <td>98003</td>\n",
       "      <td>47.3097</td>\n",
       "      <td>-122.327</td>\n",
       "      <td>2238</td>\n",
       "      <td>6819</td>\n",
       "    </tr>\n",
       "    <tr>\n",
       "      <th>4</th>\n",
       "      <td>4</td>\n",
       "      <td>20150115T000000</td>\n",
       "      <td>3</td>\n",
       "      <td>1.50</td>\n",
       "      <td>1060</td>\n",
       "      <td>9711</td>\n",
       "      <td>1.0</td>\n",
       "      <td>0</td>\n",
       "      <td>0</td>\n",
       "      <td>3</td>\n",
       "      <td>7</td>\n",
       "      <td>1060</td>\n",
       "      <td>0</td>\n",
       "      <td>1963</td>\n",
       "      <td>0</td>\n",
       "      <td>98198</td>\n",
       "      <td>47.4095</td>\n",
       "      <td>-122.315</td>\n",
       "      <td>1650</td>\n",
       "      <td>9711</td>\n",
       "    </tr>\n",
       "  </tbody>\n",
       "</table>\n",
       "</div>"
      ],
      "text/plain": [
       "   id             date  bedrooms  bathrooms  sqft_living  sqft_lot  floors  \\\n",
       "0   0  20141013T000000         3       1.00         1180      5650     1.0   \n",
       "1   1  20150225T000000         2       1.00          770     10000     1.0   \n",
       "2   2  20150218T000000         3       2.00         1680      8080     1.0   \n",
       "3   3  20140627T000000         3       2.25         1715      6819     2.0   \n",
       "4   4  20150115T000000         3       1.50         1060      9711     1.0   \n",
       "\n",
       "   waterfront  view  condition  grade  sqft_above  sqft_basement  yr_built  \\\n",
       "0           0     0          3      7        1180              0      1955   \n",
       "1           0     0          3      6         770              0      1933   \n",
       "2           0     0          3      8        1680              0      1987   \n",
       "3           0     0          3      7        1715              0      1995   \n",
       "4           0     0          3      7        1060              0      1963   \n",
       "\n",
       "   yr_renovated  zipcode      lat     long  sqft_living15  sqft_lot15  \n",
       "0             0    98178  47.5112 -122.257           1340        5650  \n",
       "1             0    98028  47.7379 -122.233           2720        8062  \n",
       "2             0    98074  47.6168 -122.045           1800        7503  \n",
       "3             0    98003  47.3097 -122.327           2238        6819  \n",
       "4             0    98198  47.4095 -122.315           1650        9711  "
      ]
     },
     "execution_count": 19,
     "metadata": {},
     "output_type": "execute_result"
    }
   ],
   "source": [
    "data.head()"
   ]
  },
  {
   "cell_type": "code",
   "execution_count": 20,
   "id": "7f244876",
   "metadata": {
    "scrolled": true
   },
   "outputs": [
    {
     "data": {
      "text/plain": [
       "<AxesSubplot:>"
      ]
     },
     "execution_count": 20,
     "metadata": {},
     "output_type": "execute_result"
    },
    {
     "data": {
      "image/png": "[encoded data removed]",
      "text/plain": [
       "<Figure size 1800x720 with 2 Axes>"
      ]
     },
     "metadata": {
      "needs_background": "light"
     },
     "output_type": "display_data"
    }
   ],
   "source": [
    "msno.matrix(data)"
   ]
  },
  {
   "cell_type": "code",
   "execution_count": 21,
   "id": "86895ae9",
   "metadata": {
    "scrolled": true
   },
   "outputs": [
    {
     "name": "stdout",
     "output_type": "stream",
     "text": [
      "0       False\n",
      "1       False\n",
      "2       False\n",
      "3       False\n",
      "4       False\n",
      "        ...  \n",
      "6550    False\n",
      "6551    False\n",
      "6552    False\n",
      "6553    False\n",
      "6554    False\n",
      "Name: id, Length: 21590, dtype: bool\n"
     ]
    }
   ],
   "source": [
    "# 1. id 컬럼이 결측치인지 확인합니다.\n",
    "null_check = pd.isnull(data['id'])\n",
    "print(null_check)"
   ]
  },
  {
   "cell_type": "code",
   "execution_count": 22,
   "id": "23a21361",
   "metadata": {},
   "outputs": [
    {
     "data": {
      "text/plain": [
       "Series([], Name: id, dtype: int64)"
      ]
     },
     "execution_count": 22,
     "metadata": {},
     "output_type": "execute_result"
    }
   ],
   "source": [
    "# 2. 결측치인 데이터만 뽑아냅니다.\n",
    "null_data = data.loc[null_check, 'id']\n",
    "null_data.head()"
   ]
  },
  {
   "cell_type": "code",
   "execution_count": 23,
   "id": "599c9ca8",
   "metadata": {},
   "outputs": [
    {
     "name": "stdout",
     "output_type": "stream",
     "text": [
      "<class 'pandas.core.series.Series'>\n",
      "<class 'pandas.core.series.Series'>\n",
      "<class 'pandas.core.series.Series'>\n"
     ]
    }
   ],
   "source": [
    "print(type(data['id']))\n",
    "print(type(null_check))\n",
    "print(type(null_data))"
   ]
  },
  {
   "cell_type": "code",
   "execution_count": 24,
   "id": "e37e3b04",
   "metadata": {
    "scrolled": true
   },
   "outputs": [
    {
     "name": "stdout",
     "output_type": "stream",
     "text": [
      "id: 0\n"
     ]
    }
   ],
   "source": [
    "# 3. 결측치인 데이터의 개수를 셉니다.\n",
    "print('{}: {}'.format('id', len(null_data.values)))"
   ]
  },
  {
   "cell_type": "code",
   "execution_count": 25,
   "id": "829d3a6e",
   "metadata": {},
   "outputs": [
    {
     "name": "stdout",
     "output_type": "stream",
     "text": [
      "id : 0\n"
     ]
    }
   ],
   "source": [
    "# 한 번에 뿅!\n",
    "print('{} : {}'.format('id', len(data.loc[pd.isnull(data['id']), 'id'].values)))"
   ]
  },
  {
   "cell_type": "code",
   "execution_count": 26,
   "id": "4254a2a2",
   "metadata": {
    "scrolled": true
   },
   "outputs": [
    {
     "name": "stdout",
     "output_type": "stream",
     "text": [
      "id : 0\n",
      "date : 0\n",
      "bedrooms : 0\n",
      "bathrooms : 0\n",
      "sqft_living : 0\n",
      "sqft_lot : 0\n",
      "floors : 0\n",
      "waterfront : 0\n",
      "view : 0\n",
      "condition : 0\n",
      "grade : 0\n",
      "sqft_above : 0\n",
      "sqft_basement : 0\n",
      "yr_built : 0\n",
      "yr_renovated : 0\n",
      "zipcode : 0\n",
      "lat : 0\n",
      "long : 0\n",
      "sqft_living15 : 0\n",
      "sqft_lot15 : 0\n"
     ]
    }
   ],
   "source": [
    "for c in data.columns:\n",
    "    print('{} : {}'.format(c, len(data.loc[pd.isnull(data[c]), c].values)))"
   ]
  },
  {
   "cell_type": "code",
   "execution_count": 27,
   "id": "8fa9cb82",
   "metadata": {},
   "outputs": [
    {
     "name": "stdout",
     "output_type": "stream",
     "text": [
      "0            0\n",
      "1            1\n",
      "2            2\n",
      "3            3\n",
      "4            4\n",
      "         ...  \n",
      "15030    15030\n",
      "15031    15031\n",
      "15032    15032\n",
      "15033    15033\n",
      "15034    15034\n",
      "Name: id, Length: 15035, dtype: int64\n",
      "0       15208\n",
      "1       15209\n",
      "2       15210\n",
      "3       15211\n",
      "4       15212\n",
      "        ...  \n",
      "6550    21758\n",
      "6551    21759\n",
      "6552    21760\n",
      "6553    21761\n",
      "6554    21762\n",
      "Name: id, Length: 6555, dtype: int64\n",
      "15035\n",
      "6555\n"
     ]
    }
   ],
   "source": [
    "print(data['id'][:train_len])\n",
    "print(data['id'][train_len:])\n",
    "print(len(data['id'][:train_len]))\n",
    "print(len(data['id'][train_len:]))"
   ]
  },
  {
   "cell_type": "code",
   "execution_count": 28,
   "id": "2c398d61",
   "metadata": {},
   "outputs": [
    {
     "name": "stdout",
     "output_type": "stream",
     "text": [
      "Index(['date', 'bedrooms', 'bathrooms', 'sqft_living', 'sqft_lot', 'floors',\n",
      "       'waterfront', 'view', 'condition', 'grade', 'sqft_above',\n",
      "       'sqft_basement', 'yr_built', 'yr_renovated', 'zipcode', 'lat', 'long',\n",
      "       'sqft_living15', 'sqft_lot15'],\n",
      "      dtype='object')\n"
     ]
    }
   ],
   "source": [
    "sub_id = data['id'][train_len:]\n",
    "del data['id']\n",
    "\n",
    "print(data.columns)"
   ]
  },
  {
   "cell_type": "code",
   "execution_count": 29,
   "id": "6e470fe7",
   "metadata": {
    "scrolled": true
   },
   "outputs": [
    {
     "data": {
      "text/html": [
       "<div>\n",
       "<style scoped>\n",
       "    .dataframe tbody tr th:only-of-type {\n",
       "        vertical-align: middle;\n",
       "    }\n",
       "\n",
       "    .dataframe tbody tr th {\n",
       "        vertical-align: top;\n",
       "    }\n",
       "\n",
       "    .dataframe thead th {\n",
       "        text-align: right;\n",
       "    }\n",
       "</style>\n",
       "<table border=\"1\" class=\"dataframe\">\n",
       "  <thead>\n",
       "    <tr style=\"text-align: right;\">\n",
       "      <th></th>\n",
       "      <th>date</th>\n",
       "      <th>bedrooms</th>\n",
       "      <th>bathrooms</th>\n",
       "      <th>sqft_living</th>\n",
       "      <th>sqft_lot</th>\n",
       "      <th>floors</th>\n",
       "      <th>waterfront</th>\n",
       "      <th>view</th>\n",
       "      <th>condition</th>\n",
       "      <th>grade</th>\n",
       "      <th>sqft_above</th>\n",
       "      <th>sqft_basement</th>\n",
       "      <th>yr_built</th>\n",
       "      <th>yr_renovated</th>\n",
       "      <th>zipcode</th>\n",
       "      <th>lat</th>\n",
       "      <th>long</th>\n",
       "      <th>sqft_living15</th>\n",
       "      <th>sqft_lot15</th>\n",
       "    </tr>\n",
       "  </thead>\n",
       "  <tbody>\n",
       "    <tr>\n",
       "      <th>0</th>\n",
       "      <td>201410</td>\n",
       "      <td>3</td>\n",
       "      <td>1.00</td>\n",
       "      <td>1180</td>\n",
       "      <td>5650</td>\n",
       "      <td>1.0</td>\n",
       "      <td>0</td>\n",
       "      <td>0</td>\n",
       "      <td>3</td>\n",
       "      <td>7</td>\n",
       "      <td>1180</td>\n",
       "      <td>0</td>\n",
       "      <td>1955</td>\n",
       "      <td>0</td>\n",
       "      <td>98178</td>\n",
       "      <td>47.5112</td>\n",
       "      <td>-122.257</td>\n",
       "      <td>1340</td>\n",
       "      <td>5650</td>\n",
       "    </tr>\n",
       "    <tr>\n",
       "      <th>1</th>\n",
       "      <td>201502</td>\n",
       "      <td>2</td>\n",
       "      <td>1.00</td>\n",
       "      <td>770</td>\n",
       "      <td>10000</td>\n",
       "      <td>1.0</td>\n",
       "      <td>0</td>\n",
       "      <td>0</td>\n",
       "      <td>3</td>\n",
       "      <td>6</td>\n",
       "      <td>770</td>\n",
       "      <td>0</td>\n",
       "      <td>1933</td>\n",
       "      <td>0</td>\n",
       "      <td>98028</td>\n",
       "      <td>47.7379</td>\n",
       "      <td>-122.233</td>\n",
       "      <td>2720</td>\n",
       "      <td>8062</td>\n",
       "    </tr>\n",
       "    <tr>\n",
       "      <th>2</th>\n",
       "      <td>201502</td>\n",
       "      <td>3</td>\n",
       "      <td>2.00</td>\n",
       "      <td>1680</td>\n",
       "      <td>8080</td>\n",
       "      <td>1.0</td>\n",
       "      <td>0</td>\n",
       "      <td>0</td>\n",
       "      <td>3</td>\n",
       "      <td>8</td>\n",
       "      <td>1680</td>\n",
       "      <td>0</td>\n",
       "      <td>1987</td>\n",
       "      <td>0</td>\n",
       "      <td>98074</td>\n",
       "      <td>47.6168</td>\n",
       "      <td>-122.045</td>\n",
       "      <td>1800</td>\n",
       "      <td>7503</td>\n",
       "    </tr>\n",
       "    <tr>\n",
       "      <th>3</th>\n",
       "      <td>201406</td>\n",
       "      <td>3</td>\n",
       "      <td>2.25</td>\n",
       "      <td>1715</td>\n",
       "      <td>6819</td>\n",
       "      <td>2.0</td>\n",
       "      <td>0</td>\n",
       "      <td>0</td>\n",
       "      <td>3</td>\n",
       "      <td>7</td>\n",
       "      <td>1715</td>\n",
       "      <td>0</td>\n",
       "      <td>1995</td>\n",
       "      <td>0</td>\n",
       "      <td>98003</td>\n",
       "      <td>47.3097</td>\n",
       "      <td>-122.327</td>\n",
       "      <td>2238</td>\n",
       "      <td>6819</td>\n",
       "    </tr>\n",
       "    <tr>\n",
       "      <th>4</th>\n",
       "      <td>201501</td>\n",
       "      <td>3</td>\n",
       "      <td>1.50</td>\n",
       "      <td>1060</td>\n",
       "      <td>9711</td>\n",
       "      <td>1.0</td>\n",
       "      <td>0</td>\n",
       "      <td>0</td>\n",
       "      <td>3</td>\n",
       "      <td>7</td>\n",
       "      <td>1060</td>\n",
       "      <td>0</td>\n",
       "      <td>1963</td>\n",
       "      <td>0</td>\n",
       "      <td>98198</td>\n",
       "      <td>47.4095</td>\n",
       "      <td>-122.315</td>\n",
       "      <td>1650</td>\n",
       "      <td>9711</td>\n",
       "    </tr>\n",
       "  </tbody>\n",
       "</table>\n",
       "</div>"
      ],
      "text/plain": [
       "     date  bedrooms  bathrooms  sqft_living  sqft_lot  floors  waterfront  \\\n",
       "0  201410         3       1.00         1180      5650     1.0           0   \n",
       "1  201502         2       1.00          770     10000     1.0           0   \n",
       "2  201502         3       2.00         1680      8080     1.0           0   \n",
       "3  201406         3       2.25         1715      6819     2.0           0   \n",
       "4  201501         3       1.50         1060      9711     1.0           0   \n",
       "\n",
       "   view  condition  grade  sqft_above  sqft_basement  yr_built  yr_renovated  \\\n",
       "0     0          3      7        1180              0      1955             0   \n",
       "1     0          3      6         770              0      1933             0   \n",
       "2     0          3      8        1680              0      1987             0   \n",
       "3     0          3      7        1715              0      1995             0   \n",
       "4     0          3      7        1060              0      1963             0   \n",
       "\n",
       "   zipcode      lat     long  sqft_living15  sqft_lot15  \n",
       "0    98178  47.5112 -122.257           1340        5650  \n",
       "1    98028  47.7379 -122.233           2720        8062  \n",
       "2    98074  47.6168 -122.045           1800        7503  \n",
       "3    98003  47.3097 -122.327           2238        6819  \n",
       "4    98198  47.4095 -122.315           1650        9711  "
      ]
     },
     "execution_count": 29,
     "metadata": {},
     "output_type": "execute_result"
    }
   ],
   "source": [
    "data['date'] = data['date'].apply(lambda x : str(x[:6]))\n",
    "\n",
    "data.head()"
   ]
  },
  {
   "cell_type": "code",
   "execution_count": 30,
   "id": "e397a02f",
   "metadata": {},
   "outputs": [
    {
     "data": {
      "text/plain": [
       "19"
      ]
     },
     "execution_count": 30,
     "metadata": {},
     "output_type": "execute_result"
    }
   ],
   "source": [
    "len(data.columns)"
   ]
  },
  {
   "cell_type": "code",
   "execution_count": 31,
   "id": "0fbe802d",
   "metadata": {
    "scrolled": false
   },
   "outputs": [
    {
     "data": {
      "image/png": "[encoded data removed]",
      "text/plain": [
       "<Figure size 864x3600 with 18 Axes>"
      ]
     },
     "metadata": {
      "needs_background": "light"
     },
     "output_type": "display_data"
    }
   ],
   "source": [
    "fig, ax = plt.subplots(9, 2, figsize=(12, 50))   # 가로스크롤 때문에 그래프 확인이 불편하다면 figsize의 x값을 조절해 보세요. \n",
    "\n",
    "# id 변수(count==0인 경우)는 제외하고 분포를 확인합니다.\n",
    "count = 1\n",
    "columns = data.columns\n",
    "for row in range(9):\n",
    "    for col in range(2):\n",
    "        sns.kdeplot(data=data[columns[count]], ax=ax[row][col])\n",
    "        ax[row][col].set_title(columns[count], fontsize=15)\n",
    "        count += 1\n",
    "        if count == 19 :\n",
    "            break"
   ]
  },
  {
   "cell_type": "markdown",
   "id": "0530a7b7",
   "metadata": {},
   "source": [
    "https://github.com/govin08/aiffel/blob/master/004_articles_and_materials/0916_seaborn.kdeplot.ipynb\n",
    " - KDE : kernel density estimation\n",
    " - kdeplot\n",
    " \n",
    " 에 대한 설명"
   ]
  },
  {
   "cell_type": "code",
   "execution_count": 32,
   "id": "3b1cf81d",
   "metadata": {},
   "outputs": [
    {
     "name": "stdout",
     "output_type": "stream",
     "text": [
      "얍💢\n"
     ]
    }
   ],
   "source": [
    "skew_columns = ['bedrooms', 'sqft_living', 'sqft_lot', 'sqft_above', 'sqft_basement', 'sqft_lot15', 'sqft_living15']\n",
    "\n",
    "for c in skew_columns:\n",
    "    data[c] = np.log1p(data[c].values)\n",
    "\n",
    "print('얍💢')"
   ]
  },
  {
   "cell_type": "code",
   "execution_count": 33,
   "id": "b2658186",
   "metadata": {
    "scrolled": true
   },
   "outputs": [
    {
     "data": {
      "image/png": "[encoded data removed]",
      "text/plain": [
       "<Figure size 864x1728 with 8 Axes>"
      ]
     },
     "metadata": {
      "needs_background": "light"
     },
     "output_type": "display_data"
    }
   ],
   "source": [
    "fig, ax = plt.subplots(4, 2, figsize=(12, 24))\n",
    "\n",
    "count = 0\n",
    "for row in range(4):\n",
    "    for col in range(2):\n",
    "        if count == 7:\n",
    "            break\n",
    "        sns.kdeplot(data=data[skew_columns[count]], ax=ax[row][col])\n",
    "        ax[row][col].set_title(skew_columns[count], fontsize=15)\n",
    "        count += 1"
   ]
  },
  {
   "cell_type": "code",
   "execution_count": 34,
   "id": "b5ed17f8",
   "metadata": {},
   "outputs": [
    {
     "name": "stdout",
     "output_type": "stream",
     "text": [
      "(15035, 19)\n",
      "(6555, 19)\n"
     ]
    }
   ],
   "source": [
    "sub = data.iloc[train_len:, :]\n",
    "x = data.iloc[:train_len, :]\n",
    "\n",
    "print(x.shape)\n",
    "print(sub.shape)"
   ]
  },
  {
   "cell_type": "markdown",
   "id": "42a25dc4",
   "metadata": {},
   "source": [
    "## 3.7. 일단 제출하고 시작해! Baseline 모델 (4) 모델 설계"
   ]
  },
  {
   "cell_type": "markdown",
   "id": "04cc4b9a",
   "metadata": {},
   "source": [
    "**Q4. 앙상블이란 무엇이고, 어떤 아이디어로부터 착안된 기법인가요?**\n",
    "\n",
    "앙상블은, 여러 개의 모델(voting and averaging) 혹은 여러 종류의 데이터셋을 사용하여(bagging), 혹은 일련의 모델들을 순차적으로 사용하여(boosting) 학습하는 방법입니다."
   ]
  },
  {
   "cell_type": "markdown",
   "id": "ff65e2fd",
   "metadata": {},
   "source": [
    "**Q5. 앙상블 기법 중 가장 기본적인 것은 보팅(Voting)과 에버리징(Averaging)입니다. 각각은 무엇이고, 언제 쓰이나요?**\n",
    "\n",
    "**voting** : classification에서 사용합니다.\n",
    "아래는 majority voting (hard voting) 의 한 예시입니다.\n",
    "\n",
    "라벨의 개수가 3개인 classification 문제를 가정하겠습니다.\n",
    "라벨들은 각각 $0,1,2$라고 하겠습니다.\n",
    "서로 다른 일곱 개의 모델들 $M_1$, $M_2$, $M_3$, $M_4$, $M_5$, $M_6$, $M_7$이 있을 때,\n",
    "$M_j$들을 독립적으로 학습시킵니다.\n",
    "각각의 모델 $M_j$들은 하나의 입력값 $x$에 대하여 서로 다른 일곱 개의 예측값 $M_j(x)$을 냅니다.\n",
    "\n",
    "|        |$M_1$|$M_2$|$M_3$|$M_4$|$M_5$|$M_6$|$M_7$|\n",
    "|:-:     |:-:  |:-:  |:-:  |:-:  |:-:  |:-:  |:-:  |\n",
    "|$M_i(x)$|0    |1    |1    |0    |1    |1    |2    |\n",
    "\n",
    "그러면 새로운 앙상블 모델 $M$은 $x$에 대한 예측값을 1로 예측합니다.\n",
    "1이 가장 많이 나왔기 때문입니다.\n",
    "\n",
    "$$M(x) = 1$$\n",
    "\n",
    "**averaging** : regression에서 사용합니다.\n",
    "아래는 simple averaging의 한 예시입니다.\n",
    "\n",
    "regression 문제를 가정하겠습니다.\n",
    "즉, 모델은 하나의 실수값을 예측하게 됩니다.\n",
    "서로 다른 일곱 개의 모델들 $M_1$, $M_2$, $M_3$, $M_4$, $M_5$, $M_6$, $M_7$이 있을 때,\n",
    "$M_j$들을 독립적으로 학습시킵니다.\n",
    "각각의 모델 $M_j$들은 하나의 입력값 $x$에 대하여 서로 다른 일곱 개의 예측값 $M_j(x)$을 냅니다.\n",
    "\n",
    "|        |$M_1$|$M_2$|$M_3$|$M_4$|$M_5$|$M_6$|$M_7$|\n",
    "|:-:     |:-:  |:-:  |:-:  |:-:  |:-:  |:-:  |:-:  |\n",
    "|$M_i(x)$|5    |4    |1    |10   |4    |5    |6    |\n",
    "\n",
    "그러면 새로운 앙상블 모델 $M$은 $x$에 대한 예측값을 5로 예측합니다.\n",
    "이것은 각 모델들의 예측치에 평균을 낸 값입니다.\n",
    "\n",
    "$$M(x) = \\frac{5+4+1+10+4+5+6}7=5$$"
   ]
  },
  {
   "cell_type": "markdown",
   "id": "50a2209f",
   "metadata": {},
   "source": [
    "**Q6. 각각 성능이 70%(0.7)인 다섯 개의 분류기가 있다고 가정합니다.\n",
    "이 때 이 다섯 개의 모델이 예측한 결과에 다수결 투표를 진행하여 최종 결과를 결정한다면 예상 정확도는 얼마일까요?\n",
    "(힌트: 고등학생 때 배웠던 순열과 조합의 독립시행의 확률을 떠올려보세요!)**\n",
    "\n",
    "다섯 개의 모델 중 세 개 이상의 모델이 답을 맞추면, 앙상블 모델은 답을 맞추게 됩니다.\n",
    "정확히 말하면, 다섯 개의 모델 중 두 개의 모델이 답을 맞췄다고 하더라도 앙상블 모델이 답을 맞출 수도 있지만, 일단은 세 개 이상의 모델이 답을 맞추는 경우만 고려하겠습니다.\n",
    "\n",
    "다섯 개의 모델 중 답을 맞춘 모델의 수를 $X$라고 하면, 다섯 개의 모델 중 세 개 이상의 모델이 답을 맞출 확률은 $P(X\\ge3)$이고, 이것은 다시\n",
    "\n",
    "$$P(X\\ge3) = P(X=3)+P(X=4)+P(X=5)$$\n",
    "\n",
    "와 같이 쓸 수 있습니다.\n",
    "각각은\n",
    "\n",
    "\\begin{align*}\n",
    "P(X=3)&=_5C_3\\times0.7^3\\times0.3^2\\\\\n",
    "P(X=4)&=_5C_4\\times0.7^4\\times0.3^1\\\\\n",
    "P(X=5)&=_5C_5\\times0.7^5\\times0.3^0\n",
    "\\end{align*}\n",
    "\n",
    "이 되어\n",
    "$P(X\\ge3) = 0.83691$입니다."
   ]
  },
  {
   "cell_type": "code",
   "execution_count": 35,
   "id": "76ee5a2f",
   "metadata": {},
   "outputs": [
    {
     "data": {
      "text/plain": [
       "0.8369199999999998"
      ]
     },
     "execution_count": 35,
     "metadata": {},
     "output_type": "execute_result"
    }
   ],
   "source": [
    "import scipy.special\n",
    "\n",
    "def P(x):\n",
    "    return scipy.special.comb(5,x)*0.7**x*0.3**(5-x)\n",
    "P(3)+P(4)+P(5)"
   ]
  },
  {
   "cell_type": "code",
   "execution_count": 36,
   "id": "aa6a54d9",
   "metadata": {},
   "outputs": [
    {
     "name": "stdout",
     "output_type": "stream",
     "text": [
      "얍💢\n"
     ]
    }
   ],
   "source": [
    "gboost = GradientBoostingRegressor(random_state=2019)\n",
    "xgboost = xgb.XGBRegressor(random_state=2019)\n",
    "lightgbm = lgb.LGBMRegressor(random_state=2019)\n",
    "\n",
    "models = [{'model':gboost, 'name':'GradientBoosting'}, {'model':xgboost, 'name':'XGBoost'},\n",
    "          {'model':lightgbm, 'name':'LightGBM'}]\n",
    "\n",
    "print('얍💢')"
   ]
  },
  {
   "cell_type": "code",
   "execution_count": 37,
   "id": "65722ef4",
   "metadata": {},
   "outputs": [
    {
     "name": "stdout",
     "output_type": "stream",
     "text": [
      "얍💢\n"
     ]
    }
   ],
   "source": [
    "def get_cv_score(models):\n",
    "    kfold = KFold(n_splits=5).get_n_splits(x.values)\n",
    "    for m in models:\n",
    "        CV_score = np.mean(cross_val_score(m['model'], X=x.values, y=y, cv=kfold))\n",
    "        print(f\"Model: {m['name']}, CV score:{CV_score:.4f}\")\n",
    "print('얍💢')"
   ]
  },
  {
   "cell_type": "code",
   "execution_count": 38,
   "id": "dea32c56",
   "metadata": {},
   "outputs": [
    {
     "name": "stdout",
     "output_type": "stream",
     "text": [
      "Model: GradientBoosting, CV score:0.8598\n",
      "Model: XGBoost, CV score:0.8860\n",
      "Model: LightGBM, CV score:0.8819\n"
     ]
    }
   ],
   "source": [
    "get_cv_score(models)"
   ]
  },
  {
   "cell_type": "code",
   "execution_count": 39,
   "id": "fc899a0f",
   "metadata": {},
   "outputs": [
    {
     "name": "stdout",
     "output_type": "stream",
     "text": [
      "얍💢\n"
     ]
    }
   ],
   "source": [
    "def AveragingBlending(models, x, y, sub_x):\n",
    "    for m in models : \n",
    "        m['model'].fit(x.values, y)\n",
    "    \n",
    "    predictions = np.column_stack([\n",
    "        m['model'].predict(sub_x.values) for m in models\n",
    "    ])\n",
    "    return np.mean(predictions, axis=1)\n",
    "\n",
    "print('얍💢')"
   ]
  },
  {
   "cell_type": "code",
   "execution_count": 40,
   "id": "9e08527d",
   "metadata": {},
   "outputs": [
    {
     "name": "stdout",
     "output_type": "stream",
     "text": [
      "6555\n"
     ]
    },
    {
     "data": {
      "text/plain": [
       "array([1361676.91242777,  308900.55888961,  786583.53874638, ...,\n",
       "       1693771.62246729,  415635.76190782,  341572.97685942])"
      ]
     },
     "execution_count": 40,
     "metadata": {},
     "output_type": "execute_result"
    }
   ],
   "source": [
    "y_pred = AveragingBlending(models, x, y, sub)\n",
    "print(len(y_pred))\n",
    "y_pred"
   ]
  },
  {
   "cell_type": "code",
   "execution_count": 41,
   "id": "5a1f0530",
   "metadata": {},
   "outputs": [
    {
     "data": {
      "text/html": [
       "<div>\n",
       "<style scoped>\n",
       "    .dataframe tbody tr th:only-of-type {\n",
       "        vertical-align: middle;\n",
       "    }\n",
       "\n",
       "    .dataframe tbody tr th {\n",
       "        vertical-align: top;\n",
       "    }\n",
       "\n",
       "    .dataframe thead th {\n",
       "        text-align: right;\n",
       "    }\n",
       "</style>\n",
       "<table border=\"1\" class=\"dataframe\">\n",
       "  <thead>\n",
       "    <tr style=\"text-align: right;\">\n",
       "      <th></th>\n",
       "      <th>id</th>\n",
       "      <th>price</th>\n",
       "    </tr>\n",
       "  </thead>\n",
       "  <tbody>\n",
       "    <tr>\n",
       "      <th>0</th>\n",
       "      <td>15035</td>\n",
       "      <td>100000</td>\n",
       "    </tr>\n",
       "    <tr>\n",
       "      <th>1</th>\n",
       "      <td>15036</td>\n",
       "      <td>100000</td>\n",
       "    </tr>\n",
       "    <tr>\n",
       "      <th>2</th>\n",
       "      <td>15037</td>\n",
       "      <td>100000</td>\n",
       "    </tr>\n",
       "    <tr>\n",
       "      <th>3</th>\n",
       "      <td>15038</td>\n",
       "      <td>100000</td>\n",
       "    </tr>\n",
       "    <tr>\n",
       "      <th>4</th>\n",
       "      <td>15039</td>\n",
       "      <td>100000</td>\n",
       "    </tr>\n",
       "  </tbody>\n",
       "</table>\n",
       "</div>"
      ],
      "text/plain": [
       "      id   price\n",
       "0  15035  100000\n",
       "1  15036  100000\n",
       "2  15037  100000\n",
       "3  15038  100000\n",
       "4  15039  100000"
      ]
     },
     "execution_count": 41,
     "metadata": {},
     "output_type": "execute_result"
    }
   ],
   "source": [
    "data_dir = os.getenv('HOME')+'/aiffel/kaggle_kakr_housing/data'\n",
    "\n",
    "submission_path = join(data_dir, 'sample_submission.csv')\n",
    "submission = pd.read_csv(submission_path)\n",
    "submission.head()"
   ]
  },
  {
   "cell_type": "code",
   "execution_count": 42,
   "id": "9a0952cd",
   "metadata": {},
   "outputs": [
    {
     "data": {
      "text/html": [
       "<div>\n",
       "<style scoped>\n",
       "    .dataframe tbody tr th:only-of-type {\n",
       "        vertical-align: middle;\n",
       "    }\n",
       "\n",
       "    .dataframe tbody tr th {\n",
       "        vertical-align: top;\n",
       "    }\n",
       "\n",
       "    .dataframe thead th {\n",
       "        text-align: right;\n",
       "    }\n",
       "</style>\n",
       "<table border=\"1\" class=\"dataframe\">\n",
       "  <thead>\n",
       "    <tr style=\"text-align: right;\">\n",
       "      <th></th>\n",
       "      <th>id</th>\n",
       "      <th>price</th>\n",
       "    </tr>\n",
       "  </thead>\n",
       "  <tbody>\n",
       "    <tr>\n",
       "      <th>0</th>\n",
       "      <td>15208</td>\n",
       "      <td>1.361677e+06</td>\n",
       "    </tr>\n",
       "    <tr>\n",
       "      <th>1</th>\n",
       "      <td>15209</td>\n",
       "      <td>3.089006e+05</td>\n",
       "    </tr>\n",
       "    <tr>\n",
       "      <th>2</th>\n",
       "      <td>15210</td>\n",
       "      <td>7.865835e+05</td>\n",
       "    </tr>\n",
       "    <tr>\n",
       "      <th>3</th>\n",
       "      <td>15211</td>\n",
       "      <td>2.143299e+05</td>\n",
       "    </tr>\n",
       "    <tr>\n",
       "      <th>4</th>\n",
       "      <td>15212</td>\n",
       "      <td>4.413795e+05</td>\n",
       "    </tr>\n",
       "  </tbody>\n",
       "</table>\n",
       "</div>"
      ],
      "text/plain": [
       "      id         price\n",
       "0  15208  1.361677e+06\n",
       "1  15209  3.089006e+05\n",
       "2  15210  7.865835e+05\n",
       "3  15211  2.143299e+05\n",
       "4  15212  4.413795e+05"
      ]
     },
     "execution_count": 42,
     "metadata": {},
     "output_type": "execute_result"
    }
   ],
   "source": [
    "result = pd.DataFrame({\n",
    "    'id' : sub_id, \n",
    "    'price' : y_pred\n",
    "})\n",
    "\n",
    "result.head()"
   ]
  },
  {
   "cell_type": "code",
   "execution_count": 43,
   "id": "813af6a4",
   "metadata": {},
   "outputs": [
    {
     "name": "stdout",
     "output_type": "stream",
     "text": [
      "/aiffel/aiffel/kaggle_kakr_housing/data/submission.csv\n"
     ]
    }
   ],
   "source": [
    "my_submission_path = join(data_dir, 'submission.csv')\n",
    "result.to_csv(my_submission_path, index=False)\n",
    "\n",
    "print(my_submission_path)"
   ]
  },
  {
   "cell_type": "markdown",
   "id": "133f69db",
   "metadata": {},
   "source": [
    "## 3.8. 일단 제출하고 시작해! Baseline 모델 (5) 캐글에 첫 결과 제출하기"
   ]
  },
  {
   "cell_type": "markdown",
   "id": "acbf085d",
   "metadata": {},
   "source": [
    "## 3.9. 랭킹을 올리고 싶다면? (1) 다시 한 번, 내 입맛대로 데이터 준비하기"
   ]
  },
  {
   "cell_type": "code",
   "execution_count": 44,
   "id": "1a0b1d84",
   "metadata": {},
   "outputs": [
    {
     "name": "stdout",
     "output_type": "stream",
     "text": [
      "얍💢\n"
     ]
    }
   ],
   "source": [
    "data_dir = os.getenv('HOME')+'/aiffel/kaggle_kakr_housing/data'\n",
    "\n",
    "train_data_path = join(data_dir, 'train.csv')\n",
    "test_data_path = join(data_dir, 'test.csv') \n",
    "\n",
    "train = pd.read_csv(train_data_path)\n",
    "test = pd.read_csv(test_data_path)\n",
    "\n",
    "print('얍💢')"
   ]
  },
  {
   "cell_type": "code",
   "execution_count": 45,
   "id": "1ae15045",
   "metadata": {},
   "outputs": [
    {
     "name": "stdout",
     "output_type": "stream",
     "text": [
      "(15035, 21)\n",
      "(6468, 20)\n"
     ]
    }
   ],
   "source": [
    "print(train.shape)\n",
    "print(test.shape)"
   ]
  },
  {
   "cell_type": "code",
   "execution_count": 46,
   "id": "c9b5a1ac",
   "metadata": {
    "scrolled": true
   },
   "outputs": [
    {
     "data": {
      "text/html": [
       "<div>\n",
       "<style scoped>\n",
       "    .dataframe tbody tr th:only-of-type {\n",
       "        vertical-align: middle;\n",
       "    }\n",
       "\n",
       "    .dataframe tbody tr th {\n",
       "        vertical-align: top;\n",
       "    }\n",
       "\n",
       "    .dataframe thead th {\n",
       "        text-align: right;\n",
       "    }\n",
       "</style>\n",
       "<table border=\"1\" class=\"dataframe\">\n",
       "  <thead>\n",
       "    <tr style=\"text-align: right;\">\n",
       "      <th></th>\n",
       "      <th>id</th>\n",
       "      <th>date</th>\n",
       "      <th>price</th>\n",
       "      <th>bedrooms</th>\n",
       "      <th>bathrooms</th>\n",
       "      <th>sqft_living</th>\n",
       "      <th>sqft_lot</th>\n",
       "      <th>floors</th>\n",
       "      <th>waterfront</th>\n",
       "      <th>view</th>\n",
       "      <th>...</th>\n",
       "      <th>grade</th>\n",
       "      <th>sqft_above</th>\n",
       "      <th>sqft_basement</th>\n",
       "      <th>yr_built</th>\n",
       "      <th>yr_renovated</th>\n",
       "      <th>zipcode</th>\n",
       "      <th>lat</th>\n",
       "      <th>long</th>\n",
       "      <th>sqft_living15</th>\n",
       "      <th>sqft_lot15</th>\n",
       "    </tr>\n",
       "  </thead>\n",
       "  <tbody>\n",
       "    <tr>\n",
       "      <th>0</th>\n",
       "      <td>0</td>\n",
       "      <td>20141013T000000</td>\n",
       "      <td>221900.0</td>\n",
       "      <td>3</td>\n",
       "      <td>1.00</td>\n",
       "      <td>1180</td>\n",
       "      <td>5650</td>\n",
       "      <td>1.0</td>\n",
       "      <td>0</td>\n",
       "      <td>0</td>\n",
       "      <td>...</td>\n",
       "      <td>7</td>\n",
       "      <td>1180</td>\n",
       "      <td>0</td>\n",
       "      <td>1955</td>\n",
       "      <td>0</td>\n",
       "      <td>98178</td>\n",
       "      <td>47.5112</td>\n",
       "      <td>-122.257</td>\n",
       "      <td>1340</td>\n",
       "      <td>5650</td>\n",
       "    </tr>\n",
       "    <tr>\n",
       "      <th>1</th>\n",
       "      <td>1</td>\n",
       "      <td>20150225T000000</td>\n",
       "      <td>180000.0</td>\n",
       "      <td>2</td>\n",
       "      <td>1.00</td>\n",
       "      <td>770</td>\n",
       "      <td>10000</td>\n",
       "      <td>1.0</td>\n",
       "      <td>0</td>\n",
       "      <td>0</td>\n",
       "      <td>...</td>\n",
       "      <td>6</td>\n",
       "      <td>770</td>\n",
       "      <td>0</td>\n",
       "      <td>1933</td>\n",
       "      <td>0</td>\n",
       "      <td>98028</td>\n",
       "      <td>47.7379</td>\n",
       "      <td>-122.233</td>\n",
       "      <td>2720</td>\n",
       "      <td>8062</td>\n",
       "    </tr>\n",
       "    <tr>\n",
       "      <th>2</th>\n",
       "      <td>2</td>\n",
       "      <td>20150218T000000</td>\n",
       "      <td>510000.0</td>\n",
       "      <td>3</td>\n",
       "      <td>2.00</td>\n",
       "      <td>1680</td>\n",
       "      <td>8080</td>\n",
       "      <td>1.0</td>\n",
       "      <td>0</td>\n",
       "      <td>0</td>\n",
       "      <td>...</td>\n",
       "      <td>8</td>\n",
       "      <td>1680</td>\n",
       "      <td>0</td>\n",
       "      <td>1987</td>\n",
       "      <td>0</td>\n",
       "      <td>98074</td>\n",
       "      <td>47.6168</td>\n",
       "      <td>-122.045</td>\n",
       "      <td>1800</td>\n",
       "      <td>7503</td>\n",
       "    </tr>\n",
       "    <tr>\n",
       "      <th>3</th>\n",
       "      <td>3</td>\n",
       "      <td>20140627T000000</td>\n",
       "      <td>257500.0</td>\n",
       "      <td>3</td>\n",
       "      <td>2.25</td>\n",
       "      <td>1715</td>\n",
       "      <td>6819</td>\n",
       "      <td>2.0</td>\n",
       "      <td>0</td>\n",
       "      <td>0</td>\n",
       "      <td>...</td>\n",
       "      <td>7</td>\n",
       "      <td>1715</td>\n",
       "      <td>0</td>\n",
       "      <td>1995</td>\n",
       "      <td>0</td>\n",
       "      <td>98003</td>\n",
       "      <td>47.3097</td>\n",
       "      <td>-122.327</td>\n",
       "      <td>2238</td>\n",
       "      <td>6819</td>\n",
       "    </tr>\n",
       "    <tr>\n",
       "      <th>4</th>\n",
       "      <td>4</td>\n",
       "      <td>20150115T000000</td>\n",
       "      <td>291850.0</td>\n",
       "      <td>3</td>\n",
       "      <td>1.50</td>\n",
       "      <td>1060</td>\n",
       "      <td>9711</td>\n",
       "      <td>1.0</td>\n",
       "      <td>0</td>\n",
       "      <td>0</td>\n",
       "      <td>...</td>\n",
       "      <td>7</td>\n",
       "      <td>1060</td>\n",
       "      <td>0</td>\n",
       "      <td>1963</td>\n",
       "      <td>0</td>\n",
       "      <td>98198</td>\n",
       "      <td>47.4095</td>\n",
       "      <td>-122.315</td>\n",
       "      <td>1650</td>\n",
       "      <td>9711</td>\n",
       "    </tr>\n",
       "    <tr>\n",
       "      <th>...</th>\n",
       "      <td>...</td>\n",
       "      <td>...</td>\n",
       "      <td>...</td>\n",
       "      <td>...</td>\n",
       "      <td>...</td>\n",
       "      <td>...</td>\n",
       "      <td>...</td>\n",
       "      <td>...</td>\n",
       "      <td>...</td>\n",
       "      <td>...</td>\n",
       "      <td>...</td>\n",
       "      <td>...</td>\n",
       "      <td>...</td>\n",
       "      <td>...</td>\n",
       "      <td>...</td>\n",
       "      <td>...</td>\n",
       "      <td>...</td>\n",
       "      <td>...</td>\n",
       "      <td>...</td>\n",
       "      <td>...</td>\n",
       "      <td>...</td>\n",
       "    </tr>\n",
       "    <tr>\n",
       "      <th>15030</th>\n",
       "      <td>15030</td>\n",
       "      <td>20141014T000000</td>\n",
       "      <td>610685.0</td>\n",
       "      <td>4</td>\n",
       "      <td>2.50</td>\n",
       "      <td>2520</td>\n",
       "      <td>6023</td>\n",
       "      <td>2.0</td>\n",
       "      <td>0</td>\n",
       "      <td>0</td>\n",
       "      <td>...</td>\n",
       "      <td>9</td>\n",
       "      <td>2520</td>\n",
       "      <td>0</td>\n",
       "      <td>2014</td>\n",
       "      <td>0</td>\n",
       "      <td>98056</td>\n",
       "      <td>47.5137</td>\n",
       "      <td>-122.167</td>\n",
       "      <td>2520</td>\n",
       "      <td>6023</td>\n",
       "    </tr>\n",
       "    <tr>\n",
       "      <th>15031</th>\n",
       "      <td>15031</td>\n",
       "      <td>20150326T000000</td>\n",
       "      <td>1007500.0</td>\n",
       "      <td>4</td>\n",
       "      <td>3.50</td>\n",
       "      <td>3510</td>\n",
       "      <td>7200</td>\n",
       "      <td>2.0</td>\n",
       "      <td>0</td>\n",
       "      <td>0</td>\n",
       "      <td>...</td>\n",
       "      <td>9</td>\n",
       "      <td>2600</td>\n",
       "      <td>910</td>\n",
       "      <td>2009</td>\n",
       "      <td>0</td>\n",
       "      <td>98136</td>\n",
       "      <td>47.5537</td>\n",
       "      <td>-122.398</td>\n",
       "      <td>2050</td>\n",
       "      <td>6200</td>\n",
       "    </tr>\n",
       "    <tr>\n",
       "      <th>15032</th>\n",
       "      <td>15032</td>\n",
       "      <td>20140521T000000</td>\n",
       "      <td>360000.0</td>\n",
       "      <td>3</td>\n",
       "      <td>2.50</td>\n",
       "      <td>1530</td>\n",
       "      <td>1131</td>\n",
       "      <td>3.0</td>\n",
       "      <td>0</td>\n",
       "      <td>0</td>\n",
       "      <td>...</td>\n",
       "      <td>8</td>\n",
       "      <td>1530</td>\n",
       "      <td>0</td>\n",
       "      <td>2009</td>\n",
       "      <td>0</td>\n",
       "      <td>98103</td>\n",
       "      <td>47.6993</td>\n",
       "      <td>-122.346</td>\n",
       "      <td>1530</td>\n",
       "      <td>1509</td>\n",
       "    </tr>\n",
       "    <tr>\n",
       "      <th>15033</th>\n",
       "      <td>15033</td>\n",
       "      <td>20150223T000000</td>\n",
       "      <td>400000.0</td>\n",
       "      <td>4</td>\n",
       "      <td>2.50</td>\n",
       "      <td>2310</td>\n",
       "      <td>5813</td>\n",
       "      <td>2.0</td>\n",
       "      <td>0</td>\n",
       "      <td>0</td>\n",
       "      <td>...</td>\n",
       "      <td>8</td>\n",
       "      <td>2310</td>\n",
       "      <td>0</td>\n",
       "      <td>2014</td>\n",
       "      <td>0</td>\n",
       "      <td>98146</td>\n",
       "      <td>47.5107</td>\n",
       "      <td>-122.362</td>\n",
       "      <td>1830</td>\n",
       "      <td>7200</td>\n",
       "    </tr>\n",
       "    <tr>\n",
       "      <th>15034</th>\n",
       "      <td>15034</td>\n",
       "      <td>20141015T000000</td>\n",
       "      <td>325000.0</td>\n",
       "      <td>2</td>\n",
       "      <td>0.75</td>\n",
       "      <td>1020</td>\n",
       "      <td>1076</td>\n",
       "      <td>2.0</td>\n",
       "      <td>0</td>\n",
       "      <td>0</td>\n",
       "      <td>...</td>\n",
       "      <td>7</td>\n",
       "      <td>1020</td>\n",
       "      <td>0</td>\n",
       "      <td>2008</td>\n",
       "      <td>0</td>\n",
       "      <td>98144</td>\n",
       "      <td>47.5941</td>\n",
       "      <td>-122.299</td>\n",
       "      <td>1020</td>\n",
       "      <td>1357</td>\n",
       "    </tr>\n",
       "  </tbody>\n",
       "</table>\n",
       "<p>15035 rows × 21 columns</p>\n",
       "</div>"
      ],
      "text/plain": [
       "          id             date      price  bedrooms  bathrooms  sqft_living  \\\n",
       "0          0  20141013T000000   221900.0         3       1.00         1180   \n",
       "1          1  20150225T000000   180000.0         2       1.00          770   \n",
       "2          2  20150218T000000   510000.0         3       2.00         1680   \n",
       "3          3  20140627T000000   257500.0         3       2.25         1715   \n",
       "4          4  20150115T000000   291850.0         3       1.50         1060   \n",
       "...      ...              ...        ...       ...        ...          ...   \n",
       "15030  15030  20141014T000000   610685.0         4       2.50         2520   \n",
       "15031  15031  20150326T000000  1007500.0         4       3.50         3510   \n",
       "15032  15032  20140521T000000   360000.0         3       2.50         1530   \n",
       "15033  15033  20150223T000000   400000.0         4       2.50         2310   \n",
       "15034  15034  20141015T000000   325000.0         2       0.75         1020   \n",
       "\n",
       "       sqft_lot  floors  waterfront  view  ...  grade  sqft_above  \\\n",
       "0          5650     1.0           0     0  ...      7        1180   \n",
       "1         10000     1.0           0     0  ...      6         770   \n",
       "2          8080     1.0           0     0  ...      8        1680   \n",
       "3          6819     2.0           0     0  ...      7        1715   \n",
       "4          9711     1.0           0     0  ...      7        1060   \n",
       "...         ...     ...         ...   ...  ...    ...         ...   \n",
       "15030      6023     2.0           0     0  ...      9        2520   \n",
       "15031      7200     2.0           0     0  ...      9        2600   \n",
       "15032      1131     3.0           0     0  ...      8        1530   \n",
       "15033      5813     2.0           0     0  ...      8        2310   \n",
       "15034      1076     2.0           0     0  ...      7        1020   \n",
       "\n",
       "       sqft_basement  yr_built  yr_renovated  zipcode      lat     long  \\\n",
       "0                  0      1955             0    98178  47.5112 -122.257   \n",
       "1                  0      1933             0    98028  47.7379 -122.233   \n",
       "2                  0      1987             0    98074  47.6168 -122.045   \n",
       "3                  0      1995             0    98003  47.3097 -122.327   \n",
       "4                  0      1963             0    98198  47.4095 -122.315   \n",
       "...              ...       ...           ...      ...      ...      ...   \n",
       "15030              0      2014             0    98056  47.5137 -122.167   \n",
       "15031            910      2009             0    98136  47.5537 -122.398   \n",
       "15032              0      2009             0    98103  47.6993 -122.346   \n",
       "15033              0      2014             0    98146  47.5107 -122.362   \n",
       "15034              0      2008             0    98144  47.5941 -122.299   \n",
       "\n",
       "       sqft_living15  sqft_lot15  \n",
       "0               1340        5650  \n",
       "1               2720        8062  \n",
       "2               1800        7503  \n",
       "3               2238        6819  \n",
       "4               1650        9711  \n",
       "...              ...         ...  \n",
       "15030           2520        6023  \n",
       "15031           2050        6200  \n",
       "15032           1530        1509  \n",
       "15033           1830        7200  \n",
       "15034           1020        1357  \n",
       "\n",
       "[15035 rows x 21 columns]"
      ]
     },
     "execution_count": 46,
     "metadata": {},
     "output_type": "execute_result"
    }
   ],
   "source": [
    "train"
   ]
  },
  {
   "cell_type": "code",
   "execution_count": 47,
   "id": "89a96d74",
   "metadata": {
    "scrolled": true
   },
   "outputs": [
    {
     "data": {
      "text/html": [
       "<div>\n",
       "<style scoped>\n",
       "    .dataframe tbody tr th:only-of-type {\n",
       "        vertical-align: middle;\n",
       "    }\n",
       "\n",
       "    .dataframe tbody tr th {\n",
       "        vertical-align: top;\n",
       "    }\n",
       "\n",
       "    .dataframe thead th {\n",
       "        text-align: right;\n",
       "    }\n",
       "</style>\n",
       "<table border=\"1\" class=\"dataframe\">\n",
       "  <thead>\n",
       "    <tr style=\"text-align: right;\">\n",
       "      <th></th>\n",
       "      <th>id</th>\n",
       "      <th>date</th>\n",
       "      <th>price</th>\n",
       "      <th>bedrooms</th>\n",
       "      <th>bathrooms</th>\n",
       "      <th>sqft_living</th>\n",
       "      <th>sqft_lot</th>\n",
       "      <th>floors</th>\n",
       "      <th>waterfront</th>\n",
       "      <th>view</th>\n",
       "      <th>...</th>\n",
       "      <th>grade</th>\n",
       "      <th>sqft_above</th>\n",
       "      <th>sqft_basement</th>\n",
       "      <th>yr_built</th>\n",
       "      <th>yr_renovated</th>\n",
       "      <th>zipcode</th>\n",
       "      <th>lat</th>\n",
       "      <th>long</th>\n",
       "      <th>sqft_living15</th>\n",
       "      <th>sqft_lot15</th>\n",
       "    </tr>\n",
       "  </thead>\n",
       "  <tbody>\n",
       "    <tr>\n",
       "      <th>0</th>\n",
       "      <td>0</td>\n",
       "      <td>201410</td>\n",
       "      <td>221900.0</td>\n",
       "      <td>3</td>\n",
       "      <td>1.00</td>\n",
       "      <td>1180</td>\n",
       "      <td>5650</td>\n",
       "      <td>1.0</td>\n",
       "      <td>0</td>\n",
       "      <td>0</td>\n",
       "      <td>...</td>\n",
       "      <td>7</td>\n",
       "      <td>1180</td>\n",
       "      <td>0</td>\n",
       "      <td>1955</td>\n",
       "      <td>0</td>\n",
       "      <td>98178</td>\n",
       "      <td>47.5112</td>\n",
       "      <td>-122.257</td>\n",
       "      <td>1340</td>\n",
       "      <td>5650</td>\n",
       "    </tr>\n",
       "    <tr>\n",
       "      <th>1</th>\n",
       "      <td>1</td>\n",
       "      <td>201502</td>\n",
       "      <td>180000.0</td>\n",
       "      <td>2</td>\n",
       "      <td>1.00</td>\n",
       "      <td>770</td>\n",
       "      <td>10000</td>\n",
       "      <td>1.0</td>\n",
       "      <td>0</td>\n",
       "      <td>0</td>\n",
       "      <td>...</td>\n",
       "      <td>6</td>\n",
       "      <td>770</td>\n",
       "      <td>0</td>\n",
       "      <td>1933</td>\n",
       "      <td>0</td>\n",
       "      <td>98028</td>\n",
       "      <td>47.7379</td>\n",
       "      <td>-122.233</td>\n",
       "      <td>2720</td>\n",
       "      <td>8062</td>\n",
       "    </tr>\n",
       "    <tr>\n",
       "      <th>2</th>\n",
       "      <td>2</td>\n",
       "      <td>201502</td>\n",
       "      <td>510000.0</td>\n",
       "      <td>3</td>\n",
       "      <td>2.00</td>\n",
       "      <td>1680</td>\n",
       "      <td>8080</td>\n",
       "      <td>1.0</td>\n",
       "      <td>0</td>\n",
       "      <td>0</td>\n",
       "      <td>...</td>\n",
       "      <td>8</td>\n",
       "      <td>1680</td>\n",
       "      <td>0</td>\n",
       "      <td>1987</td>\n",
       "      <td>0</td>\n",
       "      <td>98074</td>\n",
       "      <td>47.6168</td>\n",
       "      <td>-122.045</td>\n",
       "      <td>1800</td>\n",
       "      <td>7503</td>\n",
       "    </tr>\n",
       "    <tr>\n",
       "      <th>3</th>\n",
       "      <td>3</td>\n",
       "      <td>201406</td>\n",
       "      <td>257500.0</td>\n",
       "      <td>3</td>\n",
       "      <td>2.25</td>\n",
       "      <td>1715</td>\n",
       "      <td>6819</td>\n",
       "      <td>2.0</td>\n",
       "      <td>0</td>\n",
       "      <td>0</td>\n",
       "      <td>...</td>\n",
       "      <td>7</td>\n",
       "      <td>1715</td>\n",
       "      <td>0</td>\n",
       "      <td>1995</td>\n",
       "      <td>0</td>\n",
       "      <td>98003</td>\n",
       "      <td>47.3097</td>\n",
       "      <td>-122.327</td>\n",
       "      <td>2238</td>\n",
       "      <td>6819</td>\n",
       "    </tr>\n",
       "    <tr>\n",
       "      <th>4</th>\n",
       "      <td>4</td>\n",
       "      <td>201501</td>\n",
       "      <td>291850.0</td>\n",
       "      <td>3</td>\n",
       "      <td>1.50</td>\n",
       "      <td>1060</td>\n",
       "      <td>9711</td>\n",
       "      <td>1.0</td>\n",
       "      <td>0</td>\n",
       "      <td>0</td>\n",
       "      <td>...</td>\n",
       "      <td>7</td>\n",
       "      <td>1060</td>\n",
       "      <td>0</td>\n",
       "      <td>1963</td>\n",
       "      <td>0</td>\n",
       "      <td>98198</td>\n",
       "      <td>47.4095</td>\n",
       "      <td>-122.315</td>\n",
       "      <td>1650</td>\n",
       "      <td>9711</td>\n",
       "    </tr>\n",
       "  </tbody>\n",
       "</table>\n",
       "<p>5 rows × 21 columns</p>\n",
       "</div>"
      ],
      "text/plain": [
       "   id    date     price  bedrooms  bathrooms  sqft_living  sqft_lot  floors  \\\n",
       "0   0  201410  221900.0         3       1.00         1180      5650     1.0   \n",
       "1   1  201502  180000.0         2       1.00          770     10000     1.0   \n",
       "2   2  201502  510000.0         3       2.00         1680      8080     1.0   \n",
       "3   3  201406  257500.0         3       2.25         1715      6819     2.0   \n",
       "4   4  201501  291850.0         3       1.50         1060      9711     1.0   \n",
       "\n",
       "   waterfront  view  ...  grade  sqft_above  sqft_basement  yr_built  \\\n",
       "0           0     0  ...      7        1180              0      1955   \n",
       "1           0     0  ...      6         770              0      1933   \n",
       "2           0     0  ...      8        1680              0      1987   \n",
       "3           0     0  ...      7        1715              0      1995   \n",
       "4           0     0  ...      7        1060              0      1963   \n",
       "\n",
       "   yr_renovated  zipcode      lat     long  sqft_living15  sqft_lot15  \n",
       "0             0    98178  47.5112 -122.257           1340        5650  \n",
       "1             0    98028  47.7379 -122.233           2720        8062  \n",
       "2             0    98074  47.6168 -122.045           1800        7503  \n",
       "3             0    98003  47.3097 -122.327           2238        6819  \n",
       "4             0    98198  47.4095 -122.315           1650        9711  \n",
       "\n",
       "[5 rows x 21 columns]"
      ]
     },
     "execution_count": 47,
     "metadata": {},
     "output_type": "execute_result"
    }
   ],
   "source": [
    "train['date'] = train['date'].apply(lambda i: i[:6]).astype(int)\n",
    "train.head()"
   ]
  },
  {
   "cell_type": "code",
   "execution_count": 48,
   "id": "afa85d3a",
   "metadata": {},
   "outputs": [
    {
     "name": "stdout",
     "output_type": "stream",
     "text": [
      "Index(['id', 'date', 'bedrooms', 'bathrooms', 'sqft_living', 'sqft_lot',\n",
      "       'floors', 'waterfront', 'view', 'condition', 'grade', 'sqft_above',\n",
      "       'sqft_basement', 'yr_built', 'yr_renovated', 'zipcode', 'lat', 'long',\n",
      "       'sqft_living15', 'sqft_lot15'],\n",
      "      dtype='object')\n"
     ]
    }
   ],
   "source": [
    "y = train['price']\n",
    "del train['price']\n",
    "\n",
    "print(train.columns)"
   ]
  },
  {
   "cell_type": "code",
   "execution_count": 49,
   "id": "2fe9e904",
   "metadata": {},
   "outputs": [
    {
     "name": "stdout",
     "output_type": "stream",
     "text": [
      "Index(['date', 'bedrooms', 'bathrooms', 'sqft_living', 'sqft_lot', 'floors',\n",
      "       'waterfront', 'view', 'condition', 'grade', 'sqft_above',\n",
      "       'sqft_basement', 'yr_built', 'yr_renovated', 'zipcode', 'lat', 'long',\n",
      "       'sqft_living15', 'sqft_lot15'],\n",
      "      dtype='object')\n"
     ]
    }
   ],
   "source": [
    "del train['id']\n",
    "\n",
    "print(train.columns)"
   ]
  },
  {
   "cell_type": "code",
   "execution_count": 50,
   "id": "43cde406",
   "metadata": {},
   "outputs": [
    {
     "name": "stdout",
     "output_type": "stream",
     "text": [
      "Index(['date', 'bedrooms', 'bathrooms', 'sqft_living', 'sqft_lot', 'floors',\n",
      "       'waterfront', 'view', 'condition', 'grade', 'sqft_above',\n",
      "       'sqft_basement', 'yr_built', 'yr_renovated', 'zipcode', 'lat', 'long',\n",
      "       'sqft_living15', 'sqft_lot15'],\n",
      "      dtype='object')\n"
     ]
    }
   ],
   "source": [
    "test['date'] = test['date'].apply(lambda i: i[:6]).astype(int)\n",
    "\n",
    "del test['id']\n",
    "\n",
    "print(test.columns)"
   ]
  },
  {
   "cell_type": "code",
   "execution_count": 51,
   "id": "2edeae61",
   "metadata": {},
   "outputs": [
    {
     "name": "stdout",
     "output_type": "stream",
     "text": [
      "(15035, 19)\n",
      "(6468, 19)\n"
     ]
    }
   ],
   "source": [
    "print(train.shape)\n",
    "print(test.shape)"
   ]
  },
  {
   "cell_type": "code",
   "execution_count": 52,
   "id": "75c58fd1",
   "metadata": {},
   "outputs": [
    {
     "data": {
      "text/plain": [
       "0         221900.0\n",
       "1         180000.0\n",
       "2         510000.0\n",
       "3         257500.0\n",
       "4         291850.0\n",
       "           ...    \n",
       "15030     610685.0\n",
       "15031    1007500.0\n",
       "15032     360000.0\n",
       "15033     400000.0\n",
       "15034     325000.0\n",
       "Name: price, Length: 15035, dtype: float64"
      ]
     },
     "execution_count": 52,
     "metadata": {},
     "output_type": "execute_result"
    }
   ],
   "source": [
    "y"
   ]
  },
  {
   "cell_type": "code",
   "execution_count": 53,
   "id": "5ce17252",
   "metadata": {},
   "outputs": [
    {
     "data": {
      "text/plain": [
       "<AxesSubplot:xlabel='price', ylabel='Density'>"
      ]
     },
     "execution_count": 53,
     "metadata": {},
     "output_type": "execute_result"
    },
    {
     "data": {
      "image/png": "[encoded data removed]",
      "text/plain": [
       "<Figure size 432x288 with 1 Axes>"
      ]
     },
     "metadata": {
      "needs_background": "light"
     },
     "output_type": "display_data"
    }
   ],
   "source": [
    "sns.kdeplot(data = y, bw_adjust = 1)"
   ]
  },
  {
   "cell_type": "code",
   "execution_count": 54,
   "id": "170434c0",
   "metadata": {},
   "outputs": [
    {
     "data": {
      "text/plain": [
       "0        12.309987\n",
       "1        12.100718\n",
       "2        13.142168\n",
       "3        12.458779\n",
       "4        12.583999\n",
       "           ...    \n",
       "15030    13.322338\n",
       "15031    13.822984\n",
       "15032    12.793862\n",
       "15033    12.899222\n",
       "15034    12.691584\n",
       "Name: price, Length: 15035, dtype: float64"
      ]
     },
     "execution_count": 54,
     "metadata": {},
     "output_type": "execute_result"
    }
   ],
   "source": [
    "y = np.log1p(y)\n",
    "y"
   ]
  },
  {
   "cell_type": "code",
   "execution_count": 55,
   "id": "963bead1",
   "metadata": {},
   "outputs": [
    {
     "data": {
      "image/png": "[encoded data removed]",
      "text/plain": [
       "<Figure size 432x288 with 1 Axes>"
      ]
     },
     "metadata": {
      "needs_background": "light"
     },
     "output_type": "display_data"
    }
   ],
   "source": [
    "sns.kdeplot(y)\n",
    "plt.show()"
   ]
  },
  {
   "cell_type": "code",
   "execution_count": 56,
   "id": "5f0c7fb7",
   "metadata": {},
   "outputs": [
    {
     "name": "stdout",
     "output_type": "stream",
     "text": [
      "<class 'pandas.core.frame.DataFrame'>\n",
      "RangeIndex: 15035 entries, 0 to 15034\n",
      "Data columns (total 19 columns):\n",
      " #   Column         Non-Null Count  Dtype  \n",
      "---  ------         --------------  -----  \n",
      " 0   date           15035 non-null  int64  \n",
      " 1   bedrooms       15035 non-null  int64  \n",
      " 2   bathrooms      15035 non-null  float64\n",
      " 3   sqft_living    15035 non-null  int64  \n",
      " 4   sqft_lot       15035 non-null  int64  \n",
      " 5   floors         15035 non-null  float64\n",
      " 6   waterfront     15035 non-null  int64  \n",
      " 7   view           15035 non-null  int64  \n",
      " 8   condition      15035 non-null  int64  \n",
      " 9   grade          15035 non-null  int64  \n",
      " 10  sqft_above     15035 non-null  int64  \n",
      " 11  sqft_basement  15035 non-null  int64  \n",
      " 12  yr_built       15035 non-null  int64  \n",
      " 13  yr_renovated   15035 non-null  int64  \n",
      " 14  zipcode        15035 non-null  int64  \n",
      " 15  lat            15035 non-null  float64\n",
      " 16  long           15035 non-null  float64\n",
      " 17  sqft_living15  15035 non-null  int64  \n",
      " 18  sqft_lot15     15035 non-null  int64  \n",
      "dtypes: float64(4), int64(15)\n",
      "memory usage: 2.2 MB\n"
     ]
    }
   ],
   "source": [
    "train.info()"
   ]
  },
  {
   "cell_type": "markdown",
   "id": "1bb37813",
   "metadata": {},
   "source": [
    "## 3.10. 랭킹을 올리고 싶다면? (2) 다양한 실험을 위해 함수로 만들어 쓰자"
   ]
  },
  {
   "cell_type": "code",
   "execution_count": 57,
   "id": "56a48f7e",
   "metadata": {},
   "outputs": [
    {
     "name": "stdout",
     "output_type": "stream",
     "text": [
      "얍💢\n"
     ]
    }
   ],
   "source": [
    "from sklearn.model_selection import train_test_split\n",
    "from sklearn.metrics import mean_squared_error\n",
    "\n",
    "print('얍💢')"
   ]
  },
  {
   "cell_type": "code",
   "execution_count": 58,
   "id": "f1bb6a87",
   "metadata": {},
   "outputs": [
    {
     "name": "stdout",
     "output_type": "stream",
     "text": [
      "얍💢\n"
     ]
    }
   ],
   "source": [
    "def rmse(y_test, y_pred):\n",
    "    return np.sqrt(mean_squared_error(np.expm1(y_test), np.expm1(y_pred)))\n",
    "\n",
    "print('얍💢')"
   ]
  },
  {
   "cell_type": "code",
   "execution_count": 59,
   "id": "4ee949b0",
   "metadata": {},
   "outputs": [
    {
     "name": "stdout",
     "output_type": "stream",
     "text": [
      "얍💢\n"
     ]
    }
   ],
   "source": [
    "from xgboost import XGBRegressor\n",
    "from lightgbm import LGBMRegressor\n",
    "from sklearn.ensemble import GradientBoostingRegressor, RandomForestRegressor\n",
    "\n",
    "print('얍💢')"
   ]
  },
  {
   "cell_type": "code",
   "execution_count": 60,
   "id": "97e74dbf",
   "metadata": {},
   "outputs": [
    {
     "name": "stdout",
     "output_type": "stream",
     "text": [
      "얍💢\n"
     ]
    }
   ],
   "source": [
    "# random_state는 모델초기화나 데이터셋 구성에 사용되는 랜덤 시드값입니다. \n",
    "#random_state=None    # 이게 초기값입니다. 아무것도 지정하지 않고 None을 넘겨주면 모델 내부에서 임의로 선택합니다.  \n",
    "random_state=2020        # 하지만 우리는 이렇게 고정값을 세팅해 두겠습니다. \n",
    "\n",
    "gboost = GradientBoostingRegressor(random_state=random_state)\n",
    "xgboost = XGBRegressor(random_state=random_state)\n",
    "lightgbm = LGBMRegressor(random_state=random_state)\n",
    "rdforest = RandomForestRegressor(random_state=random_state)\n",
    "\n",
    "models = [gboost, xgboost, lightgbm, rdforest]\n",
    "\n",
    "print('얍💢')"
   ]
  },
  {
   "cell_type": "code",
   "execution_count": 61,
   "id": "d825678d",
   "metadata": {},
   "outputs": [
    {
     "data": {
      "text/plain": [
       "'GradientBoostingRegressor'"
      ]
     },
     "execution_count": 61,
     "metadata": {},
     "output_type": "execute_result"
    }
   ],
   "source": [
    "gboost.__class__.__name__"
   ]
  },
  {
   "cell_type": "code",
   "execution_count": 70,
   "id": "b2927b33",
   "metadata": {},
   "outputs": [
    {
     "data": {
      "text/html": [
       "<div>\n",
       "<style scoped>\n",
       "    .dataframe tbody tr th:only-of-type {\n",
       "        vertical-align: middle;\n",
       "    }\n",
       "\n",
       "    .dataframe tbody tr th {\n",
       "        vertical-align: top;\n",
       "    }\n",
       "\n",
       "    .dataframe thead th {\n",
       "        text-align: right;\n",
       "    }\n",
       "</style>\n",
       "<table border=\"1\" class=\"dataframe\">\n",
       "  <thead>\n",
       "    <tr style=\"text-align: right;\">\n",
       "      <th></th>\n",
       "      <th>RMSE</th>\n",
       "    </tr>\n",
       "  </thead>\n",
       "  <tbody>\n",
       "    <tr>\n",
       "      <th>GradientBoostingRegressor</th>\n",
       "      <td>128360.196497</td>\n",
       "    </tr>\n",
       "    <tr>\n",
       "      <th>RandomForestRegressor</th>\n",
       "      <td>125487.071025</td>\n",
       "    </tr>\n",
       "    <tr>\n",
       "      <th>LGBMRegressor</th>\n",
       "      <td>111920.367359</td>\n",
       "    </tr>\n",
       "    <tr>\n",
       "      <th>XGBRegressor</th>\n",
       "      <td>110318.669566</td>\n",
       "    </tr>\n",
       "  </tbody>\n",
       "</table>\n",
       "</div>"
      ],
      "text/plain": [
       "                                    RMSE\n",
       "GradientBoostingRegressor  128360.196497\n",
       "RandomForestRegressor      125487.071025\n",
       "LGBMRegressor              111920.367359\n",
       "XGBRegressor               110318.669566"
      ]
     },
     "execution_count": 70,
     "metadata": {},
     "output_type": "execute_result"
    }
   ],
   "source": [
    "df = {}\n",
    "\n",
    "for model in models:\n",
    "    # 모델 이름 획득\n",
    "    model_name = model.__class__.__name__\n",
    "\n",
    "    # train, test 데이터셋 분리 - 여기에도 random_state를 고정합니다. \n",
    "    X_train, X_test, y_train, y_test = train_test_split(train, y, random_state=random_state, test_size=0.2)\n",
    "\n",
    "    # 모델 학습\n",
    "    model.fit(X_train, y_train)\n",
    "    \n",
    "    # 예측\n",
    "    y_pred = model.predict(X_test)\n",
    "\n",
    "    # 예측 결과의 rmse값 저장\n",
    "    df[model_name] = rmse(y_test, y_pred)\n",
    "    \n",
    "    # data frame에 저장\n",
    "    score_df = pd.DataFrame(df, index=['RMSE']).T.sort_values('RMSE', ascending=False)\n",
    "    \n",
    "score_df"
   ]
  },
  {
   "cell_type": "code",
   "execution_count": 68,
   "id": "ce08edc2",
   "metadata": {},
   "outputs": [
    {
     "data": {
      "text/plain": [
       "dict_keys(['GradientBoostingRegressor', 'XGBRegressor', 'LGBMRegressor', 'RandomForestRegressor'])"
      ]
     },
     "execution_count": 68,
     "metadata": {},
     "output_type": "execute_result"
    }
   ],
   "source": [
    "df.keys()"
   ]
  },
  {
   "cell_type": "code",
   "execution_count": 69,
   "id": "a045f024",
   "metadata": {},
   "outputs": [
    {
     "data": {
      "text/plain": [
       "dict_values([128360.19649691365, 110318.66956616656, 111920.36735892233, 125487.07102453562])"
      ]
     },
     "execution_count": 69,
     "metadata": {},
     "output_type": "execute_result"
    }
   ],
   "source": [
    "df.values()"
   ]
  },
  {
   "cell_type": "code",
   "execution_count": 75,
   "id": "5afe077c",
   "metadata": {},
   "outputs": [
    {
     "data": {
      "text/html": [
       "<div>\n",
       "<style scoped>\n",
       "    .dataframe tbody tr th:only-of-type {\n",
       "        vertical-align: middle;\n",
       "    }\n",
       "\n",
       "    .dataframe tbody tr th {\n",
       "        vertical-align: top;\n",
       "    }\n",
       "\n",
       "    .dataframe thead th {\n",
       "        text-align: right;\n",
       "    }\n",
       "</style>\n",
       "<table border=\"1\" class=\"dataframe\">\n",
       "  <thead>\n",
       "    <tr style=\"text-align: right;\">\n",
       "      <th></th>\n",
       "      <th>RMSE</th>\n",
       "    </tr>\n",
       "  </thead>\n",
       "  <tbody>\n",
       "    <tr>\n",
       "      <th>GradientBoostingRegressor</th>\n",
       "      <td>128360.196497</td>\n",
       "    </tr>\n",
       "    <tr>\n",
       "      <th>RandomForestRegressor</th>\n",
       "      <td>125487.071025</td>\n",
       "    </tr>\n",
       "    <tr>\n",
       "      <th>LGBMRegressor</th>\n",
       "      <td>111920.367359</td>\n",
       "    </tr>\n",
       "    <tr>\n",
       "      <th>XGBRegressor</th>\n",
       "      <td>110318.669566</td>\n",
       "    </tr>\n",
       "  </tbody>\n",
       "</table>\n",
       "</div>"
      ],
      "text/plain": [
       "                                    RMSE\n",
       "GradientBoostingRegressor  128360.196497\n",
       "RandomForestRegressor      125487.071025\n",
       "LGBMRegressor              111920.367359\n",
       "XGBRegressor               110318.669566"
      ]
     },
     "execution_count": 75,
     "metadata": {},
     "output_type": "execute_result"
    }
   ],
   "source": [
    "# revisited\n",
    "df = {}\n",
    "for model in models:\n",
    "    model_name = model.__class__.__name__\n",
    "    X_train, X_test, y_train, y_test = train_test_split(train, y, random_state=random_state, test_size=0.2)\n",
    "    model.fit(X_train, y_train)\n",
    "    y_pred = model.predict(X_test)\n",
    "    df[model_name] = rmse(y_test, y_pred)\n",
    "    score_df = pd.DataFrame(df, index=['RMSE']).T.sort_values('RMSE',ascending = False)\n",
    "score_df"
   ]
  },
  {
   "cell_type": "code",
   "execution_count": 77,
   "id": "085c3b5b",
   "metadata": {},
   "outputs": [
    {
     "data": {
      "text/html": [
       "<div>\n",
       "<style scoped>\n",
       "    .dataframe tbody tr th:only-of-type {\n",
       "        vertical-align: middle;\n",
       "    }\n",
       "\n",
       "    .dataframe tbody tr th {\n",
       "        vertical-align: top;\n",
       "    }\n",
       "\n",
       "    .dataframe thead th {\n",
       "        text-align: right;\n",
       "    }\n",
       "</style>\n",
       "<table border=\"1\" class=\"dataframe\">\n",
       "  <thead>\n",
       "    <tr style=\"text-align: right;\">\n",
       "      <th></th>\n",
       "      <th>RMSE</th>\n",
       "    </tr>\n",
       "  </thead>\n",
       "  <tbody>\n",
       "    <tr>\n",
       "      <th>GradientBoostingRegressor</th>\n",
       "      <td>128360.196497</td>\n",
       "    </tr>\n",
       "    <tr>\n",
       "      <th>RandomForestRegressor</th>\n",
       "      <td>125487.071025</td>\n",
       "    </tr>\n",
       "    <tr>\n",
       "      <th>LGBMRegressor</th>\n",
       "      <td>111920.367359</td>\n",
       "    </tr>\n",
       "    <tr>\n",
       "      <th>XGBRegressor</th>\n",
       "      <td>110318.669566</td>\n",
       "    </tr>\n",
       "  </tbody>\n",
       "</table>\n",
       "</div>"
      ],
      "text/plain": [
       "                                    RMSE\n",
       "GradientBoostingRegressor  128360.196497\n",
       "RandomForestRegressor      125487.071025\n",
       "LGBMRegressor              111920.367359\n",
       "XGBRegressor               110318.669566"
      ]
     },
     "execution_count": 77,
     "metadata": {},
     "output_type": "execute_result"
    }
   ],
   "source": [
    "random_state=2020\n",
    "# a simplified version of the previous cell\n",
    "def get_scores(models, train, y):\n",
    "    df = {}\n",
    "    for model in models:\n",
    "        model_name = model.__class__.__name__\n",
    "        X_train, X_test, y_train, y_test = train_test_split(train, y, random_state=random_state, test_size=0.2)\n",
    "        model.fit(X_train, y_train)\n",
    "        y_pred = model.predict(X_test)\n",
    "        df[model_name] = rmse(y_test, y_pred)\n",
    "        score_df = pd.DataFrame(df, index=['RMSE']).T.sort_values('RMSE',ascending = False)\n",
    "    return score_df\n",
    "\n",
    "get_scores(models, train, y)"
   ]
  },
  {
   "cell_type": "markdown",
   "id": "b044f769",
   "metadata": {},
   "source": [
    "## 3.11. 랭킹을 올리고 싶다면? (3) 하이퍼 파라미터 튜닝의 최강자, 그리드 탐색"
   ]
  },
  {
   "cell_type": "code",
   "execution_count": 78,
   "id": "2f358447",
   "metadata": {},
   "outputs": [
    {
     "name": "stdout",
     "output_type": "stream",
     "text": [
      "얍💢\n"
     ]
    }
   ],
   "source": [
    "from sklearn.model_selection import GridSearchCV\n",
    "\n",
    "print('얍💢')"
   ]
  },
  {
   "cell_type": "code",
   "execution_count": 79,
   "id": "d6c3609c",
   "metadata": {},
   "outputs": [],
   "source": [
    "param_grid = {\n",
    "    'n_estimators': [50, 100],\n",
    "    'max_depth': [1, 10],\n",
    "}"
   ]
  },
  {
   "cell_type": "code",
   "execution_count": 80,
   "id": "be07c47a",
   "metadata": {},
   "outputs": [
    {
     "name": "stdout",
     "output_type": "stream",
     "text": [
      "얍💢\n"
     ]
    }
   ],
   "source": [
    "model = LGBMRegressor(random_state=random_state)\n",
    "\n",
    "print('얍💢')"
   ]
  },
  {
   "cell_type": "code",
   "execution_count": 81,
   "id": "af701ecb",
   "metadata": {},
   "outputs": [
    {
     "name": "stdout",
     "output_type": "stream",
     "text": [
      "Fitting 5 folds for each of 4 candidates, totalling 20 fits\n"
     ]
    },
    {
     "data": {
      "text/plain": [
       "GridSearchCV(cv=5, estimator=LGBMRegressor(random_state=2020), n_jobs=5,\n",
       "             param_grid={'max_depth': [1, 10], 'n_estimators': [50, 100]},\n",
       "             scoring='neg_mean_squared_error', verbose=1)"
      ]
     },
     "execution_count": 81,
     "metadata": {},
     "output_type": "execute_result"
    }
   ],
   "source": [
    "grid_model = GridSearchCV(model, param_grid=param_grid, \\\n",
    "                        scoring='neg_mean_squared_error', \\\n",
    "                        cv=5, verbose=1, n_jobs=5)\n",
    "\n",
    "grid_model.fit(train, y)"
   ]
  },
  {
   "cell_type": "code",
   "execution_count": 82,
   "id": "0c36a25b",
   "metadata": {},
   "outputs": [
    {
     "data": {
      "text/plain": [
       "{'mean_fit_time': array([1.08498096, 1.3549077 , 2.31385555, 3.64865217]),\n",
       " 'std_fit_time': array([0.12344898, 0.1210366 , 0.12804439, 0.19980223]),\n",
       " 'mean_score_time': array([0.08213005, 0.10149002, 0.16410604, 0.20537186]),\n",
       " 'std_score_time': array([0.00175716, 0.00604655, 0.01872806, 0.0577406 ]),\n",
       " 'param_max_depth': masked_array(data=[1, 1, 10, 10],\n",
       "              mask=[False, False, False, False],\n",
       "        fill_value='?',\n",
       "             dtype=object),\n",
       " 'param_n_estimators': masked_array(data=[50, 100, 50, 100],\n",
       "              mask=[False, False, False, False],\n",
       "        fill_value='?',\n",
       "             dtype=object),\n",
       " 'params': [{'max_depth': 1, 'n_estimators': 50},\n",
       "  {'max_depth': 1, 'n_estimators': 100},\n",
       "  {'max_depth': 10, 'n_estimators': 50},\n",
       "  {'max_depth': 10, 'n_estimators': 100}],\n",
       " 'split0_test_score': array([-0.0756974 , -0.05555652, -0.02885847, -0.02665428]),\n",
       " 'split1_test_score': array([-0.07666447, -0.057876  , -0.03041465, -0.02795896]),\n",
       " 'split2_test_score': array([-0.07354904, -0.05546079, -0.03068533, -0.02834112]),\n",
       " 'split3_test_score': array([-0.07510863, -0.05582109, -0.02987609, -0.02774809]),\n",
       " 'split4_test_score': array([-0.06595281, -0.05038773, -0.02605217, -0.02443328]),\n",
       " 'mean_test_score': array([-0.07339447, -0.05502043, -0.02917734, -0.02702714]),\n",
       " 'std_test_score': array([0.00385583, 0.00247946, 0.00168295, 0.00141292]),\n",
       " 'rank_test_score': array([4, 3, 2, 1], dtype=int32)}"
      ]
     },
     "execution_count": 82,
     "metadata": {},
     "output_type": "execute_result"
    }
   ],
   "source": [
    "grid_model.cv_results_"
   ]
  },
  {
   "cell_type": "code",
   "execution_count": 83,
   "id": "fbee8075",
   "metadata": {},
   "outputs": [
    {
     "data": {
      "text/plain": [
       "[{'max_depth': 1, 'n_estimators': 50},\n",
       " {'max_depth': 1, 'n_estimators': 100},\n",
       " {'max_depth': 10, 'n_estimators': 50},\n",
       " {'max_depth': 10, 'n_estimators': 100}]"
      ]
     },
     "execution_count": 83,
     "metadata": {},
     "output_type": "execute_result"
    }
   ],
   "source": [
    "params = grid_model.cv_results_['params']\n",
    "params"
   ]
  },
  {
   "cell_type": "code",
   "execution_count": 84,
   "id": "b803c55c",
   "metadata": {},
   "outputs": [
    {
     "data": {
      "text/plain": [
       "array([-0.07339447, -0.05502043, -0.02917734, -0.02702714])"
      ]
     },
     "execution_count": 84,
     "metadata": {},
     "output_type": "execute_result"
    }
   ],
   "source": [
    "score = grid_model.cv_results_['mean_test_score']\n",
    "score"
   ]
  },
  {
   "cell_type": "code",
   "execution_count": 94,
   "id": "9a643a06",
   "metadata": {},
   "outputs": [
    {
     "data": {
      "text/html": [
       "<div>\n",
       "<style scoped>\n",
       "    .dataframe tbody tr th:only-of-type {\n",
       "        vertical-align: middle;\n",
       "    }\n",
       "\n",
       "    .dataframe tbody tr th {\n",
       "        vertical-align: top;\n",
       "    }\n",
       "\n",
       "    .dataframe thead th {\n",
       "        text-align: right;\n",
       "    }\n",
       "</style>\n",
       "<table border=\"1\" class=\"dataframe\">\n",
       "  <thead>\n",
       "    <tr style=\"text-align: right;\">\n",
       "      <th></th>\n",
       "      <th>max_depth</th>\n",
       "      <th>n_estimators</th>\n",
       "      <th>score</th>\n",
       "    </tr>\n",
       "  </thead>\n",
       "  <tbody>\n",
       "    <tr>\n",
       "      <th>0</th>\n",
       "      <td>1</td>\n",
       "      <td>50</td>\n",
       "      <td>-0.073394</td>\n",
       "    </tr>\n",
       "    <tr>\n",
       "      <th>1</th>\n",
       "      <td>1</td>\n",
       "      <td>100</td>\n",
       "      <td>-0.055020</td>\n",
       "    </tr>\n",
       "    <tr>\n",
       "      <th>2</th>\n",
       "      <td>10</td>\n",
       "      <td>50</td>\n",
       "      <td>-0.029177</td>\n",
       "    </tr>\n",
       "    <tr>\n",
       "      <th>3</th>\n",
       "      <td>10</td>\n",
       "      <td>100</td>\n",
       "      <td>-0.027027</td>\n",
       "    </tr>\n",
       "  </tbody>\n",
       "</table>\n",
       "</div>"
      ],
      "text/plain": [
       "   max_depth  n_estimators     score\n",
       "0          1            50 -0.073394\n",
       "1          1           100 -0.055020\n",
       "2         10            50 -0.029177\n",
       "3         10           100 -0.027027"
      ]
     },
     "execution_count": 94,
     "metadata": {},
     "output_type": "execute_result"
    }
   ],
   "source": [
    "results = pd.DataFrame(params)\n",
    "results['score'] = score\n",
    "\n",
    "results"
   ]
  },
  {
   "cell_type": "markdown",
   "id": "73c445e4",
   "metadata": {},
   "source": [
    "**Q11. GridSearchCV 에서 모델을 초기화할 때 scoring 인자에는 무엇을 넣었나요?**\n",
    "\n",
    "`neg_mean_squared_error`를 넣었습니다.\n",
    "\n",
    "[이곳](https://scikit-learn.org/stable/modules/model_evaluation.html)에 따르면, `model_selection.GridSearchCV`를 사용할 때, `scoring` parameter가 등장하게 되는데 **높은 값을 가지는 것을 더 좋은 것으로 평가한다**는 관습을 따른다고 되어 있습니다.\n",
    "원문은 다음과 같습니다.\n",
    "\n",
    "> Model selection and evaluation using tools, such as `model_selection.GridSearchCV` and `model_selection.cross_val_score`, take a `scoring parameter` that controls what metric they apply to the estimators evaluated.\n",
    "> For the most common use cases, you can designate a scorer object with the `scoring parameter`\n",
    "All scorer objects follow the convention that **higher return values are better than lower return values.**\n",
    "Thus metrics which measure the distance between the model and the data, like metrics.mean_squared_error, are available as `neg_mean_squared_error` which return the negated value of the metric."
   ]
  },
  {
   "cell_type": "code",
   "execution_count": 95,
   "id": "d9e4aa60",
   "metadata": {},
   "outputs": [
    {
     "data": {
      "text/html": [
       "<div>\n",
       "<style scoped>\n",
       "    .dataframe tbody tr th:only-of-type {\n",
       "        vertical-align: middle;\n",
       "    }\n",
       "\n",
       "    .dataframe tbody tr th {\n",
       "        vertical-align: top;\n",
       "    }\n",
       "\n",
       "    .dataframe thead th {\n",
       "        text-align: right;\n",
       "    }\n",
       "</style>\n",
       "<table border=\"1\" class=\"dataframe\">\n",
       "  <thead>\n",
       "    <tr style=\"text-align: right;\">\n",
       "      <th></th>\n",
       "      <th>max_depth</th>\n",
       "      <th>n_estimators</th>\n",
       "      <th>score</th>\n",
       "      <th>RMSE</th>\n",
       "    </tr>\n",
       "  </thead>\n",
       "  <tbody>\n",
       "    <tr>\n",
       "      <th>0</th>\n",
       "      <td>1</td>\n",
       "      <td>50</td>\n",
       "      <td>-0.073394</td>\n",
       "      <td>0.270914</td>\n",
       "    </tr>\n",
       "    <tr>\n",
       "      <th>1</th>\n",
       "      <td>1</td>\n",
       "      <td>100</td>\n",
       "      <td>-0.055020</td>\n",
       "      <td>0.234564</td>\n",
       "    </tr>\n",
       "    <tr>\n",
       "      <th>2</th>\n",
       "      <td>10</td>\n",
       "      <td>50</td>\n",
       "      <td>-0.029177</td>\n",
       "      <td>0.170814</td>\n",
       "    </tr>\n",
       "    <tr>\n",
       "      <th>3</th>\n",
       "      <td>10</td>\n",
       "      <td>100</td>\n",
       "      <td>-0.027027</td>\n",
       "      <td>0.164399</td>\n",
       "    </tr>\n",
       "  </tbody>\n",
       "</table>\n",
       "</div>"
      ],
      "text/plain": [
       "   max_depth  n_estimators     score      RMSE\n",
       "0          1            50 -0.073394  0.270914\n",
       "1          1           100 -0.055020  0.234564\n",
       "2         10            50 -0.029177  0.170814\n",
       "3         10           100 -0.027027  0.164399"
      ]
     },
     "execution_count": 95,
     "metadata": {},
     "output_type": "execute_result"
    }
   ],
   "source": [
    "results['RMSE'] = np.sqrt(-1 * results['score'])\n",
    "results"
   ]
  },
  {
   "cell_type": "code",
   "execution_count": 96,
   "id": "de81c070",
   "metadata": {},
   "outputs": [
    {
     "data": {
      "text/html": [
       "<div>\n",
       "<style scoped>\n",
       "    .dataframe tbody tr th:only-of-type {\n",
       "        vertical-align: middle;\n",
       "    }\n",
       "\n",
       "    .dataframe tbody tr th {\n",
       "        vertical-align: top;\n",
       "    }\n",
       "\n",
       "    .dataframe thead th {\n",
       "        text-align: right;\n",
       "    }\n",
       "</style>\n",
       "<table border=\"1\" class=\"dataframe\">\n",
       "  <thead>\n",
       "    <tr style=\"text-align: right;\">\n",
       "      <th></th>\n",
       "      <th>max_depth</th>\n",
       "      <th>n_estimators</th>\n",
       "      <th>score</th>\n",
       "      <th>RMSLE</th>\n",
       "    </tr>\n",
       "  </thead>\n",
       "  <tbody>\n",
       "    <tr>\n",
       "      <th>0</th>\n",
       "      <td>1</td>\n",
       "      <td>50</td>\n",
       "      <td>-0.073394</td>\n",
       "      <td>0.270914</td>\n",
       "    </tr>\n",
       "    <tr>\n",
       "      <th>1</th>\n",
       "      <td>1</td>\n",
       "      <td>100</td>\n",
       "      <td>-0.055020</td>\n",
       "      <td>0.234564</td>\n",
       "    </tr>\n",
       "    <tr>\n",
       "      <th>2</th>\n",
       "      <td>10</td>\n",
       "      <td>50</td>\n",
       "      <td>-0.029177</td>\n",
       "      <td>0.170814</td>\n",
       "    </tr>\n",
       "    <tr>\n",
       "      <th>3</th>\n",
       "      <td>10</td>\n",
       "      <td>100</td>\n",
       "      <td>-0.027027</td>\n",
       "      <td>0.164399</td>\n",
       "    </tr>\n",
       "  </tbody>\n",
       "</table>\n",
       "</div>"
      ],
      "text/plain": [
       "   max_depth  n_estimators     score     RMSLE\n",
       "0          1            50 -0.073394  0.270914\n",
       "1          1           100 -0.055020  0.234564\n",
       "2         10            50 -0.029177  0.170814\n",
       "3         10           100 -0.027027  0.164399"
      ]
     },
     "execution_count": 96,
     "metadata": {},
     "output_type": "execute_result"
    }
   ],
   "source": [
    "results = results.rename(columns={'RMSE': 'RMSLE'})\n",
    "results"
   ]
  },
  {
   "cell_type": "code",
   "execution_count": 98,
   "id": "cb6b0503",
   "metadata": {},
   "outputs": [
    {
     "data": {
      "text/html": [
       "<div>\n",
       "<style scoped>\n",
       "    .dataframe tbody tr th:only-of-type {\n",
       "        vertical-align: middle;\n",
       "    }\n",
       "\n",
       "    .dataframe tbody tr th {\n",
       "        vertical-align: top;\n",
       "    }\n",
       "\n",
       "    .dataframe thead th {\n",
       "        text-align: right;\n",
       "    }\n",
       "</style>\n",
       "<table border=\"1\" class=\"dataframe\">\n",
       "  <thead>\n",
       "    <tr style=\"text-align: right;\">\n",
       "      <th></th>\n",
       "      <th>max_depth</th>\n",
       "      <th>n_estimators</th>\n",
       "      <th>score</th>\n",
       "      <th>RMSLE</th>\n",
       "    </tr>\n",
       "  </thead>\n",
       "  <tbody>\n",
       "    <tr>\n",
       "      <th>3</th>\n",
       "      <td>10</td>\n",
       "      <td>100</td>\n",
       "      <td>-0.027027</td>\n",
       "      <td>0.164399</td>\n",
       "    </tr>\n",
       "    <tr>\n",
       "      <th>2</th>\n",
       "      <td>10</td>\n",
       "      <td>50</td>\n",
       "      <td>-0.029177</td>\n",
       "      <td>0.170814</td>\n",
       "    </tr>\n",
       "    <tr>\n",
       "      <th>1</th>\n",
       "      <td>1</td>\n",
       "      <td>100</td>\n",
       "      <td>-0.055020</td>\n",
       "      <td>0.234564</td>\n",
       "    </tr>\n",
       "    <tr>\n",
       "      <th>0</th>\n",
       "      <td>1</td>\n",
       "      <td>50</td>\n",
       "      <td>-0.073394</td>\n",
       "      <td>0.270914</td>\n",
       "    </tr>\n",
       "  </tbody>\n",
       "</table>\n",
       "</div>"
      ],
      "text/plain": [
       "   max_depth  n_estimators     score     RMSLE\n",
       "3         10           100 -0.027027  0.164399\n",
       "2         10            50 -0.029177  0.170814\n",
       "1          1           100 -0.055020  0.234564\n",
       "0          1            50 -0.073394  0.270914"
      ]
     },
     "execution_count": 98,
     "metadata": {},
     "output_type": "execute_result"
    }
   ],
   "source": [
    "results.sort_values(by = 'RMSLE')"
   ]
  },
  {
   "cell_type": "code",
   "execution_count": 99,
   "id": "f5d798e0",
   "metadata": {},
   "outputs": [],
   "source": [
    "def my_GridSearch(model, train, y, param_grid, verbose=2, n_jobs=5):\n",
    "    # GridSearchCV 모델로 초기화\n",
    "    grid_model = GridSearchCV(model, param_grid=param_grid, scoring='neg_mean_squared_error', \\\n",
    "                              cv=5, verbose=verbose, n_jobs=n_jobs)\n",
    "    \n",
    "    # 모델 fitting\n",
    "    grid_model.fit(train, y)\n",
    "\n",
    "    # 결과값 저장\n",
    "    params = grid_model.cv_results_['params']\n",
    "    score = grid_model.cv_results_['mean_test_score']\n",
    "    \n",
    "    # 데이터 프레임 생성\n",
    "    results = pd.DataFrame(params)\n",
    "    results['score'] = score\n",
    "    \n",
    "    # RMSLE 값 계산 후 정렬\n",
    "    results['RMSLE'] = np.sqrt(-1 * results['score'])\n",
    "    results = results.sort_values('RMSLE')\n",
    "\n",
    "    return results\n",
    "\n"
   ]
  },
  {
   "cell_type": "markdown",
   "id": "1c5992bb",
   "metadata": {},
   "source": [
    "## 3.12. 랭킹을 올리고 싶다면? (4) 제출하는 것도, 빠르고 깔끔하게!"
   ]
  },
  {
   "cell_type": "code",
   "execution_count": 100,
   "id": "540d93ee",
   "metadata": {
    "scrolled": true
   },
   "outputs": [
    {
     "name": "stdout",
     "output_type": "stream",
     "text": [
      "Fitting 5 folds for each of 4 candidates, totalling 20 fits\n"
     ]
    },
    {
     "data": {
      "text/html": [
       "<div>\n",
       "<style scoped>\n",
       "    .dataframe tbody tr th:only-of-type {\n",
       "        vertical-align: middle;\n",
       "    }\n",
       "\n",
       "    .dataframe tbody tr th {\n",
       "        vertical-align: top;\n",
       "    }\n",
       "\n",
       "    .dataframe thead th {\n",
       "        text-align: right;\n",
       "    }\n",
       "</style>\n",
       "<table border=\"1\" class=\"dataframe\">\n",
       "  <thead>\n",
       "    <tr style=\"text-align: right;\">\n",
       "      <th></th>\n",
       "      <th>max_depth</th>\n",
       "      <th>n_estimators</th>\n",
       "      <th>score</th>\n",
       "      <th>RMSLE</th>\n",
       "    </tr>\n",
       "  </thead>\n",
       "  <tbody>\n",
       "    <tr>\n",
       "      <th>3</th>\n",
       "      <td>10</td>\n",
       "      <td>100</td>\n",
       "      <td>-0.027027</td>\n",
       "      <td>0.164399</td>\n",
       "    </tr>\n",
       "    <tr>\n",
       "      <th>2</th>\n",
       "      <td>10</td>\n",
       "      <td>50</td>\n",
       "      <td>-0.029177</td>\n",
       "      <td>0.170814</td>\n",
       "    </tr>\n",
       "    <tr>\n",
       "      <th>1</th>\n",
       "      <td>1</td>\n",
       "      <td>100</td>\n",
       "      <td>-0.055020</td>\n",
       "      <td>0.234564</td>\n",
       "    </tr>\n",
       "    <tr>\n",
       "      <th>0</th>\n",
       "      <td>1</td>\n",
       "      <td>50</td>\n",
       "      <td>-0.073394</td>\n",
       "      <td>0.270914</td>\n",
       "    </tr>\n",
       "  </tbody>\n",
       "</table>\n",
       "</div>"
      ],
      "text/plain": [
       "   max_depth  n_estimators     score     RMSLE\n",
       "3         10           100 -0.027027  0.164399\n",
       "2         10            50 -0.029177  0.170814\n",
       "1          1           100 -0.055020  0.234564\n",
       "0          1            50 -0.073394  0.270914"
      ]
     },
     "execution_count": 100,
     "metadata": {},
     "output_type": "execute_result"
    }
   ],
   "source": [
    "param_grid = {\n",
    "    'n_estimators': [50, 100],\n",
    "    'max_depth': [1, 10],\n",
    "}\n",
    "\n",
    "model = LGBMRegressor(random_state=random_state)\n",
    "my_GridSearch(model, train, y, param_grid, verbose=2, n_jobs=5)"
   ]
  },
  {
   "cell_type": "code",
   "execution_count": 101,
   "id": "601328dd",
   "metadata": {},
   "outputs": [
    {
     "data": {
      "text/plain": [
       "array([13.13580793, 13.08051399, 14.11202067, ..., 13.01592878,\n",
       "       12.69894979, 12.96297768])"
      ]
     },
     "execution_count": 101,
     "metadata": {},
     "output_type": "execute_result"
    }
   ],
   "source": [
    "model = LGBMRegressor(max_depth=10, n_estimators=100, random_state=random_state)\n",
    "model.fit(train, y)\n",
    "prediction = model.predict(test)\n",
    "prediction"
   ]
  },
  {
   "cell_type": "code",
   "execution_count": 102,
   "id": "e0eb77bd",
   "metadata": {
    "scrolled": true
   },
   "outputs": [
    {
     "data": {
      "text/plain": [
       "array([ 506766.66784595,  479506.10405112, 1345155.15609376, ...,\n",
       "        449515.92243642,  327402.87855805,  426332.71354302])"
      ]
     },
     "execution_count": 102,
     "metadata": {},
     "output_type": "execute_result"
    }
   ],
   "source": [
    "prediction = np.expm1(prediction)\n",
    "prediction"
   ]
  },
  {
   "cell_type": "code",
   "execution_count": 103,
   "id": "c95a595c",
   "metadata": {},
   "outputs": [
    {
     "data": {
      "text/html": [
       "<div>\n",
       "<style scoped>\n",
       "    .dataframe tbody tr th:only-of-type {\n",
       "        vertical-align: middle;\n",
       "    }\n",
       "\n",
       "    .dataframe tbody tr th {\n",
       "        vertical-align: top;\n",
       "    }\n",
       "\n",
       "    .dataframe thead th {\n",
       "        text-align: right;\n",
       "    }\n",
       "</style>\n",
       "<table border=\"1\" class=\"dataframe\">\n",
       "  <thead>\n",
       "    <tr style=\"text-align: right;\">\n",
       "      <th></th>\n",
       "      <th>id</th>\n",
       "      <th>price</th>\n",
       "    </tr>\n",
       "  </thead>\n",
       "  <tbody>\n",
       "    <tr>\n",
       "      <th>0</th>\n",
       "      <td>15035</td>\n",
       "      <td>100000</td>\n",
       "    </tr>\n",
       "    <tr>\n",
       "      <th>1</th>\n",
       "      <td>15036</td>\n",
       "      <td>100000</td>\n",
       "    </tr>\n",
       "    <tr>\n",
       "      <th>2</th>\n",
       "      <td>15037</td>\n",
       "      <td>100000</td>\n",
       "    </tr>\n",
       "    <tr>\n",
       "      <th>3</th>\n",
       "      <td>15038</td>\n",
       "      <td>100000</td>\n",
       "    </tr>\n",
       "    <tr>\n",
       "      <th>4</th>\n",
       "      <td>15039</td>\n",
       "      <td>100000</td>\n",
       "    </tr>\n",
       "  </tbody>\n",
       "</table>\n",
       "</div>"
      ],
      "text/plain": [
       "      id   price\n",
       "0  15035  100000\n",
       "1  15036  100000\n",
       "2  15037  100000\n",
       "3  15038  100000\n",
       "4  15039  100000"
      ]
     },
     "execution_count": 103,
     "metadata": {},
     "output_type": "execute_result"
    }
   ],
   "source": [
    "data_dir = os.getenv('HOME')+'/aiffel/kaggle_kakr_housing/data'\n",
    "\n",
    "submission_path = join(data_dir, 'sample_submission.csv')\n",
    "submission = pd.read_csv(submission_path)\n",
    "submission.head()"
   ]
  },
  {
   "cell_type": "code",
   "execution_count": 104,
   "id": "cdaed48c",
   "metadata": {},
   "outputs": [
    {
     "data": {
      "text/html": [
       "<div>\n",
       "<style scoped>\n",
       "    .dataframe tbody tr th:only-of-type {\n",
       "        vertical-align: middle;\n",
       "    }\n",
       "\n",
       "    .dataframe tbody tr th {\n",
       "        vertical-align: top;\n",
       "    }\n",
       "\n",
       "    .dataframe thead th {\n",
       "        text-align: right;\n",
       "    }\n",
       "</style>\n",
       "<table border=\"1\" class=\"dataframe\">\n",
       "  <thead>\n",
       "    <tr style=\"text-align: right;\">\n",
       "      <th></th>\n",
       "      <th>id</th>\n",
       "      <th>price</th>\n",
       "    </tr>\n",
       "  </thead>\n",
       "  <tbody>\n",
       "    <tr>\n",
       "      <th>0</th>\n",
       "      <td>15035</td>\n",
       "      <td>5.067667e+05</td>\n",
       "    </tr>\n",
       "    <tr>\n",
       "      <th>1</th>\n",
       "      <td>15036</td>\n",
       "      <td>4.795061e+05</td>\n",
       "    </tr>\n",
       "    <tr>\n",
       "      <th>2</th>\n",
       "      <td>15037</td>\n",
       "      <td>1.345155e+06</td>\n",
       "    </tr>\n",
       "    <tr>\n",
       "      <th>3</th>\n",
       "      <td>15038</td>\n",
       "      <td>3.122579e+05</td>\n",
       "    </tr>\n",
       "    <tr>\n",
       "      <th>4</th>\n",
       "      <td>15039</td>\n",
       "      <td>3.338645e+05</td>\n",
       "    </tr>\n",
       "  </tbody>\n",
       "</table>\n",
       "</div>"
      ],
      "text/plain": [
       "      id         price\n",
       "0  15035  5.067667e+05\n",
       "1  15036  4.795061e+05\n",
       "2  15037  1.345155e+06\n",
       "3  15038  3.122579e+05\n",
       "4  15039  3.338645e+05"
      ]
     },
     "execution_count": 104,
     "metadata": {},
     "output_type": "execute_result"
    }
   ],
   "source": [
    "submission['price'] = prediction\n",
    "submission.head()"
   ]
  },
  {
   "cell_type": "code",
   "execution_count": 105,
   "id": "e82abefd",
   "metadata": {},
   "outputs": [
    {
     "name": "stdout",
     "output_type": "stream",
     "text": [
      "/aiffel/aiffel/kaggle_kakr_housing/data/submission_lgbm_RMSLE_0.164399.csv\n"
     ]
    }
   ],
   "source": [
    "submission_csv_path = '{}/submission_{}_RMSLE_{}.csv'.format(data_dir, 'lgbm', '0.164399')\n",
    "submission.to_csv(submission_csv_path, index=False)\n",
    "print(submission_csv_path)"
   ]
  },
  {
   "cell_type": "code",
   "execution_count": 106,
   "id": "36fe8faa",
   "metadata": {},
   "outputs": [],
   "source": [
    "def save_submission(model, train, y, test, model_name, rmsle=None):\n",
    "    model.fit(train, y)\n",
    "    prediction = model.predict(test)\n",
    "    prediction = np.expm1(prediction)\n",
    "    data_dir = os.getenv('HOME')+'/aiffel/kaggle_kakr_housing/data'\n",
    "    submission_path = join(data_dir, 'sample_submission.csv')\n",
    "    submission = pd.read_csv(submission_path)\n",
    "    submission['price'] = prediction\n",
    "    submission_csv_path = '{}/submission_{}_RMSLE_{}.csv'.format(data_dir, model_name, rmsle)\n",
    "    submission.to_csv(submission_csv_path, index=False)\n",
    "    print('{} saved!'.format(submission_csv_path))\n"
   ]
  },
  {
   "cell_type": "code",
   "execution_count": 107,
   "id": "812ce21f",
   "metadata": {},
   "outputs": [
    {
     "name": "stdout",
     "output_type": "stream",
     "text": [
      "/aiffel/aiffel/kaggle_kakr_housing/data/submission_lgbm_RMSLE_0.0168.csv saved!\n",
      "[CV] END .......................max_depth=1, n_estimators=50; total time=   1.1s\n",
      "[CV] END ......................max_depth=1, n_estimators=100; total time=   0.8s\n",
      "[CV] END ......................max_depth=10, n_estimators=50; total time=   2.0s\n",
      "[CV] END .....................max_depth=10, n_estimators=100; total time=   2.1s\n",
      "[CV] END .......................max_depth=1, n_estimators=50; total time=   0.9s\n",
      "[CV] END ......................max_depth=1, n_estimators=100; total time=   1.6s\n",
      "[CV] END ......................max_depth=10, n_estimators=50; total time=   1.9s\n",
      "[CV] END .....................max_depth=10, n_estimators=100; total time=   2.1s\n",
      "[CV] END .......................max_depth=1, n_estimators=50; total time=   1.1s\n",
      "[CV] END ......................max_depth=1, n_estimators=100; total time=   1.4s\n",
      "[CV] END ......................max_depth=10, n_estimators=50; total time=   1.7s\n",
      "[CV] END .....................max_depth=10, n_estimators=100; total time=   2.0s\n",
      "[CV] END .......................max_depth=1, n_estimators=50; total time=   0.8s\n",
      "[CV] END ......................max_depth=1, n_estimators=100; total time=   1.0s\n",
      "[CV] END ......................max_depth=10, n_estimators=50; total time=   1.8s\n",
      "[CV] END .....................max_depth=10, n_estimators=100; total time=   2.4s\n",
      "[CV] END .......................max_depth=1, n_estimators=50; total time=   1.1s\n",
      "[CV] END ......................max_depth=1, n_estimators=100; total time=   1.4s\n",
      "[CV] END ......................max_depth=10, n_estimators=50; total time=   1.6s\n",
      "[CV] END .....................max_depth=10, n_estimators=100; total time=   2.1s\n"
     ]
    }
   ],
   "source": [
    "save_submission(model, train, y, test, 'lgbm', rmsle='0.0168')"
   ]
  },
  {
   "cell_type": "markdown",
   "id": "96837253",
   "metadata": {},
   "source": [
    "## 3.13. 프로젝트 : This is your playground! Leaderboard를 정복해 주세요!"
   ]
  },
  {
   "cell_type": "code",
   "execution_count": null,
   "id": "379c37a7",
   "metadata": {},
   "outputs": [],
   "source": []
  },
  {
   "cell_type": "markdown",
   "id": "a910f757",
   "metadata": {},
   "source": [
    "## 3.14. 프로젝트 제출"
   ]
  }
 ],
 "metadata": {
  "kernelspec": {
   "display_name": "Python 3 (ipykernel)",
   "language": "python",
   "name": "python3"
  },
  "language_info": {
   "codemirror_mode": {
    "name": "ipython",
    "version": 3
   },
   "file_extension": ".py",
   "mimetype": "text/x-python",
   "name": "python",
   "nbconvert_exporter": "python",
   "pygments_lexer": "ipython3",
   "version": "3.9.7"
  }
 },
 "nbformat": 4,
 "nbformat_minor": 5
}
