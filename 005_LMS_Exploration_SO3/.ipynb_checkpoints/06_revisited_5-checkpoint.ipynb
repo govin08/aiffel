{
 "cells": [
  {
   "cell_type": "code",
   "execution_count": 1,
   "id": "a2563b61",
   "metadata": {},
   "outputs": [
    {
     "name": "stdout",
     "output_type": "stream",
     "text": [
      "['First Citizen:', 'Before we proceed any further, hear me speak.', '', 'All:', 'Speak, speak.', '', 'First Citizen:', 'You are all resolved rather to die than to famish?', '']\n",
      "40000\n"
     ]
    }
   ],
   "source": [
    "# os: Operating System의 줄임말로, 운영체제에서 제공되는 여러 기능을 파이썬에서 사용할 수 있도록 함 (Ex. 디렉토리 경로 이동, 시스템 환경 변수 가져오기 등)\n",
    "# re: Regular Expression의 줄임말로, 파이썬 정규표현식을 사용하기 위한 모듈\n",
    "# numpy(NumPy): 행렬이나 대규모 다차원 배열을 쉽게 처리할 수 있도록 지원하는 라이브러리. 데이터 구조 외에도 수치 계산을 위해 효율적으로 구현된 기능을 제공\n",
    "# tensorflow(TensorFlow): 데이터 흐름 프로그래밍을 위한 라이브러리. 데이터 그래프를 수치적으로 연산하기 위해 구글에서 만든 오픈 소스 라이브러리.\n",
    "import os, re \n",
    "import numpy as np\n",
    "import tensorflow as tf\n",
    "\n",
    "# os 모듈에 있는 getenv() 함수를 이용하여 읽고싶은 파일의 경로를 file_path에 저장\n",
    "# 파일을 읽기모드로 열고\n",
    "# 라인 단위로 끊어서 list 형태로 읽어옵니다.\n",
    "file_path = os.getenv('HOME') + '/aiffel/lyricist/data/shakespeare.txt'\n",
    "with open(file_path, \"r\") as f:\n",
    "    raw_corpus = f.read().splitlines()\n",
    "\n",
    "# 앞에서부터 10라인만 화면에 출력해 볼까요?\n",
    "print(raw_corpus[:9])\n",
    "print(len(raw_corpus))"
   ]
  },
  {
   "cell_type": "code",
   "execution_count": 2,
   "id": "57da283c",
   "metadata": {},
   "outputs": [
    {
     "name": "stdout",
     "output_type": "stream",
     "text": [
      "Before we proceed any further, hear me speak.\n"
     ]
    }
   ],
   "source": [
    "# enumerate() 함수를 이용하여 raw_corpus list 내에 저장된 문장과 그 문장의 인덱스를 반환 (인덱스, 문장 순)\n",
    "for idx, sentence in enumerate(raw_corpus):\n",
    "    if len(sentence) == 0: continue   # 길이가 0인 문장은 건너뜁니다.\n",
    "    if sentence[-1] == \":\": continue  # 문장의 끝이 : 인 문장은 건너뜁니다.\n",
    "\n",
    "    if idx > 3: break   # 일단 문장 10개만 확인해 볼 겁니다.\n",
    "        \n",
    "    print(sentence)"
   ]
  },
  {
   "cell_type": "code",
   "execution_count": 3,
   "id": "b914c28d",
   "metadata": {},
   "outputs": [
    {
     "name": "stdout",
     "output_type": "stream",
     "text": [
      "<start> this is sample sentence . <end>\n"
     ]
    }
   ],
   "source": [
    "# 입력된 문장을\n",
    "#     1. 소문자로 바꾸고, 양쪽 공백을 지웁니다\n",
    "#     2. 특수문자 양쪽에 공백을 넣고\n",
    "#     3. 여러개의 공백은 하나의 공백으로 바꿉니다\n",
    "#     4. a-zA-Z?.!,¿가 아닌 모든 문자를 하나의 공백으로 바꿉니다\n",
    "#     5. 다시 양쪽 공백을 지웁니다\n",
    "#     6. 문장 시작에는 <start>, 끝에는 <end>를 추가합니다\n",
    "# 이 순서로 처리해주면 문제가 되는 상황을 방지할 수 있겠네요!\n",
    "def preprocess_sentence(sentence):\n",
    "    sentence = sentence.lower().strip() # 1\n",
    "    sentence = re.sub(r\"([?.!,¿])\", r\" \\1 \", sentence) # 2\n",
    "    sentence = re.sub(r'[\" \"]+', \" \", sentence) # 3\n",
    "    sentence = re.sub(r\"[^a-zA-Z?.!,¿]+\", \" \", sentence) # 4\n",
    "    sentence = sentence.strip() # 5\n",
    "    sentence = '<start> ' + sentence + ' <end>' # 6\n",
    "    return sentence\n",
    "\n",
    "# 이 문장이 어떻게 필터링되는지 확인해 보세요.\n",
    "print(preprocess_sentence(\"This @_is ;;;sample        sentence.\"))"
   ]
  },
  {
   "cell_type": "code",
   "execution_count": 4,
   "id": "93b8c8df",
   "metadata": {},
   "outputs": [
    {
     "data": {
      "text/plain": [
       "24015"
      ]
     },
     "execution_count": 4,
     "metadata": {},
     "output_type": "execute_result"
    }
   ],
   "source": [
    "# 여기에 정제된 문장을 모을겁니다\n",
    "corpus = []\n",
    "\n",
    "# raw_corpus list에 저장된 문장들을 순서대로 반환하여 sentence에 저장\n",
    "for sentence in raw_corpus:\n",
    "    # 우리가 원하지 않는 문장은 건너뜁니다\n",
    "    if len(sentence) == 0: continue\n",
    "    if sentence[-1] == \":\": continue\n",
    "    \n",
    "    # 앞서 구현한 preprocess_sentence() 함수를 이용하여 문장을 정제를 하고 담아주세요\n",
    "    preprocessed_sentence = preprocess_sentence(sentence)\n",
    "    corpus.append(preprocessed_sentence)\n",
    "        \n",
    "# 정제된 결과를 10개만 확인해보죠\n",
    "corpus[:10]\n",
    "len(corpus)"
   ]
  },
  {
   "cell_type": "code",
   "execution_count": 5,
   "id": "7e625342",
   "metadata": {
    "scrolled": true
   },
   "outputs": [
    {
     "name": "stdout",
     "output_type": "stream",
     "text": [
      "[[   0    0    0 ...  110    5    3]\n",
      " [   0    0    0 ...  110    5    3]\n",
      " [   0    0    0 ... 3034   15    3]\n",
      " ...\n",
      " [   0    0    0 ... 4553    4    3]\n",
      " [   0    0    0 ... 2965  132    3]\n",
      " [   0    0    0 ... 1787    5    3]] <keras_preprocessing.text.Tokenizer object at 0x7fd18203aaf0>\n",
      "<class 'numpy.ndarray'>\n"
     ]
    }
   ],
   "source": [
    "# 토큰화 할 때 텐서플로우의 Tokenizer와 pad_sequences를 사용합니다\n",
    "# 더 잘 알기 위해 아래 문서들을 참고하면 좋습니다\n",
    "# https://www.tensorflow.org/api_docs/python/tf/keras/preprocessing/text/Tokenizer\n",
    "# https://www.tensorflow.org/api_docs/python/tf/keras/preprocessing/sequence/pad_sequences\n",
    "def tokenize(corpus):\n",
    "    # 7000단어를 기억할 수 있는 tokenizer를 만들겁니다\n",
    "    # 우리는 이미 문장을 정제했으니 filters가 필요없어요\n",
    "    # 7000단어에 포함되지 못한 단어는 '<unk>'로 바꿀거에요\n",
    "    tokenizer = tf.keras.preprocessing.text.Tokenizer(\n",
    "        num_words=7000, \n",
    "        filters=' ',\n",
    "        oov_token=\"<unk>\"\n",
    "    )\n",
    "    # corpus를 이용해 tokenizer 내부의 단어장을 완성합니다\n",
    "    # tokenizer.fit_on_texts(texts): 문자 데이터를 입력받아 리스트의 형태로 변환하는 메서드\n",
    "    tokenizer.fit_on_texts(corpus)\n",
    "    # 준비한 tokenizer를 이용해 corpus를 Tensor로 변환합니다\n",
    "    # tokenizer.texts_to_sequences(texts): 텍스트 안의 단어들을 숫자의 시퀀스 형태로 변환하는 메서드\n",
    "    tensor = tokenizer.texts_to_sequences(corpus)   \n",
    "    # 입력 데이터의 시퀀스 길이를 일정하게 맞춰줍니다\n",
    "    # 만약 시퀀스가 짧다면 문장 뒤에 패딩을 붙여 길이를 맞춰줍니다.\n",
    "    # 문장 앞에 패딩을 붙여 길이를 맞추고 싶다면 padding='pre'를 사용합니다\n",
    "    tensor = tf.keras.preprocessing.sequence.pad_sequences(tensor, padding='pre')  \n",
    "    \n",
    "    print(tensor,tokenizer)\n",
    "    return tensor, tokenizer\n",
    "\n",
    "tensor, tokenizer = tokenize(corpus)\n",
    "print(type(tensor))"
   ]
  },
  {
   "cell_type": "code",
   "execution_count": 6,
   "id": "4f11dfb9",
   "metadata": {},
   "outputs": [
    {
     "name": "stdout",
     "output_type": "stream",
     "text": [
      "[[ 0  0  0  0  0  0  0  0  0  2]\n",
      " [ 0  0  0  0  0  0  0  0  0  0]\n",
      " [ 0  0  0  0  0  0  0  0  2 11]]\n"
     ]
    }
   ],
   "source": [
    "print(tensor[:3, :10])"
   ]
  },
  {
   "cell_type": "code",
   "execution_count": 7,
   "id": "9c0a47fb",
   "metadata": {
    "scrolled": true
   },
   "outputs": [
    {
     "name": "stdout",
     "output_type": "stream",
     "text": [
      "1 : <unk>\n",
      "2 : <start>\n",
      "3 : <end>\n",
      "4 : ,\n",
      "5 : .\n",
      "6 : the\n",
      "7 : and\n",
      "8 : i\n",
      "9 : to\n",
      "10 : of\n",
      "False\n"
     ]
    }
   ],
   "source": [
    "# tokenizer.index_word: 현재 계산된 단어의 인덱스와 인덱스에 해당하는 단어를 dictionary 형대로 반환 (Ex. {index: '~~', index: '~~', ...})\n",
    "for idx in tokenizer.index_word:\n",
    "    print(idx, \":\", tokenizer.index_word[idx])\n",
    "\n",
    "    if idx >= 10: break\n",
    "print(0 in tokenizer.index_word)"
   ]
  },
  {
   "cell_type": "code",
   "execution_count": 8,
   "id": "e4e54ca4",
   "metadata": {},
   "outputs": [
    {
     "name": "stdout",
     "output_type": "stream",
     "text": [
      "[  0   0   0   0   0   0   0   0   0   2 143  40 933 140 591   4 124  24\n",
      " 110   5]\n",
      "[  0   0   0   0   0   0   0   0   2 143  40 933 140 591   4 124  24 110\n",
      "   5   3]\n"
     ]
    }
   ],
   "source": [
    "# tensor에서 마지막 토큰을 잘라내서 소스 문장을 생성합니다\n",
    "# 마지막 토큰은 <end>가 아니라 <pad>일 가능성이 높습니다.\n",
    "src_input = tensor[:, :-1]  \n",
    "# tensor에서 <start>를 잘라내서 타겟 문장을 생성합니다.\n",
    "tgt_input = tensor[:, 1:]    \n",
    "\n",
    "print(src_input[0])\n",
    "print(tgt_input[0])"
   ]
  },
  {
   "cell_type": "code",
   "execution_count": 9,
   "id": "1dc013c9",
   "metadata": {},
   "outputs": [
    {
     "data": {
      "text/plain": [
       "<BatchDataset shapes: ((256, 20), (256, 20)), types: (tf.int32, tf.int32)>"
      ]
     },
     "execution_count": 9,
     "metadata": {},
     "output_type": "execute_result"
    }
   ],
   "source": [
    "BUFFER_SIZE = len(src_input)\n",
    "BATCH_SIZE = 256\n",
    "steps_per_epoch = len(src_input) // BATCH_SIZE\n",
    "\n",
    " # tokenizer가 구축한 단어사전 내 7000개와, 여기 포함되지 않은 0:<pad>를 포함하여 7001개\n",
    " # tokenizer.num_words: 주어진 데이터의 문장들에서 빈도수가 높은 n개의 단어만 선택\n",
    " # tokenize() 함수에서 num_words를 7000개로 선언했기 때문에, tokenizer.num_words의 값은 7000\n",
    "VOCAB_SIZE = tokenizer.num_words + 1   \n",
    "\n",
    "# 준비한 데이터 소스로부터 데이터셋을 만듭니다\n",
    "# 데이터셋에 대해서는 아래 문서를 참고하세요\n",
    "# 자세히 알아둘수록 도움이 많이 되는 중요한 문서입니다\n",
    "# https://www.tensorflow.org/api_docs/python/tf/data/Dataset\n",
    "dataset = tf.data.Dataset.from_tensor_slices((src_input, tgt_input))\n",
    "dataset = dataset.shuffle(BUFFER_SIZE)\n",
    "dataset = dataset.batch(BATCH_SIZE, drop_remainder=True)\n",
    "dataset"
   ]
  },
  {
   "cell_type": "code",
   "execution_count": 10,
   "id": "ae6b492a",
   "metadata": {},
   "outputs": [],
   "source": [
    "class TextGenerator(tf.keras.Model):\n",
    "    def __init__(self, vocab_size, embedding_size, hidden_size):\n",
    "        super().__init__()\n",
    "        # Embedding 레이어, 2개의 LSTM 레이어, 1개의 Dense 레이어로 구성되어 있다.\n",
    "        # Embedding 레이어는 단어 사전의 인덱스 값을 해당 인덱스 번째의 워드 벡터로 바꿔준다.\n",
    "        # 이 워드 벡터는 의미 벡터 공간에서 단어의 추상적 표현으로 사용된다. \n",
    "        self.embedding = tf.keras.layers.Embedding(vocab_size, embedding_size) \n",
    "        self.rnn_1 = tf.keras.layers.LSTM(hidden_size, return_sequences=True)  \n",
    "        self.rnn_2 = tf.keras.layers.LSTM(hidden_size, return_sequences=True)\n",
    "        self.linear = tf.keras.layers.Dense(vocab_size)\n",
    "        \n",
    "    def call(self, x):\n",
    "        out = self.embedding(x)\n",
    "        out = self.rnn_1(out)\n",
    "        out = self.rnn_2(out)\n",
    "        out = self.linear(out)\n",
    "        \n",
    "        return out\n",
    "# embedding size 값이 커질수록 단어의 추상적인 특징들을 더 잡아낼 수 있지만\n",
    "# 그만큼 충분한 데이터가 없으면 안좋은 결과 값을 가져옵니다!   \n",
    "embedding_size = 256 # 워드 벡터의 차원수를 말하며 단어가 추상적으로 표현되는 크기입니다.\n",
    "hidden_size = 1024 # 모델에 얼마나 많은 일꾼을 둘 것인가? 정도로 이해하면 좋다.\n",
    "model = TextGenerator(tokenizer.num_words + 1, embedding_size , hidden_size) # tokenizer.num_words에 +1인 이유는 문장에 없는 pad가 사용되었기 때문이다."
   ]
  },
  {
   "cell_type": "code",
   "execution_count": 11,
   "id": "2f80ce71",
   "metadata": {},
   "outputs": [
    {
     "data": {
      "text/plain": [
       "<tf.Tensor: shape=(256, 20, 7001), dtype=float32, numpy=\n",
       "array([[[ 4.1521664e-05, -2.0877297e-04,  1.1930751e-04, ...,\n",
       "         -3.5913775e-04, -1.1739514e-05,  8.5434156e-05],\n",
       "        [ 1.2573414e-04, -5.3886848e-04,  2.9674789e-04, ...,\n",
       "         -9.2125247e-04, -3.6041034e-05,  2.0791549e-04],\n",
       "        [ 2.4496976e-04, -9.1529306e-04,  4.9840217e-04, ...,\n",
       "         -1.5743132e-03, -7.0009293e-05,  3.3963029e-04],\n",
       "        ...,\n",
       "        [ 6.4857979e-04,  3.0655073e-04,  8.0026097e-05, ...,\n",
       "         -1.7917986e-04,  1.8314927e-04,  2.0603167e-03],\n",
       "        [ 5.0895679e-04,  7.2430016e-04, -3.4036970e-04, ...,\n",
       "          2.0050754e-04,  5.7664933e-04,  2.2838381e-03],\n",
       "        [ 5.6675397e-04,  9.5913780e-04, -7.8834454e-04, ...,\n",
       "          4.6286840e-04,  7.2793232e-04,  2.2424324e-03]],\n",
       "\n",
       "       [[ 4.1521664e-05, -2.0877297e-04,  1.1930751e-04, ...,\n",
       "         -3.5913775e-04, -1.1739514e-05,  8.5434156e-05],\n",
       "        [ 1.2573414e-04, -5.3886848e-04,  2.9674789e-04, ...,\n",
       "         -9.2125247e-04, -3.6041034e-05,  2.0791549e-04],\n",
       "        [ 2.4496976e-04, -9.1529306e-04,  4.9840217e-04, ...,\n",
       "         -1.5743132e-03, -7.0009293e-05,  3.3963029e-04],\n",
       "        ...,\n",
       "        [ 9.5278170e-04,  2.1796416e-04,  9.5805131e-05, ...,\n",
       "         -1.1371016e-03,  4.1950404e-04,  1.5546076e-03],\n",
       "        [ 5.8574101e-04,  3.1226338e-04,  5.8686554e-05, ...,\n",
       "         -1.0742249e-03,  3.5621985e-04,  1.4107524e-03],\n",
       "        [ 8.4742795e-05,  4.9953291e-04, -1.3595496e-04, ...,\n",
       "         -1.5901712e-03,  2.2923366e-04,  9.3471952e-04]],\n",
       "\n",
       "       [[ 4.1521664e-05, -2.0877297e-04,  1.1930751e-04, ...,\n",
       "         -3.5913775e-04, -1.1739514e-05,  8.5434156e-05],\n",
       "        [ 1.2573414e-04, -5.3886848e-04,  2.9674789e-04, ...,\n",
       "         -9.2125247e-04, -3.6041034e-05,  2.0791549e-04],\n",
       "        [ 2.4496976e-04, -9.1529306e-04,  4.9840217e-04, ...,\n",
       "         -1.5743132e-03, -7.0009293e-05,  3.3963029e-04],\n",
       "        ...,\n",
       "        [ 9.1483875e-04,  2.6002989e-04,  3.2528536e-03, ...,\n",
       "         -1.2829502e-03,  2.5803511e-04,  1.3547245e-03],\n",
       "        [ 5.3841656e-04,  4.7434095e-04,  3.1739566e-03, ...,\n",
       "         -1.1437769e-03,  5.6032278e-04,  1.6174166e-03],\n",
       "        [ 2.3118228e-04,  7.2180887e-04,  3.2671536e-03, ...,\n",
       "         -9.5753284e-04,  6.1191322e-04,  1.8289386e-03]],\n",
       "\n",
       "       ...,\n",
       "\n",
       "       [[ 4.1521664e-05, -2.0877297e-04,  1.1930751e-04, ...,\n",
       "         -3.5913775e-04, -1.1739514e-05,  8.5434156e-05],\n",
       "        [ 1.2573414e-04, -5.3886848e-04,  2.9674789e-04, ...,\n",
       "         -9.2125247e-04, -3.6041034e-05,  2.0791549e-04],\n",
       "        [ 2.4496976e-04, -9.1529306e-04,  4.9840217e-04, ...,\n",
       "         -1.5743132e-03, -7.0009293e-05,  3.3963029e-04],\n",
       "        ...,\n",
       "        [ 9.7907148e-04, -3.4963893e-04,  1.5303992e-03, ...,\n",
       "         -2.5176825e-03, -6.2917301e-04,  8.6063024e-04],\n",
       "        [ 6.3588814e-04, -2.0857311e-04,  1.7870823e-03, ...,\n",
       "         -2.3269739e-03, -7.7687210e-04,  1.1244189e-03],\n",
       "        [ 5.0459336e-04, -6.0121056e-05,  2.0096740e-03, ...,\n",
       "         -1.9238674e-03, -8.5149822e-04,  1.1893024e-03]],\n",
       "\n",
       "       [[ 4.1521664e-05, -2.0877297e-04,  1.1930751e-04, ...,\n",
       "         -3.5913775e-04, -1.1739514e-05,  8.5434156e-05],\n",
       "        [ 1.2573414e-04, -5.3886848e-04,  2.9674789e-04, ...,\n",
       "         -9.2125247e-04, -3.6041034e-05,  2.0791549e-04],\n",
       "        [ 2.4496976e-04, -9.1529306e-04,  4.9840217e-04, ...,\n",
       "         -1.5743132e-03, -7.0009293e-05,  3.3963029e-04],\n",
       "        ...,\n",
       "        [ 5.2756607e-04,  1.4756601e-03,  9.8572974e-04, ...,\n",
       "          3.8987369e-04, -3.4436132e-04,  1.9641172e-03],\n",
       "        [ 1.6756532e-04,  1.8497467e-03,  4.2069698e-04, ...,\n",
       "          5.7657534e-04, -4.7886153e-04,  1.8883081e-03],\n",
       "        [-3.3770135e-05,  1.9603278e-03,  2.9324787e-04, ...,\n",
       "          1.0814159e-03, -6.1900821e-04,  1.5030543e-03]],\n",
       "\n",
       "       [[ 4.1521664e-05, -2.0877297e-04,  1.1930751e-04, ...,\n",
       "         -3.5913775e-04, -1.1739514e-05,  8.5434156e-05],\n",
       "        [ 1.2573414e-04, -5.3886848e-04,  2.9674789e-04, ...,\n",
       "         -9.2125247e-04, -3.6041034e-05,  2.0791549e-04],\n",
       "        [ 2.4496976e-04, -9.1529306e-04,  4.9840217e-04, ...,\n",
       "         -1.5743132e-03, -7.0009293e-05,  3.3963029e-04],\n",
       "        ...,\n",
       "        [ 1.6694559e-03,  6.1460794e-04,  9.7556511e-04, ...,\n",
       "         -1.0873876e-03,  4.0046743e-04,  8.7883690e-04],\n",
       "        [ 1.6699398e-03,  9.8400738e-04,  7.4468332e-04, ...,\n",
       "         -6.1085861e-04,  4.2374971e-04,  8.4471045e-04],\n",
       "        [ 1.4184713e-03,  1.2805678e-03,  8.8762632e-04, ...,\n",
       "         -4.5438009e-04,  3.6515718e-04,  1.1503669e-03]]], dtype=float32)>"
      ]
     },
     "execution_count": 11,
     "metadata": {},
     "output_type": "execute_result"
    }
   ],
   "source": [
    "# 데이터셋에서 데이터 한 배치만 불러오는 방법입니다.\n",
    "# 지금은 동작 원리에 너무 빠져들지 마세요~\n",
    "for src_sample, tgt_sample in dataset.take(1): break\n",
    "\n",
    "# 한 배치만 불러온 데이터를 모델에 넣어봅니다\n",
    "model(src_sample)"
   ]
  },
  {
   "cell_type": "code",
   "execution_count": 12,
   "id": "06367b25",
   "metadata": {
    "scrolled": true
   },
   "outputs": [
    {
     "name": "stdout",
     "output_type": "stream",
     "text": [
      "Model: \"text_generator\"\n",
      "_________________________________________________________________\n",
      "Layer (type)                 Output Shape              Param #   \n",
      "=================================================================\n",
      "embedding (Embedding)        multiple                  1792256   \n",
      "_________________________________________________________________\n",
      "lstm (LSTM)                  multiple                  5246976   \n",
      "_________________________________________________________________\n",
      "lstm_1 (LSTM)                multiple                  8392704   \n",
      "_________________________________________________________________\n",
      "dense (Dense)                multiple                  7176025   \n",
      "=================================================================\n",
      "Total params: 22,607,961\n",
      "Trainable params: 22,607,961\n",
      "Non-trainable params: 0\n",
      "_________________________________________________________________\n"
     ]
    }
   ],
   "source": [
    "# 모델의 구조를 확인합니다.\n",
    "model.summary()"
   ]
  },
  {
   "cell_type": "code",
   "execution_count": null,
   "id": "9c367af3",
   "metadata": {},
   "outputs": [
    {
     "name": "stdout",
     "output_type": "stream",
     "text": [
      "Epoch 1/30\n",
      "93/93 [==============================] - 18s 166ms/step - loss: 3.6013\n",
      "Epoch 2/30\n",
      "93/93 [==============================] - 16s 171ms/step - loss: 2.8668\n",
      "Epoch 3/30\n",
      "93/93 [==============================] - 16s 177ms/step - loss: 2.7463\n",
      "Epoch 4/30\n",
      "93/93 [==============================] - 17s 182ms/step - loss: 2.6621\n",
      "Epoch 5/30\n",
      "93/93 [==============================] - 18s 189ms/step - loss: 2.6926\n",
      "Epoch 6/30\n",
      "93/93 [==============================] - 18s 195ms/step - loss: 2.5791\n",
      "Epoch 7/30\n",
      "93/93 [==============================] - 19s 204ms/step - loss: 2.5527\n",
      "Epoch 8/30\n",
      "93/93 [==============================] - 19s 203ms/step - loss: 2.6006\n",
      "Epoch 9/30\n",
      "93/93 [==============================] - 18s 195ms/step - loss: 2.4866\n",
      "Epoch 10/30\n",
      "93/93 [==============================] - 18s 195ms/step - loss: 2.4480\n",
      "Epoch 11/30\n",
      "93/93 [==============================] - 19s 200ms/step - loss: 2.4475\n",
      "Epoch 12/30\n",
      "93/93 [==============================] - 19s 201ms/step - loss: 2.3812\n",
      "Epoch 13/30\n",
      "93/93 [==============================] - 18s 198ms/step - loss: 2.3505\n",
      "Epoch 14/30\n",
      "93/93 [==============================] - 18s 198ms/step - loss: 2.3213\n",
      "Epoch 15/30\n",
      "93/93 [==============================] - 18s 198ms/step - loss: 2.2936\n",
      "Epoch 16/30\n",
      "93/93 [==============================] - 18s 199ms/step - loss: 2.2673\n",
      "Epoch 17/30\n",
      "93/93 [==============================] - 19s 200ms/step - loss: 2.2398\n",
      "Epoch 18/30\n",
      "93/93 [==============================] - 19s 200ms/step - loss: 2.3224\n",
      "Epoch 19/30\n",
      "93/93 [==============================] - 19s 200ms/step - loss: 2.2318\n",
      "Epoch 20/30\n",
      "93/93 [==============================] - 19s 200ms/step - loss: 2.1885\n",
      "Epoch 21/30\n",
      "93/93 [==============================] - 19s 200ms/step - loss: 2.2022\n",
      "Epoch 22/30\n",
      "93/93 [==============================] - 19s 199ms/step - loss: 2.1486\n",
      "Epoch 23/30\n",
      "93/93 [==============================] - 19s 200ms/step - loss: 2.1133\n",
      "Epoch 24/30\n",
      "93/93 [==============================] - 19s 201ms/step - loss: 2.0875\n",
      "Epoch 25/30\n",
      "93/93 [==============================] - 19s 200ms/step - loss: 2.0614\n",
      "Epoch 26/30\n",
      "93/93 [==============================] - 19s 199ms/step - loss: 2.0359\n",
      "Epoch 27/30\n",
      "93/93 [==============================] - 19s 199ms/step - loss: 2.0095\n",
      "Epoch 28/30\n",
      "49/93 [==============>...............] - ETA: 8s - loss: 1.9744"
     ]
    }
   ],
   "source": [
    "# optimizer와 loss등은 차차 배웁니다\n",
    "# 혹시 미리 알고 싶다면 아래 문서를 참고하세요\n",
    "# https://www.tensorflow.org/api_docs/python/tf/keras/optimizers\n",
    "# https://www.tensorflow.org/api_docs/python/tf/keras/losses\n",
    "# 양이 상당히 많은 편이니 지금 보는 것은 추천하지 않습니다\n",
    "\n",
    "# Adam 알고리즘을 구현하는 optimzier이며 어떤 optimzier를 써야할지 모른다면 Adam을 쓰는 것도 방법이다.\n",
    "# 우리가 학습을 할 때 최대한 틀리지 않는 방향으로 학습을 해야한다.\n",
    "# 여기서 얼마나 틀리는지(loss)를 알게하는 함수가 손실함수 이다.\n",
    "# 이 손실함수의 최소값을 찾는 것을 학습의 목표로 하며 여기서 최소값을 찾아가는 과정을 optimization 이라하고\n",
    "# 이를 수행하는 알고리즘을 optimizer(최적화)라고 한다.\n",
    "\n",
    "optimizer = tf.keras.optimizers.Adam() # Adam은 현재 가장 많이 사용하는 옵티마이저이다. 자세한 내용은 차차 배운다.\n",
    "loss = tf.keras.losses.SparseCategoricalCrossentropy( # 훈련 데이터의 라벨이 정수의 형태로 제공될 때 사용하는 손실함수이다.\n",
    "    from_logits=True, # 기본값은 False이다. 모델에 의해 생성된 출력 값이 정규화되지 않았음을 손실 함수에 알려준다. 즉 softmax함수가 적용되지 않았다는걸 의미한다. \n",
    "    reduction='none'  # 기본값은 SUM이다. 각자 나오는 값의 반환 원할 때 None을 사용한다.\n",
    ")\n",
    "# 모델을 학습시키키 위한 학습과정을 설정하는 단계이다.\n",
    "model.compile(loss=loss, optimizer=optimizer) # 손실함수와 훈련과정을 설정했다.\n",
    "model.fit(dataset, epochs=30) # 만들어둔 데이터셋으로 모델을 학습한다. 30번 학습을 반복하겠다는 의미다."
   ]
  }
 ],
 "metadata": {
  "kernelspec": {
   "display_name": "Python 3 (ipykernel)",
   "language": "python",
   "name": "python3"
  },
  "language_info": {
   "codemirror_mode": {
    "name": "ipython",
    "version": 3
   },
   "file_extension": ".py",
   "mimetype": "text/x-python",
   "name": "python",
   "nbconvert_exporter": "python",
   "pygments_lexer": "ipython3",
   "version": "3.9.7"
  }
 },
 "nbformat": 4,
 "nbformat_minor": 5
}
