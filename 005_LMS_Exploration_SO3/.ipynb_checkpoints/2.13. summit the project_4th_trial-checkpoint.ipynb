{
 "cells": [
  {
   "cell_type": "markdown",
   "id": "b4d37a3d",
   "metadata": {},
   "source": [
    "## 2.13. 프로젝트 2 : 날씨 좋은 월요일 오후 세 시, 자전거 타는 사람은 몇 명?"
   ]
  },
  {
   "cell_type": "code",
   "execution_count": 1,
   "id": "ae75c539",
   "metadata": {},
   "outputs": [],
   "source": [
    "import numpy as np\n",
    "import pandas as pd\n",
    "import matplotlib.pyplot as plt\n",
    "import seaborn as sns\n",
    "from sklearn.model_selection import train_test_split\n",
    "from sklearn.linear_model import LinearRegression"
   ]
  },
  {
   "cell_type": "markdown",
   "id": "51286827",
   "metadata": {},
   "source": [
    "### (1) 데이터 가져오기"
   ]
  },
  {
   "cell_type": "code",
   "execution_count": 2,
   "id": "8c18bf7c",
   "metadata": {
    "scrolled": false
   },
   "outputs": [],
   "source": [
    "# bike_train = pd.read_csv('../../../data/data/bike-sharing-demand/train.csv')\n",
    "# bike_test  = pd.read_csv('../../../data/data/bike-sharing-demand/test.csv')\n",
    "bike_train = pd.read_csv('02/data/train.csv')\n",
    "bike_test  = pd.read_csv('02/data/test.csv')"
   ]
  },
  {
   "cell_type": "code",
   "execution_count": 3,
   "id": "5f585650",
   "metadata": {},
   "outputs": [
    {
     "name": "stdout",
     "output_type": "stream",
     "text": [
      "<class 'pandas.core.frame.DataFrame'>\n",
      "(10886, 12)\n"
     ]
    }
   ],
   "source": [
    "print(type(bike_train))\n",
    "print(bike_train.shape)"
   ]
  },
  {
   "cell_type": "code",
   "execution_count": 4,
   "id": "c5401f52",
   "metadata": {},
   "outputs": [
    {
     "name": "stdout",
     "output_type": "stream",
     "text": [
      "<class 'pandas.core.frame.DataFrame'>\n",
      "(6493, 9)\n"
     ]
    }
   ],
   "source": [
    "print(type(bike_test))\n",
    "print(bike_test.shape)"
   ]
  },
  {
   "cell_type": "code",
   "execution_count": 5,
   "id": "db82f34a",
   "metadata": {},
   "outputs": [
    {
     "data": {
      "text/plain": [
       "4    2734\n",
       "2    2733\n",
       "3    2733\n",
       "1    2686\n",
       "Name: season, dtype: int64"
      ]
     },
     "execution_count": 5,
     "metadata": {},
     "output_type": "execute_result"
    }
   ],
   "source": [
    "bike_train['season'].value_counts()"
   ]
  },
  {
   "cell_type": "code",
   "execution_count": 6,
   "id": "d311f313",
   "metadata": {},
   "outputs": [
    {
     "data": {
      "text/plain": [
       "0    10575\n",
       "1      311\n",
       "Name: holiday, dtype: int64"
      ]
     },
     "execution_count": 6,
     "metadata": {},
     "output_type": "execute_result"
    }
   ],
   "source": [
    "bike_train['holiday'].value_counts()"
   ]
  },
  {
   "cell_type": "code",
   "execution_count": 7,
   "id": "ab88883b",
   "metadata": {},
   "outputs": [
    {
     "data": {
      "text/plain": [
       "1    7412\n",
       "0    3474\n",
       "Name: workingday, dtype: int64"
      ]
     },
     "execution_count": 7,
     "metadata": {},
     "output_type": "execute_result"
    }
   ],
   "source": [
    "bike_train['workingday'].value_counts()"
   ]
  },
  {
   "cell_type": "code",
   "execution_count": 8,
   "id": "792428b6",
   "metadata": {
    "scrolled": true
   },
   "outputs": [
    {
     "data": {
      "text/plain": [
       "holiday  workingday\n",
       "0        0             3163\n",
       "         1             7412\n",
       "1        0              311\n",
       "Name: count, dtype: int64"
      ]
     },
     "execution_count": 8,
     "metadata": {},
     "output_type": "execute_result"
    }
   ],
   "source": [
    "grouped = bike_train['count'].groupby([bike_train['holiday'], bike_train['workingday']]).count()\n",
    "grouped"
   ]
  },
  {
   "cell_type": "code",
   "execution_count": 9,
   "id": "7caafd34",
   "metadata": {
    "scrolled": true
   },
   "outputs": [
    {
     "data": {
      "text/plain": [
       "1    7192\n",
       "2    2834\n",
       "3     859\n",
       "4       1\n",
       "Name: weather, dtype: int64"
      ]
     },
     "execution_count": 9,
     "metadata": {},
     "output_type": "execute_result"
    }
   ],
   "source": [
    "bike_train['weather'].value_counts()"
   ]
  },
  {
   "cell_type": "markdown",
   "id": "27dafd37",
   "metadata": {},
   "source": [
    "### (2) `datetime` 컬럼을 `datetime` 자료형으로 변환하고 연, 월, 일, 시, 분, 초까지 6가지 컬럼 생성하기"
   ]
  },
  {
   "cell_type": "code",
   "execution_count": 10,
   "id": "340a6cd9",
   "metadata": {
    "scrolled": true
   },
   "outputs": [
    {
     "name": "stdout",
     "output_type": "stream",
     "text": [
      "2011 1 1 0 0 0\n",
      "2011 1 1 1 0 0\n",
      "2011 1 1 2 0 0\n",
      "2011 1 1 3 0 0\n",
      "2011 1 1 4 0 0\n",
      "2011 1 1 5 0 0\n",
      "2011 1 1 6 0 0\n",
      "2011 1 1 7 0 0\n",
      "2011 1 1 8 0 0\n",
      "2011 1 1 9 0 0\n",
      "2011 1 1 10 0 0\n",
      "2011 1 1 11 0 0\n",
      "2011 1 1 12 0 0\n",
      "2011 1 1 13 0 0\n",
      "2011 1 1 14 0 0\n",
      "2011 1 1 15 0 0\n",
      "2011 1 1 16 0 0\n",
      "2011 1 1 17 0 0\n",
      "2011 1 1 18 0 0\n",
      "2011 1 1 19 0 0\n",
      "2011 1 1 20 0 0\n",
      "2011 1 1 21 0 0\n",
      "2011 1 1 22 0 0\n",
      "2011 1 1 23 0 0\n",
      "2011 1 2 0 0 0\n",
      "2011 1 2 1 0 0\n",
      "2011 1 2 2 0 0\n",
      "2011 1 2 3 0 0\n",
      "2011 1 2 4 0 0\n",
      "2011 1 2 6 0 0\n",
      "2011 1 2 7 0 0\n",
      "2011 1 2 8 0 0\n",
      "2011 1 2 9 0 0\n",
      "2011 1 2 10 0 0\n",
      "2011 1 2 11 0 0\n",
      "2011 1 2 12 0 0\n",
      "2011 1 2 13 0 0\n",
      "2011 1 2 14 0 0\n",
      "2011 1 2 15 0 0\n",
      "2011 1 2 16 0 0\n",
      "2011 1 2 17 0 0\n",
      "2011 1 2 18 0 0\n",
      "2011 1 2 19 0 0\n",
      "2011 1 2 20 0 0\n",
      "2011 1 2 21 0 0\n",
      "2011 1 2 22 0 0\n",
      "2011 1 2 23 0 0\n",
      "2011 1 3 0 0 0\n",
      "2011 1 3 1 0 0\n",
      "2011 1 3 4 0 0\n",
      "2011 1 3 5 0 0\n",
      "2011 1 3 6 0 0\n",
      "2011 1 3 7 0 0\n",
      "2011 1 3 8 0 0\n",
      "2011 1 3 9 0 0\n",
      "2011 1 3 10 0 0\n",
      "2011 1 3 11 0 0\n",
      "2011 1 3 12 0 0\n",
      "2011 1 3 13 0 0\n",
      "2011 1 3 14 0 0\n",
      "2011 1 3 15 0 0\n",
      "2011 1 3 16 0 0\n",
      "2011 1 3 17 0 0\n",
      "2011 1 3 18 0 0\n",
      "2011 1 3 19 0 0\n",
      "2011 1 3 20 0 0\n",
      "2011 1 3 21 0 0\n",
      "2011 1 3 22 0 0\n",
      "2011 1 3 23 0 0\n",
      "2011 1 4 0 0 0\n",
      "2011 1 4 1 0 0\n",
      "2011 1 4 2 0 0\n",
      "2011 1 4 4 0 0\n",
      "2011 1 4 5 0 0\n",
      "2011 1 4 6 0 0\n",
      "2011 1 4 7 0 0\n",
      "2011 1 4 8 0 0\n",
      "2011 1 4 9 0 0\n",
      "2011 1 4 10 0 0\n",
      "2011 1 4 11 0 0\n",
      "2011 1 4 12 0 0\n",
      "2011 1 4 13 0 0\n",
      "2011 1 4 14 0 0\n",
      "2011 1 4 15 0 0\n",
      "2011 1 4 16 0 0\n",
      "2011 1 4 17 0 0\n",
      "2011 1 4 18 0 0\n",
      "2011 1 4 19 0 0\n",
      "2011 1 4 20 0 0\n",
      "2011 1 4 21 0 0\n",
      "2011 1 4 22 0 0\n",
      "2011 1 4 23 0 0\n",
      "2011 1 5 0 0 0\n",
      "2011 1 5 1 0 0\n",
      "2011 1 5 2 0 0\n",
      "2011 1 5 4 0 0\n",
      "2011 1 5 5 0 0\n",
      "2011 1 5 6 0 0\n",
      "2011 1 5 7 0 0\n",
      "2011 1 5 8 0 0\n"
     ]
    }
   ],
   "source": [
    "for i in range(100):\n",
    "    c = bike_train.iloc[i,0]\n",
    "    cc = pd.to_datetime(c)\n",
    "    print(cc.year,cc.month,cc.day,cc.hour,cc.minute,cc.second)"
   ]
  },
  {
   "cell_type": "code",
   "execution_count": 11,
   "id": "3a4671b9",
   "metadata": {
    "scrolled": true
   },
   "outputs": [],
   "source": [
    "bike_train = pd.read_csv('../../../data/data/bike-sharing-demand/train.csv')\n",
    "bike_train['year']=1\n",
    "# bike_train"
   ]
  },
  {
   "cell_type": "code",
   "execution_count": 12,
   "id": "4b0ec579",
   "metadata": {
    "scrolled": true
   },
   "outputs": [],
   "source": [
    "bike_train = pd.read_csv('../../../data/data/bike-sharing-demand/train.csv')\n",
    "bike_train['year']=bike_train['datetime']\n",
    "# bike_train"
   ]
  },
  {
   "cell_type": "code",
   "execution_count": 17,
   "id": "24144541",
   "metadata": {},
   "outputs": [
    {
     "data": {
      "text/html": [
       "<div>\n",
       "<style scoped>\n",
       "    .dataframe tbody tr th:only-of-type {\n",
       "        vertical-align: middle;\n",
       "    }\n",
       "\n",
       "    .dataframe tbody tr th {\n",
       "        vertical-align: top;\n",
       "    }\n",
       "\n",
       "    .dataframe thead th {\n",
       "        text-align: right;\n",
       "    }\n",
       "</style>\n",
       "<table border=\"1\" class=\"dataframe\">\n",
       "  <thead>\n",
       "    <tr style=\"text-align: right;\">\n",
       "      <th></th>\n",
       "      <th>year</th>\n",
       "      <th>month</th>\n",
       "      <th>day</th>\n",
       "      <th>hour</th>\n",
       "      <th>minute</th>\n",
       "      <th>second</th>\n",
       "      <th>season</th>\n",
       "      <th>holiday</th>\n",
       "      <th>workingday</th>\n",
       "      <th>weather</th>\n",
       "      <th>temp</th>\n",
       "      <th>atemp</th>\n",
       "      <th>humidity</th>\n",
       "      <th>windspeed</th>\n",
       "      <th>count</th>\n",
       "    </tr>\n",
       "  </thead>\n",
       "  <tbody>\n",
       "    <tr>\n",
       "      <th>0</th>\n",
       "      <td>2011</td>\n",
       "      <td>1</td>\n",
       "      <td>1</td>\n",
       "      <td>0</td>\n",
       "      <td>0</td>\n",
       "      <td>0</td>\n",
       "      <td>1</td>\n",
       "      <td>0</td>\n",
       "      <td>0</td>\n",
       "      <td>1</td>\n",
       "      <td>9.84</td>\n",
       "      <td>14.395</td>\n",
       "      <td>81</td>\n",
       "      <td>0.0</td>\n",
       "      <td>16</td>\n",
       "    </tr>\n",
       "    <tr>\n",
       "      <th>1</th>\n",
       "      <td>2011</td>\n",
       "      <td>1</td>\n",
       "      <td>1</td>\n",
       "      <td>1</td>\n",
       "      <td>0</td>\n",
       "      <td>0</td>\n",
       "      <td>1</td>\n",
       "      <td>0</td>\n",
       "      <td>0</td>\n",
       "      <td>1</td>\n",
       "      <td>9.02</td>\n",
       "      <td>13.635</td>\n",
       "      <td>80</td>\n",
       "      <td>0.0</td>\n",
       "      <td>40</td>\n",
       "    </tr>\n",
       "    <tr>\n",
       "      <th>2</th>\n",
       "      <td>2011</td>\n",
       "      <td>1</td>\n",
       "      <td>1</td>\n",
       "      <td>2</td>\n",
       "      <td>0</td>\n",
       "      <td>0</td>\n",
       "      <td>1</td>\n",
       "      <td>0</td>\n",
       "      <td>0</td>\n",
       "      <td>1</td>\n",
       "      <td>9.02</td>\n",
       "      <td>13.635</td>\n",
       "      <td>80</td>\n",
       "      <td>0.0</td>\n",
       "      <td>32</td>\n",
       "    </tr>\n",
       "    <tr>\n",
       "      <th>3</th>\n",
       "      <td>2011</td>\n",
       "      <td>1</td>\n",
       "      <td>1</td>\n",
       "      <td>3</td>\n",
       "      <td>0</td>\n",
       "      <td>0</td>\n",
       "      <td>1</td>\n",
       "      <td>0</td>\n",
       "      <td>0</td>\n",
       "      <td>1</td>\n",
       "      <td>9.84</td>\n",
       "      <td>14.395</td>\n",
       "      <td>75</td>\n",
       "      <td>0.0</td>\n",
       "      <td>13</td>\n",
       "    </tr>\n",
       "    <tr>\n",
       "      <th>4</th>\n",
       "      <td>2011</td>\n",
       "      <td>1</td>\n",
       "      <td>1</td>\n",
       "      <td>4</td>\n",
       "      <td>0</td>\n",
       "      <td>0</td>\n",
       "      <td>1</td>\n",
       "      <td>0</td>\n",
       "      <td>0</td>\n",
       "      <td>1</td>\n",
       "      <td>9.84</td>\n",
       "      <td>14.395</td>\n",
       "      <td>75</td>\n",
       "      <td>0.0</td>\n",
       "      <td>1</td>\n",
       "    </tr>\n",
       "  </tbody>\n",
       "</table>\n",
       "</div>"
      ],
      "text/plain": [
       "   year  month  day  hour  minute  second  season  holiday  workingday  \\\n",
       "0  2011      1    1     0       0       0       1        0           0   \n",
       "1  2011      1    1     1       0       0       1        0           0   \n",
       "2  2011      1    1     2       0       0       1        0           0   \n",
       "3  2011      1    1     3       0       0       1        0           0   \n",
       "4  2011      1    1     4       0       0       1        0           0   \n",
       "\n",
       "   weather  temp   atemp  humidity  windspeed  count  \n",
       "0        1  9.84  14.395        81        0.0     16  \n",
       "1        1  9.02  13.635        80        0.0     40  \n",
       "2        1  9.02  13.635        80        0.0     32  \n",
       "3        1  9.84  14.395        75        0.0     13  \n",
       "4        1  9.84  14.395        75        0.0      1  "
      ]
     },
     "execution_count": 17,
     "metadata": {},
     "output_type": "execute_result"
    }
   ],
   "source": [
    "bike_train = pd.read_csv('../../../data/data/bike-sharing-demand/train.csv')\n",
    "bike_train['year'] = pd.DatetimeIndex(bike_train['datetime']).year\n",
    "bike_train['month'] = pd.DatetimeIndex(bike_train['datetime']).month\n",
    "bike_train['day'] = pd.DatetimeIndex(bike_train['datetime']).day\n",
    "bike_train['hour'] = pd.DatetimeIndex(bike_train['datetime']).hour\n",
    "bike_train['minute'] = pd.DatetimeIndex(bike_train['datetime']).minute\n",
    "bike_train['second'] = pd.DatetimeIndex(bike_train['datetime']).second\n",
    "bike_train = bike_train[['year', 'month', 'day', 'hour','minute','second',\n",
    "                        'season','holiday','workingday','weather','temp',\n",
    "                        'atemp','humidity','windspeed','count']]\n",
    "bike_train.head()"
   ]
  },
  {
   "cell_type": "code",
   "execution_count": 18,
   "id": "aeb94696",
   "metadata": {
    "scrolled": true
   },
   "outputs": [
    {
     "data": {
      "text/plain": [
       "(10886, 15)"
      ]
     },
     "execution_count": 18,
     "metadata": {},
     "output_type": "execute_result"
    }
   ],
   "source": [
    "bike_train.shape"
   ]
  },
  {
   "cell_type": "code",
   "execution_count": 19,
   "id": "7e3568c2",
   "metadata": {
    "scrolled": true
   },
   "outputs": [
    {
     "data": {
      "text/plain": [
       "2012    5464\n",
       "2011    5422\n",
       "Name: year, dtype: int64"
      ]
     },
     "execution_count": 19,
     "metadata": {},
     "output_type": "execute_result"
    }
   ],
   "source": [
    "bike_train['year'].value_counts()"
   ]
  },
  {
   "cell_type": "markdown",
   "id": "a4150cf9",
   "metadata": {},
   "source": [
    "### (3) year, month, day, hour, minute, second 데이터 개수 시각화하기"
   ]
  },
  {
   "cell_type": "code",
   "execution_count": 36,
   "id": "fe9def80",
   "metadata": {},
   "outputs": [
    {
     "data": {
      "text/plain": [
       "array([[<AxesSubplot:>, <AxesSubplot:>, <AxesSubplot:>],\n",
       "       [<AxesSubplot:>, <AxesSubplot:>, <AxesSubplot:>]], dtype=object)"
      ]
     },
     "execution_count": 36,
     "metadata": {},
     "output_type": "execute_result"
    }
   ],
   "source": [
    "axes"
   ]
  },
  {
   "cell_type": "code",
   "execution_count": 42,
   "id": "fd703db5",
   "metadata": {},
   "outputs": [
    {
     "data": {
      "text/plain": [
       "Text(0.5, 1.0, 'second')"
      ]
     },
     "execution_count": 42,
     "metadata": {},
     "output_type": "execute_result"
    },
    {
     "data": {
      "image/png": "[encoded data removed]",
      "text/plain": [
       "<Figure size 1296x720 with 6 Axes>"
      ]
     },
     "metadata": {
      "needs_background": "light"
     },
     "output_type": "display_data"
    }
   ],
   "source": [
    "fig, axes = plt.subplots(2, 3, figsize=(18, 10))\n",
    "\n",
    "fig.suptitle('counts for six types of time data')\n",
    "\n",
    "sns.countplot(ax=axes[0,0], x='year', data = bike_train)\n",
    "axes[0,0].set_title('year')\n",
    "sns.countplot(ax=axes[0,1], x='month', data = bike_train)\n",
    "axes[0,1].set_title('month')\n",
    "sns.countplot(ax=axes[0,2], x='day', data = bike_train)\n",
    "axes[0,2].set_title('day')\n",
    "sns.countplot(ax=axes[1,0], x='hour', data = bike_train)\n",
    "axes[1,0].set_title('hour')\n",
    "sns.countplot(ax=axes[1,1], x='minute', data = bike_train)\n",
    "axes[1,1].set_title('minute')\n",
    "sns.countplot(ax=axes[1,2], x='second', data = bike_train)\n",
    "axes[1,2].set_title('second')\n"
   ]
  },
  {
   "cell_type": "code",
   "execution_count": 37,
   "id": "084fd2d4",
   "metadata": {},
   "outputs": [
    {
     "ename": "AttributeError",
     "evalue": "'numpy.ndarray' object has no attribute 'bar'",
     "output_type": "error",
     "traceback": [
      "\u001b[0;31m---------------------------------------------------------------------------\u001b[0m",
      "\u001b[0;31mAttributeError\u001b[0m                            Traceback (most recent call last)",
      "\u001b[0;32m/tmp/ipykernel_238/719140750.py\u001b[0m in \u001b[0;36m<module>\u001b[0;34m\u001b[0m\n\u001b[1;32m      2\u001b[0m \u001b[0mfig\u001b[0m\u001b[0;34m,\u001b[0m \u001b[0maxes\u001b[0m \u001b[0;34m=\u001b[0m \u001b[0mplt\u001b[0m\u001b[0;34m.\u001b[0m\u001b[0msubplots\u001b[0m\u001b[0;34m(\u001b[0m\u001b[0;36m2\u001b[0m\u001b[0;34m,\u001b[0m \u001b[0;36m3\u001b[0m\u001b[0;34m)\u001b[0m\u001b[0;34m\u001b[0m\u001b[0;34m\u001b[0m\u001b[0m\n\u001b[1;32m      3\u001b[0m \u001b[0;31m#sns.countplot(x = 'sex', data = df)\u001b[0m\u001b[0;34m\u001b[0m\u001b[0;34m\u001b[0m\u001b[0m\n\u001b[0;32m----> 4\u001b[0;31m \u001b[0msns\u001b[0m\u001b[0;34m.\u001b[0m\u001b[0mcountplot\u001b[0m\u001b[0;34m(\u001b[0m\u001b[0mx\u001b[0m \u001b[0;34m=\u001b[0m \u001b[0;34m\"year\"\u001b[0m\u001b[0;34m,\u001b[0m \u001b[0mdata\u001b[0m \u001b[0;34m=\u001b[0m \u001b[0mbike_train\u001b[0m\u001b[0;34m,\u001b[0m \u001b[0max\u001b[0m\u001b[0;34m=\u001b[0m\u001b[0maxes\u001b[0m\u001b[0;34m[\u001b[0m\u001b[0;36m0\u001b[0m\u001b[0;34m]\u001b[0m\u001b[0;34m)\u001b[0m\u001b[0;34m\u001b[0m\u001b[0;34m\u001b[0m\u001b[0m\n\u001b[0m\u001b[1;32m      5\u001b[0m \u001b[0msns\u001b[0m\u001b[0;34m.\u001b[0m\u001b[0mcountplot\u001b[0m\u001b[0;34m(\u001b[0m\u001b[0mx\u001b[0m \u001b[0;34m=\u001b[0m \u001b[0;34m\"month\"\u001b[0m\u001b[0;34m,\u001b[0m \u001b[0mdata\u001b[0m \u001b[0;34m=\u001b[0m \u001b[0mbike_train\u001b[0m\u001b[0;34m,\u001b[0m \u001b[0max\u001b[0m\u001b[0;34m=\u001b[0m\u001b[0maxes\u001b[0m\u001b[0;34m[\u001b[0m\u001b[0;36m1\u001b[0m\u001b[0;34m]\u001b[0m\u001b[0;34m)\u001b[0m\u001b[0;34m\u001b[0m\u001b[0;34m\u001b[0m\u001b[0m\n\u001b[1;32m      6\u001b[0m \u001b[0msns\u001b[0m\u001b[0;34m.\u001b[0m\u001b[0mcountplot\u001b[0m\u001b[0;34m(\u001b[0m\u001b[0mx\u001b[0m \u001b[0;34m=\u001b[0m \u001b[0;34m\"day\"\u001b[0m\u001b[0;34m,\u001b[0m \u001b[0mdata\u001b[0m \u001b[0;34m=\u001b[0m \u001b[0mbike_train\u001b[0m\u001b[0;34m,\u001b[0m \u001b[0max\u001b[0m\u001b[0;34m=\u001b[0m\u001b[0maxes\u001b[0m\u001b[0;34m[\u001b[0m\u001b[0;36m2\u001b[0m\u001b[0;34m]\u001b[0m\u001b[0;34m)\u001b[0m\u001b[0;34m\u001b[0m\u001b[0;34m\u001b[0m\u001b[0m\n",
      "\u001b[0;32m/opt/conda/lib/python3.9/site-packages/seaborn/_decorators.py\u001b[0m in \u001b[0;36minner_f\u001b[0;34m(*args, **kwargs)\u001b[0m\n\u001b[1;32m     44\u001b[0m             )\n\u001b[1;32m     45\u001b[0m         \u001b[0mkwargs\u001b[0m\u001b[0;34m.\u001b[0m\u001b[0mupdate\u001b[0m\u001b[0;34m(\u001b[0m\u001b[0;34m{\u001b[0m\u001b[0mk\u001b[0m\u001b[0;34m:\u001b[0m \u001b[0marg\u001b[0m \u001b[0;32mfor\u001b[0m \u001b[0mk\u001b[0m\u001b[0;34m,\u001b[0m \u001b[0marg\u001b[0m \u001b[0;32min\u001b[0m \u001b[0mzip\u001b[0m\u001b[0;34m(\u001b[0m\u001b[0msig\u001b[0m\u001b[0;34m.\u001b[0m\u001b[0mparameters\u001b[0m\u001b[0;34m,\u001b[0m \u001b[0margs\u001b[0m\u001b[0;34m)\u001b[0m\u001b[0;34m}\u001b[0m\u001b[0;34m)\u001b[0m\u001b[0;34m\u001b[0m\u001b[0;34m\u001b[0m\u001b[0m\n\u001b[0;32m---> 46\u001b[0;31m         \u001b[0;32mreturn\u001b[0m \u001b[0mf\u001b[0m\u001b[0;34m(\u001b[0m\u001b[0;34m**\u001b[0m\u001b[0mkwargs\u001b[0m\u001b[0;34m)\u001b[0m\u001b[0;34m\u001b[0m\u001b[0;34m\u001b[0m\u001b[0m\n\u001b[0m\u001b[1;32m     47\u001b[0m     \u001b[0;32mreturn\u001b[0m \u001b[0minner_f\u001b[0m\u001b[0;34m\u001b[0m\u001b[0;34m\u001b[0m\u001b[0m\n\u001b[1;32m     48\u001b[0m \u001b[0;34m\u001b[0m\u001b[0m\n",
      "\u001b[0;32m/opt/conda/lib/python3.9/site-packages/seaborn/categorical.py\u001b[0m in \u001b[0;36mcountplot\u001b[0;34m(x, y, hue, data, order, hue_order, orient, color, palette, saturation, dodge, ax, **kwargs)\u001b[0m\n\u001b[1;32m   3608\u001b[0m         \u001b[0max\u001b[0m \u001b[0;34m=\u001b[0m \u001b[0mplt\u001b[0m\u001b[0;34m.\u001b[0m\u001b[0mgca\u001b[0m\u001b[0;34m(\u001b[0m\u001b[0;34m)\u001b[0m\u001b[0;34m\u001b[0m\u001b[0;34m\u001b[0m\u001b[0m\n\u001b[1;32m   3609\u001b[0m \u001b[0;34m\u001b[0m\u001b[0m\n\u001b[0;32m-> 3610\u001b[0;31m     \u001b[0mplotter\u001b[0m\u001b[0;34m.\u001b[0m\u001b[0mplot\u001b[0m\u001b[0;34m(\u001b[0m\u001b[0max\u001b[0m\u001b[0;34m,\u001b[0m \u001b[0mkwargs\u001b[0m\u001b[0;34m)\u001b[0m\u001b[0;34m\u001b[0m\u001b[0;34m\u001b[0m\u001b[0m\n\u001b[0m\u001b[1;32m   3611\u001b[0m     \u001b[0;32mreturn\u001b[0m \u001b[0max\u001b[0m\u001b[0;34m\u001b[0m\u001b[0;34m\u001b[0m\u001b[0m\n\u001b[1;32m   3612\u001b[0m \u001b[0;34m\u001b[0m\u001b[0m\n",
      "\u001b[0;32m/opt/conda/lib/python3.9/site-packages/seaborn/categorical.py\u001b[0m in \u001b[0;36mplot\u001b[0;34m(self, ax, bar_kws)\u001b[0m\n\u001b[1;32m   1637\u001b[0m     \u001b[0;32mdef\u001b[0m \u001b[0mplot\u001b[0m\u001b[0;34m(\u001b[0m\u001b[0mself\u001b[0m\u001b[0;34m,\u001b[0m \u001b[0max\u001b[0m\u001b[0;34m,\u001b[0m \u001b[0mbar_kws\u001b[0m\u001b[0;34m)\u001b[0m\u001b[0;34m:\u001b[0m\u001b[0;34m\u001b[0m\u001b[0;34m\u001b[0m\u001b[0m\n\u001b[1;32m   1638\u001b[0m         \u001b[0;34m\"\"\"Make the plot.\"\"\"\u001b[0m\u001b[0;34m\u001b[0m\u001b[0;34m\u001b[0m\u001b[0m\n\u001b[0;32m-> 1639\u001b[0;31m         \u001b[0mself\u001b[0m\u001b[0;34m.\u001b[0m\u001b[0mdraw_bars\u001b[0m\u001b[0;34m(\u001b[0m\u001b[0max\u001b[0m\u001b[0;34m,\u001b[0m \u001b[0mbar_kws\u001b[0m\u001b[0;34m)\u001b[0m\u001b[0;34m\u001b[0m\u001b[0;34m\u001b[0m\u001b[0m\n\u001b[0m\u001b[1;32m   1640\u001b[0m         \u001b[0mself\u001b[0m\u001b[0;34m.\u001b[0m\u001b[0mannotate_axes\u001b[0m\u001b[0;34m(\u001b[0m\u001b[0max\u001b[0m\u001b[0;34m)\u001b[0m\u001b[0;34m\u001b[0m\u001b[0;34m\u001b[0m\u001b[0m\n\u001b[1;32m   1641\u001b[0m         \u001b[0;32mif\u001b[0m \u001b[0mself\u001b[0m\u001b[0;34m.\u001b[0m\u001b[0morient\u001b[0m \u001b[0;34m==\u001b[0m \u001b[0;34m\"h\"\u001b[0m\u001b[0;34m:\u001b[0m\u001b[0;34m\u001b[0m\u001b[0;34m\u001b[0m\u001b[0m\n",
      "\u001b[0;32m/opt/conda/lib/python3.9/site-packages/seaborn/categorical.py\u001b[0m in \u001b[0;36mdraw_bars\u001b[0;34m(self, ax, kws)\u001b[0m\n\u001b[1;32m   1596\u001b[0m         \u001b[0;34m\"\"\"Draw the bars onto `ax`.\"\"\"\u001b[0m\u001b[0;34m\u001b[0m\u001b[0;34m\u001b[0m\u001b[0m\n\u001b[1;32m   1597\u001b[0m         \u001b[0;31m# Get the right matplotlib function depending on the orientation\u001b[0m\u001b[0;34m\u001b[0m\u001b[0;34m\u001b[0m\u001b[0m\n\u001b[0;32m-> 1598\u001b[0;31m         \u001b[0mbarfunc\u001b[0m \u001b[0;34m=\u001b[0m \u001b[0max\u001b[0m\u001b[0;34m.\u001b[0m\u001b[0mbar\u001b[0m \u001b[0;32mif\u001b[0m \u001b[0mself\u001b[0m\u001b[0;34m.\u001b[0m\u001b[0morient\u001b[0m \u001b[0;34m==\u001b[0m \u001b[0;34m\"v\"\u001b[0m \u001b[0;32melse\u001b[0m \u001b[0max\u001b[0m\u001b[0;34m.\u001b[0m\u001b[0mbarh\u001b[0m\u001b[0;34m\u001b[0m\u001b[0;34m\u001b[0m\u001b[0m\n\u001b[0m\u001b[1;32m   1599\u001b[0m         \u001b[0mbarpos\u001b[0m \u001b[0;34m=\u001b[0m \u001b[0mnp\u001b[0m\u001b[0;34m.\u001b[0m\u001b[0marange\u001b[0m\u001b[0;34m(\u001b[0m\u001b[0mlen\u001b[0m\u001b[0;34m(\u001b[0m\u001b[0mself\u001b[0m\u001b[0;34m.\u001b[0m\u001b[0mstatistic\u001b[0m\u001b[0;34m)\u001b[0m\u001b[0;34m)\u001b[0m\u001b[0;34m\u001b[0m\u001b[0;34m\u001b[0m\u001b[0m\n\u001b[1;32m   1600\u001b[0m \u001b[0;34m\u001b[0m\u001b[0m\n",
      "\u001b[0;31mAttributeError\u001b[0m: 'numpy.ndarray' object has no attribute 'bar'"
     ]
    },
    {
     "data": {
      "image/png": "[encoded data removed]",
      "text/plain": [
       "<Figure size 720x360 with 6 Axes>"
      ]
     },
     "metadata": {
      "needs_background": "light"
     },
     "output_type": "display_data"
    }
   ],
   "source": [
    "plt.rcParams[\"figure.figsize\"] = [10, 5]\n",
    "fig, axes = plt.subplots(2, 3)\n",
    "#sns.countplot(x = 'sex', data = df)\n",
    "sns.countplot(x = \"year\", data = bike_train, ax=axes[0])\n",
    "sns.countplot(x = \"month\", data = bike_train, ax=axes[1])\n",
    "sns.countplot(x = \"day\", data = bike_train, ax=axes[2])\n",
    "sns.countplot(x = \"hour\", data = bike_train, ax=axes[3])\n",
    "sns.countplot(x = \"minute\", data = bike_train, ax=axes[4])\n",
    "sns.countplot(x = \"second\", data = bike_train, ax=axes[5])\n",
    "plt.show()"
   ]
  },
  {
   "cell_type": "code",
   "execution_count": null,
   "id": "11cc7c77",
   "metadata": {},
   "outputs": [],
   "source": []
  },
  {
   "cell_type": "markdown",
   "id": "a1078a9d",
   "metadata": {},
   "source": [
    "### (4) X, y 컬럼 선택 및 train/test 데이터 분리"
   ]
  },
  {
   "cell_type": "markdown",
   "id": "6e00a930",
   "metadata": {},
   "source": [
    "### (5) LinearRegression 모델 학습"
   ]
  },
  {
   "cell_type": "markdown",
   "id": "6f728bbf",
   "metadata": {},
   "source": [
    "### (6) 학습된 모델로 X_test에 대한 예측값 출력 및 손실함수값 계산"
   ]
  },
  {
   "cell_type": "markdown",
   "id": "f67720f3",
   "metadata": {},
   "source": [
    "### (7) x축은 temp 또는 humidity로, y축은 count로 예측 결과 시각화하기"
   ]
  }
 ],
 "metadata": {
  "kernelspec": {
   "display_name": "Python 3 (ipykernel)",
   "language": "python",
   "name": "python3"
  },
  "language_info": {
   "codemirror_mode": {
    "name": "ipython",
    "version": 3
   },
   "file_extension": ".py",
   "mimetype": "text/x-python",
   "name": "python",
   "nbconvert_exporter": "python",
   "pygments_lexer": "ipython3",
   "version": "3.9.7"
  }
 },
 "nbformat": 4,
 "nbformat_minor": 5
}
