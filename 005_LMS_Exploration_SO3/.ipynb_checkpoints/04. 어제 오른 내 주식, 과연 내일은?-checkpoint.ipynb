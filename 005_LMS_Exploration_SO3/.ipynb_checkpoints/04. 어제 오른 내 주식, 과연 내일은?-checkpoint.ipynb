{
 "cells": [
  {
   "cell_type": "markdown",
   "id": "08e9a287",
   "metadata": {},
   "source": [
    "## 4.1. 들어가며"
   ]
  },
  {
   "cell_type": "markdown",
   "id": "e2b06f8f",
   "metadata": {},
   "source": [
    "## 4.2. 시계열 예측이란(1) 미래를 예측한다는 것은 가능할까?"
   ]
  },
  {
   "cell_type": "markdown",
   "id": "014eb7fe",
   "metadata": {},
   "source": [
    "## 4.3. 시계열 예측이란(2) Stationary한 시계열 데이터"
   ]
  },
  {
   "cell_type": "markdown",
   "id": "be25508d",
   "metadata": {},
   "source": [
    "**Q5. 만약 X와 X의 Covariance를 계산한다면 이것은 다음 중 무엇과 같아지나요?**\n",
    "\n",
    "실수값을 가지는 두 확률변수 $X$, $Y$에 대하여, $\\mathbb E(X)=\\mu$, $\\mathbb E(Y)=\\nu$일 때, 공분산 $C(X,Y)$는 다음과 같이 정의된다.\n",
    "\n",
    "$$C(X,Y)=\\mathbb E\\left[(X-\\mu)(Y-\\nu)\\right]$$\n",
    "\n",
    "따라서\n",
    "\n",
    "$$C(X,X)=\\mathbb E\\left[(X-\\mu)^2\\right] = V(X)$$\n",
    "\n",
    "이다."
   ]
  },
  {
   "cell_type": "markdown",
   "id": "d32ae496",
   "metadata": {},
   "source": [
    "**Q6. 두 확률변수 X, Y가 서로 독립이면 Covariance와 Correlation은 어떻게 되나요?**\n",
    "\n",
    "$X$, $Y$가 서로 독립이라는 것은 임의의 두 사건 $A\\subset X$, $B\\subset Y$에 대하여\n",
    "\n",
    "$$P(A\\cap B)=P(A)P(B)$$\n",
    "\n",
    "라는 것이다.\n",
    "만약, 두 확률분포가 모두 이산확률분포이면, 임의의 두 실수 $x$, $y$에 대하여\n",
    "\n",
    "$$P(X=x,\\:Y=y)=P(X=x)P(Y=y)$$\n",
    "\n",
    "인 것과 동치이다.\n",
    "따라서,\n",
    "\n",
    "\\begin{align*}\n",
    "\\mathbb E[XY]\n",
    "&= \\sum_{i,j}x_iy_iP(X=x_i,Y=y_i)\\\\\n",
    "&= \\sum_{i,j}x_iy_iP(X=x_i)P(Y=y_i)\\\\\n",
    "&= \\sum_ix_iP(X=x_i)\\sum_jy_jP(Y=y_i)\\\\\n",
    "&=\\mathbb E[X]\\mathbb E[Y]\n",
    "\\end{align*}\n",
    "\n",
    "이다."
   ]
  },
  {
   "cell_type": "markdown",
   "id": "576d76c4",
   "metadata": {},
   "source": [
    "## 4.4. 시계열 예측이란(3) 시계열 데이터 사례분석"
   ]
  },
  {
   "cell_type": "markdown",
   "id": "a8df57c0",
   "metadata": {},
   "source": [
    "## 4.5. 시계열 예측이란(4) Stationary 여부를 체크하는 통계적 방법"
   ]
  },
  {
   "cell_type": "markdown",
   "id": "504a61af",
   "metadata": {},
   "source": [
    "**Q10. p-value(유의확률)이란 어떤 의미인가요?**\n",
    "\n",
    "[참고한 글](https://yeomko.tistory.com/37)\n",
    "\n",
    "> 한 쪽은 한국 청소년들의 TV 시청 시간이 평균 3시간이라고 주장합니다. 다른 측은 3시간보다 작을 것이라 주장합니다. 어느 편이 맞는지 알아보기 위해 임의로 추출한 100명을 조사한 결과 평균 2.75 시간이었습니다. TV 시청 시간은 정규 분포를 하며 분산은 과거 조사에서 1로 알려져 있습니다. \n",
    "\n",
    "어떤 모집단의 한 모수를 $\\Theta$라고 하자.\n",
    "위의 예시에서 모집단은 '한국 청소년들의 TV 시청시간'이고, 모수란 'TV 시청 시간의 평균', 즉 모평균을 의미한다.\n",
    "아직 모집단의 분포를 알 수 없는 상태이다.\n",
    "\n",
    "이러한 상황에서, $\\Theta$의 값이 특정한 값 $\\Theta_0$을 가진다는 가설을 세우자(귀무가설).\n",
    "여기에서는 $\\Theta$가 3의 값을 가지리라고 가정해보았다.\n",
    "\n",
    "\\begin{align*}\n",
    "\\text{귀무가설} H_0 &: \\Theta = \\Theta_0\\\\\n",
    "\\text{귀무가설} H_0 &: \\Theta = 3\n",
    "\\end{align*}\n",
    "\n",
    "이때, 크기가 $100$인 표본을 추출했고, 이때의 표본평균이 $\\bar X = 2.75$였다.\n",
    "그러면, 귀무가설은 틀릴 확률이 높다고 말할 수 있다.\n",
    "실제 실험을 해봤는데 3보다 작은 값이 나왔기 때문이다.\n",
    "이 때에, 유의확률(p-value)이란, 귀무가설과 실제의 결과가 얼마나 맞는지를 나타내는 지표이다. 그러니까, 현재의 표본으로 추측했을 때, 귀무가설이 맞을 확률에 어느 정도 비례하는 값이다.\n",
    "참고한 글의 출처에는 다음과 같이 적혀있다.\n",
    "\n",
    "> p-value란, 귀무가설이 맞다고 가정할 때, 얻는 결과보다 극단적인 결과가 관측될 확률이다.\n",
    "\n",
    "귀무가설을 가정했을 때, 모집단 $X$의 분포는 $N(3,1^2)$이다.\n",
    "이 확률분포에서 $\\bar X = 2.75$라는 표본평균의 값은 '얼마나 안좋은가?'\n",
    "표본평균 $\\bar X$의 분포가 $N(2.75,0.1^2)$이라는 점을 고려하면, 두 분포를 바로 비교하기가 어려움을 알 수 있다.\n",
    "두 집단을 표준화해서 보면, $\\bar X=2.75$ 의 값은 $Z=-2.5$ 의 값만큼 안좋다.\n",
    "평균과 2.5시그마 만큼이나 떨어져 있는 것이다.\n",
    "\n",
    "그런데 우리는 '귀무가설이 얼마나 좋은가'를 나타내는 지표를 p-value로 삼고 싶으므로, p-value를 다음과 같이 설정하는 것이 자연스럽다.\n",
    "\n",
    "\\begin{align*}\n",
    "\\text{p-value}\n",
    "&= P(X<2.75)\\\\\n",
    "&= P(Z<-2.5)\\\\\n",
    "&= 0.0062\n",
    "\\end{align*}\n",
    "\n",
    "이렇게 한쪽방향만 고려하는 검정방식을 *단측검정*이라고 한다.\n",
    "양쪽 모두를 고려하는 *양측검정*을 통하면 p-value값이 다음과 같이 달라질 것이다.\n",
    "\n",
    "\\begin{align*}\n",
    "\\text{p-value}\n",
    "&= P\\left(|Z|>2.5\\right)\\\\\n",
    "&= 0.0124\n",
    "\\end{align*}\n"
   ]
  },
  {
   "cell_type": "markdown",
   "id": "44b72c1a",
   "metadata": {},
   "source": [
    "## 4.6. 시계열 예측의 기본 아이디어 : Stationary하게 만들 방법은 없을까?"
   ]
  },
  {
   "cell_type": "markdown",
   "id": "82ce4be5",
   "metadata": {},
   "source": [
    "## 4.7. ARIMA 모델의 개념"
   ]
  },
  {
   "cell_type": "markdown",
   "id": "c2e8fcad",
   "metadata": {},
   "source": [
    "## 4.8. ARIMA 모델 훈련과 추론"
   ]
  }
 ],
 "metadata": {
  "kernelspec": {
   "display_name": "Python 3 (ipykernel)",
   "language": "python",
   "name": "python3"
  },
  "language_info": {
   "codemirror_mode": {
    "name": "ipython",
    "version": 3
   },
   "file_extension": ".py",
   "mimetype": "text/x-python",
   "name": "python",
   "nbconvert_exporter": "python",
   "pygments_lexer": "ipython3",
   "version": "3.9.7"
  }
 },
 "nbformat": 4,
 "nbformat_minor": 5
}
