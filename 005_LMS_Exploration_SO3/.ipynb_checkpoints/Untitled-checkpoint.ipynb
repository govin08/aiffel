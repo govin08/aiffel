{
 "cells": [
  {
   "cell_type": "code",
   "execution_count": 1,
   "id": "dc6f3b9a",
   "metadata": {},
   "outputs": [
    {
     "ename": "SyntaxError",
     "evalue": "invalid syntax (4017215333.py, line 75)",
     "output_type": "error",
     "traceback": [
      "\u001b[0;36m  File \u001b[0;32m\"/tmp/ipykernel_144/4017215333.py\"\u001b[0;36m, line \u001b[0;32m75\u001b[0m\n\u001b[0;31m    display_labels=digits_label,\u001b[0m\n\u001b[0m    ^\u001b[0m\n\u001b[0;31mSyntaxError\u001b[0m\u001b[0;31m:\u001b[0m invalid syntax\n"
     ]
    }
   ],
   "source": [
    "# 1.1. 필요한 모듈 import 하기\n",
    "import numpy as np\n",
    "import matplotlib.pyplot as plt\n",
    "\n",
    "from sklearn.datasets import load_digits\n",
    "from sklearn.model_selection import train_test_split\n",
    "from sklearn import preprocessing\n",
    "\n",
    "from sklearn.tree import DecisionTreeClassifier # _dt\n",
    "from sklearn.ensemble import RandomForestClassifier # _rf\n",
    "from sklearn import svm # _svm`\n",
    "from sklearn.linear_model import SGDClassifier, LogisticRegression # _sgd,  _lr\n",
    "\n",
    "from sklearn.metrics import confusion_matrix, ConfusionMatrixDisplay, classification_report, cohen_kappa_score\n",
    "\n",
    "# 1.2. 데이터 준비\n",
    "digits = load_digits()\n",
    "\n",
    "\n",
    "# 1.3. 데이터 이해하기\n",
    "digits_data = digits.data\n",
    "digits_label = digits.target\n",
    "\n",
    "# 1.4. train, test 데이터 분리\n",
    "X_train, X_test, y_train, y_test = train_test_split(digits_data, digits_label, test_size=0.2, random_state=1)\n",
    "\n",
    "scaler = preprocessing.StandardScaler().fit(X_train)\n",
    "X_train_stan = scaler.transform(X_train)\n",
    "X_test_stan = scaler.transform(X_test)\n",
    "\n",
    "min_max_scaler = preprocessing.MinMaxScaler()\n",
    "X_train_norm = min_max_scaler.fit_transform(X_train)\n",
    "X_train_norm\n",
    "\n",
    "X_test_norm = min_max_scaler.transform(X_test)\n",
    "X_test_norm\n",
    "\n",
    "# 1.5. 다양한 모델로 학습시켜보기\n",
    "# decision tree\n",
    "# _dt\n",
    "decision_tree = DecisionTreeClassifier(random_state=1)\n",
    "decision_tree.fit(X_train, y_train)\n",
    "y_pred_dt = decision_tree.predict(X_test)\n",
    "# random forest\n",
    "# _rf\n",
    "random_forest = RandomForestClassifier(random_state=1)\n",
    "random_forest.fit(X_train, y_train)\n",
    "y_pred_rf = random_forest.predict(X_test)\n",
    "# support vector machine\n",
    "# _svm\n",
    "svm_model = svm.SVC(random_state=1)\n",
    "svm_model.fit(X_train, y_train)\n",
    "y_pred_svm = svm_model.predict(X_test)\n",
    "# stochastic gradient descent classifier\n",
    "# sgd\n",
    "sgd_model = SGDClassifier(random_state=1)\n",
    "sgd_model.fit(X_train, y_train)\n",
    "y_pred_sgd = sgd_model.predict(X_test)\n",
    "# logistic regerssion\n",
    "# _lr\n",
    "logistic_model = LogisticRegression() # convergence warning\n",
    "logistic_model.fit(X_train, y_train)\n",
    "y_pred_lr = logistic_model.predict(X_test) \n",
    "logistic_model = LogisticRegression() # no convergence warning\n",
    "logistic_model.fit(X_train_stan, y_train)\n",
    "y_pred_lr = logistic_model.predict(X_test_stan) \n",
    "logistic_model = LogisticRegression() # convergence warning\n",
    "logistic_model.fit(X_train_norm, y_train)\n",
    "y_pred_lr = logistic_model.predict(X_test_norm)\n",
    "\n",
    "plt.subplot(2, 3, 1)\n",
    "cm = confusion_matrix(y_test, y_pred_dt, digits_label)\n",
    "display = ConfusionMatrixDisplay(confusion_matrix=cm,\n",
    "                               display_labels=classifier.classes_)\n",
    "display.plot()\n"
   ]
  }
 ],
 "metadata": {
  "kernelspec": {
   "display_name": "Python 3 (ipykernel)",
   "language": "python",
   "name": "python3"
  },
  "language_info": {
   "codemirror_mode": {
    "name": "ipython",
    "version": 3
   },
   "file_extension": ".py",
   "mimetype": "text/x-python",
   "name": "python",
   "nbconvert_exporter": "python",
   "pygments_lexer": "ipython3",
   "version": "3.9.7"
  }
 },
 "nbformat": 4,
 "nbformat_minor": 5
}
