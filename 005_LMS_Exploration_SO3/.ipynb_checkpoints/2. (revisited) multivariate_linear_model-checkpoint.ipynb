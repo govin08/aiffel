{
 "cells": [
  {
   "cell_type": "code",
   "execution_count": 1,
   "id": "98b79734",
   "metadata": {},
   "outputs": [],
   "source": [
    "import numpy as np\n",
    "import seaborn as sns"
   ]
  },
  {
   "cell_type": "markdown",
   "id": "2ad23a92",
   "metadata": {},
   "source": [
    "## 2.7. 이번엔 하나가 아니다! 다양한 정보로 원하는 값을 예측해 보기 (1) 손님의 성별, 수, 전체 먹은 금액 등으로 내가 받을 팁을 예측할 수 있을까?"
   ]
  },
  {
   "cell_type": "code",
   "execution_count": 2,
   "id": "841bf90c",
   "metadata": {},
   "outputs": [
    {
     "name": "stdout",
     "output_type": "stream",
     "text": [
      "(244, 7)\n"
     ]
    },
    {
     "data": {
      "text/html": [
       "<div>\n",
       "<style scoped>\n",
       "    .dataframe tbody tr th:only-of-type {\n",
       "        vertical-align: middle;\n",
       "    }\n",
       "\n",
       "    .dataframe tbody tr th {\n",
       "        vertical-align: top;\n",
       "    }\n",
       "\n",
       "    .dataframe thead th {\n",
       "        text-align: right;\n",
       "    }\n",
       "</style>\n",
       "<table border=\"1\" class=\"dataframe\">\n",
       "  <thead>\n",
       "    <tr style=\"text-align: right;\">\n",
       "      <th></th>\n",
       "      <th>total_bill</th>\n",
       "      <th>tip</th>\n",
       "      <th>sex</th>\n",
       "      <th>smoker</th>\n",
       "      <th>day</th>\n",
       "      <th>time</th>\n",
       "      <th>size</th>\n",
       "    </tr>\n",
       "  </thead>\n",
       "  <tbody>\n",
       "    <tr>\n",
       "      <th>0</th>\n",
       "      <td>16.99</td>\n",
       "      <td>1.01</td>\n",
       "      <td>Female</td>\n",
       "      <td>No</td>\n",
       "      <td>Sun</td>\n",
       "      <td>Dinner</td>\n",
       "      <td>2</td>\n",
       "    </tr>\n",
       "    <tr>\n",
       "      <th>1</th>\n",
       "      <td>10.34</td>\n",
       "      <td>1.66</td>\n",
       "      <td>Male</td>\n",
       "      <td>No</td>\n",
       "      <td>Sun</td>\n",
       "      <td>Dinner</td>\n",
       "      <td>3</td>\n",
       "    </tr>\n",
       "    <tr>\n",
       "      <th>2</th>\n",
       "      <td>21.01</td>\n",
       "      <td>3.50</td>\n",
       "      <td>Male</td>\n",
       "      <td>No</td>\n",
       "      <td>Sun</td>\n",
       "      <td>Dinner</td>\n",
       "      <td>3</td>\n",
       "    </tr>\n",
       "    <tr>\n",
       "      <th>3</th>\n",
       "      <td>23.68</td>\n",
       "      <td>3.31</td>\n",
       "      <td>Male</td>\n",
       "      <td>No</td>\n",
       "      <td>Sun</td>\n",
       "      <td>Dinner</td>\n",
       "      <td>2</td>\n",
       "    </tr>\n",
       "    <tr>\n",
       "      <th>4</th>\n",
       "      <td>24.59</td>\n",
       "      <td>3.61</td>\n",
       "      <td>Female</td>\n",
       "      <td>No</td>\n",
       "      <td>Sun</td>\n",
       "      <td>Dinner</td>\n",
       "      <td>4</td>\n",
       "    </tr>\n",
       "  </tbody>\n",
       "</table>\n",
       "</div>"
      ],
      "text/plain": [
       "   total_bill   tip     sex smoker  day    time  size\n",
       "0       16.99  1.01  Female     No  Sun  Dinner     2\n",
       "1       10.34  1.66    Male     No  Sun  Dinner     3\n",
       "2       21.01  3.50    Male     No  Sun  Dinner     3\n",
       "3       23.68  3.31    Male     No  Sun  Dinner     2\n",
       "4       24.59  3.61  Female     No  Sun  Dinner     4"
      ]
     },
     "execution_count": 2,
     "metadata": {},
     "output_type": "execute_result"
    }
   ],
   "source": [
    "tips = sns.load_dataset(\"tips\")\n",
    "print(tips.shape)\n",
    "tips.head()"
   ]
  },
  {
   "cell_type": "code",
   "execution_count": 3,
   "id": "11080e58",
   "metadata": {},
   "outputs": [
    {
     "data": {
      "text/html": [
       "<div>\n",
       "<style scoped>\n",
       "    .dataframe tbody tr th:only-of-type {\n",
       "        vertical-align: middle;\n",
       "    }\n",
       "\n",
       "    .dataframe tbody tr th {\n",
       "        vertical-align: top;\n",
       "    }\n",
       "\n",
       "    .dataframe thead th {\n",
       "        text-align: right;\n",
       "    }\n",
       "</style>\n",
       "<table border=\"1\" class=\"dataframe\">\n",
       "  <thead>\n",
       "    <tr style=\"text-align: right;\">\n",
       "      <th></th>\n",
       "      <th>total_bill</th>\n",
       "      <th>tip</th>\n",
       "      <th>size</th>\n",
       "      <th>sex_Male</th>\n",
       "      <th>sex_Female</th>\n",
       "      <th>smoker_Yes</th>\n",
       "      <th>smoker_No</th>\n",
       "      <th>day_Thur</th>\n",
       "      <th>day_Fri</th>\n",
       "      <th>day_Sat</th>\n",
       "      <th>day_Sun</th>\n",
       "      <th>time_Lunch</th>\n",
       "      <th>time_Dinner</th>\n",
       "    </tr>\n",
       "  </thead>\n",
       "  <tbody>\n",
       "    <tr>\n",
       "      <th>0</th>\n",
       "      <td>16.99</td>\n",
       "      <td>1.01</td>\n",
       "      <td>2</td>\n",
       "      <td>0</td>\n",
       "      <td>1</td>\n",
       "      <td>0</td>\n",
       "      <td>1</td>\n",
       "      <td>0</td>\n",
       "      <td>0</td>\n",
       "      <td>0</td>\n",
       "      <td>1</td>\n",
       "      <td>0</td>\n",
       "      <td>1</td>\n",
       "    </tr>\n",
       "    <tr>\n",
       "      <th>1</th>\n",
       "      <td>10.34</td>\n",
       "      <td>1.66</td>\n",
       "      <td>3</td>\n",
       "      <td>1</td>\n",
       "      <td>0</td>\n",
       "      <td>0</td>\n",
       "      <td>1</td>\n",
       "      <td>0</td>\n",
       "      <td>0</td>\n",
       "      <td>0</td>\n",
       "      <td>1</td>\n",
       "      <td>0</td>\n",
       "      <td>1</td>\n",
       "    </tr>\n",
       "    <tr>\n",
       "      <th>2</th>\n",
       "      <td>21.01</td>\n",
       "      <td>3.50</td>\n",
       "      <td>3</td>\n",
       "      <td>1</td>\n",
       "      <td>0</td>\n",
       "      <td>0</td>\n",
       "      <td>1</td>\n",
       "      <td>0</td>\n",
       "      <td>0</td>\n",
       "      <td>0</td>\n",
       "      <td>1</td>\n",
       "      <td>0</td>\n",
       "      <td>1</td>\n",
       "    </tr>\n",
       "    <tr>\n",
       "      <th>3</th>\n",
       "      <td>23.68</td>\n",
       "      <td>3.31</td>\n",
       "      <td>2</td>\n",
       "      <td>1</td>\n",
       "      <td>0</td>\n",
       "      <td>0</td>\n",
       "      <td>1</td>\n",
       "      <td>0</td>\n",
       "      <td>0</td>\n",
       "      <td>0</td>\n",
       "      <td>1</td>\n",
       "      <td>0</td>\n",
       "      <td>1</td>\n",
       "    </tr>\n",
       "    <tr>\n",
       "      <th>4</th>\n",
       "      <td>24.59</td>\n",
       "      <td>3.61</td>\n",
       "      <td>4</td>\n",
       "      <td>0</td>\n",
       "      <td>1</td>\n",
       "      <td>0</td>\n",
       "      <td>1</td>\n",
       "      <td>0</td>\n",
       "      <td>0</td>\n",
       "      <td>0</td>\n",
       "      <td>1</td>\n",
       "      <td>0</td>\n",
       "      <td>1</td>\n",
       "    </tr>\n",
       "  </tbody>\n",
       "</table>\n",
       "</div>"
      ],
      "text/plain": [
       "   total_bill   tip  size  sex_Male  sex_Female  smoker_Yes  smoker_No  \\\n",
       "0       16.99  1.01     2         0           1           0          1   \n",
       "1       10.34  1.66     3         1           0           0          1   \n",
       "2       21.01  3.50     3         1           0           0          1   \n",
       "3       23.68  3.31     2         1           0           0          1   \n",
       "4       24.59  3.61     4         0           1           0          1   \n",
       "\n",
       "   day_Thur  day_Fri  day_Sat  day_Sun  time_Lunch  time_Dinner  \n",
       "0         0        0        0        1           0            1  \n",
       "1         0        0        0        1           0            1  \n",
       "2         0        0        0        1           0            1  \n",
       "3         0        0        0        1           0            1  \n",
       "4         0        0        0        1           0            1  "
      ]
     },
     "execution_count": 3,
     "metadata": {},
     "output_type": "execute_result"
    }
   ],
   "source": [
    "import pandas as pd\n",
    "tips = pd.get_dummies(tips, columns=['sex', 'smoker', 'day', 'time'])\n",
    "tips.head()"
   ]
  },
  {
   "cell_type": "code",
   "execution_count": 4,
   "id": "a9405902",
   "metadata": {},
   "outputs": [
    {
     "data": {
      "text/html": [
       "<div>\n",
       "<style scoped>\n",
       "    .dataframe tbody tr th:only-of-type {\n",
       "        vertical-align: middle;\n",
       "    }\n",
       "\n",
       "    .dataframe tbody tr th {\n",
       "        vertical-align: top;\n",
       "    }\n",
       "\n",
       "    .dataframe thead th {\n",
       "        text-align: right;\n",
       "    }\n",
       "</style>\n",
       "<table border=\"1\" class=\"dataframe\">\n",
       "  <thead>\n",
       "    <tr style=\"text-align: right;\">\n",
       "      <th></th>\n",
       "      <th>total_bill</th>\n",
       "      <th>size</th>\n",
       "      <th>sex_Male</th>\n",
       "      <th>sex_Female</th>\n",
       "      <th>smoker_Yes</th>\n",
       "      <th>smoker_No</th>\n",
       "      <th>day_Thur</th>\n",
       "      <th>day_Fri</th>\n",
       "      <th>day_Sat</th>\n",
       "      <th>day_Sun</th>\n",
       "      <th>time_Lunch</th>\n",
       "      <th>time_Dinner</th>\n",
       "      <th>tip</th>\n",
       "    </tr>\n",
       "  </thead>\n",
       "  <tbody>\n",
       "    <tr>\n",
       "      <th>0</th>\n",
       "      <td>16.99</td>\n",
       "      <td>2</td>\n",
       "      <td>0</td>\n",
       "      <td>1</td>\n",
       "      <td>0</td>\n",
       "      <td>1</td>\n",
       "      <td>0</td>\n",
       "      <td>0</td>\n",
       "      <td>0</td>\n",
       "      <td>1</td>\n",
       "      <td>0</td>\n",
       "      <td>1</td>\n",
       "      <td>1.01</td>\n",
       "    </tr>\n",
       "    <tr>\n",
       "      <th>1</th>\n",
       "      <td>10.34</td>\n",
       "      <td>3</td>\n",
       "      <td>1</td>\n",
       "      <td>0</td>\n",
       "      <td>0</td>\n",
       "      <td>1</td>\n",
       "      <td>0</td>\n",
       "      <td>0</td>\n",
       "      <td>0</td>\n",
       "      <td>1</td>\n",
       "      <td>0</td>\n",
       "      <td>1</td>\n",
       "      <td>1.66</td>\n",
       "    </tr>\n",
       "    <tr>\n",
       "      <th>2</th>\n",
       "      <td>21.01</td>\n",
       "      <td>3</td>\n",
       "      <td>1</td>\n",
       "      <td>0</td>\n",
       "      <td>0</td>\n",
       "      <td>1</td>\n",
       "      <td>0</td>\n",
       "      <td>0</td>\n",
       "      <td>0</td>\n",
       "      <td>1</td>\n",
       "      <td>0</td>\n",
       "      <td>1</td>\n",
       "      <td>3.50</td>\n",
       "    </tr>\n",
       "    <tr>\n",
       "      <th>3</th>\n",
       "      <td>23.68</td>\n",
       "      <td>2</td>\n",
       "      <td>1</td>\n",
       "      <td>0</td>\n",
       "      <td>0</td>\n",
       "      <td>1</td>\n",
       "      <td>0</td>\n",
       "      <td>0</td>\n",
       "      <td>0</td>\n",
       "      <td>1</td>\n",
       "      <td>0</td>\n",
       "      <td>1</td>\n",
       "      <td>3.31</td>\n",
       "    </tr>\n",
       "    <tr>\n",
       "      <th>4</th>\n",
       "      <td>24.59</td>\n",
       "      <td>4</td>\n",
       "      <td>0</td>\n",
       "      <td>1</td>\n",
       "      <td>0</td>\n",
       "      <td>1</td>\n",
       "      <td>0</td>\n",
       "      <td>0</td>\n",
       "      <td>0</td>\n",
       "      <td>1</td>\n",
       "      <td>0</td>\n",
       "      <td>1</td>\n",
       "      <td>3.61</td>\n",
       "    </tr>\n",
       "  </tbody>\n",
       "</table>\n",
       "</div>"
      ],
      "text/plain": [
       "   total_bill  size  sex_Male  sex_Female  smoker_Yes  smoker_No  day_Thur  \\\n",
       "0       16.99     2         0           1           0          1         0   \n",
       "1       10.34     3         1           0           0          1         0   \n",
       "2       21.01     3         1           0           0          1         0   \n",
       "3       23.68     2         1           0           0          1         0   \n",
       "4       24.59     4         0           1           0          1         0   \n",
       "\n",
       "   day_Fri  day_Sat  day_Sun  time_Lunch  time_Dinner   tip  \n",
       "0        0        0        1           0            1  1.01  \n",
       "1        0        0        1           0            1  1.66  \n",
       "2        0        0        1           0            1  3.50  \n",
       "3        0        0        1           0            1  3.31  \n",
       "4        0        0        1           0            1  3.61  "
      ]
     },
     "execution_count": 4,
     "metadata": {},
     "output_type": "execute_result"
    }
   ],
   "source": [
    "tips = tips[['total_bill', 'size', 'sex_Male', 'sex_Female', 'smoker_Yes', 'smoker_No',\n",
    "             'day_Thur', 'day_Fri', 'day_Sat', 'day_Sun', 'time_Lunch', 'time_Dinner', 'tip']]\n",
    "tips.head()"
   ]
  },
  {
   "cell_type": "markdown",
   "id": "ab8ec130",
   "metadata": {},
   "source": [
    "## 2.8. 이번엔 하나가 아니다! 다양한 정보로 원하는 값을 예측해 보기 (2) 다시 한 번 직접 설계해 보는 손실함수"
   ]
  },
  {
   "cell_type": "markdown",
   "id": "9ef62290",
   "metadata": {},
   "source": [
    "### 2.8.1. `model`, `MSE`, `loss`"
   ]
  },
  {
   "cell_type": "code",
   "execution_count": 5,
   "id": "4f8aa3cc",
   "metadata": {},
   "outputs": [
    {
     "name": "stdout",
     "output_type": "stream",
     "text": [
      "슝=3\n"
     ]
    }
   ],
   "source": [
    "def model(X, W, b):\n",
    "    predictions = 0\n",
    "    for i in range(len(W)):\n",
    "        predictions += X[:, i] * W[i]\n",
    "    predictions += b\n",
    "    return predictions\n",
    "print(\"슝=3\")"
   ]
  },
  {
   "cell_type": "code",
   "execution_count": 6,
   "id": "b65a5174",
   "metadata": {},
   "outputs": [
    {
     "name": "stdout",
     "output_type": "stream",
     "text": [
      "슝=3\n"
     ]
    }
   ],
   "source": [
    "def MSE(a, b):\n",
    "    mse = ((a - b) ** 2).mean()  # 두 값의 차이의 제곱의 평균\n",
    "    return mse\n",
    "print(\"슝=3\")"
   ]
  },
  {
   "cell_type": "code",
   "execution_count": 7,
   "id": "4fd1c6a4",
   "metadata": {},
   "outputs": [
    {
     "name": "stdout",
     "output_type": "stream",
     "text": [
      "슝=3\n"
     ]
    }
   ],
   "source": [
    "def loss(X, W, b, y):\n",
    "    predictions = model(X, W, b)\n",
    "    L = MSE(predictions, y)\n",
    "    return L\n",
    "print(\"슝=3\")"
   ]
  },
  {
   "cell_type": "markdown",
   "id": "747fa217",
   "metadata": {},
   "source": [
    "### 2.8.2. X, W, b, y"
   ]
  },
  {
   "cell_type": "code",
   "execution_count": 8,
   "id": "1f7b1fdf",
   "metadata": {},
   "outputs": [
    {
     "name": "stdout",
     "output_type": "stream",
     "text": [
      "슝=3\n"
     ]
    }
   ],
   "source": [
    "X = tips[['total_bill', 'size', 'sex_Male', 'sex_Female', 'smoker_Yes', 'smoker_No',\n",
    "          'day_Thur', 'day_Fri', 'day_Sat', 'day_Sun', 'time_Lunch', 'time_Dinner']].values\n",
    "y = tips['tip'].values\n",
    "print(\"슝=3\")"
   ]
  },
  {
   "cell_type": "code",
   "execution_count": 9,
   "id": "220101d2",
   "metadata": {},
   "outputs": [
    {
     "name": "stdout",
     "output_type": "stream",
     "text": [
      "(195, 12) (195,)\n",
      "(49, 12) (49,)\n"
     ]
    }
   ],
   "source": [
    "from sklearn.model_selection import train_test_split\n",
    "\n",
    "X_train, X_test, y_train, y_test = train_test_split(X, y, test_size=0.2, random_state=42)\n",
    "\n",
    "print(X_train.shape, y_train.shape)\n",
    "print(X_test.shape, y_test.shape)"
   ]
  },
  {
   "cell_type": "code",
   "execution_count": 10,
   "id": "3393be83",
   "metadata": {},
   "outputs": [
    {
     "name": "stdout",
     "output_type": "stream",
     "text": [
      "슝=3\n"
     ]
    }
   ],
   "source": [
    "W = np.random.rand(12)\n",
    "b = np.random.rand()\n",
    "print(\"슝=3\")"
   ]
  },
  {
   "cell_type": "code",
   "execution_count": 11,
   "id": "4bfa943d",
   "metadata": {},
   "outputs": [
    {
     "data": {
      "text/plain": [
       "(244,)"
      ]
     },
     "execution_count": 11,
     "metadata": {},
     "output_type": "execute_result"
    }
   ],
   "source": [
    "X[:,0].shape"
   ]
  },
  {
   "cell_type": "code",
   "execution_count": 12,
   "id": "b00d1dc8",
   "metadata": {},
   "outputs": [
    {
     "data": {
      "text/plain": [
       "()"
      ]
     },
     "execution_count": 12,
     "metadata": {},
     "output_type": "execute_result"
    }
   ],
   "source": [
    "W[0].shape"
   ]
  },
  {
   "cell_type": "code",
   "execution_count": 13,
   "id": "bf76f6bf",
   "metadata": {},
   "outputs": [
    {
     "name": "stdout",
     "output_type": "stream",
     "text": [
      "(244,)\n"
     ]
    }
   ],
   "source": [
    "prediction = 0\n",
    "i=0\n",
    "prediction += X[:,i]*W[i]\n",
    "print(prediction.shape)"
   ]
  },
  {
   "cell_type": "code",
   "execution_count": 14,
   "id": "56d0e881",
   "metadata": {},
   "outputs": [
    {
     "name": "stdout",
     "output_type": "stream",
     "text": [
      "(244, 12)\n",
      "(12,)\n"
     ]
    }
   ],
   "source": [
    "print(X.shape)\n",
    "print(W.shape)"
   ]
  },
  {
   "cell_type": "code",
   "execution_count": 15,
   "id": "31b824b3",
   "metadata": {},
   "outputs": [
    {
     "data": {
      "text/plain": [
       "(244,)"
      ]
     },
     "execution_count": 15,
     "metadata": {},
     "output_type": "execute_result"
    }
   ],
   "source": [
    "M = model(X,W,b)\n",
    "M.shape"
   ]
  },
  {
   "cell_type": "code",
   "execution_count": 16,
   "id": "68fdbf39",
   "metadata": {},
   "outputs": [
    {
     "data": {
      "text/plain": [
       "402.5284060033538"
      ]
     },
     "execution_count": 16,
     "metadata": {},
     "output_type": "execute_result"
    }
   ],
   "source": [
    "MSE(model(X,W,b),y)"
   ]
  },
  {
   "cell_type": "code",
   "execution_count": 17,
   "id": "149ad8b4",
   "metadata": {},
   "outputs": [
    {
     "data": {
      "text/plain": [
       "402.5284060033538"
      ]
     },
     "execution_count": 17,
     "metadata": {},
     "output_type": "execute_result"
    }
   ],
   "source": [
    "loss(X,W,b,y)"
   ]
  },
  {
   "cell_type": "markdown",
   "id": "2e20c639",
   "metadata": {},
   "source": [
    "`X`는 244x12의 행렬이다.\n",
    "`W`는 12차원의 벡터이다.\n",
    "`b`는 스칼라이다.\n",
    "W는 수학적으로는 12x1 열벡터로 이해하는 것이 좋겠다.\n",
    "이때 M = XW+b이고, 이때, b는 한 숫자가 244개 있는 244차원 벡터로 생각할 수 있다."
   ]
  },
  {
   "cell_type": "markdown",
   "id": "a4b574c0",
   "metadata": {},
   "source": [
    "### 2.8.3. XX, WW, bb, yy"
   ]
  },
  {
   "cell_type": "code",
   "execution_count": 18,
   "id": "e612e5e9",
   "metadata": {},
   "outputs": [],
   "source": [
    "XX = np.array([[1,2],[3,1],[2,3],[1,2],[3,1]]).astype(float)\n",
    "WW = np.array([1,1]).astype(float)\n",
    "bb = 5\n",
    "yy = np.array([0,0,0,0,0]).astype(float)"
   ]
  },
  {
   "cell_type": "code",
   "execution_count": 19,
   "id": "9bf67466",
   "metadata": {},
   "outputs": [
    {
     "name": "stdout",
     "output_type": "stream",
     "text": [
      "<class 'numpy.ndarray'>\n",
      "(5, 2)\n",
      "<class 'numpy.ndarray'>\n",
      "(2,)\n",
      "<class 'int'>\n",
      "<class 'numpy.ndarray'>\n",
      "(5,)\n"
     ]
    }
   ],
   "source": [
    "print(type(XX))\n",
    "print(XX.shape)\n",
    "print(type(WW))\n",
    "print(WW.shape)\n",
    "print(type(bb))\n",
    "print(type(yy))\n",
    "print(yy.shape)"
   ]
  },
  {
   "cell_type": "code",
   "execution_count": 20,
   "id": "649d3cf0",
   "metadata": {},
   "outputs": [
    {
     "data": {
      "text/plain": [
       "(5,)"
      ]
     },
     "execution_count": 20,
     "metadata": {},
     "output_type": "execute_result"
    }
   ],
   "source": [
    "M = model(XX,WW,bb)\n",
    "M.shape"
   ]
  },
  {
   "cell_type": "code",
   "execution_count": 21,
   "id": "70752eea",
   "metadata": {},
   "outputs": [
    {
     "data": {
      "text/plain": [
       "array([ 8.,  9., 10.,  8.,  9.])"
      ]
     },
     "execution_count": 21,
     "metadata": {},
     "output_type": "execute_result"
    }
   ],
   "source": [
    "model(XX,WW,bb)"
   ]
  },
  {
   "cell_type": "code",
   "execution_count": 22,
   "id": "51800d88",
   "metadata": {},
   "outputs": [
    {
     "data": {
      "text/plain": [
       "78.0"
      ]
     },
     "execution_count": 22,
     "metadata": {},
     "output_type": "execute_result"
    }
   ],
   "source": [
    "MSE(model(XX,WW,bb),yy)"
   ]
  },
  {
   "cell_type": "code",
   "execution_count": 23,
   "id": "6f97ec80",
   "metadata": {},
   "outputs": [
    {
     "data": {
      "text/plain": [
       "78.0"
      ]
     },
     "execution_count": 23,
     "metadata": {},
     "output_type": "execute_result"
    }
   ],
   "source": [
    "loss(XX,WW,bb,yy)"
   ]
  },
  {
   "cell_type": "markdown",
   "id": "41752faf",
   "metadata": {},
   "source": [
    "## 2.9. 이번엔 하나가 아니다! 다양한 정보로 원하는 값을 예측해 보기 (3) 앞으로는 절대 해 볼 일 없을, 직접 그래디언트 계산하기"
   ]
  },
  {
   "cell_type": "code",
   "execution_count": 24,
   "id": "0f071d46",
   "metadata": {},
   "outputs": [
    {
     "name": "stdout",
     "output_type": "stream",
     "text": [
      "슝=3\n"
     ]
    }
   ],
   "source": [
    "def gradient(X, W, b, y):\n",
    "    # N은 가중치의 개수\n",
    "    N = len(W)\n",
    "    \n",
    "    # y_pred 준비\n",
    "    y_pred = model(X, W, b)\n",
    "    \n",
    "    # 공식에 맞게 gradient 계산\n",
    "    dW = 1/N * 2 * X.T.dot(y_pred - y)\n",
    "        \n",
    "    # b의 gradient 계산\n",
    "    db = 2 * (y_pred - y).mean()\n",
    "    return dW, db\n",
    "print(\"슝=3\")"
   ]
  },
  {
   "cell_type": "code",
   "execution_count": 25,
   "id": "eaf46cbc",
   "metadata": {},
   "outputs": [
    {
     "data": {
      "text/plain": [
       "(array([17657.07061319,  2122.93992715,   508.61662476,   246.35416377,\n",
       "          296.31475905,   458.65602949,   168.35856541,    51.0439762 ,\n",
       "          280.15083923,   255.4174077 ,   179.80974259,   575.16104594]),\n",
       " 37.129710911627896)"
      ]
     },
     "execution_count": 25,
     "metadata": {},
     "output_type": "execute_result"
    }
   ],
   "source": [
    "gradient(X,W,b,y)"
   ]
  },
  {
   "cell_type": "code",
   "execution_count": 26,
   "id": "cd581bce",
   "metadata": {},
   "outputs": [
    {
     "data": {
      "text/plain": [
       "(array([90., 80.]), 17.6)"
      ]
     },
     "execution_count": 26,
     "metadata": {},
     "output_type": "execute_result"
    }
   ],
   "source": [
    "gradient(XX,WW,bb,yy)"
   ]
  },
  {
   "cell_type": "markdown",
   "id": "378f9c3b",
   "metadata": {},
   "source": [
    "## 2.10. 이번엔 하나가 아니다! 다양한 정보로 원하는 값을 예측해 보기 (4) 모두 준비 되었다면, 모델 학습은 간단하다구"
   ]
  },
  {
   "cell_type": "code",
   "execution_count": 27,
   "id": "4d4aa1d1",
   "metadata": {},
   "outputs": [],
   "source": [
    "LEARNING_RATE = 0.0001"
   ]
  },
  {
   "cell_type": "code",
   "execution_count": 28,
   "id": "7b890fb6",
   "metadata": {
    "scrolled": true
   },
   "outputs": [
    {
     "name": "stdout",
     "output_type": "stream",
     "text": [
      "Iteration 10 : Loss 1.6295\n",
      "Iteration 20 : Loss 1.5886\n",
      "Iteration 30 : Loss 1.5666\n",
      "Iteration 40 : Loss 1.5458\n",
      "Iteration 50 : Loss 1.5262\n",
      "Iteration 60 : Loss 1.5077\n",
      "Iteration 70 : Loss 1.4903\n",
      "Iteration 80 : Loss 1.4739\n",
      "Iteration 90 : Loss 1.4583\n",
      "Iteration 100 : Loss 1.4437\n",
      "Iteration 110 : Loss 1.4298\n",
      "Iteration 120 : Loss 1.4167\n",
      "Iteration 130 : Loss 1.4044\n",
      "Iteration 140 : Loss 1.3926\n",
      "Iteration 150 : Loss 1.3816\n",
      "Iteration 160 : Loss 1.3711\n",
      "Iteration 170 : Loss 1.3611\n",
      "Iteration 180 : Loss 1.3517\n",
      "Iteration 190 : Loss 1.3428\n",
      "Iteration 200 : Loss 1.3343\n",
      "Iteration 210 : Loss 1.3263\n",
      "Iteration 220 : Loss 1.3187\n",
      "Iteration 230 : Loss 1.3114\n",
      "Iteration 240 : Loss 1.3045\n",
      "Iteration 250 : Loss 1.2980\n",
      "Iteration 260 : Loss 1.2918\n",
      "Iteration 270 : Loss 1.2858\n",
      "Iteration 280 : Loss 1.2802\n",
      "Iteration 290 : Loss 1.2748\n",
      "Iteration 300 : Loss 1.2697\n",
      "Iteration 310 : Loss 1.2648\n",
      "Iteration 320 : Loss 1.2602\n",
      "Iteration 330 : Loss 1.2557\n",
      "Iteration 340 : Loss 1.2515\n",
      "Iteration 350 : Loss 1.2474\n",
      "Iteration 360 : Loss 1.2435\n",
      "Iteration 370 : Loss 1.2398\n",
      "Iteration 380 : Loss 1.2362\n",
      "Iteration 390 : Loss 1.2328\n",
      "Iteration 400 : Loss 1.2296\n",
      "Iteration 410 : Loss 1.2264\n",
      "Iteration 420 : Loss 1.2234\n",
      "Iteration 430 : Loss 1.2206\n",
      "Iteration 440 : Loss 1.2178\n",
      "Iteration 450 : Loss 1.2151\n",
      "Iteration 460 : Loss 1.2126\n",
      "Iteration 470 : Loss 1.2101\n",
      "Iteration 480 : Loss 1.2077\n",
      "Iteration 490 : Loss 1.2054\n",
      "Iteration 500 : Loss 1.2032\n",
      "Iteration 510 : Loss 1.2011\n",
      "Iteration 520 : Loss 1.1990\n",
      "Iteration 530 : Loss 1.1971\n",
      "Iteration 540 : Loss 1.1952\n",
      "Iteration 550 : Loss 1.1933\n",
      "Iteration 560 : Loss 1.1915\n",
      "Iteration 570 : Loss 1.1898\n",
      "Iteration 580 : Loss 1.1881\n",
      "Iteration 590 : Loss 1.1865\n",
      "Iteration 600 : Loss 1.1849\n",
      "Iteration 610 : Loss 1.1834\n",
      "Iteration 620 : Loss 1.1819\n",
      "Iteration 630 : Loss 1.1805\n",
      "Iteration 640 : Loss 1.1791\n",
      "Iteration 650 : Loss 1.1778\n",
      "Iteration 660 : Loss 1.1764\n",
      "Iteration 670 : Loss 1.1752\n",
      "Iteration 680 : Loss 1.1739\n",
      "Iteration 690 : Loss 1.1727\n",
      "Iteration 700 : Loss 1.1716\n",
      "Iteration 710 : Loss 1.1704\n",
      "Iteration 720 : Loss 1.1693\n",
      "Iteration 730 : Loss 1.1682\n",
      "Iteration 740 : Loss 1.1671\n",
      "Iteration 750 : Loss 1.1661\n",
      "Iteration 760 : Loss 1.1651\n",
      "Iteration 770 : Loss 1.1641\n",
      "Iteration 780 : Loss 1.1632\n",
      "Iteration 790 : Loss 1.1622\n",
      "Iteration 800 : Loss 1.1613\n",
      "Iteration 810 : Loss 1.1604\n",
      "Iteration 820 : Loss 1.1595\n",
      "Iteration 830 : Loss 1.1587\n",
      "Iteration 840 : Loss 1.1579\n",
      "Iteration 850 : Loss 1.1570\n",
      "Iteration 860 : Loss 1.1562\n",
      "Iteration 870 : Loss 1.1555\n",
      "Iteration 880 : Loss 1.1547\n",
      "Iteration 890 : Loss 1.1539\n",
      "Iteration 900 : Loss 1.1532\n",
      "Iteration 910 : Loss 1.1525\n",
      "Iteration 920 : Loss 1.1518\n",
      "Iteration 930 : Loss 1.1511\n",
      "Iteration 940 : Loss 1.1504\n",
      "Iteration 950 : Loss 1.1497\n",
      "Iteration 960 : Loss 1.1491\n",
      "Iteration 970 : Loss 1.1484\n",
      "Iteration 980 : Loss 1.1478\n",
      "Iteration 990 : Loss 1.1472\n",
      "Iteration 1000 : Loss 1.1466\n"
     ]
    }
   ],
   "source": [
    "losses = []\n",
    "\n",
    "for i in range(1, 1001):\n",
    "    dW, db = gradient(X_train, W, b, y_train)\n",
    "    W -= LEARNING_RATE * dW\n",
    "    b -= LEARNING_RATE * db\n",
    "    L = loss(X_train, W, b, y_train)\n",
    "    losses.append(L)\n",
    "    if i % 10 == 0:\n",
    "        print('Iteration %d : Loss %0.4f' % (i, L))"
   ]
  },
  {
   "cell_type": "code",
   "execution_count": 39,
   "id": "a676f645",
   "metadata": {
    "scrolled": true
   },
   "outputs": [
    {
     "name": "stdout",
     "output_type": "stream",
     "text": [
      "Iteration 10 : Loss 0.7238\n",
      "Iteration 20 : Loss 0.7236\n",
      "Iteration 30 : Loss 0.7235\n",
      "Iteration 40 : Loss 0.7233\n",
      "Iteration 50 : Loss 0.7231\n",
      "Iteration 60 : Loss 0.7230\n",
      "Iteration 70 : Loss 0.7228\n",
      "Iteration 80 : Loss 0.7226\n",
      "Iteration 90 : Loss 0.7225\n",
      "Iteration 100 : Loss 0.7223\n",
      "Iteration 110 : Loss 0.7221\n",
      "Iteration 120 : Loss 0.7220\n",
      "Iteration 130 : Loss 0.7218\n",
      "Iteration 140 : Loss 0.7217\n",
      "Iteration 150 : Loss 0.7215\n",
      "Iteration 160 : Loss 0.7213\n",
      "Iteration 170 : Loss 0.7212\n",
      "Iteration 180 : Loss 0.7210\n",
      "Iteration 190 : Loss 0.7209\n",
      "Iteration 200 : Loss 0.7207\n",
      "Iteration 210 : Loss 0.7205\n",
      "Iteration 220 : Loss 0.7204\n",
      "Iteration 230 : Loss 0.7202\n",
      "Iteration 240 : Loss 0.7201\n",
      "Iteration 250 : Loss 0.7199\n",
      "Iteration 260 : Loss 0.7198\n",
      "Iteration 270 : Loss 0.7196\n",
      "Iteration 280 : Loss 0.7195\n",
      "Iteration 290 : Loss 0.7193\n",
      "Iteration 300 : Loss 0.7192\n",
      "Iteration 310 : Loss 0.7190\n",
      "Iteration 320 : Loss 0.7189\n",
      "Iteration 330 : Loss 0.7187\n",
      "Iteration 340 : Loss 0.7186\n",
      "Iteration 350 : Loss 0.7184\n",
      "Iteration 360 : Loss 0.7183\n",
      "Iteration 370 : Loss 0.7181\n",
      "Iteration 380 : Loss 0.7180\n",
      "Iteration 390 : Loss 0.7178\n",
      "Iteration 400 : Loss 0.7177\n",
      "Iteration 410 : Loss 0.7175\n",
      "Iteration 420 : Loss 0.7174\n",
      "Iteration 430 : Loss 0.7172\n",
      "Iteration 440 : Loss 0.7171\n",
      "Iteration 450 : Loss 0.7170\n",
      "Iteration 460 : Loss 0.7168\n",
      "Iteration 470 : Loss 0.7167\n",
      "Iteration 480 : Loss 0.7165\n",
      "Iteration 490 : Loss 0.7164\n",
      "Iteration 500 : Loss 0.7162\n",
      "Iteration 510 : Loss 0.7161\n",
      "Iteration 520 : Loss 0.7160\n",
      "Iteration 530 : Loss 0.7158\n",
      "Iteration 540 : Loss 0.7157\n",
      "Iteration 550 : Loss 0.7155\n",
      "Iteration 560 : Loss 0.7154\n",
      "Iteration 570 : Loss 0.7153\n",
      "Iteration 580 : Loss 0.7151\n",
      "Iteration 590 : Loss 0.7150\n",
      "Iteration 600 : Loss 0.7149\n",
      "Iteration 610 : Loss 0.7147\n",
      "Iteration 620 : Loss 0.7146\n",
      "Iteration 630 : Loss 0.7145\n",
      "Iteration 640 : Loss 0.7143\n",
      "Iteration 650 : Loss 0.7142\n",
      "Iteration 660 : Loss 0.7141\n",
      "Iteration 670 : Loss 0.7139\n",
      "Iteration 680 : Loss 0.7138\n",
      "Iteration 690 : Loss 0.7137\n",
      "Iteration 700 : Loss 0.7135\n",
      "Iteration 710 : Loss 0.7134\n",
      "Iteration 720 : Loss 0.7133\n",
      "Iteration 730 : Loss 0.7131\n",
      "Iteration 740 : Loss 0.7130\n",
      "Iteration 750 : Loss 0.7129\n",
      "Iteration 760 : Loss 0.7127\n",
      "Iteration 770 : Loss 0.7126\n",
      "Iteration 780 : Loss 0.7125\n",
      "Iteration 790 : Loss 0.7123\n",
      "Iteration 800 : Loss 0.7122\n",
      "Iteration 810 : Loss 0.7121\n",
      "Iteration 820 : Loss 0.7120\n",
      "Iteration 830 : Loss 0.7118\n",
      "Iteration 840 : Loss 0.7117\n",
      "Iteration 850 : Loss 0.7116\n",
      "Iteration 860 : Loss 0.7115\n",
      "Iteration 870 : Loss 0.7113\n",
      "Iteration 880 : Loss 0.7112\n",
      "Iteration 890 : Loss 0.7111\n",
      "Iteration 900 : Loss 0.7110\n",
      "Iteration 910 : Loss 0.7108\n",
      "Iteration 920 : Loss 0.7107\n",
      "Iteration 930 : Loss 0.7106\n",
      "Iteration 940 : Loss 0.7105\n",
      "Iteration 950 : Loss 0.7103\n",
      "Iteration 960 : Loss 0.7102\n",
      "Iteration 970 : Loss 0.7101\n",
      "Iteration 980 : Loss 0.7100\n",
      "Iteration 990 : Loss 0.7098\n",
      "Iteration 1000 : Loss 0.7097\n"
     ]
    }
   ],
   "source": [
    "losseslosses = []\n",
    "\n",
    "for i in range(1, 1001):\n",
    "    dWW, dbb = gradient(XX, WW, bb, yy)\n",
    "    WW -= LEARNING_RATE * dWW\n",
    "    bb -= LEARNING_RATE * dbb\n",
    "    LL = loss(XX, WW, bb, yy)\n",
    "    losseslosses.append(LL)\n",
    "    if i % 10 == 0:\n",
    "        print('Iteration %d : Loss %0.4f' % (i, LL))"
   ]
  },
  {
   "cell_type": "code",
   "execution_count": 33,
   "id": "cb9322a9",
   "metadata": {},
   "outputs": [
    {
     "name": "stdout",
     "output_type": "stream",
     "text": [
      "[151.72146218319804, 56.4766203814585, 21.670654768455268, 8.950273612376053, 4.300416497073593, 2.599699804869488, 1.9766674077236213, 1.7474517227545483, 1.6621537888186912, 1.629455464470974, 1.6159872138254618, 1.6095550815772341, 1.6057030937427568, 1.6028028899642066, 1.6002593768807716, 1.5978550379580332, 1.5955103311748207, 1.5931961335402702, 1.5909017465655333, 1.5886232048202664, 1.5863590036426332, 1.5841085379564954, 1.5818715317814487, 1.5796478297618661, 1.5774373209849437, 1.5752399111398232, 1.5730555123415173, 1.5708840394099315, 1.5687254085077216, 1.5665795366401327, 1.5644463414698422, 1.5623257412469256, 1.5602176547809095, 1.558122001428216, 1.5560387010852534, 1.5539676741835793, 1.551908841685843, 1.5498621250820237, 1.5478274463857984, 1.5458047281309606, 1.5437938933678899, 1.5417948656600402, 1.5398075690804618, 1.5378319282083386, 1.5358678681255586, 1.533915314413302, 1.5319741931486557, 1.5300444309012495, 1.5281259547299155, 1.526218692179371, 1.5243225712769226, 1.5224375205291965, 1.5205634689188852, 1.518700345901524, 1.5168480814022829, 1.515006605812783, 1.513175849987936, 1.5113557452428035, 1.5095462233494787, 1.507747216533989, 1.5059586574732198, 1.5041804792918603, 1.502412615559369, 1.5006550002869599, 1.4989075679246093, 1.4971702533580884, 1.4954429919060022, 1.4937257193168678, 1.492018371766196, 1.490320885853603, 1.4886331985999368, 1.4869552474444265, 1.4852869702418476, 1.4836283052597117, 1.481979191175468, 1.4803395670737327, 1.4787093724435298, 1.4770885471755584, 1.4754770315594663, 1.4738747662811589, 1.4722816924201128, 1.4706977514467139, 1.469122885219613, 1.4675570359830985, 1.4660001463644867, 1.464452159371535, 1.4629130183898622, 1.4613826671804004, 1.4598610498768483, 1.4583481109831586, 1.4568437953710296, 1.4553480482774195, 1.4538608153020784, 1.452382042405094, 1.450911675904457, 1.4494496624736408, 1.4479959491392003, 1.4465504832783853, 1.4451132126167696, 1.443684085225898, 1.442263049520949, 1.4408500542584126, 1.4394450485337855, 1.4380479817792786, 1.4366588037615464, 1.4352774645794246, 1.4339039146616892, 1.4325381047648267, 1.4311799859708225, 1.4298295096849618, 1.428486627633649, 1.427151291862237, 1.4258234547328776, 1.4245030689223792, 1.4231900874200865, 1.42188446352577, 1.4205861508475301, 1.4192951032997188, 1.4180112751008722, 1.4167346207716567, 1.4154650951328356, 1.4142026533032377, 1.412947250697754, 1.411698843025337, 1.4104573862870182, 1.4092228367739377, 1.4079951510653907, 1.406774286026883, 1.4055601988082007, 1.404352846841496, 1.4031521878393811, 1.4019581797930414, 1.400770780970355, 1.3995899499140296, 1.3984156454397516, 1.3972478266343429, 1.3960864528539414, 1.3949314837221787, 1.3937828791283828, 1.3926405992257886, 1.3915046044297603, 1.3903748554160236, 1.3892513131189157, 1.3881339387296434, 1.3870226936945524, 1.3859175397134116, 1.3848184387377043, 1.383725352968938, 1.3826382448569587, 1.3815570770982801, 1.3804818126344267, 1.3794124146502802, 1.3783488465724467, 1.3772910720676277, 1.3762390550410089, 1.3751927596346505, 1.3741521502258989, 1.3731171914258031, 1.3720878480775422, 1.3710640852548666, 1.3700458682605452, 1.369033162624829, 1.36802593410392, 1.3670241486784533, 1.3660277725519885, 1.3650367721495116, 1.3640511141159477, 1.3630707653146834, 1.3620956928260988, 1.3611258639461092, 1.3601612461847195, 1.3592018072645844, 1.3582475151195803, 1.3572983378933894, 1.3563542439380873, 1.3554152018127488, 1.3544811802820529, 1.3535521483149069, 1.3526280750830737, 1.351708929959811, 1.3507946825185195, 1.3498853025314002, 1.3489807599681176, 1.3480810249944808, 1.3471860679711234, 1.346295859452197, 1.3454103701840758, 1.344529571104065, 1.3436534333391232, 1.3427819282045883, 1.341915027202917, 1.3410527020224279, 1.340194924536058, 1.3393416668001252, 1.338492901053098, 1.3376485997143759, 1.3368087353830784, 1.3359732808368388, 1.33514220903061, 1.3343154930954761, 1.3334931063374729, 1.3326750222364172, 1.3318612144447428, 1.3310516567863442, 1.330246323255428, 1.3294451880153766, 1.328648225397612, 1.327855409900472, 1.327066716188096, 1.326282119089311, 1.325501593596535, 1.3247251148646788, 1.3239526582100605, 1.3231841991093247, 1.322419713198374, 1.3216591762713004, 1.3209025642793286, 1.3201498533297662, 1.3194010196849602, 1.3186560397612603, 1.3179148901279893, 1.3171775475064234, 1.316443988768773, 1.3157141909371781, 1.3149881311827036, 1.3142657868243461, 1.3135471353280466, 1.3128321543057082, 1.3121208215142215, 1.3114131148544954, 1.3107090123704994, 1.310008492248305, 1.309311532815138, 1.3086181125384386, 1.3079282100249219, 1.3072418040196532, 1.306558873405122, 1.3058793972003255, 1.3052033545598594, 1.3045307247730118, 1.3038614872628675, 1.3031956215854141, 1.3025331074286555, 1.3018739246117332, 1.3012180530840518, 1.300565472924412, 1.2999161643401451, 1.2992701076662594, 1.2986272833645898, 1.2979876720229508, 1.2973512543542989, 1.2967180111958994, 1.2960879235084972, 1.2954609723754966, 1.2948371390021425, 1.294216404714711, 1.2935987509597036, 1.2929841593030462, 1.2923726114292948, 1.2917640891408466, 1.2911585743571568, 1.2905560491139567, 1.289956495562484, 1.2893598959687134, 1.288766232712593, 1.2881754882872862, 1.2875876452984205, 1.2870026864633393, 1.286420594610359, 1.2858413526780326, 1.285264943714415, 1.284691350876338, 1.2841205574286865, 1.2835525467436806, 1.2829873023001637, 1.282424807682893, 1.2818650465818373, 1.2813080027914787, 1.2807536602101177, 1.2802020028391858, 1.2796530147825593, 1.279106680245881, 1.2785629835358832, 1.2780219090597198, 1.277483441324298, 1.2769475649356166, 1.2764142645981105, 1.2758835251139975, 1.2753553313826287, 1.2748296683998466, 1.2743065212573434, 1.273785875142029, 1.2732677153353957, 1.272752027212896, 1.2722387962433175, 1.271728007988164, 1.271219648101045, 1.2707137023270618, 1.2702101565022044, 1.2697089965527488, 1.2692102084946593, 1.268713778432996, 1.268219692561323, 1.2677279371611248, 1.2672384986012246, 1.2667513633372054, 1.2662665179108368, 1.2657839489495055, 1.2653036431656486, 1.264825587356191, 1.2643497684019882, 1.26387617326727, 1.2634047889990914, 1.2629356027267833, 1.26246860166141, 1.2620037730952303, 1.2615411044011586, 1.261080583032235, 1.2606221965210942, 1.2601659324794425, 1.2597117785975318, 1.2592597226436455, 1.2588097524635815, 1.2583618559801402, 1.2579160211926181, 1.257472236176302, 1.2570304890819683, 1.2565907681353845, 1.256153061636816, 1.2557173579605345, 1.2552836455543293, 1.2548519129390243, 1.2544221487079945, 1.2539943415266914, 1.2535684801321645, 1.2531445533325924, 1.252722550006813, 1.2523024591038585, 1.2518842696424937, 1.2514679707107554, 1.2510535514654997, 1.2506410011319455, 1.2502303090032272, 1.249821464439946, 1.2494144568697276, 1.2490092757867817, 1.2486059107514613, 1.248204351389832, 1.2478045873932357, 1.2474066085178668, 1.2470104045843393, 1.2466159654772693, 1.2462232811448515, 1.2458323415984431, 1.2454431369121477, 1.2450556572224032, 1.2446698927275748, 1.244285833687545, 1.2439034704233134, 1.2435227933165915, 1.2431437928094087, 1.2427664594037138, 1.2423907836609824, 1.242016756201827, 1.2416443677056093, 1.2412736089100538, 1.2409044706108667, 1.240536943661356, 1.2401710189720514, 1.2398066875103326, 1.239443940300056, 1.2390827684211823, 1.2387231630094127, 1.2383651152558222, 1.238008616406496, 1.2376536577621717, 1.2373002306778802, 1.2369483265625902, 1.2365979368788556, 1.2362490531424666, 1.235901666922098, 1.235555769838967, 1.2352113535664875, 1.2348684098299294, 1.2345269304060804, 1.2341869071229068, 1.2338483318592235, 1.2335111965443575, 1.2331754931578203, 1.2328412137289797, 1.2325083503367338, 1.2321768951091887, 1.2318468402233358, 1.2315181779047346, 1.2311909004271937, 1.230865000112458, 1.2305404693298947, 1.2302173004961832, 1.229895486075007, 1.229575018576746, 1.2292558905581743, 1.2289380946221549, 1.2286216234173428, 1.2283064696378827, 1.227992626023117, 1.2276800853572887, 1.2273688404692484, 1.2270588842321668, 1.2267502095632439, 1.2264428094234237, 1.2261366768171074, 1.2258318047918748, 1.2255281864381993, 1.225225814889171, 1.2249246833202192, 1.2246247849488376, 1.22432611303431, 1.2240286608774393, 1.2237324218202787, 1.2234373892458614, 1.2231435565779358, 1.222850917280703, 1.2225594648585498, 1.2222691928557916, 1.2219800948564117, 1.2216921644838046, 1.2214053954005193, 1.221119781308006, 1.2208353159463639, 1.220551993094091, 1.2202698065678337, 1.2199887502221407, 1.2197088179492181, 1.2194300036786836, 1.2191523013773244, 1.218875705048859, 1.2186002087336945, 1.2183258065086913, 1.218052492486927, 1.2177802608174617, 1.217509105685104, 1.217239021310182, 1.216970001948313, 1.2167020418901722, 1.2164351354612715, 1.2161692770217296, 1.2159044609660512, 1.2156406817229033, 1.2153779337548947, 1.2151162115583576, 1.2148555096631293, 1.2145958226323357, 1.2143371450621767, 1.2140794715817131, 1.2138227968526534, 1.2135671155691445, 1.2133124224575618, 1.2130587122763012, 1.2128059798155744, 1.2125542198972001, 1.2123034273744047, 1.2120535971316166, 1.211804724084267, 1.21155680317859, 1.2113098293914233, 1.211063797730012, 1.2108187032318136, 1.210574540964301, 1.210331306024773, 1.2100889935401593, 1.2098475986668316, 1.2096071165904143, 1.209367542525595, 1.2091288717159405, 1.2088910994337074, 1.2086542209796616, 1.2084182316828924, 1.2081831269006333, 1.2079489020180776, 1.2077155524482024, 1.2074830736315885, 1.2072514610362448, 1.2070207101574295, 1.2067908165174788, 1.2065617756656308, 1.2063335831778546, 1.2061062346566775, 1.2058797257310163, 1.2056540520560073, 1.2054292093128387, 1.2052051932085837, 1.204981999476035, 1.2047596238735396, 1.2045380621848363, 1.2043173102188922, 1.204097363809742, 1.2038782188163275, 1.2036598711223385, 1.2034423166360537, 1.2032255512901853, 1.2030095710417212, 1.202794371871772, 1.2025799497854135, 1.2023663008115377, 1.2021534210026985, 1.2019413064349598, 1.201729953207749, 1.201519357443704, 1.2013095152885278, 1.2011004229108408, 1.200892076502034, 1.200684472276124, 1.2004776064696114, 1.2002714753413326, 1.200066075172323, 1.1998614022656713, 1.1996574529463815, 1.1994542235612329, 1.199251710478642, 1.1990499100885241, 1.1988488188021562, 1.198648433052043, 1.1984487492917797, 1.19824976399592, 1.1980514736598424, 1.1978538747996166, 1.1976569639518733, 1.1974607376736741, 1.1972651925423812, 1.1970703251555284, 1.1968761321306927, 1.1966826101053691, 1.1964897557368421, 1.1962975657020625, 1.196106036697519, 1.1959151654391196, 1.1957249486620642, 1.195535383120725, 1.1953464655885233, 1.1951581928578108, 1.1949705617397486, 1.1947835690641884, 1.1945972116795536, 1.1944114864527242, 1.1942263902689174, 1.194041920031573, 1.1938580726622388, 1.1936748451004542, 1.19349223430364, 1.1933102372469815, 1.1931288509233187, 1.192948072343036, 1.1927678985339476, 1.1925883265411916, 1.1924093534271198, 1.192230976271187, 1.192053192169845, 1.1918759982364362, 1.1916993916010858, 1.1915233694105964, 1.1913479288283433, 1.1911730670341707, 1.1909987812242875, 1.1908250686111632, 1.1906519264234272, 1.1904793519057686, 1.190307342318831, 1.190135894939116, 1.189965007058883, 1.1897946759860478, 1.189624899044087, 1.189455673571939, 1.1892869969239084, 1.1891188664695678, 1.1889512795936625, 1.188784233696016, 1.1886177261914355, 1.1884517545096167, 1.1882863160950528, 1.18812140840694, 1.1879570289190848, 1.1877931751198152, 1.1876298445118887, 1.1874670346123997, 1.1873047429526933, 1.1871429670782745, 1.1869817045487192, 1.186820952937588, 1.1866607098323367, 1.186500972834232, 1.1863417395582623, 1.1861830076330544, 1.1860247747007875, 1.1858670384171095, 1.1857097964510515, 1.1855530464849446, 1.185396786214339, 1.1852410133479199, 1.1850857256074245, 1.1849309207275633, 1.1847765964559385, 1.1846227505529632, 1.1844693807917812, 1.18431648495819, 1.1841640608505597, 1.184012106279756, 1.1838606190690621, 1.1837095970541027, 1.1835590380827659, 1.1834089400151275, 1.1832593007233763, 1.1831101180917363, 1.1829613900163967, 1.182813114405432, 1.1826652891787326, 1.1825179122679308, 1.1823709816163255, 1.182224495178813, 1.1820784509218147, 1.1819328468232035, 1.1817876808722356, 1.1816429510694781, 1.1814986554267408, 1.1813547919670055, 1.181211358724357, 1.1810683537439144, 1.1809257750817646, 1.180783620804892, 1.1806418889911132, 1.180500577729009, 1.1803596851178593, 1.1802192092675743, 1.180079148298633, 1.179939500342015, 1.1798002635391371, 1.1796614360417883, 1.1795230160120664, 1.1793850016223153, 1.1792473910550594, 1.179110182502944, 1.1789733741686717, 1.1788369642649397, 1.1787009510143804, 1.1785653326494987, 1.1784301074126113, 1.1782952735557888, 1.178160829340792, 1.1780267730390157, 1.1778931029314283, 1.1777598173085138, 1.1776269144702118, 1.1774943927258614, 1.1773622503941423, 1.1772304858030194, 1.177099097289683, 1.1769680832004958, 1.1768374418909342, 1.1767071717255335, 1.1765772710778326, 1.1764477383303187, 1.1763185718743734, 1.1761897701102169, 1.1760613314468553, 1.175933254302026, 1.1758055371021465, 1.1756781782822587, 1.1755511762859776, 1.1754245295654397, 1.1752982365812499, 1.1751722958024302, 1.1750467057063696, 1.1749214647787711, 1.1747965715136035, 1.174672024413049, 1.174547821987455, 1.174423962755282, 1.1743004452430577, 1.1741772679853255, 1.1740544295245965, 1.1739319284113012, 1.173809763203742, 1.1736879324680443, 1.1735664347781098, 1.1734452687155694, 1.1733244328697365, 1.1732039258375595, 1.1730837462235768, 1.17296389263987, 1.172844363706019, 1.1727251580490559, 1.1726062743034202, 1.1724877111109149, 1.17236946712066, 1.1722515409890506, 1.1721339313797114, 1.1720166369634544, 1.1718996564182331, 1.1717829884291027, 1.1716666316881748, 1.171550584894576, 1.1714348467544058, 1.1713194159806932, 1.1712042912933571, 1.1710894714191624, 1.170974955091682, 1.1708607410512526, 1.1707468280449356, 1.1706332148264773, 1.1705199001562672, 1.1704068828012997, 1.170294161535133, 1.170181735137851, 1.1700696023960235, 1.1699577621026667, 1.169846213057206, 1.1697349540654371, 1.1696239839394875, 1.169513301497778, 1.1694029055649868, 1.16929279497201, 1.1691829685559272, 1.1690734251599608, 1.1689641636334431, 1.1688551828317775, 1.1687464816164017, 1.1686380588547551, 1.1685299134202385, 1.1684220441921822, 1.1683144500558091, 1.1682071299021988, 1.168100082628255, 1.1679933071366688, 1.1678868023358844, 1.1677805671400667, 1.1676746004690655, 1.1675689012483816, 1.1674634684091347, 1.167358300888029, 1.1672533976273205, 1.167148757574783, 1.1670443796836771, 1.1669402629127161, 1.1668364062260348, 1.1667328085931568, 1.1666294689889627, 1.1665263863936581, 1.1664235597927428, 1.166320988176979, 1.1662186705423603, 1.1661166058900805, 1.1660147932265033, 1.1659132315631315, 1.1658119199165777, 1.1657108573085315, 1.1656100427657325, 1.1655094753199393, 1.1654091540078997, 1.1653090778713213, 1.165209245956843, 1.1651096573160058, 1.1650103110052228, 1.1649112060857516, 1.1648123416236666, 1.1647137166898291, 1.1646153303598599, 1.1645171817141113, 1.1644192698376394, 1.164321593820177, 1.1642241527561046, 1.1641269457444252, 1.164029971888736, 1.1639332302972012, 1.1638367200825264, 1.1637404403619316, 1.163644390257124, 1.1635485688942733, 1.1634529754039835, 1.1633576089212694, 1.1632624685855297, 1.1631675535405206, 1.1630728629343317, 1.1629783959193603, 1.1628841516522863, 1.1627901292940468, 1.1626963280098124, 1.1626027469689615, 1.1625093853450563, 1.162416242315818, 1.162323317063104, 1.1622306087728815, 1.1621381166352065, 1.1620458398441977, 1.1619537775980135, 1.1618619290988306, 1.161770293552817, 1.1616788701701117, 1.1615876581648017, 1.161496656754897, 1.1614058651623105, 1.161315282612833, 1.1612249083361126, 1.1611347415656323, 1.1610447815386866, 1.1609550274963598, 1.1608654786835062, 1.160776134348725, 1.1606869937443418, 1.1605980561263847, 1.1605093207545651, 1.1604207868922543, 1.1603324538064648, 1.160244320767827, 1.1601563870505704, 1.160068651932502, 1.1599811146949859, 1.1598937746229219, 1.1598066310047275, 1.1597196831323153, 1.1596329303010746, 1.1595463718098513, 1.1594600069609264, 1.1593738350599991, 1.1592878554161652, 1.159202067341898, 1.1591164701530297, 1.1590310631687317, 1.158945845711495, 1.158860817107114, 1.1587759766846626, 1.1586913237764807, 1.1586068577181523, 1.158522577848488, 1.1584384835095074, 1.1583545740464196, 1.1582708488076057, 1.1581873071446003, 1.1581039484120745, 1.1580207719678177, 1.1579377771727188, 1.1578549633907502, 1.1577723299889495, 1.1576898763374026, 1.1576076018092252, 1.1575255057805471, 1.1574435876304956, 1.1573618467411757, 1.157280282497656, 1.1571988942879514, 1.1571176815030058, 1.157036643536675, 1.156955779785713, 1.156875089649752, 1.1567945725312896, 1.156714227835669, 1.1566340549710672, 1.1565540533484755, 1.1564742223816848, 1.1563945614872722, 1.1563150700845803, 1.1562357475957064, 1.1561565934454852, 1.1560776070614727, 1.1559987878739324, 1.1559201353158188, 1.155841648822764, 1.1557633278330608, 1.1556851717876488, 1.1556071801300998, 1.155529352306602, 1.1554516877659473, 1.1553741859595148, 1.1552968463412572, 1.1552196683676867, 1.1551426514978609, 1.1550657951933667, 1.154989098918309, 1.1549125621392944, 1.1548361843254193, 1.154759964948254, 1.1546839034818308, 1.154607999402628, 1.1545322521895593, 1.1544566613239586, 1.1543812262895656, 1.154305946572515, 1.1542308216613204, 1.1541558510468635, 1.1540810342223804, 1.1540063706834471, 1.1539318599279684, 1.153857501456165, 1.153783294770558, 1.15370923937596, 1.153635334779461, 1.1535615804904134, 1.1534879760204237, 1.1534145208833377, 1.1533412145952275, 1.1532680566743816, 1.1531950466412908, 1.1531221840186365, 1.1530494683312793, 1.1529768991062466, 1.15290447587272, 1.1528321981620255, 1.1527600655076193, 1.152688077445078, 1.152616233512086, 1.1525445332484245, 1.1524729761959598, 1.1524015618986312, 1.152330289902441, 1.1522591597554432, 1.1521881710077306, 1.1521173232114255, 1.1520466159206677, 1.1519760486916044, 1.1519056210823773, 1.1518353326531146, 1.1517651829659172, 1.1516951715848516, 1.1516252980759352, 1.151555562007128, 1.1514859629483223, 1.1514165004713313, 1.1513471741498789, 1.1512779835595897, 1.151208928277978, 1.1511400078844385, 1.151071221960236, 1.1510025700884943, 1.1509340518541866, 1.1508656668441275, 1.1507974146469593, 1.1507292948531453, 1.1506613070549587, 1.150593450846473, 1.1505257258235526, 1.1504581315838422, 1.150390667726759, 1.1503233338534813, 1.1502561295669407, 1.150189054471811, 1.1501221081745003, 1.1500552902831414, 1.1499886004075819, 1.1499220381593753, 1.1498556031517724, 1.1497892949997122, 1.1497231133198114, 1.1496570577303578, 1.1495911278512998, 1.1495253233042373, 1.1494596437124147, 1.1493940887007097, 1.149328657895627, 1.1492633509252876, 1.1491981674194218, 1.1491331070093598, 1.1490681693280234, 1.1490033540099167, 1.14893866069112, 1.1488740890092795, 1.1488096386035986, 1.148745309114832, 1.148681100185275, 1.148617011458757, 1.1485530425806327, 1.1484891931977734, 1.1484254629585615, 1.1483618515128788, 1.1482983585121018, 1.1482349836090928, 1.1481717264581908, 1.148108586715206, 1.1480455640374103, 1.14798265808353, 1.1479198685137393, 1.1478571949896506, 1.147794637174309, 1.147732194732184, 1.1476698673291612, 1.1476076546325362, 1.1475455563110073, 1.1474835720346666, 1.1474217014749937, 1.1473599443048494, 1.1472983001984665, 1.1472367688314442, 1.1471753498807409, 1.1471140430246656, 1.147052847942873, 1.1469917643163547, 1.1469307918274338, 1.1468699301597567, 1.1468091789982864, 1.1467485380292972, 1.1466880069403658, 1.146627585420365, 1.1465672731594592]\n",
      "[0.746917324420002, 0.7468860871972092, 0.7468548732602475, 0.7468236825803586, 0.7467925151288479, 0.7467613708770829, 0.7467302497964945, 0.7466991518585759, 0.7466680770348828, 0.7466370252970324, 0.7466059966167025, 0.7465749909656345, 0.7465440083156288, 0.7465130486385458, 0.7464821119063093, 0.7464511980908989, 0.7464203071643575, 0.7463894390987851, 0.7463585938663415, 0.746327771439246, 0.746296971789775, 0.746266194890264, 0.746235440713107, 0.7462047092307533, 0.7461740004157127, 0.7461433142405487, 0.7461126506778851, 0.7460820097003988, 0.7460513912808256, 0.7460207953919558, 0.745990222006635, 0.7459596710977661, 0.7459291426383051, 0.7458986366012639, 0.7458681529597093, 0.7458376916867614, 0.7458072527555949, 0.745776836139438, 0.7457464418115738, 0.7457160697453367, 0.7456857199141154, 0.7456553922913515, 0.745625086850538, 0.7455948035652216, 0.7455645424089999, 0.7455343033555228, 0.7455040863784926, 0.7454738914516613, 0.7454437185488327, 0.7454135676438625, 0.7453834387106555, 0.7453533317231665, 0.7453232466554028, 0.7452931834814193, 0.7452631421753216, 0.7452331227112644, 0.7452031250634521, 0.7451731492061374, 0.7451431951136228, 0.7451132627602586, 0.7450833521204435, 0.7450534631686239, 0.7450235958792965, 0.7449937502270013, 0.7449639261863295, 0.7449341237319185, 0.7449043428384525, 0.7448745834806629, 0.7448448456333266, 0.7448151292712688, 0.7447854343693597, 0.7447557609025153, 0.7447261088456981, 0.7446964781739167, 0.7446668688622233, 0.7446372808857167, 0.7446077142195421, 0.7445781688388856, 0.7445486447189824, 0.7445191418351081, 0.7444896601625856, 0.74446019967678, 0.7444307603531021, 0.7444013421670047, 0.7443719450939843, 0.7443425691095822, 0.7443132141893803, 0.7442838803090068, 0.7442545674441295, 0.7442252755704608, 0.7441960046637541, 0.7441667546998068, 0.7441375256544568, 0.7441083175035846, 0.7440791302231113, 0.7440499637890029, 0.7440208181772624, 0.7439916933639366, 0.7439625893251134, 0.7439335060369202, 0.743904443475526, 0.7438754016171403, 0.7438463804380138, 0.743817379914435, 0.7437884000227352, 0.7437594407392834, 0.743730502040491, 0.7437015839028056, 0.7436726863027168, 0.7436438092167527, 0.7436149526214799, 0.7435861164935043, 0.7435573008094726, 0.7435285055460661, 0.7434997306800082, 0.7434709761880594, 0.7434422420470175, 0.7434135282337201, 0.7433848347250411, 0.7433561614978933, 0.7433275085292269, 0.743298875796029, 0.7432702632753249, 0.743241670944176, 0.7432130987796816, 0.7431845467589787, 0.7431560148592389, 0.7431275030576721, 0.7430990113315242, 0.7430705396580777, 0.7430420880146508, 0.7430136563785983, 0.7429852447273108, 0.7429568530382145, 0.7429284812887722, 0.7429001294564807, 0.7428717975188743, 0.7428434854535207, 0.7428151932380236, 0.7427869208500217, 0.7427586682671897, 0.7427304354672337, 0.7427022224278994, 0.7426740291269627, 0.7426458555422366, 0.7426177016515669, 0.7425895674328346, 0.7425614528639548, 0.7425333579228757, 0.74250528258758, 0.7424772268360831, 0.7424491906464357, 0.742421173996721, 0.7423931768650553, 0.7423651992295891, 0.7423372410685045, 0.7423093023600172, 0.7422813830823779, 0.7422534832138671, 0.7422256027327994, 0.7421977416175214, 0.7421698998464135, 0.7421420773978862, 0.7421142742503847, 0.7420864903823851, 0.742058725772395, 0.7420309803989549, 0.7420032542406366, 0.7419755472760439, 0.741947859483812, 0.741920190842608, 0.7418925413311295, 0.7418649109281058, 0.7418372996122984, 0.741809707362499, 0.7417821341575299, 0.7417545799762444, 0.7417270447975283, 0.7416995286002959, 0.7416720313634926, 0.7416445530660953, 0.74161709368711, 0.7415896532055741, 0.7415622316005551, 0.7415348288511502, 0.7415074449364863, 0.7414800798357207, 0.7414527335280409, 0.7414254059926637, 0.741398097208835, 0.7413708071558315, 0.7413435358129581, 0.7413162831595501, 0.7412890491749717, 0.7412618338386168, 0.7412346371299066, 0.7412074590282941, 0.7411802995132591, 0.7411531585643103, 0.7411260361609867, 0.7410989322828552, 0.7410718469095101, 0.7410447800205767, 0.7410177315957063, 0.7409907016145795, 0.7409636900569055, 0.7409366969024219, 0.7409097221308928, 0.7408827657221119, 0.7408558276559005, 0.7408289079121063, 0.7408020064706082, 0.7407751233113088, 0.7407482584141418, 0.7407214117590646, 0.7406945833260652, 0.7406677730951586, 0.7406409810463852, 0.7406142071598152, 0.740587451415544, 0.7405607137936949, 0.7405339942744178, 0.7405072928378896, 0.7404806094643137, 0.7404539441339215, 0.7404272968269707, 0.7404006675237442, 0.7403740562045524, 0.7403474628497334, 0.7403208874396494, 0.74029432995469, 0.7402677903752728, 0.7402412686818379, 0.7402147648548556, 0.740188278874818, 0.7401618107222468, 0.7401353603776879, 0.7401089278217129, 0.7400825130349201, 0.7400561159979325, 0.7400297366913999, 0.7400033750959962, 0.7399770311924228, 0.7399507049614038, 0.7399243963836916, 0.7398981054400613, 0.7398718321113157, 0.7398455763782811, 0.739819338221809, 0.7397931176227764, 0.7397669145620855, 0.7397407290206625, 0.73971456097946, 0.7396884104194534, 0.7396622773216446, 0.7396361616670589, 0.7396100634367473, 0.7395839826117845, 0.7395579191732697, 0.7395318731023279, 0.7395058443801061, 0.7394798329877778, 0.7394538389065386, 0.7394278621176114, 0.7394019026022396, 0.7393759603416938, 0.7393500353172653, 0.7393241275102724, 0.7392982369020578, 0.7392723634739828, 0.7392465072074395, 0.7392206680838381, 0.7391948460846155, 0.7391690411912311, 0.7391432533851681, 0.739117482647933, 0.7390917289610577, 0.7390659923060938, 0.7390402726646179, 0.739014570018232, 0.7389888843485577, 0.7389632156372421, 0.7389375638659559, 0.7389119290163907, 0.7388863110702628, 0.7388607100093103, 0.7388351258152958, 0.7388095584700027, 0.738784007955239, 0.7387584742528339, 0.7387329573446412, 0.7387074572125358, 0.7386819738384154, 0.7386565072042013, 0.7386310572918352, 0.7386056240832836, 0.7385802075605341, 0.7385548077055974, 0.7385294245005052, 0.7385040579273127, 0.7384787079680963, 0.7384533746049561, 0.7384280578200128, 0.7384027575954095, 0.738377473913312, 0.7383522067559068, 0.7383269561054032, 0.7383017219440328, 0.7382765042540481, 0.7382513030177249, 0.7382261182173573, 0.7382009498352657, 0.7381757978537882, 0.7381506622552859, 0.7381255430221432, 0.7381004401367621, 0.7380753535815707, 0.7380502833390156, 0.7380252293915647, 0.7380001917217074, 0.7379751703119569, 0.7379501651448435, 0.7379251762029223, 0.7379002034687665, 0.7378752469249739, 0.7378503065541595, 0.7378253823389624, 0.7378004742620419, 0.7377755823060762, 0.7377507064537671, 0.7377258466878355, 0.7377010029910249, 0.7376761753460983, 0.7376513637358386, 0.7376265681430512, 0.7376017885505609, 0.7375770249412136, 0.7375522772978758, 0.7375275456034344, 0.7375028298407971, 0.7374781299928913, 0.7374534460426652, 0.7374287779730875, 0.7374041257671471, 0.7373794894078534, 0.7373548688782356, 0.7373302641613435, 0.7373056752402467, 0.7372811020980354, 0.7372565447178201, 0.7372320030827303, 0.7372074771759162, 0.7371829669805472, 0.7371584724798146, 0.7371339936569286, 0.737109530495117, 0.7370850829776308, 0.7370606510877393, 0.737036234808732, 0.7370118341239169, 0.7369874490166233, 0.7369630794701992, 0.7369387254680126, 0.7369143869934505, 0.7368900640299196, 0.7368657565608471, 0.736841464569679, 0.7368171880398794, 0.7367929269549345, 0.7367686812983467, 0.7367444510536413, 0.73672023620436, 0.736696036734065, 0.7366718526263372, 0.736647683864777, 0.7366235304330037, 0.7365993923146561, 0.7365752694933927, 0.7365511619528893, 0.7365270696768419, 0.7365029926489652, 0.7364789308529938, 0.736454884272679, 0.7364308528917931, 0.7364068366941264, 0.7363828356634875, 0.7363588497837054, 0.7363348790386265, 0.7363109234121158, 0.7362869828880576, 0.7362630574503553, 0.7362391470829284, 0.7362152517697191, 0.7361913714946855, 0.736167506241804, 0.7361436559950707, 0.7361198207384998, 0.7360960004561228, 0.7360721951319922, 0.7360484047501756, 0.7360246292947623, 0.7360008687498573, 0.7359771230995845, 0.7359533923280867, 0.7359296764195252, 0.7359059753580779, 0.7358822891279427, 0.7358586177133344, 0.735834961098486, 0.7358113192676492, 0.7357876922050923, 0.7357640798951055, 0.735740482321991, 0.7357168994700748, 0.7356933313236953, 0.7356697778672137, 0.7356462390850066, 0.7356227149614687, 0.7355992054810131, 0.735575710628069, 0.7355522303870863, 0.7355287647425294, 0.7355053136788828, 0.7354818771806475, 0.7354584552323423, 0.7354350478185036, 0.7354116549236864, 0.7353882765324611, 0.7353649126294186, 0.7353415631991631, 0.735318228226321, 0.7352949076955325, 0.7352716015914573, 0.7352483098987714, 0.7352250326021694, 0.7352017696863606, 0.7351785211360752, 0.7351552869360577, 0.7351320670710729, 0.7351088615258989, 0.7350856702853338, 0.7350624933341924, 0.7350393306573065, 0.735016182239524, 0.734993048065712, 0.7349699281207527, 0.7349468223895466, 0.7349237308570101, 0.7349006535080778, 0.7348775903277008, 0.734854541300846, 0.7348315064125, 0.7348084856476628, 0.7347854789913548, 0.7347624864286098, 0.7347395079444808, 0.7347165435240371, 0.7346935931523639, 0.7346706568145643, 0.7346477344957574, 0.7346248261810792, 0.7346019318556827, 0.7345790515047367, 0.734556185113427, 0.7345333326669564, 0.7345104941505437, 0.7344876695494248, 0.7344648588488519, 0.7344420620340919, 0.7344192790904331, 0.734396510003174, 0.7343737547576349, 0.7343510133391485, 0.734328285733066, 0.7343055719247544, 0.7342828718995975, 0.7342601856429951, 0.734237513140362, 0.7342148543771314, 0.7341922093387522, 0.7341695780106877, 0.7341469603784201, 0.734124356427446, 0.7341017661432787, 0.7340791895114468, 0.7340566265174961, 0.7340340771469882, 0.734011541385501, 0.7339890192186274, 0.7339665106319775, 0.7339440156111755, 0.7339215341418651, 0.7338990662097016, 0.7338766118003602, 0.7338541708995282, 0.7338317434929119, 0.733809329566232, 0.7337869291052256, 0.7337645420956447, 0.7337421685232581, 0.73371980837385, 0.7336974616332205, 0.7336751282871835, 0.7336528083215724, 0.7336305017222328, 0.733608208475028, 0.7335859285658356, 0.7335636619805501, 0.7335414087050809, 0.7335191687253528, 0.7334969420273062, 0.7334747285968972, 0.7334525284200971, 0.7334303414828938, 0.7334081677712893, 0.733386007271301, 0.7333638599689636, 0.7333417258503239, 0.7333196049014481, 0.7332974971084147, 0.7332754024573184, 0.7332533209342698, 0.7332312525253943, 0.733209197216832, 0.7331871549947403, 0.7331651258452884, 0.7331431097546643, 0.7331211067090687, 0.7330991166947189, 0.7330771396978473, 0.7330551757046994, 0.7330332247015392, 0.733011286674642, 0.7329893616103025, 0.7329674494948257, 0.7329455503145365, 0.7329236640557701, 0.73290179070488, 0.7328799302482334, 0.7328580826722122, 0.7328362479632153, 0.7328144261076529, 0.7327926170919536, 0.7327708209025585, 0.7327490375259249, 0.7327272669485239, 0.7327055091568421, 0.7326837641373822, 0.7326620318766582, 0.732640312361202, 0.732618605577559, 0.7325969115122895, 0.7325752301519687, 0.732553561483186, 0.7325319054925451, 0.7325102621666664, 0.7324886314921824, 0.7324670134557414, 0.7324454080440072, 0.7324238152436555, 0.73240223504138, 0.7323806674238854, 0.7323591123778947, 0.7323375698901413, 0.7323160399473759, 0.7322945225363642, 0.7322730176438833, 0.7322515252567269, 0.7322300453617031, 0.7322085779456341, 0.7321871229953553, 0.7321656804977185, 0.7321442504395884, 0.7321228328078438, 0.7321014275893795, 0.7320800347711033, 0.7320586543399367, 0.7320372862828171, 0.7320159305866941, 0.7319945872385338, 0.7319732562253148, 0.7319519375340304, 0.7319306311516877, 0.7319093370653088, 0.7318880552619291, 0.7318667857285979, 0.7318455284523803, 0.7318242834203534, 0.7318030506196089, 0.7317818300372536, 0.7317606216604072, 0.7317394254762034, 0.7317182414717898, 0.731697069634329, 0.7316759099509974, 0.7316547624089844, 0.7316336269954931, 0.7316125036977414, 0.7315913925029609, 0.7315702933983974, 0.7315492063713094, 0.7315281314089701, 0.731507068498667, 0.731486017627699, 0.7314649787833816, 0.7314439519530437, 0.7314229371240255, 0.7314019342836839, 0.7313809434193878, 0.7313599645185193, 0.7313389975684764, 0.731318042556669, 0.7312970994705206, 0.7312761682974693, 0.7312552490249657, 0.731234341640475, 0.7312134461314753, 0.7311925624854586, 0.7311716906899303, 0.7311508307324095, 0.7311299826004289, 0.7311091462815332, 0.7310883217632833, 0.7310675090332514, 0.7310467080790242, 0.7310259188882002, 0.7310051414483945, 0.7309843757472319, 0.7309636217723534, 0.730942879511412, 0.7309221489520739, 0.7309014300820198, 0.7308807228889425, 0.7308600273605484, 0.7308393434845575, 0.7308186712487035, 0.7307980106407321, 0.7307773616484037, 0.7307567242594899, 0.7307360984617775, 0.7307154842430655, 0.7306948815911662, 0.7306742904939052, 0.7306537109391226, 0.730633142914667, 0.7306125864084054, 0.7305920414082161, 0.7305715079019898, 0.73055098587763, 0.730530475323054, 0.7305099762261928, 0.7304894885749885, 0.7304690123573986, 0.730448547561392, 0.7304280941749497, 0.7304076521860681, 0.7303872215827547, 0.7303668023530314, 0.7303463944849311, 0.7303259979665009, 0.7303056127858005, 0.7302852389309027, 0.7302648763898927, 0.7302445251508678, 0.7302241852019401, 0.7302038565312344, 0.7301835391268845, 0.7301632329770427, 0.7301429380698695, 0.7301226543935403, 0.730102381936243, 0.7300821206861777, 0.7300618706315569, 0.7300416317606074, 0.7300214040615666, 0.7300011875226862, 0.7299809821322304, 0.7299607878784744, 0.7299406047497075, 0.7299204327342316, 0.7299002718203598, 0.72988012199642, 0.7298599832507516, 0.7298398555717054, 0.7298197389476456, 0.7297996333669498, 0.7297795388180071, 0.7297594552892187, 0.7297393827689991, 0.7297193212457763, 0.729699270707987, 0.7296792311440844, 0.7296592025425326, 0.7296391848918065, 0.7296191781803962, 0.7295991823968023, 0.7295791975295385, 0.7295592235671309, 0.7295392604981168, 0.729519308311046, 0.7294993669944831, 0.7294794365370024, 0.7294595169271908, 0.729439608153647, 0.7294197102049849, 0.729399823069827, 0.7293799467368088, 0.7293600811945803, 0.7293402264318011, 0.7293203824371446, 0.729300549199295, 0.7292807267069498, 0.7292609149488183, 0.7292411139136206, 0.7292213235900912, 0.7292015439669757, 0.7291817750330304, 0.729162016777026, 0.7291422691877442, 0.7291225322539776, 0.7291028059645328, 0.729083090308227, 0.7290633852738896, 0.7290436908503638, 0.7290240070265013, 0.7290043337911685, 0.7289846711332428, 0.7289650190416136, 0.7289453775051824, 0.7289257465128622, 0.7289061260535782, 0.728886516116267, 0.7288669166898777, 0.7288473277633705, 0.7288277493257188, 0.7288081813659062, 0.7287886238729295, 0.7287690768357961, 0.7287495402435247, 0.7287300140851487, 0.7287104983497099, 0.7286909930262636, 0.7286714981038764, 0.7286520135716261, 0.7286325394186035, 0.7286130756339103, 0.728593622206659, 0.7285741791259759, 0.7285547463809963, 0.7285353239608695, 0.7285159118547554, 0.7284965100518246, 0.7284771185412615, 0.72845773731226, 0.7284383663540261, 0.7284190056557778, 0.7283996552067458, 0.7283803149961685, 0.7283609850133, 0.7283416652474044, 0.7283223556877554, 0.7283030563236413, 0.7282837671443603, 0.7282644881392212, 0.7282452192975456, 0.7282259606086672, 0.7282067120619283, 0.7281874736466853, 0.7281682453523056, 0.7281490271681654, 0.7281298190836558, 0.7281106210881774, 0.7280914331711429, 0.7280722553219745, 0.7280530875301076, 0.7280339297849887, 0.7280147820760751, 0.7279956443928353, 0.7279765167247494, 0.7279573990613085, 0.7279382913920156, 0.7279191937063831, 0.727900105993937, 0.727881028244213, 0.7278619604467578, 0.7278429025911308, 0.7278238546669005, 0.7278048166636485, 0.727785788570966, 0.7277667703784567, 0.7277477620757342, 0.7277287636524234, 0.7277097750981614, 0.7276907964025938, 0.7276718275553808, 0.7276528685461914, 0.7276339193647055, 0.7276149800006151, 0.7275960504436225, 0.7275771306834415, 0.7275582207097961, 0.7275393205124219, 0.7275204300810659, 0.727501549405485, 0.727482678475447, 0.7274638172807324, 0.7274449658111302, 0.7274261240564426, 0.7274072920064795, 0.7273884696510662, 0.727369656980035, 0.7273508539832305, 0.7273320606505078, 0.7273132769717345, 0.7272945029367872, 0.7272757385355522, 0.7272569837579295, 0.7272382385938292, 0.727219503033169, 0.7272007770658833, 0.7271820606819106, 0.727163353871205, 0.7271446566237294, 0.7271259689294575, 0.727107290778374, 0.7270886221604742, 0.727069963065764, 0.7270513134842593, 0.7270326734059891, 0.7270140428209897, 0.7269954217193099, 0.7269768100910095, 0.7269582079261572, 0.7269396152148346, 0.7269210319471315, 0.7269024581131502, 0.7268838937030024, 0.7268653387068108, 0.7268467931147085, 0.7268282569168388, 0.7268097301033561, 0.7267912126644257, 0.7267727045902217, 0.7267542058709306, 0.7267357164967484, 0.7267172364578809, 0.7266987657445468, 0.7266803043469712, 0.726661852255394, 0.7266434094600627, 0.7266249759512358, 0.7266065517191828, 0.7265881367541829, 0.7265697310465262, 0.7265513345865124, 0.7265329473644524, 0.7265145693706667, 0.7264962005954871, 0.7264778410292545, 0.7264594906623196, 0.7264411494850471, 0.7264228174878076, 0.7264044946609836, 0.7263861809949688, 0.726367876480165, 0.7263495811069867, 0.7263312948658575, 0.7263130177472102, 0.7262947497414898, 0.726276490839149, 0.726258241030654, 0.7262400003064776, 0.726221768657105, 0.7262035460730311, 0.7261853325447611, 0.726167128062809, 0.7261489326177004, 0.7261307461999713, 0.7261125688001663, 0.7260944004088401, 0.7260762410165594, 0.7260580906138993, 0.7260399491914453, 0.7260218167397928, 0.7260036932495475, 0.7259855787113243, 0.7259674731157496, 0.7259493764534594, 0.7259312887150983, 0.7259132098913222, 0.725895139972797, 0.7258770789501972, 0.7258590268142087, 0.7258409835555273, 0.7258229491648576, 0.725804923632914, 0.7257869069504237, 0.7257688991081195, 0.7257509000967463, 0.7257329099070596, 0.725714928529824, 0.7256969559558124, 0.7256789921758102, 0.7256610371806107, 0.7256430909610176, 0.7256251535078455, 0.7256072248119164, 0.7255893048640637, 0.7255713936551309, 0.7255534911759695, 0.7255355974174433, 0.7255177123704231, 0.7254998360257909, 0.7254819683744385, 0.7254641094072676, 0.7254462591151881, 0.7254284174891211, 0.7254105845199974, 0.7253927601987555, 0.7253749445163469, 0.7253571374637281, 0.7253393390318701, 0.7253215492117511, 0.7253037679943586, 0.72528599537069, 0.7252682313317533, 0.7252504758685647, 0.7252327289721504, 0.7252149906335477, 0.7251972608437998, 0.7251795395939634, 0.7251618268751024, 0.7251441226782911, 0.7251264269946127, 0.7251087398151611, 0.7250910611310377, 0.725073390933354, 0.7250557292132332, 0.7250380759618054, 0.72502043117021, 0.725002794829598, 0.7249851669311281, 0.724967547465969, 0.7249499364252994, 0.724932333800304, 0.7249147395821829, 0.7248971537621407, 0.7248795763313932, 0.7248620072811642, 0.7248444466026889, 0.724826894287211, 0.7248093503259831, 0.724791814710267, 0.7247742874313342, 0.7247567684804663, 0.7247392578489518, 0.7247217555280914, 0.7247042615091926, 0.7246867757835738, 0.7246692983425614, 0.7246518291774924, 0.7246343682797123, 0.7246169156405748, 0.7245994712514451, 0.7245820351036952, 0.7245646071887084, 0.7245471874978744, 0.7245297760225959, 0.7245123727542814, 0.7244949776843501, 0.7244775908042299, 0.7244602121053582, 0.7244428415791808, 0.7244254792171532, 0.7244081250107398, 0.724390778951415, 0.7243734410306603, 0.7243561112399675, 0.7243387895708379, 0.7243214760147807, 0.7243041705633145, 0.7242868732079679, 0.7242695839402769, 0.7242523027517876, 0.7242350296340553, 0.7242177645786433, 0.7242005075771247, 0.7241832586210808, 0.7241660177021023, 0.7241487848117896, 0.7241315599417508, 0.7241143430836035, 0.7240971342289734, 0.724079933369497, 0.7240627404968184, 0.7240455556025894, 0.7240283786784737, 0.7240112097161411, 0.7239940487072711, 0.7239768956435537]\n"
     ]
    }
   ],
   "source": [
    "print(losses)\n",
    "print(losseslosses)"
   ]
  },
  {
   "cell_type": "code",
   "execution_count": 34,
   "id": "4951647c",
   "metadata": {},
   "outputs": [
    {
     "data": {
      "image/png": "[encoded data removed]",
      "text/plain": [
       "<Figure size 432x288 with 1 Axes>"
      ]
     },
     "metadata": {
      "needs_background": "light"
     },
     "output_type": "display_data"
    }
   ],
   "source": [
    "import matplotlib.pyplot as plt\n",
    "plt.plot(losses)\n",
    "plt.show()"
   ]
  },
  {
   "cell_type": "code",
   "execution_count": 35,
   "id": "fe942237",
   "metadata": {
    "scrolled": true
   },
   "outputs": [
    {
     "data": {
      "image/png": "[encoded data removed]",
      "text/plain": [
       "<Figure size 432x288 with 1 Axes>"
      ]
     },
     "metadata": {
      "needs_background": "light"
     },
     "output_type": "display_data"
    }
   ],
   "source": [
    "import matplotlib.pyplot as plt\n",
    "plt.plot(LOSSES)\n",
    "plt.show()"
   ]
  },
  {
   "cell_type": "code",
   "execution_count": 36,
   "id": "2fcad853",
   "metadata": {},
   "outputs": [
    {
     "data": {
      "text/plain": [
       "(array([0.08718448, 0.0732504 , 0.12534131, 0.1245404 , 0.17643016,\n",
       "        0.42088866, 0.03924631, 0.46838769, 0.26360177, 0.35898324,\n",
       "        0.21727173, 0.06870651]),\n",
       " 0.3812857834228504)"
      ]
     },
     "execution_count": 36,
     "metadata": {},
     "output_type": "execute_result"
    }
   ],
   "source": [
    "W, b"
   ]
  },
  {
   "cell_type": "code",
   "execution_count": 37,
   "id": "e5ba3db7",
   "metadata": {},
   "outputs": [
    {
     "data": {
      "text/plain": [
       "(array([-1.07921402, -1.19358881]), 4.464743585575263)"
      ]
     },
     "execution_count": 37,
     "metadata": {},
     "output_type": "execute_result"
    }
   ],
   "source": [
    "WW, bb"
   ]
  },
  {
   "cell_type": "code",
   "execution_count": 38,
   "id": "e8de36c7",
   "metadata": {},
   "outputs": [
    {
     "data": {
      "text/plain": [
       "0.6660093524620032"
      ]
     },
     "execution_count": 38,
     "metadata": {},
     "output_type": "execute_result"
    }
   ],
   "source": [
    "prediction = model(X_test, W, b)\n",
    "mse = loss(X_test, W, b, y_test)\n",
    "mse"
   ]
  },
  {
   "cell_type": "code",
   "execution_count": null,
   "id": "017f7c9b",
   "metadata": {},
   "outputs": [],
   "source": [
    "prediction = model(XX, WW, bb)\n",
    "msemse = loss(XX, WW, bb, yy)\n",
    "msemse"
   ]
  }
 ],
 "metadata": {
  "kernelspec": {
   "display_name": "Python 3 (ipykernel)",
   "language": "python",
   "name": "python3"
  },
  "language_info": {
   "codemirror_mode": {
    "name": "ipython",
    "version": 3
   },
   "file_extension": ".py",
   "mimetype": "text/x-python",
   "name": "python",
   "nbconvert_exporter": "python",
   "pygments_lexer": "ipython3",
   "version": "3.9.7"
  }
 },
 "nbformat": 4,
 "nbformat_minor": 5
}
