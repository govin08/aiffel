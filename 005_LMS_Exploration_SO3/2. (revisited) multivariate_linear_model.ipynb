{
 "cells": [
  {
   "cell_type": "code",
   "execution_count": 1,
   "id": "a00ad992",
   "metadata": {},
   "outputs": [],
   "source": [
    "import numpy as np\n",
    "import seaborn as sns"
   ]
  },
  {
   "cell_type": "markdown",
   "id": "7f7d390a",
   "metadata": {},
   "source": [
    "## 2.7. 이번엔 하나가 아니다! 다양한 정보로 원하는 값을 예측해 보기 (1) 손님의 성별, 수, 전체 먹은 금액 등으로 내가 받을 팁을 예측할 수 있을까?"
   ]
  },
  {
   "cell_type": "code",
   "execution_count": 2,
   "id": "bcc38385",
   "metadata": {},
   "outputs": [
    {
     "name": "stdout",
     "output_type": "stream",
     "text": [
      "(244, 7)\n"
     ]
    },
    {
     "data": {
      "text/html": [
       "<div>\n",
       "<style scoped>\n",
       "    .dataframe tbody tr th:only-of-type {\n",
       "        vertical-align: middle;\n",
       "    }\n",
       "\n",
       "    .dataframe tbody tr th {\n",
       "        vertical-align: top;\n",
       "    }\n",
       "\n",
       "    .dataframe thead th {\n",
       "        text-align: right;\n",
       "    }\n",
       "</style>\n",
       "<table border=\"1\" class=\"dataframe\">\n",
       "  <thead>\n",
       "    <tr style=\"text-align: right;\">\n",
       "      <th></th>\n",
       "      <th>total_bill</th>\n",
       "      <th>tip</th>\n",
       "      <th>sex</th>\n",
       "      <th>smoker</th>\n",
       "      <th>day</th>\n",
       "      <th>time</th>\n",
       "      <th>size</th>\n",
       "    </tr>\n",
       "  </thead>\n",
       "  <tbody>\n",
       "    <tr>\n",
       "      <th>0</th>\n",
       "      <td>16.99</td>\n",
       "      <td>1.01</td>\n",
       "      <td>Female</td>\n",
       "      <td>No</td>\n",
       "      <td>Sun</td>\n",
       "      <td>Dinner</td>\n",
       "      <td>2</td>\n",
       "    </tr>\n",
       "    <tr>\n",
       "      <th>1</th>\n",
       "      <td>10.34</td>\n",
       "      <td>1.66</td>\n",
       "      <td>Male</td>\n",
       "      <td>No</td>\n",
       "      <td>Sun</td>\n",
       "      <td>Dinner</td>\n",
       "      <td>3</td>\n",
       "    </tr>\n",
       "    <tr>\n",
       "      <th>2</th>\n",
       "      <td>21.01</td>\n",
       "      <td>3.50</td>\n",
       "      <td>Male</td>\n",
       "      <td>No</td>\n",
       "      <td>Sun</td>\n",
       "      <td>Dinner</td>\n",
       "      <td>3</td>\n",
       "    </tr>\n",
       "    <tr>\n",
       "      <th>3</th>\n",
       "      <td>23.68</td>\n",
       "      <td>3.31</td>\n",
       "      <td>Male</td>\n",
       "      <td>No</td>\n",
       "      <td>Sun</td>\n",
       "      <td>Dinner</td>\n",
       "      <td>2</td>\n",
       "    </tr>\n",
       "    <tr>\n",
       "      <th>4</th>\n",
       "      <td>24.59</td>\n",
       "      <td>3.61</td>\n",
       "      <td>Female</td>\n",
       "      <td>No</td>\n",
       "      <td>Sun</td>\n",
       "      <td>Dinner</td>\n",
       "      <td>4</td>\n",
       "    </tr>\n",
       "  </tbody>\n",
       "</table>\n",
       "</div>"
      ],
      "text/plain": [
       "   total_bill   tip     sex smoker  day    time  size\n",
       "0       16.99  1.01  Female     No  Sun  Dinner     2\n",
       "1       10.34  1.66    Male     No  Sun  Dinner     3\n",
       "2       21.01  3.50    Male     No  Sun  Dinner     3\n",
       "3       23.68  3.31    Male     No  Sun  Dinner     2\n",
       "4       24.59  3.61  Female     No  Sun  Dinner     4"
      ]
     },
     "execution_count": 2,
     "metadata": {},
     "output_type": "execute_result"
    }
   ],
   "source": [
    "tips = sns.load_dataset(\"tips\")\n",
    "print(tips.shape)\n",
    "tips.head()"
   ]
  },
  {
   "cell_type": "code",
   "execution_count": 3,
   "id": "1e11bc6f",
   "metadata": {},
   "outputs": [
    {
     "data": {
      "text/html": [
       "<div>\n",
       "<style scoped>\n",
       "    .dataframe tbody tr th:only-of-type {\n",
       "        vertical-align: middle;\n",
       "    }\n",
       "\n",
       "    .dataframe tbody tr th {\n",
       "        vertical-align: top;\n",
       "    }\n",
       "\n",
       "    .dataframe thead th {\n",
       "        text-align: right;\n",
       "    }\n",
       "</style>\n",
       "<table border=\"1\" class=\"dataframe\">\n",
       "  <thead>\n",
       "    <tr style=\"text-align: right;\">\n",
       "      <th></th>\n",
       "      <th>total_bill</th>\n",
       "      <th>tip</th>\n",
       "      <th>size</th>\n",
       "      <th>sex_Male</th>\n",
       "      <th>sex_Female</th>\n",
       "      <th>smoker_Yes</th>\n",
       "      <th>smoker_No</th>\n",
       "      <th>day_Thur</th>\n",
       "      <th>day_Fri</th>\n",
       "      <th>day_Sat</th>\n",
       "      <th>day_Sun</th>\n",
       "      <th>time_Lunch</th>\n",
       "      <th>time_Dinner</th>\n",
       "    </tr>\n",
       "  </thead>\n",
       "  <tbody>\n",
       "    <tr>\n",
       "      <th>0</th>\n",
       "      <td>16.99</td>\n",
       "      <td>1.01</td>\n",
       "      <td>2</td>\n",
       "      <td>0</td>\n",
       "      <td>1</td>\n",
       "      <td>0</td>\n",
       "      <td>1</td>\n",
       "      <td>0</td>\n",
       "      <td>0</td>\n",
       "      <td>0</td>\n",
       "      <td>1</td>\n",
       "      <td>0</td>\n",
       "      <td>1</td>\n",
       "    </tr>\n",
       "    <tr>\n",
       "      <th>1</th>\n",
       "      <td>10.34</td>\n",
       "      <td>1.66</td>\n",
       "      <td>3</td>\n",
       "      <td>1</td>\n",
       "      <td>0</td>\n",
       "      <td>0</td>\n",
       "      <td>1</td>\n",
       "      <td>0</td>\n",
       "      <td>0</td>\n",
       "      <td>0</td>\n",
       "      <td>1</td>\n",
       "      <td>0</td>\n",
       "      <td>1</td>\n",
       "    </tr>\n",
       "    <tr>\n",
       "      <th>2</th>\n",
       "      <td>21.01</td>\n",
       "      <td>3.50</td>\n",
       "      <td>3</td>\n",
       "      <td>1</td>\n",
       "      <td>0</td>\n",
       "      <td>0</td>\n",
       "      <td>1</td>\n",
       "      <td>0</td>\n",
       "      <td>0</td>\n",
       "      <td>0</td>\n",
       "      <td>1</td>\n",
       "      <td>0</td>\n",
       "      <td>1</td>\n",
       "    </tr>\n",
       "    <tr>\n",
       "      <th>3</th>\n",
       "      <td>23.68</td>\n",
       "      <td>3.31</td>\n",
       "      <td>2</td>\n",
       "      <td>1</td>\n",
       "      <td>0</td>\n",
       "      <td>0</td>\n",
       "      <td>1</td>\n",
       "      <td>0</td>\n",
       "      <td>0</td>\n",
       "      <td>0</td>\n",
       "      <td>1</td>\n",
       "      <td>0</td>\n",
       "      <td>1</td>\n",
       "    </tr>\n",
       "    <tr>\n",
       "      <th>4</th>\n",
       "      <td>24.59</td>\n",
       "      <td>3.61</td>\n",
       "      <td>4</td>\n",
       "      <td>0</td>\n",
       "      <td>1</td>\n",
       "      <td>0</td>\n",
       "      <td>1</td>\n",
       "      <td>0</td>\n",
       "      <td>0</td>\n",
       "      <td>0</td>\n",
       "      <td>1</td>\n",
       "      <td>0</td>\n",
       "      <td>1</td>\n",
       "    </tr>\n",
       "  </tbody>\n",
       "</table>\n",
       "</div>"
      ],
      "text/plain": [
       "   total_bill   tip  size  sex_Male  sex_Female  smoker_Yes  smoker_No  \\\n",
       "0       16.99  1.01     2         0           1           0          1   \n",
       "1       10.34  1.66     3         1           0           0          1   \n",
       "2       21.01  3.50     3         1           0           0          1   \n",
       "3       23.68  3.31     2         1           0           0          1   \n",
       "4       24.59  3.61     4         0           1           0          1   \n",
       "\n",
       "   day_Thur  day_Fri  day_Sat  day_Sun  time_Lunch  time_Dinner  \n",
       "0         0        0        0        1           0            1  \n",
       "1         0        0        0        1           0            1  \n",
       "2         0        0        0        1           0            1  \n",
       "3         0        0        0        1           0            1  \n",
       "4         0        0        0        1           0            1  "
      ]
     },
     "execution_count": 3,
     "metadata": {},
     "output_type": "execute_result"
    }
   ],
   "source": [
    "import pandas as pd\n",
    "tips = pd.get_dummies(tips, columns=['sex', 'smoker', 'day', 'time'])\n",
    "tips.head()"
   ]
  },
  {
   "cell_type": "code",
   "execution_count": 4,
   "id": "f14d3c97",
   "metadata": {},
   "outputs": [
    {
     "data": {
      "text/html": [
       "<div>\n",
       "<style scoped>\n",
       "    .dataframe tbody tr th:only-of-type {\n",
       "        vertical-align: middle;\n",
       "    }\n",
       "\n",
       "    .dataframe tbody tr th {\n",
       "        vertical-align: top;\n",
       "    }\n",
       "\n",
       "    .dataframe thead th {\n",
       "        text-align: right;\n",
       "    }\n",
       "</style>\n",
       "<table border=\"1\" class=\"dataframe\">\n",
       "  <thead>\n",
       "    <tr style=\"text-align: right;\">\n",
       "      <th></th>\n",
       "      <th>total_bill</th>\n",
       "      <th>size</th>\n",
       "      <th>sex_Male</th>\n",
       "      <th>sex_Female</th>\n",
       "      <th>smoker_Yes</th>\n",
       "      <th>smoker_No</th>\n",
       "      <th>day_Thur</th>\n",
       "      <th>day_Fri</th>\n",
       "      <th>day_Sat</th>\n",
       "      <th>day_Sun</th>\n",
       "      <th>time_Lunch</th>\n",
       "      <th>time_Dinner</th>\n",
       "      <th>tip</th>\n",
       "    </tr>\n",
       "  </thead>\n",
       "  <tbody>\n",
       "    <tr>\n",
       "      <th>0</th>\n",
       "      <td>16.99</td>\n",
       "      <td>2</td>\n",
       "      <td>0</td>\n",
       "      <td>1</td>\n",
       "      <td>0</td>\n",
       "      <td>1</td>\n",
       "      <td>0</td>\n",
       "      <td>0</td>\n",
       "      <td>0</td>\n",
       "      <td>1</td>\n",
       "      <td>0</td>\n",
       "      <td>1</td>\n",
       "      <td>1.01</td>\n",
       "    </tr>\n",
       "    <tr>\n",
       "      <th>1</th>\n",
       "      <td>10.34</td>\n",
       "      <td>3</td>\n",
       "      <td>1</td>\n",
       "      <td>0</td>\n",
       "      <td>0</td>\n",
       "      <td>1</td>\n",
       "      <td>0</td>\n",
       "      <td>0</td>\n",
       "      <td>0</td>\n",
       "      <td>1</td>\n",
       "      <td>0</td>\n",
       "      <td>1</td>\n",
       "      <td>1.66</td>\n",
       "    </tr>\n",
       "    <tr>\n",
       "      <th>2</th>\n",
       "      <td>21.01</td>\n",
       "      <td>3</td>\n",
       "      <td>1</td>\n",
       "      <td>0</td>\n",
       "      <td>0</td>\n",
       "      <td>1</td>\n",
       "      <td>0</td>\n",
       "      <td>0</td>\n",
       "      <td>0</td>\n",
       "      <td>1</td>\n",
       "      <td>0</td>\n",
       "      <td>1</td>\n",
       "      <td>3.50</td>\n",
       "    </tr>\n",
       "    <tr>\n",
       "      <th>3</th>\n",
       "      <td>23.68</td>\n",
       "      <td>2</td>\n",
       "      <td>1</td>\n",
       "      <td>0</td>\n",
       "      <td>0</td>\n",
       "      <td>1</td>\n",
       "      <td>0</td>\n",
       "      <td>0</td>\n",
       "      <td>0</td>\n",
       "      <td>1</td>\n",
       "      <td>0</td>\n",
       "      <td>1</td>\n",
       "      <td>3.31</td>\n",
       "    </tr>\n",
       "    <tr>\n",
       "      <th>4</th>\n",
       "      <td>24.59</td>\n",
       "      <td>4</td>\n",
       "      <td>0</td>\n",
       "      <td>1</td>\n",
       "      <td>0</td>\n",
       "      <td>1</td>\n",
       "      <td>0</td>\n",
       "      <td>0</td>\n",
       "      <td>0</td>\n",
       "      <td>1</td>\n",
       "      <td>0</td>\n",
       "      <td>1</td>\n",
       "      <td>3.61</td>\n",
       "    </tr>\n",
       "  </tbody>\n",
       "</table>\n",
       "</div>"
      ],
      "text/plain": [
       "   total_bill  size  sex_Male  sex_Female  smoker_Yes  smoker_No  day_Thur  \\\n",
       "0       16.99     2         0           1           0          1         0   \n",
       "1       10.34     3         1           0           0          1         0   \n",
       "2       21.01     3         1           0           0          1         0   \n",
       "3       23.68     2         1           0           0          1         0   \n",
       "4       24.59     4         0           1           0          1         0   \n",
       "\n",
       "   day_Fri  day_Sat  day_Sun  time_Lunch  time_Dinner   tip  \n",
       "0        0        0        1           0            1  1.01  \n",
       "1        0        0        1           0            1  1.66  \n",
       "2        0        0        1           0            1  3.50  \n",
       "3        0        0        1           0            1  3.31  \n",
       "4        0        0        1           0            1  3.61  "
      ]
     },
     "execution_count": 4,
     "metadata": {},
     "output_type": "execute_result"
    }
   ],
   "source": [
    "tips = tips[['total_bill', 'size', 'sex_Male', 'sex_Female', 'smoker_Yes', 'smoker_No',\n",
    "             'day_Thur', 'day_Fri', 'day_Sat', 'day_Sun', 'time_Lunch', 'time_Dinner', 'tip']]\n",
    "tips.head()"
   ]
  },
  {
   "cell_type": "markdown",
   "id": "0614f484",
   "metadata": {},
   "source": [
    "## 2.8. 이번엔 하나가 아니다! 다양한 정보로 원하는 값을 예측해 보기 (2) 다시 한 번 직접 설계해 보는 손실함수"
   ]
  },
  {
   "cell_type": "markdown",
   "id": "ddfd1ec8",
   "metadata": {},
   "source": [
    "### 2.8.1. `model`, `MSE`, `loss`"
   ]
  },
  {
   "cell_type": "code",
   "execution_count": 5,
   "id": "d3437ce2",
   "metadata": {},
   "outputs": [
    {
     "name": "stdout",
     "output_type": "stream",
     "text": [
      "슝=3\n"
     ]
    }
   ],
   "source": [
    "def model(X, W, b):\n",
    "    predictions = 0\n",
    "    for i in range(len(W)):\n",
    "        predictions += X[:, i] * W[i]\n",
    "    predictions += b\n",
    "    return predictions\n",
    "print(\"슝=3\")"
   ]
  },
  {
   "cell_type": "code",
   "execution_count": 6,
   "id": "6fa64266",
   "metadata": {},
   "outputs": [
    {
     "name": "stdout",
     "output_type": "stream",
     "text": [
      "슝=3\n"
     ]
    }
   ],
   "source": [
    "def MSE(a, b):\n",
    "    mse = ((a - b) ** 2).mean()  # 두 값의 차이의 제곱의 평균\n",
    "    return mse\n",
    "print(\"슝=3\")"
   ]
  },
  {
   "cell_type": "code",
   "execution_count": 7,
   "id": "e9582aee",
   "metadata": {},
   "outputs": [
    {
     "name": "stdout",
     "output_type": "stream",
     "text": [
      "슝=3\n"
     ]
    }
   ],
   "source": [
    "def loss(X, W, b, y):\n",
    "    predictions = model(X, W, b)\n",
    "    L = MSE(predictions, y)\n",
    "    return L\n",
    "print(\"슝=3\")"
   ]
  },
  {
   "cell_type": "markdown",
   "id": "33f140d0",
   "metadata": {},
   "source": [
    "### 2.8.2. X, W, b, y"
   ]
  },
  {
   "cell_type": "code",
   "execution_count": 8,
   "id": "72a0d87c",
   "metadata": {},
   "outputs": [
    {
     "name": "stdout",
     "output_type": "stream",
     "text": [
      "슝=3\n"
     ]
    }
   ],
   "source": [
    "X = tips[['total_bill', 'size', 'sex_Male', 'sex_Female', 'smoker_Yes', 'smoker_No',\n",
    "          'day_Thur', 'day_Fri', 'day_Sat', 'day_Sun', 'time_Lunch', 'time_Dinner']].values\n",
    "y = tips['tip'].values\n",
    "print(\"슝=3\")"
   ]
  },
  {
   "cell_type": "code",
   "execution_count": 9,
   "id": "60b95838",
   "metadata": {},
   "outputs": [
    {
     "name": "stdout",
     "output_type": "stream",
     "text": [
      "(195, 12) (195,)\n",
      "(49, 12) (49,)\n"
     ]
    }
   ],
   "source": [
    "from sklearn.model_selection import train_test_split\n",
    "\n",
    "X_train, X_test, y_train, y_test = train_test_split(X, y, test_size=0.2, random_state=42)\n",
    "\n",
    "print(X_train.shape, y_train.shape)\n",
    "print(X_test.shape, y_test.shape)"
   ]
  },
  {
   "cell_type": "code",
   "execution_count": 10,
   "id": "12b9acfc",
   "metadata": {},
   "outputs": [
    {
     "name": "stdout",
     "output_type": "stream",
     "text": [
      "슝=3\n"
     ]
    }
   ],
   "source": [
    "W = np.random.rand(12)\n",
    "b = np.random.rand()\n",
    "print(\"슝=3\")"
   ]
  },
  {
   "cell_type": "code",
   "execution_count": 11,
   "id": "106ebbfe",
   "metadata": {},
   "outputs": [
    {
     "data": {
      "text/plain": [
       "(244,)"
      ]
     },
     "execution_count": 11,
     "metadata": {},
     "output_type": "execute_result"
    }
   ],
   "source": [
    "X[:,0].shape"
   ]
  },
  {
   "cell_type": "code",
   "execution_count": 12,
   "id": "5115fff5",
   "metadata": {},
   "outputs": [
    {
     "data": {
      "text/plain": [
       "()"
      ]
     },
     "execution_count": 12,
     "metadata": {},
     "output_type": "execute_result"
    }
   ],
   "source": [
    "W[0].shape"
   ]
  },
  {
   "cell_type": "code",
   "execution_count": 13,
   "id": "05829574",
   "metadata": {},
   "outputs": [
    {
     "name": "stdout",
     "output_type": "stream",
     "text": [
      "(244,)\n"
     ]
    }
   ],
   "source": [
    "prediction = 0\n",
    "i=0\n",
    "prediction += X[:,i]*W[i]\n",
    "print(prediction.shape)"
   ]
  },
  {
   "cell_type": "code",
   "execution_count": 14,
   "id": "23bcf81d",
   "metadata": {},
   "outputs": [
    {
     "name": "stdout",
     "output_type": "stream",
     "text": [
      "(244, 12)\n",
      "(12,)\n"
     ]
    }
   ],
   "source": [
    "print(X.shape)\n",
    "print(W.shape)"
   ]
  },
  {
   "cell_type": "code",
   "execution_count": 15,
   "id": "9c612aea",
   "metadata": {},
   "outputs": [
    {
     "data": {
      "text/plain": [
       "(244,)"
      ]
     },
     "execution_count": 15,
     "metadata": {},
     "output_type": "execute_result"
    }
   ],
   "source": [
    "M = model(X,W,b)\n",
    "M.shape"
   ]
  },
  {
   "cell_type": "code",
   "execution_count": 16,
   "id": "45d72496",
   "metadata": {},
   "outputs": [
    {
     "data": {
      "text/plain": [
       "207.48390818187826"
      ]
     },
     "execution_count": 16,
     "metadata": {},
     "output_type": "execute_result"
    }
   ],
   "source": [
    "MSE(model(X,W,b),y)"
   ]
  },
  {
   "cell_type": "code",
   "execution_count": 17,
   "id": "f9b156a5",
   "metadata": {},
   "outputs": [
    {
     "data": {
      "text/plain": [
       "207.48390818187826"
      ]
     },
     "execution_count": 17,
     "metadata": {},
     "output_type": "execute_result"
    }
   ],
   "source": [
    "loss(X,W,b,y)"
   ]
  },
  {
   "cell_type": "markdown",
   "id": "bb78599d",
   "metadata": {},
   "source": [
    "`X`는 244x12의 행렬이다.\n",
    "`W`는 12차원의 벡터이다.\n",
    "`b`는 스칼라이다.\n",
    "W는 수학적으로는 12x1 열벡터로 이해하는 것이 좋겠다.\n",
    "이때 M = XW+b이고, 이때, b는 한 숫자가 244개 있는 244차원 벡터로 생각할 수 있다."
   ]
  },
  {
   "cell_type": "markdown",
   "id": "5f95e955",
   "metadata": {},
   "source": [
    "### 2.8.3. XX, WW, bb, yy"
   ]
  },
  {
   "cell_type": "code",
   "execution_count": 18,
   "id": "0919a039",
   "metadata": {},
   "outputs": [],
   "source": [
    "XX = np.array([[1,2],[3,1],[2,3],[1,2],[3,1]]).astype(float)\n",
    "WW = np.array([1,1]).astype(float)\n",
    "bb = 5\n",
    "yy = np.array([0,0,0,0,0]).astype(float)"
   ]
  },
  {
   "cell_type": "code",
   "execution_count": 19,
   "id": "216162e0",
   "metadata": {},
   "outputs": [
    {
     "name": "stdout",
     "output_type": "stream",
     "text": [
      "<class 'numpy.ndarray'>\n",
      "(5, 2)\n",
      "<class 'numpy.ndarray'>\n",
      "(2,)\n",
      "<class 'int'>\n",
      "<class 'numpy.ndarray'>\n",
      "(5,)\n"
     ]
    }
   ],
   "source": [
    "print(type(XX))\n",
    "print(XX.shape)\n",
    "print(type(WW))\n",
    "print(WW.shape)\n",
    "print(type(bb))\n",
    "print(type(yy))\n",
    "print(yy.shape)"
   ]
  },
  {
   "cell_type": "code",
   "execution_count": 20,
   "id": "64f71ef5",
   "metadata": {},
   "outputs": [
    {
     "data": {
      "text/plain": [
       "(5,)"
      ]
     },
     "execution_count": 20,
     "metadata": {},
     "output_type": "execute_result"
    }
   ],
   "source": [
    "M = model(XX,WW,bb)\n",
    "M.shape"
   ]
  },
  {
   "cell_type": "code",
   "execution_count": 21,
   "id": "de862b92",
   "metadata": {},
   "outputs": [
    {
     "data": {
      "text/plain": [
       "array([ 8.,  9., 10.,  8.,  9.])"
      ]
     },
     "execution_count": 21,
     "metadata": {},
     "output_type": "execute_result"
    }
   ],
   "source": [
    "model(XX,WW,bb)"
   ]
  },
  {
   "cell_type": "code",
   "execution_count": 22,
   "id": "16fae262",
   "metadata": {},
   "outputs": [
    {
     "data": {
      "text/plain": [
       "78.0"
      ]
     },
     "execution_count": 22,
     "metadata": {},
     "output_type": "execute_result"
    }
   ],
   "source": [
    "MSE(model(XX,WW,bb),yy)"
   ]
  },
  {
   "cell_type": "code",
   "execution_count": 23,
   "id": "fa0b7b19",
   "metadata": {},
   "outputs": [
    {
     "data": {
      "text/plain": [
       "78.0"
      ]
     },
     "execution_count": 23,
     "metadata": {},
     "output_type": "execute_result"
    }
   ],
   "source": [
    "loss(XX,WW,bb,yy)"
   ]
  },
  {
   "cell_type": "markdown",
   "id": "d8c91865",
   "metadata": {},
   "source": [
    "## 2.9. 이번엔 하나가 아니다! 다양한 정보로 원하는 값을 예측해 보기 (3) 앞으로는 절대 해 볼 일 없을, 직접 그래디언트 계산하기"
   ]
  },
  {
   "cell_type": "code",
   "execution_count": 24,
   "id": "3cce9e1a",
   "metadata": {},
   "outputs": [
    {
     "name": "stdout",
     "output_type": "stream",
     "text": [
      "슝=3\n"
     ]
    }
   ],
   "source": [
    "def gradient(X, W, b, y):\n",
    "    # N은 가중치의 개수\n",
    "    N = len(W)\n",
    "    \n",
    "    # y_pred 준비\n",
    "    y_pred = model(X, W, b)\n",
    "    \n",
    "    # 공식에 맞게 gradient 계산\n",
    "    dW = 1/N * 2 * X.T.dot(y_pred - y)\n",
    "        \n",
    "    # b의 gradient 계산\n",
    "    db = 2 * (y_pred - y).mean()\n",
    "    return dW, db\n",
    "print(\"슝=3\")"
   ]
  },
  {
   "cell_type": "code",
   "execution_count": 25,
   "id": "bbbe9fa7",
   "metadata": {},
   "outputs": [
    {
     "data": {
      "text/plain": [
       "(array([12614.0788244 ,  1540.1784968 ,   370.30851213,   182.1096426 ,\n",
       "          216.52522185,   335.89293288,   131.84056307,    37.00269432,\n",
       "          200.07364389,   183.50125345,   140.66530451,   411.75285022]),\n",
       " 27.168105970483815)"
      ]
     },
     "execution_count": 25,
     "metadata": {},
     "output_type": "execute_result"
    }
   ],
   "source": [
    "gradient(X,W,b,y)"
   ]
  },
  {
   "cell_type": "code",
   "execution_count": 26,
   "id": "83f64cec",
   "metadata": {},
   "outputs": [
    {
     "data": {
      "text/plain": [
       "(array([90., 80.]), 17.6)"
      ]
     },
     "execution_count": 26,
     "metadata": {},
     "output_type": "execute_result"
    }
   ],
   "source": [
    "gradient(XX,WW,bb,yy)"
   ]
  },
  {
   "cell_type": "markdown",
   "id": "f74246fe",
   "metadata": {},
   "source": [
    "## 2.10. 이번엔 하나가 아니다! 다양한 정보로 원하는 값을 예측해 보기 (4) 모두 준비 되었다면, 모델 학습은 간단하다구"
   ]
  },
  {
   "cell_type": "code",
   "execution_count": 27,
   "id": "9536d91e",
   "metadata": {},
   "outputs": [],
   "source": [
    "LEARNING_RATE = 0.0001"
   ]
  },
  {
   "cell_type": "code",
   "execution_count": 28,
   "id": "57a2b17d",
   "metadata": {
    "scrolled": true
   },
   "outputs": [
    {
     "name": "stdout",
     "output_type": "stream",
     "text": [
      "Iteration 10 : Loss 2.6752\n",
      "Iteration 20 : Loss 2.5902\n",
      "Iteration 30 : Loss 2.5187\n",
      "Iteration 40 : Loss 2.4516\n",
      "Iteration 50 : Loss 2.3886\n",
      "Iteration 60 : Loss 2.3295\n",
      "Iteration 70 : Loss 2.2739\n",
      "Iteration 80 : Loss 2.2218\n",
      "Iteration 90 : Loss 2.1727\n",
      "Iteration 100 : Loss 2.1266\n",
      "Iteration 110 : Loss 2.0833\n",
      "Iteration 120 : Loss 2.0425\n",
      "Iteration 130 : Loss 2.0041\n",
      "Iteration 140 : Loss 1.9679\n",
      "Iteration 150 : Loss 1.9339\n",
      "Iteration 160 : Loss 1.9018\n",
      "Iteration 170 : Loss 1.8715\n",
      "Iteration 180 : Loss 1.8430\n",
      "Iteration 190 : Loss 1.8160\n",
      "Iteration 200 : Loss 1.7906\n",
      "Iteration 210 : Loss 1.7666\n",
      "Iteration 220 : Loss 1.7439\n",
      "Iteration 230 : Loss 1.7224\n",
      "Iteration 240 : Loss 1.7021\n",
      "Iteration 250 : Loss 1.6829\n",
      "Iteration 260 : Loss 1.6646\n",
      "Iteration 270 : Loss 1.6474\n",
      "Iteration 280 : Loss 1.6310\n",
      "Iteration 290 : Loss 1.6155\n",
      "Iteration 300 : Loss 1.6007\n",
      "Iteration 310 : Loss 1.5867\n",
      "Iteration 320 : Loss 1.5733\n",
      "Iteration 330 : Loss 1.5606\n",
      "Iteration 340 : Loss 1.5486\n",
      "Iteration 350 : Loss 1.5371\n",
      "Iteration 360 : Loss 1.5261\n",
      "Iteration 370 : Loss 1.5156\n",
      "Iteration 380 : Loss 1.5056\n",
      "Iteration 390 : Loss 1.4961\n",
      "Iteration 400 : Loss 1.4869\n",
      "Iteration 410 : Loss 1.4782\n",
      "Iteration 420 : Loss 1.4698\n",
      "Iteration 430 : Loss 1.4618\n",
      "Iteration 440 : Loss 1.4541\n",
      "Iteration 450 : Loss 1.4467\n",
      "Iteration 460 : Loss 1.4396\n",
      "Iteration 470 : Loss 1.4328\n",
      "Iteration 480 : Loss 1.4262\n",
      "Iteration 490 : Loss 1.4199\n",
      "Iteration 500 : Loss 1.4138\n",
      "Iteration 510 : Loss 1.4079\n",
      "Iteration 520 : Loss 1.4023\n",
      "Iteration 530 : Loss 1.3968\n",
      "Iteration 540 : Loss 1.3915\n",
      "Iteration 550 : Loss 1.3864\n",
      "Iteration 560 : Loss 1.3815\n",
      "Iteration 570 : Loss 1.3767\n",
      "Iteration 580 : Loss 1.3721\n",
      "Iteration 590 : Loss 1.3676\n",
      "Iteration 600 : Loss 1.3633\n",
      "Iteration 610 : Loss 1.3590\n",
      "Iteration 620 : Loss 1.3549\n",
      "Iteration 630 : Loss 1.3509\n",
      "Iteration 640 : Loss 1.3471\n",
      "Iteration 650 : Loss 1.3433\n",
      "Iteration 660 : Loss 1.3396\n",
      "Iteration 670 : Loss 1.3360\n",
      "Iteration 680 : Loss 1.3325\n",
      "Iteration 690 : Loss 1.3291\n",
      "Iteration 700 : Loss 1.3258\n",
      "Iteration 710 : Loss 1.3226\n",
      "Iteration 720 : Loss 1.3194\n",
      "Iteration 730 : Loss 1.3163\n",
      "Iteration 740 : Loss 1.3133\n",
      "Iteration 750 : Loss 1.3104\n",
      "Iteration 760 : Loss 1.3075\n",
      "Iteration 770 : Loss 1.3047\n",
      "Iteration 780 : Loss 1.3019\n",
      "Iteration 790 : Loss 1.2992\n",
      "Iteration 800 : Loss 1.2965\n",
      "Iteration 810 : Loss 1.2939\n",
      "Iteration 820 : Loss 1.2914\n",
      "Iteration 830 : Loss 1.2889\n",
      "Iteration 840 : Loss 1.2864\n",
      "Iteration 850 : Loss 1.2840\n",
      "Iteration 860 : Loss 1.2817\n",
      "Iteration 870 : Loss 1.2794\n",
      "Iteration 880 : Loss 1.2771\n",
      "Iteration 890 : Loss 1.2749\n",
      "Iteration 900 : Loss 1.2727\n",
      "Iteration 910 : Loss 1.2705\n",
      "Iteration 920 : Loss 1.2684\n",
      "Iteration 930 : Loss 1.2663\n",
      "Iteration 940 : Loss 1.2642\n",
      "Iteration 950 : Loss 1.2622\n",
      "Iteration 960 : Loss 1.2602\n",
      "Iteration 970 : Loss 1.2583\n",
      "Iteration 980 : Loss 1.2564\n",
      "Iteration 990 : Loss 1.2545\n",
      "Iteration 1000 : Loss 1.2526\n"
     ]
    }
   ],
   "source": [
    "losses = []\n",
    "\n",
    "for i in range(1, 1001):\n",
    "    dW, db = gradient(X_train, W, b, y_train)\n",
    "    W -= LEARNING_RATE * dW\n",
    "    b -= LEARNING_RATE * db\n",
    "    L = loss(X_train, W, b, y_train)\n",
    "    losses.append(L)\n",
    "    if i % 10 == 0:\n",
    "        print('Iteration %d : Loss %0.4f' % (i, L))"
   ]
  },
  {
   "cell_type": "code",
   "execution_count": 29,
   "id": "baf8141a",
   "metadata": {
    "scrolled": true
   },
   "outputs": [
    {
     "name": "stdout",
     "output_type": "stream",
     "text": [
      "Iteration 10 : Loss 72.1148\n",
      "Iteration 20 : Loss 66.6786\n",
      "Iteration 30 : Loss 61.6572\n",
      "Iteration 40 : Loss 57.0189\n",
      "Iteration 50 : Loss 52.7345\n",
      "Iteration 60 : Loss 48.7770\n",
      "Iteration 70 : Loss 45.1214\n",
      "Iteration 80 : Loss 41.7447\n",
      "Iteration 90 : Loss 38.6256\n",
      "Iteration 100 : Loss 35.7444\n",
      "Iteration 110 : Loss 33.0831\n",
      "Iteration 120 : Loss 30.6247\n",
      "Iteration 130 : Loss 28.3539\n",
      "Iteration 140 : Loss 26.2562\n",
      "Iteration 150 : Loss 24.3186\n",
      "Iteration 160 : Loss 22.5287\n",
      "Iteration 170 : Loss 20.8754\n",
      "Iteration 180 : Loss 19.3481\n",
      "Iteration 190 : Loss 17.9372\n",
      "Iteration 200 : Loss 16.6340\n",
      "Iteration 210 : Loss 15.4301\n",
      "Iteration 220 : Loss 14.3180\n",
      "Iteration 230 : Loss 13.2907\n",
      "Iteration 240 : Loss 12.3417\n",
      "Iteration 250 : Loss 11.4650\n",
      "Iteration 260 : Loss 10.6551\n",
      "Iteration 270 : Loss 9.9070\n",
      "Iteration 280 : Loss 9.2158\n",
      "Iteration 290 : Loss 8.5773\n",
      "Iteration 300 : Loss 7.9875\n",
      "Iteration 310 : Loss 7.4425\n",
      "Iteration 320 : Loss 6.9391\n",
      "Iteration 330 : Loss 6.4740\n",
      "Iteration 340 : Loss 6.0443\n",
      "Iteration 350 : Loss 5.6473\n",
      "Iteration 360 : Loss 5.2805\n",
      "Iteration 370 : Loss 4.9417\n",
      "Iteration 380 : Loss 4.6286\n",
      "Iteration 390 : Loss 4.3393\n",
      "Iteration 400 : Loss 4.0720\n",
      "Iteration 410 : Loss 3.8250\n",
      "Iteration 420 : Loss 3.5968\n",
      "Iteration 430 : Loss 3.3859\n",
      "Iteration 440 : Loss 3.1911\n",
      "Iteration 450 : Loss 3.0110\n",
      "Iteration 460 : Loss 2.8446\n",
      "Iteration 470 : Loss 2.6908\n",
      "Iteration 480 : Loss 2.5487\n",
      "Iteration 490 : Loss 2.4173\n",
      "Iteration 500 : Loss 2.2959\n",
      "Iteration 510 : Loss 2.1837\n",
      "Iteration 520 : Loss 2.0799\n",
      "Iteration 530 : Loss 1.9840\n",
      "Iteration 540 : Loss 1.8954\n",
      "Iteration 550 : Loss 1.8134\n",
      "Iteration 560 : Loss 1.7377\n",
      "Iteration 570 : Loss 1.6676\n",
      "Iteration 580 : Loss 1.6028\n",
      "Iteration 590 : Loss 1.5429\n",
      "Iteration 600 : Loss 1.4875\n",
      "Iteration 610 : Loss 1.4362\n",
      "Iteration 620 : Loss 1.3888\n",
      "Iteration 630 : Loss 1.3450\n",
      "Iteration 640 : Loss 1.3044\n",
      "Iteration 650 : Loss 1.2668\n",
      "Iteration 660 : Loss 1.2321\n",
      "Iteration 670 : Loss 1.1999\n",
      "Iteration 680 : Loss 1.1701\n",
      "Iteration 690 : Loss 1.1426\n",
      "Iteration 700 : Loss 1.1170\n",
      "Iteration 710 : Loss 1.0934\n",
      "Iteration 720 : Loss 1.0715\n",
      "Iteration 730 : Loss 1.0512\n",
      "Iteration 740 : Loss 1.0324\n",
      "Iteration 750 : Loss 1.0150\n",
      "Iteration 760 : Loss 0.9988\n",
      "Iteration 770 : Loss 0.9838\n",
      "Iteration 780 : Loss 0.9699\n",
      "Iteration 790 : Loss 0.9570\n",
      "Iteration 800 : Loss 0.9450\n",
      "Iteration 810 : Loss 0.9339\n",
      "Iteration 820 : Loss 0.9236\n",
      "Iteration 830 : Loss 0.9140\n",
      "Iteration 840 : Loss 0.9051\n",
      "Iteration 850 : Loss 0.8968\n",
      "Iteration 860 : Loss 0.8890\n",
      "Iteration 870 : Loss 0.8819\n",
      "Iteration 880 : Loss 0.8752\n",
      "Iteration 890 : Loss 0.8689\n",
      "Iteration 900 : Loss 0.8631\n",
      "Iteration 910 : Loss 0.8577\n",
      "Iteration 920 : Loss 0.8526\n",
      "Iteration 930 : Loss 0.8479\n",
      "Iteration 940 : Loss 0.8435\n",
      "Iteration 950 : Loss 0.8394\n",
      "Iteration 960 : Loss 0.8355\n",
      "Iteration 970 : Loss 0.8319\n",
      "Iteration 980 : Loss 0.8285\n",
      "Iteration 990 : Loss 0.8253\n",
      "Iteration 1000 : Loss 0.8223\n"
     ]
    }
   ],
   "source": [
    "losseslosses = []\n",
    "\n",
    "for i in range(1, 1001):\n",
    "    dWW, dbb = gradient(XX, WW, bb, yy)\n",
    "    WW -= LEARNING_RATE * dWW\n",
    "    bb -= LEARNING_RATE * dbb\n",
    "    LL = loss(XX, WW, bb, yy)\n",
    "    losseslosses.append(LL)\n",
    "    if i % 10 == 0:\n",
    "        print('Iteration %d : Loss %0.4f' % (i, LL))"
   ]
  },
  {
   "cell_type": "code",
   "execution_count": 30,
   "id": "aca11e40",
   "metadata": {},
   "outputs": [
    {
     "name": "stdout",
     "output_type": "stream",
     "text": [
      "[78.7836311625837, 30.51908584577195, 12.87703532117341, 6.425090691349203, 4.0622679299916085, 3.1937251377829234, 2.8712549305290676, 2.748363131118179, 2.69843361178672, 2.6751980858954965, 2.661748977448752, 2.651907703212482, 2.643416270117864, 2.635449348687162, 2.6277051348629903, 2.6200731327161697, 2.6125127555884546, 2.605008964510508, 2.5975560575820436, 2.59015174627699, 2.5827949907970065, 2.575485209056546, 2.5682219876204653, 2.5610049760651883, 2.5538338483665908, 2.546708288780842, 2.5396279866755385, 2.532592634631517, 2.5256019277399027, 2.5186555633359866, 2.51175324089279, 2.5048946619730508, 2.4980795302026175, 2.491307551251729, 2.4845784328192413, 2.4778918846179896, 2.4712476183606285, 2.4646453477457095, 2.458084788443901, 2.4515656580843284, 2.4450876762410094, 2.438650564419389, 2.432254046042969, 2.4258978464400296, 2.4195816928304437, 2.4133053143125807, 2.4070684418503077, 2.400870808260068, 2.3947121481980655, 2.3885921981475238, 2.382510696406044, 2.376467383073041, 2.3704620000372767, 2.36449429096447, 2.358564001285001, 2.352670878181694, 2.3468146705776887, 2.3409951291243978, 2.3352120061895394, 2.329465055845263, 2.323754033856351, 2.318078697668504, 2.3124388063967083, 2.3068341208136784, 2.3012644033383927, 2.2957294180246923, 2.2902289305499726, 2.2847627082039415, 2.2793305198774685, 2.2739321360514984, 2.2685673287860517, 2.2632358717092935, 2.257937540006687, 2.2526721104102116, 2.2474393611876646, 2.242239072132032, 2.2370710245509384, 2.231935001256161, 2.226830786553226, 2.221758166231072, 2.2167169275517837, 2.211706859240401, 2.206727751474798, 2.201779395875627, 2.1968615854963405, 2.1919741148132754, 2.187116779715809, 2.1822893774965837, 2.177491706841797, 2.1727235678215626, 2.1679847618803354, 2.163275091827402, 2.1585943618274412, 2.1539423773911457, 2.149318945365911, 2.1447238739265906, 2.1401569725663103, 2.13561805208735, 2.1311069245920886, 2.1266234034740097, 2.1221673034087734, 2.117738440345343, 2.113336631497181, 2.1089616953335026, 2.1046134515705877, 2.1002917211631593, 2.095996326295813, 2.0917270903745147, 2.087483838018152, 2.083266395050145, 2.079074588490115, 2.0749082465456135, 2.070767198603905, 2.0666512752238106, 2.062560308127603, 2.058494130192963, 2.0544525754449885, 2.050435479048261, 2.0464426772989617, 2.0424740076170536, 2.038529308538504, 2.0346084197075713, 2.030711181869141, 2.0268374368611135, 2.022987027606849, 2.019159798107661, 2.015355593435363, 2.0115742597248674, 2.007815644166836, 2.0040795950003787, 2.0003659615058056, 1.9966745939974317, 1.9930053438164232, 1.989358063323703, 1.985732605892896, 1.9821288259033345, 1.9785465787331018, 1.9749857207521262, 1.9714461093153302, 1.967927602755817, 1.96443006037811, 1.960953342451441, 1.9574973102030766, 1.9540618258117004, 1.950646752400836, 1.9472519540323159, 1.9438772956997954, 1.940522643322313, 1.9371878637378976, 1.9338728246972117, 1.9305773948572478, 1.927301443775064, 1.9240448419015628, 1.920807460575315, 1.9175891720164262, 1.9143898493204423, 1.9112093664523033, 1.9080475982403315, 1.9049044203702707, 1.9017797093793558, 1.8986733426504347, 1.8955851984061212, 1.8925151557029942, 1.8894630944258366, 1.886428895281911, 1.8834124397952792, 1.8804136103011586, 1.8774322899403153, 1.8744683626535028, 1.8715217131759334, 1.86859222703179, 1.8656797905287756, 1.8627842907527012, 1.8599056155621099, 1.8570436535829407, 1.8541982942032245, 1.851369427567825, 1.8485569445732055, 1.8457607368622413, 1.8429806968190627, 1.8402167175639352, 1.837468692948177, 1.8347365175491066, 1.8320200866650327, 1.8293192963102718, 1.8266340432102046, 1.8239642247963666, 1.8213097392015678, 1.8186704852550557, 1.8160463624777012, 1.8134372710772242, 1.8108431119434532, 1.8082637866436106, 1.8056991974176397, 1.8031492471735593, 1.8006138394828475, 1.7980928785758654, 1.7955862693373057, 1.7930939173016747, 1.790615728648808, 1.7881516101994148, 1.7857014694106517, 1.7832652143717325, 1.7808427537995621, 1.7784339970344052, 1.7760388540355825, 1.773657235377198, 1.7712890522438953, 1.768934216426644, 1.7665926403185548, 1.7642642369107213, 1.7619489197880973, 1.7596466031253928, 1.7573572016830092, 1.7550806308029925, 1.7528168064050245, 1.7505656449824307, 1.7483270635982262, 1.7461009798811837, 1.7438873120219271, 1.741685978769059, 1.7394968994253068, 1.7373199938437, 1.7351551824237754, 1.733002386107805, 1.730861526377051, 1.728732525248049, 1.7266153052689137, 1.7245097895156718, 1.722415901588622, 1.720333565608715, 1.7182627062139664, 1.716203248555886, 1.7141551182959383, 1.7121182416020235, 1.7100925451449862, 1.7080779560951453, 1.706074402118849, 1.7040818113750549, 1.7021001125119308, 1.7001292346634835, 1.6981691074462064, 1.6962196609557532, 1.6942808257636326, 1.69235253291393, 1.6904347139200435, 1.6885273007614539, 1.6866302258805073, 1.684743422179225, 1.6828668230161334, 1.6810003622031189, 1.6791439740022998, 1.6772975931229233, 1.675461154718284, 1.6736345943826623, 1.6718178481482833, 1.6700108524823007, 1.6682135442837966, 1.6664258608808047, 1.664647740027355, 1.6628791199005368, 1.6611199390975828, 1.6593701366329743, 1.6576296519355653, 1.6558984248457267, 1.6541763956125106, 1.6524635048908347, 1.650759693738685, 1.6490649036143379, 1.6473790763736043, 1.6457021542670882, 1.6440340799374675, 1.6423747964167927, 1.6407242471238062, 1.6390823758612738, 1.6374491268133449, 1.6358244445429215, 1.63420827398905, 1.6326005604643303, 1.6310012496523443, 1.6294102876050967, 1.6278276207404838, 1.6262531958397666, 1.624686960045074, 1.6231288608569137, 1.621578846131706, 1.6200368640793332, 1.6185028632607048, 1.6169767925853404, 1.6154586013089702, 1.6139482390311508, 1.6124456556928968, 1.6109508015743312, 1.6094636272923515, 1.60798408379831, 1.6065121223757108, 1.6050476946379257, 1.6035907525259208, 1.6021412483060034, 1.6006991345675825, 1.5992643642209434, 1.5978368904950428, 1.5964166669353104, 1.5950036474014766, 1.5935977860654051, 1.592199037408947, 1.5908073562218084, 1.589422697599429, 1.5880450169408835, 1.586674269946786, 1.5853104126172228, 1.5839534012496845, 1.5826031924370265, 1.5812597430654327, 1.5799230103123987, 1.5785929516447303, 1.5772695248165505, 1.575952687867325, 1.5746423991198975, 1.573338617178544, 1.5720413009270353, 1.5707504095267149, 1.5694659024145896, 1.5681877393014363, 1.566915880169917, 1.5656502852727094, 1.5643909151306536, 1.5631377305309042, 1.5618906925251004, 1.5606497624275513, 1.559414901813425, 1.558186072516958, 1.5569632366296755, 1.55574635649862, 1.554535394724597, 1.5533303141604313, 1.5521310779092343, 1.5509376493226816, 1.549749991999309, 1.548568069782813, 1.5473918467603693, 1.5462212872609549, 1.5450563558536912, 1.5438970173461928, 1.542743236782928, 1.5415949794435921, 1.5404522108414924, 1.5393148967219425, 1.5381830030606685, 1.5370564960622268, 1.5359353421584325, 1.5348195080067988, 1.5337089604889855, 1.532603666709263, 1.5315035939929782, 1.5304087098850425, 1.5293189821484185, 1.528234378762629, 1.5271548679222644, 1.526080418035509, 1.5250109977226747, 1.523946575814744, 1.5228871213519242, 1.5218326035822107, 1.5207829919599625, 1.519738256144484, 1.5186983659986195, 1.5176632915873554, 1.5166330031764335, 1.5156074712309746, 1.5145866664141086, 1.5135705595856164, 1.5125591218005814, 1.5115523243080489, 1.5105501385496964, 1.509552536158511, 1.508559488957476, 1.5075709689582721, 1.5065869483599785, 1.5056073995477899, 1.5046322950917392, 1.503661607745432, 1.502695310444783, 1.5017333763067722, 1.5007757786281988, 1.4998224908844489, 1.4988734867282745, 1.497928739988573, 1.4969882246691815, 1.49605191494768, 1.4951197851741957, 1.4941918098702258, 1.4932679637274573, 1.4923482216066062, 1.4914325585362547, 1.4905209497117045, 1.4896133704938306, 1.4887097964079505, 1.4878102031426954, 1.4869145665488923, 1.4860228626384524, 1.4851350675832673, 1.484251157714114, 1.4833711095195674, 1.4824948996449154, 1.4816225048910932, 1.4807539022136087, 1.4798890687214907, 1.479027981676235, 1.4781706184907604, 1.4773169567283722, 1.4764669741017336, 1.475620648471841, 1.4747779578470122, 1.4739388803818743, 1.473103394376364, 1.4722714782747353, 1.471443110664566, 1.4706182702757833, 1.4697969359796859, 1.4689790867879777, 1.4681647018518085, 1.4673537604608182, 1.4665462420421893, 1.4657421261597072, 1.4649413925128265, 1.46414402093574, 1.4633499913964612, 1.4625592839959052, 1.4617718789669847, 1.460987756673701, 1.4602068976102545, 1.459429282400149, 1.458654891795312, 1.4578837066752135, 1.457115708045995, 1.4563508770396074, 1.4555891949129447, 1.454830643046995, 1.454075202945991, 1.453322856236567, 1.4525735846669243, 1.4518273701059985, 1.4510841945426376, 1.4503440400847802, 1.4496068889586426, 1.4488727235079126, 1.4481415261929447, 1.4474132795899646, 1.4466879663902785, 1.4459655693994866, 1.4452460715367026, 1.4445294558337787, 1.4438157054345375, 1.4431048035940042, 1.442396733677652, 1.441691479160644, 1.440989023627088, 1.4402893507692907, 1.4395924443870207, 1.4388982883867747, 1.4382068667810501, 1.43751816368762, 1.4368321633288168, 1.4361488500308184, 1.4354682082229406, 1.4347902224369318, 1.4341148773062768, 1.4334421575655008, 1.432772048049483, 1.4321045336927694, 1.4314395995288962, 1.4307772306897137, 1.4301174124047145, 1.4294601300003718, 1.4288053688994744, 1.428153114620474, 1.4275033527768304, 1.4268560690763654, 1.4262112493206207, 1.4255688794042172, 1.4249289453142235, 1.4242914331295249, 1.4236563290201973, 1.4230236192468886, 1.422393290160199, 1.42176532820007, 1.4211397198951767, 1.4205164518623234, 1.4198955108058418, 1.4192768835169975, 1.418660556873399, 1.418046517838407, 1.4174347534605516, 1.4168252508729569, 1.416217997292759, 1.4156129800205393, 1.4150101864397548, 1.4144096040161755, 1.4138112202973225, 1.4132150229119151, 1.4126209995693153, 1.4120291380589822, 1.4114394262499268, 1.410851852090169, 1.4102664036062043, 1.4096830689024666, 1.409101836160801, 1.4085226936399382, 1.4079456296749684, 1.4073706326768265, 1.4067976911317752, 1.4062267936008932, 1.4056579287195672, 1.4050910851969864, 1.404526251815643, 1.4039634174308333, 1.403402570970163, 1.4028437014330575, 1.4022867978902727, 1.401731849483413, 1.4011788454244483, 1.4006277749952378, 1.400078627547055, 1.3995313925001167, 1.3989860593431163, 1.398442617632758, 1.3979010569932961, 1.3973613671160767, 1.3968235377590823, 1.396287558746481, 1.3957534199681763, 1.3952211113793638, 1.3946906230000846, 1.39416194491479, 1.393635067271902, 1.3931099802833817, 1.3925866742242972, 1.392065139432397, 1.3915453663076855, 1.391027345312, 1.390511066968593, 1.3899965218617163, 1.3894837006362077, 1.3889725939970807, 1.3884631927091164, 1.3879554875964604, 1.3874494695422195, 1.3869451294880637, 1.3864424584338293, 1.3859414474371254, 1.3854420876129436, 1.3849443701332682, 1.3844482862266934, 1.3839538271780372, 1.383460984327964, 1.3829697490726047, 1.3824801128631832, 1.381992067205644, 1.3815056036602806, 1.3810207138413702, 1.3805373894168078, 1.3800556221077445, 1.3795754036882255, 1.379096725984837, 1.3786195808763477, 1.3781439602933565, 1.3776698562179452, 1.3771972606833276, 1.3767261657735075, 1.376256563622932, 1.3757884464161547, 1.375321806387496, 1.374856635820706, 1.374392927048633, 1.3739306724528917, 1.3734698644635337, 1.3730104955587197, 1.3725525582643991, 1.3720960451539834, 1.3716409488480277, 1.3711872620139138, 1.3707349773655328, 1.3702840876629743, 1.3698345857122114, 1.3693864643647953, 1.3689397165175443, 1.3684943351122438, 1.3680503131353388, 1.3676076436176359, 1.3671663196340025, 1.3667263343030724, 1.36628768078695, 1.365850352290918, 1.3654143420631457, 1.3649796433944024, 1.3645462496177687, 1.364114154108355, 1.3636833502830132, 1.3632538316000626, 1.362825591559007, 1.3623986237002579, 1.361972921604861, 1.3615484788942225, 1.3611252892298373, 1.3607033463130203, 1.3602826438846387, 1.3598631757248458, 1.359444935652818, 1.359027917526492, 1.358612115242305, 1.3581975227349357, 1.3577841339770476, 1.357371942979035, 1.3569609437887697, 1.356551130491347, 1.3561424972088394, 1.3557350381000468, 1.3553287473602498, 1.3549236192209668, 1.3545196479497095, 1.3541168278497415, 1.3537151532598395, 1.3533146185540559, 1.35291521814148, 1.352516946466006, 1.352119798006098, 1.3517237672745588, 1.3513288488183017, 1.3509350372181186, 1.3505423270884567, 1.3501507130771917, 1.3497601898654035, 1.349370752167155, 1.3489823947292712, 1.3485951123311195, 1.3482088997843935, 1.3478237519328953, 1.3474396636523207, 1.3470566298500473, 1.3466746454649225, 1.3462937054670527, 1.3459138048575938, 1.345534938668545, 1.3451571019625423, 1.3447802898326542, 1.3444044974021785, 1.3440297198244393, 1.3436559522825868, 1.3432831899894027, 1.3429114281870933, 1.3425406621471039, 1.3421708871699145, 1.3418020985848527, 1.341434291749898, 1.3410674620514906, 1.3407016049043448, 1.3403367157512565, 1.3399727900629204, 1.3396098233377387, 1.3392478111016424, 1.3388867489079046, 1.3385266323369576, 1.3381674569962156, 1.3378092185198913, 1.3374519125688216, 1.3370955348302864, 1.3367400810178347, 1.3363855468711112, 1.3360319281556792, 1.3356792206628516, 1.3353274202095182, 1.3349765226379764, 1.3346265238157617, 1.3342774196354803, 1.3339292060146424, 1.3335818788954974, 1.3332354342448691, 1.3328898680539933, 1.3325451763383538, 1.3322013551375245, 1.3318584005150067, 1.3315163085580737, 1.331175075377608, 1.3308346971079499, 1.3304951699067407, 1.3301564899547658, 1.3298186534558034, 1.329481656636473, 1.329145495746082, 1.3288101670564763, 1.3284756668618922, 1.3281419914788055, 1.3278091372457879, 1.3274771005233574, 1.3271458776938352, 1.3268154651612012, 1.326485859350949, 1.3261570567099468, 1.325829053706294, 1.3255018468291806, 1.3251754325887488, 1.3248498075159552, 1.3245249681624323, 1.3242009111003508, 1.3238776329222863, 1.3235551302410844, 1.323233399689726, 1.322912437921193, 1.3225922416083407, 1.3222728074437624, 1.3219541321396626, 1.3216362124277234, 1.3213190450589822, 1.3210026268036985, 1.3206869544512312, 1.3203720248099107, 1.3200578347069138, 1.3197443809881426, 1.319431660518097, 1.319119670179755, 1.3188084068744512, 1.3184978675217558, 1.3181880490593532, 1.317878948442925, 1.3175705626460308, 1.3172628886599913, 1.316955923493769, 1.3166496641738579, 1.3163441077441622, 1.3160392512658867, 1.31573509181742, 1.3154316264942238, 1.3151288524087208, 1.3148267666901823, 1.314525366484619, 1.31422464895467, 1.313924611279495, 1.3136252506546657, 1.3133265642920582, 1.313028549419746, 1.3127312032818956, 1.312434523138658, 1.3121385062660673, 1.311843149955935, 1.311548451515747, 1.3112544082685629, 1.310961017552911, 1.31066827672269, 1.3103761831470677, 1.310084734210381, 1.3097939273120367, 1.309503759866414, 1.3092142293027662, 1.3089253330651238, 1.3086370686121975, 1.308349433417284, 1.3080624249681692, 1.3077760407670356, 1.307490278330366, 1.3072051351888527, 1.3069206088873049, 1.3066366969845549, 1.3063533970533678, 1.3060707066803519, 1.3057886234658678, 1.305507145023938, 1.3052262689821599, 1.304945992981617, 1.3046663146767894, 1.3043872317354708, 1.304108741838678, 1.3038308426805674, 1.3035535319683484, 1.303276807422201, 1.3030006667751874, 1.3027251077731745, 1.302450128174745, 1.3021757257511184, 1.3019018982860686, 1.301628643575842, 1.3013559594290773, 1.3010838436667242, 1.3008122941219664, 1.300541308640139, 1.3002708850786517, 1.3000010213069129, 1.2997317152062464, 1.2994629646698204, 1.299194767602568, 1.2989271219211116, 1.2986600255536878, 1.298393476440072, 1.298127472531505, 1.2978620117906177, 1.2975970921913584, 1.2973327117189197, 1.297068868369667, 1.2968055601510649, 1.2965427850816067, 1.2962805411907434, 1.2960188265188133, 1.2957576391169705, 1.2954969770471187, 1.295236838381839, 1.2949772212043207, 1.2947181236082983, 1.2944595436979778, 1.2942014795879717, 1.293943929403234, 1.2936868912789916, 1.2934303633606787, 1.2931743438038728, 1.292918830774228, 1.2926638224474114, 1.2924093170090394, 1.2921553126546121, 1.291901807589453, 1.2916488000286424, 1.2913962881969583, 1.291144270328814, 1.2908927446681944, 1.2906417094685967, 1.2903911629929692, 1.2901411035136505, 1.2898915293123103, 1.2896424386798897, 1.2893938299165424, 1.2891457013315735, 1.288898051243386, 1.2886508779794184, 1.2884041798760888, 1.2881579552787379, 1.2879122025415723, 1.287666920027609, 1.2874221061086162, 1.2871777591650602, 1.286933877586051, 1.2866904597692854, 1.2864475041209924, 1.2862050090558814, 1.2859629729970854, 1.2857213943761103, 1.2854802716327791, 1.2852396032151823, 1.2849993875796226, 1.2847596231905645, 1.284520308520583, 1.2842814420503108, 1.2840430222683885, 1.2838050476714142, 1.2835675167638914, 1.2833304280581816, 1.2830937800744522, 1.2828575713406298, 1.2826218003923486, 1.2823864657729043, 1.2821515660332037, 1.2819170997317175, 1.2816830654344338, 1.281449461714809, 1.2812162871537214, 1.2809835403394252, 1.2807512198675035, 1.2805193243408217, 1.2802878523694834, 1.2800568025707824, 1.2798261735691605, 1.279595963996161, 1.2793661724903838, 1.2791367976974408, 1.278907838269915, 1.278679292867314, 1.2784511601560264, 1.2782234388092806, 1.2779961275071003, 1.2777692249362633, 1.277542729790259, 1.2773166407692458, 1.2770909565800097, 1.276865675935924, 1.2766407975569056, 1.2764163201693781, 1.276192242506227, 1.2759685633067628, 1.275745281316679, 1.275522395288013, 1.2752999039791066, 1.2750778061545676, 1.2748561005852288, 1.2746347860481113, 1.2744138613263853, 1.2741933252093314, 1.2739731764923037, 1.273753413976692, 1.2735340364698835, 1.2733150427852256, 1.2730964317419904, 1.272878202165337, 1.2726603528862757, 1.27244288274163, 1.2722257905740033, 1.2720090752317412, 1.2717927355688965, 1.2715767704451948, 1.2713611787259986, 1.271145959282273, 1.270931110990551, 1.2707166327328983, 1.270502523396881, 1.2702887818755313, 1.2700754070673117, 1.269862397876085, 1.2696497532110786, 1.2694374719868526, 1.2692255531232672, 1.2690139955454485, 1.2688027981837589, 1.2685919599737634, 1.2683814798561968, 1.268171356776935, 1.2679615896869605, 1.2677521775423324, 1.2675431193041553, 1.2673344139385492, 1.2671260604166177, 1.2669180577144177, 1.2667104048129296, 1.266503100698028, 1.2662961443604501, 1.2660895347957672, 1.2658832710043555, 1.265677351991366, 1.2654717767666965, 1.2652665443449616, 1.2650616537454642, 1.2648571039921688, 1.2646528941136705, 1.2644490231431693, 1.2642454901184401, 1.2640422940818072, 1.2638394340801138, 1.2636369091646988, 1.2634347183913652, 1.2632328608203562, 1.263031335516327, 1.262830141548318, 1.2626292779897306, 1.2624287439182964, 1.2622285384160556, 1.2620286605693294, 1.261829109468693, 1.261629884208952, 1.2614309838891151, 1.2612324076123709, 1.2610341544860604, 1.2608362236216546, 1.260638614134727, 1.2604413251449318, 1.260244355775978, 1.2600477051556036, 1.2598513724155551, 1.2596553566915605, 1.259459657123306, 1.2592642728544148, 1.2590692030324189, 1.2588744468087405, 1.2586800033386667, 1.2584858717813254, 1.2582920512996647, 1.2580985410604288, 1.2579053402341358, 1.257712447995054, 1.2575198635211826, 1.2573275859942257, 1.2571356145995745, 1.2569439485262814, 1.2567525869670413, 1.2565615291181678, 1.2563707741795735, 1.2561803213547484, 1.2559901698507379, 1.2558003188781226, 1.255610767650996, 1.255421515386947, 1.2552325613070352, 1.2550439046357738, 1.254855544601107, 1.254667480434391, 1.2544797113703738, 1.2542922366471752, 1.254105055506266, 1.2539181671924506, 1.2537315709538457, 1.2535452660418598, 1.2533592517111773, 1.2531735272197366, 1.252988091828712, 1.2528029448024942, 1.2526180854086728]\n",
      "[77.39023394559999, 76.78528851916595, 76.18512560127913, 75.58970737396146, 74.99899631829169, 74.41295521204047, 73.83154712732419, 73.25473542827748, 72.68248376874371, 72.11475608998425, 71.55151661840551, 70.99272986330416, 70.43836061462989, 69.88837394076633, 69.34273518632897, 68.80140996998098, 68.26436418226591, 67.73156398345786, 67.20297580142847, 66.67856632953063, 66.15830252449936, 65.64215160436888, 65.13008104640633, 64.62205858506178, 64.1180522099345, 63.61803016375528, 63.121960940384746, 62.62981328282736, 62.14155618126134, 61.65715887108403, 61.17659083097273, 60.69982178096086, 60.226821680529426, 59.75756072671345, 59.29200935222345, 58.83013822358178, 58.37191823927365, 57.91732052791284, 57.46631644642184, 57.01887757822651, 56.574975731464804, 56.134582937209906, 55.69767144770721, 55.264213734625386, 54.83418248732123, 54.40755061111811, 53.98429122559829, 53.564377662908534, 53.147783466079126, 52.7344823873564, 52.32444838654813, 51.91765562938228, 51.51407848587854, 51.11369152873293, 50.71646953171493, 50.322387468077565, 49.931420508979826, 49.54354402192174, 49.15873356919167, 48.77696490632597, 48.39821398058091, 48.02245692941644, 47.64967007899223, 47.279829942675335, 46.91291321955994, 46.54889679299851, 46.18775772914485, 45.82947327550843, 45.47402085952031, 45.121378087110344, 44.77152274129567, 44.42443278078024, 44.08008633856567, 43.7384617205728, 43.399537404274305, 43.063292037338144, 42.729704436281615, 42.3987535851362, 42.070418634122824, 41.74467889833771, 41.42151385644852, 41.100903149400914, 40.782826579135254, 40.46726410731351, 40.15419585405617, 39.843602096689224, 39.535463268501, 39.22975995750877, 38.926472905235315, 38.6255830054949, 38.32707130318907, 38.03091899311183, 37.73710741876437, 37.44561807117903, 37.15643258775273, 36.86953275108954, 36.58490048785233, 36.30251786762368, 36.02236710177563, 35.74443054234846, 35.468690680938295, 35.19513014759355, 34.92373170972003, 34.65447827099479, 34.38735287028847, 34.12233868059622, 33.859419007977095, 33.598577290501815, 33.33979709720878, 33.08306212706848, 32.828356207955935, 32.5756632956314, 32.32496747272907, 32.076252947753716, 31.82950405408544, 31.584705248992048, 31.34184111264948, 31.10089634716984, 30.86185577563709, 30.624704341150515, 30.389427105875605, 30.15600925010251, 29.92443607131196, 29.694692983248512, 29.466765515001157, 29.24063931009122, 29.016300125567426, 28.79373383110817, 28.572926408130833, 28.353863948908174, 28.13653265569176, 27.92091883984218, 27.70700892096631, 27.49478942606128, 27.284246988665267, 27.075368348014983, 26.868140348209824, 26.662549937382646, 26.458584166877067, 26.256230190431342, 26.055475263368585, 25.856306741793492, 25.658712081795368, 25.462678838657457, 25.26819466607256, 25.075247315364805, 24.883824634717612, 24.693914568407738, 24.50550515604538, 24.318584531820328, 24.133140923754002, 23.94916265295749, 23.76663813289539, 23.585555868655494, 23.40590445622425, 23.22767258176797, 23.050849020919667, 22.875422638071615, 22.701382385673423, 22.528717303535707, 22.357416518139228, 22.18746924194958, 22.01886477273718, 21.851592492902732, 21.685641868807938, 21.521002450111606, 21.357663869110922, 21.19561584008797, 21.03484815866139, 20.875350701143212, 20.71711342390073, 20.560126362723448, 20.40437963219501, 20.24986342507013, 20.096568011656426, 19.94448373920112, 19.793601031282652, 19.643910387207036, 19.495402381409043, 19.348067662858092, 19.201896954468815, 19.056881052516342, 18.9130108260562, 18.770277216348724, 18.628671236288092, 18.48818396983591, 18.34880657145915, 18.21053026557265, 18.073346345985964, 17.93724617535461, 17.802221184635627, 17.668262872547523, 17.53536280503433, 17.403512614734083, 17.272704000451373, 17.142928726634135, 17.01417862285453, 16.886445583293977, 16.759721566232223, 16.63399859354047, 16.509268750178496, 16.385524183695775, 16.26275710373654, 16.14095978154871, 16.02012454949678, 15.900243800578494, 15.781309987945392, 15.6633156244271, 15.546253282059434, 15.430115591616195, 15.314895242144672, 15.200584980504837, 15.087177610912187, 14.974665994484141, 14.863043048790132, 14.752301747405124, 14.642435119466821, 14.533436249236203, 14.425298275661657, 14.318014391946528, 14.21157784512007, 14.105981935611808, 14.001220016829222, 13.897285494738878, 13.794171827450743, 13.69187252480586, 13.59038114796727, 13.489691309014171, 13.389796670539294, 13.29069094524942, 13.192367895569111, 13.094821333247552, 12.998045118968488, 12.90203316196327, 12.806779419626945, 12.712277897137387, 12.618522647077443, 12.52550776906006, 12.433227409356377, 12.341675760526774, 12.250847061054811, 12.160735594984088, 12.071335691557945, 11.982641724862052, 11.89464811346981, 11.807349320090525, 11.720739851220399, 11.634814256796295, 11.54956712985218, 11.464993106178346, 11.381086863983299, 11.297843123558309, 11.215256646944644, 11.133322237603418, 11.052034740088034, 10.971389039719256, 10.89138006226282, 10.812002773609601, 10.733252179458306, 10.655123325000698, 10.577611294609275, 10.500711211527445, 10.424418237562147, 10.34872757277889, 10.273634455199218, 10.199134160500543, 10.125222001718408, 10.05189332895102, 9.979143529066206, 9.906968025410624, 9.835362277521291, 9.764321780839422, 9.693842066426482, 9.62391870068252, 9.554547285066707, 9.485723455820116, 9.41744288369066, 9.349701273660212, 9.282494364673912, 9.215817929371568, 9.149667773821221, 9.084039737254795, 9.018929691805845, 8.954333542249374, 8.89024722574372, 8.826666711574468, 8.763588000900395, 8.701007126501423, 8.638920152528575, 8.577323174255877, 8.516212317834256, 8.455583740047391, 8.395433628069442, 8.335758199224745, 8.276553700749389, 8.217816409554683, 8.159542631992485, 8.101728703622395, 8.044370988980788, 7.987465881351663, 7.931009802539319, 7.874999202642829, 7.8194305598322815, 7.764300380126795, 7.709605197174318, 7.655341572033111, 7.601506092955023, 7.548095375170433, 7.495106060674912, 7.442534818017577, 7.390378342091099, 7.338633353923393, 7.287296600470938, 7.236364854413752, 7.185834913951962, 7.135703602604005, 7.085967769006411, 7.036624286715177, 6.987670054008712, 6.939101993692328, 6.8909170529043, 6.843112202923424, 6.795684438978158, 6.748630780057184, 6.701948268721557, 6.655633970918278, 6.609684975795372, 6.564098395518417, 6.5188713650885175, 6.4740010421617455, 6.4294846068699725, 6.385319261643145, 6.341502231032949, 6.298030761537884, 6.254902121429704, 6.212113600581248, 6.169662510295614, 6.127546183136702, 6.085761972761081, 6.0443072537512, 6.003179421449905, 5.962375891796266, 5.921894101162721, 5.881731506193479, 5.841885583644228, 5.802353830223082, 5.763133762432814, 5.724222916414324, 5.685618847791339, 5.647319131516349, 5.609321361717761, 5.571623151548259, 5.534222133034364, 5.497115956927188, 5.460302292554354, 5.423778827673106, 5.387543268324575, 5.351593338689183, 5.315926780943204, 5.280541355116463, 5.245434838951157, 5.210605027761774, 5.17604973429615, 5.1417667885975975, 5.107754037868154, 5.074009346332877, 5.040530595105242, 5.007315682053589, 4.974362521668623, 4.941669044931972, 4.90923319918579, 4.877052948003366, 4.845126271060785, 4.8134511640095825, 4.7820256383504125, 4.750847721307727, 4.7199154557054275, 4.689226899843507, 4.658780127375678, 4.628573227187951, 4.598604303278176, 4.568871474636561, 4.53937287512709, 4.510106653369928, 4.481070972624716, 4.452264010674812, 4.423683959712448, 4.395329026224776, 4.36719743088083, 4.339287408419382, 4.311597207537689, 4.284125090781092, 4.256869334433526, 4.229828228408878, 4.203000076143195, 4.176383194487764, 4.149975913603017, 4.1237765768532935, 4.097783540702428, 4.071995174610156, 4.046409860929348, 4.02102599480406, 3.995841984068369, 3.970856249146044, 3.9460672229509717, 3.9214733507883954, 3.8970730902569253, 3.8728649111513334, 3.848847295366094, 3.8250187367997177, 3.8013777412598166, 3.7779228263689326, 3.754652521471111, 3.7315653675392007, 3.7086599170829104, 3.685934734057569, 3.6633883937736114, 3.641019482806802, 3.618826598909132, 3.5968083509204574, 3.5749633586808054, 3.553290252943394, 3.5317876752883386, 3.510454278037026, 3.4892887241671806, 3.468289687228593, 3.447455851259523, 3.4267859107037593, 3.4062785703283316, 3.3859325451418814, 3.3657465603136663, 3.3457193510932215, 3.325849662730648, 3.306136250397522, 3.2865778791084437, 3.2671733236432, 3.247921368469548, 3.2288208076665987, 3.209870444848818, 3.191069093090623, 3.172415574851567, 3.1539087219021438, 3.1355473752501335, 3.117330385067579, 3.0992566106183026, 3.081324920186019, 3.0635341910030074, 3.0458833091793425, 3.0283711696327016, 3.0109966760187064, 2.9937587406618293, 2.9766562844868463, 2.9596882369508215, 2.9428535359756434, 2.9261511278810817, 2.9095799673183818, 2.8931390172043794, 2.8768272486561406, 2.8606436409261216, 2.8445871813378214, 2.828656865221979, 2.8128516958532317, 2.7971706843873174, 2.7816128497987407, 2.7661772188189517, 2.750862825874996, 2.735668713028673, 2.72059392991615, 2.7056375336880776, 2.6907985889501576, 2.676076167704199, 2.6614693492896264, 2.646977220325457, 2.632598874652735, 2.618333413277426, 2.6041799443137554, 2.5901375829279973, 2.5762054512827133, 2.562382678481422, 2.54866840051372, 2.535061760200819, 2.521561907141532, 2.508167997658674, 2.494879194745892, 2.4816946680149123, 2.468613593643205, 2.455635154322075, 2.4427585392051343, 2.4299829438572145, 2.4173075702036657, 2.4047316264800593, 2.392254327182282, 2.3798748930170417, 2.367592550852747, 2.355406533670785, 2.343316080517182, 2.331320436454648, 2.3194188525149904, 2.307610585651924, 2.2958948986942302, 2.284271060299313, 2.272738344907092, 2.261296032694292, 2.2499434095290662, 2.238679766925995, 2.227504402001437, 2.216416617429226, 2.205415721396734, 2.1945010275612633, 2.1836718550067973, 2.1729275282010847, 2.162267376953069, 2.1516907363706497, 2.1411969468187806, 2.1307853538779002, 2.1204553083026902, 2.110206165981153, 2.1000372878940303, 2.0899480400745167, 2.079937793568319, 2.070005924394017, 2.060151813503732, 2.0503748467441265, 2.0406744148176834, 2.031049913244322, 2.0215007423233007, 2.012026307095419, 2.002626017305524, 1.9932992873653137, 1.9840455363164378, 1.9748641877938773, 1.965754669989627, 1.956716415616657, 1.9477488618731678, 1.9388514504071186, 1.9300236272810416, 1.9212648429371293, 1.9125745521626079, 1.903952214055375, 1.895397291989913, 1.8869092535834695, 1.8784875706625108, 1.8701317192294329, 1.8618411794295433, 1.8536154355182977, 1.8454539758288022, 1.8373562927395628, 1.8293218826425008, 1.8213502459112145, 1.813440886869493, 1.80559331376008, 1.7978070387136889, 1.7900815777182473, 1.782416450588406, 1.7748111809352722, 1.7672652961363955, 1.7597783273059768, 1.7523498092653225, 1.7449792805135345, 1.7376662831984198, 1.7304103630876475, 1.7232110695401164, 1.7160679554775604, 1.7089805773563747, 1.7019484951396624, 1.6949712722695112, 1.6880484756394771, 1.6811796755672959, 1.6743644457677997, 1.6676023633260617, 1.6608930086707396, 1.65423596554764, 1.647630820993486, 1.6410771653098943, 1.6345745920375574, 1.6281226979306296, 1.62172108293132, 1.6153693501446782, 1.6090671058135833, 1.602813959293939, 1.5966095230300472, 1.5904534125301926, 1.5843452463424124, 1.5782846460304572, 1.572271236149949, 1.5663046442247184, 1.560384500723333, 1.5545104390358155, 1.5486820954505383, 1.5428991091313076, 1.537161122094623, 1.5314677791871212, 1.5258187280631974, 1.5202136191628002, 1.514652105689407, 1.5091338435881716, 1.5036584915242408, 1.4982257108612504, 1.492835165639985, 1.4874865225572038, 1.4821794509446486, 1.4769136227481954, 1.4716887125071956, 1.4665043973339564, 1.4613603568934037, 1.4562562733828908, 1.4511918315121775, 1.4461667184835625, 1.4411806239721738, 1.4362332401064097, 1.4313242614485495, 1.426453384975495, 1.4216203100596907, 1.4168247384501689, 1.4120663742537622, 1.4073449239164595, 1.4026600962049094, 1.3980116021880693, 1.3933991552189937, 1.388822470916785, 1.3842812671486635, 1.3797752640121963, 1.375304183817661, 1.3708677510705443, 1.3664656924541856, 1.3620977368125566, 1.3577636151331807, 1.3534630605301714, 1.3491958082274265, 1.3449615955419396, 1.3407601618672529, 1.3365912486570333, 1.3324545994087846, 1.3283499596476844, 1.3242770769105492, 1.320235700729933, 1.3162255826183407, 1.312246476052572, 1.308298136458188, 1.3043803211941098, 1.3004927895373202, 1.2966353026677002, 1.2928076236529866, 1.289009517433835, 1.285240750809018, 1.2815010924207277, 1.2777903127399992, 1.2741081840522528, 1.2704544804429436, 1.266828977783327, 1.2632314537163414, 1.259661687642594, 1.256119460706466, 1.252604555782323, 1.2491167574608346, 1.2456558520354037, 1.2422216274887001, 1.238813873479308, 1.2354323813284653, 1.2320769440069246, 1.2287473561219069, 1.2254434139041621, 1.2221649151951255, 1.2189116594341907, 1.2156834476460678, 1.2124800824282491, 1.2093013679385745, 1.2061471098828886, 1.2030171155028064, 1.1999111935635631, 1.19682915434197, 1.1937708096144621, 1.190735972645238, 1.1877244581744983, 1.1847360824067699, 1.1817706629993316, 1.1788280190507254, 1.1759079710893592, 1.1730103410622013, 1.1701349523235602, 1.1672816296239623, 1.1644501990991063, 1.1616404882589113, 1.1588523259766537, 1.156085542478181, 1.1533399693312245, 1.1506154394347796, 1.1479117870085824, 1.1452288475826733, 1.1425664579870243, 1.1399244563412676, 1.1373026820444965, 1.134700975765147, 1.1321191794309615, 1.1295571362190318, 1.1270146905459213, 1.1244916880578573, 1.121987975621019, 1.1195034013118799, 1.1170378144076447, 1.1145910653767543, 1.112163005869464, 1.109753488708498, 1.1073623678797802, 1.1049894985232376, 1.1026347369236729, 1.1002979405017137, 1.0979789678048306, 1.0956776784984243, 1.0933939333569913, 1.0911275942553473, 1.088878524159935, 1.0866465871201856, 1.0844316482599592, 1.0822335737690447, 1.0800522308947362, 1.077887487933469, 1.0757392142225235, 1.0736072801317964, 1.071491557055634, 1.0693919174047322, 1.067308234598102, 1.065240383055093, 1.0631882381874846, 1.0611516763916435, 1.0591305750407312, 1.057124812476984, 1.0551342680040523, 1.0531588218793932, 1.0511983553067352, 1.0492527504285885, 1.04732189031883, 1.0454056589753313, 1.0435039413126594, 1.0416166231548227, 1.0397435912280824, 1.0378847331538197, 1.0360399374414544, 1.0342090934814279, 1.0323920915382314, 1.0305888227435, 1.0287991790891504, 1.0270230534205855, 1.0252603394299413, 1.0235109316493907, 1.0217747254445053, 1.0200516170076632, 1.0183415033515106, 1.0166442823024788, 1.0149598524943477, 1.0132881133618623, 1.0116289651343973, 1.0099823088296798, 1.00834804624755, 1.0067260799637798, 1.0051163133239374, 1.0035186504372984, 1.001932996170811, 1.0003592561431007, 0.9987973367185325, 0.9972471450013071, 0.9957085888296181, 0.9941815767698419, 0.9926660181107863, 0.9911618228579752, 0.9896689017279776, 0.9881871661427946, 0.9867165282242741, 0.9852569007885791, 0.9838081973407004, 0.9823703320690054, 0.9809432198398389, 0.97952677619216, 0.978120917332225, 0.9767255601283127, 0.9753406221054843, 0.973966021440396, 0.9726016769561463, 0.9712475081171619, 0.9699034350241273, 0.9685693784089568, 0.9672452596298011, 0.9659310006660962, 0.9646265241136517, 0.9633317531797756, 0.9620466116784406, 0.9607710240254889, 0.9595049152338696, 0.9582482109089214, 0.9570008372436838, 0.9557627210142577, 0.9545337895751873, 0.9533139708548919, 0.9521031933511258, 0.9509013861264777, 0.9497084788039057, 0.9485244015623051, 0.9473490851321124, 0.946182460790945, 0.9450244603592758, 0.9438750161961409, 0.94273406119488, 0.941601528778912, 0.9404773528975452, 0.939361468021818, 0.9382538091403753, 0.937154311755374, 0.9360629118784225, 0.9349795460265573, 0.9339041512182421, 0.9328366649694013, 0.9317770252894949, 0.9307251706776082, 0.9296810401185857, 0.928644573079187, 0.9276157095042802, 0.9265943898130568, 0.9255805548952865, 0.9245741461075927, 0.9235751052697632, 0.9225833746610894, 0.9215988970167294, 0.920621615524108, 0.9196514738193381, 0.9186884159836719, 0.9177323865399867, 0.916783330449289, 0.91584119310725, 0.9149059203407723, 0.9139774584045768, 0.9130557539778227, 0.9121407541607514, 0.911232406471356, 0.9103306588420779, 0.9094354596165346, 0.9085467575462625, 0.9076645017874967, 0.9067886418979668, 0.905919127833727, 0.9050559099460058, 0.9041989389780778, 0.9033481660621691, 0.90250354271638, 0.9016650208416334, 0.9008325527186491, 0.9000060910049388, 0.8991855887318343, 0.8983709993015226, 0.8975622764841198, 0.8967593744147567, 0.8959622475907028, 0.895170850868493, 0.8943851394610922, 0.8936050689350754, 0.8928305952078345, 0.8920616745448007, 0.8912982635566975, 0.8905403191968077, 0.8897877987582661, 0.8890406598713712, 0.8882988605009222, 0.8875623589435724, 0.8868311138252059, 0.8861050840983358, 0.8853842290395205, 0.8846685082467995, 0.8839578816371599, 0.8832523094440052, 0.8825517522146591, 0.8818561708078819, 0.8811655263914113, 0.8804797804395135, 0.8797988947305662, 0.879122831344651, 0.8784515526611678, 0.8777850213564712, 0.8771232004015195, 0.8764660530595482, 0.875813542883756, 0.875165633715018, 0.8745222896796051, 0.8738834751869318, 0.8732491549273174, 0.8726192938697619, 0.8719938572597483, 0.8713728106170503, 0.8707561197335709, 0.8701437506711844, 0.8695356697596072, 0.8689318435942764, 0.8683322390342539, 0.8677368232001351, 0.867145563471988, 0.8665584274872989, 0.8659753831389386, 0.8653963985731414, 0.8648214421875036, 0.8642504826289967, 0.8636834887919956, 0.863120429816321, 0.8625612750853022, 0.8620059942238489, 0.8614545570965442, 0.8609069338057473, 0.8603630946897155, 0.8598230103207394, 0.8592866515032902, 0.8587539892721893, 0.8582249948907809, 0.8576996398491306, 0.8571778958622301, 0.8566597348682221, 0.8561451290266311, 0.8556340507166189, 0.8551264725352465, 0.8546223672957483, 0.8541217080258274, 0.8536244679659589, 0.8531306205677067, 0.8526401394920562, 0.8521529986077585, 0.8516691719896858, 0.8511886339172067, 0.8507113588725648, 0.850237321539278, 0.8497664968005461, 0.8492988597376729, 0.8488343856284992, 0.84837304994585, 0.8479148283559935, 0.8474596967171107, 0.8470076310777801, 0.8465586076754696, 0.846112602935048, 0.8456695934672979, 0.8452295560674518, 0.8447924677137294, 0.8443583055658935, 0.8439270469638153, 0.8434986694260485, 0.8430731506484193, 0.8426504685026235, 0.8422306010348366, 0.8418135264643352, 0.8413992231821281, 0.8409876697495978, 0.8405788448971562, 0.8401727275229064, 0.8397692966913199, 0.839368531631916, 0.8389704117379647, 0.8385749165651848, 0.8381820258304655, 0.8377917194105897, 0.8374039773409703, 0.8370187798143973, 0.8366361071797925, 0.8362559399409781, 0.8358782587554471, 0.8355030444331545, 0.8351302779353077, 0.834759940373174, 0.8343920130068936, 0.8340264772443018, 0.8336633146397606, 0.833302506893005, 0.8329440358479892, 0.83258788349175, 0.8322340319532738, 0.8318824635023757, 0.8315331605485845, 0.8311861056400414, 0.8308412814624024, 0.8304986708377513, 0.8301582567235235, 0.8298200222114325, 0.8294839505264106, 0.8291500250255582, 0.8288182291970957, 0.8284885466593277, 0.8281609611596161, 0.8278354565733606, 0.8275120169029829, 0.8271906262769285, 0.8268712689486655, 0.8265539292956985, 0.8262385918185897, 0.8259252411399848, 0.8256138620036457, 0.8253044392734987, 0.8249969579326801, 0.8246914030825977, 0.8243877599419915, 0.8240860138460097, 0.823786150245288, 0.8234881547050387, 0.8231920129041397, 0.8228977106342423, 0.8226052337988776, 0.8223145684125684]\n"
     ]
    }
   ],
   "source": [
    "print(losses)\n",
    "print(losseslosses)"
   ]
  },
  {
   "cell_type": "code",
   "execution_count": 31,
   "id": "bd0572e7",
   "metadata": {},
   "outputs": [
    {
     "data": {
      "image/png": "[encoded data removed]",
      "text/plain": [
       "<Figure size 432x288 with 1 Axes>"
      ]
     },
     "metadata": {
      "needs_background": "light"
     },
     "output_type": "display_data"
    }
   ],
   "source": [
    "import matplotlib.pyplot as plt\n",
    "plt.plot(losses)\n",
    "plt.show()"
   ]
  },
  {
   "cell_type": "code",
   "execution_count": 32,
   "id": "b5296371",
   "metadata": {
    "scrolled": true
   },
   "outputs": [
    {
     "data": {
      "image/png": "[encoded data removed]",
      "text/plain": [
       "<Figure size 432x288 with 1 Axes>"
      ]
     },
     "metadata": {
      "needs_background": "light"
     },
     "output_type": "display_data"
    }
   ],
   "source": [
    "import matplotlib.pyplot as plt\n",
    "plt.plot(losseslosses)\n",
    "plt.show()"
   ]
  },
  {
   "cell_type": "code",
   "execution_count": 33,
   "id": "60742181",
   "metadata": {},
   "outputs": [
    {
     "data": {
      "text/plain": [
       "(array([ 0.07765846, -0.04426838,  0.35818535,  0.28607064, -0.1351679 ,\n",
       "        -0.14232383,  0.53641243,  0.26756959,  0.22488773,  0.44772706,\n",
       "         0.30092962,  0.43416213]),\n",
       " 0.7850215488388576)"
      ]
     },
     "execution_count": 33,
     "metadata": {},
     "output_type": "execute_result"
    }
   ],
   "source": [
    "W, b"
   ]
  },
  {
   "cell_type": "code",
   "execution_count": 34,
   "id": "f4192b7c",
   "metadata": {},
   "outputs": [
    {
     "data": {
      "text/plain": [
       "(array([-1.15019298, -1.05850225]), 4.538114155475172)"
      ]
     },
     "execution_count": 34,
     "metadata": {},
     "output_type": "execute_result"
    }
   ],
   "source": [
    "WW, bb"
   ]
  },
  {
   "cell_type": "code",
   "execution_count": 38,
   "id": "abef33ef",
   "metadata": {},
   "outputs": [
    {
     "data": {
      "text/plain": [
       "0.725851623779712"
      ]
     },
     "execution_count": 38,
     "metadata": {},
     "output_type": "execute_result"
    }
   ],
   "source": [
    "prediction = model(X_test, W, b)\n",
    "mse = loss(X_test, W, b, y_test)\n",
    "mse"
   ]
  },
  {
   "cell_type": "code",
   "execution_count": 39,
   "id": "e61b4cba",
   "metadata": {
    "scrolled": true
   },
   "outputs": [
    {
     "data": {
      "text/plain": [
       "0.8223145684125684"
      ]
     },
     "execution_count": 39,
     "metadata": {},
     "output_type": "execute_result"
    }
   ],
   "source": [
    "predictionprediction = model(XX, WW, bb)\n",
    "msemse = loss(XX, WW, bb, yy)\n",
    "msemse"
   ]
  },
  {
   "cell_type": "code",
   "execution_count": 40,
   "id": "ebb4a42a",
   "metadata": {},
   "outputs": [
    {
     "data": {
      "image/png": "[encoded data removed]",
      "text/plain": [
       "<Figure size 432x288 with 1 Axes>"
      ]
     },
     "metadata": {
      "needs_background": "light"
     },
     "output_type": "display_data"
    }
   ],
   "source": [
    "plt.scatter(X_test[:, 0], y_test)\n",
    "plt.scatter(X_test[:, 0], prediction)\n",
    "plt.show()"
   ]
  },
  {
   "cell_type": "code",
   "execution_count": 41,
   "id": "d72a7cc1",
   "metadata": {},
   "outputs": [
    {
     "data": {
      "image/png": "[encoded data removed]",
      "text/plain": [
       "<Figure size 432x288 with 1 Axes>"
      ]
     },
     "metadata": {
      "needs_background": "light"
     },
     "output_type": "display_data"
    }
   ],
   "source": [
    "plt.scatter(XX[:, 0], yy)\n",
    "plt.scatter(XX[:, 0], predictionprediction)\n",
    "plt.show()"
   ]
  }
 ],
 "metadata": {
  "kernelspec": {
   "display_name": "Python 3 (ipykernel)",
   "language": "python",
   "name": "python3"
  },
  "language_info": {
   "codemirror_mode": {
    "name": "ipython",
    "version": 3
   },
   "file_extension": ".py",
   "mimetype": "text/x-python",
   "name": "python",
   "nbconvert_exporter": "python",
   "pygments_lexer": "ipython3",
   "version": "3.9.7"
  }
 },
 "nbformat": 4,
 "nbformat_minor": 5
}
