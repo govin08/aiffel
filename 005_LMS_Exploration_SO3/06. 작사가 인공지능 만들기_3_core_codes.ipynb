{
 "cells": [
  {
   "cell_type": "markdown",
   "id": "f4faa346",
   "metadata": {},
   "source": [
    "# "
   ]
  },
  {
   "cell_type": "markdown",
   "id": "c89a90f5",
   "metadata": {},
   "source": [
    "## 모듈 불러오기"
   ]
  },
  {
   "cell_type": "code",
   "execution_count": 1,
   "id": "a8622bbb",
   "metadata": {},
   "outputs": [],
   "source": [
    "import os, re \n",
    "import numpy as np\n",
    "import tensorflow as tf"
   ]
  },
  {
   "cell_type": "markdown",
   "id": "c3f97fbc",
   "metadata": {},
   "source": [
    "## `raw_corpus`"
   ]
  },
  {
   "cell_type": "code",
   "execution_count": 2,
   "id": "5b28c14d",
   "metadata": {},
   "outputs": [
    {
     "name": "stdout",
     "output_type": "stream",
     "text": [
      "['First Citizen:', 'Before we proceed any further, hear me speak.', '', 'All:', 'Speak, speak.', '', 'First Citizen:', 'You are all resolved rather to die than to famish?', '']\n"
     ]
    }
   ],
   "source": [
    "file_path = '../../data/exploration_06/data/shakespeare.txt'\n",
    "with open(file_path, \"r\") as f:\n",
    "    raw_corpus = f.read().splitlines()\n",
    "\n",
    "print(raw_corpus[:9])"
   ]
  },
  {
   "cell_type": "markdown",
   "id": "0482284a",
   "metadata": {},
   "source": [
    "## `corpus`"
   ]
  },
  {
   "cell_type": "code",
   "execution_count": 3,
   "id": "ce734620",
   "metadata": {},
   "outputs": [],
   "source": [
    "def preprocess_sentence(sentence):\n",
    "    sentence = sentence.lower().strip() # 1\n",
    "    sentence = re.sub(r\"([?.!,¿])\", r\" \\1 \", sentence) # 2\n",
    "    sentence = re.sub(r'[\" \"]+', \" \", sentence) # 3\n",
    "    sentence = re.sub(r\"[^a-zA-Z?.!,¿]+\", \" \", sentence) # 4\n",
    "    sentence = sentence.strip() # 5\n",
    "    sentence = '<start> ' + sentence + ' <end>' # 6\n",
    "    return sentence"
   ]
  },
  {
   "cell_type": "code",
   "execution_count": 4,
   "id": "8bc65e18",
   "metadata": {},
   "outputs": [
    {
     "data": {
      "text/plain": [
       "['<start> before we proceed any further , hear me speak . <end>',\n",
       " '<start> speak , speak . <end>',\n",
       " '<start> you are all resolved rather to die than to famish ? <end>',\n",
       " '<start> resolved . resolved . <end>',\n",
       " '<start> first , you know caius marcius is chief enemy to the people . <end>',\n",
       " '<start> we know t , we know t . <end>',\n",
       " '<start> let us kill him , and we ll have corn at our own price . <end>',\n",
       " '<start> is t a verdict ? <end>',\n",
       " '<start> no more talking on t let it be done away , away ! <end>',\n",
       " '<start> one word , good citizens . <end>']"
      ]
     },
     "execution_count": 4,
     "metadata": {},
     "output_type": "execute_result"
    }
   ],
   "source": [
    "corpus = []\n",
    "\n",
    "for sentence in raw_corpus:\n",
    "    if len(sentence) == 0: continue\n",
    "    if sentence[-1] == \":\": continue\n",
    "    preprocessed_sentence = preprocess_sentence(sentence)\n",
    "    corpus.append(preprocessed_sentence)\n",
    "\n",
    "corpus[:10]"
   ]
  },
  {
   "cell_type": "code",
   "execution_count": 5,
   "id": "eb29fc9f",
   "metadata": {},
   "outputs": [
    {
     "data": {
      "text/plain": [
       "24015"
      ]
     },
     "execution_count": 5,
     "metadata": {},
     "output_type": "execute_result"
    }
   ],
   "source": [
    "len(corpus)"
   ]
  },
  {
   "cell_type": "markdown",
   "id": "153a3850",
   "metadata": {},
   "source": [
    "## `tensor`"
   ]
  },
  {
   "cell_type": "code",
   "execution_count": 6,
   "id": "9a42d437",
   "metadata": {},
   "outputs": [
    {
     "name": "stdout",
     "output_type": "stream",
     "text": [
      "<class 'list'>\n",
      "[list([2, 143, 40, 933, 140, 591, 4, 124, 24, 110, 5, 3])\n",
      " list([2, 110, 4, 110, 5, 3])\n",
      " list([2, 11, 50, 43, 1201, 316, 9, 201, 74, 9, 3034, 15, 3]) ...\n",
      " list([2, 149, 4553, 4, 3])\n",
      " list([2, 34, 71, 132, 39, 328, 390, 201, 4, 316, 2965, 132, 3])\n",
      " list([2, 945, 34, 134, 1787, 5, 3])]\n",
      "21\n",
      "<class 'numpy.ndarray'>\n",
      "(24015, 21)\n"
     ]
    },
    {
     "name": "stderr",
     "output_type": "stream",
     "text": [
      "/tmp/ipykernel_87/369123024.py:6: VisibleDeprecationWarning: Creating an ndarray from ragged nested sequences (which is a list-or-tuple of lists-or-tuples-or ndarrays with different lengths or shapes) is deprecated. If you meant to do this, you must specify 'dtype=object' when creating the ndarray.\n",
      "  print(np.array(tensor))\n"
     ]
    }
   ],
   "source": [
    "tokenizer = tf.keras.preprocessing.text.Tokenizer(\n",
    "    num_words=7000, filters=' ', oov_token=\"<unk>\")\n",
    "tokenizer.fit_on_texts(corpus)\n",
    "tensor = tokenizer.texts_to_sequences(corpus)\n",
    "print(type(tensor))\n",
    "print(np.array(tensor))\n",
    "print(np.array([len(sentence) for sentence in tensor]).max())\n",
    "tensor = tf.keras.preprocessing.sequence.pad_sequences(tensor, padding = 'post')#,maxlen = 10)\n",
    "print(type(tensor))\n",
    "print(tensor.shape)"
   ]
  },
  {
   "cell_type": "code",
   "execution_count": 7,
   "id": "0e5eadd3",
   "metadata": {},
   "outputs": [
    {
     "name": "stdout",
     "output_type": "stream",
     "text": [
      "24015\n",
      "(24015, 21)\n",
      "<start> before we proceed any further , hear me speak . <end>\n",
      "<start> speak , speak . <end>\n",
      "<start> you are all resolved rather to die than to famish ? <end>\n",
      "[  2 143  40 933 140 591   4 124  24 110   5   3   0   0   0   0   0   0\n",
      "   0   0   0]\n",
      "[  2 110   4 110   5   3   0   0   0   0   0   0   0   0   0   0   0   0\n",
      "   0   0   0]\n",
      "[   2   11   50   43 1201  316    9  201   74    9 3034   15    3    0\n",
      "    0    0    0    0    0    0    0]\n"
     ]
    }
   ],
   "source": [
    "print(len(corpus))\n",
    "print(tensor.shape) #24015개의 문장, 각 문장은 21차원의 벡터\n",
    "print(corpus[0])\n",
    "print(corpus[1])\n",
    "print(corpus[2])\n",
    "print(tensor[0])\n",
    "print(tensor[1])\n",
    "print(tensor[2])"
   ]
  },
  {
   "attachments": {
    "image.png": {
     "image/png": "[encoded data removed]"
    }
   },
   "cell_type": "markdown",
   "id": "ff4c43cf",
   "metadata": {},
   "source": [
    "![image.png](attachment:image.png)"
   ]
  },
  {
   "cell_type": "code",
   "execution_count": 8,
   "id": "72d601aa",
   "metadata": {},
   "outputs": [
    {
     "name": "stdout",
     "output_type": "stream",
     "text": [
      "[  2 143  40 933 140 591   4 124  24 110   5   3   0   0   0   0   0   0\n",
      "   0   0]\n",
      "[143  40 933 140 591   4 124  24 110   5   3   0   0   0   0   0   0   0\n",
      "   0   0]\n"
     ]
    }
   ],
   "source": [
    "src_input = tensor[:, :-1]  \n",
    "tgt_input = tensor[:, 1:]    \n",
    "print(src_input[0])\n",
    "print(tgt_input[0])"
   ]
  },
  {
   "cell_type": "markdown",
   "id": "201cc21e",
   "metadata": {},
   "source": [
    "## `dataset`"
   ]
  },
  {
   "cell_type": "code",
   "execution_count": 9,
   "id": "9dc8e614",
   "metadata": {},
   "outputs": [
    {
     "name": "stdout",
     "output_type": "stream",
     "text": [
      "BUFFER_SIZE : 24015\n",
      "BATCH_SIZE : 256\n",
      "steps_per_epoch : 93\n",
      "VOCAB_SIZE : 7001\n"
     ]
    }
   ],
   "source": [
    "BUFFER_SIZE = len(src_input)\n",
    "print('BUFFER_SIZE :',BUFFER_SIZE)\n",
    "BATCH_SIZE = 256\n",
    "print('BATCH_SIZE :',BATCH_SIZE)\n",
    "steps_per_epoch = len(src_input) // BATCH_SIZE\n",
    "print('steps_per_epoch :',steps_per_epoch)\n",
    "VOCAB_SIZE = tokenizer.num_words + 1\n",
    "print('VOCAB_SIZE :',VOCAB_SIZE)"
   ]
  },
  {
   "cell_type": "code",
   "execution_count": 10,
   "id": "23009ef6",
   "metadata": {},
   "outputs": [
    {
     "name": "stdout",
     "output_type": "stream",
     "text": [
      "(24015, 2, 20)\n",
      "(24015, 2, 20)\n",
      "(93, 2, 256, 20)\n",
      "<BatchDataset shapes: ((256, 20), (256, 20)), types: (tf.int32, tf.int32)>\n"
     ]
    }
   ],
   "source": [
    "dataset = tf.data.Dataset.from_tensor_slices((src_input, tgt_input))\n",
    "dataset_as_np_array = np.array([data for data in dataset])\n",
    "print(dataset_as_np_array.shape)\n",
    "dataset = dataset.shuffle(BUFFER_SIZE)\n",
    "dataset_as_np_array = np.array([data for data in dataset])\n",
    "print(dataset_as_np_array.shape)\n",
    "dataset = dataset.batch(BATCH_SIZE, drop_remainder=True)\n",
    "dataset_as_np_array = np.array([data for data in dataset])\n",
    "print(dataset_as_np_array.shape)\n",
    "print(dataset)"
   ]
  },
  {
   "cell_type": "markdown",
   "id": "d14ecf6e",
   "metadata": {},
   "source": [
    "## `model`"
   ]
  },
  {
   "cell_type": "code",
   "execution_count": 11,
   "id": "8f4072d5",
   "metadata": {},
   "outputs": [],
   "source": [
    "class TextGenerator(tf.keras.Model):\n",
    "    def __init__(self, vocab_size, embedding_size, hidden_size):\n",
    "        super().__init__()\n",
    "        self.embedding = tf.keras.layers.Embedding(vocab_size, embedding_size) \n",
    "        self.rnn_1 = tf.keras.layers.LSTM(hidden_size, return_sequences=True)  \n",
    "        self.rnn_2 = tf.keras.layers.LSTM(hidden_size, return_sequences=True)\n",
    "        self.linear = tf.keras.layers.Dense(vocab_size)\n",
    "        \n",
    "    def call(self, x):\n",
    "        out = self.embedding(x)\n",
    "        out = self.rnn_1(out)\n",
    "        out = self.rnn_2(out)\n",
    "        out = self.linear(out)\n",
    "        \n",
    "        return out"
   ]
  },
  {
   "cell_type": "code",
   "execution_count": 12,
   "id": "46381deb",
   "metadata": {},
   "outputs": [],
   "source": [
    "embedding_size = 256\n",
    "hidden_size = 1024\n",
    "model = TextGenerator(tokenizer.num_words + 1, embedding_size , hidden_size)"
   ]
  },
  {
   "cell_type": "code",
   "execution_count": 13,
   "id": "c7f6ce58",
   "metadata": {
    "scrolled": true
   },
   "outputs": [
    {
     "data": {
      "text/plain": [
       "<tf.Tensor: shape=(256, 20, 7001), dtype=float32, numpy=\n",
       "array([[[ 8.35573301e-05, -4.40511387e-04,  2.13249834e-04, ...,\n",
       "         -1.82419593e-04, -1.29691543e-04, -1.06802516e-04],\n",
       "        [ 5.30666148e-04, -6.71166985e-04,  1.21158468e-04, ...,\n",
       "         -6.81194593e-04, -1.78906354e-04, -5.07732038e-05],\n",
       "        [ 5.92774944e-04, -8.49050994e-04, -1.74277830e-05, ...,\n",
       "         -8.44632625e-04,  3.93648043e-05,  3.16660298e-04],\n",
       "        ...,\n",
       "        [ 2.35038460e-03, -3.25079542e-04,  2.32107309e-03, ...,\n",
       "         -1.88126462e-03,  8.89205316e-04, -2.56098923e-03],\n",
       "        [ 2.51277536e-03, -3.56691336e-04,  2.48600170e-03, ...,\n",
       "         -2.06719222e-03,  8.81193613e-04, -2.74633639e-03],\n",
       "        [ 2.65593850e-03, -3.88359127e-04,  2.62481812e-03, ...,\n",
       "         -2.23539933e-03,  8.61225417e-04, -2.90400791e-03]],\n",
       "\n",
       "       [[ 8.35573301e-05, -4.40511387e-04,  2.13249834e-04, ...,\n",
       "         -1.82419593e-04, -1.29691543e-04, -1.06802516e-04],\n",
       "        [ 2.08109734e-04, -7.67968944e-04,  3.26905807e-04, ...,\n",
       "         -8.44837457e-04,  8.50111028e-05, -3.87409200e-05],\n",
       "        [ 5.67898795e-04, -6.24903420e-04,  1.63685021e-04, ...,\n",
       "         -1.26337050e-03,  1.19101715e-04,  4.21697070e-04],\n",
       "        ...,\n",
       "        [ 2.37141689e-03, -2.47531629e-04,  2.99238181e-03, ...,\n",
       "         -2.07591546e-03,  1.46858001e-05, -2.78176391e-03],\n",
       "        [ 2.49504088e-03, -2.35303509e-04,  3.12076812e-03, ...,\n",
       "         -2.20964290e-03,  1.27021645e-04, -2.97078746e-03],\n",
       "        [ 2.60714791e-03, -2.36203719e-04,  3.21679050e-03, ...,\n",
       "         -2.33440078e-03,  2.19751411e-04, -3.12544708e-03]],\n",
       "\n",
       "       [[ 8.35573301e-05, -4.40511387e-04,  2.13249834e-04, ...,\n",
       "         -1.82419593e-04, -1.29691543e-04, -1.06802516e-04],\n",
       "        [-2.56615003e-05, -8.40372231e-04,  7.59411778e-05, ...,\n",
       "         -4.97885048e-04, -5.35756466e-04,  2.90423704e-05],\n",
       "        [-1.82934935e-04, -1.00544153e-03,  2.05268967e-04, ...,\n",
       "         -6.85961801e-04, -2.79071188e-04, -2.64103786e-04],\n",
       "        ...,\n",
       "        [ 2.27422942e-03, -3.16316815e-04,  2.21540290e-03, ...,\n",
       "         -2.27321708e-03, -5.81943932e-05, -3.49849160e-03],\n",
       "        [ 2.44628778e-03, -3.47177353e-04,  2.38410896e-03, ...,\n",
       "         -2.41169846e-03,  8.60702585e-06, -3.52119817e-03],\n",
       "        [ 2.59674061e-03, -3.75404954e-04,  2.53227516e-03, ...,\n",
       "         -2.53861002e-03,  6.47634952e-05, -3.54144676e-03]],\n",
       "\n",
       "       ...,\n",
       "\n",
       "       [[ 8.35573301e-05, -4.40511387e-04,  2.13249834e-04, ...,\n",
       "         -1.82419593e-04, -1.29691543e-04, -1.06802516e-04],\n",
       "        [ 1.70843596e-05, -7.68657599e-04,  2.51332880e-04, ...,\n",
       "         -2.91044533e-04, -5.79446460e-05, -3.05131631e-04],\n",
       "        [ 3.85580177e-04, -5.92040189e-04,  4.28129075e-04, ...,\n",
       "         -4.51726810e-04,  2.32653532e-04, -6.78467739e-04],\n",
       "        ...,\n",
       "        [ 1.08514470e-03,  1.30081593e-04,  1.42084970e-03, ...,\n",
       "         -1.85486476e-03,  5.57269050e-05, -2.19986122e-03],\n",
       "        [ 1.35957228e-03,  7.35433787e-05,  1.76723069e-03, ...,\n",
       "         -1.98416342e-03,  9.91952038e-05, -2.42606923e-03],\n",
       "        [ 1.61548343e-03,  1.88472186e-05,  2.06452701e-03, ...,\n",
       "         -2.11224868e-03,  1.46047198e-04, -2.61350605e-03]],\n",
       "\n",
       "       [[ 8.35573301e-05, -4.40511387e-04,  2.13249834e-04, ...,\n",
       "         -1.82419593e-04, -1.29691543e-04, -1.06802516e-04],\n",
       "        [ 3.16990510e-04, -7.11660949e-04,  5.13332721e-04, ...,\n",
       "         -3.04042682e-04, -3.02852219e-04, -2.67948461e-04],\n",
       "        [ 5.60023356e-04, -3.63319588e-04,  8.57379229e-04, ...,\n",
       "         -3.65565065e-04, -5.66036673e-04,  2.54778570e-04],\n",
       "        ...,\n",
       "        [ 3.44247004e-04, -5.45988267e-04,  1.09028583e-03, ...,\n",
       "         -1.09745504e-03,  3.03662586e-04, -1.37330592e-03],\n",
       "        [ 6.87931664e-04, -4.59115632e-04,  1.38729950e-03, ...,\n",
       "         -1.29703875e-03,  3.43753549e-04, -1.71322306e-03],\n",
       "        [ 1.01571716e-03, -3.77635384e-04,  1.67735002e-03, ...,\n",
       "         -1.49699452e-03,  3.92919726e-04, -2.00741948e-03]],\n",
       "\n",
       "       [[ 8.35573301e-05, -4.40511387e-04,  2.13249834e-04, ...,\n",
       "         -1.82419593e-04, -1.29691543e-04, -1.06802516e-04],\n",
       "        [ 2.36834676e-04, -7.47013371e-04,  2.90938333e-04, ...,\n",
       "         -4.21982782e-04, -1.50516018e-04, -8.67183189e-05],\n",
       "        [ 1.00282283e-04, -6.22166845e-04,  2.82117922e-04, ...,\n",
       "         -4.13382280e-04, -4.07503510e-04,  1.65735342e-04],\n",
       "        ...,\n",
       "        [ 2.37470306e-03, -4.59661649e-04,  2.69977609e-03, ...,\n",
       "         -2.45592440e-03,  3.64945648e-04, -3.58800660e-03],\n",
       "        [ 2.53619230e-03, -4.62241034e-04,  2.81807315e-03, ...,\n",
       "         -2.57544499e-03,  3.91777838e-04, -3.61517933e-03],\n",
       "        [ 2.67535867e-03, -4.69032326e-04,  2.91539473e-03, ...,\n",
       "         -2.68191472e-03,  4.09295113e-04, -3.63592966e-03]]],\n",
       "      dtype=float32)>"
      ]
     },
     "execution_count": 13,
     "metadata": {},
     "output_type": "execute_result"
    }
   ],
   "source": [
    "for src_sample, tgt_sample in dataset.take(1): break\n",
    "model(src_sample)"
   ]
  },
  {
   "cell_type": "code",
   "execution_count": 14,
   "id": "bcb5b476",
   "metadata": {
    "scrolled": true
   },
   "outputs": [
    {
     "name": "stdout",
     "output_type": "stream",
     "text": [
      "Model: \"text_generator\"\n",
      "_________________________________________________________________\n",
      "Layer (type)                 Output Shape              Param #   \n",
      "=================================================================\n",
      "embedding (Embedding)        multiple                  1792256   \n",
      "_________________________________________________________________\n",
      "lstm (LSTM)                  multiple                  5246976   \n",
      "_________________________________________________________________\n",
      "lstm_1 (LSTM)                multiple                  8392704   \n",
      "_________________________________________________________________\n",
      "dense (Dense)                multiple                  7176025   \n",
      "=================================================================\n",
      "Total params: 22,607,961\n",
      "Trainable params: 22,607,961\n",
      "Non-trainable params: 0\n",
      "_________________________________________________________________\n"
     ]
    }
   ],
   "source": [
    "model.summary()"
   ]
  },
  {
   "cell_type": "code",
   "execution_count": 15,
   "id": "4bf4acd2",
   "metadata": {},
   "outputs": [],
   "source": [
    "optimizer = tf.keras.optimizers.Adam()\n",
    "loss = tf.keras.losses.SparseCategoricalCrossentropy(\n",
    "    from_logits=True,reduction='none')"
   ]
  },
  {
   "cell_type": "code",
   "execution_count": 16,
   "id": "bc89ffb6",
   "metadata": {},
   "outputs": [
    {
     "name": "stdout",
     "output_type": "stream",
     "text": [
      "Epoch 1/30\n",
      "93/93 [==============================] - 20s 169ms/step - loss: 3.6020\n",
      "Epoch 2/30\n",
      "93/93 [==============================] - 16s 174ms/step - loss: 2.8390\n",
      "Epoch 3/30\n",
      "93/93 [==============================] - 17s 179ms/step - loss: 2.7717\n",
      "Epoch 4/30\n",
      "93/93 [==============================] - 17s 185ms/step - loss: 2.6970\n",
      "Epoch 5/30\n",
      "93/93 [==============================] - 18s 194ms/step - loss: 2.6236\n",
      "Epoch 6/30\n",
      "93/93 [==============================] - 18s 196ms/step - loss: 2.5684\n",
      "Epoch 7/30\n",
      "93/93 [==============================] - 18s 189ms/step - loss: 2.5215\n",
      "Epoch 8/30\n",
      "93/93 [==============================] - 17s 187ms/step - loss: 2.4760\n",
      "Epoch 9/30\n",
      "93/93 [==============================] - 18s 188ms/step - loss: 2.4301\n",
      "Epoch 10/30\n",
      "93/93 [==============================] - 18s 191ms/step - loss: 2.3883\n",
      "Epoch 11/30\n",
      "93/93 [==============================] - 18s 192ms/step - loss: 2.3472\n",
      "Epoch 12/30\n",
      "93/93 [==============================] - 18s 190ms/step - loss: 2.3086\n",
      "Epoch 13/30\n",
      "93/93 [==============================] - 18s 189ms/step - loss: 2.2726\n",
      "Epoch 14/30\n",
      "93/93 [==============================] - 18s 190ms/step - loss: 2.2373\n",
      "Epoch 15/30\n",
      "93/93 [==============================] - 18s 190ms/step - loss: 2.2035\n",
      "Epoch 16/30\n",
      "93/93 [==============================] - 18s 190ms/step - loss: 2.1692\n",
      "Epoch 17/30\n",
      "93/93 [==============================] - 18s 191ms/step - loss: 2.1360\n",
      "Epoch 18/30\n",
      "93/93 [==============================] - 18s 191ms/step - loss: 2.1025\n",
      "Epoch 19/30\n",
      "93/93 [==============================] - 18s 191ms/step - loss: 2.0692\n",
      "Epoch 20/30\n",
      "93/93 [==============================] - 18s 191ms/step - loss: 2.0351\n",
      "Epoch 21/30\n",
      "93/93 [==============================] - 18s 191ms/step - loss: 2.0006\n",
      "Epoch 22/30\n",
      "93/93 [==============================] - 18s 191ms/step - loss: 1.9692\n",
      "Epoch 23/30\n",
      "93/93 [==============================] - 18s 191ms/step - loss: 1.9336\n",
      "Epoch 24/30\n",
      "93/93 [==============================] - 18s 191ms/step - loss: 1.9024\n",
      "Epoch 25/30\n",
      "93/93 [==============================] - 18s 191ms/step - loss: 1.8673\n",
      "Epoch 26/30\n",
      "93/93 [==============================] - 18s 191ms/step - loss: 1.8327\n",
      "Epoch 27/30\n",
      "93/93 [==============================] - 18s 191ms/step - loss: 1.8003\n",
      "Epoch 28/30\n",
      "93/93 [==============================] - 18s 191ms/step - loss: 1.7679\n",
      "Epoch 29/30\n",
      "93/93 [==============================] - 18s 191ms/step - loss: 1.7342\n",
      "Epoch 30/30\n",
      "93/93 [==============================] - 18s 191ms/step - loss: 1.7034\n"
     ]
    },
    {
     "data": {
      "text/plain": [
       "<keras.callbacks.History at 0x7f5cd4044340>"
      ]
     },
     "execution_count": 16,
     "metadata": {},
     "output_type": "execute_result"
    }
   ],
   "source": [
    "model.compile(loss=loss, optimizer=optimizer)\n",
    "model.fit(dataset, epochs=30)"
   ]
  },
  {
   "cell_type": "markdown",
   "id": "42ba09bb",
   "metadata": {},
   "source": [
    "## `generate_text`"
   ]
  },
  {
   "cell_type": "code",
   "execution_count": 17,
   "id": "7531e5ea",
   "metadata": {},
   "outputs": [],
   "source": [
    "def generate_text(model, tokenizer, init_sentence=\"<start>\", max_len=20):\n",
    "    test_input = tokenizer.texts_to_sequences([init_sentence])\n",
    "    test_tensor = tf.convert_to_tensor(test_input, dtype=tf.int64)\n",
    "    end_token = tokenizer.word_index[\"<end>\"]\n",
    "    while True:\n",
    "        predict = model(test_tensor) \n",
    "        predict_word = tf.argmax(tf.nn.softmax(predict, axis=-1), axis=-1)[:, -1] \n",
    "        test_tensor = tf.concat([test_tensor, tf.expand_dims(predict_word, axis=0)], axis=-1)\n",
    "        if predict_word.numpy()[0] == end_token: break\n",
    "        if test_tensor.shape[1] >= max_len: break\n",
    "\n",
    "    generated = \"\"\n",
    "    for word_index in test_tensor[0].numpy():\n",
    "        generated += tokenizer.index_word[word_index] + \" \"\n",
    "\n",
    "    return generated"
   ]
  },
  {
   "cell_type": "code",
   "execution_count": 18,
   "id": "9ceaa3df",
   "metadata": {},
   "outputs": [
    {
     "data": {
      "text/plain": [
       "'<start> he sat on the <unk> , and my son s son , <end> '"
      ]
     },
     "execution_count": 18,
     "metadata": {},
     "output_type": "execute_result"
    }
   ],
   "source": [
    "generate_text(model, tokenizer, init_sentence=\"<start> he sat on\")"
   ]
  },
  {
   "cell_type": "code",
   "execution_count": null,
   "id": "cbdc6c86",
   "metadata": {},
   "outputs": [],
   "source": []
  }
 ],
 "metadata": {
  "kernelspec": {
   "display_name": "Python 3 (ipykernel)",
   "language": "python",
   "name": "python3"
  },
  "language_info": {
   "codemirror_mode": {
    "name": "ipython",
    "version": 3
   },
   "file_extension": ".py",
   "mimetype": "text/x-python",
   "name": "python",
   "nbconvert_exporter": "python",
   "pygments_lexer": "ipython3",
   "version": "3.9.7"
  }
 },
 "nbformat": 4,
 "nbformat_minor": 5
}
