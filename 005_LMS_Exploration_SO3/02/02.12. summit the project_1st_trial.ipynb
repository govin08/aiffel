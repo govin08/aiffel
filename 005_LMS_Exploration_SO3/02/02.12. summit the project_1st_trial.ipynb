{
 "cells": [
  {
   "cell_type": "markdown",
   "id": "d67b8f63",
   "metadata": {},
   "source": [
    "## (1) 데이터 가져오기"
   ]
  },
  {
   "cell_type": "code",
   "execution_count": 1,
   "id": "688972f5",
   "metadata": {},
   "outputs": [],
   "source": [
    "import numpy as np\n",
    "import pandas as pd\n",
    "import matplotlib.pyplot as plt\n",
    "\n",
    "from sklearn.datasets import load_diabetes\n",
    "from sklearn.model_selection import train_test_split"
   ]
  },
  {
   "cell_type": "code",
   "execution_count": 2,
   "id": "34155d98",
   "metadata": {},
   "outputs": [],
   "source": [
    "diabetes = load_diabetes()"
   ]
  },
  {
   "cell_type": "code",
   "execution_count": 3,
   "id": "6b6ec374",
   "metadata": {},
   "outputs": [],
   "source": [
    "# diabetes"
   ]
  },
  {
   "cell_type": "code",
   "execution_count": 4,
   "id": "862bd42a",
   "metadata": {},
   "outputs": [],
   "source": [
    "# print(dir(diabetes))"
   ]
  },
  {
   "cell_type": "code",
   "execution_count": 5,
   "id": "31ed2232",
   "metadata": {},
   "outputs": [],
   "source": [
    "# diabetes.keys()"
   ]
  },
  {
   "cell_type": "code",
   "execution_count": 6,
   "id": "c9c7a631",
   "metadata": {},
   "outputs": [],
   "source": [
    "diabetes_data = diabetes.data\n",
    "diabetes_label = diabetes.target"
   ]
  },
  {
   "cell_type": "code",
   "execution_count": 7,
   "id": "51814665",
   "metadata": {},
   "outputs": [],
   "source": [
    "# diabetes_data"
   ]
  },
  {
   "cell_type": "code",
   "execution_count": 8,
   "id": "6db80170",
   "metadata": {},
   "outputs": [
    {
     "name": "stdout",
     "output_type": "stream",
     "text": [
      "<class 'numpy.ndarray'>\n",
      "(442, 10)\n",
      "[ 0.03807591  0.05068012  0.06169621  0.02187235 -0.0442235  -0.03482076\n",
      " -0.04340085 -0.00259226  0.01990842 -0.01764613]\n"
     ]
    }
   ],
   "source": [
    "print(type(diabetes_data))\n",
    "print(diabetes_data.shape)\n",
    "print(diabetes_data[0])"
   ]
  },
  {
   "cell_type": "code",
   "execution_count": 9,
   "id": "40a62455",
   "metadata": {
    "scrolled": true
   },
   "outputs": [],
   "source": [
    "# diabetes_label"
   ]
  },
  {
   "cell_type": "code",
   "execution_count": 10,
   "id": "6cd613cb",
   "metadata": {},
   "outputs": [
    {
     "name": "stdout",
     "output_type": "stream",
     "text": [
      "<class 'numpy.ndarray'>\n",
      "(442,)\n",
      "151.0\n"
     ]
    }
   ],
   "source": [
    "print(type(diabetes_label))\n",
    "print(diabetes_label.shape)\n",
    "print(diabetes_label[0])"
   ]
  },
  {
   "cell_type": "code",
   "execution_count": 11,
   "id": "9a7d5c8f",
   "metadata": {},
   "outputs": [
    {
     "name": "stdout",
     "output_type": "stream",
     "text": [
      "['age', 'sex', 'bmi', 'bp', 's1', 's2', 's3', 's4', 's5', 's6']\n"
     ]
    }
   ],
   "source": [
    "#print(diabetes.target_names) #error\n",
    "print(diabetes.feature_names)"
   ]
  },
  {
   "cell_type": "code",
   "execution_count": 12,
   "id": "7545f344",
   "metadata": {},
   "outputs": [],
   "source": [
    "#print(diabetes.DESCR)"
   ]
  },
  {
   "cell_type": "code",
   "execution_count": 13,
   "id": "9ba8882c",
   "metadata": {},
   "outputs": [
    {
     "data": {
      "text/plain": [
       "array([1., 1., 1., 1., 1., 1., 1., 1., 1., 1.])"
      ]
     },
     "execution_count": 13,
     "metadata": {},
     "output_type": "execute_result"
    }
   ],
   "source": [
    "np.sum(diabetes_data**2,axis=0)"
   ]
  },
  {
   "cell_type": "code",
   "execution_count": 14,
   "id": "8840d7f0",
   "metadata": {},
   "outputs": [
    {
     "data": {
      "text/plain": [
       "array([-3.63428493e-16,  1.30834257e-16, -8.04534920e-16,  1.28165452e-16,\n",
       "       -8.83531559e-17,  1.32702421e-16, -4.57464634e-16,  3.77730150e-16,\n",
       "       -3.83085422e-16, -3.41288202e-16])"
      ]
     },
     "execution_count": 14,
     "metadata": {},
     "output_type": "execute_result"
    }
   ],
   "source": [
    "np.mean(diabetes_data,axis=0)"
   ]
  },
  {
   "cell_type": "code",
   "execution_count": 15,
   "id": "c9262ba3",
   "metadata": {},
   "outputs": [
    {
     "data": {
      "text/plain": [
       "array([0.04756515, 0.04756515, 0.04756515, 0.04756515, 0.04756515,\n",
       "       0.04756515, 0.04756515, 0.04756515, 0.04756515, 0.04756515])"
      ]
     },
     "execution_count": 15,
     "metadata": {},
     "output_type": "execute_result"
    }
   ],
   "source": [
    "np.std(diabetes_data,axis=0)"
   ]
  },
  {
   "cell_type": "code",
   "execution_count": 16,
   "id": "a1625e78",
   "metadata": {},
   "outputs": [
    {
     "name": "stdout",
     "output_type": "stream",
     "text": [
      "0.0022624434389140274\n",
      "0.04756514941544941\n"
     ]
    }
   ],
   "source": [
    "print(1/442)\n",
    "print(np.sqrt(1/442))"
   ]
  },
  {
   "cell_type": "markdown",
   "id": "7bbef578",
   "metadata": {},
   "source": [
    "`diabetes_data`의 한 열을 $x_1,\\cdots,x_N$이라고 하자.\n",
    "($N=442$) $x_i$들의 평균은 0이고 표준편차가 1이 되도록 표준화되어 있다고(Each of these 10 feature variables have been mean centered and scaled by the standard deviation) 되어있지만, 다음에 나오는 말(i.e. the sum of squares of each column totals 1)과 일치하지 않아서 계산해보고 코드를 돌려보앗다.\n",
    "\n",
    "위의 셀에서 확인한 것이지만, $E(X)$는 거의 0과 같다. 이것은 당연하다.\n",
    "centeral limit theroem에 의하면 N이 커질수록 E(X)가 0으로 수렴하는 것이지, 그 값인 것은 아니다.\n",
    "\n",
    "한편,\n",
    "\n",
    "$$\\sum_{i=1}^N{x_i}^2=1$$\n",
    "\n",
    "이 성립한다. 이 식을 더 풀어내면\n",
    "\n",
    "$$E(X^2)=\\frac1N$$\n",
    "\n",
    "이다.\n",
    "그러면\n",
    "\n",
    "$$\\frac1N=E(X^2)=V(X)+E(X)^2$$\n",
    "\n",
    "에서\n",
    "\n",
    "$$V(X)=\\frac1N$$\n",
    "\n",
    "이다.\n",
    "즉\n",
    "$$\\sigma(X)=\\frac1{\\sqrt N}=0.04757$$\n",
    "이다.\n",
    "이것은 위의 코드와도 일치하는 값이다.\n",
    "\n",
    "정리하면, 데이터를 표준화했는데, $X\\sim N(0,1)$로 표준화한 것은 아니고, $X\\sim N\\left(0,\\frac1N\\right)$으로 표준화했다."
   ]
  },
  {
   "cell_type": "markdown",
   "id": "8fee26f2",
   "metadata": {},
   "source": [
    "## (2) 모델에 입력할 데이터 X 준비하기"
   ]
  },
  {
   "cell_type": "code",
   "execution_count": 17,
   "id": "c2a0e782",
   "metadata": {},
   "outputs": [
    {
     "data": {
      "text/html": [
       "<div>\n",
       "<style scoped>\n",
       "    .dataframe tbody tr th:only-of-type {\n",
       "        vertical-align: middle;\n",
       "    }\n",
       "\n",
       "    .dataframe tbody tr th {\n",
       "        vertical-align: top;\n",
       "    }\n",
       "\n",
       "    .dataframe thead th {\n",
       "        text-align: right;\n",
       "    }\n",
       "</style>\n",
       "<table border=\"1\" class=\"dataframe\">\n",
       "  <thead>\n",
       "    <tr style=\"text-align: right;\">\n",
       "      <th></th>\n",
       "      <th>age</th>\n",
       "      <th>sex</th>\n",
       "      <th>bmi</th>\n",
       "      <th>bp</th>\n",
       "      <th>s1</th>\n",
       "      <th>s2</th>\n",
       "      <th>s3</th>\n",
       "      <th>s4</th>\n",
       "      <th>s5</th>\n",
       "      <th>s6</th>\n",
       "    </tr>\n",
       "  </thead>\n",
       "  <tbody>\n",
       "    <tr>\n",
       "      <th>0</th>\n",
       "      <td>0.038076</td>\n",
       "      <td>0.050680</td>\n",
       "      <td>0.061696</td>\n",
       "      <td>0.021872</td>\n",
       "      <td>-0.044223</td>\n",
       "      <td>-0.034821</td>\n",
       "      <td>-0.043401</td>\n",
       "      <td>-0.002592</td>\n",
       "      <td>0.019908</td>\n",
       "      <td>-0.017646</td>\n",
       "    </tr>\n",
       "    <tr>\n",
       "      <th>1</th>\n",
       "      <td>-0.001882</td>\n",
       "      <td>-0.044642</td>\n",
       "      <td>-0.051474</td>\n",
       "      <td>-0.026328</td>\n",
       "      <td>-0.008449</td>\n",
       "      <td>-0.019163</td>\n",
       "      <td>0.074412</td>\n",
       "      <td>-0.039493</td>\n",
       "      <td>-0.068330</td>\n",
       "      <td>-0.092204</td>\n",
       "    </tr>\n",
       "    <tr>\n",
       "      <th>2</th>\n",
       "      <td>0.085299</td>\n",
       "      <td>0.050680</td>\n",
       "      <td>0.044451</td>\n",
       "      <td>-0.005671</td>\n",
       "      <td>-0.045599</td>\n",
       "      <td>-0.034194</td>\n",
       "      <td>-0.032356</td>\n",
       "      <td>-0.002592</td>\n",
       "      <td>0.002864</td>\n",
       "      <td>-0.025930</td>\n",
       "    </tr>\n",
       "    <tr>\n",
       "      <th>3</th>\n",
       "      <td>-0.089063</td>\n",
       "      <td>-0.044642</td>\n",
       "      <td>-0.011595</td>\n",
       "      <td>-0.036656</td>\n",
       "      <td>0.012191</td>\n",
       "      <td>0.024991</td>\n",
       "      <td>-0.036038</td>\n",
       "      <td>0.034309</td>\n",
       "      <td>0.022692</td>\n",
       "      <td>-0.009362</td>\n",
       "    </tr>\n",
       "    <tr>\n",
       "      <th>4</th>\n",
       "      <td>0.005383</td>\n",
       "      <td>-0.044642</td>\n",
       "      <td>-0.036385</td>\n",
       "      <td>0.021872</td>\n",
       "      <td>0.003935</td>\n",
       "      <td>0.015596</td>\n",
       "      <td>0.008142</td>\n",
       "      <td>-0.002592</td>\n",
       "      <td>-0.031991</td>\n",
       "      <td>-0.046641</td>\n",
       "    </tr>\n",
       "    <tr>\n",
       "      <th>...</th>\n",
       "      <td>...</td>\n",
       "      <td>...</td>\n",
       "      <td>...</td>\n",
       "      <td>...</td>\n",
       "      <td>...</td>\n",
       "      <td>...</td>\n",
       "      <td>...</td>\n",
       "      <td>...</td>\n",
       "      <td>...</td>\n",
       "      <td>...</td>\n",
       "    </tr>\n",
       "    <tr>\n",
       "      <th>437</th>\n",
       "      <td>0.041708</td>\n",
       "      <td>0.050680</td>\n",
       "      <td>0.019662</td>\n",
       "      <td>0.059744</td>\n",
       "      <td>-0.005697</td>\n",
       "      <td>-0.002566</td>\n",
       "      <td>-0.028674</td>\n",
       "      <td>-0.002592</td>\n",
       "      <td>0.031193</td>\n",
       "      <td>0.007207</td>\n",
       "    </tr>\n",
       "    <tr>\n",
       "      <th>438</th>\n",
       "      <td>-0.005515</td>\n",
       "      <td>0.050680</td>\n",
       "      <td>-0.015906</td>\n",
       "      <td>-0.067642</td>\n",
       "      <td>0.049341</td>\n",
       "      <td>0.079165</td>\n",
       "      <td>-0.028674</td>\n",
       "      <td>0.034309</td>\n",
       "      <td>-0.018118</td>\n",
       "      <td>0.044485</td>\n",
       "    </tr>\n",
       "    <tr>\n",
       "      <th>439</th>\n",
       "      <td>0.041708</td>\n",
       "      <td>0.050680</td>\n",
       "      <td>-0.015906</td>\n",
       "      <td>0.017282</td>\n",
       "      <td>-0.037344</td>\n",
       "      <td>-0.013840</td>\n",
       "      <td>-0.024993</td>\n",
       "      <td>-0.011080</td>\n",
       "      <td>-0.046879</td>\n",
       "      <td>0.015491</td>\n",
       "    </tr>\n",
       "    <tr>\n",
       "      <th>440</th>\n",
       "      <td>-0.045472</td>\n",
       "      <td>-0.044642</td>\n",
       "      <td>0.039062</td>\n",
       "      <td>0.001215</td>\n",
       "      <td>0.016318</td>\n",
       "      <td>0.015283</td>\n",
       "      <td>-0.028674</td>\n",
       "      <td>0.026560</td>\n",
       "      <td>0.044528</td>\n",
       "      <td>-0.025930</td>\n",
       "    </tr>\n",
       "    <tr>\n",
       "      <th>441</th>\n",
       "      <td>-0.045472</td>\n",
       "      <td>-0.044642</td>\n",
       "      <td>-0.073030</td>\n",
       "      <td>-0.081414</td>\n",
       "      <td>0.083740</td>\n",
       "      <td>0.027809</td>\n",
       "      <td>0.173816</td>\n",
       "      <td>-0.039493</td>\n",
       "      <td>-0.004220</td>\n",
       "      <td>0.003064</td>\n",
       "    </tr>\n",
       "  </tbody>\n",
       "</table>\n",
       "<p>442 rows × 10 columns</p>\n",
       "</div>"
      ],
      "text/plain": [
       "          age       sex       bmi        bp        s1        s2        s3  \\\n",
       "0    0.038076  0.050680  0.061696  0.021872 -0.044223 -0.034821 -0.043401   \n",
       "1   -0.001882 -0.044642 -0.051474 -0.026328 -0.008449 -0.019163  0.074412   \n",
       "2    0.085299  0.050680  0.044451 -0.005671 -0.045599 -0.034194 -0.032356   \n",
       "3   -0.089063 -0.044642 -0.011595 -0.036656  0.012191  0.024991 -0.036038   \n",
       "4    0.005383 -0.044642 -0.036385  0.021872  0.003935  0.015596  0.008142   \n",
       "..        ...       ...       ...       ...       ...       ...       ...   \n",
       "437  0.041708  0.050680  0.019662  0.059744 -0.005697 -0.002566 -0.028674   \n",
       "438 -0.005515  0.050680 -0.015906 -0.067642  0.049341  0.079165 -0.028674   \n",
       "439  0.041708  0.050680 -0.015906  0.017282 -0.037344 -0.013840 -0.024993   \n",
       "440 -0.045472 -0.044642  0.039062  0.001215  0.016318  0.015283 -0.028674   \n",
       "441 -0.045472 -0.044642 -0.073030 -0.081414  0.083740  0.027809  0.173816   \n",
       "\n",
       "           s4        s5        s6  \n",
       "0   -0.002592  0.019908 -0.017646  \n",
       "1   -0.039493 -0.068330 -0.092204  \n",
       "2   -0.002592  0.002864 -0.025930  \n",
       "3    0.034309  0.022692 -0.009362  \n",
       "4   -0.002592 -0.031991 -0.046641  \n",
       "..        ...       ...       ...  \n",
       "437 -0.002592  0.031193  0.007207  \n",
       "438  0.034309 -0.018118  0.044485  \n",
       "439 -0.011080 -0.046879  0.015491  \n",
       "440  0.026560  0.044528 -0.025930  \n",
       "441 -0.039493 -0.004220  0.003064  \n",
       "\n",
       "[442 rows x 10 columns]"
      ]
     },
     "execution_count": 17,
     "metadata": {},
     "output_type": "execute_result"
    }
   ],
   "source": [
    "df_X = pd.DataFrame(diabetes_data, columns=diabetes.feature_names)\n",
    "df_X"
   ]
  },
  {
   "cell_type": "code",
   "execution_count": 18,
   "id": "49e39d76",
   "metadata": {},
   "outputs": [
    {
     "data": {
      "text/plain": [
       "array([[ 0.03807591,  0.05068012,  0.06169621, ..., -0.00259226,\n",
       "         0.01990842, -0.01764613],\n",
       "       [-0.00188202, -0.04464164, -0.05147406, ..., -0.03949338,\n",
       "        -0.06832974, -0.09220405],\n",
       "       [ 0.08529891,  0.05068012,  0.04445121, ..., -0.00259226,\n",
       "         0.00286377, -0.02593034],\n",
       "       ...,\n",
       "       [ 0.04170844,  0.05068012, -0.01590626, ..., -0.01107952,\n",
       "        -0.04687948,  0.01549073],\n",
       "       [-0.04547248, -0.04464164,  0.03906215, ...,  0.02655962,\n",
       "         0.04452837, -0.02593034],\n",
       "       [-0.04547248, -0.04464164, -0.0730303 , ..., -0.03949338,\n",
       "        -0.00421986,  0.00306441]])"
      ]
     },
     "execution_count": 18,
     "metadata": {},
     "output_type": "execute_result"
    }
   ],
   "source": [
    "X = df_X.to_numpy()\n",
    "X"
   ]
  },
  {
   "cell_type": "code",
   "execution_count": 19,
   "id": "0c3badc2",
   "metadata": {},
   "outputs": [
    {
     "data": {
      "text/plain": [
       "(442, 10)"
      ]
     },
     "execution_count": 19,
     "metadata": {},
     "output_type": "execute_result"
    }
   ],
   "source": [
    "X.shape"
   ]
  },
  {
   "cell_type": "markdown",
   "id": "02cb13d5",
   "metadata": {},
   "source": [
    "## (3) 모델에 입력할 데이터 y 준비하기"
   ]
  },
  {
   "cell_type": "code",
   "execution_count": 20,
   "id": "4af1b605",
   "metadata": {},
   "outputs": [
    {
     "data": {
      "text/html": [
       "<div>\n",
       "<style scoped>\n",
       "    .dataframe tbody tr th:only-of-type {\n",
       "        vertical-align: middle;\n",
       "    }\n",
       "\n",
       "    .dataframe tbody tr th {\n",
       "        vertical-align: top;\n",
       "    }\n",
       "\n",
       "    .dataframe thead th {\n",
       "        text-align: right;\n",
       "    }\n",
       "</style>\n",
       "<table border=\"1\" class=\"dataframe\">\n",
       "  <thead>\n",
       "    <tr style=\"text-align: right;\">\n",
       "      <th></th>\n",
       "      <th>disease progress</th>\n",
       "    </tr>\n",
       "  </thead>\n",
       "  <tbody>\n",
       "    <tr>\n",
       "      <th>0</th>\n",
       "      <td>151.0</td>\n",
       "    </tr>\n",
       "    <tr>\n",
       "      <th>1</th>\n",
       "      <td>75.0</td>\n",
       "    </tr>\n",
       "    <tr>\n",
       "      <th>2</th>\n",
       "      <td>141.0</td>\n",
       "    </tr>\n",
       "    <tr>\n",
       "      <th>3</th>\n",
       "      <td>206.0</td>\n",
       "    </tr>\n",
       "    <tr>\n",
       "      <th>4</th>\n",
       "      <td>135.0</td>\n",
       "    </tr>\n",
       "    <tr>\n",
       "      <th>...</th>\n",
       "      <td>...</td>\n",
       "    </tr>\n",
       "    <tr>\n",
       "      <th>437</th>\n",
       "      <td>178.0</td>\n",
       "    </tr>\n",
       "    <tr>\n",
       "      <th>438</th>\n",
       "      <td>104.0</td>\n",
       "    </tr>\n",
       "    <tr>\n",
       "      <th>439</th>\n",
       "      <td>132.0</td>\n",
       "    </tr>\n",
       "    <tr>\n",
       "      <th>440</th>\n",
       "      <td>220.0</td>\n",
       "    </tr>\n",
       "    <tr>\n",
       "      <th>441</th>\n",
       "      <td>57.0</td>\n",
       "    </tr>\n",
       "  </tbody>\n",
       "</table>\n",
       "<p>442 rows × 1 columns</p>\n",
       "</div>"
      ],
      "text/plain": [
       "     disease progress\n",
       "0               151.0\n",
       "1                75.0\n",
       "2               141.0\n",
       "3               206.0\n",
       "4               135.0\n",
       "..                ...\n",
       "437             178.0\n",
       "438             104.0\n",
       "439             132.0\n",
       "440             220.0\n",
       "441              57.0\n",
       "\n",
       "[442 rows x 1 columns]"
      ]
     },
     "execution_count": 20,
     "metadata": {},
     "output_type": "execute_result"
    }
   ],
   "source": [
    "df_y = pd.DataFrame(diabetes_label, columns=['disease progress'])\n",
    "df_y"
   ]
  },
  {
   "cell_type": "code",
   "execution_count": 21,
   "id": "268e4266",
   "metadata": {},
   "outputs": [
    {
     "data": {
      "text/plain": [
       "array([[151.],\n",
       "       [ 75.],\n",
       "       [141.],\n",
       "       [206.],\n",
       "       [135.],\n",
       "       [ 97.],\n",
       "       [138.],\n",
       "       [ 63.],\n",
       "       [110.],\n",
       "       [310.],\n",
       "       [101.],\n",
       "       [ 69.],\n",
       "       [179.],\n",
       "       [185.],\n",
       "       [118.],\n",
       "       [171.],\n",
       "       [166.],\n",
       "       [144.],\n",
       "       [ 97.],\n",
       "       [168.],\n",
       "       [ 68.],\n",
       "       [ 49.],\n",
       "       [ 68.],\n",
       "       [245.],\n",
       "       [184.],\n",
       "       [202.],\n",
       "       [137.],\n",
       "       [ 85.],\n",
       "       [131.],\n",
       "       [283.],\n",
       "       [129.],\n",
       "       [ 59.],\n",
       "       [341.],\n",
       "       [ 87.],\n",
       "       [ 65.],\n",
       "       [102.],\n",
       "       [265.],\n",
       "       [276.],\n",
       "       [252.],\n",
       "       [ 90.],\n",
       "       [100.],\n",
       "       [ 55.],\n",
       "       [ 61.],\n",
       "       [ 92.],\n",
       "       [259.],\n",
       "       [ 53.],\n",
       "       [190.],\n",
       "       [142.],\n",
       "       [ 75.],\n",
       "       [142.],\n",
       "       [155.],\n",
       "       [225.],\n",
       "       [ 59.],\n",
       "       [104.],\n",
       "       [182.],\n",
       "       [128.],\n",
       "       [ 52.],\n",
       "       [ 37.],\n",
       "       [170.],\n",
       "       [170.],\n",
       "       [ 61.],\n",
       "       [144.],\n",
       "       [ 52.],\n",
       "       [128.],\n",
       "       [ 71.],\n",
       "       [163.],\n",
       "       [150.],\n",
       "       [ 97.],\n",
       "       [160.],\n",
       "       [178.],\n",
       "       [ 48.],\n",
       "       [270.],\n",
       "       [202.],\n",
       "       [111.],\n",
       "       [ 85.],\n",
       "       [ 42.],\n",
       "       [170.],\n",
       "       [200.],\n",
       "       [252.],\n",
       "       [113.],\n",
       "       [143.],\n",
       "       [ 51.],\n",
       "       [ 52.],\n",
       "       [210.],\n",
       "       [ 65.],\n",
       "       [141.],\n",
       "       [ 55.],\n",
       "       [134.],\n",
       "       [ 42.],\n",
       "       [111.],\n",
       "       [ 98.],\n",
       "       [164.],\n",
       "       [ 48.],\n",
       "       [ 96.],\n",
       "       [ 90.],\n",
       "       [162.],\n",
       "       [150.],\n",
       "       [279.],\n",
       "       [ 92.],\n",
       "       [ 83.],\n",
       "       [128.],\n",
       "       [102.],\n",
       "       [302.],\n",
       "       [198.],\n",
       "       [ 95.],\n",
       "       [ 53.],\n",
       "       [134.],\n",
       "       [144.],\n",
       "       [232.],\n",
       "       [ 81.],\n",
       "       [104.],\n",
       "       [ 59.],\n",
       "       [246.],\n",
       "       [297.],\n",
       "       [258.],\n",
       "       [229.],\n",
       "       [275.],\n",
       "       [281.],\n",
       "       [179.],\n",
       "       [200.],\n",
       "       [200.],\n",
       "       [173.],\n",
       "       [180.],\n",
       "       [ 84.],\n",
       "       [121.],\n",
       "       [161.],\n",
       "       [ 99.],\n",
       "       [109.],\n",
       "       [115.],\n",
       "       [268.],\n",
       "       [274.],\n",
       "       [158.],\n",
       "       [107.],\n",
       "       [ 83.],\n",
       "       [103.],\n",
       "       [272.],\n",
       "       [ 85.],\n",
       "       [280.],\n",
       "       [336.],\n",
       "       [281.],\n",
       "       [118.],\n",
       "       [317.],\n",
       "       [235.],\n",
       "       [ 60.],\n",
       "       [174.],\n",
       "       [259.],\n",
       "       [178.],\n",
       "       [128.],\n",
       "       [ 96.],\n",
       "       [126.],\n",
       "       [288.],\n",
       "       [ 88.],\n",
       "       [292.],\n",
       "       [ 71.],\n",
       "       [197.],\n",
       "       [186.],\n",
       "       [ 25.],\n",
       "       [ 84.],\n",
       "       [ 96.],\n",
       "       [195.],\n",
       "       [ 53.],\n",
       "       [217.],\n",
       "       [172.],\n",
       "       [131.],\n",
       "       [214.],\n",
       "       [ 59.],\n",
       "       [ 70.],\n",
       "       [220.],\n",
       "       [268.],\n",
       "       [152.],\n",
       "       [ 47.],\n",
       "       [ 74.],\n",
       "       [295.],\n",
       "       [101.],\n",
       "       [151.],\n",
       "       [127.],\n",
       "       [237.],\n",
       "       [225.],\n",
       "       [ 81.],\n",
       "       [151.],\n",
       "       [107.],\n",
       "       [ 64.],\n",
       "       [138.],\n",
       "       [185.],\n",
       "       [265.],\n",
       "       [101.],\n",
       "       [137.],\n",
       "       [143.],\n",
       "       [141.],\n",
       "       [ 79.],\n",
       "       [292.],\n",
       "       [178.],\n",
       "       [ 91.],\n",
       "       [116.],\n",
       "       [ 86.],\n",
       "       [122.],\n",
       "       [ 72.],\n",
       "       [129.],\n",
       "       [142.],\n",
       "       [ 90.],\n",
       "       [158.],\n",
       "       [ 39.],\n",
       "       [196.],\n",
       "       [222.],\n",
       "       [277.],\n",
       "       [ 99.],\n",
       "       [196.],\n",
       "       [202.],\n",
       "       [155.],\n",
       "       [ 77.],\n",
       "       [191.],\n",
       "       [ 70.],\n",
       "       [ 73.],\n",
       "       [ 49.],\n",
       "       [ 65.],\n",
       "       [263.],\n",
       "       [248.],\n",
       "       [296.],\n",
       "       [214.],\n",
       "       [185.],\n",
       "       [ 78.],\n",
       "       [ 93.],\n",
       "       [252.],\n",
       "       [150.],\n",
       "       [ 77.],\n",
       "       [208.],\n",
       "       [ 77.],\n",
       "       [108.],\n",
       "       [160.],\n",
       "       [ 53.],\n",
       "       [220.],\n",
       "       [154.],\n",
       "       [259.],\n",
       "       [ 90.],\n",
       "       [246.],\n",
       "       [124.],\n",
       "       [ 67.],\n",
       "       [ 72.],\n",
       "       [257.],\n",
       "       [262.],\n",
       "       [275.],\n",
       "       [177.],\n",
       "       [ 71.],\n",
       "       [ 47.],\n",
       "       [187.],\n",
       "       [125.],\n",
       "       [ 78.],\n",
       "       [ 51.],\n",
       "       [258.],\n",
       "       [215.],\n",
       "       [303.],\n",
       "       [243.],\n",
       "       [ 91.],\n",
       "       [150.],\n",
       "       [310.],\n",
       "       [153.],\n",
       "       [346.],\n",
       "       [ 63.],\n",
       "       [ 89.],\n",
       "       [ 50.],\n",
       "       [ 39.],\n",
       "       [103.],\n",
       "       [308.],\n",
       "       [116.],\n",
       "       [145.],\n",
       "       [ 74.],\n",
       "       [ 45.],\n",
       "       [115.],\n",
       "       [264.],\n",
       "       [ 87.],\n",
       "       [202.],\n",
       "       [127.],\n",
       "       [182.],\n",
       "       [241.],\n",
       "       [ 66.],\n",
       "       [ 94.],\n",
       "       [283.],\n",
       "       [ 64.],\n",
       "       [102.],\n",
       "       [200.],\n",
       "       [265.],\n",
       "       [ 94.],\n",
       "       [230.],\n",
       "       [181.],\n",
       "       [156.],\n",
       "       [233.],\n",
       "       [ 60.],\n",
       "       [219.],\n",
       "       [ 80.],\n",
       "       [ 68.],\n",
       "       [332.],\n",
       "       [248.],\n",
       "       [ 84.],\n",
       "       [200.],\n",
       "       [ 55.],\n",
       "       [ 85.],\n",
       "       [ 89.],\n",
       "       [ 31.],\n",
       "       [129.],\n",
       "       [ 83.],\n",
       "       [275.],\n",
       "       [ 65.],\n",
       "       [198.],\n",
       "       [236.],\n",
       "       [253.],\n",
       "       [124.],\n",
       "       [ 44.],\n",
       "       [172.],\n",
       "       [114.],\n",
       "       [142.],\n",
       "       [109.],\n",
       "       [180.],\n",
       "       [144.],\n",
       "       [163.],\n",
       "       [147.],\n",
       "       [ 97.],\n",
       "       [220.],\n",
       "       [190.],\n",
       "       [109.],\n",
       "       [191.],\n",
       "       [122.],\n",
       "       [230.],\n",
       "       [242.],\n",
       "       [248.],\n",
       "       [249.],\n",
       "       [192.],\n",
       "       [131.],\n",
       "       [237.],\n",
       "       [ 78.],\n",
       "       [135.],\n",
       "       [244.],\n",
       "       [199.],\n",
       "       [270.],\n",
       "       [164.],\n",
       "       [ 72.],\n",
       "       [ 96.],\n",
       "       [306.],\n",
       "       [ 91.],\n",
       "       [214.],\n",
       "       [ 95.],\n",
       "       [216.],\n",
       "       [263.],\n",
       "       [178.],\n",
       "       [113.],\n",
       "       [200.],\n",
       "       [139.],\n",
       "       [139.],\n",
       "       [ 88.],\n",
       "       [148.],\n",
       "       [ 88.],\n",
       "       [243.],\n",
       "       [ 71.],\n",
       "       [ 77.],\n",
       "       [109.],\n",
       "       [272.],\n",
       "       [ 60.],\n",
       "       [ 54.],\n",
       "       [221.],\n",
       "       [ 90.],\n",
       "       [311.],\n",
       "       [281.],\n",
       "       [182.],\n",
       "       [321.],\n",
       "       [ 58.],\n",
       "       [262.],\n",
       "       [206.],\n",
       "       [233.],\n",
       "       [242.],\n",
       "       [123.],\n",
       "       [167.],\n",
       "       [ 63.],\n",
       "       [197.],\n",
       "       [ 71.],\n",
       "       [168.],\n",
       "       [140.],\n",
       "       [217.],\n",
       "       [121.],\n",
       "       [235.],\n",
       "       [245.],\n",
       "       [ 40.],\n",
       "       [ 52.],\n",
       "       [104.],\n",
       "       [132.],\n",
       "       [ 88.],\n",
       "       [ 69.],\n",
       "       [219.],\n",
       "       [ 72.],\n",
       "       [201.],\n",
       "       [110.],\n",
       "       [ 51.],\n",
       "       [277.],\n",
       "       [ 63.],\n",
       "       [118.],\n",
       "       [ 69.],\n",
       "       [273.],\n",
       "       [258.],\n",
       "       [ 43.],\n",
       "       [198.],\n",
       "       [242.],\n",
       "       [232.],\n",
       "       [175.],\n",
       "       [ 93.],\n",
       "       [168.],\n",
       "       [275.],\n",
       "       [293.],\n",
       "       [281.],\n",
       "       [ 72.],\n",
       "       [140.],\n",
       "       [189.],\n",
       "       [181.],\n",
       "       [209.],\n",
       "       [136.],\n",
       "       [261.],\n",
       "       [113.],\n",
       "       [131.],\n",
       "       [174.],\n",
       "       [257.],\n",
       "       [ 55.],\n",
       "       [ 84.],\n",
       "       [ 42.],\n",
       "       [146.],\n",
       "       [212.],\n",
       "       [233.],\n",
       "       [ 91.],\n",
       "       [111.],\n",
       "       [152.],\n",
       "       [120.],\n",
       "       [ 67.],\n",
       "       [310.],\n",
       "       [ 94.],\n",
       "       [183.],\n",
       "       [ 66.],\n",
       "       [173.],\n",
       "       [ 72.],\n",
       "       [ 49.],\n",
       "       [ 64.],\n",
       "       [ 48.],\n",
       "       [178.],\n",
       "       [104.],\n",
       "       [132.],\n",
       "       [220.],\n",
       "       [ 57.]])"
      ]
     },
     "execution_count": 21,
     "metadata": {},
     "output_type": "execute_result"
    }
   ],
   "source": [
    "y = df_y.to_numpy()\n",
    "y"
   ]
  },
  {
   "cell_type": "code",
   "execution_count": 22,
   "id": "c6941568",
   "metadata": {},
   "outputs": [
    {
     "data": {
      "text/plain": [
       "(442, 1)"
      ]
     },
     "execution_count": 22,
     "metadata": {},
     "output_type": "execute_result"
    }
   ],
   "source": [
    "y.shape"
   ]
  },
  {
   "cell_type": "markdown",
   "id": "250ac597",
   "metadata": {},
   "source": [
    "## (4) train 데이터와 test 데이터로 분리하기"
   ]
  },
  {
   "cell_type": "code",
   "execution_count": 23,
   "id": "177255d9",
   "metadata": {},
   "outputs": [],
   "source": [
    "X_train, X_test, y_train, y_test = train_test_split(X, y, test_size=0.2, random_state=1)"
   ]
  },
  {
   "cell_type": "code",
   "execution_count": 24,
   "id": "86f374a7",
   "metadata": {},
   "outputs": [
    {
     "name": "stdout",
     "output_type": "stream",
     "text": [
      "<class 'numpy.ndarray'>\n",
      "(353, 10)\n",
      "[-0.00551455  0.05068012 -0.01590626 -0.06764228  0.0493413   0.07916528\n",
      " -0.02867429  0.03430886 -0.01811827  0.04448548]\n",
      "<class 'numpy.ndarray'>\n",
      "(89, 10)\n",
      "[ 0.04170844 -0.04464164 -0.03207344 -0.06190417  0.07961226  0.05098192\n",
      "  0.05600338 -0.00997249  0.04506617 -0.05906719]\n",
      "<class 'numpy.ndarray'>\n",
      "(353, 1)\n",
      "[104.]\n",
      "<class 'numpy.ndarray'>\n",
      "(89, 1)\n",
      "[78.]\n"
     ]
    }
   ],
   "source": [
    "print(type(X_train))\n",
    "print(X_train.shape)\n",
    "print(X_train[0])\n",
    "\n",
    "print(type(X_test))\n",
    "print(X_test.shape)\n",
    "print(X_test[0])\n",
    "\n",
    "print(type(y_train))\n",
    "print(y_train.shape)\n",
    "print(y_train[0])\n",
    "\n",
    "print(type(y_test))\n",
    "print(y_test.shape)\n",
    "print(y_test[0])"
   ]
  },
  {
   "cell_type": "code",
   "execution_count": 25,
   "id": "8c07a556",
   "metadata": {
    "scrolled": true
   },
   "outputs": [
    {
     "name": "stdout",
     "output_type": "stream",
     "text": [
      "353.6\n",
      "353.0\n"
     ]
    }
   ],
   "source": [
    "print(442*0.8)\n",
    "print(np.floor(442*0.8))"
   ]
  },
  {
   "cell_type": "markdown",
   "id": "9ae9af0b",
   "metadata": {},
   "source": [
    "## (5) 모델 준비하기"
   ]
  },
  {
   "cell_type": "code",
   "execution_count": 26,
   "id": "7595690d",
   "metadata": {},
   "outputs": [],
   "source": [
    "W = np.random.rand(10)\n",
    "b = np.random.rand()"
   ]
  },
  {
   "cell_type": "code",
   "execution_count": 27,
   "id": "3c9e030f",
   "metadata": {},
   "outputs": [
    {
     "data": {
      "text/plain": [
       "array([0.65019915, 0.11594615, 0.73145715, 0.59104434, 0.3607953 ,\n",
       "       0.55787917, 0.03478656, 0.29241105, 0.4500658 , 0.66860161])"
      ]
     },
     "execution_count": 27,
     "metadata": {},
     "output_type": "execute_result"
    }
   ],
   "source": [
    "W"
   ]
  },
  {
   "cell_type": "code",
   "execution_count": 28,
   "id": "1fc91496",
   "metadata": {
    "scrolled": true
   },
   "outputs": [
    {
     "data": {
      "text/plain": [
       "0.20022225166746688"
      ]
     },
     "execution_count": 28,
     "metadata": {},
     "output_type": "execute_result"
    }
   ],
   "source": [
    "b"
   ]
  },
  {
   "cell_type": "code",
   "execution_count": 62,
   "id": "8f8db59d",
   "metadata": {},
   "outputs": [],
   "source": [
    "def model(X, W, b):\n",
    "    predictions = 0\n",
    "    for i in range(12):\n",
    "        predictions += X[:, i] * W[i]\n",
    "    predictions += b\n",
    "    return predictions"
   ]
  },
  {
   "cell_type": "code",
   "execution_count": 30,
   "id": "5b2cc380",
   "metadata": {},
   "outputs": [
    {
     "name": "stdout",
     "output_type": "stream",
     "text": [
      "(442,)\n",
      "(442,)\n"
     ]
    }
   ],
   "source": [
    "prediction = 0\n",
    "i = 0\n",
    "prediction += X[:,i]*W[i]\n",
    "print(prediction.shape)\n",
    "i += 1\n",
    "prediction += X[:,i]*W[i]\n",
    "print(prediction.shape)\n"
   ]
  },
  {
   "cell_type": "markdown",
   "id": "86b34e32",
   "metadata": {},
   "source": [
    "이것은, `W`와 `X`를 행렬곱한 후 `b`를 더한 것이라고 생각할 수 있다.\n",
    "즉\n",
    "\n",
    "$$\\text{model} = XW+b$$\n",
    "\n",
    "이다.\n",
    "이때, $X$는 $442\\times10$ 행렬이고, $W$는 10차원의 열벡터($10\\times 1$)이다.\n",
    "위의 식에서 $b$는 442차원의 열벡터인데, 각 entry가 일정한 값을 가지는 벡터이다.\n",
    "그 결과로 생기는 model은 442차원의 열벡터이다."
   ]
  },
  {
   "cell_type": "code",
   "execution_count": 31,
   "id": "1201973d",
   "metadata": {},
   "outputs": [
    {
     "data": {
      "text/plain": [
       "(442,)"
      ]
     },
     "execution_count": 31,
     "metadata": {},
     "output_type": "execute_result"
    }
   ],
   "source": [
    "X[:,i].shape"
   ]
  },
  {
   "cell_type": "code",
   "execution_count": 32,
   "id": "a06897db",
   "metadata": {},
   "outputs": [
    {
     "data": {
      "text/plain": [
       "0.11594614609083898"
      ]
     },
     "execution_count": 32,
     "metadata": {},
     "output_type": "execute_result"
    }
   ],
   "source": [
    "W[i]"
   ]
  },
  {
   "cell_type": "markdown",
   "id": "2ee93c57",
   "metadata": {},
   "source": [
    "model은 저 수식에서 열벡터의 의미를 갖지만, 코드 상에서 `m`은 rank 1 tensor 즉 벡터이다.\n",
    "shape이 (442,1)이 나오는 것이 아니라, (442,)로 나오는 것이다.\n",
    "(아래 코드)"
   ]
  },
  {
   "cell_type": "code",
   "execution_count": 33,
   "id": "acb89196",
   "metadata": {},
   "outputs": [
    {
     "data": {
      "text/plain": [
       "(442,)"
      ]
     },
     "execution_count": 33,
     "metadata": {},
     "output_type": "execute_result"
    }
   ],
   "source": [
    "m = model(X,W,b)\n",
    "m.shape"
   ]
  },
  {
   "cell_type": "markdown",
   "id": "14c27a6b",
   "metadata": {},
   "source": [
    "## (6) 손실함수 loss 정의하기"
   ]
  },
  {
   "cell_type": "code",
   "execution_count": 34,
   "id": "2a342ab5",
   "metadata": {},
   "outputs": [],
   "source": [
    "def MSE(a, b):\n",
    "    mse = ((a - b) ** 2).mean()\n",
    "    return mse"
   ]
  },
  {
   "cell_type": "code",
   "execution_count": 35,
   "id": "c898dedf",
   "metadata": {},
   "outputs": [],
   "source": [
    "def loss(X, W, b, y):\n",
    "    predictions = model(X, W, b)\n",
    "    L = MSE(predictions, y)\n",
    "    return L"
   ]
  },
  {
   "cell_type": "markdown",
   "id": "cfddb408",
   "metadata": {},
   "source": [
    "## (7) 기울기를 구하는 gradient 함수 구현하기"
   ]
  },
  {
   "cell_type": "code",
   "execution_count": 36,
   "id": "aadaec95",
   "metadata": {},
   "outputs": [],
   "source": [
    "def gradient(X, W, b, y):\n",
    "    N = len(W)\n",
    "    y_pred = model(X, W, b)\n",
    "    dW = 1/N * 2 * X.T.dot(y_pred - y)\n",
    "    db = 2 * (y_pred - y).mean()\n",
    "    return dW, db"
   ]
  },
  {
   "cell_type": "code",
   "execution_count": 37,
   "id": "f9e9ef68",
   "metadata": {},
   "outputs": [
    {
     "name": "stdout",
     "output_type": "stream",
     "text": [
      "(442, 10)\n",
      "(442, 1)\n",
      "(10,)\n",
      "<class 'float'>\n"
     ]
    }
   ],
   "source": [
    "print(X.shape)\n",
    "print(y.shape)\n",
    "print(W.shape)\n",
    "print(type(b))"
   ]
  },
  {
   "cell_type": "markdown",
   "id": "66f2984a",
   "metadata": {},
   "source": [
    "위의 코드들에 의하면 `X`는 $442\\times10$ 행렬이고, `y`는 442차원의 열벡터이며, `W`는 10차원의 벡터이고 `b`는 하나의 실수값이다.\n",
    "`y_pred`는 따로 변수로 저장되어 있지 않지만, 바로 위의 `gradient`를 구현하는 코드와 저 위의 `model` 코드에서 보면, `y_pred`는 442차원의 열벡터이다.\n",
    "따라서, `y_pred - y`도 442차원의 열벡터($442\\times1$)이다.\n",
    "`.dot()`은 행렬곱을 하는 연산이다. 아래 코드에서 확인할 수 있다."
   ]
  },
  {
   "cell_type": "code",
   "execution_count": 38,
   "id": "07d89bbe",
   "metadata": {},
   "outputs": [
    {
     "name": "stdout",
     "output_type": "stream",
     "text": [
      "[[1 2]\n",
      " [3 4]]\n",
      "[[1 1]\n",
      " [0 0]]\n"
     ]
    }
   ],
   "source": [
    "A = np.array([[1,2],[3,4]])\n",
    "B = np.array([[1,1],[0,0]])\n",
    "print(A)\n",
    "print(B)"
   ]
  },
  {
   "cell_type": "markdown",
   "id": "0e1c1c09",
   "metadata": {},
   "source": []
  },
  {
   "cell_type": "code",
   "execution_count": 39,
   "id": "01a5f508",
   "metadata": {},
   "outputs": [
    {
     "data": {
      "text/plain": [
       "array([[1, 1],\n",
       "       [3, 3]])"
      ]
     },
     "execution_count": 39,
     "metadata": {},
     "output_type": "execute_result"
    }
   ],
   "source": [
    "A@B"
   ]
  },
  {
   "cell_type": "code",
   "execution_count": 40,
   "id": "84f037ad",
   "metadata": {},
   "outputs": [
    {
     "data": {
      "text/plain": [
       "array([[1, 1],\n",
       "       [3, 3]])"
      ]
     },
     "execution_count": 40,
     "metadata": {},
     "output_type": "execute_result"
    }
   ],
   "source": [
    "A.dot(B)"
   ]
  },
  {
   "cell_type": "markdown",
   "id": "a06393fd",
   "metadata": {},
   "source": [
    "$L$을 $w_i$에 대하여 편미분하면\n",
    "\n",
    "\n",
    "\\begin{align*}\n",
    "\\frac{\\partial L}{\\partial w_i}\n",
    "&=\\frac1N\\sum_{i=1}^N\\frac{\\partial}{\\partial w_i}\\left\\{(y_{i,\\text{pred}}-y_{i,\\text{true}})^2\\right\\}\\\\\n",
    "&=\\frac1N\\sum_{i=1}^N2(y_{i,\\text{pred}}-y_{i,\\text{true}})\\frac{\\partial(y_{i,\\text{pred}}-y_{i,\\text{true}})}{\\partial w_i}\\\\\n",
    "&=\\frac1N\\sum_{i=1}^N2x_i(y_{i,\\text{pred}}-y_{i,\\text{true}})\\\\\n",
    "\\end{align*}\n",
    "\n",
    "이다.\n",
    "이것은 LMS에 써있는 식을 조금 변형한 것이다.\n",
    "그런데 정확히 쓰면 i와 j를 구분해야 할 것 같다.\n",
    "$w$의 인덱스를 $j$로 두고, 기존의 $i$는 여전히 샘플의 번호를 나타내는 것으로 하자.\n",
    "그러면\n",
    "\n",
    "\\begin{align*}\n",
    "\\frac{\\partial L}{\\partial w_j}\n",
    "&=\\frac1N\\sum_{i=1}^N\\frac{\\partial}{\\partial w_j}\\left\\{(y_{i,\\text{pred}}-y_{i,\\text{true}})^2\\right\\}\\\\\n",
    "&=\\frac1N\\sum_{i=1}^N2(y_{i,\\text{pred}}-y_{i,\\text{true}})\\frac{\\partial(y_{i,\\text{pred}}-y_{i,\\text{true}})}{\\partial w_j}\\\\\n",
    "&=\\frac1N\\sum_{i=1}^N2x_{ij}(y_{i,\\text{pred}}-y_{i,\\text{true}})\\\\\n",
    "\\end{align*}\n",
    "이 된다.\n",
    "\n",
    "위의 식을 이해하기 쉽게 `X`를 $5\\times 2$ 행렬로, `y_pred - y`를 5차원의 벡터로 정의해보자.\n",
    "\n",
    "\\begin{align*}\n",
    "X = \\begin{bmatrix}1&2\\\\3&1\\\\2&3\\\\1&2\\\\3&1\\end{bmatrix}\\\\\n",
    "y_{\\text{pred}} - y = \\begin{bmatrix}-2\\\\-1\\\\0\\\\1\\\\2\\end{bmatrix}\n",
    "\\end{align*}\n",
    "\n",
    "따라서 $i=1,2,3,4,5$, $j=1,2$이다.\n",
    "위의 식에서 `dW`의 첫번째 성분 $\\frac{L}{\\partial w_1}$을 계산한다는 것은\n",
    "$\\frac2N$의 값에 다음 값을 곱하는 것인데\n",
    "\n",
    "$$\\sum_{i=1}^Nx_{i1}(y_{i,\\text{pred}}-y_{i,\\text{true}})$$\n",
    "\n",
    "이것은 $X$의 첫번째 열과 $y_{\\text{pred}} - y$를 내적한 것이다.\n",
    "마찬가지로 `dW`의 첫번째 성분 $\\frac{L}{\\partial w_2}$는 $X$의 두번째 열과 $y_{\\text{pred}} - y$를 내적한 값에 $\\frac2N$을 곱한 것이다.\n",
    "\n",
    "따라서 `dW`는 두 행렬 $X$와 $y_{\\text{pred}} - y$을 행렬곱하고 $\\frac 2N$을 곱한 것이다.\n",
    "그렇기 때문에 `dW = 1/N * 2 * X.T.dot(y_pred - y)`라는 명령어로 `dW`를 계산하였다."
   ]
  },
  {
   "cell_type": "code",
   "execution_count": null,
   "id": "a629d93c",
   "metadata": {},
   "outputs": [],
   "source": [
    "def gradient(X, W, b, y):\n",
    "    N = len(W)\n",
    "    y_pred = model(X, W, b)\n",
    "    dW = 1/N * 2 * X.T.dot(y_pred - y)\n",
    "    db = 2 * (y_pred - y).mean()\n",
    "    return dW, db"
   ]
  },
  {
   "cell_type": "code",
   "execution_count": 53,
   "id": "498da02b",
   "metadata": {},
   "outputs": [],
   "source": [
    "W = np.array([10, 10])\n",
    "b = 1\n",
    "X = np.array([[1,2],[3,1],[2,3],[1,2],[3,1]])\n",
    "y = np.array([[-2],[-1],[0],[1],[2]])"
   ]
  },
  {
   "cell_type": "code",
   "execution_count": 58,
   "id": "397fdbca",
   "metadata": {},
   "outputs": [
    {
     "data": {
      "text/plain": [
       "2"
      ]
     },
     "execution_count": 58,
     "metadata": {},
     "output_type": "execute_result"
    }
   ],
   "source": [
    "N = len(W)\n",
    "N"
   ]
  },
  {
   "cell_type": "code",
   "execution_count": 61,
   "id": "de3b9d8c",
   "metadata": {},
   "outputs": [
    {
     "ename": "IndexError",
     "evalue": "index 2 is out of bounds for axis 1 with size 2",
     "output_type": "error",
     "traceback": [
      "\u001b[0;31m---------------------------------------------------------------------------\u001b[0m",
      "\u001b[0;31mIndexError\u001b[0m                                Traceback (most recent call last)",
      "\u001b[0;32m/tmp/ipykernel_384/2389679447.py\u001b[0m in \u001b[0;36m<module>\u001b[0;34m\u001b[0m\n\u001b[0;32m----> 1\u001b[0;31m \u001b[0my_pred\u001b[0m \u001b[0;34m=\u001b[0m \u001b[0mmodel\u001b[0m\u001b[0;34m(\u001b[0m\u001b[0mX\u001b[0m\u001b[0;34m,\u001b[0m\u001b[0mW\u001b[0m\u001b[0;34m,\u001b[0m\u001b[0mb\u001b[0m\u001b[0;34m)\u001b[0m\u001b[0;34m\u001b[0m\u001b[0;34m\u001b[0m\u001b[0m\n\u001b[0m",
      "\u001b[0;32m/tmp/ipykernel_384/3637438459.py\u001b[0m in \u001b[0;36mmodel\u001b[0;34m(X, W, b)\u001b[0m\n\u001b[1;32m      2\u001b[0m     \u001b[0mpredictions\u001b[0m \u001b[0;34m=\u001b[0m \u001b[0;36m0\u001b[0m\u001b[0;34m\u001b[0m\u001b[0;34m\u001b[0m\u001b[0m\n\u001b[1;32m      3\u001b[0m     \u001b[0;32mfor\u001b[0m \u001b[0mi\u001b[0m \u001b[0;32min\u001b[0m \u001b[0mrange\u001b[0m\u001b[0;34m(\u001b[0m\u001b[0;36m10\u001b[0m\u001b[0;34m)\u001b[0m\u001b[0;34m:\u001b[0m\u001b[0;34m\u001b[0m\u001b[0;34m\u001b[0m\u001b[0m\n\u001b[0;32m----> 4\u001b[0;31m         \u001b[0mpredictions\u001b[0m \u001b[0;34m+=\u001b[0m \u001b[0mX\u001b[0m\u001b[0;34m[\u001b[0m\u001b[0;34m:\u001b[0m\u001b[0;34m,\u001b[0m \u001b[0mi\u001b[0m\u001b[0;34m]\u001b[0m \u001b[0;34m*\u001b[0m \u001b[0mW\u001b[0m\u001b[0;34m[\u001b[0m\u001b[0mi\u001b[0m\u001b[0;34m]\u001b[0m\u001b[0;34m\u001b[0m\u001b[0;34m\u001b[0m\u001b[0m\n\u001b[0m\u001b[1;32m      5\u001b[0m     \u001b[0mpredictions\u001b[0m \u001b[0;34m+=\u001b[0m \u001b[0mb\u001b[0m\u001b[0;34m\u001b[0m\u001b[0;34m\u001b[0m\u001b[0m\n\u001b[1;32m      6\u001b[0m     \u001b[0;32mreturn\u001b[0m \u001b[0mpredictions\u001b[0m\u001b[0;34m\u001b[0m\u001b[0;34m\u001b[0m\u001b[0m\n",
      "\u001b[0;31mIndexError\u001b[0m: index 2 is out of bounds for axis 1 with size 2"
     ]
    }
   ],
   "source": [
    "y_pred = model(X,W,b)"
   ]
  },
  {
   "cell_type": "code",
   "execution_count": 54,
   "id": "7d3b3547",
   "metadata": {},
   "outputs": [
    {
     "name": "stdout",
     "output_type": "stream",
     "text": [
      "(2,)\n",
      "(5, 2)\n",
      "(5, 1)\n",
      "(5, 1)\n"
     ]
    }
   ],
   "source": [
    "print(W.shape)\n",
    "#print(b.shape)\n",
    "print(X.shape)\n",
    "print(y.shape)\n",
    "print(y_pred.shape)"
   ]
  },
  {
   "cell_type": "code",
   "execution_count": 55,
   "id": "2fb5e0b9",
   "metadata": {},
   "outputs": [
    {
     "ename": "IndexError",
     "evalue": "index 2 is out of bounds for axis 1 with size 2",
     "output_type": "error",
     "traceback": [
      "\u001b[0;31m---------------------------------------------------------------------------\u001b[0m",
      "\u001b[0;31mIndexError\u001b[0m                                Traceback (most recent call last)",
      "\u001b[0;32m/tmp/ipykernel_384/2900240044.py\u001b[0m in \u001b[0;36m<module>\u001b[0;34m\u001b[0m\n\u001b[0;32m----> 1\u001b[0;31m \u001b[0mdW\u001b[0m\u001b[0;34m,\u001b[0m \u001b[0mdb\u001b[0m \u001b[0;34m=\u001b[0m \u001b[0mgradient\u001b[0m\u001b[0;34m(\u001b[0m\u001b[0mX\u001b[0m\u001b[0;34m,\u001b[0m \u001b[0mW\u001b[0m\u001b[0;34m,\u001b[0m \u001b[0mb\u001b[0m\u001b[0;34m,\u001b[0m \u001b[0my\u001b[0m\u001b[0;34m)\u001b[0m\u001b[0;34m\u001b[0m\u001b[0;34m\u001b[0m\u001b[0m\n\u001b[0m\u001b[1;32m      2\u001b[0m \u001b[0mprint\u001b[0m\u001b[0;34m(\u001b[0m\u001b[0;34m\"dW:\"\u001b[0m\u001b[0;34m,\u001b[0m \u001b[0mdW\u001b[0m\u001b[0;34m)\u001b[0m\u001b[0;34m\u001b[0m\u001b[0;34m\u001b[0m\u001b[0m\n\u001b[1;32m      3\u001b[0m \u001b[0mprint\u001b[0m\u001b[0;34m(\u001b[0m\u001b[0;34m\"db:\"\u001b[0m\u001b[0;34m,\u001b[0m \u001b[0mdb\u001b[0m\u001b[0;34m)\u001b[0m\u001b[0;34m\u001b[0m\u001b[0;34m\u001b[0m\u001b[0m\n",
      "\u001b[0;32m/tmp/ipykernel_384/1917085297.py\u001b[0m in \u001b[0;36mgradient\u001b[0;34m(X, W, b, y)\u001b[0m\n\u001b[1;32m      1\u001b[0m \u001b[0;32mdef\u001b[0m \u001b[0mgradient\u001b[0m\u001b[0;34m(\u001b[0m\u001b[0mX\u001b[0m\u001b[0;34m,\u001b[0m \u001b[0mW\u001b[0m\u001b[0;34m,\u001b[0m \u001b[0mb\u001b[0m\u001b[0;34m,\u001b[0m \u001b[0my\u001b[0m\u001b[0;34m)\u001b[0m\u001b[0;34m:\u001b[0m\u001b[0;34m\u001b[0m\u001b[0;34m\u001b[0m\u001b[0m\n\u001b[1;32m      2\u001b[0m     \u001b[0mN\u001b[0m \u001b[0;34m=\u001b[0m \u001b[0mlen\u001b[0m\u001b[0;34m(\u001b[0m\u001b[0mW\u001b[0m\u001b[0;34m)\u001b[0m\u001b[0;34m\u001b[0m\u001b[0;34m\u001b[0m\u001b[0m\n\u001b[0;32m----> 3\u001b[0;31m     \u001b[0my_pred\u001b[0m \u001b[0;34m=\u001b[0m \u001b[0mmodel\u001b[0m\u001b[0;34m(\u001b[0m\u001b[0mX\u001b[0m\u001b[0;34m,\u001b[0m \u001b[0mW\u001b[0m\u001b[0;34m,\u001b[0m \u001b[0mb\u001b[0m\u001b[0;34m)\u001b[0m\u001b[0;34m\u001b[0m\u001b[0;34m\u001b[0m\u001b[0m\n\u001b[0m\u001b[1;32m      4\u001b[0m     \u001b[0mdW\u001b[0m \u001b[0;34m=\u001b[0m \u001b[0;36m1\u001b[0m\u001b[0;34m/\u001b[0m\u001b[0mN\u001b[0m \u001b[0;34m*\u001b[0m \u001b[0;36m2\u001b[0m \u001b[0;34m*\u001b[0m \u001b[0mX\u001b[0m\u001b[0;34m.\u001b[0m\u001b[0mT\u001b[0m\u001b[0;34m.\u001b[0m\u001b[0mdot\u001b[0m\u001b[0;34m(\u001b[0m\u001b[0my_pred\u001b[0m \u001b[0;34m-\u001b[0m \u001b[0my\u001b[0m\u001b[0;34m)\u001b[0m\u001b[0;34m\u001b[0m\u001b[0;34m\u001b[0m\u001b[0m\n\u001b[1;32m      5\u001b[0m     \u001b[0mdb\u001b[0m \u001b[0;34m=\u001b[0m \u001b[0;36m2\u001b[0m \u001b[0;34m*\u001b[0m \u001b[0;34m(\u001b[0m\u001b[0my_pred\u001b[0m \u001b[0;34m-\u001b[0m \u001b[0my\u001b[0m\u001b[0;34m)\u001b[0m\u001b[0;34m.\u001b[0m\u001b[0mmean\u001b[0m\u001b[0;34m(\u001b[0m\u001b[0;34m)\u001b[0m\u001b[0;34m\u001b[0m\u001b[0;34m\u001b[0m\u001b[0m\n",
      "\u001b[0;32m/tmp/ipykernel_384/3637438459.py\u001b[0m in \u001b[0;36mmodel\u001b[0;34m(X, W, b)\u001b[0m\n\u001b[1;32m      2\u001b[0m     \u001b[0mpredictions\u001b[0m \u001b[0;34m=\u001b[0m \u001b[0;36m0\u001b[0m\u001b[0;34m\u001b[0m\u001b[0;34m\u001b[0m\u001b[0m\n\u001b[1;32m      3\u001b[0m     \u001b[0;32mfor\u001b[0m \u001b[0mi\u001b[0m \u001b[0;32min\u001b[0m \u001b[0mrange\u001b[0m\u001b[0;34m(\u001b[0m\u001b[0;36m10\u001b[0m\u001b[0;34m)\u001b[0m\u001b[0;34m:\u001b[0m\u001b[0;34m\u001b[0m\u001b[0;34m\u001b[0m\u001b[0m\n\u001b[0;32m----> 4\u001b[0;31m         \u001b[0mpredictions\u001b[0m \u001b[0;34m+=\u001b[0m \u001b[0mX\u001b[0m\u001b[0;34m[\u001b[0m\u001b[0;34m:\u001b[0m\u001b[0;34m,\u001b[0m \u001b[0mi\u001b[0m\u001b[0;34m]\u001b[0m \u001b[0;34m*\u001b[0m \u001b[0mW\u001b[0m\u001b[0;34m[\u001b[0m\u001b[0mi\u001b[0m\u001b[0;34m]\u001b[0m\u001b[0;34m\u001b[0m\u001b[0;34m\u001b[0m\u001b[0m\n\u001b[0m\u001b[1;32m      5\u001b[0m     \u001b[0mpredictions\u001b[0m \u001b[0;34m+=\u001b[0m \u001b[0mb\u001b[0m\u001b[0;34m\u001b[0m\u001b[0;34m\u001b[0m\u001b[0m\n\u001b[1;32m      6\u001b[0m     \u001b[0;32mreturn\u001b[0m \u001b[0mpredictions\u001b[0m\u001b[0;34m\u001b[0m\u001b[0;34m\u001b[0m\u001b[0m\n",
      "\u001b[0;31mIndexError\u001b[0m: index 2 is out of bounds for axis 1 with size 2"
     ]
    }
   ],
   "source": [
    "dW, db = gradient(X, W, b, y)\n",
    "print(\"dW:\", dW)\n",
    "print(\"db:\", db)"
   ]
  },
  {
   "cell_type": "code",
   "execution_count": 42,
   "id": "b4eab6e9",
   "metadata": {},
   "outputs": [
    {
     "name": "stdout",
     "output_type": "stream",
     "text": [
      "(10, 353)\n",
      "()\n",
      "(10,)\n"
     ]
    }
   ],
   "source": [
    "dW, db = gradient(X_train, W, b, y_train)\n",
    "print(dW.shape)\n",
    "print(db.shape)\n",
    "print(W.shape)"
   ]
  },
  {
   "cell_type": "code",
   "execution_count": 43,
   "id": "b53ca507",
   "metadata": {},
   "outputs": [
    {
     "data": {
      "text/plain": [
       "array([[ 52.13721262,  52.13775406,  52.13811303, ...,  52.13478306,\n",
       "         52.13741115,  52.13609378],\n",
       "       [  0.50618634,   0.50874262,   0.51043743, ...,   0.4947157 ,\n",
       "          0.50712365,   0.50090398],\n",
       "       [178.90077448, 178.89363939, 178.88890883, ..., 178.93279128,\n",
       "        178.89815825, 178.91551859],\n",
       "       ...,\n",
       "       [126.77738558, 126.77249432, 126.76925141, ..., 126.7993338 ,\n",
       "        126.7755921 , 126.78749299],\n",
       "       [160.84622902, 160.84332452, 160.84139884, ..., 160.85926216,\n",
       "        160.84516402, 160.85223093],\n",
       "       [122.29153448, 122.28496469, 122.28060892, ..., 122.32101467,\n",
       "        122.28912553, 122.30511045]])"
      ]
     },
     "execution_count": 43,
     "metadata": {},
     "output_type": "execute_result"
    }
   ],
   "source": [
    "WW = W.reshape(-1,1)- dW\n",
    "WW"
   ]
  },
  {
   "cell_type": "markdown",
   "id": "d6a66578",
   "metadata": {},
   "source": [
    "## (8) 하이퍼 파라미터인 학습률 설정하기"
   ]
  },
  {
   "cell_type": "code",
   "execution_count": 44,
   "id": "6e8c317e",
   "metadata": {},
   "outputs": [],
   "source": [
    "LEARNING_RATE = 0.0001"
   ]
  },
  {
   "cell_type": "code",
   "execution_count": 45,
   "id": "7249af01",
   "metadata": {
    "scrolled": true
   },
   "outputs": [
    {
     "data": {
      "text/plain": [
       "array([[0.65534785, 0.65534791, 0.65534794, ..., 0.65534761, 0.65534787,\n",
       "        0.65534774],\n",
       "       [0.11598517, 0.11598543, 0.1159856 , ..., 0.11598402, 0.11598526,\n",
       "        0.11598464],\n",
       "       [0.74927408, 0.74927336, 0.74927289, ..., 0.74927728, 0.74927382,\n",
       "        0.74927555],\n",
       "       ...,\n",
       "       [0.30505955, 0.30505906, 0.30505873, ..., 0.30506174, 0.30505937,\n",
       "        0.30506056],\n",
       "       [0.46610542, 0.46610513, 0.46610494, ..., 0.46610672, 0.46610531,\n",
       "        0.46610602],\n",
       "       [0.6807639 , 0.68076324, 0.68076281, ..., 0.68076685, 0.68076366,\n",
       "        0.68076526]])"
      ]
     },
     "execution_count": 45,
     "metadata": {},
     "output_type": "execute_result"
    }
   ],
   "source": [
    "W.reshape(-1,1)-LEARNING_RATE*dW"
   ]
  },
  {
   "cell_type": "markdown",
   "id": "a6ad9c1a",
   "metadata": {},
   "source": [
    "## (9) 모델 학습하기"
   ]
  },
  {
   "cell_type": "code",
   "execution_count": 46,
   "id": "5b9500b8",
   "metadata": {
    "scrolled": true
   },
   "outputs": [
    {
     "ename": "ValueError",
     "evalue": "operands could not be broadcast together with shapes (3530,1) (10,353) ",
     "output_type": "error",
     "traceback": [
      "\u001b[0;31m---------------------------------------------------------------------------\u001b[0m",
      "\u001b[0;31mValueError\u001b[0m                                Traceback (most recent call last)",
      "\u001b[0;32m/tmp/ipykernel_384/281286117.py\u001b[0m in \u001b[0;36m<module>\u001b[0;34m\u001b[0m\n\u001b[1;32m      5\u001b[0m \u001b[0;32mfor\u001b[0m \u001b[0mi\u001b[0m \u001b[0;32min\u001b[0m \u001b[0mrange\u001b[0m\u001b[0;34m(\u001b[0m\u001b[0;36m1\u001b[0m\u001b[0;34m,\u001b[0m \u001b[0mn_epoch\u001b[0m\u001b[0;34m)\u001b[0m\u001b[0;34m:\u001b[0m\u001b[0;34m\u001b[0m\u001b[0;34m\u001b[0m\u001b[0m\n\u001b[1;32m      6\u001b[0m     \u001b[0mdW\u001b[0m\u001b[0;34m,\u001b[0m \u001b[0mdb\u001b[0m \u001b[0;34m=\u001b[0m \u001b[0mgradient\u001b[0m\u001b[0;34m(\u001b[0m\u001b[0mX_train\u001b[0m\u001b[0;34m,\u001b[0m \u001b[0mW\u001b[0m\u001b[0;34m,\u001b[0m \u001b[0mb\u001b[0m\u001b[0;34m,\u001b[0m \u001b[0my_train\u001b[0m\u001b[0;34m)\u001b[0m\u001b[0;34m\u001b[0m\u001b[0;34m\u001b[0m\u001b[0m\n\u001b[0;32m----> 7\u001b[0;31m     \u001b[0mW\u001b[0m \u001b[0;34m=\u001b[0m \u001b[0mW\u001b[0m\u001b[0;34m.\u001b[0m\u001b[0mreshape\u001b[0m\u001b[0;34m(\u001b[0m\u001b[0;34m-\u001b[0m\u001b[0;36m1\u001b[0m\u001b[0;34m,\u001b[0m\u001b[0;36m1\u001b[0m\u001b[0;34m)\u001b[0m \u001b[0;34m-\u001b[0m \u001b[0mLEARNING_RATE\u001b[0m \u001b[0;34m*\u001b[0m \u001b[0mdW\u001b[0m\u001b[0;34m\u001b[0m\u001b[0;34m\u001b[0m\u001b[0m\n\u001b[0m\u001b[1;32m      8\u001b[0m     \u001b[0mb\u001b[0m \u001b[0;34m-=\u001b[0m \u001b[0mLEARNING_RATE\u001b[0m \u001b[0;34m*\u001b[0m \u001b[0mdb\u001b[0m\u001b[0;34m\u001b[0m\u001b[0;34m\u001b[0m\u001b[0m\n\u001b[1;32m      9\u001b[0m     \u001b[0mL\u001b[0m \u001b[0;34m=\u001b[0m \u001b[0mloss\u001b[0m\u001b[0;34m(\u001b[0m\u001b[0mX_train\u001b[0m\u001b[0;34m,\u001b[0m \u001b[0mW\u001b[0m\u001b[0;34m,\u001b[0m \u001b[0mb\u001b[0m\u001b[0;34m,\u001b[0m \u001b[0my_train\u001b[0m\u001b[0;34m)\u001b[0m\u001b[0;34m\u001b[0m\u001b[0;34m\u001b[0m\u001b[0m\n",
      "\u001b[0;31mValueError\u001b[0m: operands could not be broadcast together with shapes (3530,1) (10,353) "
     ]
    }
   ],
   "source": [
    "losses = []\n",
    "\n",
    "n_epoch = 1001\n",
    "\n",
    "for i in range(1, n_epoch):\n",
    "    dW, db = gradient(X_train, W, b, y_train)\n",
    "    W = W.reshape(-1,1) - LEARNING_RATE * dW\n",
    "    b -= LEARNING_RATE * db\n",
    "    L = loss(X_train, W, b, y_train)\n",
    "    losses.append(L)\n",
    "    if i % 10 == 0:\n",
    "        print('Iteration %d : Loss %0.4f' % (i, L))"
   ]
  },
  {
   "cell_type": "code",
   "execution_count": null,
   "id": "8b8f3f96",
   "metadata": {
    "scrolled": true
   },
   "outputs": [],
   "source": [
    "import matplotlib.pyplot as plt\n",
    "plt.plot(losses)\n",
    "plt.show()"
   ]
  },
  {
   "cell_type": "code",
   "execution_count": null,
   "id": "bed30b82",
   "metadata": {
    "scrolled": true
   },
   "outputs": [],
   "source": [
    "W, b"
   ]
  },
  {
   "cell_type": "markdown",
   "id": "6def35a5",
   "metadata": {},
   "source": [
    "## (10) test 데이터에 대한 성능 확인하기"
   ]
  },
  {
   "cell_type": "code",
   "execution_count": null,
   "id": "2ef2688d",
   "metadata": {},
   "outputs": [],
   "source": [
    "prediction = model(X_test, W, b)\n",
    "mse = loss(X_test, W, b, y_test)\n",
    "mse"
   ]
  },
  {
   "cell_type": "code",
   "execution_count": null,
   "id": "94aa8904",
   "metadata": {},
   "outputs": [],
   "source": []
  },
  {
   "cell_type": "code",
   "execution_count": null,
   "id": "282d91f5",
   "metadata": {},
   "outputs": [],
   "source": []
  },
  {
   "cell_type": "markdown",
   "id": "00837425",
   "metadata": {},
   "source": [
    "## (11) 정답 데이터와 예측한 데이터 시각화하기"
   ]
  }
 ],
 "metadata": {
  "kernelspec": {
   "display_name": "Python 3 (ipykernel)",
   "language": "python",
   "name": "python3"
  },
  "language_info": {
   "codemirror_mode": {
    "name": "ipython",
    "version": 3
   },
   "file_extension": ".py",
   "mimetype": "text/x-python",
   "name": "python",
   "nbconvert_exporter": "python",
   "pygments_lexer": "ipython3",
   "version": "3.9.7"
  }
 },
 "nbformat": 4,
 "nbformat_minor": 5
}
