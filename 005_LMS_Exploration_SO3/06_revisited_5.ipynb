{
 "cells": [
  {
   "cell_type": "code",
   "execution_count": 1,
   "id": "d7c33cc8",
   "metadata": {},
   "outputs": [
    {
     "name": "stdout",
     "output_type": "stream",
     "text": [
      "['First Citizen:', 'Before we proceed any further, hear me speak.', '', 'All:', 'Speak, speak.', '', 'First Citizen:', 'You are all resolved rather to die than to famish?', '']\n",
      "40000\n"
     ]
    }
   ],
   "source": [
    "# os: Operating System의 줄임말로, 운영체제에서 제공되는 여러 기능을 파이썬에서 사용할 수 있도록 함 (Ex. 디렉토리 경로 이동, 시스템 환경 변수 가져오기 등)\n",
    "# re: Regular Expression의 줄임말로, 파이썬 정규표현식을 사용하기 위한 모듈\n",
    "# numpy(NumPy): 행렬이나 대규모 다차원 배열을 쉽게 처리할 수 있도록 지원하는 라이브러리. 데이터 구조 외에도 수치 계산을 위해 효율적으로 구현된 기능을 제공\n",
    "# tensorflow(TensorFlow): 데이터 흐름 프로그래밍을 위한 라이브러리. 데이터 그래프를 수치적으로 연산하기 위해 구글에서 만든 오픈 소스 라이브러리.\n",
    "import os, re \n",
    "import numpy as np\n",
    "import tensorflow as tf\n",
    "\n",
    "# os 모듈에 있는 getenv() 함수를 이용하여 읽고싶은 파일의 경로를 file_path에 저장\n",
    "# 파일을 읽기모드로 열고\n",
    "# 라인 단위로 끊어서 list 형태로 읽어옵니다.\n",
    "file_path = os.getenv('HOME') + '/aiffel/lyricist/data/shakespeare.txt'\n",
    "with open(file_path, \"r\") as f:\n",
    "    raw_corpus = f.read().splitlines()\n",
    "\n",
    "# 앞에서부터 10라인만 화면에 출력해 볼까요?\n",
    "print(raw_corpus[:9])\n",
    "print(len(raw_corpus))"
   ]
  },
  {
   "cell_type": "code",
   "execution_count": 2,
   "id": "e33a47aa",
   "metadata": {},
   "outputs": [
    {
     "name": "stdout",
     "output_type": "stream",
     "text": [
      "Before we proceed any further, hear me speak.\n"
     ]
    }
   ],
   "source": [
    "# enumerate() 함수를 이용하여 raw_corpus list 내에 저장된 문장과 그 문장의 인덱스를 반환 (인덱스, 문장 순)\n",
    "for idx, sentence in enumerate(raw_corpus):\n",
    "    if len(sentence) == 0: continue   # 길이가 0인 문장은 건너뜁니다.\n",
    "    if sentence[-1] == \":\": continue  # 문장의 끝이 : 인 문장은 건너뜁니다.\n",
    "\n",
    "    if idx > 3: break   # 일단 문장 10개만 확인해 볼 겁니다.\n",
    "        \n",
    "    print(sentence)"
   ]
  },
  {
   "cell_type": "code",
   "execution_count": 3,
   "id": "cf3bffb9",
   "metadata": {},
   "outputs": [
    {
     "name": "stdout",
     "output_type": "stream",
     "text": [
      "<start> this is sample sentence . <end>\n"
     ]
    }
   ],
   "source": [
    "# 입력된 문장을\n",
    "#     1. 소문자로 바꾸고, 양쪽 공백을 지웁니다\n",
    "#     2. 특수문자 양쪽에 공백을 넣고\n",
    "#     3. 여러개의 공백은 하나의 공백으로 바꿉니다\n",
    "#     4. a-zA-Z?.!,¿가 아닌 모든 문자를 하나의 공백으로 바꿉니다\n",
    "#     5. 다시 양쪽 공백을 지웁니다\n",
    "#     6. 문장 시작에는 <start>, 끝에는 <end>를 추가합니다\n",
    "# 이 순서로 처리해주면 문제가 되는 상황을 방지할 수 있겠네요!\n",
    "def preprocess_sentence(sentence):\n",
    "    sentence = sentence.lower().strip() # 1\n",
    "    sentence = re.sub(r\"([?.!,¿])\", r\" \\1 \", sentence) # 2\n",
    "    sentence = re.sub(r'[\" \"]+', \" \", sentence) # 3\n",
    "    sentence = re.sub(r\"[^a-zA-Z?.!,¿]+\", \" \", sentence) # 4\n",
    "    sentence = sentence.strip() # 5\n",
    "    sentence = '<start> ' + sentence + ' <end>' # 6\n",
    "    return sentence\n",
    "\n",
    "# 이 문장이 어떻게 필터링되는지 확인해 보세요.\n",
    "print(preprocess_sentence(\"This @_is ;;;sample        sentence.\"))"
   ]
  },
  {
   "cell_type": "code",
   "execution_count": 4,
   "id": "33e827a3",
   "metadata": {},
   "outputs": [
    {
     "data": {
      "text/plain": [
       "24015"
      ]
     },
     "execution_count": 4,
     "metadata": {},
     "output_type": "execute_result"
    }
   ],
   "source": [
    "# 여기에 정제된 문장을 모을겁니다\n",
    "corpus = []\n",
    "\n",
    "# raw_corpus list에 저장된 문장들을 순서대로 반환하여 sentence에 저장\n",
    "for sentence in raw_corpus:\n",
    "    # 우리가 원하지 않는 문장은 건너뜁니다\n",
    "    if len(sentence) == 0: continue\n",
    "    if sentence[-1] == \":\": continue\n",
    "    \n",
    "    # 앞서 구현한 preprocess_sentence() 함수를 이용하여 문장을 정제를 하고 담아주세요\n",
    "    preprocessed_sentence = preprocess_sentence(sentence)\n",
    "    corpus.append(preprocessed_sentence)\n",
    "        \n",
    "# 정제된 결과를 10개만 확인해보죠\n",
    "corpus[:10]\n",
    "len(corpus)"
   ]
  },
  {
   "cell_type": "code",
   "execution_count": 5,
   "id": "f6603c18",
   "metadata": {
    "scrolled": true
   },
   "outputs": [
    {
     "name": "stdout",
     "output_type": "stream",
     "text": [
      "[[   2  143   40 ...    0    0    0]\n",
      " [   2  110    4 ...    0    0    0]\n",
      " [   2   11   50 ...    0    0    0]\n",
      " ...\n",
      " [   2  149 4553 ...    0    0    0]\n",
      " [   2   34   71 ...    0    0    0]\n",
      " [   2  945   34 ...    0    0    0]] <keras_preprocessing.text.Tokenizer object at 0x7f70a8216e50>\n",
      "<class 'numpy.ndarray'>\n"
     ]
    }
   ],
   "source": [
    "# 토큰화 할 때 텐서플로우의 Tokenizer와 pad_sequences를 사용합니다\n",
    "# 더 잘 알기 위해 아래 문서들을 참고하면 좋습니다\n",
    "# https://www.tensorflow.org/api_docs/python/tf/keras/preprocessing/text/Tokenizer\n",
    "# https://www.tensorflow.org/api_docs/python/tf/keras/preprocessing/sequence/pad_sequences\n",
    "def tokenize(corpus):\n",
    "    # 7000단어를 기억할 수 있는 tokenizer를 만들겁니다\n",
    "    # 우리는 이미 문장을 정제했으니 filters가 필요없어요\n",
    "    # 7000단어에 포함되지 못한 단어는 '<unk>'로 바꿀거에요\n",
    "    tokenizer = tf.keras.preprocessing.text.Tokenizer(\n",
    "        num_words=7000, \n",
    "        filters=' ',\n",
    "        oov_token=\"<unk>\"\n",
    "    )\n",
    "    # corpus를 이용해 tokenizer 내부의 단어장을 완성합니다\n",
    "    # tokenizer.fit_on_texts(texts): 문자 데이터를 입력받아 리스트의 형태로 변환하는 메서드\n",
    "    tokenizer.fit_on_texts(corpus)\n",
    "    # 준비한 tokenizer를 이용해 corpus를 Tensor로 변환합니다\n",
    "    # tokenizer.texts_to_sequences(texts): 텍스트 안의 단어들을 숫자의 시퀀스 형태로 변환하는 메서드\n",
    "    tensor = tokenizer.texts_to_sequences(corpus)   \n",
    "    # 입력 데이터의 시퀀스 길이를 일정하게 맞춰줍니다\n",
    "    # 만약 시퀀스가 짧다면 문장 뒤에 패딩을 붙여 길이를 맞춰줍니다.\n",
    "    # 문장 앞에 패딩을 붙여 길이를 맞추고 싶다면 padding='pre'를 사용합니다\n",
    "    tensor = tf.keras.preprocessing.sequence.pad_sequences(tensor, padding='post')  \n",
    "    \n",
    "    print(tensor,tokenizer)\n",
    "    return tensor, tokenizer\n",
    "\n",
    "tensor, tokenizer = tokenize(corpus)\n",
    "print(type(tensor))"
   ]
  },
  {
   "cell_type": "code",
   "execution_count": 6,
   "id": "89610981",
   "metadata": {},
   "outputs": [
    {
     "name": "stdout",
     "output_type": "stream",
     "text": [
      "[[   2  143   40  933  140  591    4  124   24  110]\n",
      " [   2  110    4  110    5    3    0    0    0    0]\n",
      " [   2   11   50   43 1201  316    9  201   74    9]]\n"
     ]
    }
   ],
   "source": [
    "print(tensor[:3, :10])"
   ]
  },
  {
   "cell_type": "code",
   "execution_count": 7,
   "id": "50bc3e8e",
   "metadata": {
    "scrolled": true
   },
   "outputs": [
    {
     "name": "stdout",
     "output_type": "stream",
     "text": [
      "1 : <unk>\n",
      "2 : <start>\n",
      "3 : <end>\n",
      "4 : ,\n",
      "5 : .\n",
      "6 : the\n",
      "7 : and\n",
      "8 : i\n",
      "9 : to\n",
      "10 : of\n",
      "False\n"
     ]
    }
   ],
   "source": [
    "# tokenizer.index_word: 현재 계산된 단어의 인덱스와 인덱스에 해당하는 단어를 dictionary 형대로 반환 (Ex. {index: '~~', index: '~~', ...})\n",
    "for idx in tokenizer.index_word:\n",
    "    print(idx, \":\", tokenizer.index_word[idx])\n",
    "\n",
    "    if idx >= 10: break\n",
    "print(0 in tokenizer.index_word)"
   ]
  },
  {
   "cell_type": "code",
   "execution_count": 8,
   "id": "1ea9e3ce",
   "metadata": {},
   "outputs": [
    {
     "name": "stdout",
     "output_type": "stream",
     "text": [
      "[  2 143  40 933 140 591   4 124  24 110   5   3   0   0   0   0   0   0\n",
      "   0   0]\n",
      "[143  40 933 140 591   4 124  24 110   5   3   0   0   0   0   0   0   0\n",
      "   0   0]\n"
     ]
    }
   ],
   "source": [
    "# tensor에서 마지막 토큰을 잘라내서 소스 문장을 생성합니다\n",
    "# 마지막 토큰은 <end>가 아니라 <pad>일 가능성이 높습니다.\n",
    "src_input = tensor[:, :-1]  \n",
    "# tensor에서 <start>를 잘라내서 타겟 문장을 생성합니다.\n",
    "tgt_input = tensor[:, 1:]    \n",
    "\n",
    "print(src_input[0])\n",
    "print(tgt_input[0])"
   ]
  },
  {
   "cell_type": "code",
   "execution_count": 9,
   "id": "597441a9",
   "metadata": {},
   "outputs": [
    {
     "data": {
      "text/plain": [
       "<BatchDataset shapes: ((256, 20), (256, 20)), types: (tf.int32, tf.int32)>"
      ]
     },
     "execution_count": 9,
     "metadata": {},
     "output_type": "execute_result"
    }
   ],
   "source": [
    "BUFFER_SIZE = len(src_input)\n",
    "BATCH_SIZE = 256\n",
    "steps_per_epoch = len(src_input) // BATCH_SIZE\n",
    "\n",
    " # tokenizer가 구축한 단어사전 내 7000개와, 여기 포함되지 않은 0:<pad>를 포함하여 7001개\n",
    " # tokenizer.num_words: 주어진 데이터의 문장들에서 빈도수가 높은 n개의 단어만 선택\n",
    " # tokenize() 함수에서 num_words를 7000개로 선언했기 때문에, tokenizer.num_words의 값은 7000\n",
    "VOCAB_SIZE = tokenizer.num_words + 1   \n",
    "\n",
    "# 준비한 데이터 소스로부터 데이터셋을 만듭니다\n",
    "# 데이터셋에 대해서는 아래 문서를 참고하세요\n",
    "# 자세히 알아둘수록 도움이 많이 되는 중요한 문서입니다\n",
    "# https://www.tensorflow.org/api_docs/python/tf/data/Dataset\n",
    "dataset = tf.data.Dataset.from_tensor_slices((src_input, tgt_input))\n",
    "dataset = dataset.shuffle(BUFFER_SIZE)\n",
    "dataset = dataset.batch(BATCH_SIZE, drop_remainder=True)\n",
    "dataset"
   ]
  },
  {
   "cell_type": "code",
   "execution_count": 10,
   "id": "8a5e5dfb",
   "metadata": {},
   "outputs": [],
   "source": [
    "class TextGenerator(tf.keras.Model):\n",
    "    def __init__(self, vocab_size, embedding_size, hidden_size):\n",
    "        super().__init__()\n",
    "        # Embedding 레이어, 2개의 LSTM 레이어, 1개의 Dense 레이어로 구성되어 있다.\n",
    "        # Embedding 레이어는 단어 사전의 인덱스 값을 해당 인덱스 번째의 워드 벡터로 바꿔준다.\n",
    "        # 이 워드 벡터는 의미 벡터 공간에서 단어의 추상적 표현으로 사용된다. \n",
    "        self.embedding = tf.keras.layers.Embedding(vocab_size, embedding_size) \n",
    "        self.rnn_1 = tf.keras.layers.LSTM(hidden_size, return_sequences=True)  \n",
    "        self.rnn_2 = tf.keras.layers.LSTM(hidden_size, return_sequences=True)\n",
    "        self.linear = tf.keras.layers.Dense(vocab_size)\n",
    "        \n",
    "    def call(self, x):\n",
    "        out = self.embedding(x)\n",
    "        out = self.rnn_1(out)\n",
    "        out = self.rnn_2(out)\n",
    "        out = self.linear(out)\n",
    "        \n",
    "        return out\n",
    "# embedding size 값이 커질수록 단어의 추상적인 특징들을 더 잡아낼 수 있지만\n",
    "# 그만큼 충분한 데이터가 없으면 안좋은 결과 값을 가져옵니다!   \n",
    "embedding_size = 256 # 워드 벡터의 차원수를 말하며 단어가 추상적으로 표현되는 크기입니다.\n",
    "hidden_size = 1024 # 모델에 얼마나 많은 일꾼을 둘 것인가? 정도로 이해하면 좋다.\n",
    "model = TextGenerator(tokenizer.num_words + 1, embedding_size , hidden_size) # tokenizer.num_words에 +1인 이유는 문장에 없는 pad가 사용되었기 때문이다."
   ]
  },
  {
   "cell_type": "code",
   "execution_count": 11,
   "id": "2ba4da78",
   "metadata": {},
   "outputs": [
    {
     "data": {
      "text/plain": [
       "<tf.Tensor: shape=(256, 20, 7001), dtype=float32, numpy=\n",
       "array([[[-1.17961870e-04,  2.50206740e-05,  9.15998171e-05, ...,\n",
       "         -1.68355371e-04, -1.58357125e-05, -8.82669483e-05],\n",
       "        [-2.20142625e-04, -9.03092878e-05,  1.64044075e-04, ...,\n",
       "         -7.18111987e-04, -4.27404884e-05, -3.32481977e-05],\n",
       "        [-3.36533296e-04,  9.90790722e-05,  1.03166734e-04, ...,\n",
       "         -1.08907488e-03,  1.24468570e-04,  1.92459382e-04],\n",
       "        ...,\n",
       "        [-1.25897792e-03,  2.43613031e-03, -8.28412361e-04, ...,\n",
       "          5.79916057e-04,  8.09942721e-04,  2.00460129e-03],\n",
       "        [-1.49693363e-03,  2.67779338e-03, -8.74456018e-04, ...,\n",
       "          8.78432475e-04,  9.07348644e-04,  2.28084647e-03],\n",
       "        [-1.71220407e-03,  2.89850868e-03, -9.66034771e-04, ...,\n",
       "          1.18194206e-03,  9.95614217e-04,  2.54315953e-03]],\n",
       "\n",
       "       [[-1.17961870e-04,  2.50206740e-05,  9.15998171e-05, ...,\n",
       "         -1.68355371e-04, -1.58357125e-05, -8.82669483e-05],\n",
       "        [-2.90620315e-04, -7.72447456e-05, -3.55579687e-04, ...,\n",
       "         -3.65494139e-04,  7.79468610e-05, -1.72205837e-04],\n",
       "        [-4.33592475e-04, -3.52498406e-04, -5.71595854e-04, ...,\n",
       "         -4.05208411e-04,  1.67665799e-04, -1.47354775e-04],\n",
       "        ...,\n",
       "        [-2.71124765e-03,  2.89037940e-03, -5.66871080e-04, ...,\n",
       "          6.60643447e-04, -1.68280778e-04,  2.08433787e-03],\n",
       "        [-2.79943016e-03,  3.14969639e-03, -7.14160153e-04, ...,\n",
       "          9.65776038e-04,  5.55818515e-05,  2.39295443e-03],\n",
       "        [-2.86624162e-03,  3.37382709e-03, -8.88771261e-04, ...,\n",
       "          1.27242692e-03,  2.61814013e-04,  2.66796607e-03]],\n",
       "\n",
       "       [[-1.17961870e-04,  2.50206740e-05,  9.15998171e-05, ...,\n",
       "         -1.68355371e-04, -1.58357125e-05, -8.82669483e-05],\n",
       "        [-3.25113651e-04,  1.50429565e-04,  6.33081945e-05, ...,\n",
       "         -1.45762431e-04,  1.55192407e-04, -1.65436388e-04],\n",
       "        [-2.50343524e-04, -9.38455778e-05, -1.38900126e-04, ...,\n",
       "          2.11946724e-04,  4.26534898e-05, -3.21670930e-04],\n",
       "        ...,\n",
       "        [-1.34407368e-03,  1.08134735e-03, -1.65329693e-04, ...,\n",
       "          1.18985958e-03, -3.00308166e-04,  1.20089552e-03],\n",
       "        [-1.59473589e-03,  1.59169408e-03, -2.66726856e-04, ...,\n",
       "          1.34077680e-03, -7.69978869e-05,  1.42530177e-03],\n",
       "        [-1.82126579e-03,  2.03845091e-03, -4.04802500e-04, ...,\n",
       "          1.52269087e-03,  1.25103106e-04,  1.65916083e-03]],\n",
       "\n",
       "       ...,\n",
       "\n",
       "       [[-1.17961870e-04,  2.50206740e-05,  9.15998171e-05, ...,\n",
       "         -1.68355371e-04, -1.58357125e-05, -8.82669483e-05],\n",
       "        [-3.74010378e-05, -2.13074454e-04,  5.45184885e-04, ...,\n",
       "         -4.47244616e-04, -1.87463462e-04, -3.30151117e-04],\n",
       "        [ 2.50044221e-04, -2.26721066e-04,  7.61577336e-04, ...,\n",
       "         -3.22360749e-04, -7.29553212e-05, -5.81175962e-04],\n",
       "        ...,\n",
       "        [-1.06687495e-03,  1.18937914e-03,  9.46576998e-04, ...,\n",
       "          5.58973588e-05, -1.72143540e-04,  7.78334041e-04],\n",
       "        [-1.25362421e-03,  1.75324187e-03,  7.19145930e-04, ...,\n",
       "          2.62385933e-04, -6.93394577e-06,  9.98738338e-04],\n",
       "        [-1.44179619e-03,  2.24682875e-03,  4.69910970e-04, ...,\n",
       "          5.14213403e-04,  1.49652245e-04,  1.23668346e-03]],\n",
       "\n",
       "       [[-1.17961870e-04,  2.50206740e-05,  9.15998171e-05, ...,\n",
       "         -1.68355371e-04, -1.58357125e-05, -8.82669483e-05],\n",
       "        [ 1.75529800e-04,  1.51739796e-05, -3.43949323e-05, ...,\n",
       "         -4.08987427e-04,  3.24514083e-04, -1.55815593e-04],\n",
       "        [ 1.84188757e-04, -7.26532235e-05, -5.59195585e-04, ...,\n",
       "         -6.37213234e-04,  5.71332464e-04, -1.87422964e-04],\n",
       "        ...,\n",
       "        [-2.39605154e-03,  2.57168384e-03, -1.32825365e-03, ...,\n",
       "          1.29271869e-03,  7.14987982e-04,  2.00907863e-03],\n",
       "        [-2.51948112e-03,  2.85067363e-03, -1.47790811e-03, ...,\n",
       "          1.58003357e-03,  8.42323177e-04,  2.25358945e-03],\n",
       "        [-2.61397357e-03,  3.09494627e-03, -1.63528882e-03, ...,\n",
       "          1.84845540e-03,  9.49706824e-04,  2.48165103e-03]],\n",
       "\n",
       "       [[-1.17961870e-04,  2.50206740e-05,  9.15998171e-05, ...,\n",
       "         -1.68355371e-04, -1.58357125e-05, -8.82669483e-05],\n",
       "        [-2.90620315e-04, -7.72447456e-05, -3.55579687e-04, ...,\n",
       "         -3.65494139e-04,  7.79468610e-05, -1.72205837e-04],\n",
       "        [-3.66099441e-04, -9.23047410e-05, -8.96001176e-04, ...,\n",
       "         -4.80072835e-04, -6.22884472e-05, -4.32461180e-04],\n",
       "        ...,\n",
       "        [-1.76033017e-03,  2.66296230e-03, -9.50690883e-04, ...,\n",
       "          1.44470762e-03,  9.09806462e-04,  1.70736411e-03],\n",
       "        [-1.93390402e-03,  2.97296024e-03, -1.07639004e-03, ...,\n",
       "          1.67722651e-03,  1.00112881e-03,  1.98334316e-03],\n",
       "        [-2.08277628e-03,  3.23413662e-03, -1.22453528e-03, ...,\n",
       "          1.90544687e-03,  1.08040858e-03,  2.24154536e-03]]],\n",
       "      dtype=float32)>"
      ]
     },
     "execution_count": 11,
     "metadata": {},
     "output_type": "execute_result"
    }
   ],
   "source": [
    "# 데이터셋에서 데이터 한 배치만 불러오는 방법입니다.\n",
    "# 지금은 동작 원리에 너무 빠져들지 마세요~\n",
    "for src_sample, tgt_sample in dataset.take(1): break\n",
    "\n",
    "# 한 배치만 불러온 데이터를 모델에 넣어봅니다\n",
    "model(src_sample)"
   ]
  },
  {
   "cell_type": "code",
   "execution_count": 12,
   "id": "dd97f8ab",
   "metadata": {
    "scrolled": true
   },
   "outputs": [
    {
     "name": "stdout",
     "output_type": "stream",
     "text": [
      "Model: \"text_generator\"\n",
      "_________________________________________________________________\n",
      "Layer (type)                 Output Shape              Param #   \n",
      "=================================================================\n",
      "embedding (Embedding)        multiple                  1792256   \n",
      "_________________________________________________________________\n",
      "lstm (LSTM)                  multiple                  5246976   \n",
      "_________________________________________________________________\n",
      "lstm_1 (LSTM)                multiple                  8392704   \n",
      "_________________________________________________________________\n",
      "dense (Dense)                multiple                  7176025   \n",
      "=================================================================\n",
      "Total params: 22,607,961\n",
      "Trainable params: 22,607,961\n",
      "Non-trainable params: 0\n",
      "_________________________________________________________________\n"
     ]
    }
   ],
   "source": [
    "# 모델의 구조를 확인합니다.\n",
    "model.summary()"
   ]
  },
  {
   "cell_type": "code",
   "execution_count": 13,
   "id": "98e3f71d",
   "metadata": {
    "scrolled": true
   },
   "outputs": [
    {
     "name": "stdout",
     "output_type": "stream",
     "text": [
      "Epoch 1/30\n",
      "93/93 [==============================] - 22s 212ms/step - loss: 3.4771\n",
      "Epoch 2/30\n",
      "93/93 [==============================] - 19s 205ms/step - loss: 2.8070\n",
      "Epoch 3/30\n",
      "93/93 [==============================] - 18s 198ms/step - loss: 2.7020\n",
      "Epoch 4/30\n",
      "93/93 [==============================] - 19s 199ms/step - loss: 2.6013\n",
      "Epoch 5/30\n",
      "93/93 [==============================] - 19s 203ms/step - loss: 2.5337\n",
      "Epoch 6/30\n",
      "93/93 [==============================] - 19s 205ms/step - loss: 2.4787\n",
      "Epoch 7/30\n",
      "93/93 [==============================] - 19s 203ms/step - loss: 2.4230\n",
      "Epoch 8/30\n",
      "93/93 [==============================] - 19s 202ms/step - loss: 2.3752\n",
      "Epoch 9/30\n",
      "93/93 [==============================] - 19s 203ms/step - loss: 2.3292\n",
      "Epoch 10/30\n",
      "93/93 [==============================] - 19s 203ms/step - loss: 2.2830\n",
      "Epoch 11/30\n",
      "93/93 [==============================] - 19s 203ms/step - loss: 2.2363\n",
      "Epoch 12/30\n",
      "93/93 [==============================] - 19s 202ms/step - loss: 2.1925\n",
      "Epoch 13/30\n",
      "93/93 [==============================] - 19s 202ms/step - loss: 2.1500\n",
      "Epoch 14/30\n",
      "93/93 [==============================] - 19s 203ms/step - loss: 2.1083\n",
      "Epoch 15/30\n",
      "93/93 [==============================] - 19s 203ms/step - loss: 2.0660\n",
      "Epoch 16/30\n",
      "93/93 [==============================] - 19s 202ms/step - loss: 2.0223\n",
      "Epoch 17/30\n",
      "93/93 [==============================] - 19s 203ms/step - loss: 1.9801\n",
      "Epoch 18/30\n",
      "93/93 [==============================] - 19s 203ms/step - loss: 1.9377\n",
      "Epoch 19/30\n",
      "93/93 [==============================] - 19s 203ms/step - loss: 1.8936\n",
      "Epoch 20/30\n",
      "93/93 [==============================] - 19s 203ms/step - loss: 1.8493\n",
      "Epoch 21/30\n",
      "93/93 [==============================] - 19s 203ms/step - loss: 1.8051\n",
      "Epoch 22/30\n",
      "93/93 [==============================] - 19s 203ms/step - loss: 1.7619\n",
      "Epoch 23/30\n",
      "93/93 [==============================] - 19s 203ms/step - loss: 1.7175\n",
      "Epoch 24/30\n",
      "93/93 [==============================] - 19s 202ms/step - loss: 1.6746\n",
      "Epoch 25/30\n",
      "93/93 [==============================] - 19s 203ms/step - loss: 1.6308\n",
      "Epoch 26/30\n",
      "93/93 [==============================] - 19s 203ms/step - loss: 1.5872\n",
      "Epoch 27/30\n",
      "93/93 [==============================] - 19s 202ms/step - loss: 1.5427\n",
      "Epoch 28/30\n",
      "93/93 [==============================] - 19s 203ms/step - loss: 1.4983\n",
      "Epoch 29/30\n",
      "93/93 [==============================] - 19s 203ms/step - loss: 1.4552\n",
      "Epoch 30/30\n",
      "93/93 [==============================] - 19s 202ms/step - loss: 1.4106\n"
     ]
    },
    {
     "data": {
      "text/plain": [
       "<keras.callbacks.History at 0x7f70199ca580>"
      ]
     },
     "execution_count": 13,
     "metadata": {},
     "output_type": "execute_result"
    }
   ],
   "source": [
    "# optimizer와 loss등은 차차 배웁니다\n",
    "# 혹시 미리 알고 싶다면 아래 문서를 참고하세요\n",
    "# https://www.tensorflow.org/api_docs/python/tf/keras/optimizers\n",
    "# https://www.tensorflow.org/api_docs/python/tf/keras/losses\n",
    "# 양이 상당히 많은 편이니 지금 보는 것은 추천하지 않습니다\n",
    "\n",
    "# Adam 알고리즘을 구현하는 optimzier이며 어떤 optimzier를 써야할지 모른다면 Adam을 쓰는 것도 방법이다.\n",
    "# 우리가 학습을 할 때 최대한 틀리지 않는 방향으로 학습을 해야한다.\n",
    "# 여기서 얼마나 틀리는지(loss)를 알게하는 함수가 손실함수 이다.\n",
    "# 이 손실함수의 최소값을 찾는 것을 학습의 목표로 하며 여기서 최소값을 찾아가는 과정을 optimization 이라하고\n",
    "# 이를 수행하는 알고리즘을 optimizer(최적화)라고 한다.\n",
    "\n",
    "optimizer = tf.keras.optimizers.Adam() # Adam은 현재 가장 많이 사용하는 옵티마이저이다. 자세한 내용은 차차 배운다.\n",
    "loss = tf.keras.losses.SparseCategoricalCrossentropy( # 훈련 데이터의 라벨이 정수의 형태로 제공될 때 사용하는 손실함수이다.\n",
    "    from_logits=True, # 기본값은 False이다. 모델에 의해 생성된 출력 값이 정규화되지 않았음을 손실 함수에 알려준다. 즉 softmax함수가 적용되지 않았다는걸 의미한다. \n",
    "    reduction='none'  # 기본값은 SUM이다. 각자 나오는 값의 반환 원할 때 None을 사용한다.\n",
    ")\n",
    "# 모델을 학습시키키 위한 학습과정을 설정하는 단계이다.\n",
    "model.compile(loss=loss, optimizer=optimizer) # 손실함수와 훈련과정을 설정했다.\n",
    "model.fit(dataset, epochs=30) # 만들어둔 데이터셋으로 모델을 학습한다. 30번 학습을 반복하겠다는 의미다."
   ]
  },
  {
   "cell_type": "code",
   "execution_count": 14,
   "id": "8e7db053",
   "metadata": {},
   "outputs": [],
   "source": [
    "#문장생성 함수 정의\n",
    "#모델에게 시작 문장을 전달하면 모델이 시작 문장을 바탕으로 작문을 진행\n",
    "def generate_text(model, tokenizer, init_sentence=\"<start>\", max_len=20): #시작 문자열을 init_sentence 로 받으며 디폴트값은 <start> 를 받는다\n",
    "    # 테스트를 위해서 입력받은 init_sentence도 텐서로 변환합니다\n",
    "    test_input = tokenizer.texts_to_sequences([init_sentence]) #텍스트 안의 단어들을 숫자의 시퀀스의 형태로 변환\n",
    "    test_tensor = tf.convert_to_tensor(test_input, dtype=tf.int64)\n",
    "    end_token = tokenizer.word_index[\"<end>\"]\n",
    "\n",
    "    # 단어 하나씩 예측해 문장을 만듭니다\n",
    "    #    1. 입력받은 문장의 텐서를 입력합니다\n",
    "    #    2. 예측된 값 중 가장 높은 확률인 word index를 뽑아냅니다\n",
    "    #    3. 2에서 예측된 word index를 문장 뒤에 붙입니다\n",
    "    #    4. 모델이 <end>를 예측했거나, max_len에 도달했다면 문장 생성을 마칩니다 (도달 하지 못하였으면 while 루프를 돌면서 다음 단어를 예측)\n",
    "    while True: #루프를 돌면서 init_sentence에 단어를 하나씩 생성성\n",
    "        # 1\n",
    "        predict = model(test_tensor) \n",
    "        # 2\n",
    "        predict_word = tf.argmax(tf.nn.softmax(predict, axis=-1), axis=-1)[:, -1] \n",
    "        # 3 \n",
    "        test_tensor = tf.concat([test_tensor, tf.expand_dims(predict_word, axis=0)], axis=-1)\n",
    "        # 4 \n",
    "        if predict_word.numpy()[0] == end_token: break\n",
    "        if test_tensor.shape[1] >= max_len: break\n",
    "\n",
    "    generated = \"\"\n",
    "    # tokenizer를 이용해 word index를 단어로 하나씩 변환합니다 \n",
    "    for word_index in test_tensor[0].numpy():\n",
    "        generated += tokenizer.index_word[word_index] + \" \"\n",
    "\n",
    "    return generated #최종적으로 모델이 생성한 문장을 반환"
   ]
  },
  {
   "cell_type": "code",
   "execution_count": 15,
   "id": "00fc249b",
   "metadata": {},
   "outputs": [
    {
     "data": {
      "text/plain": [
       "'<start> he like to play the world , and so in them <end> '"
      ]
     },
     "execution_count": 15,
     "metadata": {},
     "output_type": "execute_result"
    }
   ],
   "source": [
    "generate_text(model, tokenizer, init_sentence=\"<start> he like to play\") # 시작문장으로 he를 넣어 문장생성 함수 실행"
   ]
  },
  {
   "cell_type": "code",
   "execution_count": null,
   "id": "5302745a",
   "metadata": {},
   "outputs": [],
   "source": []
  }
 ],
 "metadata": {
  "kernelspec": {
   "display_name": "Python 3 (ipykernel)",
   "language": "python",
   "name": "python3"
  },
  "language_info": {
   "codemirror_mode": {
    "name": "ipython",
    "version": 3
   },
   "file_extension": ".py",
   "mimetype": "text/x-python",
   "name": "python",
   "nbconvert_exporter": "python",
   "pygments_lexer": "ipython3",
   "version": "3.9.7"
  }
 },
 "nbformat": 4,
 "nbformat_minor": 5
}
