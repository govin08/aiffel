{
 "cells": [
  {
   "cell_type": "markdown",
   "id": "bdab5ffa",
   "metadata": {},
   "source": [
    "# "
   ]
  },
  {
   "cell_type": "markdown",
   "id": "19e631e5",
   "metadata": {},
   "source": [
    "# "
   ]
  },
  {
   "cell_type": "markdown",
   "id": "7f9ad65a",
   "metadata": {},
   "source": [
    "# "
   ]
  },
  {
   "cell_type": "markdown",
   "id": "257c4646",
   "metadata": {},
   "source": [
    "# "
   ]
  },
  {
   "cell_type": "markdown",
   "id": "38a2ea26",
   "metadata": {},
   "source": [
    "# "
   ]
  },
  {
   "cell_type": "markdown",
   "id": "58d60556",
   "metadata": {},
   "source": [
    "# "
   ]
  },
  {
   "cell_type": "markdown",
   "id": "2afd015c",
   "metadata": {},
   "source": [
    "# "
   ]
  },
  {
   "cell_type": "markdown",
   "id": "1e8d754a",
   "metadata": {},
   "source": [
    "## "
   ]
  },
  {
   "cell_type": "markdown",
   "id": "07d0ffc3",
   "metadata": {},
   "source": [
    "## 어떻게 만들까? 사진 준비하기"
   ]
  },
  {
   "cell_type": "markdown",
   "id": "f0750387",
   "metadata": {},
   "source": [
    "### "
   ]
  },
  {
   "cell_type": "code",
   "execution_count": 2,
   "id": "11d2255b",
   "metadata": {},
   "outputs": [
    {
     "name": "stderr",
     "output_type": "stream",
     "text": [
      "ERROR: Could not find a version that satisfies the requirement cv2 (from versions: none)\n",
      "ERROR: No matching distribution found for cv2\n"
     ]
    }
   ],
   "source": [
    "!pip install cv2"
   ]
  },
  {
   "cell_type": "code",
   "execution_count": 1,
   "id": "a09934f6",
   "metadata": {},
   "outputs": [
    {
     "ename": "ModuleNotFoundError",
     "evalue": "No module named 'cv2'",
     "output_type": "error",
     "traceback": [
      "\u001b[1;31m---------------------------------------------------------------------------\u001b[0m",
      "\u001b[1;31mModuleNotFoundError\u001b[0m                       Traceback (most recent call last)",
      "Input \u001b[1;32mIn [1]\u001b[0m, in \u001b[0;36m<cell line: 3>\u001b[1;34m()\u001b[0m\n\u001b[0;32m      1\u001b[0m \u001b[38;5;66;03m# 필요한 패키지 import 하기\u001b[39;00m\n\u001b[0;32m      2\u001b[0m \u001b[38;5;28;01mimport\u001b[39;00m \u001b[38;5;21;01mos\u001b[39;00m \u001b[38;5;66;03m# 환경 변수나 디렉터리, 파일 등의 OS 자원을 제어할 수 있게 해주는 모듈\u001b[39;00m\n\u001b[1;32m----> 3\u001b[0m \u001b[38;5;28;01mimport\u001b[39;00m \u001b[38;5;21;01mcv2\u001b[39;00m \u001b[38;5;66;03m# OpenCV라이브러리 → 컴퓨터 비전 관련 프로그래밍을 쉽게 할 수 있도록 도와주는 라이브러리\u001b[39;00m\n\u001b[0;32m      4\u001b[0m \u001b[38;5;28;01mimport\u001b[39;00m \u001b[38;5;21;01mmatplotlib\u001b[39;00m\u001b[38;5;21;01m.\u001b[39;00m\u001b[38;5;21;01mpyplot\u001b[39;00m \u001b[38;5;28;01mas\u001b[39;00m \u001b[38;5;21;01mplt\u001b[39;00m \u001b[38;5;66;03m# 다양한 데이터를 많은 방법으로 도식화 할 수 있도록 하는 라이브러리\u001b[39;00m\n\u001b[0;32m      5\u001b[0m \u001b[38;5;28;01mimport\u001b[39;00m \u001b[38;5;21;01mnumpy\u001b[39;00m \u001b[38;5;28;01mas\u001b[39;00m \u001b[38;5;21;01mnp\u001b[39;00m \u001b[38;5;66;03m# 다차원 배열을 쉽게 처리하고 효율적으로 사용할 수 있도록 하는 라이브러리\u001b[39;00m\n",
      "\u001b[1;31mModuleNotFoundError\u001b[0m: No module named 'cv2'"
     ]
    }
   ],
   "source": [
    "# 필요한 패키지 import 하기\n",
    "import os # 환경 변수나 디렉터리, 파일 등의 OS 자원을 제어할 수 있게 해주는 모듈\n",
    "import cv2 # OpenCV라이브러리 → 컴퓨터 비전 관련 프로그래밍을 쉽게 할 수 있도록 도와주는 라이브러리\n",
    "import matplotlib.pyplot as plt # 다양한 데이터를 많은 방법으로 도식화 할 수 있도록 하는 라이브러리\n",
    "import numpy as np # 다차원 배열을 쉽게 처리하고 효율적으로 사용할 수 있도록 하는 라이브러리\n",
    "import dlib # 이미지 처리 및 기계 학습, 얼굴인식 등을 할 수 있는 c++ 로 개발된 고성능의 라이브러리 \n",
    "print(\"🌫🛸\")"
   ]
  },
  {
   "cell_type": "markdown",
   "id": "765459d0",
   "metadata": {},
   "source": [
    "### "
   ]
  },
  {
   "cell_type": "code",
   "execution_count": null,
   "id": "7c06b981",
   "metadata": {},
   "outputs": [],
   "source": [
    "my_image_path = '../../data/exploration_07/images/image01.jpg' # 본인 이미지가 있는 경로를 가지고 온다.\n",
    "img_bgr = cv2.imread(my_image_path)    # OpenCV로 이미지를 불러옵니다\n",
    "img_show = img_bgr.copy()      # 출력용 이미지를 따로 보관합니다\n",
    "plt.imshow(img_bgr) # 이미지를 출력하기 위해 출력할 이미지를 올려준다. (실제 출력은 하지 않음)\n",
    "plt.show() # 이미지를 출력해준다. (실제 출력)"
   ]
  },
  {
   "cell_type": "markdown",
   "id": "6d8f7f9a",
   "metadata": {},
   "source": [
    "### "
   ]
  },
  {
   "cell_type": "code",
   "execution_count": null,
   "id": "7e1eeb79",
   "metadata": {},
   "outputs": [],
   "source": [
    "# plt.imshow 이전에 RGB 이미지로 바꾸는 것을 잊지마세요. \n",
    "img_rgb = cv2.cvtColor(img_bgr, cv2.COLOR_BGR2RGB)\n",
    "plt.imshow(img_rgb) # 이미지 실제 출력하기 위해 이미지를 올려줌 (원하는 사이즈의 픽셀을 원하는 색으로 채워서 만든 그림이라고 합니다.)\n",
    "plt.show() # 이미지 실제 출력"
   ]
  },
  {
   "cell_type": "markdown",
   "id": "5d6ef17e",
   "metadata": {},
   "source": [
    "## 얼굴 검출 face detection"
   ]
  },
  {
   "cell_type": "markdown",
   "id": "81676a8a",
   "metadata": {},
   "source": [
    "### "
   ]
  },
  {
   "cell_type": "code",
   "execution_count": null,
   "id": "e005458e",
   "metadata": {},
   "outputs": [],
   "source": [
    "# detector를 선언합니다\n",
    "detector_hog = dlib.get_frontal_face_detector() # 기본 얼굴 감지기를 반환\n",
    "print(\"🌫🛸\")"
   ]
  },
  {
   "cell_type": "markdown",
   "id": "f25380f4",
   "metadata": {},
   "source": [
    "### "
   ]
  },
  {
   "cell_type": "code",
   "execution_count": null,
   "id": "93eb0027",
   "metadata": {
    "scrolled": true
   },
   "outputs": [],
   "source": [
    "img_rgb = cv2.cvtColor(img_bgr, cv2.COLOR_BGR2RGB)\n",
    "dlib_rects = detector_hog(img_rgb, 1)   # (image, num of image pyramid)\n",
    "print(\"🌫🛸\")"
   ]
  },
  {
   "cell_type": "code",
   "execution_count": null,
   "id": "386c4e1c",
   "metadata": {},
   "outputs": [],
   "source": [
    "# [dlib_rect for dlib_rect in dlib_rects]"
   ]
  },
  {
   "cell_type": "code",
   "execution_count": null,
   "id": "afa16fe1",
   "metadata": {},
   "outputs": [],
   "source": [
    "# for dlib_rect in dlib_rects:\n",
    "#     print(dlib_rect.left())\n",
    "#     print(dlib_rect.top())\n",
    "#     print(dlib_rect.right())\n",
    "#     print(dlib_rect.bottom())\n",
    "# # # for dlib_rect in dlib_rects:\n",
    "    \n",
    "# # dir(dlib_rects[0].left())"
   ]
  },
  {
   "cell_type": "markdown",
   "id": "aaa5823d",
   "metadata": {},
   "source": [
    "### "
   ]
  },
  {
   "cell_type": "code",
   "execution_count": null,
   "id": "78545022",
   "metadata": {},
   "outputs": [],
   "source": [
    "# 찾은 얼굴 영역 박스 리스트\n",
    "# 여러 얼굴이 있을 수 있습니다\n",
    "print(dlib_rects)   \n",
    "\n",
    "for dlib_rect in dlib_rects: # 찾은 얼굴 영역의 좌표\n",
    "    l = dlib_rect.left() # 왼쪽\n",
    "    t = dlib_rect.top() # 위쪽\n",
    "    r = dlib_rect.right() # 오른쪽\n",
    "    b = dlib_rect.bottom() # 아래쪽\n",
    "\n",
    "    cv2.rectangle(img_show, (l,t), (r,b), (0,255,0), 2, lineType=cv2.LINE_AA) # 시작점의 좌표와 종료점 좌표로 직각 사각형을 그림\n",
    "\n",
    "img_show_rgb =  cv2.cvtColor(img_show, cv2.COLOR_BGR2RGB)\n",
    "plt.imshow(img_show_rgb)\n",
    "plt.show()"
   ]
  },
  {
   "cell_type": "markdown",
   "id": "7faf9f84",
   "metadata": {},
   "source": [
    "## 얼굴 랜드마크 face landmark"
   ]
  },
  {
   "cell_type": "markdown",
   "id": "e065dc2e",
   "metadata": {},
   "source": [
    "### "
   ]
  },
  {
   "cell_type": "code",
   "execution_count": null,
   "id": "f9b8da80",
   "metadata": {},
   "outputs": [],
   "source": [
    "model_path = '../../data/exploration_07/shape_predictor_68_face_landmarks.dat'\n",
    "    # 저장한 landmark 모델의 주소를 model_path 변수에 저장\n",
    "landmark_predictor = dlib.shape_predictor(model_path)\n",
    "    # dlib 라이브러리의 shape_predictor 함수를 이용하여 모델을 불러옴\n",
    "    # landmark_predictor는 RGB이미지와 dlib.rectangle를 입력 받고 dlib.full_object_detection를 반환\n",
    "    # dlib.rectangle: 내부를 예측하는 박스\n",
    "    # dlib.full_object_detection: 각 구성 요소의 위치와, 이미지 상의 객체의 위치를 나타냄\n",
    "print(\"🌫🛸\")"
   ]
  },
  {
   "cell_type": "markdown",
   "id": "c1c40e83",
   "metadata": {},
   "source": [
    "### "
   ]
  },
  {
   "cell_type": "code",
   "execution_count": null,
   "id": "4871f9a8",
   "metadata": {},
   "outputs": [],
   "source": [
    "list_landmarks = []\n",
    "    # 랜드마크의 위치를 저장할 list 생성    \n",
    "\n",
    "# 얼굴 영역 박스 마다 face landmark를 찾아냅니다\n",
    "# face landmark 좌표를 저장해둡니다\n",
    "for dlib_rect in dlib_rects:\n",
    "    points = landmark_predictor(img_rgb, dlib_rect)\n",
    "        # 모든 landmark의 위치정보를 points 변수에 저장\n",
    "    list_points = list(map(lambda p: (p.x, p.y), points.parts()))\n",
    "        # 각각의 landmark 위치정보를 (x,y) 형태로 변환하여 list_points 리스트로 저장\n",
    "    list_landmarks.append(list_points)\n",
    "        # list_landmarks에 랜드마크 리스트를 저장\n",
    "\n",
    "print(len(list_landmarks[0]))\n",
    "    # 얼굴이 n개인 경우 list_landmarks는 n개의 원소를 갖고\n",
    "    # 각 원소는 68개의 랜드마크 위치가 나열된 list \n",
    "    # list_landmarks의 원소가 1개이므로 list_landmarks[1]을 호출하면 IndexError가 발생"
   ]
  },
  {
   "cell_type": "markdown",
   "id": "cbfa5b4f",
   "metadata": {},
   "source": [
    "### "
   ]
  },
  {
   "cell_type": "code",
   "execution_count": null,
   "id": "41f27ff6",
   "metadata": {},
   "outputs": [],
   "source": [
    "# list_landmarks의 원소가 1개이므로 아래 반복문은 한번만 실행됨\n",
    "for landmark in list_landmarks:\n",
    "    for point in landmark:\n",
    "        cv2.circle(img_show, point, 2, (0, 255, 255), -1)\n",
    "            # cv2.circle: OpenCV의 원을 그리는 함수\n",
    "            # img_show 이미지 위 각각의 point에\n",
    "            # 크기가 2이고 (0, 255, 255)색으로 내부가 채워진(-1) 원을 그림\n",
    "            # (마지막 인수가 자연수라면 그만큼의 두께의 선으로 원이 그려짐)\n",
    "\n",
    "img_show_rgb = cv2.cvtColor(img_show, cv2.COLOR_BGR2RGB)\n",
    "    # RGB 이미지로 전환\n",
    "plt.imshow(img_show_rgb)\n",
    "    # 이미지를 준비\n",
    "plt.show()\n",
    "    # 이미지를 출력"
   ]
  }
 ],
 "metadata": {
  "kernelspec": {
   "display_name": "Python 3 (ipykernel)",
   "language": "python",
   "name": "python3"
  },
  "language_info": {
   "codemirror_mode": {
    "name": "ipython",
    "version": 3
   },
   "file_extension": ".py",
   "mimetype": "text/x-python",
   "name": "python",
   "nbconvert_exporter": "python",
   "pygments_lexer": "ipython3",
   "version": "3.9.12"
  },
  "toc": {
   "base_numbering": 1,
   "nav_menu": {},
   "number_sections": true,
   "sideBar": true,
   "skip_h1_title": false,
   "title_cell": "Table of Contents",
   "title_sidebar": "Contents",
   "toc_cell": false,
   "toc_position": {},
   "toc_section_display": true,
   "toc_window_display": false
  }
 },
 "nbformat": 4,
 "nbformat_minor": 5
}
