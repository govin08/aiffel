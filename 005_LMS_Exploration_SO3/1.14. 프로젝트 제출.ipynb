{
 "cells": [
  {
   "cell_type": "markdown",
   "id": "0f157aa7",
   "metadata": {},
   "source": [
    "# 프로젝트 제출\n",
    "\n",
    "이 파일은, aiffel 2022년도 3기의 노드 중 하나인\n",
    " - EXPLORATION_SO3 : 1. Iris의 세 가지 품종, 분류해볼 수 있겠어요?\n",
    " \n",
    "와 관련한 프로젝트입니다.\n",
    "(저는 aiffel 교육생 김선중 입니다.)\n",
    "\n",
    "## 목차\n",
    "1. `digits` dataset\n",
    "\n",
    "2. `wine` dataset\n",
    "\n",
    "3. `breast_cancer` dataset"
   ]
  },
  {
   "cell_type": "markdown",
   "id": "7ceba6e0",
   "metadata": {},
   "source": [
    "|평가문항|상세기준|\n",
    "|:-|:-|\n",
    "|데이터셋의 구성을 파악하고, 데이터를 이해하는 과정이 포함되어있는가?|feature와 label 선정을 위한 데이터 분석과정을 전개함|\n",
    "|데이터셋에 대해 각각 5가지 모델을 이용하여 학습을 수행하고 결과값을 얻었는가?|모델학습 및 테스트가 정상적으로 수행되고, 결과값을 얻었음|\n",
    "|데이터셋에 대해 모델의 평가 지표를 선택하고, 그 이유를 근거를 바탕으로 서술하였는가?|모델학습을 통해 얻은 결과물을 바탕으로 평가지표를 선택하고, 본인의 의견을 서술하였음|\n",
    "\n",
    "1. 데이터셋의 구성을 파악하고, 데이터를 이해하기\n",
    " - 노드에 진행된 것과 비슷하게 진행했습니다.\n",
    "2. 데이터셋에 대해 각각 5가지 모델을 이용하여 학습을 수행하고 결과값을 얻기\n",
    " - 노드에 진행된 것과 비슷하게 진행했습니다.\n",
    "3. 데이터셋에 대해 모델의 평가 지표를 선택하기\n",
    " - 평가지표(evaluation metric)에 관해서는 LMS에는 이진분류에 관한 평가지표만 소개되어 있고 다중분류에 대한 평가지표가 소개되어 있지 않았으므로 따로 [공부](https://github.com/govin08/aiffel/blob/master/004_articles_and_materials/0906_evaluation_metrics.ipynb)해 보았습니다.\n",
    " 여기에서 공부한 evaluation metric들은 다음과 같습니다.\n",
    "    - 이진분류 문제 : accuracy / precision / recall / F1-score\n",
    "    - 다중분류 문제 : macro-precision / macro-recall / macro-F1-score / weighted-accuracy / weighted-precision / macro-recall / macro-F1-score\n",
    "    - 다중분류 문제 : Cohen's kappa\n",
    " - `breast_cancer` 데이터셋은 이진분류문제입니다.\n",
    " 이 문제의 경우 FN(false negative)가 발생하면 치명적입니다.\n",
    " 다시 말해, 실제로 암에 걸렸는데, 암이라고 진단하지 못한 경우가 발생하는 것은 어떻게 해서든 막아야 합니다.\n",
    " 따라서, recall을 사용하는 것이 맞다고 보았습니다.\n",
    " - `digits` 데이터셋의 경우 다중분류문제입니다.\n",
    " 이 데이터셋에 대한 모델이 \"은행 창구의 비밀번호 입력\"과 같은 절차에 사용된다고 할 때, FP의 경우가 발생하는 것이 치명적입니다.\n",
    " 다시 말해, 비밀번호가 실제로 3인데, 다른 숫자나 다른 모양이 입력되었는데도 불구하고(actual negative), 우리 모델이 그것을 3으로 인식하는(predicted positive) 경우에는 심각한 보안상의 문제가 발생할 수 있습니다.\n",
    " 따라서 FP를 막기 위해 precision을 사용해야 한다고 보았습니다.\n",
    " 다만, 여기서의 precision의 의미는, 다중분류에서의 precision이므로, macro-precision이나 weighted precision을 고려해야 한다고 봤습니다.\n",
    " 한편, 다중분류이니만큼, 전체적인 상황을 아울러서 평가할 수 있는 Cohen's kappa를 사용하는 것도 괜찮은 대안이라고 보았습니다.\n",
    " - `wine` 데이터셋의 경우 다중 분류문제입니다.\n",
    " 여기에서는 특별히 FP나 FN이 대단한 피해를 주거나 하는 것이 없습니다.\n",
    " 따라서 이 경우에는 FP와 FN을 골고루 고려하는, 즉, recall과 precision을 골고루 고려하는 F1-score를 사용하는 것이 맞다고 보았습니다.\n",
    " 이번에도, 여기서의 F1-score의 의미는 macro-precision이나 weighted precision입니다.\n",
    " 마찬가지로, 다중분류이니만큼, 전체적인 상황을 아울러서 평가할 수 있는 Cohen's kappa를 사용하는 것도 괜찮은 대안이라고 보았습니다.\n",
    " - 이 평가지표들은 `sklearn`에서 기본적으로 제공하는 명령어들이니 만큼, 간단하게 호출했습니다."
   ]
  },
  {
   "cell_type": "markdown",
   "id": "b4727036",
   "metadata": {},
   "source": [
    "## 1. `digits` dataset"
   ]
  },
  {
   "cell_type": "markdown",
   "id": "e7aa59aa",
   "metadata": {},
   "source": [
    "### 1.1 필요한 모듈 import 하기"
   ]
  },
  {
   "cell_type": "code",
   "execution_count": 1,
   "id": "af7c2158",
   "metadata": {},
   "outputs": [],
   "source": [
    "import numpy as np\n",
    "import matplotlib.pyplot as plt\n",
    "\n",
    "from sklearn.datasets import load_digits\n",
    "from sklearn.model_selection import train_test_split\n",
    "from sklearn import preprocessing\n",
    "\n",
    "from sklearn.tree import DecisionTreeClassifier # _dt\n",
    "from sklearn.ensemble import RandomForestClassifier # _rf\n",
    "from sklearn import svm # _svm`\n",
    "from sklearn.linear_model import SGDClassifier, LogisticRegression # _sgd,  _lr\n",
    "\n",
    "from sklearn.metrics import confusion_matrix, plot_confusion_matrix, ConfusionMatrixDisplay, classification_report, cohen_kappa_score"
   ]
  },
  {
   "cell_type": "markdown",
   "id": "0a1d585f",
   "metadata": {},
   "source": [
    "모듈들을 import합니다.\n",
    " - line 1-2 : 기본 모듈들인 `numpy`와 `matplotlib`을 불러옵니다.`matplotlib`은 confusion matrix를 예쁘게 그리는 데 사용됩니다.\n",
    " - line 4-6 : `digits` dataset을 불러오기 위해 `load_digits` 모듈을 불러옵니다.\n",
    " training set과 testset을 분리하기 위해 `train_test_split` 모듈을 불러옵니다.\n",
    " 전처리과정을 위해 `preprocessing` 모듈을 불러옵니다.\n",
    " - line 8 ~ 11 : 다섯 개의 서로 다른 모델 (decision tree classifier, random forest classifier, support vector machine, stochastic gradient descent classifier, logistic regression)을 사용하기 위해 해당 모듈들을 불러옵니다.\n",
    " - line 13 : confusion matrix를 불러오거나 그리는 데 필요한 모듈들을 불러옵니다.\n",
    " 또한, 모델의 평가지표를 나타내기 위한 `classification_report`, `cohen_kappa_score` 모듈들을 import합니다."
   ]
  },
  {
   "cell_type": "markdown",
   "id": "d69d072f",
   "metadata": {},
   "source": [
    "### 1.2.2 데이터 준비"
   ]
  },
  {
   "cell_type": "code",
   "execution_count": 2,
   "id": "d6f9ad43",
   "metadata": {
    "scrolled": false
   },
   "outputs": [
    {
     "name": "stdout",
     "output_type": "stream",
     "text": [
      "<class 'sklearn.utils.Bunch'>\n",
      "['DESCR', 'data', 'feature_names', 'frame', 'images', 'target', 'target_names']\n",
      "dict_keys(['data', 'target', 'frame', 'feature_names', 'target_names', 'images', 'DESCR'])\n"
     ]
    }
   ],
   "source": [
    "digits = load_digits()\n",
    "print(type(digits))\n",
    "# print(digits)\n",
    "print(dir(digits))\n",
    "print(digits.keys())"
   ]
  },
  {
   "cell_type": "markdown",
   "id": "7758bdf7",
   "metadata": {},
   "source": [
    " - line 1 : `load_digits()`으로 데이터를 불러와 `digits`에 할당합니다.\n",
    " - line 2, 3 : `digits`는 `sklearn.utils.Bunch`라는 타입을 가지고 있는데, [이것](https://scikit-learn.org/stable/modules/generated/sklearn.utils.Bunch.html)은 `sklearn`에서 딕셔너리와 같은 역할을 하는 클래스인 것 같습니다.\n",
    " - line 4 : 파이썬의 내장함수 [`dir()`](https://docs.python.org/ko/3/library/functions.html#dir)을 사용합니다.\n",
    " - line 5 : `digits`의 키값을 `keys()` 메소드를 통해 호출합니다.\n",
    " `digits`의 key들이 나열되는데, 이 중 `data`, `target`, `target_names`, `DESCR`, `feature_names`를 살펴볼 예정입니다.\n",
    " 노드에서의 `iris` dataset에 비교하면, `filename`이 없습니다."
   ]
  },
  {
   "cell_type": "markdown",
   "id": "20ae15bb",
   "metadata": {},
   "source": [
    "### 1.2.3 데이터 이해하기"
   ]
  },
  {
   "cell_type": "code",
   "execution_count": 3,
   "id": "988c3187",
   "metadata": {},
   "outputs": [],
   "source": [
    "digits_data = digits.data\n",
    "digits_label = digits.target"
   ]
  },
  {
   "cell_type": "markdown",
   "id": "8aea2e30",
   "metadata": {},
   "source": [
    "`digits_data`와 `digits_label`을 정의합니다.\n",
    " 각각 input feature와 label의 역할을 하게 될 것들입니다."
   ]
  },
  {
   "cell_type": "code",
   "execution_count": 4,
   "id": "7131e8b9",
   "metadata": {
    "scrolled": false
   },
   "outputs": [
    {
     "name": "stdout",
     "output_type": "stream",
     "text": [
      "<class 'numpy.ndarray'>\n",
      "(1797, 64)\n",
      "[ 0.  0.  5. 13.  9.  1.  0.  0.  0.  0. 13. 15. 10. 15.  5.  0.  0.  3.\n",
      " 15.  2.  0. 11.  8.  0.  0.  4. 12.  0.  0.  8.  8.  0.  0.  5.  8.  0.\n",
      "  0.  9.  8.  0.  0.  4. 11.  0.  1. 12.  7.  0.  0.  2. 14.  5. 10. 12.\n",
      "  0.  0.  0.  0.  6. 13. 10.  0.  0.  0.]\n",
      "16.0\n"
     ]
    }
   ],
   "source": [
    "print(type(digits_data))\n",
    "print(digits_data.shape)\n",
    "print(digits_data[0])\n",
    "print(digits_data.max())"
   ]
  },
  {
   "cell_type": "markdown",
   "id": "3d78dd96",
   "metadata": {},
   "source": [
    "`digits_data`의 타입과 shape, 첫번째 요소를 출력합니다.\n",
    " - line 1 : 타입은 `np.array`입니다.\n",
    " - line 2 : shape으로 보아 $1797\\times 64$ 모양의 행렬입니다.\n",
    " 즉, data(sample)의 개수는 1797개이고, feature의 개수는 64개입니다.\n",
    " feature의 개수가 64개인 것은, 각각의 sample들이 $8\\times8$의 픽셀을 가진 그림파일이기 때문입니다.\n",
    " - line 3, 4 : 첫번째 sample을  출력하니 16차원의 벡터가 나옵니다.\n",
    " 많이 쓰이는 MNIST dataset이 0부터 255까지의 정수를 가지는 것과 달리, 여기에서는 0부터 15까지의 숫자가 보입니다.\n",
    " 실제로 `digits_data` 행렬에서 entry의 최댓값을 구해보니 16이 나오는 걸로 봐서, 0부터 255까지의 정수가 아닌 0부터 16까지의 정수를 고려하는 것으로 보입니다.\n",
    "\n",
    "첫번째 sample을 그림으로 나타내면 다음과 같습니다."
   ]
  },
  {
   "cell_type": "code",
   "execution_count": 5,
   "id": "2211d1fa",
   "metadata": {
    "scrolled": true
   },
   "outputs": [
    {
     "data": {
      "text/plain": [
       "<matplotlib.image.AxesImage at 0x7f79cac57fa0>"
      ]
     },
     "execution_count": 5,
     "metadata": {},
     "output_type": "execute_result"
    },
    {
     "data": {
      "image/png": "[encoded data removed]",
      "text/plain": [
       "<Figure size 432x288 with 1 Axes>"
      ]
     },
     "metadata": {
      "needs_background": "light"
     },
     "output_type": "display_data"
    }
   ],
   "source": [
    "plt.imshow(digits.data[0].reshape(8, 8), cmap='gray')"
   ]
  },
  {
   "cell_type": "code",
   "execution_count": 6,
   "id": "9b501bf6",
   "metadata": {
    "scrolled": true
   },
   "outputs": [
    {
     "name": "stdout",
     "output_type": "stream",
     "text": [
      "<class 'numpy.ndarray'>\n",
      "(1797,)\n",
      "0\n"
     ]
    }
   ],
   "source": [
    "print(type(digits_label))\n",
    "print(digits_label.shape)\n",
    "print(digits_label[0])"
   ]
  },
  {
   "cell_type": "markdown",
   "id": "5bdbe34f",
   "metadata": {},
   "source": [
    "`digits_label`의 타입과 shape, 첫번째 요소를 출력합니다.\n",
    " - line 1 : 타입은 `np.array`입니다.\n",
    " - line 2 : shape으로 보아 1797 차원의 벡터라고 생각할 수 있습니다.\n",
    " 각각의 sample들의 label은 $\\{0,1,2,3,4,5,6,7,8,9\\}$의 원소입니다."
   ]
  },
  {
   "cell_type": "code",
   "execution_count": 7,
   "id": "b7113608",
   "metadata": {
    "scrolled": true
   },
   "outputs": [
    {
     "name": "stdout",
     "output_type": "stream",
     "text": [
      "[0 1 2 3 4 5 6 7 8 9]\n",
      "['pixel_0_0', 'pixel_0_1', 'pixel_0_2', 'pixel_0_3', 'pixel_0_4', 'pixel_0_5', 'pixel_0_6', 'pixel_0_7', 'pixel_1_0', 'pixel_1_1', 'pixel_1_2', 'pixel_1_3', 'pixel_1_4', 'pixel_1_5', 'pixel_1_6', 'pixel_1_7', 'pixel_2_0', 'pixel_2_1', 'pixel_2_2', 'pixel_2_3', 'pixel_2_4', 'pixel_2_5', 'pixel_2_6', 'pixel_2_7', 'pixel_3_0', 'pixel_3_1', 'pixel_3_2', 'pixel_3_3', 'pixel_3_4', 'pixel_3_5', 'pixel_3_6', 'pixel_3_7', 'pixel_4_0', 'pixel_4_1', 'pixel_4_2', 'pixel_4_3', 'pixel_4_4', 'pixel_4_5', 'pixel_4_6', 'pixel_4_7', 'pixel_5_0', 'pixel_5_1', 'pixel_5_2', 'pixel_5_3', 'pixel_5_4', 'pixel_5_5', 'pixel_5_6', 'pixel_5_7', 'pixel_6_0', 'pixel_6_1', 'pixel_6_2', 'pixel_6_3', 'pixel_6_4', 'pixel_6_5', 'pixel_6_6', 'pixel_6_7', 'pixel_7_0', 'pixel_7_1', 'pixel_7_2', 'pixel_7_3', 'pixel_7_4', 'pixel_7_5', 'pixel_7_6', 'pixel_7_7']\n",
      ".. _digits_dataset:\n",
      "\n",
      "Optical recognition of handwritten digits dataset\n",
      "--------------------------------------------------\n",
      "\n",
      "**Data Set Characteristics:**\n",
      "\n",
      "    :Number of Instances: 1797\n",
      "    :Number of Attributes: 64\n",
      "    :Attribute Information: 8x8 image of integer pixels in the range 0..16.\n",
      "    :Missing Attribute Values: None\n",
      "    :Creator: E. Alpaydin (alpaydin '@' boun.edu.tr)\n",
      "    :Date: July; 1998\n",
      "\n",
      "This is a copy of the test set of the UCI ML hand-written digits datasets\n",
      "https://archive.ics.uci.edu/ml/datasets/Optical+Recognition+of+Handwritten+Digits\n",
      "\n",
      "The data set contains images of hand-written digits: 10 classes where\n",
      "each class refers to a digit.\n",
      "\n",
      "Preprocessing programs made available by NIST were used to extract\n",
      "normalized bitmaps of handwritten digits from a preprinted form. From a\n",
      "total of 43 people, 30 contributed to the training set and different 13\n",
      "to the test set. 32x32 bitmaps are divided into nonoverlapping blocks of\n",
      "4x4 and the number of on pixels are counted in each block. This generates\n",
      "an input matrix of 8x8 where each element is an integer in the range\n",
      "0..16. This reduces dimensionality and gives invariance to small\n",
      "distortions.\n",
      "\n",
      "For info on NIST preprocessing routines, see M. D. Garris, J. L. Blue, G.\n",
      "T. Candela, D. L. Dimmick, J. Geist, P. J. Grother, S. A. Janet, and C.\n",
      "L. Wilson, NIST Form-Based Handprint Recognition System, NISTIR 5469,\n",
      "1994.\n",
      "\n",
      ".. topic:: References\n",
      "\n",
      "  - C. Kaynak (1995) Methods of Combining Multiple Classifiers and Their\n",
      "    Applications to Handwritten Digit Recognition, MSc Thesis, Institute of\n",
      "    Graduate Studies in Science and Engineering, Bogazici University.\n",
      "  - E. Alpaydin, C. Kaynak (1998) Cascading Classifiers, Kybernetika.\n",
      "  - Ken Tang and Ponnuthurai N. Suganthan and Xi Yao and A. Kai Qin.\n",
      "    Linear dimensionalityreduction using relevance weighted LDA. School of\n",
      "    Electrical and Electronic Engineering Nanyang Technological University.\n",
      "    2005.\n",
      "  - Claudio Gentile. A New Approximate Maximal Margin Classification\n",
      "    Algorithm. NIPS. 2000.\n",
      "\n"
     ]
    }
   ],
   "source": [
    "print(digits.target_names)\n",
    "print(digits.feature_names)\n",
    "# print(digits.filename)\n",
    "print(digits.DESCR)"
   ]
  },
  {
   "cell_type": "markdown",
   "id": "d0a61abc",
   "metadata": {},
   "source": [
    " - line 1 : label들의 이름을 출력합니다.\n",
    " 방금 언급했듯 label은 $\\{0,1,2,3,4,5,6,7,8,9\\}$의 원소입니다.\n",
    " - line 2 : feature들의 이름을 출력합니다.\n",
    " 위에 언급했듯, feature들은 $8\\times8$의 그림파일의 각 픽셀값을 나타냅니다. 그걸 반영하듯 feature의 이름들이 `'pixel_2_3'`와 같이 되어 있습니다.\n",
    " 좌표 (2,3)의 픽셀값이라는 뜻입니다.\n",
    " 픽셀값이 0이면 해당 픽셀이 검은색을 나타내고 픽셀값이 높아질수록 흰색에 가까운 색을 나타냅니다.\n",
    " - line 3 : 2번 셀에서 말했듯 `filename`은 불러올 수 없습니다.\n",
    " - line 4 : `digits` dataset에 대한 상세한 정보를 출력합니다."
   ]
  },
  {
   "cell_type": "markdown",
   "id": "a0aec093",
   "metadata": {},
   "source": [
    "### 1.2.4 train, test 데이터 분리"
   ]
  },
  {
   "cell_type": "code",
   "execution_count": 8,
   "id": "9210db44",
   "metadata": {},
   "outputs": [],
   "source": [
    "X_train, X_test, y_train, y_test = train_test_split(digits_data, digits_label, test_size=0.2, random_state=1)"
   ]
  },
  {
   "cell_type": "markdown",
   "id": "2438f1dd",
   "metadata": {},
   "source": [
    " - 우리는 데이터 `digits`에서 각각 `digits_data`, `digits_label`를 얻었었습니다.\n",
    " 이것들을 각각 8:2의 비율로 잘라, training set과 test set으로 나눕니다.\n",
    " 즉\n",
    "    - `digits_data` → `X_train`, `X_test`\n",
    "    - `digits_label` → `y_train`, `y_test`\n",
    " \n",
    " 와 같이 나눕니다."
   ]
  },
  {
   "cell_type": "code",
   "execution_count": 9,
   "id": "29162d1a",
   "metadata": {},
   "outputs": [
    {
     "name": "stdout",
     "output_type": "stream",
     "text": [
      "<class 'numpy.ndarray'>\n",
      "(1437, 64)\n",
      "[ 0.  0.  0.  2. 15.  8.  0.  0.  0.  0.  1. 15. 13.  3.  0.  0.  0.  0.\n",
      "  9. 13.  1.  0.  0.  0.  0.  1. 15.  6.  0.  5. 11.  0.  0.  7. 14.  0.\n",
      "  1. 15.  8.  0.  0.  8. 15.  9. 15. 16.  3.  0.  0.  1. 11. 16. 16. 10.\n",
      "  0.  0.  0.  0.  0.  2. 15.  5.  0.  0.]\n",
      "<class 'numpy.ndarray'>\n",
      "(360, 64)\n",
      "[ 0.  0.  6. 16. 11.  0.  0.  0.  0.  0.  9. 16. 16.  5.  0.  0.  0.  0.\n",
      "  8. 16. 16.  4.  0.  0.  0.  0. 10. 16. 13.  0.  0.  0.  0.  0. 13. 16.\n",
      " 12.  0.  0.  0.  0.  0. 10. 16.  9.  0.  0.  0.  0.  0.  9. 16. 10.  0.\n",
      "  0.  0.  0.  0.  4. 15. 16.  3.  0.  0.]\n",
      "<class 'numpy.ndarray'>\n",
      "(1437,)\n",
      "4\n",
      "<class 'numpy.ndarray'>\n",
      "(360,)\n",
      "1\n"
     ]
    }
   ],
   "source": [
    "print(type(X_train))\n",
    "print(X_train.shape)\n",
    "print(X_train[0])\n",
    "\n",
    "print(type(X_test))\n",
    "print(X_test.shape)\n",
    "print(X_test[0])\n",
    "\n",
    "print(type(y_train))\n",
    "print(y_train.shape)\n",
    "print(y_train[0])\n",
    "\n",
    "print(type(y_test))\n",
    "print(y_test.shape)\n",
    "print(y_test[0])"
   ]
  },
  {
   "cell_type": "markdown",
   "id": "921717e5",
   "metadata": {},
   "source": [
    "네 개의 서로다른 `np.array`들에 대하여 타입과 shape, 첫번째 요소를 출력해봅니다.\n",
    " - line 1 ~ 3 : `X_train`은 $1437\\times 64$ 형태의 행렬입니다.\n",
    " 열의 개수, 즉 feature의 개수는 당연히 64로 일정하고 행의 개수는 1797에서 1437개로 약 80%가 되었습니다.\n",
    " 정확히 계산해보면 $1797\\times 0.8=1437.6$이므로 1797에 0.8을 곱한 후 `floor()`같은 것을 씌워 정수부분만 출력한 듯합니다.\n",
    " [공식문서](https://scikit-learn.org/stable/modules/generated/sklearn.model_selection.train_test_split.html)에는 정확히 나와있지 않습니다.\n",
    " - line 5 ~ 7 : `X_test`은 $360\\times 64$ 형태의 행렬입니다.\n",
    " - line 9 ~ 11 : `y_train`은 1437차원의 벡터입니다.\n",
    " - line 13 ~ 15 : `y_test`은 360차원의 벡터입니다."
   ]
  },
  {
   "cell_type": "markdown",
   "id": "398bda23",
   "metadata": {},
   "source": [
    "#### 표준화(standardization)"
   ]
  },
  {
   "cell_type": "code",
   "execution_count": 10,
   "id": "fb91aa8c",
   "metadata": {},
   "outputs": [
    {
     "name": "stdout",
     "output_type": "stream",
     "text": [
      "[0.00000000e+00 3.04105776e-01 5.23312457e+00 1.18559499e+01\n",
      " 1.18469033e+01 5.78705637e+00 1.41057759e+00 1.28740431e-01\n",
      " 3.47947112e-03 1.97494781e+00 1.04272791e+01 1.20508003e+01\n",
      " 1.03145442e+01 8.15100905e+00 1.87265136e+00 1.07863605e-01\n",
      " 2.78357690e-03 2.57967989e+00 9.95685456e+00 7.08907446e+00\n",
      " 7.16144746e+00 7.85316632e+00 1.79610299e+00 5.01043841e-02\n",
      " 1.39178845e-03 2.48712596e+00 9.05288796e+00 8.90953375e+00\n",
      " 1.00981211e+01 7.50034795e+00 2.27696590e+00 1.39178845e-03\n",
      " 0.00000000e+00 2.30688935e+00 7.68823939e+00 9.25400139e+00\n",
      " 1.03799582e+01 8.64509395e+00 2.86430063e+00 0.00000000e+00\n",
      " 9.04662491e-03 1.51078636e+00 6.86778010e+00 7.33472512e+00\n",
      " 7.66597077e+00 8.10160056e+00 3.46068198e+00 2.71398747e-02\n",
      " 9.04662491e-03 6.96590118e-01 7.42171190e+00 9.62073765e+00\n",
      " 9.39665971e+00 8.64300626e+00 3.73764788e+00 2.01113431e-01\n",
      " 6.95894224e-04 2.86012526e-01 5.55671538e+00 1.21183020e+01\n",
      " 1.17153793e+01 6.69102296e+00 2.05567154e+00 3.47251218e-01]\n",
      "[1.         0.90544851 4.75663133 4.2304182  4.26230412 5.70150814\n",
      " 3.38687951 0.9944813  0.06970762 3.14430239 5.42114026 3.93185619\n",
      " 4.76765853 6.02004487 3.57888488 0.82001797 0.06455708 3.52820691\n",
      " 5.67400922 5.79723487 6.14375141 6.20020978 3.28502837 0.42240034\n",
      " 0.03728071 3.18759467 6.20985257 5.83693036 6.08219992 5.88779625\n",
      " 3.65412871 0.03728071 1.         3.43076078 6.3013144  6.25420051\n",
      " 5.89519595 5.9114904  3.51916303 1.         0.15580262 2.86425464\n",
      " 6.52498427 6.43732144 6.21498772 5.74542063 4.34627065 0.29838529\n",
      " 0.22827664 1.73420164 5.64136    5.23865391 5.29544019 6.0743401\n",
      " 4.94535858 0.96308995 0.02637063 0.93989474 5.09892587 4.33270875\n",
      " 4.9717777  5.90900697 4.06981063 1.79493636]\n"
     ]
    }
   ],
   "source": [
    "scaler = preprocessing.StandardScaler().fit(X_train)\n",
    "print(scaler.mean_)\n",
    "print(scaler.scale_)"
   ]
  },
  {
   "cell_type": "code",
   "execution_count": 11,
   "id": "6a0fb831",
   "metadata": {},
   "outputs": [],
   "source": [
    "X_train_stan = scaler.transform(X_train)\n",
    "X_test_stan = scaler.transform(X_test)"
   ]
  },
  {
   "cell_type": "code",
   "execution_count": 12,
   "id": "3f744764",
   "metadata": {},
   "outputs": [
    {
     "name": "stdout",
     "output_type": "stream",
     "text": [
      "<class 'numpy.ndarray'>\n",
      "(1437, 64)\n",
      "[ 0.         -0.33586203 -1.10017452 -2.32978146  0.73976343  0.38813303\n",
      " -0.41648296 -0.12945485 -0.04991522 -0.62810365 -1.73898453  0.75007823\n",
      "  0.56326513 -0.85564297 -0.52324996 -0.1315381  -0.04311807 -0.7311589\n",
      " -0.16863817  1.01961119 -1.00288033 -1.26659687 -0.54675418 -0.11861824\n",
      " -0.03733267 -0.46653546  0.95768973 -0.49846984 -1.66027444 -0.42466618\n",
      "  2.3871721  -0.03733267  0.          1.36795042  1.00165778 -1.47964578\n",
      " -1.59111899  1.07500911  1.4593525   0.         -0.05806465  2.26558545\n",
      "  1.24632023  0.25869065  1.1800553   1.37472954 -0.10599477 -0.09095581\n",
      " -0.03963009  0.17495652  0.63429529  1.2177293   1.2469861   0.22339772\n",
      " -0.75578905 -0.20882103 -0.02638899 -0.30430272 -1.08978156 -2.33532938\n",
      "  0.66065318 -0.28617718 -0.5051025  -0.19346158]\n",
      "<class 'numpy.ndarray'>\n",
      "(360, 64)\n",
      "[ 0.         -0.33586203  0.16122238  0.97958403 -0.19869612 -1.01500449\n",
      " -0.41648296 -0.12945485 -0.04991522 -0.62810365 -0.26328023  1.00441103\n",
      "  1.19250483 -0.52341953 -0.52324996 -0.1315381  -0.04311807 -0.7311589\n",
      " -0.3448804   1.53709928  1.4386247  -0.62145741 -0.54675418 -0.11861824\n",
      " -0.03733267 -0.78025164  0.15251764  1.21475944  0.47711008 -1.27388035\n",
      " -0.62312143 -0.03733267  0.         -0.67241335  0.84296073  1.07863485\n",
      "  0.27480711 -1.46242206 -0.8139153   0.         -0.05806465 -0.52746231\n",
      "  0.48003486  1.34609945  0.21464712 -1.41009703 -0.79624171 -0.09095581\n",
      " -0.03963009 -0.4016777   0.27977085  1.2177293   0.11393581 -1.42287164\n",
      " -0.75578905 -0.20882103 -0.02638899 -0.30430272 -0.30530261  0.66510309\n",
      "  0.86178848 -0.62464353 -0.5051025  -0.19346158]\n"
     ]
    }
   ],
   "source": [
    "print(type(X_train_stan))\n",
    "print(X_train_stan.shape)\n",
    "print(X_train_stan[0])\n",
    "\n",
    "print(type(X_test_stan))\n",
    "print(X_test_stan.shape)\n",
    "print(X_test_stan[0])"
   ]
  },
  {
   "cell_type": "markdown",
   "id": "419bd103",
   "metadata": {},
   "source": [
    "#### 정규화(normalization)"
   ]
  },
  {
   "cell_type": "code",
   "execution_count": 13,
   "id": "de516519",
   "metadata": {},
   "outputs": [
    {
     "data": {
      "text/plain": [
       "array([[0.    , 0.    , 0.    , ..., 0.3125, 0.    , 0.    ],\n",
       "       [0.    , 0.    , 0.    , ..., 0.    , 0.    , 0.    ],\n",
       "       [0.    , 0.    , 0.    , ..., 0.8125, 0.75  , 0.125 ],\n",
       "       ...,\n",
       "       [0.    , 0.    , 0.4375, ..., 0.8125, 0.125 , 0.    ],\n",
       "       [0.    , 0.    , 0.    , ..., 1.    , 0.0625, 0.    ],\n",
       "       [0.    , 0.    , 0.5   , ..., 0.    , 0.    , 0.    ]])"
      ]
     },
     "execution_count": 13,
     "metadata": {},
     "output_type": "execute_result"
    }
   ],
   "source": [
    "min_max_scaler = preprocessing.MinMaxScaler()\n",
    "X_train_norm = min_max_scaler.fit_transform(X_train)\n",
    "X_train_norm"
   ]
  },
  {
   "cell_type": "code",
   "execution_count": 14,
   "id": "7742ce33",
   "metadata": {},
   "outputs": [
    {
     "data": {
      "text/plain": [
       "array([[0.    , 0.    , 0.    , ..., 0.3125, 0.    , 0.    ],\n",
       "       [0.    , 0.    , 0.    , ..., 0.    , 0.    , 0.    ],\n",
       "       [0.    , 0.    , 0.    , ..., 0.8125, 0.75  , 0.125 ],\n",
       "       ...,\n",
       "       [0.    , 0.    , 0.4375, ..., 0.8125, 0.125 , 0.    ],\n",
       "       [0.    , 0.    , 0.    , ..., 1.    , 0.0625, 0.    ],\n",
       "       [0.    , 0.    , 0.5   , ..., 0.    , 0.    , 0.    ]])"
      ]
     },
     "execution_count": 14,
     "metadata": {},
     "output_type": "execute_result"
    }
   ],
   "source": [
    "min_max_scaler = preprocessing.MinMaxScaler()\n",
    "X_train_norm = min_max_scaler.fit_transform(X_train)\n",
    "X_train_norm"
   ]
  },
  {
   "cell_type": "code",
   "execution_count": 15,
   "id": "55a10eb0",
   "metadata": {},
   "outputs": [
    {
     "data": {
      "text/plain": [
       "array([[0.    , 0.    , 0.375 , ..., 0.1875, 0.    , 0.    ],\n",
       "       [0.    , 1.    , 0.8125, ..., 0.    , 0.    , 0.    ],\n",
       "       [0.    , 0.    , 0.25  , ..., 0.375 , 0.    , 0.    ],\n",
       "       ...,\n",
       "       [0.    , 0.    , 0.    , ..., 0.0625, 0.    , 0.    ],\n",
       "       [0.    , 0.375 , 0.9375, ..., 1.    , 1.    , 0.125 ],\n",
       "       [0.    , 0.    , 0.5   , ..., 0.    , 0.    , 0.    ]])"
      ]
     },
     "execution_count": 15,
     "metadata": {},
     "output_type": "execute_result"
    }
   ],
   "source": [
    "X_test_norm = min_max_scaler.transform(X_test)\n",
    "X_test_norm"
   ]
  },
  {
   "cell_type": "code",
   "execution_count": 16,
   "id": "6bd51ddd",
   "metadata": {},
   "outputs": [],
   "source": [
    "from sklearn.metrics import plot_confusion_matrix"
   ]
  },
  {
   "cell_type": "code",
   "execution_count": 17,
   "id": "58130cfb",
   "metadata": {},
   "outputs": [],
   "source": [
    "classifiers = [DecisionTreeClassifier(random_state=1), \n",
    "               RandomForestClassifier(random_state=1),\n",
    "               svm.SVC(random_state=1), \n",
    "               SGDClassifier(random_state=1)]\n",
    "for cls in classifiers:\n",
    "    cls.fit(X_train, y_train)"
   ]
  },
  {
   "cell_type": "code",
   "execution_count": 18,
   "id": "6a4719b0",
   "metadata": {},
   "outputs": [
    {
     "name": "stderr",
     "output_type": "stream",
     "text": [
      "/opt/conda/lib/python3.9/site-packages/sklearn/utils/deprecation.py:87: FutureWarning: Function plot_confusion_matrix is deprecated; Function `plot_confusion_matrix` is deprecated in 1.0 and will be removed in 1.2. Use one of the class methods: ConfusionMatrixDisplay.from_predictions or ConfusionMatrixDisplay.from_estimator.\n",
      "  warnings.warn(msg, category=FutureWarning)\n",
      "/opt/conda/lib/python3.9/site-packages/sklearn/utils/deprecation.py:87: FutureWarning: Function plot_confusion_matrix is deprecated; Function `plot_confusion_matrix` is deprecated in 1.0 and will be removed in 1.2. Use one of the class methods: ConfusionMatrixDisplay.from_predictions or ConfusionMatrixDisplay.from_estimator.\n",
      "  warnings.warn(msg, category=FutureWarning)\n",
      "/opt/conda/lib/python3.9/site-packages/sklearn/utils/deprecation.py:87: FutureWarning: Function plot_confusion_matrix is deprecated; Function `plot_confusion_matrix` is deprecated in 1.0 and will be removed in 1.2. Use one of the class methods: ConfusionMatrixDisplay.from_predictions or ConfusionMatrixDisplay.from_estimator.\n",
      "  warnings.warn(msg, category=FutureWarning)\n",
      "/opt/conda/lib/python3.9/site-packages/sklearn/utils/deprecation.py:87: FutureWarning: Function plot_confusion_matrix is deprecated; Function `plot_confusion_matrix` is deprecated in 1.0 and will be removed in 1.2. Use one of the class methods: ConfusionMatrixDisplay.from_predictions or ConfusionMatrixDisplay.from_estimator.\n",
      "  warnings.warn(msg, category=FutureWarning)\n"
     ]
    },
    {
     "data": {
      "image/png": "[encoded data removed]",
      "text/plain": [
       "<Figure size 1080x720 with 8 Axes>"
      ]
     },
     "metadata": {
      "needs_background": "light"
     },
     "output_type": "display_data"
    }
   ],
   "source": [
    "fig, axes = plt.subplots(nrows=2, ncols=2, figsize=(15,10))\n",
    "\n",
    "for cls, ax in zip(classifiers, axes.flatten()):\n",
    "    plot_confusion_matrix(cls, X_test, y_test, ax=ax,\n",
    "                         display_labels = digits.target_names)\n",
    "    ax.title.set_text(type(cls).__name__)\n",
    "plt.tight_layout()  \n",
    "plt.show()\n"
   ]
  },
  {
   "cell_type": "code",
   "execution_count": null,
   "id": "6e8f3be3",
   "metadata": {},
   "outputs": [],
   "source": []
  },
  {
   "cell_type": "markdown",
   "id": "14197ad8",
   "metadata": {},
   "source": [
    "### 1.11.5. 다양한 모델로 학습시켜보기"
   ]
  },
  {
   "cell_type": "markdown",
   "id": "95769e95",
   "metadata": {},
   "source": [
    "여기에서는 다섯 개의 모델\n",
    " - decision tree classifier # _dt\n",
    " - random forest classifier # _rf\n",
    " - support vector machine # _svm\n",
    " - stochastic gradient descent classfier # sgd\n",
    " - logistic regression # _lr\n",
    " \n",
    "을 가지고 학습을 진행시키고, 그 결과로 여러 평가지표를 얻는 작업을 수행합니다.\n",
    "평가지표는 `y_pred_dt`와 같은 이름으로 출력됩니다.\n",
    "이때, 각각의 모델들에 따라 `y_pred`의 뒤에 접두어 `dt`를 붙였습니다.\n",
    "예를 들어, `dt`는 decision tree라는 뜻입니다.\n",
    " \n",
    "<!-- 이 과정을 앞으로 세 번 반복할 것이고, 또 어차피 결과적으로\n",
    " - `y_pred_dt`\n",
    " - `y_pred_rf`\n",
    " - `y_pred_svm`\n",
    " - `y_pred_sgd`\n",
    " - `y_pred_lr`\n",
    "\n",
    "의 다섯개만 잘 출력하면 되므로 이 과정을 하나의 함수 `get_y_pred`로 지정해놓았습니다. -->"
   ]
  },
  {
   "cell_type": "code",
   "execution_count": 19,
   "id": "df749680",
   "metadata": {},
   "outputs": [],
   "source": [
    "# decision tree\n",
    "# _dt\n",
    "decision_tree = DecisionTreeClassifier(random_state=1)\n",
    "decision_tree.fit(X_train, y_train)\n",
    "y_pred_dt = decision_tree.predict(X_test)"
   ]
  },
  {
   "cell_type": "code",
   "execution_count": 20,
   "id": "5d5d3797",
   "metadata": {},
   "outputs": [],
   "source": [
    "# random forest\n",
    "# _rf\n",
    "random_forest = RandomForestClassifier(random_state=1)\n",
    "random_forest.fit(X_train, y_train)\n",
    "y_pred_rf = random_forest.predict(X_test)"
   ]
  },
  {
   "cell_type": "code",
   "execution_count": 21,
   "id": "8ad3bf07",
   "metadata": {},
   "outputs": [],
   "source": [
    "# support vector machine\n",
    "# _svm\n",
    "svm_model = svm.SVC(random_state=1)\n",
    "svm_model.fit(X_train, y_train)\n",
    "y_pred_svm = svm_model.predict(X_test)"
   ]
  },
  {
   "cell_type": "code",
   "execution_count": 22,
   "id": "f2baf147",
   "metadata": {},
   "outputs": [],
   "source": [
    "# stochastic gradient descent classifier\n",
    "# sgd\n",
    "sgd_model = SGDClassifier(random_state=1)\n",
    "sgd_model.fit(X_train, y_train)\n",
    "y_pred_sgd = sgd_model.predict(X_test)"
   ]
  },
  {
   "cell_type": "code",
   "execution_count": 23,
   "id": "f9642589",
   "metadata": {
    "scrolled": false
   },
   "outputs": [],
   "source": [
    "# logistic regerssion\n",
    "# _lr\n",
    "# logistic_model = LogisticRegression()\n",
    "# logistic_model.fit(X_train, y_train)\n",
    "# y_pred_lr = logistic_model.predict(X_test) # convergence warning\n",
    "\n",
    "logistic_model = LogisticRegression()\n",
    "logistic_model.fit(X_train_stan, y_train)\n",
    "y_pred_lr = logistic_model.predict(X_test_stan)\n",
    "\n",
    "# logistic_model = LogisticRegression() # convergence warning\n",
    "# logistic_model.fit(X_train_norm, y_train)\n",
    "# y_pred_lr = logistic_model.predict(X_test_norm)"
   ]
  },
  {
   "cell_type": "markdown",
   "id": "76c03a92",
   "metadata": {},
   "source": [
    " - `random_state` logistic regession을 제외한 각각의 모델들은 어느 정도의 임의성(randomness)을 수반합니다.\n",
    " 그 임의성은 각 알고리즘마다 작용되는 원리가 다 다릅니다.\n",
    " 예를 들어 `RandomForestClassifier`의 `random_state`에 관해서는 [다음과 같은 설명](https://scikit-learn.org/stable/modules/generated/sklearn.ensemble.RandomForestClassifier.html)을 찾을 수 있는 반면\n",
    " > Controls both the randomness of the bootstrapping of the samples used when building trees and the sampling of the features to consider when looking for the best split at each node\n",
    " \n",
    " `SGDClassifier`에 관해서는 [다른 설명](https://scikit-learn.org/stable/modules/generated/sklearn.linear_model.SGDClassifier.html)이 검색됩니다.\n",
    " > Used for shuffling the data, when shuffle is set to `True`.\n",
    " 정확히 말하면, `LogisticRegression` 모델도 `random_state`라는 인자를 갖기는 하지만, [사실상 사용되지 않는다고도 합니다.](https://github.com/scikit-learn/scikit-learn/issues/4760)\n",
    " \n",
    " - `LogisticRegression` 모델에 대해서는 기존과는 다른 데이터(`X_train_stan`, `X_test_stan`)를 넣었습니다.\n",
    " 이것들은 기존의 `X_train`과 `X_test`에 standardization을 적용한 결과입니다.\n",
    " 이렇게 넣은 이유는, 그냥 `X_train`과 `X_test`를 넣었을 때에 다음과 같은 경고 메시지가 뜨기 때문이었습니다.\n",
    " ```\n",
    " /opt/conda/lib/python3.9/site-packages/sklearn/linear_model/_logistic.py:814: ConvergenceWarning: lbfgs failed to converge (status=1):\n",
    "STOP: TOTAL NO. of ITERATIONS REACHED LIMIT.\n",
    "Increase the number of iterations (max_iter) or scale the data as shown in:\n",
    "    https://scikit-learn.org/stable/modules/preprocessing.html\n",
    "Please also refer to the documentation for alternative solver options:\n",
    "    https://scikit-learn.org/stable/modules/linear_model.html#logistic-regression\n",
    "  n_iter_i = _check_optimize_result(\n",
    " ```\n",
    " \n",
    " 한용님의 조언을 받아 (아니면 경원퍼실님일지도 모르겠습니다.) standardization을 수행하여 `X_train_stan`과 `X_test_stan`을 넣었고, 경고 메시지가 더이상 뜨지 않고 있습니다. minmax를 이용한 normalization도 해봤는데 이 경우에는 별다른 성과를 얻지 못했습니다. "
   ]
  },
  {
   "cell_type": "markdown",
   "id": "f55defab",
   "metadata": {},
   "source": [
    "### 1.11.6. 모델을 평가해보기"
   ]
  },
  {
   "cell_type": "code",
   "execution_count": 24,
   "id": "cdbb2674",
   "metadata": {
    "scrolled": false
   },
   "outputs": [
    {
     "name": "stdout",
     "output_type": "stream",
     "text": [
      "              precision    recall  f1-score   support\n",
      "\n",
      "           0       1.00      0.93      0.96        43\n",
      "           1       0.91      0.83      0.87        35\n",
      "           2       0.83      0.83      0.83        36\n",
      "           3       0.78      0.71      0.74        41\n",
      "           4       0.82      0.84      0.83        38\n",
      "           5       0.78      0.97      0.87        30\n",
      "           6       0.88      0.97      0.92        37\n",
      "           7       0.78      0.76      0.77        37\n",
      "           8       0.83      0.86      0.85        29\n",
      "           9       0.75      0.71      0.73        34\n",
      "\n",
      "    accuracy                           0.84       360\n",
      "   macro avg       0.84      0.84      0.84       360\n",
      "weighted avg       0.84      0.84      0.84       360\n",
      "\n",
      "              precision    recall  f1-score   support\n",
      "\n",
      "           0       0.98      0.95      0.96        43\n",
      "           1       1.00      1.00      1.00        35\n",
      "           2       1.00      1.00      1.00        36\n",
      "           3       1.00      0.98      0.99        41\n",
      "           4       0.95      1.00      0.97        38\n",
      "           5       0.97      1.00      0.98        30\n",
      "           6       1.00      1.00      1.00        37\n",
      "           7       1.00      0.97      0.99        37\n",
      "           8       1.00      0.97      0.98        29\n",
      "           9       0.94      0.97      0.96        34\n",
      "\n",
      "    accuracy                           0.98       360\n",
      "   macro avg       0.98      0.98      0.98       360\n",
      "weighted avg       0.98      0.98      0.98       360\n",
      "\n",
      "              precision    recall  f1-score   support\n",
      "\n",
      "           0       1.00      1.00      1.00        43\n",
      "           1       1.00      1.00      1.00        35\n",
      "           2       1.00      1.00      1.00        36\n",
      "           3       1.00      1.00      1.00        41\n",
      "           4       1.00      1.00      1.00        38\n",
      "           5       0.97      1.00      0.98        30\n",
      "           6       1.00      1.00      1.00        37\n",
      "           7       1.00      0.97      0.99        37\n",
      "           8       1.00      0.97      0.98        29\n",
      "           9       0.94      0.97      0.96        34\n",
      "\n",
      "    accuracy                           0.99       360\n",
      "   macro avg       0.99      0.99      0.99       360\n",
      "weighted avg       0.99      0.99      0.99       360\n",
      "\n",
      "              precision    recall  f1-score   support\n",
      "\n",
      "           0       1.00      0.95      0.98        43\n",
      "           1       1.00      0.80      0.89        35\n",
      "           2       1.00      1.00      1.00        36\n",
      "           3       1.00      0.90      0.95        41\n",
      "           4       0.97      1.00      0.99        38\n",
      "           5       0.94      1.00      0.97        30\n",
      "           6       0.97      1.00      0.99        37\n",
      "           7       1.00      0.95      0.97        37\n",
      "           8       0.68      0.97      0.80        29\n",
      "           9       0.94      0.91      0.93        34\n",
      "\n",
      "    accuracy                           0.95       360\n",
      "   macro avg       0.95      0.95      0.95       360\n",
      "weighted avg       0.96      0.95      0.95       360\n",
      "\n",
      "              precision    recall  f1-score   support\n",
      "\n",
      "           0       1.00      1.00      1.00        43\n",
      "           1       0.97      0.97      0.97        35\n",
      "           2       1.00      1.00      1.00        36\n",
      "           3       0.98      1.00      0.99        41\n",
      "           4       1.00      1.00      1.00        38\n",
      "           5       0.90      0.93      0.92        30\n",
      "           6       1.00      1.00      1.00        37\n",
      "           7       1.00      0.97      0.99        37\n",
      "           8       1.00      0.97      0.98        29\n",
      "           9       0.97      0.97      0.97        34\n",
      "\n",
      "    accuracy                           0.98       360\n",
      "   macro avg       0.98      0.98      0.98       360\n",
      "weighted avg       0.98      0.98      0.98       360\n",
      "\n"
     ]
    }
   ],
   "source": [
    "print(classification_report(y_test, y_pred_dt))\n",
    "print(classification_report(y_test, y_pred_rf))\n",
    "print(classification_report(y_test, y_pred_svm))\n",
    "print(classification_report(y_test, y_pred_sgd))\n",
    "print(classification_report(y_test, y_pred_lr))"
   ]
  },
  {
   "cell_type": "code",
   "execution_count": 25,
   "id": "d7877275",
   "metadata": {},
   "outputs": [
    {
     "name": "stdout",
     "output_type": "stream",
     "text": [
      "Confusion matrix:\n",
      "[[43  0  0  0  0  0  0  0  0  0]\n",
      " [ 0 35  0  0  0  0  0  0  0  0]\n",
      " [ 0  0 36  0  0  0  0  0  0  0]\n",
      " [ 0  0  0 41  0  0  0  0  0  0]\n",
      " [ 0  0  0  0 38  0  0  0  0  0]\n",
      " [ 0  0  0  0  0 30  0  0  0  0]\n",
      " [ 0  0  0  0  0  0 37  0  0  0]\n",
      " [ 0  0  0  0  0  0  0 36  0  1]\n",
      " [ 0  0  0  0  0  0  0  0 28  1]\n",
      " [ 0  0  0  0  0  1  0  0  0 33]]\n"
     ]
    },
    {
     "data": {
      "image/png": "[encoded data removed]",
      "text/plain": [
       "<Figure size 432x288 with 2 Axes>"
      ]
     },
     "metadata": {
      "needs_background": "light"
     },
     "output_type": "display_data"
    }
   ],
   "source": [
    "disp = ConfusionMatrixDisplay.from_predictions(y_test, y_pred_svm)\n",
    "disp.figure_.suptitle(\"Confusion Matrix : digits\")\n",
    "print(f\"Confusion matrix:\\n{disp.confusion_matrix}\")\n",
    "plt.show()"
   ]
  },
  {
   "cell_type": "markdown",
   "id": "04ed64c6",
   "metadata": {},
   "source": [
    "## 1.12. 프로젝트 (2) load_wine : 와인을 분류해 봅시다 "
   ]
  },
  {
   "cell_type": "markdown",
   "id": "15c55160",
   "metadata": {},
   "source": [
    "### 1.12.1 필요한 모듈 import 하기"
   ]
  },
  {
   "cell_type": "code",
   "execution_count": 26,
   "id": "15b04605",
   "metadata": {},
   "outputs": [],
   "source": [
    "from sklearn.datasets import load_wine\n",
    "from sklearn.model_selection import train_test_split\n",
    "from sklearn.tree import DecisionTreeClassifier # _dt\n",
    "from sklearn.ensemble import RandomForestClassifier # _rf\n",
    "from sklearn import svm # _svm\n",
    "from sklearn.linear_model import SGDClassifier # _sgd\n",
    "from sklearn.linear_model import LogisticRegression # _lr\n",
    "from sklearn.metrics import classification_report"
   ]
  },
  {
   "cell_type": "markdown",
   "id": "35628735",
   "metadata": {},
   "source": [
    "### 1.12.2 데이터 준비"
   ]
  },
  {
   "cell_type": "code",
   "execution_count": 27,
   "id": "81879289",
   "metadata": {},
   "outputs": [],
   "source": [
    "wine = load_wine()"
   ]
  },
  {
   "cell_type": "code",
   "execution_count": 28,
   "id": "c37254dc",
   "metadata": {},
   "outputs": [
    {
     "name": "stdout",
     "output_type": "stream",
     "text": [
      "['DESCR', 'data', 'feature_names', 'frame', 'target', 'target_names']\n",
      "dict_keys(['data', 'target', 'frame', 'target_names', 'DESCR', 'feature_names'])\n"
     ]
    }
   ],
   "source": [
    "print(dir(wine))\n",
    "print(wine.keys())"
   ]
  },
  {
   "cell_type": "markdown",
   "id": "a641bb29",
   "metadata": {},
   "source": [
    "### 1.12.3 데이터 이해하기"
   ]
  },
  {
   "cell_type": "code",
   "execution_count": 29,
   "id": "649df1df",
   "metadata": {},
   "outputs": [],
   "source": [
    "wine_data = wine.data\n",
    "wine_label = wine.target"
   ]
  },
  {
   "cell_type": "code",
   "execution_count": 30,
   "id": "4330ee26",
   "metadata": {
    "scrolled": true
   },
   "outputs": [
    {
     "name": "stdout",
     "output_type": "stream",
     "text": [
      "<class 'numpy.ndarray'>\n",
      "(178, 13)\n",
      "[1.423e+01 1.710e+00 2.430e+00 1.560e+01 1.270e+02 2.800e+00 3.060e+00\n",
      " 2.800e-01 2.290e+00 5.640e+00 1.040e+00 3.920e+00 1.065e+03]\n"
     ]
    }
   ],
   "source": [
    "print(type(wine_data))\n",
    "print(wine_data.shape)\n",
    "print(wine_data[0])"
   ]
  },
  {
   "cell_type": "code",
   "execution_count": 31,
   "id": "760ca7e1",
   "metadata": {},
   "outputs": [
    {
     "name": "stdout",
     "output_type": "stream",
     "text": [
      "<class 'numpy.ndarray'>\n",
      "(178,)\n",
      "0\n"
     ]
    }
   ],
   "source": [
    "print(type(wine_label))\n",
    "print(wine_label.shape)\n",
    "print(wine_label[0])"
   ]
  },
  {
   "cell_type": "code",
   "execution_count": 32,
   "id": "4ee0aeb2",
   "metadata": {
    "scrolled": true
   },
   "outputs": [
    {
     "name": "stdout",
     "output_type": "stream",
     "text": [
      "['class_0' 'class_1' 'class_2']\n",
      ".. _wine_dataset:\n",
      "\n",
      "Wine recognition dataset\n",
      "------------------------\n",
      "\n",
      "**Data Set Characteristics:**\n",
      "\n",
      "    :Number of Instances: 178 (50 in each of three classes)\n",
      "    :Number of Attributes: 13 numeric, predictive attributes and the class\n",
      "    :Attribute Information:\n",
      " \t\t- Alcohol\n",
      " \t\t- Malic acid\n",
      " \t\t- Ash\n",
      "\t\t- Alcalinity of ash  \n",
      " \t\t- Magnesium\n",
      "\t\t- Total phenols\n",
      " \t\t- Flavanoids\n",
      " \t\t- Nonflavanoid phenols\n",
      " \t\t- Proanthocyanins\n",
      "\t\t- Color intensity\n",
      " \t\t- Hue\n",
      " \t\t- OD280/OD315 of diluted wines\n",
      " \t\t- Proline\n",
      "\n",
      "    - class:\n",
      "            - class_0\n",
      "            - class_1\n",
      "            - class_2\n",
      "\t\t\n",
      "    :Summary Statistics:\n",
      "    \n",
      "    ============================= ==== ===== ======= =====\n",
      "                                   Min   Max   Mean     SD\n",
      "    ============================= ==== ===== ======= =====\n",
      "    Alcohol:                      11.0  14.8    13.0   0.8\n",
      "    Malic Acid:                   0.74  5.80    2.34  1.12\n",
      "    Ash:                          1.36  3.23    2.36  0.27\n",
      "    Alcalinity of Ash:            10.6  30.0    19.5   3.3\n",
      "    Magnesium:                    70.0 162.0    99.7  14.3\n",
      "    Total Phenols:                0.98  3.88    2.29  0.63\n",
      "    Flavanoids:                   0.34  5.08    2.03  1.00\n",
      "    Nonflavanoid Phenols:         0.13  0.66    0.36  0.12\n",
      "    Proanthocyanins:              0.41  3.58    1.59  0.57\n",
      "    Colour Intensity:              1.3  13.0     5.1   2.3\n",
      "    Hue:                          0.48  1.71    0.96  0.23\n",
      "    OD280/OD315 of diluted wines: 1.27  4.00    2.61  0.71\n",
      "    Proline:                       278  1680     746   315\n",
      "    ============================= ==== ===== ======= =====\n",
      "\n",
      "    :Missing Attribute Values: None\n",
      "    :Class Distribution: class_0 (59), class_1 (71), class_2 (48)\n",
      "    :Creator: R.A. Fisher\n",
      "    :Donor: Michael Marshall (MARSHALL%PLU@io.arc.nasa.gov)\n",
      "    :Date: July, 1988\n",
      "\n",
      "This is a copy of UCI ML Wine recognition datasets.\n",
      "https://archive.ics.uci.edu/ml/machine-learning-databases/wine/wine.data\n",
      "\n",
      "The data is the results of a chemical analysis of wines grown in the same\n",
      "region in Italy by three different cultivators. There are thirteen different\n",
      "measurements taken for different constituents found in the three types of\n",
      "wine.\n",
      "\n",
      "Original Owners: \n",
      "\n",
      "Forina, M. et al, PARVUS - \n",
      "An Extendible Package for Data Exploration, Classification and Correlation. \n",
      "Institute of Pharmaceutical and Food Analysis and Technologies,\n",
      "Via Brigata Salerno, 16147 Genoa, Italy.\n",
      "\n",
      "Citation:\n",
      "\n",
      "Lichman, M. (2013). UCI Machine Learning Repository\n",
      "[https://archive.ics.uci.edu/ml]. Irvine, CA: University of California,\n",
      "School of Information and Computer Science. \n",
      "\n",
      ".. topic:: References\n",
      "\n",
      "  (1) S. Aeberhard, D. Coomans and O. de Vel, \n",
      "  Comparison of Classifiers in High Dimensional Settings, \n",
      "  Tech. Rep. no. 92-02, (1992), Dept. of Computer Science and Dept. of  \n",
      "  Mathematics and Statistics, James Cook University of North Queensland. \n",
      "  (Also submitted to Technometrics). \n",
      "\n",
      "  The data was used with many others for comparing various \n",
      "  classifiers. The classes are separable, though only RDA \n",
      "  has achieved 100% correct classification. \n",
      "  (RDA : 100%, QDA 99.4%, LDA 98.9%, 1NN 96.1% (z-transformed data)) \n",
      "  (All results using the leave-one-out technique) \n",
      "\n",
      "  (2) S. Aeberhard, D. Coomans and O. de Vel, \n",
      "  \"THE CLASSIFICATION PERFORMANCE OF RDA\" \n",
      "  Tech. Rep. no. 92-01, (1992), Dept. of Computer Science and Dept. of \n",
      "  Mathematics and Statistics, James Cook University of North Queensland. \n",
      "  (Also submitted to Journal of Chemometrics).\n",
      "\n",
      "['alcohol', 'malic_acid', 'ash', 'alcalinity_of_ash', 'magnesium', 'total_phenols', 'flavanoids', 'nonflavanoid_phenols', 'proanthocyanins', 'color_intensity', 'hue', 'od280/od315_of_diluted_wines', 'proline']\n"
     ]
    }
   ],
   "source": [
    "print(wine.target_names)\n",
    "print(wine.DESCR)\n",
    "print(wine.feature_names)\n",
    "# print(wine.filename)"
   ]
  },
  {
   "cell_type": "markdown",
   "id": "18d31493",
   "metadata": {},
   "source": [
    "### 1.12.4 train, test 데이터 분리"
   ]
  },
  {
   "cell_type": "code",
   "execution_count": 33,
   "id": "5e1ef54b",
   "metadata": {},
   "outputs": [],
   "source": [
    "X_train, X_test, y_train, y_test = train_test_split(wine_data, \n",
    "                                                    wine_label, \n",
    "                                                    test_size=0.2, \n",
    "                                                    random_state=1)"
   ]
  },
  {
   "cell_type": "code",
   "execution_count": 34,
   "id": "a6fa046a",
   "metadata": {},
   "outputs": [
    {
     "name": "stdout",
     "output_type": "stream",
     "text": [
      "<class 'numpy.ndarray'>\n",
      "(142, 13)\n",
      "[ 12.     1.51   2.42  22.    86.     1.45   1.25   0.5    1.63   3.6\n",
      "   1.05   2.65 450.  ]\n",
      "<class 'numpy.ndarray'>\n",
      "(36, 13)\n",
      "[1.369e+01 3.260e+00 2.540e+00 2.000e+01 1.070e+02 1.830e+00 5.600e-01\n",
      " 5.000e-01 8.000e-01 5.880e+00 9.600e-01 1.820e+00 6.800e+02]\n",
      "<class 'numpy.ndarray'>\n",
      "(142,)\n",
      "1\n",
      "<class 'numpy.ndarray'>\n",
      "(36,)\n",
      "2\n"
     ]
    }
   ],
   "source": [
    "print(type(X_train))\n",
    "print(X_train.shape)\n",
    "print(X_train[0])\n",
    "\n",
    "print(type(X_test))\n",
    "print(X_test.shape)\n",
    "print(X_test[0])\n",
    "\n",
    "print(type(y_train))\n",
    "print(y_train.shape)\n",
    "print(y_train[0])\n",
    "\n",
    "print(type(y_test))\n",
    "print(y_test.shape)\n",
    "print(y_test[0])"
   ]
  },
  {
   "cell_type": "markdown",
   "id": "97dc3621",
   "metadata": {},
   "source": [
    "### 1.12.5. 다양한 모델로 학습시켜보기"
   ]
  },
  {
   "cell_type": "code",
   "execution_count": 35,
   "id": "994d2f0d",
   "metadata": {},
   "outputs": [],
   "source": [
    "# decision tree\n",
    "# _dt\n",
    "decision_tree = DecisionTreeClassifier(random_state=1)\n",
    "decision_tree.fit(X_train, y_train)\n",
    "y_pred_dt = decision_tree.predict(X_test)"
   ]
  },
  {
   "cell_type": "code",
   "execution_count": 36,
   "id": "2929fa58",
   "metadata": {},
   "outputs": [],
   "source": [
    "# random forest\n",
    "# _rf\n",
    "random_forest = RandomForestClassifier(random_state=1)\n",
    "random_forest.fit(X_train, y_train)\n",
    "y_pred_rf = random_forest.predict(X_test)"
   ]
  },
  {
   "cell_type": "code",
   "execution_count": 37,
   "id": "d757a17d",
   "metadata": {},
   "outputs": [],
   "source": [
    "# support vector machine\n",
    "# _svm\n",
    "svm_model = svm.SVC(random_state=1)\n",
    "svm_model.fit(X_train, y_train)\n",
    "y_pred_svm = svm_model.predict(X_test)"
   ]
  },
  {
   "cell_type": "code",
   "execution_count": 38,
   "id": "ee3e484f",
   "metadata": {},
   "outputs": [],
   "source": [
    "# stochastic gradient descent classifier\n",
    "# sgd\n",
    "sgd_model = SGDClassifier(random_state=1)\n",
    "sgd_model.fit(X_train, y_train)\n",
    "y_pred_sgd = sgd_model.predict(X_test)"
   ]
  },
  {
   "cell_type": "code",
   "execution_count": 39,
   "id": "3e46e6e9",
   "metadata": {
    "scrolled": true
   },
   "outputs": [
    {
     "name": "stderr",
     "output_type": "stream",
     "text": [
      "/opt/conda/lib/python3.9/site-packages/sklearn/linear_model/_logistic.py:814: ConvergenceWarning: lbfgs failed to converge (status=1):\n",
      "STOP: TOTAL NO. of ITERATIONS REACHED LIMIT.\n",
      "\n",
      "Increase the number of iterations (max_iter) or scale the data as shown in:\n",
      "    https://scikit-learn.org/stable/modules/preprocessing.html\n",
      "Please also refer to the documentation for alternative solver options:\n",
      "    https://scikit-learn.org/stable/modules/linear_model.html#logistic-regression\n",
      "  n_iter_i = _check_optimize_result(\n"
     ]
    }
   ],
   "source": [
    "# logistic regerssion\n",
    "# _lr\n",
    "logistic_model = LogisticRegression()\n",
    "logistic_model.fit(X_train, y_train)\n",
    "y_pred_lr = logistic_model.predict(X_test)"
   ]
  },
  {
   "cell_type": "markdown",
   "id": "6ce0548d",
   "metadata": {},
   "source": [
    "### 1.12.6. 모델을 평가해보기"
   ]
  },
  {
   "cell_type": "code",
   "execution_count": 40,
   "id": "1abb6832",
   "metadata": {},
   "outputs": [
    {
     "name": "stdout",
     "output_type": "stream",
     "text": [
      "              precision    recall  f1-score   support\n",
      "\n",
      "           0       0.93      0.93      0.93        14\n",
      "           1       0.75      0.92      0.83        13\n",
      "           2       1.00      0.67      0.80         9\n",
      "\n",
      "    accuracy                           0.86        36\n",
      "   macro avg       0.89      0.84      0.85        36\n",
      "weighted avg       0.88      0.86      0.86        36\n",
      "\n",
      "              precision    recall  f1-score   support\n",
      "\n",
      "           0       0.93      1.00      0.97        14\n",
      "           1       1.00      0.92      0.96        13\n",
      "           2       1.00      1.00      1.00         9\n",
      "\n",
      "    accuracy                           0.97        36\n",
      "   macro avg       0.98      0.97      0.98        36\n",
      "weighted avg       0.97      0.97      0.97        36\n",
      "\n",
      "              precision    recall  f1-score   support\n",
      "\n",
      "           0       0.92      0.79      0.85        14\n",
      "           1       0.58      0.85      0.69        13\n",
      "           2       0.20      0.11      0.14         9\n",
      "\n",
      "    accuracy                           0.64        36\n",
      "   macro avg       0.57      0.58      0.56        36\n",
      "weighted avg       0.62      0.64      0.61        36\n",
      "\n",
      "              precision    recall  f1-score   support\n",
      "\n",
      "           0       0.70      1.00      0.82        14\n",
      "           1       0.69      0.85      0.76        13\n",
      "           2       0.00      0.00      0.00         9\n",
      "\n",
      "    accuracy                           0.69        36\n",
      "   macro avg       0.46      0.62      0.53        36\n",
      "weighted avg       0.52      0.69      0.59        36\n",
      "\n",
      "              precision    recall  f1-score   support\n",
      "\n",
      "           0       1.00      0.93      0.96        14\n",
      "           1       0.87      1.00      0.93        13\n",
      "           2       1.00      0.89      0.94         9\n",
      "\n",
      "    accuracy                           0.94        36\n",
      "   macro avg       0.96      0.94      0.94        36\n",
      "weighted avg       0.95      0.94      0.95        36\n",
      "\n"
     ]
    },
    {
     "name": "stderr",
     "output_type": "stream",
     "text": [
      "/opt/conda/lib/python3.9/site-packages/sklearn/metrics/_classification.py:1308: UndefinedMetricWarning: Precision and F-score are ill-defined and being set to 0.0 in labels with no predicted samples. Use `zero_division` parameter to control this behavior.\n",
      "  _warn_prf(average, modifier, msg_start, len(result))\n",
      "/opt/conda/lib/python3.9/site-packages/sklearn/metrics/_classification.py:1308: UndefinedMetricWarning: Precision and F-score are ill-defined and being set to 0.0 in labels with no predicted samples. Use `zero_division` parameter to control this behavior.\n",
      "  _warn_prf(average, modifier, msg_start, len(result))\n",
      "/opt/conda/lib/python3.9/site-packages/sklearn/metrics/_classification.py:1308: UndefinedMetricWarning: Precision and F-score are ill-defined and being set to 0.0 in labels with no predicted samples. Use `zero_division` parameter to control this behavior.\n",
      "  _warn_prf(average, modifier, msg_start, len(result))\n"
     ]
    }
   ],
   "source": [
    "print(classification_report(y_test, y_pred_dt))\n",
    "print(classification_report(y_test, y_pred_rf))\n",
    "print(classification_report(y_test, y_pred_svm))\n",
    "print(classification_report(y_test, y_pred_sgd))\n",
    "print(classification_report(y_test, y_pred_lr))"
   ]
  },
  {
   "cell_type": "markdown",
   "id": "50a412b9",
   "metadata": {},
   "source": [
    "## 1.13. 프로젝트 (3) load_breast_cancer : 유방암 여부를 진단해 봅시다"
   ]
  },
  {
   "cell_type": "markdown",
   "id": "abb07821",
   "metadata": {},
   "source": [
    "### 1.13.1 필요한 모듈 import 하기"
   ]
  },
  {
   "cell_type": "code",
   "execution_count": 41,
   "id": "b0a2679d",
   "metadata": {},
   "outputs": [],
   "source": [
    "from sklearn.datasets import load_breast_cancer\n",
    "from sklearn.model_selection import train_test_split\n",
    "from sklearn.tree import DecisionTreeClassifier # _dt\n",
    "from sklearn.ensemble import RandomForestClassifier # _rf\n",
    "from sklearn import svm # _svm\n",
    "from sklearn.linear_model import SGDClassifier # _sgd\n",
    "from sklearn.linear_model import LogisticRegression # _lr\n",
    "from sklearn.metrics import classification_report"
   ]
  },
  {
   "cell_type": "markdown",
   "id": "3ec7ce15",
   "metadata": {},
   "source": [
    "### 1.13.2 데이터 준비"
   ]
  },
  {
   "cell_type": "code",
   "execution_count": 42,
   "id": "a4c8bad0",
   "metadata": {},
   "outputs": [],
   "source": [
    "breast_cancer = load_breast_cancer()"
   ]
  },
  {
   "cell_type": "code",
   "execution_count": 43,
   "id": "2eb60314",
   "metadata": {},
   "outputs": [
    {
     "name": "stdout",
     "output_type": "stream",
     "text": [
      "['DESCR', 'data', 'data_module', 'feature_names', 'filename', 'frame', 'target', 'target_names']\n",
      "dict_keys(['data', 'target', 'frame', 'target_names', 'DESCR', 'feature_names', 'filename', 'data_module'])\n"
     ]
    }
   ],
   "source": [
    "print(dir(breast_cancer))\n",
    "print(breast_cancer.keys())"
   ]
  },
  {
   "cell_type": "markdown",
   "id": "2eafcf1f",
   "metadata": {},
   "source": [
    "### 1.13.3 데이터 이해하기"
   ]
  },
  {
   "cell_type": "code",
   "execution_count": 44,
   "id": "f74ab789",
   "metadata": {},
   "outputs": [],
   "source": [
    "breast_cancer_data = breast_cancer.data\n",
    "breast_cancer_label = breast_cancer.target"
   ]
  },
  {
   "cell_type": "code",
   "execution_count": 45,
   "id": "5dfa5a08",
   "metadata": {
    "scrolled": true
   },
   "outputs": [
    {
     "name": "stdout",
     "output_type": "stream",
     "text": [
      "<class 'numpy.ndarray'>\n",
      "(569, 30)\n",
      "[1.799e+01 1.038e+01 1.228e+02 1.001e+03 1.184e-01 2.776e-01 3.001e-01\n",
      " 1.471e-01 2.419e-01 7.871e-02 1.095e+00 9.053e-01 8.589e+00 1.534e+02\n",
      " 6.399e-03 4.904e-02 5.373e-02 1.587e-02 3.003e-02 6.193e-03 2.538e+01\n",
      " 1.733e+01 1.846e+02 2.019e+03 1.622e-01 6.656e-01 7.119e-01 2.654e-01\n",
      " 4.601e-01 1.189e-01]\n"
     ]
    }
   ],
   "source": [
    "print(type(breast_cancer_data))\n",
    "print(breast_cancer_data.shape)\n",
    "print(breast_cancer_data[0])"
   ]
  },
  {
   "cell_type": "code",
   "execution_count": 46,
   "id": "9b588876",
   "metadata": {},
   "outputs": [
    {
     "name": "stdout",
     "output_type": "stream",
     "text": [
      "<class 'numpy.ndarray'>\n",
      "(569,)\n",
      "0\n"
     ]
    }
   ],
   "source": [
    "print(type(breast_cancer_label))\n",
    "print(breast_cancer_label.shape)\n",
    "print(breast_cancer_label[0])"
   ]
  },
  {
   "cell_type": "code",
   "execution_count": 47,
   "id": "12a3e0d4",
   "metadata": {},
   "outputs": [
    {
     "name": "stdout",
     "output_type": "stream",
     "text": [
      "['malignant' 'benign']\n",
      ".. _breast_cancer_dataset:\n",
      "\n",
      "Breast cancer wisconsin (diagnostic) dataset\n",
      "--------------------------------------------\n",
      "\n",
      "**Data Set Characteristics:**\n",
      "\n",
      "    :Number of Instances: 569\n",
      "\n",
      "    :Number of Attributes: 30 numeric, predictive attributes and the class\n",
      "\n",
      "    :Attribute Information:\n",
      "        - radius (mean of distances from center to points on the perimeter)\n",
      "        - texture (standard deviation of gray-scale values)\n",
      "        - perimeter\n",
      "        - area\n",
      "        - smoothness (local variation in radius lengths)\n",
      "        - compactness (perimeter^2 / area - 1.0)\n",
      "        - concavity (severity of concave portions of the contour)\n",
      "        - concave points (number of concave portions of the contour)\n",
      "        - symmetry\n",
      "        - fractal dimension (\"coastline approximation\" - 1)\n",
      "\n",
      "        The mean, standard error, and \"worst\" or largest (mean of the three\n",
      "        worst/largest values) of these features were computed for each image,\n",
      "        resulting in 30 features.  For instance, field 0 is Mean Radius, field\n",
      "        10 is Radius SE, field 20 is Worst Radius.\n",
      "\n",
      "        - class:\n",
      "                - WDBC-Malignant\n",
      "                - WDBC-Benign\n",
      "\n",
      "    :Summary Statistics:\n",
      "\n",
      "    ===================================== ====== ======\n",
      "                                           Min    Max\n",
      "    ===================================== ====== ======\n",
      "    radius (mean):                        6.981  28.11\n",
      "    texture (mean):                       9.71   39.28\n",
      "    perimeter (mean):                     43.79  188.5\n",
      "    area (mean):                          143.5  2501.0\n",
      "    smoothness (mean):                    0.053  0.163\n",
      "    compactness (mean):                   0.019  0.345\n",
      "    concavity (mean):                     0.0    0.427\n",
      "    concave points (mean):                0.0    0.201\n",
      "    symmetry (mean):                      0.106  0.304\n",
      "    fractal dimension (mean):             0.05   0.097\n",
      "    radius (standard error):              0.112  2.873\n",
      "    texture (standard error):             0.36   4.885\n",
      "    perimeter (standard error):           0.757  21.98\n",
      "    area (standard error):                6.802  542.2\n",
      "    smoothness (standard error):          0.002  0.031\n",
      "    compactness (standard error):         0.002  0.135\n",
      "    concavity (standard error):           0.0    0.396\n",
      "    concave points (standard error):      0.0    0.053\n",
      "    symmetry (standard error):            0.008  0.079\n",
      "    fractal dimension (standard error):   0.001  0.03\n",
      "    radius (worst):                       7.93   36.04\n",
      "    texture (worst):                      12.02  49.54\n",
      "    perimeter (worst):                    50.41  251.2\n",
      "    area (worst):                         185.2  4254.0\n",
      "    smoothness (worst):                   0.071  0.223\n",
      "    compactness (worst):                  0.027  1.058\n",
      "    concavity (worst):                    0.0    1.252\n",
      "    concave points (worst):               0.0    0.291\n",
      "    symmetry (worst):                     0.156  0.664\n",
      "    fractal dimension (worst):            0.055  0.208\n",
      "    ===================================== ====== ======\n",
      "\n",
      "    :Missing Attribute Values: None\n",
      "\n",
      "    :Class Distribution: 212 - Malignant, 357 - Benign\n",
      "\n",
      "    :Creator:  Dr. William H. Wolberg, W. Nick Street, Olvi L. Mangasarian\n",
      "\n",
      "    :Donor: Nick Street\n",
      "\n",
      "    :Date: November, 1995\n",
      "\n",
      "This is a copy of UCI ML Breast Cancer Wisconsin (Diagnostic) datasets.\n",
      "https://goo.gl/U2Uwz2\n",
      "\n",
      "Features are computed from a digitized image of a fine needle\n",
      "aspirate (FNA) of a breast mass.  They describe\n",
      "characteristics of the cell nuclei present in the image.\n",
      "\n",
      "Separating plane described above was obtained using\n",
      "Multisurface Method-Tree (MSM-T) [K. P. Bennett, \"Decision Tree\n",
      "Construction Via Linear Programming.\" Proceedings of the 4th\n",
      "Midwest Artificial Intelligence and Cognitive Science Society,\n",
      "pp. 97-101, 1992], a classification method which uses linear\n",
      "programming to construct a decision tree.  Relevant features\n",
      "were selected using an exhaustive search in the space of 1-4\n",
      "features and 1-3 separating planes.\n",
      "\n",
      "The actual linear program used to obtain the separating plane\n",
      "in the 3-dimensional space is that described in:\n",
      "[K. P. Bennett and O. L. Mangasarian: \"Robust Linear\n",
      "Programming Discrimination of Two Linearly Inseparable Sets\",\n",
      "Optimization Methods and Software 1, 1992, 23-34].\n",
      "\n",
      "This database is also available through the UW CS ftp server:\n",
      "\n",
      "ftp ftp.cs.wisc.edu\n",
      "cd math-prog/cpo-dataset/machine-learn/WDBC/\n",
      "\n",
      ".. topic:: References\n",
      "\n",
      "   - W.N. Street, W.H. Wolberg and O.L. Mangasarian. Nuclear feature extraction \n",
      "     for breast tumor diagnosis. IS&T/SPIE 1993 International Symposium on \n",
      "     Electronic Imaging: Science and Technology, volume 1905, pages 861-870,\n",
      "     San Jose, CA, 1993.\n",
      "   - O.L. Mangasarian, W.N. Street and W.H. Wolberg. Breast cancer diagnosis and \n",
      "     prognosis via linear programming. Operations Research, 43(4), pages 570-577, \n",
      "     July-August 1995.\n",
      "   - W.H. Wolberg, W.N. Street, and O.L. Mangasarian. Machine learning techniques\n",
      "     to diagnose breast cancer from fine-needle aspirates. Cancer Letters 77 (1994) \n",
      "     163-171.\n",
      "['mean radius' 'mean texture' 'mean perimeter' 'mean area'\n",
      " 'mean smoothness' 'mean compactness' 'mean concavity'\n",
      " 'mean concave points' 'mean symmetry' 'mean fractal dimension'\n",
      " 'radius error' 'texture error' 'perimeter error' 'area error'\n",
      " 'smoothness error' 'compactness error' 'concavity error'\n",
      " 'concave points error' 'symmetry error' 'fractal dimension error'\n",
      " 'worst radius' 'worst texture' 'worst perimeter' 'worst area'\n",
      " 'worst smoothness' 'worst compactness' 'worst concavity'\n",
      " 'worst concave points' 'worst symmetry' 'worst fractal dimension']\n"
     ]
    }
   ],
   "source": [
    "print(breast_cancer.target_names)\n",
    "print(breast_cancer.DESCR)\n",
    "print(breast_cancer.feature_names)\n",
    "# print(breast_cancer.filename)"
   ]
  },
  {
   "cell_type": "markdown",
   "id": "c4a48924",
   "metadata": {},
   "source": [
    "### 1.13.4 train, test 데이터 분리"
   ]
  },
  {
   "cell_type": "code",
   "execution_count": 48,
   "id": "85a86e88",
   "metadata": {},
   "outputs": [],
   "source": [
    "X_train, X_test, y_train, y_test = train_test_split(breast_cancer_data, \n",
    "                                                    breast_cancer_label, \n",
    "                                                    test_size=0.2, \n",
    "                                                    random_state=1)"
   ]
  },
  {
   "cell_type": "code",
   "execution_count": 49,
   "id": "6bf71280",
   "metadata": {},
   "outputs": [
    {
     "name": "stdout",
     "output_type": "stream",
     "text": [
      "<class 'numpy.ndarray'>\n",
      "(455, 30)\n",
      "[1.799e+01 2.066e+01 1.178e+02 9.917e+02 1.036e-01 1.304e-01 1.201e-01\n",
      " 8.824e-02 1.992e-01 6.069e-02 4.537e-01 8.733e-01 3.061e+00 4.981e+01\n",
      " 7.231e-03 2.772e-02 2.509e-02 1.480e-02 1.414e-02 3.336e-03 2.108e+01\n",
      " 2.541e+01 1.381e+02 1.349e+03 1.482e-01 3.735e-01 3.301e-01 1.974e-01\n",
      " 3.060e-01 8.503e-02]\n",
      "<class 'numpy.ndarray'>\n",
      "(114, 30)\n",
      "[1.469e+01 1.398e+01 9.822e+01 6.561e+02 1.031e-01 1.836e-01 1.450e-01\n",
      " 6.300e-02 2.086e-01 7.406e-02 5.462e-01 1.511e+00 4.795e+00 4.945e+01\n",
      " 9.976e-03 5.244e-02 5.278e-02 1.580e-02 2.653e-02 5.444e-03 1.646e+01\n",
      " 1.834e+01 1.141e+02 8.092e+02 1.312e-01 3.635e-01 3.219e-01 1.108e-01\n",
      " 2.827e-01 9.208e-02]\n",
      "<class 'numpy.ndarray'>\n",
      "(455,)\n",
      "0\n",
      "<class 'numpy.ndarray'>\n",
      "(114,)\n",
      "1\n"
     ]
    }
   ],
   "source": [
    "print(type(X_train))\n",
    "print(X_train.shape)\n",
    "print(X_train[0])\n",
    "\n",
    "print(type(X_test))\n",
    "print(X_test.shape)\n",
    "print(X_test[0])\n",
    "\n",
    "print(type(y_train))\n",
    "print(y_train.shape)\n",
    "print(y_train[0])\n",
    "\n",
    "print(type(y_test))\n",
    "print(y_test.shape)\n",
    "print(y_test[0])"
   ]
  },
  {
   "cell_type": "markdown",
   "id": "cf4a9045",
   "metadata": {},
   "source": [
    "### 1.13.5. 다양한 모델로 학습시켜보기"
   ]
  },
  {
   "cell_type": "code",
   "execution_count": 50,
   "id": "25d98997",
   "metadata": {},
   "outputs": [],
   "source": [
    "# decision tree\n",
    "# _dt\n",
    "decision_tree = DecisionTreeClassifier(random_state=1)\n",
    "decision_tree.fit(X_train, y_train)\n",
    "y_pred_dt = decision_tree.predict(X_test)"
   ]
  },
  {
   "cell_type": "code",
   "execution_count": 51,
   "id": "42006c43",
   "metadata": {},
   "outputs": [],
   "source": [
    "# random forest\n",
    "# _rf\n",
    "random_forest = RandomForestClassifier(random_state=1)\n",
    "random_forest.fit(X_train, y_train)\n",
    "y_pred_rf = random_forest.predict(X_test)"
   ]
  },
  {
   "cell_type": "code",
   "execution_count": 52,
   "id": "4eabb76e",
   "metadata": {},
   "outputs": [],
   "source": [
    "# support vector machine\n",
    "# _svm\n",
    "svm_model = svm.SVC(random_state=1)\n",
    "svm_model.fit(X_train, y_train)\n",
    "y_pred_svm = svm_model.predict(X_test)"
   ]
  },
  {
   "cell_type": "code",
   "execution_count": 53,
   "id": "5f3ad942",
   "metadata": {},
   "outputs": [],
   "source": [
    "# stochastic gradient descent classifier\n",
    "# sgd\n",
    "sgd_model = SGDClassifier(random_state=1)\n",
    "sgd_model.fit(X_train, y_train)\n",
    "y_pred_sgd = sgd_model.predict(X_test)"
   ]
  },
  {
   "cell_type": "code",
   "execution_count": 54,
   "id": "2ca043f1",
   "metadata": {
    "scrolled": true
   },
   "outputs": [
    {
     "name": "stderr",
     "output_type": "stream",
     "text": [
      "/opt/conda/lib/python3.9/site-packages/sklearn/linear_model/_logistic.py:814: ConvergenceWarning: lbfgs failed to converge (status=1):\n",
      "STOP: TOTAL NO. of ITERATIONS REACHED LIMIT.\n",
      "\n",
      "Increase the number of iterations (max_iter) or scale the data as shown in:\n",
      "    https://scikit-learn.org/stable/modules/preprocessing.html\n",
      "Please also refer to the documentation for alternative solver options:\n",
      "    https://scikit-learn.org/stable/modules/linear_model.html#logistic-regression\n",
      "  n_iter_i = _check_optimize_result(\n"
     ]
    }
   ],
   "source": [
    "# logistic regerssion\n",
    "# _lr\n",
    "logistic_model = LogisticRegression()\n",
    "logistic_model.fit(X_train, y_train)\n",
    "y_pred_lr = logistic_model.predict(X_test)"
   ]
  },
  {
   "cell_type": "markdown",
   "id": "0a7a8cf5",
   "metadata": {},
   "source": [
    "### 1.13.6. 모델을 평가해보기"
   ]
  },
  {
   "cell_type": "code",
   "execution_count": 55,
   "id": "f9c763c3",
   "metadata": {},
   "outputs": [
    {
     "name": "stdout",
     "output_type": "stream",
     "text": [
      "              precision    recall  f1-score   support\n",
      "\n",
      "           0       0.97      0.88      0.93        42\n",
      "           1       0.93      0.99      0.96        72\n",
      "\n",
      "    accuracy                           0.95       114\n",
      "   macro avg       0.95      0.93      0.94       114\n",
      "weighted avg       0.95      0.95      0.95       114\n",
      "\n",
      "              precision    recall  f1-score   support\n",
      "\n",
      "           0       1.00      0.88      0.94        42\n",
      "           1       0.94      1.00      0.97        72\n",
      "\n",
      "    accuracy                           0.96       114\n",
      "   macro avg       0.97      0.94      0.95       114\n",
      "weighted avg       0.96      0.96      0.96       114\n",
      "\n",
      "              precision    recall  f1-score   support\n",
      "\n",
      "           0       1.00      0.74      0.85        42\n",
      "           1       0.87      1.00      0.93        72\n",
      "\n",
      "    accuracy                           0.90       114\n",
      "   macro avg       0.93      0.87      0.89       114\n",
      "weighted avg       0.92      0.90      0.90       114\n",
      "\n",
      "              precision    recall  f1-score   support\n",
      "\n",
      "           0       0.95      0.88      0.91        42\n",
      "           1       0.93      0.97      0.95        72\n",
      "\n",
      "    accuracy                           0.94       114\n",
      "   macro avg       0.94      0.93      0.93       114\n",
      "weighted avg       0.94      0.94      0.94       114\n",
      "\n",
      "              precision    recall  f1-score   support\n",
      "\n",
      "           0       0.95      0.90      0.93        42\n",
      "           1       0.95      0.97      0.96        72\n",
      "\n",
      "    accuracy                           0.95       114\n",
      "   macro avg       0.95      0.94      0.94       114\n",
      "weighted avg       0.95      0.95      0.95       114\n",
      "\n"
     ]
    }
   ],
   "source": [
    "print(classification_report(y_test, y_pred_dt))\n",
    "print(classification_report(y_test, y_pred_rf))\n",
    "print(classification_report(y_test, y_pred_svm))\n",
    "print(classification_report(y_test, y_pred_sgd))\n",
    "print(classification_report(y_test, y_pred_lr))"
   ]
  }
 ],
 "metadata": {
  "kernelspec": {
   "display_name": "Python 3 (ipykernel)",
   "language": "python",
   "name": "python3"
  },
  "language_info": {
   "codemirror_mode": {
    "name": "ipython",
    "version": 3
   },
   "file_extension": ".py",
   "mimetype": "text/x-python",
   "name": "python",
   "nbconvert_exporter": "python",
   "pygments_lexer": "ipython3",
   "version": "3.9.7"
  }
 },
 "nbformat": 4,
 "nbformat_minor": 5
}
