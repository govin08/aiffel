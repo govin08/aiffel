{
 "cells": [
  {
   "cell_type": "markdown",
   "id": "7ffd5d14",
   "metadata": {},
   "source": [
    "# 프로젝트 제출\n",
    "\n",
    "이 파일은, aiffel 2022년도 3기의 노드 중 하나인\n",
    " - EXPLORATION_SO3 : 1. Iris의 세 가지 품종, 분류해볼 수 있겠어요?\n",
    " \n",
    "와 관련한 프로젝트입니다.\n",
    "(저는 aiffel 교육생 김선중 입니다.)\n",
    "\n",
    "프로젝트 결과물은 다음과 같이 구성해보았습니다.\n",
    "\n",
    "## 목차\n",
    "1. 사전 설명\n",
    "    \n",
    "    1.1. 목적\n",
    "    \n",
    "    1.2. 요약\n",
    "\n",
    "    1.3. evaluation metric들에 대한 설명\n",
    "\n",
    "\n",
    "2. 각 dataset에 대하여 분류문제 수행\n",
    "\n",
    "    2.1. `digits` dataset\n",
    "    \n",
    "    2.2. `wine` dataset\n",
    "    \n",
    "    2.3. `breast_cancer` dataset\n",
    "\n",
    "\n",
    "2. 결론"
   ]
  },
  {
   "cell_type": "markdown",
   "id": "201b209d",
   "metadata": {},
   "source": [
    "# 1. 사전 설명"
   ]
  },
  {
   "cell_type": "markdown",
   "id": "15dc1a1c",
   "metadata": {},
   "source": [
    "## 1.1. 목적"
   ]
  },
  {
   "cell_type": "markdown",
   "id": "3675152d",
   "metadata": {},
   "source": [
    "`sklearn`에서 불러올 수 있는 세 개의 dataset `load_digits()`, `load_wine()`, `load_breast_cancer()`에 대하여 (이하 `digits`, `wine`, `breast_cancer`)\n",
    "다섯 가지 종류의 모델(`decision tree`, `random forest`, `suppoer vector machine`,`stochastic gradient descent classifier`, `logistic regression`)을 사용하여 분류 문제를 수행합니다.\n",
    "\n",
    "|평가문항|상세기준|\n",
    "|:-|:-|\n",
    "|데이터셋의 구성을 파악하고, 데이터를 이해하는 과정이 포함되어있는가?|feature와 label 선정을 위한 데이터 분석과정을 전개함|\n",
    "|데이터셋에 대해 각각 5가지 모델을 이용하여 학습을 수행하고 결과값을 얻었는가?|모델학습 및 테스트가 정상적으로 수행되고, 결과값을 얻었음|\n",
    "|데이터셋에 대해 모델의 평가 지표를 선택하고, 그 이유를 근거를 바탕으로 서술하였는가?|모델학습을 통해 얻은 결과물을 바탕으로 평가지표를 선택하고, 본인의 의견을 서술하였음|\n",
    "\n",
    "평가문항이 위와 같으므로 (1) 데이터셋의 구성을 파악하고 데이터를 이해하는 과정, (2) 5가지 모델을 사용하여 학습을 수행하고결과를 얻는 것, (3) 각각의 데이터셋에 대하여 모델의 평가 지표를 선정해보려 했습니다.\n",
    "\n",
    "각 모델의 평가지표를 출력할 때에 노드 중에 포함되어 있는 `accuracy_score(y_test, y_pred)`와 같은 코드는 쓰지 않고 `print(classification_report(y_test, y_pred))`와 같은 코드로만 사용했습니다.\n",
    "전자는 accuracy만 출력하지만 후자는 accuracy를 포함한 다양한 평가지표를 모두 출력하므로 더 낫다고 판단했습니다.\n",
    "\n",
    "각각의 코드 아래에는 markdown으로 설명을 적어보았습니다."
   ]
  },
  {
   "cell_type": "markdown",
   "id": "ea7b8761",
   "metadata": {},
   "source": [
    "## 1.2. 요약"
   ]
  },
  {
   "cell_type": "markdown",
   "id": "1cc220a4",
   "metadata": {},
   "source": [
    "# 2. 각 dataset에 대하여 분류문제 수행"
   ]
  },
  {
   "cell_type": "markdown",
   "id": "71655b85",
   "metadata": {},
   "source": [
    "## 1.2. `digits` dataset"
   ]
  },
  {
   "cell_type": "markdown",
   "id": "dbe3d14e",
   "metadata": {},
   "source": [
    "### 1.2.1 필요한 모듈 import 하기"
   ]
  },
  {
   "cell_type": "code",
   "execution_count": 1,
   "id": "38541c86",
   "metadata": {},
   "outputs": [],
   "source": [
    "from sklearn.datasets import load_digits\n",
    "from sklearn.model_selection import train_test_split\n",
    "from sklearn import preprocessing\n",
    "from sklearn.tree import DecisionTreeClassifier # _dt\n",
    "from sklearn.ensemble import RandomForestClassifier # _rf\n",
    "from sklearn import svm # _svm`\n",
    "from sklearn.linear_model import SGDClassifier, LogisticRegression # _sgd,  _lr\n",
    "from sklearn.metrics import classification_report, ConfusionMatrixDisplay\n",
    "import numpy as np\n",
    "import matplotlib.pyplot as plt\n",
    "import pandas as pd"
   ]
  },
  {
   "cell_type": "markdown",
   "id": "bc6a77b8",
   "metadata": {},
   "source": [
    "모듈들을 import합니다.\n",
    " 아래 모듈들은 주로 `sklearn`에서 제공하는 모듈들입니다.\n",
    " - line 1 : `digits` dataset을 불러오기 위해 `load_digits` 모듈을 import합니다.\n",
    " - line 2 ~ 3 : 데이터의 전처리과정을 위해 `train_test_split`, `preprocessing` 모듈을 import합니다.\n",
    " - line 4 ~ 8 : 다섯 개의 서로 다른 모델 (decision tree classifier, random forest classifier, support vector machine, stochastic gradient descent classifier, logistic regression)을 사용하기 위해 해당 모듈들을 import합니다.\n",
    " - line 9 : 모델의 평가지표를 한번에 불러오기 위해 `classification_report` 모듈을 import합니다.\n",
    " - line 10 ~ 12 : numpy와 matplotlib, pandas를 import합니다."
   ]
  },
  {
   "cell_type": "markdown",
   "id": "ce473d85",
   "metadata": {},
   "source": [
    "### 1.2.2 데이터 준비"
   ]
  },
  {
   "cell_type": "code",
   "execution_count": 2,
   "id": "926de8d8",
   "metadata": {
    "scrolled": false
   },
   "outputs": [
    {
     "name": "stdout",
     "output_type": "stream",
     "text": [
      "<class 'sklearn.utils.Bunch'>\n",
      "['DESCR', 'data', 'feature_names', 'frame', 'images', 'target', 'target_names']\n",
      "dict_keys(['data', 'target', 'frame', 'feature_names', 'target_names', 'images', 'DESCR'])\n"
     ]
    }
   ],
   "source": [
    "digits = load_digits()\n",
    "print(type(digits))\n",
    "# print(digits)\n",
    "print(dir(digits))\n",
    "print(digits.keys())"
   ]
  },
  {
   "cell_type": "markdown",
   "id": "258f8a9f",
   "metadata": {},
   "source": [
    " - line 1 : `load_digits()`으로 데이터를 불러와 `digits`에 할당합니다.\n",
    " - line 2, 3 : `digits`는 `sklearn.utils.Bunch`라는 타입을 가지고 있는데, [이것](https://scikit-learn.org/stable/modules/generated/sklearn.utils.Bunch.html)은 `sklearn`에서 딕셔너리와 같은 역할을 하는 클래스인 것 같습니다.\n",
    " - line 4 : 파이썬의 내장함수 [`dir()`](https://docs.python.org/ko/3/library/functions.html#dir)을 사용합니다.\n",
    " - line 5 : `digits`의 키값을 `keys()` 메소드를 통해 호출합니다.\n",
    " `digits`의 key들이 나열되는데, 이 중 `data`, `target`, `target_names`, `DESCR`, `feature_names`를 살펴볼 예정입니다.\n",
    " 노드에서의 `iris` dataset에 비교하면, `filename`이 없습니다."
   ]
  },
  {
   "cell_type": "markdown",
   "id": "d8957ba0",
   "metadata": {},
   "source": [
    "### 1.2.3 데이터 이해하기"
   ]
  },
  {
   "cell_type": "code",
   "execution_count": 3,
   "id": "5d8fbef4",
   "metadata": {},
   "outputs": [],
   "source": [
    "digits_data = digits.data\n",
    "digits_label = digits.target"
   ]
  },
  {
   "cell_type": "markdown",
   "id": "32f242b0",
   "metadata": {},
   "source": [
    "`digits_data`와 `digits_label`을 정의합니다.\n",
    " 각각 input feature와 label의 역할을 하게 될 것들입니다."
   ]
  },
  {
   "cell_type": "code",
   "execution_count": 4,
   "id": "e70ef311",
   "metadata": {
    "scrolled": false
   },
   "outputs": [
    {
     "name": "stdout",
     "output_type": "stream",
     "text": [
      "<class 'numpy.ndarray'>\n",
      "(1797, 64)\n",
      "[ 0.  0.  5. 13.  9.  1.  0.  0.  0.  0. 13. 15. 10. 15.  5.  0.  0.  3.\n",
      " 15.  2.  0. 11.  8.  0.  0.  4. 12.  0.  0.  8.  8.  0.  0.  5.  8.  0.\n",
      "  0.  9.  8.  0.  0.  4. 11.  0.  1. 12.  7.  0.  0.  2. 14.  5. 10. 12.\n",
      "  0.  0.  0.  0.  6. 13. 10.  0.  0.  0.]\n",
      "16.0\n"
     ]
    }
   ],
   "source": [
    "print(type(digits_data))\n",
    "print(digits_data.shape)\n",
    "print(digits_data[0])\n",
    "print(digits_data.max())"
   ]
  },
  {
   "cell_type": "markdown",
   "id": "e6b7b11d",
   "metadata": {},
   "source": [
    "`digits_data`의 타입과 shape, 첫번째 요소를 출력합니다.\n",
    " - line 1 : 타입은 `np.array`입니다.\n",
    " - line 2 : shape으로 보아 $1797\\times 64$ 모양의 행렬입니다.\n",
    " 즉, data(sample)의 개수는 1797개이고, feature는 64개입니다.\n",
    " feature의 개수가 64개인 것은, 각각의 sample들이 $8\\times8$의 픽셀을 가진 그림파일이기 때문입니다.\n",
    " - line 3, 4 : 첫번째 sample을  출력하니 16차원의 벡터가 나옵니다.\n",
    " 많이 쓰이는 MNIST dataset이 0부터 255까지의 정수를 가지는 것과 달리, 여기에서는 0부터 15까지의 숫자가 보입니다.\n",
    " 실제로 `digits_data` 행렬에서 entry의 최댓값을 구해보니 16이 나오는 걸로 봐서, 255까지의 정수가 아닌 16까지의 정수를 고려하는 것으로 보입니다.\n",
    "\n",
    "첫번째 sample을 그림으로 나타내면 다음과 같습니다."
   ]
  },
  {
   "cell_type": "code",
   "execution_count": 5,
   "id": "15958d68",
   "metadata": {
    "scrolled": true
   },
   "outputs": [
    {
     "data": {
      "image/png": "[encoded data removed]",
      "text/plain": [
       "<Figure size 432x288 with 1 Axes>"
      ]
     },
     "metadata": {
      "needs_background": "light"
     },
     "output_type": "display_data"
    }
   ],
   "source": [
    "plt.imshow(digits.data[0].reshape(8, 8), cmap='gray')\n",
    "plt.axis('off')\n",
    "plt.show()"
   ]
  },
  {
   "cell_type": "code",
   "execution_count": 6,
   "id": "1ef756e1",
   "metadata": {
    "scrolled": true
   },
   "outputs": [
    {
     "name": "stdout",
     "output_type": "stream",
     "text": [
      "<class 'numpy.ndarray'>\n",
      "(1797,)\n",
      "0\n"
     ]
    }
   ],
   "source": [
    "print(type(digits_label))\n",
    "print(digits_label.shape)\n",
    "print(digits_label[0])"
   ]
  },
  {
   "cell_type": "markdown",
   "id": "1363304f",
   "metadata": {},
   "source": [
    "`digits_label`의 타입과 shape, 첫번째 요소를 출력합니다.\n",
    " - line 1 : 타입은 `np.array`입니다.\n",
    " - line 2 : shape으로 보아 1797 차원의 벡터라고 생각할 수 있습니다.\n",
    " 각각의 sample들의 label은 $\\{0,1,2,3,4,5,6,7,8,9\\}$의 원소입니다."
   ]
  },
  {
   "cell_type": "code",
   "execution_count": 7,
   "id": "4c7b48fb",
   "metadata": {
    "scrolled": true
   },
   "outputs": [
    {
     "name": "stdout",
     "output_type": "stream",
     "text": [
      "[0 1 2 3 4 5 6 7 8 9]\n",
      "['pixel_0_0', 'pixel_0_1', 'pixel_0_2', 'pixel_0_3', 'pixel_0_4', 'pixel_0_5', 'pixel_0_6', 'pixel_0_7', 'pixel_1_0', 'pixel_1_1', 'pixel_1_2', 'pixel_1_3', 'pixel_1_4', 'pixel_1_5', 'pixel_1_6', 'pixel_1_7', 'pixel_2_0', 'pixel_2_1', 'pixel_2_2', 'pixel_2_3', 'pixel_2_4', 'pixel_2_5', 'pixel_2_6', 'pixel_2_7', 'pixel_3_0', 'pixel_3_1', 'pixel_3_2', 'pixel_3_3', 'pixel_3_4', 'pixel_3_5', 'pixel_3_6', 'pixel_3_7', 'pixel_4_0', 'pixel_4_1', 'pixel_4_2', 'pixel_4_3', 'pixel_4_4', 'pixel_4_5', 'pixel_4_6', 'pixel_4_7', 'pixel_5_0', 'pixel_5_1', 'pixel_5_2', 'pixel_5_3', 'pixel_5_4', 'pixel_5_5', 'pixel_5_6', 'pixel_5_7', 'pixel_6_0', 'pixel_6_1', 'pixel_6_2', 'pixel_6_3', 'pixel_6_4', 'pixel_6_5', 'pixel_6_6', 'pixel_6_7', 'pixel_7_0', 'pixel_7_1', 'pixel_7_2', 'pixel_7_3', 'pixel_7_4', 'pixel_7_5', 'pixel_7_6', 'pixel_7_7']\n",
      ".. _digits_dataset:\n",
      "\n",
      "Optical recognition of handwritten digits dataset\n",
      "--------------------------------------------------\n",
      "\n",
      "**Data Set Characteristics:**\n",
      "\n",
      "    :Number of Instances: 1797\n",
      "    :Number of Attributes: 64\n",
      "    :Attribute Information: 8x8 image of integer pixels in the range 0..16.\n",
      "    :Missing Attribute Values: None\n",
      "    :Creator: E. Alpaydin (alpaydin '@' boun.edu.tr)\n",
      "    :Date: July; 1998\n",
      "\n",
      "This is a copy of the test set of the UCI ML hand-written digits datasets\n",
      "https://archive.ics.uci.edu/ml/datasets/Optical+Recognition+of+Handwritten+Digits\n",
      "\n",
      "The data set contains images of hand-written digits: 10 classes where\n",
      "each class refers to a digit.\n",
      "\n",
      "Preprocessing programs made available by NIST were used to extract\n",
      "normalized bitmaps of handwritten digits from a preprinted form. From a\n",
      "total of 43 people, 30 contributed to the training set and different 13\n",
      "to the test set. 32x32 bitmaps are divided into nonoverlapping blocks of\n",
      "4x4 and the number of on pixels are counted in each block. This generates\n",
      "an input matrix of 8x8 where each element is an integer in the range\n",
      "0..16. This reduces dimensionality and gives invariance to small\n",
      "distortions.\n",
      "\n",
      "For info on NIST preprocessing routines, see M. D. Garris, J. L. Blue, G.\n",
      "T. Candela, D. L. Dimmick, J. Geist, P. J. Grother, S. A. Janet, and C.\n",
      "L. Wilson, NIST Form-Based Handprint Recognition System, NISTIR 5469,\n",
      "1994.\n",
      "\n",
      ".. topic:: References\n",
      "\n",
      "  - C. Kaynak (1995) Methods of Combining Multiple Classifiers and Their\n",
      "    Applications to Handwritten Digit Recognition, MSc Thesis, Institute of\n",
      "    Graduate Studies in Science and Engineering, Bogazici University.\n",
      "  - E. Alpaydin, C. Kaynak (1998) Cascading Classifiers, Kybernetika.\n",
      "  - Ken Tang and Ponnuthurai N. Suganthan and Xi Yao and A. Kai Qin.\n",
      "    Linear dimensionalityreduction using relevance weighted LDA. School of\n",
      "    Electrical and Electronic Engineering Nanyang Technological University.\n",
      "    2005.\n",
      "  - Claudio Gentile. A New Approximate Maximal Margin Classification\n",
      "    Algorithm. NIPS. 2000.\n",
      "\n"
     ]
    }
   ],
   "source": [
    "print(digits.target_names)\n",
    "print(digits.feature_names)\n",
    "# print(digits.filename)\n",
    "print(digits.DESCR)"
   ]
  },
  {
   "cell_type": "markdown",
   "id": "2c4ec247",
   "metadata": {},
   "source": [
    " - line 1 : label들의 이름을 출력합니다.\n",
    " 방금 언급했듯 label은 $\\{0,1,2,3,4,5,6,7,8,9\\}$의 원소입니다.\n",
    " - line 2 : feature들의 이름을 출력합니다.\n",
    " 위에 언급했듯, feature들은 $8\\times8$의 그림파일의 각 픽셀값을 나타냅니다. 그걸 반영하듯 feature의 이름들이 `'pixel_2_3'`와 같이 되어 있습니다.\n",
    " 좌표 (2,3)의 픽셀값이라는 뜻입니다.\n",
    " 픽셀값이 0이면 해당 픽셀이 검은색을 나타내고 픽셀값이 높아질수록 흰색에 가까운 색을 나타냅니다.\n",
    " - line 3 : 2번 셀에서 말했듯 `filename`은 불러올 수 없습니다.\n",
    " - line 4 : `digits` dataset에 대한 상세한 정보를 출력합니다."
   ]
  },
  {
   "cell_type": "markdown",
   "id": "f9029b11",
   "metadata": {},
   "source": [
    "### 1.2.4 train, test 데이터 분리"
   ]
  },
  {
   "cell_type": "code",
   "execution_count": 8,
   "id": "6ad36d6a",
   "metadata": {},
   "outputs": [],
   "source": [
    "X_train, X_test, y_train, y_test = train_test_split(digits_data, digits_label, test_size=0.2, random_state=1)"
   ]
  },
  {
   "cell_type": "markdown",
   "id": "dd546938",
   "metadata": {},
   "source": [
    " - 우리는 데이터 `digits`에서 각각 `digits_data`, `digits_label`를 얻었었습니다.\n",
    " 이것들을 각각 8:2의 비율로 잘라, training set과 test set으로 나눕니다.\n",
    " 즉\n",
    "    - `digits_data` → `X_train`, `X_test`\n",
    "    - `digits_label` → `y_train`, `y_test`\n",
    " \n",
    " 와 같이 나눕니다."
   ]
  },
  {
   "cell_type": "code",
   "execution_count": 9,
   "id": "48843f50",
   "metadata": {},
   "outputs": [
    {
     "name": "stdout",
     "output_type": "stream",
     "text": [
      "<class 'numpy.ndarray'>\n",
      "(1437, 64)\n",
      "[ 0.  0.  0.  2. 15.  8.  0.  0.  0.  0.  1. 15. 13.  3.  0.  0.  0.  0.\n",
      "  9. 13.  1.  0.  0.  0.  0.  1. 15.  6.  0.  5. 11.  0.  0.  7. 14.  0.\n",
      "  1. 15.  8.  0.  0.  8. 15.  9. 15. 16.  3.  0.  0.  1. 11. 16. 16. 10.\n",
      "  0.  0.  0.  0.  0.  2. 15.  5.  0.  0.]\n",
      "<class 'numpy.ndarray'>\n",
      "(360, 64)\n",
      "[ 0.  0.  6. 16. 11.  0.  0.  0.  0.  0.  9. 16. 16.  5.  0.  0.  0.  0.\n",
      "  8. 16. 16.  4.  0.  0.  0.  0. 10. 16. 13.  0.  0.  0.  0.  0. 13. 16.\n",
      " 12.  0.  0.  0.  0.  0. 10. 16.  9.  0.  0.  0.  0.  0.  9. 16. 10.  0.\n",
      "  0.  0.  0.  0.  4. 15. 16.  3.  0.  0.]\n",
      "<class 'numpy.ndarray'>\n",
      "(1437,)\n",
      "4\n",
      "<class 'numpy.ndarray'>\n",
      "(360,)\n",
      "1\n"
     ]
    }
   ],
   "source": [
    "print(type(X_train))\n",
    "print(X_train.shape)\n",
    "print(X_train[0])\n",
    "\n",
    "print(type(X_test))\n",
    "print(X_test.shape)\n",
    "print(X_test[0])\n",
    "\n",
    "print(type(y_train))\n",
    "print(y_train.shape)\n",
    "print(y_train[0])\n",
    "\n",
    "print(type(y_test))\n",
    "print(y_test.shape)\n",
    "print(y_test[0])"
   ]
  },
  {
   "cell_type": "markdown",
   "id": "696ecdad",
   "metadata": {},
   "source": [
    "네 개의 서로다른 `np.array`들에 대하여 타입과 shape, 첫번째 요소를 출력해봅니다.\n",
    " - line 1 ~ 3 : `X_train`은 $1437\\times 64$ 형태의 행렬입니다.\n",
    " 열의 개수, 즉 feature의 개수는 당연히 64로 일정하고 행의 개수는 1797에서 1437개로 약 80%가 되었습니다.\n",
    " 정확히 계산해보면 $1797\\times 0.8=1437.6$이므로 1797에 0.8을 곱한 후 `floor()`같은 것을 씌워 정수부분만 출력한 듯합니다.\n",
    " [공식문서](https://scikit-learn.org/stable/modules/generated/sklearn.model_selection.train_test_split.html)에는 정확히 나와있지 않습니다.\n",
    " - line 5 ~ 7 : `X_test`은 $360\\times 64$ 형태의 행렬입니다.\n",
    " - line 9 ~ 11 : `y_train`은 1437차원의 벡터입니다.\n",
    " - line 13 ~ 15 : `y_test`은 360차원의 벡터입니다."
   ]
  },
  {
   "cell_type": "markdown",
   "id": "09ecbd3f",
   "metadata": {},
   "source": [
    "#### 표준화(standardization)"
   ]
  },
  {
   "cell_type": "code",
   "execution_count": 10,
   "id": "adbdffec",
   "metadata": {},
   "outputs": [
    {
     "name": "stdout",
     "output_type": "stream",
     "text": [
      "[0.00000000e+00 3.04105776e-01 5.23312457e+00 1.18559499e+01\n",
      " 1.18469033e+01 5.78705637e+00 1.41057759e+00 1.28740431e-01\n",
      " 3.47947112e-03 1.97494781e+00 1.04272791e+01 1.20508003e+01\n",
      " 1.03145442e+01 8.15100905e+00 1.87265136e+00 1.07863605e-01\n",
      " 2.78357690e-03 2.57967989e+00 9.95685456e+00 7.08907446e+00\n",
      " 7.16144746e+00 7.85316632e+00 1.79610299e+00 5.01043841e-02\n",
      " 1.39178845e-03 2.48712596e+00 9.05288796e+00 8.90953375e+00\n",
      " 1.00981211e+01 7.50034795e+00 2.27696590e+00 1.39178845e-03\n",
      " 0.00000000e+00 2.30688935e+00 7.68823939e+00 9.25400139e+00\n",
      " 1.03799582e+01 8.64509395e+00 2.86430063e+00 0.00000000e+00\n",
      " 9.04662491e-03 1.51078636e+00 6.86778010e+00 7.33472512e+00\n",
      " 7.66597077e+00 8.10160056e+00 3.46068198e+00 2.71398747e-02\n",
      " 9.04662491e-03 6.96590118e-01 7.42171190e+00 9.62073765e+00\n",
      " 9.39665971e+00 8.64300626e+00 3.73764788e+00 2.01113431e-01\n",
      " 6.95894224e-04 2.86012526e-01 5.55671538e+00 1.21183020e+01\n",
      " 1.17153793e+01 6.69102296e+00 2.05567154e+00 3.47251218e-01]\n",
      "[1.         0.90544851 4.75663133 4.2304182  4.26230412 5.70150814\n",
      " 3.38687951 0.9944813  0.06970762 3.14430239 5.42114026 3.93185619\n",
      " 4.76765853 6.02004487 3.57888488 0.82001797 0.06455708 3.52820691\n",
      " 5.67400922 5.79723487 6.14375141 6.20020978 3.28502837 0.42240034\n",
      " 0.03728071 3.18759467 6.20985257 5.83693036 6.08219992 5.88779625\n",
      " 3.65412871 0.03728071 1.         3.43076078 6.3013144  6.25420051\n",
      " 5.89519595 5.9114904  3.51916303 1.         0.15580262 2.86425464\n",
      " 6.52498427 6.43732144 6.21498772 5.74542063 4.34627065 0.29838529\n",
      " 0.22827664 1.73420164 5.64136    5.23865391 5.29544019 6.0743401\n",
      " 4.94535858 0.96308995 0.02637063 0.93989474 5.09892587 4.33270875\n",
      " 4.9717777  5.90900697 4.06981063 1.79493636]\n"
     ]
    }
   ],
   "source": [
    "scaler = preprocessing.StandardScaler().fit(X_train)\n",
    "print(scaler.mean_)\n",
    "print(scaler.scale_)"
   ]
  },
  {
   "cell_type": "code",
   "execution_count": 11,
   "id": "f3c5c47b",
   "metadata": {},
   "outputs": [],
   "source": [
    "X_train_stan = scaler.transform(X_train)\n",
    "X_test_stan = scaler.transform(X_test)"
   ]
  },
  {
   "cell_type": "code",
   "execution_count": 12,
   "id": "27c0a610",
   "metadata": {},
   "outputs": [
    {
     "name": "stdout",
     "output_type": "stream",
     "text": [
      "<class 'numpy.ndarray'>\n",
      "(1437, 64)\n",
      "[ 0.         -0.33586203 -1.10017452 -2.32978146  0.73976343  0.38813303\n",
      " -0.41648296 -0.12945485 -0.04991522 -0.62810365 -1.73898453  0.75007823\n",
      "  0.56326513 -0.85564297 -0.52324996 -0.1315381  -0.04311807 -0.7311589\n",
      " -0.16863817  1.01961119 -1.00288033 -1.26659687 -0.54675418 -0.11861824\n",
      " -0.03733267 -0.46653546  0.95768973 -0.49846984 -1.66027444 -0.42466618\n",
      "  2.3871721  -0.03733267  0.          1.36795042  1.00165778 -1.47964578\n",
      " -1.59111899  1.07500911  1.4593525   0.         -0.05806465  2.26558545\n",
      "  1.24632023  0.25869065  1.1800553   1.37472954 -0.10599477 -0.09095581\n",
      " -0.03963009  0.17495652  0.63429529  1.2177293   1.2469861   0.22339772\n",
      " -0.75578905 -0.20882103 -0.02638899 -0.30430272 -1.08978156 -2.33532938\n",
      "  0.66065318 -0.28617718 -0.5051025  -0.19346158]\n",
      "<class 'numpy.ndarray'>\n",
      "(360, 64)\n",
      "[ 0.         -0.33586203  0.16122238  0.97958403 -0.19869612 -1.01500449\n",
      " -0.41648296 -0.12945485 -0.04991522 -0.62810365 -0.26328023  1.00441103\n",
      "  1.19250483 -0.52341953 -0.52324996 -0.1315381  -0.04311807 -0.7311589\n",
      " -0.3448804   1.53709928  1.4386247  -0.62145741 -0.54675418 -0.11861824\n",
      " -0.03733267 -0.78025164  0.15251764  1.21475944  0.47711008 -1.27388035\n",
      " -0.62312143 -0.03733267  0.         -0.67241335  0.84296073  1.07863485\n",
      "  0.27480711 -1.46242206 -0.8139153   0.         -0.05806465 -0.52746231\n",
      "  0.48003486  1.34609945  0.21464712 -1.41009703 -0.79624171 -0.09095581\n",
      " -0.03963009 -0.4016777   0.27977085  1.2177293   0.11393581 -1.42287164\n",
      " -0.75578905 -0.20882103 -0.02638899 -0.30430272 -0.30530261  0.66510309\n",
      "  0.86178848 -0.62464353 -0.5051025  -0.19346158]\n"
     ]
    }
   ],
   "source": [
    "print(type(X_train_stan))\n",
    "print(X_train_stan.shape)\n",
    "print(X_train_stan[0])\n",
    "\n",
    "print(type(X_test_stan))\n",
    "print(X_test_stan.shape)\n",
    "print(X_test_stan[0])"
   ]
  },
  {
   "cell_type": "markdown",
   "id": "edf0f35b",
   "metadata": {},
   "source": [
    "#### 정규화(normalization)"
   ]
  },
  {
   "cell_type": "code",
   "execution_count": 13,
   "id": "e0dfb1ab",
   "metadata": {},
   "outputs": [
    {
     "data": {
      "text/plain": [
       "array([[0.    , 0.    , 0.    , ..., 0.3125, 0.    , 0.    ],\n",
       "       [0.    , 0.    , 0.    , ..., 0.    , 0.    , 0.    ],\n",
       "       [0.    , 0.    , 0.    , ..., 0.8125, 0.75  , 0.125 ],\n",
       "       ...,\n",
       "       [0.    , 0.    , 0.4375, ..., 0.8125, 0.125 , 0.    ],\n",
       "       [0.    , 0.    , 0.    , ..., 1.    , 0.0625, 0.    ],\n",
       "       [0.    , 0.    , 0.5   , ..., 0.    , 0.    , 0.    ]])"
      ]
     },
     "execution_count": 13,
     "metadata": {},
     "output_type": "execute_result"
    }
   ],
   "source": [
    "min_max_scaler = preprocessing.MinMaxScaler()\n",
    "X_train_norm = min_max_scaler.fit_transform(X_train)\n",
    "X_train_norm"
   ]
  },
  {
   "cell_type": "code",
   "execution_count": 14,
   "id": "54728a99",
   "metadata": {},
   "outputs": [
    {
     "data": {
      "text/plain": [
       "array([[0.    , 0.    , 0.    , ..., 0.3125, 0.    , 0.    ],\n",
       "       [0.    , 0.    , 0.    , ..., 0.    , 0.    , 0.    ],\n",
       "       [0.    , 0.    , 0.    , ..., 0.8125, 0.75  , 0.125 ],\n",
       "       ...,\n",
       "       [0.    , 0.    , 0.4375, ..., 0.8125, 0.125 , 0.    ],\n",
       "       [0.    , 0.    , 0.    , ..., 1.    , 0.0625, 0.    ],\n",
       "       [0.    , 0.    , 0.5   , ..., 0.    , 0.    , 0.    ]])"
      ]
     },
     "execution_count": 14,
     "metadata": {},
     "output_type": "execute_result"
    }
   ],
   "source": [
    "min_max_scaler = preprocessing.MinMaxScaler()\n",
    "X_train_norm = min_max_scaler.fit_transform(X_train)\n",
    "X_train_norm"
   ]
  },
  {
   "cell_type": "code",
   "execution_count": 15,
   "id": "e16489d4",
   "metadata": {},
   "outputs": [
    {
     "data": {
      "text/plain": [
       "array([[0.    , 0.    , 0.375 , ..., 0.1875, 0.    , 0.    ],\n",
       "       [0.    , 1.    , 0.8125, ..., 0.    , 0.    , 0.    ],\n",
       "       [0.    , 0.    , 0.25  , ..., 0.375 , 0.    , 0.    ],\n",
       "       ...,\n",
       "       [0.    , 0.    , 0.    , ..., 0.0625, 0.    , 0.    ],\n",
       "       [0.    , 0.375 , 0.9375, ..., 1.    , 1.    , 0.125 ],\n",
       "       [0.    , 0.    , 0.5   , ..., 0.    , 0.    , 0.    ]])"
      ]
     },
     "execution_count": 15,
     "metadata": {},
     "output_type": "execute_result"
    }
   ],
   "source": [
    "X_test_norm = min_max_scaler.transform(X_test)\n",
    "X_test_norm"
   ]
  },
  {
   "cell_type": "code",
   "execution_count": 16,
   "id": "463ea249",
   "metadata": {},
   "outputs": [],
   "source": [
    "from sklearn.metrics import plot_confusion_matrix"
   ]
  },
  {
   "cell_type": "code",
   "execution_count": 18,
   "id": "83b7b0fd",
   "metadata": {},
   "outputs": [],
   "source": [
    "classifiers = [DecisionTreeClassifier(random_state=1), \n",
    "               RandomForestClassifier(random_state=1),\n",
    "               svm.SVC(random_state=1), \n",
    "               SGDClassifier(random_state=1)]\n",
    "for cls in classifiers:\n",
    "    cls.fit(X_train, y_train)"
   ]
  },
  {
   "cell_type": "code",
   "execution_count": 21,
   "id": "8acf9980",
   "metadata": {},
   "outputs": [
    {
     "name": "stderr",
     "output_type": "stream",
     "text": [
      "/opt/conda/lib/python3.9/site-packages/sklearn/utils/deprecation.py:87: FutureWarning: Function plot_confusion_matrix is deprecated; Function `plot_confusion_matrix` is deprecated in 1.0 and will be removed in 1.2. Use one of the class methods: ConfusionMatrixDisplay.from_predictions or ConfusionMatrixDisplay.from_estimator.\n",
      "  warnings.warn(msg, category=FutureWarning)\n",
      "/opt/conda/lib/python3.9/site-packages/sklearn/utils/deprecation.py:87: FutureWarning: Function plot_confusion_matrix is deprecated; Function `plot_confusion_matrix` is deprecated in 1.0 and will be removed in 1.2. Use one of the class methods: ConfusionMatrixDisplay.from_predictions or ConfusionMatrixDisplay.from_estimator.\n",
      "  warnings.warn(msg, category=FutureWarning)\n",
      "/opt/conda/lib/python3.9/site-packages/sklearn/utils/deprecation.py:87: FutureWarning: Function plot_confusion_matrix is deprecated; Function `plot_confusion_matrix` is deprecated in 1.0 and will be removed in 1.2. Use one of the class methods: ConfusionMatrixDisplay.from_predictions or ConfusionMatrixDisplay.from_estimator.\n",
      "  warnings.warn(msg, category=FutureWarning)\n",
      "/opt/conda/lib/python3.9/site-packages/sklearn/utils/deprecation.py:87: FutureWarning: Function plot_confusion_matrix is deprecated; Function `plot_confusion_matrix` is deprecated in 1.0 and will be removed in 1.2. Use one of the class methods: ConfusionMatrixDisplay.from_predictions or ConfusionMatrixDisplay.from_estimator.\n",
      "  warnings.warn(msg, category=FutureWarning)\n"
     ]
    },
    {
     "data": {
      "image/png": "[encoded data removed]",
      "text/plain": [
       "<Figure size 1080x720 with 8 Axes>"
      ]
     },
     "metadata": {
      "needs_background": "light"
     },
     "output_type": "display_data"
    }
   ],
   "source": [
    "fig, axes = plt.subplots(nrows=2, ncols=2, figsize=(15,10))\n",
    "\n",
    "for cls, ax in zip(classifiers, axes.flatten()):\n",
    "    plot_confusion_matrix(cls, X_test, y_test, ax=ax,\n",
    "                         display_labels = digits.target_names)\n",
    "    ax.title.set_text(type(cls).__name__)\n",
    "plt.tight_layout()  \n",
    "plt.show()\n"
   ]
  },
  {
   "cell_type": "code",
   "execution_count": null,
   "id": "ba6390a1",
   "metadata": {},
   "outputs": [],
   "source": []
  },
  {
   "cell_type": "markdown",
   "id": "b3f97904",
   "metadata": {},
   "source": [
    "### 1.11.5. 다양한 모델로 학습시켜보기"
   ]
  },
  {
   "cell_type": "markdown",
   "id": "83f0eb15",
   "metadata": {},
   "source": [
    "여기에서는 다섯 개의 모델\n",
    " - decision tree classifier # _dt\n",
    " - random forest classifier # _rf\n",
    " - support vector machine # _svm\n",
    " - stochastic gradient descent classfier # sgd\n",
    " - logistic regression # _lr\n",
    " \n",
    "을 가지고 학습을 진행시키고, 그 결과로 여러 평가지표를 얻는 작업을 수행합니다.\n",
    "평가지표는 `y_pred_dt`와 같은 이름으로 출력됩니다.\n",
    "이때, 각각의 모델들에 따라 `y_pred`의 뒤에 접두어 `dt`를 붙였습니다.\n",
    "예를 들어, `dt`는 decision tree라는 뜻입니다.\n",
    " \n",
    "<!-- 이 과정을 앞으로 세 번 반복할 것이고, 또 어차피 결과적으로\n",
    " - `y_pred_dt`\n",
    " - `y_pred_rf`\n",
    " - `y_pred_svm`\n",
    " - `y_pred_sgd`\n",
    " - `y_pred_lr`\n",
    "\n",
    "의 다섯개만 잘 출력하면 되므로 이 과정을 하나의 함수 `get_y_pred`로 지정해놓았습니다. -->"
   ]
  },
  {
   "cell_type": "code",
   "execution_count": null,
   "id": "acbde27f",
   "metadata": {},
   "outputs": [],
   "source": [
    "# decision tree\n",
    "# _dt\n",
    "decision_tree = DecisionTreeClassifier(random_state=1)\n",
    "decision_tree.fit(X_train, y_train)\n",
    "y_pred_dt = decision_tree.predict(X_test)"
   ]
  },
  {
   "cell_type": "code",
   "execution_count": null,
   "id": "211e5cf3",
   "metadata": {},
   "outputs": [],
   "source": [
    "# random forest\n",
    "# _rf\n",
    "random_forest = RandomForestClassifier(random_state=1)\n",
    "random_forest.fit(X_train, y_train)\n",
    "y_pred_rf = random_forest.predict(X_test)"
   ]
  },
  {
   "cell_type": "code",
   "execution_count": null,
   "id": "c03f36ed",
   "metadata": {},
   "outputs": [],
   "source": [
    "# support vector machine\n",
    "# _svm\n",
    "svm_model = svm.SVC(random_state=1)\n",
    "svm_model.fit(X_train, y_train)\n",
    "y_pred_svm = svm_model.predict(X_test)"
   ]
  },
  {
   "cell_type": "code",
   "execution_count": null,
   "id": "5bbecc7e",
   "metadata": {},
   "outputs": [],
   "source": [
    "# stochastic gradient descent classifier\n",
    "# sgd\n",
    "sgd_model = SGDClassifier(random_state=1)\n",
    "sgd_model.fit(X_train, y_train)\n",
    "y_pred_sgd = sgd_model.predict(X_test)"
   ]
  },
  {
   "cell_type": "code",
   "execution_count": null,
   "id": "ca8ffe99",
   "metadata": {
    "scrolled": false
   },
   "outputs": [],
   "source": [
    "# logistic regerssion\n",
    "# _lr\n",
    "# logistic_model = LogisticRegression()\n",
    "# logistic_model.fit(X_train, y_train)\n",
    "# y_pred_lr = logistic_model.predict(X_test) # convergence warning\n",
    "\n",
    "logistic_model = LogisticRegression()\n",
    "logistic_model.fit(X_train_stan, y_train)\n",
    "y_pred_lr = logistic_model.predict(X_test_stan)\n",
    "\n",
    "# logistic_model = LogisticRegression() # convergence warning\n",
    "# logistic_model.fit(X_train_norm, y_train)\n",
    "# y_pred_lr = logistic_model.predict(X_test_norm)"
   ]
  },
  {
   "cell_type": "markdown",
   "id": "3f4a0a11",
   "metadata": {},
   "source": [
    " - `random_state` logistic regession을 제외한 각각의 모델들은 어느 정도의 임의성(randomness)을 수반합니다.\n",
    " 그 임의성은 각 알고리즘마다 작용되는 원리가 다 다릅니다.\n",
    " 예를 들어 `RandomForestClassifier`의 `random_state`에 관해서는 [다음과 같은 설명](https://scikit-learn.org/stable/modules/generated/sklearn.ensemble.RandomForestClassifier.html)을 찾을 수 있는 반면\n",
    " > Controls both the randomness of the bootstrapping of the samples used when building trees and the sampling of the features to consider when looking for the best split at each node\n",
    " \n",
    " `SGDClassifier`에 관해서는 [다른 설명](https://scikit-learn.org/stable/modules/generated/sklearn.linear_model.SGDClassifier.html)이 검색됩니다.\n",
    " > Used for shuffling the data, when shuffle is set to `True`.\n",
    " 정확히 말하면, `LogisticRegression` 모델도 `random_state`라는 인자를 갖기는 하지만, [사실상 사용되지 않는다고도 합니다.](https://github.com/scikit-learn/scikit-learn/issues/4760)\n",
    " \n",
    " - `LogisticRegression` 모델에 대해서는 기존과는 다른 데이터(`X_train_stan`, `X_test_stan`)를 넣었습니다.\n",
    " 이것들은 기존의 `X_train`과 `X_test`에 standardization을 적용한 결과입니다.\n",
    " 이렇게 넣은 이유는, 그냥 `X_train`과 `X_test`를 넣었을 때에 다음과 같은 경고 메시지가 뜨기 때문이었습니다.\n",
    " ```\n",
    " /opt/conda/lib/python3.9/site-packages/sklearn/linear_model/_logistic.py:814: ConvergenceWarning: lbfgs failed to converge (status=1):\n",
    "STOP: TOTAL NO. of ITERATIONS REACHED LIMIT.\n",
    "Increase the number of iterations (max_iter) or scale the data as shown in:\n",
    "    https://scikit-learn.org/stable/modules/preprocessing.html\n",
    "Please also refer to the documentation for alternative solver options:\n",
    "    https://scikit-learn.org/stable/modules/linear_model.html#logistic-regression\n",
    "  n_iter_i = _check_optimize_result(\n",
    " ```\n",
    " \n",
    " 한용님의 조언을 받아 (아니면 경원퍼실님일지도 모르겠습니다.) standardization을 수행하여 `X_train_stan`과 `X_test_stan`을 넣었고, 경고 메시지가 더이상 뜨지 않고 있습니다. minmax를 이용한 normalization도 해봤는데 이 경우에는 별다른 성과를 얻지 못했습니다. "
   ]
  },
  {
   "cell_type": "markdown",
   "id": "e1f6e1c9",
   "metadata": {},
   "source": [
    "### 1.11.6. 모델을 평가해보기"
   ]
  },
  {
   "cell_type": "code",
   "execution_count": null,
   "id": "a3a8dfcb",
   "metadata": {
    "scrolled": false
   },
   "outputs": [],
   "source": [
    "print(classification_report(y_test, y_pred_dt))\n",
    "print(classification_report(y_test, y_pred_rf))\n",
    "print(classification_report(y_test, y_pred_svm))\n",
    "print(classification_report(y_test, y_pred_sgd))\n",
    "print(classification_report(y_test, y_pred_lr))"
   ]
  },
  {
   "cell_type": "code",
   "execution_count": null,
   "id": "6148b070",
   "metadata": {},
   "outputs": [],
   "source": [
    "disp = ConfusionMatrixDisplay.from_predictions(y_test, y_pred_svm)\n",
    "disp.figure_.suptitle(\"Confusion Matrix : digits\")\n",
    "print(f\"Confusion matrix:\\n{disp.confusion_matrix}\")\n",
    "plt.show()"
   ]
  },
  {
   "cell_type": "markdown",
   "id": "8c8e0457",
   "metadata": {},
   "source": [
    "## 1.12. 프로젝트 (2) load_wine : 와인을 분류해 봅시다 "
   ]
  },
  {
   "cell_type": "markdown",
   "id": "b0dc8596",
   "metadata": {},
   "source": [
    "### 1.12.1 필요한 모듈 import 하기"
   ]
  },
  {
   "cell_type": "code",
   "execution_count": null,
   "id": "ff528181",
   "metadata": {},
   "outputs": [],
   "source": [
    "from sklearn.datasets import load_wine\n",
    "from sklearn.model_selection import train_test_split\n",
    "from sklearn.tree import DecisionTreeClassifier # _dt\n",
    "from sklearn.ensemble import RandomForestClassifier # _rf\n",
    "from sklearn import svm # _svm\n",
    "from sklearn.linear_model import SGDClassifier # _sgd\n",
    "from sklearn.linear_model import LogisticRegression # _lr\n",
    "from sklearn.metrics import classification_report"
   ]
  },
  {
   "cell_type": "markdown",
   "id": "5a4de07b",
   "metadata": {},
   "source": [
    "### 1.12.2 데이터 준비"
   ]
  },
  {
   "cell_type": "code",
   "execution_count": null,
   "id": "3179bd03",
   "metadata": {},
   "outputs": [],
   "source": [
    "wine = load_wine()"
   ]
  },
  {
   "cell_type": "code",
   "execution_count": null,
   "id": "b9eaab6f",
   "metadata": {},
   "outputs": [],
   "source": [
    "print(dir(wine))\n",
    "print(wine.keys())"
   ]
  },
  {
   "cell_type": "markdown",
   "id": "502fe9d4",
   "metadata": {},
   "source": [
    "### 1.12.3 데이터 이해하기"
   ]
  },
  {
   "cell_type": "code",
   "execution_count": null,
   "id": "52dc5629",
   "metadata": {},
   "outputs": [],
   "source": [
    "wine_data = wine.data\n",
    "wine_label = wine.target"
   ]
  },
  {
   "cell_type": "code",
   "execution_count": null,
   "id": "e8597359",
   "metadata": {
    "scrolled": true
   },
   "outputs": [],
   "source": [
    "print(type(wine_data))\n",
    "print(wine_data.shape)\n",
    "print(wine_data[0])"
   ]
  },
  {
   "cell_type": "code",
   "execution_count": null,
   "id": "fd4e5b39",
   "metadata": {},
   "outputs": [],
   "source": [
    "print(type(wine_label))\n",
    "print(wine_label.shape)\n",
    "print(wine_label[0])"
   ]
  },
  {
   "cell_type": "code",
   "execution_count": null,
   "id": "335b8d3f",
   "metadata": {
    "scrolled": true
   },
   "outputs": [],
   "source": [
    "print(wine.target_names)\n",
    "print(wine.DESCR)\n",
    "print(wine.feature_names)\n",
    "# print(wine.filename)"
   ]
  },
  {
   "cell_type": "markdown",
   "id": "73f6296a",
   "metadata": {},
   "source": [
    "### 1.12.4 train, test 데이터 분리"
   ]
  },
  {
   "cell_type": "code",
   "execution_count": null,
   "id": "a3a289e1",
   "metadata": {},
   "outputs": [],
   "source": [
    "X_train, X_test, y_train, y_test = train_test_split(wine_data, \n",
    "                                                    wine_label, \n",
    "                                                    test_size=0.2, \n",
    "                                                    random_state=1)"
   ]
  },
  {
   "cell_type": "code",
   "execution_count": null,
   "id": "a721c655",
   "metadata": {},
   "outputs": [],
   "source": [
    "print(type(X_train))\n",
    "print(X_train.shape)\n",
    "print(X_train[0])\n",
    "\n",
    "print(type(X_test))\n",
    "print(X_test.shape)\n",
    "print(X_test[0])\n",
    "\n",
    "print(type(y_train))\n",
    "print(y_train.shape)\n",
    "print(y_train[0])\n",
    "\n",
    "print(type(y_test))\n",
    "print(y_test.shape)\n",
    "print(y_test[0])"
   ]
  },
  {
   "cell_type": "markdown",
   "id": "820d43ec",
   "metadata": {},
   "source": [
    "### 1.12.5. 다양한 모델로 학습시켜보기"
   ]
  },
  {
   "cell_type": "code",
   "execution_count": null,
   "id": "7548ff28",
   "metadata": {},
   "outputs": [],
   "source": [
    "# decision tree\n",
    "# _dt\n",
    "decision_tree = DecisionTreeClassifier(random_state=1)\n",
    "decision_tree.fit(X_train, y_train)\n",
    "y_pred_dt = decision_tree.predict(X_test)"
   ]
  },
  {
   "cell_type": "code",
   "execution_count": null,
   "id": "30755036",
   "metadata": {},
   "outputs": [],
   "source": [
    "# random forest\n",
    "# _rf\n",
    "random_forest = RandomForestClassifier(random_state=1)\n",
    "random_forest.fit(X_train, y_train)\n",
    "y_pred_rf = random_forest.predict(X_test)"
   ]
  },
  {
   "cell_type": "code",
   "execution_count": null,
   "id": "6e40c551",
   "metadata": {},
   "outputs": [],
   "source": [
    "# support vector machine\n",
    "# _svm\n",
    "svm_model = svm.SVC(random_state=1)\n",
    "svm_model.fit(X_train, y_train)\n",
    "y_pred_svm = svm_model.predict(X_test)"
   ]
  },
  {
   "cell_type": "code",
   "execution_count": null,
   "id": "7334b771",
   "metadata": {},
   "outputs": [],
   "source": [
    "# stochastic gradient descent classifier\n",
    "# sgd\n",
    "sgd_model = SGDClassifier(random_state=1)\n",
    "sgd_model.fit(X_train, y_train)\n",
    "y_pred_sgd = sgd_model.predict(X_test)"
   ]
  },
  {
   "cell_type": "code",
   "execution_count": null,
   "id": "f634e5ff",
   "metadata": {
    "scrolled": true
   },
   "outputs": [],
   "source": [
    "# logistic regerssion\n",
    "# _lr\n",
    "logistic_model = LogisticRegression()\n",
    "logistic_model.fit(X_train, y_train)\n",
    "y_pred_lr = logistic_model.predict(X_test)"
   ]
  },
  {
   "cell_type": "markdown",
   "id": "c7955cb8",
   "metadata": {},
   "source": [
    "### 1.12.6. 모델을 평가해보기"
   ]
  },
  {
   "cell_type": "code",
   "execution_count": null,
   "id": "d1f9b856",
   "metadata": {},
   "outputs": [],
   "source": [
    "print(classification_report(y_test, y_pred_dt))\n",
    "print(classification_report(y_test, y_pred_rf))\n",
    "print(classification_report(y_test, y_pred_svm))\n",
    "print(classification_report(y_test, y_pred_sgd))\n",
    "print(classification_report(y_test, y_pred_lr))"
   ]
  },
  {
   "cell_type": "markdown",
   "id": "1d101845",
   "metadata": {},
   "source": [
    "## 1.13. 프로젝트 (3) load_breast_cancer : 유방암 여부를 진단해 봅시다"
   ]
  },
  {
   "cell_type": "markdown",
   "id": "cf50b14a",
   "metadata": {},
   "source": [
    "### 1.13.1 필요한 모듈 import 하기"
   ]
  },
  {
   "cell_type": "code",
   "execution_count": null,
   "id": "4cb7c1a7",
   "metadata": {},
   "outputs": [],
   "source": [
    "from sklearn.datasets import load_breast_cancer\n",
    "from sklearn.model_selection import train_test_split\n",
    "from sklearn.tree import DecisionTreeClassifier # _dt\n",
    "from sklearn.ensemble import RandomForestClassifier # _rf\n",
    "from sklearn import svm # _svm\n",
    "from sklearn.linear_model import SGDClassifier # _sgd\n",
    "from sklearn.linear_model import LogisticRegression # _lr\n",
    "from sklearn.metrics import classification_report"
   ]
  },
  {
   "cell_type": "markdown",
   "id": "0ac07da0",
   "metadata": {},
   "source": [
    "### 1.13.2 데이터 준비"
   ]
  },
  {
   "cell_type": "code",
   "execution_count": null,
   "id": "eab240bf",
   "metadata": {},
   "outputs": [],
   "source": [
    "breast_cancer = load_breast_cancer()"
   ]
  },
  {
   "cell_type": "code",
   "execution_count": null,
   "id": "ca9f8f89",
   "metadata": {},
   "outputs": [],
   "source": [
    "print(dir(breast_cancer))\n",
    "print(breast_cancer.keys())"
   ]
  },
  {
   "cell_type": "markdown",
   "id": "552cb188",
   "metadata": {},
   "source": [
    "### 1.13.3 데이터 이해하기"
   ]
  },
  {
   "cell_type": "code",
   "execution_count": null,
   "id": "1baf5f49",
   "metadata": {},
   "outputs": [],
   "source": [
    "breast_cancer_data = breast_cancer.data\n",
    "breast_cancer_label = breast_cancer.target"
   ]
  },
  {
   "cell_type": "code",
   "execution_count": null,
   "id": "c236731c",
   "metadata": {
    "scrolled": true
   },
   "outputs": [],
   "source": [
    "print(type(breast_cancer_data))\n",
    "print(breast_cancer_data.shape)\n",
    "print(breast_cancer_data[0])"
   ]
  },
  {
   "cell_type": "code",
   "execution_count": null,
   "id": "94c419a3",
   "metadata": {},
   "outputs": [],
   "source": [
    "print(type(breast_cancer_label))\n",
    "print(breast_cancer_label.shape)\n",
    "print(breast_cancer_label[0])"
   ]
  },
  {
   "cell_type": "code",
   "execution_count": null,
   "id": "11065d0d",
   "metadata": {},
   "outputs": [],
   "source": [
    "print(breast_cancer.target_names)\n",
    "print(breast_cancer.DESCR)\n",
    "print(breast_cancer.feature_names)\n",
    "# print(breast_cancer.filename)"
   ]
  },
  {
   "cell_type": "markdown",
   "id": "d471ec83",
   "metadata": {},
   "source": [
    "### 1.13.4 train, test 데이터 분리"
   ]
  },
  {
   "cell_type": "code",
   "execution_count": null,
   "id": "83f37efd",
   "metadata": {},
   "outputs": [],
   "source": [
    "X_train, X_test, y_train, y_test = train_test_split(breast_cancer_data, \n",
    "                                                    breast_cancer_label, \n",
    "                                                    test_size=0.2, \n",
    "                                                    random_state=1)"
   ]
  },
  {
   "cell_type": "code",
   "execution_count": null,
   "id": "0eadb842",
   "metadata": {},
   "outputs": [],
   "source": [
    "print(type(X_train))\n",
    "print(X_train.shape)\n",
    "print(X_train[0])\n",
    "\n",
    "print(type(X_test))\n",
    "print(X_test.shape)\n",
    "print(X_test[0])\n",
    "\n",
    "print(type(y_train))\n",
    "print(y_train.shape)\n",
    "print(y_train[0])\n",
    "\n",
    "print(type(y_test))\n",
    "print(y_test.shape)\n",
    "print(y_test[0])"
   ]
  },
  {
   "cell_type": "markdown",
   "id": "04f2db75",
   "metadata": {},
   "source": [
    "### 1.13.5. 다양한 모델로 학습시켜보기"
   ]
  },
  {
   "cell_type": "code",
   "execution_count": null,
   "id": "ce2fdd31",
   "metadata": {},
   "outputs": [],
   "source": [
    "# decision tree\n",
    "# _dt\n",
    "decision_tree = DecisionTreeClassifier(random_state=1)\n",
    "decision_tree.fit(X_train, y_train)\n",
    "y_pred_dt = decision_tree.predict(X_test)"
   ]
  },
  {
   "cell_type": "code",
   "execution_count": null,
   "id": "ba5e962e",
   "metadata": {},
   "outputs": [],
   "source": [
    "# random forest\n",
    "# _rf\n",
    "random_forest = RandomForestClassifier(random_state=1)\n",
    "random_forest.fit(X_train, y_train)\n",
    "y_pred_rf = random_forest.predict(X_test)"
   ]
  },
  {
   "cell_type": "code",
   "execution_count": null,
   "id": "51ffd4dd",
   "metadata": {},
   "outputs": [],
   "source": [
    "# support vector machine\n",
    "# _svm\n",
    "svm_model = svm.SVC(random_state=1)\n",
    "svm_model.fit(X_train, y_train)\n",
    "y_pred_svm = svm_model.predict(X_test)"
   ]
  },
  {
   "cell_type": "code",
   "execution_count": null,
   "id": "83e1f3e9",
   "metadata": {},
   "outputs": [],
   "source": [
    "# stochastic gradient descent classifier\n",
    "# sgd\n",
    "sgd_model = SGDClassifier(random_state=1)\n",
    "sgd_model.fit(X_train, y_train)\n",
    "y_pred_sgd = sgd_model.predict(X_test)"
   ]
  },
  {
   "cell_type": "code",
   "execution_count": null,
   "id": "a1d2647d",
   "metadata": {
    "scrolled": true
   },
   "outputs": [],
   "source": [
    "# logistic regerssion\n",
    "# _lr\n",
    "logistic_model = LogisticRegression()\n",
    "logistic_model.fit(X_train, y_train)\n",
    "y_pred_lr = logistic_model.predict(X_test)"
   ]
  },
  {
   "cell_type": "markdown",
   "id": "9e5ba252",
   "metadata": {},
   "source": [
    "### 1.13.6. 모델을 평가해보기"
   ]
  },
  {
   "cell_type": "code",
   "execution_count": null,
   "id": "2bbc91ee",
   "metadata": {},
   "outputs": [],
   "source": [
    "print(classification_report(y_test, y_pred_dt))\n",
    "print(classification_report(y_test, y_pred_rf))\n",
    "print(classification_report(y_test, y_pred_svm))\n",
    "print(classification_report(y_test, y_pred_sgd))\n",
    "print(classification_report(y_test, y_pred_lr))"
   ]
  }
 ],
 "metadata": {
  "kernelspec": {
   "display_name": "Python 3 (ipykernel)",
   "language": "python",
   "name": "python3"
  },
  "language_info": {
   "codemirror_mode": {
    "name": "ipython",
    "version": 3
   },
   "file_extension": ".py",
   "mimetype": "text/x-python",
   "name": "python",
   "nbconvert_exporter": "python",
   "pygments_lexer": "ipython3",
   "version": "3.9.7"
  }
 },
 "nbformat": 4,
 "nbformat_minor": 5
}
