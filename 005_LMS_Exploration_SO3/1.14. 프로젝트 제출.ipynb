{
 "cells": [
  {
   "cell_type": "markdown",
   "id": "bb706421",
   "metadata": {},
   "source": [
    "# 프로젝트 제출\n",
    "\n",
    "이 파일은, aiffel 2022년도 3기의 노드 중 하나인\n",
    " - EXPLORATION_SO3 : 1. Iris의 세 가지 품종, 분류해볼 수 있겠어요?\n",
    " \n",
    "와 관련한 프로젝트입니다.\n",
    "(저는 aiffel 교육생 김선중 입니다.)\n",
    "\n",
    "## 목차\n",
    "1. `digits` dataset\n",
    "\n",
    "2. `wine` dataset\n",
    "\n",
    "3. `breast_cancer` dataset"
   ]
  },
  {
   "cell_type": "markdown",
   "id": "adf22b26",
   "metadata": {},
   "source": [
    "|평가문항|상세기준|\n",
    "|:-|:-|\n",
    "|데이터셋의 구성을 파악하고, 데이터를 이해하는 과정이 포함되어있는가?|feature와 label 선정을 위한 데이터 분석과정을 전개함|\n",
    "|데이터셋에 대해 각각 5가지 모델을 이용하여 학습을 수행하고 결과값을 얻었는가?|모델학습 및 테스트가 정상적으로 수행되고, 결과값을 얻었음|\n",
    "|데이터셋에 대해 모델의 평가 지표를 선택하고, 그 이유를 근거를 바탕으로 서술하였는가?|모델학습을 통해 얻은 결과물을 바탕으로 평가지표를 선택하고, 본인의 의견을 서술하였음|\n",
    "\n",
    "1. 데이터셋의 구성을 파악하고, 데이터를 이해하기\n",
    " - 노드에 진행된 것과 비슷하게 진행했습니다.\n",
    "2. 데이터셋에 대해 각각 5가지 모델을 이용하여 학습을 수행하고 결과값을 얻기\n",
    " - 노드에 진행된 것과 비슷하게 진행했습니다.\n",
    "3. 데이터셋에 대해 모델의 평가 지표를 선택하기\n",
    " - 평가지표(evaluation metric)에 관해서는 LMS에는 이진분류에 관한 평가지표만 소개되어 있고 다중분류에 대한 평가지표가 소개되어 있지 않았으므로 따로 [공부](https://github.com/govin08/aiffel/blob/master/004_articles_and_materials/0906_evaluation_metrics.ipynb)해 보았습니다.\n",
    " 여기에서 공부한 evaluation metric들은 다음과 같습니다.\n",
    "    - 이진분류 문제 : accuracy / precision / recall / F1-score\n",
    "    - 다중분류 문제 : macro-precision / macro-recall / macro-F1-score / weighted-accuracy / weighted-precision / macro-recall / macro-F1-score\n",
    "    - 다중분류 문제 : Cohen's kappa\n",
    " - `breast_cancer` 데이터셋은 이진분류문제입니다.\n",
    " 이 문제의 경우 FN(false negative)가 발생하면 치명적입니다.\n",
    " 다시 말해, 실제로 암에 걸렸는데, 암이라고 진단하지 못한 경우가 발생하는 것은 어떻게 해서든 막아야 합니다.\n",
    " 따라서, recall을 사용하는 것이 맞다고 보았습니다.\n",
    " - `digits` 데이터셋의 경우 다중분류문제입니다.\n",
    " 이 데이터셋에 대한 모델이 \"은행 창구의 비밀번호 입력\"과 같은 절차에 사용된다고 할 때, FP의 경우가 발생하는 것이 치명적입니다.\n",
    " 다시 말해, 비밀번호가 실제로 3인데, 다른 숫자나 다른 모양이 입력되었는데도 불구하고(actual negative), 우리 모델이 그것을 3으로 인식하는(predicted positive) 경우에는 심각한 보안상의 문제가 발생할 수 있습니다.\n",
    " 따라서 FP를 막기 위해 precision을 사용해야 한다고 보았습니다.\n",
    " 다만, 여기서의 precision의 의미는, 다중분류에서의 precision이므로, macro-precision이나 weighted precision을 고려해야 한다고 봤습니다.\n",
    " 한편, 다중분류이니만큼, 전체적인 상황을 아울러서 평가할 수 있는 Cohen's kappa를 사용하는 것도 괜찮은 대안이라고 보았습니다.\n",
    " - `wine` 데이터셋의 경우 다중 분류문제입니다.\n",
    " 여기에서는 특별히 FP나 FN이 대단한 피해를 주거나 하는 것이 없습니다.\n",
    " 따라서 이 경우에는 FP와 FN을 골고루 고려하는, 즉, recall과 precision을 골고루 고려하는 F1-score를 사용하는 것이 맞다고 보았습니다.\n",
    " 이번에도, 여기서의 F1-score의 의미는 macro-precision이나 weighted precision입니다.\n",
    " 마찬가지로, 다중분류이니만큼, 전체적인 상황을 아울러서 평가할 수 있는 Cohen's kappa를 사용하는 것도 괜찮은 대안이라고 보았습니다.\n",
    " - 이 평가지표들은 `sklearn`에서 기본적으로 제공하는 명령어들이니 만큼, 간단하게 호출했습니다."
   ]
  },
  {
   "cell_type": "markdown",
   "id": "e648ed44",
   "metadata": {},
   "source": [
    "## 1. `digits` dataset"
   ]
  },
  {
   "cell_type": "markdown",
   "id": "7887a70b",
   "metadata": {},
   "source": [
    "## 1.1. 필요한 모듈 import 하기"
   ]
  },
  {
   "cell_type": "code",
   "execution_count": 25,
   "id": "0a9d9c60",
   "metadata": {},
   "outputs": [],
   "source": [
    "import numpy as np\n",
    "import matplotlib.pyplot as plt\n",
    "\n",
    "from sklearn.datasets import load_digits\n",
    "from sklearn.model_selection import train_test_split\n",
    "from sklearn import preprocessing\n",
    "\n",
    "from sklearn.tree import DecisionTreeClassifier # _dt\n",
    "from sklearn.ensemble import RandomForestClassifier # _rf\n",
    "from sklearn import svm # _svm`\n",
    "from sklearn.linear_model import SGDClassifier, LogisticRegression # _sgd,  _lr\n",
    "\n",
    "from sklearn.metrics import confusion_matrix, ConfusionMatrixDisplay, classification_report, cohen_kappa_score"
   ]
  },
  {
   "cell_type": "markdown",
   "id": "3f1797c7",
   "metadata": {},
   "source": [
    "모듈들을 import합니다.\n",
    " - line 1-2 : 기본 모듈들인 `numpy`와 `matplotlib`을 불러옵니다.`matplotlib`은 confusion matrix를 예쁘게 그리는 데 사용됩니다.\n",
    " - line 4-6 : `digits` dataset을 불러오기 위해 `load_digits` 모듈을 불러옵니다.\n",
    " training set과 testset을 분리하기 위해 `train_test_split` 모듈을 불러옵니다.\n",
    " 전처리과정을 위해 `preprocessing` 모듈을 불러옵니다.\n",
    " - line 8 ~ 11 : 다섯 개의 서로 다른 모델 (decision tree classifier, random forest classifier, support vector machine, stochastic gradient descent classifier, logistic regression)을 사용하기 위해 해당 모듈들을 불러옵니다.\n",
    " - line 13 : confusion matrix를 불러오거나 그리는 데 필요한 모듈들을 불러옵니다.\n",
    " 또한, 모델의 평가지표를 나타내기 위한 `classification_report`, `cohen_kappa_score` 모듈들을 import합니다."
   ]
  },
  {
   "cell_type": "markdown",
   "id": "95255363",
   "metadata": {},
   "source": [
    "## 1.2. 데이터 준비"
   ]
  },
  {
   "cell_type": "code",
   "execution_count": 2,
   "id": "0be404c9",
   "metadata": {
    "scrolled": false
   },
   "outputs": [
    {
     "name": "stdout",
     "output_type": "stream",
     "text": [
      "<class 'sklearn.utils.Bunch'>\n",
      "['DESCR', 'data', 'feature_names', 'frame', 'images', 'target', 'target_names']\n",
      "dict_keys(['data', 'target', 'frame', 'feature_names', 'target_names', 'images', 'DESCR'])\n"
     ]
    }
   ],
   "source": [
    "digits = load_digits()\n",
    "print(type(digits))\n",
    "# print(digits)\n",
    "print(dir(digits))\n",
    "print(digits.keys())"
   ]
  },
  {
   "cell_type": "markdown",
   "id": "37eef163",
   "metadata": {},
   "source": [
    " - line 1 : `load_digits()`으로 데이터를 불러와 `digits`에 할당합니다.\n",
    " - line 2, 3 : `digits`는 `sklearn.utils.Bunch`라는 타입을 가지고 있는데, [이것](https://scikit-learn.org/stable/modules/generated/sklearn.utils.Bunch.html)은 `sklearn`에서 딕셔너리와 같은 역할을 하는 클래스인 것 같습니다.\n",
    " - line 4 : 파이썬의 내장함수 [`dir()`](https://docs.python.org/ko/3/library/functions.html#dir)을 사용합니다.\n",
    " - line 5 : `digits`의 키값을 `keys()` 메소드를 통해 호출합니다.\n",
    " `digits`의 key들이 나열되는데, 이 중 `data`, `target`, `target_names`, `DESCR`, `feature_names`를 살펴볼 예정입니다.\n",
    " 노드에서의 `iris` dataset에 비교하면, `filename`이 없습니다."
   ]
  },
  {
   "cell_type": "markdown",
   "id": "b2840096",
   "metadata": {},
   "source": [
    "## 1.3. 데이터 이해하기"
   ]
  },
  {
   "cell_type": "code",
   "execution_count": 3,
   "id": "d49bcbad",
   "metadata": {},
   "outputs": [],
   "source": [
    "digits_data = digits.data\n",
    "digits_label = digits.target"
   ]
  },
  {
   "cell_type": "markdown",
   "id": "6a3002f6",
   "metadata": {},
   "source": [
    "`digits_data`와 `digits_label`을 정의합니다.\n",
    " 각각 input feature와 label의 역할을 하게 될 것들입니다."
   ]
  },
  {
   "cell_type": "code",
   "execution_count": 4,
   "id": "92a1cba3",
   "metadata": {
    "scrolled": false
   },
   "outputs": [
    {
     "name": "stdout",
     "output_type": "stream",
     "text": [
      "<class 'numpy.ndarray'>\n",
      "(1797, 64)\n",
      "[ 0.  0.  5. 13.  9.  1.  0.  0.  0.  0. 13. 15. 10. 15.  5.  0.  0.  3.\n",
      " 15.  2.  0. 11.  8.  0.  0.  4. 12.  0.  0.  8.  8.  0.  0.  5.  8.  0.\n",
      "  0.  9.  8.  0.  0.  4. 11.  0.  1. 12.  7.  0.  0.  2. 14.  5. 10. 12.\n",
      "  0.  0.  0.  0.  6. 13. 10.  0.  0.  0.]\n",
      "16.0\n"
     ]
    }
   ],
   "source": [
    "print(type(digits_data))\n",
    "print(digits_data.shape)\n",
    "print(digits_data[0])\n",
    "print(digits_data.max())"
   ]
  },
  {
   "cell_type": "markdown",
   "id": "c157e1e1",
   "metadata": {},
   "source": [
    "`digits_data`의 타입과 shape, 첫번째 요소를 출력합니다.\n",
    " - line 1 : 타입은 `np.array`입니다.\n",
    " - line 2 : shape으로 보아 $1797\\times 64$ 모양의 행렬입니다.\n",
    " 즉, data(sample)의 개수는 1797개이고, feature의 개수는 64개입니다.\n",
    " feature의 개수가 64개인 것은, 각각의 sample들이 $8\\times8$의 픽셀을 가진 그림파일이기 때문입니다.\n",
    " - line 3, 4 : 첫번째 sample을  출력하니 16차원의 벡터가 나옵니다.\n",
    " 많이 쓰이는 MNIST dataset이 0부터 255까지의 정수를 가지는 것과 달리, 여기에서는 0부터 15까지의 숫자가 보입니다.\n",
    " 실제로 `digits_data` 행렬에서 entry의 최댓값을 구해보니 16이 나오는 걸로 봐서, 0부터 255까지의 정수가 아닌 0부터 16까지의 정수를 고려하는 것으로 보입니다.\n",
    "\n",
    "첫번째 sample을 그림으로 나타내면 다음과 같습니다."
   ]
  },
  {
   "cell_type": "code",
   "execution_count": 5,
   "id": "f7c80b37",
   "metadata": {
    "scrolled": true
   },
   "outputs": [
    {
     "data": {
      "text/plain": [
       "<matplotlib.image.AxesImage at 0x7fbc445b6fa0>"
      ]
     },
     "execution_count": 5,
     "metadata": {},
     "output_type": "execute_result"
    },
    {
     "data": {
      "image/png": "[encoded data removed]",
      "text/plain": [
       "<Figure size 432x288 with 1 Axes>"
      ]
     },
     "metadata": {
      "needs_background": "light"
     },
     "output_type": "display_data"
    }
   ],
   "source": [
    "plt.imshow(digits.data[0].reshape(8, 8), cmap='gray')"
   ]
  },
  {
   "cell_type": "code",
   "execution_count": 6,
   "id": "82dd4016",
   "metadata": {
    "scrolled": true
   },
   "outputs": [
    {
     "name": "stdout",
     "output_type": "stream",
     "text": [
      "<class 'numpy.ndarray'>\n",
      "(1797,)\n",
      "0\n"
     ]
    }
   ],
   "source": [
    "print(type(digits_label))\n",
    "print(digits_label.shape)\n",
    "print(digits_label[0])"
   ]
  },
  {
   "cell_type": "markdown",
   "id": "cf6f37c3",
   "metadata": {},
   "source": [
    "`digits_label`의 타입과 shape, 첫번째 요소를 출력합니다.\n",
    " - line 1 : 타입은 `np.array`입니다.\n",
    " - line 2 : shape으로 보아 1797 차원의 벡터라고 생각할 수 있습니다.\n",
    " 각각의 sample들의 label은 $\\{0,1,2,3,4,5,6,7,8,9\\}$의 원소입니다."
   ]
  },
  {
   "cell_type": "code",
   "execution_count": 7,
   "id": "541d4211",
   "metadata": {
    "scrolled": true
   },
   "outputs": [
    {
     "name": "stdout",
     "output_type": "stream",
     "text": [
      "[0 1 2 3 4 5 6 7 8 9]\n",
      "['pixel_0_0', 'pixel_0_1', 'pixel_0_2', 'pixel_0_3', 'pixel_0_4', 'pixel_0_5', 'pixel_0_6', 'pixel_0_7', 'pixel_1_0', 'pixel_1_1', 'pixel_1_2', 'pixel_1_3', 'pixel_1_4', 'pixel_1_5', 'pixel_1_6', 'pixel_1_7', 'pixel_2_0', 'pixel_2_1', 'pixel_2_2', 'pixel_2_3', 'pixel_2_4', 'pixel_2_5', 'pixel_2_6', 'pixel_2_7', 'pixel_3_0', 'pixel_3_1', 'pixel_3_2', 'pixel_3_3', 'pixel_3_4', 'pixel_3_5', 'pixel_3_6', 'pixel_3_7', 'pixel_4_0', 'pixel_4_1', 'pixel_4_2', 'pixel_4_3', 'pixel_4_4', 'pixel_4_5', 'pixel_4_6', 'pixel_4_7', 'pixel_5_0', 'pixel_5_1', 'pixel_5_2', 'pixel_5_3', 'pixel_5_4', 'pixel_5_5', 'pixel_5_6', 'pixel_5_7', 'pixel_6_0', 'pixel_6_1', 'pixel_6_2', 'pixel_6_3', 'pixel_6_4', 'pixel_6_5', 'pixel_6_6', 'pixel_6_7', 'pixel_7_0', 'pixel_7_1', 'pixel_7_2', 'pixel_7_3', 'pixel_7_4', 'pixel_7_5', 'pixel_7_6', 'pixel_7_7']\n",
      ".. _digits_dataset:\n",
      "\n",
      "Optical recognition of handwritten digits dataset\n",
      "--------------------------------------------------\n",
      "\n",
      "**Data Set Characteristics:**\n",
      "\n",
      "    :Number of Instances: 1797\n",
      "    :Number of Attributes: 64\n",
      "    :Attribute Information: 8x8 image of integer pixels in the range 0..16.\n",
      "    :Missing Attribute Values: None\n",
      "    :Creator: E. Alpaydin (alpaydin '@' boun.edu.tr)\n",
      "    :Date: July; 1998\n",
      "\n",
      "This is a copy of the test set of the UCI ML hand-written digits datasets\n",
      "https://archive.ics.uci.edu/ml/datasets/Optical+Recognition+of+Handwritten+Digits\n",
      "\n",
      "The data set contains images of hand-written digits: 10 classes where\n",
      "each class refers to a digit.\n",
      "\n",
      "Preprocessing programs made available by NIST were used to extract\n",
      "normalized bitmaps of handwritten digits from a preprinted form. From a\n",
      "total of 43 people, 30 contributed to the training set and different 13\n",
      "to the test set. 32x32 bitmaps are divided into nonoverlapping blocks of\n",
      "4x4 and the number of on pixels are counted in each block. This generates\n",
      "an input matrix of 8x8 where each element is an integer in the range\n",
      "0..16. This reduces dimensionality and gives invariance to small\n",
      "distortions.\n",
      "\n",
      "For info on NIST preprocessing routines, see M. D. Garris, J. L. Blue, G.\n",
      "T. Candela, D. L. Dimmick, J. Geist, P. J. Grother, S. A. Janet, and C.\n",
      "L. Wilson, NIST Form-Based Handprint Recognition System, NISTIR 5469,\n",
      "1994.\n",
      "\n",
      ".. topic:: References\n",
      "\n",
      "  - C. Kaynak (1995) Methods of Combining Multiple Classifiers and Their\n",
      "    Applications to Handwritten Digit Recognition, MSc Thesis, Institute of\n",
      "    Graduate Studies in Science and Engineering, Bogazici University.\n",
      "  - E. Alpaydin, C. Kaynak (1998) Cascading Classifiers, Kybernetika.\n",
      "  - Ken Tang and Ponnuthurai N. Suganthan and Xi Yao and A. Kai Qin.\n",
      "    Linear dimensionalityreduction using relevance weighted LDA. School of\n",
      "    Electrical and Electronic Engineering Nanyang Technological University.\n",
      "    2005.\n",
      "  - Claudio Gentile. A New Approximate Maximal Margin Classification\n",
      "    Algorithm. NIPS. 2000.\n",
      "\n"
     ]
    }
   ],
   "source": [
    "print(digits.target_names)\n",
    "print(digits.feature_names)\n",
    "# print(digits.filename)\n",
    "print(digits.DESCR)"
   ]
  },
  {
   "cell_type": "markdown",
   "id": "6838edb0",
   "metadata": {},
   "source": [
    " - line 1 : label들의 이름을 출력합니다.\n",
    " 방금 언급했듯 label은 $\\{0,1,2,3,4,5,6,7,8,9\\}$의 원소입니다.\n",
    " - line 2 : feature들의 이름을 출력합니다.\n",
    " 위에 언급했듯, feature들은 $8\\times8$의 그림파일의 각 픽셀값을 나타냅니다. 그걸 반영하듯 feature의 이름들이 `'pixel_2_3'`와 같이 되어 있습니다.\n",
    " 좌표 (2,3)의 픽셀값이라는 뜻입니다.\n",
    " 픽셀값이 0이면 해당 픽셀이 검은색을 나타내고 픽셀값이 높아질수록 흰색에 가까운 색을 나타냅니다.\n",
    " - line 3 : 2번 셀에서 말했듯 `filename`은 불러올 수 없습니다.\n",
    " - line 4 : `digits` dataset에 대한 상세한 정보를 출력합니다."
   ]
  },
  {
   "cell_type": "markdown",
   "id": "9141d8e6",
   "metadata": {},
   "source": [
    "## 1.4. train, test 데이터 분리"
   ]
  },
  {
   "cell_type": "code",
   "execution_count": 8,
   "id": "44561f49",
   "metadata": {},
   "outputs": [],
   "source": [
    "X_train, X_test, y_train, y_test = train_test_split(digits_data, digits_label, test_size=0.2, random_state=1)"
   ]
  },
  {
   "cell_type": "markdown",
   "id": "f6a245c1",
   "metadata": {},
   "source": [
    " - 우리는 데이터 `digits`에서 각각 `digits_data`, `digits_label`를 얻었었습니다.\n",
    " 이것들을 각각 8:2의 비율로 잘라, training set과 test set으로 나눕니다.\n",
    " 즉\n",
    "    - `digits_data` → `X_train`, `X_test`\n",
    "    - `digits_label` → `y_train`, `y_test`\n",
    " \n",
    " 와 같이 나눕니다."
   ]
  },
  {
   "cell_type": "code",
   "execution_count": 9,
   "id": "b1b979dc",
   "metadata": {
    "scrolled": true
   },
   "outputs": [
    {
     "name": "stdout",
     "output_type": "stream",
     "text": [
      "<class 'numpy.ndarray'>\n",
      "(1437, 64)\n",
      "[ 0.  0.  0.  2. 15.  8.  0.  0.  0.  0.  1. 15. 13.  3.  0.  0.  0.  0.\n",
      "  9. 13.  1.  0.  0.  0.  0.  1. 15.  6.  0.  5. 11.  0.  0.  7. 14.  0.\n",
      "  1. 15.  8.  0.  0.  8. 15.  9. 15. 16.  3.  0.  0.  1. 11. 16. 16. 10.\n",
      "  0.  0.  0.  0.  0.  2. 15.  5.  0.  0.]\n",
      "<class 'numpy.ndarray'>\n",
      "(360, 64)\n",
      "[ 0.  0.  6. 16. 11.  0.  0.  0.  0.  0.  9. 16. 16.  5.  0.  0.  0.  0.\n",
      "  8. 16. 16.  4.  0.  0.  0.  0. 10. 16. 13.  0.  0.  0.  0.  0. 13. 16.\n",
      " 12.  0.  0.  0.  0.  0. 10. 16.  9.  0.  0.  0.  0.  0.  9. 16. 10.  0.\n",
      "  0.  0.  0.  0.  4. 15. 16.  3.  0.  0.]\n",
      "<class 'numpy.ndarray'>\n",
      "(1437,)\n",
      "4\n",
      "<class 'numpy.ndarray'>\n",
      "(360,)\n",
      "1\n"
     ]
    }
   ],
   "source": [
    "print(type(X_train))\n",
    "print(X_train.shape)\n",
    "print(X_train[0])\n",
    "\n",
    "print(type(X_test))\n",
    "print(X_test.shape)\n",
    "print(X_test[0])\n",
    "\n",
    "print(type(y_train))\n",
    "print(y_train.shape)\n",
    "print(y_train[0])\n",
    "\n",
    "print(type(y_test))\n",
    "print(y_test.shape)\n",
    "print(y_test[0])"
   ]
  },
  {
   "cell_type": "markdown",
   "id": "a6663a9a",
   "metadata": {},
   "source": [
    "네 개의 서로다른 `np.array`들에 대하여 타입과 shape, 첫번째 요소를 출력해봅니다.\n",
    " - line 1 ~ 3 : `X_train`은 $1437\\times 64$ 형태의 행렬입니다.\n",
    " 열의 개수, 즉 feature의 개수는 당연히 64로 일정하고 행의 개수는 1797에서 1437개로 약 80%가 되었습니다.\n",
    " 정확히 계산해보면 $1797\\times 0.8=1437.6$이므로 1797에 0.8을 곱한 후 `floor()`같은 것을 씌워 정수부분만 출력한 듯합니다.\n",
    " [공식문서](https://scikit-learn.org/stable/modules/generated/sklearn.model_selection.train_test_split.html)에는 정확히 나와있지 않습니다.\n",
    " - line 5 ~ 7 : `X_test`은 $360\\times 64$ 형태의 행렬입니다.\n",
    " - line 9 ~ 11 : `y_train`은 1437차원의 벡터입니다.\n",
    " - line 13 ~ 15 : `y_test`은 360차원의 벡터입니다."
   ]
  },
  {
   "cell_type": "markdown",
   "id": "11cabb17",
   "metadata": {},
   "source": [
    "### 표준화(standardization)"
   ]
  },
  {
   "cell_type": "markdown",
   "id": "12985fd8",
   "metadata": {},
   "source": [
    "표준화(zscore, standardization)를 진행시킵니다.\n",
    "일부 모델의 경우 학습시 경고문구가 뜨기 때문에 하게 되었습니다.\n",
    "표준화해놓은 데이터를 만들어놓고 `_stan`이라는 접두어를 붙여 저장해놓았습니다.\n",
    "`X_train`의 평균과 표준편차를 계산한 후, `X_train`과 `X_test` 모두에 대하여 표준화했습니다.\n",
    "(`X_test`을 표준화할 때에도 `X_train`을 표준화할 때와 똑같이 해야 합니다.)"
   ]
  },
  {
   "cell_type": "code",
   "execution_count": 10,
   "id": "42f439da",
   "metadata": {},
   "outputs": [
    {
     "name": "stdout",
     "output_type": "stream",
     "text": [
      "[0.00000000e+00 3.04105776e-01 5.23312457e+00 1.18559499e+01\n",
      " 1.18469033e+01 5.78705637e+00 1.41057759e+00 1.28740431e-01\n",
      " 3.47947112e-03 1.97494781e+00 1.04272791e+01 1.20508003e+01\n",
      " 1.03145442e+01 8.15100905e+00 1.87265136e+00 1.07863605e-01\n",
      " 2.78357690e-03 2.57967989e+00 9.95685456e+00 7.08907446e+00\n",
      " 7.16144746e+00 7.85316632e+00 1.79610299e+00 5.01043841e-02\n",
      " 1.39178845e-03 2.48712596e+00 9.05288796e+00 8.90953375e+00\n",
      " 1.00981211e+01 7.50034795e+00 2.27696590e+00 1.39178845e-03\n",
      " 0.00000000e+00 2.30688935e+00 7.68823939e+00 9.25400139e+00\n",
      " 1.03799582e+01 8.64509395e+00 2.86430063e+00 0.00000000e+00\n",
      " 9.04662491e-03 1.51078636e+00 6.86778010e+00 7.33472512e+00\n",
      " 7.66597077e+00 8.10160056e+00 3.46068198e+00 2.71398747e-02\n",
      " 9.04662491e-03 6.96590118e-01 7.42171190e+00 9.62073765e+00\n",
      " 9.39665971e+00 8.64300626e+00 3.73764788e+00 2.01113431e-01\n",
      " 6.95894224e-04 2.86012526e-01 5.55671538e+00 1.21183020e+01\n",
      " 1.17153793e+01 6.69102296e+00 2.05567154e+00 3.47251218e-01]\n",
      "[1.         0.90544851 4.75663133 4.2304182  4.26230412 5.70150814\n",
      " 3.38687951 0.9944813  0.06970762 3.14430239 5.42114026 3.93185619\n",
      " 4.76765853 6.02004487 3.57888488 0.82001797 0.06455708 3.52820691\n",
      " 5.67400922 5.79723487 6.14375141 6.20020978 3.28502837 0.42240034\n",
      " 0.03728071 3.18759467 6.20985257 5.83693036 6.08219992 5.88779625\n",
      " 3.65412871 0.03728071 1.         3.43076078 6.3013144  6.25420051\n",
      " 5.89519595 5.9114904  3.51916303 1.         0.15580262 2.86425464\n",
      " 6.52498427 6.43732144 6.21498772 5.74542063 4.34627065 0.29838529\n",
      " 0.22827664 1.73420164 5.64136    5.23865391 5.29544019 6.0743401\n",
      " 4.94535858 0.96308995 0.02637063 0.93989474 5.09892587 4.33270875\n",
      " 4.9717777  5.90900697 4.06981063 1.79493636]\n"
     ]
    }
   ],
   "source": [
    "scaler = preprocessing.StandardScaler().fit(X_train)\n",
    "print(scaler.mean_)\n",
    "print(scaler.scale_)"
   ]
  },
  {
   "cell_type": "code",
   "execution_count": 11,
   "id": "f06b400e",
   "metadata": {},
   "outputs": [],
   "source": [
    "X_train_stan = scaler.transform(X_train)\n",
    "X_test_stan = scaler.transform(X_test)"
   ]
  },
  {
   "cell_type": "code",
   "execution_count": 12,
   "id": "ca20db2a",
   "metadata": {},
   "outputs": [
    {
     "name": "stdout",
     "output_type": "stream",
     "text": [
      "<class 'numpy.ndarray'>\n",
      "(1437, 64)\n",
      "[ 0.         -0.33586203 -1.10017452 -2.32978146  0.73976343  0.38813303\n",
      " -0.41648296 -0.12945485 -0.04991522 -0.62810365 -1.73898453  0.75007823\n",
      "  0.56326513 -0.85564297 -0.52324996 -0.1315381  -0.04311807 -0.7311589\n",
      " -0.16863817  1.01961119 -1.00288033 -1.26659687 -0.54675418 -0.11861824\n",
      " -0.03733267 -0.46653546  0.95768973 -0.49846984 -1.66027444 -0.42466618\n",
      "  2.3871721  -0.03733267  0.          1.36795042  1.00165778 -1.47964578\n",
      " -1.59111899  1.07500911  1.4593525   0.         -0.05806465  2.26558545\n",
      "  1.24632023  0.25869065  1.1800553   1.37472954 -0.10599477 -0.09095581\n",
      " -0.03963009  0.17495652  0.63429529  1.2177293   1.2469861   0.22339772\n",
      " -0.75578905 -0.20882103 -0.02638899 -0.30430272 -1.08978156 -2.33532938\n",
      "  0.66065318 -0.28617718 -0.5051025  -0.19346158]\n",
      "<class 'numpy.ndarray'>\n",
      "(360, 64)\n",
      "[ 0.         -0.33586203  0.16122238  0.97958403 -0.19869612 -1.01500449\n",
      " -0.41648296 -0.12945485 -0.04991522 -0.62810365 -0.26328023  1.00441103\n",
      "  1.19250483 -0.52341953 -0.52324996 -0.1315381  -0.04311807 -0.7311589\n",
      " -0.3448804   1.53709928  1.4386247  -0.62145741 -0.54675418 -0.11861824\n",
      " -0.03733267 -0.78025164  0.15251764  1.21475944  0.47711008 -1.27388035\n",
      " -0.62312143 -0.03733267  0.         -0.67241335  0.84296073  1.07863485\n",
      "  0.27480711 -1.46242206 -0.8139153   0.         -0.05806465 -0.52746231\n",
      "  0.48003486  1.34609945  0.21464712 -1.41009703 -0.79624171 -0.09095581\n",
      " -0.03963009 -0.4016777   0.27977085  1.2177293   0.11393581 -1.42287164\n",
      " -0.75578905 -0.20882103 -0.02638899 -0.30430272 -0.30530261  0.66510309\n",
      "  0.86178848 -0.62464353 -0.5051025  -0.19346158]\n"
     ]
    }
   ],
   "source": [
    "print(type(X_train_stan))\n",
    "print(X_train_stan.shape)\n",
    "print(X_train_stan[0])\n",
    "\n",
    "print(type(X_test_stan))\n",
    "print(X_test_stan.shape)\n",
    "print(X_test_stan[0])"
   ]
  },
  {
   "cell_type": "markdown",
   "id": "985a2d8c",
   "metadata": {},
   "source": [
    "### 정규화(normalization)"
   ]
  },
  {
   "cell_type": "markdown",
   "id": "cc7b3b3d",
   "metadata": {},
   "source": [
    "정규화(minmax, normalization)를 진행시킵니다.\n",
    "일부 모델의 경우 학습시 경고문구가 뜨기 때문에 하게 되었습니다.\n",
    "정규화해놓은 데이터를 만들어놓고 `_norm`이라는 접두어를 붙여 저장해놓았습니다.\n",
    "`X_train`의 최솟값과 최댓값을 계산한 후, `X_train`과 `X_test` 모두에 대하여 정규화했습니다.\n",
    "(`X_test`을 정규화할 때에도 `X_train`을 정규화할 때와 똑같이 해야 합니다.)\n",
    "따라서 정규화해놓은 `X_test`의 값들은 0과 1사이의 범위를 넘어설 수 있습니다."
   ]
  },
  {
   "cell_type": "code",
   "execution_count": 14,
   "id": "c5d0a09d",
   "metadata": {},
   "outputs": [
    {
     "data": {
      "text/plain": [
       "array([[0.    , 0.    , 0.    , ..., 0.3125, 0.    , 0.    ],\n",
       "       [0.    , 0.    , 0.    , ..., 0.    , 0.    , 0.    ],\n",
       "       [0.    , 0.    , 0.    , ..., 0.8125, 0.75  , 0.125 ],\n",
       "       ...,\n",
       "       [0.    , 0.    , 0.4375, ..., 0.8125, 0.125 , 0.    ],\n",
       "       [0.    , 0.    , 0.    , ..., 1.    , 0.0625, 0.    ],\n",
       "       [0.    , 0.    , 0.5   , ..., 0.    , 0.    , 0.    ]])"
      ]
     },
     "execution_count": 14,
     "metadata": {},
     "output_type": "execute_result"
    }
   ],
   "source": [
    "min_max_scaler = preprocessing.MinMaxScaler()\n",
    "X_train_norm = min_max_scaler.fit_transform(X_train)\n",
    "X_train_norm"
   ]
  },
  {
   "cell_type": "code",
   "execution_count": 15,
   "id": "4538c50b",
   "metadata": {},
   "outputs": [
    {
     "data": {
      "text/plain": [
       "array([[0.    , 0.    , 0.375 , ..., 0.1875, 0.    , 0.    ],\n",
       "       [0.    , 1.    , 0.8125, ..., 0.    , 0.    , 0.    ],\n",
       "       [0.    , 0.    , 0.25  , ..., 0.375 , 0.    , 0.    ],\n",
       "       ...,\n",
       "       [0.    , 0.    , 0.    , ..., 0.0625, 0.    , 0.    ],\n",
       "       [0.    , 0.375 , 0.9375, ..., 1.    , 1.    , 0.125 ],\n",
       "       [0.    , 0.    , 0.5   , ..., 0.    , 0.    , 0.    ]])"
      ]
     },
     "execution_count": 15,
     "metadata": {},
     "output_type": "execute_result"
    }
   ],
   "source": [
    "X_test_norm = min_max_scaler.transform(X_test)\n",
    "X_test_norm"
   ]
  },
  {
   "cell_type": "markdown",
   "id": "733b27c8",
   "metadata": {},
   "source": [
    "## 1.5. 다양한 모델로 학습시켜보기"
   ]
  },
  {
   "cell_type": "markdown",
   "id": "b1cc1015",
   "metadata": {},
   "source": [
    "여기에서는 다섯 개의 모델\n",
    " - decision tree classifier # _dt\n",
    " - random forest classifier # _rf\n",
    " - support vector machine # _svm\n",
    " - stochastic gradient descent classfier # sgd\n",
    " - logistic regression # _lr\n",
    " \n",
    "을 가지고 학습을 진행시키고, 그 결과로 여러 평가지표를 얻는 작업을 수행합니다.\n",
    "평가지표는 `y_pred_dt`와 같은 이름으로 출력됩니다.\n",
    "이때, 각각의 모델들에 따라 `y_pred`의 뒤에 접두어를 붙였습니다.\n",
    "예를 들어, `_dt`는 decision tree라는 뜻입니다.\n",
    " \n",
    "<!-- 이 과정을 앞으로 세 번 반복할 것이고, 또 어차피 결과적으로\n",
    " - `y_pred_dt`\n",
    " - `y_pred_rf`\n",
    " - `y_pred_svm`\n",
    " - `y_pred_sgd`\n",
    " - `y_pred_lr`\n",
    "\n",
    "의 다섯개만 잘 출력하면 되므로 이 과정을 하나의 함수 `get_y_pred`로 지정해놓았습니다. -->"
   ]
  },
  {
   "cell_type": "code",
   "execution_count": 16,
   "id": "5c36d6ad",
   "metadata": {},
   "outputs": [],
   "source": [
    "# decision tree\n",
    "# _dt\n",
    "decision_tree = DecisionTreeClassifier(random_state=1)\n",
    "decision_tree.fit(X_train, y_train)\n",
    "y_pred_dt = decision_tree.predict(X_test)"
   ]
  },
  {
   "cell_type": "code",
   "execution_count": 17,
   "id": "940148ca",
   "metadata": {},
   "outputs": [],
   "source": [
    "# random forest\n",
    "# _rf\n",
    "random_forest = RandomForestClassifier(random_state=1)\n",
    "random_forest.fit(X_train, y_train)\n",
    "y_pred_rf = random_forest.predict(X_test)"
   ]
  },
  {
   "cell_type": "code",
   "execution_count": 18,
   "id": "570f1ccd",
   "metadata": {},
   "outputs": [],
   "source": [
    "# support vector machine\n",
    "# _svm\n",
    "svm_model = svm.SVC(random_state=1)\n",
    "svm_model.fit(X_train, y_train)\n",
    "y_pred_svm = svm_model.predict(X_test)"
   ]
  },
  {
   "cell_type": "code",
   "execution_count": 19,
   "id": "bf49ef8b",
   "metadata": {},
   "outputs": [],
   "source": [
    "# stochastic gradient descent classifier\n",
    "# sgd\n",
    "sgd_model = SGDClassifier(random_state=1)\n",
    "sgd_model.fit(X_train, y_train)\n",
    "y_pred_sgd = sgd_model.predict(X_test)"
   ]
  },
  {
   "cell_type": "code",
   "execution_count": 21,
   "id": "7812f03b",
   "metadata": {
    "scrolled": false
   },
   "outputs": [
    {
     "name": "stderr",
     "output_type": "stream",
     "text": [
      "/opt/conda/lib/python3.9/site-packages/sklearn/linear_model/_logistic.py:814: ConvergenceWarning: lbfgs failed to converge (status=1):\n",
      "STOP: TOTAL NO. of ITERATIONS REACHED LIMIT.\n",
      "\n",
      "Increase the number of iterations (max_iter) or scale the data as shown in:\n",
      "    https://scikit-learn.org/stable/modules/preprocessing.html\n",
      "Please also refer to the documentation for alternative solver options:\n",
      "    https://scikit-learn.org/stable/modules/linear_model.html#logistic-regression\n",
      "  n_iter_i = _check_optimize_result(\n"
     ]
    }
   ],
   "source": [
    "# logistic regerssion\n",
    "# _lr\n",
    "logistic_model = LogisticRegression() # convergence warning\n",
    "logistic_model.fit(X_train, y_train)\n",
    "y_pred_lr = logistic_model.predict(X_test) \n",
    "\n",
    "# logistic_model = LogisticRegression() # no convergence warning\n",
    "# logistic_model.fit(X_train_stan, y_train)\n",
    "# y_pred_lr = logistic_model.predict(X_test_stan) \n",
    "\n",
    "# logistic_model = LogisticRegression() # convergence warning\n",
    "# logistic_model.fit(X_train_norm, y_train)\n",
    "# y_pred_lr = logistic_model.predict(X_test_norm)"
   ]
  },
  {
   "cell_type": "markdown",
   "id": "2cb4da44",
   "metadata": {},
   "source": [
    " - `random_state` logistic regession을 제외한 각각의 모델들은 어느 정도의 임의성(randomness)을 수반합니다.\n",
    " 그 임의성은 각 알고리즘마다 작용되는 원리가 다 다릅니다.\n",
    " 예를 들어 `RandomForestClassifier`의 `random_state`에 관해서는 [다음과 같은 설명](https://scikit-learn.org/stable/modules/generated/sklearn.ensemble.RandomForestClassifier.html)을 찾을 수 있는 반면\n",
    " > Controls both the randomness of the bootstrapping of the samples used when building trees and the sampling of the features to consider when looking for the best split at each node\n",
    " \n",
    " `SGDClassifier`에 관해서는 [다른 설명](https://scikit-learn.org/stable/modules/generated/sklearn.linear_model.SGDClassifier.html)이 검색됩니다.\n",
    " > Used for shuffling the data, when shuffle is set to `True`.\n",
    " 정확히 말하면, `LogisticRegression` 모델도 `random_state`라는 인자를 갖기는 하지만, [사실상 사용되지 않는다고도 합니다.](https://github.com/scikit-learn/scikit-learn/issues/4760)\n",
    " \n",
    " - `LogisticRegression` 모델에 대해서는 기존과는 다른 데이터(`X_train_stan`, `X_test_stan`)를 넣었습니다.\n",
    " 이것들은 기존의 `X_train`과 `X_test`에 standardization을 적용한 결과입니다.\n",
    " 이렇게 넣은 이유는, 그냥 `X_train`과 `X_test`를 넣었을 때에 다음과 같은 경고 메시지가 뜨기 때문이었습니다.\n",
    " ```\n",
    " /opt/conda/lib/python3.9/site-packages/sklearn/linear_model/_logistic.py:814: ConvergenceWarning: lbfgs failed to converge (status=1):\n",
    "STOP: TOTAL NO. of ITERATIONS REACHED LIMIT.\n",
    "Increase the number of iterations (max_iter) or scale the data as shown in:\n",
    "    https://scikit-learn.org/stable/modules/preprocessing.html\n",
    "Please also refer to the documentation for alternative solver options:\n",
    "    https://scikit-learn.org/stable/modules/linear_model.html#logistic-regression\n",
    "  n_iter_i = _check_optimize_result(\n",
    " ```\n",
    " \n",
    " 같은 조의 한용님의 조언에 따라 standardization을 수행하여 `X_train_stan`과 `X_test_stan`을 넣으면, 경고 메시지가 더이상 뜨지 않습니다.\n",
    " 반면, normalization의 경우에는 여전히 경고 메시지가 뜹니다.\n",
    " 하지만, 다른 모델들과의 형평성을 위해 standardization과 normalization을 수행하지 않은 결과만을 출력했습니다.\n",
    " (다른 것들은 주석처리했습니다.)"
   ]
  },
  {
   "cell_type": "markdown",
   "id": "dd50bc01",
   "metadata": {},
   "source": [
    "## 1.6. 모델을 평가해보기"
   ]
  },
  {
   "cell_type": "code",
   "execution_count": 31,
   "id": "a1cad55d",
   "metadata": {},
   "outputs": [
    {
     "data": {
      "image/png": "[encoded data removed]",
      "text/plain": [
       "<Figure size 432x288 with 2 Axes>"
      ]
     },
     "metadata": {
      "needs_background": "light"
     },
     "output_type": "display_data"
    }
   ],
   "source": [
    "import numpy as np\n",
    "import matplotlib.pyplot as plt\n",
    "\n",
    "x1 = np.linspace(0.0, 5.0)\n",
    "x2 = np.linspace(0.0, 2.0)\n",
    "\n",
    "y1 = np.cos(2 * np.pi * x1) * np.exp(-x1)\n",
    "y2 = np.cos(2 * np.pi * x2)\n",
    "\n",
    "plt.subplot(1, 2, 1)                # nrows=1, ncols=2, index=1\n",
    "plt.plot(x1, y1, 'o-')\n",
    "plt.title('1st Graph')\n",
    "plt.xlabel('time (s)')\n",
    "plt.ylabel('Damped oscillation')\n",
    "\n",
    "plt.subplot(1, 2, 2)                # nrows=1, ncols=2, index=2\n",
    "plt.plot(x2, y2, '.-')\n",
    "plt.title('2nd Graph')\n",
    "plt.xlabel('time (s)')\n",
    "plt.ylabel('Undamped')\n",
    "\n",
    "plt.tight_layout()\n",
    "plt.show()\n"
   ]
  },
  {
   "cell_type": "code",
   "execution_count": 30,
   "id": "0fce2b57",
   "metadata": {},
   "outputs": [
    {
     "name": "stdout",
     "output_type": "stream",
     "text": [
      "Confusion matrix, without normalization\n",
      "[[13  0  0]\n",
      " [ 0 13  3]\n",
      " [ 0  0  9]]\n",
      "Normalized confusion matrix\n",
      "[[1.   0.   0.  ]\n",
      " [0.   0.81 0.19]\n",
      " [0.   0.   1.  ]]\n"
     ]
    },
    {
     "data": {
      "image/png": "[encoded data removed]",
      "text/plain": [
       "<Figure size 432x288 with 2 Axes>"
      ]
     },
     "metadata": {
      "needs_background": "light"
     },
     "output_type": "display_data"
    },
    {
     "data": {
      "image/png": "[encoded data removed]",
      "text/plain": [
       "<Figure size 432x288 with 2 Axes>"
      ]
     },
     "metadata": {
      "needs_background": "light"
     },
     "output_type": "display_data"
    }
   ],
   "source": [
    "import numpy as num\n",
    "import matplotlib.pyplot as plot\n",
    "\n",
    "from sklearn import svm, datasets\n",
    "from sklearn.model_selection import train_test_split\n",
    "from sklearn.metrics import ConfusionMatrixDisplay\n",
    "\n",
    "\n",
    "iris = datasets.load_iris()\n",
    "x = iris.data\n",
    "y = iris.target\n",
    "class_names = iris.target_names\n",
    "\n",
    "\n",
    "x_train, x_test, y_train, y_test = train_test_split(x, y, random_state=0)\n",
    "\n",
    "\n",
    "classifier = svm.SVC(kernel=\"linear\", C=0.02).fit(x_train, y_train)\n",
    "\n",
    "num.set_printoptions(precision=2)\n",
    "\n",
    "title_options = [\n",
    "    (\"Confusion matrix, without normalization\", None),\n",
    "    (\"Normalized confusion matrix\", \"true\"),\n",
    "]\n",
    "for title, normalize in title_options:\n",
    "    display = ConfusionMatrixDisplay.from_estimator(\n",
    "        classifier,\n",
    "        x_test,\n",
    "        y_test,\n",
    "        display_labels=class_names,\n",
    "        cmap=plot.cm.Blues,\n",
    "        normalize=normalize,\n",
    "    )\n",
    "    display.ax_.set_title(title)\n",
    "\n",
    "    print(title)\n",
    "    print(display.confusion_matrix)\n",
    "\n",
    "plot.show()\n"
   ]
  },
  {
   "cell_type": "code",
   "execution_count": 23,
   "id": "79023957",
   "metadata": {},
   "outputs": [],
   "source": [
    "classifiers = [DecisionTreeClassifier(random_state=1), \n",
    "               RandomForestClassifier(random_state=1),\n",
    "               svm.SVC(random_state=1), \n",
    "               SGDClassifier(random_state=1)]\n",
    "for cls in classifiers:\n",
    "    cls.fit(X_train, y_train)"
   ]
  },
  {
   "cell_type": "code",
   "execution_count": 24,
   "id": "e235f637",
   "metadata": {},
   "outputs": [
    {
     "name": "stderr",
     "output_type": "stream",
     "text": [
      "/opt/conda/lib/python3.9/site-packages/sklearn/utils/deprecation.py:87: FutureWarning: Function plot_confusion_matrix is deprecated; Function `plot_confusion_matrix` is deprecated in 1.0 and will be removed in 1.2. Use one of the class methods: ConfusionMatrixDisplay.from_predictions or ConfusionMatrixDisplay.from_estimator.\n",
      "  warnings.warn(msg, category=FutureWarning)\n",
      "/opt/conda/lib/python3.9/site-packages/sklearn/utils/deprecation.py:87: FutureWarning: Function plot_confusion_matrix is deprecated; Function `plot_confusion_matrix` is deprecated in 1.0 and will be removed in 1.2. Use one of the class methods: ConfusionMatrixDisplay.from_predictions or ConfusionMatrixDisplay.from_estimator.\n",
      "  warnings.warn(msg, category=FutureWarning)\n",
      "/opt/conda/lib/python3.9/site-packages/sklearn/utils/deprecation.py:87: FutureWarning: Function plot_confusion_matrix is deprecated; Function `plot_confusion_matrix` is deprecated in 1.0 and will be removed in 1.2. Use one of the class methods: ConfusionMatrixDisplay.from_predictions or ConfusionMatrixDisplay.from_estimator.\n",
      "  warnings.warn(msg, category=FutureWarning)\n",
      "/opt/conda/lib/python3.9/site-packages/sklearn/utils/deprecation.py:87: FutureWarning: Function plot_confusion_matrix is deprecated; Function `plot_confusion_matrix` is deprecated in 1.0 and will be removed in 1.2. Use one of the class methods: ConfusionMatrixDisplay.from_predictions or ConfusionMatrixDisplay.from_estimator.\n",
      "  warnings.warn(msg, category=FutureWarning)\n"
     ]
    },
    {
     "data": {
      "image/png": "[encoded data removed]",
      "text/plain": [
       "<Figure size 1080x720 with 8 Axes>"
      ]
     },
     "metadata": {
      "needs_background": "light"
     },
     "output_type": "display_data"
    }
   ],
   "source": [
    "fig, axes = plt.subplots(nrows=2, ncols=2, figsize=(15,10))\n",
    "\n",
    "for cls, ax in zip(classifiers, axes.flatten()):\n",
    "    plot_confusion_matrix(cls, X_test, y_test, ax=ax,\n",
    "                         display_labels = digits.target_names)\n",
    "    ax.title.set_text(type(cls).__name__)\n",
    "plt.tight_layout()  \n",
    "plt.show()\n"
   ]
  },
  {
   "cell_type": "code",
   "execution_count": 27,
   "id": "6c35e98f",
   "metadata": {},
   "outputs": [
    {
     "data": {
      "image/png": "[encoded data removed]",
      "text/plain": [
       "<Figure size 432x288 with 2 Axes>"
      ]
     },
     "metadata": {
      "needs_background": "light"
     },
     "output_type": "display_data"
    }
   ],
   "source": [
    "disp = ConfusionMatrixDisplay.from_predictions(y_test, y_pred_svm)\n",
    "disp.figure_.suptitle(\"Confusion Matrix : digits\")\n",
    "#print(f\"Confusion matrix:\\n{disp.confusion_matrix}\")\n",
    "plt.show()"
   ]
  },
  {
   "cell_type": "code",
   "execution_count": 22,
   "id": "7c604d3d",
   "metadata": {
    "scrolled": false
   },
   "outputs": [
    {
     "name": "stdout",
     "output_type": "stream",
     "text": [
      "              precision    recall  f1-score   support\n",
      "\n",
      "           0       1.00      0.93      0.96        43\n",
      "           1       0.91      0.83      0.87        35\n",
      "           2       0.83      0.83      0.83        36\n",
      "           3       0.78      0.71      0.74        41\n",
      "           4       0.82      0.84      0.83        38\n",
      "           5       0.78      0.97      0.87        30\n",
      "           6       0.88      0.97      0.92        37\n",
      "           7       0.78      0.76      0.77        37\n",
      "           8       0.83      0.86      0.85        29\n",
      "           9       0.75      0.71      0.73        34\n",
      "\n",
      "    accuracy                           0.84       360\n",
      "   macro avg       0.84      0.84      0.84       360\n",
      "weighted avg       0.84      0.84      0.84       360\n",
      "\n",
      "              precision    recall  f1-score   support\n",
      "\n",
      "           0       0.98      0.95      0.96        43\n",
      "           1       1.00      1.00      1.00        35\n",
      "           2       1.00      1.00      1.00        36\n",
      "           3       1.00      0.98      0.99        41\n",
      "           4       0.95      1.00      0.97        38\n",
      "           5       0.97      1.00      0.98        30\n",
      "           6       1.00      1.00      1.00        37\n",
      "           7       1.00      0.97      0.99        37\n",
      "           8       1.00      0.97      0.98        29\n",
      "           9       0.94      0.97      0.96        34\n",
      "\n",
      "    accuracy                           0.98       360\n",
      "   macro avg       0.98      0.98      0.98       360\n",
      "weighted avg       0.98      0.98      0.98       360\n",
      "\n",
      "              precision    recall  f1-score   support\n",
      "\n",
      "           0       1.00      1.00      1.00        43\n",
      "           1       1.00      1.00      1.00        35\n",
      "           2       1.00      1.00      1.00        36\n",
      "           3       1.00      1.00      1.00        41\n",
      "           4       1.00      1.00      1.00        38\n",
      "           5       0.97      1.00      0.98        30\n",
      "           6       1.00      1.00      1.00        37\n",
      "           7       1.00      0.97      0.99        37\n",
      "           8       1.00      0.97      0.98        29\n",
      "           9       0.94      0.97      0.96        34\n",
      "\n",
      "    accuracy                           0.99       360\n",
      "   macro avg       0.99      0.99      0.99       360\n",
      "weighted avg       0.99      0.99      0.99       360\n",
      "\n",
      "              precision    recall  f1-score   support\n",
      "\n",
      "           0       1.00      0.95      0.98        43\n",
      "           1       1.00      0.80      0.89        35\n",
      "           2       1.00      1.00      1.00        36\n",
      "           3       1.00      0.90      0.95        41\n",
      "           4       0.97      1.00      0.99        38\n",
      "           5       0.94      1.00      0.97        30\n",
      "           6       0.97      1.00      0.99        37\n",
      "           7       1.00      0.95      0.97        37\n",
      "           8       0.68      0.97      0.80        29\n",
      "           9       0.94      0.91      0.93        34\n",
      "\n",
      "    accuracy                           0.95       360\n",
      "   macro avg       0.95      0.95      0.95       360\n",
      "weighted avg       0.96      0.95      0.95       360\n",
      "\n",
      "              precision    recall  f1-score   support\n",
      "\n",
      "           0       1.00      0.98      0.99        43\n",
      "           1       0.97      0.97      0.97        35\n",
      "           2       1.00      1.00      1.00        36\n",
      "           3       0.95      0.98      0.96        41\n",
      "           4       0.93      1.00      0.96        38\n",
      "           5       0.90      0.93      0.92        30\n",
      "           6       1.00      1.00      1.00        37\n",
      "           7       1.00      0.89      0.94        37\n",
      "           8       0.97      0.97      0.97        29\n",
      "           9       0.97      0.97      0.97        34\n",
      "\n",
      "    accuracy                           0.97       360\n",
      "   macro avg       0.97      0.97      0.97       360\n",
      "weighted avg       0.97      0.97      0.97       360\n",
      "\n"
     ]
    }
   ],
   "source": [
    "print(classification_report(y_test, y_pred_dt))\n",
    "print(classification_report(y_test, y_pred_rf))\n",
    "print(classification_report(y_test, y_pred_svm))\n",
    "print(classification_report(y_test, y_pred_sgd))\n",
    "print(classification_report(y_test, y_pred_lr))"
   ]
  },
  {
   "cell_type": "markdown",
   "id": "95fd3106",
   "metadata": {},
   "source": [
    "## 1.12. 프로젝트 (2) load_wine : 와인을 분류해 봅시다 "
   ]
  },
  {
   "cell_type": "markdown",
   "id": "2c1bb7c7",
   "metadata": {},
   "source": [
    "### 1.12.1 필요한 모듈 import 하기"
   ]
  },
  {
   "cell_type": "code",
   "execution_count": null,
   "id": "02fc157e",
   "metadata": {},
   "outputs": [],
   "source": [
    "from sklearn.datasets import load_wine\n",
    "from sklearn.model_selection import train_test_split\n",
    "from sklearn.tree import DecisionTreeClassifier # _dt\n",
    "from sklearn.ensemble import RandomForestClassifier # _rf\n",
    "from sklearn import svm # _svm\n",
    "from sklearn.linear_model import SGDClassifier # _sgd\n",
    "from sklearn.linear_model import LogisticRegression # _lr\n",
    "from sklearn.metrics import classification_report"
   ]
  },
  {
   "cell_type": "markdown",
   "id": "9596b8a0",
   "metadata": {},
   "source": [
    "### 1.12.2 데이터 준비"
   ]
  },
  {
   "cell_type": "code",
   "execution_count": null,
   "id": "97ed2260",
   "metadata": {},
   "outputs": [],
   "source": [
    "wine = load_wine()"
   ]
  },
  {
   "cell_type": "code",
   "execution_count": null,
   "id": "783be610",
   "metadata": {},
   "outputs": [],
   "source": [
    "print(dir(wine))\n",
    "print(wine.keys())"
   ]
  },
  {
   "cell_type": "markdown",
   "id": "181f4e58",
   "metadata": {},
   "source": [
    "### 1.12.3 데이터 이해하기"
   ]
  },
  {
   "cell_type": "code",
   "execution_count": null,
   "id": "031c51cd",
   "metadata": {},
   "outputs": [],
   "source": [
    "wine_data = wine.data\n",
    "wine_label = wine.target"
   ]
  },
  {
   "cell_type": "code",
   "execution_count": null,
   "id": "66a66ba6",
   "metadata": {
    "scrolled": true
   },
   "outputs": [],
   "source": [
    "print(type(wine_data))\n",
    "print(wine_data.shape)\n",
    "print(wine_data[0])"
   ]
  },
  {
   "cell_type": "code",
   "execution_count": null,
   "id": "f28bd1db",
   "metadata": {},
   "outputs": [],
   "source": [
    "print(type(wine_label))\n",
    "print(wine_label.shape)\n",
    "print(wine_label[0])"
   ]
  },
  {
   "cell_type": "code",
   "execution_count": null,
   "id": "744d276a",
   "metadata": {
    "scrolled": true
   },
   "outputs": [],
   "source": [
    "print(wine.target_names)\n",
    "print(wine.DESCR)\n",
    "print(wine.feature_names)\n",
    "# print(wine.filename)"
   ]
  },
  {
   "cell_type": "markdown",
   "id": "8d4a7027",
   "metadata": {},
   "source": [
    "### 1.12.4 train, test 데이터 분리"
   ]
  },
  {
   "cell_type": "code",
   "execution_count": null,
   "id": "c5c60da5",
   "metadata": {},
   "outputs": [],
   "source": [
    "X_train, X_test, y_train, y_test = train_test_split(wine_data, \n",
    "                                                    wine_label, \n",
    "                                                    test_size=0.2, \n",
    "                                                    random_state=1)"
   ]
  },
  {
   "cell_type": "code",
   "execution_count": null,
   "id": "5ce62c25",
   "metadata": {},
   "outputs": [],
   "source": [
    "print(type(X_train))\n",
    "print(X_train.shape)\n",
    "print(X_train[0])\n",
    "\n",
    "print(type(X_test))\n",
    "print(X_test.shape)\n",
    "print(X_test[0])\n",
    "\n",
    "print(type(y_train))\n",
    "print(y_train.shape)\n",
    "print(y_train[0])\n",
    "\n",
    "print(type(y_test))\n",
    "print(y_test.shape)\n",
    "print(y_test[0])"
   ]
  },
  {
   "cell_type": "markdown",
   "id": "ebd24f65",
   "metadata": {},
   "source": [
    "### 1.12.5. 다양한 모델로 학습시켜보기"
   ]
  },
  {
   "cell_type": "code",
   "execution_count": null,
   "id": "466d620a",
   "metadata": {},
   "outputs": [],
   "source": [
    "# decision tree\n",
    "# _dt\n",
    "decision_tree = DecisionTreeClassifier(random_state=1)\n",
    "decision_tree.fit(X_train, y_train)\n",
    "y_pred_dt = decision_tree.predict(X_test)"
   ]
  },
  {
   "cell_type": "code",
   "execution_count": null,
   "id": "fdb8099c",
   "metadata": {},
   "outputs": [],
   "source": [
    "# random forest\n",
    "# _rf\n",
    "random_forest = RandomForestClassifier(random_state=1)\n",
    "random_forest.fit(X_train, y_train)\n",
    "y_pred_rf = random_forest.predict(X_test)"
   ]
  },
  {
   "cell_type": "code",
   "execution_count": null,
   "id": "454f6714",
   "metadata": {},
   "outputs": [],
   "source": [
    "# support vector machine\n",
    "# _svm\n",
    "svm_model = svm.SVC(random_state=1)\n",
    "svm_model.fit(X_train, y_train)\n",
    "y_pred_svm = svm_model.predict(X_test)"
   ]
  },
  {
   "cell_type": "code",
   "execution_count": null,
   "id": "a3d4817e",
   "metadata": {},
   "outputs": [],
   "source": [
    "# stochastic gradient descent classifier\n",
    "# sgd\n",
    "sgd_model = SGDClassifier(random_state=1)\n",
    "sgd_model.fit(X_train, y_train)\n",
    "y_pred_sgd = sgd_model.predict(X_test)"
   ]
  },
  {
   "cell_type": "code",
   "execution_count": null,
   "id": "76df1452",
   "metadata": {
    "scrolled": true
   },
   "outputs": [],
   "source": [
    "# logistic regerssion\n",
    "# _lr\n",
    "logistic_model = LogisticRegression()\n",
    "logistic_model.fit(X_train, y_train)\n",
    "y_pred_lr = logistic_model.predict(X_test)"
   ]
  },
  {
   "cell_type": "markdown",
   "id": "3d2fe5e4",
   "metadata": {},
   "source": [
    "### 1.12.6. 모델을 평가해보기"
   ]
  },
  {
   "cell_type": "code",
   "execution_count": null,
   "id": "6fe760f6",
   "metadata": {},
   "outputs": [],
   "source": [
    "print(classification_report(y_test, y_pred_dt))\n",
    "print(classification_report(y_test, y_pred_rf))\n",
    "print(classification_report(y_test, y_pred_svm))\n",
    "print(classification_report(y_test, y_pred_sgd))\n",
    "print(classification_report(y_test, y_pred_lr))"
   ]
  },
  {
   "cell_type": "markdown",
   "id": "601e17b2",
   "metadata": {},
   "source": [
    "## 1.13. 프로젝트 (3) load_breast_cancer : 유방암 여부를 진단해 봅시다"
   ]
  },
  {
   "cell_type": "markdown",
   "id": "49ecbd71",
   "metadata": {},
   "source": [
    "### 1.13.1 필요한 모듈 import 하기"
   ]
  },
  {
   "cell_type": "code",
   "execution_count": null,
   "id": "efd087a4",
   "metadata": {},
   "outputs": [],
   "source": [
    "from sklearn.datasets import load_breast_cancer\n",
    "from sklearn.model_selection import train_test_split\n",
    "from sklearn.tree import DecisionTreeClassifier # _dt\n",
    "from sklearn.ensemble import RandomForestClassifier # _rf\n",
    "from sklearn import svm # _svm\n",
    "from sklearn.linear_model import SGDClassifier # _sgd\n",
    "from sklearn.linear_model import LogisticRegression # _lr\n",
    "from sklearn.metrics import classification_report"
   ]
  },
  {
   "cell_type": "markdown",
   "id": "f1083bca",
   "metadata": {},
   "source": [
    "### 1.13.2 데이터 준비"
   ]
  },
  {
   "cell_type": "code",
   "execution_count": null,
   "id": "4f0523fa",
   "metadata": {},
   "outputs": [],
   "source": [
    "breast_cancer = load_breast_cancer()"
   ]
  },
  {
   "cell_type": "code",
   "execution_count": null,
   "id": "dc71953b",
   "metadata": {},
   "outputs": [],
   "source": [
    "print(dir(breast_cancer))\n",
    "print(breast_cancer.keys())"
   ]
  },
  {
   "cell_type": "markdown",
   "id": "6ae91b32",
   "metadata": {},
   "source": [
    "### 1.13.3 데이터 이해하기"
   ]
  },
  {
   "cell_type": "code",
   "execution_count": null,
   "id": "b66940c7",
   "metadata": {},
   "outputs": [],
   "source": [
    "breast_cancer_data = breast_cancer.data\n",
    "breast_cancer_label = breast_cancer.target"
   ]
  },
  {
   "cell_type": "code",
   "execution_count": null,
   "id": "fe4c5116",
   "metadata": {
    "scrolled": true
   },
   "outputs": [],
   "source": [
    "print(type(breast_cancer_data))\n",
    "print(breast_cancer_data.shape)\n",
    "print(breast_cancer_data[0])"
   ]
  },
  {
   "cell_type": "code",
   "execution_count": null,
   "id": "d1732db1",
   "metadata": {},
   "outputs": [],
   "source": [
    "print(type(breast_cancer_label))\n",
    "print(breast_cancer_label.shape)\n",
    "print(breast_cancer_label[0])"
   ]
  },
  {
   "cell_type": "code",
   "execution_count": null,
   "id": "147a4dd1",
   "metadata": {},
   "outputs": [],
   "source": [
    "print(breast_cancer.target_names)\n",
    "print(breast_cancer.DESCR)\n",
    "print(breast_cancer.feature_names)\n",
    "# print(breast_cancer.filename)"
   ]
  },
  {
   "cell_type": "markdown",
   "id": "91891e78",
   "metadata": {},
   "source": [
    "### 1.13.4 train, test 데이터 분리"
   ]
  },
  {
   "cell_type": "code",
   "execution_count": null,
   "id": "76014d4c",
   "metadata": {},
   "outputs": [],
   "source": [
    "X_train, X_test, y_train, y_test = train_test_split(breast_cancer_data, \n",
    "                                                    breast_cancer_label, \n",
    "                                                    test_size=0.2, \n",
    "                                                    random_state=1)"
   ]
  },
  {
   "cell_type": "code",
   "execution_count": null,
   "id": "5566e776",
   "metadata": {},
   "outputs": [],
   "source": [
    "print(type(X_train))\n",
    "print(X_train.shape)\n",
    "print(X_train[0])\n",
    "\n",
    "print(type(X_test))\n",
    "print(X_test.shape)\n",
    "print(X_test[0])\n",
    "\n",
    "print(type(y_train))\n",
    "print(y_train.shape)\n",
    "print(y_train[0])\n",
    "\n",
    "print(type(y_test))\n",
    "print(y_test.shape)\n",
    "print(y_test[0])"
   ]
  },
  {
   "cell_type": "markdown",
   "id": "c98b859a",
   "metadata": {},
   "source": [
    "### 1.13.5. 다양한 모델로 학습시켜보기"
   ]
  },
  {
   "cell_type": "code",
   "execution_count": null,
   "id": "28458166",
   "metadata": {},
   "outputs": [],
   "source": [
    "# decision tree\n",
    "# _dt\n",
    "decision_tree = DecisionTreeClassifier(random_state=1)\n",
    "decision_tree.fit(X_train, y_train)\n",
    "y_pred_dt = decision_tree.predict(X_test)"
   ]
  },
  {
   "cell_type": "code",
   "execution_count": null,
   "id": "3a98b96d",
   "metadata": {},
   "outputs": [],
   "source": [
    "# random forest\n",
    "# _rf\n",
    "random_forest = RandomForestClassifier(random_state=1)\n",
    "random_forest.fit(X_train, y_train)\n",
    "y_pred_rf = random_forest.predict(X_test)"
   ]
  },
  {
   "cell_type": "code",
   "execution_count": null,
   "id": "b19eff55",
   "metadata": {},
   "outputs": [],
   "source": [
    "# support vector machine\n",
    "# _svm\n",
    "svm_model = svm.SVC(random_state=1)\n",
    "svm_model.fit(X_train, y_train)\n",
    "y_pred_svm = svm_model.predict(X_test)"
   ]
  },
  {
   "cell_type": "code",
   "execution_count": null,
   "id": "38d78607",
   "metadata": {},
   "outputs": [],
   "source": [
    "# stochastic gradient descent classifier\n",
    "# sgd\n",
    "sgd_model = SGDClassifier(random_state=1)\n",
    "sgd_model.fit(X_train, y_train)\n",
    "y_pred_sgd = sgd_model.predict(X_test)"
   ]
  },
  {
   "cell_type": "code",
   "execution_count": null,
   "id": "95e4dbfa",
   "metadata": {
    "scrolled": true
   },
   "outputs": [],
   "source": [
    "# logistic regerssion\n",
    "# _lr\n",
    "logistic_model = LogisticRegression()\n",
    "logistic_model.fit(X_train, y_train)\n",
    "y_pred_lr = logistic_model.predict(X_test)"
   ]
  },
  {
   "cell_type": "markdown",
   "id": "1dcb1989",
   "metadata": {},
   "source": [
    "### 1.13.6. 모델을 평가해보기"
   ]
  },
  {
   "cell_type": "code",
   "execution_count": null,
   "id": "b76c3771",
   "metadata": {},
   "outputs": [],
   "source": [
    "print(classification_report(y_test, y_pred_dt))\n",
    "print(classification_report(y_test, y_pred_rf))\n",
    "print(classification_report(y_test, y_pred_svm))\n",
    "print(classification_report(y_test, y_pred_sgd))\n",
    "print(classification_report(y_test, y_pred_lr))"
   ]
  }
 ],
 "metadata": {
  "kernelspec": {
   "display_name": "Python 3 (ipykernel)",
   "language": "python",
   "name": "python3"
  },
  "language_info": {
   "codemirror_mode": {
    "name": "ipython",
    "version": 3
   },
   "file_extension": ".py",
   "mimetype": "text/x-python",
   "name": "python",
   "nbconvert_exporter": "python",
   "pygments_lexer": "ipython3",
   "version": "3.9.7"
  }
 },
 "nbformat": 4,
 "nbformat_minor": 5
}
