{
 "cells": [
  {
   "cell_type": "markdown",
   "id": "0a8211f6",
   "metadata": {},
   "source": [
    "## 13.4. Pillow를 활용한 데이터 전처리"
   ]
  },
  {
   "cell_type": "code",
   "execution_count": 1,
   "id": "10636bc1",
   "metadata": {},
   "outputs": [
    {
     "name": "stdout",
     "output_type": "stream",
     "text": [
      "<class 'dict'>\n"
     ]
    }
   ],
   "source": [
    "import os\n",
    "import pickle\n",
    "from PIL import Image\n",
    "\n",
    "dir_path = os.getenv('HOME')+'/aiffel/python_image_proc/data/cifar-100-python'\n",
    "train_file_path = os.path.join(dir_path, 'train')\n",
    "\n",
    "with open(train_file_path, 'rb') as f:\n",
    "    train = pickle.load(f, encoding='bytes')\n",
    "\n",
    "print(type(train))\n",
    "#print(train)   # 혹시 내용이 궁금하다면 주석을 풀고 실행해 보세요.\n"
   ]
  },
  {
   "cell_type": "markdown",
   "id": "ba01bb54",
   "metadata": {},
   "source": [
    "## 13.7. 실습 : 비슷한 이미지 찾아내기"
   ]
  },
  {
   "cell_type": "code",
   "execution_count": 2,
   "id": "155c0e3b",
   "metadata": {},
   "outputs": [],
   "source": [
    "import os\n",
    "import pickle\n",
    "import cv2\n",
    "import numpy as np\n",
    "from matplotlib import pyplot as plt\n",
    "from tqdm import tqdm\n",
    "from PIL import Image\n",
    "\n",
    "# 전처리 시 생성했던 디렉토리 구조\n",
    "dir_path = os.getenv('HOME')+'/aiffel/python_image_proc/'\n",
    "train_file_path = os.path.join(dir_path, 'train')\n",
    "images_dir_path = os.path.join(dir_path, 'cifar-images')"
   ]
  },
  {
   "cell_type": "code",
   "execution_count": 3,
   "id": "67760e47",
   "metadata": {},
   "outputs": [],
   "source": [
    "# 파일명을 인자로 받아 해당 이미지 파일과 히스토그램을 출력해 주는 함수\n",
    "def draw_color_histogram_from_image(file_name):\n",
    "    image_path = os.path.join(images_dir_path, file_name)\n",
    "    # 이미지 열기\n",
    "    img = Image.open(image_path)\n",
    "    cv_image = cv2.imread(image_path)\n",
    "\n",
    "    # Image와 Histogram 그려보기\n",
    "    f=plt.figure(figsize=(10,3))\n",
    "    im1 = f.add_subplot(1,2,1)\n",
    "    im1.imshow(img)\n",
    "    im1.set_title(\"Image\")\n",
    "\n",
    "    im2 = f.add_subplot(1,2,2)\n",
    "    color = ('b','g','r')\n",
    "    for i,col in enumerate(color):\n",
    "        # image에서 i번째 채널의 히스토그램을 뽑아서(0:blue, 1:green, 2:red)\n",
    "        histr = cv2.calcHist([cv_image],[i],None,[256],[0,256])   \n",
    "        im2.plot(histr,color = col)   # 그래프를 그릴 때 채널 색상과 맞춰서 그립니다.\n",
    "    im2.set_title(\"Histogram\")"
   ]
  },
  {
   "cell_type": "code",
   "execution_count": 6,
   "id": "ae12d7ff",
   "metadata": {},
   "outputs": [
    {
     "data": {
      "image/png": "[encoded data removed]",
      "text/plain": [
       "<Figure size 720x216 with 2 Axes>"
      ]
     },
     "metadata": {
      "needs_background": "light"
     },
     "output_type": "display_data"
    }
   ],
   "source": [
    "draw_color_histogram_from_image('adriatic_s_001807.png')"
   ]
  },
  {
   "cell_type": "code",
   "execution_count": 7,
   "id": "9e4a970b",
   "metadata": {},
   "outputs": [],
   "source": [
    "def get_histogram(image):\n",
    "    histogram = []\n",
    "\n",
    "    # Create histograms per channels, in 4 bins each.\n",
    "    for i in range(3):\n",
    "        channel_histogram = cv2.calcHist(images=[image],\n",
    "                                         channels=[i],\n",
    "                                         mask=None,\n",
    "                                         histSize=[4],  # 히스토그램 구간을 4개로 한다.\n",
    "                                         ranges=[0, 256])\n",
    "        histogram.append(channel_histogram)  \n",
    "\n",
    "    histogram = np.concatenate(histogram)\n",
    "    histogram = cv2.normalize(histogram, histogram)\n",
    "\n",
    "    return histogram\n"
   ]
  },
  {
   "cell_type": "code",
   "execution_count": 8,
   "id": "b3fe3162",
   "metadata": {},
   "outputs": [
    {
     "data": {
      "text/plain": [
       "array([[0.3126804 ],\n",
       "       [0.4080744 ],\n",
       "       [0.14521089],\n",
       "       [0.21940625],\n",
       "       [0.18654831],\n",
       "       [0.23742512],\n",
       "       [0.30208108],\n",
       "       [0.35931748],\n",
       "       [0.06465594],\n",
       "       [0.35825753],\n",
       "       [0.36991683],\n",
       "       [0.29254165]], dtype=float32)"
      ]
     },
     "execution_count": 8,
     "metadata": {},
     "output_type": "execute_result"
    }
   ],
   "source": [
    "# get_histogram() 확인용 코드\n",
    "filename = train[b'filenames'][0].decode()\n",
    "file_path = os.path.join(images_dir_path, filename)\n",
    "image = cv2.imread(file_path)\n",
    "histogram = get_histogram(image)\n",
    "histogram"
   ]
  },
  {
   "cell_type": "code",
   "execution_count": 9,
   "id": "7919a3eb",
   "metadata": {},
   "outputs": [],
   "source": [
    "def build_histogram_db():\n",
    "    histogram_db = {}\n",
    "\n",
    "    #디렉토리에 모아 둔 이미지 파일들을 전부 리스트업합니다. \n",
    "    path = images_dir_path\n",
    "    file_list = os.listdir(images_dir_path)\n",
    "\n",
    "    for file_name in tqdm(file_list):\n",
    "        file_path = os.path.join(images_dir_path, file_name)\n",
    "        image = cv2.imread(file_path)\n",
    "\n",
    "        histogram = get_histogram(image)\n",
    "\n",
    "        histogram_db[file_name] = histogram\n",
    "\n",
    "    return histogram_db"
   ]
  },
  {
   "cell_type": "code",
   "execution_count": 10,
   "id": "95977373",
   "metadata": {
    "scrolled": true
   },
   "outputs": [
    {
     "name": "stderr",
     "output_type": "stream",
     "text": [
      "100%|██████████| 49999/49999 [00:07<00:00, 6638.13it/s]\n"
     ]
    },
    {
     "data": {
      "text/plain": [
       "array([[0.        ],\n",
       "       [0.        ],\n",
       "       [0.29744893],\n",
       "       [0.5828624 ],\n",
       "       [0.        ],\n",
       "       [0.17107612],\n",
       "       [0.41608465],\n",
       "       [0.29315054],\n",
       "       [0.        ],\n",
       "       [0.34301192],\n",
       "       [0.37224102],\n",
       "       [0.16505837]], dtype=float32)"
      ]
     },
     "execution_count": 10,
     "metadata": {},
     "output_type": "execute_result"
    }
   ],
   "source": [
    "histogram_db = build_histogram_db()\n",
    "histogram_db['adriatic_s_001807.png']"
   ]
  },
  {
   "cell_type": "code",
   "execution_count": 11,
   "id": "afedadf3",
   "metadata": {},
   "outputs": [],
   "source": [
    "def get_target_histogram():\n",
    "    filename = input(\"이미지 파일명을 입력하세요: \")\n",
    "    if filename not in histogram_db:\n",
    "        print('유효하지 않은 이미지 파일명입니다.')\n",
    "        return None\n",
    "    return histogram_db[filename]"
   ]
  },
  {
   "cell_type": "code",
   "execution_count": 12,
   "id": "bf789a9a",
   "metadata": {},
   "outputs": [
    {
     "name": "stdout",
     "output_type": "stream",
     "text": [
      "이미지 파일명을 입력하세요: adriatic_s_001807.png\n"
     ]
    },
    {
     "data": {
      "text/plain": [
       "array([[0.        ],\n",
       "       [0.        ],\n",
       "       [0.29744893],\n",
       "       [0.5828624 ],\n",
       "       [0.        ],\n",
       "       [0.17107612],\n",
       "       [0.41608465],\n",
       "       [0.29315054],\n",
       "       [0.        ],\n",
       "       [0.34301192],\n",
       "       [0.37224102],\n",
       "       [0.16505837]], dtype=float32)"
      ]
     },
     "execution_count": 12,
     "metadata": {},
     "output_type": "execute_result"
    }
   ],
   "source": [
    "target_histogram = get_target_histogram()\n",
    "target_histogram"
   ]
  },
  {
   "cell_type": "code",
   "execution_count": 13,
   "id": "66d53bcd",
   "metadata": {},
   "outputs": [],
   "source": [
    "def search(histogram_db, target_histogram, top_k=5):\n",
    "    results = {}\n",
    "\n",
    "    # Calculate similarity distance by comparing histograms.\n",
    "    for file_name, histogram in tqdm(histogram_db.items()):\n",
    "        distance = cv2.compareHist(H1=target_histogram,\n",
    "                                   H2=histogram,\n",
    "                                   method=cv2.HISTCMP_CHISQR)\n",
    "\n",
    "        results[file_name] = distance\n",
    "\n",
    "    results = dict(sorted(results.items(), key=lambda item: item[1])[:top_k])\n",
    "\n",
    "    return results\n"
   ]
  },
  {
   "cell_type": "code",
   "execution_count": 14,
   "id": "17e68920",
   "metadata": {},
   "outputs": [
    {
     "name": "stderr",
     "output_type": "stream",
     "text": [
      "100%|██████████| 49999/49999 [00:00<00:00, 408192.63it/s]\n"
     ]
    },
    {
     "data": {
      "text/plain": [
       "{'adriatic_s_001807.png': 0.0,\n",
       " 'baby_s_001654.png': 0.047506706444185816,\n",
       " 'fogbank_s_000423.png': 0.059270738493642845,\n",
       " 'tank_s_000442.png': 0.060966690827361725,\n",
       " 'dessert_plate_s_000124.png': 0.06113711905561663}"
      ]
     },
     "execution_count": 14,
     "metadata": {},
     "output_type": "execute_result"
    }
   ],
   "source": [
    "result = search(histogram_db, target_histogram)\n",
    "result"
   ]
  },
  {
   "cell_type": "code",
   "execution_count": 15,
   "id": "7c4c59dc",
   "metadata": {},
   "outputs": [],
   "source": [
    "def show_result(result):\n",
    "    f=plt.figure(figsize=(10,3))\n",
    "    for idx, filename in enumerate(result.keys()):    \n",
    "        img_path = os.path.join(images_dir_path, filename)\n",
    "        im = f.add_subplot(1,len(result),idx+1)\n",
    "        img = Image.open(img_path)\n",
    "        im.imshow(img)"
   ]
  },
  {
   "cell_type": "code",
   "execution_count": 16,
   "id": "00a99249",
   "metadata": {
    "scrolled": true
   },
   "outputs": [
    {
     "data": {
      "image/png": "[encoded data removed]",
      "text/plain": [
       "<Figure size 720x216 with 5 Axes>"
      ]
     },
     "metadata": {
      "needs_background": "light"
     },
     "output_type": "display_data"
    }
   ],
   "source": [
    "show_result(result)"
   ]
  },
  {
   "cell_type": "code",
   "execution_count": null,
   "id": "afc55cb4",
   "metadata": {},
   "outputs": [],
   "source": [
    "target_histogram = get_target_histogram()\n",
    "result = search(histogram_db, target_histogram)\n",
    "show_result(result)"
   ]
  }
 ],
 "metadata": {
  "kernelspec": {
   "display_name": "Python 3 (ipykernel)",
   "language": "python",
   "name": "python3"
  },
  "language_info": {
   "codemirror_mode": {
    "name": "ipython",
    "version": 3
   },
   "file_extension": ".py",
   "mimetype": "text/x-python",
   "name": "python",
   "nbconvert_exporter": "python",
   "pygments_lexer": "ipython3",
   "version": "3.9.7"
  }
 },
 "nbformat": 4,
 "nbformat_minor": 5
}
