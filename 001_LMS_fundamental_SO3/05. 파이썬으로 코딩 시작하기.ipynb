{
 "cells": [
  {
   "cell_type": "markdown",
   "id": "37eb594b",
   "metadata": {},
   "source": [
    "# 아이펠 2주차 월요일(0829)"
   ]
  },
  {
   "cell_type": "markdown",
   "id": "682055e0",
   "metadata": {},
   "source": [
    "이번 내용은 한번씩 읽고 실습까지 하였으나, 따로 정리할 필요를 느끼지 못했다.\n",
    "따라서, 아래와 같이 그냥 table of contents만 필사해보았다."
   ]
  },
  {
   "cell_type": "markdown",
   "id": "caf8da2b",
   "metadata": {},
   "source": [
    "## 5. 파이썬으로 코딩 시작하기"
   ]
  },
  {
   "cell_type": "markdown",
   "id": "09968c92",
   "metadata": {},
   "source": [
    "### 5.1. 파이썬으로 코딩 시작하기"
   ]
  },
  {
   "cell_type": "markdown",
   "id": "ef1b2143",
   "metadata": {},
   "source": [
    "### 5.2. 함수와 변수 (1) 함수 불러보기"
   ]
  },
  {
   "cell_type": "markdown",
   "id": "33ed05e5",
   "metadata": {},
   "source": [
    "### 5.3. 함수와 변수 (2) 변수 사용하기"
   ]
  },
  {
   "cell_type": "markdown",
   "id": "98fb5d06",
   "metadata": {},
   "source": [
    "### 5.4. 함수와 변수 (3) 새로운 함수를 정의하기"
   ]
  },
  {
   "cell_type": "markdown",
   "id": "8fe35717",
   "metadata": {},
   "source": [
    "### 5.5. 함수와 변수 (4) 스코프 : 변수의 유효 범위"
   ]
  },
  {
   "cell_type": "markdown",
   "id": "7bf40d26",
   "metadata": {},
   "source": [
    "### 5.6. 함수와 변수 (5) 함수에 인자 전달하기"
   ]
  },
  {
   "cell_type": "markdown",
   "id": "6f626cd6",
   "metadata": {},
   "source": [
    "### 5.7. 함수와 변수 (6) 함수에 인자 여러 개 한꺼번에 전달하기"
   ]
  },
  {
   "cell_type": "markdown",
   "id": "35269f0a",
   "metadata": {},
   "source": [
    "### 5.8. 함수와 변수 (7) 함수의 결과로 값을 반환하기"
   ]
  },
  {
   "cell_type": "markdown",
   "id": "b347f9c5",
   "metadata": {},
   "source": [
    "### 5.9. 제어문"
   ]
  },
  {
   "cell_type": "markdown",
   "id": "99293a8d",
   "metadata": {},
   "source": [
    "### 5.10. 제어문 (1) `if` : 진실 혹은 거짓"
   ]
  },
  {
   "cell_type": "markdown",
   "id": "c0561ae1",
   "metadata": {},
   "source": [
    "### 5.11. 제어문 (2) `while` : 조건이 참인 동안 반복"
   ]
  },
  {
   "cell_type": "markdown",
   "id": "ff632244",
   "metadata": {},
   "source": [
    "### 5.12. 제어문 (3) `for` : 하나씩 반복"
   ]
  },
  {
   "cell_type": "markdown",
   "id": "6017343e",
   "metadata": {},
   "source": [
    "### 5.13. 자료형"
   ]
  },
  {
   "cell_type": "markdown",
   "id": "bd182c12",
   "metadata": {},
   "source": [
    "### 5.14. 자료형 (1) 정수_integer, `int`"
   ]
  },
  {
   "cell_type": "markdown",
   "id": "a78af931",
   "metadata": {},
   "source": [
    "### 5.15. 자료형 (2) 부동소수점 수_floating-point number, `float`"
   ]
  },
  {
   "cell_type": "markdown",
   "id": "6c430b38",
   "metadata": {},
   "source": [
    "### 5.16. 자료형 (3) `NoneType`"
   ]
  },
  {
   "cell_type": "markdown",
   "id": "305e8b1e",
   "metadata": {},
   "source": [
    "### 5.17. 자료형 (4) 불리언_boolean, `bool`"
   ]
  },
  {
   "cell_type": "markdown",
   "id": "21d9d72a",
   "metadata": {},
   "source": [
    "### 5.18. 자료형 (5) 문자열_string, `str`"
   ]
  },
  {
   "cell_type": "markdown",
   "id": "fa6bd2f8",
   "metadata": {},
   "source": [
    "### 5.19. 자료형 (6) 튜플과 리스트_`tuple`, `list`"
   ]
  },
  {
   "cell_type": "markdown",
   "id": "6ebe45a4",
   "metadata": {},
   "source": [
    "### 5.20. 자료형 (7) 딕셔너리_dictionary, `dict`"
   ]
  },
  {
   "cell_type": "markdown",
   "id": "fb567950",
   "metadata": {},
   "source": [
    "### 5.21. 마무리하기"
   ]
  },
  {
   "cell_type": "markdown",
   "id": "c85b4833",
   "metadata": {},
   "source": [
    "### 5.22. 재귀함수와 치킨 (심화)"
   ]
  },
  {
   "cell_type": "markdown",
   "id": "df4f6e51",
   "metadata": {},
   "source": [
    "### 5.23. fibonacci (심화)"
   ]
  },
  {
   "cell_type": "markdown",
   "id": "a7546592",
   "metadata": {},
   "source": [
    "### 5.24. 더 빠르게! (심화)"
   ]
  }
 ],
 "metadata": {
  "kernelspec": {
   "display_name": "Python 3 (ipykernel)",
   "language": "python",
   "name": "python3"
  },
  "language_info": {
   "codemirror_mode": {
    "name": "ipython",
    "version": 3
   },
   "file_extension": ".py",
   "mimetype": "text/x-python",
   "name": "python",
   "nbconvert_exporter": "python",
   "pygments_lexer": "ipython3",
   "version": "3.9.7"
  }
 },
 "nbformat": 4,
 "nbformat_minor": 5
}
