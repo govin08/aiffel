{
 "cells": [
  {
   "cell_type": "markdown",
   "id": "7f5383f6",
   "metadata": {},
   "source": [
    "## 13.6. OpenCV (2) OpenCV 톱아보기"
   ]
  },
  {
   "cell_type": "code",
   "execution_count": 1,
   "id": "ad92bcc6",
   "metadata": {},
   "outputs": [],
   "source": [
    "import os\n",
    "import cv2 as cv\n",
    "import numpy as np\n",
    "from  matplotlib import pyplot as plt\n",
    "%matplotlib inline"
   ]
  },
  {
   "cell_type": "code",
   "execution_count": 5,
   "id": "a33d7ee0",
   "metadata": {},
   "outputs": [],
   "source": [
    "img = cv.imread('13/data/cv_practice.png')"
   ]
  },
  {
   "cell_type": "code",
   "execution_count": 6,
   "id": "7741eef2",
   "metadata": {},
   "outputs": [
    {
     "name": "stdout",
     "output_type": "stream",
     "text": [
      "[[[192 122  75]\n",
      "  [192 122  75]\n",
      "  [192 122  75]\n",
      "  ...\n",
      "  [218 194 176]\n",
      "  [221 195 178]\n",
      "  [222 196 179]]\n",
      "\n",
      " [[192 122  75]\n",
      "  [192 122  75]\n",
      "  [192 122  75]\n",
      "  ...\n",
      "  [217 193 175]\n",
      "  [219 193 176]\n",
      "  [220 194 177]]\n",
      "\n",
      " [[192 122  75]\n",
      "  [192 122  75]\n",
      "  [192 122  75]\n",
      "  ...\n",
      "  [217 191 174]\n",
      "  [217 191 174]\n",
      "  [218 192 175]]\n",
      "\n",
      " ...\n",
      "\n",
      " [[  0 112 123]\n",
      "  [  0 115 126]\n",
      "  [  7 131 139]\n",
      "  ...\n",
      "  [  1 113 125]\n",
      "  [  3 113 125]\n",
      "  [ 10 118 129]]\n",
      "\n",
      " [[  0  96 107]\n",
      "  [  0 118 129]\n",
      "  [ 37 158 167]\n",
      "  ...\n",
      "  [  6 121 132]\n",
      "  [  2 117 127]\n",
      "  [  0 115 122]]\n",
      "\n",
      " [[  3 121 132]\n",
      "  [  1 119 130]\n",
      "  [ 15 136 145]\n",
      "  ...\n",
      "  [ 21 138 147]\n",
      "  [ 16 133 142]\n",
      "  [  8 125 132]]]\n"
     ]
    }
   ],
   "source": [
    "print(img)"
   ]
  },
  {
   "cell_type": "code",
   "execution_count": null,
   "id": "9f642f3b",
   "metadata": {},
   "outputs": [],
   "source": []
  }
 ],
 "metadata": {
  "kernelspec": {
   "display_name": "Python 3 (ipykernel)",
   "language": "python",
   "name": "python3"
  },
  "language_info": {
   "codemirror_mode": {
    "name": "ipython",
    "version": 3
   },
   "file_extension": ".py",
   "mimetype": "text/x-python",
   "name": "python",
   "nbconvert_exporter": "python",
   "pygments_lexer": "ipython3",
   "version": "3.9.7"
  }
 },
 "nbformat": 4,
 "nbformat_minor": 5
}
