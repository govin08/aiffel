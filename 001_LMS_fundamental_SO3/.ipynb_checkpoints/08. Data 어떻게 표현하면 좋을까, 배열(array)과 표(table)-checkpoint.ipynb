{
 "cells": [
  {
   "cell_type": "markdown",
   "id": "c4414d63",
   "metadata": {},
   "source": [
    "# 아이펠 2주차 목요일(0901)"
   ]
  },
  {
   "cell_type": "markdown",
   "id": "80c587e9",
   "metadata": {},
   "source": [
    "# 8. Data 어떻게 표현하면 좋을까? 배열(array)과 표(table)"
   ]
  },
  {
   "cell_type": "markdown",
   "id": "8c63f199",
   "metadata": {},
   "source": [
    "## 8.1. 들어가며"
   ]
  },
  {
   "cell_type": "markdown",
   "id": "67713207",
   "metadata": {},
   "source": [
    "Key words\n",
    " - `list`, `np`\n",
    " - `dict`, `pd`\n",
    " - 중앙값, 산포도 계산"
   ]
  },
  {
   "cell_type": "markdown",
   "id": "247c6da6",
   "metadata": {},
   "source": [
    "\n",
    "## 8.2. list (1) 평균 계산하기"
   ]
  },
  {
   "cell_type": "markdown",
   "id": "0b53662d",
   "metadata": {},
   "source": [
    "## 평균 계산하기"
   ]
  },
  {
   "cell_type": "code",
   "execution_count": 3,
   "id": "8a661182",
   "metadata": {},
   "outputs": [
    {
     "name": "stdout",
     "output_type": "stream",
     "text": [
      "Enter a number :  (<Enter Key> to quit)3\n",
      "Enter a number :  (<Enter Key> to quit)4\n",
      "Enter a number :  (<Enter Key> to quit)5\n",
      "Enter a number :  (<Enter Key> to quit)\n",
      "\n",
      " average is 4.0\n"
     ]
    }
   ],
   "source": [
    "total = 0\n",
    "count = 0\n",
    "numbers = input(\"Enter a number :  (<Enter Key> to quit)\")\n",
    "while numbers != \"\":\n",
    "    try:\n",
    "        x = float(numbers)\n",
    "        count += 1\n",
    "        total = total + x\n",
    "    except ValueError:\n",
    "        print('NOT a number! Ignored..')\n",
    "    numbers = input(\"Enter a number :  (<Enter Key> to quit)\")\n",
    "avg = total / count\n",
    "print(\"\\n average is\", avg)"
   ]
  },
  {
   "cell_type": "markdown",
   "id": "dcc9aa56",
   "metadata": {},
   "source": [
    "- 합의 기호 $\\sum$에 대한 설명"
   ]
  },
  {
   "cell_type": "markdown",
   "id": "3fa654d4",
   "metadata": {},
   "source": [
    "## 8.3. list (2) 배열을 활용한 평균/표준편차/중앙값"
   ]
  },
  {
   "cell_type": "markdown",
   "id": "9f57147b",
   "metadata": {},
   "source": [
    "### 1) 배열의 의미"
   ]
  },
  {
   "cell_type": "markdown",
   "id": "a6337b0f",
   "metadata": {},
   "source": [
    "### 2) 사용자가 입력한 숫자들을 배열로 만들기"
   ]
  },
  {
   "cell_type": "code",
   "execution_count": 8,
   "id": "0d347bab",
   "metadata": {},
   "outputs": [
    {
     "name": "stdout",
     "output_type": "stream",
     "text": [
      "Enter a number (<Enter key> to quit)3\n",
      "Enter a number (<Enter key> to quit)5\n",
      "Enter a number (<Enter key> to quit)\n",
      "X : [3.0, 5.0]\n"
     ]
    }
   ],
   "source": [
    "### 2개 이상의 숫자를 입력받아 리스트에 저장하는 함수\n",
    "def numbers():\n",
    "    X=[]    # X에 빈 리스트를 할당합니다.\n",
    "    while True:\n",
    "        number = input(\"Enter a number (<Enter key> to quit)\") \n",
    "        while number !=\"\":\n",
    "            try:\n",
    "                x = float(number)\n",
    "                X.append(x)    # float형으로 변환한 숫자 입력을 리스트에 추가합니다.\n",
    "            except ValueError:\n",
    "                print('>>> NOT a number! Ignored..')\n",
    "            number = input(\"Enter a number (<Enter key> to quit)\")\n",
    "        if len(X) > 1:  # 저장된 숫자가 2개 이상일 때만 리턴합니다.\n",
    "            return X\n",
    "\n",
    "X=numbers()\n",
    "\n",
    "print('X :', X)"
   ]
  },
  {
   "cell_type": "markdown",
   "id": "d1e1a9f8",
   "metadata": {},
   "source": [
    " - `list`는 다른 언어(e.g. C언어)의 배열과 달리, 그리고 같은 파이썬의 `tuple`과는 달리, 요소들을 넣었다가 뺐다가 할 수 있다.\n",
    " - 그런 의미에서 파이썬 리스트를 **동적 배열(Dynamic Array)**이라고 부른다."
   ]
  },
  {
   "cell_type": "code",
   "execution_count": 9,
   "id": "ce8a6185",
   "metadata": {},
   "outputs": [
    {
     "name": "stdout",
     "output_type": "stream",
     "text": [
      "<class 'list'>\n",
      "[1, 2, 3, '4']\n",
      "[1, 5, 2, 3, '4']\n",
      "<class 'array.array'>\n",
      "array('i', [1, 2, 3])\n",
      "array('i', [1, 5, 2, 3])\n"
     ]
    }
   ],
   "source": [
    "import array as arr\n",
    "\n",
    "mylist = [1, 2, 3]   # 이것은 파이썬 built-in list입니다. \n",
    "print(type(mylist))\n",
    "\n",
    "mylist.append('4')  # mylist의 끝에 character '4'를 추가합니다. \n",
    "print(mylist)\n",
    "\n",
    "mylist.insert(1, 5)  # mylist의 두번째 자리에 5를 끼워넣습니다.\n",
    "print(mylist)\n",
    "\n",
    "myarray = arr.array('i', [1, 2, 3])   # 이것은 array입니다. import array를 해야 쓸 수 있습니다.\n",
    "print(type(myarray))\n",
    "\n",
    "# 아래 라인의 주석을 풀고 실행하면 에러가 납니다.\n",
    "#myarray.append('4')    # myarray의 끝에 character '4'를 추가합니다. \n",
    "print(myarray)\n",
    "\n",
    "myarray.insert(1, 5)    # myarray의 두번째 자리에 5를 끼워넣습니다.\n",
    "print(myarray)"
   ]
  },
  {
   "cell_type": "code",
   "execution_count": 10,
   "id": "1a66ae07",
   "metadata": {},
   "outputs": [
    {
     "name": "stdout",
     "output_type": "stream",
     "text": [
      "[1, 2, 3] <class 'list'>\n",
      "[1, 2, 3, '4'] <class 'list'>\n",
      "[1, 5, 2, 3, '4'] <class 'list'>\n",
      "array('i', [1, 2, 3]) <class 'array.array'>\n",
      "array('i', [1, 5, 2, 3]) <class 'array.array'>\n"
     ]
    }
   ],
   "source": [
    "A = [1, 2, 3]\n",
    "print(A, type(A))\n",
    "A.append('4')\n",
    "print(A, type(A))\n",
    "A.insert(1,5)\n",
    "print(A, type(A))\n",
    "\n",
    "B = arr.array('i',[1, 2, 3])\n",
    "print(B, type(B))\n",
    "B.insert(1,5)\n",
    "print(B, type(B))"
   ]
  },
  {
   "cell_type": "markdown",
   "id": "226fb347",
   "metadata": {},
   "source": [
    "||`list`|`array`|\n",
    "|:-:|:-:|:-:|\n",
    "|built-in|O|X|\n",
    "|`append()` 사용|가능|불가능|\n",
    "|`insert()` 사용|가능|불가능|\n",
    "|요소들의 datatype|달라도 상관없다.|같아야 한다.|"
   ]
  },
  {
   "cell_type": "markdown",
   "id": "fd325c04",
   "metadata": {},
   "source": [
    "### 3) 리스트를 활용한 시그마의 표현"
   ]
  },
  {
   "cell_type": "code",
   "execution_count": 11,
   "id": "19706eb6",
   "metadata": {},
   "outputs": [
    {
     "name": "stdout",
     "output_type": "stream",
     "text": [
      "sum of X:  8.0\n"
     ]
    }
   ],
   "source": [
    "total = 0.0\n",
    "for i in range(len(X)):\n",
    "    total = total + X[i]\n",
    "mean = total / len(X)\n",
    "\n",
    "print('sum of X: ', total)"
   ]
  },
  {
   "cell_type": "markdown",
   "id": "a32e2209",
   "metadata": {},
   "source": [
    "### 4) 중앙값"
   ]
  },
  {
   "cell_type": "code",
   "execution_count": 13,
   "id": "12a7d797",
   "metadata": {},
   "outputs": [],
   "source": [
    "X = [1, 2, 5, 5, 6]"
   ]
  },
  {
   "cell_type": "code",
   "execution_count": 14,
   "id": "95b90093",
   "metadata": {},
   "outputs": [
    {
     "name": "stdout",
     "output_type": "stream",
     "text": [
      "X : [1, 2, 5, 5, 6]\n"
     ]
    },
    {
     "data": {
      "text/plain": [
       "5"
      ]
     },
     "execution_count": 14,
     "metadata": {},
     "output_type": "execute_result"
    }
   ],
   "source": [
    "def median(nums):  \t\t# nums : 리스트를 지정하는 매개변수\n",
    "    nums.sort()\t\t\t\t\t# sort()로 리스트를 순서대로 정렬\n",
    "    size = len(nums)\n",
    "    p = size // 2\n",
    "    if size % 2 == 0:\t\t   # 리스트의 개수가 짝수일때 \n",
    "        pr = p                         # 4번째 값\n",
    "        pl = p-1                      # 3번째 값\n",
    "        mid= float((nums[pl]+nums[pr])/2)    \n",
    "    else:\t\t\t\t\t\t\t\t# 리스트의 개수가 홀수일때\n",
    "        mid = nums[p]\n",
    "    return mid\n",
    "\n",
    "print('X :', X)\n",
    "median(X)\t\t\t\t\t\t# 매개변수의 값으로 X를 사용함"
   ]
  },
  {
   "cell_type": "markdown",
   "id": "862d5224",
   "metadata": {},
   "source": [
    "### 5) 표준편차와 평균"
   ]
  },
  {
   "cell_type": "code",
   "execution_count": 17,
   "id": "876463e4",
   "metadata": {},
   "outputs": [],
   "source": [
    "X = [1,2,3,4,5]"
   ]
  },
  {
   "cell_type": "code",
   "execution_count": 18,
   "id": "bdf21513",
   "metadata": {},
   "outputs": [
    {
     "data": {
      "text/plain": [
       "3.0"
      ]
     },
     "execution_count": 18,
     "metadata": {},
     "output_type": "execute_result"
    }
   ],
   "source": [
    "def means(nums):\n",
    "    total = 0.0\n",
    "    for i in range(len(nums)):\n",
    "        total = total + nums[i]\n",
    "    return total / len(nums)\n",
    "\n",
    "means(X)"
   ]
  },
  {
   "cell_type": "code",
   "execution_count": 19,
   "id": "1e0f8b31",
   "metadata": {},
   "outputs": [
    {
     "data": {
      "text/plain": [
       "1.4142135623730951"
      ]
     },
     "execution_count": 19,
     "metadata": {},
     "output_type": "execute_result"
    }
   ],
   "source": [
    "avg = means(X)\n",
    "\n",
    "def std_dev(nums, avg):\n",
    "   texp = 0.0\n",
    "   for i in range(len(nums)):\n",
    "       texp = texp + (nums[i] - avg)**2    # 각 숫자와 평균값의 차이의 제곱을 계속 더한 후\n",
    "   return (texp/len(nums)) ** 0.5    # 그 총합을 숫자개수로 나눈 값의 제곱근을 리턴합니다.\n",
    "\n",
    "std_dev(X,avg)"
   ]
  },
  {
   "cell_type": "markdown",
   "id": "08bf809e",
   "metadata": {},
   "source": [
    "`X = [1,2,3,4,5]`이면\n",
    "평균은 3이고 분산은 2이고 표준편차는 $\\sqrt2$이다."
   ]
  },
  {
   "cell_type": "markdown",
   "id": "7ec053b8",
   "metadata": {},
   "source": [
    "### 6) 전체 코드 : `main()` 함수"
   ]
  },
  {
   "cell_type": "code",
   "execution_count": 20,
   "id": "314fa494",
   "metadata": {},
   "outputs": [
    {
     "name": "stdout",
     "output_type": "stream",
     "text": [
      "당신이 입력한 숫자[1, 2, 3, 4, 5]의 \n",
      "중앙값은3, 평균은3.0, 표준편차는1.4142135623730951입니다.\n"
     ]
    }
   ],
   "source": [
    "med = median(X)\n",
    "avg = means(X)\n",
    "std = std_dev(X, avg)\n",
    "print(\"당신이 입력한 숫자{}의 \".format(X))\n",
    "print(\"중앙값은{}, 평균은{}, 표준편차는{}입니다.\".format(med, avg, std))"
   ]
  },
  {
   "cell_type": "code",
   "execution_count": 25,
   "id": "691e798e",
   "metadata": {
    "scrolled": true
   },
   "outputs": [
    {
     "name": "stdout",
     "output_type": "stream",
     "text": [
      "Enter a number (<Enter key> to quit)1\n",
      "Enter a number (<Enter key> to quit)2\n",
      "Enter a number (<Enter key> to quit)3\n",
      "Enter a number (<Enter key> to quit)4\n",
      "Enter a number (<Enter key> to quit)5\n",
      "Enter a number (<Enter key> to quit)\n",
      "당신이 입력한 숫자[1.0, 2.0, 3.0, 4.0, 5.0]의 \n",
      "중앙값은3.0, 평균은3.0, 표준편차는1.4142135623730951입니다.\n"
     ]
    }
   ],
   "source": [
    "def numbers():\n",
    "    X=[]\n",
    "    while True:\n",
    "        number = input(\"Enter a number (<Enter key> to quit)\") \n",
    "        while number !=\"\":\n",
    "            try:\n",
    "                x = float(number)\n",
    "                X.append(x)\n",
    "            except ValueError:\n",
    "                print('>>> NOT a number! Ignored..')\n",
    "            number = input(\"Enter a number (<Enter key> to quit)\")\n",
    "        if len(X) > 1:\n",
    "            return X\n",
    "\n",
    "def median(nums): \n",
    "    nums.sort()\n",
    "    size = len(nums)\n",
    "    p = size // 2\n",
    "    if size % 2 == 0:\n",
    "        pr = p\n",
    "        pl = p-1\n",
    "        mid = float((nums[pl]+nums[pr])/2)\n",
    "    else:\n",
    "        mid = nums[p]\n",
    "    return mid\n",
    "\n",
    "def means(nums):\n",
    "    total = 0.0\n",
    "    for i in range(len(nums)):\n",
    "        total = total + nums[i]\n",
    "    return total / len(nums)\n",
    "\n",
    "def std_dev(nums, avg):\n",
    "   texp = 0.0\n",
    "   for i in range(len(nums)):\n",
    "       texp = texp + (nums[i] - avg) ** 2\n",
    "   return (texp/len(nums)) ** 0.5\n",
    "\n",
    "def main():\n",
    "    X = numbers()\n",
    "    med = median(X)\n",
    "    avg = means(X)\n",
    "    std = std_dev(X, avg)\n",
    "    print(\"당신이 입력한 숫자{}의 \".format(X))\n",
    "    print(\"중앙값은{}, 평균은{}, 표준편차는{}입니다.\".format(med, avg, std))\n",
    "\n",
    "if __name__ == '__main__':\n",
    "    main()"
   ]
  },
  {
   "cell_type": "markdown",
   "id": "a24b969d",
   "metadata": {},
   "source": [
    "`__name__ == '__main__:'`\n",
    "<font color = red>의 의미를 잘 모르겠다. 이따가 토의할 것</font>"
   ]
  },
  {
   "cell_type": "markdown",
   "id": "e20d2057",
   "metadata": {},
   "source": [
    "## 8.4. Numpy (1) Numpy 소개"
   ]
  },
  {
   "cell_type": "markdown",
   "id": "8fe8eefc",
   "metadata": {},
   "source": [
    "- 'numerical python'의 약자\n",
    "- conda 환경\n",
    "     - 설치 : `pip install numpy` / `conda install numpy`\n",
    "     - 조회 : `conda list | grep numpy`\n",
    " - 현재 리눅스 환경에서의 조회법\n",
    " - np의 장점\n",
    "   - `ndarray` : 벡터의 산술 연산, 브로드캐스팅 연산\n",
    "   - 다양한 표준 수학 함수\n",
    "   - 배열 데이터를 디스크에 쓰거나 읽을 수 있다. (파일로 저장하고 열람할 수 있다.)\n",
    "   - 선형대수, 난수발생기, 푸리에 변환 등 지원"
   ]
  },
  {
   "cell_type": "markdown",
   "id": "355fc14d",
   "metadata": {},
   "source": [
    "## 8.5. Numpy (2) Numpy의 주요 기능"
   ]
  },
  {
   "cell_type": "markdown",
   "id": "7eb9a35b",
   "metadata": {},
   "source": [
    "### 1) `ndarray` 만들기"
   ]
  },
  {
   "cell_type": "code",
   "execution_count": 26,
   "id": "4fd4ab98",
   "metadata": {},
   "outputs": [
    {
     "name": "stdout",
     "output_type": "stream",
     "text": [
      "[0 1 2 3 4]\n",
      "<class 'numpy.ndarray'>\n",
      "--------------------------\n",
      "[0 1 2 3 4]\n",
      "<class 'numpy.ndarray'>\n",
      "--------------------------\n",
      "['0' '1' '2' '3' '4']\n",
      "<class 'numpy.ndarray'>\n",
      "--------------------------\n",
      "[0 1 2 3 4]\n",
      "<class 'numpy.ndarray'>\n"
     ]
    }
   ],
   "source": [
    "import numpy as np\n",
    "\n",
    "# 아래 A와 B는 결과적으로 같은 ndarray 객체를 생성합니다. \n",
    "A = np.arange(5)\n",
    "B = np.array([0,1,2,3,4])  # 파이썬 리스트를 numpy ndarray로 변환\n",
    "\n",
    "# 하지만 C는 좀 다를 것입니다. \n",
    "C = np.array([0,1,2,3,'4'])\n",
    "\n",
    "# D도 A, B와 같은 결과를 내겠지만, B의 방법을 권합니다. \n",
    "D = np.ndarray((5,), np.int64, np.array([0,1,2,3,4]))\n",
    "\n",
    "print(A)\n",
    "print(type(A))\n",
    "print(\"--------------------------\")\n",
    "print(B)\n",
    "print(type(B))\n",
    "print(\"--------------------------\")\n",
    "print(C)\n",
    "print(type(C))\n",
    "print(\"--------------------------\")\n",
    "print(D)\n",
    "print(type(D))"
   ]
  },
  {
   "cell_type": "code",
   "execution_count": 29,
   "id": "8473c893",
   "metadata": {},
   "outputs": [
    {
     "name": "stdout",
     "output_type": "stream",
     "text": [
      "[1 2 3 4]\n"
     ]
    }
   ],
   "source": [
    "import numpy as np\n",
    "A1 = np.arange(1,5)\n",
    "print(A1)"
   ]
  },
  {
   "cell_type": "markdown",
   "id": "7ca1c117",
   "metadata": {},
   "source": [
    " - C에서 보듯, 모든 element의 type이 동일해야 한다.\n",
    " - 문자열은 숫자로 바꿀 수 없지만, 숫자는 문자열로 바꿀 수 있으니, 문자열로 통합한다."
   ]
  },
  {
   "cell_type": "markdown",
   "id": "f4f2bb69",
   "metadata": {},
   "source": [
    "### 2) 크기 (`size`, `shape`, `ndim`)"
   ]
  },
  {
   "cell_type": "markdown",
   "id": "638da507",
   "metadata": {},
   "source": [
    " - *ndarray*.size\n",
    " - *ndarray*.shape\n",
    " - *ndarray*.ndim : tensor의 rank를 출력한다.\n",
    " - reshape(*ndarray*)"
   ]
  },
  {
   "cell_type": "code",
   "execution_count": 30,
   "id": "04e6daf9",
   "metadata": {},
   "outputs": [
    {
     "name": "stdout",
     "output_type": "stream",
     "text": [
      "행렬의 모양: (2, 5)\n",
      "행렬의 축 개수: 2\n",
      "행렬 내 원소의 개수: 10\n"
     ]
    }
   ],
   "source": [
    "A = np.arange(10).reshape(2, 5)   # 길이 10의 1차원 행렬을 2X5 2차원 행렬로 바꿔봅니다.\n",
    "\n",
    "print(\"행렬의 모양:\", A.shape)\n",
    "print(\"행렬의 축 개수:\", A.ndim)\n",
    "print(\"행렬 내 원소의 개수:\", A.size)"
   ]
  },
  {
   "cell_type": "code",
   "execution_count": 32,
   "id": "55837be2",
   "metadata": {},
   "outputs": [
    {
     "name": "stdout",
     "output_type": "stream",
     "text": [
      "A:  [0 1 2 3 4 5 6 7 8 9]\n",
      "B:  [[0 1 2 3 4]\n",
      " [5 6 7 8 9]]\n",
      "C:  ['0' '1' '2' '3' '4']\n"
     ]
    }
   ],
   "source": [
    "A = np.arange(10)\n",
    "print('A: ', A)\n",
    "B = np.arange(10).reshape(2,5)\n",
    "print('B: ', B)\n",
    "#C = np.arange(10).reshape(3,3)  # 이 줄에서 에러가 날 것입니다.\n",
    "print('C: ', C)"
   ]
  },
  {
   "cell_type": "markdown",
   "id": "f83dbcc5",
   "metadata": {},
   "source": [
    "이렇게 해도 된다. (-1)"
   ]
  },
  {
   "cell_type": "code",
   "execution_count": 42,
   "id": "30a039cf",
   "metadata": {
    "scrolled": true
   },
   "outputs": [
    {
     "name": "stdout",
     "output_type": "stream",
     "text": [
      "B:  [[0 1 2 3 4]\n",
      " [5 6 7 8 9]]\n"
     ]
    }
   ],
   "source": [
    "B = np.arange(10).reshape(2,-1)\n",
    "print('B: ',B)"
   ]
  },
  {
   "cell_type": "markdown",
   "id": "83d3d6ef",
   "metadata": {},
   "source": [
    "### 3) `type()`, *ndarray*`.dtype`"
   ]
  },
  {
   "cell_type": "markdown",
   "id": "bfd4541c",
   "metadata": {},
   "source": [
    " - `type()` : 파이썬의 내장 함수\n",
    " - dtype : np의 _method_$*$\n",
    " \n",
    "$*$\n",
    "`dtype`처럼 *ndarray*`.dtype`이라고 쓰는 걸 파이썬 코딩도장에서는 method라고 불렀다.\n",
    "(물론 거기선 뒤에 소괄호가 있는 형태를 일컬었다.)\n",
    "그런데 method는 클래스에서 아용하는 이름이 아니던가? 정확한 명칭을 모르겠지만, 다른 대안이 없으니 일단 method라고 쓰자."
   ]
  },
  {
   "cell_type": "code",
   "execution_count": 45,
   "id": "96620fb1",
   "metadata": {},
   "outputs": [
    {
     "name": "stdout",
     "output_type": "stream",
     "text": [
      "[[0 1 2]\n",
      " [3 4 5]]\n",
      "int64\n",
      "<class 'numpy.ndarray'>\n",
      "-------------------------\n",
      "[0 1 2 3 4 5]\n",
      "int64\n",
      "<class 'numpy.ndarray'>\n",
      "-------------------------\n",
      "['0' '1' '2' '3' '4' '5']\n",
      "<U21\n",
      "<class 'numpy.ndarray'>\n",
      "-------------------------\n",
      "[0 1 2 3 list([4, 5]) 6]\n",
      "object\n",
      "<class 'numpy.ndarray'>\n"
     ]
    },
    {
     "name": "stderr",
     "output_type": "stream",
     "text": [
      "/tmp/ipykernel_31/130055213.py:19: VisibleDeprecationWarning: Creating an ndarray from ragged nested sequences (which is a list-or-tuple of lists-or-tuples-or ndarrays with different lengths or shapes) is deprecated. If you meant to do this, you must specify 'dtype=object' when creating the ndarray.\n",
      "  D = np.array([0, 1, 2, 3, [4, 5], 6])  # 이런 ndarray도 만들어질까요?\n"
     ]
    }
   ],
   "source": [
    "A= np.arange(6).reshape(2, 3)\n",
    "print(A)\n",
    "print(A.dtype)\n",
    "print(type(A))\n",
    "print(\"-------------------------\")\n",
    "\n",
    "B = np.array([0, 1, 2, 3, 4, 5])  \n",
    "print(B)\n",
    "print(B.dtype)\n",
    "print(type(B))\n",
    "print(\"-------------------------\")\n",
    "\n",
    "C = np.array([0, 1, 2, 3, '4', 5])\n",
    "print(C)\n",
    "print(C.dtype)\n",
    "print(type(C))\n",
    "print(\"-------------------------\")\n",
    "\n",
    "D = np.array([0, 1, 2, 3, [4, 5], 6])  # 이런 ndarray도 만들어질까요?\n",
    "print(D)\n",
    "print(D.dtype)\n",
    "print(type(D))"
   ]
  },
  {
   "cell_type": "code",
   "execution_count": 46,
   "id": "4efef484",
   "metadata": {},
   "outputs": [
    {
     "name": "stdout",
     "output_type": "stream",
     "text": [
      "[0 1 2 3 list([4, 5]) 6]\n",
      "object\n",
      "<class 'numpy.ndarray'>\n"
     ]
    }
   ],
   "source": [
    "D = np.array([0, 1, 2, 3, [4, 5], 6], dtype=object)  # warning 메시지를 보고 이렇게 바꿔봅니다.\n",
    "print(D)\n",
    "print(D.dtype)\n",
    "print(type(D))"
   ]
  },
  {
   "cell_type": "markdown",
   "id": "e43cdce9",
   "metadata": {},
   "source": [
    " - `C`, `D` 에서 np의 원소는 꼭 동일한 datatype이어야 하지만 에러가 나지 않고 `ndarray`가 만들어진다.\n",
    " - `D`의 type을 출력해보면 object로 나온다.\n",
    " - `C`의 type인 '<U21'가 뭘 말하는지는 잘 모르겠다"
   ]
  },
  {
   "cell_type": "code",
   "execution_count": 47,
   "id": "39baedc6",
   "metadata": {},
   "outputs": [
    {
     "name": "stdout",
     "output_type": "stream",
     "text": [
      "0\n",
      "<class 'numpy.str_'>\n",
      "4\n",
      "<class 'numpy.str_'>\n",
      "------------------------------\n",
      "0\n",
      "<class 'int'>\n",
      "[4, 5]\n",
      "<class 'list'>\n"
     ]
    }
   ],
   "source": [
    "C = np.array([0,1,2,3,'4',5])\n",
    "print(C[0])\n",
    "print(type(C[0]))\n",
    "print(C[4])\n",
    "print(type(C[4]))\n",
    "print(\"------------------------------\")\n",
    "\n",
    "D = np.array([0,1,2,3,[4,5],6], dtype=object)\n",
    "print(D[0])\n",
    "print(type(D[0]))\n",
    "print(D[4])\n",
    "print(type(D[4]))"
   ]
  },
  {
   "attachments": {
    "image.png": {
     "image/png": "[encoded data removed]"
    }
   },
   "cell_type": "markdown",
   "id": "a6f40974",
   "metadata": {},
   "source": [
    "![image.png](attachment:image.png)\n",
    "\n",
    "(자세히 읽지는 않았다.)"
   ]
  },
  {
   "cell_type": "markdown",
   "id": "c2c33eb3",
   "metadata": {},
   "source": [
    "###  4) 특수행렬"
   ]
  },
  {
   "cell_type": "code",
   "execution_count": 49,
   "id": "a8d51f4e",
   "metadata": {},
   "outputs": [
    {
     "name": "stdout",
     "output_type": "stream",
     "text": [
      "[[1. 0. 0.]\n",
      " [0. 1. 0.]\n",
      " [0. 0. 1.]]\n",
      "[[0. 0. 0.]\n",
      " [0. 0. 0.]]\n",
      "[[1. 1. 1.]\n",
      " [1. 1. 1.]\n",
      " [1. 1. 1.]]\n"
     ]
    }
   ],
   "source": [
    "# 단위행렬\n",
    "A = np.eye(3)\n",
    "\n",
    "# 0 행렬\n",
    "B = np.zeros([2,3])\n",
    "\n",
    "# 1행렬\n",
    "C = np.ones([3,3])\n",
    "\n",
    "print(A)\n",
    "print(B)\n",
    "print(C)"
   ]
  },
  {
   "cell_type": "markdown",
   "id": "d4331a2c",
   "metadata": {},
   "source": [
    "###  5) 브로드캐스트"
   ]
  },
  {
   "cell_type": "code",
   "execution_count": 50,
   "id": "b3045c56",
   "metadata": {},
   "outputs": [
    {
     "data": {
      "text/plain": [
       "array([[0, 1, 2],\n",
       "       [3, 4, 5],\n",
       "       [6, 7, 8]])"
      ]
     },
     "execution_count": 50,
     "metadata": {},
     "output_type": "execute_result"
    }
   ],
   "source": [
    "A = np.arange(9).reshape(3,3)\n",
    "A"
   ]
  },
  {
   "cell_type": "code",
   "execution_count": 51,
   "id": "a70ebc3c",
   "metadata": {},
   "outputs": [
    {
     "data": {
      "text/plain": [
       "array([[ 0,  2,  4],\n",
       "       [ 6,  8, 10],\n",
       "       [12, 14, 16]])"
      ]
     },
     "execution_count": 51,
     "metadata": {},
     "output_type": "execute_result"
    }
   ],
   "source": [
    "# ndarray A에 2를 상수배 했을 때,\n",
    "A * 2"
   ]
  },
  {
   "cell_type": "code",
   "execution_count": 52,
   "id": "6689fcbe",
   "metadata": {},
   "outputs": [
    {
     "data": {
      "text/plain": [
       "array([[ 2,  3,  4],\n",
       "       [ 5,  6,  7],\n",
       "       [ 8,  9, 10]])"
      ]
     },
     "execution_count": 52,
     "metadata": {},
     "output_type": "execute_result"
    }
   ],
   "source": [
    "# ndarray A에 2를 더했을 때,\n",
    "A + 2"
   ]
  },
  {
   "cell_type": "code",
   "execution_count": 53,
   "id": "37536dfb",
   "metadata": {},
   "outputs": [
    {
     "name": "stdout",
     "output_type": "stream",
     "text": [
      "A: [[0 1 2]\n",
      " [3 4 5]\n",
      " [6 7 8]]\n",
      "B: [1 2 3]\n",
      "\n",
      "A+B: [[ 1  3  5]\n",
      " [ 4  6  8]\n",
      " [ 7  9 11]]\n"
     ]
    }
   ],
   "source": [
    "# 3 X 3 행렬에 1 X 3 행렬을 더했을 때\n",
    "A = np.arange(9).reshape(3,3)\n",
    "B = np.array([1, 2, 3])\n",
    "print(\"A:\", A)\n",
    "print(\"B:\", B)\n",
    "print(\"\\nA+B:\", A+B)"
   ]
  },
  {
   "cell_type": "code",
   "execution_count": 54,
   "id": "a4984f3d",
   "metadata": {},
   "outputs": [
    {
     "name": "stdout",
     "output_type": "stream",
     "text": [
      "A: [[0 1 2]\n",
      " [3 4 5]\n",
      " [6 7 8]]\n",
      "C: [[1]\n",
      " [2]\n",
      " [3]]\n",
      "\n",
      "A+C: [[ 1  2  3]\n",
      " [ 5  6  7]\n",
      " [ 9 10 11]]\n"
     ]
    }
   ],
   "source": [
    "# 3 X 3 행렬에 3 X 1 행렬을 더했을 때\n",
    "A = np.arange(9).reshape(3,3)\n",
    "C = np.array([[1], [2], [3]])\n",
    "print(\"A:\", A)\n",
    "print(\"C:\", C)\n",
    "print(\"\\nA+C:\", A+C)"
   ]
  },
  {
   "cell_type": "code",
   "execution_count": 55,
   "id": "6dd87d72",
   "metadata": {},
   "outputs": [
    {
     "name": "stdout",
     "output_type": "stream",
     "text": [
      "A: [[0 1 2]\n",
      " [3 4 5]\n",
      " [6 7 8]]\n",
      "D: [1 2]\n"
     ]
    },
    {
     "ename": "ValueError",
     "evalue": "operands could not be broadcast together with shapes (3,3) (2,) ",
     "output_type": "error",
     "traceback": [
      "\u001b[0;31m---------------------------------------------------------------------------\u001b[0m",
      "\u001b[0;31mValueError\u001b[0m                                Traceback (most recent call last)",
      "\u001b[0;32m/tmp/ipykernel_31/3358075234.py\u001b[0m in \u001b[0;36m<module>\u001b[0;34m\u001b[0m\n\u001b[1;32m      4\u001b[0m \u001b[0mprint\u001b[0m\u001b[0;34m(\u001b[0m\u001b[0;34m\"A:\"\u001b[0m\u001b[0;34m,\u001b[0m \u001b[0mA\u001b[0m\u001b[0;34m)\u001b[0m\u001b[0;34m\u001b[0m\u001b[0;34m\u001b[0m\u001b[0m\n\u001b[1;32m      5\u001b[0m \u001b[0mprint\u001b[0m\u001b[0;34m(\u001b[0m\u001b[0;34m\"D:\"\u001b[0m\u001b[0;34m,\u001b[0m \u001b[0mD\u001b[0m\u001b[0;34m)\u001b[0m\u001b[0;34m\u001b[0m\u001b[0;34m\u001b[0m\u001b[0m\n\u001b[0;32m----> 6\u001b[0;31m \u001b[0mprint\u001b[0m\u001b[0;34m(\u001b[0m\u001b[0;34m\"\\nA+D:\"\u001b[0m\u001b[0;34m,\u001b[0m \u001b[0mA\u001b[0m\u001b[0;34m+\u001b[0m\u001b[0mD\u001b[0m\u001b[0;34m)\u001b[0m\u001b[0;34m\u001b[0m\u001b[0;34m\u001b[0m\u001b[0m\n\u001b[0m",
      "\u001b[0;31mValueError\u001b[0m: operands could not be broadcast together with shapes (3,3) (2,) "
     ]
    }
   ],
   "source": [
    "# 3 X 3 행렬에 1 X 2 행렬을 더하는 것은 허용되지 않습니다. \n",
    "A = np.arange(9).reshape(3,3)\n",
    "D = np.array([1, 2])\n",
    "print(\"A:\", A)\n",
    "print(\"D:\", D)\n",
    "print(\"\\nA+D:\", A+D)"
   ]
  },
  {
   "cell_type": "code",
   "execution_count": 60,
   "id": "c5b49ee8",
   "metadata": {},
   "outputs": [
    {
     "name": "stdout",
     "output_type": "stream",
     "text": [
      "[1, 2, 3, 4]\n",
      "[1, 2, 3]\n"
     ]
    },
    {
     "ename": "TypeError",
     "evalue": "can only concatenate list (not \"int\") to list",
     "output_type": "error",
     "traceback": [
      "\u001b[0;31m---------------------------------------------------------------------------\u001b[0m",
      "\u001b[0;31mTypeError\u001b[0m                                 Traceback (most recent call last)",
      "\u001b[0;32m/tmp/ipykernel_31/661174725.py\u001b[0m in \u001b[0;36m<module>\u001b[0;34m\u001b[0m\n\u001b[1;32m      1\u001b[0m \u001b[0mprint\u001b[0m\u001b[0;34m(\u001b[0m\u001b[0;34m[\u001b[0m\u001b[0;36m1\u001b[0m\u001b[0;34m,\u001b[0m\u001b[0;36m2\u001b[0m\u001b[0;34m]\u001b[0m\u001b[0;34m+\u001b[0m\u001b[0;34m[\u001b[0m\u001b[0;36m3\u001b[0m\u001b[0;34m,\u001b[0m\u001b[0;36m4\u001b[0m\u001b[0;34m]\u001b[0m\u001b[0;34m)\u001b[0m\u001b[0;34m\u001b[0m\u001b[0;34m\u001b[0m\u001b[0m\n\u001b[1;32m      2\u001b[0m \u001b[0mprint\u001b[0m\u001b[0;34m(\u001b[0m\u001b[0;34m[\u001b[0m\u001b[0;36m1\u001b[0m\u001b[0;34m,\u001b[0m\u001b[0;36m2\u001b[0m\u001b[0;34m]\u001b[0m\u001b[0;34m+\u001b[0m\u001b[0;34m[\u001b[0m\u001b[0;36m3\u001b[0m\u001b[0;34m]\u001b[0m\u001b[0;34m)\u001b[0m\u001b[0;34m\u001b[0m\u001b[0;34m\u001b[0m\u001b[0m\n\u001b[0;32m----> 3\u001b[0;31m \u001b[0mprint\u001b[0m\u001b[0;34m(\u001b[0m\u001b[0;34m[\u001b[0m\u001b[0;36m1\u001b[0m\u001b[0;34m,\u001b[0m\u001b[0;36m2\u001b[0m\u001b[0;34m]\u001b[0m\u001b[0;34m+\u001b[0m\u001b[0;36m3\u001b[0m\u001b[0;34m)\u001b[0m \u001b[0;31m# TypeError: can only concatenate list (not \"int\") to list\u001b[0m\u001b[0;34m\u001b[0m\u001b[0;34m\u001b[0m\u001b[0m\n\u001b[0m",
      "\u001b[0;31mTypeError\u001b[0m: can only concatenate list (not \"int\") to list"
     ]
    }
   ],
   "source": [
    "print([1,2]+[3,4])\n",
    "print([1,2]+[3])\n",
    "print([1,2]+3) # TypeError: can only concatenate list (not \"int\") to list"
   ]
  },
  {
   "cell_type": "code",
   "execution_count": 57,
   "id": "a8aab044",
   "metadata": {},
   "outputs": [
    {
     "name": "stdout",
     "output_type": "stream",
     "text": [
      "[4 6]\n",
      "[4 5]\n"
     ]
    }
   ],
   "source": [
    "print(np.array([1,2])+np.array([3,4]))\n",
    "print(np.array([1,2])+3)"
   ]
  },
  {
   "cell_type": "markdown",
   "id": "53029746",
   "metadata": {},
   "source": [
    "### 6) 슬라이스와 인덱싱"
   ]
  },
  {
   "cell_type": "code",
   "execution_count": 61,
   "id": "31aaf110",
   "metadata": {},
   "outputs": [
    {
     "name": "stdout",
     "output_type": "stream",
     "text": [
      "A: [[0 1 2]\n",
      " [3 4 5]\n",
      " [6 7 8]]\n",
      "B: [0 1 2]\n"
     ]
    }
   ],
   "source": [
    "# 3 X 3 행렬의 첫번째 행을 구해 봅시다. \n",
    "A = np.arange(9).reshape(3,3)\n",
    "print(\"A:\", A)\n",
    "B = A[0]\n",
    "print(\"B:\", B)"
   ]
  },
  {
   "cell_type": "code",
   "execution_count": 62,
   "id": "c48f1b47",
   "metadata": {},
   "outputs": [
    {
     "name": "stdout",
     "output_type": "stream",
     "text": [
      "1\n",
      "1\n"
     ]
    }
   ],
   "source": [
    "# 0, 1을 인덱싱 하면 A의 첫번째 행에서 두번째 값을 참조합니다.\n",
    "# 아래 두 결과는 정확히 같습니다.\n",
    "print(A[0, 1])\n",
    "print(B[1])"
   ]
  },
  {
   "cell_type": "code",
   "execution_count": 63,
   "id": "1cabf5de",
   "metadata": {},
   "outputs": [
    {
     "data": {
      "text/plain": [
       "array([[0, 1, 2],\n",
       "       [3, 4, 5]])"
      ]
     },
     "execution_count": 63,
     "metadata": {},
     "output_type": "execute_result"
    }
   ],
   "source": [
    "# 슬라이싱도 비슷합니다.\n",
    "A[:-1]"
   ]
  },
  {
   "cell_type": "code",
   "execution_count": 64,
   "id": "dbae1fb4",
   "metadata": {},
   "outputs": [
    {
     "name": "stdout",
     "output_type": "stream",
     "text": [
      "[[2]\n",
      " [5]\n",
      " [8]]\n",
      "--------------\n",
      "[[1 2]\n",
      " [4 5]\n",
      " [7 8]]\n",
      "--------------\n",
      "[[0 1 2]\n",
      " [3 4 5]\n",
      " [6 7 8]]\n",
      "--------------\n",
      "[[2]\n",
      " [5]\n",
      " [8]]\n",
      "--------------\n",
      "[[1 2]\n",
      " [4 5]\n",
      " [7 8]]\n",
      "--------------\n",
      "[[0 1 2]\n",
      " [3 4 5]\n",
      " [6 7 8]]\n"
     ]
    }
   ],
   "source": [
    "# 이 슬라이싱의 결과는 \n",
    "print(A[:,2:])\n",
    "print(\"--------------\")\n",
    "print(A[:,1:])\n",
    "print(\"--------------\")\n",
    "print(A[:,:])\n",
    "print(\"--------------\")\n",
    "# 이 슬라이싱의 결과와 동일합니다.\n",
    "print(A[:,-1:])\n",
    "print(\"--------------\")\n",
    "print(A[:,-2:])\n",
    "print(\"--------------\")\n",
    "print(A[:,-3:])\n",
    "\n",
    "# 위 그림과 비교해서 이해해 보세요."
   ]
  },
  {
   "cell_type": "code",
   "execution_count": 65,
   "id": "52792910",
   "metadata": {},
   "outputs": [
    {
     "name": "stdout",
     "output_type": "stream",
     "text": [
      "[3 4]\n",
      "[[1 2]\n",
      " [4 5]]\n",
      "[2 5 8]\n"
     ]
    }
   ],
   "source": [
    "print(A[1,:2])\n",
    "print(A[:2,1:])\n",
    "print(A[:,-1])"
   ]
  },
  {
   "cell_type": "markdown",
   "id": "06820908",
   "metadata": {},
   "source": [
    "### 7) random"
   ]
  },
  {
   "cell_type": "code",
   "execution_count": 66,
   "id": "6c42fe12",
   "metadata": {},
   "outputs": [
    {
     "name": "stdout",
     "output_type": "stream",
     "text": [
      "0.48512711061344815\n",
      "2\n",
      "1\n"
     ]
    }
   ],
   "source": [
    "# 의사 난수를 생성하는 예제입니다. 여러번 실행해 보세요.\n",
    "\n",
    "print(np.random.random())   # 0에서 1사이의 실수형 난수 하나를 생성합니다. \n",
    "\n",
    "print(np.random.randint(0,10))   # 0~9 사이 1개 정수형 난수 하나를 생성합니다. \n",
    "\n",
    "print(np.random.choice([0,1,2,3,4,5,6,7,8,9]))   # 리스트에 주어진 값 중 하나를 랜덤하게 골라줍니다."
   ]
  },
  {
   "cell_type": "code",
   "execution_count": 67,
   "id": "b45a9eff",
   "metadata": {},
   "outputs": [
    {
     "name": "stdout",
     "output_type": "stream",
     "text": [
      "[6 5 9 0 8 3 1 2 7 4]\n",
      "[3 1 2 6 9 4 7 0 8 5]\n"
     ]
    }
   ],
   "source": [
    "# 무작위로 섞인 배열을 만들어 줍니다. \n",
    "# 아래 2가지는 기능면에서 동일합니다. \n",
    "\n",
    "print(np.random.permutation(10))   \n",
    "print(np.random.permutation([0,1,2,3,4,5,6,7,8,9]))"
   ]
  },
  {
   "cell_type": "code",
   "execution_count": 70,
   "id": "fb003a1a",
   "metadata": {},
   "outputs": [
    {
     "name": "stdout",
     "output_type": "stream",
     "text": [
      "[ 0.42187599 -0.06984678  0.43725442 -0.80856794  1.49820186]\n",
      "[ 0.549397    0.04092107 -0.82501452  0.12997677 -0.72628553]\n"
     ]
    }
   ],
   "source": [
    "# 아래 기능들은 어떤 분포를 따르는 변수를 임의로 표본추출해 줍니다. \n",
    "\n",
    "# 이것은 정규분포를 따릅니다.\n",
    "print(np.random.normal(loc=0, scale=1, size=5))    # 평균(loc), 표준편차(scale), 추출개수(size)를 조절해 보세요.\n",
    "\n",
    "# 이것은 균등분포를 따릅니다. \n",
    "print(np.random.uniform(low=-1, high=1, size=5))  # 최소(low), 최대(high), 추출개수(size)를 조절해 보세요."
   ]
  },
  {
   "cell_type": "markdown",
   "id": "042e23fc",
   "metadata": {},
   "source": [
    "### 8) 전치행렬"
   ]
  },
  {
   "cell_type": "code",
   "execution_count": 71,
   "id": "fbf73683",
   "metadata": {
    "scrolled": true
   },
   "outputs": [
    {
     "name": "stdout",
     "output_type": "stream",
     "text": [
      "A: [[[ 0  1  2  3]\n",
      "  [ 4  5  6  7]\n",
      "  [ 8  9 10 11]]\n",
      "\n",
      " [[12 13 14 15]\n",
      "  [16 17 18 19]\n",
      "  [20 21 22 23]]]\n",
      "A의 전치행렬: [[[ 0 12]\n",
      "  [ 4 16]\n",
      "  [ 8 20]]\n",
      "\n",
      " [[ 1 13]\n",
      "  [ 5 17]\n",
      "  [ 9 21]]\n",
      "\n",
      " [[ 2 14]\n",
      "  [ 6 18]\n",
      "  [10 22]]\n",
      "\n",
      " [[ 3 15]\n",
      "  [ 7 19]\n",
      "  [11 23]]]\n",
      "A의 전치행렬의 shape: (4, 3, 2)\n"
     ]
    }
   ],
   "source": [
    "A = np.arange(24).reshape(2,3,4)\n",
    "print(\"A:\", A)               # A는 (2,3,4)의 shape를 가진 행렬입니다. \n",
    "print(\"A의 전치행렬:\", A.T)            \n",
    "print(\"A의 전치행렬의 shape:\", A.T.shape) # A의 전치행렬은 (4,3,2)의 shape를 가진 행렬입니다."
   ]
  },
  {
   "cell_type": "code",
   "execution_count": 72,
   "id": "abea5e98",
   "metadata": {},
   "outputs": [
    {
     "name": "stdout",
     "output_type": "stream",
     "text": [
      "A: [[[ 0  1  2  3]\n",
      "  [ 4  5  6  7]\n",
      "  [ 8  9 10 11]]\n",
      "\n",
      " [[12 13 14 15]\n",
      "  [16 17 18 19]\n",
      "  [20 21 22 23]]]\n",
      "B: [[[ 0  4  8]\n",
      "  [12 16 20]]\n",
      "\n",
      " [[ 1  5  9]\n",
      "  [13 17 21]]\n",
      "\n",
      " [[ 2  6 10]\n",
      "  [14 18 22]]\n",
      "\n",
      " [[ 3  7 11]\n",
      "  [15 19 23]]]\n",
      "B.shape: (4, 2, 3)\n"
     ]
    }
   ],
   "source": [
    "# np.transpose는 행렬의 축을 어떻게 변환해 줄지 임의로 지정해 줄 수 있는 일반적인 행렬 전치 함수입니다. \n",
    "# np.transpose(A, (2,1,0)) 은 A.T와 정확히 같습니다.\n",
    "\n",
    "B = np.transpose(A, (2,0,1))\n",
    "print(\"A:\", A)             # A는 (2,3,4)의 shape를 가진 행렬입니다. \n",
    "print(\"B:\", B)             # B는 A의 3, 1, 2번째 축을 자신의 1, 2, 3번째 축으로 가진 행렬입니다.\n",
    "print(\"B.shape:\", B.shape)  # B는 (4,2,3)의 shape를 가진 행렬입니다."
   ]
  },
  {
   "cell_type": "code",
   "execution_count": 73,
   "id": "38dec66c",
   "metadata": {},
   "outputs": [
    {
     "name": "stdout",
     "output_type": "stream",
     "text": [
      "A: [[[ 0  1  2  3]\n",
      "  [ 4  5  6  7]\n",
      "  [ 8  9 10 11]]\n",
      "\n",
      " [[12 13 14 15]\n",
      "  [16 17 18 19]\n",
      "  [20 21 22 23]]]\n",
      "B: [[[ 0  4  8]\n",
      "  [12 16 20]]\n",
      "\n",
      " [[ 1  5  9]\n",
      "  [13 17 21]]\n",
      "\n",
      " [[ 2  6 10]\n",
      "  [14 18 22]]\n",
      "\n",
      " [[ 3  7 11]\n",
      "  [15 19 23]]]\n",
      "B.shape: (4, 2, 3)\n"
     ]
    }
   ],
   "source": [
    "# np.transpose는 행렬의 축을 어떻게 변환해 줄지 임의로 지정해 줄 수 있는 일반적인 행렬 전치 함수입니다. \n",
    "# np.transpose(A, (2,1,0)) 은 A.T와 정확히 같습니다.\n",
    "\n",
    "B = np.transpose(A, (2,0,1))\n",
    "print(\"A:\", A)             # A는 (2,3,4)의 shape를 가진 행렬입니다. \n",
    "print(\"B:\", B)             # B는 A의 3, 1, 2번째 축을 자신의 1, 2, 3번째 축으로 가진 행렬입니다.\n",
    "print(\"B.shape:\", B.shape)  # B는 (4,2,3)의 shape를 가진 행렬입니다."
   ]
  },
  {
   "cell_type": "markdown",
   "id": "d7269c14",
   "metadata": {},
   "source": [
    "## 8.6. Numpy (3) Numpy로 기본 통계 데이터 계산해보기"
   ]
  },
  {
   "cell_type": "code",
   "execution_count": 74,
   "id": "576f6f70",
   "metadata": {},
   "outputs": [
    {
     "name": "stdout",
     "output_type": "stream",
     "text": [
      "Enter a number (<Enter key> to quit)1\n",
      "Enter a number (<Enter key> to quit)2\n",
      "Enter a number (<Enter key> to quit)3\n",
      "Enter a number (<Enter key> to quit)4\n",
      "Enter a number (<Enter key> to quit)5\n",
      "Enter a number (<Enter key> to quit)\n",
      "합 15.0\n",
      "평균값 3.0\n",
      "표준편차 1.4142135623730951\n",
      "중앙값 3.0\n"
     ]
    }
   ],
   "source": [
    "import numpy as np\n",
    "\n",
    "def numbers():\n",
    "    X = []\n",
    "    number = input(\"Enter a number (<Enter key> to quit)\") \n",
    "    # 하지만 2개 이상의 숫자를 받아야 한다는 제약조건을 제외하였습니다.\n",
    "    while number != \"\":\n",
    "        try:\n",
    "            x = float(number)\n",
    "            X.append(x)\n",
    "        except ValueError:\n",
    "            print('>>> NOT a number! Ignored..')\n",
    "        number = input(\"Enter a number (<Enter key> to quit)\")\n",
    "    return X\n",
    "\n",
    "def main():\n",
    "    nums = numbers()       # 이것은 파이썬 리스트입니다. \n",
    "    num = np.array(nums)   # 리스트를 Numpy ndarray로 변환합니다.\n",
    "    print(\"합\", num.sum())\n",
    "    print(\"평균값\",num.mean())\n",
    "    print(\"표준편차\",num.std())\n",
    "    print(\"중앙값\",np.median(num))   # num.median() 이 아님에 유의해 주세요.\n",
    "\n",
    "main()"
   ]
  },
  {
   "cell_type": "code",
   "execution_count": 76,
   "id": "d7b6a8a3",
   "metadata": {},
   "outputs": [
    {
     "name": "stdout",
     "output_type": "stream",
     "text": [
      "<function numbers at 0x7fc96c6a9790>\n"
     ]
    }
   ],
   "source": [
    "print(numbers)"
   ]
  },
  {
   "cell_type": "code",
   "execution_count": 79,
   "id": "5c881b78",
   "metadata": {
    "scrolled": true
   },
   "outputs": [
    {
     "name": "stdout",
     "output_type": "stream",
     "text": [
      "Enter a number (<Enter key> to quit)1\n",
      "Enter a number (<Enter key> to quit)2\n",
      "Enter a number (<Enter key> to quit)3\n",
      "Enter a number (<Enter key> to quit)4\n",
      "Enter a number (<Enter key> to quit)5\n",
      "Enter a number (<Enter key> to quit)\n",
      "[1.0, 2.0, 3.0, 4.0, 5.0]\n"
     ]
    }
   ],
   "source": [
    "print(numbers())"
   ]
  },
  {
   "cell_type": "code",
   "execution_count": 47,
   "id": "7afd2425",
   "metadata": {},
   "outputs": [
    {
     "name": "stdout",
     "output_type": "stream",
     "text": [
      "0\n",
      "<class 'numpy.str_'>\n",
      "4\n",
      "<class 'numpy.str_'>\n",
      "------------------------------\n",
      "0\n",
      "<class 'int'>\n",
      "[4, 5]\n",
      "<class 'list'>\n"
     ]
    }
   ],
   "source": [
    "C = np.array([0,1,2,3,'4',5])\n",
    "print(C[0])\n",
    "print(type(C[0]))\n",
    "print(C[4])\n",
    "print(type(C[4]))\n",
    "print(\"------------------------------\")\n",
    "\n",
    "D = np.array([0,1,2,3,[4,5],6], dtype=object)\n",
    "print(D[0])\n",
    "print(type(D[0]))\n",
    "print(D[4])\n",
    "print(type(D[4]))"
   ]
  },
  {
   "cell_type": "markdown",
   "id": "1f13e5b1",
   "metadata": {},
   "source": [
    "## 8.7. 데이터의 행렬 변환 (1)"
   ]
  },
  {
   "cell_type": "markdown",
   "id": "a5f0655b",
   "metadata": {},
   "source": [
    "(생략)"
   ]
  },
  {
   "cell_type": "markdown",
   "id": "4d5df098",
   "metadata": {},
   "source": [
    "## 8.8. 데이터의 행렬 변환 (2) 이미지의 행렬 변환"
   ]
  },
  {
   "cell_type": "markdown",
   "id": "149836af",
   "metadata": {},
   "source": [
    "### 1) 픽셀과 이미지\n",
    "### 2) 이미지와 관련된 파이썬 라이브러리\n",
    " - matplitlib\n",
    " - PIL : pillow"
   ]
  },
  {
   "cell_type": "code",
   "execution_count": 80,
   "id": "b326b733",
   "metadata": {},
   "outputs": [
    {
     "name": "stdout",
     "output_type": "stream",
     "text": [
      "# matplotlib: 3.4.3\n",
      "# PIL:  8.3.2\n"
     ]
    }
   ],
   "source": [
    "import matplotlib as mpl\n",
    "import PIL\n",
    "\n",
    "print( f'# matplotlib: {mpl.__version__}' )  \n",
    "print(f'# PIL:  {PIL.__version__}')"
   ]
  },
  {
   "cell_type": "markdown",
   "id": "b4f3a59c",
   "metadata": {},
   "source": [
    "### 3) 간단한 이미지 조작\n",
    "\n"
   ]
  },
  {
   "cell_type": "markdown",
   "id": "a52fb0b6",
   "metadata": {},
   "source": [
    "#### 이미지 조작에 쓰이는 메서드\n",
    "#### 1. open\n",
    "#### 2. size\n",
    "#### 3. 이미지 자르기\n",
    "#### 4. 저장\n",
    "#### 5. 행렬로 변환\n",
    "#### 6. 흑백모드\n",
    "#### 7. get color\n"
   ]
  },
  {
   "cell_type": "markdown",
   "id": "7efdf77e",
   "metadata": {},
   "source": [
    "`# mkdir -p ~/aiffel/data_represent/image`\n",
    "\n",
    "`# ln -s ~/data/newyork.jpg ~/aiffel/data_represent/image`"
   ]
  },
  {
   "cell_type": "code",
   "execution_count": 83,
   "id": "434043ec",
   "metadata": {},
   "outputs": [
    {
     "name": "stdout",
     "output_type": "stream",
     "text": [
      "/aiffel/aiffel/data_represent/image/newyork.jpg\n",
      "<class 'PIL.JpegImagePlugin.JpegImageFile'>\n"
     ]
    },
    {
     "data": {
      "image/png": "[encoded data removed]",
      "text/plain": [
       "<PIL.JpegImagePlugin.JpegImageFile image mode=RGB size=212x300 at 0x7FC98432FF10>"
      ]
     },
     "execution_count": 83,
     "metadata": {},
     "output_type": "execute_result"
    }
   ],
   "source": [
    "from PIL import Image, ImageColor\n",
    "import os\n",
    "img_path = os.getenv(\"HOME\") + \"/aiffel/data_represent/image/newyork.jpg\"\n",
    "img = Image.open(img_path)\n",
    "print(img_path)\n",
    "print(type(img))\n",
    "img"
   ]
  },
  {
   "cell_type": "code",
   "execution_count": 84,
   "id": "8d58c2fe",
   "metadata": {},
   "outputs": [
    {
     "data": {
      "text/plain": [
       "(212, 300)"
      ]
     },
     "execution_count": 84,
     "metadata": {},
     "output_type": "execute_result"
    }
   ],
   "source": [
    "img.size"
   ]
  },
  {
   "cell_type": "code",
   "execution_count": 85,
   "id": "4f50e895",
   "metadata": {},
   "outputs": [],
   "source": [
    "W, H = img.size"
   ]
  },
  {
   "cell_type": "code",
   "execution_count": 86,
   "id": "96ac1f1f",
   "metadata": {
    "scrolled": false
   },
   "outputs": [
    {
     "name": "stdout",
     "output_type": "stream",
     "text": [
      "JPEG\n",
      "(212, 300)\n",
      "RGB\n"
     ]
    }
   ],
   "source": [
    "print(img.format)\n",
    "print(img.size)\n",
    "print(img.mode)"
   ]
  },
  {
   "cell_type": "code",
   "execution_count": 87,
   "id": "23bf9045",
   "metadata": {},
   "outputs": [
    {
     "data": {
      "image/png": "[encoded data removed]",
      "text/plain": [
       "<PIL.Image.Image image mode=RGB size=70x70 at 0x7FC96C693550>"
      ]
     },
     "execution_count": 87,
     "metadata": {},
     "output_type": "execute_result"
    }
   ],
   "source": [
    "img.crop((30,30,100,100))"
   ]
  },
  {
   "cell_type": "code",
   "execution_count": 88,
   "id": "72de4398",
   "metadata": {},
   "outputs": [
    {
     "name": "stdout",
     "output_type": "stream",
     "text": [
      "저장 완료!\n"
     ]
    }
   ],
   "source": [
    "# 새로운 이미지 파일명\n",
    "cropped_img_path = os.getenv(\"HOME\") + \"/aiffel/data_represent/image/cropped_img.jpg\"\n",
    "img.crop((30,30,100,100)).save(cropped_img_path)\n",
    "print(\"저장 완료!\")"
   ]
  },
  {
   "cell_type": "markdown",
   "id": "633f375e",
   "metadata": {},
   "source": [
    "`# !ls ~/aiffel/data_represent/image/cropped_img.jpg`"
   ]
  },
  {
   "cell_type": "code",
   "execution_count": 91,
   "id": "41bdb1ab",
   "metadata": {},
   "outputs": [
    {
     "name": "stdout",
     "output_type": "stream",
     "text": [
      "<class 'PIL.JpegImagePlugin.JpegImageFile'>\n",
      "<class 'numpy.ndarray'>\n",
      "(300, 212, 3)\n",
      "3\n"
     ]
    }
   ],
   "source": [
    "import numpy as np\n",
    "img_arr = np.array(img)\n",
    "print(type(img))\n",
    "print(type(img_arr))\n",
    "print(img_arr.shape)\n",
    "print(img_arr.ndim)"
   ]
  },
  {
   "cell_type": "code",
   "execution_count": 92,
   "id": "734d9b1a",
   "metadata": {
    "scrolled": true
   },
   "outputs": [
    {
     "name": "stdout",
     "output_type": "stream",
     "text": [
      "[[[133 180 250]\n",
      "  [133 180 250]\n",
      "  [133 180 250]\n",
      "  ...\n",
      "  [133 180 250]\n",
      "  [133 180 250]\n",
      "  [133 180 250]]\n",
      "\n",
      " [[133 180 250]\n",
      "  [133 180 250]\n",
      "  [133 180 250]\n",
      "  ...\n",
      "  [133 180 250]\n",
      "  [133 180 250]\n",
      "  [133 180 250]]\n",
      "\n",
      " [[133 180 250]\n",
      "  [133 180 250]\n",
      "  [133 180 250]\n",
      "  ...\n",
      "  [133 180 250]\n",
      "  [133 180 250]\n",
      "  [133 180 250]]\n",
      "\n",
      " ...\n",
      "\n",
      " [[164 199 255]\n",
      "  [164 199 255]\n",
      "  [164 199 255]\n",
      "  ...\n",
      "  [164 199 255]\n",
      "  [164 199 255]\n",
      "  [164 199 255]]\n",
      "\n",
      " [[164 199 255]\n",
      "  [164 199 255]\n",
      "  [164 199 255]\n",
      "  ...\n",
      "  [164 199 255]\n",
      "  [164 199 255]\n",
      "  [164 199 255]]\n",
      "\n",
      " [[164 199 255]\n",
      "  [164 199 255]\n",
      "  [164 199 255]\n",
      "  ...\n",
      "  [164 199 255]\n",
      "  [164 199 255]\n",
      "  [164 199 255]]]\n"
     ]
    }
   ],
   "source": [
    "print(img_arr)"
   ]
  },
  {
   "cell_type": "code",
   "execution_count": 93,
   "id": "9a319361",
   "metadata": {},
   "outputs": [
    {
     "data": {
      "image/png": "[encoded data removed]",
      "text/plain": [
       "<PIL.Image.Image image mode=L size=212x300 at 0x7FC9637D6FD0>"
      ]
     },
     "execution_count": 93,
     "metadata": {},
     "output_type": "execute_result"
    }
   ],
   "source": [
    "img_g = Image.open(img_path).convert('L')\n",
    "img_g"
   ]
  },
  {
   "cell_type": "code",
   "execution_count": 94,
   "id": "4a6f0c5a",
   "metadata": {},
   "outputs": [
    {
     "name": "stdout",
     "output_type": "stream",
     "text": [
      "<class 'numpy.ndarray'>\n",
      "(300, 212)\n",
      "2\n"
     ]
    }
   ],
   "source": [
    "img_g_arr = np.array(img_g)\n",
    "print(type(img_g_arr))\n",
    "print(img_g_arr.shape)\n",
    "print(img_g_arr.ndim)"
   ]
  },
  {
   "cell_type": "code",
   "execution_count": 95,
   "id": "7848e2ec",
   "metadata": {},
   "outputs": [
    {
     "name": "stdout",
     "output_type": "stream",
     "text": [
      "[[174 174 174 ... 174 174 174]\n",
      " [174 174 174 ... 174 174 174]\n",
      " [174 174 174 ... 174 174 174]\n",
      " ...\n",
      " [195 195 195 ... 195 195 195]\n",
      " [195 195 195 ... 195 195 195]\n",
      " [195 195 195 ... 195 195 195]]\n"
     ]
    }
   ],
   "source": [
    "print(img_g_arr)"
   ]
  },
  {
   "cell_type": "code",
   "execution_count": 96,
   "id": "a90e7b9b",
   "metadata": {},
   "outputs": [
    {
     "name": "stdout",
     "output_type": "stream",
     "text": [
      "(255, 0, 0)\n",
      "(255, 0, 0, 255)\n",
      "(255, 255, 0)\n"
     ]
    }
   ],
   "source": [
    "red = ImageColor.getcolor('RED','RGB')\n",
    "reda = ImageColor.getcolor('red','RGBA')\n",
    "yellow = ImageColor.getcolor('yellow','RGB')\n",
    "print(red)\n",
    "print(reda)\n",
    "print(yellow)"
   ]
  },
  {
   "cell_type": "markdown",
   "id": "d8dcf8b2",
   "metadata": {},
   "source": [
    "## 8.9. 구조화된 데이터란?"
   ]
  },
  {
   "cell_type": "code",
   "execution_count": 97,
   "id": "660a9673",
   "metadata": {},
   "outputs": [
    {
     "data": {
      "text/plain": [
       "82"
      ]
     },
     "execution_count": 97,
     "metadata": {},
     "output_type": "execute_result"
    }
   ],
   "source": [
    "# 파이썬 dict 로 표현한 전화번호부입니다. \n",
    "Country_PhoneNumber = {'Korea': 82, 'America': 1, 'Swiss': 41, 'Italy': 39, 'Japan': 81, 'China': 86, 'Rusia': 7}\n",
    "Country_PhoneNumber['Korea']  # 키를 가지고 값을 조회할 수 있습니다."
   ]
  },
  {
   "cell_type": "markdown",
   "id": "23f21bc6",
   "metadata": {},
   "source": [
    "## 8.10 딕셔너리를 활용한 간단한 판타지게임 logic 설계"
   ]
  },
  {
   "cell_type": "markdown",
   "id": "113f85b5",
   "metadata": {},
   "source": [
    " - 구조화된 데이터 : 데이터 내부에 자체적인 서브 구조를 가지는 데이터"
   ]
  },
  {
   "attachments": {
    "image.png": {
     "image/png": "[encoded data removed]"
    }
   },
   "cell_type": "markdown",
   "id": "38e6b146",
   "metadata": {},
   "source": [
    "판타지 게임을 위한 로직을 만들어보자.\n",
    "\n",
    "어떤 플레이어가 게임 도중 보물 상자를 얻었고, 보물상자에는 다음 표와 같은 보물들이 들어있다.\n",
    "\n",
    "![image.png](attachment:image.png)\n",
    "\n",
    "예를 들어, 로프를 두 개 얻었고, 사과를 10개 얻은 것인데, 로프는 은화 가치로 1원$*$에 해당하고, 사과는 은화가치로 2원에 해당한다고 하자.\n",
    "\n",
    "$*$'원'이라는 표현은 잘못되었다.\n",
    "다른 단위 표현을 쓰는 게 맞을테지만, 일단은 '원'이 익숙하니 '원'이라고 하겠다.\n",
    "\n",
    "위의 왼쪽 표를 다음과 같이 코드로 짤 수 있다.\n",
    "`treasure_box`라는 변수로 왼쪽 표를 저장했고\n",
    "`display_stuff`라는 함수로 왼쪽 표의 내용을 출력하는 코드를 만들었다."
   ]
  },
  {
   "cell_type": "code",
   "execution_count": 147,
   "id": "187e6265",
   "metadata": {},
   "outputs": [
    {
     "name": "stdout",
     "output_type": "stream",
     "text": [
      "Congraturation!! you got a treasure box\n",
      "you have rope 2pcs\n",
      "you have apple 10pcs\n",
      "you have torch 6pcs\n",
      "you have gold coin 50pcs\n",
      "you have knife 1pcs\n",
      "you have arrow 30pcs\n"
     ]
    }
   ],
   "source": [
    "treasure_box = {'rope':2, \n",
    "                'apple':10, \n",
    "                'torch': 6, \n",
    "                'gold coin': 50, \n",
    "                'knife': 1, \n",
    "                'arrow': 30}\n",
    "\n",
    "def display_stuff(treasure_box):\n",
    "    print(\"Congraturation!! you got a treasure box\")\n",
    "    for k, v in treasure_box.items():\n",
    "        print(\"you have {} {}pcs\".format(k, v))\n",
    "display_stuff(treasure_box)"
   ]
  },
  {
   "cell_type": "markdown",
   "id": "521ad2df",
   "metadata": {},
   "source": [
    "이번에는 오른쪽 표를 코드로 짜보았다. (내가 짠 건 아니고..)\n",
    "위의 코드와 거의 비슷한 형식을 차용해 왼쪽 표를 `coin_per_treasure`라는 이름으로 저장했다.\n",
    "그리고 `total_silver`라는 함수를 이용해 이 보물들의 가치를 코인으로 환산한 값과 그 과정을 출력하도록 했다."
   ]
  },
  {
   "cell_type": "code",
   "execution_count": 148,
   "id": "e6a0fcf8",
   "metadata": {},
   "outputs": [
    {
     "name": "stdout",
     "output_type": "stream",
     "text": [
      "rope : 1coins/pcs * 2pcs = 2 coins\n",
      "apple : 2coins/pcs * 10pcs = 20 coins\n",
      "torch : 2coins/pcs * 6pcs = 12 coins\n",
      "gold coin : 5coins/pcs * 50pcs = 250 coins\n",
      "knife : 30coins/pcs * 1pcs = 30 coins\n",
      "arrow : 1coins/pcs * 30pcs = 30 coins\n",
      "total_coin :  344\n"
     ]
    }
   ],
   "source": [
    "coin_per_treasure = {'rope':1,\n",
    "        'apple':2,\n",
    "        'torch': 2,\n",
    "        'gold coin': 5, \n",
    "        'knife': 30,\n",
    "        'arrow': 1}\n",
    "\n",
    "def total_silver(treasure_box, coin_per_treasure):\n",
    "    total_coin = 0\n",
    "    for treasure in treasure_box:\n",
    "        coin = coin_per_treasure[treasure] * treasure_box[treasure]\n",
    "        print(\"{} : {}coins/pcs * {}pcs = {} coins\".format(\n",
    "          treasure, coin_per_treasure[treasure], treasure_box[treasure], coin))\n",
    "        total_coin += coin\n",
    "    print('total_coin : ', total_coin)\n",
    "total_silver(treasure_box, coin_per_treasure)"
   ]
  },
  {
   "cell_type": "markdown",
   "id": "7633b846",
   "metadata": {},
   "source": [
    "하지만 조금 비효율적이다.\n",
    "\n",
    "안그래도 `dict` 객체는 보기에 어려운데, 그걸 두 번이나 써야 하니 효율적이지 못하다.\n",
    "이것을 하나의 `dict` 클래스로 표현하자.\n",
    "다만, 이중의 `dict` 객체가 될 것이다."
   ]
  },
  {
   "cell_type": "code",
   "execution_count": 149,
   "id": "68a65bd6",
   "metadata": {},
   "outputs": [
    {
     "data": {
      "text/plain": [
       "{'coin': 1, 'pcs': 2}"
      ]
     },
     "execution_count": 149,
     "metadata": {},
     "output_type": "execute_result"
    }
   ],
   "source": [
    "treasure_box = {'rope': {'coin': 1, 'pcs': 2},\n",
    "                'apple': {'coin': 2, 'pcs': 10},\n",
    "                'torch': {'coin': 2, 'pcs': 6},\n",
    "                'gold coin': {'coin': 5, 'pcs': 50},\n",
    "                'knife': {'coin': 30, 'pcs': 1},\n",
    "               \t'arrow': {'coin': 1, 'pcs': 30}\n",
    "               }\n",
    "treasure_box['rope']"
   ]
  },
  {
   "cell_type": "markdown",
   "id": "de2e01e6",
   "metadata": {},
   "source": [
    "그러면 위에 정의한 `display_stuff`와 `total_silver` 함수는 이에 맞게 바뀌어야 할 것이다.\n",
    "어떻게 바꾸느냐? 하는 문제가 이번 문제이다."
   ]
  },
  {
   "cell_type": "markdown",
   "id": "29cb4627",
   "metadata": {},
   "source": [
    "`display_stuff` / 내가 써본 답안"
   ]
  },
  {
   "cell_type": "code",
   "execution_count": 150,
   "id": "f41b22a1",
   "metadata": {},
   "outputs": [
    {
     "name": "stdout",
     "output_type": "stream",
     "text": [
      "Congraturation!! you got a treasure box\n",
      "you have rope 2pcs\n",
      "you have apple 10pcs\n",
      "you have torch 6pcs\n",
      "you have gold coin 50pcs\n",
      "you have knife 1pcs\n",
      "you have arrow 30pcs\n"
     ]
    }
   ],
   "source": [
    "def display_stuff(treasure_box):\n",
    "    print(\"Congraturation!! you got a treasure box\")\n",
    "    for treasure, info in treasure_box.items():\n",
    "        print(\"you have {} {}pcs\".format(treasure, info['pcs']))\n",
    "display_stuff(treasure_box)"
   ]
  },
  {
   "cell_type": "markdown",
   "id": "a17a7f73",
   "metadata": {},
   "source": [
    "`display_stuff` / 모범답안"
   ]
  },
  {
   "cell_type": "code",
   "execution_count": 151,
   "id": "520ec6a7",
   "metadata": {},
   "outputs": [
    {
     "name": "stdout",
     "output_type": "stream",
     "text": [
      "Congraturation!! you got a treasure box!!\n",
      "You have rope 2pcs\n",
      "You have apple 10pcs\n",
      "You have torch 6pcs\n",
      "You have gold coin 50pcs\n",
      "You have knife 1pcs\n",
      "You have arrow 30pcs\n"
     ]
    }
   ],
   "source": [
    "def display_stuff(treasure_box):\n",
    "    ## type your code\n",
    "    print(\"Congraturation!! you got a treasure box!!\")\n",
    "    for treasure in treasure_box:\n",
    "        print(\"You have {} {}pcs\".format(treasure, treasure_box[treasure]['pcs']))\n",
    "display_stuff(treasure_box)"
   ]
  },
  {
   "cell_type": "markdown",
   "id": "930af5a6",
   "metadata": {},
   "source": [
    "내가 써본 코드에서는 `items` 메소드를 썼다.\n",
    "그러니까 key와 value를 `treasure`와 `info`라는 이름을 통해 하나씩 가져오게 했다.\n",
    "이때 key는 `rope`와 같은 단일한 `str`이지만, value는 그 자체로 `dict`이다.\n",
    "출력해야 할 것이 각각의 (1) `treasure`들과, (2) 그 개수인데, 여기서 (1)인 `treasure`는 그냥 불러왔고, (2)는 `info`에 `treasure`를 특정해서 출력했다.\n",
    "\n",
    "모범답안에서는 이를 조금 더 간소화시켰다.\n",
    "key, value를 모두 불러오는 게 아니고 key만 불러왔다.\n",
    "\n",
    "아래 코드에서 보듯 `dict` 객체에 `for`문을 쓰면 (변수 `x`) 각각의 변수 `x`가 가리키는 것은 해당 `dict`의 key값들이다. 이 key와, 그리고 `dict` 객체 또한 가지고 있으므로 value를 지정할 수 있다."
   ]
  },
  {
   "cell_type": "code",
   "execution_count": 152,
   "id": "e4f7ff96",
   "metadata": {},
   "outputs": [
    {
     "name": "stdout",
     "output_type": "stream",
     "text": [
      "a\n",
      "b\n"
     ]
    }
   ],
   "source": [
    "A = {'a':1,'b':2}\n",
    "for x in A:\n",
    "    print(x)"
   ]
  },
  {
   "cell_type": "code",
   "execution_count": 153,
   "id": "8a4e142c",
   "metadata": {},
   "outputs": [
    {
     "data": {
      "text/plain": [
       "{'coin': 1, 'pcs': 2}"
      ]
     },
     "execution_count": 153,
     "metadata": {},
     "output_type": "execute_result"
    }
   ],
   "source": [
    "treasure_box = {'rope': {'coin': 1, 'pcs': 2},\n",
    "                'apple': {'coin': 2, 'pcs': 10},\n",
    "                'torch': {'coin': 2, 'pcs': 6},\n",
    "                'gold coin': {'coin': 5, 'pcs': 50},\n",
    "                'knife': {'coin': 30, 'pcs': 1},\n",
    "               \t'arrow': {'coin': 1, 'pcs': 30}\n",
    "               }\n",
    "treasure_box['rope']"
   ]
  },
  {
   "cell_type": "markdown",
   "id": "0f20e087",
   "metadata": {},
   "source": [
    "`total_silver` / 내가 써본 답안"
   ]
  },
  {
   "cell_type": "code",
   "execution_count": 160,
   "id": "56b3648b",
   "metadata": {},
   "outputs": [
    {
     "name": "stdout",
     "output_type": "stream",
     "text": [
      "rope : 1coins/pcs * 2pcs = 2 coins\n",
      "apple : 2coins/pcs * 10pcs = 20 coins\n",
      "torch : 2coins/pcs * 6pcs = 12 coins\n",
      "gold coin : 5coins/pcs * 50pcs = 250 coins\n",
      "knife : 30coins/pcs * 1pcs = 30 coins\n",
      "arrow : 1coins/pcs * 30pcs = 30 coins\n",
      "total_coin :  344\n"
     ]
    }
   ],
   "source": [
    "def total_silver(treasure_box):\n",
    "    total_coin = 0\n",
    "    for treasure, info in treasure_box.items():\n",
    "#        print(key, value)\n",
    "        coin_per_treasure = treasure_box[treasure]['coin']\n",
    "        pcs = treasure_box[treasure]['pcs']\n",
    "        print(\"{} : {}coins/pcs * {}pcs = {} coins\".format(\n",
    "            treasure, coin_per_treasure, pcs, coin_per_treasure*pcs))\n",
    "        total_coin += coin_per_treasure*pcs\n",
    "    print('total_coin : ', total_coin)\n",
    "total_silver(treasure_box)"
   ]
  },
  {
   "cell_type": "markdown",
   "id": "f325a59a",
   "metadata": {},
   "source": [
    "`total_silver` / 모범답안"
   ]
  },
  {
   "cell_type": "code",
   "execution_count": 161,
   "id": "fc2a3448",
   "metadata": {},
   "outputs": [
    {
     "name": "stdout",
     "output_type": "stream",
     "text": [
      "rope : 1coins/pcs * 2pcs = 2 coins\n",
      "apple : 2coins/pcs * 10pcs = 20 coins\n",
      "torch : 2coins/pcs * 6pcs = 12 coins\n",
      "gold coin : 5coins/pcs * 50pcs = 250 coins\n",
      "knife : 30coins/pcs * 1pcs = 30 coins\n",
      "arrow : 1coins/pcs * 30pcs = 30 coins\n",
      "total_coin :  344\n"
     ]
    }
   ],
   "source": [
    "def total_silver(treasure_box, coin_per_treasure):\n",
    "    ## type your code\n",
    "    total_coin = 0\n",
    "    for treasure in treasure_box:\n",
    "        coin = coin_per_treasure[treasure] * treasure_box[treasure]['pcs']\n",
    "        print(\"{} : {}coins/pcs * {}pcs = {} coins\".format(\n",
    "          treasure, coin_per_treasure[treasure], treasure_box[treasure]['pcs'], coin))\n",
    "        total_coin += coin\n",
    "    print('total_coin : ', total_coin)\n",
    "total_silver(treasure_box, coin_per_treasure)\n"
   ]
  },
  {
   "cell_type": "markdown",
   "id": "0af87285",
   "metadata": {},
   "source": [
    "`total_silver`에서도 모범답안쪽이 조금 더 간결하게 짰다."
   ]
  },
  {
   "cell_type": "markdown",
   "id": "4a932f5e",
   "metadata": {},
   "source": [
    "## 8.11. 구조화된 데이터와  pandas (1) Series"
   ]
  },
  {
   "cell_type": "markdown",
   "id": "f3eb91f1",
   "metadata": {},
   "source": [
    "구조화된 데이터를 조금 더 잘 표현할 수 있는 도구로 `pandas`가 있다.\n",
    "`pandas`에서 제공하는 대표적인 자료구조는\n",
    " - `Series`\n",
    " - `DataFrame`\n",
    "\n",
    "이 있다.\n",
    "`Panel`이라는 3차원 자료구조도 있었던 것 같은데, 잘 안쓰이는 것 같다.\n",
    "`pandas`의 특징은 다음과 같다.\n",
    " - `numpy` 기반으로 개발되었으므로 `numpy`와 호환이 잘 된다.\n",
    " - 축의 이름에 따라 데이터를 정렬할 수 있다.\n",
    " - 다양한 방식으로 인덱싱할 수 있다.\n",
    " - 시계열/비시계열 자료를 모두 다룰 수 있다.\n",
    " - 누락된 데이터를 처리하기 용이하다.\n",
    " - 데이터를 합치고 연산하기가 용이하다.\n"
   ]
  },
  {
   "cell_type": "markdown",
   "id": "2d0449c5",
   "metadata": {},
   "source": [
    "### Series"
   ]
  },
  {
   "cell_type": "markdown",
   "id": "58631664",
   "metadata": {},
   "source": [
    "여기서부터는 설명을 자세히 읽어보진 않았다. (아직까진)\n",
    "pandas에 대해서는 여러 번 공부해본 적이 있으니, 다 한번씩 해본 과정들일 거라고 생각한다.\n",
    "\n",
    "오늘은 교재에 있는 코드들을 다 나열해놓았고 (교재의 코드는 맨 앞줄에 `#교재`라고 표시) 그 아래로는 내가 여러가지로 코드를 변형한 코드들을 이어서 적어보았다.\n",
    "\n",
    "이걸 다 하고 나서는 설명을 다시 쭉 읽어보자. 그럼 될 것이다."
   ]
  },
  {
   "cell_type": "code",
   "execution_count": 212,
   "id": "9b62ce8b",
   "metadata": {},
   "outputs": [
    {
     "name": "stdout",
     "output_type": "stream",
     "text": [
      "0    a\n",
      "1    b\n",
      "2    c\n",
      "3    3\n",
      "dtype: object\n"
     ]
    }
   ],
   "source": [
    "# 교재\n",
    "import pandas as pd\n",
    "ser = pd.Series(['a','b','c',3])\n",
    "print(ser)"
   ]
  },
  {
   "cell_type": "code",
   "execution_count": 216,
   "id": "7a28758a",
   "metadata": {},
   "outputs": [
    {
     "name": "stdout",
     "output_type": "stream",
     "text": [
      "<class 'pandas.core.series.Series'>\n"
     ]
    }
   ],
   "source": [
    "print(type(ser))"
   ]
  },
  {
   "cell_type": "markdown",
   "id": "bc066a60",
   "metadata": {},
   "source": [
    "### Series의 인덱스"
   ]
  },
  {
   "cell_type": "code",
   "execution_count": 217,
   "id": "cdc093c8",
   "metadata": {},
   "outputs": [
    {
     "name": "stdout",
     "output_type": "stream",
     "text": [
      "['a' 'b' 'c' 3]\n"
     ]
    }
   ],
   "source": [
    "# 교재\n",
    "print(ser.values)"
   ]
  },
  {
   "cell_type": "code",
   "execution_count": 221,
   "id": "c1730de7",
   "metadata": {},
   "outputs": [
    {
     "name": "stdout",
     "output_type": "stream",
     "text": [
      "<class 'numpy.ndarray'>\n"
     ]
    }
   ],
   "source": [
    "print(type(ser.values))"
   ]
  },
  {
   "cell_type": "markdown",
   "id": "18e346e2",
   "metadata": {},
   "source": [
    "위에서 언급한 `pandas`와 `numpy` 사이의 호환성이 드러나는 코드인 것 같다.\n",
    "`Series`에 `values` method들을 적용하면 `list`가 아닌 `ndarray` 형식으로 나온다."
   ]
  },
  {
   "cell_type": "code",
   "execution_count": 222,
   "id": "1aa4d7a8",
   "metadata": {},
   "outputs": [
    {
     "name": "stdout",
     "output_type": "stream",
     "text": [
      "RangeIndex(start=0, stop=4, step=1)\n"
     ]
    }
   ],
   "source": [
    "# 교재\n",
    "print(ser.index)"
   ]
  },
  {
   "cell_type": "code",
   "execution_count": 227,
   "id": "0afc0f88",
   "metadata": {},
   "outputs": [
    {
     "name": "stdout",
     "output_type": "stream",
     "text": [
      "<class 'pandas.core.indexes.range.RangeIndex'>\n",
      "[0, 1, 2, 3]\n",
      "0\n",
      "1\n",
      "2\n",
      "3\n"
     ]
    }
   ],
   "source": [
    "print(type(ser.index))\n",
    "print(list(ser.index))\n",
    "for index in ser.index:\n",
    "    print(index)"
   ]
  },
  {
   "cell_type": "markdown",
   "id": "da78c38e",
   "metadata": {},
   "source": [
    "반면, `index` method를 적용하면 다르게 나온다.\n",
    "`ndarray`로 나오지 않고, `RangeIndex`라는 새로운 타입의 객체가 생성된다.\n",
    "다만 여기에 `list`를 씌우면 `list` 형식으로 변환된다는 것과, `for`문이 잘 먹힌다는 점을 고려하면 iterable 객체라고는 생각해도 될 것 같다."
   ]
  },
  {
   "cell_type": "markdown",
   "id": "0a8500b1",
   "metadata": {},
   "source": [
    "### 인덱스 설정 : Series의 인자로 넣어주는 방법"
   ]
  },
  {
   "cell_type": "code",
   "execution_count": 205,
   "id": "b34ea1fa",
   "metadata": {},
   "outputs": [
    {
     "data": {
      "text/plain": [
       "i    a\n",
       "j    b\n",
       "k    c\n",
       "h    3\n",
       "dtype: object"
      ]
     },
     "execution_count": 205,
     "metadata": {},
     "output_type": "execute_result"
    }
   ],
   "source": [
    "# 교재\n",
    "ser2 = pd.Series(['a', 'b', 'c', 3], index=['i','j','k','h'])\n",
    "ser2"
   ]
  },
  {
   "cell_type": "markdown",
   "id": "c78049d5",
   "metadata": {},
   "source": [
    "아까는 value들만 넣어주었다.\n",
    "그런데도 정상적으로 Series는 잘 출력되었다.\n",
    "이번에는, value와 index 모두를 특정해서 잘 넣어주었다.\n",
    "\n",
    "그러니까, value와 index를 모두 특정해서 넣어주는 것이 원래 문법인데"
   ]
  },
  {
   "cell_type": "code",
   "execution_count": 206,
   "id": "ed0d2f57",
   "metadata": {},
   "outputs": [
    {
     "data": {
      "text/plain": [
       "Jhon     a\n",
       "Steve    b\n",
       "Jack     c\n",
       "Bob      3\n",
       "dtype: object"
      ]
     },
     "execution_count": 206,
     "metadata": {},
     "output_type": "execute_result"
    }
   ],
   "source": [
    "# 교재\n",
    "ser2.index = ['Jhon', 'Steve', 'Jack', 'Bob']\n",
    "ser2"
   ]
  },
  {
   "cell_type": "markdown",
   "id": "15c49ca4",
   "metadata": {},
   "source": [
    "### 인덱스 설정 : 할당 연산자"
   ]
  },
  {
   "cell_type": "code",
   "execution_count": 207,
   "id": "f15b0060",
   "metadata": {
    "scrolled": true
   },
   "outputs": [
    {
     "data": {
      "text/plain": [
       "Index(['Jhon', 'Steve', 'Jack', 'Bob'], dtype='object')"
      ]
     },
     "execution_count": 207,
     "metadata": {},
     "output_type": "execute_result"
    }
   ],
   "source": [
    "# 교재\n",
    "ser2.index"
   ]
  },
  {
   "cell_type": "code",
   "execution_count": 208,
   "id": "d80b5be4",
   "metadata": {
    "scrolled": true
   },
   "outputs": [
    {
     "data": {
      "text/plain": [
       "Korea      82\n",
       "America     1\n",
       "Swiss      41\n",
       "Italy      39\n",
       "Japan      81\n",
       "China      86\n",
       "Rusia       7\n",
       "dtype: int64"
      ]
     },
     "execution_count": 208,
     "metadata": {},
     "output_type": "execute_result"
    }
   ],
   "source": [
    "# 교재\n",
    "Country_PhoneNumber = {'Korea': 82, 'America': 1, 'Swiss': 41, 'Italy': 39, 'Japan': 81, 'China': 86, 'Rusia': 7}\n",
    "ser3 = pd.Series(Country_PhoneNumber)\n",
    "ser3"
   ]
  },
  {
   "cell_type": "code",
   "execution_count": 209,
   "id": "5a467f93",
   "metadata": {
    "scrolled": true
   },
   "outputs": [
    {
     "data": {
      "text/plain": [
       "82"
      ]
     },
     "execution_count": 209,
     "metadata": {},
     "output_type": "execute_result"
    }
   ],
   "source": [
    "# 교재\n",
    "ser3['Korea']"
   ]
  },
  {
   "cell_type": "code",
   "execution_count": 210,
   "id": "066559ba",
   "metadata": {},
   "outputs": [
    {
     "data": {
      "text/plain": [
       "Italy    39\n",
       "Japan    81\n",
       "China    86\n",
       "Rusia     7\n",
       "dtype: int64"
      ]
     },
     "execution_count": 210,
     "metadata": {},
     "output_type": "execute_result"
    }
   ],
   "source": [
    "# 교재\n",
    "ser3['Italy':]"
   ]
  },
  {
   "cell_type": "markdown",
   "id": "fed2a305",
   "metadata": {},
   "source": [
    "### Series의 Name"
   ]
  },
  {
   "cell_type": "code",
   "execution_count": 211,
   "id": "bfc5aefd",
   "metadata": {},
   "outputs": [
    {
     "data": {
      "text/plain": [
       "Country_Name\n",
       "Korea      82\n",
       "America     1\n",
       "Swiss      41\n",
       "Italy      39\n",
       "Japan      81\n",
       "China      86\n",
       "Rusia       7\n",
       "Name: Country_PhoneNumber, dtype: int64"
      ]
     },
     "execution_count": 211,
     "metadata": {},
     "output_type": "execute_result"
    }
   ],
   "source": [
    "# 교재\n",
    "ser3.name = 'Country_PhoneNumber'\n",
    "ser3.index.name = 'Country_Name'\n",
    "ser3"
   ]
  },
  {
   "cell_type": "markdown",
   "id": "d48c2f09",
   "metadata": {},
   "source": [
    "## 8.12. 구조화된 데이터와 pandas (2) DataFrame"
   ]
  },
  {
   "cell_type": "markdown",
   "id": "055e719d",
   "metadata": {},
   "source": [
    "## 8.13. pandas와 함께 EDA 시작하기"
   ]
  },
  {
   "cell_type": "markdown",
   "id": "1fe7f768",
   "metadata": {},
   "source": [
    "## 8.14. 끝으로"
   ]
  }
 ],
 "metadata": {
  "kernelspec": {
   "display_name": "Python 3 (ipykernel)",
   "language": "python",
   "name": "python3"
  },
  "language_info": {
   "codemirror_mode": {
    "name": "ipython",
    "version": 3
   },
   "file_extension": ".py",
   "mimetype": "text/x-python",
   "name": "python",
   "nbconvert_exporter": "python",
   "pygments_lexer": "ipython3",
   "version": "3.9.7"
  }
 },
 "nbformat": 4,
 "nbformat_minor": 5
}
