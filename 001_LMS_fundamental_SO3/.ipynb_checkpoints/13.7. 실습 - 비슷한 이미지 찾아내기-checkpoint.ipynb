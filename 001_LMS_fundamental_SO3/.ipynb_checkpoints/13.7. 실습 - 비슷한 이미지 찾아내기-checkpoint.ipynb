{
 "cells": [
  {
   "cell_type": "markdown",
   "id": "433a6133",
   "metadata": {},
   "source": [
    "## 13.7. 실습 : 비슷한 이미지 찾아내기"
   ]
  },
  {
   "cell_type": "code",
   "execution_count": 1,
   "id": "f2390afe",
   "metadata": {},
   "outputs": [
    {
     "ename": "IndentationError",
     "evalue": "expected an indented block (3852779868.py, line 8)",
     "output_type": "error",
     "traceback": [
      "\u001b[0;36m  File \u001b[0;32m\"/tmp/ipykernel_132/3852779868.py\"\u001b[0;36m, line \u001b[0;32m8\u001b[0m\n\u001b[0;31m    histogram = np.concatenate(histogram)\u001b[0m\n\u001b[0m    ^\u001b[0m\n\u001b[0;31mIndentationError\u001b[0m\u001b[0;31m:\u001b[0m expected an indented block\n"
     ]
    }
   ],
   "source": []
  }
 ],
 "metadata": {
  "kernelspec": {
   "display_name": "Python 3 (ipykernel)",
   "language": "python",
   "name": "python3"
  },
  "language_info": {
   "codemirror_mode": {
    "name": "ipython",
    "version": 3
   },
   "file_extension": ".py",
   "mimetype": "text/x-python",
   "name": "python",
   "nbconvert_exporter": "python",
   "pygments_lexer": "ipython3",
   "version": "3.9.7"
  }
 },
 "nbformat": 4,
 "nbformat_minor": 5
}
