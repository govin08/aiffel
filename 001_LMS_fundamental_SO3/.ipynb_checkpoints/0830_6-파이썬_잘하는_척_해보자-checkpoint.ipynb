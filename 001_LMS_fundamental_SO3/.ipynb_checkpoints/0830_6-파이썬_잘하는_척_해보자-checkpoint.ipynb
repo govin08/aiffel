{
 "cells": [
  {
   "cell_type": "markdown",
   "id": "8276a2ab",
   "metadata": {},
   "source": [
    "# 아이펠 2주차 화요일(0830)"
   ]
  },
  {
   "cell_type": "markdown",
   "id": "4d0a7c94",
   "metadata": {},
   "source": [
    "# 6. 파이썬 잘하는 척 해보자"
   ]
  },
  {
   "cell_type": "markdown",
   "id": "990eb28e",
   "metadata": {},
   "source": [
    "## 6.1. 들어가며\n",
    "Key words : \n",
    " - 코드 재사용\n",
    " - 프로그래밍 패러다임\n",
    " - 코드 예쁘게 짜기"
   ]
  },
  {
   "attachments": {
    "image-2.png": {
     "image/png": "[encoded data removed]"
    },
    "image.png": {
     "image/png": "[encoded data removed]"
    }
   },
   "cell_type": "markdown",
   "id": "3ae9a335",
   "metadata": {},
   "source": [
    "## 6.2. 파이썬 어디까지 써봤니?\n",
    "\n",
    "### 파이썬의 성능과 한계\n",
    "\n",
    "화두 : 왜 파이썬을 배워야 할까?\n",
    "\n",
    "### 퍼포먼스 vs 생산성\n",
    "\n",
    "#### 1. 퍼포먼스\n",
    " - 퍼포먼스(성능) : 해당 코드가 얼마나 빠르게 처리되느냐?\n",
    " - 자전거와 자동차의 비유\n",
    " - 언어별 행렬곱 시간\n",
    "     - 파이썬은 타언어들에 비해 느리다. (퍼포먼스가 낮다)\n",
    " \n",
    "![image.png](attachment:image.png)\n",
    "\n",
    "#### 2. 생산성\n",
    "\n",
    " - 생산성 : 일정한 기능을 하는 프로그램을 얼마나 빨리 작성할 수 있느냐?\n",
    " - 파이썬은 빠르게 코드를 짤 수 있는 편이다. (생산성이 좋다.\n",
    " \n",
    "#### 3. 퍼포먼스 vs 생산성\n",
    " - 일종의 tradeoff가 있을 수밖에 없다.\n",
    "\n",
    "\n",
    "### 파이썬의 성능\n",
    "\n",
    " - 여기서 '성능'이라는 표현은 적절치 못한 것 같다.\n",
    " 위에서 퍼포먼스를 생산성이라고 정의해놓았는데, 그러면 파이썬은 성능이 나쁜 언어라고 아까 말한 셈이다.\n",
    "\n",
    "#### 1. 높은 생산성\n",
    " - 수많은 모듈들이 라이브러리화 되어 존재한다.\n",
    " - 이것들을 `pip` 등을 통해 간결하고 편하게 접근할 수도 있다.\n",
    "\n",
    "#### 2. 코드의 간결함\n",
    " - java와 비교했을 때, 파이썬은 간결하다.\n",
    "\n",
    "#### 3. 빠른 개발 속도\n",
    " - 개발속도가 빠르다.\n",
    " 즉, 일정한 작업을 하는 데 드는 코딩 시간이 적은 편이다.\n",
    " - 이것은 아까 언급한 '생산성'의 의미이다.\n",
    "![image-2.png](attachment:image-2.png)\n",
    " \n",
    "\n",
    "#### 스크립트 언어(인터프리터 언어)\n",
    "\n",
    "|컴파일 언어|스크립트 언어|\n",
    "|:-:|:-:|\n",
    "|기계어 변환 / 실행|기계어 번역|\n",
    "|빠르다|느리다|\n",
    "|컴파일 시점에 오류를 잡기 쉽다.|사용하기 쉽다.|\n",
    "|서로 다른 환경에서 같은 소스 코드도 다르게 동작할 수 있다.|명령줄로 코드를 즉시 실행할 수 있다.|\n",
    "\n",
    "요약 : 파이썬을 배우면 좋은 이유는\n",
    " - 높은 생산성 (코드 짜는 것이 빠르다.) + 빠른 개발속도\n",
    " - 간결한 코드\n",
    " - 스크립트 언어로서의 장점"
   ]
  },
  {
   "cell_type": "markdown",
   "id": "901f24c3",
   "metadata": {},
   "source": [
    "## 6.3. 파이썬을 더 잘 사용해보자! : For 문 잘 써보기"
   ]
  },
  {
   "cell_type": "markdown",
   "id": "de3d6a98",
   "metadata": {},
   "source": [
    "`for` 문은 유용하다. 아래와 같이 쓸 수 있다."
   ]
  },
  {
   "cell_type": "code",
   "execution_count": 4,
   "id": "38c09e7f",
   "metadata": {},
   "outputs": [
    {
     "name": "stdout",
     "output_type": "stream",
     "text": [
      "값 :  a\n",
      "값 :  b\n",
      "값 :  c\n",
      "값 :  d\n"
     ]
    }
   ],
   "source": [
    "A = ['a','b','c','d']\n",
    "\n",
    "for a in A:\n",
    "    print(\"값 : \", a)"
   ]
  },
  {
   "cell_type": "markdown",
   "id": "3a33139c",
   "metadata": {},
   "source": [
    "한편, `list` 말고도 `str`,`tuple`, `set`에서도 먹힌다."
   ]
  },
  {
   "cell_type": "code",
   "execution_count": 5,
   "id": "bd8592a9",
   "metadata": {},
   "outputs": [
    {
     "name": "stdout",
     "output_type": "stream",
     "text": [
      "값 :  a\n",
      "값 :  b\n",
      "값 :  c\n",
      "값 :  d\n"
     ]
    }
   ],
   "source": [
    "A = 'abcd'\n",
    "\n",
    "for a in A:\n",
    "    print(\"값 : \", a)"
   ]
  },
  {
   "cell_type": "code",
   "execution_count": 6,
   "id": "f9d4f449",
   "metadata": {},
   "outputs": [
    {
     "name": "stdout",
     "output_type": "stream",
     "text": [
      "값 :  a\n",
      "값 :  b\n",
      "값 :  c\n",
      "값 :  d\n"
     ]
    }
   ],
   "source": [
    "A = ('a','b','c','d')\n",
    "\n",
    "for a in A:\n",
    "    print(\"값 : \", a)"
   ]
  },
  {
   "cell_type": "code",
   "execution_count": 7,
   "id": "c5248d34",
   "metadata": {},
   "outputs": [
    {
     "name": "stdout",
     "output_type": "stream",
     "text": [
      "값 :  b\n",
      "값 :  a\n",
      "값 :  d\n",
      "값 :  c\n"
     ]
    }
   ],
   "source": [
    "A = {'a','b','c','d'}\n",
    "\n",
    "for a in A:\n",
    "    print(\"값 : \", a)"
   ]
  },
  {
   "cell_type": "markdown",
   "id": "ced19ea7",
   "metadata": {},
   "source": [
    "## 6.4. 파이썬을 더 잘 사용해보자! : Try - Except 예외 처리하기"
   ]
  },
  {
   "cell_type": "markdown",
   "id": "f1060c15",
   "metadata": {},
   "source": [
    "## 6.5. 파이썬을 더 잘 사용해보자! : Multiprocessing"
   ]
  },
  {
   "cell_type": "markdown",
   "id": "bff01428",
   "metadata": {},
   "source": [
    "## 6.6. 같은 코드 두 번 짜지 말자! : 함수 사용하기"
   ]
  },
  {
   "cell_type": "markdown",
   "id": "1044c658",
   "metadata": {},
   "source": [
    "## 6.7. 같은 코드 두 번 짜지 말자! : 함수 사용 팁"
   ]
  },
  {
   "cell_type": "markdown",
   "id": "6cf7c4a1",
   "metadata": {},
   "source": [
    "## 6.8. 같은 코드 두 번 짜지 말자! : 람다 표현식"
   ]
  },
  {
   "cell_type": "markdown",
   "id": "56330411",
   "metadata": {},
   "source": [
    "## 6.9. 같은 코드 두 번 짜지 말자! : 클래스, 모듈, 패키지"
   ]
  },
  {
   "cell_type": "markdown",
   "id": "63cfc2b1",
   "metadata": {},
   "source": [
    "## 6.10. 프로그래밍 패러다임과 함수형 프로그래밍"
   ]
  },
  {
   "cell_type": "markdown",
   "id": "39f80bf7",
   "metadata": {},
   "source": [
    "## 6.11. 파이써닉하게 코드를 짜보자!"
   ]
  }
 ],
 "metadata": {
  "kernelspec": {
   "display_name": "Python 3 (ipykernel)",
   "language": "python",
   "name": "python3"
  },
  "language_info": {
   "codemirror_mode": {
    "name": "ipython",
    "version": 3
   },
   "file_extension": ".py",
   "mimetype": "text/x-python",
   "name": "python",
   "nbconvert_exporter": "python",
   "pygments_lexer": "ipython3",
   "version": "3.9.7"
  }
 },
 "nbformat": 4,
 "nbformat_minor": 5
}
