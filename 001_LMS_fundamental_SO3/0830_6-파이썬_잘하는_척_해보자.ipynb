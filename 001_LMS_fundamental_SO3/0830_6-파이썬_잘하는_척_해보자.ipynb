{
 "cells": [
  {
   "cell_type": "markdown",
   "id": "78d06d74",
   "metadata": {},
   "source": [
    "# 아이펠 2주차 화요일(0830)"
   ]
  },
  {
   "cell_type": "markdown",
   "id": "7dfdcb88",
   "metadata": {},
   "source": [
    "# 6. 파이썬 잘하는 척 해보자"
   ]
  },
  {
   "cell_type": "markdown",
   "id": "c5d56de2",
   "metadata": {},
   "source": [
    "시간도 많이 부족하고, 또한 앞으로 **코딩도장**으로 배우는 내용과도 상당히 겹칠 것이다.\n",
    "자세한 것은 그때 가서 소상히 볼 것이니, 코드들을 자세히 뜯어보는 것 같은 일을 하지는 말고, 다만 본문을 한 번 쭉 정리하고 코드를 한 번 이해하는 것 정도만 하려고 한다.\n",
    "\n",
    "그런데 또 하다보면 코드를 뜯어볼 수밖에는 없어서 어떻게 될지는 모르겠다."
   ]
  },
  {
   "cell_type": "markdown",
   "id": "9cb53d4d",
   "metadata": {},
   "source": [
    "## 6.1. 들어가며\n",
    "Key words : \n",
    " - 코드 재사용\n",
    " - 프로그래밍 패러다임\n",
    " - 코드 예쁘게 짜기"
   ]
  },
  {
   "attachments": {
    "image-2.png": {
     "image/png": "[encoded data removed]"
    },
    "image.png": {
     "image/png": "[encoded data removed]"
    }
   },
   "cell_type": "markdown",
   "id": "a3d6d00c",
   "metadata": {},
   "source": [
    "## 6.2. 파이썬 어디까지 써봤니?\n",
    "\n",
    "### 파이썬의 성능과 한계\n",
    "\n",
    "화두 : 왜 파이썬을 배워야 할까?\n",
    "\n",
    "### 퍼포먼스 vs 생산성\n",
    "\n",
    "#### 1. 퍼포먼스\n",
    " - 퍼포먼스(성능) : 해당 코드가 얼마나 빠르게 처리되느냐?\n",
    " - 자전거와 자동차의 비유\n",
    " - 언어별 행렬곱 시간\n",
    "     - 파이썬은 타언어들에 비해 느리다. (퍼포먼스가 낮다)\n",
    " \n",
    "![image.png](attachment:image.png)\n",
    "\n",
    "#### 2. 생산성\n",
    "\n",
    " - 생산성 : 일정한 기능을 하는 프로그램을 얼마나 빨리 작성할 수 있느냐?\n",
    " - 파이썬은 빠르게 코드를 짤 수 있는 편이다. (생산성이 좋다.\n",
    " \n",
    "#### 3. 퍼포먼스 vs 생산성\n",
    " - 일종의 tradeoff가 있을 수밖에 없다.\n",
    "\n",
    "\n",
    "### 파이썬의 성능\n",
    "\n",
    " - 여기서 '성능'이라는 표현은 적절치 못한 것 같다.\n",
    " 위에서 퍼포먼스를 생산성이라고 정의해놓았는데, 그러면 파이썬은 성능이 나쁜 언어라고 아까 말한 셈이다.\n",
    "\n",
    "#### 1. 높은 생산성\n",
    " - 수많은 모듈들이 라이브러리화 되어 존재한다.\n",
    " - 이것들을 `pip` 등을 통해 간결하고 편하게 접근할 수도 있다.\n",
    "\n",
    "#### 2. 코드의 간결함\n",
    " - java와 비교했을 때, 파이썬은 간결하다.\n",
    "\n",
    "#### 3. 빠른 개발 속도\n",
    " - 개발속도가 빠르다.\n",
    " 즉, 일정한 작업을 하는 데 드는 코딩 시간이 적은 편이다.\n",
    " - 이것은 아까 언급한 '생산성'의 의미이다.\n",
    "![image-2.png](attachment:image-2.png)\n",
    " \n",
    "\n",
    "#### 스크립트 언어(인터프리터 언어)\n",
    "\n",
    "|컴파일 언어|스크립트 언어|\n",
    "|:-:|:-:|\n",
    "|기계어 변환 / 실행|기계어 번역|\n",
    "|빠르다|느리다|\n",
    "|컴파일 시점에 오류를 잡기 쉽다.|사용하기 쉽다.|\n",
    "|서로 다른 환경에서 같은 소스 코드도 다르게 동작할 수 있다.|명령줄로 코드를 즉시 실행할 수 있다.|\n",
    "\n",
    "요약 : 파이썬을 배우면 좋은 이유는\n",
    " - 높은 생산성 (코드 짜는 것이 빠르다.) + 빠른 개발속도\n",
    " - 간결한 코드\n",
    " - 스크립트 언어로서의 장점"
   ]
  },
  {
   "cell_type": "markdown",
   "id": "30f64c1e",
   "metadata": {},
   "source": [
    "## 6.3. 파이썬을 더 잘 사용해보자! : For 문 잘 써보기"
   ]
  },
  {
   "cell_type": "markdown",
   "id": "15dd9b6c",
   "metadata": {},
   "source": [
    "### `enumerate()`"
   ]
  },
  {
   "cell_type": "markdown",
   "id": "39d2b430",
   "metadata": {},
   "source": [
    "`for` 문은 유용하다. 아래와 같이 쓸 수 있다."
   ]
  },
  {
   "cell_type": "code",
   "execution_count": 4,
   "id": "db281508",
   "metadata": {},
   "outputs": [
    {
     "name": "stdout",
     "output_type": "stream",
     "text": [
      "값 :  a\n",
      "값 :  b\n",
      "값 :  c\n",
      "값 :  d\n"
     ]
    }
   ],
   "source": [
    "A = ['a','b','c','d']\n",
    "\n",
    "for a in A:\n",
    "    print(\"값 : \", a)"
   ]
  },
  {
   "cell_type": "markdown",
   "id": "798c8f8e",
   "metadata": {},
   "source": [
    "한편, `list` 말고도 `str`,`tuple`, `set`에서도 먹힌다."
   ]
  },
  {
   "cell_type": "code",
   "execution_count": 5,
   "id": "ff1133ca",
   "metadata": {},
   "outputs": [
    {
     "name": "stdout",
     "output_type": "stream",
     "text": [
      "값 :  a\n",
      "값 :  b\n",
      "값 :  c\n",
      "값 :  d\n"
     ]
    }
   ],
   "source": [
    "A = 'abcd'\n",
    "\n",
    "for a in A:\n",
    "    print(\"값 : \", a)"
   ]
  },
  {
   "cell_type": "code",
   "execution_count": 6,
   "id": "fd52d143",
   "metadata": {},
   "outputs": [
    {
     "name": "stdout",
     "output_type": "stream",
     "text": [
      "값 :  a\n",
      "값 :  b\n",
      "값 :  c\n",
      "값 :  d\n"
     ]
    }
   ],
   "source": [
    "A = ('a','b','c','d')\n",
    "\n",
    "for a in A:\n",
    "    print(\"값 : \", a)"
   ]
  },
  {
   "cell_type": "code",
   "execution_count": 7,
   "id": "c3f8351c",
   "metadata": {},
   "outputs": [
    {
     "name": "stdout",
     "output_type": "stream",
     "text": [
      "값 :  b\n",
      "값 :  a\n",
      "값 :  d\n",
      "값 :  c\n"
     ]
    }
   ],
   "source": [
    "A = {'a','b','c','d'}\n",
    "\n",
    "for a in A:\n",
    "    print(\"값 : \", a)"
   ]
  },
  {
   "cell_type": "markdown",
   "id": "86cb307c",
   "metadata": {},
   "source": [
    "`enumerate()`의 활용"
   ]
  },
  {
   "cell_type": "code",
   "execution_count": 1,
   "id": "ad8043f3",
   "metadata": {},
   "outputs": [
    {
     "name": "stdout",
     "output_type": "stream",
     "text": [
      "순번 :  0 값 :  a\n",
      "순번 :  1 값 :  b\n",
      "순번 :  2 값 :  c\n",
      "순번 :  3 값 :  d\n"
     ]
    }
   ],
   "source": [
    "A = ['a','b','c','d']\n",
    "for key, value in enumerate(A):\n",
    "    print(\"순번 : \",key, \"값 : \", value)"
   ]
  },
  {
   "cell_type": "markdown",
   "id": "a4a350e3",
   "metadata": {},
   "source": [
    "key를 따로 설정하지 않아도 `list`가 `dict`로 잘 변환되는 모습을 보인다. 이때의 value 값들은 default로 0, 1, 2, 3으로 배정되고 있다.\n",
    "\n",
    "아래와 같이 하면 에러가 난다."
   ]
  },
  {
   "cell_type": "code",
   "execution_count": 5,
   "id": "f33a9d81",
   "metadata": {},
   "outputs": [],
   "source": [
    "# A = dict(['a','b','c','d'])"
   ]
  },
  {
   "cell_type": "code",
   "execution_count": 3,
   "id": "7c937c0d",
   "metadata": {},
   "outputs": [
    {
     "name": "stdout",
     "output_type": "stream",
     "text": [
      "<class 'enumerate'> <class 'type'>\n",
      "<enumerate object at 0x7f3c3c340b00> <class 'enumerate'>\n",
      "[(0, 'a'), (1, 'b'), (2, 'c'), (3, 'd')] <class 'list'>\n"
     ]
    }
   ],
   "source": [
    "print(enumerate,type(enumerate))\n",
    "print(enumerate(A),type(enumerate(A)))\n",
    "print(list(enumerate(A)),type(list(enumerate(A))))"
   ]
  },
  {
   "cell_type": "markdown",
   "id": "34983c05",
   "metadata": {},
   "source": [
    "`enumerate` class는 `list`를 `enumerate object`로 바꿔주는 역할을 한다.\n",
    "`enumerate object`는 iterable한 객체(정확치 않음)로서 순서쌍들 여러 개가 반복되어 있는 형태인 것 같다.\n",
    "그것은 `enumerate object`에 `list`를 씌웠을 때 보인다."
   ]
  },
  {
   "cell_type": "code",
   "execution_count": 11,
   "id": "8439e768",
   "metadata": {},
   "outputs": [
    {
     "name": "stdout",
     "output_type": "stream",
     "text": [
      "순번 :  0 값 :  a\n",
      "순번 :  1 값 :  b\n",
      "순번 :  2 값 :  c\n"
     ]
    }
   ],
   "source": [
    "A = {'a':1,'b':2,'c':3}\n",
    "for key, value in enumerate(A):\n",
    "    print(\"순번 : \",key, \"값 : \", value)"
   ]
  },
  {
   "cell_type": "markdown",
   "id": "888fb4c6",
   "metadata": {},
   "source": [
    "A가 `list`가 아니라 `dict`라고 해도 여전히 `enumerate`는 먹힌다.\n",
    "이것은 당연하다.\n",
    "원래 `enumerate`는 `dict`에 쓰라고 만들어놓은 것인데 `list`에서도 먹히게끔 친절하게 만들어놓은 것이다.\n",
    "\n",
    "여하튼, 위 코드는 '100개 정도의 값을 출력한다고 했을 때는 '50번째에 출력된 값이 무엇인가?'에 대한 답이 됨을 알 수 있다."
   ]
  },
  {
   "cell_type": "markdown",
   "id": "903ce06d",
   "metadata": {},
   "source": [
    "### 이중 `for`문"
   ]
  },
  {
   "cell_type": "markdown",
   "id": "80b7a883",
   "metadata": {},
   "source": [
    "당연한 이야기이지만, `for`문이 삼중, 사중으로 갈 수록 계산량은 기하급수적으로, 그러니까 지수함수적으로 증가한다.\n",
    "딥러닝에서 흔히 회자되는 'curse of dimensionality'를 떠오르게 한다.\n",
    "\n",
    "$k$중 `for`문을 고려하자.\n",
    "첫번째 `for`문에서 `range`의 길이가 (이것을 그냥 `for`문의 길이라고 해도 문제는 없을 것 같다.) $n_1$이고 두번째 `for`문의 길이를 $n_2$라고 하고, 마찬가지로 $k$번째 `for`문의 길이를 $n_k$라고 하면 총 계산량은 이것들의 곱에 비례한다. (mutiplicative 하다).\n",
    "\n",
    "$$\\text{계산량}\\propto \\prod_{i=1}^k n_i = n_1n_2\\cdots n_k.$$\n",
    "\n",
    "만약 $n_i$들의 값이 같거나 비슷하다면 ($n_i\\approx n\\quad i=1,\\cdots,k$)\n",
    "\n",
    "$$\\text{계산량}\\propto n^k.$$\n",
    "\n",
    "이다.\n",
    "그러니까 $k$에 대하여 지수함수적으로 증가한다.\n",
    "\n",
    "본문에서는 삼중 사중 `for`문이 많이 쓰이지 않는다고 했는데, 내 생각에는, 이것들의 대전제, 즉 $n_i$값들이 같거나 비슷하다는 전제가 많이 나올 것 같지는 않다.\n",
    "`for`문을 여러 개 사용한다고 하더라도, 일부 `for`문의 길이가 작다면, 그렇게까지 기하급수적으로 증가하지는 않을 지도 모르겠다.\n",
    "하지만 일반적으로 봤을 때는 급격히 증가하는 것이 맞을 것 같다."
   ]
  },
  {
   "cell_type": "code",
   "execution_count": 33,
   "id": "2bcb2cea",
   "metadata": {},
   "outputs": [
    {
     "name": "stdout",
     "output_type": "stream",
     "text": [
      "[(0, 'a'), (0, 'b'), (0, 'c'), (0, 'd'), (1, 'a'), (1, 'b'), (1, 'c'), (1, 'd')]\n"
     ]
    }
   ],
   "source": [
    "A = ['a','b','c','d']\n",
    "result_list = []\n",
    "\n",
    "for i in range(2):\n",
    "    for j in A:\n",
    "        result_list.append((i, j))\n",
    "        \n",
    "print(result_list)"
   ]
  },
  {
   "cell_type": "markdown",
   "id": "406e3728",
   "metadata": {},
   "source": [
    "3 by 3 matrix 형태 출력하기"
   ]
  },
  {
   "cell_type": "code",
   "execution_count": 32,
   "id": "0d0ea1f5",
   "metadata": {},
   "outputs": [
    {
     "name": "stdout",
     "output_type": "stream",
     "text": [
      "[['a11' 'a12' 'a13']\n",
      " ['a21' 'a22' 'a23']\n",
      " ['a31' 'a32' 'a33']]\n"
     ]
    }
   ],
   "source": [
    "import numpy as np\n",
    "A = [1,2,3]\n",
    "B = []\n",
    "for i in range(1,4):\n",
    "    temp = []\n",
    "    for j in range(1,4):\n",
    "        temp.append('a'+str(i)+str(j))\n",
    "    B.append(temp)\n",
    "print(np.array(B))"
   ]
  },
  {
   "cell_type": "markdown",
   "id": "af9ba6f6",
   "metadata": {},
   "source": [
    "### List Comprehension"
   ]
  },
  {
   "cell_type": "code",
   "execution_count": 34,
   "id": "5d51a285",
   "metadata": {},
   "outputs": [
    {
     "name": "stdout",
     "output_type": "stream",
     "text": [
      "[(0, 'a'), (0, 'b'), (0, 'c'), (0, 'd'), (1, 'a'), (1, 'b'), (1, 'c'), (1, 'd')]\n"
     ]
    }
   ],
   "source": [
    "A = ['a','b','c','d']\n",
    "B = [(i,j) for i in range(2) for j in A]\n",
    "print(B)"
   ]
  },
  {
   "cell_type": "markdown",
   "id": "75fb005b",
   "metadata": {},
   "source": [
    "### Generator(제너레이터)"
   ]
  },
  {
   "cell_type": "code",
   "execution_count": 35,
   "id": "39b6a7c6",
   "metadata": {},
   "outputs": [
    {
     "name": "stdout",
     "output_type": "stream",
     "text": [
      ">>  8 data loaded..\n",
      "0 a\n",
      "0 b\n",
      "0 c\n",
      "0 d\n",
      "1 a\n",
      "1 b\n",
      "1 c\n",
      "1 d\n"
     ]
    }
   ],
   "source": [
    "my_list = ['a','b','c','d']\n",
    "\n",
    "# 인자로 받은 리스트를 가공해서 만든 데이터셋 리스트를 리턴하는 함수\n",
    "def get_dataset_list(my_list):\n",
    "    result_list = []\n",
    "    for i in range(2):\n",
    "        for j in my_list:\n",
    "            result_list.append((i, j))\n",
    "    print('>>  {} data loaded..'.format(len(result_list)))\n",
    "    return result_list\n",
    "\n",
    "for X, y in get_dataset_list(my_list):\n",
    "    print(X, y)"
   ]
  },
  {
   "cell_type": "code",
   "execution_count": 43,
   "id": "7097be5e",
   "metadata": {
    "collapsed": true
   },
   "outputs": [
    {
     "name": "stdout",
     "output_type": "stream",
     "text": [
      "<function get_dataset_list at 0x7f3c17cc58b0> <class 'function'>\n",
      ">>  8 data loaded..\n",
      ">>  8 data loaded..\n",
      "[(0, 'a'), (0, 'b'), (0, 'c'), (0, 'd'), (1, 'a'), (1, 'b'), (1, 'c'), (1, 'd')] <class 'list'>\n"
     ]
    }
   ],
   "source": [
    "print(get_dataset_list,type(get_dataset_list))\n",
    "print(get_dataset_list(my_list),type(get_dataset_list(my_list)))"
   ]
  },
  {
   "cell_type": "code",
   "execution_count": 36,
   "id": "e9771bec",
   "metadata": {
    "collapsed": true
   },
   "outputs": [
    {
     "name": "stdout",
     "output_type": "stream",
     "text": [
      "0 a\n",
      ">>  1 data loaded..\n",
      "0 b\n",
      ">>  1 data loaded..\n",
      "0 c\n",
      ">>  1 data loaded..\n",
      "0 d\n",
      ">>  1 data loaded..\n",
      "1 a\n",
      ">>  1 data loaded..\n",
      "1 b\n",
      ">>  1 data loaded..\n",
      "1 c\n",
      ">>  1 data loaded..\n",
      "1 d\n",
      ">>  1 data loaded..\n"
     ]
    }
   ],
   "source": [
    "my_list = ['a','b','c','d']\n",
    "\n",
    "# 인자로 받은 리스트로부터 데이터를 하나씩 가져오는 제너레이터를 리턴하는 함수\n",
    "def get_dataset_generator(my_list):\n",
    "    result_list = []\n",
    "    for i in range(2):\n",
    "        for j in my_list:\n",
    "            yield (i, j)   # 이 줄이 이전의 append 코드를 대체했습니다\n",
    "            print('>>  1 data loaded..')\n",
    "\n",
    "dataset_generator = get_dataset_generator(my_list)\n",
    "for X, y in dataset_generator:\n",
    "    print(X, y)"
   ]
  },
  {
   "cell_type": "code",
   "execution_count": 44,
   "id": "899ca168",
   "metadata": {},
   "outputs": [
    {
     "name": "stdout",
     "output_type": "stream",
     "text": [
      "<generator object get_dataset_generator at 0x7f3c17cdb510> <class 'generator'>\n"
     ]
    }
   ],
   "source": [
    "print(get_dataset_generator(my_list),type(get_dataset_generator(my_list)))"
   ]
  },
  {
   "cell_type": "markdown",
   "id": "8a6d32dc",
   "metadata": {},
   "source": [
    "솔직히 말해서, 아직까지 두 코드가 무슨 큰 차이가 있는지 잘 모르겠다.\n",
    "`yield`가 어떤 기능을 하는지도 정확히 모르겠다.\n",
    "어쨌든 교재에서는 첫번째 코드보다는 두번째 코드가 더 낫다고 말한다.\n",
    "\n",
    "첫번째 코드에서 `get_dataset_list(my_list)`의 결과는, 익숙한 `list`이다.\n",
    "하지만 두번째 코드에서 `get_dataset_generator(my_list)`의 결과는 `generator`이다.\n",
    "나중에 파이썬 코딩도장에서 해당 내용들 (yield, generator)가 나오면 확실히 이해하도록 하고, 그냥 '더 효율적으로 코드를 짜는 방식이 존재하는구나'라고 생각하고 넘어가려고 한다.\n",
    "\n",
    "아래는 본문의 내용을 그냥 rephrase해본 것이다.\n",
    " - 첫번째 코드의 문제는 `for`문을 세 번이나 쓴다는 점이다.\n",
    " 2중의 `for`문을 거쳐 `list` 형식의 `get_dataset_list(my_list)`를 얻었지만 이 `list`에 대해 다시 `for`문을 돌리니 삼중 `for`문인 것이다.\n",
    " - 두번째 코드는 이를 해결한다.\n",
    "   - 가장 먼저 눈에 띄는 차이는 첫번째 코드의 `get_dataset_list` 함수는 `return` 명령어로서 그 출력값을 명시하고 있지만 `get_dataset_generator`에서는 `return`명령어가 없는 것이다.\n",
    "   - `yield`는 코드 실행의 순서를 밖으로 '양보'한다.\n",
    "   첫번째 코드에서처럼, `(i,j)`를 리스트에 넣어놓는 것도 아니고, 특정한 변수에 할당하는 것도 아니며, 어떻게 할 지를 유보한 채로 있다.\n",
    "   그렇다고 `(i,j)`를 아예 안 쓰는 것은 아니다.\n",
    "   또한 해당 코드 위치의 `i`값과 `j`값의 의미가 사라진 것도 아니다.\n",
    "   `(i,j)`라는 대상이 `i`와 `j`에 위치한다는 것을 저장한 채로 출력되고, 그 출력된 결과는 generator라는 클래스에 소속된 어떤 대상이다.\n",
    "   - 모르긴 몰라도 `generator` 클래스는 `enumerate` 클래스, `zip` 클래스와 비슷한 종류의 어떤 것인 것 같다.\n",
    "   rank 2 tensor, 즉 matrix의 형태를 지닌 2차원의 array인 것이다.\n",
    "   `for X,y in data_generator`라는 코드에서 그렇게 유추할 수 있다.\n",
    "   `enumerate`와 `zip`의 문법과 비슷해보이는 것이다."
   ]
  },
  {
   "cell_type": "code",
   "execution_count": 79,
   "id": "a276cbaf",
   "metadata": {},
   "outputs": [
    {
     "name": "stdout",
     "output_type": "stream",
     "text": [
      "<enumerate object at 0x7f3c17c79400>\n",
      "[(0, 'a'), (1, 'b'), (2, 'c')]\n",
      "<zip object at 0x7f3c17c795c0>\n",
      "[('a', 1), ('b', 2), ('c', 3)]\n",
      "<generator object gen at 0x7f3c17c66ac0>\n",
      "[('a', 1), ('b', 2), ('c', 3)]\n",
      "False True\n"
     ]
    }
   ],
   "source": [
    "A = ['a','b','c']\n",
    "B = [1,2,3]\n",
    "C = enumerate(A)\n",
    "D = zip(A,B)\n",
    "def gen(a,b):\n",
    "    for i in range(3):\n",
    "        yield (a[i],b[i])\n",
    "E = gen(A,B)\n",
    "print(C)\n",
    "print(list(C))\n",
    "print(D)\n",
    "print(list(D))\n",
    "print(E)\n",
    "print(list(E))\n",
    "print(D==E,list(D)==list(E))"
   ]
  },
  {
   "cell_type": "markdown",
   "id": "a8686d8f",
   "metadata": {},
   "source": [
    " - (이어서)\n",
    "     - 실험해보니 정말로 그렇다.\n",
    "     - 하나 궁금한 건, 그렇다면 두번째 코드는 `for`문이 몇 번 중복된 `for`문으로 보는 것이 맞을까 하는 것이다. 이것에 대해서는 정확하게 알지 못하겠다."
   ]
  },
  {
   "cell_type": "markdown",
   "id": "c90d37f3",
   "metadata": {},
   "source": [
    "## 6.4. 파이썬을 더 잘 사용해보자! : Try - Except 예외 처리하기"
   ]
  },
  {
   "attachments": {
    "image.png": {
     "image/png": "[encoded data removed]"
    }
   },
   "cell_type": "markdown",
   "id": "680d1959",
   "metadata": {},
   "source": [
    "$\\TeX$에서 컴파일 오류가 날 때 오류를 잠시 무시하고 다음 스텝으로 가는 단축키가 있었던 것으로 기억한다.\n",
    "어떤 단축키였는지는 잘 기억이 나지 않고 실제 $\\TeX$ 작업을 할 때에 이것을 사용한 적도 거의 없다.\n",
    "하지만, 이 section에서 말하는 게 바로 이런 내용인 것 같다.\n",
    "\n",
    "`try`, `except` : 예외 처리를 위한 방법\n",
    " - 예외(exception) : 코드를 실행하는 중에 발생한 에러\n",
    " - 예외처리란, 코드를 수행하다가 예외(에러)가 발생했을 때,\n",
    "    - 예외(에러)를 무시하게 하거나\n",
    "    - 예외(에러)를 대신 적절히 처리해주게 하는  \n",
    " \n",
    " 작업을 의미한다.\n",
    " \n",
    "![image.png](attachment:image.png)\n",
    "\n",
    "위의 도표에서 보듯, 예외처리를 설정해놓고 코드를 실행하면 다음 둘 중 하나의 과정을 따른다.\n",
    " - (에러가 발생하지 않는다.)\n",
    " 정상적으로 코드가 진행된다.\n",
    " 따라서 `Except`가 발동되지 않는다.\n",
    " - (에러가 발생한다.)\n",
    " `Except`가 발동된다.\n",
    " 적당한 우회코드를 거쳐 어쨌든 컴파일이 ('컴파일'은 조금 부정확한 단어 선택일 수 있겠다.) 완료되도록 한다. (코드 진행이 완료되도록 한다.)"
   ]
  },
  {
   "cell_type": "code",
   "execution_count": 87,
   "id": "772222d2",
   "metadata": {},
   "outputs": [
    {
     "name": "stdout",
     "output_type": "stream",
     "text": [
      "5 0\n",
      "0 으로 나누면 안돼요.\n"
     ]
    }
   ],
   "source": [
    "x, y = map(float,input().split())\n",
    "try:\n",
    "    print(x/y)\n",
    "except:\n",
    "    print(0,'으로 나누면 안돼요.')"
   ]
  },
  {
   "cell_type": "markdown",
   "id": "f6f10185",
   "metadata": {},
   "source": [
    "`try`와 `except`는 단독으로는 존재할 수 없다."
   ]
  },
  {
   "cell_type": "code",
   "execution_count": 90,
   "id": "bef563d4",
   "metadata": {},
   "outputs": [
    {
     "ename": "SyntaxError",
     "evalue": "unexpected EOF while parsing (3531143227.py, line 3)",
     "output_type": "error",
     "traceback": [
      "\u001b[0;36m  File \u001b[0;32m\"/tmp/ipykernel_32/3531143227.py\"\u001b[0;36m, line \u001b[0;32m3\u001b[0m\n\u001b[0;31m    print(x/y)\u001b[0m\n\u001b[0m              ^\u001b[0m\n\u001b[0;31mSyntaxError\u001b[0m\u001b[0;31m:\u001b[0m unexpected EOF while parsing\n"
     ]
    }
   ],
   "source": [
    "x, y = map(float,input().split())\n",
    "try:\n",
    "    print(x/y)"
   ]
  },
  {
   "cell_type": "code",
   "execution_count": 91,
   "id": "6697ac02",
   "metadata": {},
   "outputs": [
    {
     "ename": "SyntaxError",
     "evalue": "invalid syntax (2769222631.py, line 2)",
     "output_type": "error",
     "traceback": [
      "\u001b[0;36m  File \u001b[0;32m\"/tmp/ipykernel_32/2769222631.py\"\u001b[0;36m, line \u001b[0;32m2\u001b[0m\n\u001b[0;31m    except:\u001b[0m\n\u001b[0m    ^\u001b[0m\n\u001b[0;31mSyntaxError\u001b[0m\u001b[0;31m:\u001b[0m invalid syntax\n"
     ]
    }
   ],
   "source": [
    "x, y = map(float,input().split())\n",
    "except:\n",
    "    print(0,'으로 나누면 안돼요.')"
   ]
  },
  {
   "cell_type": "markdown",
   "id": "8d3112b7",
   "metadata": {},
   "source": [
    "## 6.5. 파이썬을 더 잘 사용해보자! : Multiprocessing"
   ]
  },
  {
   "cell_type": "markdown",
   "id": "cdd0e624",
   "metadata": {},
   "source": [
    "### 실행시간 측정"
   ]
  },
  {
   "cell_type": "code",
   "execution_count": 92,
   "id": "c5cbb5d5",
   "metadata": {},
   "outputs": [
    {
     "name": "stdout",
     "output_type": "stream",
     "text": [
      "time : 0.0001456737518310547\n"
     ]
    }
   ],
   "source": [
    "import time\n",
    "start = time.time()  # 시작 시간 저장\n",
    "\n",
    "a = 1\n",
    "for i in range(100):\n",
    "\ta += 1\n",
    " \n",
    "# 작업 코드\n",
    "print(\"time :\", time.time() - start) # 결과는 '초' 단위 입니다."
   ]
  },
  {
   "cell_type": "markdown",
   "id": "8e4cff53",
   "metadata": {},
   "source": [
    "`for`문을 중첩사용하면 코드 진행시간은 기하급수적으로 증가한다"
   ]
  },
  {
   "cell_type": "code",
   "execution_count": 105,
   "id": "863e78e3",
   "metadata": {},
   "outputs": [
    {
     "name": "stdout",
     "output_type": "stream",
     "text": [
      "1중 : 0.00013709068298339844\n",
      "2중 : 0.09236383438110352\n",
      "3중 : 119.49976921081543\n"
     ]
    }
   ],
   "source": [
    "import time\n",
    "# 한 번\n",
    "start1 = time.time()\n",
    "R = range(1000)\n",
    "for i in R:\n",
    "    i*i\n",
    "end1 = time.time()\n",
    "# 두 번\n",
    "start2 = time.time()\n",
    "for i in R:\n",
    "    for j in R:\n",
    "        i*j\n",
    "end2 = time.time()\n",
    "# 세 번\n",
    "start3 = time.time()\n",
    "for i in R:\n",
    "    for j in R:\n",
    "        for k in R:\n",
    "            i*j*k\n",
    "end3 = time.time()\n",
    "print(\"1중 :\", end1 - start1)\n",
    "print(\"2중 :\", end2 - start2)\n",
    "print(\"3중 :\", end3 - start3)"
   ]
  },
  {
   "cell_type": "code",
   "execution_count": 109,
   "id": "194bedfc",
   "metadata": {},
   "outputs": [
    {
     "name": "stdout",
     "output_type": "stream",
     "text": [
      "6.031990051269531e-05\n",
      "5.078315734863281e-05\n"
     ]
    }
   ],
   "source": [
    "import time\n",
    "\n",
    "# one for loop of length 9\n",
    "start1 = time.time()\n",
    "for i in range(9):\n",
    "    i*i\n",
    "end1 = time.time()\n",
    "\n",
    "# two for loop, each of length 3\n",
    "start2 = time.time()\n",
    "for i in range(3):\n",
    "    for j in range(3):\n",
    "        i*j\n",
    "end2 = time.time()\n",
    "print(end1 - start1)\n",
    "print(end2 - start2)"
   ]
  },
  {
   "cell_type": "markdown",
   "id": "f44a3ce1",
   "metadata": {},
   "source": [
    "예상했던 대로, 소요시간이  약1000배씩 늘어난다."
   ]
  },
  {
   "cell_type": "code",
   "execution_count": 106,
   "id": "4a3829fc",
   "metadata": {},
   "outputs": [
    {
     "name": "stdout",
     "output_type": "stream",
     "text": [
      "673.7426086956522\n",
      "1293.7939401448625\n",
      "871684.1043478261\n"
     ]
    }
   ],
   "source": [
    "print((end2-start2)/(end1-start1))\n",
    "print((end3-start3)/(end2-start2))\n",
    "print((end3-start3)/(end1-start1))"
   ]
  },
  {
   "cell_type": "markdown",
   "id": "445e3384",
   "metadata": {},
   "source": [
    "### Multiprocessing(멀티프로세싱)"
   ]
  },
  {
   "cell_type": "markdown",
   "id": "6cddfa91",
   "metadata": {},
   "source": [
    " - 멀티프로세싱은 컴퓨터가 작업을 처리하는 속도를 높여주는 방법 중 하나이다.\n",
    " - 자전거의 비유\n",
    " \n",
    " |순차처리|병렬처리|\n",
    " |:-:|:-:|\n",
    " |serial processing|parallel processing|\n",
    " |CPU<font color=red>?</font>|GPU<font color=red>?</font>|"
   ]
  },
  {
   "cell_type": "code",
   "execution_count": 110,
   "id": "fe0345fc",
   "metadata": {},
   "outputs": [
    {
     "name": "stdout",
     "output_type": "stream",
     "text": [
      "finish:p1\n",
      "\n",
      "finish:p2\n",
      "\n",
      "finish:p3\n",
      "\n",
      "finish:p4\n",
      "\n",
      "time : 20.02168917655945\n"
     ]
    }
   ],
   "source": [
    "import time\n",
    "\n",
    "num_list = ['p1','p2', 'p3', 'p4']\n",
    "start = time.time()\n",
    "\n",
    "def count(name):\n",
    "    time.sleep(5) # 5초를 세는(기다리는) 코드\n",
    "    print(\"finish:\"+name+\"\\n\")\n",
    "\n",
    "for num in num_list:\n",
    "    count(num)\n",
    "\n",
    "print(\"time :\", time.time() - start)"
   ]
  },
  {
   "cell_type": "code",
   "execution_count": 113,
   "id": "35b7ccc8",
   "metadata": {},
   "outputs": [
    {
     "name": "stdout",
     "output_type": "stream",
     "text": [
      "<multiprocessing.pool.Pool state=RUN pool_size=2> <class 'multiprocessing.pool.Pool'>\n",
      "finish:p1\n",
      "finish:p2\n",
      "\n",
      "\n",
      "finish:p4\n",
      "finish:p3\n",
      "\n",
      "\n",
      "<multiprocessing.pool.Pool state=RUN pool_size=2> <class 'multiprocessing.pool.Pool'>\n",
      "<multiprocessing.pool.Pool state=CLOSE pool_size=2> <class 'multiprocessing.pool.Pool'>\n",
      "<multiprocessing.pool.Pool state=CLOSE pool_size=2> <class 'multiprocessing.pool.Pool'>\n",
      "time : 10.096472263336182\n"
     ]
    }
   ],
   "source": [
    "import multiprocessing\n",
    "import time\n",
    "\n",
    "num_list = ['p1','p2', 'p3', 'p4']\n",
    "start = time.time()\n",
    "\n",
    "def count(name):\n",
    "    time.sleep(5)\n",
    "    print(\"finish:\"+name+\"\\n\")\n",
    "    \n",
    "\n",
    "if __name__ == '__main__':\n",
    "    pool = multiprocessing.Pool(processes = 2)\n",
    "    print(pool,type(pool))\n",
    "    pool.map(count, num_list)\n",
    "    print(pool,type(pool))\n",
    "    pool.close()\n",
    "    print(pool,type(pool))\n",
    "    pool.join()\n",
    "    print(pool,type(pool))\n",
    "\n",
    "print(\"time :\", time.time() - start)"
   ]
  },
  {
   "cell_type": "markdown",
   "id": "5df8c29c",
   "metadata": {},
   "source": [
    " - 매서드 체이닝(코딩도장 24.1.16.)을 써도 될 것 같은데 그렇게 하지는 않은 것 같다. 가독성을 위해서라고 보여진다.\n",
    " - 중간에 `pool`과 `type(pool)`을 순차적으로 출력해보았다.\n",
    "     - `pool`은 `multiprocessing.pool.Pool`이라는 클래스의 객체이다.\n",
    "     - 이 객체는 두 개의 매개변수(parameter) <font color=grey>[인수(argument)?, 속성(attribute)?]</font> `state`과 `pool_size`를 가진다.\n",
    " "
   ]
  },
  {
   "cell_type": "code",
   "execution_count": null,
   "id": "a9555116",
   "metadata": {},
   "outputs": [],
   "source": [
    "start3 = time.time()\n",
    "for i in R:\n",
    "    for j in R:\n",
    "        for k in R:\n",
    "            i*j*k\n",
    "end3 = time.time()"
   ]
  },
  {
   "cell_type": "markdown",
   "id": "6c7706fd",
   "metadata": {},
   "source": [
    "## 6.6. 같은 코드 두 번 짜지 말자! : 함수 사용하기"
   ]
  },
  {
   "cell_type": "markdown",
   "id": "7dcd4118",
   "metadata": {},
   "source": [
    "## 6.7. 같은 코드 두 번 짜지 말자! : 함수 사용 팁"
   ]
  },
  {
   "cell_type": "markdown",
   "id": "09fb3937",
   "metadata": {},
   "source": [
    "## 6.8. 같은 코드 두 번 짜지 말자! : 람다 표현식"
   ]
  },
  {
   "cell_type": "markdown",
   "id": "06a57c4b",
   "metadata": {},
   "source": [
    "## 6.9. 같은 코드 두 번 짜지 말자! : 클래스, 모듈, 패키지"
   ]
  },
  {
   "cell_type": "markdown",
   "id": "8469c79c",
   "metadata": {},
   "source": [
    "## 6.10. 프로그래밍 패러다임과 함수형 프로그래밍"
   ]
  },
  {
   "cell_type": "markdown",
   "id": "fa190b7d",
   "metadata": {},
   "source": [
    "## 6.11. 파이써닉하게 코드를 짜보자!"
   ]
  }
 ],
 "metadata": {
  "kernelspec": {
   "display_name": "Python 3 (ipykernel)",
   "language": "python",
   "name": "python3"
  },
  "language_info": {
   "codemirror_mode": {
    "name": "ipython",
    "version": 3
   },
   "file_extension": ".py",
   "mimetype": "text/x-python",
   "name": "python",
   "nbconvert_exporter": "python",
   "pygments_lexer": "ipython3",
   "version": "3.9.7"
  }
 },
 "nbformat": 4,
 "nbformat_minor": 5
}
