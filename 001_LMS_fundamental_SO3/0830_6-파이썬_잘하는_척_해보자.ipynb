{
 "cells": [
  {
   "cell_type": "markdown",
   "id": "80a9c1ba",
   "metadata": {},
   "source": [
    "# 아이펠 2주차 화요일(0830)"
   ]
  },
  {
   "cell_type": "markdown",
   "id": "860002ed",
   "metadata": {},
   "source": [
    "# 6. 파이썬 잘하는 척 해보자"
   ]
  },
  {
   "cell_type": "markdown",
   "id": "4e3eb081",
   "metadata": {},
   "source": [
    "## 6.1. 파이썬 어디까지 써봤니?"
   ]
  },
  {
   "cell_type": "markdown",
   "id": "453231e7",
   "metadata": {},
   "source": [
    "## 6.2. 파이썬을 더 잘 사용해보자!"
   ]
  },
  {
   "cell_type": "markdown",
   "id": "e5a01cd3",
   "metadata": {},
   "source": [
    "### 6.2.1. For 문 잘 써보기"
   ]
  },
  {
   "cell_type": "markdown",
   "id": "2659ace2",
   "metadata": {},
   "source": [
    "### 6.2.2. Try-Except"
   ]
  },
  {
   "cell_type": "markdown",
   "id": "a08af623",
   "metadata": {},
   "source": [
    "### 6.2.3. Multiprocessing"
   ]
  },
  {
   "cell_type": "markdown",
   "id": "8a7febcf",
   "metadata": {},
   "source": [
    "## 6.3. 같은 코드 두 번 짜지 말자!"
   ]
  },
  {
   "cell_type": "markdown",
   "id": "22ee480f",
   "metadata": {},
   "source": [
    "### 6.3.1. 함수(Function)"
   ]
  },
  {
   "cell_type": "markdown",
   "id": "c76c0865",
   "metadata": {},
   "source": [
    "### 6.3.2. 람다 표현식"
   ]
  },
  {
   "cell_type": "markdown",
   "id": "d24eff4a",
   "metadata": {},
   "source": [
    "### 6.3.2. 클래스(Class), 모듈(Module), 패키지(Package)"
   ]
  },
  {
   "cell_type": "markdown",
   "id": "93409479",
   "metadata": {},
   "source": [
    "## 6.4. 프로그래밍 패러다임과 함수형 프로그래밍"
   ]
  },
  {
   "cell_type": "markdown",
   "id": "8e2d3d9c",
   "metadata": {},
   "source": [
    "## 6.5. 파이써닉하게 코드를 짜보자!"
   ]
  }
 ],
 "metadata": {
  "kernelspec": {
   "display_name": "Python 3 (ipykernel)",
   "language": "python",
   "name": "python3"
  },
  "language_info": {
   "codemirror_mode": {
    "name": "ipython",
    "version": 3
   },
   "file_extension": ".py",
   "mimetype": "text/x-python",
   "name": "python",
   "nbconvert_exporter": "python",
   "pygments_lexer": "ipython3",
   "version": "3.9.7"
  }
 },
 "nbformat": 4,
 "nbformat_minor": 5
}
