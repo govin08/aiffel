{
 "cells": [
  {
   "cell_type": "code",
   "execution_count": 2,
   "id": "1678f4a4",
   "metadata": {},
   "outputs": [],
   "source": [
    "code = '# mycalculator.py\\ntest = \"you can use this module.\"\\n\\ndef add(a, b):\\n    return a + b\\n \\ndef mul(a, b):\\n    return a * b\\n\\ndef sub(a, b):\\n    return a - b\\n\\ndef div(a, b):\\n    return a / b\\n\\n\\nclass all_calc():\\n\\n    def __init__(self, a, b):\\n        self.a = a\\n        self.b = b\\n\\n    def add(self):\\n        return self.a + self.b\\n \\n    def mul(self):\\n        return self.a * self.b\\n\\n    def sub(self):\\n        return self.a - self.b\\n\\n    def div(self):\\n        return self.a / self.b'\n",
    "\n",
    "f = open(\"mycalculator.py\", \"w\")\n",
    "f.write(code)\n",
    "f.close()"
   ]
  }
 ],
 "metadata": {
  "kernelspec": {
   "display_name": "Python 3 (ipykernel)",
   "language": "python",
   "name": "python3"
  },
  "language_info": {
   "codemirror_mode": {
    "name": "ipython",
    "version": 3
   },
   "file_extension": ".py",
   "mimetype": "text/x-python",
   "name": "python",
   "nbconvert_exporter": "python",
   "pygments_lexer": "ipython3",
   "version": "3.9.7"
  }
 },
 "nbformat": 4,
 "nbformat_minor": 5
}
