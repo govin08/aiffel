{
 "cells": [
  {
   "cell_type": "markdown",
   "id": "b668fff9",
   "metadata": {},
   "source": [
    "# 아이펠 2주차 금요일(0902)"
   ]
  },
  {
   "cell_type": "markdown",
   "id": "48569c0a",
   "metadata": {},
   "source": [
    "# 9. 데이터를 한눈에! Visualization"
   ]
  },
  {
   "cell_type": "markdown",
   "id": "282099ea",
   "metadata": {},
   "source": [
    "## 9.1. 들어가며\n",
    "\n",
    "Keywords : \n",
    " - pandas, matplotlib, seaborn\n",
    " - EDA\n",
    " \n",
    "Table of Contents : \n",
    " - 파이썬으로 그래프를 그린다는 건?\n",
    " - 간단한 그래프 그리기\n",
    " - 그래프 4대 천왕 : 막대그래프, 선그래프, 산점도, 히스토그램\n",
    " - 시계열데이터 시각화하기"
   ]
  },
  {
   "cell_type": "markdown",
   "id": "a515695d",
   "metadata": {},
   "source": [
    "## 9.2. 파이썬으로 그래프를 그린다는 건?"
   ]
  },
  {
   "cell_type": "markdown",
   "id": "8b1e5e9e",
   "metadata": {},
   "source": [
    "파이썬은 pandas, matplotlib, seaborn 등 여러가지 시각화 라이브러리를 제공한다.\n",
    "\n",
    "`# pip list | grep matplotlib`\n",
    "\n",
    "`# pip list | grep seaborn`"
   ]
  },
  {
   "cell_type": "code",
   "execution_count": 8,
   "id": "deb295d8",
   "metadata": {},
   "outputs": [
    {
     "data": {
      "image/png": "[encoded data removed]",
      "text/plain": [
       "<Figure size 432x288 with 1 Axes>"
      ]
     },
     "metadata": {
      "needs_background": "light"
     },
     "output_type": "display_data"
    }
   ],
   "source": [
    "import matplotlib.pyplot as plt\n",
    "%matplotlib inline\n",
    "\n",
    "# 그래프 데이터 \n",
    "subject = ['English', 'Math', 'Korean', 'Science', 'Computer']\n",
    "points = [40, 90, 50, 60, 100]\n",
    "\n",
    "# 축 그리기\n",
    "fig = plt.figure()\n",
    "ax1 = fig.add_subplot(1,1,1)\n",
    "\n",
    "# 그래프 그리기\n",
    "ax1.bar(subject, points)\n",
    "\n",
    "# 라벨, 타이틀 달기\n",
    "plt.xlabel('Subject')\n",
    "plt.ylabel('Points')\n",
    "plt.title(\"Yuna's Test Result\")\n",
    "\n",
    "# 보여주기\n",
    "plt.savefig('./barplot.png')  # 그래프를 이미지로 출력\n",
    "plt.show()                    # 그래프를 화면으로 출력"
   ]
  },
  {
   "cell_type": "markdown",
   "id": "38a288f8",
   "metadata": {},
   "source": [
    "## 9.3. 간단한 그래프 그리기 (1) 막대그래프 그리기"
   ]
  },
  {
   "cell_type": "markdown",
   "id": "e0abd411",
   "metadata": {},
   "source": [
    "### 1. 데이터 정의"
   ]
  },
  {
   "cell_type": "code",
   "execution_count": 9,
   "id": "3c46eec1",
   "metadata": {},
   "outputs": [],
   "source": [
    "import matplotlib.pyplot as plt\n",
    "%matplotlib inline\n",
    "\n",
    "# 그래프 데이터 \n",
    "subject = ['English', 'Math', 'Korean', 'Science', 'Computer']\n",
    "points = [40, 90, 50, 60, 100]"
   ]
  },
  {
   "cell_type": "markdown",
   "id": "d46af023",
   "metadata": {},
   "source": [
    "### 2. 축 그리기"
   ]
  },
  {
   "cell_type": "code",
   "execution_count": 12,
   "id": "2a6a5683",
   "metadata": {},
   "outputs": [
    {
     "data": {
      "image/png": "[encoded data removed]",
      "text/plain": [
       "<Figure size 432x288 with 1 Axes>"
      ]
     },
     "metadata": {
      "needs_background": "light"
     },
     "output_type": "display_data"
    }
   ],
   "source": [
    "# 축 그리기\n",
    "fig = plt.figure() #도화지(그래프) 객체 생성\n",
    "ax1 = fig.add_subplot(1,1,1) #figure()객체에 add_subplot 메서드를 이용해 축을 그려준다."
   ]
  },
  {
   "cell_type": "code",
   "execution_count": 13,
   "id": "9348c276",
   "metadata": {},
   "outputs": [
    {
     "name": "stdout",
     "output_type": "stream",
     "text": [
      "Figure(432x288)\n",
      "<class 'matplotlib.figure.Figure'>\n",
      "AxesSubplot(0.125,0.125;0.775x0.755)\n",
      "<class 'matplotlib.axes._subplots.AxesSubplot'>\n"
     ]
    }
   ],
   "source": [
    "print(fig)\n",
    "print(type(fig))\n",
    "print(ax1)\n",
    "print(type(ax1))"
   ]
  },
  {
   "cell_type": "code",
   "execution_count": 14,
   "id": "ca278422",
   "metadata": {
    "scrolled": true
   },
   "outputs": [
    {
     "data": {
      "image/png": "[encoded data removed]",
      "text/plain": [
       "<Figure size 360x144 with 1 Axes>"
      ]
     },
     "metadata": {
      "needs_background": "light"
     },
     "output_type": "display_data"
    }
   ],
   "source": [
    "fig = plt.figure(figsize=(5,2))\n",
    "ax1 = fig.add_subplot(1,1,1)"
   ]
  },
  {
   "cell_type": "code",
   "execution_count": 15,
   "id": "ace83999",
   "metadata": {},
   "outputs": [
    {
     "data": {
      "image/png": "[encoded data removed]",
      "text/plain": [
       "<Figure size 432x288 with 3 Axes>"
      ]
     },
     "metadata": {
      "needs_background": "light"
     },
     "output_type": "display_data"
    }
   ],
   "source": [
    "fig = plt.figure()\n",
    "ax1 = fig.add_subplot(2,2,1)\n",
    "ax2 = fig.add_subplot(2,2,2)\n",
    "ax3 = fig.add_subplot(2,2,4)"
   ]
  },
  {
   "cell_type": "markdown",
   "id": "2113c7e5",
   "metadata": {},
   "source": [
    "### 2. 축 그리기"
   ]
  },
  {
   "cell_type": "markdown",
   "id": "109a809e",
   "metadata": {},
   "source": [
    "### 3. 그래프 그리기"
   ]
  },
  {
   "cell_type": "code",
   "execution_count": 16,
   "id": "a51d0091",
   "metadata": {},
   "outputs": [
    {
     "data": {
      "text/plain": [
       "<BarContainer object of 5 artists>"
      ]
     },
     "execution_count": 16,
     "metadata": {},
     "output_type": "execute_result"
    },
    {
     "data": {
      "image/png": "[encoded data removed]",
      "text/plain": [
       "<Figure size 432x288 with 1 Axes>"
      ]
     },
     "metadata": {
      "needs_background": "light"
     },
     "output_type": "display_data"
    }
   ],
   "source": [
    "# 그래프 데이터 \n",
    "subject = ['English', 'Math', 'Korean', 'Science', 'Computer']\n",
    "points = [40, 90, 50, 60, 100]\n",
    "\n",
    "# 축 그리기\n",
    "fig = plt.figure()\n",
    "ax1 = fig.add_subplot(1,1,1)\n",
    "\n",
    "# 그래프 그리기\n",
    "ax1.bar(subject,points)"
   ]
  },
  {
   "cell_type": "markdown",
   "id": "d6363fbd",
   "metadata": {},
   "source": [
    "### 4. 그래프 요소 추가"
   ]
  },
  {
   "cell_type": "code",
   "execution_count": 17,
   "id": "410c6ce0",
   "metadata": {
    "scrolled": true
   },
   "outputs": [
    {
     "data": {
      "text/plain": [
       "Text(0.5, 1.0, \"Yuna's Test Result\")"
      ]
     },
     "execution_count": 17,
     "metadata": {},
     "output_type": "execute_result"
    },
    {
     "data": {
      "image/png": "[encoded data removed]",
      "text/plain": [
       "<Figure size 432x288 with 1 Axes>"
      ]
     },
     "metadata": {
      "needs_background": "light"
     },
     "output_type": "display_data"
    }
   ],
   "source": [
    "# 그래프 데이터 \n",
    "subject = ['English', 'Math', 'Korean', 'Science', 'Computer']\n",
    "points = [40, 90, 50, 60, 100]\n",
    "\n",
    "# 축 그리기\n",
    "fig = plt.figure()\n",
    "ax1 = fig.add_subplot(1,1,1)\n",
    "\n",
    "# 그래프 그리기\n",
    "ax1.bar(subject, points)\n",
    "\n",
    "# 라벨, 타이틀 달기\n",
    "plt.xlabel('Subject')\n",
    "plt.ylabel('Points')\n",
    "plt.title(\"Yuna's Test Result\")"
   ]
  },
  {
   "cell_type": "markdown",
   "id": "8c27d0d7",
   "metadata": {},
   "source": [
    "## 9.4. 간단한 그래프 그리기 (2) 선 그래프 그려보기"
   ]
  },
  {
   "cell_type": "code",
   "execution_count": 48,
   "id": "773f1abf",
   "metadata": {},
   "outputs": [],
   "source": [
    "from datetime import datetime\n",
    "import pandas as pd\n",
    "import os\n",
    "\n",
    "# 그래프 데이터 \n",
    "csv_path = os.getenv(\"HOME\") + \"/aiffel/data_visualization/data/AMZN.csv\"\n",
    "data = pd.read_csv(csv_path ,index_col=0, parse_dates=True)\n",
    "price = data['Close']"
   ]
  },
  {
   "cell_type": "code",
   "execution_count": 49,
   "id": "d5796341",
   "metadata": {},
   "outputs": [
    {
     "data": {
      "text/html": [
       "<div>\n",
       "<style scoped>\n",
       "    .dataframe tbody tr th:only-of-type {\n",
       "        vertical-align: middle;\n",
       "    }\n",
       "\n",
       "    .dataframe tbody tr th {\n",
       "        vertical-align: top;\n",
       "    }\n",
       "\n",
       "    .dataframe thead th {\n",
       "        text-align: right;\n",
       "    }\n",
       "</style>\n",
       "<table border=\"1\" class=\"dataframe\">\n",
       "  <thead>\n",
       "    <tr style=\"text-align: right;\">\n",
       "      <th></th>\n",
       "      <th>Open</th>\n",
       "      <th>High</th>\n",
       "      <th>Low</th>\n",
       "      <th>Close</th>\n",
       "      <th>Adj Close</th>\n",
       "      <th>Volume</th>\n",
       "    </tr>\n",
       "    <tr>\n",
       "      <th>Date</th>\n",
       "      <th></th>\n",
       "      <th></th>\n",
       "      <th></th>\n",
       "      <th></th>\n",
       "      <th></th>\n",
       "      <th></th>\n",
       "    </tr>\n",
       "  </thead>\n",
       "  <tbody>\n",
       "    <tr>\n",
       "      <th>2019-03-25</th>\n",
       "      <td>1757.790039</td>\n",
       "      <td>1782.680054</td>\n",
       "      <td>1747.500000</td>\n",
       "      <td>1774.260010</td>\n",
       "      <td>1774.260010</td>\n",
       "      <td>5103800</td>\n",
       "    </tr>\n",
       "    <tr>\n",
       "      <th>2019-03-26</th>\n",
       "      <td>1793.000000</td>\n",
       "      <td>1805.770020</td>\n",
       "      <td>1773.359985</td>\n",
       "      <td>1783.760010</td>\n",
       "      <td>1783.760010</td>\n",
       "      <td>4865900</td>\n",
       "    </tr>\n",
       "    <tr>\n",
       "      <th>2019-03-27</th>\n",
       "      <td>1784.130005</td>\n",
       "      <td>1787.500000</td>\n",
       "      <td>1745.680054</td>\n",
       "      <td>1765.699951</td>\n",
       "      <td>1765.699951</td>\n",
       "      <td>4324800</td>\n",
       "    </tr>\n",
       "    <tr>\n",
       "      <th>2019-03-28</th>\n",
       "      <td>1770.000000</td>\n",
       "      <td>1777.930054</td>\n",
       "      <td>1753.469971</td>\n",
       "      <td>1773.420044</td>\n",
       "      <td>1773.420044</td>\n",
       "      <td>3043000</td>\n",
       "    </tr>\n",
       "    <tr>\n",
       "      <th>2019-03-29</th>\n",
       "      <td>1786.579956</td>\n",
       "      <td>1792.859985</td>\n",
       "      <td>1776.630005</td>\n",
       "      <td>1780.750000</td>\n",
       "      <td>1780.750000</td>\n",
       "      <td>3320800</td>\n",
       "    </tr>\n",
       "    <tr>\n",
       "      <th>...</th>\n",
       "      <td>...</td>\n",
       "      <td>...</td>\n",
       "      <td>...</td>\n",
       "      <td>...</td>\n",
       "      <td>...</td>\n",
       "      <td>...</td>\n",
       "    </tr>\n",
       "    <tr>\n",
       "      <th>2020-03-16</th>\n",
       "      <td>1641.510010</td>\n",
       "      <td>1759.449951</td>\n",
       "      <td>1626.030029</td>\n",
       "      <td>1689.150024</td>\n",
       "      <td>1689.150024</td>\n",
       "      <td>8917300</td>\n",
       "    </tr>\n",
       "    <tr>\n",
       "      <th>2020-03-17</th>\n",
       "      <td>1775.469971</td>\n",
       "      <td>1857.780029</td>\n",
       "      <td>1689.239990</td>\n",
       "      <td>1807.839966</td>\n",
       "      <td>1807.839966</td>\n",
       "      <td>10917100</td>\n",
       "    </tr>\n",
       "    <tr>\n",
       "      <th>2020-03-18</th>\n",
       "      <td>1750.000000</td>\n",
       "      <td>1841.660034</td>\n",
       "      <td>1745.000000</td>\n",
       "      <td>1830.000000</td>\n",
       "      <td>1830.000000</td>\n",
       "      <td>9645200</td>\n",
       "    </tr>\n",
       "    <tr>\n",
       "      <th>2020-03-19</th>\n",
       "      <td>1860.000000</td>\n",
       "      <td>1945.000000</td>\n",
       "      <td>1832.650024</td>\n",
       "      <td>1880.930054</td>\n",
       "      <td>1880.930054</td>\n",
       "      <td>10399900</td>\n",
       "    </tr>\n",
       "    <tr>\n",
       "      <th>2020-03-20</th>\n",
       "      <td>1926.310059</td>\n",
       "      <td>1957.000000</td>\n",
       "      <td>1820.729980</td>\n",
       "      <td>1846.089966</td>\n",
       "      <td>1846.089966</td>\n",
       "      <td>9807600</td>\n",
       "    </tr>\n",
       "  </tbody>\n",
       "</table>\n",
       "<p>251 rows × 6 columns</p>\n",
       "</div>"
      ],
      "text/plain": [
       "                   Open         High          Low        Close    Adj Close  \\\n",
       "Date                                                                          \n",
       "2019-03-25  1757.790039  1782.680054  1747.500000  1774.260010  1774.260010   \n",
       "2019-03-26  1793.000000  1805.770020  1773.359985  1783.760010  1783.760010   \n",
       "2019-03-27  1784.130005  1787.500000  1745.680054  1765.699951  1765.699951   \n",
       "2019-03-28  1770.000000  1777.930054  1753.469971  1773.420044  1773.420044   \n",
       "2019-03-29  1786.579956  1792.859985  1776.630005  1780.750000  1780.750000   \n",
       "...                 ...          ...          ...          ...          ...   \n",
       "2020-03-16  1641.510010  1759.449951  1626.030029  1689.150024  1689.150024   \n",
       "2020-03-17  1775.469971  1857.780029  1689.239990  1807.839966  1807.839966   \n",
       "2020-03-18  1750.000000  1841.660034  1745.000000  1830.000000  1830.000000   \n",
       "2020-03-19  1860.000000  1945.000000  1832.650024  1880.930054  1880.930054   \n",
       "2020-03-20  1926.310059  1957.000000  1820.729980  1846.089966  1846.089966   \n",
       "\n",
       "              Volume  \n",
       "Date                  \n",
       "2019-03-25   5103800  \n",
       "2019-03-26   4865900  \n",
       "2019-03-27   4324800  \n",
       "2019-03-28   3043000  \n",
       "2019-03-29   3320800  \n",
       "...              ...  \n",
       "2020-03-16   8917300  \n",
       "2020-03-17  10917100  \n",
       "2020-03-18   9645200  \n",
       "2020-03-19  10399900  \n",
       "2020-03-20   9807600  \n",
       "\n",
       "[251 rows x 6 columns]"
      ]
     },
     "execution_count": 49,
     "metadata": {},
     "output_type": "execute_result"
    }
   ],
   "source": [
    "data"
   ]
  },
  {
   "cell_type": "code",
   "execution_count": 50,
   "id": "cec8554c",
   "metadata": {},
   "outputs": [
    {
     "data": {
      "text/plain": [
       "Date\n",
       "2019-03-25    1774.260010\n",
       "2019-03-26    1783.760010\n",
       "2019-03-27    1765.699951\n",
       "2019-03-28    1773.420044\n",
       "2019-03-29    1780.750000\n",
       "                 ...     \n",
       "2020-03-16    1689.150024\n",
       "2020-03-17    1807.839966\n",
       "2020-03-18    1830.000000\n",
       "2020-03-19    1880.930054\n",
       "2020-03-20    1846.089966\n",
       "Name: Close, Length: 251, dtype: float64"
      ]
     },
     "execution_count": 50,
     "metadata": {},
     "output_type": "execute_result"
    }
   ],
   "source": [
    "price"
   ]
  },
  {
   "cell_type": "code",
   "execution_count": 51,
   "id": "ffecae87",
   "metadata": {},
   "outputs": [
    {
     "name": "stdout",
     "output_type": "stream",
     "text": [
      "                   Open         High          Low        Close    Adj Close  \\\n",
      "Date                                                                          \n",
      "2019-03-25  1757.790039  1782.680054  1747.500000  1774.260010  1774.260010   \n",
      "2019-03-26  1793.000000  1805.770020  1773.359985  1783.760010  1783.760010   \n",
      "2019-03-27  1784.130005  1787.500000  1745.680054  1765.699951  1765.699951   \n",
      "2019-03-28  1770.000000  1777.930054  1753.469971  1773.420044  1773.420044   \n",
      "2019-03-29  1786.579956  1792.859985  1776.630005  1780.750000  1780.750000   \n",
      "...                 ...          ...          ...          ...          ...   \n",
      "2020-03-16  1641.510010  1759.449951  1626.030029  1689.150024  1689.150024   \n",
      "2020-03-17  1775.469971  1857.780029  1689.239990  1807.839966  1807.839966   \n",
      "2020-03-18  1750.000000  1841.660034  1745.000000  1830.000000  1830.000000   \n",
      "2020-03-19  1860.000000  1945.000000  1832.650024  1880.930054  1880.930054   \n",
      "2020-03-20  1926.310059  1957.000000  1820.729980  1846.089966  1846.089966   \n",
      "\n",
      "              Volume  \n",
      "Date                  \n",
      "2019-03-25   5103800  \n",
      "2019-03-26   4865900  \n",
      "2019-03-27   4324800  \n",
      "2019-03-28   3043000  \n",
      "2019-03-29   3320800  \n",
      "...              ...  \n",
      "2020-03-16   8917300  \n",
      "2020-03-17  10917100  \n",
      "2020-03-18   9645200  \n",
      "2020-03-19  10399900  \n",
      "2020-03-20   9807600  \n",
      "\n",
      "[251 rows x 6 columns]\n",
      "<class 'pandas.core.frame.DataFrame'>\n",
      "Date\n",
      "2019-03-25    1774.260010\n",
      "2019-03-26    1783.760010\n",
      "2019-03-27    1765.699951\n",
      "2019-03-28    1773.420044\n",
      "2019-03-29    1780.750000\n",
      "                 ...     \n",
      "2020-03-16    1689.150024\n",
      "2020-03-17    1807.839966\n",
      "2020-03-18    1830.000000\n",
      "2020-03-19    1880.930054\n",
      "2020-03-20    1846.089966\n",
      "Name: Close, Length: 251, dtype: float64\n",
      "<class 'pandas.core.series.Series'>\n"
     ]
    }
   ],
   "source": [
    "print(data)\n",
    "print(type(data))\n",
    "print(price)\n",
    "print(type(price))"
   ]
  },
  {
   "cell_type": "code",
   "execution_count": 52,
   "id": "f8ade6bd",
   "metadata": {},
   "outputs": [
    {
     "data": {
      "text/plain": [
       "(18017.0, 18322.0)"
      ]
     },
     "execution_count": 52,
     "metadata": {},
     "output_type": "execute_result"
    },
    {
     "data": {
      "image/png": "[encoded data removed]",
      "text/plain": [
       "<Figure size 432x288 with 1 Axes>"
      ]
     },
     "metadata": {
      "needs_background": "light"
     },
     "output_type": "display_data"
    }
   ],
   "source": [
    "# 축 그리기 및 좌표축 설정\n",
    "fig = plt.figure()\n",
    "ax = fig.add_subplot(1,1,1)\n",
    "price.plot(ax=ax, style='black')\n",
    "plt.ylim([1600,2200])\n",
    "plt.xlim(['2019-05-01','2020-03-01'])"
   ]
  },
  {
   "cell_type": "markdown",
   "id": "18e0632b",
   "metadata": {},
   "source": [
    "아래처럼 해서는 작동이 되지 않는다."
   ]
  },
  {
   "cell_type": "code",
   "execution_count": 53,
   "id": "89b35dfe",
   "metadata": {},
   "outputs": [
    {
     "data": {
      "text/plain": [
       "(18017.0, 18322.0)"
      ]
     },
     "execution_count": 53,
     "metadata": {},
     "output_type": "execute_result"
    },
    {
     "data": {
      "image/png": "[encoded data removed]",
      "text/plain": [
       "<Figure size 432x288 with 1 Axes>"
      ]
     },
     "metadata": {
      "needs_background": "light"
     },
     "output_type": "display_data"
    }
   ],
   "source": [
    "# 축 그리기 및 좌표축 설정\n",
    "fig = plt.figure()\n",
    "ax = fig.add_subplot(1,1,1)\n",
    "price.plot(ax=ax, style='black')\n",
    "ax1.plot(price)\n",
    "plt.ylim([1600,2200])\n",
    "plt.xlim(['2019-05-01','2020-03-01'])"
   ]
  },
  {
   "cell_type": "code",
   "execution_count": 54,
   "id": "920eb957",
   "metadata": {},
   "outputs": [],
   "source": [
    "# 주석달기\n",
    "important_data = [(datetime(2019, 6, 3), \"Low Price\"),(datetime(2020, 2, 19), \"Peak Price\")]\n",
    "for d, label in important_data:\n",
    "    ax.annotate(label, xy=(d, price.asof(d)+10), # 주석을 달 좌표(x,y)\n",
    "                xytext=(d,price.asof(d)+100), # 주석 텍스트가 위차할 좌표(x,y)\n",
    "                arrowprops=dict(facecolor='red')) # 화살표 추가 및 색 설정"
   ]
  },
  {
   "cell_type": "code",
   "execution_count": 55,
   "id": "3b240a6a",
   "metadata": {},
   "outputs": [
    {
     "data": {
      "image/png": "[encoded data removed]",
      "text/plain": [
       "<Figure size 432x288 with 1 Axes>"
      ]
     },
     "metadata": {
      "needs_background": "light"
     },
     "output_type": "display_data"
    }
   ],
   "source": [
    "# 그리드, 타이틀 달기\n",
    "plt.grid()\n",
    "ax.set_title('StockPrice')\n",
    "\n",
    "# 보여주기\n",
    "plt.show()"
   ]
  },
  {
   "cell_type": "code",
   "execution_count": 61,
   "id": "b7b89284",
   "metadata": {},
   "outputs": [
    {
     "data": {
      "image/png": "[encoded data removed]",
      "text/plain": [
       "<Figure size 432x288 with 1 Axes>"
      ]
     },
     "metadata": {
      "needs_background": "light"
     },
     "output_type": "display_data"
    }
   ],
   "source": [
    "from datetime import datetime\n",
    "import pandas as pd\n",
    "import os\n",
    "\n",
    "# 그래프 데이터 \n",
    "csv_path = os.getenv(\"HOME\") + \"/aiffel/data_visualization/data/AMZN.csv\"\n",
    "data = pd.read_csv(csv_path ,index_col=0, parse_dates=True)\n",
    "price = data['Close']\n",
    "\n",
    "# 축 그리기 및 좌표축 설정\n",
    "fig = plt.figure()\n",
    "ax = fig.add_subplot(1,1,1)\n",
    "price.plot(ax=ax, style='black')\n",
    "plt.ylim([1600,2200])\n",
    "plt.xlim(['2019-05-01','2020-03-01'])\n",
    "\n",
    "# 주석달기\n",
    "important_data = [(datetime(2019, 6, 3), \"Low Price\"),(datetime(2020, 2, 19), \"Peak Price\")]\n",
    "for d, label in important_data:\n",
    "    ax.annotate(label, xy=(d, price.asof(d)+10), # 주석을 달 좌표(x,y)\n",
    "                xytext=(d,price.asof(d)+100), # 주석 텍스트가 위차할 좌표(x,y)\n",
    "                arrowprops=dict(facecolor='red')) # 화살표 추가 및 색 설정\n",
    "\n",
    "# 그리드, 타이틀 달기\n",
    "plt.grid()\n",
    "ax.set_title('StockPrice')\n",
    "\n",
    "# 보여주기\n",
    "plt.show()"
   ]
  },
  {
   "cell_type": "markdown",
   "id": "fd5da7b6",
   "metadata": {},
   "source": [
    "## 9.5. 간단한 그래프 그리기 (3) plot 사용법 상세"
   ]
  },
  {
   "cell_type": "markdown",
   "id": "8d38f69c",
   "metadata": {},
   "source": [
    "### `plt.plot()`로 그래프 그리기"
   ]
  },
  {
   "cell_type": "code",
   "execution_count": 62,
   "id": "a8b6a2eb",
   "metadata": {
    "scrolled": true
   },
   "outputs": [
    {
     "data": {
      "text/plain": [
       "<function matplotlib.pyplot.show(close=None, block=None)>"
      ]
     },
     "execution_count": 62,
     "metadata": {},
     "output_type": "execute_result"
    },
    {
     "data": {
      "image/png": "[encoded data removed]",
      "text/plain": [
       "<Figure size 432x288 with 1 Axes>"
      ]
     },
     "metadata": {
      "needs_background": "light"
     },
     "output_type": "display_data"
    }
   ],
   "source": [
    "import numpy as np\n",
    "x = np.linspace(0,10,100)\n",
    "plt.plot(x,np.sin(x),'o')\n",
    "plt.plot(x,np.cos(x),'--',color='black')\n",
    "plt.show"
   ]
  },
  {
   "cell_type": "code",
   "execution_count": 63,
   "id": "12829b1c",
   "metadata": {},
   "outputs": [
    {
     "data": {
      "image/png": "[encoded data removed]",
      "text/plain": [
       "<Figure size 432x288 with 2 Axes>"
      ]
     },
     "metadata": {
      "needs_background": "light"
     },
     "output_type": "display_data"
    }
   ],
   "source": [
    "x = np.linspace(0,10,100)\n",
    "plt.subplot(2,1,1)\n",
    "plt.plot(x, np.sin(x), 'orange','o')\n",
    "\n",
    "plt.subplot(2,1,2)\n",
    "plt.plot(x, np.cos(x), 'orange')\n",
    "plt.show()"
   ]
  },
  {
   "cell_type": "markdown",
   "id": "1b33fae3",
   "metadata": {},
   "source": [
    "### `linestyle`, `marker` 옵션"
   ]
  },
  {
   "cell_type": "code",
   "execution_count": 64,
   "id": "b7c8bcca",
   "metadata": {},
   "outputs": [
    {
     "data": {
      "image/png": "[encoded data removed]",
      "text/plain": [
       "<Figure size 432x288 with 1 Axes>"
      ]
     },
     "metadata": {
      "needs_background": "light"
     },
     "output_type": "display_data"
    }
   ],
   "source": [
    "x = np.linspace(0, 10, 100) \n",
    "\n",
    "plt.plot(x, x + 0, linestyle='solid') \n",
    "plt.plot(x, x + 1, linestyle='dashed') \n",
    "plt.plot(x, x + 2, linestyle='dashdot') \n",
    "plt.plot(x, x + 3, linestyle='dotted')\n",
    "plt.plot(x, x + 0, '-g') # solid green \n",
    "plt.plot(x, x + 1, '--c') # dashed cyan \n",
    "plt.plot(x, x + 2, '-.k') # dashdot black \n",
    "plt.plot(x, x + 3, ':r'); # dotted red\n",
    "plt.plot(x, x + 4, linestyle='-') # solid \n",
    "plt.plot(x, x + 5, linestyle='--') # dashed \n",
    "plt.plot(x, x + 6, linestyle='-.') # dashdot \n",
    "plt.plot(x, x + 7, linestyle=':'); # dotted"
   ]
  },
  {
   "cell_type": "markdown",
   "id": "0baa868a",
   "metadata": {},
   "source": [
    "### Pandas로 그래프 그리기"
   ]
  },
  {
   "cell_type": "code",
   "execution_count": 69,
   "id": "0c3dace0",
   "metadata": {},
   "outputs": [
    {
     "data": {
      "text/plain": [
       "<AxesSubplot:>"
      ]
     },
     "execution_count": 69,
     "metadata": {},
     "output_type": "execute_result"
    },
    {
     "data": {
      "image/png": "[encoded data removed]",
      "text/plain": [
       "<Figure size 432x288 with 2 Axes>"
      ]
     },
     "metadata": {
      "needs_background": "light"
     },
     "output_type": "display_data"
    }
   ],
   "source": [
    "fig, axes = plt.subplots(2, 1)\n",
    "data = pd.Series(np.random.rand(5), index=list('abcde'))\n",
    "data.plot(kind='bar', ax=axes[0], color='blue', alpha=1)\n",
    "data.plot(kind='barh', ax=axes[1], color='red', alpha=0.3)"
   ]
  },
  {
   "cell_type": "code",
   "execution_count": 74,
   "id": "c383928a",
   "metadata": {},
   "outputs": [
    {
     "name": "stdout",
     "output_type": "stream",
     "text": [
      "[<AxesSubplot:> <AxesSubplot:>]\n",
      "<class 'numpy.ndarray'>\n",
      "AxesSubplot(0.125,0.536818;0.775x0.343182)\n",
      "<class 'matplotlib.axes._subplots.AxesSubplot'>\n",
      "AxesSubplot(0.125,0.125;0.775x0.343182)\n",
      "<class 'matplotlib.axes._subplots.AxesSubplot'>\n"
     ]
    }
   ],
   "source": [
    "print(axes)\n",
    "print(type(axes))\n",
    "print(axes[0])\n",
    "print(type(axes[0]))\n",
    "print(axes[1])\n",
    "print(type(axes[1]))"
   ]
  },
  {
   "cell_type": "code",
   "execution_count": 73,
   "id": "f21c7e0d",
   "metadata": {},
   "outputs": [
    {
     "name": "stdout",
     "output_type": "stream",
     "text": [
      "Figure(432x288)\n",
      "<class 'matplotlib.figure.Figure'>\n"
     ]
    }
   ],
   "source": [
    "print(fig)\n",
    "print(type(fig))"
   ]
  },
  {
   "cell_type": "code",
   "execution_count": 75,
   "id": "179799c5",
   "metadata": {},
   "outputs": [
    {
     "data": {
      "text/plain": [
       "<AxesSubplot:>"
      ]
     },
     "execution_count": 75,
     "metadata": {},
     "output_type": "execute_result"
    },
    {
     "data": {
      "image/png": "[encoded data removed]",
      "text/plain": [
       "<Figure size 432x288 with 1 Axes>"
      ]
     },
     "metadata": {
      "needs_background": "light"
     },
     "output_type": "display_data"
    }
   ],
   "source": [
    "df = pd.DataFrame(np.random.rand(6,4), columns=pd.Index(['A','B','C','D']))\n",
    "df.plot(kind='line')"
   ]
  },
  {
   "cell_type": "code",
   "execution_count": 77,
   "id": "e65137a4",
   "metadata": {},
   "outputs": [
    {
     "data": {
      "text/html": [
       "<div>\n",
       "<style scoped>\n",
       "    .dataframe tbody tr th:only-of-type {\n",
       "        vertical-align: middle;\n",
       "    }\n",
       "\n",
       "    .dataframe tbody tr th {\n",
       "        vertical-align: top;\n",
       "    }\n",
       "\n",
       "    .dataframe thead th {\n",
       "        text-align: right;\n",
       "    }\n",
       "</style>\n",
       "<table border=\"1\" class=\"dataframe\">\n",
       "  <thead>\n",
       "    <tr style=\"text-align: right;\">\n",
       "      <th></th>\n",
       "      <th>A</th>\n",
       "      <th>B</th>\n",
       "      <th>C</th>\n",
       "      <th>D</th>\n",
       "    </tr>\n",
       "  </thead>\n",
       "  <tbody>\n",
       "    <tr>\n",
       "      <th>0</th>\n",
       "      <td>0.852298</td>\n",
       "      <td>0.010039</td>\n",
       "      <td>0.262869</td>\n",
       "      <td>0.150550</td>\n",
       "    </tr>\n",
       "    <tr>\n",
       "      <th>1</th>\n",
       "      <td>0.380942</td>\n",
       "      <td>0.198858</td>\n",
       "      <td>0.359202</td>\n",
       "      <td>0.598348</td>\n",
       "    </tr>\n",
       "    <tr>\n",
       "      <th>2</th>\n",
       "      <td>0.722268</td>\n",
       "      <td>0.581590</td>\n",
       "      <td>0.960215</td>\n",
       "      <td>0.885409</td>\n",
       "    </tr>\n",
       "    <tr>\n",
       "      <th>3</th>\n",
       "      <td>0.599490</td>\n",
       "      <td>0.159455</td>\n",
       "      <td>0.715018</td>\n",
       "      <td>0.252251</td>\n",
       "    </tr>\n",
       "    <tr>\n",
       "      <th>4</th>\n",
       "      <td>0.167079</td>\n",
       "      <td>0.692660</td>\n",
       "      <td>0.320074</td>\n",
       "      <td>0.376318</td>\n",
       "    </tr>\n",
       "    <tr>\n",
       "      <th>5</th>\n",
       "      <td>0.549273</td>\n",
       "      <td>0.235698</td>\n",
       "      <td>0.204014</td>\n",
       "      <td>0.858781</td>\n",
       "    </tr>\n",
       "  </tbody>\n",
       "</table>\n",
       "</div>"
      ],
      "text/plain": [
       "          A         B         C         D\n",
       "0  0.852298  0.010039  0.262869  0.150550\n",
       "1  0.380942  0.198858  0.359202  0.598348\n",
       "2  0.722268  0.581590  0.960215  0.885409\n",
       "3  0.599490  0.159455  0.715018  0.252251\n",
       "4  0.167079  0.692660  0.320074  0.376318\n",
       "5  0.549273  0.235698  0.204014  0.858781"
      ]
     },
     "execution_count": 77,
     "metadata": {},
     "output_type": "execute_result"
    }
   ],
   "source": [
    "df"
   ]
  },
  {
   "cell_type": "markdown",
   "id": "2fefcd6e",
   "metadata": {},
   "source": [
    "## 9.6. 간단한 그래프 그리기 (4) 정리해보자"
   ]
  },
  {
   "cell_type": "markdown",
   "id": "7b8edccb",
   "metadata": {},
   "source": [
    "### 6. 정리"
   ]
  },
  {
   "cell_type": "markdown",
   "id": "703c3cd7",
   "metadata": {},
   "source": [
    "만들어본 코드"
   ]
  },
  {
   "cell_type": "code",
   "execution_count": 88,
   "id": "c0f543dd",
   "metadata": {},
   "outputs": [
    {
     "data": {
      "text/plain": [
       "<matplotlib.collections.PathCollection at 0x7f3c4d497fa0>"
      ]
     },
     "execution_count": 88,
     "metadata": {},
     "output_type": "execute_result"
    },
    {
     "data": {
      "image/png": "[encoded data removed]",
      "text/plain": [
       "<Figure size 432x288 with 1 Axes>"
      ]
     },
     "metadata": {
      "needs_background": "light"
     },
     "output_type": "display_data"
    }
   ],
   "source": [
    "fig = plt.figure()\n",
    "ax = fig.add_subplot(1,1,1)\n",
    "ax.scatter([2,4],[3,2])"
   ]
  },
  {
   "cell_type": "markdown",
   "id": "01adac26",
   "metadata": {},
   "source": [
    " - `fig = plt.figure()`\n",
    "     -  `plt`(`matplotlib` 안에 있는 `pyplot`)의 메소드인 figure를 실행한다.\n",
    "     - 그러면 `figure` 객체인 `fig`가 만들어진다.\n",
    " - `ax = fig.add_subplot(1,1,1)`\n",
    "     - 축을 만든다.\n",
    "     - 세로 1, 가로 1의 공간을 가정했을 때 첫번째 공간을 고려할 것이다.\n",
    " - `ax.scatter([2,4],[3,2])\n",
    "     - 이 축 `ax`에 두 점 (2,3)와 (4,2)을 찍는다."
   ]
  },
  {
   "cell_type": "markdown",
   "id": "c73474b2",
   "metadata": {},
   "source": [
    "## 9.7. 그래프 4대 천왕 (1) 데이터 준비"
   ]
  },
  {
   "cell_type": "markdown",
   "id": "fa8e3291",
   "metadata": {},
   "source": [
    "### 1) 데이터 불러오기"
   ]
  },
  {
   "cell_type": "code",
   "execution_count": 98,
   "id": "519fc2fe",
   "metadata": {},
   "outputs": [],
   "source": [
    "import pandas as pd\n",
    "import seaborn as sns\n",
    "\n",
    "tips = sns.load_dataset(\"tips\")"
   ]
  },
  {
   "cell_type": "markdown",
   "id": "fd18235d",
   "metadata": {},
   "source": [
    "### 2) 데이터 살펴보기 (EDA)"
   ]
  },
  {
   "cell_type": "code",
   "execution_count": 108,
   "id": "e5e58dc3",
   "metadata": {},
   "outputs": [
    {
     "name": "stdout",
     "output_type": "stream",
     "text": [
      "<class 'pandas.core.frame.DataFrame'>\n"
     ]
    }
   ],
   "source": [
    "print(type(tips))"
   ]
  },
  {
   "cell_type": "code",
   "execution_count": 109,
   "id": "0b75e161",
   "metadata": {},
   "outputs": [
    {
     "data": {
      "text/html": [
       "<div>\n",
       "<style scoped>\n",
       "    .dataframe tbody tr th:only-of-type {\n",
       "        vertical-align: middle;\n",
       "    }\n",
       "\n",
       "    .dataframe tbody tr th {\n",
       "        vertical-align: top;\n",
       "    }\n",
       "\n",
       "    .dataframe thead th {\n",
       "        text-align: right;\n",
       "    }\n",
       "</style>\n",
       "<table border=\"1\" class=\"dataframe\">\n",
       "  <thead>\n",
       "    <tr style=\"text-align: right;\">\n",
       "      <th></th>\n",
       "      <th>total_bill</th>\n",
       "      <th>tip</th>\n",
       "      <th>sex</th>\n",
       "      <th>smoker</th>\n",
       "      <th>day</th>\n",
       "      <th>time</th>\n",
       "      <th>size</th>\n",
       "    </tr>\n",
       "  </thead>\n",
       "  <tbody>\n",
       "    <tr>\n",
       "      <th>0</th>\n",
       "      <td>16.99</td>\n",
       "      <td>1.01</td>\n",
       "      <td>Female</td>\n",
       "      <td>No</td>\n",
       "      <td>Sun</td>\n",
       "      <td>Dinner</td>\n",
       "      <td>2</td>\n",
       "    </tr>\n",
       "    <tr>\n",
       "      <th>1</th>\n",
       "      <td>10.34</td>\n",
       "      <td>1.66</td>\n",
       "      <td>Male</td>\n",
       "      <td>No</td>\n",
       "      <td>Sun</td>\n",
       "      <td>Dinner</td>\n",
       "      <td>3</td>\n",
       "    </tr>\n",
       "    <tr>\n",
       "      <th>2</th>\n",
       "      <td>21.01</td>\n",
       "      <td>3.50</td>\n",
       "      <td>Male</td>\n",
       "      <td>No</td>\n",
       "      <td>Sun</td>\n",
       "      <td>Dinner</td>\n",
       "      <td>3</td>\n",
       "    </tr>\n",
       "    <tr>\n",
       "      <th>3</th>\n",
       "      <td>23.68</td>\n",
       "      <td>3.31</td>\n",
       "      <td>Male</td>\n",
       "      <td>No</td>\n",
       "      <td>Sun</td>\n",
       "      <td>Dinner</td>\n",
       "      <td>2</td>\n",
       "    </tr>\n",
       "    <tr>\n",
       "      <th>4</th>\n",
       "      <td>24.59</td>\n",
       "      <td>3.61</td>\n",
       "      <td>Female</td>\n",
       "      <td>No</td>\n",
       "      <td>Sun</td>\n",
       "      <td>Dinner</td>\n",
       "      <td>4</td>\n",
       "    </tr>\n",
       "    <tr>\n",
       "      <th>...</th>\n",
       "      <td>...</td>\n",
       "      <td>...</td>\n",
       "      <td>...</td>\n",
       "      <td>...</td>\n",
       "      <td>...</td>\n",
       "      <td>...</td>\n",
       "      <td>...</td>\n",
       "    </tr>\n",
       "    <tr>\n",
       "      <th>239</th>\n",
       "      <td>29.03</td>\n",
       "      <td>5.92</td>\n",
       "      <td>Male</td>\n",
       "      <td>No</td>\n",
       "      <td>Sat</td>\n",
       "      <td>Dinner</td>\n",
       "      <td>3</td>\n",
       "    </tr>\n",
       "    <tr>\n",
       "      <th>240</th>\n",
       "      <td>27.18</td>\n",
       "      <td>2.00</td>\n",
       "      <td>Female</td>\n",
       "      <td>Yes</td>\n",
       "      <td>Sat</td>\n",
       "      <td>Dinner</td>\n",
       "      <td>2</td>\n",
       "    </tr>\n",
       "    <tr>\n",
       "      <th>241</th>\n",
       "      <td>22.67</td>\n",
       "      <td>2.00</td>\n",
       "      <td>Male</td>\n",
       "      <td>Yes</td>\n",
       "      <td>Sat</td>\n",
       "      <td>Dinner</td>\n",
       "      <td>2</td>\n",
       "    </tr>\n",
       "    <tr>\n",
       "      <th>242</th>\n",
       "      <td>17.82</td>\n",
       "      <td>1.75</td>\n",
       "      <td>Male</td>\n",
       "      <td>No</td>\n",
       "      <td>Sat</td>\n",
       "      <td>Dinner</td>\n",
       "      <td>2</td>\n",
       "    </tr>\n",
       "    <tr>\n",
       "      <th>243</th>\n",
       "      <td>18.78</td>\n",
       "      <td>3.00</td>\n",
       "      <td>Female</td>\n",
       "      <td>No</td>\n",
       "      <td>Thur</td>\n",
       "      <td>Dinner</td>\n",
       "      <td>2</td>\n",
       "    </tr>\n",
       "  </tbody>\n",
       "</table>\n",
       "<p>244 rows × 7 columns</p>\n",
       "</div>"
      ],
      "text/plain": [
       "     total_bill   tip     sex smoker   day    time  size\n",
       "0         16.99  1.01  Female     No   Sun  Dinner     2\n",
       "1         10.34  1.66    Male     No   Sun  Dinner     3\n",
       "2         21.01  3.50    Male     No   Sun  Dinner     3\n",
       "3         23.68  3.31    Male     No   Sun  Dinner     2\n",
       "4         24.59  3.61  Female     No   Sun  Dinner     4\n",
       "..          ...   ...     ...    ...   ...     ...   ...\n",
       "239       29.03  5.92    Male     No   Sat  Dinner     3\n",
       "240       27.18  2.00  Female    Yes   Sat  Dinner     2\n",
       "241       22.67  2.00    Male    Yes   Sat  Dinner     2\n",
       "242       17.82  1.75    Male     No   Sat  Dinner     2\n",
       "243       18.78  3.00  Female     No  Thur  Dinner     2\n",
       "\n",
       "[244 rows x 7 columns]"
      ]
     },
     "execution_count": 109,
     "metadata": {},
     "output_type": "execute_result"
    }
   ],
   "source": [
    "tips"
   ]
  },
  {
   "cell_type": "code",
   "execution_count": 110,
   "id": "35aec00e",
   "metadata": {},
   "outputs": [],
   "source": [
    "df = pd.DataFrame(tips)"
   ]
  },
  {
   "cell_type": "code",
   "execution_count": 111,
   "id": "422e8f5d",
   "metadata": {},
   "outputs": [
    {
     "data": {
      "text/html": [
       "<div>\n",
       "<style scoped>\n",
       "    .dataframe tbody tr th:only-of-type {\n",
       "        vertical-align: middle;\n",
       "    }\n",
       "\n",
       "    .dataframe tbody tr th {\n",
       "        vertical-align: top;\n",
       "    }\n",
       "\n",
       "    .dataframe thead th {\n",
       "        text-align: right;\n",
       "    }\n",
       "</style>\n",
       "<table border=\"1\" class=\"dataframe\">\n",
       "  <thead>\n",
       "    <tr style=\"text-align: right;\">\n",
       "      <th></th>\n",
       "      <th>total_bill</th>\n",
       "      <th>tip</th>\n",
       "      <th>sex</th>\n",
       "      <th>smoker</th>\n",
       "      <th>day</th>\n",
       "      <th>time</th>\n",
       "      <th>size</th>\n",
       "    </tr>\n",
       "  </thead>\n",
       "  <tbody>\n",
       "    <tr>\n",
       "      <th>0</th>\n",
       "      <td>16.99</td>\n",
       "      <td>1.01</td>\n",
       "      <td>Female</td>\n",
       "      <td>No</td>\n",
       "      <td>Sun</td>\n",
       "      <td>Dinner</td>\n",
       "      <td>2</td>\n",
       "    </tr>\n",
       "    <tr>\n",
       "      <th>1</th>\n",
       "      <td>10.34</td>\n",
       "      <td>1.66</td>\n",
       "      <td>Male</td>\n",
       "      <td>No</td>\n",
       "      <td>Sun</td>\n",
       "      <td>Dinner</td>\n",
       "      <td>3</td>\n",
       "    </tr>\n",
       "    <tr>\n",
       "      <th>2</th>\n",
       "      <td>21.01</td>\n",
       "      <td>3.50</td>\n",
       "      <td>Male</td>\n",
       "      <td>No</td>\n",
       "      <td>Sun</td>\n",
       "      <td>Dinner</td>\n",
       "      <td>3</td>\n",
       "    </tr>\n",
       "    <tr>\n",
       "      <th>3</th>\n",
       "      <td>23.68</td>\n",
       "      <td>3.31</td>\n",
       "      <td>Male</td>\n",
       "      <td>No</td>\n",
       "      <td>Sun</td>\n",
       "      <td>Dinner</td>\n",
       "      <td>2</td>\n",
       "    </tr>\n",
       "    <tr>\n",
       "      <th>4</th>\n",
       "      <td>24.59</td>\n",
       "      <td>3.61</td>\n",
       "      <td>Female</td>\n",
       "      <td>No</td>\n",
       "      <td>Sun</td>\n",
       "      <td>Dinner</td>\n",
       "      <td>4</td>\n",
       "    </tr>\n",
       "    <tr>\n",
       "      <th>...</th>\n",
       "      <td>...</td>\n",
       "      <td>...</td>\n",
       "      <td>...</td>\n",
       "      <td>...</td>\n",
       "      <td>...</td>\n",
       "      <td>...</td>\n",
       "      <td>...</td>\n",
       "    </tr>\n",
       "    <tr>\n",
       "      <th>239</th>\n",
       "      <td>29.03</td>\n",
       "      <td>5.92</td>\n",
       "      <td>Male</td>\n",
       "      <td>No</td>\n",
       "      <td>Sat</td>\n",
       "      <td>Dinner</td>\n",
       "      <td>3</td>\n",
       "    </tr>\n",
       "    <tr>\n",
       "      <th>240</th>\n",
       "      <td>27.18</td>\n",
       "      <td>2.00</td>\n",
       "      <td>Female</td>\n",
       "      <td>Yes</td>\n",
       "      <td>Sat</td>\n",
       "      <td>Dinner</td>\n",
       "      <td>2</td>\n",
       "    </tr>\n",
       "    <tr>\n",
       "      <th>241</th>\n",
       "      <td>22.67</td>\n",
       "      <td>2.00</td>\n",
       "      <td>Male</td>\n",
       "      <td>Yes</td>\n",
       "      <td>Sat</td>\n",
       "      <td>Dinner</td>\n",
       "      <td>2</td>\n",
       "    </tr>\n",
       "    <tr>\n",
       "      <th>242</th>\n",
       "      <td>17.82</td>\n",
       "      <td>1.75</td>\n",
       "      <td>Male</td>\n",
       "      <td>No</td>\n",
       "      <td>Sat</td>\n",
       "      <td>Dinner</td>\n",
       "      <td>2</td>\n",
       "    </tr>\n",
       "    <tr>\n",
       "      <th>243</th>\n",
       "      <td>18.78</td>\n",
       "      <td>3.00</td>\n",
       "      <td>Female</td>\n",
       "      <td>No</td>\n",
       "      <td>Thur</td>\n",
       "      <td>Dinner</td>\n",
       "      <td>2</td>\n",
       "    </tr>\n",
       "  </tbody>\n",
       "</table>\n",
       "<p>244 rows × 7 columns</p>\n",
       "</div>"
      ],
      "text/plain": [
       "     total_bill   tip     sex smoker   day    time  size\n",
       "0         16.99  1.01  Female     No   Sun  Dinner     2\n",
       "1         10.34  1.66    Male     No   Sun  Dinner     3\n",
       "2         21.01  3.50    Male     No   Sun  Dinner     3\n",
       "3         23.68  3.31    Male     No   Sun  Dinner     2\n",
       "4         24.59  3.61  Female     No   Sun  Dinner     4\n",
       "..          ...   ...     ...    ...   ...     ...   ...\n",
       "239       29.03  5.92    Male     No   Sat  Dinner     3\n",
       "240       27.18  2.00  Female    Yes   Sat  Dinner     2\n",
       "241       22.67  2.00    Male    Yes   Sat  Dinner     2\n",
       "242       17.82  1.75    Male     No   Sat  Dinner     2\n",
       "243       18.78  3.00  Female     No  Thur  Dinner     2\n",
       "\n",
       "[244 rows x 7 columns]"
      ]
     },
     "execution_count": 111,
     "metadata": {},
     "output_type": "execute_result"
    }
   ],
   "source": [
    "df"
   ]
  },
  {
   "cell_type": "markdown",
   "id": "7a8d1b83",
   "metadata": {},
   "source": [
    " - `tips`가 이미 `DataFrame` 형태인데 왜 한번 더 `df` 다시 정의했지? redundant한 것 같다.\n",
    " - 또 한가지. pd.DataFrame 명령어는 인자로서 DataFrame 자체를 받는다.\n",
    " identity 함수 같은 역할을 하는 것 같다.\n"
   ]
  },
  {
   "cell_type": "code",
   "execution_count": 113,
   "id": "4c164bec",
   "metadata": {},
   "outputs": [
    {
     "data": {
      "text/html": [
       "<div>\n",
       "<style scoped>\n",
       "    .dataframe tbody tr th:only-of-type {\n",
       "        vertical-align: middle;\n",
       "    }\n",
       "\n",
       "    .dataframe tbody tr th {\n",
       "        vertical-align: top;\n",
       "    }\n",
       "\n",
       "    .dataframe thead th {\n",
       "        text-align: right;\n",
       "    }\n",
       "</style>\n",
       "<table border=\"1\" class=\"dataframe\">\n",
       "  <thead>\n",
       "    <tr style=\"text-align: right;\">\n",
       "      <th></th>\n",
       "      <th>total_bill</th>\n",
       "      <th>tip</th>\n",
       "      <th>sex</th>\n",
       "      <th>smoker</th>\n",
       "      <th>day</th>\n",
       "      <th>time</th>\n",
       "      <th>size</th>\n",
       "    </tr>\n",
       "  </thead>\n",
       "  <tbody>\n",
       "    <tr>\n",
       "      <th>0</th>\n",
       "      <td>16.99</td>\n",
       "      <td>1.01</td>\n",
       "      <td>Female</td>\n",
       "      <td>No</td>\n",
       "      <td>Sun</td>\n",
       "      <td>Dinner</td>\n",
       "      <td>2</td>\n",
       "    </tr>\n",
       "    <tr>\n",
       "      <th>1</th>\n",
       "      <td>10.34</td>\n",
       "      <td>1.66</td>\n",
       "      <td>Male</td>\n",
       "      <td>No</td>\n",
       "      <td>Sun</td>\n",
       "      <td>Dinner</td>\n",
       "      <td>3</td>\n",
       "    </tr>\n",
       "    <tr>\n",
       "      <th>2</th>\n",
       "      <td>21.01</td>\n",
       "      <td>3.50</td>\n",
       "      <td>Male</td>\n",
       "      <td>No</td>\n",
       "      <td>Sun</td>\n",
       "      <td>Dinner</td>\n",
       "      <td>3</td>\n",
       "    </tr>\n",
       "    <tr>\n",
       "      <th>3</th>\n",
       "      <td>23.68</td>\n",
       "      <td>3.31</td>\n",
       "      <td>Male</td>\n",
       "      <td>No</td>\n",
       "      <td>Sun</td>\n",
       "      <td>Dinner</td>\n",
       "      <td>2</td>\n",
       "    </tr>\n",
       "    <tr>\n",
       "      <th>4</th>\n",
       "      <td>24.59</td>\n",
       "      <td>3.61</td>\n",
       "      <td>Female</td>\n",
       "      <td>No</td>\n",
       "      <td>Sun</td>\n",
       "      <td>Dinner</td>\n",
       "      <td>4</td>\n",
       "    </tr>\n",
       "  </tbody>\n",
       "</table>\n",
       "</div>"
      ],
      "text/plain": [
       "   total_bill   tip     sex smoker  day    time  size\n",
       "0       16.99  1.01  Female     No  Sun  Dinner     2\n",
       "1       10.34  1.66    Male     No  Sun  Dinner     3\n",
       "2       21.01  3.50    Male     No  Sun  Dinner     3\n",
       "3       23.68  3.31    Male     No  Sun  Dinner     2\n",
       "4       24.59  3.61  Female     No  Sun  Dinner     4"
      ]
     },
     "execution_count": 113,
     "metadata": {},
     "output_type": "execute_result"
    }
   ],
   "source": [
    "df.head()"
   ]
  },
  {
   "cell_type": "code",
   "execution_count": 114,
   "id": "36fcaab2",
   "metadata": {},
   "outputs": [
    {
     "data": {
      "text/plain": [
       "(244, 7)"
      ]
     },
     "execution_count": 114,
     "metadata": {},
     "output_type": "execute_result"
    }
   ],
   "source": [
    "df.shape"
   ]
  },
  {
   "cell_type": "code",
   "execution_count": 115,
   "id": "f8ef8f75",
   "metadata": {},
   "outputs": [
    {
     "data": {
      "text/html": [
       "<div>\n",
       "<style scoped>\n",
       "    .dataframe tbody tr th:only-of-type {\n",
       "        vertical-align: middle;\n",
       "    }\n",
       "\n",
       "    .dataframe tbody tr th {\n",
       "        vertical-align: top;\n",
       "    }\n",
       "\n",
       "    .dataframe thead th {\n",
       "        text-align: right;\n",
       "    }\n",
       "</style>\n",
       "<table border=\"1\" class=\"dataframe\">\n",
       "  <thead>\n",
       "    <tr style=\"text-align: right;\">\n",
       "      <th></th>\n",
       "      <th>total_bill</th>\n",
       "      <th>tip</th>\n",
       "      <th>size</th>\n",
       "    </tr>\n",
       "  </thead>\n",
       "  <tbody>\n",
       "    <tr>\n",
       "      <th>count</th>\n",
       "      <td>244.000000</td>\n",
       "      <td>244.000000</td>\n",
       "      <td>244.000000</td>\n",
       "    </tr>\n",
       "    <tr>\n",
       "      <th>mean</th>\n",
       "      <td>19.785943</td>\n",
       "      <td>2.998279</td>\n",
       "      <td>2.569672</td>\n",
       "    </tr>\n",
       "    <tr>\n",
       "      <th>std</th>\n",
       "      <td>8.902412</td>\n",
       "      <td>1.383638</td>\n",
       "      <td>0.951100</td>\n",
       "    </tr>\n",
       "    <tr>\n",
       "      <th>min</th>\n",
       "      <td>3.070000</td>\n",
       "      <td>1.000000</td>\n",
       "      <td>1.000000</td>\n",
       "    </tr>\n",
       "    <tr>\n",
       "      <th>25%</th>\n",
       "      <td>13.347500</td>\n",
       "      <td>2.000000</td>\n",
       "      <td>2.000000</td>\n",
       "    </tr>\n",
       "    <tr>\n",
       "      <th>50%</th>\n",
       "      <td>17.795000</td>\n",
       "      <td>2.900000</td>\n",
       "      <td>2.000000</td>\n",
       "    </tr>\n",
       "    <tr>\n",
       "      <th>75%</th>\n",
       "      <td>24.127500</td>\n",
       "      <td>3.562500</td>\n",
       "      <td>3.000000</td>\n",
       "    </tr>\n",
       "    <tr>\n",
       "      <th>max</th>\n",
       "      <td>50.810000</td>\n",
       "      <td>10.000000</td>\n",
       "      <td>6.000000</td>\n",
       "    </tr>\n",
       "  </tbody>\n",
       "</table>\n",
       "</div>"
      ],
      "text/plain": [
       "       total_bill         tip        size\n",
       "count  244.000000  244.000000  244.000000\n",
       "mean    19.785943    2.998279    2.569672\n",
       "std      8.902412    1.383638    0.951100\n",
       "min      3.070000    1.000000    1.000000\n",
       "25%     13.347500    2.000000    2.000000\n",
       "50%     17.795000    2.900000    2.000000\n",
       "75%     24.127500    3.562500    3.000000\n",
       "max     50.810000   10.000000    6.000000"
      ]
     },
     "execution_count": 115,
     "metadata": {},
     "output_type": "execute_result"
    }
   ],
   "source": [
    "df.describe()"
   ]
  },
  {
   "cell_type": "code",
   "execution_count": 116,
   "id": "42489390",
   "metadata": {},
   "outputs": [
    {
     "name": "stdout",
     "output_type": "stream",
     "text": [
      "<class 'pandas.core.frame.DataFrame'>\n",
      "RangeIndex: 244 entries, 0 to 243\n",
      "Data columns (total 7 columns):\n",
      " #   Column      Non-Null Count  Dtype   \n",
      "---  ------      --------------  -----   \n",
      " 0   total_bill  244 non-null    float64 \n",
      " 1   tip         244 non-null    float64 \n",
      " 2   sex         244 non-null    category\n",
      " 3   smoker      244 non-null    category\n",
      " 4   day         244 non-null    category\n",
      " 5   time        244 non-null    category\n",
      " 6   size        244 non-null    int64   \n",
      "dtypes: category(4), float64(2), int64(1)\n",
      "memory usage: 7.4 KB\n"
     ]
    }
   ],
   "source": [
    "df.info()"
   ]
  },
  {
   "cell_type": "code",
   "execution_count": 117,
   "id": "624503be",
   "metadata": {},
   "outputs": [
    {
     "name": "stdout",
     "output_type": "stream",
     "text": [
      "Male      157\n",
      "Female     87\n",
      "Name: sex, dtype: int64\n",
      "===========================\n",
      "Dinner    176\n",
      "Lunch      68\n",
      "Name: time, dtype: int64\n",
      "===========================\n",
      "No     151\n",
      "Yes     93\n",
      "Name: smoker, dtype: int64\n",
      "===========================\n",
      "Sat     87\n",
      "Sun     76\n",
      "Thur    62\n",
      "Fri     19\n",
      "Name: day, dtype: int64\n",
      "===========================\n",
      "2    156\n",
      "3     38\n",
      "4     37\n",
      "5      5\n",
      "1      4\n",
      "6      4\n",
      "Name: size, dtype: int64\n",
      "===========================\n"
     ]
    }
   ],
   "source": [
    "print(df['sex'].value_counts())\n",
    "print(\"===========================\")\n",
    "\n",
    "\n",
    "print(df['time'].value_counts())\n",
    "print(\"===========================\")\n",
    "\n",
    "\n",
    "print(df['smoker'].value_counts())\n",
    "print(\"===========================\")\n",
    "\n",
    "\n",
    "print(df['day'].value_counts())\n",
    "print(\"===========================\")\n",
    "\n",
    "\n",
    "print(df['size'].value_counts())\n",
    "print(\"===========================\")"
   ]
  },
  {
   "cell_type": "markdown",
   "id": "6f820bc6",
   "metadata": {},
   "source": [
    "## 9.8. 그래프 4대 천왕 (2) 범주형 데이터"
   ]
  },
  {
   "cell_type": "markdown",
   "id": "8aa88c24",
   "metadata": {},
   "source": [
    "### 1) 막대그래프 (bar graph)"
   ]
  },
  {
   "cell_type": "markdown",
   "id": "c7f5c58f",
   "metadata": {},
   "source": [
    "#### 1-1) Pandas와 Matplotlib를 활용한 방법"
   ]
  },
  {
   "cell_type": "code",
   "execution_count": 119,
   "id": "b1bef478",
   "metadata": {},
   "outputs": [
    {
     "data": {
      "text/html": [
       "<div>\n",
       "<style scoped>\n",
       "    .dataframe tbody tr th:only-of-type {\n",
       "        vertical-align: middle;\n",
       "    }\n",
       "\n",
       "    .dataframe tbody tr th {\n",
       "        vertical-align: top;\n",
       "    }\n",
       "\n",
       "    .dataframe thead th {\n",
       "        text-align: right;\n",
       "    }\n",
       "</style>\n",
       "<table border=\"1\" class=\"dataframe\">\n",
       "  <thead>\n",
       "    <tr style=\"text-align: right;\">\n",
       "      <th></th>\n",
       "      <th>total_bill</th>\n",
       "      <th>tip</th>\n",
       "      <th>sex</th>\n",
       "      <th>smoker</th>\n",
       "      <th>day</th>\n",
       "      <th>time</th>\n",
       "      <th>size</th>\n",
       "    </tr>\n",
       "  </thead>\n",
       "  <tbody>\n",
       "    <tr>\n",
       "      <th>0</th>\n",
       "      <td>16.99</td>\n",
       "      <td>1.01</td>\n",
       "      <td>Female</td>\n",
       "      <td>No</td>\n",
       "      <td>Sun</td>\n",
       "      <td>Dinner</td>\n",
       "      <td>2</td>\n",
       "    </tr>\n",
       "    <tr>\n",
       "      <th>1</th>\n",
       "      <td>10.34</td>\n",
       "      <td>1.66</td>\n",
       "      <td>Male</td>\n",
       "      <td>No</td>\n",
       "      <td>Sun</td>\n",
       "      <td>Dinner</td>\n",
       "      <td>3</td>\n",
       "    </tr>\n",
       "    <tr>\n",
       "      <th>2</th>\n",
       "      <td>21.01</td>\n",
       "      <td>3.50</td>\n",
       "      <td>Male</td>\n",
       "      <td>No</td>\n",
       "      <td>Sun</td>\n",
       "      <td>Dinner</td>\n",
       "      <td>3</td>\n",
       "    </tr>\n",
       "    <tr>\n",
       "      <th>3</th>\n",
       "      <td>23.68</td>\n",
       "      <td>3.31</td>\n",
       "      <td>Male</td>\n",
       "      <td>No</td>\n",
       "      <td>Sun</td>\n",
       "      <td>Dinner</td>\n",
       "      <td>2</td>\n",
       "    </tr>\n",
       "    <tr>\n",
       "      <th>4</th>\n",
       "      <td>24.59</td>\n",
       "      <td>3.61</td>\n",
       "      <td>Female</td>\n",
       "      <td>No</td>\n",
       "      <td>Sun</td>\n",
       "      <td>Dinner</td>\n",
       "      <td>4</td>\n",
       "    </tr>\n",
       "  </tbody>\n",
       "</table>\n",
       "</div>"
      ],
      "text/plain": [
       "   total_bill   tip     sex smoker  day    time  size\n",
       "0       16.99  1.01  Female     No  Sun  Dinner     2\n",
       "1       10.34  1.66    Male     No  Sun  Dinner     3\n",
       "2       21.01  3.50    Male     No  Sun  Dinner     3\n",
       "3       23.68  3.31    Male     No  Sun  Dinner     2\n",
       "4       24.59  3.61  Female     No  Sun  Dinner     4"
      ]
     },
     "execution_count": 119,
     "metadata": {},
     "output_type": "execute_result"
    }
   ],
   "source": [
    "df.head()"
   ]
  },
  {
   "cell_type": "code",
   "execution_count": 122,
   "id": "ef2efe38",
   "metadata": {},
   "outputs": [
    {
     "name": "stdout",
     "output_type": "stream",
     "text": [
      "0      1.01\n",
      "1      1.66\n",
      "2      3.50\n",
      "3      3.31\n",
      "4      3.61\n",
      "       ... \n",
      "239    5.92\n",
      "240    2.00\n",
      "241    2.00\n",
      "242    1.75\n",
      "243    3.00\n",
      "Name: tip, Length: 244, dtype: float64\n",
      "<class 'pandas.core.series.Series'>\n"
     ]
    }
   ],
   "source": [
    "print(df['tip'])\n",
    "print(type(df['tip']))"
   ]
  },
  {
   "cell_type": "code",
   "execution_count": 125,
   "id": "7b392868",
   "metadata": {},
   "outputs": [
    {
     "name": "stdout",
     "output_type": "stream",
     "text": [
      "<pandas.core.groupby.generic.SeriesGroupBy object at 0x7f3c3cb90550>\n"
     ]
    }
   ],
   "source": [
    "grouped = df['tip'].groupby(df['sex'])\n",
    "print(grouped)"
   ]
  },
  {
   "cell_type": "code",
   "execution_count": 126,
   "id": "f5fa8149",
   "metadata": {},
   "outputs": [
    {
     "data": {
      "text/plain": [
       "sex\n",
       "Male      3.089618\n",
       "Female    2.833448\n",
       "Name: tip, dtype: float64"
      ]
     },
     "execution_count": 126,
     "metadata": {},
     "output_type": "execute_result"
    }
   ],
   "source": [
    "grouped.mean()"
   ]
  },
  {
   "cell_type": "code",
   "execution_count": 129,
   "id": "aef6cb2c",
   "metadata": {},
   "outputs": [
    {
     "name": "stdout",
     "output_type": "stream",
     "text": [
      "<class 'pandas.core.series.Series'>\n"
     ]
    }
   ],
   "source": [
    "print(type(grouped.mean()))"
   ]
  },
  {
   "cell_type": "code",
   "execution_count": 127,
   "id": "22209644",
   "metadata": {},
   "outputs": [
    {
     "data": {
      "text/plain": [
       "sex\n",
       "Male      157\n",
       "Female     87\n",
       "Name: tip, dtype: int64"
      ]
     },
     "execution_count": 127,
     "metadata": {},
     "output_type": "execute_result"
    }
   ],
   "source": [
    "grouped.size()"
   ]
  },
  {
   "cell_type": "code",
   "execution_count": 128,
   "id": "5d84d703",
   "metadata": {},
   "outputs": [
    {
     "data": {
      "text/plain": [
       "{'Male': 3.0896178343949043, 'Female': 2.833448275862069}"
      ]
     },
     "execution_count": 128,
     "metadata": {},
     "output_type": "execute_result"
    }
   ],
   "source": [
    "import numpy as np\n",
    "sex = dict(grouped.mean())\n",
    "sex"
   ]
  },
  {
   "cell_type": "code",
   "execution_count": 134,
   "id": "8fbb66be",
   "metadata": {},
   "outputs": [
    {
     "name": "stdout",
     "output_type": "stream",
     "text": [
      "['Male', 'Female']\n",
      "[3.0896178343949043, 2.833448275862069]\n"
     ]
    }
   ],
   "source": [
    "x = list(sex.keys())\n",
    "y = list(sex.values())\n",
    "print(x)\n",
    "print(y)"
   ]
  },
  {
   "cell_type": "code",
   "execution_count": 136,
   "id": "be436fdc",
   "metadata": {},
   "outputs": [
    {
     "data": {
      "text/plain": [
       "Text(0.5, 1.0, 'Tip by Sex')"
      ]
     },
     "execution_count": 136,
     "metadata": {},
     "output_type": "execute_result"
    },
    {
     "data": {
      "image/png": "[encoded data removed]",
      "text/plain": [
       "<Figure size 432x288 with 1 Axes>"
      ]
     },
     "metadata": {
      "needs_background": "light"
     },
     "output_type": "display_data"
    }
   ],
   "source": [
    "import matplotlib.pyplot as plt\n",
    "plt.bar(x,y)\n",
    "plt.ylabel('tip[$]')\n",
    "plt.title('Tip by Sex')"
   ]
  },
  {
   "cell_type": "markdown",
   "id": "8972ce66",
   "metadata": {},
   "source": [
    "#### 1-2) Seaborn과 Matplotlib를 활용한 방법"
   ]
  },
  {
   "cell_type": "code",
   "execution_count": 139,
   "id": "51a69d2e",
   "metadata": {},
   "outputs": [
    {
     "data": {
      "text/plain": [
       "<AxesSubplot:xlabel='sex', ylabel='tip'>"
      ]
     },
     "execution_count": 139,
     "metadata": {},
     "output_type": "execute_result"
    },
    {
     "data": {
      "image/png": "[encoded data removed]",
      "text/plain": [
       "<Figure size 432x288 with 1 Axes>"
      ]
     },
     "metadata": {
      "needs_background": "light"
     },
     "output_type": "display_data"
    }
   ],
   "source": [
    "sns.barplot(data=df, x='sex', y='tip')"
   ]
  },
  {
   "cell_type": "code",
   "execution_count": 142,
   "id": "5ebeddd9",
   "metadata": {},
   "outputs": [
    {
     "data": {
      "text/plain": [
       "<AxesSubplot:>"
      ]
     },
     "execution_count": 142,
     "metadata": {},
     "output_type": "execute_result"
    },
    {
     "data": {
      "image/png": "[encoded data removed]",
      "text/plain": [
       "<Figure size 432x288 with 1 Axes>"
      ]
     },
     "metadata": {
      "needs_background": "light"
     },
     "output_type": "display_data"
    }
   ],
   "source": [
    "sns.barplot(data=df)"
   ]
  },
  {
   "cell_type": "code",
   "execution_count": 143,
   "id": "4da3e17d",
   "metadata": {},
   "outputs": [
    {
     "data": {
      "text/plain": [
       "Text(0.5, 1.0, 'Tip by sex')"
      ]
     },
     "execution_count": 143,
     "metadata": {},
     "output_type": "execute_result"
    },
    {
     "data": {
      "image/png": "[encoded data removed]",
      "text/plain": [
       "<Figure size 720x432 with 1 Axes>"
      ]
     },
     "metadata": {
      "needs_background": "light"
     },
     "output_type": "display_data"
    }
   ],
   "source": [
    "plt.figure(figsize=(10,6)) # 도화지 사이즈를 정합니다.\n",
    "sns.barplot(data=df, x='sex', y='tip')\n",
    "plt.ylim(0, 4) # y값의 범위를 정합니다.\n",
    "plt.title('Tip by sex') # 그래프 제목을 정합니다."
   ]
  },
  {
   "cell_type": "code",
   "execution_count": 147,
   "id": "f6d80b02",
   "metadata": {},
   "outputs": [
    {
     "data": {
      "text/plain": [
       "Text(0.5, 1.0, 'Tip by day')"
      ]
     },
     "execution_count": 147,
     "metadata": {},
     "output_type": "execute_result"
    },
    {
     "data": {
      "image/png": "[encoded data removed]",
      "text/plain": [
       "<Figure size 720x432 with 1 Axes>"
      ]
     },
     "metadata": {
      "needs_background": "light"
     },
     "output_type": "display_data"
    }
   ],
   "source": [
    "plt.figure(figsize=(10,6))\n",
    "sns.barplot(data=df,x='day',y='tip')\n",
    "plt.ylim(0, 4)\n",
    "plt.title('Tip by day')"
   ]
  },
  {
   "cell_type": "code",
   "execution_count": 146,
   "id": "961a3172",
   "metadata": {},
   "outputs": [
    {
     "data": {
      "text/plain": [
       "<AxesSubplot:xlabel='day', ylabel='tip'>"
      ]
     },
     "execution_count": 146,
     "metadata": {},
     "output_type": "execute_result"
    },
    {
     "data": {
      "image/png": "[encoded data removed]",
      "text/plain": [
       "<Figure size 720x504 with 4 Axes>"
      ]
     },
     "metadata": {
      "needs_background": "light"
     },
     "output_type": "display_data"
    }
   ],
   "source": [
    "fig = plt.figure(figsize=(10,7))\n",
    "\n",
    "ax1 = fig.add_subplot(2,2,1)\n",
    "sns.barplot(data=df, x='day', y='tip',palette=\"ch:.25\")\n",
    "\n",
    "ax2 = fig.add_subplot(2,2,2)\n",
    "sns.barplot(data=df, x='sex', y='tip')\n",
    "\n",
    "ax3 = fig.add_subplot(2,2,4)\n",
    "sns.violinplot(data=df, x='sex', y='tip')\n",
    "\n",
    "ax4 = fig.add_subplot(2,2,3)\n",
    "sns.violinplot(data=df, x='day', y='tip',palette=\"ch:.25\")"
   ]
  },
  {
   "cell_type": "code",
   "execution_count": 148,
   "id": "ca363965",
   "metadata": {
    "scrolled": true
   },
   "outputs": [
    {
     "data": {
      "text/plain": [
       "<seaborn.axisgrid.FacetGrid at 0x7f3c5289d4c0>"
      ]
     },
     "execution_count": 148,
     "metadata": {},
     "output_type": "execute_result"
    },
    {
     "data": {
      "image/png": "[encoded data removed]",
      "text/plain": [
       "<Figure size 360x360 with 1 Axes>"
      ]
     },
     "metadata": {
      "needs_background": "light"
     },
     "output_type": "display_data"
    }
   ],
   "source": [
    "sns.catplot(x=\"day\", y=\"tip\", jitter=False, data=tips)"
   ]
  },
  {
   "cell_type": "markdown",
   "id": "6e915ad5",
   "metadata": {},
   "source": [
    "## 9.9. 그래프 4대 천왕 (3) 수치형 데이터"
   ]
  },
  {
   "cell_type": "markdown",
   "id": "87fd4ea7",
   "metadata": {},
   "source": [
    "### 2) 산점도(scatter plot)"
   ]
  },
  {
   "cell_type": "code",
   "execution_count": 149,
   "id": "0b69705c",
   "metadata": {
    "scrolled": true
   },
   "outputs": [
    {
     "data": {
      "text/plain": [
       "<AxesSubplot:xlabel='total_bill', ylabel='tip'>"
      ]
     },
     "execution_count": 149,
     "metadata": {},
     "output_type": "execute_result"
    },
    {
     "data": {
      "image/png": "[encoded data removed]",
      "text/plain": [
       "<Figure size 432x288 with 1 Axes>"
      ]
     },
     "metadata": {
      "needs_background": "light"
     },
     "output_type": "display_data"
    }
   ],
   "source": [
    "sns.scatterplot(data=df , x='total_bill', y='tip', palette=\"ch:r=-.2,d=.3_r\")"
   ]
  },
  {
   "cell_type": "code",
   "execution_count": 150,
   "id": "f314cf54",
   "metadata": {
    "scrolled": true
   },
   "outputs": [
    {
     "data": {
      "text/plain": [
       "<AxesSubplot:xlabel='total_bill', ylabel='tip'>"
      ]
     },
     "execution_count": 150,
     "metadata": {},
     "output_type": "execute_result"
    },
    {
     "data": {
      "image/png": "[encoded data removed]",
      "text/plain": [
       "<Figure size 432x288 with 1 Axes>"
      ]
     },
     "metadata": {
      "needs_background": "light"
     },
     "output_type": "display_data"
    }
   ],
   "source": [
    "sns.scatterplot(data=df , x='total_bill', y='tip', hue='day')"
   ]
  },
  {
   "cell_type": "markdown",
   "id": "e1770696",
   "metadata": {},
   "source": [
    "### 3) 선 그래프(liine graph)"
   ]
  },
  {
   "cell_type": "code",
   "execution_count": 166,
   "id": "bc076e82",
   "metadata": {},
   "outputs": [
    {
     "data": {
      "text/plain": [
       "[<matplotlib.lines.Line2D at 0x7f3c39c798b0>]"
      ]
     },
     "execution_count": 166,
     "metadata": {},
     "output_type": "execute_result"
    },
    {
     "data": {
      "image/png": "[encoded data removed]",
      "text/plain": [
       "<Figure size 432x288 with 1 Axes>"
      ]
     },
     "metadata": {
      "needs_background": "light"
     },
     "output_type": "display_data"
    }
   ],
   "source": [
    "#np.random.randn 함수는 표준 정규분포에서 난수를 생성하는 함수입니다. \n",
    "#cumsum()은 누적합을 구하는 함수입니다.\n",
    "plt.plot(np.random.randn(40).cumsum())"
   ]
  },
  {
   "cell_type": "code",
   "execution_count": 154,
   "id": "4a1ad677",
   "metadata": {},
   "outputs": [
    {
     "data": {
      "text/plain": [
       "array([2, 5, 9])"
      ]
     },
     "execution_count": 154,
     "metadata": {},
     "output_type": "execute_result"
    }
   ],
   "source": [
    "np.array([2,3,4]).cumsum()"
   ]
  },
  {
   "cell_type": "code",
   "execution_count": 163,
   "id": "a4915193",
   "metadata": {},
   "outputs": [
    {
     "data": {
      "text/plain": [
       "[<matplotlib.lines.Line2D at 0x7f3c39da9700>]"
      ]
     },
     "execution_count": 163,
     "metadata": {},
     "output_type": "execute_result"
    },
    {
     "data": {
      "image/png": "[encoded data removed]",
      "text/plain": [
       "<Figure size 432x288 with 1 Axes>"
      ]
     },
     "metadata": {
      "needs_background": "light"
     },
     "output_type": "display_data"
    }
   ],
   "source": [
    "#np.random.randn 함수는 표준 정규분포에서 난수를 생성하는 함수입니다. \n",
    "#cumsum()은 누적합을 구하는 함수입니다.\n",
    "plt.plot(np.random.randn(40))"
   ]
  },
  {
   "cell_type": "markdown",
   "id": "627f38d5",
   "metadata": {},
   "source": [
    "`np.random.randn(50)`을 통해 50개의 값 $X_1$, $\\cdots$, $X_{50}$을 생성하되, 각각의 값 $X_i$는 정규분포 $N(0,1)$을 따른다.\n",
    "아래 그림에서는 $\\{X_i:i=1,2,3,\\cdots,40\\}$의 그래프를 보여주고 있다.\n",
    "즉 $\\{X_i:i=1,2,3,\\cdots,40\\}$는 하나의 수열이므로, $\\{1,\\cdots,40\\}$를 정의역으로 하는 함수라고 생각할 수 있고, 따라서 그래프를 그릴 수 있는 것이다.\n",
    "\n",
    "$S_n=X_1+X_2+\\cdots+X_n$을 고려하면 위의 그림은 $\\{S_n:n=1,2,3,\\cdots,40\\}$의 그래프를 나타내는 것이다. 이 두 그래프는 왜 다르게 나올까?\n",
    "\n",
    "$\\frac{S_n}n=\\frac{X_1+\\cdots+X_n}n=\\overline X$는 표본 $\\{X_i:i=1,\\cdots,40\\}$의 표본평균이다.\n",
    "각각의 확률변수 $X_i$들이 동일하고 독립적인(i.i.d., independent and identically distributed) 분포를 따르므로, $\\overline X$의 분포는 $N\\left(E(X),\\frac{V(X)}n\\right)=N\\left(0,\\frac1n\\right)$을 따른다.\n",
    "그러면 $S_n=n\\overline X$는 정규분포 $N\\left(0,n\\right)$을 따르게 된다.\n",
    "이제 아래 코드를 보자."
   ]
  },
  {
   "cell_type": "code",
   "execution_count": 191,
   "id": "3e7660e4",
   "metadata": {},
   "outputs": [
    {
     "data": {
      "text/plain": [
       "<function matplotlib.pyplot.show(close=None, block=None)>"
      ]
     },
     "execution_count": 191,
     "metadata": {},
     "output_type": "execute_result"
    },
    {
     "data": {
      "image/png": "[encoded data removed]",
      "text/plain": [
       "<Figure size 432x288 with 2 Axes>"
      ]
     },
     "metadata": {
      "needs_background": "light"
     },
     "output_type": "display_data"
    }
   ],
   "source": [
    "import matplotlib.pyplot as plt\n",
    "n = 25\n",
    "k = 1000\n",
    "distributionX=[]\n",
    "distributionS=[]\n",
    "for i in range(k):\n",
    "    S = np.random.randn(n).cumsum()[-1]\n",
    "    distributionS.append(S)\n",
    "    X = np.random.randn(n).cumsum()[0]\n",
    "    distributionX.append(X)\n",
    "\n",
    "plt.subplot(2,1,1)\n",
    "plt.hist(distributionX)\n",
    "\n",
    "plt.subplot(2,1,2)\n",
    "plt.hist(distributionS)\n",
    "\n",
    "plt.show"
   ]
  },
  {
   "cell_type": "markdown",
   "id": "8ac18e7a",
   "metadata": {},
   "source": [
    "(예쁘게 그리지 못했다. 폭이 너무 작다.)\n",
    "코드에서, `n`은 $n=25$로 설정되어 있다.\n",
    "$X_i$들 각각은 표준정규분포 $N(0,1)$을 따르고, $S_n=X_1+\\cdots+X_n$ 이다.\n",
    "위의 것은 표준정규분포 $N(0,1)$에서 임의로 1000개를 뽑아서 그것에 대한 분포를 표현한 것이다.\n",
    "아래의 것은 $S_n$들을 1000개 뽑아서, 그것에 대한 분포를 표현한 것이다.\n",
    "아까 계산한 바에 따르면 $S_n\\sim N(0,25)$가 되어야 했다.\n",
    "\n",
    "그림을 확인해보니, 정말로 표준편차가 5 정도 증가한 것이 보인다."
   ]
  },
  {
   "cell_type": "markdown",
   "id": "d62594e0",
   "metadata": {},
   "source": [
    "## 9.10. 시계열 데이터 시각화하기"
   ]
  },
  {
   "cell_type": "markdown",
   "id": "f89acaba",
   "metadata": {},
   "source": [
    "(생략)"
   ]
  },
  {
   "cell_type": "markdown",
   "id": "069ce87e",
   "metadata": {},
   "source": [
    "## 9.11. Heatmap"
   ]
  },
  {
   "cell_type": "markdown",
   "id": "e38cdce4",
   "metadata": {},
   "source": [
    "(생략)"
   ]
  }
 ],
 "metadata": {
  "kernelspec": {
   "display_name": "Python 3 (ipykernel)",
   "language": "python",
   "name": "python3"
  },
  "language_info": {
   "codemirror_mode": {
    "name": "ipython",
    "version": 3
   },
   "file_extension": ".py",
   "mimetype": "text/x-python",
   "name": "python",
   "nbconvert_exporter": "python",
   "pygments_lexer": "ipython3",
   "version": "3.9.7"
  }
 },
 "nbformat": 4,
 "nbformat_minor": 5
}
