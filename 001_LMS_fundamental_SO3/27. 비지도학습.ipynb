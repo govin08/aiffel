{
 "cells": [
  {
   "cell_type": "code",
   "execution_count": 1,
   "id": "2394d3c9",
   "metadata": {},
   "outputs": [
    {
     "name": "stdout",
     "output_type": "stream",
     "text": [
      "(100, 2) [[ 4.63411914 -6.52590383]\n",
      " [-6.52008604  7.16624288]\n",
      " [ 2.14142339 -5.21092623]\n",
      " [ 1.70054231  8.54077897]\n",
      " [-0.33809159  8.76509668]\n",
      " [-7.69329744  7.94546313]\n",
      " [ 3.89090121 -3.06531839]\n",
      " [ 3.22338498 -2.93209009]\n",
      " [-6.63962964  5.34777334]\n",
      " [ 6.37904965 -6.46617328]]\n",
      "(100,) [2 1 0 3 3 1 0 0 1 2]\n"
     ]
    }
   ],
   "source": [
    "%matplotlib inline\n",
    "from sklearn.datasets import make_blobs\n",
    "import pandas as pd\n",
    "import numpy as np\n",
    "import matplotlib.pyplot as plt\n",
    "import random\n",
    "\n",
    "# 중심점이 5개인 100개의 점 데이터를 무작위로 생성합니다.\n",
    "points, labels = make_blobs(n_samples=100, centers=5, n_features=2, random_state=135)\n",
    "\n",
    "print(points.shape, points[:10])  # 무작위로 생성된 점의 좌표 10개 출력\n",
    "print(labels.shape, labels[:10])    # 10개의 점들이 각각 대응하는 중심점(label) 값 출력"
   ]
  },
  {
   "cell_type": "code",
   "execution_count": 2,
   "id": "46681a94",
   "metadata": {},
   "outputs": [
    {
     "data": {
      "text/plain": [
       "(100, 2)"
      ]
     },
     "execution_count": 2,
     "metadata": {},
     "output_type": "execute_result"
    }
   ],
   "source": [
    "points.shape"
   ]
  },
  {
   "cell_type": "code",
   "execution_count": 4,
   "id": "b5999640",
   "metadata": {},
   "outputs": [],
   "source": [
    "df = pd.DataFrame(points)\n",
    "df.to_csv(\"points.csv\")"
   ]
  }
 ],
 "metadata": {
  "kernelspec": {
   "display_name": "Python 3 (ipykernel)",
   "language": "python",
   "name": "python3"
  },
  "language_info": {
   "codemirror_mode": {
    "name": "ipython",
    "version": 3
   },
   "file_extension": ".py",
   "mimetype": "text/x-python",
   "name": "python",
   "nbconvert_exporter": "python",
   "pygments_lexer": "ipython3",
   "version": "3.9.12"
  },
  "toc": {
   "base_numbering": 1,
   "nav_menu": {},
   "number_sections": true,
   "sideBar": true,
   "skip_h1_title": false,
   "title_cell": "Table of Contents",
   "title_sidebar": "Contents",
   "toc_cell": false,
   "toc_position": {},
   "toc_section_display": true,
   "toc_window_display": false
  },
  "varInspector": {
   "cols": {
    "lenName": 16,
    "lenType": 16,
    "lenVar": 40
   },
   "kernels_config": {
    "python": {
     "delete_cmd_postfix": "",
     "delete_cmd_prefix": "del ",
     "library": "var_list.py",
     "varRefreshCmd": "print(var_dic_list())"
    },
    "r": {
     "delete_cmd_postfix": ") ",
     "delete_cmd_prefix": "rm(",
     "library": "var_list.r",
     "varRefreshCmd": "cat(var_dic_list()) "
    }
   },
   "types_to_exclude": [
    "module",
    "function",
    "builtin_function_or_method",
    "instance",
    "_Feature"
   ],
   "window_display": false
  }
 },
 "nbformat": 4,
 "nbformat_minor": 5
}
