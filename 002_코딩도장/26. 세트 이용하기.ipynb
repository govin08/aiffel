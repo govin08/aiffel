{
 "cells": [
  {
   "cell_type": "markdown",
   "id": "9d711c66",
   "metadata": {},
   "source": [
    "# 26. 세트 이용하기"
   ]
  },
  {
   "cell_type": "markdown",
   "id": "c34c7b9c",
   "metadata": {},
   "source": [
    "수학에는 ordered pair $(a,b)$와 unordered pair $\\{a,b\\}$가 있다.\n",
    "또한 (ordered) tuple $(a_1,a_2,\\cdots,a_n)$과 unordered tuple $\\{a_1,a_2,\\cdots,a_n\\}$이 있다.\n",
    "즉, ordered pair와 (ordered) tuple에서는 순서가 존재하고 unordered pair와 unordered tuple에서는 순서가 존재하지 않는다.\n",
    "전자를 (finite) **sequence**라고도 부르고, 후자를 **set** 이라고도 부른다.\n",
    "\n",
    "파이썬에서 sequence에 해당하는 것은 `list`와 `tuple`이다.\n",
    "`numpy`까지 확장하면 rank 1의 `np.array`까지도 sequence에 해당한다.\n",
    "이것은 euclidean vector의 의미와 비슷하게 생각할 수 있지만, `list`와 `tuple`에서는 (벡터공간을 구성하는 두 연산) scalar multiplication과 vector addition에 해당하는 연산들(`*`, `+`)이 선형대수적으로 잘 작동하지 않는다.\n",
    "반면 `np.array`는 선형대수적으로 scalar multiplication과 vector addition이 잘 작동한다는 이점이 있다.\n",
    "\n",
    "파이썬에서 **set**에 해당하는 것은 `set`이다.\n",
    "수학에서의 **set**과 파이썬에서의 `set`이 얼마나 같고 얼마나 다른지는 아직 모르겠다."
   ]
  },
  {
   "cell_type": "markdown",
   "id": "97042850",
   "metadata": {},
   "source": [
    "|매서드|설명|문법|반환|분류|비고|\n",
    "|:-:|:-:|:-:|:-:|:-:|:-:|\n",
    "|`\\|`|합집합|*set* `\\|`*set*|*set*|연산자||\n",
    "|`&`|교집합|*set*`&`*set*|*set*|연산자||\n",
    "|`-`|차집합|*set*`-`*set*|*set*|연산자||\n",
    "|`^`|대칭차집합|*set*`^`*set*|*set*|연산자||\n",
    "|`union`|합집합|*set*.`set.union`(*set*)|*set*|*set*의 _method_||\n",
    "|`intersection`|교집합|*set*.`set.intersection`(*set*)|*set*|*set*의 _method_||\n",
    "|`difference`|차집합|*set*.`set.difference`(*set*)|*set*|*set*의 _method_||\n",
    "|`symmetric_difference`|대칭차집합|*set*.`set.symmetric_difference`(*set*)|*set*|*set*의 _method_||\n",
    "|`update`|합집합|*set*.`update`(*set*)|x|*set*의 _method_||\n",
    "|`intersection`|교집합|*set*.`intersection_update`(*set*)|x|*set*의 _method_||\n",
    "|`difference`|차집합|*set*.`difference_update`(*set*)|x|*set*의 _method_||\n",
    "|`symmetric_difference`|차집합|*set*.`symmetric_difference_update`(*set*)|x|*set*의 _method_||\n",
    "|`<=`|부분집합|*set* `<=` *set*|*bool*|연산자||\n",
    "|`>=`|포함집합|*set* `>=` *set*|*bool*|연산자||\n",
    "|`<`|진부분집합|*set* `<` *set*|*bool*|연산자||\n",
    "|`>`|진포함집합|*set* `>` *set*|*bool*|연산자||\n",
    "|`isdisjoint`|서로소|*set*.`isdisjoint`(*set*)|*bool*|*set*의 _method_||\n",
    "|`add`|특정 요소를 추가한다.|*set*.`add`(ele)|x|*set*의 _method_||\n",
    "|`remove`|특정 요소를 삭제한다.|*set*.`remove`(ele)|x|*set*의 _method_|특정 요소가 없을시 에러|\n",
    "|`discard`|특정 요소를 삭제한다.|*set*.`discard`(ele)|x|*set*의 _method_|특정 요소가 없어도 넘어감|\n",
    "|`pop`|임의의(맨 처음) 요소를 삭제한다.|*set*.`pop`()|삭제된 요소|*set*의 _method_||\n",
    "|`clear`|모든 요소를 삭제한다.|*set*.`clear`()||*set*의 _method_||\n",
    "|`len`|요소의 개수를 구한다.|`len`(*set*)||_function_||"
   ]
  },
  {
   "cell_type": "code",
   "execution_count": 622,
   "id": "456f83d4",
   "metadata": {},
   "outputs": [
    {
     "name": "stdout",
     "output_type": "stream",
     "text": [
      "<method 'union' of 'set' objects> <class 'method_descriptor'>\n",
      "<method 'update' of 'set' objects> <class 'method_descriptor'>\n",
      "<class 'bool'>\n",
      "<built-in function len> <class 'builtin_function_or_method'>\n"
     ]
    }
   ],
   "source": [
    "print(set.union, type(set.union))\n",
    "print(set.update, type(set.update))\n",
    "print(type(2==3))\n",
    "print(len, type(len))"
   ]
  },
  {
   "cell_type": "markdown",
   "id": "c6451afa",
   "metadata": {},
   "source": [
    "## 26.1. 세트 만들기"
   ]
  },
  {
   "cell_type": "code",
   "execution_count": 356,
   "id": "0f4f2078",
   "metadata": {},
   "outputs": [
    {
     "name": "stdout",
     "output_type": "stream",
     "text": [
      "{'a', 'b', 'c'}\n",
      "{'a', 'b', 'c'}\n",
      "{'a', 'b', 'c'}\n",
      "False\n",
      "False\n",
      "False\n",
      "True\n",
      "True\n",
      "True\n",
      "140141432308896\n",
      "140141432310464\n",
      "140141432308448\n"
     ]
    }
   ],
   "source": [
    "A = {'a', 'b', 'c'}\n",
    "B = {'a', 'c', 'b'} # mixed\n",
    "C = {'a', 'b', 'c', 'c'} # repeated\n",
    "print(A)\n",
    "print(B)\n",
    "print(C)\n",
    "print(A is B)\n",
    "print(A is C)\n",
    "print(B is C)\n",
    "print(A == B)\n",
    "print(A == C)\n",
    "print(B == C)\n",
    "print(id(A))\n",
    "print(id(B))\n",
    "print(id(C))"
   ]
  },
  {
   "cell_type": "markdown",
   "id": "2dac0a11",
   "metadata": {},
   "source": [
    "수학에서의 **set**과 마찬가지로 순서가 바뀌어도 서로 같다 (`A == B`) 중복된 요소가 존재해도 여전히 같다 (`A == C`)\n",
    "하지만 완전한 의미에서 같은 것은 아니다. (`not A is B`, `not A is C`)"
   ]
  },
  {
   "cell_type": "markdown",
   "id": "c7c23e01",
   "metadata": {},
   "source": [
    "<font color = red> 이상한 점</font> :\n",
    "\n",
    "교재에 따르면\n",
    "> 세트는 요소의 순서가 정해져 있지 않습니다(unordered). 따라서 세트를 출력해보면 매번 요소의 순서가 다르게 나옵니다.\n",
    "\n",
    "라고 되어 있다.\n",
    "하지만 실제로 `A`를 여러번 출력한다고 하더라도 순서는 일정하게 나온다."
   ]
  },
  {
   "cell_type": "markdown",
   "id": "bfc4eb1a",
   "metadata": {},
   "source": [
    "### 26.1.1. 세트에 특정 값이 있는지 확인하기"
   ]
  },
  {
   "cell_type": "code",
   "execution_count": 358,
   "id": "a15ce667",
   "metadata": {},
   "outputs": [
    {
     "name": "stdout",
     "output_type": "stream",
     "text": [
      "True\n",
      "False\n"
     ]
    }
   ],
   "source": [
    "A = {'a', 'b', 'c'}\n",
    "print('a' in A)\n",
    "print(a in A)"
   ]
  },
  {
   "cell_type": "markdown",
   "id": "eed21337",
   "metadata": {},
   "source": [
    "### 26.1.2. 반복가능한 객체를 사용하여 세트 만들기"
   ]
  },
  {
   "cell_type": "markdown",
   "id": "f73aeea8",
   "metadata": {},
   "source": [
    "반복가능한 객체(iterable object, e.g. `str`, `list`, `dict`, `set`, `range`)로 `set`을 만들 수 있다.\n",
    " - 위 subsubsection의 제목은 원래 '26.1.2  set를 사용하여 세트 만들기'였다. 이것을 옳게 바꾸었다."
   ]
  },
  {
   "cell_type": "code",
   "execution_count": 365,
   "id": "405ce92e",
   "metadata": {},
   "outputs": [
    {
     "name": "stdout",
     "output_type": "stream",
     "text": [
      "{'h', 't', 'o', 'y', 'n', 'P'}\n"
     ]
    }
   ],
   "source": [
    "P = 'Python'\n",
    "print(set(P))"
   ]
  },
  {
   "cell_type": "code",
   "execution_count": 368,
   "id": "2bff4bab",
   "metadata": {},
   "outputs": [
    {
     "name": "stdout",
     "output_type": "stream",
     "text": [
      "{0, 1, 2, 3, 4}\n"
     ]
    }
   ],
   "source": [
    "R = range(5)\n",
    "print(set(R))"
   ]
  },
  {
   "cell_type": "code",
   "execution_count": 369,
   "id": "ccb3d8b9",
   "metadata": {},
   "outputs": [
    {
     "name": "stdout",
     "output_type": "stream",
     "text": [
      "set()\n"
     ]
    }
   ],
   "source": [
    "E = set()\n",
    "print(E)"
   ]
  },
  {
   "cell_type": "markdown",
   "id": "6eaa2699",
   "metadata": {},
   "source": [
    "이것은 공집합처럼 생각해도 되는 것 같다."
   ]
  },
  {
   "cell_type": "markdown",
   "id": "1cad58cc",
   "metadata": {},
   "source": [
    "## 26.2. 집합 연산 사용하기"
   ]
  },
  {
   "cell_type": "code",
   "execution_count": 597,
   "id": "434c1110",
   "metadata": {},
   "outputs": [
    {
     "name": "stdout",
     "output_type": "stream",
     "text": [
      "{1, 2, 3, 4, 5, 6}\n",
      "{1, 2, 3, 4, 5, 6}\n",
      "{3, 4}\n",
      "{3, 4}\n",
      "{1, 2}\n",
      "{1, 2}\n",
      "{1, 2, 5, 6}\n",
      "{1, 2, 5, 6}\n"
     ]
    }
   ],
   "source": [
    "A = {1,2,3,4}\n",
    "B = {3,4,5,6}\n",
    "print(A|B)\n",
    "print(set.union(A,B))\n",
    "print(A&B)\n",
    "print(set.intersection(A,B))\n",
    "print(A-B)\n",
    "print(set.difference(A,B))\n",
    "print(A^B)\n",
    "print(set.symmetric_difference(A,B))"
   ]
  },
  {
   "cell_type": "markdown",
   "id": "480a347a",
   "metadata": {},
   "source": [
    "이전에 품었던 의문인`3^5=6`이 해결되었다.\n",
    "그때 연수님께서 저 `^` 연산이 비트연산자(bitwise operator, XOR)에 해당된다고 말씀하신 적이 있는데, 이것은 정확하게 대칭차집합(symmetric difference)에 대응된다.\n",
    "\n",
    "- `3^5=6`\n",
    "|base 10||base 2|base 2|base 2|\n",
    "|-||-|-|-|\n",
    "|3||0|1|1|\n",
    "|5||1|0|1|\n",
    "|-||-|-|-|\n",
    "|6||1|1|0|"
   ]
  },
  {
   "cell_type": "code",
   "execution_count": 382,
   "id": "ccb51704",
   "metadata": {},
   "outputs": [
    {
     "data": {
      "text/plain": [
       "6"
      ]
     },
     "execution_count": 382,
     "metadata": {},
     "output_type": "execute_result"
    }
   ],
   "source": [
    "3^5"
   ]
  },
  {
   "cell_type": "markdown",
   "id": "09393079",
   "metadata": {},
   "source": [
    "즉, `^`는 두 집합 사이의 연산이기도 하면서 두 숫자 사이의 연산이기도 하다.\n",
    "혹시 그렇다면, 숫자나 문자열, 리스트 사이에 '교집합', '합집합', '차집합'이 성립할까?"
   ]
  },
  {
   "cell_type": "code",
   "execution_count": 405,
   "id": "fb02471d",
   "metadata": {},
   "outputs": [
    {
     "name": "stdout",
     "output_type": "stream",
     "text": [
      "7\n",
      "1\n",
      "2\n",
      "6\n"
     ]
    }
   ],
   "source": [
    "print(5|3)\n",
    "print(5&3)\n",
    "print(5-3)\n",
    "print(5^3)\n",
    "# print('analysis'|'calculus') # TypeError: unsupported operand type(s) for |: 'str' and 'str'\n",
    "# print('analysis'&'calculus') # TypeError: unsupported operand type(s) for &: 'str' and 'str'\n",
    "# print('analysis'-'calculus') # TypeError: unsupported operand type(s) for -: 'str' and 'str'\n",
    "# print('analysis'^'calculus') # TypeError: unsupported operand type(s) for ^: 'str' and 'str'\n",
    "# print([1,2]|[1,3]) # TypeError: unsupported operand type(s) for |: 'list' and 'list'\n",
    "# print([1,2]&[1,3]) # TypeError: unsupported operand type(s) for &: 'list' and 'list'\n",
    "# print([1,2]-[1,3]) # TypeError: unsupported operand type(s) for -: 'list' and 'list'\n",
    "# print([1,2]^[1,3]) # TypeError: unsupported operand type(s) for ^: 'list' and 'list'"
   ]
  },
  {
   "cell_type": "markdown",
   "id": "af41ad91",
   "metadata": {},
   "source": [
    "두 숫자에 대하여 `|`와 `&`가 bitwise(?)한 or gate / and gate를 나타내는 것 같다.\n",
    "\n",
    "- `5|3=7`\n",
    "|base 10||base 2|base 2|base 2|\n",
    "|-||-|-|-|\n",
    "|5||1|0|1|\n",
    "|3||0|1|1|\n",
    "|-||-|-|-|\n",
    "|7||1|1|1|\n",
    "\n",
    "- `5&3=1`\n",
    "|base 10||base 2|base 2|base 2|\n",
    "|-||-|-|-|\n",
    "|5||1|0|1|\n",
    "|3||0|1|1|\n",
    "|-||-|-|-|\n",
    "|1||0|0|1|\n",
    "\n",
    "`-`는 평소에 쓰던 정수의 뺄셈 연산이라고 생각할 수 있다.\n",
    "이것이 bitwise(?)한 difference gate와도 일치할 것만 같기도 하다.\n",
    "실제로 일치하는지를 살펴보면\n",
    "\n",
    "- `5-3=2`\n",
    "|base 10||base 2|base 2|base 2|\n",
    "|-||-|-|-|\n",
    "|5||1|0|1|\n",
    "|3||0|1|1|\n",
    "|-||-|-|-|\n",
    "|1||0|1|0|\n",
    "\n",
    "이 된다.\n",
    "즉, bitwise difference와 일치하는 것 같다.\n",
    "\n",
    "\n",
    "참고 :\n",
    "\\begin{align*}\n",
    "a\\text{ and }b&\\leftrightarrow A\\cap B\\\\\n",
    "a\\text{ or }b&\\leftrightarrow A\\cup B\\\\\n",
    "a-b\\equiv a\\text{ and } \\neg b&\\leftrightarrow A\\setminus B=A\\cap B^c\\\\\n",
    "a\\wedge b\\equiv (a\\text{ or }b)\\setminus(a\\text{ and }b)\\equiv(a\\setminus b)\\text{ or }(b\\setminus a)&\\leftrightarrow A\\ominus B = (A\\cup B)\\setminus(A\\cap B)=(A\\setminus B)\\cup(B\\setminus A)\n",
    "\\end{align*}\n"
   ]
  },
  {
   "cell_type": "markdown",
   "id": "138698d8",
   "metadata": {},
   "source": [
    "### 26.2.1. 집합 연산 후 할당 연산자 사용하기"
   ]
  },
  {
   "cell_type": "code",
   "execution_count": 601,
   "id": "330a6588",
   "metadata": {},
   "outputs": [
    {
     "name": "stdout",
     "output_type": "stream",
     "text": [
      "{1, 2, 3, 4}\n",
      "{1, 2, 3, 4}\n"
     ]
    }
   ],
   "source": [
    "A = {1, 2, 3}\n",
    "A |={3,4}\n",
    "print(A)\n",
    "A = {1, 2, 3}\n",
    "A.update({3,4})\n",
    "print(A)"
   ]
  },
  {
   "cell_type": "code",
   "execution_count": 417,
   "id": "2752fb45",
   "metadata": {},
   "outputs": [
    {
     "name": "stdout",
     "output_type": "stream",
     "text": [
      "{3}\n"
     ]
    }
   ],
   "source": [
    "A = {1, 2, 3}\n",
    "A &={3,4}\n",
    "print(A)\n",
    "A = {1, 2, 3}\n",
    "A.intersection_update({3,4})\n",
    "print(A)"
   ]
  },
  {
   "cell_type": "code",
   "execution_count": 421,
   "id": "a08eb817",
   "metadata": {},
   "outputs": [
    {
     "name": "stdout",
     "output_type": "stream",
     "text": [
      "{1, 2}\n",
      "{1, 2}\n"
     ]
    }
   ],
   "source": [
    "A = {1, 2, 3}\n",
    "A -={3,4}\n",
    "print(A)\n",
    "A = {1, 2, 3}\n",
    "A.difference_update({3,4})\n",
    "print(A)"
   ]
  },
  {
   "cell_type": "code",
   "execution_count": 423,
   "id": "fbb76cd3",
   "metadata": {},
   "outputs": [
    {
     "name": "stdout",
     "output_type": "stream",
     "text": [
      "{1, 2, 4}\n",
      "{1, 2, 4}\n"
     ]
    }
   ],
   "source": [
    "A = {1, 2, 3}\n",
    "A ^={3,4}\n",
    "print(A)\n",
    "A = {1, 2, 3}\n",
    "A.symmetric_difference_update({3,4})\n",
    "print(A)"
   ]
  },
  {
   "cell_type": "markdown",
   "id": "e21336da",
   "metadata": {},
   "source": [
    "### 26.2.2. 부분집합과 상위집합 확인하기"
   ]
  },
  {
   "cell_type": "markdown",
   "id": "8b384aab",
   "metadata": {},
   "source": [
    "### 26.2.3. 세트가 같은지 다른지 확인하기"
   ]
  },
  {
   "cell_type": "markdown",
   "id": "0219c4fb",
   "metadata": {},
   "source": [
    "여기서 상위집합은 superset의 번역이다.\n",
    "superset은 사전에 따라, 문헌에 따라 다르게 번역되는 듯 보이지만 [대한수학회](https://www.kms.or.kr/mathdict/list.html?start=930&sort=ename&key=&keyword=&alpa=S)에 따르면 '포함집합'이라고 번역하는 것이 맞을 듯하다. (\\*는 위 링크에 없긴 하다.)\n",
    "\n",
    "|한국어|영어|기호|$\\TeX$ 명령어|\n",
    "|:-:|:-:|:-:|:-:|\n",
    "|부분집합|subset|$\\subset$|\\subset|\n",
    "|진부분집합|proper subset|$\\subsetneq$|\\subsetneq|\n",
    "|포함집합|superset|$\\supset$|\\supset|\n",
    "|진포함집합|proper superset|$\\supsetneq$|\\supsetneq|\n"
   ]
  },
  {
   "cell_type": "code",
   "execution_count": 438,
   "id": "f2d7b8a3",
   "metadata": {},
   "outputs": [],
   "source": [
    "A = {1, 2, 3}\n",
    "B = {1, 2}\n",
    "C = {1, 2, 3, 4}\n",
    "D = {1, 2, 3}"
   ]
  },
  {
   "cell_type": "code",
   "execution_count": 439,
   "id": "9e0dca94",
   "metadata": {},
   "outputs": [
    {
     "name": "stdout",
     "output_type": "stream",
     "text": [
      "True False\n"
     ]
    }
   ],
   "source": [
    "print(A==D, A is D)"
   ]
  },
  {
   "cell_type": "code",
   "execution_count": 453,
   "id": "e78cbea7",
   "metadata": {},
   "outputs": [
    {
     "data": {
      "text/plain": [
       "('%-10s', 'python    ', 'calculus')"
      ]
     },
     "execution_count": 453,
     "metadata": {},
     "output_type": "execute_result"
    }
   ],
   "source": [
    "'%-10s', '%-10s' % 'python', 'calculus'"
   ]
  },
  {
   "cell_type": "code",
   "execution_count": 474,
   "id": "965132b5",
   "metadata": {},
   "outputs": [
    {
     "name": "stdout",
     "output_type": "stream",
     "text": [
      "                 B     C     D\n",
      "      subset     0     1     1\n",
      "   subsetneq     0     1     0\n",
      "      supset     1     0     1\n",
      "   supsetneq     1     0     0\n"
     ]
    }
   ],
   "source": [
    "print('{:>12}{:>6}{:>6}{:>6}'.format('','B','C','D'))\n",
    "print('{:>12}{:>6}{:>6}{:>6}'.format('subset',A<=B,A<=C,A<=D))\n",
    "print('{:>12}{:>6}{:>6}{:>6}'.format('subsetneq',A<B,A<C,A<D))\n",
    "print('{:>12}{:>6}{:>6}{:>6}'.format('supset',A>=B,A>=C,A>=D))\n",
    "print('{:>12}{:>6}{:>6}{:>6}'.format('supsetneq',A>B,A>C,A>D))"
   ]
  },
  {
   "cell_type": "markdown",
   "id": "0a59204b",
   "metadata": {},
   "source": [
    " - 위의 코드에서 `0`은 `False`, `1`은 `True`\n",
    "   - 부등식 `A<=B`는 `boolean` 형식으로 출력되는데, `print` 내부에 있어서 그런가 0/1로 표시되고 있다.\n",
    "   - 각각의 부등식을 `bool()`로 감싸도 `boolean` 형식으로 출력되지 않는다.\n",
    " - 좀 보기 쉽게 만들기 위해서 표 형식으로 출력해봤는데, 영 별로인 것 같다.\n",
    " - 그래도 전단원에서 배운 `{:>12}`를 적용했다는 데에는 의미가 있다."
   ]
  },
  {
   "cell_type": "markdown",
   "id": "a63f9cda",
   "metadata": {},
   "source": [
    "### 26.2.4. 세트가 겹치지 않는지 확인하기"
   ]
  },
  {
   "cell_type": "markdown",
   "id": "4153a295",
   "metadata": {},
   "source": [
    "두 집합의 서로소"
   ]
  },
  {
   "cell_type": "code",
   "execution_count": 478,
   "id": "5e16b906",
   "metadata": {},
   "outputs": [
    {
     "name": "stdout",
     "output_type": "stream",
     "text": [
      "False\n",
      "False\n",
      "True\n",
      "True\n"
     ]
    }
   ],
   "source": [
    "A = {1, 2, 3}\n",
    "B = {3, 4}\n",
    "C = {4, 5}\n",
    "print(A.isdisjoint(B))\n",
    "print(B.isdisjoint(A))\n",
    "print(A.isdisjoint(C))\n",
    "print(C.isdisjoint(A))"
   ]
  },
  {
   "cell_type": "markdown",
   "id": "342eb4e2",
   "metadata": {},
   "source": [
    "여기서는 두 집합의 서로소, 그러니까 pairwise disjoint 개념을 이야기하고 있다.\n",
    "세 집합 이상일 때의 mutual disjoint 개념을 나타내는 명령어가 존재할 지도 모르겠다."
   ]
  },
  {
   "cell_type": "markdown",
   "id": "675543da",
   "metadata": {},
   "source": [
    "## 26.3. 세트 조작하기"
   ]
  },
  {
   "cell_type": "markdown",
   "id": "abe64488",
   "metadata": {},
   "source": [
    "### 26.3.1. 세트에 요소 추가하기"
   ]
  },
  {
   "cell_type": "code",
   "execution_count": 481,
   "id": "b5e9b14b",
   "metadata": {},
   "outputs": [
    {
     "name": "stdout",
     "output_type": "stream",
     "text": [
      "{1, 2, 3, 4, 5}\n"
     ]
    }
   ],
   "source": [
    "A = {1,2,3,4}\n",
    "A.add(5)\n",
    "print(A)"
   ]
  },
  {
   "cell_type": "markdown",
   "id": "c29d126f",
   "metadata": {},
   "source": [
    "### 26.3.2. 세트에서 특정 요소를 삭제하기"
   ]
  },
  {
   "cell_type": "code",
   "execution_count": 611,
   "id": "4e9fae4c",
   "metadata": {},
   "outputs": [
    {
     "name": "stdout",
     "output_type": "stream",
     "text": [
      "{1, 2, 4}\n"
     ]
    }
   ],
   "source": [
    "A = {1,2,3,4}\n",
    "A.remove(3)\n",
    "print(A)\n",
    "# A = {1,2,3,4}\n",
    "# A.remove(5) # KeyError: 5\n",
    "# print(A)"
   ]
  },
  {
   "cell_type": "code",
   "execution_count": 613,
   "id": "6c7babb7",
   "metadata": {},
   "outputs": [
    {
     "name": "stdout",
     "output_type": "stream",
     "text": [
      "{1, 2, 4}\n",
      "{1, 2, 3, 4}\n"
     ]
    }
   ],
   "source": [
    "A = {1,2,3,4}\n",
    "A.discard(3)\n",
    "print(A)\n",
    "A = {1,2,3,4}\n",
    "A.discard(5)\n",
    "print(A)"
   ]
  },
  {
   "cell_type": "markdown",
   "id": "8aac933e",
   "metadata": {},
   "source": [
    "### 26.3.3. 세트에서 임의의 요소를 삭제하기"
   ]
  },
  {
   "cell_type": "code",
   "execution_count": 616,
   "id": "0ad5ced0",
   "metadata": {},
   "outputs": [
    {
     "name": "stdout",
     "output_type": "stream",
     "text": [
      "{2, 3, 4}\n"
     ]
    }
   ],
   "source": [
    "A = {1,2,3,4}\n",
    "A.pop()\n",
    "print(A)"
   ]
  },
  {
   "cell_type": "markdown",
   "id": "70db946d",
   "metadata": {},
   "source": [
    "'임의의'라는 말은 잘못되었다.\n",
    "세트의 요소들 중 가장 작은 요소 (혹은, 아마도 맨 처음 요소)를 삭제하는 것 같다."
   ]
  },
  {
   "cell_type": "markdown",
   "id": "d998d31f",
   "metadata": {},
   "source": [
    "### 26.3.4. 세트의 모든 요소 삭제하기"
   ]
  },
  {
   "cell_type": "code",
   "execution_count": 620,
   "id": "46766e6c",
   "metadata": {},
   "outputs": [
    {
     "name": "stdout",
     "output_type": "stream",
     "text": [
      "set()\n"
     ]
    }
   ],
   "source": [
    "A = {1,2,3,4}\n",
    "A.clear()\n",
    "print(A)"
   ]
  },
  {
   "cell_type": "markdown",
   "id": "d670c18f",
   "metadata": {},
   "source": [
    "### 26.3.5. 세트의 요소 개수 구하기"
   ]
  },
  {
   "cell_type": "markdown",
   "id": "f68d51e0",
   "metadata": {},
   "source": [
    "cardinality"
   ]
  },
  {
   "cell_type": "code",
   "execution_count": 621,
   "id": "85dfa4e4",
   "metadata": {},
   "outputs": [
    {
     "name": "stdout",
     "output_type": "stream",
     "text": [
      "4\n"
     ]
    }
   ],
   "source": [
    "A = {1,2,3,4}\n",
    "print(len(A))"
   ]
  },
  {
   "cell_type": "markdown",
   "id": "32060276",
   "metadata": {},
   "source": [
    "## 26.4. 세트의 할당과 복사\n",
    "딕셔너리, 리스트에서와 원리가 같다."
   ]
  },
  {
   "cell_type": "code",
   "execution_count": 508,
   "id": "5dfe9954",
   "metadata": {},
   "outputs": [],
   "source": [
    "A = {1,2,3,4}\n",
    "B = A\n",
    "C = A.copy()"
   ]
  },
  {
   "cell_type": "markdown",
   "id": "25acb0e4",
   "metadata": {},
   "source": [
    "- `B`는 `A`를 그대로 할당한 것이고\n",
    "- `C`는 `A`를 복사한 것이다."
   ]
  },
  {
   "cell_type": "code",
   "execution_count": 509,
   "id": "0d8c59f9",
   "metadata": {},
   "outputs": [
    {
     "name": "stdout",
     "output_type": "stream",
     "text": [
      "True True\n",
      "True False\n"
     ]
    }
   ],
   "source": [
    "print(B == A, B is A)\n",
    "print(C == A, C is A)"
   ]
  },
  {
   "cell_type": "markdown",
   "id": "5c8c5ab8",
   "metadata": {},
   "source": [
    " - 할당한 변수 `B`는 원래 변수 `A`와 완전히 같다.\n",
    " - 하지만 복사한 변수 `C`는 원래 변수 `A`와 값은 같지만 주소까지 같지는 않다."
   ]
  },
  {
   "cell_type": "code",
   "execution_count": 511,
   "id": "59f4a218",
   "metadata": {},
   "outputs": [
    {
     "name": "stdout",
     "output_type": "stream",
     "text": [
      "True True\n",
      "False False\n"
     ]
    }
   ],
   "source": [
    "A.add(5)\n",
    "print(B == A, B is A)\n",
    "print(C == A, C is A)"
   ]
  },
  {
   "cell_type": "markdown",
   "id": "5045b52b",
   "metadata": {},
   "source": [
    "- `A`에 `1`을 추가하면\n",
    "- `B`에도 `1`이 추가되지만\n",
    "- `C`에는 `1`이 추가되지 않는다.\n",
    "\n",
    "즉, `A`와 독립된 변수 `C`를 만들려면 단순히 *할당*만 해서는 안되고 **복사**해야 한다."
   ]
  },
  {
   "cell_type": "code",
   "execution_count": 502,
   "id": "375d9792",
   "metadata": {},
   "outputs": [],
   "source": [
    "A = {1,2,3,4}\n",
    "B = A\n",
    "C = A.copy()"
   ]
  },
  {
   "cell_type": "markdown",
   "id": "ec0a4dfb",
   "metadata": {},
   "source": [
    "## 26.5. 반복문으로 세트의 요소 모두 출력하기"
   ]
  },
  {
   "cell_type": "code",
   "execution_count": 512,
   "id": "63dc0b4b",
   "metadata": {},
   "outputs": [
    {
     "name": "stdout",
     "output_type": "stream",
     "text": [
      "1\n",
      "2\n",
      "3\n",
      "4\n"
     ]
    }
   ],
   "source": [
    "A = {1,2,3,4}\n",
    "for a in A:\n",
    "    print(a)"
   ]
  },
  {
   "cell_type": "markdown",
   "id": "4a97d2ac",
   "metadata": {},
   "source": [
    "## 26.6. 세트 표현식 사용하기"
   ]
  },
  {
   "cell_type": "code",
   "execution_count": 514,
   "id": "e83bff47",
   "metadata": {},
   "outputs": [
    {
     "name": "stdout",
     "output_type": "stream",
     "text": [
      "{'l', 'p', 'a', 'e'}\n"
     ]
    }
   ],
   "source": [
    "A = {char for char in 'apple'}\n",
    "print(A)"
   ]
  },
  {
   "cell_type": "markdown",
   "id": "c594f644",
   "metadata": {},
   "source": [
    "'조건제시법'을 보는 것 같다."
   ]
  },
  {
   "cell_type": "markdown",
   "id": "1b5fdfda",
   "metadata": {},
   "source": [
    "### 26.6.1. 세트 표현식에 if 조건문 사용하기"
   ]
  },
  {
   "cell_type": "code",
   "execution_count": 517,
   "id": "c8d2c97c",
   "metadata": {},
   "outputs": [
    {
     "name": "stdout",
     "output_type": "stream",
     "text": [
      "{'i', 'n', 'e'}\n"
     ]
    }
   ],
   "source": [
    "A = {char for char in 'pineapple' if char not in 'apl'}\n",
    "print(A)"
   ]
  },
  {
   "cell_type": "markdown",
   "id": "fcaaabc1",
   "metadata": {},
   "source": [
    "## 26.7. 퀴즈"
   ]
  },
  {
   "cell_type": "markdown",
   "id": "0fb4777b",
   "metadata": {},
   "source": [
    "1번 문제"
   ]
  },
  {
   "cell_type": "code",
   "execution_count": 518,
   "id": "d27d1d7c",
   "metadata": {},
   "outputs": [],
   "source": [
    "a = {1,2,3,4,5}\n",
    "b = {}\n",
    "c = set('hello')\n",
    "d = set(range(10))\n",
    "e = set()"
   ]
  },
  {
   "cell_type": "code",
   "execution_count": 545,
   "id": "14ff9393",
   "metadata": {
    "scrolled": false
   },
   "outputs": [
    {
     "name": "stdout",
     "output_type": "stream",
     "text": [
      "     print                              print(type)         \n",
      "a    {1, 2, 3, 4, 5}                    <class 'set'>       \n",
      "b    {}                                 <class 'dict'>      \n",
      "c    {'h', 'l', 'o', 'e'}               <class 'set'>       \n",
      "d    {0, 1, 2, 3, 4, 5, 6, 7, 8, 9}     <class 'set'>       \n",
      "e    set()                              <class 'set'>       \n"
     ]
    }
   ],
   "source": [
    "print('{:<5}{:<35}{:<20}'.format('','print','print(type)'))\n",
    "print('{:<5}{:<35}{:<20}'.format('a',str(a),str(type(a))))\n",
    "print('{:<5}{:<35}{:<20}'.format('b',str(b),str(type(b))))\n",
    "print('{:<5}{:<35}{:<20}'.format('c',str(c),str(type(c))))\n",
    "print('{:<5}{:<35}{:<20}'.format('d',str(d),str(type(d))))\n",
    "print('{:<5}{:<35}{:<20}'.format('e',str(e),str(type(e))))"
   ]
  },
  {
   "cell_type": "markdown",
   "id": "b94ac40f",
   "metadata": {},
   "source": [
    "5번 문제"
   ]
  },
  {
   "cell_type": "code",
   "execution_count": 555,
   "id": "67a2b7f2",
   "metadata": {},
   "outputs": [
    {
     "name": "stdout",
     "output_type": "stream",
     "text": [
      "{3}\n",
      "{3}\n"
     ]
    }
   ],
   "source": [
    "# 1번 : 같다\n",
    "A = {1,2,3}\n",
    "B = {3,4}\n",
    "print(set.intersection(A,B))\n",
    "print(A&B)"
   ]
  },
  {
   "cell_type": "markdown",
   "id": "cdfa9f06",
   "metadata": {},
   "source": [
    " - `set.intsersection`은 `set` 클래스의 매서드이다.\n",
    " - `&`는 잘 모르겠지만 연산자인 것 같다.\n",
    "   - 수학 용어로 말하면 '이항연산(binary operation)'이라고는 말할 수 있다."
   ]
  },
  {
   "cell_type": "code",
   "execution_count": 565,
   "id": "9f28fdc6",
   "metadata": {},
   "outputs": [
    {
     "name": "stdout",
     "output_type": "stream",
     "text": [
      "{1, 2, 3, 4}\n",
      "{1, 2, 3, 4}\n"
     ]
    }
   ],
   "source": [
    "# 2번 : 같다\n",
    "A = {1,2,3}\n",
    "B = {3,4}\n",
    "A.update(B)\n",
    "print(A)\n",
    "A = {1,2,3}\n",
    "B = {3,4}\n",
    "A|=B\n",
    "print(A)"
   ]
  },
  {
   "cell_type": "code",
   "execution_count": 563,
   "id": "28a8df51",
   "metadata": {},
   "outputs": [
    {
     "name": "stdout",
     "output_type": "stream",
     "text": [
      "<method 'update' of 'set' objects>\n"
     ]
    }
   ],
   "source": [
    "print(set.update)"
   ]
  },
  {
   "cell_type": "markdown",
   "id": "dd2407ce",
   "metadata": {},
   "source": [
    " - `update`는 `set` 클래스의 매서드이다.\n",
    " - `|=`는 잘 모르겠지만 이것도 연산자인 것 같다.\n",
    "   - 이것도 이항연산이라고 해야 할까? 모르겠다."
   ]
  },
  {
   "cell_type": "code",
   "execution_count": 569,
   "id": "21ec7c20",
   "metadata": {},
   "outputs": [
    {
     "name": "stdout",
     "output_type": "stream",
     "text": [
      "{1, 2, 4}\n",
      "{1, 2}\n",
      "{1, 2}\n",
      "{1, 2, 4}\n"
     ]
    }
   ],
   "source": [
    "# 3번 : 다르다\n",
    "A = {1,2,3}\n",
    "B = {3,4}\n",
    "A.symmetric_difference_update(B)\n",
    "print(A)\n",
    "A = {1,2,3}\n",
    "B = {3,4}\n",
    "A-=B\n",
    "print(A)\n",
    "A = {1,2,3}\n",
    "B = {3,4}\n",
    "A.difference_update(B)\n",
    "print(A)\n",
    "A = {1,2,3}\n",
    "B = {3,4}\n",
    "A^=B\n",
    "print(A)"
   ]
  },
  {
   "cell_type": "markdown",
   "id": "f0029dd6",
   "metadata": {},
   "source": [
    " - `symmetric_difference_update`와 `difference_update`도 둘다 `set` 클래스의 매서드이다.\n",
    " - `-=`와 `^=`도 아마 이것도 연산자인 것 같다."
   ]
  },
  {
   "cell_type": "markdown",
   "id": "9ec5b41a",
   "metadata": {},
   "source": [
    "## 26.8. 연습문제"
   ]
  },
  {
   "cell_type": "markdown",
   "id": "7cc7ae62",
   "metadata": {},
   "source": [
    "## 26.9. 심사문제"
   ]
  },
  {
   "cell_type": "markdown",
   "id": "ad5f22ac",
   "metadata": {},
   "source": [
    "10 20"
   ]
  },
  {
   "cell_type": "markdown",
   "id": "b85e9eab",
   "metadata": {},
   "source": [
    "100 200"
   ]
  },
  {
   "cell_type": "markdown",
   "id": "7159a577",
   "metadata": {},
   "source": [
    "\\begin{align*}\n",
    "x|y\n",
    "&\\iff y\\text{ is divisible by } x\\\\\n",
    "&\\iff x\\text{ is a divisor of } y\\\\\n",
    "&\\iff \\text{`x%y==0`}\n",
    "\\end{align*}\n",
    "12 is divisible by 4 since `12%4==0`"
   ]
  },
  {
   "cell_type": "code",
   "execution_count": 575,
   "id": "2da36802",
   "metadata": {},
   "outputs": [
    {
     "name": "stdout",
     "output_type": "stream",
     "text": [
      "6\n"
     ]
    }
   ],
   "source": [
    "x = 6\n",
    "ax = {i for i in range(1,x) if x % i ==0}\n",
    "print(x)"
   ]
  },
  {
   "cell_type": "code",
   "execution_count": 591,
   "id": "9f5e5a1e",
   "metadata": {},
   "outputs": [
    {
     "name": "stdout",
     "output_type": "stream",
     "text": [
      "10 20\n",
      "18\n"
     ]
    }
   ],
   "source": [
    "x,y = map(int,input().split())\n",
    "a = {i for i in range(1,x+1) if x % i ==0}\n",
    "b = {i for i in range(1,y+1) if y % i ==0}\n",
    "divisor = a & b\n",
    " \n",
    "result = 0\n",
    "if type(divisor) == set:\n",
    "    result = sum(divisor)\n",
    " \n",
    "print(result)"
   ]
  }
 ],
 "metadata": {
  "kernelspec": {
   "display_name": "Python 3 (ipykernel)",
   "language": "python",
   "name": "python3"
  },
  "language_info": {
   "codemirror_mode": {
    "name": "ipython",
    "version": 3
   },
   "file_extension": ".py",
   "mimetype": "text/x-python",
   "name": "python",
   "nbconvert_exporter": "python",
   "pygments_lexer": "ipython3",
   "version": "3.9.7"
  }
 },
 "nbformat": 4,
 "nbformat_minor": 5
}
