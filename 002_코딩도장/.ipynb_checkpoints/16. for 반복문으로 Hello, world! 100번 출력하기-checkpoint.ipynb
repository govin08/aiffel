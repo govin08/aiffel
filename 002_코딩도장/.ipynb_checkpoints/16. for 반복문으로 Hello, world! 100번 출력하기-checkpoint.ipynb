{
 "cells": [
  {
   "cell_type": "markdown",
   "id": "5b201d76",
   "metadata": {},
   "source": [
    "# 16. for 반복문으로 Hello, world! 100번 출력하기"
   ]
  },
  {
   "cell_type": "markdown",
   "id": "df8158bb",
   "metadata": {},
   "source": [
    "## 16.1. for와 range 사용하기"
   ]
  },
  {
   "cell_type": "code",
   "execution_count": 1,
   "id": "071db6fe",
   "metadata": {
    "scrolled": true
   },
   "outputs": [
    {
     "name": "stdout",
     "output_type": "stream",
     "text": [
      "Hello world!\n",
      "Hello world!\n",
      "Hello world!\n",
      "Hello world!\n",
      "Hello world!\n",
      "Hello world!\n",
      "Hello world!\n",
      "Hello world!\n",
      "Hello world!\n",
      "Hello world!\n",
      "Hello world!\n",
      "Hello world!\n",
      "Hello world!\n",
      "Hello world!\n",
      "Hello world!\n",
      "Hello world!\n",
      "Hello world!\n",
      "Hello world!\n",
      "Hello world!\n",
      "Hello world!\n",
      "Hello world!\n",
      "Hello world!\n",
      "Hello world!\n",
      "Hello world!\n",
      "Hello world!\n",
      "Hello world!\n",
      "Hello world!\n",
      "Hello world!\n",
      "Hello world!\n",
      "Hello world!\n",
      "Hello world!\n",
      "Hello world!\n",
      "Hello world!\n",
      "Hello world!\n",
      "Hello world!\n",
      "Hello world!\n",
      "Hello world!\n",
      "Hello world!\n",
      "Hello world!\n",
      "Hello world!\n",
      "Hello world!\n",
      "Hello world!\n",
      "Hello world!\n",
      "Hello world!\n",
      "Hello world!\n",
      "Hello world!\n",
      "Hello world!\n",
      "Hello world!\n",
      "Hello world!\n",
      "Hello world!\n",
      "Hello world!\n",
      "Hello world!\n",
      "Hello world!\n",
      "Hello world!\n",
      "Hello world!\n",
      "Hello world!\n",
      "Hello world!\n",
      "Hello world!\n",
      "Hello world!\n",
      "Hello world!\n",
      "Hello world!\n",
      "Hello world!\n",
      "Hello world!\n",
      "Hello world!\n",
      "Hello world!\n",
      "Hello world!\n",
      "Hello world!\n",
      "Hello world!\n",
      "Hello world!\n",
      "Hello world!\n",
      "Hello world!\n",
      "Hello world!\n",
      "Hello world!\n",
      "Hello world!\n",
      "Hello world!\n",
      "Hello world!\n",
      "Hello world!\n",
      "Hello world!\n",
      "Hello world!\n",
      "Hello world!\n",
      "Hello world!\n",
      "Hello world!\n",
      "Hello world!\n",
      "Hello world!\n",
      "Hello world!\n",
      "Hello world!\n",
      "Hello world!\n",
      "Hello world!\n",
      "Hello world!\n",
      "Hello world!\n",
      "Hello world!\n",
      "Hello world!\n",
      "Hello world!\n",
      "Hello world!\n",
      "Hello world!\n",
      "Hello world!\n",
      "Hello world!\n",
      "Hello world!\n",
      "Hello world!\n",
      "Hello world!\n"
     ]
    }
   ],
   "source": [
    "for i in range(100):\n",
    "    print(\"Hello world!\")"
   ]
  },
  {
   "cell_type": "markdown",
   "id": "0ef58da0",
   "metadata": {},
   "source": [
    "> for 반복문은 반복 횟수가 정해져 있을 때 주로 사용합니다."
   ]
  },
  {
   "cell_type": "markdown",
   "id": "14cb0d8a",
   "metadata": {},
   "source": [
    "### 16.1.1 반복문에서 변수의 변화 알아보기"
   ]
  },
  {
   "cell_type": "code",
   "execution_count": 2,
   "id": "c7c248f7",
   "metadata": {
    "scrolled": true
   },
   "outputs": [
    {
     "name": "stdout",
     "output_type": "stream",
     "text": [
      "Hello, world! 0\n",
      "Hello, world! 1\n",
      "Hello, world! 2\n",
      "Hello, world! 3\n",
      "Hello, world! 4\n",
      "Hello, world! 5\n",
      "Hello, world! 6\n",
      "Hello, world! 7\n",
      "Hello, world! 8\n",
      "Hello, world! 9\n",
      "Hello, world! 10\n",
      "Hello, world! 11\n",
      "Hello, world! 12\n",
      "Hello, world! 13\n",
      "Hello, world! 14\n",
      "Hello, world! 15\n",
      "Hello, world! 16\n",
      "Hello, world! 17\n",
      "Hello, world! 18\n",
      "Hello, world! 19\n",
      "Hello, world! 20\n",
      "Hello, world! 21\n",
      "Hello, world! 22\n",
      "Hello, world! 23\n",
      "Hello, world! 24\n",
      "Hello, world! 25\n",
      "Hello, world! 26\n",
      "Hello, world! 27\n",
      "Hello, world! 28\n",
      "Hello, world! 29\n",
      "Hello, world! 30\n",
      "Hello, world! 31\n",
      "Hello, world! 32\n",
      "Hello, world! 33\n",
      "Hello, world! 34\n",
      "Hello, world! 35\n",
      "Hello, world! 36\n",
      "Hello, world! 37\n",
      "Hello, world! 38\n",
      "Hello, world! 39\n",
      "Hello, world! 40\n",
      "Hello, world! 41\n",
      "Hello, world! 42\n",
      "Hello, world! 43\n",
      "Hello, world! 44\n",
      "Hello, world! 45\n",
      "Hello, world! 46\n",
      "Hello, world! 47\n",
      "Hello, world! 48\n",
      "Hello, world! 49\n",
      "Hello, world! 50\n",
      "Hello, world! 51\n",
      "Hello, world! 52\n",
      "Hello, world! 53\n",
      "Hello, world! 54\n",
      "Hello, world! 55\n",
      "Hello, world! 56\n",
      "Hello, world! 57\n",
      "Hello, world! 58\n",
      "Hello, world! 59\n",
      "Hello, world! 60\n",
      "Hello, world! 61\n",
      "Hello, world! 62\n",
      "Hello, world! 63\n",
      "Hello, world! 64\n",
      "Hello, world! 65\n",
      "Hello, world! 66\n",
      "Hello, world! 67\n",
      "Hello, world! 68\n",
      "Hello, world! 69\n",
      "Hello, world! 70\n",
      "Hello, world! 71\n",
      "Hello, world! 72\n",
      "Hello, world! 73\n",
      "Hello, world! 74\n",
      "Hello, world! 75\n",
      "Hello, world! 76\n",
      "Hello, world! 77\n",
      "Hello, world! 78\n",
      "Hello, world! 79\n",
      "Hello, world! 80\n",
      "Hello, world! 81\n",
      "Hello, world! 82\n",
      "Hello, world! 83\n",
      "Hello, world! 84\n",
      "Hello, world! 85\n",
      "Hello, world! 86\n",
      "Hello, world! 87\n",
      "Hello, world! 88\n",
      "Hello, world! 89\n",
      "Hello, world! 90\n",
      "Hello, world! 91\n",
      "Hello, world! 92\n",
      "Hello, world! 93\n",
      "Hello, world! 94\n",
      "Hello, world! 95\n",
      "Hello, world! 96\n",
      "Hello, world! 97\n",
      "Hello, world! 98\n",
      "Hello, world! 99\n"
     ]
    }
   ],
   "source": [
    "for i in range(100):\n",
    "    print('Hello, world!',i)"
   ]
  },
  {
   "cell_type": "markdown",
   "id": "f574c098",
   "metadata": {},
   "source": [
    "## 16.2. for와 range 응용하기"
   ]
  },
  {
   "cell_type": "markdown",
   "id": "b8073ab5",
   "metadata": {},
   "source": [
    "### 16.2.1. 시작하는 숫자와 끝나는 숫자 지정하기"
   ]
  },
  {
   "cell_type": "code",
   "execution_count": 3,
   "id": "61dd64fc",
   "metadata": {},
   "outputs": [
    {
     "name": "stdout",
     "output_type": "stream",
     "text": [
      "Hello World! 5\n",
      "Hello World! 6\n",
      "Hello World! 7\n",
      "Hello World! 8\n",
      "Hello World! 9\n",
      "Hello World! 10\n",
      "Hello World! 11\n"
     ]
    }
   ],
   "source": [
    "for i in range(5,12):\n",
    "    print(\"Hello World!\",i)"
   ]
  },
  {
   "cell_type": "markdown",
   "id": "8cc6a1bc",
   "metadata": {},
   "source": [
    "### 16.2.2. 증가폭 사용하기"
   ]
  },
  {
   "cell_type": "code",
   "execution_count": 4,
   "id": "8520088a",
   "metadata": {},
   "outputs": [
    {
     "name": "stdout",
     "output_type": "stream",
     "text": [
      "Hello World! 5\n",
      "Hello World! 7\n",
      "Hello World! 9\n",
      "Hello World! 11\n"
     ]
    }
   ],
   "source": [
    "for i in range(5,12,2):\n",
    "    print(\"Hello World!\",i)"
   ]
  },
  {
   "cell_type": "markdown",
   "id": "e14b3fe7",
   "metadata": {},
   "source": [
    "### 16.2.3. 숫자를 감소시키기"
   ]
  },
  {
   "cell_type": "code",
   "execution_count": 5,
   "id": "a2905bd1",
   "metadata": {
    "scrolled": true
   },
   "outputs": [
    {
     "name": "stdout",
     "output_type": "stream",
     "text": [
      "Hello World! 10\n",
      "Hello World! 9\n",
      "Hello World! 8\n",
      "Hello World! 7\n",
      "Hello World! 6\n",
      "Hello World! 5\n",
      "Hello World! 4\n",
      "Hello World! 3\n",
      "Hello World! 2\n",
      "Hello World! 1\n"
     ]
    }
   ],
   "source": [
    "for i in range(10,0,-1):\n",
    "    print(\"Hello World!\",i)"
   ]
  },
  {
   "cell_type": "code",
   "execution_count": 7,
   "id": "01cce21e",
   "metadata": {
    "scrolled": true
   },
   "outputs": [
    {
     "name": "stdout",
     "output_type": "stream",
     "text": [
      "Hello World! 9\n",
      "Hello World! 8\n",
      "Hello World! 7\n",
      "Hello World! 6\n",
      "Hello World! 5\n",
      "Hello World! 4\n",
      "Hello World! 3\n",
      "Hello World! 2\n",
      "Hello World! 1\n",
      "Hello World! 0\n"
     ]
    }
   ],
   "source": [
    "for i in reversed(range(10)):\n",
    "    print(\"Hello World!\",i)"
   ]
  },
  {
   "cell_type": "markdown",
   "id": "a2db949d",
   "metadata": {},
   "source": [
    "### 16.2.4. 입력한 횟수대로 반복하기"
   ]
  },
  {
   "cell_type": "code",
   "execution_count": 8,
   "id": "506387e9",
   "metadata": {
    "scrolled": false
   },
   "outputs": [
    {
     "name": "stdout",
     "output_type": "stream",
     "text": [
      "반복할 횟수를 입력하세요: 3\n",
      "Hello, world! 0\n",
      "Hello, world! 1\n",
      "Hello, world! 2\n"
     ]
    }
   ],
   "source": [
    "count = int(input('반복할 횟수를 입력하세요: '))\n",
    " \n",
    "for i in range(count):\n",
    "    print('Hello, world!', i)\n"
   ]
  },
  {
   "cell_type": "markdown",
   "id": "3b22a0a0",
   "metadata": {},
   "source": [
    "## 16.3. 시퀀스 객체로 반복하기"
   ]
  },
  {
   "cell_type": "code",
   "execution_count": 9,
   "id": "9967308c",
   "metadata": {},
   "outputs": [
    {
     "name": "stdout",
     "output_type": "stream",
     "text": [
      "10\n",
      "20\n",
      "30\n",
      "40\n",
      "50\n"
     ]
    }
   ],
   "source": [
    "a = [10, 20, 30, 40, 50]\n",
    "for i in a:\n",
    "    print(i)"
   ]
  },
  {
   "cell_type": "code",
   "execution_count": 10,
   "id": "28acac42",
   "metadata": {},
   "outputs": [
    {
     "name": "stdout",
     "output_type": "stream",
     "text": [
      "apple\n",
      "orange\n",
      "grape\n"
     ]
    }
   ],
   "source": [
    "fruits = ('apple','orange','grape')\n",
    "for fruit in fruits:\n",
    "    print(fruit)"
   ]
  },
  {
   "cell_type": "code",
   "execution_count": 13,
   "id": "1fc3a2d5",
   "metadata": {},
   "outputs": [
    {
     "name": "stdout",
     "output_type": "stream",
     "text": [
      "p y t h o n "
     ]
    }
   ],
   "source": [
    "for letter in 'python':\n",
    "    print(letter, end=' ')"
   ]
  },
  {
   "cell_type": "code",
   "execution_count": 14,
   "id": "a6a1132d",
   "metadata": {},
   "outputs": [
    {
     "name": "stdout",
     "output_type": "stream",
     "text": [
      "n o h t y p "
     ]
    }
   ],
   "source": [
    "for letter in reversed('python'):\n",
    "    print(letter, end=' ')"
   ]
  },
  {
   "cell_type": "markdown",
   "id": "8b2ffdba",
   "metadata": {},
   "source": [
    "## 16.4. 퀴즈"
   ]
  },
  {
   "cell_type": "markdown",
   "id": "687634c4",
   "metadata": {},
   "source": [
    "## 16.5. 연습문제"
   ]
  },
  {
   "cell_type": "markdown",
   "id": "183ff06d",
   "metadata": {},
   "source": [
    "## 16.6. 심사문제"
   ]
  },
  {
   "cell_type": "code",
   "execution_count": 20,
   "id": "83ecab3e",
   "metadata": {},
   "outputs": [
    {
     "name": "stdout",
     "output_type": "stream",
     "text": [
      "4\n",
      "4 * 1 = 4\n",
      "4 * 2 = 8\n",
      "4 * 3 = 12\n",
      "4 * 4 = 16\n",
      "4 * 5 = 20\n",
      "4 * 6 = 24\n",
      "4 * 7 = 28\n",
      "4 * 8 = 32\n",
      "4 * 9 = 36\n"
     ]
    }
   ],
   "source": [
    "x = int(input())\n",
    "\n",
    "for i in range(1,10):\n",
    "    print(str(x),\"*\",str(i),\"=\",str(x*i))\n"
   ]
  },
  {
   "cell_type": "markdown",
   "id": "da9c6ed6",
   "metadata": {},
   "source": [
    "## 16.7*. 직접 만든 문제\n",
    "\n",
    "`while`문을 사용하여 100보다 작은 3의 배수들을 차례로 나열하는 코드를 구성하여라.\n",
    "\n",
    "한 줄로(가로로) 나열하여라.\n",
    "\n",
    "```\n",
    "for i in range(_,___,_):\n",
    "    print(i,end= ____)\n",
    "```"
   ]
  },
  {
   "cell_type": "code",
   "execution_count": 32,
   "id": "aee15109",
   "metadata": {},
   "outputs": [
    {
     "name": "stdout",
     "output_type": "stream",
     "text": [
      "3, 6, 9, 12, 15, 18, 21, 24, 27, 30, 33, 36, 39, 42, 45, 48, 51, 54, 57, 60, 63, 66, 69, 72, 75, 78, 81, 84, 87, 90, 93, 96, 99, "
     ]
    }
   ],
   "source": [
    "for i in range(3,100,3):\n",
    "    print(i,end= ', ')"
   ]
  }
 ],
 "metadata": {
  "kernelspec": {
   "display_name": "Python 3 (ipykernel)",
   "language": "python",
   "name": "python3"
  },
  "language_info": {
   "codemirror_mode": {
    "name": "ipython",
    "version": 3
   },
   "file_extension": ".py",
   "mimetype": "text/x-python",
   "name": "python",
   "nbconvert_exporter": "python",
   "pygments_lexer": "ipython3",
   "version": "3.9.7"
  }
 },
 "nbformat": 4,
 "nbformat_minor": 5
}
