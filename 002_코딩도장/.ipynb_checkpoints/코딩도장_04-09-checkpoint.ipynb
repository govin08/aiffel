{
 "cells": [
  {
   "cell_type": "markdown",
   "id": "0d8ce9e9",
   "metadata": {},
   "source": [
    "# 4. 기본 문법 알아보기"
   ]
  },
  {
   "cell_type": "markdown",
   "id": "a92468a4",
   "metadata": {},
   "source": [
    "## 4.1. 세미콜론"
   ]
  },
  {
   "cell_type": "code",
   "execution_count": 1,
   "id": "850809e0",
   "metadata": {},
   "outputs": [
    {
     "name": "stdout",
     "output_type": "stream",
     "text": [
      "Hello, world!\n"
     ]
    }
   ],
   "source": [
    "print('Hello, world!')"
   ]
  },
  {
   "cell_type": "code",
   "execution_count": 2,
   "id": "875c388c",
   "metadata": {},
   "outputs": [
    {
     "name": "stdout",
     "output_type": "stream",
     "text": [
      "Hello, world!\n",
      "1234\n"
     ]
    }
   ],
   "source": [
    "print('Hello, world!') ; print('1234')"
   ]
  },
  {
   "cell_type": "markdown",
   "id": "be85e507",
   "metadata": {},
   "source": [
    "## 4.2. 주석"
   ]
  },
  {
   "cell_type": "markdown",
   "id": "f3ddc2e8",
   "metadata": {},
   "source": [
    "### 4.2.1. 한 줄 주석"
   ]
  },
  {
   "cell_type": "code",
   "execution_count": 3,
   "id": "97af9bbf",
   "metadata": {},
   "outputs": [],
   "source": [
    "#print('Hello, world!')"
   ]
  },
  {
   "cell_type": "code",
   "execution_count": 5,
   "id": "64a377fc",
   "metadata": {},
   "outputs": [
    {
     "name": "stdout",
     "output_type": "stream",
     "text": [
      "Hello, world\n"
     ]
    }
   ],
   "source": [
    "a = 1 + 2 #더하기\n",
    "print('Hello, world') #printf('1234567890')"
   ]
  },
  {
   "cell_type": "code",
   "execution_count": 6,
   "id": "a66e12db",
   "metadata": {},
   "outputs": [
    {
     "name": "stdout",
     "output_type": "stream",
     "text": [
      "Hello, world!\n",
      "1234567890\n"
     ]
    }
   ],
   "source": [
    "print('Hello, world!')\n",
    "print('1234567890')"
   ]
  },
  {
   "cell_type": "markdown",
   "id": "3040d606",
   "metadata": {},
   "source": [
    "### 4.2.2. 블록 주석"
   ]
  },
  {
   "cell_type": "code",
   "execution_count": 8,
   "id": "daf4741f",
   "metadata": {},
   "outputs": [
    {
     "name": "stdout",
     "output_type": "stream",
     "text": [
      "Hello, world!\n",
      "1234567890\n"
     ]
    }
   ],
   "source": [
    "print('Hello, world!')\n",
    "print('1234567890')"
   ]
  },
  {
   "cell_type": "code",
   "execution_count": 7,
   "id": "25837a0e",
   "metadata": {},
   "outputs": [],
   "source": [
    "# print('Hello, world!')\n",
    "# print('1234567890')"
   ]
  },
  {
   "cell_type": "code",
   "execution_count": 9,
   "id": "151faf5d",
   "metadata": {},
   "outputs": [],
   "source": [
    "# 단축키는 'Ctrl + /'"
   ]
  },
  {
   "cell_type": "markdown",
   "id": "36f42cb4",
   "metadata": {},
   "source": [
    "## 4.3. 들여쓰기"
   ]
  },
  {
   "cell_type": "code",
   "execution_count": 13,
   "id": "8bfda340",
   "metadata": {},
   "outputs": [],
   "source": [
    "# 네 칸 들여쓰기 (tab)\n",
    "if a==0:\n",
    "    print('10입니다.')"
   ]
  },
  {
   "cell_type": "code",
   "execution_count": 14,
   "id": "1f224c3e",
   "metadata": {},
   "outputs": [],
   "source": [
    "# 두 칸 들여쓰기 (마찬가지로 동작함)\n",
    "if a==0:\n",
    "  print('10입니다.')"
   ]
  },
  {
   "cell_type": "markdown",
   "id": "ef3bacb1",
   "metadata": {},
   "source": [
    "## 4.4. 코드 블록"
   ]
  },
  {
   "cell_type": "markdown",
   "id": "d87b79b9",
   "metadata": {},
   "source": [
    " - 코드 블록은 특정한 동작을 위해서 코드가 모여 있는 상태를 뜻한다.\n",
    " - 들여쓰기를 기준으로 코드 블록을 구성한다.\n",
    " - 들여쓰기 칸 수가 같아야 한다."
   ]
  },
  {
   "cell_type": "code",
   "execution_count": 15,
   "id": "83328a94",
   "metadata": {},
   "outputs": [],
   "source": [
    "if a == 10:\n",
    "      print('10')\n",
    "      print('입니다.')"
   ]
  },
  {
   "cell_type": "code",
   "execution_count": 16,
   "id": "69a37725",
   "metadata": {},
   "outputs": [],
   "source": [
    "if a == 10:\n",
    "  print('10')\n",
    "  print('입니다.')"
   ]
  },
  {
   "cell_type": "code",
   "execution_count": 18,
   "id": "9861b850",
   "metadata": {},
   "outputs": [],
   "source": [
    "# 에러\n",
    "# if a == 10:\n",
    "#   print('10')\n",
    "#     print('입니다.')"
   ]
  },
  {
   "cell_type": "markdown",
   "id": "478b38cd",
   "metadata": {},
   "source": [
    "## 4. 5*. 스스로 만든 퀴즈"
   ]
  },
  {
   "cell_type": "markdown",
   "id": "1b88f6b3",
   "metadata": {},
   "source": [
    "다음 6개의 코드들이 작동하는지, 작동하지 않는지 판단해주세요."
   ]
  },
  {
   "cell_type": "code",
   "execution_count": 139,
   "id": "11025220",
   "metadata": {
    "scrolled": true
   },
   "outputs": [
    {
     "name": "stdout",
     "output_type": "stream",
     "text": [
      "1\n",
      "2\n",
      "3\n",
      "4\n",
      "5\n"
     ]
    }
   ],
   "source": [
    "#1 : 한 칸 indent\n",
    "a=0\n",
    "for i in range(5):\n",
    " a=a+1\n",
    " print(a)"
   ]
  },
  {
   "cell_type": "code",
   "execution_count": 140,
   "id": "3ef5d75c",
   "metadata": {},
   "outputs": [
    {
     "name": "stdout",
     "output_type": "stream",
     "text": [
      "1\n",
      "2\n",
      "3\n",
      "4\n",
      "5\n"
     ]
    }
   ],
   "source": [
    "#2 : 두 칸 indent\n",
    "a=0\n",
    "for i in range(5):\n",
    "  a=a+1\n",
    "  print(a)"
   ]
  },
  {
   "cell_type": "code",
   "execution_count": 141,
   "id": "b0aa7295",
   "metadata": {},
   "outputs": [
    {
     "name": "stdout",
     "output_type": "stream",
     "text": [
      "1\n",
      "2\n",
      "3\n",
      "4\n",
      "5\n"
     ]
    }
   ],
   "source": [
    "#3 : 세 칸 indent\n",
    "a=0\n",
    "for i in range(5):\n",
    "   a=a+1\n",
    "   print(a)"
   ]
  },
  {
   "cell_type": "code",
   "execution_count": 138,
   "id": "f1826073",
   "metadata": {},
   "outputs": [
    {
     "name": "stdout",
     "output_type": "stream",
     "text": [
      "1\n",
      "2\n",
      "3\n",
      "4\n",
      "5\n"
     ]
    }
   ],
   "source": [
    "#4 : 네 칸 indent\n",
    "a=0\n",
    "for i in range(5):\n",
    " a=a+1\n",
    " print(a)"
   ]
  },
  {
   "cell_type": "code",
   "execution_count": 142,
   "id": "dd3ee2e4",
   "metadata": {},
   "outputs": [
    {
     "name": "stdout",
     "output_type": "stream",
     "text": [
      "1\n",
      "2\n",
      "3\n",
      "4\n",
      "5\n"
     ]
    }
   ],
   "source": [
    "#4 tab indent\n",
    "a=0\n",
    "for i in range(5):\n",
    "    a=a+1\n",
    "    print(a)"
   ]
  },
  {
   "cell_type": "code",
   "execution_count": 143,
   "id": "c87da7b1",
   "metadata": {},
   "outputs": [
    {
     "name": "stdout",
     "output_type": "stream",
     "text": [
      "1\n",
      "2\n",
      "3\n",
      "4\n",
      "5\n"
     ]
    }
   ],
   "source": [
    "#5 다섯 칸 indent\n",
    "a=0\n",
    "for i in range(5):\n",
    "     a=a+1\n",
    "     print(a)"
   ]
  },
  {
   "cell_type": "markdown",
   "id": "0d893805",
   "metadata": {},
   "source": [
    "# 5. 숫자 계산하기"
   ]
  },
  {
   "cell_type": "markdown",
   "id": "d15d431e",
   "metadata": {},
   "source": [
    "## 5.1. 정수 계산하기"
   ]
  },
  {
   "cell_type": "markdown",
   "id": "bb1d1e72",
   "metadata": {},
   "source": [
    "### 5.1.1 사칙연산"
   ]
  },
  {
   "cell_type": "code",
   "execution_count": 31,
   "id": "acaf31d2",
   "metadata": {},
   "outputs": [
    {
     "data": {
      "text/plain": [
       "2"
      ]
     },
     "execution_count": 31,
     "metadata": {},
     "output_type": "execute_result"
    }
   ],
   "source": [
    "1+1"
   ]
  },
  {
   "cell_type": "code",
   "execution_count": 20,
   "id": "41e83bb4",
   "metadata": {},
   "outputs": [
    {
     "data": {
      "text/plain": [
       "-1"
      ]
     },
     "execution_count": 20,
     "metadata": {},
     "output_type": "execute_result"
    }
   ],
   "source": [
    "1-2"
   ]
  },
  {
   "cell_type": "code",
   "execution_count": 21,
   "id": "4880ce74",
   "metadata": {},
   "outputs": [
    {
     "data": {
      "text/plain": [
       "4"
      ]
     },
     "execution_count": 21,
     "metadata": {},
     "output_type": "execute_result"
    }
   ],
   "source": [
    "2*2"
   ]
  },
  {
   "cell_type": "code",
   "execution_count": 22,
   "id": "dca9d4b5",
   "metadata": {},
   "outputs": [
    {
     "data": {
      "text/plain": [
       "2.5"
      ]
     },
     "execution_count": 22,
     "metadata": {},
     "output_type": "execute_result"
    }
   ],
   "source": [
    "5/2"
   ]
  },
  {
   "cell_type": "code",
   "execution_count": 27,
   "id": "457683c2",
   "metadata": {},
   "outputs": [
    {
     "data": {
      "text/plain": [
       "2.0"
      ]
     },
     "execution_count": 27,
     "metadata": {},
     "output_type": "execute_result"
    }
   ],
   "source": [
    "4/2"
   ]
  },
  {
   "cell_type": "code",
   "execution_count": 28,
   "id": "fad30ca0",
   "metadata": {},
   "outputs": [
    {
     "name": "stdout",
     "output_type": "stream",
     "text": [
      "<class 'int'>\n",
      "<class 'float'>\n",
      "2.0\n"
     ]
    }
   ],
   "source": [
    "print(type(1+1)); print(type(5/2)) ; print(4/2)"
   ]
  },
  {
   "cell_type": "markdown",
   "id": "f078111b",
   "metadata": {},
   "source": [
    "### 5.1.2. 정수의 나눗셈 : 몫"
   ]
  },
  {
   "cell_type": "code",
   "execution_count": 32,
   "id": "f26c0ea5",
   "metadata": {},
   "outputs": [
    {
     "name": "stdout",
     "output_type": "stream",
     "text": [
      "2\n",
      "2\n"
     ]
    }
   ],
   "source": [
    "print(5//2)\n",
    "print(4//2)"
   ]
  },
  {
   "cell_type": "markdown",
   "id": "aab6e2f1",
   "metadata": {},
   "source": [
    "### 5.1.3. 정수의 나눗셈 : 나눗셈"
   ]
  },
  {
   "cell_type": "code",
   "execution_count": 33,
   "id": "e64846d3",
   "metadata": {},
   "outputs": [
    {
     "name": "stdout",
     "output_type": "stream",
     "text": [
      "1\n",
      "0\n"
     ]
    }
   ],
   "source": [
    "print(5%2)\n",
    "print(4%2)"
   ]
  },
  {
   "cell_type": "code",
   "execution_count": 39,
   "id": "c148d78d",
   "metadata": {},
   "outputs": [
    {
     "name": "stdout",
     "output_type": "stream",
     "text": [
      "5를 2로 나누면 몫은  2 이고, 나머지는 1 이다.\n"
     ]
    }
   ],
   "source": [
    "print('5를 2로 나누면 몫은 ', 5//2,'이고, 나머지는',5%2,'이다.')"
   ]
  },
  {
   "cell_type": "markdown",
   "id": "461d0874",
   "metadata": {},
   "source": [
    "### 5.1.4. 거듭제곱을 구하는 ** 연산자"
   ]
  },
  {
   "cell_type": "code",
   "execution_count": 40,
   "id": "c0fcfcf4",
   "metadata": {},
   "outputs": [
    {
     "data": {
      "text/plain": [
       "1024"
      ]
     },
     "execution_count": 40,
     "metadata": {},
     "output_type": "execute_result"
    }
   ],
   "source": [
    "2**10"
   ]
  },
  {
   "cell_type": "code",
   "execution_count": 41,
   "id": "648ebdd5",
   "metadata": {},
   "outputs": [
    {
     "data": {
      "text/plain": [
       "20"
      ]
     },
     "execution_count": 41,
     "metadata": {},
     "output_type": "execute_result"
    }
   ],
   "source": [
    "2*10"
   ]
  },
  {
   "cell_type": "code",
   "execution_count": 53,
   "id": "734665f1",
   "metadata": {},
   "outputs": [
    {
     "name": "stdout",
     "output_type": "stream",
     "text": [
      "1 2 3 4 5\n",
      "2 4 6 8 10\n",
      "3 6 9 12 15\n",
      "4 8 12 16 20\n",
      "5 10 15 20 25\n"
     ]
    }
   ],
   "source": [
    "print(1*1,1*2,1*3,1*4,1*5)\n",
    "print(2*1,2*2,2*3,2*4,2*5)\n",
    "print(3*1,3*2,3*3,3*4,3*5)\n",
    "print(4*1,4*2,4*3,4*4,4*5)\n",
    "print(5*1,5*2,5*3,5*4,5*5)"
   ]
  },
  {
   "cell_type": "code",
   "execution_count": 55,
   "id": "6c39ad45",
   "metadata": {},
   "outputs": [
    {
     "name": "stdout",
     "output_type": "stream",
     "text": [
      "^는 어떤 연산이지?\n",
      "0 3 2 5 4\n",
      "3 0 1 6 7\n",
      "2 1 0 7 6\n",
      "5 6 7 0 1\n",
      "4 7 6 1 0\n"
     ]
    }
   ],
   "source": [
    "print('^는 어떤 연산이지?')\n",
    "print(1^1,1^2,1^3,1^4,1^5)\n",
    "print(2^1,2^2,2^3,2^4,2^5)\n",
    "print(3^1,3^2,3^3,3^4,3^5)\n",
    "print(4^1,4^2,4^3,4^4,4^5)\n",
    "print(5^1,5^2,5^3,5^4,5^5)"
   ]
  },
  {
   "cell_type": "markdown",
   "id": "0a393f08",
   "metadata": {},
   "source": [
    "### 5.1.5. 값을 정수로 만들기"
   ]
  },
  {
   "cell_type": "code",
   "execution_count": 60,
   "id": "43941d01",
   "metadata": {},
   "outputs": [
    {
     "name": "stdout",
     "output_type": "stream",
     "text": [
      "3\n",
      "<class 'int'>\n",
      "2\n",
      "<class 'int'>\n",
      "10\n",
      "<class 'int'>\n"
     ]
    }
   ],
   "source": [
    "a=3.3 ; print(int(a)) ; print(type(int(a)))\n",
    "b=5/2 ; print(int(b)) ; print(type(int(b)))\n",
    "c='10' ; print(int(c)) ; print(type(int(c)))"
   ]
  },
  {
   "cell_type": "markdown",
   "id": "c2685c07",
   "metadata": {},
   "source": [
    "### 5.1.6. 객체의 자료형 알아내기"
   ]
  },
  {
   "cell_type": "code",
   "execution_count": 62,
   "id": "4340a795",
   "metadata": {},
   "outputs": [
    {
     "name": "stdout",
     "output_type": "stream",
     "text": [
      "<class 'int'>\n",
      "<class 'float'>\n",
      "<class 'str'>\n"
     ]
    }
   ],
   "source": [
    "print(type(10))\n",
    "print(type(10.1))\n",
    "print(type('10'))"
   ]
  },
  {
   "cell_type": "code",
   "execution_count": 66,
   "id": "d3d47123",
   "metadata": {},
   "outputs": [
    {
     "name": "stdout",
     "output_type": "stream",
     "text": [
      "2 1\n"
     ]
    }
   ],
   "source": [
    "quotient,remainder = divmod(5,2)\n",
    "print(quotient,remainder)"
   ]
  },
  {
   "cell_type": "markdown",
   "id": "5719a289",
   "metadata": {},
   "source": [
    "## 5.2. 실수 계산하기"
   ]
  },
  {
   "cell_type": "code",
   "execution_count": 67,
   "id": "fbdfc7b9",
   "metadata": {},
   "outputs": [
    {
     "data": {
      "text/plain": [
       "5.6"
      ]
     },
     "execution_count": 67,
     "metadata": {},
     "output_type": "execute_result"
    }
   ],
   "source": [
    "3.5+2.1"
   ]
  },
  {
   "cell_type": "code",
   "execution_count": 68,
   "id": "9d975afe",
   "metadata": {},
   "outputs": [
    {
     "data": {
      "text/plain": [
       "1.5999999999999996"
      ]
     },
     "execution_count": 68,
     "metadata": {},
     "output_type": "execute_result"
    }
   ],
   "source": [
    "4.3-2.7"
   ]
  },
  {
   "cell_type": "code",
   "execution_count": 69,
   "id": "936c1b1a",
   "metadata": {},
   "outputs": [
    {
     "data": {
      "text/plain": [
       "4.65"
      ]
     },
     "execution_count": 69,
     "metadata": {},
     "output_type": "execute_result"
    }
   ],
   "source": [
    "1.5*3.1"
   ]
  },
  {
   "cell_type": "code",
   "execution_count": 70,
   "id": "b3348c50",
   "metadata": {},
   "outputs": [
    {
     "data": {
      "text/plain": [
       "1.7741935483870968"
      ]
     },
     "execution_count": 70,
     "metadata": {},
     "output_type": "execute_result"
    }
   ],
   "source": [
    "5.5/3.1"
   ]
  },
  {
   "cell_type": "markdown",
   "id": "83e12540",
   "metadata": {},
   "source": [
    "### 5.2.1. 실수와 정수를 함께 계산하면?"
   ]
  },
  {
   "cell_type": "code",
   "execution_count": 71,
   "id": "e4044800",
   "metadata": {},
   "outputs": [
    {
     "data": {
      "text/plain": [
       "9.2"
      ]
     },
     "execution_count": 71,
     "metadata": {},
     "output_type": "execute_result"
    }
   ],
   "source": [
    "4.2+5"
   ]
  },
  {
   "cell_type": "markdown",
   "id": "484497d4",
   "metadata": {},
   "source": [
    "### 5.2.2. 값을 실수로 만들기"
   ]
  },
  {
   "cell_type": "code",
   "execution_count": 72,
   "id": "ebfa3dc9",
   "metadata": {},
   "outputs": [
    {
     "name": "stdout",
     "output_type": "stream",
     "text": [
      "5.0\n",
      "3.0\n",
      "5.3\n"
     ]
    }
   ],
   "source": [
    "print(float(5))\n",
    "print(float(1+2))\n",
    "print(float('5.3'))"
   ]
  },
  {
   "cell_type": "code",
   "execution_count": 73,
   "id": "e3b4a9d4",
   "metadata": {},
   "outputs": [
    {
     "data": {
      "text/plain": [
       "(1.2+1.3j)"
      ]
     },
     "execution_count": 73,
     "metadata": {},
     "output_type": "execute_result"
    }
   ],
   "source": [
    "1.2+1.3j"
   ]
  },
  {
   "cell_type": "markdown",
   "id": "9d64a293",
   "metadata": {},
   "source": [
    "## 5.3. 괄호 사용하기"
   ]
  },
  {
   "cell_type": "code",
   "execution_count": 75,
   "id": "3119627a",
   "metadata": {},
   "outputs": [
    {
     "name": "stdout",
     "output_type": "stream",
     "text": [
      "37\n",
      "72\n"
     ]
    }
   ],
   "source": [
    "print(35+1*2)\n",
    "print((35+1)*2)"
   ]
  },
  {
   "cell_type": "markdown",
   "id": "640d93f4",
   "metadata": {},
   "source": [
    "## 5.4. 퀴즈"
   ]
  },
  {
   "cell_type": "markdown",
   "id": "dd3fdf01",
   "metadata": {},
   "source": [
    "## 5.5. 연습문제"
   ]
  },
  {
   "cell_type": "markdown",
   "id": "4dcb5c2d",
   "metadata": {},
   "source": [
    "## 5.6 심사문제 "
   ]
  },
  {
   "cell_type": "markdown",
   "id": "b7ab3c08",
   "metadata": {},
   "source": [
    "## 5.7*. 스스로 만든 퀴즈"
   ]
  },
  {
   "cell_type": "markdown",
   "id": "4bea9d2b",
   "metadata": {},
   "source": [
    "파이썬에서"
   ]
  },
  {
   "cell_type": "code",
   "execution_count": 146,
   "id": "04a63f32",
   "metadata": {},
   "outputs": [
    {
     "data": {
      "text/plain": [
       "81"
      ]
     },
     "execution_count": 146,
     "metadata": {},
     "output_type": "execute_result"
    }
   ],
   "source": [
    "3**4"
   ]
  },
  {
   "cell_type": "markdown",
   "id": "6ddc372d",
   "metadata": {},
   "source": [
    "와 같이 입력하면 3의 네제곱인 81이 출력된다.\n",
    "그런데 보통 수식 입력기에서는 지수를 정의할 때"
   ]
  },
  {
   "cell_type": "code",
   "execution_count": 148,
   "id": "b4f32917",
   "metadata": {},
   "outputs": [
    {
     "data": {
      "text/plain": [
       "7"
      ]
     },
     "execution_count": 148,
     "metadata": {},
     "output_type": "execute_result"
    }
   ],
   "source": [
    "3^4"
   ]
  },
  {
   "cell_type": "markdown",
   "id": "b40c4900",
   "metadata": {},
   "source": [
    "라고 쓴다.\n",
    "실제 파이썬에서 위 수식을 입력하면 81 대신 7이 뜬다.\n",
    "이건 무슨 연산일까?"
   ]
  },
  {
   "cell_type": "markdown",
   "id": "22287daf",
   "metadata": {},
   "source": [
    "# 6. 변수와 입력 사용하기"
   ]
  },
  {
   "cell_type": "markdown",
   "id": "c438dec1",
   "metadata": {},
   "source": [
    "## 6.1. 변수 만들기"
   ]
  },
  {
   "cell_type": "code",
   "execution_count": 77,
   "id": "ead2987d",
   "metadata": {},
   "outputs": [
    {
     "data": {
      "text/plain": [
       "10"
      ]
     },
     "execution_count": 77,
     "metadata": {},
     "output_type": "execute_result"
    }
   ],
   "source": [
    "x=10\n",
    "x"
   ]
  },
  {
   "cell_type": "code",
   "execution_count": 79,
   "id": "561016f1",
   "metadata": {},
   "outputs": [
    {
     "data": {
      "text/plain": [
       "'hello world'"
      ]
     },
     "execution_count": 79,
     "metadata": {},
     "output_type": "execute_result"
    }
   ],
   "source": [
    "y = 'hello world'\n",
    "y"
   ]
  },
  {
   "cell_type": "markdown",
   "id": "077e0610",
   "metadata": {},
   "source": [
    "### 6.1.1. 변수의 자료형 알아내기"
   ]
  },
  {
   "cell_type": "code",
   "execution_count": 81,
   "id": "c31da4e9",
   "metadata": {},
   "outputs": [
    {
     "name": "stdout",
     "output_type": "stream",
     "text": [
      "<class 'int'>\n",
      "<class 'str'>\n"
     ]
    }
   ],
   "source": [
    "print(type(x))\n",
    "print(type(y))"
   ]
  },
  {
   "cell_type": "markdown",
   "id": "05ac96c9",
   "metadata": {},
   "source": [
    "### 6.1.2. 변수 여러 개를 한 번에 만들기"
   ]
  },
  {
   "cell_type": "code",
   "execution_count": 82,
   "id": "55e06c75",
   "metadata": {},
   "outputs": [
    {
     "name": "stdout",
     "output_type": "stream",
     "text": [
      "10 20 30\n"
     ]
    }
   ],
   "source": [
    "x,y,z=10,20,30\n",
    "print(x,y,z)"
   ]
  },
  {
   "cell_type": "code",
   "execution_count": 83,
   "id": "c0a4a3c4",
   "metadata": {},
   "outputs": [
    {
     "name": "stdout",
     "output_type": "stream",
     "text": [
      "20 10\n"
     ]
    }
   ],
   "source": [
    "x, y = 10, 20\n",
    "x, y = y, x\n",
    "print(x,y)"
   ]
  },
  {
   "cell_type": "markdown",
   "id": "3bf617de",
   "metadata": {},
   "source": [
    "## 6.2. 변수로 계산하기"
   ]
  },
  {
   "cell_type": "code",
   "execution_count": 84,
   "id": "25d8ca62",
   "metadata": {},
   "outputs": [
    {
     "name": "stdout",
     "output_type": "stream",
     "text": [
      "30\n"
     ]
    }
   ],
   "source": [
    "a = 10\n",
    "b = 20\n",
    "print(a+b)"
   ]
  },
  {
   "cell_type": "markdown",
   "id": "74b114cb",
   "metadata": {},
   "source": [
    "### 6.2.1. 산술 연산 후 할당 연산자 사용하기"
   ]
  },
  {
   "cell_type": "code",
   "execution_count": 86,
   "id": "d7c451f8",
   "metadata": {},
   "outputs": [
    {
     "name": "stdout",
     "output_type": "stream",
     "text": [
      "30\n"
     ]
    }
   ],
   "source": [
    "a=10\n",
    "print(a+20)"
   ]
  },
  {
   "cell_type": "code",
   "execution_count": 87,
   "id": "dfbb6912",
   "metadata": {},
   "outputs": [
    {
     "name": "stdout",
     "output_type": "stream",
     "text": [
      "30\n"
     ]
    }
   ],
   "source": [
    "a=10\n",
    "a=a+20\n",
    "print(a)"
   ]
  },
  {
   "cell_type": "code",
   "execution_count": 88,
   "id": "562f8f11",
   "metadata": {},
   "outputs": [
    {
     "name": "stdout",
     "output_type": "stream",
     "text": [
      "30\n"
     ]
    }
   ],
   "source": [
    "a=10\n",
    "a+=20\n",
    "print(a)"
   ]
  },
  {
   "cell_type": "markdown",
   "id": "a8c1db10",
   "metadata": {},
   "source": [
    "## 6.3. 입력값을 변수에 저장하기"
   ]
  },
  {
   "cell_type": "markdown",
   "id": "c20b873b",
   "metadata": {},
   "source": [
    "### 6.3.1. input 함수 사용하기"
   ]
  },
  {
   "cell_type": "code",
   "execution_count": 89,
   "id": "ffb64921",
   "metadata": {},
   "outputs": [
    {
     "name": "stdout",
     "output_type": "stream",
     "text": [
      "Hello, world!\n"
     ]
    },
    {
     "data": {
      "text/plain": [
       "'Hello, world!'"
      ]
     },
     "execution_count": 89,
     "metadata": {},
     "output_type": "execute_result"
    }
   ],
   "source": [
    "input()"
   ]
  },
  {
   "cell_type": "markdown",
   "id": "43f68d11",
   "metadata": {},
   "source": [
    "### 6.3.2. input 함수의 결과를 변수에 할당하기"
   ]
  },
  {
   "cell_type": "code",
   "execution_count": 90,
   "id": "040579ed",
   "metadata": {},
   "outputs": [
    {
     "name": "stdout",
     "output_type": "stream",
     "text": [
      "Hello world!\n"
     ]
    }
   ],
   "source": [
    "x = input()"
   ]
  },
  {
   "cell_type": "code",
   "execution_count": 91,
   "id": "1a54da72",
   "metadata": {},
   "outputs": [
    {
     "name": "stdout",
     "output_type": "stream",
     "text": [
      "Hello world!\n"
     ]
    }
   ],
   "source": [
    "print(x)"
   ]
  },
  {
   "cell_type": "code",
   "execution_count": 92,
   "id": "96202a4d",
   "metadata": {},
   "outputs": [
    {
     "name": "stdout",
     "output_type": "stream",
     "text": [
      "문자열을 입력하세요hello world\n"
     ]
    }
   ],
   "source": [
    "x = input('문자열을 입력하세요')"
   ]
  },
  {
   "cell_type": "code",
   "execution_count": 93,
   "id": "7b5c7a57",
   "metadata": {},
   "outputs": [
    {
     "name": "stdout",
     "output_type": "stream",
     "text": [
      "hello world\n"
     ]
    }
   ],
   "source": [
    "print(x)"
   ]
  },
  {
   "cell_type": "markdown",
   "id": "2a0c6db7",
   "metadata": {},
   "source": [
    "실행을 해보면 '문자열을 입력하세요: '처럼 안내 문구가 먼저 나옵니다. 여기에 문자열을 입력한 뒤 엔터 키를 누르면 입력한 그대로 출력됩니다. 즉, 이 문자열은 사용자에게 입력받는 값의 용도를 미리 알려줄 때 사용합니다. 다른 말로는 **프롬프트(prompt)**라고도 부릅니다(파이썬 프롬프트 >>>와 같은 의미입니다)."
   ]
  },
  {
   "cell_type": "markdown",
   "id": "5bbb2e88",
   "metadata": {},
   "source": [
    "### 6.3.3. 두 숫자의 합 구하기"
   ]
  },
  {
   "cell_type": "code",
   "execution_count": 96,
   "id": "97569551",
   "metadata": {},
   "outputs": [
    {
     "name": "stdout",
     "output_type": "stream",
     "text": [
      "첫번재 숫자를 입력하세요: 10\n",
      "두번재 숫자를 입력하세요: 20\n",
      "1020\n"
     ]
    }
   ],
   "source": [
    "a= input('첫번재 숫자를 입력하세요: ')\n",
    "b= input('두번재 숫자를 입력하세요: ')\n",
    "print(a+b)"
   ]
  },
  {
   "cell_type": "code",
   "execution_count": 97,
   "id": "5eb937c2",
   "metadata": {},
   "outputs": [
    {
     "name": "stdout",
     "output_type": "stream",
     "text": [
      "<class 'str'>\n"
     ]
    }
   ],
   "source": [
    "print(type(a))"
   ]
  },
  {
   "cell_type": "markdown",
   "id": "3bee3a52",
   "metadata": {},
   "source": [
    "### 6.3.4. 입력 값을 정수로 변환하기"
   ]
  },
  {
   "cell_type": "code",
   "execution_count": 101,
   "id": "80d74d52",
   "metadata": {},
   "outputs": [
    {
     "name": "stdout",
     "output_type": "stream",
     "text": [
      "첫번째 숫자를 입력하세요 : 10\n"
     ]
    }
   ],
   "source": [
    "a = int(input('첫번째 숫자를 입력하세요 : '))\n",
    "#b = input(int('첫번째 숫자를 입력하세요 : ')) #오류"
   ]
  },
  {
   "cell_type": "code",
   "execution_count": 99,
   "id": "2ce39ec7",
   "metadata": {},
   "outputs": [
    {
     "name": "stdout",
     "output_type": "stream",
     "text": [
      "10\n",
      "<class 'int'>\n"
     ]
    }
   ],
   "source": [
    "print(a)\n",
    "print(type(a))"
   ]
  },
  {
   "cell_type": "markdown",
   "id": "0f55a0cb",
   "metadata": {},
   "source": [
    "## 6.4.1. 입력값을 변수 두 개에 저장하기"
   ]
  },
  {
   "cell_type": "code",
   "execution_count": 108,
   "id": "4fa5c74b",
   "metadata": {},
   "outputs": [
    {
     "name": "stdout",
     "output_type": "stream",
     "text": [
      "문자열 두 개를 입력하세요: 10 20\n",
      "10\n",
      "20\n"
     ]
    }
   ],
   "source": [
    "a, b = input('문자열 두 개를 입력하세요: ').split() \n",
    "print(a)\n",
    "print(b)"
   ]
  },
  {
   "cell_type": "code",
   "execution_count": 113,
   "id": "cac8b852",
   "metadata": {},
   "outputs": [
    {
     "name": "stdout",
     "output_type": "stream",
     "text": [
      "문자열 두 개를 입력하세요: 10 20\n",
      "10\n",
      "20\n"
     ]
    }
   ],
   "source": [
    "a, b = input('문자열 두 개를 입력하세요: ').split() \n",
    "print(a)\n",
    "print(b)"
   ]
  },
  {
   "cell_type": "code",
   "execution_count": 126,
   "id": "693344a7",
   "metadata": {},
   "outputs": [
    {
     "name": "stdout",
     "output_type": "stream",
     "text": [
      "문자열 두 개를 입력하세요: 10, 20.3\n",
      "['10,', '20.3']\n",
      "<class 'list'>\n"
     ]
    }
   ],
   "source": [
    "L = input('문자열 두 개를 입력하세요: ').split()\n",
    "print(L)\n",
    "print(type(L))"
   ]
  },
  {
   "cell_type": "markdown",
   "id": "a444955d",
   "metadata": {},
   "source": [
    "### 6.4.2 입력 값을 정수로 변환하기"
   ]
  },
  {
   "cell_type": "code",
   "execution_count": 123,
   "id": "e3fd145c",
   "metadata": {},
   "outputs": [
    {
     "name": "stdout",
     "output_type": "stream",
     "text": [
      "문자열 두 개를 입력하세요: 10 20\n",
      "10\n",
      "20\n"
     ]
    }
   ],
   "source": [
    "a, b = input('문자열 두 개를 입력하세요: ').split() \n",
    "a=int(a)\n",
    "b=int(b)\n",
    "print(a)\n",
    "print(b)\n",
    "\n",
    "# issue : '10, 20'을 입력하면 잘 출력된다. 그런데 '10.2, 20.3'을 입력하면 에러가 뜬다."
   ]
  },
  {
   "cell_type": "code",
   "execution_count": 121,
   "id": "f5a25df7",
   "metadata": {},
   "outputs": [
    {
     "name": "stdout",
     "output_type": "stream",
     "text": [
      "10\n"
     ]
    }
   ],
   "source": [
    "a=10.2\n",
    "a=int(a)\n",
    "print(a)"
   ]
  },
  {
   "cell_type": "markdown",
   "id": "ecc976f6",
   "metadata": {},
   "source": [
    "### 6.4.3. map을 사용하여 정수로 변환하기"
   ]
  },
  {
   "cell_type": "code",
   "execution_count": 124,
   "id": "6fa584ab",
   "metadata": {},
   "outputs": [
    {
     "name": "stdout",
     "output_type": "stream",
     "text": [
      "10 20\n"
     ]
    }
   ],
   "source": [
    "a,b = map(int,(10.2,20.3))\n",
    "print(a,b)"
   ]
  },
  {
   "cell_type": "code",
   "execution_count": 127,
   "id": "6488081e",
   "metadata": {},
   "outputs": [
    {
     "name": "stdout",
     "output_type": "stream",
     "text": [
      "10 20\n"
     ]
    }
   ],
   "source": [
    "a,b = map(int,[10.2,20.3])\n",
    "print(a,b)"
   ]
  },
  {
   "cell_type": "markdown",
   "id": "5f1d3622",
   "metadata": {},
   "source": [
    "### 6.4.4. 입력받은 값을 콤마를 기준으로 분리하기"
   ]
  },
  {
   "cell_type": "code",
   "execution_count": 128,
   "id": "e30169d3",
   "metadata": {},
   "outputs": [
    {
     "name": "stdout",
     "output_type": "stream",
     "text": [
      "숫자 두 개를 입려하세요:10,20\n",
      "10\n",
      "20\n"
     ]
    }
   ],
   "source": [
    "a,b = input('숫자 두 개를 입려하세요:').split(',')\n",
    "print(a)\n",
    "print(b)"
   ]
  },
  {
   "cell_type": "markdown",
   "id": "7ab12e92",
   "metadata": {},
   "source": [
    "## 6.5. 퀴즈"
   ]
  },
  {
   "cell_type": "markdown",
   "id": "f485baa3",
   "metadata": {},
   "source": [
    "다음 중 변수 이름으로 사용할 수 없는 것을 모두 고르세요.\n",
    "1. 300\n",
    "2. _53A\n",
    "3. if\n",
    "4. z\n",
    "5. H-80\n",
    "6. _hello3\n",
    "7. 30seconds\n",
    "8. 99%"
   ]
  },
  {
   "cell_type": "markdown",
   "id": "a0c16dad",
   "metadata": {},
   "source": [
    "|순번|코드|사용가능여부|이유|\n",
    "|-|-|-|-|\n",
    "|(a)|300|불가능||\n",
    "|(b)|\\_53A|가능||\n",
    "|(c)|if|불가능||\n",
    "|(d)|z|가능||\n",
    "|(e)|H-80|불가능||\n",
    "|(f)|\\_hello3|가능||\n",
    "|(g)|30seconds|불가능||\n",
    "|(h)|99%|불가능||"
   ]
  },
  {
   "cell_type": "markdown",
   "id": "fa43dd61",
   "metadata": {},
   "source": [
    "변수를 지을 때의 규칙\n",
    "- 영문 문자와 숫자를 사용할 수 있습니다.\n",
    "- 대소문자를 구분합니다.\n",
    "- 문자부터 시작해야 하며 숫자부터 시작하면 안 됩니다.\n",
    "- _(밑줄 문자)로 시작할 수 있습니다.\n",
    "- 특수 문자(+, -, *, /, $, @, &, % 등)는 사용할 수 없습니다.\n",
    "- 파이썬의 키워드(if, for, while, and, or 등)는 사용할 수 없습니다.\n"
   ]
  },
  {
   "cell_type": "markdown",
   "id": "ee0f44c2",
   "metadata": {},
   "source": [
    "## 6.9*. 스스로 만든 문제"
   ]
  },
  {
   "cell_type": "markdown",
   "id": "eb20f4db",
   "metadata": {},
   "source": [
    "리스트 L은 다음과 같이 정의되어 있다."
   ]
  },
  {
   "cell_type": "code",
   "execution_count": 158,
   "id": "bc8800a6",
   "metadata": {},
   "outputs": [],
   "source": [
    "L=[5, 5.3, '5']"
   ]
  },
  {
   "cell_type": "markdown",
   "id": "e88dcd05",
   "metadata": {},
   "source": [
    "이때, L의 세 원소(?) 5, 5.3, '5'의 데이터타입을 출력하는 코드를 만들어라. (함수 map, type을 사용하여라.)"
   ]
  },
  {
   "cell_type": "code",
   "execution_count": null,
   "id": "ef23c007",
   "metadata": {},
   "outputs": [],
   "source": []
  },
  {
   "cell_type": "code",
   "execution_count": null,
   "id": "07c92c1c",
   "metadata": {},
   "outputs": [],
   "source": []
  },
  {
   "cell_type": "code",
   "execution_count": null,
   "id": "6431a014",
   "metadata": {},
   "outputs": [],
   "source": []
  },
  {
   "cell_type": "code",
   "execution_count": null,
   "id": "84fa1890",
   "metadata": {},
   "outputs": [],
   "source": []
  },
  {
   "cell_type": "code",
   "execution_count": null,
   "id": "3069e469",
   "metadata": {},
   "outputs": [],
   "source": []
  },
  {
   "cell_type": "code",
   "execution_count": null,
   "id": "d69e6e90",
   "metadata": {},
   "outputs": [],
   "source": []
  },
  {
   "cell_type": "code",
   "execution_count": null,
   "id": "1f83921a",
   "metadata": {},
   "outputs": [],
   "source": []
  },
  {
   "cell_type": "code",
   "execution_count": 157,
   "id": "0a790d3e",
   "metadata": {},
   "outputs": [
    {
     "name": "stdout",
     "output_type": "stream",
     "text": [
      "<class 'int'>\n",
      "<class 'int'>\n"
     ]
    }
   ],
   "source": [
    "a,b=map(type,[4,5])\n",
    "print(a)\n",
    "print(b)"
   ]
  }
 ],
 "metadata": {
  "kernelspec": {
   "display_name": "Python 3 (ipykernel)",
   "language": "python",
   "name": "python3"
  },
  "language_info": {
   "codemirror_mode": {
    "name": "ipython",
    "version": 3
   },
   "file_extension": ".py",
   "mimetype": "text/x-python",
   "name": "python",
   "nbconvert_exporter": "python",
   "pygments_lexer": "ipython3",
   "version": "3.9.7"
  }
 },
 "nbformat": 4,
 "nbformat_minor": 5
}
