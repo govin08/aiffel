{
 "cells": [
  {
   "cell_type": "markdown",
   "id": "8b30e173",
   "metadata": {},
   "source": [
    "# 24. 문자열 응용하기"
   ]
  },
  {
   "cell_type": "markdown",
   "id": "c370d866",
   "metadata": {},
   "source": [
    "- string\n",
    "- `str`"
   ]
  },
  {
   "cell_type": "markdown",
   "id": "a657e88d",
   "metadata": {},
   "source": [
    "## 24.1. 문자열 조작하기"
   ]
  },
  {
   "cell_type": "markdown",
   "id": "a7749ade",
   "metadata": {},
   "source": [
    "문자열과 관련한 여러 매서드들이 있다.\n",
    "\n",
    "|매서드|설명|문법|반환|분류|비고|\n",
    "|:-:|:-:|:-:|:-:|:-:|:-:|\n",
    "|`replace`|문자열을 바꾼다.|*str*.`replace`(*str*,*str*)|*str*|*str*의 _method_||\n",
    "|`maketrans`|translation을 하나 만든다.|<font color=green>**str**</font>.`maketrnas`(*str*,*str*)|*dict*|*type*의 _method_||\n",
    "|`translate`|translation을 적용한다.|*str*.`translate`(name)|*str*|*str*의 _method_||\n",
    "|`split`|공백을 기준으로 문자열을 분리하여 리스트를 만든다.|*str*.`split`()|*list*|*str*의 _method_|공백->특정문자열|\n",
    "|`join`|구분자 문자열과 문자열 리스트의 요소들을 연결하여 문자열로 만든다.|*str*.`join`(*list*)|*str*|*str*의 _method_||\n",
    "|`upper`|모든 소문자를 대문자로 바군다.|*str*.`upper`()|*str*|*str*의 _method_||\n",
    "|`lower`|모든 대문자를 소문자로 바꾼다.|*str*.`lower`()|*str*|*str*의 _method_||\n",
    "|`lstrip`|왼쪽 공백을 삭제한다.|*str*.ll`lstrip`()|*str*|*str*의 _method_|공백->특정문자열|\n",
    "|`rstrip`|오른쪽 공백을 삭제한다.|*str*.`rstrip`()|*str*|*str*의 _method_|공백->특정문자열|\n",
    "|`strip`|모든 공백을 삭제한다.|*str*.l`strip`()|*str*|*str*의 _method_|공백->특정문자열|\n",
    "|`ljust`|주어진 문자열을 왼쪽 정렬하고 나머지는 공백으로 채운다.|*str*.`ljust`(*int*) |*str*|*str*의 _method_||\n",
    "|`rjust`|주어진 문자열을 오른쪽 정렬하고 나머지는 공백으로 채운다.|*str*.`rjust`(*int*) |*str*|*str*의 _method_||\n",
    "|`center`|주어진 문자열을 가운데 정렬하고 나머지는 공백으로 채운다.|*str*.`center`(*int*) |*str*|*str*의 _method_||\n",
    "|`zfill`|주어진 문자열을 왼쪽 정렬하고 나머지는 공백으로 채운다.|*str*.`zfill`(*int*) |*str*|*str*의 _method_||\n",
    "|`find`(*str*), `index`(*str*)|해당 문자열 안에 특정 문자열의 위치를 (왼쪽부터) 찾는다.|*str*.`find`(*str*)|*int*|*str*의 _method_||\n",
    "|`rfind`(*str*), `rindex`(*str*)|해당 문자열 안에 특정 문자열의 위치를 (오른쪽부터) 찾는다.|*str*.`rfind`(*str*)|*int*|*str*의 _method_||\n",
    "|`count`(*str*)|해당 문자열 안에 특정 문자열의 개수를 센다.|*str*.`count`(*str*)|*int*|*str*의 _method_||"
   ]
  },
  {
   "cell_type": "markdown",
   "id": "fc0ff87d",
   "metadata": {},
   "source": [
    "### 24.1.1 문자열 바꾸기"
   ]
  },
  {
   "cell_type": "markdown",
   "id": "de1c8ec0",
   "metadata": {},
   "source": [
    "`replace` : 문자열을 바꾼다."
   ]
  },
  {
   "cell_type": "code",
   "execution_count": 1,
   "id": "379ff1f5",
   "metadata": {},
   "outputs": [
    {
     "data": {
      "text/plain": [
       "'Hello, python!'"
      ]
     },
     "execution_count": 1,
     "metadata": {},
     "output_type": "execute_result"
    }
   ],
   "source": [
    "'Hello, world!'.replace('world','python')"
   ]
  },
  {
   "cell_type": "code",
   "execution_count": 21,
   "id": "3bd2a321",
   "metadata": {},
   "outputs": [
    {
     "name": "stdout",
     "output_type": "stream",
     "text": [
      "Hello world!\n"
     ]
    }
   ],
   "source": [
    "s = 'Hello world!'\n",
    "s.replace('world','python')\n",
    "print(s)"
   ]
  },
  {
   "cell_type": "code",
   "execution_count": 26,
   "id": "05f1db1c",
   "metadata": {},
   "outputs": [
    {
     "name": "stdout",
     "output_type": "stream",
     "text": [
      "<method 'replace' of 'str' objects>\n",
      "<class 'method_descriptor'>\n"
     ]
    }
   ],
   "source": [
    "print(str.replace)\n",
    "print(type(str.replace))"
   ]
  },
  {
   "cell_type": "markdown",
   "id": "157ab92c",
   "metadata": {},
   "source": [
    "### 24.1.2. 문자 바꾸기"
   ]
  },
  {
   "cell_type": "markdown",
   "id": "7e7e0d46",
   "metadata": {},
   "source": [
    "- `maketrans` : translation을 하나 만든다.\n",
    "- `translate` : translation을 적용한다."
   ]
  },
  {
   "cell_type": "code",
   "execution_count": 20,
   "id": "89558c4b",
   "metadata": {},
   "outputs": [
    {
     "data": {
      "text/plain": [
       "'1ppl2'"
      ]
     },
     "execution_count": 20,
     "metadata": {},
     "output_type": "execute_result"
    }
   ],
   "source": [
    "table = str.maketrans('aeiou','12345')\n",
    "'apple'.translate(table)"
   ]
  },
  {
   "cell_type": "code",
   "execution_count": 15,
   "id": "c4bf8c8c",
   "metadata": {},
   "outputs": [
    {
     "name": "stdout",
     "output_type": "stream",
     "text": [
      "{97: 49, 101: 50, 105: 51, 111: 52, 117: 53}\n",
      "<class 'dict'>\n"
     ]
    }
   ],
   "source": [
    "print(table)\n",
    "print(type(table))"
   ]
  },
  {
   "cell_type": "markdown",
   "id": "140330cc",
   "metadata": {},
   "source": [
    "<font color=red> 이건 어떤 딕셔너리지? </font>"
   ]
  },
  {
   "cell_type": "code",
   "execution_count": 16,
   "id": "919186b5",
   "metadata": {},
   "outputs": [
    {
     "name": "stdout",
     "output_type": "stream",
     "text": [
      "<class 'str'>\n",
      "<class 'type'>\n"
     ]
    }
   ],
   "source": [
    "print(str)\n",
    "print(type(str))"
   ]
  },
  {
   "cell_type": "code",
   "execution_count": 17,
   "id": "b5edf63a",
   "metadata": {},
   "outputs": [
    {
     "name": "stdout",
     "output_type": "stream",
     "text": [
      "<built-in method maketrans of type object at 0x55bd81591d40>\n",
      "<class 'builtin_function_or_method'>\n"
     ]
    }
   ],
   "source": [
    "print(str.maketrans)\n",
    "print(type(str.maketrans))"
   ]
  },
  {
   "cell_type": "code",
   "execution_count": 18,
   "id": "535bff0c",
   "metadata": {},
   "outputs": [
    {
     "name": "stdout",
     "output_type": "stream",
     "text": [
      "<method 'translate' of 'str' objects>\n",
      "<class 'method_descriptor'>\n"
     ]
    }
   ],
   "source": [
    "print(str.translate)\n",
    "print(type(str.translate))"
   ]
  },
  {
   "cell_type": "code",
   "execution_count": 19,
   "id": "838b6367",
   "metadata": {},
   "outputs": [
    {
     "data": {
      "text/plain": [
       "'1ppl2'"
      ]
     },
     "execution_count": 19,
     "metadata": {},
     "output_type": "execute_result"
    }
   ],
   "source": [
    "# 한줄에 시행해보기\n",
    "'apple'.translate(str.maketrans('aeiou','12345'))"
   ]
  },
  {
   "cell_type": "markdown",
   "id": "448a05a0",
   "metadata": {},
   "source": [
    "### 24.1.3. 문자열 분리하기"
   ]
  },
  {
   "cell_type": "markdown",
   "id": "461db5c0",
   "metadata": {},
   "source": [
    "`split` : 공백을 기준으로 문자열을 분리하여 리스트를 만든다."
   ]
  },
  {
   "cell_type": "code",
   "execution_count": 23,
   "id": "81b9754a",
   "metadata": {},
   "outputs": [
    {
     "data": {
      "text/plain": [
       "['apple', 'pear', 'grape', 'pineapple', 'orange']"
      ]
     },
     "execution_count": 23,
     "metadata": {},
     "output_type": "execute_result"
    }
   ],
   "source": [
    "'apple pear grape pineapple orange'.split()"
   ]
  },
  {
   "cell_type": "code",
   "execution_count": 29,
   "id": "f8f10f78",
   "metadata": {},
   "outputs": [
    {
     "name": "stdout",
     "output_type": "stream",
     "text": [
      "<method 'split' of 'str' objects>\n",
      "<class 'method_descriptor'>\n"
     ]
    }
   ],
   "source": [
    "print(str.split)\n",
    "print(type(str.split))"
   ]
  },
  {
   "cell_type": "markdown",
   "id": "af7cdf27",
   "metadata": {},
   "source": [
    "### 24.1.4. 구분자 문자열과 문자열 리스트 연결하기"
   ]
  },
  {
   "cell_type": "markdown",
   "id": "fefe5888",
   "metadata": {},
   "source": [
    "`join` : 구분자 문자열과 문자열 리스트의 요소들을 연결하여 문자열로 만든다."
   ]
  },
  {
   "cell_type": "code",
   "execution_count": 30,
   "id": "4dd16781",
   "metadata": {},
   "outputs": [
    {
     "data": {
      "text/plain": [
       "'apple pear grape'"
      ]
     },
     "execution_count": 30,
     "metadata": {},
     "output_type": "execute_result"
    }
   ],
   "source": [
    "' '.join(['apple', 'pear', 'grape'])"
   ]
  },
  {
   "cell_type": "code",
   "execution_count": 31,
   "id": "4d9f763d",
   "metadata": {},
   "outputs": [
    {
     "data": {
      "text/plain": [
       "'apple1pear1grape'"
      ]
     },
     "execution_count": 31,
     "metadata": {},
     "output_type": "execute_result"
    }
   ],
   "source": [
    "'1'.join(['apple', 'pear', 'grape'])"
   ]
  },
  {
   "cell_type": "code",
   "execution_count": 39,
   "id": "6195a7b2",
   "metadata": {},
   "outputs": [
    {
     "name": "stdout",
     "output_type": "stream",
     "text": [
      "<method 'join' of 'str' objects> <class 'method_descriptor'>\n"
     ]
    }
   ],
   "source": [
    "print(str.join,type(str.join))"
   ]
  },
  {
   "cell_type": "markdown",
   "id": "030eaa16",
   "metadata": {},
   "source": [
    "### 24.1.5. 소문자를 대문자로 바꾸기\n",
    "### 24.1.6. 대문자를 소문자로 바꾸기"
   ]
  },
  {
   "cell_type": "code",
   "execution_count": 36,
   "id": "410c537b",
   "metadata": {},
   "outputs": [
    {
     "data": {
      "text/plain": [
       "'PYTHON'"
      ]
     },
     "execution_count": 36,
     "metadata": {},
     "output_type": "execute_result"
    }
   ],
   "source": [
    "'Python'.upper()"
   ]
  },
  {
   "cell_type": "code",
   "execution_count": 37,
   "id": "3acb4286",
   "metadata": {},
   "outputs": [
    {
     "data": {
      "text/plain": [
       "'python'"
      ]
     },
     "execution_count": 37,
     "metadata": {},
     "output_type": "execute_result"
    }
   ],
   "source": [
    "'Python'.lower()"
   ]
  },
  {
   "cell_type": "code",
   "execution_count": 38,
   "id": "90b98b53",
   "metadata": {},
   "outputs": [
    {
     "name": "stdout",
     "output_type": "stream",
     "text": [
      "<method 'upper' of 'str' objects> <class 'method_descriptor'>\n",
      "<method 'lower' of 'str' objects> <class 'method_descriptor'>\n"
     ]
    }
   ],
   "source": [
    "print(str.upper,type(str.upper))\n",
    "print(str.lower,type(str.lower))"
   ]
  },
  {
   "cell_type": "markdown",
   "id": "fc623318",
   "metadata": {},
   "source": [
    "### 24.1.7. 왼쪽 공백 삭제하기\n",
    "### 24.1.8. 오른쪽 공백 삭제하기\n",
    "### 24.1.9. 양쪽 공백 삭제하기\n",
    "### 24.1.10. 왼쪽의 특정 문자 삭제하기\n",
    "### 24.1.11. 오른쪽의 특정 문자 삭제하기\n",
    "### 24.1.12. 양쪽의 특정 문자 삭제하기"
   ]
  },
  {
   "cell_type": "markdown",
   "id": "071f3083",
   "metadata": {},
   "source": [
    "- `lstrip()` : 왼쪽 공백 삭제\n",
    "- `rstrip()` : 오른족 공백 삭제\n",
    "- `strip()` : 양쪽 공백 삭제\n",
    "- `lstrip(str)` : 왼쪽 특정문자 삭제\n",
    "- `rstrip(str)` : 오른쪽 특정문자 삭제\n",
    "- `strip(str)` : 양쪽 특정문자 삭제"
   ]
  },
  {
   "cell_type": "code",
   "execution_count": 45,
   "id": "0269cb09",
   "metadata": {},
   "outputs": [
    {
     "data": {
      "text/plain": [
       "'python  '"
      ]
     },
     "execution_count": 45,
     "metadata": {},
     "output_type": "execute_result"
    }
   ],
   "source": [
    "\" python  \".lstrip()"
   ]
  },
  {
   "cell_type": "code",
   "execution_count": 41,
   "id": "558d0491",
   "metadata": {},
   "outputs": [
    {
     "data": {
      "text/plain": [
       "' python'"
      ]
     },
     "execution_count": 41,
     "metadata": {},
     "output_type": "execute_result"
    }
   ],
   "source": [
    "\" python  \".rstrip()"
   ]
  },
  {
   "cell_type": "code",
   "execution_count": 42,
   "id": "8b80309c",
   "metadata": {},
   "outputs": [
    {
     "data": {
      "text/plain": [
       "'python'"
      ]
     },
     "execution_count": 42,
     "metadata": {},
     "output_type": "execute_result"
    }
   ],
   "source": [
    "\" python  \".strip()"
   ]
  },
  {
   "cell_type": "code",
   "execution_count": 48,
   "id": "9a474914",
   "metadata": {},
   "outputs": [
    {
     "data": {
      "text/plain": [
       "'python..'"
      ]
     },
     "execution_count": 48,
     "metadata": {},
     "output_type": "execute_result"
    }
   ],
   "source": [
    "\"...python..\".lstrip('.')"
   ]
  },
  {
   "cell_type": "code",
   "execution_count": 49,
   "id": "7879105b",
   "metadata": {},
   "outputs": [
    {
     "data": {
      "text/plain": [
       "'...python'"
      ]
     },
     "execution_count": 49,
     "metadata": {},
     "output_type": "execute_result"
    }
   ],
   "source": [
    "\"...python..\".rstrip('.')"
   ]
  },
  {
   "cell_type": "code",
   "execution_count": 50,
   "id": "525274a7",
   "metadata": {},
   "outputs": [
    {
     "data": {
      "text/plain": [
       "'python'"
      ]
     },
     "execution_count": 50,
     "metadata": {},
     "output_type": "execute_result"
    }
   ],
   "source": [
    "\"...python..\".strip('.')"
   ]
  },
  {
   "cell_type": "code",
   "execution_count": 44,
   "id": "a126d4cd",
   "metadata": {},
   "outputs": [
    {
     "name": "stdout",
     "output_type": "stream",
     "text": [
      "<method 'lstrip' of 'str' objects> <class 'method_descriptor'>\n",
      "<method 'rstrip' of 'str' objects> <class 'method_descriptor'>\n",
      "<method 'strip' of 'str' objects> <class 'method_descriptor'>\n"
     ]
    }
   ],
   "source": [
    "print(str.lstrip,type(str.lstrip))\n",
    "print(str.rstrip,type(str.rstrip))\n",
    "print(str.strip,type(str.strip))"
   ]
  },
  {
   "cell_type": "markdown",
   "id": "61735b31",
   "metadata": {},
   "source": [
    "### 24.1.13. 문자열을 왼쪽 정렬하기\n",
    "### 24.1.14. 문자열을 오른쪽 정렬하기\n",
    "### 24.1.15. 문자열을 가운데 정렬하기"
   ]
  },
  {
   "cell_type": "markdown",
   "id": "6f2d34ed",
   "metadata": {},
   "source": [
    "- `ljust(int)` : 주어진 문자열을 왼쪽 정렬하고 빈공간은 여백으로 처리.\n",
    "- `rjust(int)` : 주어진 문자열을 오른쪽 정렬하고 빈공간은 여백으로 처리.\n",
    "- `center(int)` : 주어진 문자열을 가운데 정렬하고 빈공간은 여백으로 처리."
   ]
  },
  {
   "cell_type": "code",
   "execution_count": 54,
   "id": "2c919d55",
   "metadata": {},
   "outputs": [
    {
     "name": "stdout",
     "output_type": "stream",
     "text": [
      "python    \n",
      "    python\n",
      "  python  \n"
     ]
    }
   ],
   "source": [
    "print('python'.ljust(10))\n",
    "print('python'.rjust(10))\n",
    "print('python'.center(10))"
   ]
  },
  {
   "cell_type": "code",
   "execution_count": 55,
   "id": "ef616af8",
   "metadata": {},
   "outputs": [
    {
     "name": "stdout",
     "output_type": "stream",
     "text": [
      "10\n"
     ]
    }
   ],
   "source": [
    "a = 'python'.ljust(10)\n",
    "print(len(a))"
   ]
  },
  {
   "cell_type": "markdown",
   "id": "64b1bc7b",
   "metadata": {},
   "source": [
    "### 24.1.16. 메서드 체이닝"
   ]
  },
  {
   "cell_type": "markdown",
   "id": "f55ca1af",
   "metadata": {},
   "source": [
    "메서드를 줄줄이 연결한다."
   ]
  },
  {
   "cell_type": "code",
   "execution_count": 56,
   "id": "858c7d8f",
   "metadata": {},
   "outputs": [
    {
     "data": {
      "text/plain": [
       "'    PYTHON'"
      ]
     },
     "execution_count": 56,
     "metadata": {},
     "output_type": "execute_result"
    }
   ],
   "source": [
    "'python'.rjust(10).upper()"
   ]
  },
  {
   "cell_type": "markdown",
   "id": "601f56a1",
   "metadata": {},
   "source": [
    "### 24.1.17. 문자열 왼쪽에 0 채우기"
   ]
  },
  {
   "cell_type": "markdown",
   "id": "7ecc0668",
   "metadata": {},
   "source": [
    "`zfill(n)`: 문자열 왼쪽에 0을 채워 lenth n인 문자열을 만든다."
   ]
  },
  {
   "cell_type": "code",
   "execution_count": 59,
   "id": "0df42df1",
   "metadata": {},
   "outputs": [
    {
     "name": "stdout",
     "output_type": "stream",
     "text": [
      "0035\n",
      "03.5\n",
      "hello\n",
      "0000000035\n",
      "00000003.5\n",
      "00000hello\n"
     ]
    }
   ],
   "source": [
    "print('35'.zfill(4))\n",
    "print('3.5'.zfill(4))\n",
    "print('hello'.zfill(4))\n",
    "print('35'.zfill(10))\n",
    "print('3.5'.zfill(10))\n",
    "print('hello'.zfill(10))"
   ]
  },
  {
   "cell_type": "markdown",
   "id": "8a84bc81",
   "metadata": {},
   "source": [
    "### 24.1.18. (왼쪽에서부터) 문자열 위치 찾기"
   ]
  },
  {
   "cell_type": "markdown",
   "id": "cb6c472b",
   "metadata": {},
   "source": [
    "### 24.1.19. 오른쪽에서부터 문자열 위치 찾기"
   ]
  },
  {
   "cell_type": "markdown",
   "id": "046fd9d2",
   "metadata": {},
   "source": [
    "### 24.1.20. 왼쪽에서부터 문자열 위치 찾기"
   ]
  },
  {
   "cell_type": "markdown",
   "id": "c0c48d7d",
   "metadata": {},
   "source": [
    "### 24.1.21. 오른쪽에서부터 문자열 위치 찾기"
   ]
  },
  {
   "cell_type": "markdown",
   "id": "751e3f14",
   "metadata": {},
   "source": [
    "- `find(str)`, `index(str)` : 해당 문자열 안에 특정 문자열의 위치를 (왼쪽부터) 찾는다.\n",
    "- `rfind(str)`, `rindex(str)` : 해당 문자열 안에 특정 문자열의 위치를 (오른쪽부터) 찾는다."
   ]
  },
  {
   "cell_type": "code",
   "execution_count": 87,
   "id": "6a0f8e96",
   "metadata": {},
   "outputs": [
    {
     "name": "stdout",
     "output_type": "stream",
     "text": [
      "0\n",
      "3\n",
      "0\n",
      "3\n"
     ]
    }
   ],
   "source": [
    "print('calculus'.find('c'))\n",
    "print('calculus'.rfind('c'))\n",
    "print('calculus'.index('c'))\n",
    "print('calculus'.rindex('c'))"
   ]
  },
  {
   "cell_type": "markdown",
   "id": "5fc6c4b6",
   "metadata": {},
   "source": [
    "|character|<font color=red>c</font>|a|l|<font color=red>c</font>|u|l|u|s|\n",
    "|:-:|-|-|-|-|-|-|-|-|\n",
    "|index|<font color=red>0</font>|1|2|<font color=red>3</font>|4|5|6|7|"
   ]
  },
  {
   "cell_type": "markdown",
   "id": "512b6ba7",
   "metadata": {},
   "source": [
    "### 24.1.22. 문자열 개수 세기"
   ]
  },
  {
   "cell_type": "code",
   "execution_count": 90,
   "id": "f65cd437",
   "metadata": {},
   "outputs": [
    {
     "name": "stdout",
     "output_type": "stream",
     "text": [
      "2\n"
     ]
    }
   ],
   "source": [
    "print('calculus'.count('c'))"
   ]
  },
  {
   "cell_type": "code",
   "execution_count": 91,
   "id": "45afaef8",
   "metadata": {},
   "outputs": [
    {
     "name": "stdout",
     "output_type": "stream",
     "text": [
      "8\n",
      "2\n",
      "<method 'count' of 'str' objects>\n",
      "<built-in function len>\n"
     ]
    }
   ],
   "source": [
    "C = 'calculus'\n",
    "print(len(C))\n",
    "print(C.count('c'))\n",
    "print(str.count)\n",
    "print(len)"
   ]
  },
  {
   "cell_type": "markdown",
   "id": "2b27bb15",
   "metadata": {},
   "source": [
    "## 24.2. 문자열 서식 지정자와 포매팅 사용하기"
   ]
  },
  {
   "cell_type": "markdown",
   "id": "54235943",
   "metadata": {},
   "source": [
    " - 서식 지정자 : format specifier\n",
    "  - `str` %x `str` %y\n",
    "    - y : `str`,`int`, `float`\n",
    "    - %x : %s, %d, %f\n",
    "    - %x에 y를 대입해서 출력한다.\n",
    "  - `str` %.nf`str` % y\n",
    "    - y : `int`, `float`\n",
    "    - 숫자 y를 소수 n째짜리까지 출력한다.\n",
    "  - `str` %ns`str` % y\n",
    "    - %ns에 y를 대입하되, 오른쪽정렬하고 n개의 문자열로 출력한다.\n",
    "    - y : `str`\n",
    " - format 매서드 : string formatting\n",
    "  - `str`,{},`str`,{}.format{x,y}\n",
    "    - 두 중괄호 대신 각각 x와 y를 대입하여라.\n",
    "    - 중괄호 안에 정수를 넣어 순서를 특정해 넣거나 중복해서 넣을 수 있다.\n",
    "    - 중괄호 안에 변수를 넣을 수 있다.\n",
    "  - f'`str` {variable}'\n",
    "    - {variable}에 이미 지정한 변수를 대입해 출력한다.\n",
    "    - 여러 개의 변수를 넣을 수 있다.\n",
    "  - '{0:x<n}'.format(`str`)\n",
    "    - `str`을 왼쪽 정렬(<)하고 n개의 문자열로 출력하며 x를 padding한다.\n",
    "    - 0은 생략되어도 좋다.\n",
    "    - x도 생략되어도 좋다. 생략된다면, 여백이 padding된다.\n",
    " - 기타 응용\n",
    "    - `'%03d' % 35`, `'{0:03d}'.format(35)`\n",
    "      - 출력 : 035\n",
    "      - 앞에 0을 padding하되 3개의 문자열을 출력한다.\n",
    "    - `'%08.2f' % 3.6`,`'{0:08.2f}'.format(3.6)`\n",
    "      - 출력 : 00003.60\n",
    "      - 앞에 0을 padding하되 소수점 두자리까지 표현하고, 8개의 문자열을 출력한다."
   ]
  },
  {
   "cell_type": "markdown",
   "id": "be001a3b",
   "metadata": {},
   "source": [
    "### 24.2.1. 서식 지정자로 문자열 넣기"
   ]
  },
  {
   "cell_type": "code",
   "execution_count": 92,
   "id": "0255247b",
   "metadata": {},
   "outputs": [
    {
     "data": {
      "text/plain": [
       "'I am james.'"
      ]
     },
     "execution_count": 92,
     "metadata": {},
     "output_type": "execute_result"
    }
   ],
   "source": [
    "'I am %s.' % 'james'"
   ]
  },
  {
   "cell_type": "markdown",
   "id": "37d3127f",
   "metadata": {},
   "source": [
    " - **literally** : 'I am %s.'라는 문자열을 출력하되, %s라고 표시된 곳에는 % 이하의 부분, 즉 'james'를 넣어라.\n",
    " - `%s`는 `str` 형식을 쓰겠다는 뜻이다."
   ]
  },
  {
   "cell_type": "code",
   "execution_count": 93,
   "id": "f28d174b",
   "metadata": {},
   "outputs": [
    {
     "data": {
      "text/plain": [
       "'I am maria'"
      ]
     },
     "execution_count": 93,
     "metadata": {},
     "output_type": "execute_result"
    }
   ],
   "source": [
    "name = 'maria'\n",
    "'I am %s' % name"
   ]
  },
  {
   "cell_type": "markdown",
   "id": "0c671f3b",
   "metadata": {},
   "source": [
    "### 24.2.2. 서식 지정자로 숫자 넣기"
   ]
  },
  {
   "cell_type": "code",
   "execution_count": 94,
   "id": "889a3ad7",
   "metadata": {},
   "outputs": [
    {
     "data": {
      "text/plain": [
       "'I am 20 years old.'"
      ]
     },
     "execution_count": 94,
     "metadata": {},
     "output_type": "execute_result"
    }
   ],
   "source": [
    "'I am %d years old.' % 20"
   ]
  },
  {
   "cell_type": "markdown",
   "id": "c7d198cf",
   "metadata": {},
   "source": [
    " - **literally** : 'I am %d years old.'라는 문자열을 출력하되, %d라고 표시된 곳에는 % 이하의 부분, 즉 20를 넣어라.\n",
    " - decimal integer : <font color=red> 소수점을 버리고 integer를 만든다는 뜻인가? </font>\n",
    " - `%` 이하 부분은 `int`와 `float`이 들어갈 수 있는 것 같다."
   ]
  },
  {
   "cell_type": "code",
   "execution_count": 95,
   "id": "6bb1a08c",
   "metadata": {},
   "outputs": [
    {
     "data": {
      "text/plain": [
       "'I am 20 years old.'"
      ]
     },
     "execution_count": 95,
     "metadata": {},
     "output_type": "execute_result"
    }
   ],
   "source": [
    "'I am %d years old.' % 20.2"
   ]
  },
  {
   "cell_type": "code",
   "execution_count": 96,
   "id": "150bdec7",
   "metadata": {},
   "outputs": [
    {
     "ename": "TypeError",
     "evalue": "%d format: a number is required, not str",
     "output_type": "error",
     "traceback": [
      "\u001b[0;31m---------------------------------------------------------------------------\u001b[0m",
      "\u001b[0;31mTypeError\u001b[0m                                 Traceback (most recent call last)",
      "\u001b[0;32m/tmp/ipykernel_188/4108163080.py\u001b[0m in \u001b[0;36m<module>\u001b[0;34m\u001b[0m\n\u001b[0;32m----> 1\u001b[0;31m \u001b[0;34m'I am %d years old.'\u001b[0m \u001b[0;34m%\u001b[0m \u001b[0;34m'20'\u001b[0m\u001b[0;34m\u001b[0m\u001b[0;34m\u001b[0m\u001b[0m\n\u001b[0m",
      "\u001b[0;31mTypeError\u001b[0m: %d format: a number is required, not str"
     ]
    }
   ],
   "source": [
    "'I am %d years old.' % '20'"
   ]
  },
  {
   "cell_type": "markdown",
   "id": "6fad6671",
   "metadata": {},
   "source": [
    "### 24.2.3. 서식 지정자로 소수점 표현하기"
   ]
  },
  {
   "cell_type": "code",
   "execution_count": 100,
   "id": "1c782618",
   "metadata": {},
   "outputs": [
    {
     "data": {
      "text/plain": [
       "'2.300000'"
      ]
     },
     "execution_count": 100,
     "metadata": {},
     "output_type": "execute_result"
    }
   ],
   "source": [
    "'%f' % 2.3"
   ]
  },
  {
   "cell_type": "markdown",
   "id": "ff778bcd",
   "metadata": {},
   "source": [
    " - **literally** : '%f'를 출력하여라.\n",
    "  - 단 `%f`라고 표시된 곳에는 `%` 이하의 부분, 즉 2.3를 넣어라.\n",
    "  - 소수점 이하 6자리까지 표시하는 것이 default이다.\n",
    " - floating point\n",
    " - `%` 이하 부분은 `int`와 `float`이 들어갈 수 있는 것 같다."
   ]
  },
  {
   "cell_type": "code",
   "execution_count": 98,
   "id": "67a07177",
   "metadata": {},
   "outputs": [
    {
     "data": {
      "text/plain": [
       "'2.000000'"
      ]
     },
     "execution_count": 98,
     "metadata": {},
     "output_type": "execute_result"
    }
   ],
   "source": [
    "'%f' % 2"
   ]
  },
  {
   "cell_type": "code",
   "execution_count": 99,
   "id": "39b23e33",
   "metadata": {
    "scrolled": true
   },
   "outputs": [
    {
     "ename": "TypeError",
     "evalue": "must be real number, not str",
     "output_type": "error",
     "traceback": [
      "\u001b[0;31m---------------------------------------------------------------------------\u001b[0m",
      "\u001b[0;31mTypeError\u001b[0m                                 Traceback (most recent call last)",
      "\u001b[0;32m/tmp/ipykernel_188/1450848268.py\u001b[0m in \u001b[0;36m<module>\u001b[0;34m\u001b[0m\n\u001b[0;32m----> 1\u001b[0;31m \u001b[0;34m'%f'\u001b[0m \u001b[0;34m%\u001b[0m \u001b[0;34m'2'\u001b[0m\u001b[0;34m\u001b[0m\u001b[0;34m\u001b[0m\u001b[0m\n\u001b[0m",
      "\u001b[0;31mTypeError\u001b[0m: must be real number, not str"
     ]
    }
   ],
   "source": [
    "'%f' % '2'"
   ]
  },
  {
   "cell_type": "code",
   "execution_count": 101,
   "id": "966db8c5",
   "metadata": {},
   "outputs": [
    {
     "data": {
      "text/plain": [
       "'2.30'"
      ]
     },
     "execution_count": 101,
     "metadata": {},
     "output_type": "execute_result"
    }
   ],
   "source": [
    "'%.2f' % 2.3"
   ]
  },
  {
   "cell_type": "code",
   "execution_count": null,
   "id": "894c9209",
   "metadata": {},
   "outputs": [],
   "source": [
    "'%.2f' % 2.3"
   ]
  },
  {
   "cell_type": "markdown",
   "id": "9b970bfa",
   "metadata": {},
   "source": [
    "소수점 이하 2자리까지 출력하여라."
   ]
  },
  {
   "cell_type": "markdown",
   "id": "57d7e50a",
   "metadata": {},
   "source": [
    "### 24.2.4. 서식 지정자로 문자열 정렬하기"
   ]
  },
  {
   "cell_type": "code",
   "execution_count": 104,
   "id": "b986c895",
   "metadata": {},
   "outputs": [
    {
     "name": "stdout",
     "output_type": "stream",
     "text": [
      "    python\n",
      "    python\n"
     ]
    }
   ],
   "source": [
    "print('%10s' % 'python')\n",
    "print('python'.rjust(10))"
   ]
  },
  {
   "cell_type": "markdown",
   "id": "bd63a028",
   "metadata": {},
   "source": [
    "### 24.2.5. 서식 지정자로 문자열 안에 여러 개 넣기"
   ]
  },
  {
   "cell_type": "code",
   "execution_count": 105,
   "id": "3d98d516",
   "metadata": {},
   "outputs": [
    {
     "data": {
      "text/plain": [
       "'Today is 3 April.'"
      ]
     },
     "execution_count": 105,
     "metadata": {},
     "output_type": "execute_result"
    }
   ],
   "source": [
    "'Today is %d %s.' % (3, 'April')"
   ]
  },
  {
   "cell_type": "markdown",
   "id": "33480d92",
   "metadata": {},
   "source": [
    "### 24.2.6. format 매서드 사용하기"
   ]
  },
  {
   "cell_type": "code",
   "execution_count": 106,
   "id": "3c61b22e",
   "metadata": {},
   "outputs": [
    {
     "data": {
      "text/plain": [
       "'Hello, world!'"
      ]
     },
     "execution_count": 106,
     "metadata": {},
     "output_type": "execute_result"
    }
   ],
   "source": [
    "'Hello, {0}'.format('world!')"
   ]
  },
  {
   "cell_type": "code",
   "execution_count": 108,
   "id": "afb2723b",
   "metadata": {},
   "outputs": [
    {
     "data": {
      "text/plain": [
       "'Hello, 100'"
      ]
     },
     "execution_count": 108,
     "metadata": {},
     "output_type": "execute_result"
    }
   ],
   "source": [
    "'Hello, {0}'.format('100')"
   ]
  },
  {
   "cell_type": "code",
   "execution_count": 109,
   "id": "3ef674b3",
   "metadata": {},
   "outputs": [
    {
     "data": {
      "text/plain": [
       "'Hello, 100'"
      ]
     },
     "execution_count": 109,
     "metadata": {},
     "output_type": "execute_result"
    }
   ],
   "source": [
    "'Hello, {0}'.format(100)"
   ]
  },
  {
   "cell_type": "code",
   "execution_count": 107,
   "id": "d777e566",
   "metadata": {},
   "outputs": [
    {
     "data": {
      "text/plain": [
       "'Hello, world!'"
      ]
     },
     "execution_count": 107,
     "metadata": {},
     "output_type": "execute_result"
    }
   ],
   "source": [
    "'Hello, {}'.format('world!')"
   ]
  },
  {
   "cell_type": "markdown",
   "id": "5d86125f",
   "metadata": {},
   "source": [
    "### 24.2.7. format 매서드로 값을 여러 개 넣기"
   ]
  },
  {
   "cell_type": "code",
   "execution_count": 110,
   "id": "4765c4a1",
   "metadata": {},
   "outputs": [
    {
     "data": {
      "text/plain": [
       "'Hello, Python 3.6 Script'"
      ]
     },
     "execution_count": 110,
     "metadata": {},
     "output_type": "execute_result"
    }
   ],
   "source": [
    "'Hello, {0} {2} {1}'.format('Python', 'Script', 3.6)"
   ]
  },
  {
   "cell_type": "code",
   "execution_count": 112,
   "id": "52fc7877",
   "metadata": {},
   "outputs": [
    {
     "data": {
      "text/plain": [
       "'Hello, Python Script 3.6'"
      ]
     },
     "execution_count": 112,
     "metadata": {},
     "output_type": "execute_result"
    }
   ],
   "source": [
    "'Hello, {} {} {}'.format('Python', 'Script', 3.6)"
   ]
  },
  {
   "cell_type": "markdown",
   "id": "b181a03c",
   "metadata": {},
   "source": [
    "### 24.2.8. format 매서드로 같은 값을 여러 개 넣기"
   ]
  },
  {
   "cell_type": "code",
   "execution_count": 113,
   "id": "fe311141",
   "metadata": {},
   "outputs": [
    {
     "data": {
      "text/plain": [
       "'Python Python Script Script'"
      ]
     },
     "execution_count": 113,
     "metadata": {},
     "output_type": "execute_result"
    }
   ],
   "source": [
    "'{0} {0} {1} {1}'.format('Python', 'Script')"
   ]
  },
  {
   "cell_type": "markdown",
   "id": "5612d0bc",
   "metadata": {},
   "source": [
    "### 24.2.9. format 매서드에서 인덱스 생략하기"
   ]
  },
  {
   "cell_type": "code",
   "execution_count": 114,
   "id": "6fe2747c",
   "metadata": {},
   "outputs": [
    {
     "data": {
      "text/plain": [
       "'Hello, Python Script 3.6'"
      ]
     },
     "execution_count": 114,
     "metadata": {},
     "output_type": "execute_result"
    }
   ],
   "source": [
    "'Hello, {} {} {}'.format('Python', 'Script', 3.6)"
   ]
  },
  {
   "cell_type": "markdown",
   "id": "f2868824",
   "metadata": {},
   "source": [
    "### 24.2.10. format 매서드에서 인덱스 대신 이름 지정하기"
   ]
  },
  {
   "cell_type": "code",
   "execution_count": 115,
   "id": "33bb172e",
   "metadata": {},
   "outputs": [
    {
     "data": {
      "text/plain": [
       "'Hello, Python 3.6'"
      ]
     },
     "execution_count": 115,
     "metadata": {},
     "output_type": "execute_result"
    }
   ],
   "source": [
    "'Hello, {language} {version}'.format(language='Python', version=3.6)"
   ]
  },
  {
   "cell_type": "markdown",
   "id": "2ca06743",
   "metadata": {},
   "source": [
    "### 24.2.11. 문자열 포매팅에 변수 그대로 사용하기"
   ]
  },
  {
   "cell_type": "code",
   "execution_count": 118,
   "id": "06eb12f1",
   "metadata": {},
   "outputs": [
    {
     "name": "stdout",
     "output_type": "stream",
     "text": [
      "Hello, Python 3.6\n",
      "Hello, Python 3.6\n"
     ]
    }
   ],
   "source": [
    "language = 'Python'\n",
    "version = 3.6\n",
    "print(f'Hello, {language} {version}')\n",
    "print('Hello, Python 3.6')"
   ]
  },
  {
   "cell_type": "markdown",
   "id": "d2cf41fc",
   "metadata": {},
   "source": [
    "### 24.2.12. format 매서드로 문자열 정렬하기\n",
    "### 24.2.14. 채우기와 정렬을 조합해서 사용하기"
   ]
  },
  {
   "cell_type": "markdown",
   "id": "da9dbd7c",
   "metadata": {},
   "source": [
    "두 subsubsection이 서로 연관되어 있으므로 12와 14를 붙였다. 13은 밑에 적었다."
   ]
  },
  {
   "cell_type": "code",
   "execution_count": 158,
   "id": "6d06e82d",
   "metadata": {},
   "outputs": [
    {
     "name": "stdout",
     "output_type": "stream",
     "text": [
      "python    \n",
      "    python\n",
      "python    \n",
      "    python\n",
      "python    \n",
      "    python\n",
      "python0000\n",
      "0000python\n",
      "python0000\n",
      "0000python\n"
     ]
    }
   ],
   "source": [
    "print('{0:<10}'.format('python'))\n",
    "print('{0:>10}'.format('python'))\n",
    "print('{:<10}'.format('python'))\n",
    "print('{:>10}'.format('python'))\n",
    "print('python'.ljust(10))\n",
    "print('python'.rjust(10))\n",
    "print('{0:0<10}'.format('python'))\n",
    "print('{0:0>10}'.format('python'))\n",
    "print('{:0<10}'.format('python'))\n",
    "print('{:0>10}'.format('python'))"
   ]
  },
  {
   "cell_type": "code",
   "execution_count": null,
   "id": "4b07fb24",
   "metadata": {},
   "outputs": [],
   "source": [
    "print('{0:<10}'.format('python'),'1')\n",
    "print('python'.ljust(10),'1')"
   ]
  },
  {
   "cell_type": "markdown",
   "id": "d113a7f5",
   "metadata": {},
   "source": [
    "### 24.2.13. 숫자 개수 맞추기"
   ]
  },
  {
   "cell_type": "code",
   "execution_count": 139,
   "id": "9781fda3",
   "metadata": {},
   "outputs": [
    {
     "name": "stdout",
     "output_type": "stream",
     "text": [
      "001\n",
      "035\n",
      "001\n",
      "035\n"
     ]
    }
   ],
   "source": [
    "print('%03d' % 1)\n",
    "print('%03d' % 35)\n",
    "print('{0:03d}'.format(1))\n",
    "print('{0:03d}'.format(35))"
   ]
  },
  {
   "cell_type": "code",
   "execution_count": 144,
   "id": "498bf4fb",
   "metadata": {},
   "outputs": [
    {
     "name": "stdout",
     "output_type": "stream",
     "text": [
      "00003.60\n",
      "00150.37\n",
      "00003.60\n",
      "00150.37\n"
     ]
    }
   ],
   "source": [
    "print('%08.2f' % 3.6)\n",
    "print('%08.2f' % 150.37)\n",
    "print('{0:08.2f}'.format(3.6))\n",
    "print('{0:08.2f}'.format(150.37))"
   ]
  },
  {
   "cell_type": "markdown",
   "id": "18c3fe14",
   "metadata": {},
   "source": [
    "## 24.3. 퀴즈"
   ]
  },
  {
   "cell_type": "markdown",
   "id": "3f5774d4",
   "metadata": {},
   "source": [
    "2번 문제"
   ]
  },
  {
   "cell_type": "code",
   "execution_count": 159,
   "id": "b88773de",
   "metadata": {},
   "outputs": [
    {
     "name": "stdout",
     "output_type": "stream",
     "text": [
      "pythON    \n"
     ]
    }
   ],
   "source": [
    "print('Python'.lower().replace('on', 'ON').ljust(10))"
   ]
  },
  {
   "cell_type": "markdown",
   "id": "2553b2ab",
   "metadata": {},
   "source": [
    "3번 문제"
   ]
  },
  {
   "cell_type": "code",
   "execution_count": 160,
   "id": "5e6ef44b",
   "metadata": {},
   "outputs": [
    {
     "data": {
      "text/plain": [
       "'Hello, Python 3.6'"
      ]
     },
     "execution_count": 160,
     "metadata": {},
     "output_type": "execute_result"
    }
   ],
   "source": [
    "'{hello}, {language} 3.6'.format(hello='Hello', language='Python')"
   ]
  },
  {
   "cell_type": "code",
   "execution_count": 161,
   "id": "9892682c",
   "metadata": {},
   "outputs": [
    {
     "data": {
      "text/plain": [
       "'Hello,Python3.6'"
      ]
     },
     "execution_count": 161,
     "metadata": {},
     "output_type": "execute_result"
    }
   ],
   "source": [
    "'%s%s%s' % ('Hello,', 'Python', '3.6')"
   ]
  },
  {
   "cell_type": "markdown",
   "id": "dcb439b1",
   "metadata": {},
   "source": [
    "4번 문제"
   ]
  },
  {
   "cell_type": "code",
   "execution_count": 168,
   "id": "c1ae5b63",
   "metadata": {},
   "outputs": [
    {
     "name": "stdout",
     "output_type": "stream",
     "text": [
      "   1675.3000\n",
      "   1675.3000\n",
      "   1675.3000\n",
      "0001675.3000\n"
     ]
    }
   ],
   "source": [
    "print('{0:>12.4f}'.format(1675.3)) # basic\n",
    "#print('{ :>12.4f}'.format(1675.3))\n",
    "print('{:>12.4f}'.format(1675.3)) #c\n",
    "print('{: >12.4f}'.format(1675.3)) #d\n",
    "print('{:0>12.4f}'.format(1675.3)) #e"
   ]
  },
  {
   "cell_type": "markdown",
   "id": "c609a80c",
   "metadata": {},
   "source": [
    "## 24.4. 연습문제"
   ]
  },
  {
   "cell_type": "code",
   "execution_count": 172,
   "id": "b743f6e8",
   "metadata": {},
   "outputs": [
    {
     "name": "stdout",
     "output_type": "stream",
     "text": [
      "python.exe\n"
     ]
    }
   ],
   "source": [
    "path = 'C:\\\\Users\\\\dojang\\\\AppData\\\\Local\\\\Programs\\\\Python\\\\Python36-32\\\\python.exe'\n",
    "x = path.split('\\\\')\n",
    "filename = x[-1]\n",
    "print(filename)"
   ]
  },
  {
   "cell_type": "code",
   "execution_count": 173,
   "id": "be4070d8",
   "metadata": {},
   "outputs": [
    {
     "name": "stdout",
     "output_type": "stream",
     "text": [
      "python.exe\n"
     ]
    }
   ],
   "source": [
    "path = 'C:\\\\Users\\\\dojang\\\\AppData\\\\Local\\\\Programs\\\\Python\\\\Python36-32\\\\python.exe'\n",
    "x = path.split('\\\\')\n",
    "x.reverse()\n",
    "filename = x[0]\n",
    "print(filename)"
   ]
  },
  {
   "cell_type": "code",
   "execution_count": 177,
   "id": "3004a0f5",
   "metadata": {},
   "outputs": [
    {
     "name": "stdout",
     "output_type": "stream",
     "text": [
      "python.exe\n"
     ]
    }
   ],
   "source": [
    "path = 'C:\\\\Users\\\\dojang\\\\AppData\\\\Local\\\\Programs\\\\Python\\\\Python36-32\\\\python.exe'\n",
    "filename = path[path.rfind('\\\\') + 1:] # 이건 자세히 보지 않았다.\n",
    "print(filename)"
   ]
  },
  {
   "cell_type": "markdown",
   "id": "98e79238",
   "metadata": {},
   "source": [
    "## 24.5. 심사문제"
   ]
  },
  {
   "cell_type": "code",
   "execution_count": 238,
   "id": "cc922356",
   "metadata": {},
   "outputs": [
    {
     "name": "stdout",
     "output_type": "stream",
     "text": [
      "the grown-ups' response, this time, was to advise me to lay aside my drawings of boa constrictors, whether from the inside or the outside, and devote myself instead to geography, history, arithmetic, and grammar. That is why, at the, age of six, I gave up what might have been a magnificent career as a painter. I had been disheartened by the failure of my Drawing Number One and my Drawing Number Two. Grown-ups never understand anything by themselves, and it is tiresome for children to be always and forever explaining things to the.\n",
      "6\n"
     ]
    }
   ],
   "source": [
    "A = input().split()\n",
    "B = []\n",
    "for word in A:\n",
    "    temp = word.strip('.,')\n",
    "    B.append(temp)\n",
    "print(B.count('the'))"
   ]
  },
  {
   "cell_type": "markdown",
   "id": "60ba700f",
   "metadata": {},
   "source": [
    "답 : 6"
   ]
  },
  {
   "cell_type": "markdown",
   "id": "2444386e",
   "metadata": {},
   "source": [
    "the python and the java are the important ones in these communities. So we can breathe. the,"
   ]
  },
  {
   "cell_type": "markdown",
   "id": "a9969440",
   "metadata": {},
   "source": [
    "답 : 3"
   ]
  },
  {
   "cell_type": "markdown",
   "id": "f7d95f84",
   "metadata": {},
   "source": [
    "## 24.6. 심사문제"
   ]
  },
  {
   "cell_type": "markdown",
   "id": "328e848a",
   "metadata": {},
   "source": [
    "51900;83000;158000;367500;250000;59200;128500;1304000"
   ]
  },
  {
   "cell_type": "code",
   "execution_count": 6,
   "id": "40e04268",
   "metadata": {},
   "outputs": [
    {
     "name": "stdout",
     "output_type": "stream",
     "text": [
      "51900;83000;158000;367500;250000;59200;128500;1304000\n",
      "1,304,000\n",
      "  367,500\n",
      "  250,000\n",
      "  158,000\n",
      "  128,500\n",
      "   83,000\n",
      "   59,200\n",
      "   51,900\n"
     ]
    }
   ],
   "source": [
    "A = input()\n",
    "B = A.split(';')\n",
    "C = list(map(int, B))\n",
    "C.sort(reverse=True)\n",
    "for c in C:\n",
    "    d = '{:>9,}'.format(c)\n",
    "    print(d)"
   ]
  },
  {
   "cell_type": "code",
   "execution_count": 4,
   "id": "a6a1245f",
   "metadata": {},
   "outputs": [
    {
     "name": "stdout",
     "output_type": "stream",
     "text": [
      "1,304,000\n",
      "  367,500\n",
      "  250,000\n",
      "  158,000\n",
      "  128,500\n",
      "   83,000\n",
      "   59,200\n",
      "   51,900\n"
     ]
    }
   ],
   "source": [
    "A = '51900;83000;158000;367500;250000;59200;128500;1304000'\n",
    "B = A.split(';')\n",
    "C = list(map(int, B))\n",
    "C.sort(reverse=True)\n",
    "for c in C:\n",
    "    d = '{:>9,}'.format(c)a\n",
    "    print(d)"
   ]
  },
  {
   "cell_type": "markdown",
   "id": "e2a63fe3",
   "metadata": {},
   "source": [
    "# 25. 딕셔너리 응용하기"
   ]
  },
  {
   "cell_type": "markdown",
   "id": "341c3578",
   "metadata": {},
   "source": [
    "딕셔너리는 복잡하기도 복잡하거니와 양이 너무 많다.\n",
    "따라서 따로 내용 정리는 하지 않고, 주어진 코드들을 다 실행해보는 것에만 목표를 두어야겠다."
   ]
  },
  {
   "cell_type": "markdown",
   "id": "6da66248",
   "metadata": {},
   "source": [
    "(다 공부하고 퀴즈도 풀었다.) 그렇긴 하지만 그래도 어떤 dictionary에 어떤 method들이 있는지는 나열해놓으면 좋을 것 같다."
   ]
  },
  {
   "cell_type": "markdown",
   "id": "ada4257e",
   "metadata": {},
   "source": [
    "딕셔너리와과 관련한 여러 매서드들이 있다.\n",
    "한 매서드에도 여러 활용과 문법이 있지만, 대표적인 문법 하나씩만 적겠다.\n",
    " - 아래에서 key라고 적는 것은 그것이 key의 역할을 한다는 뜻이지, key 클래스라는 뜻은 아니다. (그런 클래스는 없다 <font color=red> ?</font>)\n",
    " - 마찬가지로 value라고 적는 것은 그것이 value의 역할을 한다는 뜻이다."
   ]
  },
  {
   "cell_type": "markdown",
   "id": "bf3c29cc",
   "metadata": {},
   "source": [
    "|매서드|설명|문법|반환|분류|비고|\n",
    "|:-:|:-:|:-:|:-:|:-:|:-:|\n",
    "|`setdefault`|키-값 쌍을 추가한다.|*dict*.`setdefault`(key,value)|x|*dict*의 _method_||\n",
    "|`update`|키의 값을 수정한다.|*dict*.`update`(key,value)|x|*dict*의 _method_||\n",
    "|`pop`|키를 삭제한다.|*dict*.`pop`(key)|삭제되는 value|*dict*의 _method_||\n",
    "|`del`|키를 삭제한다.|*dict*.`pop`[key]|x|*dict*의 _method_||\n",
    "|`popitem`|마지막 키-값 쌍을 삭제한다.|*dict*.`popitem`()|삭제되는 (key, value)|*dict*의 _method_||\n",
    "|`clear`|모든 키-값 쌍을 삭제한다.|*dict*.`clear`()|x|*dict*의 _method_||\n",
    "|`get`|키의 값을 가져온다.|*dict*.`get`()|해당되는 value|*dict*의 _method_||\n",
    "|`items`|모든 키-값 쌍을 가져온다.|*dict*.`items`()|x|_dict_items_||\n",
    "|`keys`|모든 키들을 가져온다.|*dict*.`keys`()|x|_dict_keys_||\n",
    "|`values`|모든 값들을 쌍을 가져온다.|*dict*.`values`()|x|_dict_values_||\n",
    "|`copy`|복사한다.|*dict*.`copy`()|x|_module_||\n",
    "|`deepcopy`|깊게복사한다.|*dict*.`copy.deepcopy`()|x|*copy*의 _function_||"
   ]
  },
  {
   "cell_type": "markdown",
   "id": "044b8d82",
   "metadata": {},
   "source": [
    "그래도 얼추 정리는 된 것 같다.\n",
    "하지만 완벽하지는 못하다.\n",
    "반환값 말고도 그 결과값이 무엇인지 명시하면 좋을텐데, 그렇게 하려면 머리가 너무 아프다."
   ]
  },
  {
   "cell_type": "markdown",
   "id": "822ae8e3",
   "metadata": {},
   "source": [
    "## 25.1. 딕셔너리 조작하기"
   ]
  },
  {
   "cell_type": "markdown",
   "id": "835e843c",
   "metadata": {},
   "source": [
    "### 25.1.1. 딕셔너리에 키-값 쌍 추가하기\n",
    " - `setdefault` : 키-값 쌍 추가\n",
    " - `update` : 키의 값 수정, 키가 없으면 키-값 쌍 추가"
   ]
  },
  {
   "cell_type": "markdown",
   "id": "3c9f4a2b",
   "metadata": {},
   "source": [
    "### 25.1.2. 딕셔너리에 키와 기본값 저장하기\n",
    "`setdefault` : 딕셔너리에 키-값 쌍을 추가한다."
   ]
  },
  {
   "cell_type": "code",
   "execution_count": 297,
   "id": "be08cd90",
   "metadata": {},
   "outputs": [
    {
     "name": "stdout",
     "output_type": "stream",
     "text": [
      "{'a': 10, 'b': 20, 'c': 30, 'd': 40}\n"
     ]
    }
   ],
   "source": [
    "x = {'a': 10,'b': 20,'c': 30,'d': 40}\n",
    "print(x)"
   ]
  },
  {
   "cell_type": "code",
   "execution_count": 301,
   "id": "9813878a",
   "metadata": {},
   "outputs": [
    {
     "name": "stdout",
     "output_type": "stream",
     "text": [
      "{'a': 10, 'b': 20, 'c': 30, 'd': 40, 'e': None}\n"
     ]
    }
   ],
   "source": [
    "x = {'a': 10,'b': 20,'c': 30,'d': 40}\n",
    "x.setdefault('e')\n",
    "print(x)"
   ]
  },
  {
   "cell_type": "code",
   "execution_count": 11,
   "id": "81d51589",
   "metadata": {},
   "outputs": [
    {
     "name": "stdout",
     "output_type": "stream",
     "text": [
      "{'a': 10, 'b': 20, 'c': 30, 'd': 40, 'e': None, 'f': 100}\n"
     ]
    }
   ],
   "source": [
    "x.setdefault('f',100)\n",
    "print(x)"
   ]
  },
  {
   "cell_type": "markdown",
   "id": "10565088",
   "metadata": {},
   "source": [
    "### 25.1.3. 딕셔너리에서 키의 값 수정하기\n",
    "`update` : 딕셔너리에서 키의 값을 수정한다."
   ]
  },
  {
   "cell_type": "code",
   "execution_count": 13,
   "id": "f62d215a",
   "metadata": {},
   "outputs": [
    {
     "name": "stdout",
     "output_type": "stream",
     "text": [
      "{'a': 90, 'b': 20, 'c': 30, 'd': 40}\n"
     ]
    }
   ],
   "source": [
    "x = {'a': 10,'b': 20,'c': 30,'d': 40}\n",
    "x.update(a=90)\n",
    "print(x)"
   ]
  },
  {
   "cell_type": "code",
   "execution_count": 14,
   "id": "1f95862f",
   "metadata": {},
   "outputs": [
    {
     "name": "stdout",
     "output_type": "stream",
     "text": [
      "{'a': 90, 'b': 20, 'c': 30, 'd': 40, 'e': 50}\n"
     ]
    }
   ],
   "source": [
    "x.update(e=50)\n",
    "print(x)"
   ]
  },
  {
   "cell_type": "code",
   "execution_count": 15,
   "id": "f1d77e0f",
   "metadata": {},
   "outputs": [
    {
     "name": "stdout",
     "output_type": "stream",
     "text": [
      "{'a': 900, 'b': 20, 'c': 30, 'd': 40, 'e': 50, 'f': 60}\n"
     ]
    }
   ],
   "source": [
    "x.update(a=900,f=60)\n",
    "print(x)"
   ]
  },
  {
   "cell_type": "code",
   "execution_count": 19,
   "id": "63288939",
   "metadata": {},
   "outputs": [
    {
     "name": "stdout",
     "output_type": "stream",
     "text": [
      "{1: 'one', 2: 'two'}\n",
      "{1: 'ONE', 2: 'two', 3: 'THREE'}\n"
     ]
    }
   ],
   "source": [
    "y = {1:\"one\",2:\"two\"}\n",
    "print(y)\n",
    "y.update({1:\"ONE\",3:\"THREE\"})\n",
    "print(y)"
   ]
  },
  {
   "cell_type": "code",
   "execution_count": 302,
   "id": "1cf9d09d",
   "metadata": {},
   "outputs": [
    {
     "name": "stdout",
     "output_type": "stream",
     "text": [
      "{'a': {'python': '3.9'}, 'b': {'python': '3.6'}, 2: 'TWO', 4: 'FOUR'}\n"
     ]
    }
   ],
   "source": [
    "y.update([[2,'TWO'],[4,'FOUR']])\n",
    "print(y)"
   ]
  },
  {
   "cell_type": "markdown",
   "id": "4427233b",
   "metadata": {},
   "source": [
    "### 25.1.4. 딕셔너리에서 키-값 쌍 삭제하기"
   ]
  },
  {
   "cell_type": "code",
   "execution_count": 24,
   "id": "445b726d",
   "metadata": {},
   "outputs": [
    {
     "data": {
      "text/plain": [
       "10"
      ]
     },
     "execution_count": 24,
     "metadata": {},
     "output_type": "execute_result"
    }
   ],
   "source": [
    "x = {'a':10, 'b':20,'c':30,'d':40}\n",
    "x.pop('a')"
   ]
  },
  {
   "cell_type": "code",
   "execution_count": 25,
   "id": "84323278",
   "metadata": {},
   "outputs": [
    {
     "name": "stdout",
     "output_type": "stream",
     "text": [
      "{'b': 20, 'c': 30, 'd': 40}\n"
     ]
    }
   ],
   "source": [
    "print(x)"
   ]
  },
  {
   "cell_type": "code",
   "execution_count": 26,
   "id": "bf03ea50",
   "metadata": {},
   "outputs": [
    {
     "data": {
      "text/plain": [
       "0"
      ]
     },
     "execution_count": 26,
     "metadata": {},
     "output_type": "execute_result"
    }
   ],
   "source": [
    "x.pop('z',0)"
   ]
  },
  {
   "cell_type": "code",
   "execution_count": 28,
   "id": "2edcc848",
   "metadata": {},
   "outputs": [
    {
     "name": "stdout",
     "output_type": "stream",
     "text": [
      "{'b': 20, 'c': 30, 'd': 40}\n"
     ]
    }
   ],
   "source": [
    "x = {'a':10, 'b':20,'c':30,'d':40}\n",
    "del x['a']\n",
    "print(x)"
   ]
  },
  {
   "cell_type": "markdown",
   "id": "e2e9de68",
   "metadata": {},
   "source": [
    "### 25.1.5. 딕셔너리에서 마지막 키-값 쌍 삭제하기"
   ]
  },
  {
   "cell_type": "markdown",
   "id": "5e9d8efe",
   "metadata": {},
   "source": [
    " - Python 3.5 이하에서는 '마지막'이라는 말이 '임의의'라는 말로 바뀌어야 한다.\n",
    " - 하지만, 지금은 Python 3.9를 사용하고 있으므로 '마지막'이 맞을 것이다."
   ]
  },
  {
   "cell_type": "code",
   "execution_count": 305,
   "id": "b31dc2fc",
   "metadata": {},
   "outputs": [
    {
     "data": {
      "text/plain": [
       "('d', 40)"
      ]
     },
     "execution_count": 305,
     "metadata": {},
     "output_type": "execute_result"
    }
   ],
   "source": [
    "x = {'a':10, 'b':20,'c':30,'d':40}\n",
    "x.popitem()"
   ]
  },
  {
   "cell_type": "code",
   "execution_count": 32,
   "id": "4703b0f6",
   "metadata": {},
   "outputs": [
    {
     "name": "stdout",
     "output_type": "stream",
     "text": [
      "{'a': 10, 'b': 20}\n"
     ]
    }
   ],
   "source": [
    "print(x)"
   ]
  },
  {
   "cell_type": "code",
   "execution_count": 36,
   "id": "0a89916d",
   "metadata": {},
   "outputs": [
    {
     "name": "stdout",
     "output_type": "stream",
     "text": [
      "<method 'popitem' of 'dict' objects> <class 'method_descriptor'>\n"
     ]
    }
   ],
   "source": [
    "print(dict.popitem,type(dict.popitem))"
   ]
  },
  {
   "cell_type": "markdown",
   "id": "973d9d2a",
   "metadata": {},
   "source": [
    "### 25.1.6. 딕셔너리의 모든 키-값 쌍을 삭제하기"
   ]
  },
  {
   "cell_type": "code",
   "execution_count": 307,
   "id": "46bc8bef",
   "metadata": {},
   "outputs": [
    {
     "name": "stdout",
     "output_type": "stream",
     "text": [
      "{}\n"
     ]
    }
   ],
   "source": [
    "x = {'a': 10, 'b': 20, 'c': 30, 'd': 40}\n",
    "x.clear()\n",
    "print(x)"
   ]
  },
  {
   "cell_type": "markdown",
   "id": "a45ed566",
   "metadata": {},
   "source": [
    "### 25.1.7. 딕셔너리에서 키의 값을 가져오기"
   ]
  },
  {
   "cell_type": "code",
   "execution_count": 40,
   "id": "d9ec06e5",
   "metadata": {},
   "outputs": [
    {
     "data": {
      "text/plain": [
       "10"
      ]
     },
     "execution_count": 40,
     "metadata": {},
     "output_type": "execute_result"
    }
   ],
   "source": [
    "x = {'a': 10, 'b': 20, 'c': 30, 'd': 40}\n",
    "x.get('a')"
   ]
  },
  {
   "cell_type": "code",
   "execution_count": 39,
   "id": "dc0d1b2a",
   "metadata": {},
   "outputs": [
    {
     "data": {
      "text/plain": [
       "0"
      ]
     },
     "execution_count": 39,
     "metadata": {},
     "output_type": "execute_result"
    }
   ],
   "source": [
    "x.get('z',0)"
   ]
  },
  {
   "cell_type": "markdown",
   "id": "9f45248c",
   "metadata": {},
   "source": [
    "### 25.1.8. 딕셔너리에서 키-값 쌍을 모두 가져오기"
   ]
  },
  {
   "cell_type": "code",
   "execution_count": 49,
   "id": "dd2e694d",
   "metadata": {},
   "outputs": [
    {
     "name": "stdout",
     "output_type": "stream",
     "text": [
      "dict_items([('a', 10), ('b', 20), ('c', 30), ('d', 40)])\n",
      "dict_keys(['a', 'b', 'c', 'd'])\n",
      "dict_values([10, 20, 30, 40])\n",
      "<class 'dict_items'>\n",
      "<class 'dict_keys'>\n",
      "<class 'dict_values'>\n"
     ]
    }
   ],
   "source": [
    "x = {'a': 10, 'b': 20, 'c': 30, 'd': 40}\n",
    "print(x.items())\n",
    "print(x.keys())\n",
    "print(x.values())\n",
    "print(type(x.items()))\n",
    "print(type(x.keys()))\n",
    "print(type(x.values()))"
   ]
  },
  {
   "cell_type": "markdown",
   "id": "1bba4d2a",
   "metadata": {},
   "source": [
    "### 25.1.9. 리스트와 튜플로 딕셔너리 만들기"
   ]
  },
  {
   "cell_type": "code",
   "execution_count": 50,
   "id": "d1f427f9",
   "metadata": {},
   "outputs": [
    {
     "name": "stdout",
     "output_type": "stream",
     "text": [
      "{'a': None, 'b': None, 'c': None, 'd': None}\n"
     ]
    }
   ],
   "source": [
    "keys = ['a', 'b', 'c', 'd']\n",
    "x = dict.fromkeys(keys)\n",
    "print(x)"
   ]
  },
  {
   "cell_type": "code",
   "execution_count": 51,
   "id": "bf9f1249",
   "metadata": {},
   "outputs": [
    {
     "name": "stdout",
     "output_type": "stream",
     "text": [
      "<built-in method fromkeys of type object at 0x55c2a715e0a0>\n",
      "<class 'builtin_function_or_method'>\n"
     ]
    }
   ],
   "source": [
    "print(dict.fromkeys)\n",
    "print(type(dict.fromkeys))"
   ]
  },
  {
   "cell_type": "markdown",
   "id": "de6ef443",
   "metadata": {},
   "source": [
    "## 25.2. 반복문으로 딕셔너리의 키-값 쌍을 모두 출력하기"
   ]
  },
  {
   "cell_type": "code",
   "execution_count": 52,
   "id": "5ab3c170",
   "metadata": {},
   "outputs": [
    {
     "name": "stdout",
     "output_type": "stream",
     "text": [
      "a 10\n",
      "b 20\n",
      "c 30\n",
      "d 40\n"
     ]
    }
   ],
   "source": [
    "x = {'a': 10, 'b': 20, 'c': 30, 'd': 40}\n",
    "for key, value in x.items():\n",
    "    print(key,value)"
   ]
  },
  {
   "cell_type": "code",
   "execution_count": 54,
   "id": "61f47d5c",
   "metadata": {},
   "outputs": [
    {
     "name": "stdout",
     "output_type": "stream",
     "text": [
      "<method 'items' of 'dict' objects>\n",
      "<class 'method_descriptor'>\n",
      "dict_items([('a', 10), ('b', 20), ('c', 30), ('d', 40)])\n",
      "<class 'dict_items'>\n"
     ]
    }
   ],
   "source": [
    "print(dict.items)\n",
    "print(type(dict.items))\n",
    "print(dict.items(x))\n",
    "print(type(dict.items(x)))"
   ]
  },
  {
   "cell_type": "markdown",
   "id": "cd03f908",
   "metadata": {},
   "source": [
    "### 25.2.1. 딕셔너리의 키만 출력하기\n",
    "### 25.2.2. 딕셔너리의 값만 출력하기"
   ]
  },
  {
   "cell_type": "code",
   "execution_count": 62,
   "id": "77eaf81c",
   "metadata": {},
   "outputs": [
    {
     "name": "stdout",
     "output_type": "stream",
     "text": [
      "a b c d \n",
      "10 20 30 40 "
     ]
    }
   ],
   "source": [
    "x = {'a': 10, 'b': 20, 'c': 30, 'd': 40}\n",
    "for key in x.keys():\n",
    "    print(key, end = ' ')\n",
    "print()\n",
    "for value in x.values():\n",
    "    print(value, end = ' ')"
   ]
  },
  {
   "cell_type": "markdown",
   "id": "0cf3672c",
   "metadata": {},
   "source": [
    "## 25.3. 딕셔너리 표현 식 사용하기"
   ]
  },
  {
   "cell_type": "code",
   "execution_count": 68,
   "id": "e6866fcd",
   "metadata": {},
   "outputs": [
    {
     "name": "stdout",
     "output_type": "stream",
     "text": [
      "{'a': None, 'b': None, 'c': None, 'd': None}\n"
     ]
    }
   ],
   "source": [
    "keys = ['a', 'b', 'c', 'd']\n",
    "x = {key: value for key, value in dict.fromkeys(keys).items()}\n",
    "print(x)"
   ]
  },
  {
   "cell_type": "code",
   "execution_count": 71,
   "id": "05a9f72d",
   "metadata": {},
   "outputs": [
    {
     "name": "stdout",
     "output_type": "stream",
     "text": [
      "<built-in method fromkeys of type object at 0x55c2a715e0a0>\n",
      "<class 'builtin_function_or_method'>\n",
      "{'a': None, 'b': None, 'c': None, 'd': None}\n",
      "<class 'dict'>\n"
     ]
    }
   ],
   "source": [
    "print(dict.fromkeys)\n",
    "print(type(dict.fromkeys))\n",
    "print(dict.fromkeys(keys))\n",
    "print(type(dict.fromkeys(keys)))"
   ]
  },
  {
   "cell_type": "code",
   "execution_count": 74,
   "id": "20501136",
   "metadata": {},
   "outputs": [
    {
     "name": "stdout",
     "output_type": "stream",
     "text": [
      "{'a': 0, 'b': 0, 'c': 0, 'd': 0}\n"
     ]
    }
   ],
   "source": [
    "y = {key: 0 for key in dict.fromkeys(['a', 'b', 'c', 'd']).keys()} \n",
    "print(y)"
   ]
  },
  {
   "cell_type": "code",
   "execution_count": 76,
   "id": "fa75fa8b",
   "metadata": {
    "scrolled": true
   },
   "outputs": [
    {
     "name": "stdout",
     "output_type": "stream",
     "text": [
      "{10: 'a', 20: 'b', 30: 'c', 40: 'd'}\n"
     ]
    }
   ],
   "source": [
    "z = {value: key for key, value in {'a': 10, 'b': 20, 'c': 30, 'd': 40}.items()}\n",
    "print(z)"
   ]
  },
  {
   "cell_type": "markdown",
   "id": "83456135",
   "metadata": {},
   "source": [
    "### 25.3.1. 딕셔너리 표현식에서 if 조건문 사용하기"
   ]
  },
  {
   "cell_type": "code",
   "execution_count": 77,
   "id": "cc4e042b",
   "metadata": {},
   "outputs": [
    {
     "name": "stdout",
     "output_type": "stream",
     "text": [
      "{'a': 10, 'c': 30, 'd': 40}\n"
     ]
    }
   ],
   "source": [
    "x = {'a': 10, 'b': 20, 'c': 30, 'd': 40}\n",
    "x = {key:value for key, value in x.items() if value !=20}\n",
    "print(x)"
   ]
  },
  {
   "cell_type": "markdown",
   "id": "450452ec",
   "metadata": {},
   "source": [
    "## 25.4. 딕셔너리 안에 딕셔너리 사용하기"
   ]
  },
  {
   "cell_type": "code",
   "execution_count": 81,
   "id": "255b8775",
   "metadata": {},
   "outputs": [
    {
     "name": "stdout",
     "output_type": "stream",
     "text": [
      "{'Mercury': {'mean_radius': 2439.7, 'mass': 3.3022e+23, 'orbital_period': 87.969}, 'Venus': {'mean_radius': 6051.8, 'mass': 4.8676e+24, 'orbital_period': 224.70069}, 'Earth': {'mean_radius': 6371.0, 'mass': 5.97219e+24, 'orbital_period': 365.25641}, 'Mars': {'mean_radius': 3389.5, 'mass': 6.4185e+23, 'orbital_period': 686.96}}\n",
      "{'mean_radius': 6051.8, 'mass': 4.8676e+24, 'orbital_period': 224.70069}\n",
      "6051.8\n"
     ]
    }
   ],
   "source": [
    "terrestrial_planet = {\n",
    "    'Mercury': {\n",
    "        'mean_radius': 2439.7,\n",
    "        'mass': 3.3022E+23,\n",
    "        'orbital_period': 87.969\n",
    "    },\n",
    "    'Venus': {\n",
    "        'mean_radius': 6051.8,\n",
    "        'mass': 4.8676E+24,\n",
    "        'orbital_period': 224.70069,\n",
    "    },\n",
    "    'Earth': {\n",
    "        'mean_radius': 6371.0,\n",
    "        'mass': 5.97219E+24,\n",
    "        'orbital_period': 365.25641,\n",
    "    },\n",
    "    'Mars': {\n",
    "        'mean_radius': 3389.5,\n",
    "        'mass': 6.4185E+23,\n",
    "        'orbital_period': 686.9600,\n",
    "    }\n",
    "}\n",
    "print(terrestrial_planet)\n",
    "print(terrestrial_planet['Venus'])\n",
    " \n",
    "print(terrestrial_planet['Venus']['mean_radius'])    # 6051.8\n"
   ]
  },
  {
   "cell_type": "code",
   "execution_count": 82,
   "id": "d9cabe66",
   "metadata": {},
   "outputs": [
    {
     "data": {
      "text/plain": [
       "500.0"
      ]
     },
     "execution_count": 82,
     "metadata": {},
     "output_type": "execute_result"
    }
   ],
   "source": [
    "a= 3E+2\n",
    "b= 2E+2\n",
    "a+b"
   ]
  },
  {
   "cell_type": "markdown",
   "id": "d98b8ae6",
   "metadata": {},
   "source": [
    "## 25.5. 딕셔너리의 할당과 복사"
   ]
  },
  {
   "cell_type": "code",
   "execution_count": 261,
   "id": "5fbfa5da",
   "metadata": {},
   "outputs": [],
   "source": [
    "x = {'a': 0, 'b': 0, 'c': 0, 'd': 0}\n",
    "y = x\n",
    "z = x.copy()"
   ]
  },
  {
   "cell_type": "markdown",
   "id": "e8bef44d",
   "metadata": {},
   "source": [
    "- `y`는 `x`를 그대로 할당한 것이고\n",
    "- `z`는 `x`를 복사한 것이다."
   ]
  },
  {
   "cell_type": "code",
   "execution_count": 262,
   "id": "762bbdca",
   "metadata": {},
   "outputs": [
    {
     "name": "stdout",
     "output_type": "stream",
     "text": [
      "True True\n",
      "True False\n"
     ]
    }
   ],
   "source": [
    "print(y == x, y is x)\n",
    "print(z == x, z is x)"
   ]
  },
  {
   "cell_type": "markdown",
   "id": "84b9785f",
   "metadata": {},
   "source": [
    " - 할당한 변수 `y`는 원래 변수 `x`와 완전히 같다.\n",
    " - 하지만 복사한 변수 `z`는 원래 변수 `x`와 값은 같지만 주소까지 같지는 않다."
   ]
  },
  {
   "cell_type": "code",
   "execution_count": 264,
   "id": "103d9f13",
   "metadata": {},
   "outputs": [
    {
     "name": "stdout",
     "output_type": "stream",
     "text": [
      "1 True True\n",
      "0 False False\n"
     ]
    }
   ],
   "source": [
    "x['a']=1\n",
    "print(y['a'],y['a'] == x['a'],y['a'] is x['a'])\n",
    "print(z['a'],z['a'] == x['a'],z['a'] is x['a'])"
   ]
  },
  {
   "cell_type": "markdown",
   "id": "794ab192",
   "metadata": {},
   "source": [
    "- `x` 에서 `'a'`의 키값을 변경하면\n",
    "- `y`에서 `'a'`의 키값은 `x`에 따라서 변경되지만\n",
    "- `z`에서 `'a'`의 키값은 `x`와 별개로 동작한다. (변경되지 않는다.)\n",
    "\n",
    "즉, `x`와 독립된 변수 `z`를 만들려면 단순히 *할당*만 해서는 안되고 **복사**해야 한다."
   ]
  },
  {
   "cell_type": "markdown",
   "id": "49087167",
   "metadata": {},
   "source": [
    "### 25.5.1. 중첩 딕셔너리의 할당과 복사 알아보기"
   ]
  },
  {
   "cell_type": "code",
   "execution_count": 327,
   "id": "76d679b1",
   "metadata": {},
   "outputs": [],
   "source": [
    "x = {'a': {'python': '2.7'}, 'b': {'python': '3.6'}}\n",
    "y = x\n",
    "x.copy()\n",
    "import copy\n",
    "w = copy.deepcopy(x)"
   ]
  },
  {
   "cell_type": "markdown",
   "id": "d1fab989",
   "metadata": {},
   "source": [
    "- `y`는 `x`를 그대로 할당한 것이고\n",
    "- `z`는 `x`를 복사한 것이며\n",
    "- `w`는 `x`를 깊게 복사한 것이다."
   ]
  },
  {
   "cell_type": "code",
   "execution_count": 276,
   "id": "ff7d091a",
   "metadata": {},
   "outputs": [
    {
     "name": "stdout",
     "output_type": "stream",
     "text": [
      "True True\n",
      "True False\n",
      "True False\n"
     ]
    }
   ],
   "source": [
    "print(y == x, y is x)\n",
    "print(z == x, z is x)\n",
    "print(w == x, w is x)"
   ]
  },
  {
   "cell_type": "markdown",
   "id": "446d8de3",
   "metadata": {},
   "source": [
    " - 할당한 변수 `y`는 원래 변수 `x`와 완전히 같다.\n",
    " - 하지만 복사한 변수 `z`는 원래 변수 `x`와 값은 같지만 주소까지 같지는 않다.\n",
    " - 깊게 복사한 변수 `w`도 원래 변수 `x`와 값은 같지만 주소까지 같지는 않다."
   ]
  },
  {
   "cell_type": "code",
   "execution_count": 277,
   "id": "3cffdbf6",
   "metadata": {},
   "outputs": [
    {
     "name": "stdout",
     "output_type": "stream",
     "text": [
      "3.9 True True\n",
      "3.9 True True\n",
      "2.7 False False\n"
     ]
    }
   ],
   "source": [
    "x['a']['python']='3.9'\n",
    "print(y['a']['python'],y['a']['python'] == x['a']['python'], y['a']['python'] is x['a']['python'])\n",
    "print(z['a']['python'],z['a']['python'] == x['a']['python'], z['a']['python'] is x['a']['python'])\n",
    "print(w['a']['python'],w['a']['python'] == x['a']['python'], w['a']['python'] is x['a']['python'])"
   ]
  },
  {
   "cell_type": "markdown",
   "id": "7be75438",
   "metadata": {},
   "source": [
    "- `x`에서 `'a'`의 키값, 에서 `'python'`의 키값을 변경하면\n",
    "- `y`에서 `'a'`의 키값, 에서 `'python'`의 키값은 변경되고\n",
    "- `z`에서 `'a'`의 키값, 에서 `'python'`의 키값도 변경되지만\n",
    "- `w`에서 `'a'`의 키값, 에서 `'python'`의 키값은 별개로 동작한다. (변경되지 않는다.)\n",
    "\n",
    "따라서, `x`와 독립된 변수 `w`를 만들려면 단순히 *할당*만 해서는 안되고, *복사*를 해도 안되며, 반드시 **깊은 복사**를 해야만 한다.\n",
    "\n",
    "즉, 원래의 변수 `x`와 (2레벨 이상의 의미에서) 다른 변수 `w`를 만드려면 **깊은 복사**를 해야 한다. (말이 정확치 않다.)\n",
    "\n",
    "(이후추가) `001_LMS_fundamental_SO3\\7-당신의 행운의 숫자는? 나만의 n면체 주사위 위젯 만들기.ipynb`의 7-2에서 : \n",
    " - 혹은 [python copy documentation](https://docs.python.org/3/library/copy.html)에서\n",
    " - The difference between shallow and deep copying is only relevant for compound objects (objects that contain other objects, like lists or class instances):\n",
    "     - A shallow copy constructs a new compound object and then (to the extent possible) inserts references into it to the objects found in the original.\n",
    "     - A deep copy constructs a new compound object and then, recursively, inserts copies into it of the objects found in the original.\n",
    "\n"
   ]
  },
  {
   "cell_type": "markdown",
   "id": "c7fccf89",
   "metadata": {},
   "source": [
    "아래의 예시는 25.5. 이하의 예시와 진배없다. 하지만, 그래도 같은 결과가 나오는지 확인해보려고 한다."
   ]
  },
  {
   "cell_type": "code",
   "execution_count": 266,
   "id": "7233b6fa",
   "metadata": {},
   "outputs": [],
   "source": [
    "x = {'a': {'python': '2.7'}, 'b': {'python': '3.6'}}\n",
    "y = x\n",
    "z = x.copy()\n",
    "import copy\n",
    "w = copy.deepcopy(x)"
   ]
  },
  {
   "cell_type": "code",
   "execution_count": 267,
   "id": "32f77e13",
   "metadata": {},
   "outputs": [
    {
     "name": "stdout",
     "output_type": "stream",
     "text": [
      "True True\n",
      "True False\n",
      "True False\n"
     ]
    }
   ],
   "source": [
    "print(y == x, y is x)\n",
    "print(z == x, z is x)\n",
    "print(w == x, w is x)"
   ]
  },
  {
   "cell_type": "code",
   "execution_count": 269,
   "id": "766c3504",
   "metadata": {},
   "outputs": [
    {
     "name": "stdout",
     "output_type": "stream",
     "text": [
      "{'python': '3.9'} True True\n",
      "{'python': '2.7'} False False\n",
      "{'python': '2.7'} False False\n"
     ]
    }
   ],
   "source": [
    "x['a']={'python': '3.9'}\n",
    "print(y['a'], y['a'] == x['a'], y['a'] is x['a'])\n",
    "print(z['a'], z['a'] == x['a'], z['a'] is x['a'])\n",
    "print(w['a'], w['a'] == x['a'], w['a'] is x['a'])"
   ]
  },
  {
   "cell_type": "markdown",
   "id": "f69324f4",
   "metadata": {},
   "source": [
    "예상대로, 같은 결과가 나온다."
   ]
  },
  {
   "cell_type": "markdown",
   "id": "f9a6fdd5",
   "metadata": {},
   "source": [
    "## 25.6. 퀴즈"
   ]
  },
  {
   "cell_type": "markdown",
   "id": "022e7256",
   "metadata": {},
   "source": [
    "1번 문제"
   ]
  },
  {
   "cell_type": "code",
   "execution_count": 132,
   "id": "663597d0",
   "metadata": {},
   "outputs": [
    {
     "data": {
      "text/plain": [
       "1"
      ]
     },
     "execution_count": 132,
     "metadata": {},
     "output_type": "execute_result"
    }
   ],
   "source": [
    "# a : 틀렸다.\n",
    "x = {'Python':1,'Java':2,'C':3}\n",
    "# x.pop() # error : pop expected at least 1 argument, got 0\n",
    "x.pop('Python') # 옳은 표현"
   ]
  },
  {
   "cell_type": "code",
   "execution_count": 123,
   "id": "551dda06",
   "metadata": {},
   "outputs": [
    {
     "data": {
      "text/plain": [
       "('C', 3)"
      ]
     },
     "execution_count": 123,
     "metadata": {},
     "output_type": "execute_result"
    }
   ],
   "source": [
    "# b : 틀렸다.\n",
    "x = {'Python':1,'Java':2,'C':3}\n",
    "x.popitem()"
   ]
  },
  {
   "cell_type": "code",
   "execution_count": 127,
   "id": "385e8430",
   "metadata": {},
   "outputs": [
    {
     "name": "stdout",
     "output_type": "stream",
     "text": [
      "{'Java': 2, 'C': 3}\n"
     ]
    }
   ],
   "source": [
    "# c : 맞다.\n",
    "x = {'Python':1,'Java':2,'C':3}\n",
    "x.pop('Python',100) # return : 1\n",
    "print(x)"
   ]
  },
  {
   "cell_type": "code",
   "execution_count": 137,
   "id": "12b53642",
   "metadata": {},
   "outputs": [],
   "source": [
    "# d : 틀렸다.\n",
    "x = {'Python':1,'Java':2,'C':3}\n",
    "# x.remove('Python') # error : 'dict' object has no attribute 'remove' "
   ]
  },
  {
   "cell_type": "code",
   "execution_count": 140,
   "id": "77b676d7",
   "metadata": {},
   "outputs": [
    {
     "name": "stdout",
     "output_type": "stream",
     "text": [
      "{'Java': 2, 'C': 3}\n"
     ]
    }
   ],
   "source": [
    "# e : 맞다.\n",
    "x = {'Python':1,'Java':2,'C':3}\n",
    "del x['Python'] # return : x\n",
    "print(x)"
   ]
  },
  {
   "cell_type": "markdown",
   "id": "54b7009f",
   "metadata": {},
   "source": [
    "2번 문제 : 올바르지 않은 것은?\n",
    " - a. `setdefault`는 딕셔너리에 키-값 쌍을 추가한다. o\n",
    " - b. `setdefault`는 키만 지정하면 값은 0으로 지정한다. x / 9이 아니라 None이다.\n",
    " - c. `keys`는 딕셔너리의 키-값 쌍을 모두 가져온다. x / 키만 가져온다.\n",
    " - d. `clear`는 딕셔너리에 키-값 쌍을 모두 삭제한다. o\n",
    " - e. `update`는 딕셔너리에 키의 값을 수정한다. o "
   ]
  },
  {
   "cell_type": "markdown",
   "id": "26eae7b5",
   "metadata": {},
   "source": [
    "3번 문제"
   ]
  },
  {
   "cell_type": "code",
   "execution_count": 161,
   "id": "a0c62622",
   "metadata": {},
   "outputs": [
    {
     "name": "stdout",
     "output_type": "stream",
     "text": [
      "a\n",
      "b\n",
      "c\n"
     ]
    }
   ],
   "source": [
    "# a : 틀렸다.\n",
    "x = {'a':1,'b':2,'c':3}\n",
    "# for key, value in x:\n",
    "#     print(key)\n",
    "# error : not enough values to unpack (expected 2, got 1)\n",
    "for key,value in x.items(): # 유효한 답 -> e\n",
    "    print(key)"
   ]
  },
  {
   "cell_type": "code",
   "execution_count": 158,
   "id": "7654dc86",
   "metadata": {},
   "outputs": [
    {
     "name": "stdout",
     "output_type": "stream",
     "text": [
      "a\n",
      "b\n",
      "c\n"
     ]
    }
   ],
   "source": [
    "# b : 맞다.\n",
    "x = {'a':1,'b':2,'c':3}\n",
    "for key in x: # 틀릴 것 같이 보이지만 맞았다.\n",
    "    print(key)\n",
    "# for key in x.keys(): # altenative answer -> c\n",
    "#     print(key)\n"
   ]
  },
  {
   "cell_type": "code",
   "execution_count": 159,
   "id": "9cd908a0",
   "metadata": {},
   "outputs": [
    {
     "name": "stdout",
     "output_type": "stream",
     "text": [
      "a\n",
      "b\n",
      "c\n"
     ]
    }
   ],
   "source": [
    "# c : 맞다.\n",
    "x = {'a':1,'b':2,'c':3}\n",
    "for key in x.keys(): # 문법에 정확히 맞다.\n",
    "    print(key)"
   ]
  },
  {
   "cell_type": "code",
   "execution_count": 160,
   "id": "173dec6b",
   "metadata": {},
   "outputs": [
    {
     "name": "stdout",
     "output_type": "stream",
     "text": [
      "1\n",
      "2\n",
      "3\n"
     ]
    }
   ],
   "source": [
    "# d : 틀렸다.\n",
    "x = {'a':1,'b':2,'c':3}\n",
    "for value in x.values(): # 키들을 출력해야 하는데, 값들을 출력하고 있다.\n",
    "    print(value)"
   ]
  },
  {
   "cell_type": "code",
   "execution_count": 162,
   "id": "2c33a6c5",
   "metadata": {},
   "outputs": [
    {
     "name": "stdout",
     "output_type": "stream",
     "text": [
      "a\n",
      "b\n",
      "c\n"
     ]
    }
   ],
   "source": [
    "# e : 맞다.\n",
    "x = {'a':1,'b':2,'c':3}\n",
    "for key, value in x.items(): # 문법에 정확히 맞다.\n",
    "    print(key)"
   ]
  },
  {
   "cell_type": "markdown",
   "id": "ca2544dc",
   "metadata": {},
   "source": [
    "4번 문제 : `x = {'a': 10, 'b': 20, 'c': 30, 'd': 40}`일 때, 값이 40인 키-값을 삭제하는 방법은?"
   ]
  },
  {
   "cell_type": "code",
   "execution_count": 188,
   "id": "ed2ea5e9",
   "metadata": {},
   "outputs": [
    {
     "ename": "RuntimeError",
     "evalue": "dictionary changed size during iteration",
     "output_type": "error",
     "traceback": [
      "\u001b[0;31m---------------------------------------------------------------------------\u001b[0m",
      "\u001b[0;31mRuntimeError\u001b[0m                              Traceback (most recent call last)",
      "\u001b[0;32m/tmp/ipykernel_33/3342491992.py\u001b[0m in \u001b[0;36m<module>\u001b[0;34m\u001b[0m\n\u001b[1;32m      1\u001b[0m \u001b[0;31m# a : 맞을 것 같은데 틀리네?\u001b[0m\u001b[0;34m\u001b[0m\u001b[0;34m\u001b[0m\u001b[0m\n\u001b[1;32m      2\u001b[0m \u001b[0mx\u001b[0m \u001b[0;34m=\u001b[0m \u001b[0;34m{\u001b[0m\u001b[0;34m'a'\u001b[0m\u001b[0;34m:\u001b[0m \u001b[0;36m10\u001b[0m\u001b[0;34m,\u001b[0m \u001b[0;34m'b'\u001b[0m\u001b[0;34m:\u001b[0m \u001b[0;36m20\u001b[0m\u001b[0;34m,\u001b[0m \u001b[0;34m'c'\u001b[0m\u001b[0;34m:\u001b[0m \u001b[0;36m30\u001b[0m\u001b[0;34m,\u001b[0m \u001b[0;34m'd'\u001b[0m\u001b[0;34m:\u001b[0m \u001b[0;36m40\u001b[0m\u001b[0;34m}\u001b[0m\u001b[0;34m\u001b[0m\u001b[0;34m\u001b[0m\u001b[0m\n\u001b[0;32m----> 3\u001b[0;31m \u001b[0;32mfor\u001b[0m \u001b[0mkey\u001b[0m\u001b[0;34m,\u001b[0m \u001b[0mvalue\u001b[0m \u001b[0;32min\u001b[0m \u001b[0mx\u001b[0m\u001b[0;34m.\u001b[0m\u001b[0mitems\u001b[0m\u001b[0;34m(\u001b[0m\u001b[0;34m)\u001b[0m\u001b[0;34m:\u001b[0m \u001b[0;31m# RuntimeError: dictionary changed size during iteration\u001b[0m\u001b[0;34m\u001b[0m\u001b[0;34m\u001b[0m\u001b[0m\n\u001b[0m\u001b[1;32m      4\u001b[0m \u001b[0;34m\u001b[0m\u001b[0m\n\u001b[1;32m      5\u001b[0m     \u001b[0;32mif\u001b[0m \u001b[0mvalue\u001b[0m \u001b[0;34m==\u001b[0m \u001b[0;36m40\u001b[0m\u001b[0;34m:\u001b[0m\u001b[0;34m\u001b[0m\u001b[0;34m\u001b[0m\u001b[0m\n",
      "\u001b[0;31mRuntimeError\u001b[0m: dictionary changed size during iteration"
     ]
    }
   ],
   "source": [
    "# a : 맞을 것 같은데 틀리네?\n",
    "x = {'a': 10, 'b': 20, 'c': 30, 'd': 40}\n",
    "for key, value in x.items(): # RuntimeError: dictionary changed size during iteration\n",
    "\n",
    "    if value == 40:\n",
    "        del x[key]\n",
    "print(x)"
   ]
  },
  {
   "cell_type": "code",
   "execution_count": 191,
   "id": "685fb14b",
   "metadata": {},
   "outputs": [
    {
     "name": "stdout",
     "output_type": "stream",
     "text": [
      "{'a': 10, 'b': 20, 'c': 30}\n"
     ]
    }
   ],
   "source": [
    "# 위의 코드를 풀어 쓴 아래 코드는 정상적으로 동작한다.\n",
    "x = {'a': 10, 'b': 20, 'c': 30, 'd': 40}\n",
    "key = list(x.keys())[0]\n",
    "value = list(x.values())[0]\n",
    "if value == 40:\n",
    "    del x[key]\n",
    "key = list(x.keys())[1]\n",
    "value = list(x.values())[1]\n",
    "if value == 40:\n",
    "    del x[key]\n",
    "key = list(x.keys())[2]\n",
    "value = list(x.values())[2]\n",
    "if value == 40:\n",
    "    del x[key]\n",
    "key = list(x.keys())[3]\n",
    "value = list(x.values())[3]\n",
    "if value == 40:\n",
    "    del x[key]\n",
    "print(x)"
   ]
  },
  {
   "cell_type": "code",
   "execution_count": 208,
   "id": "9db77f52",
   "metadata": {},
   "outputs": [
    {
     "name": "stdout",
     "output_type": "stream",
     "text": [
      "{'b': 20, 'c': 30, 'd': 40}\n"
     ]
    }
   ],
   "source": [
    "# b : 틀렸다.\n",
    "# x = {'a': 10, 'b': 20, 'c': 30, 'd': 40}\n",
    "# del x[40] # KeyError: 40\n",
    "# print(x)\n",
    "\n",
    "x = {'a': 10, 'b': 20, 'c': 30, 'd': 40}\n",
    "del x['a'] # 옳게 만들어진 코드\n",
    "print(x)"
   ]
  },
  {
   "cell_type": "code",
   "execution_count": 203,
   "id": "b0bb0936",
   "metadata": {},
   "outputs": [
    {
     "name": "stdout",
     "output_type": "stream",
     "text": [
      "{'a': 10, 'b': 20, 'c': 30, 'd': 40}\n"
     ]
    }
   ],
   "source": [
    "# c : 틀렸다.\n",
    "x = {'a': 10, 'b': 20, 'c': 30, 'd': 40}\n",
    "x = {key: value for key, value in x.items()} # 아무 일도 하지 않았다.\n",
    "print(x)"
   ]
  },
  {
   "cell_type": "code",
   "execution_count": 204,
   "id": "169e47b8",
   "metadata": {},
   "outputs": [
    {
     "name": "stdout",
     "output_type": "stream",
     "text": [
      "True\n",
      "False\n",
      "True\n",
      "False\n"
     ]
    }
   ],
   "source": [
    "x = {'a': 10, 'b': 20, 'c': 30, 'd': 40}\n",
    "y = {key: value for key, value in x.items()}\n",
    "z = x.copy()\n",
    "print(x == y)\n",
    "print(x is y) # y는 x와 비교했을 때, 주소만 다를 뿐 그 값이 완전히 같다.\n",
    "print(y == z)\n",
    "print(y is z) # y는 z = x.copy()와 비교했을 때에도, 주소가 다르고 값이 같다."
   ]
  },
  {
   "cell_type": "code",
   "execution_count": 209,
   "id": "dd1de609",
   "metadata": {},
   "outputs": [
    {
     "name": "stdout",
     "output_type": "stream",
     "text": [
      "{'a': 10, 'b': 20, 'c': 30}\n"
     ]
    }
   ],
   "source": [
    "# d : 맞다.\n",
    "x = {'a': 10, 'b': 20, 'c': 30, 'd': 40}\n",
    "x = {key: value for key, value in x.items() if value != 40} # 문법에 정확히 맞다.\n",
    "print(x)"
   ]
  },
  {
   "cell_type": "code",
   "execution_count": 210,
   "id": "f37b2481",
   "metadata": {},
   "outputs": [
    {
     "name": "stdout",
     "output_type": "stream",
     "text": [
      "{'d': 40}\n"
     ]
    }
   ],
   "source": [
    "# e : 틀렸다.\n",
    "x = {'a': 10, 'b': 20, 'c': 30, 'd': 40}\n",
    "x = {key: value for key, value in x.items() if value == 40} # 정답인 d와 반대로 적었다.\n",
    "print(x)"
   ]
  },
  {
   "cell_type": "markdown",
   "id": "fc31faa9",
   "metadata": {},
   "source": [
    "5번 문제 : 쉬운.. 줄 알았는데 어렵네.. 는 아니고 쉽다."
   ]
  },
  {
   "cell_type": "code",
   "execution_count": 217,
   "id": "002480eb",
   "metadata": {},
   "outputs": [
    {
     "data": {
      "text/plain": [
       "1"
      ]
     },
     "execution_count": 217,
     "metadata": {},
     "output_type": "execute_result"
    }
   ],
   "source": [
    "terrestrial_planet = {\n",
    "    'Earth': {\n",
    "        'physical_characteristics': {\n",
    "            'mean_radius': 6371.0,\n",
    "            'mass': 5.97219E+24\n",
    "        },\n",
    "        'orbital_characteristics': {\n",
    "            'orbital_period': 365.25641,\n",
    "            'satellites': 1\n",
    "        }\n",
    "    },\n",
    "    'Mars': {\n",
    "        'physical_characteristics': {\n",
    "            'mean_radius': 3389.5,\n",
    "            'mass': 6.4185E+23\n",
    "        },\n",
    "        'orbital_characteristics': {\n",
    "            'orbital_period': 686.9600,\n",
    "            'satellites': 2\n",
    "        }\n",
    "    }\n",
    "}\n",
    "terrestrial_planet['Earth']['orbital_characteristics']['satellites']"
   ]
  },
  {
   "cell_type": "markdown",
   "id": "1d311870",
   "metadata": {},
   "source": [
    "6번 문제 : "
   ]
  },
  {
   "cell_type": "code",
   "execution_count": null,
   "id": "3ae50996",
   "metadata": {},
   "outputs": [],
   "source": [
    "import copy\n",
    "x = {'python': {'version': '2.7'}, 'script': {'name': 'hello.py'}}\n",
    "a = x\n",
    "b = x.copy()\n",
    "c = copy.deepcopy(x)\n",
    "x['python']['version'] = '3.6'\n",
    "print(a['python']['version'], b['python']['version'], c['python']['version'])"
   ]
  },
  {
   "cell_type": "markdown",
   "id": "50b6cd26",
   "metadata": {},
   "source": [
    " - 원래의 변수 와 (2레벨 이상의 의미에서) 다른 변수 를 만드려면 **깊은 복사**를 해야 한다.(cf. 25.5.1)\n",
    " - `a['python']['version']`는 당연히 `x['python']['version']`(=`3.6`)과 같다. (할당)\n",
    "   - 실제로 두 값은 뼛속까지 같다 (`is`)\n",
    " - `b['python']['version']`는 여전히 `x['python']['version']`(=`3.6`)과 같다. (복사)\n",
    "   - 이 두 값도 뼛속까지 같다 (`is`)\n",
    " - `c['python']['version']`는 `x['python']['version']`(=`3.6`)와 다르다. (깊은복사)\n",
    "   - 이 두 값은 뼛속까지 같지 않을 뿐더러 (`not is`), 값 또한 다르다(`!=`).\n",
    "   - `c['python']['version']`는 변경되기 전 값인 `2.7`이다."
   ]
  },
  {
   "cell_type": "markdown",
   "id": "387ed43e",
   "metadata": {},
   "source": [
    "열심히 적었다.\n",
    "맞는 말을 적은 것 같다.\n",
    "하지만 10분 정도만 흐른다고 하더라도 다시 참 거짓을 판별하라고 하면 못하겠다."
   ]
  },
  {
   "cell_type": "markdown",
   "id": "4ac1b9da",
   "metadata": {},
   "source": [
    "## 25.7. 연습문제"
   ]
  },
  {
   "cell_type": "code",
   "execution_count": 283,
   "id": "3b52393d",
   "metadata": {
    "scrolled": true
   },
   "outputs": [
    {
     "name": "stdout",
     "output_type": "stream",
     "text": [
      "dict_keys(['korean', 'english', 'mathematics', 'science'])\n",
      "[94, 91, 89, 83]\n",
      "89.25\n"
     ]
    }
   ],
   "source": [
    "maria = {'korean': 94, 'english': 91, 'mathematics': 89, 'science': 83}\n",
    "print(maria.keys())\n",
    "A = []\n",
    "for value in maria.values():\n",
    "    A.append(value)\n",
    "print(A)\n",
    "print(sum(A)/len(A))\n",
    "#print(average)"
   ]
  },
  {
   "cell_type": "markdown",
   "id": "bd89e9f6",
   "metadata": {},
   "source": [
    "## 25.8. 심사문제"
   ]
  },
  {
   "cell_type": "code",
   "execution_count": 292,
   "id": "9dd5a4e4",
   "metadata": {},
   "outputs": [
    {
     "name": "stdout",
     "output_type": "stream",
     "text": [
      "{'alpha': 10, 'beta': 20, 'gamma': 30, 'delta': 40, 'epsilon': 0.01}\n",
      "{'alpha': 10, 'beta': 20, 'delta': 40, 'epsilon': 0.01}\n",
      "{'alpha': 10, 'beta': 20, 'epsilon': 0.01}\n"
     ]
    }
   ],
   "source": [
    "keys = ['alpha', 'beta', 'gamma', 'delta','epsilon']\n",
    "values = [10, 20, 30, 40, 0.01]\n",
    "x = dict(zip(keys,values))\n",
    "print(x)\n",
    "x = {key:value for key, value in x.items() if value !=30}\n",
    "print(x)\n",
    "del x['delta']\n",
    "print(x)"
   ]
  },
  {
   "cell_type": "code",
   "execution_count": 293,
   "id": "29828e36",
   "metadata": {},
   "outputs": [
    {
     "name": "stdout",
     "output_type": "stream",
     "text": [
      "{'alpha': 10, 'bravo': 20, 'charlie': 30, 'delta': 40}\n",
      "{'alpha': 10, 'bravo': 20, 'delta': 40}\n",
      "{'alpha': 10, 'bravo': 20}\n"
     ]
    }
   ],
   "source": [
    "keys = ['alpha', 'bravo', 'charlie', 'delta']\n",
    "values = [10, 20, 30, 40]\n",
    "x = dict(zip(keys,values))\n",
    "print(x)\n",
    "x = {key:value for key, value in x.items() if value !=30}\n",
    "print(x)\n",
    "del x['delta']\n",
    "print(x)"
   ]
  },
  {
   "cell_type": "markdown",
   "id": "c8363dfc",
   "metadata": {},
   "source": [
    "입력1 : alpha bravo charlie delta\n",
    "입력2 : 10 20 30 40"
   ]
  },
  {
   "cell_type": "code",
   "execution_count": 295,
   "id": "e3dd529c",
   "metadata": {},
   "outputs": [
    {
     "name": "stdout",
     "output_type": "stream",
     "text": [
      "alpha bravo charlie delta echo foxtrot golf\n",
      "30 40 50 60 70 80 90\n",
      "{'bravo': 40, 'charlie': 50, 'echo': 70, 'foxtrot': 80, 'golf': 90}\n"
     ]
    }
   ],
   "source": [
    "keys = input().split()\n",
    "values = map(int, input().split())\n",
    "x = dict(zip(keys,values))\n",
    "x = {key:value for key, value in x.items() if value !=30}\n",
    "del x['delta']\n",
    "print(x)"
   ]
  },
  {
   "cell_type": "markdown",
   "id": "e4c276e5",
   "metadata": {},
   "source": [
    "# 26. 세트 이용하기"
   ]
  },
  {
   "cell_type": "markdown",
   "id": "450af82b",
   "metadata": {},
   "source": [
    "수학에는 ordered pair $(a,b)$와 unordered pair $\\{a,b\\}$가 있다.\n",
    "또한 (ordered) tuple $(a_1,a_2,\\cdots,a_n)$과 unordered tuple $\\{a_1,a_2,\\cdots,a_n\\}$이 있다.\n",
    "즉, ordered pair와 (ordered) tuple에서는 순서가 존재하고 unordered pair와 unordered tuple에서는 순서가 존재하지 않는다.\n",
    "전자를 (finite) **sequence**라고도 부르고, 후자를 **set** 이라고도 부른다.\n",
    "\n",
    "파이썬에서 sequence에 해당하는 것은 `list`와 `tuple`이다.\n",
    "`numpy`까지 확장하면 rank 1의 `np.array`까지도 sequence에 해당한다.\n",
    "이것은 euclidean vector의 의미와 비슷하게 생각할 수 있지만, `list`와 `tuple`에서는 (벡터공간을 구성하는 두 연산) scalar multiplication과 vector addition에 해당하는 연산들(`*`, `+`)이 선형대수적으로 잘 작동하지 않는다.\n",
    "반면 `np.array`는 선형대수적으로 scalar multiplication과 vector addition이 잘 작동한다는 이점이 있다.\n",
    "\n",
    "파이썬에서 **set**에 해당하는 것은 `set`이다.\n",
    "수학에서의 **set**과 파이썬에서의 `set`이 얼마나 같고 얼마나 다른지는 아직 모르겠다."
   ]
  },
  {
   "cell_type": "markdown",
   "id": "dc27aca0",
   "metadata": {},
   "source": [
    "|매서드|설명|문법|반환|분류|비고|\n",
    "|:-:|:-:|:-:|:-:|:-:|:-:|\n",
    "|`\\|`|합집합|*set* `\\|`*set*|*set*|연산자||\n",
    "|`&`|교집합|*set*`&`*set*|*set*|연산자||\n",
    "|`-`|차집합|*set*`-`*set*|*set*|연산자||\n",
    "|`^`|대칭차집합|*set*`^`*set*|*set*|연산자||\n",
    "|`union`|합집합|*set*.`set.union`(*set*)|*set*|*set*의 _method_||\n",
    "|`intersection`|교집합|*set*.`set.intersection`(*set*)|*set*|*set*의 _method_||\n",
    "|`difference`|차집합|*set*.`set.difference`(*set*)|*set*|*set*의 _method_||\n",
    "|`symmetric_difference`|대칭차집합|*set*.`set.symmetric_difference`(*set*)|*set*|*set*의 _method_||\n",
    "|`update`|합집합|*set*.`update`(*set*)|x|*set*의 _method_||\n",
    "|`intersection`|교집합|*set*.`intersection_update`(*set*)|x|*set*의 _method_||\n",
    "|`difference`|차집합|*set*.`difference_update`(*set*)|x|*set*의 _method_||\n",
    "|`symmetric_difference`|차집합|*set*.`symmetric_difference_update`(*set*)|x|*set*의 _method_||\n",
    "|`<=`|부분집합|*set* `<=` *set*|*bool*|연산자||\n",
    "|`>=`|포함집합|*set* `>=` *set*|*bool*|연산자||\n",
    "|`<`|진부분집합|*set* `<` *set*|*bool*|연산자||\n",
    "|`>`|진포함집합|*set* `>` *set*|*bool*|연산자||\n",
    "|`isdisjoint`|서로소|*set*.`isdisjoint`(*set*)|*bool*|*set*의 _method_||\n",
    "|`add`|특정 요소를 추가한다.|*set*.`add`(ele)|x|*set*의 _method_||\n",
    "|`remove`|특정 요소를 삭제한다.|*set*.`remove`(ele)|x|*set*의 _method_|특정 요소가 없을시 에러|\n",
    "|`discard`|특정 요소를 삭제한다.|*set*.`discard`(ele)|x|*set*의 _method_|특정 요소가 없어도 넘어감|\n",
    "|`pop`|임의의(맨 처음) 요소를 삭제한다.|*set*.`pop`()|삭제된 요소|*set*의 _method_||\n",
    "|`clear`|모든 요소를 삭제한다.|*set*.`clear`()||*set*의 _method_||\n",
    "|`len`|요소의 개수를 구한다.|`len`(*set*)||_function_||"
   ]
  },
  {
   "cell_type": "code",
   "execution_count": 622,
   "id": "73a041c2",
   "metadata": {},
   "outputs": [
    {
     "name": "stdout",
     "output_type": "stream",
     "text": [
      "<method 'union' of 'set' objects> <class 'method_descriptor'>\n",
      "<method 'update' of 'set' objects> <class 'method_descriptor'>\n",
      "<class 'bool'>\n",
      "<built-in function len> <class 'builtin_function_or_method'>\n"
     ]
    }
   ],
   "source": [
    "print(set.union, type(set.union))\n",
    "print(set.update, type(set.update))\n",
    "print(type(2==3))\n",
    "print(len, type(len))"
   ]
  },
  {
   "cell_type": "markdown",
   "id": "8538b5a2",
   "metadata": {},
   "source": [
    "## 26.1. 세트 만들기"
   ]
  },
  {
   "cell_type": "code",
   "execution_count": 356,
   "id": "b660600f",
   "metadata": {},
   "outputs": [
    {
     "name": "stdout",
     "output_type": "stream",
     "text": [
      "{'a', 'b', 'c'}\n",
      "{'a', 'b', 'c'}\n",
      "{'a', 'b', 'c'}\n",
      "False\n",
      "False\n",
      "False\n",
      "True\n",
      "True\n",
      "True\n",
      "140141432308896\n",
      "140141432310464\n",
      "140141432308448\n"
     ]
    }
   ],
   "source": [
    "A = {'a', 'b', 'c'}\n",
    "B = {'a', 'c', 'b'} # mixed\n",
    "C = {'a', 'b', 'c', 'c'} # repeated\n",
    "print(A)\n",
    "print(B)\n",
    "print(C)\n",
    "print(A is B)\n",
    "print(A is C)\n",
    "print(B is C)\n",
    "print(A == B)\n",
    "print(A == C)\n",
    "print(B == C)\n",
    "print(id(A))\n",
    "print(id(B))\n",
    "print(id(C))"
   ]
  },
  {
   "cell_type": "markdown",
   "id": "2ddce2c3",
   "metadata": {},
   "source": [
    "수학에서의 **set**과 마찬가지로 순서가 바뀌어도 서로 같다 (`A == B`) 중복된 요소가 존재해도 여전히 같다 (`A == C`)\n",
    "하지만 완전한 의미에서 같은 것은 아니다. (`not A is B`, `not A is C`)"
   ]
  },
  {
   "cell_type": "markdown",
   "id": "559a8aad",
   "metadata": {},
   "source": [
    "<font color = red> 이상한 점</font> :\n",
    "\n",
    "교재에 따르면\n",
    "> 세트는 요소의 순서가 정해져 있지 않습니다(unordered). 따라서 세트를 출력해보면 매번 요소의 순서가 다르게 나옵니다.\n",
    "\n",
    "라고 되어 있다.\n",
    "하지만 실제로 `A`를 여러번 출력한다고 하더라도 순서는 일정하게 나온다."
   ]
  },
  {
   "cell_type": "markdown",
   "id": "96701a3a",
   "metadata": {},
   "source": [
    "### 26.1.1. 세트에 특정 값이 있는지 확인하기"
   ]
  },
  {
   "cell_type": "code",
   "execution_count": 358,
   "id": "e5507771",
   "metadata": {},
   "outputs": [
    {
     "name": "stdout",
     "output_type": "stream",
     "text": [
      "True\n",
      "False\n"
     ]
    }
   ],
   "source": [
    "A = {'a', 'b', 'c'}\n",
    "print('a' in A)\n",
    "print(a in A)"
   ]
  },
  {
   "cell_type": "markdown",
   "id": "9a2fd2ff",
   "metadata": {},
   "source": [
    "### 26.1.2. 반복가능한 객체를 사용하여 세트 만들기"
   ]
  },
  {
   "cell_type": "markdown",
   "id": "fff23777",
   "metadata": {},
   "source": [
    "반복가능한 객체(iterable object, e.g. `str`, `list`, `dict`, `set`, `range`)로 `set`을 만들 수 있다.\n",
    " - 위 subsubsection의 제목은 원래 '26.1.2  set를 사용하여 세트 만들기'였다. 이것을 옳게 바꾸었다."
   ]
  },
  {
   "cell_type": "code",
   "execution_count": 365,
   "id": "4f2b67b2",
   "metadata": {},
   "outputs": [
    {
     "name": "stdout",
     "output_type": "stream",
     "text": [
      "{'h', 't', 'o', 'y', 'n', 'P'}\n"
     ]
    }
   ],
   "source": [
    "P = 'Python'\n",
    "print(set(P))"
   ]
  },
  {
   "cell_type": "code",
   "execution_count": 368,
   "id": "ac42be75",
   "metadata": {},
   "outputs": [
    {
     "name": "stdout",
     "output_type": "stream",
     "text": [
      "{0, 1, 2, 3, 4}\n"
     ]
    }
   ],
   "source": [
    "R = range(5)\n",
    "print(set(R))"
   ]
  },
  {
   "cell_type": "code",
   "execution_count": 369,
   "id": "3d86be4c",
   "metadata": {},
   "outputs": [
    {
     "name": "stdout",
     "output_type": "stream",
     "text": [
      "set()\n"
     ]
    }
   ],
   "source": [
    "E = set()\n",
    "print(E)"
   ]
  },
  {
   "cell_type": "markdown",
   "id": "8ce94ece",
   "metadata": {},
   "source": [
    "이것은 공집합처럼 생각해도 되는 것 같다."
   ]
  },
  {
   "cell_type": "markdown",
   "id": "f4dcc88d",
   "metadata": {},
   "source": [
    "## 26.2. 집합 연산 사용하기"
   ]
  },
  {
   "cell_type": "code",
   "execution_count": 597,
   "id": "b583d5f4",
   "metadata": {},
   "outputs": [
    {
     "name": "stdout",
     "output_type": "stream",
     "text": [
      "{1, 2, 3, 4, 5, 6}\n",
      "{1, 2, 3, 4, 5, 6}\n",
      "{3, 4}\n",
      "{3, 4}\n",
      "{1, 2}\n",
      "{1, 2}\n",
      "{1, 2, 5, 6}\n",
      "{1, 2, 5, 6}\n"
     ]
    }
   ],
   "source": [
    "A = {1,2,3,4}\n",
    "B = {3,4,5,6}\n",
    "print(A|B)\n",
    "print(set.union(A,B))\n",
    "print(A&B)\n",
    "print(set.intersection(A,B))\n",
    "print(A-B)\n",
    "print(set.difference(A,B))\n",
    "print(A^B)\n",
    "print(set.symmetric_difference(A,B))"
   ]
  },
  {
   "cell_type": "markdown",
   "id": "9a19769a",
   "metadata": {},
   "source": [
    "이전에 품었던 의문인`3^5=6`이 해결되었다.\n",
    "그때 연수님께서 저 `^` 연산이 비트연산자(bitwise operator, XOR)에 해당된다고 말씀하신 적이 있는데, 이것은 정확하게 대칭차집합(symmetric difference)에 대응된다.\n",
    "\n",
    "- `3^5=6`\n",
    "|base 10||base 2|base 2|base 2|\n",
    "|-||-|-|-|\n",
    "|3||0|1|1|\n",
    "|5||1|0|1|\n",
    "|-||-|-|-|\n",
    "|6||1|1|0|"
   ]
  },
  {
   "cell_type": "code",
   "execution_count": 382,
   "id": "ee0b2998",
   "metadata": {},
   "outputs": [
    {
     "data": {
      "text/plain": [
       "6"
      ]
     },
     "execution_count": 382,
     "metadata": {},
     "output_type": "execute_result"
    }
   ],
   "source": [
    "3^5"
   ]
  },
  {
   "cell_type": "markdown",
   "id": "ce59a577",
   "metadata": {},
   "source": [
    "즉, `^`는 두 집합 사이의 연산이기도 하면서 두 숫자 사이의 연산이기도 하다.\n",
    "혹시 그렇다면, 숫자나 문자열, 리스트 사이에 '교집합', '합집합', '차집합'이 성립할까?"
   ]
  },
  {
   "cell_type": "code",
   "execution_count": 405,
   "id": "4cea9bde",
   "metadata": {},
   "outputs": [
    {
     "name": "stdout",
     "output_type": "stream",
     "text": [
      "7\n",
      "1\n",
      "2\n",
      "6\n"
     ]
    }
   ],
   "source": [
    "print(5|3)\n",
    "print(5&3)\n",
    "print(5-3)\n",
    "print(5^3)\n",
    "# print('analysis'|'calculus') # TypeError: unsupported operand type(s) for |: 'str' and 'str'\n",
    "# print('analysis'&'calculus') # TypeError: unsupported operand type(s) for &: 'str' and 'str'\n",
    "# print('analysis'-'calculus') # TypeError: unsupported operand type(s) for -: 'str' and 'str'\n",
    "# print('analysis'^'calculus') # TypeError: unsupported operand type(s) for ^: 'str' and 'str'\n",
    "# print([1,2]|[1,3]) # TypeError: unsupported operand type(s) for |: 'list' and 'list'\n",
    "# print([1,2]&[1,3]) # TypeError: unsupported operand type(s) for &: 'list' and 'list'\n",
    "# print([1,2]-[1,3]) # TypeError: unsupported operand type(s) for -: 'list' and 'list'\n",
    "# print([1,2]^[1,3]) # TypeError: unsupported operand type(s) for ^: 'list' and 'list'"
   ]
  },
  {
   "cell_type": "markdown",
   "id": "40bc8264",
   "metadata": {},
   "source": [
    "두 숫자에 대하여 `|`와 `&`가 bitwise(?)한 or gate / and gate를 나타내는 것 같다.\n",
    "\n",
    "- `5|3=7`\n",
    "|base 10||base 2|base 2|base 2|\n",
    "|-||-|-|-|\n",
    "|5||1|0|1|\n",
    "|3||0|1|1|\n",
    "|-||-|-|-|\n",
    "|7||1|1|1|\n",
    "\n",
    "- `5&3=1`\n",
    "|base 10||base 2|base 2|base 2|\n",
    "|-||-|-|-|\n",
    "|5||1|0|1|\n",
    "|3||0|1|1|\n",
    "|-||-|-|-|\n",
    "|1||0|0|1|\n",
    "\n",
    "`-`는 평소에 쓰던 정수의 뺄셈 연산이라고 생각할 수 있다.\n",
    "이것이 bitwise(?)한 difference gate와도 일치할 것만 같기도 하다.\n",
    "실제로 일치하는지를 살펴보면\n",
    "\n",
    "- `5-3=2`\n",
    "|base 10||base 2|base 2|base 2|\n",
    "|-||-|-|-|\n",
    "|5||1|0|1|\n",
    "|3||0|1|1|\n",
    "|-||-|-|-|\n",
    "|1||0|1|0|\n",
    "\n",
    "이 된다.\n",
    "즉, bitwise difference와 일치하는 것 같다.\n",
    "\n",
    "\n",
    "참고 :\n",
    "\\begin{align*}\n",
    "a\\text{ and }b&\\leftrightarrow A\\cap B\\\\\n",
    "a\\text{ or }b&\\leftrightarrow A\\cup B\\\\\n",
    "a-b\\equiv a\\text{ and } \\neg b&\\leftrightarrow A\\setminus B=A\\cap B^c\\\\\n",
    "a\\wedge b\\equiv (a\\text{ or }b)\\setminus(a\\text{ and }b)\\equiv(a\\setminus b)\\text{ or }(b\\setminus a)&\\leftrightarrow A\\ominus B = (A\\cup B)\\setminus(A\\cap B)=(A\\setminus B)\\cup(B\\setminus A)\n",
    "\\end{align*}\n"
   ]
  },
  {
   "cell_type": "markdown",
   "id": "8cf56ae4",
   "metadata": {},
   "source": [
    "### 26.2.1. 집합 연산 후 할당 연산자 사용하기"
   ]
  },
  {
   "cell_type": "code",
   "execution_count": 601,
   "id": "1ceae92c",
   "metadata": {},
   "outputs": [
    {
     "name": "stdout",
     "output_type": "stream",
     "text": [
      "{1, 2, 3, 4}\n",
      "{1, 2, 3, 4}\n"
     ]
    }
   ],
   "source": [
    "A = {1, 2, 3}\n",
    "A |={3,4}\n",
    "print(A)\n",
    "A = {1, 2, 3}\n",
    "A.update({3,4})\n",
    "print(A)"
   ]
  },
  {
   "cell_type": "code",
   "execution_count": 417,
   "id": "26829872",
   "metadata": {},
   "outputs": [
    {
     "name": "stdout",
     "output_type": "stream",
     "text": [
      "{3}\n"
     ]
    }
   ],
   "source": [
    "A = {1, 2, 3}\n",
    "A &={3,4}\n",
    "print(A)\n",
    "A = {1, 2, 3}\n",
    "A.intersection_update({3,4})\n",
    "print(A)"
   ]
  },
  {
   "cell_type": "code",
   "execution_count": 421,
   "id": "914eb20c",
   "metadata": {},
   "outputs": [
    {
     "name": "stdout",
     "output_type": "stream",
     "text": [
      "{1, 2}\n",
      "{1, 2}\n"
     ]
    }
   ],
   "source": [
    "A = {1, 2, 3}\n",
    "A -={3,4}\n",
    "print(A)\n",
    "A = {1, 2, 3}\n",
    "A.difference_update({3,4})\n",
    "print(A)"
   ]
  },
  {
   "cell_type": "code",
   "execution_count": 423,
   "id": "59bac367",
   "metadata": {},
   "outputs": [
    {
     "name": "stdout",
     "output_type": "stream",
     "text": [
      "{1, 2, 4}\n",
      "{1, 2, 4}\n"
     ]
    }
   ],
   "source": [
    "A = {1, 2, 3}\n",
    "A ^={3,4}\n",
    "print(A)\n",
    "A = {1, 2, 3}\n",
    "A.symmetric_difference_update({3,4})\n",
    "print(A)"
   ]
  },
  {
   "cell_type": "markdown",
   "id": "2c5427a9",
   "metadata": {},
   "source": [
    "### 26.2.2. 부분집합과 상위집합 확인하기"
   ]
  },
  {
   "cell_type": "markdown",
   "id": "bfcc50bc",
   "metadata": {},
   "source": [
    "### 26.2.3. 세트가 같은지 다른지 확인하기"
   ]
  },
  {
   "cell_type": "markdown",
   "id": "5663b2bc",
   "metadata": {},
   "source": [
    "여기서 상위집합은 superset의 번역이다.\n",
    "superset은 사전에 따라, 문헌에 따라 다르게 번역되는 듯 보이지만 [대한수학회](https://www.kms.or.kr/mathdict/list.html?start=930&sort=ename&key=&keyword=&alpa=S)에 따르면 '포함집합'이라고 번역하는 것이 맞을 듯하다. (\\*는 위 링크에 없긴 하다.)\n",
    "\n",
    "|한국어|영어|기호|$\\TeX$ 명령어|\n",
    "|:-:|:-:|:-:|:-:|\n",
    "|부분집합|subset|$\\subset$|\\subset|\n",
    "|진부분집합|proper subset|$\\subsetneq$|\\subsetneq|\n",
    "|포함집합|superset|$\\supset$|\\supset|\n",
    "|진포함집합|proper superset|$\\supsetneq$|\\supsetneq|\n"
   ]
  },
  {
   "cell_type": "code",
   "execution_count": 438,
   "id": "4dd704ef",
   "metadata": {},
   "outputs": [],
   "source": [
    "A = {1, 2, 3}\n",
    "B = {1, 2}\n",
    "C = {1, 2, 3, 4}\n",
    "D = {1, 2, 3}"
   ]
  },
  {
   "cell_type": "code",
   "execution_count": 439,
   "id": "d64b6c77",
   "metadata": {},
   "outputs": [
    {
     "name": "stdout",
     "output_type": "stream",
     "text": [
      "True False\n"
     ]
    }
   ],
   "source": [
    "print(A==D, A is D)"
   ]
  },
  {
   "cell_type": "code",
   "execution_count": 453,
   "id": "3fd6870b",
   "metadata": {},
   "outputs": [
    {
     "data": {
      "text/plain": [
       "('%-10s', 'python    ', 'calculus')"
      ]
     },
     "execution_count": 453,
     "metadata": {},
     "output_type": "execute_result"
    }
   ],
   "source": [
    "'%-10s', '%-10s' % 'python', 'calculus'"
   ]
  },
  {
   "cell_type": "code",
   "execution_count": 474,
   "id": "46f80188",
   "metadata": {},
   "outputs": [
    {
     "name": "stdout",
     "output_type": "stream",
     "text": [
      "                 B     C     D\n",
      "      subset     0     1     1\n",
      "   subsetneq     0     1     0\n",
      "      supset     1     0     1\n",
      "   supsetneq     1     0     0\n"
     ]
    }
   ],
   "source": [
    "print('{:>12}{:>6}{:>6}{:>6}'.format('','B','C','D'))\n",
    "print('{:>12}{:>6}{:>6}{:>6}'.format('subset',A<=B,A<=C,A<=D))\n",
    "print('{:>12}{:>6}{:>6}{:>6}'.format('subsetneq',A<B,A<C,A<D))\n",
    "print('{:>12}{:>6}{:>6}{:>6}'.format('supset',A>=B,A>=C,A>=D))\n",
    "print('{:>12}{:>6}{:>6}{:>6}'.format('supsetneq',A>B,A>C,A>D))"
   ]
  },
  {
   "cell_type": "markdown",
   "id": "d8ca80b9",
   "metadata": {},
   "source": [
    " - 위의 코드에서 `0`은 `False`, `1`은 `True`\n",
    "   - 부등식 `A<=B`는 `boolean` 형식으로 출력되는데, `print` 내부에 있어서 그런가 0/1로 표시되고 있다.\n",
    "   - 각각의 부등식을 `bool()`로 감싸도 `boolean` 형식으로 출력되지 않는다.\n",
    " - 좀 보기 쉽게 만들기 위해서 표 형식으로 출력해봤는데, 영 별로인 것 같다.\n",
    " - 그래도 전단원에서 배운 `{:>12}`를 적용했다는 데에는 의미가 있다."
   ]
  },
  {
   "cell_type": "markdown",
   "id": "df267750",
   "metadata": {},
   "source": [
    "### 26.2.4. 세트가 겹치지 않는지 확인하기"
   ]
  },
  {
   "cell_type": "markdown",
   "id": "e9707734",
   "metadata": {},
   "source": [
    "두 집합의 서로소"
   ]
  },
  {
   "cell_type": "code",
   "execution_count": 478,
   "id": "d001f33f",
   "metadata": {},
   "outputs": [
    {
     "name": "stdout",
     "output_type": "stream",
     "text": [
      "False\n",
      "False\n",
      "True\n",
      "True\n"
     ]
    }
   ],
   "source": [
    "A = {1, 2, 3}\n",
    "B = {3, 4}\n",
    "C = {4, 5}\n",
    "print(A.isdisjoint(B))\n",
    "print(B.isdisjoint(A))\n",
    "print(A.isdisjoint(C))\n",
    "print(C.isdisjoint(A))"
   ]
  },
  {
   "cell_type": "markdown",
   "id": "a74c9b56",
   "metadata": {},
   "source": [
    "여기서는 두 집합의 서로소, 그러니까 pairwise disjoint 개념을 이야기하고 있다.\n",
    "세 집합 이상일 때의 mutual disjoint 개념을 나타내는 명령어가 존재할 지도 모르겠다."
   ]
  },
  {
   "cell_type": "markdown",
   "id": "64dcfe0e",
   "metadata": {},
   "source": [
    "## 26.3. 세트 조작하기"
   ]
  },
  {
   "cell_type": "markdown",
   "id": "2f21d37c",
   "metadata": {},
   "source": [
    "### 26.3.1. 세트에 요소 추가하기"
   ]
  },
  {
   "cell_type": "code",
   "execution_count": 481,
   "id": "1b18269a",
   "metadata": {},
   "outputs": [
    {
     "name": "stdout",
     "output_type": "stream",
     "text": [
      "{1, 2, 3, 4, 5}\n"
     ]
    }
   ],
   "source": [
    "A = {1,2,3,4}\n",
    "A.add(5)\n",
    "print(A)"
   ]
  },
  {
   "cell_type": "markdown",
   "id": "e72c7729",
   "metadata": {},
   "source": [
    "### 26.3.2. 세트에서 특정 요소를 삭제하기"
   ]
  },
  {
   "cell_type": "code",
   "execution_count": 611,
   "id": "335f4a6d",
   "metadata": {},
   "outputs": [
    {
     "name": "stdout",
     "output_type": "stream",
     "text": [
      "{1, 2, 4}\n"
     ]
    }
   ],
   "source": [
    "A = {1,2,3,4}\n",
    "A.remove(3)\n",
    "print(A)\n",
    "# A = {1,2,3,4}\n",
    "# A.remove(5) # KeyError: 5\n",
    "# print(A)"
   ]
  },
  {
   "cell_type": "code",
   "execution_count": 613,
   "id": "8e7025a0",
   "metadata": {},
   "outputs": [
    {
     "name": "stdout",
     "output_type": "stream",
     "text": [
      "{1, 2, 4}\n",
      "{1, 2, 3, 4}\n"
     ]
    }
   ],
   "source": [
    "A = {1,2,3,4}\n",
    "A.discard(3)\n",
    "print(A)\n",
    "A = {1,2,3,4}\n",
    "A.discard(5)\n",
    "print(A)"
   ]
  },
  {
   "cell_type": "markdown",
   "id": "89d4ae3c",
   "metadata": {},
   "source": [
    "### 26.3.3. 세트에서 임의의 요소를 삭제하기"
   ]
  },
  {
   "cell_type": "code",
   "execution_count": 616,
   "id": "dd3700ca",
   "metadata": {},
   "outputs": [
    {
     "name": "stdout",
     "output_type": "stream",
     "text": [
      "{2, 3, 4}\n"
     ]
    }
   ],
   "source": [
    "A = {1,2,3,4}\n",
    "A.pop()\n",
    "print(A)"
   ]
  },
  {
   "cell_type": "markdown",
   "id": "97797344",
   "metadata": {},
   "source": [
    "'임의의'라는 말은 잘못되었다.\n",
    "세트의 요소들 중 가장 작은 요소 (혹은, 아마도 맨 처음 요소)를 삭제하는 것 같다."
   ]
  },
  {
   "cell_type": "markdown",
   "id": "c6f9b27f",
   "metadata": {},
   "source": [
    "### 26.3.4. 세트의 모든 요소 삭제하기"
   ]
  },
  {
   "cell_type": "code",
   "execution_count": 620,
   "id": "8a63bc9b",
   "metadata": {},
   "outputs": [
    {
     "name": "stdout",
     "output_type": "stream",
     "text": [
      "set()\n"
     ]
    }
   ],
   "source": [
    "A = {1,2,3,4}\n",
    "A.clear()\n",
    "print(A)"
   ]
  },
  {
   "cell_type": "markdown",
   "id": "fed1141f",
   "metadata": {},
   "source": [
    "### 26.3.5. 세트의 요소 개수 구하기"
   ]
  },
  {
   "cell_type": "markdown",
   "id": "5cdd5b01",
   "metadata": {},
   "source": [
    "cardinality"
   ]
  },
  {
   "cell_type": "code",
   "execution_count": 621,
   "id": "d50291e1",
   "metadata": {},
   "outputs": [
    {
     "name": "stdout",
     "output_type": "stream",
     "text": [
      "4\n"
     ]
    }
   ],
   "source": [
    "A = {1,2,3,4}\n",
    "print(len(A))"
   ]
  },
  {
   "cell_type": "markdown",
   "id": "fd8eebca",
   "metadata": {},
   "source": [
    "## 26.4. 세트의 할당과 복사\n",
    "딕셔너리, 리스트에서와 원리가 같다."
   ]
  },
  {
   "cell_type": "code",
   "execution_count": 508,
   "id": "28fa518c",
   "metadata": {},
   "outputs": [],
   "source": [
    "A = {1,2,3,4}\n",
    "B = A\n",
    "C = A.copy()"
   ]
  },
  {
   "cell_type": "markdown",
   "id": "421cf17b",
   "metadata": {},
   "source": [
    "- `B`는 `A`를 그대로 할당한 것이고\n",
    "- `C`는 `A`를 복사한 것이다."
   ]
  },
  {
   "cell_type": "code",
   "execution_count": 509,
   "id": "bdfd2263",
   "metadata": {},
   "outputs": [
    {
     "name": "stdout",
     "output_type": "stream",
     "text": [
      "True True\n",
      "True False\n"
     ]
    }
   ],
   "source": [
    "print(B == A, B is A)\n",
    "print(C == A, C is A)"
   ]
  },
  {
   "cell_type": "markdown",
   "id": "0880b36c",
   "metadata": {},
   "source": [
    " - 할당한 변수 `B`는 원래 변수 `A`와 완전히 같다.\n",
    " - 하지만 복사한 변수 `C`는 원래 변수 `A`와 값은 같지만 주소까지 같지는 않다."
   ]
  },
  {
   "cell_type": "code",
   "execution_count": 511,
   "id": "10799ef7",
   "metadata": {},
   "outputs": [
    {
     "name": "stdout",
     "output_type": "stream",
     "text": [
      "True True\n",
      "False False\n"
     ]
    }
   ],
   "source": [
    "A.add(5)\n",
    "print(B == A, B is A)\n",
    "print(C == A, C is A)"
   ]
  },
  {
   "cell_type": "markdown",
   "id": "59e68dba",
   "metadata": {},
   "source": [
    "- `A`에 `1`을 추가하면\n",
    "- `B`에도 `1`이 추가되지만\n",
    "- `C`에는 `1`이 추가되지 않는다.\n",
    "\n",
    "즉, `A`와 독립된 변수 `C`를 만들려면 단순히 *할당*만 해서는 안되고 **복사**해야 한다."
   ]
  },
  {
   "cell_type": "code",
   "execution_count": 502,
   "id": "876fc27b",
   "metadata": {},
   "outputs": [],
   "source": [
    "A = {1,2,3,4}\n",
    "B = A\n",
    "C = A.copy()"
   ]
  },
  {
   "cell_type": "markdown",
   "id": "93a8f404",
   "metadata": {},
   "source": [
    "## 26.5. 반복문으로 세트의 요소 모두 출력하기"
   ]
  },
  {
   "cell_type": "code",
   "execution_count": 512,
   "id": "eb4bd054",
   "metadata": {},
   "outputs": [
    {
     "name": "stdout",
     "output_type": "stream",
     "text": [
      "1\n",
      "2\n",
      "3\n",
      "4\n"
     ]
    }
   ],
   "source": [
    "A = {1,2,3,4}\n",
    "for a in A:\n",
    "    print(a)"
   ]
  },
  {
   "cell_type": "markdown",
   "id": "0651fd79",
   "metadata": {},
   "source": [
    "## 26.6. 세트 표현식 사용하기"
   ]
  },
  {
   "cell_type": "code",
   "execution_count": 514,
   "id": "b412daf0",
   "metadata": {},
   "outputs": [
    {
     "name": "stdout",
     "output_type": "stream",
     "text": [
      "{'l', 'p', 'a', 'e'}\n"
     ]
    }
   ],
   "source": [
    "A = {char for char in 'apple'}\n",
    "print(A)"
   ]
  },
  {
   "cell_type": "markdown",
   "id": "b2d69862",
   "metadata": {},
   "source": [
    "'조건제시법'을 보는 것 같다."
   ]
  },
  {
   "cell_type": "markdown",
   "id": "c75bbb38",
   "metadata": {},
   "source": [
    "### 26.6.1. 세트 표현식에 if 조건문 사용하기"
   ]
  },
  {
   "cell_type": "code",
   "execution_count": 517,
   "id": "9ce12e0d",
   "metadata": {},
   "outputs": [
    {
     "name": "stdout",
     "output_type": "stream",
     "text": [
      "{'i', 'n', 'e'}\n"
     ]
    }
   ],
   "source": [
    "A = {char for char in 'pineapple' if char not in 'apl'}\n",
    "print(A)"
   ]
  },
  {
   "cell_type": "markdown",
   "id": "cfe5a6d5",
   "metadata": {},
   "source": [
    "## 26.7. 퀴즈"
   ]
  },
  {
   "cell_type": "markdown",
   "id": "91c2436c",
   "metadata": {},
   "source": [
    "1번 문제"
   ]
  },
  {
   "cell_type": "code",
   "execution_count": 518,
   "id": "92cb9acc",
   "metadata": {},
   "outputs": [],
   "source": [
    "a = {1,2,3,4,5}\n",
    "b = {}\n",
    "c = set('hello')\n",
    "d = set(range(10))\n",
    "e = set()"
   ]
  },
  {
   "cell_type": "code",
   "execution_count": 545,
   "id": "ce80a7a9",
   "metadata": {
    "scrolled": false
   },
   "outputs": [
    {
     "name": "stdout",
     "output_type": "stream",
     "text": [
      "     print                              print(type)         \n",
      "a    {1, 2, 3, 4, 5}                    <class 'set'>       \n",
      "b    {}                                 <class 'dict'>      \n",
      "c    {'h', 'l', 'o', 'e'}               <class 'set'>       \n",
      "d    {0, 1, 2, 3, 4, 5, 6, 7, 8, 9}     <class 'set'>       \n",
      "e    set()                              <class 'set'>       \n"
     ]
    }
   ],
   "source": [
    "print('{:<5}{:<35}{:<20}'.format('','print','print(type)'))\n",
    "print('{:<5}{:<35}{:<20}'.format('a',str(a),str(type(a))))\n",
    "print('{:<5}{:<35}{:<20}'.format('b',str(b),str(type(b))))\n",
    "print('{:<5}{:<35}{:<20}'.format('c',str(c),str(type(c))))\n",
    "print('{:<5}{:<35}{:<20}'.format('d',str(d),str(type(d))))\n",
    "print('{:<5}{:<35}{:<20}'.format('e',str(e),str(type(e))))"
   ]
  },
  {
   "cell_type": "markdown",
   "id": "ede55901",
   "metadata": {},
   "source": [
    "5번 문제"
   ]
  },
  {
   "cell_type": "code",
   "execution_count": 555,
   "id": "7c240fed",
   "metadata": {},
   "outputs": [
    {
     "name": "stdout",
     "output_type": "stream",
     "text": [
      "{3}\n",
      "{3}\n"
     ]
    }
   ],
   "source": [
    "# 1번 : 같다\n",
    "A = {1,2,3}\n",
    "B = {3,4}\n",
    "print(set.intersection(A,B))\n",
    "print(A&B)"
   ]
  },
  {
   "cell_type": "markdown",
   "id": "ffe4612b",
   "metadata": {},
   "source": [
    " - `set.intsersection`은 `set` 클래스의 매서드이다.\n",
    " - `&`는 잘 모르겠지만 연산자인 것 같다.\n",
    "   - 수학 용어로 말하면 '이항연산(binary operation)'이라고는 말할 수 있다."
   ]
  },
  {
   "cell_type": "code",
   "execution_count": 565,
   "id": "6d8881c7",
   "metadata": {},
   "outputs": [
    {
     "name": "stdout",
     "output_type": "stream",
     "text": [
      "{1, 2, 3, 4}\n",
      "{1, 2, 3, 4}\n"
     ]
    }
   ],
   "source": [
    "# 2번 : 같다\n",
    "A = {1,2,3}\n",
    "B = {3,4}\n",
    "A.update(B)\n",
    "print(A)\n",
    "A = {1,2,3}\n",
    "B = {3,4}\n",
    "A|=B\n",
    "print(A)"
   ]
  },
  {
   "cell_type": "code",
   "execution_count": 563,
   "id": "dd75a8e3",
   "metadata": {},
   "outputs": [
    {
     "name": "stdout",
     "output_type": "stream",
     "text": [
      "<method 'update' of 'set' objects>\n"
     ]
    }
   ],
   "source": [
    "print(set.update)"
   ]
  },
  {
   "cell_type": "markdown",
   "id": "f81eb18a",
   "metadata": {},
   "source": [
    " - `update`는 `set` 클래스의 매서드이다.\n",
    " - `|=`는 잘 모르겠지만 이것도 연산자인 것 같다.\n",
    "   - 이것도 이항연산이라고 해야 할까? 모르겠다."
   ]
  },
  {
   "cell_type": "code",
   "execution_count": 569,
   "id": "fb7342e8",
   "metadata": {},
   "outputs": [
    {
     "name": "stdout",
     "output_type": "stream",
     "text": [
      "{1, 2, 4}\n",
      "{1, 2}\n",
      "{1, 2}\n",
      "{1, 2, 4}\n"
     ]
    }
   ],
   "source": [
    "# 3번 : 다르다\n",
    "A = {1,2,3}\n",
    "B = {3,4}\n",
    "A.symmetric_difference_update(B)\n",
    "print(A)\n",
    "A = {1,2,3}\n",
    "B = {3,4}\n",
    "A-=B\n",
    "print(A)\n",
    "A = {1,2,3}\n",
    "B = {3,4}\n",
    "A.difference_update(B)\n",
    "print(A)\n",
    "A = {1,2,3}\n",
    "B = {3,4}\n",
    "A^=B\n",
    "print(A)"
   ]
  },
  {
   "cell_type": "markdown",
   "id": "bc6f49bc",
   "metadata": {},
   "source": [
    " - `symmetric_difference_update`와 `difference_update`도 둘다 `set` 클래스의 매서드이다.\n",
    " - `-=`와 `^=`도 아마 이것도 연산자인 것 같다."
   ]
  },
  {
   "cell_type": "markdown",
   "id": "89ed0c27",
   "metadata": {},
   "source": [
    "## 26.8. 연습문제"
   ]
  },
  {
   "cell_type": "markdown",
   "id": "d2d079db",
   "metadata": {},
   "source": [
    "## 26.9. 심사문제"
   ]
  },
  {
   "cell_type": "markdown",
   "id": "e37e7ed1",
   "metadata": {},
   "source": [
    "10 20"
   ]
  },
  {
   "cell_type": "markdown",
   "id": "340f43c5",
   "metadata": {},
   "source": [
    "100 200"
   ]
  },
  {
   "cell_type": "markdown",
   "id": "e82034f5",
   "metadata": {},
   "source": [
    "\\begin{align*}\n",
    "x|y\n",
    "&\\iff y\\text{ is divisible by } x\\\\\n",
    "&\\iff x\\text{ is a divisor of } y\\\\\n",
    "&\\iff \\text{`x%y==0`}\n",
    "\\end{align*}\n",
    "12 is divisible by 4 since `12%4==0`"
   ]
  },
  {
   "cell_type": "code",
   "execution_count": 575,
   "id": "1a82e813",
   "metadata": {},
   "outputs": [
    {
     "name": "stdout",
     "output_type": "stream",
     "text": [
      "6\n"
     ]
    }
   ],
   "source": [
    "x = 6\n",
    "ax = {i for i in range(1,x) if x % i ==0}\n",
    "print(x)"
   ]
  },
  {
   "cell_type": "code",
   "execution_count": 591,
   "id": "fbc6d016",
   "metadata": {},
   "outputs": [
    {
     "name": "stdout",
     "output_type": "stream",
     "text": [
      "10 20\n",
      "18\n"
     ]
    }
   ],
   "source": [
    "x,y = map(int,input().split())\n",
    "a = {i for i in range(1,x+1) if x % i ==0}\n",
    "b = {i for i in range(1,y+1) if y % i ==0}\n",
    "divisor = a & b\n",
    " \n",
    "result = 0\n",
    "if type(divisor) == set:\n",
    "    result = sum(divisor)\n",
    " \n",
    "print(result)"
   ]
  }
 ],
 "metadata": {
  "kernelspec": {
   "display_name": "Python 3 (ipykernel)",
   "language": "python",
   "name": "python3"
  },
  "language_info": {
   "codemirror_mode": {
    "name": "ipython",
    "version": 3
   },
   "file_extension": ".py",
   "mimetype": "text/x-python",
   "name": "python",
   "nbconvert_exporter": "python",
   "pygments_lexer": "ipython3",
   "version": "3.9.7"
  }
 },
 "nbformat": 4,
 "nbformat_minor": 5
}
