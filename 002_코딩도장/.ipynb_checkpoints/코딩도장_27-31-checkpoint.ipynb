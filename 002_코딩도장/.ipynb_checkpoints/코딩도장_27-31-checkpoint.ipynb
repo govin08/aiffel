{
 "cells": [
  {
   "cell_type": "markdown",
   "id": "066a88e3",
   "metadata": {},
   "source": [
    "# 24. 문자열 응용하기"
   ]
  },
  {
   "cell_type": "markdown",
   "id": "e9c9e8ec",
   "metadata": {},
   "source": [
    "- string\n",
    "- `str`"
   ]
  },
  {
   "cell_type": "markdown",
   "id": "454f7c3a",
   "metadata": {},
   "source": [
    "## 24.1. 문자열 조작하기"
   ]
  },
  {
   "cell_type": "markdown",
   "id": "6ea27fbe",
   "metadata": {},
   "source": [
    "문자열과 관련한 여러 매서드들이 있다.\n",
    "\n",
    "|매서드|설명|문법|반환|분류|비고|\n",
    "|:-:|:-:|:-:|:-:|:-:|:-:|\n",
    "|`replace`|문자열을 바꾼다.|*str*.`replace`(*str*,*str*)|*str*|*str*의 _method_||\n",
    "|`maketrans`|translation을 하나 만든다.|<font color=green>**str**</font>.`maketrnas`(*str*,*str*)|*dict*|*type*의 _method_||\n",
    "|`translate`|translation을 적용한다.|*str*.`translate`(name)|*str*|*str*의 _method_||\n",
    "|`split`|공백을 기준으로 문자열을 분리하여 리스트를 만든다.|*str*.`split`()|*list*|*str*의 _method_|공백->특정문자열|\n",
    "|`join`|구분자 문자열과 문자열 리스트의 요소들을 연결하여 문자열로 만든다.|*str*.`join`(*list*)|*str*|*str*의 _method_||\n",
    "|`upper`|모든 소문자를 대문자로 바군다.|*str*.`upper`()|*str*|*str*의 _method_||\n",
    "|`lower`|모든 대문자를 소문자로 바꾼다.|*str*.`lower`()|*str*|*str*의 _method_||\n",
    "|`lstrip`|왼쪽 공백을 삭제한다.|*str*.ll`lstrip`()|*str*|*str*의 _method_|공백->특정문자열|\n",
    "|`rstrip`|오른쪽 공백을 삭제한다.|*str*.`rstrip`()|*str*|*str*의 _method_|공백->특정문자열|\n",
    "|`strip`|모든 공백을 삭제한다.|*str*.l`strip`()|*str*|*str*의 _method_|공백->특정문자열|\n",
    "|`ljust`|주어진 문자열을 왼쪽 정렬하고 나머지는 공백으로 채운다.|*str*.`ljust`(*int*) |*str*|*str*의 _method_||\n",
    "|`rjust`|주어진 문자열을 오른쪽 정렬하고 나머지는 공백으로 채운다.|*str*.`rjust`(*int*) |*str*|*str*의 _method_||\n",
    "|`center`|주어진 문자열을 가운데 정렬하고 나머지는 공백으로 채운다.|*str*.`center`(*int*) |*str*|*str*의 _method_||\n",
    "|`zfill`|주어진 문자열을 왼쪽 정렬하고 나머지는 공백으로 채운다.|*str*.`zfill`(*int*) |*str*|*str*의 _method_||\n",
    "|`find`(*str*), `index`(*str*)|해당 문자열 안에 특정 문자열의 위치를 (왼쪽부터) 찾는다.|*str*.`find`(*str*)|*int*|*str*의 _method_||\n",
    "|`rfind`(*str*), `rindex`(*str*)|해당 문자열 안에 특정 문자열의 위치를 (오른쪽부터) 찾는다.|*str*.`rfind`(*str*)|*int*|*str*의 _method_||\n",
    "|`count`(*str*)|해당 문자열 안에 특정 문자열의 개수를 센다.|*str*.`count`(*str*)|*int*|*str*의 _method_||"
   ]
  },
  {
   "cell_type": "markdown",
   "id": "81cb5aff",
   "metadata": {},
   "source": [
    "### 24.1.1 문자열 바꾸기"
   ]
  },
  {
   "cell_type": "markdown",
   "id": "fd5587c6",
   "metadata": {},
   "source": [
    "`replace` : 문자열을 바꾼다."
   ]
  },
  {
   "cell_type": "code",
   "execution_count": 1,
   "id": "b8a4a775",
   "metadata": {},
   "outputs": [
    {
     "data": {
      "text/plain": [
       "'Hello, python!'"
      ]
     },
     "execution_count": 1,
     "metadata": {},
     "output_type": "execute_result"
    }
   ],
   "source": [
    "'Hello, world!'.replace('world','python')"
   ]
  },
  {
   "cell_type": "code",
   "execution_count": 21,
   "id": "d197cfea",
   "metadata": {},
   "outputs": [
    {
     "name": "stdout",
     "output_type": "stream",
     "text": [
      "Hello world!\n"
     ]
    }
   ],
   "source": [
    "s = 'Hello world!'\n",
    "s.replace('world','python')\n",
    "print(s)"
   ]
  },
  {
   "cell_type": "code",
   "execution_count": 26,
   "id": "e6cab4d0",
   "metadata": {},
   "outputs": [
    {
     "name": "stdout",
     "output_type": "stream",
     "text": [
      "<method 'replace' of 'str' objects>\n",
      "<class 'method_descriptor'>\n"
     ]
    }
   ],
   "source": [
    "print(str.replace)\n",
    "print(type(str.replace))"
   ]
  },
  {
   "cell_type": "markdown",
   "id": "6e762c3e",
   "metadata": {},
   "source": [
    "### 24.1.2. 문자 바꾸기"
   ]
  },
  {
   "cell_type": "markdown",
   "id": "7b244a54",
   "metadata": {},
   "source": [
    "- `maketrans` : translation을 하나 만든다.\n",
    "- `translate` : translation을 적용한다."
   ]
  },
  {
   "cell_type": "code",
   "execution_count": 20,
   "id": "b5051d5f",
   "metadata": {},
   "outputs": [
    {
     "data": {
      "text/plain": [
       "'1ppl2'"
      ]
     },
     "execution_count": 20,
     "metadata": {},
     "output_type": "execute_result"
    }
   ],
   "source": [
    "table = str.maketrans('aeiou','12345')\n",
    "'apple'.translate(table)"
   ]
  },
  {
   "cell_type": "code",
   "execution_count": 15,
   "id": "bf78f034",
   "metadata": {},
   "outputs": [
    {
     "name": "stdout",
     "output_type": "stream",
     "text": [
      "{97: 49, 101: 50, 105: 51, 111: 52, 117: 53}\n",
      "<class 'dict'>\n"
     ]
    }
   ],
   "source": [
    "print(table)\n",
    "print(type(table))"
   ]
  },
  {
   "cell_type": "markdown",
   "id": "d4f5a796",
   "metadata": {},
   "source": [
    "<font color=red> 이건 어떤 딕셔너리지? </font>"
   ]
  },
  {
   "cell_type": "code",
   "execution_count": 16,
   "id": "978ec852",
   "metadata": {},
   "outputs": [
    {
     "name": "stdout",
     "output_type": "stream",
     "text": [
      "<class 'str'>\n",
      "<class 'type'>\n"
     ]
    }
   ],
   "source": [
    "print(str)\n",
    "print(type(str))"
   ]
  },
  {
   "cell_type": "code",
   "execution_count": 17,
   "id": "864af4f1",
   "metadata": {},
   "outputs": [
    {
     "name": "stdout",
     "output_type": "stream",
     "text": [
      "<built-in method maketrans of type object at 0x55bd81591d40>\n",
      "<class 'builtin_function_or_method'>\n"
     ]
    }
   ],
   "source": [
    "print(str.maketrans)\n",
    "print(type(str.maketrans))"
   ]
  },
  {
   "cell_type": "code",
   "execution_count": 18,
   "id": "61c57f0f",
   "metadata": {},
   "outputs": [
    {
     "name": "stdout",
     "output_type": "stream",
     "text": [
      "<method 'translate' of 'str' objects>\n",
      "<class 'method_descriptor'>\n"
     ]
    }
   ],
   "source": [
    "print(str.translate)\n",
    "print(type(str.translate))"
   ]
  },
  {
   "cell_type": "code",
   "execution_count": 19,
   "id": "406713f4",
   "metadata": {},
   "outputs": [
    {
     "data": {
      "text/plain": [
       "'1ppl2'"
      ]
     },
     "execution_count": 19,
     "metadata": {},
     "output_type": "execute_result"
    }
   ],
   "source": [
    "# 한줄에 시행해보기\n",
    "'apple'.translate(str.maketrans('aeiou','12345'))"
   ]
  },
  {
   "cell_type": "markdown",
   "id": "30c781d3",
   "metadata": {},
   "source": [
    "### 24.1.3. 문자열 분리하기"
   ]
  },
  {
   "cell_type": "markdown",
   "id": "7f65ac98",
   "metadata": {},
   "source": [
    "`split` : 공백을 기준으로 문자열을 분리하여 리스트를 만든다."
   ]
  },
  {
   "cell_type": "code",
   "execution_count": 23,
   "id": "04008eeb",
   "metadata": {},
   "outputs": [
    {
     "data": {
      "text/plain": [
       "['apple', 'pear', 'grape', 'pineapple', 'orange']"
      ]
     },
     "execution_count": 23,
     "metadata": {},
     "output_type": "execute_result"
    }
   ],
   "source": [
    "'apple pear grape pineapple orange'.split()"
   ]
  },
  {
   "cell_type": "code",
   "execution_count": 29,
   "id": "7518e0de",
   "metadata": {},
   "outputs": [
    {
     "name": "stdout",
     "output_type": "stream",
     "text": [
      "<method 'split' of 'str' objects>\n",
      "<class 'method_descriptor'>\n"
     ]
    }
   ],
   "source": [
    "print(str.split)\n",
    "print(type(str.split))"
   ]
  },
  {
   "cell_type": "markdown",
   "id": "885c38ef",
   "metadata": {},
   "source": [
    "### 24.1.4. 구분자 문자열과 문자열 리스트 연결하기"
   ]
  },
  {
   "cell_type": "markdown",
   "id": "e9cbe8b4",
   "metadata": {},
   "source": [
    "`join` : 구분자 문자열과 문자열 리스트의 요소들을 연결하여 문자열로 만든다."
   ]
  },
  {
   "cell_type": "code",
   "execution_count": 30,
   "id": "63c0c3f7",
   "metadata": {},
   "outputs": [
    {
     "data": {
      "text/plain": [
       "'apple pear grape'"
      ]
     },
     "execution_count": 30,
     "metadata": {},
     "output_type": "execute_result"
    }
   ],
   "source": [
    "' '.join(['apple', 'pear', 'grape'])"
   ]
  },
  {
   "cell_type": "code",
   "execution_count": 31,
   "id": "33324e61",
   "metadata": {},
   "outputs": [
    {
     "data": {
      "text/plain": [
       "'apple1pear1grape'"
      ]
     },
     "execution_count": 31,
     "metadata": {},
     "output_type": "execute_result"
    }
   ],
   "source": [
    "'1'.join(['apple', 'pear', 'grape'])"
   ]
  },
  {
   "cell_type": "code",
   "execution_count": 39,
   "id": "079f7cfd",
   "metadata": {},
   "outputs": [
    {
     "name": "stdout",
     "output_type": "stream",
     "text": [
      "<method 'join' of 'str' objects> <class 'method_descriptor'>\n"
     ]
    }
   ],
   "source": [
    "print(str.join,type(str.join))"
   ]
  },
  {
   "cell_type": "markdown",
   "id": "cea4fed9",
   "metadata": {},
   "source": [
    "### 24.1.5. 소문자를 대문자로 바꾸기\n",
    "### 24.1.6. 대문자를 소문자로 바꾸기"
   ]
  },
  {
   "cell_type": "code",
   "execution_count": 36,
   "id": "7af99ff3",
   "metadata": {},
   "outputs": [
    {
     "data": {
      "text/plain": [
       "'PYTHON'"
      ]
     },
     "execution_count": 36,
     "metadata": {},
     "output_type": "execute_result"
    }
   ],
   "source": [
    "'Python'.upper()"
   ]
  },
  {
   "cell_type": "code",
   "execution_count": 37,
   "id": "48fab9e3",
   "metadata": {},
   "outputs": [
    {
     "data": {
      "text/plain": [
       "'python'"
      ]
     },
     "execution_count": 37,
     "metadata": {},
     "output_type": "execute_result"
    }
   ],
   "source": [
    "'Python'.lower()"
   ]
  },
  {
   "cell_type": "code",
   "execution_count": 38,
   "id": "22693b6e",
   "metadata": {},
   "outputs": [
    {
     "name": "stdout",
     "output_type": "stream",
     "text": [
      "<method 'upper' of 'str' objects> <class 'method_descriptor'>\n",
      "<method 'lower' of 'str' objects> <class 'method_descriptor'>\n"
     ]
    }
   ],
   "source": [
    "print(str.upper,type(str.upper))\n",
    "print(str.lower,type(str.lower))"
   ]
  },
  {
   "cell_type": "markdown",
   "id": "024201da",
   "metadata": {},
   "source": [
    "### 24.1.7. 왼쪽 공백 삭제하기\n",
    "### 24.1.8. 오른쪽 공백 삭제하기\n",
    "### 24.1.9. 양쪽 공백 삭제하기\n",
    "### 24.1.10. 왼쪽의 특정 문자 삭제하기\n",
    "### 24.1.11. 오른쪽의 특정 문자 삭제하기\n",
    "### 24.1.12. 양쪽의 특정 문자 삭제하기"
   ]
  },
  {
   "cell_type": "markdown",
   "id": "ba9ba330",
   "metadata": {},
   "source": [
    "- `lstrip()` : 왼쪽 공백 삭제\n",
    "- `rstrip()` : 오른족 공백 삭제\n",
    "- `strip()` : 양쪽 공백 삭제\n",
    "- `lstrip(str)` : 왼쪽 특정문자 삭제\n",
    "- `rstrip(str)` : 오른쪽 특정문자 삭제\n",
    "- `strip(str)` : 양쪽 특정문자 삭제"
   ]
  },
  {
   "cell_type": "code",
   "execution_count": 45,
   "id": "43e4567c",
   "metadata": {},
   "outputs": [
    {
     "data": {
      "text/plain": [
       "'python  '"
      ]
     },
     "execution_count": 45,
     "metadata": {},
     "output_type": "execute_result"
    }
   ],
   "source": [
    "\" python  \".lstrip()"
   ]
  },
  {
   "cell_type": "code",
   "execution_count": 41,
   "id": "e9ec1ac3",
   "metadata": {},
   "outputs": [
    {
     "data": {
      "text/plain": [
       "' python'"
      ]
     },
     "execution_count": 41,
     "metadata": {},
     "output_type": "execute_result"
    }
   ],
   "source": [
    "\" python  \".rstrip()"
   ]
  },
  {
   "cell_type": "code",
   "execution_count": 42,
   "id": "c036e704",
   "metadata": {},
   "outputs": [
    {
     "data": {
      "text/plain": [
       "'python'"
      ]
     },
     "execution_count": 42,
     "metadata": {},
     "output_type": "execute_result"
    }
   ],
   "source": [
    "\" python  \".strip()"
   ]
  },
  {
   "cell_type": "code",
   "execution_count": 48,
   "id": "d16fb259",
   "metadata": {},
   "outputs": [
    {
     "data": {
      "text/plain": [
       "'python..'"
      ]
     },
     "execution_count": 48,
     "metadata": {},
     "output_type": "execute_result"
    }
   ],
   "source": [
    "\"...python..\".lstrip('.')"
   ]
  },
  {
   "cell_type": "code",
   "execution_count": 49,
   "id": "9b9cfd2b",
   "metadata": {},
   "outputs": [
    {
     "data": {
      "text/plain": [
       "'...python'"
      ]
     },
     "execution_count": 49,
     "metadata": {},
     "output_type": "execute_result"
    }
   ],
   "source": [
    "\"...python..\".rstrip('.')"
   ]
  },
  {
   "cell_type": "code",
   "execution_count": 50,
   "id": "2ec8a688",
   "metadata": {},
   "outputs": [
    {
     "data": {
      "text/plain": [
       "'python'"
      ]
     },
     "execution_count": 50,
     "metadata": {},
     "output_type": "execute_result"
    }
   ],
   "source": [
    "\"...python..\".strip('.')"
   ]
  },
  {
   "cell_type": "code",
   "execution_count": 44,
   "id": "30c9efe5",
   "metadata": {},
   "outputs": [
    {
     "name": "stdout",
     "output_type": "stream",
     "text": [
      "<method 'lstrip' of 'str' objects> <class 'method_descriptor'>\n",
      "<method 'rstrip' of 'str' objects> <class 'method_descriptor'>\n",
      "<method 'strip' of 'str' objects> <class 'method_descriptor'>\n"
     ]
    }
   ],
   "source": [
    "print(str.lstrip,type(str.lstrip))\n",
    "print(str.rstrip,type(str.rstrip))\n",
    "print(str.strip,type(str.strip))"
   ]
  },
  {
   "cell_type": "markdown",
   "id": "5c6b664d",
   "metadata": {},
   "source": [
    "### 24.1.13. 문자열을 왼쪽 정렬하기\n",
    "### 24.1.14. 문자열을 오른쪽 정렬하기\n",
    "### 24.1.15. 문자열을 가운데 정렬하기"
   ]
  },
  {
   "cell_type": "markdown",
   "id": "72347003",
   "metadata": {},
   "source": [
    "- `ljust(int)` : 주어진 문자열을 왼쪽 정렬하고 빈공간은 여백으로 처리.\n",
    "- `rjust(int)` : 주어진 문자열을 오른쪽 정렬하고 빈공간은 여백으로 처리.\n",
    "- `center(int)` : 주어진 문자열을 가운데 정렬하고 빈공간은 여백으로 처리."
   ]
  },
  {
   "cell_type": "code",
   "execution_count": 54,
   "id": "1cc726b5",
   "metadata": {},
   "outputs": [
    {
     "name": "stdout",
     "output_type": "stream",
     "text": [
      "python    \n",
      "    python\n",
      "  python  \n"
     ]
    }
   ],
   "source": [
    "print('python'.ljust(10))\n",
    "print('python'.rjust(10))\n",
    "print('python'.center(10))"
   ]
  },
  {
   "cell_type": "code",
   "execution_count": 55,
   "id": "c654ab13",
   "metadata": {},
   "outputs": [
    {
     "name": "stdout",
     "output_type": "stream",
     "text": [
      "10\n"
     ]
    }
   ],
   "source": [
    "a = 'python'.ljust(10)\n",
    "print(len(a))"
   ]
  },
  {
   "cell_type": "markdown",
   "id": "711819ee",
   "metadata": {},
   "source": [
    "### 24.1.16. 메서드 체이닝"
   ]
  },
  {
   "cell_type": "markdown",
   "id": "fe897e1c",
   "metadata": {},
   "source": [
    "메서드를 줄줄이 연결한다."
   ]
  },
  {
   "cell_type": "code",
   "execution_count": 56,
   "id": "ab337bbc",
   "metadata": {},
   "outputs": [
    {
     "data": {
      "text/plain": [
       "'    PYTHON'"
      ]
     },
     "execution_count": 56,
     "metadata": {},
     "output_type": "execute_result"
    }
   ],
   "source": [
    "'python'.rjust(10).upper()"
   ]
  },
  {
   "cell_type": "markdown",
   "id": "fd88a2c8",
   "metadata": {},
   "source": [
    "### 24.1.17. 문자열 왼쪽에 0 채우기"
   ]
  },
  {
   "cell_type": "markdown",
   "id": "051de624",
   "metadata": {},
   "source": [
    "`zfill(n)`: 문자열 왼쪽에 0을 채워 lenth n인 문자열을 만든다."
   ]
  },
  {
   "cell_type": "code",
   "execution_count": 59,
   "id": "ac2b636d",
   "metadata": {},
   "outputs": [
    {
     "name": "stdout",
     "output_type": "stream",
     "text": [
      "0035\n",
      "03.5\n",
      "hello\n",
      "0000000035\n",
      "00000003.5\n",
      "00000hello\n"
     ]
    }
   ],
   "source": [
    "print('35'.zfill(4))\n",
    "print('3.5'.zfill(4))\n",
    "print('hello'.zfill(4))\n",
    "print('35'.zfill(10))\n",
    "print('3.5'.zfill(10))\n",
    "print('hello'.zfill(10))"
   ]
  },
  {
   "cell_type": "markdown",
   "id": "2cc417ee",
   "metadata": {},
   "source": [
    "### 24.1.18. (왼쪽에서부터) 문자열 위치 찾기"
   ]
  },
  {
   "cell_type": "markdown",
   "id": "d7470acd",
   "metadata": {},
   "source": [
    "### 24.1.19. 오른쪽에서부터 문자열 위치 찾기"
   ]
  },
  {
   "cell_type": "markdown",
   "id": "9e64c1f8",
   "metadata": {},
   "source": [
    "### 24.1.20. 왼쪽에서부터 문자열 위치 찾기"
   ]
  },
  {
   "cell_type": "markdown",
   "id": "df2f875a",
   "metadata": {},
   "source": [
    "### 24.1.21. 오른쪽에서부터 문자열 위치 찾기"
   ]
  },
  {
   "cell_type": "markdown",
   "id": "d8439b64",
   "metadata": {},
   "source": [
    "- `find(str)`, `index(str)` : 해당 문자열 안에 특정 문자열의 위치를 (왼쪽부터) 찾는다.\n",
    "- `rfind(str)`, `rindex(str)` : 해당 문자열 안에 특정 문자열의 위치를 (오른쪽부터) 찾는다."
   ]
  },
  {
   "cell_type": "code",
   "execution_count": 87,
   "id": "0c0da294",
   "metadata": {},
   "outputs": [
    {
     "name": "stdout",
     "output_type": "stream",
     "text": [
      "0\n",
      "3\n",
      "0\n",
      "3\n"
     ]
    }
   ],
   "source": [
    "print('calculus'.find('c'))\n",
    "print('calculus'.rfind('c'))\n",
    "print('calculus'.index('c'))\n",
    "print('calculus'.rindex('c'))"
   ]
  },
  {
   "cell_type": "markdown",
   "id": "a128fdf9",
   "metadata": {},
   "source": [
    "|character|<font color=red>c</font>|a|l|<font color=red>c</font>|u|l|u|s|\n",
    "|:-:|-|-|-|-|-|-|-|-|\n",
    "|index|<font color=red>0</font>|1|2|<font color=red>3</font>|4|5|6|7|"
   ]
  },
  {
   "cell_type": "markdown",
   "id": "9a1c9ae1",
   "metadata": {},
   "source": [
    "### 24.1.22. 문자열 개수 세기"
   ]
  },
  {
   "cell_type": "code",
   "execution_count": 90,
   "id": "3fe47250",
   "metadata": {},
   "outputs": [
    {
     "name": "stdout",
     "output_type": "stream",
     "text": [
      "2\n"
     ]
    }
   ],
   "source": [
    "print('calculus'.count('c'))"
   ]
  },
  {
   "cell_type": "code",
   "execution_count": 91,
   "id": "1ed5f39f",
   "metadata": {},
   "outputs": [
    {
     "name": "stdout",
     "output_type": "stream",
     "text": [
      "8\n",
      "2\n",
      "<method 'count' of 'str' objects>\n",
      "<built-in function len>\n"
     ]
    }
   ],
   "source": [
    "C = 'calculus'\n",
    "print(len(C))\n",
    "print(C.count('c'))\n",
    "print(str.count)\n",
    "print(len)"
   ]
  },
  {
   "cell_type": "markdown",
   "id": "02028c30",
   "metadata": {},
   "source": [
    "## 24.2. 문자열 서식 지정자와 포매팅 사용하기"
   ]
  },
  {
   "cell_type": "markdown",
   "id": "28f45d29",
   "metadata": {},
   "source": [
    " - 서식 지정자 : format specifier\n",
    "  - `str` %x `str` %y\n",
    "    - y : `str`,`int`, `float`\n",
    "    - %x : %s, %d, %f\n",
    "    - %x에 y를 대입해서 출력한다.\n",
    "  - `str` %.nf`str` % y\n",
    "    - y : `int`, `float`\n",
    "    - 숫자 y를 소수 n째짜리까지 출력한다.\n",
    "  - `str` %ns`str` % y\n",
    "    - %ns에 y를 대입하되, 오른쪽정렬하고 n개의 문자열로 출력한다.\n",
    "    - y : `str`\n",
    " - format 매서드 : string formatting\n",
    "  - `str`,{},`str`,{}.format{x,y}\n",
    "    - 두 중괄호 대신 각각 x와 y를 대입하여라.\n",
    "    - 중괄호 안에 정수를 넣어 순서를 특정해 넣거나 중복해서 넣을 수 있다.\n",
    "    - 중괄호 안에 변수를 넣을 수 있다.\n",
    "  - f'`str` {variable}'\n",
    "    - {variable}에 이미 지정한 변수를 대입해 출력한다.\n",
    "    - 여러 개의 변수를 넣을 수 있다.\n",
    "  - '{0:x<n}'.format(`str`)\n",
    "    - `str`을 왼쪽 정렬(<)하고 n개의 문자열로 출력하며 x를 padding한다.\n",
    "    - 0은 생략되어도 좋다.\n",
    "    - x도 생략되어도 좋다. 생략된다면, 여백이 padding된다.\n",
    " - 기타 응용\n",
    "    - `'%03d' % 35`, `'{0:03d}'.format(35)`\n",
    "      - 출력 : 035\n",
    "      - 앞에 0을 padding하되 3개의 문자열을 출력한다.\n",
    "    - `'%08.2f' % 3.6`,`'{0:08.2f}'.format(3.6)`\n",
    "      - 출력 : 00003.60\n",
    "      - 앞에 0을 padding하되 소수점 두자리까지 표현하고, 8개의 문자열을 출력한다."
   ]
  },
  {
   "cell_type": "markdown",
   "id": "80ea71f0",
   "metadata": {},
   "source": [
    "### 24.2.1. 서식 지정자로 문자열 넣기"
   ]
  },
  {
   "cell_type": "code",
   "execution_count": 92,
   "id": "c0984d34",
   "metadata": {},
   "outputs": [
    {
     "data": {
      "text/plain": [
       "'I am james.'"
      ]
     },
     "execution_count": 92,
     "metadata": {},
     "output_type": "execute_result"
    }
   ],
   "source": [
    "'I am %s.' % 'james'"
   ]
  },
  {
   "cell_type": "markdown",
   "id": "f4b586c7",
   "metadata": {},
   "source": [
    " - **literally** : 'I am %s.'라는 문자열을 출력하되, %s라고 표시된 곳에는 % 이하의 부분, 즉 'james'를 넣어라.\n",
    " - `%s`는 `str` 형식을 쓰겠다는 뜻이다."
   ]
  },
  {
   "cell_type": "code",
   "execution_count": 93,
   "id": "33272f93",
   "metadata": {},
   "outputs": [
    {
     "data": {
      "text/plain": [
       "'I am maria'"
      ]
     },
     "execution_count": 93,
     "metadata": {},
     "output_type": "execute_result"
    }
   ],
   "source": [
    "name = 'maria'\n",
    "'I am %s' % name"
   ]
  },
  {
   "cell_type": "markdown",
   "id": "9c1861ad",
   "metadata": {},
   "source": [
    "### 24.2.2. 서식 지정자로 숫자 넣기"
   ]
  },
  {
   "cell_type": "code",
   "execution_count": 94,
   "id": "0e063836",
   "metadata": {},
   "outputs": [
    {
     "data": {
      "text/plain": [
       "'I am 20 years old.'"
      ]
     },
     "execution_count": 94,
     "metadata": {},
     "output_type": "execute_result"
    }
   ],
   "source": [
    "'I am %d years old.' % 20"
   ]
  },
  {
   "cell_type": "markdown",
   "id": "a20166a0",
   "metadata": {},
   "source": [
    " - **literally** : 'I am %d years old.'라는 문자열을 출력하되, %d라고 표시된 곳에는 % 이하의 부분, 즉 20를 넣어라.\n",
    " - decimal integer : <font color=red> 소수점을 버리고 integer를 만든다는 뜻인가? </font>\n",
    " - `%` 이하 부분은 `int`와 `float`이 들어갈 수 있는 것 같다."
   ]
  },
  {
   "cell_type": "code",
   "execution_count": 95,
   "id": "bac55683",
   "metadata": {},
   "outputs": [
    {
     "data": {
      "text/plain": [
       "'I am 20 years old.'"
      ]
     },
     "execution_count": 95,
     "metadata": {},
     "output_type": "execute_result"
    }
   ],
   "source": [
    "'I am %d years old.' % 20.2"
   ]
  },
  {
   "cell_type": "code",
   "execution_count": 96,
   "id": "d6f75f9a",
   "metadata": {},
   "outputs": [
    {
     "ename": "TypeError",
     "evalue": "%d format: a number is required, not str",
     "output_type": "error",
     "traceback": [
      "\u001b[0;31m---------------------------------------------------------------------------\u001b[0m",
      "\u001b[0;31mTypeError\u001b[0m                                 Traceback (most recent call last)",
      "\u001b[0;32m/tmp/ipykernel_188/4108163080.py\u001b[0m in \u001b[0;36m<module>\u001b[0;34m\u001b[0m\n\u001b[0;32m----> 1\u001b[0;31m \u001b[0;34m'I am %d years old.'\u001b[0m \u001b[0;34m%\u001b[0m \u001b[0;34m'20'\u001b[0m\u001b[0;34m\u001b[0m\u001b[0;34m\u001b[0m\u001b[0m\n\u001b[0m",
      "\u001b[0;31mTypeError\u001b[0m: %d format: a number is required, not str"
     ]
    }
   ],
   "source": [
    "'I am %d years old.' % '20'"
   ]
  },
  {
   "cell_type": "markdown",
   "id": "86726b0b",
   "metadata": {},
   "source": [
    "### 24.2.3. 서식 지정자로 소수점 표현하기"
   ]
  },
  {
   "cell_type": "code",
   "execution_count": 100,
   "id": "cb8472da",
   "metadata": {},
   "outputs": [
    {
     "data": {
      "text/plain": [
       "'2.300000'"
      ]
     },
     "execution_count": 100,
     "metadata": {},
     "output_type": "execute_result"
    }
   ],
   "source": [
    "'%f' % 2.3"
   ]
  },
  {
   "cell_type": "markdown",
   "id": "96239c9a",
   "metadata": {},
   "source": [
    " - **literally** : '%f'를 출력하여라.\n",
    "  - 단 `%f`라고 표시된 곳에는 `%` 이하의 부분, 즉 2.3를 넣어라.\n",
    "  - 소수점 이하 6자리까지 표시하는 것이 default이다.\n",
    " - floating point\n",
    " - `%` 이하 부분은 `int`와 `float`이 들어갈 수 있는 것 같다."
   ]
  },
  {
   "cell_type": "code",
   "execution_count": 98,
   "id": "2da756a8",
   "metadata": {},
   "outputs": [
    {
     "data": {
      "text/plain": [
       "'2.000000'"
      ]
     },
     "execution_count": 98,
     "metadata": {},
     "output_type": "execute_result"
    }
   ],
   "source": [
    "'%f' % 2"
   ]
  },
  {
   "cell_type": "code",
   "execution_count": 99,
   "id": "e891867f",
   "metadata": {
    "scrolled": true
   },
   "outputs": [
    {
     "ename": "TypeError",
     "evalue": "must be real number, not str",
     "output_type": "error",
     "traceback": [
      "\u001b[0;31m---------------------------------------------------------------------------\u001b[0m",
      "\u001b[0;31mTypeError\u001b[0m                                 Traceback (most recent call last)",
      "\u001b[0;32m/tmp/ipykernel_188/1450848268.py\u001b[0m in \u001b[0;36m<module>\u001b[0;34m\u001b[0m\n\u001b[0;32m----> 1\u001b[0;31m \u001b[0;34m'%f'\u001b[0m \u001b[0;34m%\u001b[0m \u001b[0;34m'2'\u001b[0m\u001b[0;34m\u001b[0m\u001b[0;34m\u001b[0m\u001b[0m\n\u001b[0m",
      "\u001b[0;31mTypeError\u001b[0m: must be real number, not str"
     ]
    }
   ],
   "source": [
    "'%f' % '2'"
   ]
  },
  {
   "cell_type": "code",
   "execution_count": 101,
   "id": "3221f2d2",
   "metadata": {},
   "outputs": [
    {
     "data": {
      "text/plain": [
       "'2.30'"
      ]
     },
     "execution_count": 101,
     "metadata": {},
     "output_type": "execute_result"
    }
   ],
   "source": [
    "'%.2f' % 2.3"
   ]
  },
  {
   "cell_type": "code",
   "execution_count": null,
   "id": "891d9ebb",
   "metadata": {},
   "outputs": [],
   "source": [
    "'%.2f' % 2.3"
   ]
  },
  {
   "cell_type": "markdown",
   "id": "879df1d7",
   "metadata": {},
   "source": [
    "소수점 이하 2자리까지 출력하여라."
   ]
  },
  {
   "cell_type": "markdown",
   "id": "d7b986ef",
   "metadata": {},
   "source": [
    "### 24.2.4. 서식 지정자로 문자열 정렬하기"
   ]
  },
  {
   "cell_type": "code",
   "execution_count": 104,
   "id": "3f0feb17",
   "metadata": {},
   "outputs": [
    {
     "name": "stdout",
     "output_type": "stream",
     "text": [
      "    python\n",
      "    python\n"
     ]
    }
   ],
   "source": [
    "print('%10s' % 'python')\n",
    "print('python'.rjust(10))"
   ]
  },
  {
   "cell_type": "markdown",
   "id": "85b66d9a",
   "metadata": {},
   "source": [
    "### 24.2.5. 서식 지정자로 문자열 안에 여러 개 넣기"
   ]
  },
  {
   "cell_type": "code",
   "execution_count": 105,
   "id": "5ce6ed68",
   "metadata": {},
   "outputs": [
    {
     "data": {
      "text/plain": [
       "'Today is 3 April.'"
      ]
     },
     "execution_count": 105,
     "metadata": {},
     "output_type": "execute_result"
    }
   ],
   "source": [
    "'Today is %d %s.' % (3, 'April')"
   ]
  },
  {
   "cell_type": "markdown",
   "id": "b524623c",
   "metadata": {},
   "source": [
    "### 24.2.6. format 매서드 사용하기"
   ]
  },
  {
   "cell_type": "code",
   "execution_count": 106,
   "id": "5ee89d33",
   "metadata": {},
   "outputs": [
    {
     "data": {
      "text/plain": [
       "'Hello, world!'"
      ]
     },
     "execution_count": 106,
     "metadata": {},
     "output_type": "execute_result"
    }
   ],
   "source": [
    "'Hello, {0}'.format('world!')"
   ]
  },
  {
   "cell_type": "code",
   "execution_count": 108,
   "id": "d1c37f75",
   "metadata": {},
   "outputs": [
    {
     "data": {
      "text/plain": [
       "'Hello, 100'"
      ]
     },
     "execution_count": 108,
     "metadata": {},
     "output_type": "execute_result"
    }
   ],
   "source": [
    "'Hello, {0}'.format('100')"
   ]
  },
  {
   "cell_type": "code",
   "execution_count": 109,
   "id": "70d1fbfc",
   "metadata": {},
   "outputs": [
    {
     "data": {
      "text/plain": [
       "'Hello, 100'"
      ]
     },
     "execution_count": 109,
     "metadata": {},
     "output_type": "execute_result"
    }
   ],
   "source": [
    "'Hello, {0}'.format(100)"
   ]
  },
  {
   "cell_type": "code",
   "execution_count": 107,
   "id": "c946d798",
   "metadata": {},
   "outputs": [
    {
     "data": {
      "text/plain": [
       "'Hello, world!'"
      ]
     },
     "execution_count": 107,
     "metadata": {},
     "output_type": "execute_result"
    }
   ],
   "source": [
    "'Hello, {}'.format('world!')"
   ]
  },
  {
   "cell_type": "markdown",
   "id": "05f5562b",
   "metadata": {},
   "source": [
    "### 24.2.7. format 매서드로 값을 여러 개 넣기"
   ]
  },
  {
   "cell_type": "code",
   "execution_count": 110,
   "id": "9148223c",
   "metadata": {},
   "outputs": [
    {
     "data": {
      "text/plain": [
       "'Hello, Python 3.6 Script'"
      ]
     },
     "execution_count": 110,
     "metadata": {},
     "output_type": "execute_result"
    }
   ],
   "source": [
    "'Hello, {0} {2} {1}'.format('Python', 'Script', 3.6)"
   ]
  },
  {
   "cell_type": "code",
   "execution_count": 112,
   "id": "7952d387",
   "metadata": {},
   "outputs": [
    {
     "data": {
      "text/plain": [
       "'Hello, Python Script 3.6'"
      ]
     },
     "execution_count": 112,
     "metadata": {},
     "output_type": "execute_result"
    }
   ],
   "source": [
    "'Hello, {} {} {}'.format('Python', 'Script', 3.6)"
   ]
  },
  {
   "cell_type": "markdown",
   "id": "40f368c6",
   "metadata": {},
   "source": [
    "### 24.2.8. format 매서드로 같은 값을 여러 개 넣기"
   ]
  },
  {
   "cell_type": "code",
   "execution_count": 113,
   "id": "4b48b9f2",
   "metadata": {},
   "outputs": [
    {
     "data": {
      "text/plain": [
       "'Python Python Script Script'"
      ]
     },
     "execution_count": 113,
     "metadata": {},
     "output_type": "execute_result"
    }
   ],
   "source": [
    "'{0} {0} {1} {1}'.format('Python', 'Script')"
   ]
  },
  {
   "cell_type": "markdown",
   "id": "e2cbb207",
   "metadata": {},
   "source": [
    "### 24.2.9. format 매서드에서 인덱스 생략하기"
   ]
  },
  {
   "cell_type": "code",
   "execution_count": 114,
   "id": "0cc0c076",
   "metadata": {},
   "outputs": [
    {
     "data": {
      "text/plain": [
       "'Hello, Python Script 3.6'"
      ]
     },
     "execution_count": 114,
     "metadata": {},
     "output_type": "execute_result"
    }
   ],
   "source": [
    "'Hello, {} {} {}'.format('Python', 'Script', 3.6)"
   ]
  },
  {
   "cell_type": "markdown",
   "id": "3b433a22",
   "metadata": {},
   "source": [
    "### 24.2.10. format 매서드에서 인덱스 대신 이름 지정하기"
   ]
  },
  {
   "cell_type": "code",
   "execution_count": 115,
   "id": "417e418d",
   "metadata": {},
   "outputs": [
    {
     "data": {
      "text/plain": [
       "'Hello, Python 3.6'"
      ]
     },
     "execution_count": 115,
     "metadata": {},
     "output_type": "execute_result"
    }
   ],
   "source": [
    "'Hello, {language} {version}'.format(language='Python', version=3.6)"
   ]
  },
  {
   "cell_type": "markdown",
   "id": "2baf1265",
   "metadata": {},
   "source": [
    "### 24.2.11. 문자열 포매팅에 변수 그대로 사용하기"
   ]
  },
  {
   "cell_type": "code",
   "execution_count": 118,
   "id": "3cf2345a",
   "metadata": {},
   "outputs": [
    {
     "name": "stdout",
     "output_type": "stream",
     "text": [
      "Hello, Python 3.6\n",
      "Hello, Python 3.6\n"
     ]
    }
   ],
   "source": [
    "language = 'Python'\n",
    "version = 3.6\n",
    "print(f'Hello, {language} {version}')\n",
    "print('Hello, Python 3.6')"
   ]
  },
  {
   "cell_type": "markdown",
   "id": "ccd8e31d",
   "metadata": {},
   "source": [
    "### 24.2.12. format 매서드로 문자열 정렬하기\n",
    "### 24.2.14. 채우기와 정렬을 조합해서 사용하기"
   ]
  },
  {
   "cell_type": "markdown",
   "id": "d86c3562",
   "metadata": {},
   "source": [
    "두 subsubsection이 서로 연관되어 있으므로 12와 14를 붙였다. 13은 밑에 적었다."
   ]
  },
  {
   "cell_type": "code",
   "execution_count": 158,
   "id": "82180b9f",
   "metadata": {},
   "outputs": [
    {
     "name": "stdout",
     "output_type": "stream",
     "text": [
      "python    \n",
      "    python\n",
      "python    \n",
      "    python\n",
      "python    \n",
      "    python\n",
      "python0000\n",
      "0000python\n",
      "python0000\n",
      "0000python\n"
     ]
    }
   ],
   "source": [
    "print('{0:<10}'.format('python'))\n",
    "print('{0:>10}'.format('python'))\n",
    "print('{:<10}'.format('python'))\n",
    "print('{:>10}'.format('python'))\n",
    "print('python'.ljust(10))\n",
    "print('python'.rjust(10))\n",
    "print('{0:0<10}'.format('python'))\n",
    "print('{0:0>10}'.format('python'))\n",
    "print('{:0<10}'.format('python'))\n",
    "print('{:0>10}'.format('python'))"
   ]
  },
  {
   "cell_type": "code",
   "execution_count": null,
   "id": "757ff444",
   "metadata": {},
   "outputs": [],
   "source": [
    "print('{0:<10}'.format('python'),'1')\n",
    "print('python'.ljust(10),'1')"
   ]
  },
  {
   "cell_type": "markdown",
   "id": "5031d035",
   "metadata": {},
   "source": [
    "### 24.2.13. 숫자 개수 맞추기"
   ]
  },
  {
   "cell_type": "code",
   "execution_count": 139,
   "id": "77ebefaf",
   "metadata": {},
   "outputs": [
    {
     "name": "stdout",
     "output_type": "stream",
     "text": [
      "001\n",
      "035\n",
      "001\n",
      "035\n"
     ]
    }
   ],
   "source": [
    "print('%03d' % 1)\n",
    "print('%03d' % 35)\n",
    "print('{0:03d}'.format(1))\n",
    "print('{0:03d}'.format(35))"
   ]
  },
  {
   "cell_type": "code",
   "execution_count": 144,
   "id": "26fe92e9",
   "metadata": {},
   "outputs": [
    {
     "name": "stdout",
     "output_type": "stream",
     "text": [
      "00003.60\n",
      "00150.37\n",
      "00003.60\n",
      "00150.37\n"
     ]
    }
   ],
   "source": [
    "print('%08.2f' % 3.6)\n",
    "print('%08.2f' % 150.37)\n",
    "print('{0:08.2f}'.format(3.6))\n",
    "print('{0:08.2f}'.format(150.37))"
   ]
  },
  {
   "cell_type": "markdown",
   "id": "45502d48",
   "metadata": {},
   "source": [
    "## 24.3. 퀴즈"
   ]
  },
  {
   "cell_type": "markdown",
   "id": "d6928ea0",
   "metadata": {},
   "source": [
    "2번 문제"
   ]
  },
  {
   "cell_type": "code",
   "execution_count": 159,
   "id": "a3dd36f2",
   "metadata": {},
   "outputs": [
    {
     "name": "stdout",
     "output_type": "stream",
     "text": [
      "pythON    \n"
     ]
    }
   ],
   "source": [
    "print('Python'.lower().replace('on', 'ON').ljust(10))"
   ]
  },
  {
   "cell_type": "markdown",
   "id": "14ff9400",
   "metadata": {},
   "source": [
    "3번 문제"
   ]
  },
  {
   "cell_type": "code",
   "execution_count": 160,
   "id": "3527be93",
   "metadata": {},
   "outputs": [
    {
     "data": {
      "text/plain": [
       "'Hello, Python 3.6'"
      ]
     },
     "execution_count": 160,
     "metadata": {},
     "output_type": "execute_result"
    }
   ],
   "source": [
    "'{hello}, {language} 3.6'.format(hello='Hello', language='Python')"
   ]
  },
  {
   "cell_type": "code",
   "execution_count": 161,
   "id": "672106fe",
   "metadata": {},
   "outputs": [
    {
     "data": {
      "text/plain": [
       "'Hello,Python3.6'"
      ]
     },
     "execution_count": 161,
     "metadata": {},
     "output_type": "execute_result"
    }
   ],
   "source": [
    "'%s%s%s' % ('Hello,', 'Python', '3.6')"
   ]
  },
  {
   "cell_type": "markdown",
   "id": "7758ec9f",
   "metadata": {},
   "source": [
    "4번 문제"
   ]
  },
  {
   "cell_type": "code",
   "execution_count": 168,
   "id": "94673403",
   "metadata": {},
   "outputs": [
    {
     "name": "stdout",
     "output_type": "stream",
     "text": [
      "   1675.3000\n",
      "   1675.3000\n",
      "   1675.3000\n",
      "0001675.3000\n"
     ]
    }
   ],
   "source": [
    "print('{0:>12.4f}'.format(1675.3)) # basic\n",
    "#print('{ :>12.4f}'.format(1675.3))\n",
    "print('{:>12.4f}'.format(1675.3)) #c\n",
    "print('{: >12.4f}'.format(1675.3)) #d\n",
    "print('{:0>12.4f}'.format(1675.3)) #e"
   ]
  },
  {
   "cell_type": "markdown",
   "id": "9a44a29e",
   "metadata": {},
   "source": [
    "## 24.4. 연습문제"
   ]
  },
  {
   "cell_type": "code",
   "execution_count": 172,
   "id": "f6db4faa",
   "metadata": {},
   "outputs": [
    {
     "name": "stdout",
     "output_type": "stream",
     "text": [
      "python.exe\n"
     ]
    }
   ],
   "source": [
    "path = 'C:\\\\Users\\\\dojang\\\\AppData\\\\Local\\\\Programs\\\\Python\\\\Python36-32\\\\python.exe'\n",
    "x = path.split('\\\\')\n",
    "filename = x[-1]\n",
    "print(filename)"
   ]
  },
  {
   "cell_type": "code",
   "execution_count": 173,
   "id": "7c3e7263",
   "metadata": {},
   "outputs": [
    {
     "name": "stdout",
     "output_type": "stream",
     "text": [
      "python.exe\n"
     ]
    }
   ],
   "source": [
    "path = 'C:\\\\Users\\\\dojang\\\\AppData\\\\Local\\\\Programs\\\\Python\\\\Python36-32\\\\python.exe'\n",
    "x = path.split('\\\\')\n",
    "x.reverse()\n",
    "filename = x[0]\n",
    "print(filename)"
   ]
  },
  {
   "cell_type": "code",
   "execution_count": 177,
   "id": "2b07aed3",
   "metadata": {},
   "outputs": [
    {
     "name": "stdout",
     "output_type": "stream",
     "text": [
      "python.exe\n"
     ]
    }
   ],
   "source": [
    "path = 'C:\\\\Users\\\\dojang\\\\AppData\\\\Local\\\\Programs\\\\Python\\\\Python36-32\\\\python.exe'\n",
    "filename = path[path.rfind('\\\\') + 1:] # 이건 자세히 보지 않았다.\n",
    "print(filename)"
   ]
  },
  {
   "cell_type": "markdown",
   "id": "d358b89a",
   "metadata": {},
   "source": [
    "## 24.5. 심사문제"
   ]
  },
  {
   "cell_type": "code",
   "execution_count": 238,
   "id": "85da42cb",
   "metadata": {},
   "outputs": [
    {
     "name": "stdout",
     "output_type": "stream",
     "text": [
      "the grown-ups' response, this time, was to advise me to lay aside my drawings of boa constrictors, whether from the inside or the outside, and devote myself instead to geography, history, arithmetic, and grammar. That is why, at the, age of six, I gave up what might have been a magnificent career as a painter. I had been disheartened by the failure of my Drawing Number One and my Drawing Number Two. Grown-ups never understand anything by themselves, and it is tiresome for children to be always and forever explaining things to the.\n",
      "6\n"
     ]
    }
   ],
   "source": [
    "A = input().split()\n",
    "B = []\n",
    "for word in A:\n",
    "    temp = word.strip('.,')\n",
    "    B.append(temp)\n",
    "print(B.count('the'))"
   ]
  },
  {
   "cell_type": "markdown",
   "id": "0877e80d",
   "metadata": {},
   "source": [
    "답 : 6"
   ]
  },
  {
   "cell_type": "markdown",
   "id": "6e3233c8",
   "metadata": {},
   "source": [
    "the python and the java are the important ones in these communities. So we can breathe. the,"
   ]
  },
  {
   "cell_type": "markdown",
   "id": "b66003d5",
   "metadata": {},
   "source": [
    "답 : 3"
   ]
  },
  {
   "cell_type": "markdown",
   "id": "a3d07dd5",
   "metadata": {},
   "source": [
    "## 24.6. 심사문제"
   ]
  },
  {
   "cell_type": "markdown",
   "id": "0f56a12f",
   "metadata": {},
   "source": [
    "51900;83000;158000;367500;250000;59200;128500;1304000"
   ]
  },
  {
   "cell_type": "code",
   "execution_count": 6,
   "id": "0a2129e1",
   "metadata": {},
   "outputs": [
    {
     "name": "stdout",
     "output_type": "stream",
     "text": [
      "51900;83000;158000;367500;250000;59200;128500;1304000\n",
      "1,304,000\n",
      "  367,500\n",
      "  250,000\n",
      "  158,000\n",
      "  128,500\n",
      "   83,000\n",
      "   59,200\n",
      "   51,900\n"
     ]
    }
   ],
   "source": [
    "A = input()\n",
    "B = A.split(';')\n",
    "C = list(map(int, B))\n",
    "C.sort(reverse=True)\n",
    "for c in C:\n",
    "    d = '{:>9,}'.format(c)\n",
    "    print(d)"
   ]
  },
  {
   "cell_type": "code",
   "execution_count": 4,
   "id": "5654de83",
   "metadata": {},
   "outputs": [
    {
     "name": "stdout",
     "output_type": "stream",
     "text": [
      "1,304,000\n",
      "  367,500\n",
      "  250,000\n",
      "  158,000\n",
      "  128,500\n",
      "   83,000\n",
      "   59,200\n",
      "   51,900\n"
     ]
    }
   ],
   "source": [
    "A = '51900;83000;158000;367500;250000;59200;128500;1304000'\n",
    "B = A.split(';')\n",
    "C = list(map(int, B))\n",
    "C.sort(reverse=True)\n",
    "for c in C:\n",
    "    d = '{:>9,}'.format(c)a\n",
    "    print(d)"
   ]
  },
  {
   "cell_type": "markdown",
   "id": "c2aa9253",
   "metadata": {},
   "source": [
    "# 25. 딕셔너리 응용하기"
   ]
  },
  {
   "cell_type": "markdown",
   "id": "c1185fba",
   "metadata": {},
   "source": [
    "딕셔너리는 복잡하기도 복잡하거니와 양이 너무 많다.\n",
    "따라서 따로 내용 정리는 하지 않고, 주어진 코드들을 다 실행해보는 것에만 목표를 두어야겠다."
   ]
  },
  {
   "cell_type": "markdown",
   "id": "0f5f6753",
   "metadata": {},
   "source": [
    "(다 공부하고 퀴즈도 풀었다.) 그렇긴 하지만 그래도 어떤 dictionary에 어떤 method들이 있는지는 나열해놓으면 좋을 것 같다."
   ]
  },
  {
   "cell_type": "markdown",
   "id": "5abe0000",
   "metadata": {},
   "source": [
    "딕셔너리와과 관련한 여러 매서드들이 있다.\n",
    "한 매서드에도 여러 활용과 문법이 있지만, 대표적인 문법 하나씩만 적겠다.\n",
    " - 아래에서 key라고 적는 것은 그것이 key의 역할을 한다는 뜻이지, key 클래스라는 뜻은 아니다. (그런 클래스는 없다 <font color=red> ?</font>)\n",
    " - 마찬가지로 value라고 적는 것은 그것이 value의 역할을 한다는 뜻이다."
   ]
  },
  {
   "cell_type": "markdown",
   "id": "2a925929",
   "metadata": {},
   "source": [
    "|매서드|설명|문법|반환|분류|비고|\n",
    "|:-:|:-:|:-:|:-:|:-:|:-:|\n",
    "|`setdefault`|키-값 쌍을 추가한다.|*dict*.`setdefault`(key,value)|x|*dict*의 _method_||\n",
    "|`update`|키의 값을 수정한다.|*dict*.`update`(key,value)|x|*dict*의 _method_||\n",
    "|`pop`|키를 삭제한다.|*dict*.`pop`(key)|삭제되는 value|*dict*의 _method_||\n",
    "|`del`|키를 삭제한다.|*dict*.`pop`[key]|x|*dict*의 _method_||\n",
    "|`popitem`|마지막 키-값 쌍을 삭제한다.|*dict*.`popitem`()|삭제되는 (key, value)|*dict*의 _method_||\n",
    "|`clear`|모든 키-값 쌍을 삭제한다.|*dict*.`clear`()|x|*dict*의 _method_||\n",
    "|`get`|키의 값을 가져온다.|*dict*.`get`()|해당되는 value|*dict*의 _method_||\n",
    "|`items`|모든 키-값 쌍을 가져온다.|*dict*.`items`()|x|_dict_items_||\n",
    "|`keys`|모든 키들을 가져온다.|*dict*.`keys`()|x|_dict_keys_||\n",
    "|`values`|모든 값들을 쌍을 가져온다.|*dict*.`values`()|x|_dict_values_||\n",
    "|`copy`|복사한다.|*dict*.`copy`()|x|_module_||\n",
    "|`deepcopy`|깊게복사한다.|*dict*.`copy.deepcopy`()|x|*copy*의 _function_||"
   ]
  },
  {
   "cell_type": "markdown",
   "id": "8e55b2bc",
   "metadata": {},
   "source": [
    "그래도 얼추 정리는 된 것 같다.\n",
    "하지만 완벽하지는 못하다.\n",
    "반환값 말고도 그 결과값이 무엇인지 명시하면 좋을텐데, 그렇게 하려면 머리가 너무 아프다."
   ]
  },
  {
   "cell_type": "markdown",
   "id": "17721c8a",
   "metadata": {},
   "source": [
    "## 25.1. 딕셔너리 조작하기"
   ]
  },
  {
   "cell_type": "markdown",
   "id": "a3a9cd71",
   "metadata": {},
   "source": [
    "### 25.1.1. 딕셔너리에 키-값 쌍 추가하기\n",
    " - `setdefault` : 키-값 쌍 추가\n",
    " - `update` : 키의 값 수정, 키가 없으면 키-값 쌍 추가"
   ]
  },
  {
   "cell_type": "markdown",
   "id": "973f5a3d",
   "metadata": {},
   "source": [
    "### 25.1.2. 딕셔너리에 키와 기본값 저장하기\n",
    "`setdefault` : 딕셔너리에 키-값 쌍을 추가한다."
   ]
  },
  {
   "cell_type": "code",
   "execution_count": 297,
   "id": "efa79739",
   "metadata": {},
   "outputs": [
    {
     "name": "stdout",
     "output_type": "stream",
     "text": [
      "{'a': 10, 'b': 20, 'c': 30, 'd': 40}\n"
     ]
    }
   ],
   "source": [
    "x = {'a': 10,'b': 20,'c': 30,'d': 40}\n",
    "print(x)"
   ]
  },
  {
   "cell_type": "code",
   "execution_count": 301,
   "id": "4fa9ed68",
   "metadata": {},
   "outputs": [
    {
     "name": "stdout",
     "output_type": "stream",
     "text": [
      "{'a': 10, 'b': 20, 'c': 30, 'd': 40, 'e': None}\n"
     ]
    }
   ],
   "source": [
    "x = {'a': 10,'b': 20,'c': 30,'d': 40}\n",
    "x.setdefault('e')\n",
    "print(x)"
   ]
  },
  {
   "cell_type": "code",
   "execution_count": 11,
   "id": "ca004b50",
   "metadata": {},
   "outputs": [
    {
     "name": "stdout",
     "output_type": "stream",
     "text": [
      "{'a': 10, 'b': 20, 'c': 30, 'd': 40, 'e': None, 'f': 100}\n"
     ]
    }
   ],
   "source": [
    "x.setdefault('f',100)\n",
    "print(x)"
   ]
  },
  {
   "cell_type": "markdown",
   "id": "d2168550",
   "metadata": {},
   "source": [
    "### 25.1.3. 딕셔너리에서 키의 값 수정하기\n",
    "`update` : 딕셔너리에서 키의 값을 수정한다."
   ]
  },
  {
   "cell_type": "code",
   "execution_count": 13,
   "id": "f97a1c2d",
   "metadata": {},
   "outputs": [
    {
     "name": "stdout",
     "output_type": "stream",
     "text": [
      "{'a': 90, 'b': 20, 'c': 30, 'd': 40}\n"
     ]
    }
   ],
   "source": [
    "x = {'a': 10,'b': 20,'c': 30,'d': 40}\n",
    "x.update(a=90)\n",
    "print(x)"
   ]
  },
  {
   "cell_type": "code",
   "execution_count": 14,
   "id": "36e48f66",
   "metadata": {},
   "outputs": [
    {
     "name": "stdout",
     "output_type": "stream",
     "text": [
      "{'a': 90, 'b': 20, 'c': 30, 'd': 40, 'e': 50}\n"
     ]
    }
   ],
   "source": [
    "x.update(e=50)\n",
    "print(x)"
   ]
  },
  {
   "cell_type": "code",
   "execution_count": 15,
   "id": "13d8b6a8",
   "metadata": {},
   "outputs": [
    {
     "name": "stdout",
     "output_type": "stream",
     "text": [
      "{'a': 900, 'b': 20, 'c': 30, 'd': 40, 'e': 50, 'f': 60}\n"
     ]
    }
   ],
   "source": [
    "x.update(a=900,f=60)\n",
    "print(x)"
   ]
  },
  {
   "cell_type": "code",
   "execution_count": 19,
   "id": "e971937d",
   "metadata": {},
   "outputs": [
    {
     "name": "stdout",
     "output_type": "stream",
     "text": [
      "{1: 'one', 2: 'two'}\n",
      "{1: 'ONE', 2: 'two', 3: 'THREE'}\n"
     ]
    }
   ],
   "source": [
    "y = {1:\"one\",2:\"two\"}\n",
    "print(y)\n",
    "y.update({1:\"ONE\",3:\"THREE\"})\n",
    "print(y)"
   ]
  },
  {
   "cell_type": "code",
   "execution_count": 302,
   "id": "37c7227a",
   "metadata": {},
   "outputs": [
    {
     "name": "stdout",
     "output_type": "stream",
     "text": [
      "{'a': {'python': '3.9'}, 'b': {'python': '3.6'}, 2: 'TWO', 4: 'FOUR'}\n"
     ]
    }
   ],
   "source": [
    "y.update([[2,'TWO'],[4,'FOUR']])\n",
    "print(y)"
   ]
  },
  {
   "cell_type": "markdown",
   "id": "68e28647",
   "metadata": {},
   "source": [
    "### 25.1.4. 딕셔너리에서 키-값 쌍 삭제하기"
   ]
  },
  {
   "cell_type": "code",
   "execution_count": 24,
   "id": "b7e042eb",
   "metadata": {},
   "outputs": [
    {
     "data": {
      "text/plain": [
       "10"
      ]
     },
     "execution_count": 24,
     "metadata": {},
     "output_type": "execute_result"
    }
   ],
   "source": [
    "x = {'a':10, 'b':20,'c':30,'d':40}\n",
    "x.pop('a')"
   ]
  },
  {
   "cell_type": "code",
   "execution_count": 25,
   "id": "142d6cb2",
   "metadata": {},
   "outputs": [
    {
     "name": "stdout",
     "output_type": "stream",
     "text": [
      "{'b': 20, 'c': 30, 'd': 40}\n"
     ]
    }
   ],
   "source": [
    "print(x)"
   ]
  },
  {
   "cell_type": "code",
   "execution_count": 26,
   "id": "d2f8accf",
   "metadata": {},
   "outputs": [
    {
     "data": {
      "text/plain": [
       "0"
      ]
     },
     "execution_count": 26,
     "metadata": {},
     "output_type": "execute_result"
    }
   ],
   "source": [
    "x.pop('z',0)"
   ]
  },
  {
   "cell_type": "code",
   "execution_count": 28,
   "id": "57b8ed7b",
   "metadata": {},
   "outputs": [
    {
     "name": "stdout",
     "output_type": "stream",
     "text": [
      "{'b': 20, 'c': 30, 'd': 40}\n"
     ]
    }
   ],
   "source": [
    "x = {'a':10, 'b':20,'c':30,'d':40}\n",
    "del x['a']\n",
    "print(x)"
   ]
  },
  {
   "cell_type": "markdown",
   "id": "f402ff78",
   "metadata": {},
   "source": [
    "### 25.1.5. 딕셔너리에서 마지막 키-값 쌍 삭제하기"
   ]
  },
  {
   "cell_type": "markdown",
   "id": "c30d1a33",
   "metadata": {},
   "source": [
    " - Python 3.5 이하에서는 '마지막'이라는 말이 '임의의'라는 말로 바뀌어야 한다.\n",
    " - 하지만, 지금은 Python 3.9를 사용하고 있으므로 '마지막'이 맞을 것이다."
   ]
  },
  {
   "cell_type": "code",
   "execution_count": 305,
   "id": "77bd5d0f",
   "metadata": {},
   "outputs": [
    {
     "data": {
      "text/plain": [
       "('d', 40)"
      ]
     },
     "execution_count": 305,
     "metadata": {},
     "output_type": "execute_result"
    }
   ],
   "source": [
    "x = {'a':10, 'b':20,'c':30,'d':40}\n",
    "x.popitem()"
   ]
  },
  {
   "cell_type": "code",
   "execution_count": 32,
   "id": "4feacf7e",
   "metadata": {},
   "outputs": [
    {
     "name": "stdout",
     "output_type": "stream",
     "text": [
      "{'a': 10, 'b': 20}\n"
     ]
    }
   ],
   "source": [
    "print(x)"
   ]
  },
  {
   "cell_type": "code",
   "execution_count": 36,
   "id": "b6656996",
   "metadata": {},
   "outputs": [
    {
     "name": "stdout",
     "output_type": "stream",
     "text": [
      "<method 'popitem' of 'dict' objects> <class 'method_descriptor'>\n"
     ]
    }
   ],
   "source": [
    "print(dict.popitem,type(dict.popitem))"
   ]
  },
  {
   "cell_type": "markdown",
   "id": "c60a541c",
   "metadata": {},
   "source": [
    "### 25.1.6. 딕셔너리의 모든 키-값 쌍을 삭제하기"
   ]
  },
  {
   "cell_type": "code",
   "execution_count": 307,
   "id": "80b1ca2f",
   "metadata": {},
   "outputs": [
    {
     "name": "stdout",
     "output_type": "stream",
     "text": [
      "{}\n"
     ]
    }
   ],
   "source": [
    "x = {'a': 10, 'b': 20, 'c': 30, 'd': 40}\n",
    "x.clear()\n",
    "print(x)"
   ]
  },
  {
   "cell_type": "markdown",
   "id": "e1cc4139",
   "metadata": {},
   "source": [
    "### 25.1.7. 딕셔너리에서 키의 값을 가져오기"
   ]
  },
  {
   "cell_type": "code",
   "execution_count": 40,
   "id": "82ffb708",
   "metadata": {},
   "outputs": [
    {
     "data": {
      "text/plain": [
       "10"
      ]
     },
     "execution_count": 40,
     "metadata": {},
     "output_type": "execute_result"
    }
   ],
   "source": [
    "x = {'a': 10, 'b': 20, 'c': 30, 'd': 40}\n",
    "x.get('a')"
   ]
  },
  {
   "cell_type": "code",
   "execution_count": 39,
   "id": "33d53d3d",
   "metadata": {},
   "outputs": [
    {
     "data": {
      "text/plain": [
       "0"
      ]
     },
     "execution_count": 39,
     "metadata": {},
     "output_type": "execute_result"
    }
   ],
   "source": [
    "x.get('z',0)"
   ]
  },
  {
   "cell_type": "markdown",
   "id": "7d7828d0",
   "metadata": {},
   "source": [
    "### 25.1.8. 딕셔너리에서 키-값 쌍을 모두 가져오기"
   ]
  },
  {
   "cell_type": "code",
   "execution_count": 49,
   "id": "dd6d01be",
   "metadata": {},
   "outputs": [
    {
     "name": "stdout",
     "output_type": "stream",
     "text": [
      "dict_items([('a', 10), ('b', 20), ('c', 30), ('d', 40)])\n",
      "dict_keys(['a', 'b', 'c', 'd'])\n",
      "dict_values([10, 20, 30, 40])\n",
      "<class 'dict_items'>\n",
      "<class 'dict_keys'>\n",
      "<class 'dict_values'>\n"
     ]
    }
   ],
   "source": [
    "x = {'a': 10, 'b': 20, 'c': 30, 'd': 40}\n",
    "print(x.items())\n",
    "print(x.keys())\n",
    "print(x.values())\n",
    "print(type(x.items()))\n",
    "print(type(x.keys()))\n",
    "print(type(x.values()))"
   ]
  },
  {
   "cell_type": "markdown",
   "id": "126b080b",
   "metadata": {},
   "source": [
    "### 25.1.9. 리스트와 튜플로 딕셔너리 만들기"
   ]
  },
  {
   "cell_type": "code",
   "execution_count": 50,
   "id": "470b842c",
   "metadata": {},
   "outputs": [
    {
     "name": "stdout",
     "output_type": "stream",
     "text": [
      "{'a': None, 'b': None, 'c': None, 'd': None}\n"
     ]
    }
   ],
   "source": [
    "keys = ['a', 'b', 'c', 'd']\n",
    "x = dict.fromkeys(keys)\n",
    "print(x)"
   ]
  },
  {
   "cell_type": "code",
   "execution_count": 51,
   "id": "93cd6eed",
   "metadata": {},
   "outputs": [
    {
     "name": "stdout",
     "output_type": "stream",
     "text": [
      "<built-in method fromkeys of type object at 0x55c2a715e0a0>\n",
      "<class 'builtin_function_or_method'>\n"
     ]
    }
   ],
   "source": [
    "print(dict.fromkeys)\n",
    "print(type(dict.fromkeys))"
   ]
  },
  {
   "cell_type": "markdown",
   "id": "dfbf5133",
   "metadata": {},
   "source": [
    "## 25.2. 반복문으로 딕셔너리의 키-값 쌍을 모두 출력하기"
   ]
  },
  {
   "cell_type": "code",
   "execution_count": 52,
   "id": "feb2afe2",
   "metadata": {},
   "outputs": [
    {
     "name": "stdout",
     "output_type": "stream",
     "text": [
      "a 10\n",
      "b 20\n",
      "c 30\n",
      "d 40\n"
     ]
    }
   ],
   "source": [
    "x = {'a': 10, 'b': 20, 'c': 30, 'd': 40}\n",
    "for key, value in x.items():\n",
    "    print(key,value)"
   ]
  },
  {
   "cell_type": "code",
   "execution_count": 54,
   "id": "5bd070fb",
   "metadata": {},
   "outputs": [
    {
     "name": "stdout",
     "output_type": "stream",
     "text": [
      "<method 'items' of 'dict' objects>\n",
      "<class 'method_descriptor'>\n",
      "dict_items([('a', 10), ('b', 20), ('c', 30), ('d', 40)])\n",
      "<class 'dict_items'>\n"
     ]
    }
   ],
   "source": [
    "print(dict.items)\n",
    "print(type(dict.items))\n",
    "print(dict.items(x))\n",
    "print(type(dict.items(x)))"
   ]
  },
  {
   "cell_type": "markdown",
   "id": "ad9467f7",
   "metadata": {},
   "source": [
    "### 25.2.1. 딕셔너리의 키만 출력하기\n",
    "### 25.2.2. 딕셔너리의 값만 출력하기"
   ]
  },
  {
   "cell_type": "code",
   "execution_count": 62,
   "id": "06b79df8",
   "metadata": {},
   "outputs": [
    {
     "name": "stdout",
     "output_type": "stream",
     "text": [
      "a b c d \n",
      "10 20 30 40 "
     ]
    }
   ],
   "source": [
    "x = {'a': 10, 'b': 20, 'c': 30, 'd': 40}\n",
    "for key in x.keys():\n",
    "    print(key, end = ' ')\n",
    "print()\n",
    "for value in x.values():\n",
    "    print(value, end = ' ')"
   ]
  },
  {
   "cell_type": "markdown",
   "id": "cad30ab0",
   "metadata": {},
   "source": [
    "## 25.3. 딕셔너리 표현 식 사용하기"
   ]
  },
  {
   "cell_type": "code",
   "execution_count": 68,
   "id": "9494b127",
   "metadata": {},
   "outputs": [
    {
     "name": "stdout",
     "output_type": "stream",
     "text": [
      "{'a': None, 'b': None, 'c': None, 'd': None}\n"
     ]
    }
   ],
   "source": [
    "keys = ['a', 'b', 'c', 'd']\n",
    "x = {key: value for key, value in dict.fromkeys(keys).items()}\n",
    "print(x)"
   ]
  },
  {
   "cell_type": "code",
   "execution_count": 71,
   "id": "0168fe77",
   "metadata": {},
   "outputs": [
    {
     "name": "stdout",
     "output_type": "stream",
     "text": [
      "<built-in method fromkeys of type object at 0x55c2a715e0a0>\n",
      "<class 'builtin_function_or_method'>\n",
      "{'a': None, 'b': None, 'c': None, 'd': None}\n",
      "<class 'dict'>\n"
     ]
    }
   ],
   "source": [
    "print(dict.fromkeys)\n",
    "print(type(dict.fromkeys))\n",
    "print(dict.fromkeys(keys))\n",
    "print(type(dict.fromkeys(keys)))"
   ]
  },
  {
   "cell_type": "code",
   "execution_count": 74,
   "id": "25c8e35c",
   "metadata": {},
   "outputs": [
    {
     "name": "stdout",
     "output_type": "stream",
     "text": [
      "{'a': 0, 'b': 0, 'c': 0, 'd': 0}\n"
     ]
    }
   ],
   "source": [
    "y = {key: 0 for key in dict.fromkeys(['a', 'b', 'c', 'd']).keys()} \n",
    "print(y)"
   ]
  },
  {
   "cell_type": "code",
   "execution_count": 76,
   "id": "2d0ba771",
   "metadata": {
    "scrolled": true
   },
   "outputs": [
    {
     "name": "stdout",
     "output_type": "stream",
     "text": [
      "{10: 'a', 20: 'b', 30: 'c', 40: 'd'}\n"
     ]
    }
   ],
   "source": [
    "z = {value: key for key, value in {'a': 10, 'b': 20, 'c': 30, 'd': 40}.items()}\n",
    "print(z)"
   ]
  },
  {
   "cell_type": "markdown",
   "id": "63dbba01",
   "metadata": {},
   "source": [
    "### 25.3.1. 딕셔너리 표현식에서 if 조건문 사용하기"
   ]
  },
  {
   "cell_type": "code",
   "execution_count": 77,
   "id": "991ecff4",
   "metadata": {},
   "outputs": [
    {
     "name": "stdout",
     "output_type": "stream",
     "text": [
      "{'a': 10, 'c': 30, 'd': 40}\n"
     ]
    }
   ],
   "source": [
    "x = {'a': 10, 'b': 20, 'c': 30, 'd': 40}\n",
    "x = {key:value for key, value in x.items() if value !=20}\n",
    "print(x)"
   ]
  },
  {
   "cell_type": "markdown",
   "id": "5f2c5a39",
   "metadata": {},
   "source": [
    "## 25.4. 딕셔너리 안에 딕셔너리 사용하기"
   ]
  },
  {
   "cell_type": "code",
   "execution_count": 81,
   "id": "48bd658d",
   "metadata": {},
   "outputs": [
    {
     "name": "stdout",
     "output_type": "stream",
     "text": [
      "{'Mercury': {'mean_radius': 2439.7, 'mass': 3.3022e+23, 'orbital_period': 87.969}, 'Venus': {'mean_radius': 6051.8, 'mass': 4.8676e+24, 'orbital_period': 224.70069}, 'Earth': {'mean_radius': 6371.0, 'mass': 5.97219e+24, 'orbital_period': 365.25641}, 'Mars': {'mean_radius': 3389.5, 'mass': 6.4185e+23, 'orbital_period': 686.96}}\n",
      "{'mean_radius': 6051.8, 'mass': 4.8676e+24, 'orbital_period': 224.70069}\n",
      "6051.8\n"
     ]
    }
   ],
   "source": [
    "terrestrial_planet = {\n",
    "    'Mercury': {\n",
    "        'mean_radius': 2439.7,\n",
    "        'mass': 3.3022E+23,\n",
    "        'orbital_period': 87.969\n",
    "    },\n",
    "    'Venus': {\n",
    "        'mean_radius': 6051.8,\n",
    "        'mass': 4.8676E+24,\n",
    "        'orbital_period': 224.70069,\n",
    "    },\n",
    "    'Earth': {\n",
    "        'mean_radius': 6371.0,\n",
    "        'mass': 5.97219E+24,\n",
    "        'orbital_period': 365.25641,\n",
    "    },\n",
    "    'Mars': {\n",
    "        'mean_radius': 3389.5,\n",
    "        'mass': 6.4185E+23,\n",
    "        'orbital_period': 686.9600,\n",
    "    }\n",
    "}\n",
    "print(terrestrial_planet)\n",
    "print(terrestrial_planet['Venus'])\n",
    " \n",
    "print(terrestrial_planet['Venus']['mean_radius'])    # 6051.8\n"
   ]
  },
  {
   "cell_type": "code",
   "execution_count": 82,
   "id": "97efa5a8",
   "metadata": {},
   "outputs": [
    {
     "data": {
      "text/plain": [
       "500.0"
      ]
     },
     "execution_count": 82,
     "metadata": {},
     "output_type": "execute_result"
    }
   ],
   "source": [
    "a= 3E+2\n",
    "b= 2E+2\n",
    "a+b"
   ]
  },
  {
   "cell_type": "markdown",
   "id": "a39dfb73",
   "metadata": {},
   "source": [
    "## 25.5. 딕셔너리의 할당과 복사"
   ]
  },
  {
   "cell_type": "code",
   "execution_count": 261,
   "id": "13b4cf8e",
   "metadata": {},
   "outputs": [],
   "source": [
    "x = {'a': 0, 'b': 0, 'c': 0, 'd': 0}\n",
    "y = x\n",
    "z = x.copy()"
   ]
  },
  {
   "cell_type": "markdown",
   "id": "38b53272",
   "metadata": {},
   "source": [
    "- `y`는 `x`를 그대로 할당한 것이고\n",
    "- `z`는 `x`를 복사한 것이다."
   ]
  },
  {
   "cell_type": "code",
   "execution_count": 262,
   "id": "6e50f76d",
   "metadata": {},
   "outputs": [
    {
     "name": "stdout",
     "output_type": "stream",
     "text": [
      "True True\n",
      "True False\n"
     ]
    }
   ],
   "source": [
    "print(y == x, y is x)\n",
    "print(z == x, z is x)"
   ]
  },
  {
   "cell_type": "markdown",
   "id": "4dd36bc0",
   "metadata": {},
   "source": [
    " - 할당한 변수 `y`는 원래 변수 `x`와 완전히 같다.\n",
    " - 하지만 복사한 변수 `z`는 원래 변수 `x`와 값은 같지만 주소까지 같지는 않다."
   ]
  },
  {
   "cell_type": "code",
   "execution_count": 264,
   "id": "161bb45e",
   "metadata": {},
   "outputs": [
    {
     "name": "stdout",
     "output_type": "stream",
     "text": [
      "1 True True\n",
      "0 False False\n"
     ]
    }
   ],
   "source": [
    "x['a']=1\n",
    "print(y['a'],y['a'] == x['a'],y['a'] is x['a'])\n",
    "print(z['a'],z['a'] == x['a'],z['a'] is x['a'])"
   ]
  },
  {
   "cell_type": "markdown",
   "id": "2930cc4e",
   "metadata": {},
   "source": [
    "- `x` 에서 `'a'`의 키값을 변경하면\n",
    "- `y`에서 `'a'`의 키값은 `x`에 따라서 변경되지만\n",
    "- `z`에서 `'a'`의 키값은 `x`와 별개로 동작한다. (변경되지 않는다.)\n",
    "\n",
    "즉, `x`와 독립된 변수 `z`를 만들려면 단순히 *할당*만 해서는 안되고 **복사**해야 한다."
   ]
  },
  {
   "cell_type": "markdown",
   "id": "3b4d8e3f",
   "metadata": {},
   "source": [
    "### 25.5.1. 중첩 딕셔너리의 할당과 복사 알아보기"
   ]
  },
  {
   "cell_type": "code",
   "execution_count": 327,
   "id": "c1969a05",
   "metadata": {},
   "outputs": [],
   "source": [
    "x = {'a': {'python': '2.7'}, 'b': {'python': '3.6'}}\n",
    "y = x\n",
    "x.copy()\n",
    "import copy\n",
    "w = copy.deepcopy(x)"
   ]
  },
  {
   "cell_type": "markdown",
   "id": "baf3b092",
   "metadata": {},
   "source": [
    "- `y`는 `x`를 그대로 할당한 것이고\n",
    "- `z`는 `x`를 복사한 것이며\n",
    "- `w`는 `x`를 깊게 복사한 것이다."
   ]
  },
  {
   "cell_type": "code",
   "execution_count": 276,
   "id": "1cc0cc4e",
   "metadata": {},
   "outputs": [
    {
     "name": "stdout",
     "output_type": "stream",
     "text": [
      "True True\n",
      "True False\n",
      "True False\n"
     ]
    }
   ],
   "source": [
    "print(y == x, y is x)\n",
    "print(z == x, z is x)\n",
    "print(w == x, w is x)"
   ]
  },
  {
   "cell_type": "markdown",
   "id": "734eb650",
   "metadata": {},
   "source": [
    " - 할당한 변수 `y`는 원래 변수 `x`와 완전히 같다.\n",
    " - 하지만 복사한 변수 `z`는 원래 변수 `x`와 값은 같지만 주소까지 같지는 않다.\n",
    " - 깊게 복사한 변수 `w`도 원래 변수 `x`와 값은 같지만 주소까지 같지는 않다."
   ]
  },
  {
   "cell_type": "code",
   "execution_count": 277,
   "id": "67364e02",
   "metadata": {},
   "outputs": [
    {
     "name": "stdout",
     "output_type": "stream",
     "text": [
      "3.9 True True\n",
      "3.9 True True\n",
      "2.7 False False\n"
     ]
    }
   ],
   "source": [
    "x['a']['python']='3.9'\n",
    "print(y['a']['python'],y['a']['python'] == x['a']['python'], y['a']['python'] is x['a']['python'])\n",
    "print(z['a']['python'],z['a']['python'] == x['a']['python'], z['a']['python'] is x['a']['python'])\n",
    "print(w['a']['python'],w['a']['python'] == x['a']['python'], w['a']['python'] is x['a']['python'])"
   ]
  },
  {
   "cell_type": "markdown",
   "id": "22037b1b",
   "metadata": {},
   "source": [
    "- `x`에서 `'a'`의 키값, 에서 `'python'`의 키값을 변경하면\n",
    "- `y`에서 `'a'`의 키값, 에서 `'python'`의 키값은 변경되고\n",
    "- `z`에서 `'a'`의 키값, 에서 `'python'`의 키값도 변경되지만\n",
    "- `w`에서 `'a'`의 키값, 에서 `'python'`의 키값은 별개로 동작한다. (변경되지 않는다.)\n",
    "\n",
    "따라서, `x`와 독립된 변수 `w`를 만들려면 단순히 *할당*만 해서는 안되고, *복사*를 해도 안되며, 반드시 **깊은 복사**를 해야만 한다.\n",
    "\n",
    "즉, 원래의 변수 `x`와 (2레벨 이상의 의미에서) 다른 변수 `w`를 만드려면 **깊은 복사**를 해야 한다. (말이 정확치 않다.)"
   ]
  },
  {
   "cell_type": "markdown",
   "id": "ad8b271e",
   "metadata": {},
   "source": [
    "아래의 예시는 25.5. 이하의 예시와 진배없다. 하지만, 그래도 같은 결과가 나오는지 확인해보려고 한다."
   ]
  },
  {
   "cell_type": "code",
   "execution_count": 266,
   "id": "dad4fbc3",
   "metadata": {},
   "outputs": [],
   "source": [
    "x = {'a': {'python': '2.7'}, 'b': {'python': '3.6'}}\n",
    "y = x\n",
    "z = x.copy()\n",
    "import copy\n",
    "w = copy.deepcopy(x)"
   ]
  },
  {
   "cell_type": "code",
   "execution_count": 267,
   "id": "2ba49ed3",
   "metadata": {},
   "outputs": [
    {
     "name": "stdout",
     "output_type": "stream",
     "text": [
      "True True\n",
      "True False\n",
      "True False\n"
     ]
    }
   ],
   "source": [
    "print(y == x, y is x)\n",
    "print(z == x, z is x)\n",
    "print(w == x, w is x)"
   ]
  },
  {
   "cell_type": "code",
   "execution_count": 269,
   "id": "f9a7d3d7",
   "metadata": {},
   "outputs": [
    {
     "name": "stdout",
     "output_type": "stream",
     "text": [
      "{'python': '3.9'} True True\n",
      "{'python': '2.7'} False False\n",
      "{'python': '2.7'} False False\n"
     ]
    }
   ],
   "source": [
    "x['a']={'python': '3.9'}\n",
    "print(y['a'], y['a'] == x['a'], y['a'] is x['a'])\n",
    "print(z['a'], z['a'] == x['a'], z['a'] is x['a'])\n",
    "print(w['a'], w['a'] == x['a'], w['a'] is x['a'])"
   ]
  },
  {
   "cell_type": "markdown",
   "id": "474b2814",
   "metadata": {},
   "source": [
    "예상대로, 같은 결과가 나온다."
   ]
  },
  {
   "cell_type": "markdown",
   "id": "92dc37fa",
   "metadata": {},
   "source": [
    "## 25.6. 퀴즈"
   ]
  },
  {
   "cell_type": "markdown",
   "id": "12f708b0",
   "metadata": {},
   "source": [
    "1번 문제"
   ]
  },
  {
   "cell_type": "code",
   "execution_count": 132,
   "id": "72dc68d0",
   "metadata": {},
   "outputs": [
    {
     "data": {
      "text/plain": [
       "1"
      ]
     },
     "execution_count": 132,
     "metadata": {},
     "output_type": "execute_result"
    }
   ],
   "source": [
    "# a : 틀렸다.\n",
    "x = {'Python':1,'Java':2,'C':3}\n",
    "# x.pop() # error : pop expected at least 1 argument, got 0\n",
    "x.pop('Python') # 옳은 표현"
   ]
  },
  {
   "cell_type": "code",
   "execution_count": 123,
   "id": "2276301b",
   "metadata": {},
   "outputs": [
    {
     "data": {
      "text/plain": [
       "('C', 3)"
      ]
     },
     "execution_count": 123,
     "metadata": {},
     "output_type": "execute_result"
    }
   ],
   "source": [
    "# b : 틀렸다.\n",
    "x = {'Python':1,'Java':2,'C':3}\n",
    "x.popitem()"
   ]
  },
  {
   "cell_type": "code",
   "execution_count": 127,
   "id": "dda80780",
   "metadata": {},
   "outputs": [
    {
     "name": "stdout",
     "output_type": "stream",
     "text": [
      "{'Java': 2, 'C': 3}\n"
     ]
    }
   ],
   "source": [
    "# c : 맞다.\n",
    "x = {'Python':1,'Java':2,'C':3}\n",
    "x.pop('Python',100) # return : 1\n",
    "print(x)"
   ]
  },
  {
   "cell_type": "code",
   "execution_count": 137,
   "id": "8529a887",
   "metadata": {},
   "outputs": [],
   "source": [
    "# d : 틀렸다.\n",
    "x = {'Python':1,'Java':2,'C':3}\n",
    "# x.remove('Python') # error : 'dict' object has no attribute 'remove' "
   ]
  },
  {
   "cell_type": "code",
   "execution_count": 140,
   "id": "7ff62b9e",
   "metadata": {},
   "outputs": [
    {
     "name": "stdout",
     "output_type": "stream",
     "text": [
      "{'Java': 2, 'C': 3}\n"
     ]
    }
   ],
   "source": [
    "# e : 맞다.\n",
    "x = {'Python':1,'Java':2,'C':3}\n",
    "del x['Python'] # return : x\n",
    "print(x)"
   ]
  },
  {
   "cell_type": "markdown",
   "id": "26d250d6",
   "metadata": {},
   "source": [
    "2번 문제 : 올바르지 않은 것은?\n",
    " - a. `setdefault`는 딕셔너리에 키-값 쌍을 추가한다. o\n",
    " - b. `setdefault`는 키만 지정하면 값은 0으로 지정한다. x / 9이 아니라 None이다.\n",
    " - c. `keys`는 딕셔너리의 키-값 쌍을 모두 가져온다. x / 키만 가져온다.\n",
    " - d. `clear`는 딕셔너리에 키-값 쌍을 모두 삭제한다. o\n",
    " - e. `update`는 딕셔너리에 키의 값을 수정한다. o "
   ]
  },
  {
   "cell_type": "markdown",
   "id": "7afd4fd6",
   "metadata": {},
   "source": [
    "3번 문제"
   ]
  },
  {
   "cell_type": "code",
   "execution_count": 161,
   "id": "ce43c3e4",
   "metadata": {},
   "outputs": [
    {
     "name": "stdout",
     "output_type": "stream",
     "text": [
      "a\n",
      "b\n",
      "c\n"
     ]
    }
   ],
   "source": [
    "# a : 틀렸다.\n",
    "x = {'a':1,'b':2,'c':3}\n",
    "# for key, value in x:\n",
    "#     print(key)\n",
    "# error : not enough values to unpack (expected 2, got 1)\n",
    "for key,value in x.items(): # 유효한 답 -> e\n",
    "    print(key)"
   ]
  },
  {
   "cell_type": "code",
   "execution_count": 158,
   "id": "ea3e9e83",
   "metadata": {},
   "outputs": [
    {
     "name": "stdout",
     "output_type": "stream",
     "text": [
      "a\n",
      "b\n",
      "c\n"
     ]
    }
   ],
   "source": [
    "# b : 맞다.\n",
    "x = {'a':1,'b':2,'c':3}\n",
    "for key in x: # 틀릴 것 같이 보이지만 맞았다.\n",
    "    print(key)\n",
    "# for key in x.keys(): # altenative answer -> c\n",
    "#     print(key)\n"
   ]
  },
  {
   "cell_type": "code",
   "execution_count": 159,
   "id": "593ed3d2",
   "metadata": {},
   "outputs": [
    {
     "name": "stdout",
     "output_type": "stream",
     "text": [
      "a\n",
      "b\n",
      "c\n"
     ]
    }
   ],
   "source": [
    "# c : 맞다.\n",
    "x = {'a':1,'b':2,'c':3}\n",
    "for key in x.keys(): # 문법에 정확히 맞다.\n",
    "    print(key)"
   ]
  },
  {
   "cell_type": "code",
   "execution_count": 160,
   "id": "a986cf93",
   "metadata": {},
   "outputs": [
    {
     "name": "stdout",
     "output_type": "stream",
     "text": [
      "1\n",
      "2\n",
      "3\n"
     ]
    }
   ],
   "source": [
    "# d : 틀렸다.\n",
    "x = {'a':1,'b':2,'c':3}\n",
    "for value in x.values(): # 키들을 출력해야 하는데, 값들을 출력하고 있다.\n",
    "    print(value)"
   ]
  },
  {
   "cell_type": "code",
   "execution_count": 162,
   "id": "240d0b73",
   "metadata": {},
   "outputs": [
    {
     "name": "stdout",
     "output_type": "stream",
     "text": [
      "a\n",
      "b\n",
      "c\n"
     ]
    }
   ],
   "source": [
    "# e : 맞다.\n",
    "x = {'a':1,'b':2,'c':3}\n",
    "for key, value in x.items(): # 문법에 정확히 맞다.\n",
    "    print(key)"
   ]
  },
  {
   "cell_type": "markdown",
   "id": "65298bc7",
   "metadata": {},
   "source": [
    "4번 문제 : `x = {'a': 10, 'b': 20, 'c': 30, 'd': 40}`일 때, 값이 40인 키-값을 삭제하는 방법은?"
   ]
  },
  {
   "cell_type": "code",
   "execution_count": 188,
   "id": "d42a9403",
   "metadata": {},
   "outputs": [
    {
     "ename": "RuntimeError",
     "evalue": "dictionary changed size during iteration",
     "output_type": "error",
     "traceback": [
      "\u001b[0;31m---------------------------------------------------------------------------\u001b[0m",
      "\u001b[0;31mRuntimeError\u001b[0m                              Traceback (most recent call last)",
      "\u001b[0;32m/tmp/ipykernel_33/3342491992.py\u001b[0m in \u001b[0;36m<module>\u001b[0;34m\u001b[0m\n\u001b[1;32m      1\u001b[0m \u001b[0;31m# a : 맞을 것 같은데 틀리네?\u001b[0m\u001b[0;34m\u001b[0m\u001b[0;34m\u001b[0m\u001b[0m\n\u001b[1;32m      2\u001b[0m \u001b[0mx\u001b[0m \u001b[0;34m=\u001b[0m \u001b[0;34m{\u001b[0m\u001b[0;34m'a'\u001b[0m\u001b[0;34m:\u001b[0m \u001b[0;36m10\u001b[0m\u001b[0;34m,\u001b[0m \u001b[0;34m'b'\u001b[0m\u001b[0;34m:\u001b[0m \u001b[0;36m20\u001b[0m\u001b[0;34m,\u001b[0m \u001b[0;34m'c'\u001b[0m\u001b[0;34m:\u001b[0m \u001b[0;36m30\u001b[0m\u001b[0;34m,\u001b[0m \u001b[0;34m'd'\u001b[0m\u001b[0;34m:\u001b[0m \u001b[0;36m40\u001b[0m\u001b[0;34m}\u001b[0m\u001b[0;34m\u001b[0m\u001b[0;34m\u001b[0m\u001b[0m\n\u001b[0;32m----> 3\u001b[0;31m \u001b[0;32mfor\u001b[0m \u001b[0mkey\u001b[0m\u001b[0;34m,\u001b[0m \u001b[0mvalue\u001b[0m \u001b[0;32min\u001b[0m \u001b[0mx\u001b[0m\u001b[0;34m.\u001b[0m\u001b[0mitems\u001b[0m\u001b[0;34m(\u001b[0m\u001b[0;34m)\u001b[0m\u001b[0;34m:\u001b[0m \u001b[0;31m# RuntimeError: dictionary changed size during iteration\u001b[0m\u001b[0;34m\u001b[0m\u001b[0;34m\u001b[0m\u001b[0m\n\u001b[0m\u001b[1;32m      4\u001b[0m \u001b[0;34m\u001b[0m\u001b[0m\n\u001b[1;32m      5\u001b[0m     \u001b[0;32mif\u001b[0m \u001b[0mvalue\u001b[0m \u001b[0;34m==\u001b[0m \u001b[0;36m40\u001b[0m\u001b[0;34m:\u001b[0m\u001b[0;34m\u001b[0m\u001b[0;34m\u001b[0m\u001b[0m\n",
      "\u001b[0;31mRuntimeError\u001b[0m: dictionary changed size during iteration"
     ]
    }
   ],
   "source": [
    "# a : 맞을 것 같은데 틀리네?\n",
    "x = {'a': 10, 'b': 20, 'c': 30, 'd': 40}\n",
    "for key, value in x.items(): # RuntimeError: dictionary changed size during iteration\n",
    "\n",
    "    if value == 40:\n",
    "        del x[key]\n",
    "print(x)"
   ]
  },
  {
   "cell_type": "code",
   "execution_count": 191,
   "id": "c671c1fe",
   "metadata": {},
   "outputs": [
    {
     "name": "stdout",
     "output_type": "stream",
     "text": [
      "{'a': 10, 'b': 20, 'c': 30}\n"
     ]
    }
   ],
   "source": [
    "# 위의 코드를 풀어 쓴 아래 코드는 정상적으로 동작한다.\n",
    "x = {'a': 10, 'b': 20, 'c': 30, 'd': 40}\n",
    "key = list(x.keys())[0]\n",
    "value = list(x.values())[0]\n",
    "if value == 40:\n",
    "    del x[key]\n",
    "key = list(x.keys())[1]\n",
    "value = list(x.values())[1]\n",
    "if value == 40:\n",
    "    del x[key]\n",
    "key = list(x.keys())[2]\n",
    "value = list(x.values())[2]\n",
    "if value == 40:\n",
    "    del x[key]\n",
    "key = list(x.keys())[3]\n",
    "value = list(x.values())[3]\n",
    "if value == 40:\n",
    "    del x[key]\n",
    "print(x)"
   ]
  },
  {
   "cell_type": "code",
   "execution_count": 208,
   "id": "6176145d",
   "metadata": {},
   "outputs": [
    {
     "name": "stdout",
     "output_type": "stream",
     "text": [
      "{'b': 20, 'c': 30, 'd': 40}\n"
     ]
    }
   ],
   "source": [
    "# b : 틀렸다.\n",
    "# x = {'a': 10, 'b': 20, 'c': 30, 'd': 40}\n",
    "# del x[40] # KeyError: 40\n",
    "# print(x)\n",
    "\n",
    "x = {'a': 10, 'b': 20, 'c': 30, 'd': 40}\n",
    "del x['a'] # 옳게 만들어진 코드\n",
    "print(x)"
   ]
  },
  {
   "cell_type": "code",
   "execution_count": 203,
   "id": "95870086",
   "metadata": {},
   "outputs": [
    {
     "name": "stdout",
     "output_type": "stream",
     "text": [
      "{'a': 10, 'b': 20, 'c': 30, 'd': 40}\n"
     ]
    }
   ],
   "source": [
    "# c : 틀렸다.\n",
    "x = {'a': 10, 'b': 20, 'c': 30, 'd': 40}\n",
    "x = {key: value for key, value in x.items()} # 아무 일도 하지 않았다.\n",
    "print(x)"
   ]
  },
  {
   "cell_type": "code",
   "execution_count": 204,
   "id": "9cc8ad51",
   "metadata": {},
   "outputs": [
    {
     "name": "stdout",
     "output_type": "stream",
     "text": [
      "True\n",
      "False\n",
      "True\n",
      "False\n"
     ]
    }
   ],
   "source": [
    "x = {'a': 10, 'b': 20, 'c': 30, 'd': 40}\n",
    "y = {key: value for key, value in x.items()}\n",
    "z = x.copy()\n",
    "print(x == y)\n",
    "print(x is y) # y는 x와 비교했을 때, 주소만 다를 뿐 그 값이 완전히 같다.\n",
    "print(y == z)\n",
    "print(y is z) # y는 z = x.copy()와 비교했을 때에도, 주소가 다르고 값이 같다."
   ]
  },
  {
   "cell_type": "code",
   "execution_count": 209,
   "id": "20f7f28c",
   "metadata": {},
   "outputs": [
    {
     "name": "stdout",
     "output_type": "stream",
     "text": [
      "{'a': 10, 'b': 20, 'c': 30}\n"
     ]
    }
   ],
   "source": [
    "# d : 맞다.\n",
    "x = {'a': 10, 'b': 20, 'c': 30, 'd': 40}\n",
    "x = {key: value for key, value in x.items() if value != 40} # 문법에 정확히 맞다.\n",
    "print(x)"
   ]
  },
  {
   "cell_type": "code",
   "execution_count": 210,
   "id": "9f1f53ff",
   "metadata": {},
   "outputs": [
    {
     "name": "stdout",
     "output_type": "stream",
     "text": [
      "{'d': 40}\n"
     ]
    }
   ],
   "source": [
    "# e : 틀렸다.\n",
    "x = {'a': 10, 'b': 20, 'c': 30, 'd': 40}\n",
    "x = {key: value for key, value in x.items() if value == 40} # 정답인 d와 반대로 적었다.\n",
    "print(x)"
   ]
  },
  {
   "cell_type": "markdown",
   "id": "02858cee",
   "metadata": {},
   "source": [
    "5번 문제 : 쉬운.. 줄 알았는데 어렵네.. 는 아니고 쉽다."
   ]
  },
  {
   "cell_type": "code",
   "execution_count": 217,
   "id": "9cbedeb2",
   "metadata": {},
   "outputs": [
    {
     "data": {
      "text/plain": [
       "1"
      ]
     },
     "execution_count": 217,
     "metadata": {},
     "output_type": "execute_result"
    }
   ],
   "source": [
    "terrestrial_planet = {\n",
    "    'Earth': {\n",
    "        'physical_characteristics': {\n",
    "            'mean_radius': 6371.0,\n",
    "            'mass': 5.97219E+24\n",
    "        },\n",
    "        'orbital_characteristics': {\n",
    "            'orbital_period': 365.25641,\n",
    "            'satellites': 1\n",
    "        }\n",
    "    },\n",
    "    'Mars': {\n",
    "        'physical_characteristics': {\n",
    "            'mean_radius': 3389.5,\n",
    "            'mass': 6.4185E+23\n",
    "        },\n",
    "        'orbital_characteristics': {\n",
    "            'orbital_period': 686.9600,\n",
    "            'satellites': 2\n",
    "        }\n",
    "    }\n",
    "}\n",
    "terrestrial_planet['Earth']['orbital_characteristics']['satellites']"
   ]
  },
  {
   "cell_type": "markdown",
   "id": "70dcb216",
   "metadata": {},
   "source": [
    "6번 문제 : "
   ]
  },
  {
   "cell_type": "code",
   "execution_count": null,
   "id": "7cec86b9",
   "metadata": {},
   "outputs": [],
   "source": [
    "import copy\n",
    "x = {'python': {'version': '2.7'}, 'script': {'name': 'hello.py'}}\n",
    "a = x\n",
    "b = x.copy()\n",
    "c = copy.deepcopy(x)\n",
    "x['python']['version'] = '3.6'\n",
    "print(a['python']['version'], b['python']['version'], c['python']['version'])"
   ]
  },
  {
   "cell_type": "markdown",
   "id": "80cd756e",
   "metadata": {},
   "source": [
    " - 원래의 변수 와 (2레벨 이상의 의미에서) 다른 변수 를 만드려면 **깊은 복사**를 해야 한다.(cf. 25.5.1)\n",
    " - `a['python']['version']`는 당연히 `x['python']['version']`(=`3.6`)과 같다. (할당)\n",
    "   - 실제로 두 값은 뼛속까지 같다 (`is`)\n",
    " - `b['python']['version']`는 여전히 `x['python']['version']`(=`3.6`)과 같다. (복사)\n",
    "   - 이 두 값도 뼛속까지 같다 (`is`)\n",
    " - `c['python']['version']`는 `x['python']['version']`(=`3.6`)와 다르다. (깊은복사)\n",
    "   - 이 두 값은 뼛속까지 같지 않을 뿐더러 (`not is`), 값 또한 다르다(`!=`).\n",
    "   - `c['python']['version']`는 변경되기 전 값인 `2.7`이다."
   ]
  },
  {
   "cell_type": "markdown",
   "id": "93fb159d",
   "metadata": {},
   "source": [
    "열심히 적었다.\n",
    "맞는 말을 적은 것 같다.\n",
    "하지만 10분 정도만 흐른다고 하더라도 다시 참 거짓을 판별하라고 하면 못하겠다."
   ]
  },
  {
   "cell_type": "markdown",
   "id": "25ff3f40",
   "metadata": {},
   "source": [
    "## 25.7. 연습문제"
   ]
  },
  {
   "cell_type": "code",
   "execution_count": 283,
   "id": "758a590b",
   "metadata": {
    "scrolled": true
   },
   "outputs": [
    {
     "name": "stdout",
     "output_type": "stream",
     "text": [
      "dict_keys(['korean', 'english', 'mathematics', 'science'])\n",
      "[94, 91, 89, 83]\n",
      "89.25\n"
     ]
    }
   ],
   "source": [
    "maria = {'korean': 94, 'english': 91, 'mathematics': 89, 'science': 83}\n",
    "print(maria.keys())\n",
    "A = []\n",
    "for value in maria.values():\n",
    "    A.append(value)\n",
    "print(A)\n",
    "print(sum(A)/len(A))\n",
    "#print(average)"
   ]
  },
  {
   "cell_type": "markdown",
   "id": "05bd8e15",
   "metadata": {},
   "source": [
    "## 25.8. 심사문제"
   ]
  },
  {
   "cell_type": "code",
   "execution_count": 292,
   "id": "3024105a",
   "metadata": {},
   "outputs": [
    {
     "name": "stdout",
     "output_type": "stream",
     "text": [
      "{'alpha': 10, 'beta': 20, 'gamma': 30, 'delta': 40, 'epsilon': 0.01}\n",
      "{'alpha': 10, 'beta': 20, 'delta': 40, 'epsilon': 0.01}\n",
      "{'alpha': 10, 'beta': 20, 'epsilon': 0.01}\n"
     ]
    }
   ],
   "source": [
    "keys = ['alpha', 'beta', 'gamma', 'delta','epsilon']\n",
    "values = [10, 20, 30, 40, 0.01]\n",
    "x = dict(zip(keys,values))\n",
    "print(x)\n",
    "x = {key:value for key, value in x.items() if value !=30}\n",
    "print(x)\n",
    "del x['delta']\n",
    "print(x)"
   ]
  },
  {
   "cell_type": "code",
   "execution_count": 293,
   "id": "dd9883cb",
   "metadata": {},
   "outputs": [
    {
     "name": "stdout",
     "output_type": "stream",
     "text": [
      "{'alpha': 10, 'bravo': 20, 'charlie': 30, 'delta': 40}\n",
      "{'alpha': 10, 'bravo': 20, 'delta': 40}\n",
      "{'alpha': 10, 'bravo': 20}\n"
     ]
    }
   ],
   "source": [
    "keys = ['alpha', 'bravo', 'charlie', 'delta']\n",
    "values = [10, 20, 30, 40]\n",
    "x = dict(zip(keys,values))\n",
    "print(x)\n",
    "x = {key:value for key, value in x.items() if value !=30}\n",
    "print(x)\n",
    "del x['delta']\n",
    "print(x)"
   ]
  },
  {
   "cell_type": "markdown",
   "id": "7de49650",
   "metadata": {},
   "source": [
    "입력1 : alpha bravo charlie delta\n",
    "입력2 : 10 20 30 40"
   ]
  },
  {
   "cell_type": "code",
   "execution_count": 295,
   "id": "c3475bad",
   "metadata": {},
   "outputs": [
    {
     "name": "stdout",
     "output_type": "stream",
     "text": [
      "alpha bravo charlie delta echo foxtrot golf\n",
      "30 40 50 60 70 80 90\n",
      "{'bravo': 40, 'charlie': 50, 'echo': 70, 'foxtrot': 80, 'golf': 90}\n"
     ]
    }
   ],
   "source": [
    "keys = input().split()\n",
    "values = map(int, input().split())\n",
    "x = dict(zip(keys,values))\n",
    "x = {key:value for key, value in x.items() if value !=30}\n",
    "del x['delta']\n",
    "print(x)"
   ]
  },
  {
   "cell_type": "markdown",
   "id": "aa676ed3",
   "metadata": {},
   "source": [
    "# 26. 세트 이용하기"
   ]
  },
  {
   "cell_type": "markdown",
   "id": "1f02985e",
   "metadata": {},
   "source": [
    "수학에는 ordered pair $(a,b)$와 unordered pair $\\{a,b\\}$가 있다.\n",
    "또한 (ordered) tuple $(a_1,a_2,\\cdots,a_n)$과 unordered tuple $\\{a_1,a_2,\\cdots,a_n\\}$이 있다.\n",
    "즉, ordered pair와 (ordered) tuple에서는 순서가 존재하고 unordered pair와 unordered tuple에서는 순서가 존재하지 않는다.\n",
    "전자를 (finite) **sequence**라고도 부르고, 후자를 **set** 이라고도 부른다.\n",
    "\n",
    "파이썬에서 sequence에 해당하는 것은 `list`와 `tuple`이다.\n",
    "`numpy`까지 확장하면 rank 1의 `np.array`까지도 sequence에 해당한다.\n",
    "이것은 euclidean vector의 의미와 비슷하게 생각할 수 있지만, `list`와 `tuple`에서는 (벡터공간을 구성하는 두 연산) scalar multiplication과 vector addition에 해당하는 연산들(`*`, `+`)이 선형대수적으로 잘 작동하지 않는다.\n",
    "반면 `np.array`는 선형대수적으로 scalar multiplication과 vector addition이 잘 작동한다는 이점이 있다.\n",
    "\n",
    "파이썬에서 **set**에 해당하는 것은 `set`이다.\n",
    "수학에서의 **set**과 파이썬에서의 `set`이 얼마나 같고 얼마나 다른지는 아직 모르겠다."
   ]
  },
  {
   "cell_type": "markdown",
   "id": "eb0aeb0f",
   "metadata": {},
   "source": [
    "|매서드|설명|문법|반환|분류|비고|\n",
    "|:-:|:-:|:-:|:-:|:-:|:-:|\n",
    "|`\\|`|합집합|*set* `\\|`*set*|*set*|연산자||\n",
    "|`&`|교집합|*set*`&`*set*|*set*|연산자||\n",
    "|`-`|차집합|*set*`-`*set*|*set*|연산자||\n",
    "|`^`|대칭차집합|*set*`^`*set*|*set*|연산자||\n",
    "|`union`|합집합|*set*.`set.union`(*set*)|*set*|*set*의 _method_||\n",
    "|`intersection`|교집합|*set*.`set.intersection`(*set*)|*set*|*set*의 _method_||\n",
    "|`difference`|차집합|*set*.`set.difference`(*set*)|*set*|*set*의 _method_||\n",
    "|`symmetric_difference`|대칭차집합|*set*.`set.symmetric_difference`(*set*)|*set*|*set*의 _method_||\n",
    "|`update`|합집합|*set*.`update`(*set*)|x|*set*의 _method_||\n",
    "|`intersection`|교집합|*set*.`intersection_update`(*set*)|x|*set*의 _method_||\n",
    "|`difference`|차집합|*set*.`difference_update`(*set*)|x|*set*의 _method_||\n",
    "|`symmetric_difference`|차집합|*set*.`symmetric_difference_update`(*set*)|x|*set*의 _method_||\n",
    "|`<=`|부분집합|*set* `<=` *set*|*bool*|연산자||\n",
    "|`>=`|포함집합|*set* `>=` *set*|*bool*|연산자||\n",
    "|`<`|진부분집합|*set* `<` *set*|*bool*|연산자||\n",
    "|`>`|진포함집합|*set* `>` *set*|*bool*|연산자||\n",
    "|`isdisjoint`|서로소|*set*.`isdisjoint`(*set*)|*bool*|*set*의 _method_||\n",
    "|`add`|특정 요소를 추가한다.|*set*.`add`(ele)|x|*set*의 _method_||\n",
    "|`remove`|특정 요소를 삭제한다.|*set*.`remove`(ele)|x|*set*의 _method_|특정 요소가 없을시 에러|\n",
    "|`discard`|특정 요소를 삭제한다.|*set*.`discard`(ele)|x|*set*의 _method_|특정 요소가 없어도 넘어감|\n",
    "|`pop`|임의의(맨 처음) 요소를 삭제한다.|*set*.`pop`()|삭제된 요소|*set*의 _method_||\n",
    "|`clear`|모든 요소를 삭제한다.|*set*.`clear`()||*set*의 _method_||\n",
    "|`len`|요소의 개수를 구한다.|`len`(*set*)||_function_||"
   ]
  },
  {
   "cell_type": "code",
   "execution_count": 622,
   "id": "16dd55f5",
   "metadata": {},
   "outputs": [
    {
     "name": "stdout",
     "output_type": "stream",
     "text": [
      "<method 'union' of 'set' objects> <class 'method_descriptor'>\n",
      "<method 'update' of 'set' objects> <class 'method_descriptor'>\n",
      "<class 'bool'>\n",
      "<built-in function len> <class 'builtin_function_or_method'>\n"
     ]
    }
   ],
   "source": [
    "print(set.union, type(set.union))\n",
    "print(set.update, type(set.update))\n",
    "print(type(2==3))\n",
    "print(len, type(len))"
   ]
  },
  {
   "cell_type": "markdown",
   "id": "98c73a0d",
   "metadata": {},
   "source": [
    "## 26.1. 세트 만들기"
   ]
  },
  {
   "cell_type": "code",
   "execution_count": 356,
   "id": "dc902bef",
   "metadata": {},
   "outputs": [
    {
     "name": "stdout",
     "output_type": "stream",
     "text": [
      "{'a', 'b', 'c'}\n",
      "{'a', 'b', 'c'}\n",
      "{'a', 'b', 'c'}\n",
      "False\n",
      "False\n",
      "False\n",
      "True\n",
      "True\n",
      "True\n",
      "140141432308896\n",
      "140141432310464\n",
      "140141432308448\n"
     ]
    }
   ],
   "source": [
    "A = {'a', 'b', 'c'}\n",
    "B = {'a', 'c', 'b'} # mixed\n",
    "C = {'a', 'b', 'c', 'c'} # repeated\n",
    "print(A)\n",
    "print(B)\n",
    "print(C)\n",
    "print(A is B)\n",
    "print(A is C)\n",
    "print(B is C)\n",
    "print(A == B)\n",
    "print(A == C)\n",
    "print(B == C)\n",
    "print(id(A))\n",
    "print(id(B))\n",
    "print(id(C))"
   ]
  },
  {
   "cell_type": "markdown",
   "id": "c5f906e8",
   "metadata": {},
   "source": [
    "수학에서의 **set**과 마찬가지로 순서가 바뀌어도 서로 같다 (`A == B`) 중복된 요소가 존재해도 여전히 같다 (`A == C`)\n",
    "하지만 완전한 의미에서 같은 것은 아니다. (`not A is B`, `not A is C`)"
   ]
  },
  {
   "cell_type": "markdown",
   "id": "8254b782",
   "metadata": {},
   "source": [
    "<font color = red> 이상한 점</font> :\n",
    "\n",
    "교재에 따르면\n",
    "> 세트는 요소의 순서가 정해져 있지 않습니다(unordered). 따라서 세트를 출력해보면 매번 요소의 순서가 다르게 나옵니다.\n",
    "\n",
    "라고 되어 있다.\n",
    "하지만 실제로 `A`를 여러번 출력한다고 하더라도 순서는 일정하게 나온다."
   ]
  },
  {
   "cell_type": "markdown",
   "id": "7505c5be",
   "metadata": {},
   "source": [
    "### 26.1.1. 세트에 특정 값이 있는지 확인하기"
   ]
  },
  {
   "cell_type": "code",
   "execution_count": 358,
   "id": "9c8376bd",
   "metadata": {},
   "outputs": [
    {
     "name": "stdout",
     "output_type": "stream",
     "text": [
      "True\n",
      "False\n"
     ]
    }
   ],
   "source": [
    "A = {'a', 'b', 'c'}\n",
    "print('a' in A)\n",
    "print(a in A)"
   ]
  },
  {
   "cell_type": "markdown",
   "id": "b4e4b942",
   "metadata": {},
   "source": [
    "### 26.1.2. 반복가능한 객체를 사용하여 세트 만들기"
   ]
  },
  {
   "cell_type": "markdown",
   "id": "e9a49118",
   "metadata": {},
   "source": [
    "반복가능한 객체(iterable object, e.g. `str`, `list`, `dict`, `set`, `range`)로 `set`을 만들 수 있다.\n",
    " - 위 subsubsection의 제목은 원래 '26.1.2  set를 사용하여 세트 만들기'였다. 이것을 옳게 바꾸었다."
   ]
  },
  {
   "cell_type": "code",
   "execution_count": 365,
   "id": "2ff31be2",
   "metadata": {},
   "outputs": [
    {
     "name": "stdout",
     "output_type": "stream",
     "text": [
      "{'h', 't', 'o', 'y', 'n', 'P'}\n"
     ]
    }
   ],
   "source": [
    "P = 'Python'\n",
    "print(set(P))"
   ]
  },
  {
   "cell_type": "code",
   "execution_count": 368,
   "id": "3a41879e",
   "metadata": {},
   "outputs": [
    {
     "name": "stdout",
     "output_type": "stream",
     "text": [
      "{0, 1, 2, 3, 4}\n"
     ]
    }
   ],
   "source": [
    "R = range(5)\n",
    "print(set(R))"
   ]
  },
  {
   "cell_type": "code",
   "execution_count": 369,
   "id": "072646f3",
   "metadata": {},
   "outputs": [
    {
     "name": "stdout",
     "output_type": "stream",
     "text": [
      "set()\n"
     ]
    }
   ],
   "source": [
    "E = set()\n",
    "print(E)"
   ]
  },
  {
   "cell_type": "markdown",
   "id": "f338deaf",
   "metadata": {},
   "source": [
    "이것은 공집합처럼 생각해도 되는 것 같다."
   ]
  },
  {
   "cell_type": "markdown",
   "id": "f85354a2",
   "metadata": {},
   "source": [
    "## 26.2. 집합 연산 사용하기"
   ]
  },
  {
   "cell_type": "code",
   "execution_count": 597,
   "id": "9e481934",
   "metadata": {},
   "outputs": [
    {
     "name": "stdout",
     "output_type": "stream",
     "text": [
      "{1, 2, 3, 4, 5, 6}\n",
      "{1, 2, 3, 4, 5, 6}\n",
      "{3, 4}\n",
      "{3, 4}\n",
      "{1, 2}\n",
      "{1, 2}\n",
      "{1, 2, 5, 6}\n",
      "{1, 2, 5, 6}\n"
     ]
    }
   ],
   "source": [
    "A = {1,2,3,4}\n",
    "B = {3,4,5,6}\n",
    "print(A|B)\n",
    "print(set.union(A,B))\n",
    "print(A&B)\n",
    "print(set.intersection(A,B))\n",
    "print(A-B)\n",
    "print(set.difference(A,B))\n",
    "print(A^B)\n",
    "print(set.symmetric_difference(A,B))"
   ]
  },
  {
   "cell_type": "markdown",
   "id": "3f2b070f",
   "metadata": {},
   "source": [
    "이전에 품었던 의문인`3^5=6`이 해결되었다.\n",
    "그때 연수님께서 저 `^` 연산이 비트연산자(bitwise operator, XOR)에 해당된다고 말씀하신 적이 있는데, 이것은 정확하게 대칭차집합(symmetric difference)에 대응된다.\n",
    "\n",
    "- `3^5=6`\n",
    "|base 10||base 2|base 2|base 2|\n",
    "|-||-|-|-|\n",
    "|3||0|1|1|\n",
    "|5||1|0|1|\n",
    "|-||-|-|-|\n",
    "|6||1|1|0|"
   ]
  },
  {
   "cell_type": "code",
   "execution_count": 382,
   "id": "758e9d9c",
   "metadata": {},
   "outputs": [
    {
     "data": {
      "text/plain": [
       "6"
      ]
     },
     "execution_count": 382,
     "metadata": {},
     "output_type": "execute_result"
    }
   ],
   "source": [
    "3^5"
   ]
  },
  {
   "cell_type": "markdown",
   "id": "9f6a8efc",
   "metadata": {},
   "source": [
    "즉, `^`는 두 집합 사이의 연산이기도 하면서 두 숫자 사이의 연산이기도 하다.\n",
    "혹시 그렇다면, 숫자나 문자열, 리스트 사이에 '교집합', '합집합', '차집합'이 성립할까?"
   ]
  },
  {
   "cell_type": "code",
   "execution_count": 405,
   "id": "a24b8345",
   "metadata": {},
   "outputs": [
    {
     "name": "stdout",
     "output_type": "stream",
     "text": [
      "7\n",
      "1\n",
      "2\n",
      "6\n"
     ]
    }
   ],
   "source": [
    "print(5|3)\n",
    "print(5&3)\n",
    "print(5-3)\n",
    "print(5^3)\n",
    "# print('analysis'|'calculus') # TypeError: unsupported operand type(s) for |: 'str' and 'str'\n",
    "# print('analysis'&'calculus') # TypeError: unsupported operand type(s) for &: 'str' and 'str'\n",
    "# print('analysis'-'calculus') # TypeError: unsupported operand type(s) for -: 'str' and 'str'\n",
    "# print('analysis'^'calculus') # TypeError: unsupported operand type(s) for ^: 'str' and 'str'\n",
    "# print([1,2]|[1,3]) # TypeError: unsupported operand type(s) for |: 'list' and 'list'\n",
    "# print([1,2]&[1,3]) # TypeError: unsupported operand type(s) for &: 'list' and 'list'\n",
    "# print([1,2]-[1,3]) # TypeError: unsupported operand type(s) for -: 'list' and 'list'\n",
    "# print([1,2]^[1,3]) # TypeError: unsupported operand type(s) for ^: 'list' and 'list'"
   ]
  },
  {
   "cell_type": "markdown",
   "id": "9eac965c",
   "metadata": {},
   "source": [
    "두 숫자에 대하여 `|`와 `&`가 bitwise(?)한 or gate / and gate를 나타내는 것 같다.\n",
    "\n",
    "- `5|3=7`\n",
    "|base 10||base 2|base 2|base 2|\n",
    "|-||-|-|-|\n",
    "|5||1|0|1|\n",
    "|3||0|1|1|\n",
    "|-||-|-|-|\n",
    "|7||1|1|1|\n",
    "\n",
    "- `5&3=1`\n",
    "|base 10||base 2|base 2|base 2|\n",
    "|-||-|-|-|\n",
    "|5||1|0|1|\n",
    "|3||0|1|1|\n",
    "|-||-|-|-|\n",
    "|1||0|0|1|\n",
    "\n",
    "`-`는 평소에 쓰던 정수의 뺄셈 연산이라고 생각할 수 있다.\n",
    "이것이 bitwise(?)한 difference gate와도 일치할 것만 같기도 하다.\n",
    "실제로 일치하는지를 살펴보면\n",
    "\n",
    "- `5-3=2`\n",
    "|base 10||base 2|base 2|base 2|\n",
    "|-||-|-|-|\n",
    "|5||1|0|1|\n",
    "|3||0|1|1|\n",
    "|-||-|-|-|\n",
    "|1||0|1|0|\n",
    "\n",
    "이 된다.\n",
    "즉, bitwise difference와 일치하는 것 같다.\n",
    "\n",
    "\n",
    "참고 :\n",
    "\\begin{align*}\n",
    "a\\text{ and }b&\\leftrightarrow A\\cap B\\\\\n",
    "a\\text{ or }b&\\leftrightarrow A\\cup B\\\\\n",
    "a-b\\equiv a\\text{ and } \\neg b&\\leftrightarrow A\\setminus B=A\\cap B^c\\\\\n",
    "a\\wedge b\\equiv (a\\text{ or }b)\\setminus(a\\text{ and }b)\\equiv(a\\setminus b)\\text{ or }(b\\setminus a)&\\leftrightarrow A\\ominus B = (A\\cup B)\\setminus(A\\cap B)=(A\\setminus B)\\cup(B\\setminus A)\n",
    "\\end{align*}\n"
   ]
  },
  {
   "cell_type": "markdown",
   "id": "031d742f",
   "metadata": {},
   "source": [
    "### 26.2.1. 집합 연산 후 할당 연산자 사용하기"
   ]
  },
  {
   "cell_type": "code",
   "execution_count": 601,
   "id": "3a37c2f8",
   "metadata": {},
   "outputs": [
    {
     "name": "stdout",
     "output_type": "stream",
     "text": [
      "{1, 2, 3, 4}\n",
      "{1, 2, 3, 4}\n"
     ]
    }
   ],
   "source": [
    "A = {1, 2, 3}\n",
    "A |={3,4}\n",
    "print(A)\n",
    "A = {1, 2, 3}\n",
    "A.update({3,4})\n",
    "print(A)"
   ]
  },
  {
   "cell_type": "code",
   "execution_count": 417,
   "id": "888dc314",
   "metadata": {},
   "outputs": [
    {
     "name": "stdout",
     "output_type": "stream",
     "text": [
      "{3}\n"
     ]
    }
   ],
   "source": [
    "A = {1, 2, 3}\n",
    "A &={3,4}\n",
    "print(A)\n",
    "A = {1, 2, 3}\n",
    "A.intersection_update({3,4})\n",
    "print(A)"
   ]
  },
  {
   "cell_type": "code",
   "execution_count": 421,
   "id": "c6c9e181",
   "metadata": {},
   "outputs": [
    {
     "name": "stdout",
     "output_type": "stream",
     "text": [
      "{1, 2}\n",
      "{1, 2}\n"
     ]
    }
   ],
   "source": [
    "A = {1, 2, 3}\n",
    "A -={3,4}\n",
    "print(A)\n",
    "A = {1, 2, 3}\n",
    "A.difference_update({3,4})\n",
    "print(A)"
   ]
  },
  {
   "cell_type": "code",
   "execution_count": 423,
   "id": "84832372",
   "metadata": {},
   "outputs": [
    {
     "name": "stdout",
     "output_type": "stream",
     "text": [
      "{1, 2, 4}\n",
      "{1, 2, 4}\n"
     ]
    }
   ],
   "source": [
    "A = {1, 2, 3}\n",
    "A ^={3,4}\n",
    "print(A)\n",
    "A = {1, 2, 3}\n",
    "A.symmetric_difference_update({3,4})\n",
    "print(A)"
   ]
  },
  {
   "cell_type": "markdown",
   "id": "b581cf8d",
   "metadata": {},
   "source": [
    "### 26.2.2. 부분집합과 상위집합 확인하기"
   ]
  },
  {
   "cell_type": "markdown",
   "id": "7997766f",
   "metadata": {},
   "source": [
    "### 26.2.3. 세트가 같은지 다른지 확인하기"
   ]
  },
  {
   "cell_type": "markdown",
   "id": "dfc826e4",
   "metadata": {},
   "source": [
    "여기서 상위집합은 superset의 번역이다.\n",
    "superset은 사전에 따라, 문헌에 따라 다르게 번역되는 듯 보이지만 [대한수학회](https://www.kms.or.kr/mathdict/list.html?start=930&sort=ename&key=&keyword=&alpa=S)에 따르면 '포함집합'이라고 번역하는 것이 맞을 듯하다. (\\*는 위 링크에 없긴 하다.)\n",
    "\n",
    "|한국어|영어|기호|$\\TeX$ 명령어|\n",
    "|:-:|:-:|:-:|:-:|\n",
    "|부분집합|subset|$\\subset$|\\subset|\n",
    "|진부분집합|proper subset|$\\subsetneq$|\\subsetneq|\n",
    "|포함집합|superset|$\\supset$|\\supset|\n",
    "|진포함집합|proper superset|$\\supsetneq$|\\supsetneq|\n"
   ]
  },
  {
   "cell_type": "code",
   "execution_count": 438,
   "id": "56fc7a30",
   "metadata": {},
   "outputs": [],
   "source": [
    "A = {1, 2, 3}\n",
    "B = {1, 2}\n",
    "C = {1, 2, 3, 4}\n",
    "D = {1, 2, 3}"
   ]
  },
  {
   "cell_type": "code",
   "execution_count": 439,
   "id": "de454d3c",
   "metadata": {},
   "outputs": [
    {
     "name": "stdout",
     "output_type": "stream",
     "text": [
      "True False\n"
     ]
    }
   ],
   "source": [
    "print(A==D, A is D)"
   ]
  },
  {
   "cell_type": "code",
   "execution_count": 453,
   "id": "fb029be4",
   "metadata": {},
   "outputs": [
    {
     "data": {
      "text/plain": [
       "('%-10s', 'python    ', 'calculus')"
      ]
     },
     "execution_count": 453,
     "metadata": {},
     "output_type": "execute_result"
    }
   ],
   "source": [
    "'%-10s', '%-10s' % 'python', 'calculus'"
   ]
  },
  {
   "cell_type": "code",
   "execution_count": 474,
   "id": "753daaa0",
   "metadata": {},
   "outputs": [
    {
     "name": "stdout",
     "output_type": "stream",
     "text": [
      "                 B     C     D\n",
      "      subset     0     1     1\n",
      "   subsetneq     0     1     0\n",
      "      supset     1     0     1\n",
      "   supsetneq     1     0     0\n"
     ]
    }
   ],
   "source": [
    "print('{:>12}{:>6}{:>6}{:>6}'.format('','B','C','D'))\n",
    "print('{:>12}{:>6}{:>6}{:>6}'.format('subset',A<=B,A<=C,A<=D))\n",
    "print('{:>12}{:>6}{:>6}{:>6}'.format('subsetneq',A<B,A<C,A<D))\n",
    "print('{:>12}{:>6}{:>6}{:>6}'.format('supset',A>=B,A>=C,A>=D))\n",
    "print('{:>12}{:>6}{:>6}{:>6}'.format('supsetneq',A>B,A>C,A>D))"
   ]
  },
  {
   "cell_type": "markdown",
   "id": "e90c39b3",
   "metadata": {},
   "source": [
    " - 위의 코드에서 `0`은 `False`, `1`은 `True`\n",
    "   - 부등식 `A<=B`는 `boolean` 형식으로 출력되는데, `print` 내부에 있어서 그런가 0/1로 표시되고 있다.\n",
    "   - 각각의 부등식을 `bool()`로 감싸도 `boolean` 형식으로 출력되지 않는다.\n",
    " - 좀 보기 쉽게 만들기 위해서 표 형식으로 출력해봤는데, 영 별로인 것 같다.\n",
    " - 그래도 전단원에서 배운 `{:>12}`를 적용했다는 데에는 의미가 있다."
   ]
  },
  {
   "cell_type": "markdown",
   "id": "ae1f43bf",
   "metadata": {},
   "source": [
    "### 26.2.4. 세트가 겹치지 않는지 확인하기"
   ]
  },
  {
   "cell_type": "markdown",
   "id": "665f22af",
   "metadata": {},
   "source": [
    "두 집합의 서로소"
   ]
  },
  {
   "cell_type": "code",
   "execution_count": 478,
   "id": "3833d462",
   "metadata": {},
   "outputs": [
    {
     "name": "stdout",
     "output_type": "stream",
     "text": [
      "False\n",
      "False\n",
      "True\n",
      "True\n"
     ]
    }
   ],
   "source": [
    "A = {1, 2, 3}\n",
    "B = {3, 4}\n",
    "C = {4, 5}\n",
    "print(A.isdisjoint(B))\n",
    "print(B.isdisjoint(A))\n",
    "print(A.isdisjoint(C))\n",
    "print(C.isdisjoint(A))"
   ]
  },
  {
   "cell_type": "markdown",
   "id": "38745a7b",
   "metadata": {},
   "source": [
    "여기서는 두 집합의 서로소, 그러니까 pairwise disjoint 개념을 이야기하고 있다.\n",
    "세 집합 이상일 때의 mutual disjoint 개념을 나타내는 명령어가 존재할 지도 모르겠다."
   ]
  },
  {
   "cell_type": "markdown",
   "id": "13e36f40",
   "metadata": {},
   "source": [
    "## 26.3. 세트 조작하기"
   ]
  },
  {
   "cell_type": "markdown",
   "id": "6e22af39",
   "metadata": {},
   "source": [
    "### 26.3.1. 세트에 요소 추가하기"
   ]
  },
  {
   "cell_type": "code",
   "execution_count": 481,
   "id": "5691e863",
   "metadata": {},
   "outputs": [
    {
     "name": "stdout",
     "output_type": "stream",
     "text": [
      "{1, 2, 3, 4, 5}\n"
     ]
    }
   ],
   "source": [
    "A = {1,2,3,4}\n",
    "A.add(5)\n",
    "print(A)"
   ]
  },
  {
   "cell_type": "markdown",
   "id": "df082d40",
   "metadata": {},
   "source": [
    "### 26.3.2. 세트에서 특정 요소를 삭제하기"
   ]
  },
  {
   "cell_type": "code",
   "execution_count": 611,
   "id": "c16dc14f",
   "metadata": {},
   "outputs": [
    {
     "name": "stdout",
     "output_type": "stream",
     "text": [
      "{1, 2, 4}\n"
     ]
    }
   ],
   "source": [
    "A = {1,2,3,4}\n",
    "A.remove(3)\n",
    "print(A)\n",
    "# A = {1,2,3,4}\n",
    "# A.remove(5) # KeyError: 5\n",
    "# print(A)"
   ]
  },
  {
   "cell_type": "code",
   "execution_count": 613,
   "id": "ee379cb1",
   "metadata": {},
   "outputs": [
    {
     "name": "stdout",
     "output_type": "stream",
     "text": [
      "{1, 2, 4}\n",
      "{1, 2, 3, 4}\n"
     ]
    }
   ],
   "source": [
    "A = {1,2,3,4}\n",
    "A.discard(3)\n",
    "print(A)\n",
    "A = {1,2,3,4}\n",
    "A.discard(5)\n",
    "print(A)"
   ]
  },
  {
   "cell_type": "markdown",
   "id": "564127f6",
   "metadata": {},
   "source": [
    "### 26.3.3. 세트에서 임의의 요소를 삭제하기"
   ]
  },
  {
   "cell_type": "code",
   "execution_count": 616,
   "id": "6ee24e8a",
   "metadata": {},
   "outputs": [
    {
     "name": "stdout",
     "output_type": "stream",
     "text": [
      "{2, 3, 4}\n"
     ]
    }
   ],
   "source": [
    "A = {1,2,3,4}\n",
    "A.pop()\n",
    "print(A)"
   ]
  },
  {
   "cell_type": "markdown",
   "id": "d864895f",
   "metadata": {},
   "source": [
    "'임의의'라는 말은 잘못되었다.\n",
    "세트의 요소들 중 가장 작은 요소 (혹은, 아마도 맨 처음 요소)를 삭제하는 것 같다."
   ]
  },
  {
   "cell_type": "markdown",
   "id": "2c334ce1",
   "metadata": {},
   "source": [
    "### 26.3.4. 세트의 모든 요소 삭제하기"
   ]
  },
  {
   "cell_type": "code",
   "execution_count": 620,
   "id": "c582e6d1",
   "metadata": {},
   "outputs": [
    {
     "name": "stdout",
     "output_type": "stream",
     "text": [
      "set()\n"
     ]
    }
   ],
   "source": [
    "A = {1,2,3,4}\n",
    "A.clear()\n",
    "print(A)"
   ]
  },
  {
   "cell_type": "markdown",
   "id": "63914946",
   "metadata": {},
   "source": [
    "### 26.3.5. 세트의 요소 개수 구하기"
   ]
  },
  {
   "cell_type": "markdown",
   "id": "cf231476",
   "metadata": {},
   "source": [
    "cardinality"
   ]
  },
  {
   "cell_type": "code",
   "execution_count": 621,
   "id": "30a6786e",
   "metadata": {},
   "outputs": [
    {
     "name": "stdout",
     "output_type": "stream",
     "text": [
      "4\n"
     ]
    }
   ],
   "source": [
    "A = {1,2,3,4}\n",
    "print(len(A))"
   ]
  },
  {
   "cell_type": "markdown",
   "id": "bc51779a",
   "metadata": {},
   "source": [
    "## 26.4. 세트의 할당과 복사\n",
    "딕셔너리, 리스트에서와 원리가 같다."
   ]
  },
  {
   "cell_type": "code",
   "execution_count": 508,
   "id": "b6139992",
   "metadata": {},
   "outputs": [],
   "source": [
    "A = {1,2,3,4}\n",
    "B = A\n",
    "C = A.copy()"
   ]
  },
  {
   "cell_type": "markdown",
   "id": "bc292c2c",
   "metadata": {},
   "source": [
    "- `B`는 `A`를 그대로 할당한 것이고\n",
    "- `C`는 `A`를 복사한 것이다."
   ]
  },
  {
   "cell_type": "code",
   "execution_count": 509,
   "id": "dc0a43ce",
   "metadata": {},
   "outputs": [
    {
     "name": "stdout",
     "output_type": "stream",
     "text": [
      "True True\n",
      "True False\n"
     ]
    }
   ],
   "source": [
    "print(B == A, B is A)\n",
    "print(C == A, C is A)"
   ]
  },
  {
   "cell_type": "markdown",
   "id": "4dc59180",
   "metadata": {},
   "source": [
    " - 할당한 변수 `B`는 원래 변수 `A`와 완전히 같다.\n",
    " - 하지만 복사한 변수 `C`는 원래 변수 `A`와 값은 같지만 주소까지 같지는 않다."
   ]
  },
  {
   "cell_type": "code",
   "execution_count": 511,
   "id": "784cfcbc",
   "metadata": {},
   "outputs": [
    {
     "name": "stdout",
     "output_type": "stream",
     "text": [
      "True True\n",
      "False False\n"
     ]
    }
   ],
   "source": [
    "A.add(5)\n",
    "print(B == A, B is A)\n",
    "print(C == A, C is A)"
   ]
  },
  {
   "cell_type": "markdown",
   "id": "c989d71d",
   "metadata": {},
   "source": [
    "- `A`에 `1`을 추가하면\n",
    "- `B`에도 `1`이 추가되지만\n",
    "- `C`에는 `1`이 추가되지 않는다.\n",
    "\n",
    "즉, `A`와 독립된 변수 `C`를 만들려면 단순히 *할당*만 해서는 안되고 **복사**해야 한다."
   ]
  },
  {
   "cell_type": "code",
   "execution_count": 502,
   "id": "87193cfc",
   "metadata": {},
   "outputs": [],
   "source": [
    "A = {1,2,3,4}\n",
    "B = A\n",
    "C = A.copy()"
   ]
  },
  {
   "cell_type": "markdown",
   "id": "398d451a",
   "metadata": {},
   "source": [
    "## 26.5. 반복문으로 세트의 요소 모두 출력하기"
   ]
  },
  {
   "cell_type": "code",
   "execution_count": 512,
   "id": "40207d88",
   "metadata": {},
   "outputs": [
    {
     "name": "stdout",
     "output_type": "stream",
     "text": [
      "1\n",
      "2\n",
      "3\n",
      "4\n"
     ]
    }
   ],
   "source": [
    "A = {1,2,3,4}\n",
    "for a in A:\n",
    "    print(a)"
   ]
  },
  {
   "cell_type": "markdown",
   "id": "755a2176",
   "metadata": {},
   "source": [
    "## 26.6. 세트 표현식 사용하기"
   ]
  },
  {
   "cell_type": "code",
   "execution_count": 514,
   "id": "a13ff07b",
   "metadata": {},
   "outputs": [
    {
     "name": "stdout",
     "output_type": "stream",
     "text": [
      "{'l', 'p', 'a', 'e'}\n"
     ]
    }
   ],
   "source": [
    "A = {char for char in 'apple'}\n",
    "print(A)"
   ]
  },
  {
   "cell_type": "markdown",
   "id": "4b06a122",
   "metadata": {},
   "source": [
    "'조건제시법'을 보는 것 같다."
   ]
  },
  {
   "cell_type": "markdown",
   "id": "855d46df",
   "metadata": {},
   "source": [
    "### 26.6.1. 세트 표현식에 if 조건문 사용하기"
   ]
  },
  {
   "cell_type": "code",
   "execution_count": 517,
   "id": "bdfea549",
   "metadata": {},
   "outputs": [
    {
     "name": "stdout",
     "output_type": "stream",
     "text": [
      "{'i', 'n', 'e'}\n"
     ]
    }
   ],
   "source": [
    "A = {char for char in 'pineapple' if char not in 'apl'}\n",
    "print(A)"
   ]
  },
  {
   "cell_type": "markdown",
   "id": "6627ca5e",
   "metadata": {},
   "source": [
    "## 26.7. 퀴즈"
   ]
  },
  {
   "cell_type": "markdown",
   "id": "28c4b856",
   "metadata": {},
   "source": [
    "1번 문제"
   ]
  },
  {
   "cell_type": "code",
   "execution_count": 518,
   "id": "e45dffcf",
   "metadata": {},
   "outputs": [],
   "source": [
    "a = {1,2,3,4,5}\n",
    "b = {}\n",
    "c = set('hello')\n",
    "d = set(range(10))\n",
    "e = set()"
   ]
  },
  {
   "cell_type": "code",
   "execution_count": 545,
   "id": "47057374",
   "metadata": {
    "scrolled": false
   },
   "outputs": [
    {
     "name": "stdout",
     "output_type": "stream",
     "text": [
      "     print                              print(type)         \n",
      "a    {1, 2, 3, 4, 5}                    <class 'set'>       \n",
      "b    {}                                 <class 'dict'>      \n",
      "c    {'h', 'l', 'o', 'e'}               <class 'set'>       \n",
      "d    {0, 1, 2, 3, 4, 5, 6, 7, 8, 9}     <class 'set'>       \n",
      "e    set()                              <class 'set'>       \n"
     ]
    }
   ],
   "source": [
    "print('{:<5}{:<35}{:<20}'.format('','print','print(type)'))\n",
    "print('{:<5}{:<35}{:<20}'.format('a',str(a),str(type(a))))\n",
    "print('{:<5}{:<35}{:<20}'.format('b',str(b),str(type(b))))\n",
    "print('{:<5}{:<35}{:<20}'.format('c',str(c),str(type(c))))\n",
    "print('{:<5}{:<35}{:<20}'.format('d',str(d),str(type(d))))\n",
    "print('{:<5}{:<35}{:<20}'.format('e',str(e),str(type(e))))"
   ]
  },
  {
   "cell_type": "markdown",
   "id": "dafd5f53",
   "metadata": {},
   "source": [
    "5번 문제"
   ]
  },
  {
   "cell_type": "code",
   "execution_count": 555,
   "id": "0fcd5239",
   "metadata": {},
   "outputs": [
    {
     "name": "stdout",
     "output_type": "stream",
     "text": [
      "{3}\n",
      "{3}\n"
     ]
    }
   ],
   "source": [
    "# 1번 : 같다\n",
    "A = {1,2,3}\n",
    "B = {3,4}\n",
    "print(set.intersection(A,B))\n",
    "print(A&B)"
   ]
  },
  {
   "cell_type": "markdown",
   "id": "e7613780",
   "metadata": {},
   "source": [
    " - `set.intsersection`은 `set` 클래스의 매서드이다.\n",
    " - `&`는 잘 모르겠지만 연산자인 것 같다.\n",
    "   - 수학 용어로 말하면 '이항연산(binary operation)'이라고는 말할 수 있다."
   ]
  },
  {
   "cell_type": "code",
   "execution_count": 565,
   "id": "24aeaa7f",
   "metadata": {},
   "outputs": [
    {
     "name": "stdout",
     "output_type": "stream",
     "text": [
      "{1, 2, 3, 4}\n",
      "{1, 2, 3, 4}\n"
     ]
    }
   ],
   "source": [
    "# 2번 : 같다\n",
    "A = {1,2,3}\n",
    "B = {3,4}\n",
    "A.update(B)\n",
    "print(A)\n",
    "A = {1,2,3}\n",
    "B = {3,4}\n",
    "A|=B\n",
    "print(A)"
   ]
  },
  {
   "cell_type": "code",
   "execution_count": 563,
   "id": "dffe9fba",
   "metadata": {},
   "outputs": [
    {
     "name": "stdout",
     "output_type": "stream",
     "text": [
      "<method 'update' of 'set' objects>\n"
     ]
    }
   ],
   "source": [
    "print(set.update)"
   ]
  },
  {
   "cell_type": "markdown",
   "id": "0f10d67a",
   "metadata": {},
   "source": [
    " - `update`는 `set` 클래스의 매서드이다.\n",
    " - `|=`는 잘 모르겠지만 이것도 연산자인 것 같다.\n",
    "   - 이것도 이항연산이라고 해야 할까? 모르겠다."
   ]
  },
  {
   "cell_type": "code",
   "execution_count": 569,
   "id": "2174251f",
   "metadata": {},
   "outputs": [
    {
     "name": "stdout",
     "output_type": "stream",
     "text": [
      "{1, 2, 4}\n",
      "{1, 2}\n",
      "{1, 2}\n",
      "{1, 2, 4}\n"
     ]
    }
   ],
   "source": [
    "# 3번 : 다르다\n",
    "A = {1,2,3}\n",
    "B = {3,4}\n",
    "A.symmetric_difference_update(B)\n",
    "print(A)\n",
    "A = {1,2,3}\n",
    "B = {3,4}\n",
    "A-=B\n",
    "print(A)\n",
    "A = {1,2,3}\n",
    "B = {3,4}\n",
    "A.difference_update(B)\n",
    "print(A)\n",
    "A = {1,2,3}\n",
    "B = {3,4}\n",
    "A^=B\n",
    "print(A)"
   ]
  },
  {
   "cell_type": "markdown",
   "id": "2f8d6480",
   "metadata": {},
   "source": [
    " - `symmetric_difference_update`와 `difference_update`도 둘다 `set` 클래스의 매서드이다.\n",
    " - `-=`와 `^=`도 아마 이것도 연산자인 것 같다."
   ]
  },
  {
   "cell_type": "markdown",
   "id": "170376b0",
   "metadata": {},
   "source": [
    "## 26.8. 연습문제"
   ]
  },
  {
   "cell_type": "markdown",
   "id": "bd87d1e1",
   "metadata": {},
   "source": [
    "## 26.9. 심사문제"
   ]
  },
  {
   "cell_type": "markdown",
   "id": "675ae887",
   "metadata": {},
   "source": [
    "10 20"
   ]
  },
  {
   "cell_type": "markdown",
   "id": "86f7d642",
   "metadata": {},
   "source": [
    "100 200"
   ]
  },
  {
   "cell_type": "markdown",
   "id": "f9f9eef1",
   "metadata": {},
   "source": [
    "\\begin{align*}\n",
    "x|y\n",
    "&\\iff y\\text{ is divisible by } x\\\\\n",
    "&\\iff x\\text{ is a divisor of } y\\\\\n",
    "&\\iff \\text{`x%y==0`}\n",
    "\\end{align*}\n",
    "12 is divisible by 4 since `12%4==0`"
   ]
  },
  {
   "cell_type": "code",
   "execution_count": 575,
   "id": "411b0c0b",
   "metadata": {},
   "outputs": [
    {
     "name": "stdout",
     "output_type": "stream",
     "text": [
      "6\n"
     ]
    }
   ],
   "source": [
    "x = 6\n",
    "ax = {i for i in range(1,x) if x % i ==0}\n",
    "print(x)"
   ]
  },
  {
   "cell_type": "code",
   "execution_count": 591,
   "id": "0baca0c2",
   "metadata": {},
   "outputs": [
    {
     "name": "stdout",
     "output_type": "stream",
     "text": [
      "10 20\n",
      "18\n"
     ]
    }
   ],
   "source": [
    "x,y = map(int,input().split())\n",
    "a = {i for i in range(1,x+1) if x % i ==0}\n",
    "b = {i for i in range(1,y+1) if y % i ==0}\n",
    "divisor = a & b\n",
    " \n",
    "result = 0\n",
    "if type(divisor) == set:\n",
    "    result = sum(divisor)\n",
    " \n",
    "print(result)"
   ]
  }
 ],
 "metadata": {
  "kernelspec": {
   "display_name": "Python 3 (ipykernel)",
   "language": "python",
   "name": "python3"
  },
  "language_info": {
   "codemirror_mode": {
    "name": "ipython",
    "version": 3
   },
   "file_extension": ".py",
   "mimetype": "text/x-python",
   "name": "python",
   "nbconvert_exporter": "python",
   "pygments_lexer": "ipython3",
   "version": "3.9.7"
  }
 },
 "nbformat": 4,
 "nbformat_minor": 5
}
