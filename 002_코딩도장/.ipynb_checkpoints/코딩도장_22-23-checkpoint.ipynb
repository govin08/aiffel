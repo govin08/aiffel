{
 "cells": [
  {
   "cell_type": "markdown",
   "id": "3ae4b4ed",
   "metadata": {},
   "source": [
    "# 22. 리스트와 튜플 응용하기"
   ]
  },
  {
   "cell_type": "markdown",
   "id": "b0bdd2f5",
   "metadata": {},
   "source": [
    "|명령어|설명|구분|반환여부|문법|equivalent to|튜플에서의 호환|\n",
    "|:----:|:--:|:---:|:--:|:--:|:-:|:-:|\n",
    "|append|요소 하나를 추가|list의 method|반환하지 않음|*lst*.append(*ele*)|*lst*.insert(len(*lst*),*ele*)|x|\n",
    "|extend|리스트를 연결하여 확장|list의 method|반환하지 않음|*lst*.extend(*lst*)|*lst*+*lst*|x|\n",
    "|insert|특정 인덱스에 요소 추가|list의 method|반환하지 않음|*lst*.insert(*n*,*ele*)||x|\n",
    "|pop|특정 인덱스의 요소를 삭제|list의 method|반환(삭제된 요소)|*lst*.pop(*n*)||x|\n",
    "|remove|특정 값을 찾아서 삭제|list의 method|반환하지 않음|*lst*.remove(*ele*)||x|\n",
    "|index|특정 값의 인덱스 출력|list의 method|반환(해당 인덱스)|*lst*.index(*ele*)||o|\n",
    "|count|특정 값의 개수 출력|list의 method|반환(해당 개수)|*lst*.count(*ele*)||o|\n",
    "|reverse|요소들의 순서를 반전|list의 method|반환하지 않음|*lst*.reverse()||x|\n",
    "|sort|요소들을 정렬|list의 method|반환하지 않음|*lst*.sort()||x|\n",
    "|clear|모든 요소들을 삭제|list의 method|반환하지 않음|*lst*.clear()||x|\n",
    "|copy|복사|list의 method|반환하지 않음|*lst*.copy()||x|\n"
   ]
  },
  {
   "cell_type": "code",
   "execution_count": 115,
   "id": "3b0a54ab",
   "metadata": {},
   "outputs": [
    {
     "ename": "AttributeError",
     "evalue": "'tuple' object has no attribute 'copy'",
     "output_type": "error",
     "traceback": [
      "\u001b[0;31m---------------------------------------------------------------------------\u001b[0m",
      "\u001b[0;31mAttributeError\u001b[0m                            Traceback (most recent call last)",
      "\u001b[0;32m/tmp/ipykernel_33/3797214266.py\u001b[0m in \u001b[0;36m<module>\u001b[0;34m\u001b[0m\n\u001b[1;32m      1\u001b[0m \u001b[0ma\u001b[0m \u001b[0;34m=\u001b[0m \u001b[0;34m(\u001b[0m\u001b[0;36m2\u001b[0m\u001b[0;34m,\u001b[0m\u001b[0;36m3\u001b[0m\u001b[0;34m,\u001b[0m\u001b[0;36m4\u001b[0m\u001b[0;34m)\u001b[0m\u001b[0;34m\u001b[0m\u001b[0;34m\u001b[0m\u001b[0m\n\u001b[0;32m----> 2\u001b[0;31m \u001b[0mb\u001b[0m\u001b[0;34m=\u001b[0m\u001b[0ma\u001b[0m\u001b[0;34m.\u001b[0m\u001b[0mcopy\u001b[0m\u001b[0;34m(\u001b[0m\u001b[0;34m)\u001b[0m\u001b[0;34m\u001b[0m\u001b[0;34m\u001b[0m\u001b[0m\n\u001b[0m",
      "\u001b[0;31mAttributeError\u001b[0m: 'tuple' object has no attribute 'copy'"
     ]
    }
   ],
   "source": [
    "a = (2,3,4)\n",
    "b=a.copy()"
   ]
  },
  {
   "cell_type": "markdown",
   "id": "0a0eaf39",
   "metadata": {},
   "source": [
    "## 22.1. 리스트 조작하기"
   ]
  },
  {
   "cell_type": "markdown",
   "id": "f6f0e30c",
   "metadata": {},
   "source": [
    "- append : 요소 하나를 추가\n",
    "- extend : 리스트를 연결하여 확장\n",
    "- insert : 특정 인덱스에 요소 추가\n",
    "- pop : 마지막 요소 또는 특정 인덱스의 요소를 삭제"
   ]
  },
  {
   "cell_type": "markdown",
   "id": "b9c00f0e",
   "metadata": {},
   "source": [
    "### 22.1.1. 리스트에 요소 추가하기"
   ]
  },
  {
   "cell_type": "markdown",
   "id": "4e893d50",
   "metadata": {},
   "source": [
    "### 22.1.2. 리스트에 요소 하나 추가하기 (append)"
   ]
  },
  {
   "cell_type": "code",
   "execution_count": 1,
   "id": "9146dd0d",
   "metadata": {},
   "outputs": [
    {
     "name": "stdout",
     "output_type": "stream",
     "text": [
      "[10, 20, 30, 500]\n"
     ]
    }
   ],
   "source": [
    "a = [10, 20, 30]\n",
    "a.append(500)\n",
    "print(a)"
   ]
  },
  {
   "cell_type": "code",
   "execution_count": 7,
   "id": "fb0aee3f",
   "metadata": {},
   "outputs": [
    {
     "name": "stdout",
     "output_type": "stream",
     "text": [
      "[10, 20, 30, 500]\n"
     ]
    }
   ],
   "source": [
    "a = [10, 20, 30]\n",
    "a.insert(len(a),500)\n",
    "print(a)"
   ]
  },
  {
   "cell_type": "markdown",
   "id": "d477b547",
   "metadata": {},
   "source": [
    "### 22.1.3. 리스트 안에 리스트 추가하기 (append)"
   ]
  },
  {
   "cell_type": "code",
   "execution_count": 2,
   "id": "9d1bf838",
   "metadata": {
    "scrolled": true
   },
   "outputs": [
    {
     "name": "stdout",
     "output_type": "stream",
     "text": [
      "[10, 20, 30, [500, 600]]\n"
     ]
    }
   ],
   "source": [
    "a = [10, 20, 30]\n",
    "a.append([500,600])\n",
    "print(a)"
   ]
  },
  {
   "cell_type": "markdown",
   "id": "f9d1ea00",
   "metadata": {},
   "source": [
    "### 22.1.4. 리스트 확장하기"
   ]
  },
  {
   "cell_type": "code",
   "execution_count": 3,
   "id": "bcea4aa2",
   "metadata": {},
   "outputs": [
    {
     "name": "stdout",
     "output_type": "stream",
     "text": [
      "[10, 20, 30, 500, 600]\n"
     ]
    }
   ],
   "source": [
    "a= [10,20,30]\n",
    "a.extend([500,600])\n",
    "print(a)"
   ]
  },
  {
   "cell_type": "code",
   "execution_count": 4,
   "id": "684481e4",
   "metadata": {
    "scrolled": true
   },
   "outputs": [
    {
     "name": "stdout",
     "output_type": "stream",
     "text": [
      "[10, 20, 30, 500, 600]\n"
     ]
    }
   ],
   "source": [
    "a= [10,20,30]\n",
    "a = a + [500,600]\n",
    "print(a)"
   ]
  },
  {
   "cell_type": "code",
   "execution_count": 8,
   "id": "c74c6076",
   "metadata": {},
   "outputs": [
    {
     "name": "stdout",
     "output_type": "stream",
     "text": [
      "[10, 20, 30, 500, 600]\n"
     ]
    }
   ],
   "source": [
    "a= [10,20,30]\n",
    "a[len(a):len(a)] = [500,600]\n",
    "print(a)"
   ]
  },
  {
   "cell_type": "markdown",
   "id": "e2a9b62c",
   "metadata": {},
   "source": [
    "### 22.1.5. 리스트의 특정 인덱스에 요소 추가하기"
   ]
  },
  {
   "cell_type": "code",
   "execution_count": 6,
   "id": "093e9e84",
   "metadata": {},
   "outputs": [
    {
     "name": "stdout",
     "output_type": "stream",
     "text": [
      "[10, 20, 500, 30]\n"
     ]
    }
   ],
   "source": [
    "a = [10,20,30]\n",
    "a.insert(2,500)\n",
    "print(a)"
   ]
  },
  {
   "cell_type": "markdown",
   "id": "12380e8b",
   "metadata": {},
   "source": [
    "### 22.1.6. 리스트에서 요소 삭제하기"
   ]
  },
  {
   "cell_type": "markdown",
   "id": "79e45cbb",
   "metadata": {},
   "source": [
    "### 22.1.7. 리스트에서 특정 인덱스의 요소를 삭제하기"
   ]
  },
  {
   "cell_type": "code",
   "execution_count": 9,
   "id": "976b787c",
   "metadata": {},
   "outputs": [
    {
     "name": "stdout",
     "output_type": "stream",
     "text": [
      "[10, 20]\n"
     ]
    }
   ],
   "source": [
    "a = [10, 20, 30]\n",
    "a.pop()\n",
    "print(a)"
   ]
  },
  {
   "cell_type": "code",
   "execution_count": 10,
   "id": "fbc4e356",
   "metadata": {},
   "outputs": [
    {
     "name": "stdout",
     "output_type": "stream",
     "text": [
      "[10, 30]\n"
     ]
    }
   ],
   "source": [
    "a = [10, 20, 30]\n",
    "a.pop(1)\n",
    "print(a)"
   ]
  },
  {
   "cell_type": "markdown",
   "id": "bb9abd2c",
   "metadata": {},
   "source": [
    "### 22.1.8. 리스트에서 특정 값을 찾아서 삭제하기"
   ]
  },
  {
   "cell_type": "code",
   "execution_count": 11,
   "id": "85ab776d",
   "metadata": {},
   "outputs": [
    {
     "name": "stdout",
     "output_type": "stream",
     "text": [
      "[10, 30]\n"
     ]
    }
   ],
   "source": [
    "a = [10, 20, 30]\n",
    "a.remove(20)\n",
    "print(a)"
   ]
  },
  {
   "cell_type": "markdown",
   "id": "c882f230",
   "metadata": {},
   "source": [
    "### 22.1.9. 리스트에서 특정 값의 인덱스 구하기"
   ]
  },
  {
   "cell_type": "code",
   "execution_count": 14,
   "id": "1bacf4e5",
   "metadata": {},
   "outputs": [
    {
     "name": "stdout",
     "output_type": "stream",
     "text": [
      "1\n"
     ]
    }
   ],
   "source": [
    "a = [10, 20, 30, 15, 20, 40]\n",
    "print(a.index(20))"
   ]
  },
  {
   "cell_type": "markdown",
   "id": "f05590ca",
   "metadata": {},
   "source": [
    "### 22.1.10 특정 값의 개수 구하기"
   ]
  },
  {
   "cell_type": "code",
   "execution_count": 15,
   "id": "c7ffb9ce",
   "metadata": {},
   "outputs": [
    {
     "name": "stdout",
     "output_type": "stream",
     "text": [
      "2\n"
     ]
    }
   ],
   "source": [
    "a = [10,20,30,15,20,40]\n",
    "print(a.count(20))"
   ]
  },
  {
   "cell_type": "markdown",
   "id": "6aab07f6",
   "metadata": {},
   "source": [
    "### 22.1.11. 리스트의 순서를 뒤집기"
   ]
  },
  {
   "cell_type": "code",
   "execution_count": 16,
   "id": "97076278",
   "metadata": {},
   "outputs": [
    {
     "name": "stdout",
     "output_type": "stream",
     "text": [
      "[40, 20, 15, 30, 20, 10]\n"
     ]
    }
   ],
   "source": [
    "a = [10,20,30,15,20,40]\n",
    "a.reverse()\n",
    "print(a)"
   ]
  },
  {
   "cell_type": "markdown",
   "id": "cac364eb",
   "metadata": {},
   "source": [
    "### 22.1.12. 리스트의 요소를 정렬하기"
   ]
  },
  {
   "cell_type": "code",
   "execution_count": 17,
   "id": "3f23c76d",
   "metadata": {},
   "outputs": [
    {
     "name": "stdout",
     "output_type": "stream",
     "text": [
      "[10, 15, 20, 20, 30, 40]\n"
     ]
    }
   ],
   "source": [
    "a = [10,20,30,15,20,40]\n",
    "a.sort()\n",
    "print(a)"
   ]
  },
  {
   "cell_type": "markdown",
   "id": "20cfd8c5",
   "metadata": {},
   "source": [
    "### 22.1.13. 리스트의 모든 요소를 삭제하기"
   ]
  },
  {
   "cell_type": "code",
   "execution_count": 21,
   "id": "f98998ca",
   "metadata": {},
   "outputs": [
    {
     "name": "stdout",
     "output_type": "stream",
     "text": [
      "[]\n"
     ]
    }
   ],
   "source": [
    "a = [10, 20, 30]\n",
    "a.clear()\n",
    "print(a)"
   ]
  },
  {
   "cell_type": "markdown",
   "id": "ef00add0",
   "metadata": {},
   "source": [
    "### 22.1.14. 리스트를 슬라이스로 조작하기"
   ]
  },
  {
   "cell_type": "code",
   "execution_count": 22,
   "id": "9ae5af86",
   "metadata": {},
   "outputs": [
    {
     "name": "stdout",
     "output_type": "stream",
     "text": [
      "[10, 20, 30, 500, 600]\n"
     ]
    }
   ],
   "source": [
    "a = [10, 20, 30]\n",
    "a[len(a):] = [500,600]\n",
    "print(a)"
   ]
  },
  {
   "cell_type": "markdown",
   "id": "4c8a39af",
   "metadata": {},
   "source": [
    "## 22.2. 리스트의 할당과 복사 알아보기"
   ]
  },
  {
   "cell_type": "markdown",
   "id": "1dc9140f",
   "metadata": {},
   "source": [
    "할당"
   ]
  },
  {
   "cell_type": "code",
   "execution_count": 23,
   "id": "43f8097f",
   "metadata": {},
   "outputs": [],
   "source": [
    "a = [0, 0, 0, 0, 0]\n",
    "b = a"
   ]
  },
  {
   "cell_type": "code",
   "execution_count": 24,
   "id": "2f4859ca",
   "metadata": {
    "scrolled": true
   },
   "outputs": [
    {
     "name": "stdout",
     "output_type": "stream",
     "text": [
      "True\n",
      "True\n"
     ]
    }
   ],
   "source": [
    "print(b == a)\n",
    "print(b is a)"
   ]
  },
  {
   "cell_type": "code",
   "execution_count": 25,
   "id": "64d89605",
   "metadata": {},
   "outputs": [
    {
     "name": "stdout",
     "output_type": "stream",
     "text": [
      "[0, 0, 99, 0, 0] [0, 0, 99, 0, 0]\n"
     ]
    }
   ],
   "source": [
    "b[2]=99\n",
    "print(a,b)"
   ]
  },
  {
   "cell_type": "markdown",
   "id": "0fba3867",
   "metadata": {},
   "source": [
    "복사"
   ]
  },
  {
   "cell_type": "code",
   "execution_count": 29,
   "id": "6a2d681d",
   "metadata": {},
   "outputs": [],
   "source": [
    "a = [0, 0, 0, 0, 0]\n",
    "b = a.copy()"
   ]
  },
  {
   "cell_type": "code",
   "execution_count": 30,
   "id": "74982ae8",
   "metadata": {
    "scrolled": true
   },
   "outputs": [
    {
     "name": "stdout",
     "output_type": "stream",
     "text": [
      "True\n",
      "False\n"
     ]
    }
   ],
   "source": [
    "print(b == a)\n",
    "print(b is a)"
   ]
  },
  {
   "cell_type": "code",
   "execution_count": 31,
   "id": "743c7db4",
   "metadata": {},
   "outputs": [
    {
     "name": "stdout",
     "output_type": "stream",
     "text": [
      "[0, 0, 0, 0, 0] [0, 0, 0, 0, 0]\n"
     ]
    }
   ],
   "source": [
    "c[2]=99\n",
    "print(a,b)"
   ]
  },
  {
   "cell_type": "markdown",
   "id": "8e5c69d2",
   "metadata": {},
   "source": [
    "## 22.3. 반복문으로 리스트의 요소를 모두 출력하기"
   ]
  },
  {
   "cell_type": "markdown",
   "id": "ffab42d9",
   "metadata": {},
   "source": [
    "### 22.3.1. for 반복문으로 요소 출력하기"
   ]
  },
  {
   "cell_type": "code",
   "execution_count": 33,
   "id": "691e735b",
   "metadata": {},
   "outputs": [
    {
     "name": "stdout",
     "output_type": "stream",
     "text": [
      "38\n",
      "21\n",
      "53\n",
      "62\n",
      "19\n"
     ]
    }
   ],
   "source": [
    "a = [38, 21, 53, 62, 19]\n",
    "for i in a:\n",
    "    print(i)"
   ]
  },
  {
   "cell_type": "markdown",
   "id": "84e58f34",
   "metadata": {},
   "source": [
    "### 22.3.2. 인덱스와 요소를 함께 출력하기"
   ]
  },
  {
   "cell_type": "code",
   "execution_count": 34,
   "id": "228a12cc",
   "metadata": {},
   "outputs": [
    {
     "name": "stdout",
     "output_type": "stream",
     "text": [
      "0 38\n",
      "1 21\n",
      "2 53\n",
      "3 62\n",
      "4 19\n"
     ]
    }
   ],
   "source": [
    "a = [38, 21, 53, 62, 19]\n",
    "for index,value in enumerate(a):\n",
    "    print(index,value)"
   ]
  },
  {
   "cell_type": "code",
   "execution_count": 36,
   "id": "d9ae401b",
   "metadata": {},
   "outputs": [
    {
     "name": "stdout",
     "output_type": "stream",
     "text": [
      "<enumerate object at 0x7f7ec0406480>\n",
      "[(0, 38), (1, 21), (2, 53), (3, 62), (4, 19)]\n"
     ]
    }
   ],
   "source": [
    "print(enumerate(a))\n",
    "print(list(enumerate(a)))"
   ]
  },
  {
   "cell_type": "markdown",
   "id": "8d873099",
   "metadata": {},
   "source": [
    "### 22.3.3. while 반복문으로 요소 출력하기"
   ]
  },
  {
   "cell_type": "code",
   "execution_count": 37,
   "id": "6a6fb386",
   "metadata": {},
   "outputs": [
    {
     "name": "stdout",
     "output_type": "stream",
     "text": [
      "38\n",
      "21\n",
      "53\n",
      "62\n",
      "19\n"
     ]
    }
   ],
   "source": [
    "a = [38, 21, 53, 62, 19]\n",
    "i = 0\n",
    "while i < len((a)):\n",
    "    print(a[i])\n",
    "    i+=1"
   ]
  },
  {
   "cell_type": "markdown",
   "id": "4b8ff279",
   "metadata": {},
   "source": [
    "## 22.4. 리스트의 가장 작은 수, 가장 큰 수, 합계 구하기"
   ]
  },
  {
   "cell_type": "code",
   "execution_count": 38,
   "id": "110ebf73",
   "metadata": {},
   "outputs": [
    {
     "name": "stdout",
     "output_type": "stream",
     "text": [
      "19\n"
     ]
    }
   ],
   "source": [
    "a = [38, 21, 53, 62, 19]\n",
    "smallest = a[0]\n",
    "for i in a:\n",
    "    if i< smallest:\n",
    "        smallest = i\n",
    "print(smallest)"
   ]
  },
  {
   "cell_type": "code",
   "execution_count": 39,
   "id": "07a5206a",
   "metadata": {},
   "outputs": [
    {
     "name": "stdout",
     "output_type": "stream",
     "text": [
      "19\n"
     ]
    }
   ],
   "source": [
    "a = [38, 21, 53, 62, 19]\n",
    "a.sort()\n",
    "print(a[0])"
   ]
  },
  {
   "cell_type": "code",
   "execution_count": 40,
   "id": "965b53e7",
   "metadata": {},
   "outputs": [
    {
     "name": "stdout",
     "output_type": "stream",
     "text": [
      "19\n"
     ]
    }
   ],
   "source": [
    "a = [38, 21, 53, 62, 19]\n",
    "print(min(a))"
   ]
  },
  {
   "cell_type": "markdown",
   "id": "832804ba",
   "metadata": {},
   "source": [
    "### 22.4.2. 요소의 합계 구하기"
   ]
  },
  {
   "cell_type": "code",
   "execution_count": 41,
   "id": "d8a6110f",
   "metadata": {},
   "outputs": [
    {
     "name": "stdout",
     "output_type": "stream",
     "text": [
      "193\n"
     ]
    }
   ],
   "source": [
    "a = [38, 21, 53, 62, 19]\n",
    "x = 0\n",
    "for i in a:\n",
    "    x += i\n",
    "print(x)"
   ]
  },
  {
   "cell_type": "code",
   "execution_count": 42,
   "id": "19c300fa",
   "metadata": {},
   "outputs": [
    {
     "name": "stdout",
     "output_type": "stream",
     "text": [
      "193\n"
     ]
    }
   ],
   "source": [
    "a = [38, 21, 53, 62, 19]\n",
    "print(sum(a))"
   ]
  },
  {
   "cell_type": "markdown",
   "id": "71f4fdfa",
   "metadata": {},
   "source": [
    "### 22.5. 리스트 표현식 사용하기"
   ]
  },
  {
   "cell_type": "markdown",
   "id": "0f195ff2",
   "metadata": {},
   "source": [
    "리스트 컴프리헨션 (list comprehension)"
   ]
  },
  {
   "cell_type": "code",
   "execution_count": 44,
   "id": "930dcf68",
   "metadata": {},
   "outputs": [
    {
     "name": "stdout",
     "output_type": "stream",
     "text": [
      "[0, 1, 2, 3, 4, 5, 6, 7, 8, 9]\n",
      "[0, 1, 2, 3, 4, 5, 6, 7, 8, 9]\n"
     ]
    }
   ],
   "source": [
    "a = [i for i in range(10)]\n",
    "print(a)\n",
    "b = list(i for i in range(10))\n",
    "print(b)"
   ]
  },
  {
   "cell_type": "code",
   "execution_count": 46,
   "id": "5c68eb0a",
   "metadata": {},
   "outputs": [
    {
     "name": "stdout",
     "output_type": "stream",
     "text": [
      "[5, 6, 7, 8, 9, 10, 11, 12, 13, 14]\n",
      "[0, 2, 4, 6, 8, 10, 12, 14, 16, 18]\n"
     ]
    }
   ],
   "source": [
    "c = [i+5 for i in range(10)]\n",
    "print(c)\n",
    "d = list(i*2 for i in range(10))\n",
    "print(d)"
   ]
  },
  {
   "cell_type": "markdown",
   "id": "6f6f2d4e",
   "metadata": {},
   "source": [
    "### 22.5.1. 리스트 표현식에서 if 조건문 사용하기"
   ]
  },
  {
   "cell_type": "code",
   "execution_count": 48,
   "id": "03467bfd",
   "metadata": {},
   "outputs": [
    {
     "name": "stdout",
     "output_type": "stream",
     "text": [
      "[0, 2, 4, 6, 8]\n"
     ]
    }
   ],
   "source": [
    "a = [i for i in range(10) if i % 2 == 0]\n",
    "print(a)"
   ]
  },
  {
   "cell_type": "markdown",
   "id": "0e75fcac",
   "metadata": {},
   "source": [
    "### 22.5.2. for 반복문과 if 조건문을 여러 번 사용하기"
   ]
  },
  {
   "cell_type": "code",
   "execution_count": 49,
   "id": "5b9e6de3",
   "metadata": {},
   "outputs": [
    {
     "name": "stdout",
     "output_type": "stream",
     "text": [
      "[2, 4, 6, 8, 10, 12, 14, 16, 18, 3, 6, 9, 12, 15, 18, 21, 24, 27, 4, 8, 12, 16, 20, 24, 28, 32, 36, 5, 10, 15, 20, 25, 30, 35, 40, 45, 6, 12, 18, 24, 30, 36, 42, 48, 54, 7, 14, 21, 28, 35, 42, 49, 56, 63, 8, 16, 24, 32, 40, 48, 56, 64, 72, 9, 18, 27, 36, 45, 54, 63, 72, 81]\n"
     ]
    }
   ],
   "source": [
    "a = [i * j for j in range(2, 10) for i in range(1, 10)]\n",
    "print(a)"
   ]
  },
  {
   "cell_type": "code",
   "execution_count": 51,
   "id": "b9a739ba",
   "metadata": {},
   "outputs": [
    {
     "name": "stdout",
     "output_type": "stream",
     "text": [
      "[2, 4, 6, 8, 10, 12, 14, 16, 18, 3, 6, 9, 12, 15, 18, 21, 24, 27, 4, 8, 12, 16, 20, 24, 28, 32, 36, 5, 10, 15, 20, 25, 30, 35, 40, 45, 6, 12, 18, 24, 30, 36, 42, 48, 54, 7, 14, 21, 28, 35, 42, 49, 56, 63, 8, 16, 24, 32, 40, 48, 56, 64, 72, 9, 18, 27, 36, 45, 54, 63, 72, 81]\n"
     ]
    }
   ],
   "source": [
    "a = [i * j for j in range(2, 10)\n",
    "           for i in range(1, 10)]\n",
    "print(a)"
   ]
  },
  {
   "cell_type": "markdown",
   "id": "8616c13f",
   "metadata": {},
   "source": [
    "## 22.6. 리스트에 map 사용하기"
   ]
  },
  {
   "cell_type": "code",
   "execution_count": 52,
   "id": "34aa30d1",
   "metadata": {},
   "outputs": [
    {
     "name": "stdout",
     "output_type": "stream",
     "text": [
      "[1, 2, 3, 4]\n"
     ]
    }
   ],
   "source": [
    "a = [1.2, 2.5, 3.7, 4.6]\n",
    "for i in range(len(a)):\n",
    "    a[i] = int(a[i])\n",
    "print(a)"
   ]
  },
  {
   "cell_type": "code",
   "execution_count": 54,
   "id": "ba396b19",
   "metadata": {},
   "outputs": [
    {
     "name": "stdout",
     "output_type": "stream",
     "text": [
      "[1, 2, 3, 4]\n"
     ]
    }
   ],
   "source": [
    "a = [1.2, 2.5, 3.7, 4.6]\n",
    "a = list(map(int, a))\n",
    "print(a)"
   ]
  },
  {
   "cell_type": "code",
   "execution_count": 56,
   "id": "dd629e50",
   "metadata": {},
   "outputs": [
    {
     "name": "stdout",
     "output_type": "stream",
     "text": [
      "['0', '1', '2', '3', '4', '5', '6', '7', '8', '9']\n"
     ]
    }
   ],
   "source": [
    "a = list(map(str, range(10)))\n",
    "print(a)"
   ]
  },
  {
   "cell_type": "markdown",
   "id": "4763aa7c",
   "metadata": {},
   "source": [
    "### 22.6.1. input().split과 map"
   ]
  },
  {
   "cell_type": "code",
   "execution_count": 57,
   "id": "0bc0f602",
   "metadata": {},
   "outputs": [
    {
     "name": "stdout",
     "output_type": "stream",
     "text": [
      "10 20\n"
     ]
    }
   ],
   "source": [
    "a = input().split()"
   ]
  },
  {
   "cell_type": "code",
   "execution_count": 58,
   "id": "7c6cb182",
   "metadata": {},
   "outputs": [
    {
     "name": "stdout",
     "output_type": "stream",
     "text": [
      "<class 'list'>\n"
     ]
    }
   ],
   "source": [
    "print(type(a))"
   ]
  },
  {
   "cell_type": "code",
   "execution_count": 69,
   "id": "0e3f11b6",
   "metadata": {
    "scrolled": true
   },
   "outputs": [
    {
     "name": "stdout",
     "output_type": "stream",
     "text": [
      "1.5 3.2\n"
     ]
    },
    {
     "ename": "ValueError",
     "evalue": "invalid literal for int() with base 10: '1.5'",
     "output_type": "error",
     "traceback": [
      "\u001b[0;31m---------------------------------------------------------------------------\u001b[0m",
      "\u001b[0;31mValueError\u001b[0m                                Traceback (most recent call last)",
      "\u001b[0;32m/tmp/ipykernel_33/2391237026.py\u001b[0m in \u001b[0;36m<module>\u001b[0;34m\u001b[0m\n\u001b[1;32m      1\u001b[0m \u001b[0ma\u001b[0m \u001b[0;34m=\u001b[0m \u001b[0mmap\u001b[0m\u001b[0;34m(\u001b[0m\u001b[0mint\u001b[0m\u001b[0;34m,\u001b[0m\u001b[0minput\u001b[0m\u001b[0;34m(\u001b[0m\u001b[0;34m)\u001b[0m\u001b[0;34m.\u001b[0m\u001b[0msplit\u001b[0m\u001b[0;34m(\u001b[0m\u001b[0;34m)\u001b[0m\u001b[0;34m)\u001b[0m\u001b[0;34m\u001b[0m\u001b[0;34m\u001b[0m\u001b[0m\n\u001b[0;32m----> 2\u001b[0;31m \u001b[0mprint\u001b[0m\u001b[0;34m(\u001b[0m\u001b[0mlist\u001b[0m\u001b[0;34m(\u001b[0m\u001b[0ma\u001b[0m\u001b[0;34m)\u001b[0m\u001b[0;34m)\u001b[0m\u001b[0;34m\u001b[0m\u001b[0;34m\u001b[0m\u001b[0m\n\u001b[0m",
      "\u001b[0;31mValueError\u001b[0m: invalid literal for int() with base 10: '1.5'"
     ]
    }
   ],
   "source": [
    "a = map(int,input().split())\n",
    "print(list(a))"
   ]
  },
  {
   "cell_type": "markdown",
   "id": "9a969faa",
   "metadata": {},
   "source": [
    "## 22.7. 튜플 응용하기"
   ]
  },
  {
   "cell_type": "markdown",
   "id": "2d12efbf",
   "metadata": {},
   "source": [
    "### 22.7.1. 튜플에서 특정 값의 인덱스 구하기"
   ]
  },
  {
   "cell_type": "code",
   "execution_count": 72,
   "id": "0c931b65",
   "metadata": {},
   "outputs": [
    {
     "name": "stdout",
     "output_type": "stream",
     "text": [
      "2\n"
     ]
    }
   ],
   "source": [
    "a = (38, 21, 53, 62, 19, 53)\n",
    "print(a.index(53))"
   ]
  },
  {
   "cell_type": "markdown",
   "id": "0d9cfa15",
   "metadata": {},
   "source": [
    "### 22.7.2. 특정 값의 개수 구하기"
   ]
  },
  {
   "cell_type": "code",
   "execution_count": 73,
   "id": "da64795b",
   "metadata": {},
   "outputs": [
    {
     "data": {
      "text/plain": [
       "2"
      ]
     },
     "execution_count": 73,
     "metadata": {},
     "output_type": "execute_result"
    }
   ],
   "source": [
    "a = (10, 20, 30, 15, 20, 40)\n",
    "a.count(20)"
   ]
  },
  {
   "cell_type": "markdown",
   "id": "0109169a",
   "metadata": {},
   "source": [
    "### 22.7.3. for 반복문으로 요소 출력하기"
   ]
  },
  {
   "cell_type": "code",
   "execution_count": 74,
   "id": "c7c2c0bf",
   "metadata": {},
   "outputs": [
    {
     "name": "stdout",
     "output_type": "stream",
     "text": [
      "38 21 53 62 19 "
     ]
    }
   ],
   "source": [
    "a = (38, 21, 53, 62, 19)\n",
    "for i in a:\n",
    "    print(i, end=' ')"
   ]
  },
  {
   "cell_type": "markdown",
   "id": "0a381423",
   "metadata": {},
   "source": [
    "### 22.7.4. 튜플 표현식 사용하기"
   ]
  },
  {
   "cell_type": "code",
   "execution_count": 75,
   "id": "997e9bf5",
   "metadata": {},
   "outputs": [
    {
     "name": "stdout",
     "output_type": "stream",
     "text": [
      "(0, 2, 4, 6, 8)\n"
     ]
    }
   ],
   "source": [
    "a = tuple(i for i in range(10) if i % 2 == 0)\n",
    "print(a)"
   ]
  },
  {
   "cell_type": "markdown",
   "id": "767ab443",
   "metadata": {},
   "source": [
    "### 22.7.5. 튜플에 map 사용하기"
   ]
  },
  {
   "cell_type": "code",
   "execution_count": 77,
   "id": "f8ac2a32",
   "metadata": {},
   "outputs": [
    {
     "name": "stdout",
     "output_type": "stream",
     "text": [
      "(1, 2, 3, 4)\n"
     ]
    }
   ],
   "source": [
    "a = (1.2, 2.5, 3.7, 4.6)\n",
    "a = tuple(map(int, a))\n",
    "print(a)"
   ]
  },
  {
   "cell_type": "markdown",
   "id": "10ba79a5",
   "metadata": {},
   "source": [
    "### 22.7.6.  튜플에서 가장 작은 수, 가장 큰 수, 합계 구하기"
   ]
  },
  {
   "cell_type": "code",
   "execution_count": 78,
   "id": "769d2607",
   "metadata": {},
   "outputs": [
    {
     "name": "stdout",
     "output_type": "stream",
     "text": [
      "62 19 193\n"
     ]
    }
   ],
   "source": [
    "a = (38, 21, 53, 62, 19)\n",
    "print(max(a),min(a),sum(a))"
   ]
  },
  {
   "cell_type": "markdown",
   "id": "3d2ded52",
   "metadata": {},
   "source": [
    "## 22.8. 퀴즈"
   ]
  },
  {
   "cell_type": "markdown",
   "id": "34cb998b",
   "metadata": {},
   "source": [
    "3번 문제"
   ]
  },
  {
   "cell_type": "code",
   "execution_count": 97,
   "id": "aeb91ba4",
   "metadata": {},
   "outputs": [
    {
     "name": "stdout",
     "output_type": "stream",
     "text": [
      "[1, 2, 3, 40]\n",
      "[1, 2, 3, 40]\n",
      "[1, 2, 3, 40]\n",
      "[1, 2, 40]\n"
     ]
    }
   ],
   "source": [
    "a = [1, 2, 3]\n",
    "a.append(40)\n",
    "print(a)\n",
    "\n",
    "a = [1, 2, 3]\n",
    "a.insert(len(a),40)\n",
    "print(a)\n",
    "\n",
    "# a = [1, 2, 3]\n",
    "# a[0:] = 40\n",
    "# print(a)\n",
    "\n",
    "# a = [1, 2, 3]\n",
    "# a[len(a):]=40\n",
    "# print(a)\n",
    "\n",
    "a = [1, 2, 3]\n",
    "a[len(a):]=[40]\n",
    "print(a)\n",
    "\n",
    "a = [1, 2, 3]\n",
    "a[-1:]=[40]\n",
    "print(a)"
   ]
  },
  {
   "cell_type": "markdown",
   "id": "ccb490f3",
   "metadata": {},
   "source": [
    "4번 문제"
   ]
  },
  {
   "cell_type": "code",
   "execution_count": 101,
   "id": "cb67d90c",
   "metadata": {},
   "outputs": [
    {
     "name": "stdout",
     "output_type": "stream",
     "text": [
      "(1, 4)\n",
      "5\n",
      "0\n",
      "1\n"
     ]
    }
   ],
   "source": [
    "a = (1,4)\n",
    "print(a[:])\n",
    "# print(a.pop())\n",
    "print(sum(a))\n",
    "print(a.count(10))\n",
    "print(min(a))"
   ]
  },
  {
   "cell_type": "markdown",
   "id": "79fc2285",
   "metadata": {},
   "source": [
    "## 22.11*. 직접 만든 문제"
   ]
  },
  {
   "cell_type": "markdown",
   "id": "00428987",
   "metadata": {},
   "source": [
    "이 코드는 잘 돌아가는데 (\"1, 2\"를 입력하면 [1.0, 2.0]이 나온다.)"
   ]
  },
  {
   "cell_type": "code",
   "execution_count": 71,
   "id": "028fa633",
   "metadata": {},
   "outputs": [
    {
     "name": "stdout",
     "output_type": "stream",
     "text": [
      "1 2\n",
      "[1.0, 2.0]\n"
     ]
    }
   ],
   "source": [
    "a = map(float,input().split())\n",
    "print(list(a))"
   ]
  },
  {
   "cell_type": "markdown",
   "id": "66e0a1fd",
   "metadata": {},
   "source": [
    "이 코드는 돌아가지 않는다. (\"1.1, 2.1\"를 입력하면 [1, 2]이 나와야 할 것 같은데 그렇지 않다.)"
   ]
  },
  {
   "cell_type": "code",
   "execution_count": 70,
   "id": "6c71fa97",
   "metadata": {},
   "outputs": [
    {
     "name": "stdout",
     "output_type": "stream",
     "text": [
      "1.1,2.1\n"
     ]
    },
    {
     "ename": "ValueError",
     "evalue": "invalid literal for int() with base 10: '1.1,2.1'",
     "output_type": "error",
     "traceback": [
      "\u001b[0;31m---------------------------------------------------------------------------\u001b[0m",
      "\u001b[0;31mValueError\u001b[0m                                Traceback (most recent call last)",
      "\u001b[0;32m/tmp/ipykernel_33/2391237026.py\u001b[0m in \u001b[0;36m<module>\u001b[0;34m\u001b[0m\n\u001b[1;32m      1\u001b[0m \u001b[0ma\u001b[0m \u001b[0;34m=\u001b[0m \u001b[0mmap\u001b[0m\u001b[0;34m(\u001b[0m\u001b[0mint\u001b[0m\u001b[0;34m,\u001b[0m\u001b[0minput\u001b[0m\u001b[0;34m(\u001b[0m\u001b[0;34m)\u001b[0m\u001b[0;34m.\u001b[0m\u001b[0msplit\u001b[0m\u001b[0;34m(\u001b[0m\u001b[0;34m)\u001b[0m\u001b[0;34m)\u001b[0m\u001b[0;34m\u001b[0m\u001b[0;34m\u001b[0m\u001b[0m\n\u001b[0;32m----> 2\u001b[0;31m \u001b[0mprint\u001b[0m\u001b[0;34m(\u001b[0m\u001b[0mlist\u001b[0m\u001b[0;34m(\u001b[0m\u001b[0ma\u001b[0m\u001b[0;34m)\u001b[0m\u001b[0;34m)\u001b[0m\u001b[0;34m\u001b[0m\u001b[0;34m\u001b[0m\u001b[0m\n\u001b[0m",
      "\u001b[0;31mValueError\u001b[0m: invalid literal for int() with base 10: '1.1,2.1'"
     ]
    }
   ],
   "source": [
    "a = map(int,input().split())\n",
    "print(list(a))"
   ]
  },
  {
   "cell_type": "markdown",
   "id": "aa47a36a",
   "metadata": {},
   "source": [
    "# 23. 2차원"
   ]
  },
  {
   "cell_type": "markdown",
   "id": "59499d5a",
   "metadata": {},
   "source": [
    "## 22.1. 리스트 조작하기"
   ]
  }
 ],
 "metadata": {
  "kernelspec": {
   "display_name": "Python 3 (ipykernel)",
   "language": "python",
   "name": "python3"
  },
  "language_info": {
   "codemirror_mode": {
    "name": "ipython",
    "version": 3
   },
   "file_extension": ".py",
   "mimetype": "text/x-python",
   "name": "python",
   "nbconvert_exporter": "python",
   "pygments_lexer": "ipython3",
   "version": "3.9.7"
  }
 },
 "nbformat": 4,
 "nbformat_minor": 5
}
