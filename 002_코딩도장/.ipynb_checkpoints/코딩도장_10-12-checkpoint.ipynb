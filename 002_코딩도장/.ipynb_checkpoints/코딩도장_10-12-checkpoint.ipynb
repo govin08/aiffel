{
 "cells": [
  {
   "cell_type": "markdown",
   "id": "65f8b550",
   "metadata": {},
   "source": [
    "# 10. 리스트와 튜플 사용하기"
   ]
  },
  {
   "cell_type": "markdown",
   "id": "d37451a6",
   "metadata": {},
   "source": [
    "## 10.1. 리스트 만들기"
   ]
  },
  {
   "cell_type": "code",
   "execution_count": 1,
   "id": "5757aa2a",
   "metadata": {},
   "outputs": [
    {
     "name": "stdout",
     "output_type": "stream",
     "text": [
      "[38, 21, 53, 62, 19]\n"
     ]
    }
   ],
   "source": [
    "a = [38, 21, 53, 62, 19]\n",
    "print(a)"
   ]
  },
  {
   "cell_type": "code",
   "execution_count": 2,
   "id": "882d49f4",
   "metadata": {},
   "outputs": [
    {
     "data": {
      "text/plain": [
       "[38, 21, 53, 62, 19]"
      ]
     },
     "execution_count": 2,
     "metadata": {},
     "output_type": "execute_result"
    }
   ],
   "source": [
    "a"
   ]
  },
  {
   "cell_type": "markdown",
   "id": "479f7a7c",
   "metadata": {},
   "source": [
    "### 10.1.1 리스트에 여러 가지 자료형 저장하기"
   ]
  },
  {
   "cell_type": "markdown",
   "id": "66cac39c",
   "metadata": {},
   "source": [
    "교재에 있는 list"
   ]
  },
  {
   "cell_type": "code",
   "execution_count": 3,
   "id": "174787b7",
   "metadata": {},
   "outputs": [
    {
     "data": {
      "text/plain": [
       "['james', 17, 175.3, True]"
      ]
     },
     "execution_count": 3,
     "metadata": {},
     "output_type": "execute_result"
    }
   ],
   "source": [
    "person = ['james', 17, 175.3, True]\n",
    "person"
   ]
  },
  {
   "cell_type": "code",
   "execution_count": 4,
   "id": "4ce1dbe1",
   "metadata": {},
   "outputs": [
    {
     "name": "stdout",
     "output_type": "stream",
     "text": [
      "<class 'list'>\n"
     ]
    }
   ],
   "source": [
    "print(type(person))"
   ]
  },
  {
   "cell_type": "code",
   "execution_count": 5,
   "id": "2a12a9fc",
   "metadata": {},
   "outputs": [
    {
     "name": "stdout",
     "output_type": "stream",
     "text": [
      "<class 'str'>\n",
      "<class 'int'>\n",
      "<class 'float'>\n",
      "<class 'bool'>\n"
     ]
    }
   ],
   "source": [
    "for x in person:\n",
    "    print(type(x))"
   ]
  },
  {
   "cell_type": "markdown",
   "id": "7bdfe864",
   "metadata": {},
   "source": [
    "직접 해본 np.array"
   ]
  },
  {
   "cell_type": "code",
   "execution_count": 6,
   "id": "c37b7e74",
   "metadata": {},
   "outputs": [],
   "source": [
    "import numpy as np"
   ]
  },
  {
   "cell_type": "code",
   "execution_count": 7,
   "id": "89e6b5c8",
   "metadata": {},
   "outputs": [
    {
     "data": {
      "text/plain": [
       "array(['james', '17', '175.3', 'True'], dtype='<U32')"
      ]
     },
     "execution_count": 7,
     "metadata": {},
     "output_type": "execute_result"
    }
   ],
   "source": [
    "person2 = np.array(['james', 17, 175.3, True])\n",
    "person2"
   ]
  },
  {
   "cell_type": "code",
   "execution_count": 8,
   "id": "c6f685a0",
   "metadata": {},
   "outputs": [
    {
     "name": "stdout",
     "output_type": "stream",
     "text": [
      "<class 'numpy.ndarray'>\n"
     ]
    }
   ],
   "source": [
    "print(type(person2))"
   ]
  },
  {
   "cell_type": "code",
   "execution_count": 9,
   "id": "5b57e1a5",
   "metadata": {},
   "outputs": [
    {
     "name": "stdout",
     "output_type": "stream",
     "text": [
      "<class 'numpy.str_'>\n",
      "<class 'numpy.str_'>\n",
      "<class 'numpy.str_'>\n",
      "<class 'numpy.str_'>\n"
     ]
    }
   ],
   "source": [
    "for x in person2:\n",
    "    print(type(x))"
   ]
  },
  {
   "cell_type": "markdown",
   "id": "3033a8f2",
   "metadata": {},
   "source": [
    "np.array에는 한 종류의 datatype만이 들어갈 수 있다."
   ]
  },
  {
   "cell_type": "code",
   "execution_count": 10,
   "id": "e28fbbe5",
   "metadata": {},
   "outputs": [
    {
     "name": "stdout",
     "output_type": "stream",
     "text": [
      "True\n",
      "False\n"
     ]
    }
   ],
   "source": [
    "A=[1,2,3,4]\n",
    "B=list([1,2,3,4])\n",
    "print(A == B)\n",
    "print(A is B)"
   ]
  },
  {
   "cell_type": "markdown",
   "id": "7423f2d6",
   "metadata": {},
   "source": [
    "### 10.1.2. 빈 리스트 만들기"
   ]
  },
  {
   "cell_type": "code",
   "execution_count": 11,
   "id": "5c7dddd8",
   "metadata": {},
   "outputs": [
    {
     "name": "stdout",
     "output_type": "stream",
     "text": [
      "[]\n"
     ]
    }
   ],
   "source": [
    "a = []\n",
    "print(a)"
   ]
  },
  {
   "cell_type": "code",
   "execution_count": 12,
   "id": "1fd0d153",
   "metadata": {},
   "outputs": [
    {
     "name": "stdout",
     "output_type": "stream",
     "text": [
      "[]\n"
     ]
    }
   ],
   "source": [
    "b = list()\n",
    "print(b)"
   ]
  },
  {
   "cell_type": "markdown",
   "id": "19e8fc2c",
   "metadata": {},
   "source": [
    "### 10.1.3 range를 사용하여 리스트 만들기"
   ]
  },
  {
   "cell_type": "code",
   "execution_count": 36,
   "id": "505865d0",
   "metadata": {
    "scrolled": true
   },
   "outputs": [
    {
     "name": "stdout",
     "output_type": "stream",
     "text": [
      "range(0, 10)\n",
      "[0, 1, 2, 3, 4, 5, 6, 7, 8, 9]\n",
      "[0, 1, 2, 3, 4, 5, 6, 7, 8, 9]\n",
      "[1, 2, 3, 4, 5, 6, 7, 8, 9]\n"
     ]
    }
   ],
   "source": [
    "A = range(10)\n",
    "B = list(range(10))\n",
    "C = list(range(0,10))\n",
    "D = list(range(1,10))\n",
    "print(A)\n",
    "print(B)\n",
    "print(C)\n",
    "print(D)"
   ]
  },
  {
   "cell_type": "markdown",
   "id": "d10c8979",
   "metadata": {},
   "source": [
    "`list[range(n)]`는 $0\\le x<n$인 정수 $n$개로 이루어진 list이다."
   ]
  },
  {
   "cell_type": "markdown",
   "id": "0729327d",
   "metadata": {},
   "source": [
    "## 10.2. 튜플 사용하기"
   ]
  },
  {
   "cell_type": "code",
   "execution_count": null,
   "id": "ee742819",
   "metadata": {},
   "outputs": [],
   "source": [
    "A = (38, 21, 53, 62, 19)\n",
    "print(A)"
   ]
  },
  {
   "cell_type": "code",
   "execution_count": null,
   "id": "054d1558",
   "metadata": {},
   "outputs": [],
   "source": [
    "B=list([38, 21, 53, 62, 19])\n",
    "print(B)"
   ]
  },
  {
   "cell_type": "code",
   "execution_count": null,
   "id": "7402d758",
   "metadata": {},
   "outputs": [],
   "source": [
    "print(A[1])\n",
    "print(B[1])\n",
    "print(A[1]==B[1])\n",
    "print(A[1] is B[1])"
   ]
  },
  {
   "cell_type": "markdown",
   "id": "f3d0f748",
   "metadata": {},
   "source": [
    "- list는 수학에서 말하는 unordered tuple이다.\n",
    "- tuple은 수학에서 말하는 ordered tuple 혹은 sequence이다."
   ]
  },
  {
   "cell_type": "code",
   "execution_count": null,
   "id": "a6b88fb3",
   "metadata": {},
   "outputs": [],
   "source": [
    "person = ('james', 17, 175.3, True)\n",
    "print(person)"
   ]
  },
  {
   "cell_type": "markdown",
   "id": "722969c0",
   "metadata": {},
   "source": [
    "- list는 요소들을 변경, 추가, 삭제할 수 있다.\n",
    "- tuple은 요소들을 변경. 추가, 삭제할 수 없다."
   ]
  },
  {
   "cell_type": "code",
   "execution_count": null,
   "id": "5c7f0f97",
   "metadata": {},
   "outputs": [],
   "source": [
    "A=(1,2,3)\n",
    "B=tuple([1,2,3])\n",
    "C=1,2,3\n",
    "#D=tuple(1,2,3) 잘못된 표현\n",
    "print(A)\n",
    "print(B)\n",
    "print(C)\n",
    "print(A is B)\n",
    "print(A is C)\n",
    "print(B is C)\n",
    "print(A == B)\n",
    "print(A == C)\n",
    "print(B == C)"
   ]
  },
  {
   "cell_type": "markdown",
   "id": "f6849dfd",
   "metadata": {},
   "source": [
    "list2tuple, tuple2list"
   ]
  },
  {
   "cell_type": "code",
   "execution_count": 42,
   "id": "66011526",
   "metadata": {},
   "outputs": [
    {
     "name": "stdout",
     "output_type": "stream",
     "text": [
      "(1, 2, 3)\n",
      "[2, 3, 4]\n"
     ]
    }
   ],
   "source": [
    "A=[1,2,3]\n",
    "A=tuple(A)\n",
    "B=(2,3,4)\n",
    "B=list(B)\n",
    "print(A)\n",
    "print(B)\n",
    "C=(1,2,3)"
   ]
  },
  {
   "cell_type": "markdown",
   "id": "eaab5d74",
   "metadata": {},
   "source": [
    "np.array2list"
   ]
  },
  {
   "cell_type": "code",
   "execution_count": null,
   "id": "7c194523",
   "metadata": {
    "scrolled": true
   },
   "outputs": [],
   "source": [
    "import numpy as np\n",
    "A=[1,2,3]\n",
    "A=np.array(A)\n",
    "print(type(A))\n",
    "B=np.array([2,3,4])\n",
    "B=B.tolist()\n",
    "print(type(B))"
   ]
  },
  {
   "cell_type": "markdown",
   "id": "69b6b9c3",
   "metadata": {},
   "source": [
    "## 10.3. 퀴즈"
   ]
  },
  {
   "cell_type": "markdown",
   "id": "3cfcf345",
   "metadata": {},
   "source": [
    "## 10.4. 연습문제 : range로 리스트 만들기"
   ]
  },
  {
   "cell_type": "markdown",
   "id": "33841251",
   "metadata": {},
   "source": [
    "## 10.5. 심사문제 : range로 튜플 만들기"
   ]
  },
  {
   "cell_type": "code",
   "execution_count": null,
   "id": "b06bcf26",
   "metadata": {},
   "outputs": [],
   "source": [
    "a=tuple(range(-10,10,int(input())))\n",
    "print(a)"
   ]
  },
  {
   "cell_type": "markdown",
   "id": "851a593c",
   "metadata": {},
   "source": [
    "## 10. 6*. 직접 만든 문제"
   ]
  },
  {
   "cell_type": "markdown",
   "id": "76448799",
   "metadata": {},
   "source": [
    "(문제1) list와 np.array의 차이 : 각 요소들의 datatype"
   ]
  },
  {
   "cell_type": "markdown",
   "id": "f382cb43",
   "metadata": {},
   "source": [
    "(문제2)\n",
    "```\n",
    "a = []\n",
    "b = list()\n",
    "print(a == b)\n",
    "print(a is b)\n",
    "```"
   ]
  },
  {
   "cell_type": "markdown",
   "id": "85df3372",
   "metadata": {},
   "source": [
    "(문제3)\n",
    "```\n",
    "A=[1,2,3,4]\n",
    "B=list([1,2,3,4])\n",
    "print(A == B)\n",
    "print(A is B)\n",
    "```"
   ]
  },
  {
   "cell_type": "markdown",
   "id": "8aefdf38",
   "metadata": {},
   "source": [
    "(문제3)\n",
    "```\n",
    "A=(1,2,3)\n",
    "B=tuple([1,2,3])\n",
    "C=1,2,3\n",
    "#D=tuple(1,2,3) 잘못된 표현\n",
    "print(A is B)\n",
    "print(A is C)\n",
    "print(B is C)\n",
    "print(A == B)\n",
    "print(A == C)\n",
    "print(B == C)\n",
    "```"
   ]
  },
  {
   "cell_type": "markdown",
   "id": "ad785f73",
   "metadata": {},
   "source": [
    "**(문제4) 다음 중 결과가 다르게 나오는 것은?**\n",
    "```\n",
    "A=[1,2,3]\n",
    "B=list((1,2,3))\n",
    "C=list(range(1,4))\n",
    "D=[range(1,4)]\n",
    "print(A)\n",
    "print(B)\n",
    "print(C)\n",
    "print(D)\n",
    "```"
   ]
  },
  {
   "cell_type": "code",
   "execution_count": 46,
   "id": "bfdd02c2",
   "metadata": {},
   "outputs": [
    {
     "name": "stdout",
     "output_type": "stream",
     "text": [
      "[1, 2, 3]\n",
      "[1, 2, 3]\n",
      "[1, 2, 3]\n",
      "[range(1, 4)]\n"
     ]
    }
   ],
   "source": [
    "A=[1,2,3]\n",
    "B=list((1,2,3))\n",
    "C=list(range(1,4))\n",
    "D=[range(1,4)]\n",
    "print(A)\n",
    "print(B)\n",
    "print(C)\n",
    "print(D)"
   ]
  },
  {
   "cell_type": "markdown",
   "id": "6ef26ba9",
   "metadata": {},
   "source": [
    "# 11. 시퀀스 자료형 활용하기"
   ]
  },
  {
   "cell_type": "markdown",
   "id": "988c2809",
   "metadata": {},
   "source": [
    "## 11.1 시퀀스 자료형의 공통 기능 사용하기"
   ]
  },
  {
   "cell_type": "markdown",
   "id": "12f4aa6e",
   "metadata": {},
   "source": [
    "### 11.1.1 특정 값이 있는지 확인하기"
   ]
  },
  {
   "cell_type": "code",
   "execution_count": null,
   "id": "ec94b113",
   "metadata": {},
   "outputs": [],
   "source": [
    "a=list(range(0,100,10))\n",
    "print(a)\n",
    "print(30 in a)\n",
    "print(100 in a)\n",
    "print(30 not in a)\n",
    "print(100 not in a)"
   ]
  },
  {
   "cell_type": "code",
   "execution_count": null,
   "id": "5de3aafa",
   "metadata": {
    "scrolled": true
   },
   "outputs": [],
   "source": [
    "a=tuple(range(0,100,10))\n",
    "print(a)\n",
    "print(30 in a)"
   ]
  },
  {
   "cell_type": "code",
   "execution_count": null,
   "id": "dedfd243",
   "metadata": {},
   "outputs": [],
   "source": [
    "python = 'python'\n",
    "print('p' in python)\n",
    "print('f' in python)"
   ]
  },
  {
   "cell_type": "markdown",
   "id": "86b6f86a",
   "metadata": {},
   "source": [
    "### 11.1.2 시퀀스 객체 연결하기"
   ]
  },
  {
   "cell_type": "code",
   "execution_count": null,
   "id": "65004ccf",
   "metadata": {},
   "outputs": [],
   "source": [
    "a=list(range(0,40,10))\n",
    "print(a)\n",
    "b=[1,2,3]\n",
    "print(b)\n",
    "print(a+b)"
   ]
  },
  {
   "cell_type": "code",
   "execution_count": null,
   "id": "996c75d2",
   "metadata": {},
   "outputs": [],
   "source": [
    "h='hello'\n",
    "w='world'\n",
    "print(h+w)\n",
    "print(h,w)"
   ]
  },
  {
   "cell_type": "markdown",
   "id": "21594a31",
   "metadata": {},
   "source": [
    "### 11.1.3 시퀀스 객체 반복하기"
   ]
  },
  {
   "cell_type": "code",
   "execution_count": null,
   "id": "068203ae",
   "metadata": {},
   "outputs": [],
   "source": [
    "print(a)\n",
    "print(a*3)"
   ]
  },
  {
   "cell_type": "markdown",
   "id": "12bbdcc2",
   "metadata": {},
   "source": [
    "np.array에서는 달리 행동한다."
   ]
  },
  {
   "cell_type": "code",
   "execution_count": null,
   "id": "9c992565",
   "metadata": {},
   "outputs": [],
   "source": [
    "import numpy as np\n",
    "a=[1,2,3]\n",
    "b=np.array([1,2,3])\n",
    "print(a+a)\n",
    "print(a*3)\n",
    "print(b+b)\n",
    "print(b*3)"
   ]
  },
  {
   "cell_type": "code",
   "execution_count": null,
   "id": "4f819f73",
   "metadata": {},
   "outputs": [],
   "source": [
    "#print(a+3) 오류남\n",
    "print(b+3) #broadcasting"
   ]
  },
  {
   "cell_type": "markdown",
   "id": "f70beaca",
   "metadata": {},
   "source": [
    "tuple"
   ]
  },
  {
   "cell_type": "code",
   "execution_count": 100,
   "id": "fe28df70",
   "metadata": {},
   "outputs": [
    {
     "name": "stdout",
     "output_type": "stream",
     "text": [
      "[1, 2, 3]\n",
      "[1, 2, 3, 1, 2, 3]\n",
      "(1, 2, 3)\n",
      "(1, 2, 3, 1, 2, 3)\n",
      "range(0, 3)\n"
     ]
    },
    {
     "ename": "TypeError",
     "evalue": "unsupported operand type(s) for *: 'range' and 'int'",
     "output_type": "error",
     "traceback": [
      "\u001b[0;31m---------------------------------------------------------------------------\u001b[0m",
      "\u001b[0;31mTypeError\u001b[0m                                 Traceback (most recent call last)",
      "\u001b[0;32m/tmp/ipykernel_1697/3183133234.py\u001b[0m in \u001b[0;36m<module>\u001b[0;34m\u001b[0m\n\u001b[1;32m      7\u001b[0m \u001b[0mc\u001b[0m\u001b[0;34m=\u001b[0m\u001b[0mrange\u001b[0m\u001b[0;34m(\u001b[0m\u001b[0;36m3\u001b[0m\u001b[0;34m)\u001b[0m\u001b[0;34m\u001b[0m\u001b[0;34m\u001b[0m\u001b[0m\n\u001b[1;32m      8\u001b[0m \u001b[0mprint\u001b[0m\u001b[0;34m(\u001b[0m\u001b[0mc\u001b[0m\u001b[0;34m)\u001b[0m\u001b[0;34m\u001b[0m\u001b[0;34m\u001b[0m\u001b[0m\n\u001b[0;32m----> 9\u001b[0;31m \u001b[0mprint\u001b[0m\u001b[0;34m(\u001b[0m\u001b[0mc\u001b[0m\u001b[0;34m*\u001b[0m\u001b[0;36m2\u001b[0m\u001b[0;34m)\u001b[0m\u001b[0;34m\u001b[0m\u001b[0;34m\u001b[0m\u001b[0m\n\u001b[0m",
      "\u001b[0;31mTypeError\u001b[0m: unsupported operand type(s) for *: 'range' and 'int'"
     ]
    }
   ],
   "source": [
    "a=[1,2,3]\n",
    "print(a)\n",
    "print(a*2)\n",
    "b=(1,2,3)\n",
    "print(b)\n",
    "print(b*2)\n",
    "c=range(3)\n",
    "print(c)\n",
    "print(c*2)"
   ]
  },
  {
   "cell_type": "markdown",
   "id": "19e47fbc",
   "metadata": {},
   "source": [
    "### 11.2.1 리스트와 튜플의 요소 개수 구하기"
   ]
  },
  {
   "cell_type": "markdown",
   "id": "ba75c72e",
   "metadata": {},
   "source": [
    "length"
   ]
  },
  {
   "cell_type": "code",
   "execution_count": null,
   "id": "471dcbe1",
   "metadata": {},
   "outputs": [],
   "source": [
    "a = list(range(0,100,10))\n",
    "print(a)\n",
    "print(len(a))\n",
    "b= tuple(range(0,100,10))\n",
    "print(b)\n",
    "print(len(b))"
   ]
  },
  {
   "cell_type": "markdown",
   "id": "0fe878ac",
   "metadata": {},
   "source": [
    "### 11.2.2 range의 숫자 생성 개수 구하기"
   ]
  },
  {
   "cell_type": "code",
   "execution_count": 14,
   "id": "50eb5216",
   "metadata": {},
   "outputs": [
    {
     "name": "stdout",
     "output_type": "stream",
     "text": [
      "5\n"
     ]
    }
   ],
   "source": [
    "print(len(range(0,10,2)))"
   ]
  },
  {
   "cell_type": "markdown",
   "id": "a9690bd1",
   "metadata": {},
   "source": [
    "### 11.2.3 문자열의 길이 구하기"
   ]
  },
  {
   "cell_type": "code",
   "execution_count": 15,
   "id": "1494bd91",
   "metadata": {},
   "outputs": [
    {
     "name": "stdout",
     "output_type": "stream",
     "text": [
      "python\n",
      "6\n",
      "6\n",
      "안녕하세요\n",
      "15\n"
     ]
    }
   ],
   "source": [
    "p = 'python'\n",
    "print(p)\n",
    "print(len(p))\n",
    "print(len(p.encode('utf-8')))\n",
    "인사 = '안녕하세요'\n",
    "print(인사)\n",
    "print(len(인사.encode('utf-8')))"
   ]
  },
  {
   "cell_type": "markdown",
   "id": "876826d9",
   "metadata": {},
   "source": [
    "### 11.3. 인덱스 사용하기"
   ]
  },
  {
   "cell_type": "code",
   "execution_count": 16,
   "id": "227f103d",
   "metadata": {},
   "outputs": [
    {
     "name": "stdout",
     "output_type": "stream",
     "text": [
      "38\n",
      "53\n",
      "19\n"
     ]
    }
   ],
   "source": [
    "a=[38,21,53,62,19]\n",
    "print(a[0],a[2],a[4],sep='\\n')"
   ]
  },
  {
   "cell_type": "code",
   "execution_count": 17,
   "id": "4ff19daf",
   "metadata": {},
   "outputs": [
    {
     "name": "stdout",
     "output_type": "stream",
     "text": [
      "38\n",
      "53\n",
      "19\n"
     ]
    }
   ],
   "source": [
    "b=(38,21,53,62,19)\n",
    "print(b[0],b[2],b[4],sep='\\n')"
   ]
  },
  {
   "cell_type": "code",
   "execution_count": 23,
   "id": "d38d80a2",
   "metadata": {},
   "outputs": [
    {
     "name": "stdout",
     "output_type": "stream",
     "text": [
      "range(0, 5)\n",
      "[0, 1, 2, 3, 4]\n",
      "(0, 1, 2, 3, 4)\n",
      "(0, 1, 2, 3, 4)\n",
      "2\n",
      "2\n",
      "2\n"
     ]
    }
   ],
   "source": [
    "a = range(5)\n",
    "b = list(range(5))\n",
    "c = tuple(range(5))\n",
    "d = set(range(5))\n",
    "print(a)\n",
    "print(b)\n",
    "print(c)\n",
    "print(c)\n",
    "print(a[2])\n",
    "print(b[2])\n",
    "print(c[2])\n",
    "#print(d[2]) #에러"
   ]
  },
  {
   "cell_type": "code",
   "execution_count": 28,
   "id": "769c7a28",
   "metadata": {},
   "outputs": [
    {
     "name": "stdout",
     "output_type": "stream",
     "text": [
      "1\n",
      "1\n",
      "True\n",
      "True\n"
     ]
    }
   ],
   "source": [
    "a = list(range(5))\n",
    "print(a[1])\n",
    "print(a.__getitem__(1))\n",
    "print(a[1]==a.__getitem__(1))\n",
    "print(a[1] is a.__getitem__(1))"
   ]
  },
  {
   "cell_type": "markdown",
   "id": "2e13a302",
   "metadata": {},
   "source": [
    "### 11.3.1. 음수 인덱스 지정하기"
   ]
  },
  {
   "cell_type": "code",
   "execution_count": 30,
   "id": "a135fc17",
   "metadata": {},
   "outputs": [
    {
     "name": "stdout",
     "output_type": "stream",
     "text": [
      "4\n"
     ]
    }
   ],
   "source": [
    "a = list(range(5))\n",
    "print(a[-1])"
   ]
  },
  {
   "cell_type": "markdown",
   "id": "51576946",
   "metadata": {},
   "source": [
    "### 11.3.2. 인덱스의 범위를 벗어나면?"
   ]
  },
  {
   "cell_type": "code",
   "execution_count": 53,
   "id": "68f3d606",
   "metadata": {},
   "outputs": [
    {
     "name": "stdout",
     "output_type": "stream",
     "text": [
      "1\n",
      "3\n",
      "4\n"
     ]
    }
   ],
   "source": [
    "a = list(range(5))\n",
    "print(a[1])\n",
    "print(a[3])\n",
    "print(a[4])\n",
    "# print(a[7]) #에러"
   ]
  },
  {
   "cell_type": "markdown",
   "id": "56542347",
   "metadata": {},
   "source": [
    "$7\\equiv2(mod 5)$라서 `a[7]=a[2]=2`로 나올 것 같은데 그렇지 않고 오류가 난다."
   ]
  },
  {
   "cell_type": "markdown",
   "id": "c07cb8fd",
   "metadata": {},
   "source": [
    "### 11.3.3 마지막 요소에 접근하기"
   ]
  },
  {
   "cell_type": "code",
   "execution_count": 55,
   "id": "292161c7",
   "metadata": {},
   "outputs": [
    {
     "name": "stdout",
     "output_type": "stream",
     "text": [
      "[0, 1, 2, 3, 4]\n",
      "4\n",
      "4\n",
      "4\n"
     ]
    }
   ],
   "source": [
    "a= list(range(5))\n",
    "print(a)\n",
    "print(a[4])\n",
    "print(a[-1])\n",
    "print(a[len(a)-1])"
   ]
  },
  {
   "cell_type": "markdown",
   "id": "c18a5445",
   "metadata": {},
   "source": [
    "### 11.3.4 요소에 값 할당하기"
   ]
  },
  {
   "cell_type": "code",
   "execution_count": 57,
   "id": "6ae684d6",
   "metadata": {},
   "outputs": [
    {
     "name": "stdout",
     "output_type": "stream",
     "text": [
      "[2, 1, 0, 0]\n"
     ]
    }
   ],
   "source": [
    "a = [0,0,0,0]\n",
    "a[0] = 2\n",
    "a[1] = 1\n",
    "print(a)"
   ]
  },
  {
   "cell_type": "code",
   "execution_count": 58,
   "id": "def46199",
   "metadata": {},
   "outputs": [
    {
     "ename": "TypeError",
     "evalue": "'tuple' object does not support item assignment",
     "output_type": "error",
     "traceback": [
      "\u001b[0;31m---------------------------------------------------------------------------\u001b[0m",
      "\u001b[0;31mTypeError\u001b[0m                                 Traceback (most recent call last)",
      "\u001b[0;32m/tmp/ipykernel_1697/1543422980.py\u001b[0m in \u001b[0;36m<module>\u001b[0;34m\u001b[0m\n\u001b[1;32m      1\u001b[0m \u001b[0ma\u001b[0m \u001b[0;34m=\u001b[0m \u001b[0;34m(\u001b[0m\u001b[0;36m0\u001b[0m\u001b[0;34m,\u001b[0m\u001b[0;36m0\u001b[0m\u001b[0;34m,\u001b[0m\u001b[0;36m0\u001b[0m\u001b[0;34m,\u001b[0m\u001b[0;36m0\u001b[0m\u001b[0;34m)\u001b[0m\u001b[0;34m\u001b[0m\u001b[0;34m\u001b[0m\u001b[0m\n\u001b[0;32m----> 2\u001b[0;31m \u001b[0ma\u001b[0m\u001b[0;34m[\u001b[0m\u001b[0;36m0\u001b[0m\u001b[0;34m]\u001b[0m \u001b[0;34m=\u001b[0m \u001b[0;36m2\u001b[0m\u001b[0;34m\u001b[0m\u001b[0;34m\u001b[0m\u001b[0m\n\u001b[0m\u001b[1;32m      3\u001b[0m \u001b[0ma\u001b[0m\u001b[0;34m[\u001b[0m\u001b[0;36m1\u001b[0m\u001b[0;34m]\u001b[0m \u001b[0;34m=\u001b[0m \u001b[0;36m1\u001b[0m\u001b[0;34m\u001b[0m\u001b[0;34m\u001b[0m\u001b[0m\n\u001b[1;32m      4\u001b[0m \u001b[0mprint\u001b[0m\u001b[0;34m(\u001b[0m\u001b[0ma\u001b[0m\u001b[0;34m)\u001b[0m\u001b[0;34m\u001b[0m\u001b[0;34m\u001b[0m\u001b[0m\n",
      "\u001b[0;31mTypeError\u001b[0m: 'tuple' object does not support item assignment"
     ]
    }
   ],
   "source": [
    "a = (0,0,0,0)\n",
    "a[0] = 2\n",
    "a[1] = 1\n",
    "print(a)"
   ]
  },
  {
   "cell_type": "markdown",
   "id": "f84a1fa6",
   "metadata": {},
   "source": [
    "### 11.3.5 del로 요소 삭제하기"
   ]
  },
  {
   "cell_type": "code",
   "execution_count": 60,
   "id": "74f236bb",
   "metadata": {},
   "outputs": [
    {
     "name": "stdout",
     "output_type": "stream",
     "text": [
      "[0, 1, 2, 3, 4]\n",
      "[0, 1, 2, 3]\n"
     ]
    }
   ],
   "source": [
    "a = list(range(5))\n",
    "print(a)\n",
    "del a[-1]\n",
    "print(a)"
   ]
  },
  {
   "cell_type": "markdown",
   "id": "f72b4b2e",
   "metadata": {},
   "source": [
    "## 11.4. 슬라이스 사용하기"
   ]
  },
  {
   "cell_type": "code",
   "execution_count": 63,
   "id": "621411d4",
   "metadata": {},
   "outputs": [
    {
     "name": "stdout",
     "output_type": "stream",
     "text": [
      "[0, 10, 20, 30, 40, 50, 60, 70, 80, 90]\n",
      "[0, 10, 20]\n"
     ]
    }
   ],
   "source": [
    "a = list(range(0,100,10))\n",
    "print(a)\n",
    "print(a[0:3])"
   ]
  },
  {
   "cell_type": "markdown",
   "id": "ef7707ab",
   "metadata": {},
   "source": [
    "### 11.4.1 리스트의 중간 부분 가져오기"
   ]
  },
  {
   "cell_type": "code",
   "execution_count": 64,
   "id": "81e40d56",
   "metadata": {},
   "outputs": [
    {
     "name": "stdout",
     "output_type": "stream",
     "text": [
      "[0, 10, 20, 30, 40, 50, 60, 70, 80, 90]\n",
      "[20, 30, 40]\n"
     ]
    }
   ],
   "source": [
    "a = list(range(0,100,10))\n",
    "print(a)\n",
    "print(a[2:5])"
   ]
  },
  {
   "cell_type": "markdown",
   "id": "11415354",
   "metadata": {},
   "source": [
    "### 11.4.2. 인덱스 증가폭 사용하기"
   ]
  },
  {
   "cell_type": "code",
   "execution_count": 72,
   "id": "66434f00",
   "metadata": {},
   "outputs": [
    {
     "name": "stdout",
     "output_type": "stream",
     "text": [
      "[0, 10, 20, 30, 40, 50, 60, 70, 80, 90]\n",
      "[20, 40, 60]\n"
     ]
    }
   ],
   "source": [
    "a = list(range(0,100,10))\n",
    "print(a)\n",
    "print(a[2:7:2])\n",
    "# print(a[2:7,2]) 오류"
   ]
  },
  {
   "cell_type": "markdown",
   "id": "0cce6348",
   "metadata": {},
   "source": [
    "### 11.4.3. 인덱스 생략하기"
   ]
  },
  {
   "cell_type": "code",
   "execution_count": 67,
   "id": "1cadb9b9",
   "metadata": {},
   "outputs": [
    {
     "name": "stdout",
     "output_type": "stream",
     "text": [
      "[0, 10, 20, 30, 40, 50, 60, 70, 80, 90]\n",
      "[0, 10, 20, 30, 40, 50, 60]\n"
     ]
    }
   ],
   "source": [
    "a = list(range(0,100,10))\n",
    "print(a)\n",
    "print(a[:7])"
   ]
  },
  {
   "cell_type": "markdown",
   "id": "8dfb3051",
   "metadata": {},
   "source": [
    "### 11.4.4 인덱스를 생략하면서 증가폭 사용하기"
   ]
  },
  {
   "cell_type": "code",
   "execution_count": 70,
   "id": "e1c533f8",
   "metadata": {},
   "outputs": [
    {
     "name": "stdout",
     "output_type": "stream",
     "text": [
      "[0, 10, 20, 30, 40, 50, 60, 70, 80, 90]\n",
      "[0, 20, 40, 60]\n"
     ]
    }
   ],
   "source": [
    "a = list(range(0,100,10))\n",
    "print(a)\n",
    "print(a[:7:2])"
   ]
  },
  {
   "cell_type": "code",
   "execution_count": 73,
   "id": "f1211c50",
   "metadata": {},
   "outputs": [
    {
     "name": "stdout",
     "output_type": "stream",
     "text": [
      "[0, 10, 20, 30, 40, 50, 60, 70, 80, 90]\n",
      "[0, 20, 40, 60, 80]\n"
     ]
    }
   ],
   "source": [
    "a = list(range(0,100,10))\n",
    "print(a)\n",
    "print(a[::2])"
   ]
  },
  {
   "cell_type": "code",
   "execution_count": 77,
   "id": "0db71d0e",
   "metadata": {},
   "outputs": [
    {
     "name": "stdout",
     "output_type": "stream",
     "text": [
      "[0, 10, 20, 30, 40, 50, 60, 70, 80, 90]\n",
      "[0, 10, 20, 30, 40, 50, 60, 70, 80, 90]\n",
      "[0, 10, 20, 30, 40, 50, 60, 70, 80, 90]\n",
      "[0, 10, 20, 30, 40, 50, 60, 70, 80]\n",
      "[0, 10, 20, 30, 40, 50, 60, 70, 80, 90]\n",
      "[0, 10, 20, 30, 40, 50, 60, 70, 80, 90]\n"
     ]
    }
   ],
   "source": [
    "a = list(range(0,100,10))\n",
    "print(a)\n",
    "print(a[:])\n",
    "print(a[0:])\n",
    "print(a[0:-1])\n",
    "print(a[::])\n",
    "print(a[0::1])"
   ]
  },
  {
   "cell_type": "markdown",
   "id": "53cd09f1",
   "metadata": {},
   "source": [
    "### 11.4.5. len 응용하기"
   ]
  },
  {
   "cell_type": "code",
   "execution_count": 82,
   "id": "ffc52bff",
   "metadata": {},
   "outputs": [
    {
     "name": "stdout",
     "output_type": "stream",
     "text": [
      "[0, 10, 20, 30, 40, 50, 60, 70, 80, 90]\n",
      "[0, 10, 20, 30, 40, 50, 60, 70, 80, 90]\n"
     ]
    }
   ],
   "source": [
    "a = list(range(0,100,10))\n",
    "print(a)\n",
    "print(a[0:len(a)])"
   ]
  },
  {
   "cell_type": "markdown",
   "id": "77e280e5",
   "metadata": {},
   "source": [
    "### 11.4.6. tuple, range, 문자열에 슬라이스 사용하기"
   ]
  },
  {
   "cell_type": "code",
   "execution_count": 83,
   "id": "f63d4335",
   "metadata": {},
   "outputs": [
    {
     "name": "stdout",
     "output_type": "stream",
     "text": [
      "(0, 10, 20, 30, 40, 50, 60, 70, 80, 90)\n",
      "(20, 30, 40)\n"
     ]
    }
   ],
   "source": [
    "b = tuple(range(0,100,10))\n",
    "print(b)\n",
    "print(b[2:5])"
   ]
  },
  {
   "cell_type": "code",
   "execution_count": 84,
   "id": "b8293f79",
   "metadata": {},
   "outputs": [
    {
     "name": "stdout",
     "output_type": "stream",
     "text": [
      "range(0, 100, 10)\n",
      "range(20, 50, 10)\n",
      "(20, 30, 40)\n"
     ]
    }
   ],
   "source": [
    "r = range(0,100,10)\n",
    "print(r)\n",
    "print(r[2:5])\n",
    "print(tuple(r[2:5]))"
   ]
  },
  {
   "cell_type": "code",
   "execution_count": 87,
   "id": "62691bb7",
   "metadata": {},
   "outputs": [
    {
     "name": "stdout",
     "output_type": "stream",
     "text": [
      "(20, 30, 40)\n",
      "(20, 30, 40)\n",
      "True\n",
      "False\n"
     ]
    }
   ],
   "source": [
    "a=tuple(range(0,100,10))[2:5]\n",
    "b=tuple(range(0,100,10)[2:5])\n",
    "print(a)\n",
    "print(b)\n",
    "print(a==b)\n",
    "print(a is b)"
   ]
  },
  {
   "cell_type": "code",
   "execution_count": 93,
   "id": "f6db2a6e",
   "metadata": {},
   "outputs": [
    {
     "name": "stdout",
     "output_type": "stream",
     "text": [
      "[20, 30]\n",
      "[20, 30]\n"
     ]
    }
   ],
   "source": [
    "A = list(range(0,100,10))\n",
    "B = A[2:4]\n",
    "print(B)\n",
    "C = A[slice(2,4)]\n",
    "print(C)"
   ]
  },
  {
   "cell_type": "markdown",
   "id": "4cdde234",
   "metadata": {},
   "source": [
    "### 11.4.7. 슬라이스에 요소 할당하기"
   ]
  },
  {
   "cell_type": "code",
   "execution_count": 95,
   "id": "e64333fc",
   "metadata": {},
   "outputs": [
    {
     "name": "stdout",
     "output_type": "stream",
     "text": [
      "[0, 10, 20, 30, 40, 50, 60, 70, 80, 90]\n",
      "[0, 10, 2, 3, 4, 50, 60, 70, 80, 90]\n"
     ]
    }
   ],
   "source": [
    "a = list(range(0,100,10))\n",
    "print(a)\n",
    "a[2:5] = [2,3,4]\n",
    "print(a)"
   ]
  },
  {
   "cell_type": "code",
   "execution_count": 96,
   "id": "8aeb7d7d",
   "metadata": {},
   "outputs": [
    {
     "name": "stdout",
     "output_type": "stream",
     "text": [
      "[0, 10, 20, 30, 40, 50, 60, 70, 80, 90]\n",
      "[0, 10, 2, 50, 60, 70, 80, 90]\n"
     ]
    }
   ],
   "source": [
    "a = list(range(0,100,10))\n",
    "print(a)\n",
    "a[2:5] = [2]\n",
    "print(a)"
   ]
  },
  {
   "cell_type": "markdown",
   "id": "f038a215",
   "metadata": {},
   "source": [
    "### 11.4.8 del로 슬라이스 삭제하기"
   ]
  },
  {
   "cell_type": "code",
   "execution_count": 97,
   "id": "d839ae8e",
   "metadata": {},
   "outputs": [
    {
     "name": "stdout",
     "output_type": "stream",
     "text": [
      "[0, 10, 20, 30, 40, 50, 60, 70, 80, 90]\n",
      "[0, 10, 50, 60, 70, 80, 90]\n"
     ]
    }
   ],
   "source": [
    "a = list(range(0,100,10))\n",
    "print(a)\n",
    "del a[2:5]\n",
    "print(a)"
   ]
  },
  {
   "cell_type": "markdown",
   "id": "d1bfa63d",
   "metadata": {},
   "source": [
    "## 11.5. 퀴즈"
   ]
  },
  {
   "cell_type": "markdown",
   "id": "2d59cf23",
   "metadata": {},
   "source": [
    "문제가 이해되지 않음.\n",
    "\n",
    "1. 다음 중 시퀀스 자료형에 대한 설명으로 잘못된 것을 모두 고르세요.\n",
    "\n",
    " - (a, 틀림) in 연산자는 시퀀스 객체 안에 특정 값이 없는지 확인한다.\n",
    " - (b, 맞음) range는 * 연산자로 반복할 수 없다.\n",
    " - (c, 맞음) 문자열 str은 시퀀스 자료형이다.\n",
    " - (d, 틀림) \\+ 연산자로 두 시퀀스 객체를 연결하면 첫 번째 객체 안에 두 번째 객체가 들어간다.\n",
    " - (e, 맞음) len 함수는 시퀀스 객체에 들어있는 요소 개수를 구한다.\n",
    "\n"
   ]
  },
  {
   "cell_type": "markdown",
   "id": "be619055",
   "metadata": {},
   "source": [
    "위의 선지 a가 틀린 이유는 아래 코드에서 볼 수 있을 것 같다.\n",
    "시퀀스 객체란 리스트, 튜플, `range`, 문자열 등을 뜻한다.\n",
    "그런데 리스트와 튜플, `range`의 경우 (`a`,`b`,`d`) `in`이 잘 작동하지만 문자열에서는 작동하지 않는 것처럼 보인다.\n",
    "한편, `in` 명령은 set에서도 작동된다."
   ]
  },
  {
   "cell_type": "code",
   "execution_count": 108,
   "id": "d2b61e36",
   "metadata": {},
   "outputs": [
    {
     "name": "stdout",
     "output_type": "stream",
     "text": [
      "[1, 2, 3]\n",
      "(1, 2, 3)\n",
      "{1, 2, 3}\n",
      "range(1, 4)\n",
      "123\n",
      "True\n",
      "True\n",
      "True\n",
      "True\n"
     ]
    }
   ],
   "source": [
    "a=[1,2,3]\n",
    "b=(1,2,3)\n",
    "c={1,2,3}\n",
    "d=range(1,4)\n",
    "e='123'\n",
    "print(a)\n",
    "print(b)\n",
    "print(c)\n",
    "print(d)\n",
    "print(e)\n",
    "print(1 in a)\n",
    "print(1 in b)\n",
    "print(1 in c)\n",
    "print(1 in d)\n",
    "print(1 in e) # string은 안되는 것 같다."
   ]
  },
  {
   "cell_type": "markdown",
   "id": "0c7db735",
   "metadata": {},
   "source": [
    "## 11.6. 연습문제"
   ]
  },
  {
   "cell_type": "markdown",
   "id": "3e2190ba",
   "metadata": {},
   "source": [
    "## 11.7. 연습문제"
   ]
  },
  {
   "cell_type": "markdown",
   "id": "ebdaf219",
   "metadata": {},
   "source": [
    "## 11.8. 심사문제"
   ]
  },
  {
   "cell_type": "code",
   "execution_count": 125,
   "id": "acfcd3b1",
   "metadata": {},
   "outputs": [
    {
     "name": "stdout",
     "output_type": "stream",
     "text": [
      "1 2 3 4 5 6 7\n",
      "['1', '2', '3', '4', '5', '6', '7']\n",
      "['1', '2']\n",
      "('1', '2')\n"
     ]
    }
   ],
   "source": [
    "x = input().split()\n",
    "x = x[:len(x)-5]\n",
    "x = tuple(x)\n",
    "print(x)"
   ]
  },
  {
   "cell_type": "markdown",
   "id": "470886eb",
   "metadata": {},
   "source": [
    "## 11.9. 심사문제"
   ]
  },
  {
   "cell_type": "code",
   "execution_count": 115,
   "id": "08ebaa46",
   "metadata": {},
   "outputs": [
    {
     "data": {
      "text/plain": [
       "[1, 3, 5, 6]"
      ]
     },
     "execution_count": 115,
     "metadata": {},
     "output_type": "execute_result"
    }
   ],
   "source": [
    "a=[1,3]\n",
    "b=[5,6]\n",
    "a+b"
   ]
  },
  {
   "cell_type": "code",
   "execution_count": 117,
   "id": "7412f8ec",
   "metadata": {},
   "outputs": [
    {
     "name": "stdout",
     "output_type": "stream",
     "text": [
      "[1, 3, 5, 7, 9]\n",
      "[0, 2, 4, 6, 8]\n"
     ]
    }
   ],
   "source": [
    "a=list(range(10))\n",
    "print(a[1::2])\n",
    "print(a[0::2])"
   ]
  },
  {
   "cell_type": "code",
   "execution_count": 126,
   "id": "540ebac0",
   "metadata": {},
   "outputs": [
    {
     "name": "stdout",
     "output_type": "stream",
     "text": [
      "python\n",
      "python\n",
      "yhnpto\n"
     ]
    }
   ],
   "source": [
    "a = input()\n",
    "b = input()\n",
    "print(a[1::2]+b[0::2])"
   ]
  },
  {
   "cell_type": "markdown",
   "id": "bb86dc24",
   "metadata": {},
   "source": [
    "## 11. 10* 스스로 만든 문제"
   ]
  },
  {
   "cell_type": "markdown",
   "id": "3cf00bfc",
   "metadata": {},
   "source": [
    "문제1\n",
    "```\n",
    "h='hello'\n",
    "w='world'\n",
    "print(h+w)\n",
    "print(h,w)\n",
    "```"
   ]
  },
  {
   "cell_type": "markdown",
   "id": "6e324448",
   "metadata": {},
   "source": [
    "문제2\n",
    "```\n",
    "a = list(range(5))\n",
    "print(a[1])\n",
    "print(a.__getitem__(1))\n",
    "print(a[1]==a.__getitem__(1))\n",
    "```"
   ]
  },
  {
   "cell_type": "markdown",
   "id": "700de267",
   "metadata": {},
   "source": [
    "문제3\n",
    "```\n",
    "a= list(range(5))\n",
    "print(a)\n",
    "print(a[4])\n",
    "print(a[9])\n",
    "print(a[-1])\n",
    "print(a[len(a)-1])\n",
    "```\n"
   ]
  },
  {
   "cell_type": "markdown",
   "id": "0f1251c1",
   "metadata": {},
   "source": [
    "**문제4) 다음 중 값이 다르게 나오는 하나를 고르시오.**\n",
    "```\n",
    "a = list(range(0,100,10))\n",
    "print(a)\n",
    "print(a[:])\n",
    "print(a[0:])\n",
    "print(a[0:-1])\n",
    "print(a[::])\n",
    "print(a[0::1])\n",
    "```"
   ]
  },
  {
   "cell_type": "markdown",
   "id": "92bf4c5e",
   "metadata": {},
   "source": [
    "# 12. 딕셔너리 사용하기"
   ]
  },
  {
   "cell_type": "code",
   "execution_count": 128,
   "id": "1093273e",
   "metadata": {},
   "outputs": [],
   "source": [
    "lux = [490, 334, 550, 18.72]"
   ]
  },
  {
   "cell_type": "markdown",
   "id": "d1381a75",
   "metadata": {},
   "source": [
    "## 12.1. 딕셔너리 만들기"
   ]
  },
  {
   "cell_type": "code",
   "execution_count": 133,
   "id": "10c0d89c",
   "metadata": {},
   "outputs": [],
   "source": [
    "lux = {'health':490, 'mana':334, 'melee':550, 'armor':18.72}"
   ]
  },
  {
   "cell_type": "code",
   "execution_count": 137,
   "id": "3eb3549d",
   "metadata": {},
   "outputs": [
    {
     "name": "stdout",
     "output_type": "stream",
     "text": [
      "{'health': 490, 'mana': 334, 'melee': 550, 'armor': 18.72}\n",
      "490\n"
     ]
    }
   ],
   "source": [
    "print(lux)\n",
    "print(lux['health'])"
   ]
  },
  {
   "cell_type": "markdown",
   "id": "a7a2335f",
   "metadata": {},
   "source": [
    "### 12.1.1. 키 이름이 중복되면?"
   ]
  },
  {
   "cell_type": "code",
   "execution_count": 138,
   "id": "1c152392",
   "metadata": {},
   "outputs": [
    {
     "name": "stdout",
     "output_type": "stream",
     "text": [
      "334\n"
     ]
    }
   ],
   "source": [
    "lux = {'health':490, 'health':334, 'melee':550, 'armor':18.72}\n",
    "print(lux['health'])"
   ]
  },
  {
   "cell_type": "markdown",
   "id": "d7b9cfef",
   "metadata": {},
   "source": [
    "> 딕셔너리에 키와 값을 저장할 때 키가 중복되면 가장 뒤에 있는 값만 사용합니다. 따라서 중복되는 키는 저장되지 않습니다."
   ]
  },
  {
   "cell_type": "markdown",
   "id": "af1d4d1d",
   "metadata": {},
   "source": [
    "### 12.1.2. 딕셔너리 키의 자료형"
   ]
  },
  {
   "cell_type": "code",
   "execution_count": 136,
   "id": "af326944",
   "metadata": {},
   "outputs": [
    {
     "name": "stdout",
     "output_type": "stream",
     "text": [
      "{100: 'hundred', False: 0, 3.5: [3.5, 3.5]}\n"
     ]
    }
   ],
   "source": [
    "x = {100: 'hundred', False: 0, 3.5: [3.5, 3.5]}\n",
    "print(x)"
   ]
  },
  {
   "cell_type": "markdown",
   "id": "319a85e7",
   "metadata": {},
   "source": [
    "### 12.1.3. 빈 딕셔너리 만들기"
   ]
  },
  {
   "cell_type": "code",
   "execution_count": 140,
   "id": "b78dbf6f",
   "metadata": {},
   "outputs": [
    {
     "name": "stdout",
     "output_type": "stream",
     "text": [
      "{}\n",
      "{}\n"
     ]
    }
   ],
   "source": [
    "x = {}\n",
    "print(x)\n",
    "y=dict()\n",
    "print(y)"
   ]
  },
  {
   "cell_type": "markdown",
   "id": "16905fb2",
   "metadata": {},
   "source": [
    "### 12.1.4. dict로 딕셔너리 만들기"
   ]
  },
  {
   "cell_type": "code",
   "execution_count": 155,
   "id": "f4090ae7",
   "metadata": {},
   "outputs": [
    {
     "name": "stdout",
     "output_type": "stream",
     "text": [
      "{'a': 1, 'b': 2}\n",
      "{'a': 1, 'b': 2}\n",
      "{'a': 1, 'b': 2}\n",
      "{'a': 1, 'b': 2}\n"
     ]
    }
   ],
   "source": [
    "A = {'a':1,'b':2}\n",
    "B = dict(zip(['a','b'],[1,2]))\n",
    "C = dict([('a',1),('b',2)])\n",
    "C = dict([('a',1),('b',2)])\n",
    "E = dict({'a':1,'b':2})\n",
    "print(A)\n",
    "print(B)\n",
    "print(C)\n",
    "print(E)"
   ]
  },
  {
   "cell_type": "code",
   "execution_count": null,
   "id": "5ab6b3fb",
   "metadata": {},
   "outputs": [],
   "source": []
  }
 ],
 "metadata": {
  "kernelspec": {
   "display_name": "Python 3 (ipykernel)",
   "language": "python",
   "name": "python3"
  },
  "language_info": {
   "codemirror_mode": {
    "name": "ipython",
    "version": 3
   },
   "file_extension": ".py",
   "mimetype": "text/x-python",
   "name": "python",
   "nbconvert_exporter": "python",
   "pygments_lexer": "ipython3",
   "version": "3.9.7"
  }
 },
 "nbformat": 4,
 "nbformat_minor": 5
}
