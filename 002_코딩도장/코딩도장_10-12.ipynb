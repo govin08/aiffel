{
 "cells": [
  {
   "cell_type": "markdown",
   "id": "9f89fed8",
   "metadata": {},
   "source": [
    "# 10. 리스트와 튜플 사용하기"
   ]
  },
  {
   "cell_type": "markdown",
   "id": "87635e9f",
   "metadata": {},
   "source": [
    "## 10.1. 리스트 만들기"
   ]
  },
  {
   "cell_type": "code",
   "execution_count": 1,
   "id": "eaa55485",
   "metadata": {},
   "outputs": [
    {
     "name": "stdout",
     "output_type": "stream",
     "text": [
      "[38, 21, 53, 62, 19]\n"
     ]
    }
   ],
   "source": [
    "a = [38, 21, 53, 62, 19]\n",
    "print(a)"
   ]
  },
  {
   "cell_type": "code",
   "execution_count": 2,
   "id": "d961c5a7",
   "metadata": {
    "scrolled": true
   },
   "outputs": [
    {
     "data": {
      "text/plain": [
       "[38, 21, 53, 62, 19]"
      ]
     },
     "execution_count": 2,
     "metadata": {},
     "output_type": "execute_result"
    }
   ],
   "source": [
    "a"
   ]
  },
  {
   "cell_type": "markdown",
   "id": "80008571",
   "metadata": {},
   "source": [
    "### 10.1.1 리스트에 여러 가지 자료형 저장하기"
   ]
  },
  {
   "cell_type": "markdown",
   "id": "b7c1a16e",
   "metadata": {},
   "source": [
    "교재에 있는 list"
   ]
  },
  {
   "cell_type": "code",
   "execution_count": 3,
   "id": "71af5d47",
   "metadata": {},
   "outputs": [
    {
     "data": {
      "text/plain": [
       "['james', 17, 175.3, True]"
      ]
     },
     "execution_count": 3,
     "metadata": {},
     "output_type": "execute_result"
    }
   ],
   "source": [
    "person = ['james', 17, 175.3, True]\n",
    "person"
   ]
  },
  {
   "cell_type": "code",
   "execution_count": 4,
   "id": "ad5f7256",
   "metadata": {},
   "outputs": [
    {
     "name": "stdout",
     "output_type": "stream",
     "text": [
      "<class 'list'>\n"
     ]
    }
   ],
   "source": [
    "print(type(person))"
   ]
  },
  {
   "cell_type": "code",
   "execution_count": 5,
   "id": "c34b104b",
   "metadata": {},
   "outputs": [
    {
     "name": "stdout",
     "output_type": "stream",
     "text": [
      "<class 'str'>\n",
      "<class 'int'>\n",
      "<class 'float'>\n",
      "<class 'bool'>\n"
     ]
    }
   ],
   "source": [
    "for x in person:\n",
    "    print(type(x))"
   ]
  },
  {
   "cell_type": "markdown",
   "id": "2ea0fc42",
   "metadata": {},
   "source": [
    "직접 해본 np.array"
   ]
  },
  {
   "cell_type": "code",
   "execution_count": 6,
   "id": "8bbbbaef",
   "metadata": {},
   "outputs": [],
   "source": [
    "import numpy as np"
   ]
  },
  {
   "cell_type": "code",
   "execution_count": 7,
   "id": "b9736dc9",
   "metadata": {},
   "outputs": [
    {
     "data": {
      "text/plain": [
       "array(['james', '17', '175.3', 'True'], dtype='<U32')"
      ]
     },
     "execution_count": 7,
     "metadata": {},
     "output_type": "execute_result"
    }
   ],
   "source": [
    "person2 = np.array(['james', 17, 175.3, True])\n",
    "person2"
   ]
  },
  {
   "cell_type": "code",
   "execution_count": 8,
   "id": "800430e9",
   "metadata": {},
   "outputs": [
    {
     "name": "stdout",
     "output_type": "stream",
     "text": [
      "<class 'numpy.ndarray'>\n"
     ]
    }
   ],
   "source": [
    "print(type(person2))"
   ]
  },
  {
   "cell_type": "code",
   "execution_count": 9,
   "id": "a1f64cd1",
   "metadata": {},
   "outputs": [
    {
     "name": "stdout",
     "output_type": "stream",
     "text": [
      "<class 'numpy.str_'>\n",
      "<class 'numpy.str_'>\n",
      "<class 'numpy.str_'>\n",
      "<class 'numpy.str_'>\n"
     ]
    }
   ],
   "source": [
    "for x in person2:\n",
    "    print(type(x))"
   ]
  },
  {
   "cell_type": "markdown",
   "id": "a391c076",
   "metadata": {},
   "source": [
    "np.array에는 한 종류의 datatype만이 들어갈 수 있다."
   ]
  },
  {
   "cell_type": "code",
   "execution_count": 10,
   "id": "f3187b15",
   "metadata": {},
   "outputs": [
    {
     "name": "stdout",
     "output_type": "stream",
     "text": [
      "True\n",
      "False\n"
     ]
    }
   ],
   "source": [
    "A=[1,2,3,4]\n",
    "B=list([1,2,3,4])\n",
    "print(A == B)\n",
    "print(A is B)"
   ]
  },
  {
   "cell_type": "markdown",
   "id": "1c085f78",
   "metadata": {},
   "source": [
    "### 10.1.2. 빈 리스트 만들기"
   ]
  },
  {
   "cell_type": "code",
   "execution_count": 11,
   "id": "dfaddc71",
   "metadata": {},
   "outputs": [
    {
     "name": "stdout",
     "output_type": "stream",
     "text": [
      "[]\n"
     ]
    }
   ],
   "source": [
    "a = []\n",
    "print(a)"
   ]
  },
  {
   "cell_type": "code",
   "execution_count": 12,
   "id": "bccf0bd6",
   "metadata": {},
   "outputs": [
    {
     "name": "stdout",
     "output_type": "stream",
     "text": [
      "[]\n"
     ]
    }
   ],
   "source": [
    "b = list()\n",
    "print(b)"
   ]
  },
  {
   "cell_type": "markdown",
   "id": "aa8b6d3b",
   "metadata": {},
   "source": [
    "### 10.1.3 range를 사용하여 리스트 만들기"
   ]
  },
  {
   "cell_type": "code",
   "execution_count": 36,
   "id": "4af5541d",
   "metadata": {
    "scrolled": true
   },
   "outputs": [
    {
     "name": "stdout",
     "output_type": "stream",
     "text": [
      "range(0, 10)\n",
      "[0, 1, 2, 3, 4, 5, 6, 7, 8, 9]\n",
      "[0, 1, 2, 3, 4, 5, 6, 7, 8, 9]\n",
      "[1, 2, 3, 4, 5, 6, 7, 8, 9]\n"
     ]
    }
   ],
   "source": [
    "A = range(10)\n",
    "B = list(range(10))\n",
    "C = list(range(0,10))\n",
    "D = list(range(1,10))\n",
    "print(A)\n",
    "print(B)\n",
    "print(C)\n",
    "print(D)"
   ]
  },
  {
   "cell_type": "markdown",
   "id": "29904574",
   "metadata": {},
   "source": [
    "`list[range(n)]`는 $0\\le x<n$인 정수 $n$개로 이루어진 list이다."
   ]
  },
  {
   "cell_type": "markdown",
   "id": "f6c394df",
   "metadata": {},
   "source": [
    "## 10.2. 튜플 사용하기"
   ]
  },
  {
   "cell_type": "code",
   "execution_count": null,
   "id": "6fce3332",
   "metadata": {},
   "outputs": [],
   "source": [
    "A = (38, 21, 53, 62, 19)\n",
    "print(A)"
   ]
  },
  {
   "cell_type": "code",
   "execution_count": null,
   "id": "fdf062cb",
   "metadata": {},
   "outputs": [],
   "source": [
    "B=list([38, 21, 53, 62, 19])\n",
    "print(B)"
   ]
  },
  {
   "cell_type": "code",
   "execution_count": null,
   "id": "9606649d",
   "metadata": {},
   "outputs": [],
   "source": [
    "print(A[1])\n",
    "print(B[1])\n",
    "print(A[1]==B[1])\n",
    "print(A[1] is B[1])"
   ]
  },
  {
   "cell_type": "markdown",
   "id": "abad609c",
   "metadata": {},
   "source": [
    "- list는 수학에서 말하는 unordered tuple이다.\n",
    "- tuple은 수학에서 말하는 ordered tuple 혹은 sequence이다."
   ]
  },
  {
   "cell_type": "code",
   "execution_count": null,
   "id": "3b23f933",
   "metadata": {},
   "outputs": [],
   "source": [
    "person = ('james', 17, 175.3, True)\n",
    "print(person)"
   ]
  },
  {
   "cell_type": "markdown",
   "id": "c2149f58",
   "metadata": {},
   "source": [
    "- list는 요소들을 변경, 추가, 삭제할 수 있다.\n",
    "- tuple은 요소들을 변경. 추가, 삭제할 수 없다."
   ]
  },
  {
   "cell_type": "code",
   "execution_count": null,
   "id": "90d910d5",
   "metadata": {},
   "outputs": [],
   "source": [
    "A=(1,2,3)\n",
    "B=tuple([1,2,3])\n",
    "C=1,2,3\n",
    "#D=tuple(1,2,3) 잘못된 표현\n",
    "print(A)\n",
    "print(B)\n",
    "print(C)\n",
    "print(A is B)\n",
    "print(A is C)\n",
    "print(B is C)\n",
    "print(A == B)\n",
    "print(A == C)\n",
    "print(B == C)"
   ]
  },
  {
   "cell_type": "markdown",
   "id": "77d96bb7",
   "metadata": {},
   "source": [
    "list2tuple, tuple2list"
   ]
  },
  {
   "cell_type": "code",
   "execution_count": 42,
   "id": "82358161",
   "metadata": {},
   "outputs": [
    {
     "name": "stdout",
     "output_type": "stream",
     "text": [
      "(1, 2, 3)\n",
      "[2, 3, 4]\n"
     ]
    }
   ],
   "source": [
    "A=[1,2,3]\n",
    "A=tuple(A)\n",
    "B=(2,3,4)\n",
    "B=list(B)\n",
    "print(A)\n",
    "print(B)\n",
    "C=(1,2,3)"
   ]
  },
  {
   "cell_type": "markdown",
   "id": "b4b2247e",
   "metadata": {},
   "source": [
    "np.array2list"
   ]
  },
  {
   "cell_type": "code",
   "execution_count": null,
   "id": "42fc9f20",
   "metadata": {
    "scrolled": true
   },
   "outputs": [],
   "source": [
    "import numpy as np\n",
    "A=[1,2,3]\n",
    "A=np.array(A)\n",
    "print(type(A))\n",
    "B=np.array([2,3,4])\n",
    "B=B.tolist()\n",
    "print(type(B))"
   ]
  },
  {
   "cell_type": "markdown",
   "id": "5ff3a349",
   "metadata": {},
   "source": [
    "## 10.3. 퀴즈"
   ]
  },
  {
   "cell_type": "markdown",
   "id": "690ce8c6",
   "metadata": {},
   "source": [
    "## 10.4. 연습문제 : range로 리스트 만들기"
   ]
  },
  {
   "cell_type": "markdown",
   "id": "52ec3a9e",
   "metadata": {},
   "source": [
    "## 10.5. 심사문제 : range로 튜플 만들기"
   ]
  },
  {
   "cell_type": "code",
   "execution_count": null,
   "id": "7ed2d2eb",
   "metadata": {},
   "outputs": [],
   "source": [
    "a=tuple(range(-10,10,int(input())))\n",
    "print(a)"
   ]
  },
  {
   "cell_type": "markdown",
   "id": "6d49276e",
   "metadata": {},
   "source": [
    "## 10. 6*. 직접 만든 문제"
   ]
  },
  {
   "cell_type": "markdown",
   "id": "fec1a1fa",
   "metadata": {},
   "source": [
    "(문제1) list와 np.array의 차이 : 각 요소들의 datatype"
   ]
  },
  {
   "cell_type": "markdown",
   "id": "e3ca5f50",
   "metadata": {},
   "source": [
    "(문제2)\n",
    "```\n",
    "a = []\n",
    "b = list()\n",
    "print(a == b)\n",
    "print(a is b)\n",
    "```"
   ]
  },
  {
   "cell_type": "markdown",
   "id": "bf15bb28",
   "metadata": {},
   "source": [
    "(문제3)\n",
    "```\n",
    "A=[1,2,3,4]\n",
    "B=list([1,2,3,4])\n",
    "print(A == B)\n",
    "print(A is B)\n",
    "```"
   ]
  },
  {
   "cell_type": "markdown",
   "id": "b4577712",
   "metadata": {},
   "source": [
    "(문제3)\n",
    "```\n",
    "A=(1,2,3)\n",
    "B=tuple([1,2,3])\n",
    "C=1,2,3\n",
    "#D=tuple(1,2,3) 잘못된 표현\n",
    "print(A is B)\n",
    "print(A is C)\n",
    "print(B is C)\n",
    "print(A == B)\n",
    "print(A == C)\n",
    "print(B == C)\n",
    "```"
   ]
  },
  {
   "cell_type": "markdown",
   "id": "76f6017f",
   "metadata": {},
   "source": [
    "**(문제4) 다음 중 결과가 다르게 나오는 것은?**\n",
    "```\n",
    "A=[1,2,3]\n",
    "B=list((1,2,3))\n",
    "C=list(range(1,4))\n",
    "D=[range(1,4)]\n",
    "print(A)\n",
    "print(B)\n",
    "print(C)\n",
    "print(D)\n",
    "```"
   ]
  },
  {
   "cell_type": "code",
   "execution_count": 189,
   "id": "3d3dd24a",
   "metadata": {},
   "outputs": [
    {
     "name": "stdout",
     "output_type": "stream",
     "text": [
      "[1, 2, 3]\n",
      "[1, 2, 3]\n",
      "[1, 2, 3]\n",
      "[range(1, 4)]\n",
      "<class 'list'>\n",
      "1\n"
     ]
    }
   ],
   "source": [
    "A=[1,2,3]\n",
    "B=list((1,2,3))\n",
    "C=list(range(1,4))\n",
    "D=[range(1,4)]\n",
    "print(A)\n",
    "print(B)\n",
    "print(C)\n",
    "print(D)\n",
    "print(type(D))\n",
    "print(len(D))"
   ]
  },
  {
   "cell_type": "markdown",
   "id": "322a5b92",
   "metadata": {},
   "source": [
    "# 11. 시퀀스 자료형 활용하기"
   ]
  },
  {
   "cell_type": "markdown",
   "id": "9044b76b",
   "metadata": {},
   "source": [
    "## 11.1 시퀀스 자료형의 공통 기능 사용하기"
   ]
  },
  {
   "cell_type": "markdown",
   "id": "fe421d33",
   "metadata": {},
   "source": [
    "### 11.1.1 특정 값이 있는지 확인하기"
   ]
  },
  {
   "cell_type": "code",
   "execution_count": null,
   "id": "5d1c3505",
   "metadata": {},
   "outputs": [],
   "source": [
    "a=list(range(0,100,10))\n",
    "print(a)\n",
    "print(30 in a)\n",
    "print(100 in a)\n",
    "print(30 not in a)\n",
    "print(100 not in a)"
   ]
  },
  {
   "cell_type": "code",
   "execution_count": null,
   "id": "721f31c7",
   "metadata": {
    "scrolled": true
   },
   "outputs": [],
   "source": [
    "a=tuple(range(0,100,10))\n",
    "print(a)\n",
    "print(30 in a)"
   ]
  },
  {
   "cell_type": "code",
   "execution_count": null,
   "id": "f353a30a",
   "metadata": {},
   "outputs": [],
   "source": [
    "python = 'python'\n",
    "print('p' in python)\n",
    "print('f' in python)"
   ]
  },
  {
   "cell_type": "markdown",
   "id": "d5a1c4fc",
   "metadata": {},
   "source": [
    "### 11.1.2 시퀀스 객체 연결하기"
   ]
  },
  {
   "cell_type": "code",
   "execution_count": null,
   "id": "abd845a8",
   "metadata": {},
   "outputs": [],
   "source": [
    "a=list(range(0,40,10))\n",
    "print(a)\n",
    "b=[1,2,3]\n",
    "print(b)\n",
    "print(a+b)"
   ]
  },
  {
   "cell_type": "code",
   "execution_count": null,
   "id": "713fa2ec",
   "metadata": {},
   "outputs": [],
   "source": [
    "h='hello'\n",
    "w='world'\n",
    "print(h+w)\n",
    "print(h,w)"
   ]
  },
  {
   "cell_type": "markdown",
   "id": "c720660e",
   "metadata": {},
   "source": [
    "### 11.1.3 시퀀스 객체 반복하기"
   ]
  },
  {
   "cell_type": "code",
   "execution_count": null,
   "id": "43b979bb",
   "metadata": {},
   "outputs": [],
   "source": [
    "print(a)\n",
    "print(a*3)"
   ]
  },
  {
   "cell_type": "markdown",
   "id": "d42c439c",
   "metadata": {},
   "source": [
    "np.array에서는 달리 행동한다."
   ]
  },
  {
   "cell_type": "code",
   "execution_count": null,
   "id": "ff200cc0",
   "metadata": {},
   "outputs": [],
   "source": [
    "import numpy as np\n",
    "a=[1,2,3]\n",
    "b=np.array([1,2,3])\n",
    "print(a+a)\n",
    "print(a*3)\n",
    "print(b+b)\n",
    "print(b*3)"
   ]
  },
  {
   "cell_type": "code",
   "execution_count": null,
   "id": "0d979a20",
   "metadata": {},
   "outputs": [],
   "source": [
    "#print(a+3) 오류남\n",
    "print(b+3) #broadcasting"
   ]
  },
  {
   "cell_type": "markdown",
   "id": "970c6cb6",
   "metadata": {},
   "source": [
    "tuple"
   ]
  },
  {
   "cell_type": "code",
   "execution_count": 100,
   "id": "48d4fbf2",
   "metadata": {},
   "outputs": [
    {
     "name": "stdout",
     "output_type": "stream",
     "text": [
      "[1, 2, 3]\n",
      "[1, 2, 3, 1, 2, 3]\n",
      "(1, 2, 3)\n",
      "(1, 2, 3, 1, 2, 3)\n",
      "range(0, 3)\n"
     ]
    },
    {
     "ename": "TypeError",
     "evalue": "unsupported operand type(s) for *: 'range' and 'int'",
     "output_type": "error",
     "traceback": [
      "\u001b[0;31m---------------------------------------------------------------------------\u001b[0m",
      "\u001b[0;31mTypeError\u001b[0m                                 Traceback (most recent call last)",
      "\u001b[0;32m/tmp/ipykernel_1697/3183133234.py\u001b[0m in \u001b[0;36m<module>\u001b[0;34m\u001b[0m\n\u001b[1;32m      7\u001b[0m \u001b[0mc\u001b[0m\u001b[0;34m=\u001b[0m\u001b[0mrange\u001b[0m\u001b[0;34m(\u001b[0m\u001b[0;36m3\u001b[0m\u001b[0;34m)\u001b[0m\u001b[0;34m\u001b[0m\u001b[0;34m\u001b[0m\u001b[0m\n\u001b[1;32m      8\u001b[0m \u001b[0mprint\u001b[0m\u001b[0;34m(\u001b[0m\u001b[0mc\u001b[0m\u001b[0;34m)\u001b[0m\u001b[0;34m\u001b[0m\u001b[0;34m\u001b[0m\u001b[0m\n\u001b[0;32m----> 9\u001b[0;31m \u001b[0mprint\u001b[0m\u001b[0;34m(\u001b[0m\u001b[0mc\u001b[0m\u001b[0;34m*\u001b[0m\u001b[0;36m2\u001b[0m\u001b[0;34m)\u001b[0m\u001b[0;34m\u001b[0m\u001b[0;34m\u001b[0m\u001b[0m\n\u001b[0m",
      "\u001b[0;31mTypeError\u001b[0m: unsupported operand type(s) for *: 'range' and 'int'"
     ]
    }
   ],
   "source": [
    "a=[1,2,3]\n",
    "print(a)\n",
    "print(a*2)\n",
    "b=(1,2,3)\n",
    "print(b)\n",
    "print(b*2)\n",
    "c=range(3)\n",
    "print(c)\n",
    "print(c*2)"
   ]
  },
  {
   "cell_type": "markdown",
   "id": "5a4a56fe",
   "metadata": {},
   "source": [
    "### 11.2.1 리스트와 튜플의 요소 개수 구하기"
   ]
  },
  {
   "cell_type": "markdown",
   "id": "7c0405e5",
   "metadata": {},
   "source": [
    "length"
   ]
  },
  {
   "cell_type": "code",
   "execution_count": null,
   "id": "319c42d4",
   "metadata": {},
   "outputs": [],
   "source": [
    "a = list(range(0,100,10))\n",
    "print(a)\n",
    "print(len(a))\n",
    "b= tuple(range(0,100,10))\n",
    "print(b)\n",
    "print(len(b))"
   ]
  },
  {
   "cell_type": "markdown",
   "id": "f459dcf3",
   "metadata": {},
   "source": [
    "### 11.2.2 range의 숫자 생성 개수 구하기"
   ]
  },
  {
   "cell_type": "code",
   "execution_count": 14,
   "id": "87c45cca",
   "metadata": {},
   "outputs": [
    {
     "name": "stdout",
     "output_type": "stream",
     "text": [
      "5\n"
     ]
    }
   ],
   "source": [
    "print(len(range(0,10,2)))"
   ]
  },
  {
   "cell_type": "markdown",
   "id": "6a9b7288",
   "metadata": {},
   "source": [
    "### 11.2.3 문자열의 길이 구하기"
   ]
  },
  {
   "cell_type": "code",
   "execution_count": 15,
   "id": "2cc1da60",
   "metadata": {},
   "outputs": [
    {
     "name": "stdout",
     "output_type": "stream",
     "text": [
      "python\n",
      "6\n",
      "6\n",
      "안녕하세요\n",
      "15\n"
     ]
    }
   ],
   "source": [
    "p = 'python'\n",
    "print(p)\n",
    "print(len(p))\n",
    "print(len(p.encode('utf-8')))\n",
    "인사 = '안녕하세요'\n",
    "print(인사)\n",
    "print(len(인사.encode('utf-8')))"
   ]
  },
  {
   "cell_type": "markdown",
   "id": "2fe31734",
   "metadata": {},
   "source": [
    "### 11.3. 인덱스 사용하기"
   ]
  },
  {
   "cell_type": "code",
   "execution_count": 16,
   "id": "e5860bda",
   "metadata": {},
   "outputs": [
    {
     "name": "stdout",
     "output_type": "stream",
     "text": [
      "38\n",
      "53\n",
      "19\n"
     ]
    }
   ],
   "source": [
    "a=[38,21,53,62,19]\n",
    "print(a[0],a[2],a[4],sep='\\n')"
   ]
  },
  {
   "cell_type": "code",
   "execution_count": 17,
   "id": "02347f70",
   "metadata": {},
   "outputs": [
    {
     "name": "stdout",
     "output_type": "stream",
     "text": [
      "38\n",
      "53\n",
      "19\n"
     ]
    }
   ],
   "source": [
    "b=(38,21,53,62,19)\n",
    "print(b[0],b[2],b[4],sep='\\n')"
   ]
  },
  {
   "cell_type": "code",
   "execution_count": 23,
   "id": "542033c0",
   "metadata": {},
   "outputs": [
    {
     "name": "stdout",
     "output_type": "stream",
     "text": [
      "range(0, 5)\n",
      "[0, 1, 2, 3, 4]\n",
      "(0, 1, 2, 3, 4)\n",
      "(0, 1, 2, 3, 4)\n",
      "2\n",
      "2\n",
      "2\n"
     ]
    }
   ],
   "source": [
    "a = range(5)\n",
    "b = list(range(5))\n",
    "c = tuple(range(5))\n",
    "d = set(range(5))\n",
    "print(a)\n",
    "print(b)\n",
    "print(c)\n",
    "print(c)\n",
    "print(a[2])\n",
    "print(b[2])\n",
    "print(c[2])\n",
    "#print(d[2]) #에러"
   ]
  },
  {
   "cell_type": "code",
   "execution_count": 28,
   "id": "2d258d59",
   "metadata": {},
   "outputs": [
    {
     "name": "stdout",
     "output_type": "stream",
     "text": [
      "1\n",
      "1\n",
      "True\n",
      "True\n"
     ]
    }
   ],
   "source": [
    "a = list(range(5))\n",
    "print(a[1])\n",
    "print(a.__getitem__(1))\n",
    "print(a[1]==a.__getitem__(1))\n",
    "print(a[1] is a.__getitem__(1))"
   ]
  },
  {
   "cell_type": "markdown",
   "id": "cb51ec88",
   "metadata": {},
   "source": [
    "### 11.3.1. 음수 인덱스 지정하기"
   ]
  },
  {
   "cell_type": "code",
   "execution_count": 30,
   "id": "ab2f82e8",
   "metadata": {},
   "outputs": [
    {
     "name": "stdout",
     "output_type": "stream",
     "text": [
      "4\n"
     ]
    }
   ],
   "source": [
    "a = list(range(5))\n",
    "print(a[-1])"
   ]
  },
  {
   "cell_type": "markdown",
   "id": "2d9e4cd1",
   "metadata": {},
   "source": [
    "### 11.3.2. 인덱스의 범위를 벗어나면?"
   ]
  },
  {
   "cell_type": "code",
   "execution_count": 53,
   "id": "4f99c875",
   "metadata": {},
   "outputs": [
    {
     "name": "stdout",
     "output_type": "stream",
     "text": [
      "1\n",
      "3\n",
      "4\n"
     ]
    }
   ],
   "source": [
    "a = list(range(5))\n",
    "print(a[1])\n",
    "print(a[3])\n",
    "print(a[4])\n",
    "# print(a[7]) #에러"
   ]
  },
  {
   "cell_type": "markdown",
   "id": "fd0cea5a",
   "metadata": {},
   "source": [
    "$7\\equiv2(mod 5)$라서 `a[7]=a[2]=2`로 나올 것 같은데 그렇지 않고 오류가 난다."
   ]
  },
  {
   "cell_type": "markdown",
   "id": "ac8d51b8",
   "metadata": {},
   "source": [
    "### 11.3.3 마지막 요소에 접근하기"
   ]
  },
  {
   "cell_type": "code",
   "execution_count": 55,
   "id": "3c5f624d",
   "metadata": {},
   "outputs": [
    {
     "name": "stdout",
     "output_type": "stream",
     "text": [
      "[0, 1, 2, 3, 4]\n",
      "4\n",
      "4\n",
      "4\n"
     ]
    }
   ],
   "source": [
    "a= list(range(5))\n",
    "print(a)\n",
    "print(a[4])\n",
    "print(a[-1])\n",
    "print(a[len(a)-1])"
   ]
  },
  {
   "cell_type": "markdown",
   "id": "2c276188",
   "metadata": {},
   "source": [
    "### 11.3.4 요소에 값 할당하기"
   ]
  },
  {
   "cell_type": "code",
   "execution_count": 57,
   "id": "ac7b7aec",
   "metadata": {},
   "outputs": [
    {
     "name": "stdout",
     "output_type": "stream",
     "text": [
      "[2, 1, 0, 0]\n"
     ]
    }
   ],
   "source": [
    "a = [0,0,0,0]\n",
    "a[0] = 2\n",
    "a[1] = 1\n",
    "print(a)"
   ]
  },
  {
   "cell_type": "code",
   "execution_count": 58,
   "id": "fc19d06a",
   "metadata": {},
   "outputs": [
    {
     "ename": "TypeError",
     "evalue": "'tuple' object does not support item assignment",
     "output_type": "error",
     "traceback": [
      "\u001b[0;31m---------------------------------------------------------------------------\u001b[0m",
      "\u001b[0;31mTypeError\u001b[0m                                 Traceback (most recent call last)",
      "\u001b[0;32m/tmp/ipykernel_1697/1543422980.py\u001b[0m in \u001b[0;36m<module>\u001b[0;34m\u001b[0m\n\u001b[1;32m      1\u001b[0m \u001b[0ma\u001b[0m \u001b[0;34m=\u001b[0m \u001b[0;34m(\u001b[0m\u001b[0;36m0\u001b[0m\u001b[0;34m,\u001b[0m\u001b[0;36m0\u001b[0m\u001b[0;34m,\u001b[0m\u001b[0;36m0\u001b[0m\u001b[0;34m,\u001b[0m\u001b[0;36m0\u001b[0m\u001b[0;34m)\u001b[0m\u001b[0;34m\u001b[0m\u001b[0;34m\u001b[0m\u001b[0m\n\u001b[0;32m----> 2\u001b[0;31m \u001b[0ma\u001b[0m\u001b[0;34m[\u001b[0m\u001b[0;36m0\u001b[0m\u001b[0;34m]\u001b[0m \u001b[0;34m=\u001b[0m \u001b[0;36m2\u001b[0m\u001b[0;34m\u001b[0m\u001b[0;34m\u001b[0m\u001b[0m\n\u001b[0m\u001b[1;32m      3\u001b[0m \u001b[0ma\u001b[0m\u001b[0;34m[\u001b[0m\u001b[0;36m1\u001b[0m\u001b[0;34m]\u001b[0m \u001b[0;34m=\u001b[0m \u001b[0;36m1\u001b[0m\u001b[0;34m\u001b[0m\u001b[0;34m\u001b[0m\u001b[0m\n\u001b[1;32m      4\u001b[0m \u001b[0mprint\u001b[0m\u001b[0;34m(\u001b[0m\u001b[0ma\u001b[0m\u001b[0;34m)\u001b[0m\u001b[0;34m\u001b[0m\u001b[0;34m\u001b[0m\u001b[0m\n",
      "\u001b[0;31mTypeError\u001b[0m: 'tuple' object does not support item assignment"
     ]
    }
   ],
   "source": [
    "a = (0,0,0,0)\n",
    "a[0] = 2\n",
    "a[1] = 1\n",
    "print(a)"
   ]
  },
  {
   "cell_type": "markdown",
   "id": "47456092",
   "metadata": {},
   "source": [
    "### 11.3.5 del로 요소 삭제하기"
   ]
  },
  {
   "cell_type": "code",
   "execution_count": 60,
   "id": "2ec206c4",
   "metadata": {},
   "outputs": [
    {
     "name": "stdout",
     "output_type": "stream",
     "text": [
      "[0, 1, 2, 3, 4]\n",
      "[0, 1, 2, 3]\n"
     ]
    }
   ],
   "source": [
    "a = list(range(5))\n",
    "print(a)\n",
    "del a[-1]\n",
    "print(a)"
   ]
  },
  {
   "cell_type": "markdown",
   "id": "5a4c9eed",
   "metadata": {},
   "source": [
    "## 11.4. 슬라이스 사용하기"
   ]
  },
  {
   "cell_type": "code",
   "execution_count": 63,
   "id": "be5df4b1",
   "metadata": {},
   "outputs": [
    {
     "name": "stdout",
     "output_type": "stream",
     "text": [
      "[0, 10, 20, 30, 40, 50, 60, 70, 80, 90]\n",
      "[0, 10, 20]\n"
     ]
    }
   ],
   "source": [
    "a = list(range(0,100,10))\n",
    "print(a)\n",
    "print(a[0:3])"
   ]
  },
  {
   "cell_type": "markdown",
   "id": "986a16bb",
   "metadata": {},
   "source": [
    "### 11.4.1 리스트의 중간 부분 가져오기"
   ]
  },
  {
   "cell_type": "code",
   "execution_count": 64,
   "id": "c77c0f90",
   "metadata": {},
   "outputs": [
    {
     "name": "stdout",
     "output_type": "stream",
     "text": [
      "[0, 10, 20, 30, 40, 50, 60, 70, 80, 90]\n",
      "[20, 30, 40]\n"
     ]
    }
   ],
   "source": [
    "a = list(range(0,100,10))\n",
    "print(a)\n",
    "print(a[2:5])"
   ]
  },
  {
   "cell_type": "markdown",
   "id": "209d309f",
   "metadata": {},
   "source": [
    "### 11.4.2. 인덱스 증가폭 사용하기"
   ]
  },
  {
   "cell_type": "code",
   "execution_count": 72,
   "id": "315694f0",
   "metadata": {},
   "outputs": [
    {
     "name": "stdout",
     "output_type": "stream",
     "text": [
      "[0, 10, 20, 30, 40, 50, 60, 70, 80, 90]\n",
      "[20, 40, 60]\n"
     ]
    }
   ],
   "source": [
    "a = list(range(0,100,10))\n",
    "print(a)\n",
    "print(a[2:7:2])\n",
    "# print(a[2:7,2]) 오류"
   ]
  },
  {
   "cell_type": "markdown",
   "id": "dbfa5694",
   "metadata": {},
   "source": [
    "### 11.4.3. 인덱스 생략하기"
   ]
  },
  {
   "cell_type": "code",
   "execution_count": 67,
   "id": "ffd6ec9e",
   "metadata": {},
   "outputs": [
    {
     "name": "stdout",
     "output_type": "stream",
     "text": [
      "[0, 10, 20, 30, 40, 50, 60, 70, 80, 90]\n",
      "[0, 10, 20, 30, 40, 50, 60]\n"
     ]
    }
   ],
   "source": [
    "a = list(range(0,100,10))\n",
    "print(a)\n",
    "print(a[:7])"
   ]
  },
  {
   "cell_type": "markdown",
   "id": "759ac486",
   "metadata": {},
   "source": [
    "### 11.4.4 인덱스를 생략하면서 증가폭 사용하기"
   ]
  },
  {
   "cell_type": "code",
   "execution_count": 70,
   "id": "3e8b2b64",
   "metadata": {},
   "outputs": [
    {
     "name": "stdout",
     "output_type": "stream",
     "text": [
      "[0, 10, 20, 30, 40, 50, 60, 70, 80, 90]\n",
      "[0, 20, 40, 60]\n"
     ]
    }
   ],
   "source": [
    "a = list(range(0,100,10))\n",
    "print(a)\n",
    "print(a[:7:2])"
   ]
  },
  {
   "cell_type": "code",
   "execution_count": 73,
   "id": "d60830fd",
   "metadata": {},
   "outputs": [
    {
     "name": "stdout",
     "output_type": "stream",
     "text": [
      "[0, 10, 20, 30, 40, 50, 60, 70, 80, 90]\n",
      "[0, 20, 40, 60, 80]\n"
     ]
    }
   ],
   "source": [
    "a = list(range(0,100,10))\n",
    "print(a)\n",
    "print(a[::2])"
   ]
  },
  {
   "cell_type": "code",
   "execution_count": 77,
   "id": "9d71b97b",
   "metadata": {},
   "outputs": [
    {
     "name": "stdout",
     "output_type": "stream",
     "text": [
      "[0, 10, 20, 30, 40, 50, 60, 70, 80, 90]\n",
      "[0, 10, 20, 30, 40, 50, 60, 70, 80, 90]\n",
      "[0, 10, 20, 30, 40, 50, 60, 70, 80, 90]\n",
      "[0, 10, 20, 30, 40, 50, 60, 70, 80]\n",
      "[0, 10, 20, 30, 40, 50, 60, 70, 80, 90]\n",
      "[0, 10, 20, 30, 40, 50, 60, 70, 80, 90]\n"
     ]
    }
   ],
   "source": [
    "a = list(range(0,100,10))\n",
    "print(a)\n",
    "print(a[:])\n",
    "print(a[0:])\n",
    "print(a[0:-1])\n",
    "print(a[::])\n",
    "print(a[0::1])"
   ]
  },
  {
   "cell_type": "markdown",
   "id": "bbe3c964",
   "metadata": {},
   "source": [
    "### 11.4.5. len 응용하기"
   ]
  },
  {
   "cell_type": "code",
   "execution_count": 82,
   "id": "b370f52a",
   "metadata": {},
   "outputs": [
    {
     "name": "stdout",
     "output_type": "stream",
     "text": [
      "[0, 10, 20, 30, 40, 50, 60, 70, 80, 90]\n",
      "[0, 10, 20, 30, 40, 50, 60, 70, 80, 90]\n"
     ]
    }
   ],
   "source": [
    "a = list(range(0,100,10))\n",
    "print(a)\n",
    "print(a[0:len(a)])"
   ]
  },
  {
   "cell_type": "markdown",
   "id": "f7286c35",
   "metadata": {},
   "source": [
    "### 11.4.6. tuple, range, 문자열에 슬라이스 사용하기"
   ]
  },
  {
   "cell_type": "code",
   "execution_count": 83,
   "id": "7f6d82ad",
   "metadata": {},
   "outputs": [
    {
     "name": "stdout",
     "output_type": "stream",
     "text": [
      "(0, 10, 20, 30, 40, 50, 60, 70, 80, 90)\n",
      "(20, 30, 40)\n"
     ]
    }
   ],
   "source": [
    "b = tuple(range(0,100,10))\n",
    "print(b)\n",
    "print(b[2:5])"
   ]
  },
  {
   "cell_type": "code",
   "execution_count": 84,
   "id": "3fb7ee64",
   "metadata": {},
   "outputs": [
    {
     "name": "stdout",
     "output_type": "stream",
     "text": [
      "range(0, 100, 10)\n",
      "range(20, 50, 10)\n",
      "(20, 30, 40)\n"
     ]
    }
   ],
   "source": [
    "r = range(0,100,10)\n",
    "print(r)\n",
    "print(r[2:5])\n",
    "print(tuple(r[2:5]))"
   ]
  },
  {
   "cell_type": "code",
   "execution_count": 87,
   "id": "42fb619d",
   "metadata": {},
   "outputs": [
    {
     "name": "stdout",
     "output_type": "stream",
     "text": [
      "(20, 30, 40)\n",
      "(20, 30, 40)\n",
      "True\n",
      "False\n"
     ]
    }
   ],
   "source": [
    "a=tuple(range(0,100,10))[2:5]\n",
    "b=tuple(range(0,100,10)[2:5])\n",
    "print(a)\n",
    "print(b)\n",
    "print(a==b)\n",
    "print(a is b)"
   ]
  },
  {
   "cell_type": "code",
   "execution_count": 93,
   "id": "824b0821",
   "metadata": {},
   "outputs": [
    {
     "name": "stdout",
     "output_type": "stream",
     "text": [
      "[20, 30]\n",
      "[20, 30]\n"
     ]
    }
   ],
   "source": [
    "A = list(range(0,100,10))\n",
    "B = A[2:4]\n",
    "print(B)\n",
    "C = A[slice(2,4)]\n",
    "print(C)"
   ]
  },
  {
   "cell_type": "markdown",
   "id": "95d291b5",
   "metadata": {},
   "source": [
    "### 11.4.7. 슬라이스에 요소 할당하기"
   ]
  },
  {
   "cell_type": "code",
   "execution_count": 95,
   "id": "882557e9",
   "metadata": {},
   "outputs": [
    {
     "name": "stdout",
     "output_type": "stream",
     "text": [
      "[0, 10, 20, 30, 40, 50, 60, 70, 80, 90]\n",
      "[0, 10, 2, 3, 4, 50, 60, 70, 80, 90]\n"
     ]
    }
   ],
   "source": [
    "a = list(range(0,100,10))\n",
    "print(a)\n",
    "a[2:5] = [2,3,4]\n",
    "print(a)"
   ]
  },
  {
   "cell_type": "code",
   "execution_count": 96,
   "id": "d35bd397",
   "metadata": {},
   "outputs": [
    {
     "name": "stdout",
     "output_type": "stream",
     "text": [
      "[0, 10, 20, 30, 40, 50, 60, 70, 80, 90]\n",
      "[0, 10, 2, 50, 60, 70, 80, 90]\n"
     ]
    }
   ],
   "source": [
    "a = list(range(0,100,10))\n",
    "print(a)\n",
    "a[2:5] = [2]\n",
    "print(a)"
   ]
  },
  {
   "cell_type": "markdown",
   "id": "3fd1bc90",
   "metadata": {},
   "source": [
    "### 11.4.8 del로 슬라이스 삭제하기"
   ]
  },
  {
   "cell_type": "code",
   "execution_count": 97,
   "id": "419cbbf2",
   "metadata": {},
   "outputs": [
    {
     "name": "stdout",
     "output_type": "stream",
     "text": [
      "[0, 10, 20, 30, 40, 50, 60, 70, 80, 90]\n",
      "[0, 10, 50, 60, 70, 80, 90]\n"
     ]
    }
   ],
   "source": [
    "a = list(range(0,100,10))\n",
    "print(a)\n",
    "del a[2:5]\n",
    "print(a)"
   ]
  },
  {
   "cell_type": "markdown",
   "id": "b415ee15",
   "metadata": {},
   "source": [
    "## 11.5. 퀴즈"
   ]
  },
  {
   "cell_type": "markdown",
   "id": "3ad09d09",
   "metadata": {},
   "source": [
    "문제가 이해되지 않음.\n",
    "\n",
    "1. 다음 중 시퀀스 자료형에 대한 설명으로 잘못된 것을 모두 고르세요.\n",
    "\n",
    " - (a, 틀림) in 연산자는 시퀀스 객체 안에 특정 값이 없는지 확인한다.\n",
    " - (b, 맞음) range는 * 연산자로 반복할 수 없다.\n",
    " - (c, 맞음) 문자열 str은 시퀀스 자료형이다.\n",
    " - (d, 틀림) \\+ 연산자로 두 시퀀스 객체를 연결하면 첫 번째 객체 안에 두 번째 객체가 들어간다.\n",
    " - (e, 맞음) len 함수는 시퀀스 객체에 들어있는 요소 개수를 구한다.\n",
    "\n"
   ]
  },
  {
   "cell_type": "markdown",
   "id": "1360ad2c",
   "metadata": {},
   "source": [
    "위의 선지 a가 틀린 이유는 아래 코드에서 볼 수 있을 것 같다.\n",
    "시퀀스 객체란 리스트, 튜플, `range`, 문자열 등을 뜻한다.\n",
    "그런데 리스트와 튜플, `range`의 경우 (`a`,`b`,`d`) `in`이 잘 작동하지만 문자열에서는 작동하지 않는 것처럼 보인다.\n",
    "한편, `in` 명령은 set에서도 작동된다."
   ]
  },
  {
   "cell_type": "code",
   "execution_count": 108,
   "id": "8eb37480",
   "metadata": {},
   "outputs": [
    {
     "name": "stdout",
     "output_type": "stream",
     "text": [
      "[1, 2, 3]\n",
      "(1, 2, 3)\n",
      "{1, 2, 3}\n",
      "range(1, 4)\n",
      "123\n",
      "True\n",
      "True\n",
      "True\n",
      "True\n"
     ]
    }
   ],
   "source": [
    "a=[1,2,3]\n",
    "b=(1,2,3)\n",
    "c={1,2,3}\n",
    "d=range(1,4)\n",
    "e='123'\n",
    "print(a)\n",
    "print(b)\n",
    "print(c)\n",
    "print(d)\n",
    "print(e)\n",
    "print(1 in a)\n",
    "print(1 in b)\n",
    "print(1 in c)\n",
    "print(1 in d)\n",
    "print(1 in e) # string은 안되는 것 같다."
   ]
  },
  {
   "cell_type": "markdown",
   "id": "e1104c03",
   "metadata": {},
   "source": [
    "## 11.6. 연습문제"
   ]
  },
  {
   "cell_type": "markdown",
   "id": "423f4da2",
   "metadata": {},
   "source": [
    "## 11.7. 연습문제"
   ]
  },
  {
   "cell_type": "markdown",
   "id": "b91e6e44",
   "metadata": {},
   "source": [
    "## 11.8. 심사문제"
   ]
  },
  {
   "cell_type": "code",
   "execution_count": 125,
   "id": "48b55533",
   "metadata": {},
   "outputs": [
    {
     "name": "stdout",
     "output_type": "stream",
     "text": [
      "1 2 3 4 5 6 7\n",
      "['1', '2', '3', '4', '5', '6', '7']\n",
      "['1', '2']\n",
      "('1', '2')\n"
     ]
    }
   ],
   "source": [
    "x = input().split()\n",
    "x = x[:len(x)-5]\n",
    "x = tuple(x)\n",
    "print(x)"
   ]
  },
  {
   "cell_type": "markdown",
   "id": "65df9f00",
   "metadata": {},
   "source": [
    "## 11.9. 심사문제"
   ]
  },
  {
   "cell_type": "code",
   "execution_count": 115,
   "id": "2fcd3e97",
   "metadata": {},
   "outputs": [
    {
     "data": {
      "text/plain": [
       "[1, 3, 5, 6]"
      ]
     },
     "execution_count": 115,
     "metadata": {},
     "output_type": "execute_result"
    }
   ],
   "source": [
    "a=[1,3]\n",
    "b=[5,6]\n",
    "a+b"
   ]
  },
  {
   "cell_type": "code",
   "execution_count": 117,
   "id": "b1a8801d",
   "metadata": {},
   "outputs": [
    {
     "name": "stdout",
     "output_type": "stream",
     "text": [
      "[1, 3, 5, 7, 9]\n",
      "[0, 2, 4, 6, 8]\n"
     ]
    }
   ],
   "source": [
    "a=list(range(10))\n",
    "print(a[1::2])\n",
    "print(a[0::2])"
   ]
  },
  {
   "cell_type": "code",
   "execution_count": 126,
   "id": "9d81147d",
   "metadata": {},
   "outputs": [
    {
     "name": "stdout",
     "output_type": "stream",
     "text": [
      "python\n",
      "python\n",
      "yhnpto\n"
     ]
    }
   ],
   "source": [
    "a = input()\n",
    "b = input()\n",
    "print(a[1::2]+b[0::2])"
   ]
  },
  {
   "cell_type": "markdown",
   "id": "b4dadbaf",
   "metadata": {},
   "source": [
    "## 11. 10* 스스로 만든 문제"
   ]
  },
  {
   "cell_type": "markdown",
   "id": "f9562ddd",
   "metadata": {},
   "source": [
    "문제1\n",
    "```\n",
    "h='hello'\n",
    "w='world'\n",
    "print(h+w)\n",
    "print(h,w)\n",
    "```"
   ]
  },
  {
   "cell_type": "markdown",
   "id": "05e813a9",
   "metadata": {},
   "source": [
    "문제2\n",
    "```\n",
    "a = list(range(5))\n",
    "print(a[1])\n",
    "print(a.__getitem__(1))\n",
    "print(a[1]==a.__getitem__(1))\n",
    "```"
   ]
  },
  {
   "cell_type": "markdown",
   "id": "2309a03e",
   "metadata": {},
   "source": [
    "문제3\n",
    "```\n",
    "a= list(range(5))\n",
    "print(a)\n",
    "print(a[4])\n",
    "print(a[9])\n",
    "print(a[-1])\n",
    "print(a[len(a)-1])\n",
    "```\n"
   ]
  },
  {
   "cell_type": "markdown",
   "id": "1075d9ed",
   "metadata": {},
   "source": [
    "**문제4) 다음 중 값이 다르게 나오는 하나를 고르시오.**\n",
    "```\n",
    "a = list(range(0,100,10))\n",
    "print(a)\n",
    "print(a[:])\n",
    "print(a[0:])\n",
    "print(a[0:-1])\n",
    "print(a[::])\n",
    "print(a[0::1])\n",
    "```"
   ]
  },
  {
   "cell_type": "code",
   "execution_count": 191,
   "id": "bfe2b4c6",
   "metadata": {},
   "outputs": [
    {
     "name": "stdout",
     "output_type": "stream",
     "text": [
      "[0, 10, 20, 30, 40, 50, 60, 70, 80, 90]\n",
      "[0, 10, 20, 30, 40, 50, 60, 70, 80, 90]\n",
      "[0, 10, 20, 30, 40, 50, 60, 70, 80, 90]\n",
      "[0, 10, 20, 30, 40, 50, 60, 70, 80]\n",
      "[0, 10, 20, 30, 40, 50, 60, 70, 80, 90]\n",
      "[0, 10, 20, 30, 40, 50, 60, 70, 80, 90]\n"
     ]
    }
   ],
   "source": [
    "a = list(range(0,100,10))\n",
    "print(a)\n",
    "print(a[:])\n",
    "print(a[0:])\n",
    "print(a[0:-1])\n",
    "print(a[::])\n",
    "print(a[0::1])"
   ]
  },
  {
   "cell_type": "markdown",
   "id": "153d2090",
   "metadata": {},
   "source": [
    "# 12. 딕셔너리 사용하기"
   ]
  },
  {
   "cell_type": "code",
   "execution_count": 128,
   "id": "285c7ad6",
   "metadata": {},
   "outputs": [],
   "source": [
    "lux = [490, 334, 550, 18.72]"
   ]
  },
  {
   "cell_type": "markdown",
   "id": "07323e20",
   "metadata": {},
   "source": [
    "## 12.1. 딕셔너리 만들기"
   ]
  },
  {
   "cell_type": "code",
   "execution_count": 133,
   "id": "9398ab43",
   "metadata": {},
   "outputs": [],
   "source": [
    "lux = {'health':490, 'mana':334, 'melee':550, 'armor':18.72}"
   ]
  },
  {
   "cell_type": "code",
   "execution_count": 137,
   "id": "0da70158",
   "metadata": {},
   "outputs": [
    {
     "name": "stdout",
     "output_type": "stream",
     "text": [
      "{'health': 490, 'mana': 334, 'melee': 550, 'armor': 18.72}\n",
      "490\n"
     ]
    }
   ],
   "source": [
    "print(lux)\n",
    "print(lux['health'])"
   ]
  },
  {
   "cell_type": "markdown",
   "id": "f7722290",
   "metadata": {},
   "source": [
    "### 12.1.1. 키 이름이 중복되면?"
   ]
  },
  {
   "cell_type": "code",
   "execution_count": 138,
   "id": "f39936c2",
   "metadata": {},
   "outputs": [
    {
     "name": "stdout",
     "output_type": "stream",
     "text": [
      "334\n"
     ]
    }
   ],
   "source": [
    "lux = {'health':490, 'health':334, 'melee':550, 'armor':18.72}\n",
    "print(lux['health'])"
   ]
  },
  {
   "cell_type": "markdown",
   "id": "74e14657",
   "metadata": {},
   "source": [
    "> 딕셔너리에 키와 값을 저장할 때 키가 중복되면 가장 뒤에 있는 값만 사용합니다. 따라서 중복되는 키는 저장되지 않습니다."
   ]
  },
  {
   "cell_type": "markdown",
   "id": "c1a41fea",
   "metadata": {},
   "source": [
    "### 12.1.2. 딕셔너리 키의 자료형"
   ]
  },
  {
   "cell_type": "code",
   "execution_count": 136,
   "id": "b3fcf36b",
   "metadata": {},
   "outputs": [
    {
     "name": "stdout",
     "output_type": "stream",
     "text": [
      "{100: 'hundred', False: 0, 3.5: [3.5, 3.5]}\n"
     ]
    }
   ],
   "source": [
    "x = {100: 'hundred', False: 0, 3.5: [3.5, 3.5]}\n",
    "print(x)"
   ]
  },
  {
   "cell_type": "markdown",
   "id": "622b569d",
   "metadata": {},
   "source": [
    "### 12.1.3. 빈 딕셔너리 만들기"
   ]
  },
  {
   "cell_type": "code",
   "execution_count": 140,
   "id": "ea8c8b96",
   "metadata": {},
   "outputs": [
    {
     "name": "stdout",
     "output_type": "stream",
     "text": [
      "{}\n",
      "{}\n"
     ]
    }
   ],
   "source": [
    "x = {}\n",
    "print(x)\n",
    "y=dict()\n",
    "print(y)"
   ]
  },
  {
   "cell_type": "markdown",
   "id": "774c5b5b",
   "metadata": {},
   "source": [
    "### 12.1.4. dict로 딕셔너리 만들기"
   ]
  },
  {
   "cell_type": "code",
   "execution_count": 157,
   "id": "63c4490b",
   "metadata": {},
   "outputs": [
    {
     "name": "stdout",
     "output_type": "stream",
     "text": [
      "{'a': 1, 'b': 2}\n",
      "{'a': 1, 'b': 2}\n",
      "{'a': 1, 'b': 2}\n",
      "{'a': 1, 'b': 2}\n",
      "{'a': 1, 'b': 2}\n"
     ]
    }
   ],
   "source": [
    "A = {'a':1,'b':2}\n",
    "B = dict(a=1,b=2)\n",
    "C = dict(zip(['a','b'],[1,2]))\n",
    "D = dict([('a',1),('b',2)])\n",
    "E = dict({'a':1,'b':2})\n",
    "print(A)\n",
    "print(B)\n",
    "print(C)\n",
    "print(D)\n",
    "print(E)"
   ]
  },
  {
   "cell_type": "markdown",
   "id": "493bf492",
   "metadata": {},
   "source": [
    "## 12.2. 딕셔너리의 키에 접근하고 값 할당하기"
   ]
  },
  {
   "cell_type": "code",
   "execution_count": 158,
   "id": "b1b0b370",
   "metadata": {},
   "outputs": [
    {
     "data": {
      "text/plain": [
       "1"
      ]
     },
     "execution_count": 158,
     "metadata": {},
     "output_type": "execute_result"
    }
   ],
   "source": [
    "A = {'a':1,'b':2}\n",
    "A['a']"
   ]
  },
  {
   "cell_type": "markdown",
   "id": "839d0447",
   "metadata": {},
   "source": [
    "### 12.2.1 딕셔너리의 키에 값 할당하기"
   ]
  },
  {
   "cell_type": "code",
   "execution_count": 159,
   "id": "ec7997ae",
   "metadata": {},
   "outputs": [
    {
     "name": "stdout",
     "output_type": "stream",
     "text": [
      "{'a': 3, 'b': 2}\n"
     ]
    }
   ],
   "source": [
    "A = {'a':1,'b':2}\n",
    "A['a']=3\n",
    "print(A)"
   ]
  },
  {
   "cell_type": "code",
   "execution_count": 160,
   "id": "59428b69",
   "metadata": {},
   "outputs": [
    {
     "name": "stdout",
     "output_type": "stream",
     "text": [
      "{'a': 1, 'b': 2, 'c': 3}\n"
     ]
    }
   ],
   "source": [
    "A = {'a':1,'b':2}\n",
    "A['c']=3\n",
    "print(A)"
   ]
  },
  {
   "cell_type": "markdown",
   "id": "b219db45",
   "metadata": {},
   "source": [
    "### 12.2.2 딕셔너리에 키가 있는지 확인하기"
   ]
  },
  {
   "cell_type": "code",
   "execution_count": 162,
   "id": "cfde5d45",
   "metadata": {},
   "outputs": [
    {
     "name": "stdout",
     "output_type": "stream",
     "text": [
      "True\n",
      "False\n"
     ]
    }
   ],
   "source": [
    "A = {'a':1,'b':2}\n",
    "print('a' in A)\n",
    "print(1 in A)"
   ]
  },
  {
   "cell_type": "markdown",
   "id": "95a16009",
   "metadata": {},
   "source": [
    "### 12.2.3. 딕셔너리의 키 개수 구하기"
   ]
  },
  {
   "cell_type": "code",
   "execution_count": 163,
   "id": "dc4f77e8",
   "metadata": {},
   "outputs": [
    {
     "data": {
      "text/plain": [
       "2"
      ]
     },
     "execution_count": 163,
     "metadata": {},
     "output_type": "execute_result"
    }
   ],
   "source": [
    "A = {'a':1,'b':2}\n",
    "len(A)"
   ]
  },
  {
   "cell_type": "markdown",
   "id": "4eefe8d0",
   "metadata": {},
   "source": [
    "## 12.3. 퀴즈"
   ]
  },
  {
   "cell_type": "markdown",
   "id": "767670f9",
   "metadata": {},
   "source": [
    "2번"
   ]
  },
  {
   "cell_type": "code",
   "execution_count": 164,
   "id": "fe52392a",
   "metadata": {},
   "outputs": [
    {
     "data": {
      "text/plain": [
       "'Hello'"
      ]
     },
     "execution_count": 164,
     "metadata": {},
     "output_type": "execute_result"
    }
   ],
   "source": [
    "x = {10: 'Hello', 'world': 30}\n",
    "x[10]"
   ]
  },
  {
   "cell_type": "markdown",
   "id": "95ad5d0f",
   "metadata": {},
   "source": [
    "3번"
   ]
  },
  {
   "cell_type": "code",
   "execution_count": 169,
   "id": "6369c958",
   "metadata": {},
   "outputs": [
    {
     "name": "stdout",
     "output_type": "stream",
     "text": [
      "1500 2000\n",
      "1500 2000\n",
      "15002000\n"
     ]
    }
   ],
   "source": [
    "fruits = {'apple': 1500, 'pear': 3000, 'grape': 1400}\n",
    "fruits['orange'] = 2000\n",
    "print(fruits['apple'], fruits['orange'])\n",
    "print(str(fruits['apple']),str(fruits['orange']))\n",
    "print(str(fruits['apple'])+str(fruits['orange']))"
   ]
  },
  {
   "cell_type": "markdown",
   "id": "267e47f0",
   "metadata": {},
   "source": [
    "## 12.4. 연습문제"
   ]
  },
  {
   "cell_type": "markdown",
   "id": "f7980749",
   "metadata": {},
   "source": [
    "## 12.5. 심사문제"
   ]
  },
  {
   "cell_type": "code",
   "execution_count": 1,
   "id": "c3365aa4",
   "metadata": {},
   "outputs": [
    {
     "name": "stdout",
     "output_type": "stream",
     "text": [
      "1 4 5\n",
      "['1', '4', '5']\n",
      "2 2 2\n",
      "<map object at 0x7f926c216df0>\n",
      "{'1': 2.0, '4': 2.0, '5': 2.0}\n"
     ]
    }
   ],
   "source": [
    "keys = input().split()\n",
    "print(keys)\n",
    "values = input().split()\n",
    "values = map(float,values)\n",
    "print(values)\n",
    "x = dict(zip(keys,values))\n",
    "print(x)"
   ]
  },
  {
   "cell_type": "markdown",
   "id": "2fa98567",
   "metadata": {},
   "source": [
    "## 12.6*. 직접 만든 문제"
   ]
  },
  {
   "cell_type": "markdown",
   "id": "30d7332e",
   "metadata": {},
   "source": [
    "```\n",
    "A = {'a':1,'b':2}\n",
    "print('a' in A)\n",
    "print(1 in A)\n",
    "```"
   ]
  },
  {
   "cell_type": "markdown",
   "id": "dc936fc8",
   "metadata": {},
   "source": [
    "# 12* 다른 분들이 만드신 문제들"
   ]
  },
  {
   "cell_type": "markdown",
   "id": "14637645",
   "metadata": {},
   "source": [
    "## 12.1. 희성님"
   ]
  },
  {
   "cell_type": "markdown",
   "id": "a9ba4f8e",
   "metadata": {},
   "source": [
    "첫번째 문제"
   ]
  },
  {
   "cell_type": "code",
   "execution_count": 181,
   "id": "bd50ecdc",
   "metadata": {},
   "outputs": [
    {
     "name": "stdout",
     "output_type": "stream",
     "text": [
      "range(1, 11)\n",
      "[1, 2, 3, 4, 5, 6, 7, 8, 9, 10]\n",
      "[1, 3, 5, 7, 9]\n",
      "[2, 4, 6, 8, 10]\n",
      "[10, 9, 8, 7, 6, 5, 4, 3, 2, 1]\n",
      "[10, 8, 6, 4, 2]\n",
      "[9, 7, 5, 3, 1]\n"
     ]
    }
   ],
   "source": [
    "nums = range(1,11)\n",
    "#리스트로 변환\n",
    "print(nums)\n",
    "nums1 = list(nums)\n",
    "print(nums1)\n",
    "#짝수만\n",
    "nums2 = nums1[::2]\n",
    "print(nums2)\n",
    "#홀수만\n",
    "nums3 = nums1[1::2]\n",
    "print(nums3)\n",
    "#역방향\n",
    "nums4 = nums1[::-1]\n",
    "print(nums4)\n",
    "#역방향홀수\n",
    "nums6 = nums1[-2::-2]\n",
    "print(nums5)\n",
    "\n",
    "#역방향짝수\n",
    "nums5 = nums1[::-2]\n",
    "print(nums6)\n"
   ]
  },
  {
   "cell_type": "markdown",
   "id": "8911223a",
   "metadata": {},
   "source": [
    "두번째 문제"
   ]
  },
  {
   "cell_type": "code",
   "execution_count": 196,
   "id": "75f5c682",
   "metadata": {},
   "outputs": [
    {
     "name": "stdout",
     "output_type": "stream",
     "text": [
      "{'a': 1, 'b': 2, 'c': 3, 'd': 4, 'e': 5}\n",
      "{'a': 1, 'b': 2, 'c': 3, 'd': 4, 'e': 5}\n"
     ]
    }
   ],
   "source": [
    "a = ['a', 'b', 'c', 'd', 'e']\n",
    "b = [1, 2, 3, 4, 5]\n",
    "c = {a[0]:b[0],a[1]:b[1],a[2]:b[2],a[3]:b[3],a[4]:b[4]}\n",
    "print(c)\n",
    "d = dict(zip(a,b))\n",
    "print(d)"
   ]
  },
  {
   "cell_type": "markdown",
   "id": "94551fa2",
   "metadata": {},
   "source": [
    "## 12.2. 예진님"
   ]
  },
  {
   "cell_type": "code",
   "execution_count": 194,
   "id": "9b381ad5",
   "metadata": {},
   "outputs": [
    {
     "name": "stdout",
     "output_type": "stream",
     "text": [
      "['a', 'x', 'b', 'c', 'd']\n"
     ]
    }
   ],
   "source": [
    "movie_rank = ['a','b','c','d']\n",
    "movie_rank.insert(1, 'x')\n",
    "print(movie_rank)"
   ]
  }
 ],
 "metadata": {
  "kernelspec": {
   "display_name": "Python 3 (ipykernel)",
   "language": "python",
   "name": "python3"
  },
  "language_info": {
   "codemirror_mode": {
    "name": "ipython",
    "version": 3
   },
   "file_extension": ".py",
   "mimetype": "text/x-python",
   "name": "python",
   "nbconvert_exporter": "python",
   "pygments_lexer": "ipython3",
   "version": "3.9.7"
  }
 },
 "nbformat": 4,
 "nbformat_minor": 5
}
