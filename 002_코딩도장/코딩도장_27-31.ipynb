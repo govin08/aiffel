{
 "cells": [
  {
   "cell_type": "markdown",
   "id": "62b35c18",
   "metadata": {},
   "source": [
    "# 27.  파일 사용하기"
   ]
  },
  {
   "cell_type": "markdown",
   "id": "76d5e7a3",
   "metadata": {},
   "source": [
    "# 28. 회문 판별과  N-gram 만들기"
   ]
  },
  {
   "cell_type": "markdown",
   "id": "4b756b53",
   "metadata": {},
   "source": [
    "\n",
    "# 29. 함수 사용하기"
   ]
  },
  {
   "cell_type": "markdown",
   "id": "e705e2fa",
   "metadata": {},
   "source": [
    "# 30. 함수에서 위치 인수와 키워드 인수 사용하기"
   ]
  },
  {
   "cell_type": "markdown",
   "id": "2019da00",
   "metadata": {},
   "source": [
    "# 31. 함수에서 재귀호출 사용하기"
   ]
  }
 ],
 "metadata": {
  "kernelspec": {
   "display_name": "Python 3 (ipykernel)",
   "language": "python",
   "name": "python3"
  },
  "language_info": {
   "codemirror_mode": {
    "name": "ipython",
    "version": 3
   },
   "file_extension": ".py",
   "mimetype": "text/x-python",
   "name": "python",
   "nbconvert_exporter": "python",
   "pygments_lexer": "ipython3",
   "version": "3.9.7"
  }
 },
 "nbformat": 4,
 "nbformat_minor": 5
}
