{
 "cells": [
  {
   "cell_type": "markdown",
   "id": "cb2ca01c",
   "metadata": {},
   "source": [
    "# 19. 계단식으로 별 출력하기"
   ]
  },
  {
   "cell_type": "markdown",
   "id": "70d0573e",
   "metadata": {},
   "source": [
    "## 19.1. 중첩 루프 사용하기"
   ]
  },
  {
   "cell_type": "markdown",
   "id": "3a85b673",
   "metadata": {},
   "source": [
    "> 반복문 안에 반복문이 들어가는 형태를 중첩 루프(다중 루프)라고 합니다."
   ]
  },
  {
   "cell_type": "code",
   "execution_count": 6,
   "id": "04f0844f",
   "metadata": {},
   "outputs": [
    {
     "name": "stdout",
     "output_type": "stream",
     "text": [
      "j:0 j:1 j:2 j:3 j:4 i:0\n",
      "\n",
      "j:0 j:1 j:2 j:3 j:4 i:1\n",
      "\n",
      "j:0 j:1 j:2 j:3 j:4 i:2\n",
      "\n",
      "j:0 j:1 j:2 j:3 j:4 i:3\n",
      "\n",
      "j:0 j:1 j:2 j:3 j:4 i:4\n",
      "\n"
     ]
    }
   ],
   "source": [
    "for i in range(5):          # 5번 반복. 바깥쪽 루프는 세로 방향\n",
    "    for j in range(5):      # 5번 반복. 안쪽 루프는 가로 방향\n",
    "        print('j:', j, sep='', end=' ')    # j값 출력. end에 ' '를 지정하여 줄바꿈 대신 한 칸 띄움\n",
    "    print('i:', i, '\\n', sep='')    # i값 출력, 개행 문자 모양도 출력\n",
    "                                     # 가로 방향으로 숫자를 모두 출력한 뒤 다음 줄로 넘어감\n",
    "                                     # (print는 기본적으로 출력 후 다음 줄로 넘어감)"
   ]
  },
  {
   "cell_type": "markdown",
   "id": "5f0409f0",
   "metadata": {},
   "source": [
    "## 19.2. 사각형으로 별 출력하기"
   ]
  },
  {
   "cell_type": "code",
   "execution_count": 7,
   "id": "83c54847",
   "metadata": {},
   "outputs": [
    {
     "name": "stdout",
     "output_type": "stream",
     "text": [
      "*****\n",
      "*****\n",
      "*****\n",
      "*****\n",
      "*****\n"
     ]
    }
   ],
   "source": [
    "for i in range(5):            # 5번 반복. 바깥쪽 루프는 세로 방향\n",
    "    for j in range(5):        # 5번 반복. 안쪽 루프는 가로 방향\n",
    "        print('*', end='')    # 별 출력. end에 ''를 지정하여 줄바꿈을 하지 않음\n",
    "    print()    # 가로 방향으로 별을 다 그린 뒤 다음 줄로 넘어감\n",
    "               # (print는 출력 후 기본적으로 다음 줄로 넘어감)"
   ]
  },
  {
   "cell_type": "markdown",
   "id": "06a16bdc",
   "metadata": {},
   "source": [
    "## 19.2. 사각형 모양 바꾸기"
   ]
  },
  {
   "cell_type": "code",
   "execution_count": 8,
   "id": "4a232a93",
   "metadata": {},
   "outputs": [
    {
     "name": "stdout",
     "output_type": "stream",
     "text": [
      "*******\n",
      "*******\n",
      "*******\n"
     ]
    }
   ],
   "source": [
    "for i in range(3):            # 3번 반복. 세로 방향\n",
    "    for j in range(7):        # 7번 반복. 가로 방향\n",
    "        print('*', end='')    # 별 출력. end에 ''를 지정하여 줄바꿈을 하지 않음\n",
    "    print()    # 가로 방향으로 별을 다 그린 뒤 다음 줄로 넘어감\n",
    "               # (print는 출력 후 기본적으로 다음 줄로 넘어감)"
   ]
  },
  {
   "cell_type": "markdown",
   "id": "0895b4e7",
   "metadata": {},
   "source": [
    "## 19.3. 계단식으로 별 출력하기"
   ]
  },
  {
   "cell_type": "code",
   "execution_count": 9,
   "id": "06ca170b",
   "metadata": {},
   "outputs": [
    {
     "name": "stdout",
     "output_type": "stream",
     "text": [
      "*\n",
      "**\n",
      "***\n",
      "****\n",
      "*****\n"
     ]
    }
   ],
   "source": [
    "for i in range(5):        # 0부터 4까지 5번 반복. 세로 방향\n",
    "    for j in range(5):    # 0부터 4까지 5번 반복. 가로 방향\n",
    "        if j <= i:                # 세로 방향 변수 i만큼\n",
    "            print('*', end='')    # 별 출력. end에 ''를 지정하여 줄바꿈을 하지 않음\n",
    "    print()    # 가로 방향으로 별을 다 그린 뒤 다음 줄로 넘어감\n",
    "               # (print는 출력 후 기본적으로 다음 줄로 넘어감)"
   ]
  },
  {
   "cell_type": "code",
   "execution_count": 15,
   "id": "6eeb2c5f",
   "metadata": {},
   "outputs": [
    {
     "name": "stdout",
     "output_type": "stream",
     "text": [
      "\n",
      "*\n",
      "**\n",
      "***\n",
      "****\n"
     ]
    }
   ],
   "source": [
    "for i in range(5):        # 0부터 4까지 5번 반복. 세로 방향\n",
    "    for j in range(i):    # 0부터 4까지 5번 반복. 가로 방향\n",
    "        print('*', end='')    # 별 출력. end에 ''를 지정하여 줄바꿈을 하지 않음\n",
    "    print()    # 가로 방향으로 별을 다 그린 뒤 다음 줄로 넘어감\n",
    "               # (print는 출력 후 기본적으로 다음 줄로 넘어감)"
   ]
  },
  {
   "cell_type": "markdown",
   "id": "77e84cee",
   "metadata": {},
   "source": [
    "### 19.3.1. 대각선으로 별 출력하기"
   ]
  },
  {
   "cell_type": "code",
   "execution_count": 13,
   "id": "fff1b610",
   "metadata": {},
   "outputs": [
    {
     "name": "stdout",
     "output_type": "stream",
     "text": [
      "*    \n",
      " *   \n",
      "  *  \n",
      "   * \n",
      "    *\n"
     ]
    }
   ],
   "source": [
    "for i in range(5):        # 0부터 4까지 5번 반복. 세로 방향\n",
    "    for j in range(5):    # 0부터 4까지 5번 반복. 가로 방향\n",
    "        if j == i:                # 세로 방향 변수와 같을 때\n",
    "            print('*', end='')    # 별 출력. end에 ''를 지정하여 줄바꿈을 하지 않음\n",
    "        else:                     # 세로 방향 변수와 다를 때\n",
    "            print(' ', end='')    # 공백 출력. end에 ''를 지정하여 줄바꿈을 하지 않음\n",
    "    print()    # 가로 방향으로 별을 다 그린 뒤 다음 줄로 넘어감\n",
    "               # (print는 출력 후 기본적으로 다음 줄로 넘어감)\n"
   ]
  },
  {
   "cell_type": "markdown",
   "id": "4e309958",
   "metadata": {},
   "source": [
    "## 19.4. 퀴즈"
   ]
  },
  {
   "cell_type": "markdown",
   "id": "5c9dbed6",
   "metadata": {},
   "source": [
    "## 19.5. 연습문제"
   ]
  },
  {
   "cell_type": "code",
   "execution_count": 18,
   "id": "ec3796e7",
   "metadata": {},
   "outputs": [
    {
     "name": "stdout",
     "output_type": "stream",
     "text": [
      "*****\n",
      "****\n",
      "***\n",
      "**\n",
      "*\n"
     ]
    }
   ],
   "source": [
    "for i in range(5):\n",
    "    for j in range(5):\n",
    "        if j <= 4-i:                # 세로 방향 변수 i만큼\n",
    "            print('*', end='')    # 별 출력. end에 ''를 지정하여 줄바꿈을 하지 않음\n",
    "    print()        "
   ]
  },
  {
   "cell_type": "markdown",
   "id": "d220273f",
   "metadata": {},
   "source": [
    "## 19.6. 심사문제"
   ]
  },
  {
   "cell_type": "markdown",
   "id": "dba8d60a",
   "metadata": {},
   "source": [
    "psuedo code :\n",
    "```\n",
    "for i in range(5): # n\n",
    "    for j in range(11): # 2n+1\n",
    "        if 3-i <= j <= 3+i:\n",
    "            print('*', end='')\n",
    "        else:\n",
    "            print(' ', end='')\n",
    "    print()\n",
    "```"
   ]
  },
  {
   "cell_type": "code",
   "execution_count": 22,
   "id": "5e30bb96",
   "metadata": {},
   "outputs": [
    {
     "name": "stdout",
     "output_type": "stream",
     "text": [
      "     *     \n",
      "    ***    \n",
      "   *****   \n",
      "  *******  \n",
      " ********* \n"
     ]
    }
   ],
   "source": [
    "for i in range(5): # n\n",
    "    for j in range(11): # 2n+1\n",
    "        if 5-i <= j <= 5+i:\n",
    "            print('*', end='')\n",
    "        else:\n",
    "            print(' ', end='')\n",
    "    print()"
   ]
  },
  {
   "cell_type": "code",
   "execution_count": 26,
   "id": "4384e01f",
   "metadata": {},
   "outputs": [
    {
     "name": "stdout",
     "output_type": "stream",
     "text": [
      "     *     \n",
      "    ***    \n",
      "   *****   \n",
      "  *******  \n",
      " ********* \n"
     ]
    }
   ],
   "source": [
    "n=5\n",
    "for i in range(n):\n",
    "    for j in range(2*n+1):\n",
    "        if n-i <= j <= n+i:\n",
    "            print('*', end='')\n",
    "        else:\n",
    "            print(' ', end='')\n",
    "    print()"
   ]
  },
  {
   "cell_type": "code",
   "execution_count": 28,
   "id": "3b34475a",
   "metadata": {},
   "outputs": [
    {
     "name": "stdout",
     "output_type": "stream",
     "text": [
      "10\n",
      "          *          \n",
      "         ***         \n",
      "        *****        \n",
      "       *******       \n",
      "      *********      \n",
      "     ***********     \n",
      "    *************    \n",
      "   ***************   \n",
      "  *****************  \n",
      " ******************* \n"
     ]
    }
   ],
   "source": [
    "n = int(input())\n",
    "for i in range(n):\n",
    "    for j in range(2*n+1):\n",
    "        if n-i <= j <= n+i:\n",
    "            print('*', end='')\n",
    "        else:\n",
    "            print(' ', end='')\n",
    "    print()"
   ]
  },
  {
   "cell_type": "markdown",
   "id": "7bdf23cc",
   "metadata": {},
   "source": [
    "## 19.7. 직접 만든 문제 : 역삼각형을 만들어보자"
   ]
  }
 ],
 "metadata": {
  "kernelspec": {
   "display_name": "Python 3 (ipykernel)",
   "language": "python",
   "name": "python3"
  },
  "language_info": {
   "codemirror_mode": {
    "name": "ipython",
    "version": 3
   },
   "file_extension": ".py",
   "mimetype": "text/x-python",
   "name": "python",
   "nbconvert_exporter": "python",
   "pygments_lexer": "ipython3",
   "version": "3.9.7"
  }
 },
 "nbformat": 4,
 "nbformat_minor": 5
}
