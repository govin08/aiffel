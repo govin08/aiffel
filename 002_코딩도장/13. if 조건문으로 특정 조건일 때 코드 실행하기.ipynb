{
 "cells": [
  {
   "cell_type": "markdown",
   "id": "cef7c3d1",
   "metadata": {},
   "source": [
    "# 13. if 조건문으로 특정 조건일 때 코드 실행하기"
   ]
  },
  {
   "cell_type": "markdown",
   "id": "13f91209",
   "metadata": {},
   "source": [
    "## 13.1. if 조건문 사용하기"
   ]
  },
  {
   "cell_type": "markdown",
   "id": "c4bee01e",
   "metadata": {},
   "source": [
    "의사코드(psuedo code) / if 조건식 / if 본문"
   ]
  },
  {
   "cell_type": "code",
   "execution_count": 1,
   "id": "47ba6d0e",
   "metadata": {},
   "outputs": [
    {
     "name": "stdout",
     "output_type": "stream",
     "text": [
      "10입니다.\n"
     ]
    }
   ],
   "source": [
    "x=0\n",
    "if x==0:\n",
    "    print('10입니다.')"
   ]
  },
  {
   "cell_type": "markdown",
   "id": "e3ac2a3c",
   "metadata": {},
   "source": [
    "### 13.1.1. if 조건문의 기본 형태와 실행 흐름 알아보기"
   ]
  },
  {
   "cell_type": "markdown",
   "id": "2f1fa7bc",
   "metadata": {},
   "source": [
    "### 13.1.2. if 조건문을 사용할 떄 주의할 점"
   ]
  },
  {
   "cell_type": "markdown",
   "id": "26baccf2",
   "metadata": {},
   "source": [
    "### 13.1.3. if 조건문에서 코드를 생략하기"
   ]
  },
  {
   "cell_type": "code",
   "execution_count": 3,
   "id": "02a62738",
   "metadata": {},
   "outputs": [],
   "source": [
    "x=0\n",
    "if x==0:\n",
    "    pass # TODO : x가 10일 때 처리가 필요함"
   ]
  },
  {
   "cell_type": "markdown",
   "id": "3d76fa70",
   "metadata": {},
   "source": [
    "## 13.2. if 조건문과 들여쓰기"
   ]
  },
  {
   "cell_type": "markdown",
   "id": "87012b20",
   "metadata": {},
   "source": [
    "## 13.3. 중첩 if 조건문 사용하기"
   ]
  },
  {
   "cell_type": "code",
   "execution_count": 4,
   "id": "80a3703b",
   "metadata": {},
   "outputs": [
    {
     "name": "stdout",
     "output_type": "stream",
     "text": [
      "10 이상입니다.\n"
     ]
    }
   ],
   "source": [
    "x=10\n",
    "\n",
    "if x>=10:\n",
    "    print('10 이상입니다.')\n",
    "    \n",
    "    if x==15:\n",
    "        print('15입니다.')\n",
    "    if x==20:\n",
    "        print('20입니다.')"
   ]
  },
  {
   "cell_type": "code",
   "execution_count": 9,
   "id": "dfa8d424",
   "metadata": {},
   "outputs": [
    {
     "name": "stdout",
     "output_type": "stream",
     "text": [
      "18\n",
      "10 이상입니다.\n"
     ]
    }
   ],
   "source": [
    "x=int(input())\n",
    "\n",
    "if x>=10:\n",
    "    print('10 이상입니다.')\n",
    "    if x==15:\n",
    "        print('15입니다.')\n",
    "    if x==20:\n",
    "        print('20입니다.')"
   ]
  },
  {
   "cell_type": "markdown",
   "id": "7c51dd79",
   "metadata": {},
   "source": [
    "## 13.4. 사용자가 입력한 값에 if 조건문 사용하기"
   ]
  },
  {
   "cell_type": "code",
   "execution_count": 12,
   "id": "f9d0b0bc",
   "metadata": {},
   "outputs": [
    {
     "name": "stdout",
     "output_type": "stream",
     "text": [
      "14\n"
     ]
    }
   ],
   "source": [
    "x=int(input())\n",
    "\n",
    "if x==10:\n",
    "    print('10입니다.')\n",
    "if x==20:\n",
    "    print('20입니다.')"
   ]
  },
  {
   "cell_type": "markdown",
   "id": "943594f4",
   "metadata": {},
   "source": [
    "## 13.5. 퀴즈"
   ]
  },
  {
   "cell_type": "markdown",
   "id": "2706b550",
   "metadata": {},
   "source": [
    "## 13.6. 연습문제"
   ]
  },
  {
   "cell_type": "markdown",
   "id": "3aceff05",
   "metadata": {},
   "source": [
    "## 13.7 심사문제"
   ]
  },
  {
   "cell_type": "code",
   "execution_count": 16,
   "id": "0ee9c6b7",
   "metadata": {},
   "outputs": [
    {
     "name": "stdout",
     "output_type": "stream",
     "text": [
      "5000\n",
      "Cash3000\n",
      "2000\n"
     ]
    }
   ],
   "source": [
    "x=int(input())\n",
    "y=input()\n",
    "if y == 'Cash3000':\n",
    "    print(x-3000)\n",
    "if y == 'Cash5000':\n",
    "    print(x-5000)"
   ]
  },
  {
   "cell_type": "markdown",
   "id": "d5157609",
   "metadata": {},
   "source": [
    "## 13.8*. 직접 만든 문제"
   ]
  },
  {
   "cell_type": "markdown",
   "id": "8ec95124",
   "metadata": {},
   "source": [
    "아래 두 코드에서 9, 10, 11을 넣으면 각각 무엇이 나올까요?"
   ]
  },
  {
   "cell_type": "code",
   "execution_count": 19,
   "id": "755e1516",
   "metadata": {},
   "outputs": [
    {
     "name": "stdout",
     "output_type": "stream",
     "text": [
      "11\n",
      "10보다 큽니다.\n"
     ]
    }
   ],
   "source": [
    "x=int(input())\n",
    "if x < 10:\n",
    "    print('10보다 작습니다.')\n",
    "if x == 0 :\n",
    "    print('10입니다.')\n",
    "if x > 10:\n",
    "    print('10보다 큽니다.')"
   ]
  },
  {
   "cell_type": "code",
   "execution_count": 26,
   "id": "6a9b4e5d",
   "metadata": {},
   "outputs": [
    {
     "name": "stdout",
     "output_type": "stream",
     "text": [
      "11\n"
     ]
    }
   ],
   "source": [
    "x=int(input())\n",
    "if x < 10:\n",
    "    print('10보다 작습니다.')\n",
    "    if x == 0 :\n",
    "        print('10입니다.')\n",
    "    if x > 10:\n",
    "        print('10보다 큽니다.')"
   ]
  },
  {
   "cell_type": "markdown",
   "id": "bef4500d",
   "metadata": {},
   "source": [
    "|입력|출력|\n",
    "|:------:|:---:|\n",
    "|위 코드 9|10보다 작습니다.|\n",
    "|위 코드 10|10입니다.|\n",
    "|위 코드 11|10보다 큽니다.|\n",
    "|아래 코드 9|10보다 작습니다.|\n",
    "|아래 코드 10||\n",
    "|아래 코드 11||"
   ]
  }
 ],
 "metadata": {
  "kernelspec": {
   "display_name": "Python 3 (ipykernel)",
   "language": "python",
   "name": "python3"
  },
  "language_info": {
   "codemirror_mode": {
    "name": "ipython",
    "version": 3
   },
   "file_extension": ".py",
   "mimetype": "text/x-python",
   "name": "python",
   "nbconvert_exporter": "python",
   "pygments_lexer": "ipython3",
   "version": "3.9.7"
  }
 },
 "nbformat": 4,
 "nbformat_minor": 5
}
