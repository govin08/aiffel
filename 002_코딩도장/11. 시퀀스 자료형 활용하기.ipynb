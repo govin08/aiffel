{
 "cells": [
  {
   "cell_type": "markdown",
   "id": "9032d130",
   "metadata": {},
   "source": [
    "# 11. 시퀀스 자료형 활용하기"
   ]
  },
  {
   "cell_type": "markdown",
   "id": "39381b13",
   "metadata": {},
   "source": [
    "## 11.1 시퀀스 자료형의 공통 기능 사용하기"
   ]
  },
  {
   "cell_type": "markdown",
   "id": "0c11c5f9",
   "metadata": {},
   "source": [
    "### 11.1.1 특정 값이 있는지 확인하기"
   ]
  },
  {
   "cell_type": "code",
   "execution_count": null,
   "id": "305ab1d9",
   "metadata": {},
   "outputs": [],
   "source": [
    "a=list(range(0,100,10))\n",
    "print(a)\n",
    "print(30 in a)\n",
    "print(100 in a)\n",
    "print(30 not in a)\n",
    "print(100 not in a)"
   ]
  },
  {
   "cell_type": "code",
   "execution_count": null,
   "id": "bbaa1f2d",
   "metadata": {
    "scrolled": true
   },
   "outputs": [],
   "source": [
    "a=tuple(range(0,100,10))\n",
    "print(a)\n",
    "print(30 in a)"
   ]
  },
  {
   "cell_type": "code",
   "execution_count": null,
   "id": "1bfa0e1b",
   "metadata": {},
   "outputs": [],
   "source": [
    "python = 'python'\n",
    "print('p' in python)\n",
    "print('f' in python)"
   ]
  },
  {
   "cell_type": "markdown",
   "id": "69119fce",
   "metadata": {},
   "source": [
    "### 11.1.2 시퀀스 객체 연결하기"
   ]
  },
  {
   "cell_type": "code",
   "execution_count": null,
   "id": "6a0a4b5c",
   "metadata": {},
   "outputs": [],
   "source": [
    "a=list(range(0,40,10))\n",
    "print(a)\n",
    "b=[1,2,3]\n",
    "print(b)\n",
    "print(a+b)"
   ]
  },
  {
   "cell_type": "code",
   "execution_count": null,
   "id": "6b1a515b",
   "metadata": {},
   "outputs": [],
   "source": [
    "h='hello'\n",
    "w='world'\n",
    "print(h+w)\n",
    "print(h,w)"
   ]
  },
  {
   "cell_type": "markdown",
   "id": "28668a93",
   "metadata": {},
   "source": [
    "### 11.1.3 시퀀스 객체 반복하기"
   ]
  },
  {
   "cell_type": "code",
   "execution_count": null,
   "id": "ce1fe0ed",
   "metadata": {},
   "outputs": [],
   "source": [
    "print(a)\n",
    "print(a*3)"
   ]
  },
  {
   "cell_type": "markdown",
   "id": "4826cf99",
   "metadata": {},
   "source": [
    "np.array에서는 달리 행동한다."
   ]
  },
  {
   "cell_type": "code",
   "execution_count": null,
   "id": "7ed371fc",
   "metadata": {},
   "outputs": [],
   "source": [
    "import numpy as np\n",
    "a=[1,2,3]\n",
    "b=np.array([1,2,3])\n",
    "print(a+a)\n",
    "print(a*3)\n",
    "print(b+b)\n",
    "print(b*3)"
   ]
  },
  {
   "cell_type": "code",
   "execution_count": null,
   "id": "c295b621",
   "metadata": {},
   "outputs": [],
   "source": [
    "#print(a+3) 오류남\n",
    "print(b+3) #broadcasting"
   ]
  },
  {
   "cell_type": "markdown",
   "id": "dd88735d",
   "metadata": {},
   "source": [
    "tuple"
   ]
  },
  {
   "cell_type": "code",
   "execution_count": 100,
   "id": "4082d86c",
   "metadata": {},
   "outputs": [
    {
     "name": "stdout",
     "output_type": "stream",
     "text": [
      "[1, 2, 3]\n",
      "[1, 2, 3, 1, 2, 3]\n",
      "(1, 2, 3)\n",
      "(1, 2, 3, 1, 2, 3)\n",
      "range(0, 3)\n"
     ]
    },
    {
     "ename": "TypeError",
     "evalue": "unsupported operand type(s) for *: 'range' and 'int'",
     "output_type": "error",
     "traceback": [
      "\u001b[0;31m---------------------------------------------------------------------------\u001b[0m",
      "\u001b[0;31mTypeError\u001b[0m                                 Traceback (most recent call last)",
      "\u001b[0;32m/tmp/ipykernel_1697/3183133234.py\u001b[0m in \u001b[0;36m<module>\u001b[0;34m\u001b[0m\n\u001b[1;32m      7\u001b[0m \u001b[0mc\u001b[0m\u001b[0;34m=\u001b[0m\u001b[0mrange\u001b[0m\u001b[0;34m(\u001b[0m\u001b[0;36m3\u001b[0m\u001b[0;34m)\u001b[0m\u001b[0;34m\u001b[0m\u001b[0;34m\u001b[0m\u001b[0m\n\u001b[1;32m      8\u001b[0m \u001b[0mprint\u001b[0m\u001b[0;34m(\u001b[0m\u001b[0mc\u001b[0m\u001b[0;34m)\u001b[0m\u001b[0;34m\u001b[0m\u001b[0;34m\u001b[0m\u001b[0m\n\u001b[0;32m----> 9\u001b[0;31m \u001b[0mprint\u001b[0m\u001b[0;34m(\u001b[0m\u001b[0mc\u001b[0m\u001b[0;34m*\u001b[0m\u001b[0;36m2\u001b[0m\u001b[0;34m)\u001b[0m\u001b[0;34m\u001b[0m\u001b[0;34m\u001b[0m\u001b[0m\n\u001b[0m",
      "\u001b[0;31mTypeError\u001b[0m: unsupported operand type(s) for *: 'range' and 'int'"
     ]
    }
   ],
   "source": [
    "a=[1,2,3]\n",
    "print(a)\n",
    "print(a*2)\n",
    "b=(1,2,3)\n",
    "print(b)\n",
    "print(b*2)\n",
    "c=range(3)\n",
    "print(c)\n",
    "print(c*2)"
   ]
  },
  {
   "cell_type": "markdown",
   "id": "be5dd942",
   "metadata": {},
   "source": [
    "### 11.2.1 리스트와 튜플의 요소 개수 구하기"
   ]
  },
  {
   "cell_type": "markdown",
   "id": "f71b8e07",
   "metadata": {},
   "source": [
    "length"
   ]
  },
  {
   "cell_type": "code",
   "execution_count": null,
   "id": "6db71ebd",
   "metadata": {},
   "outputs": [],
   "source": [
    "a = list(range(0,100,10))\n",
    "print(a)\n",
    "print(len(a))\n",
    "b= tuple(range(0,100,10))\n",
    "print(b)\n",
    "print(len(b))"
   ]
  },
  {
   "cell_type": "markdown",
   "id": "2088c78d",
   "metadata": {},
   "source": [
    "### 11.2.2 range의 숫자 생성 개수 구하기"
   ]
  },
  {
   "cell_type": "code",
   "execution_count": 14,
   "id": "7b00f8a1",
   "metadata": {},
   "outputs": [
    {
     "name": "stdout",
     "output_type": "stream",
     "text": [
      "5\n"
     ]
    }
   ],
   "source": [
    "print(len(range(0,10,2)))"
   ]
  },
  {
   "cell_type": "markdown",
   "id": "9519f9a1",
   "metadata": {},
   "source": [
    "### 11.2.3 문자열의 길이 구하기"
   ]
  },
  {
   "cell_type": "code",
   "execution_count": 15,
   "id": "a9ca8518",
   "metadata": {},
   "outputs": [
    {
     "name": "stdout",
     "output_type": "stream",
     "text": [
      "python\n",
      "6\n",
      "6\n",
      "안녕하세요\n",
      "15\n"
     ]
    }
   ],
   "source": [
    "p = 'python'\n",
    "print(p)\n",
    "print(len(p))\n",
    "print(len(p.encode('utf-8')))\n",
    "인사 = '안녕하세요'\n",
    "print(인사)\n",
    "print(len(인사.encode('utf-8')))"
   ]
  },
  {
   "cell_type": "markdown",
   "id": "68d61662",
   "metadata": {},
   "source": [
    "### 11.3. 인덱스 사용하기"
   ]
  },
  {
   "cell_type": "code",
   "execution_count": 16,
   "id": "94e75368",
   "metadata": {},
   "outputs": [
    {
     "name": "stdout",
     "output_type": "stream",
     "text": [
      "38\n",
      "53\n",
      "19\n"
     ]
    }
   ],
   "source": [
    "a=[38,21,53,62,19]\n",
    "print(a[0],a[2],a[4],sep='\\n')"
   ]
  },
  {
   "cell_type": "code",
   "execution_count": 17,
   "id": "2e198300",
   "metadata": {},
   "outputs": [
    {
     "name": "stdout",
     "output_type": "stream",
     "text": [
      "38\n",
      "53\n",
      "19\n"
     ]
    }
   ],
   "source": [
    "b=(38,21,53,62,19)\n",
    "print(b[0],b[2],b[4],sep='\\n')"
   ]
  },
  {
   "cell_type": "code",
   "execution_count": 23,
   "id": "c47435c6",
   "metadata": {},
   "outputs": [
    {
     "name": "stdout",
     "output_type": "stream",
     "text": [
      "range(0, 5)\n",
      "[0, 1, 2, 3, 4]\n",
      "(0, 1, 2, 3, 4)\n",
      "(0, 1, 2, 3, 4)\n",
      "2\n",
      "2\n",
      "2\n"
     ]
    }
   ],
   "source": [
    "a = range(5)\n",
    "b = list(range(5))\n",
    "c = tuple(range(5))\n",
    "d = set(range(5))\n",
    "print(a)\n",
    "print(b)\n",
    "print(c)\n",
    "print(c)\n",
    "print(a[2])\n",
    "print(b[2])\n",
    "print(c[2])\n",
    "#print(d[2]) #에러"
   ]
  },
  {
   "cell_type": "code",
   "execution_count": 28,
   "id": "ccb3d470",
   "metadata": {},
   "outputs": [
    {
     "name": "stdout",
     "output_type": "stream",
     "text": [
      "1\n",
      "1\n",
      "True\n",
      "True\n"
     ]
    }
   ],
   "source": [
    "a = list(range(5))\n",
    "print(a[1])\n",
    "print(a.__getitem__(1))\n",
    "print(a[1]==a.__getitem__(1))\n",
    "print(a[1] is a.__getitem__(1))"
   ]
  },
  {
   "cell_type": "markdown",
   "id": "fd03dd2e",
   "metadata": {},
   "source": [
    "### 11.3.1. 음수 인덱스 지정하기"
   ]
  },
  {
   "cell_type": "code",
   "execution_count": 30,
   "id": "f22775bb",
   "metadata": {},
   "outputs": [
    {
     "name": "stdout",
     "output_type": "stream",
     "text": [
      "4\n"
     ]
    }
   ],
   "source": [
    "a = list(range(5))\n",
    "print(a[-1])"
   ]
  },
  {
   "cell_type": "markdown",
   "id": "5092bf4a",
   "metadata": {},
   "source": [
    "### 11.3.2. 인덱스의 범위를 벗어나면?"
   ]
  },
  {
   "cell_type": "code",
   "execution_count": 53,
   "id": "3b6b5dca",
   "metadata": {},
   "outputs": [
    {
     "name": "stdout",
     "output_type": "stream",
     "text": [
      "1\n",
      "3\n",
      "4\n"
     ]
    }
   ],
   "source": [
    "a = list(range(5))\n",
    "print(a[1])\n",
    "print(a[3])\n",
    "print(a[4])\n",
    "# print(a[7]) #에러"
   ]
  },
  {
   "cell_type": "markdown",
   "id": "5d2e6f22",
   "metadata": {},
   "source": [
    "$7\\equiv2(mod 5)$라서 `a[7]=a[2]=2`로 나올 것 같은데 그렇지 않고 오류가 난다."
   ]
  },
  {
   "cell_type": "markdown",
   "id": "045bfd33",
   "metadata": {},
   "source": [
    "### 11.3.3 마지막 요소에 접근하기"
   ]
  },
  {
   "cell_type": "code",
   "execution_count": 55,
   "id": "961018eb",
   "metadata": {},
   "outputs": [
    {
     "name": "stdout",
     "output_type": "stream",
     "text": [
      "[0, 1, 2, 3, 4]\n",
      "4\n",
      "4\n",
      "4\n"
     ]
    }
   ],
   "source": [
    "a= list(range(5))\n",
    "print(a)\n",
    "print(a[4])\n",
    "print(a[-1])\n",
    "print(a[len(a)-1])"
   ]
  },
  {
   "cell_type": "markdown",
   "id": "ace60701",
   "metadata": {},
   "source": [
    "### 11.3.4 요소에 값 할당하기"
   ]
  },
  {
   "cell_type": "code",
   "execution_count": 57,
   "id": "3a2eb3ac",
   "metadata": {},
   "outputs": [
    {
     "name": "stdout",
     "output_type": "stream",
     "text": [
      "[2, 1, 0, 0]\n"
     ]
    }
   ],
   "source": [
    "a = [0,0,0,0]\n",
    "a[0] = 2\n",
    "a[1] = 1\n",
    "print(a)"
   ]
  },
  {
   "cell_type": "code",
   "execution_count": 58,
   "id": "7293adef",
   "metadata": {},
   "outputs": [
    {
     "ename": "TypeError",
     "evalue": "'tuple' object does not support item assignment",
     "output_type": "error",
     "traceback": [
      "\u001b[0;31m---------------------------------------------------------------------------\u001b[0m",
      "\u001b[0;31mTypeError\u001b[0m                                 Traceback (most recent call last)",
      "\u001b[0;32m/tmp/ipykernel_1697/1543422980.py\u001b[0m in \u001b[0;36m<module>\u001b[0;34m\u001b[0m\n\u001b[1;32m      1\u001b[0m \u001b[0ma\u001b[0m \u001b[0;34m=\u001b[0m \u001b[0;34m(\u001b[0m\u001b[0;36m0\u001b[0m\u001b[0;34m,\u001b[0m\u001b[0;36m0\u001b[0m\u001b[0;34m,\u001b[0m\u001b[0;36m0\u001b[0m\u001b[0;34m,\u001b[0m\u001b[0;36m0\u001b[0m\u001b[0;34m)\u001b[0m\u001b[0;34m\u001b[0m\u001b[0;34m\u001b[0m\u001b[0m\n\u001b[0;32m----> 2\u001b[0;31m \u001b[0ma\u001b[0m\u001b[0;34m[\u001b[0m\u001b[0;36m0\u001b[0m\u001b[0;34m]\u001b[0m \u001b[0;34m=\u001b[0m \u001b[0;36m2\u001b[0m\u001b[0;34m\u001b[0m\u001b[0;34m\u001b[0m\u001b[0m\n\u001b[0m\u001b[1;32m      3\u001b[0m \u001b[0ma\u001b[0m\u001b[0;34m[\u001b[0m\u001b[0;36m1\u001b[0m\u001b[0;34m]\u001b[0m \u001b[0;34m=\u001b[0m \u001b[0;36m1\u001b[0m\u001b[0;34m\u001b[0m\u001b[0;34m\u001b[0m\u001b[0m\n\u001b[1;32m      4\u001b[0m \u001b[0mprint\u001b[0m\u001b[0;34m(\u001b[0m\u001b[0ma\u001b[0m\u001b[0;34m)\u001b[0m\u001b[0;34m\u001b[0m\u001b[0;34m\u001b[0m\u001b[0m\n",
      "\u001b[0;31mTypeError\u001b[0m: 'tuple' object does not support item assignment"
     ]
    }
   ],
   "source": [
    "a = (0,0,0,0)\n",
    "a[0] = 2\n",
    "a[1] = 1\n",
    "print(a)"
   ]
  },
  {
   "cell_type": "markdown",
   "id": "088f5d4a",
   "metadata": {},
   "source": [
    "### 11.3.5 del로 요소 삭제하기"
   ]
  },
  {
   "cell_type": "code",
   "execution_count": 60,
   "id": "45dbc866",
   "metadata": {},
   "outputs": [
    {
     "name": "stdout",
     "output_type": "stream",
     "text": [
      "[0, 1, 2, 3, 4]\n",
      "[0, 1, 2, 3]\n"
     ]
    }
   ],
   "source": [
    "a = list(range(5))\n",
    "print(a)\n",
    "del a[-1]\n",
    "print(a)"
   ]
  },
  {
   "cell_type": "markdown",
   "id": "115bba9e",
   "metadata": {},
   "source": [
    "## 11.4. 슬라이스 사용하기"
   ]
  },
  {
   "cell_type": "code",
   "execution_count": 63,
   "id": "1e4706d1",
   "metadata": {},
   "outputs": [
    {
     "name": "stdout",
     "output_type": "stream",
     "text": [
      "[0, 10, 20, 30, 40, 50, 60, 70, 80, 90]\n",
      "[0, 10, 20]\n"
     ]
    }
   ],
   "source": [
    "a = list(range(0,100,10))\n",
    "print(a)\n",
    "print(a[0:3])"
   ]
  },
  {
   "cell_type": "markdown",
   "id": "7e27cdb4",
   "metadata": {},
   "source": [
    "### 11.4.1 리스트의 중간 부분 가져오기"
   ]
  },
  {
   "cell_type": "code",
   "execution_count": 64,
   "id": "e4063a0a",
   "metadata": {},
   "outputs": [
    {
     "name": "stdout",
     "output_type": "stream",
     "text": [
      "[0, 10, 20, 30, 40, 50, 60, 70, 80, 90]\n",
      "[20, 30, 40]\n"
     ]
    }
   ],
   "source": [
    "a = list(range(0,100,10))\n",
    "print(a)\n",
    "print(a[2:5])"
   ]
  },
  {
   "cell_type": "markdown",
   "id": "3af1ad08",
   "metadata": {},
   "source": [
    "### 11.4.2. 인덱스 증가폭 사용하기"
   ]
  },
  {
   "cell_type": "code",
   "execution_count": 72,
   "id": "aecd1f30",
   "metadata": {},
   "outputs": [
    {
     "name": "stdout",
     "output_type": "stream",
     "text": [
      "[0, 10, 20, 30, 40, 50, 60, 70, 80, 90]\n",
      "[20, 40, 60]\n"
     ]
    }
   ],
   "source": [
    "a = list(range(0,100,10))\n",
    "print(a)\n",
    "print(a[2:7:2])\n",
    "# print(a[2:7,2]) 오류"
   ]
  },
  {
   "cell_type": "markdown",
   "id": "646eaeea",
   "metadata": {},
   "source": [
    "### 11.4.3. 인덱스 생략하기"
   ]
  },
  {
   "cell_type": "code",
   "execution_count": 67,
   "id": "e746418b",
   "metadata": {},
   "outputs": [
    {
     "name": "stdout",
     "output_type": "stream",
     "text": [
      "[0, 10, 20, 30, 40, 50, 60, 70, 80, 90]\n",
      "[0, 10, 20, 30, 40, 50, 60]\n"
     ]
    }
   ],
   "source": [
    "a = list(range(0,100,10))\n",
    "print(a)\n",
    "print(a[:7])"
   ]
  },
  {
   "cell_type": "markdown",
   "id": "05f23c57",
   "metadata": {},
   "source": [
    "### 11.4.4 인덱스를 생략하면서 증가폭 사용하기"
   ]
  },
  {
   "cell_type": "code",
   "execution_count": 70,
   "id": "14259807",
   "metadata": {},
   "outputs": [
    {
     "name": "stdout",
     "output_type": "stream",
     "text": [
      "[0, 10, 20, 30, 40, 50, 60, 70, 80, 90]\n",
      "[0, 20, 40, 60]\n"
     ]
    }
   ],
   "source": [
    "a = list(range(0,100,10))\n",
    "print(a)\n",
    "print(a[:7:2])"
   ]
  },
  {
   "cell_type": "code",
   "execution_count": 73,
   "id": "2e1a3f59",
   "metadata": {},
   "outputs": [
    {
     "name": "stdout",
     "output_type": "stream",
     "text": [
      "[0, 10, 20, 30, 40, 50, 60, 70, 80, 90]\n",
      "[0, 20, 40, 60, 80]\n"
     ]
    }
   ],
   "source": [
    "a = list(range(0,100,10))\n",
    "print(a)\n",
    "print(a[::2])"
   ]
  },
  {
   "cell_type": "code",
   "execution_count": 77,
   "id": "ca2976f0",
   "metadata": {},
   "outputs": [
    {
     "name": "stdout",
     "output_type": "stream",
     "text": [
      "[0, 10, 20, 30, 40, 50, 60, 70, 80, 90]\n",
      "[0, 10, 20, 30, 40, 50, 60, 70, 80, 90]\n",
      "[0, 10, 20, 30, 40, 50, 60, 70, 80, 90]\n",
      "[0, 10, 20, 30, 40, 50, 60, 70, 80]\n",
      "[0, 10, 20, 30, 40, 50, 60, 70, 80, 90]\n",
      "[0, 10, 20, 30, 40, 50, 60, 70, 80, 90]\n"
     ]
    }
   ],
   "source": [
    "a = list(range(0,100,10))\n",
    "print(a)\n",
    "print(a[:])\n",
    "print(a[0:])\n",
    "print(a[0:-1])\n",
    "print(a[::])\n",
    "print(a[0::1])"
   ]
  },
  {
   "cell_type": "markdown",
   "id": "945317e6",
   "metadata": {},
   "source": [
    "### 11.4.5. len 응용하기"
   ]
  },
  {
   "cell_type": "code",
   "execution_count": 82,
   "id": "f9d236d4",
   "metadata": {},
   "outputs": [
    {
     "name": "stdout",
     "output_type": "stream",
     "text": [
      "[0, 10, 20, 30, 40, 50, 60, 70, 80, 90]\n",
      "[0, 10, 20, 30, 40, 50, 60, 70, 80, 90]\n"
     ]
    }
   ],
   "source": [
    "a = list(range(0,100,10))\n",
    "print(a)\n",
    "print(a[0:len(a)])"
   ]
  },
  {
   "cell_type": "markdown",
   "id": "6e3996ab",
   "metadata": {},
   "source": [
    "### 11.4.6. tuple, range, 문자열에 슬라이스 사용하기"
   ]
  },
  {
   "cell_type": "code",
   "execution_count": 83,
   "id": "c35dde32",
   "metadata": {},
   "outputs": [
    {
     "name": "stdout",
     "output_type": "stream",
     "text": [
      "(0, 10, 20, 30, 40, 50, 60, 70, 80, 90)\n",
      "(20, 30, 40)\n"
     ]
    }
   ],
   "source": [
    "b = tuple(range(0,100,10))\n",
    "print(b)\n",
    "print(b[2:5])"
   ]
  },
  {
   "cell_type": "code",
   "execution_count": 84,
   "id": "45d05e26",
   "metadata": {},
   "outputs": [
    {
     "name": "stdout",
     "output_type": "stream",
     "text": [
      "range(0, 100, 10)\n",
      "range(20, 50, 10)\n",
      "(20, 30, 40)\n"
     ]
    }
   ],
   "source": [
    "r = range(0,100,10)\n",
    "print(r)\n",
    "print(r[2:5])\n",
    "print(tuple(r[2:5]))"
   ]
  },
  {
   "cell_type": "code",
   "execution_count": 87,
   "id": "dbd1bbc4",
   "metadata": {},
   "outputs": [
    {
     "name": "stdout",
     "output_type": "stream",
     "text": [
      "(20, 30, 40)\n",
      "(20, 30, 40)\n",
      "True\n",
      "False\n"
     ]
    }
   ],
   "source": [
    "a=tuple(range(0,100,10))[2:5]\n",
    "b=tuple(range(0,100,10)[2:5])\n",
    "print(a)\n",
    "print(b)\n",
    "print(a==b)\n",
    "print(a is b)"
   ]
  },
  {
   "cell_type": "code",
   "execution_count": 93,
   "id": "e95ad032",
   "metadata": {},
   "outputs": [
    {
     "name": "stdout",
     "output_type": "stream",
     "text": [
      "[20, 30]\n",
      "[20, 30]\n"
     ]
    }
   ],
   "source": [
    "A = list(range(0,100,10))\n",
    "B = A[2:4]\n",
    "print(B)\n",
    "C = A[slice(2,4)]\n",
    "print(C)"
   ]
  },
  {
   "cell_type": "markdown",
   "id": "4ae3d908",
   "metadata": {},
   "source": [
    "### 11.4.7. 슬라이스에 요소 할당하기"
   ]
  },
  {
   "cell_type": "code",
   "execution_count": 95,
   "id": "a6a2845b",
   "metadata": {},
   "outputs": [
    {
     "name": "stdout",
     "output_type": "stream",
     "text": [
      "[0, 10, 20, 30, 40, 50, 60, 70, 80, 90]\n",
      "[0, 10, 2, 3, 4, 50, 60, 70, 80, 90]\n"
     ]
    }
   ],
   "source": [
    "a = list(range(0,100,10))\n",
    "print(a)\n",
    "a[2:5] = [2,3,4]\n",
    "print(a)"
   ]
  },
  {
   "cell_type": "code",
   "execution_count": 96,
   "id": "8b686d5c",
   "metadata": {},
   "outputs": [
    {
     "name": "stdout",
     "output_type": "stream",
     "text": [
      "[0, 10, 20, 30, 40, 50, 60, 70, 80, 90]\n",
      "[0, 10, 2, 50, 60, 70, 80, 90]\n"
     ]
    }
   ],
   "source": [
    "a = list(range(0,100,10))\n",
    "print(a)\n",
    "a[2:5] = [2]\n",
    "print(a)"
   ]
  },
  {
   "cell_type": "markdown",
   "id": "dc1697c0",
   "metadata": {},
   "source": [
    "### 11.4.8 del로 슬라이스 삭제하기"
   ]
  },
  {
   "cell_type": "code",
   "execution_count": 97,
   "id": "c42674ee",
   "metadata": {},
   "outputs": [
    {
     "name": "stdout",
     "output_type": "stream",
     "text": [
      "[0, 10, 20, 30, 40, 50, 60, 70, 80, 90]\n",
      "[0, 10, 50, 60, 70, 80, 90]\n"
     ]
    }
   ],
   "source": [
    "a = list(range(0,100,10))\n",
    "print(a)\n",
    "del a[2:5]\n",
    "print(a)"
   ]
  },
  {
   "cell_type": "markdown",
   "id": "dda5050b",
   "metadata": {},
   "source": [
    "## 11.5. 퀴즈"
   ]
  },
  {
   "cell_type": "markdown",
   "id": "ed3774d2",
   "metadata": {},
   "source": [
    "문제가 이해되지 않음.\n",
    "\n",
    "1. 다음 중 시퀀스 자료형에 대한 설명으로 잘못된 것을 모두 고르세요.\n",
    "\n",
    " - (a, 틀림) in 연산자는 시퀀스 객체 안에 특정 값이 없는지 확인한다.\n",
    " - (b, 맞음) range는 * 연산자로 반복할 수 없다.\n",
    " - (c, 맞음) 문자열 str은 시퀀스 자료형이다.\n",
    " - (d, 틀림) \\+ 연산자로 두 시퀀스 객체를 연결하면 첫 번째 객체 안에 두 번째 객체가 들어간다.\n",
    " - (e, 맞음) len 함수는 시퀀스 객체에 들어있는 요소 개수를 구한다.\n",
    "\n"
   ]
  },
  {
   "cell_type": "markdown",
   "id": "4a23deab",
   "metadata": {},
   "source": [
    "위의 선지 a가 틀린 이유는 아래 코드에서 볼 수 있을 것 같다.\n",
    "시퀀스 객체란 리스트, 튜플, `range`, 문자열 등을 뜻한다.\n",
    "그런데 리스트와 튜플, `range`의 경우 (`a`,`b`,`d`) `in`이 잘 작동하지만 문자열에서는 작동하지 않는 것처럼 보인다.\n",
    "한편, `in` 명령은 set에서도 작동된다."
   ]
  },
  {
   "cell_type": "code",
   "execution_count": 108,
   "id": "eec06eb2",
   "metadata": {},
   "outputs": [
    {
     "name": "stdout",
     "output_type": "stream",
     "text": [
      "[1, 2, 3]\n",
      "(1, 2, 3)\n",
      "{1, 2, 3}\n",
      "range(1, 4)\n",
      "123\n",
      "True\n",
      "True\n",
      "True\n",
      "True\n"
     ]
    }
   ],
   "source": [
    "a=[1,2,3]\n",
    "b=(1,2,3)\n",
    "c={1,2,3}\n",
    "d=range(1,4)\n",
    "e='123'\n",
    "print(a)\n",
    "print(b)\n",
    "print(c)\n",
    "print(d)\n",
    "print(e)\n",
    "print(1 in a)\n",
    "print(1 in b)\n",
    "print(1 in c)\n",
    "print(1 in d)\n",
    "print(1 in e) # string은 안되는 것 같다."
   ]
  },
  {
   "cell_type": "markdown",
   "id": "3635979e",
   "metadata": {},
   "source": [
    "## 11.6. 연습문제"
   ]
  },
  {
   "cell_type": "markdown",
   "id": "5009daac",
   "metadata": {},
   "source": [
    "## 11.7. 연습문제"
   ]
  },
  {
   "cell_type": "markdown",
   "id": "0d51ac0e",
   "metadata": {},
   "source": [
    "## 11.8. 심사문제"
   ]
  },
  {
   "cell_type": "code",
   "execution_count": 125,
   "id": "527cf1de",
   "metadata": {},
   "outputs": [
    {
     "name": "stdout",
     "output_type": "stream",
     "text": [
      "1 2 3 4 5 6 7\n",
      "['1', '2', '3', '4', '5', '6', '7']\n",
      "['1', '2']\n",
      "('1', '2')\n"
     ]
    }
   ],
   "source": [
    "x = input().split()\n",
    "x = x[:len(x)-5]\n",
    "x = tuple(x)\n",
    "print(x)"
   ]
  },
  {
   "cell_type": "markdown",
   "id": "0eb7215f",
   "metadata": {},
   "source": [
    "## 11.9. 심사문제"
   ]
  },
  {
   "cell_type": "code",
   "execution_count": 115,
   "id": "c29c4208",
   "metadata": {},
   "outputs": [
    {
     "data": {
      "text/plain": [
       "[1, 3, 5, 6]"
      ]
     },
     "execution_count": 115,
     "metadata": {},
     "output_type": "execute_result"
    }
   ],
   "source": [
    "a=[1,3]\n",
    "b=[5,6]\n",
    "a+b"
   ]
  },
  {
   "cell_type": "code",
   "execution_count": 117,
   "id": "75ae5aaf",
   "metadata": {},
   "outputs": [
    {
     "name": "stdout",
     "output_type": "stream",
     "text": [
      "[1, 3, 5, 7, 9]\n",
      "[0, 2, 4, 6, 8]\n"
     ]
    }
   ],
   "source": [
    "a=list(range(10))\n",
    "print(a[1::2])\n",
    "print(a[0::2])"
   ]
  },
  {
   "cell_type": "code",
   "execution_count": 126,
   "id": "2c483644",
   "metadata": {},
   "outputs": [
    {
     "name": "stdout",
     "output_type": "stream",
     "text": [
      "python\n",
      "python\n",
      "yhnpto\n"
     ]
    }
   ],
   "source": [
    "a = input()\n",
    "b = input()\n",
    "print(a[1::2]+b[0::2])"
   ]
  },
  {
   "cell_type": "markdown",
   "id": "4b0e1469",
   "metadata": {},
   "source": [
    "## 11. 10* 스스로 만든 문제"
   ]
  },
  {
   "cell_type": "markdown",
   "id": "638b8ea0",
   "metadata": {},
   "source": [
    "문제1\n",
    "```\n",
    "h='hello'\n",
    "w='world'\n",
    "print(h+w)\n",
    "print(h,w)\n",
    "```"
   ]
  },
  {
   "cell_type": "markdown",
   "id": "a61cfcf4",
   "metadata": {},
   "source": [
    "문제2\n",
    "```\n",
    "a = list(range(5))\n",
    "print(a[1])\n",
    "print(a.__getitem__(1))\n",
    "print(a[1]==a.__getitem__(1))\n",
    "```"
   ]
  },
  {
   "cell_type": "markdown",
   "id": "8b2cd901",
   "metadata": {},
   "source": [
    "문제3\n",
    "```\n",
    "a= list(range(5))\n",
    "print(a)\n",
    "print(a[4])\n",
    "print(a[9])\n",
    "print(a[-1])\n",
    "print(a[len(a)-1])\n",
    "```\n"
   ]
  },
  {
   "cell_type": "markdown",
   "id": "27e4298d",
   "metadata": {},
   "source": [
    "**문제4) 다음 중 값이 다르게 나오는 하나를 고르시오.**\n",
    "```\n",
    "a = list(range(0,100,10))\n",
    "print(a)\n",
    "print(a[:])\n",
    "print(a[0:])\n",
    "print(a[0:-1])\n",
    "print(a[::])\n",
    "print(a[0::1])\n",
    "```"
   ]
  },
  {
   "cell_type": "code",
   "execution_count": 191,
   "id": "426cc610",
   "metadata": {},
   "outputs": [
    {
     "name": "stdout",
     "output_type": "stream",
     "text": [
      "[0, 10, 20, 30, 40, 50, 60, 70, 80, 90]\n",
      "[0, 10, 20, 30, 40, 50, 60, 70, 80, 90]\n",
      "[0, 10, 20, 30, 40, 50, 60, 70, 80, 90]\n",
      "[0, 10, 20, 30, 40, 50, 60, 70, 80]\n",
      "[0, 10, 20, 30, 40, 50, 60, 70, 80, 90]\n",
      "[0, 10, 20, 30, 40, 50, 60, 70, 80, 90]\n"
     ]
    }
   ],
   "source": [
    "a = list(range(0,100,10))\n",
    "print(a)\n",
    "print(a[:])\n",
    "print(a[0:])\n",
    "print(a[0:-1])\n",
    "print(a[::])\n",
    "print(a[0::1])"
   ]
  }
 ],
 "metadata": {
  "kernelspec": {
   "display_name": "Python 3 (ipykernel)",
   "language": "python",
   "name": "python3"
  },
  "language_info": {
   "codemirror_mode": {
    "name": "ipython",
    "version": 3
   },
   "file_extension": ".py",
   "mimetype": "text/x-python",
   "name": "python",
   "nbconvert_exporter": "python",
   "pygments_lexer": "ipython3",
   "version": "3.9.7"
  }
 },
 "nbformat": 4,
 "nbformat_minor": 5
}
