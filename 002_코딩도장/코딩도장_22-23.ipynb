{
 "cells": [
  {
   "cell_type": "markdown",
   "id": "3f90499d",
   "metadata": {},
   "source": [
    "# 22. 리스트와 튜플 응용하기"
   ]
  },
  {
   "cell_type": "markdown",
   "id": "34793b15",
   "metadata": {},
   "source": [
    "|명령어|설명|구분|반환여부|문법|equivalent to|튜플에서의 호환|\n",
    "|:----:|:--:|:---:|:--:|:--:|:-:|:-:|\n",
    "|append|요소 하나를 추가|list의 method|반환하지 않음|*lst*.append(*ele*)|*lst*.insert(len(*lst*),*ele*)|x|\n",
    "|extend|리스트를 연결하여 확장|list의 method|반환하지 않음|*lst*.extend(*lst*)|*lst*+*lst*|x|\n",
    "|insert|특정 인덱스에 요소 추가|list의 method|반환하지 않음|*lst*.insert(*n*,*ele*)||x|\n",
    "|pop|특정 인덱스의 요소를 삭제|list의 method|반환(삭제된 요소)|*lst*.pop(*n*)||x|\n",
    "|remove|특정 값을 찾아서 삭제|list의 method|반환하지 않음|*lst*.remove(*ele*)||x|\n",
    "|index|특정 값의 인덱스 출력|list의 method|반환(해당 인덱스)|*lst*.index(*ele*)||o|\n",
    "|count|특정 값의 개수 출력|list의 method|반환(해당 개수)|*lst*.count(*ele*)||o|\n",
    "|reverse|요소들의 순서를 반전|list의 method|반환하지 않음|*lst*.reverse()||x|\n",
    "|sort|요소들을 정렬|list의 method|반환하지 않음|*lst*.sort()||x|\n",
    "|clear|모든 요소들을 삭제|list의 method|반환하지 않음|*lst*.clear()||x|\n",
    "|copy|복사|list의 method|반환하지 않음|*lst*.copy()||x|\n",
    "|min|최솟값|python의 함수|반환(최솟값)|*lst*.min()||o|\n",
    "|max|최댓값|python의 함수|반환(최댓값)|*lst*.max()||o|\n",
    "|sum|합계|python의 함수|반환(합계)|*lst*.sum()||o|\n"
   ]
  },
  {
   "cell_type": "code",
   "execution_count": 115,
   "id": "37cb66a6",
   "metadata": {},
   "outputs": [
    {
     "ename": "AttributeError",
     "evalue": "'tuple' object has no attribute 'copy'",
     "output_type": "error",
     "traceback": [
      "\u001b[0;31m---------------------------------------------------------------------------\u001b[0m",
      "\u001b[0;31mAttributeError\u001b[0m                            Traceback (most recent call last)",
      "\u001b[0;32m/tmp/ipykernel_33/3797214266.py\u001b[0m in \u001b[0;36m<module>\u001b[0;34m\u001b[0m\n\u001b[1;32m      1\u001b[0m \u001b[0ma\u001b[0m \u001b[0;34m=\u001b[0m \u001b[0;34m(\u001b[0m\u001b[0;36m2\u001b[0m\u001b[0;34m,\u001b[0m\u001b[0;36m3\u001b[0m\u001b[0;34m,\u001b[0m\u001b[0;36m4\u001b[0m\u001b[0;34m)\u001b[0m\u001b[0;34m\u001b[0m\u001b[0;34m\u001b[0m\u001b[0m\n\u001b[0;32m----> 2\u001b[0;31m \u001b[0mb\u001b[0m\u001b[0;34m=\u001b[0m\u001b[0ma\u001b[0m\u001b[0;34m.\u001b[0m\u001b[0mcopy\u001b[0m\u001b[0;34m(\u001b[0m\u001b[0;34m)\u001b[0m\u001b[0;34m\u001b[0m\u001b[0;34m\u001b[0m\u001b[0m\n\u001b[0m",
      "\u001b[0;31mAttributeError\u001b[0m: 'tuple' object has no attribute 'copy'"
     ]
    }
   ],
   "source": [
    "a = (2,3,4)\n",
    "b=a.copy()"
   ]
  },
  {
   "cell_type": "markdown",
   "id": "5da2bf5f",
   "metadata": {},
   "source": [
    "## 22.1. 리스트 조작하기"
   ]
  },
  {
   "cell_type": "markdown",
   "id": "aa6650e1",
   "metadata": {},
   "source": [
    "- append : 요소 하나를 추가\n",
    "- extend : 리스트를 연결하여 확장\n",
    "- insert : 특정 인덱스에 요소 추가\n",
    "- pop : 마지막 요소 또는 특정 인덱스의 요소를 삭제"
   ]
  },
  {
   "cell_type": "markdown",
   "id": "d0d611ab",
   "metadata": {},
   "source": [
    "### 22.1.1. 리스트에 요소 추가하기"
   ]
  },
  {
   "cell_type": "markdown",
   "id": "50bbcdff",
   "metadata": {},
   "source": [
    "### 22.1.2. 리스트에 요소 하나 추가하기 (append)"
   ]
  },
  {
   "cell_type": "code",
   "execution_count": 1,
   "id": "f5992a2d",
   "metadata": {},
   "outputs": [
    {
     "name": "stdout",
     "output_type": "stream",
     "text": [
      "[10, 20, 30, 500]\n"
     ]
    }
   ],
   "source": [
    "a = [10, 20, 30]\n",
    "a.append(500)\n",
    "print(a)"
   ]
  },
  {
   "cell_type": "code",
   "execution_count": 7,
   "id": "09e789db",
   "metadata": {},
   "outputs": [
    {
     "name": "stdout",
     "output_type": "stream",
     "text": [
      "[10, 20, 30, 500]\n"
     ]
    }
   ],
   "source": [
    "a = [10, 20, 30]\n",
    "a.insert(len(a),500)\n",
    "print(a)"
   ]
  },
  {
   "cell_type": "markdown",
   "id": "40ed09b0",
   "metadata": {},
   "source": [
    "### 22.1.3. 리스트 안에 리스트 추가하기 (append)"
   ]
  },
  {
   "cell_type": "code",
   "execution_count": 2,
   "id": "d77d6749",
   "metadata": {
    "scrolled": true
   },
   "outputs": [
    {
     "name": "stdout",
     "output_type": "stream",
     "text": [
      "[10, 20, 30, [500, 600]]\n"
     ]
    }
   ],
   "source": [
    "a = [10, 20, 30]\n",
    "a.append([500,600])\n",
    "print(a)"
   ]
  },
  {
   "cell_type": "markdown",
   "id": "028d8135",
   "metadata": {},
   "source": [
    "### 22.1.4. 리스트 확장하기"
   ]
  },
  {
   "cell_type": "code",
   "execution_count": 3,
   "id": "47ff4731",
   "metadata": {},
   "outputs": [
    {
     "name": "stdout",
     "output_type": "stream",
     "text": [
      "[10, 20, 30, 500, 600]\n"
     ]
    }
   ],
   "source": [
    "a= [10,20,30]\n",
    "a.extend([500,600])\n",
    "print(a)"
   ]
  },
  {
   "cell_type": "code",
   "execution_count": 4,
   "id": "7cc274d8",
   "metadata": {
    "scrolled": true
   },
   "outputs": [
    {
     "name": "stdout",
     "output_type": "stream",
     "text": [
      "[10, 20, 30, 500, 600]\n"
     ]
    }
   ],
   "source": [
    "a= [10,20,30]\n",
    "a = a + [500,600]\n",
    "print(a)"
   ]
  },
  {
   "cell_type": "code",
   "execution_count": 8,
   "id": "e3644419",
   "metadata": {},
   "outputs": [
    {
     "name": "stdout",
     "output_type": "stream",
     "text": [
      "[10, 20, 30, 500, 600]\n"
     ]
    }
   ],
   "source": [
    "a= [10,20,30]\n",
    "a[len(a):len(a)] = [500,600]\n",
    "print(a)"
   ]
  },
  {
   "cell_type": "markdown",
   "id": "0c02c4d8",
   "metadata": {},
   "source": [
    "### 22.1.5. 리스트의 특정 인덱스에 요소 추가하기"
   ]
  },
  {
   "cell_type": "code",
   "execution_count": 6,
   "id": "d77f3ae0",
   "metadata": {},
   "outputs": [
    {
     "name": "stdout",
     "output_type": "stream",
     "text": [
      "[10, 20, 500, 30]\n"
     ]
    }
   ],
   "source": [
    "a = [10,20,30]\n",
    "a.insert(2,500)\n",
    "print(a)"
   ]
  },
  {
   "cell_type": "markdown",
   "id": "27d9d96f",
   "metadata": {},
   "source": [
    "### 22.1.6. 리스트에서 요소 삭제하기"
   ]
  },
  {
   "cell_type": "markdown",
   "id": "4554be32",
   "metadata": {},
   "source": [
    "### 22.1.7. 리스트에서 특정 인덱스의 요소를 삭제하기"
   ]
  },
  {
   "cell_type": "code",
   "execution_count": 9,
   "id": "658e7421",
   "metadata": {},
   "outputs": [
    {
     "name": "stdout",
     "output_type": "stream",
     "text": [
      "[10, 20]\n"
     ]
    }
   ],
   "source": [
    "a = [10, 20, 30]\n",
    "a.pop()\n",
    "print(a)"
   ]
  },
  {
   "cell_type": "code",
   "execution_count": 10,
   "id": "07f2f447",
   "metadata": {},
   "outputs": [
    {
     "name": "stdout",
     "output_type": "stream",
     "text": [
      "[10, 30]\n"
     ]
    }
   ],
   "source": [
    "a = [10, 20, 30]\n",
    "a.pop(1)\n",
    "print(a)"
   ]
  },
  {
   "cell_type": "markdown",
   "id": "295c85ca",
   "metadata": {},
   "source": [
    "### 22.1.8. 리스트에서 특정 값을 찾아서 삭제하기"
   ]
  },
  {
   "cell_type": "code",
   "execution_count": 11,
   "id": "166accd2",
   "metadata": {},
   "outputs": [
    {
     "name": "stdout",
     "output_type": "stream",
     "text": [
      "[10, 30]\n"
     ]
    }
   ],
   "source": [
    "a = [10, 20, 30]\n",
    "a.remove(20)\n",
    "print(a)"
   ]
  },
  {
   "cell_type": "markdown",
   "id": "fabe5cea",
   "metadata": {},
   "source": [
    "### 22.1.9. 리스트에서 특정 값의 인덱스 구하기"
   ]
  },
  {
   "cell_type": "code",
   "execution_count": 14,
   "id": "bde7de14",
   "metadata": {},
   "outputs": [
    {
     "name": "stdout",
     "output_type": "stream",
     "text": [
      "1\n"
     ]
    }
   ],
   "source": [
    "a = [10, 20, 30, 15, 20, 40]\n",
    "print(a.index(20))"
   ]
  },
  {
   "cell_type": "markdown",
   "id": "35dbced4",
   "metadata": {},
   "source": [
    "### 22.1.10 특정 값의 개수 구하기"
   ]
  },
  {
   "cell_type": "code",
   "execution_count": 15,
   "id": "07d45233",
   "metadata": {},
   "outputs": [
    {
     "name": "stdout",
     "output_type": "stream",
     "text": [
      "2\n"
     ]
    }
   ],
   "source": [
    "a = [10,20,30,15,20,40]\n",
    "print(a.count(20))"
   ]
  },
  {
   "cell_type": "markdown",
   "id": "685ba952",
   "metadata": {},
   "source": [
    "### 22.1.11. 리스트의 순서를 뒤집기"
   ]
  },
  {
   "cell_type": "code",
   "execution_count": 16,
   "id": "5bbaeb95",
   "metadata": {},
   "outputs": [
    {
     "name": "stdout",
     "output_type": "stream",
     "text": [
      "[40, 20, 15, 30, 20, 10]\n"
     ]
    }
   ],
   "source": [
    "a = [10,20,30,15,20,40]\n",
    "a.reverse()\n",
    "print(a)"
   ]
  },
  {
   "cell_type": "markdown",
   "id": "fc7cf682",
   "metadata": {},
   "source": [
    "### 22.1.12. 리스트의 요소를 정렬하기"
   ]
  },
  {
   "cell_type": "code",
   "execution_count": 17,
   "id": "1fc13126",
   "metadata": {},
   "outputs": [
    {
     "name": "stdout",
     "output_type": "stream",
     "text": [
      "[10, 15, 20, 20, 30, 40]\n"
     ]
    }
   ],
   "source": [
    "a = [10,20,30,15,20,40]\n",
    "a.sort()\n",
    "print(a)"
   ]
  },
  {
   "cell_type": "markdown",
   "id": "b5585cf5",
   "metadata": {},
   "source": [
    "### 22.1.13. 리스트의 모든 요소를 삭제하기"
   ]
  },
  {
   "cell_type": "code",
   "execution_count": 21,
   "id": "1343ba77",
   "metadata": {},
   "outputs": [
    {
     "name": "stdout",
     "output_type": "stream",
     "text": [
      "[]\n"
     ]
    }
   ],
   "source": [
    "a = [10, 20, 30]\n",
    "a.clear()\n",
    "print(a)"
   ]
  },
  {
   "cell_type": "markdown",
   "id": "45937e7c",
   "metadata": {},
   "source": [
    "### 22.1.14. 리스트를 슬라이스로 조작하기"
   ]
  },
  {
   "cell_type": "code",
   "execution_count": 22,
   "id": "97884103",
   "metadata": {},
   "outputs": [
    {
     "name": "stdout",
     "output_type": "stream",
     "text": [
      "[10, 20, 30, 500, 600]\n"
     ]
    }
   ],
   "source": [
    "a = [10, 20, 30]\n",
    "a[len(a):] = [500,600]\n",
    "print(a)"
   ]
  },
  {
   "cell_type": "markdown",
   "id": "abcda4e0",
   "metadata": {},
   "source": [
    "## 22.2. 리스트의 할당과 복사 알아보기"
   ]
  },
  {
   "cell_type": "markdown",
   "id": "42c61887",
   "metadata": {},
   "source": [
    "할당"
   ]
  },
  {
   "cell_type": "code",
   "execution_count": 23,
   "id": "9c303aa4",
   "metadata": {},
   "outputs": [],
   "source": [
    "a = [0, 0, 0, 0, 0]\n",
    "b = a"
   ]
  },
  {
   "cell_type": "code",
   "execution_count": 24,
   "id": "fd13c22c",
   "metadata": {
    "scrolled": true
   },
   "outputs": [
    {
     "name": "stdout",
     "output_type": "stream",
     "text": [
      "True\n",
      "True\n"
     ]
    }
   ],
   "source": [
    "print(b == a)\n",
    "print(b is a)"
   ]
  },
  {
   "cell_type": "code",
   "execution_count": 25,
   "id": "767211fc",
   "metadata": {},
   "outputs": [
    {
     "name": "stdout",
     "output_type": "stream",
     "text": [
      "[0, 0, 99, 0, 0] [0, 0, 99, 0, 0]\n"
     ]
    }
   ],
   "source": [
    "b[2]=99\n",
    "print(a,b)"
   ]
  },
  {
   "cell_type": "markdown",
   "id": "3875a201",
   "metadata": {},
   "source": [
    "복사"
   ]
  },
  {
   "cell_type": "code",
   "execution_count": 29,
   "id": "d7e58ea8",
   "metadata": {},
   "outputs": [],
   "source": [
    "a = [0, 0, 0, 0, 0]\n",
    "b = a.copy()"
   ]
  },
  {
   "cell_type": "code",
   "execution_count": 30,
   "id": "5a20c957",
   "metadata": {
    "scrolled": true
   },
   "outputs": [
    {
     "name": "stdout",
     "output_type": "stream",
     "text": [
      "True\n",
      "False\n"
     ]
    }
   ],
   "source": [
    "print(b == a)\n",
    "print(b is a)"
   ]
  },
  {
   "cell_type": "code",
   "execution_count": 31,
   "id": "8698dd91",
   "metadata": {},
   "outputs": [
    {
     "name": "stdout",
     "output_type": "stream",
     "text": [
      "[0, 0, 0, 0, 0] [0, 0, 0, 0, 0]\n"
     ]
    }
   ],
   "source": [
    "c[2]=99\n",
    "print(a,b)"
   ]
  },
  {
   "cell_type": "markdown",
   "id": "de7daa37",
   "metadata": {},
   "source": [
    "## 22.3. 반복문으로 리스트의 요소를 모두 출력하기"
   ]
  },
  {
   "cell_type": "markdown",
   "id": "6b64ab62",
   "metadata": {},
   "source": [
    "### 22.3.1. for 반복문으로 요소 출력하기"
   ]
  },
  {
   "cell_type": "code",
   "execution_count": 33,
   "id": "8374b3d2",
   "metadata": {},
   "outputs": [
    {
     "name": "stdout",
     "output_type": "stream",
     "text": [
      "38\n",
      "21\n",
      "53\n",
      "62\n",
      "19\n"
     ]
    }
   ],
   "source": [
    "a = [38, 21, 53, 62, 19]\n",
    "for i in a:\n",
    "    print(i)"
   ]
  },
  {
   "cell_type": "markdown",
   "id": "16f44cd6",
   "metadata": {},
   "source": [
    "### 22.3.2. 인덱스와 요소를 함께 출력하기"
   ]
  },
  {
   "cell_type": "code",
   "execution_count": 34,
   "id": "35cee97c",
   "metadata": {},
   "outputs": [
    {
     "name": "stdout",
     "output_type": "stream",
     "text": [
      "0 38\n",
      "1 21\n",
      "2 53\n",
      "3 62\n",
      "4 19\n"
     ]
    }
   ],
   "source": [
    "a = [38, 21, 53, 62, 19]\n",
    "for index,value in enumerate(a):\n",
    "    print(index,value)"
   ]
  },
  {
   "cell_type": "code",
   "execution_count": 36,
   "id": "3eeb6195",
   "metadata": {},
   "outputs": [
    {
     "name": "stdout",
     "output_type": "stream",
     "text": [
      "<enumerate object at 0x7f7ec0406480>\n",
      "[(0, 38), (1, 21), (2, 53), (3, 62), (4, 19)]\n"
     ]
    }
   ],
   "source": [
    "print(enumerate(a))\n",
    "print(list(enumerate(a)))"
   ]
  },
  {
   "cell_type": "markdown",
   "id": "d9eb3bee",
   "metadata": {},
   "source": [
    "### 22.3.3. while 반복문으로 요소 출력하기"
   ]
  },
  {
   "cell_type": "code",
   "execution_count": 37,
   "id": "27251c05",
   "metadata": {},
   "outputs": [
    {
     "name": "stdout",
     "output_type": "stream",
     "text": [
      "38\n",
      "21\n",
      "53\n",
      "62\n",
      "19\n"
     ]
    }
   ],
   "source": [
    "a = [38, 21, 53, 62, 19]\n",
    "i = 0\n",
    "while i < len((a)):\n",
    "    print(a[i])\n",
    "    i+=1"
   ]
  },
  {
   "cell_type": "markdown",
   "id": "001d858e",
   "metadata": {},
   "source": [
    "## 22.4. 리스트의 가장 작은 수, 가장 큰 수, 합계 구하기"
   ]
  },
  {
   "cell_type": "code",
   "execution_count": 38,
   "id": "cd727ce7",
   "metadata": {},
   "outputs": [
    {
     "name": "stdout",
     "output_type": "stream",
     "text": [
      "19\n"
     ]
    }
   ],
   "source": [
    "a = [38, 21, 53, 62, 19]\n",
    "smallest = a[0]\n",
    "for i in a:\n",
    "    if i< smallest:\n",
    "        smallest = i\n",
    "print(smallest)"
   ]
  },
  {
   "cell_type": "code",
   "execution_count": 39,
   "id": "a92b412b",
   "metadata": {},
   "outputs": [
    {
     "name": "stdout",
     "output_type": "stream",
     "text": [
      "19\n"
     ]
    }
   ],
   "source": [
    "a = [38, 21, 53, 62, 19]\n",
    "a.sort()\n",
    "print(a[0])"
   ]
  },
  {
   "cell_type": "code",
   "execution_count": 40,
   "id": "3f8470cf",
   "metadata": {},
   "outputs": [
    {
     "name": "stdout",
     "output_type": "stream",
     "text": [
      "19\n"
     ]
    }
   ],
   "source": [
    "a = [38, 21, 53, 62, 19]\n",
    "print(min(a))"
   ]
  },
  {
   "cell_type": "markdown",
   "id": "86177e0e",
   "metadata": {},
   "source": [
    "### 22.4.2. 요소의 합계 구하기"
   ]
  },
  {
   "cell_type": "code",
   "execution_count": 41,
   "id": "c5169a4c",
   "metadata": {},
   "outputs": [
    {
     "name": "stdout",
     "output_type": "stream",
     "text": [
      "193\n"
     ]
    }
   ],
   "source": [
    "a = [38, 21, 53, 62, 19]\n",
    "x = 0\n",
    "for i in a:\n",
    "    x += i\n",
    "print(x)"
   ]
  },
  {
   "cell_type": "code",
   "execution_count": 42,
   "id": "7843f021",
   "metadata": {},
   "outputs": [
    {
     "name": "stdout",
     "output_type": "stream",
     "text": [
      "193\n"
     ]
    }
   ],
   "source": [
    "a = [38, 21, 53, 62, 19]\n",
    "print(sum(a))"
   ]
  },
  {
   "cell_type": "markdown",
   "id": "ce49cd1a",
   "metadata": {},
   "source": [
    "### 22.5. 리스트 표현식 사용하기"
   ]
  },
  {
   "cell_type": "markdown",
   "id": "37056c15",
   "metadata": {},
   "source": [
    "리스트 컴프리헨션 (list comprehension)"
   ]
  },
  {
   "cell_type": "code",
   "execution_count": 44,
   "id": "e14a6ff9",
   "metadata": {},
   "outputs": [
    {
     "name": "stdout",
     "output_type": "stream",
     "text": [
      "[0, 1, 2, 3, 4, 5, 6, 7, 8, 9]\n",
      "[0, 1, 2, 3, 4, 5, 6, 7, 8, 9]\n"
     ]
    }
   ],
   "source": [
    "a = [i for i in range(10)]\n",
    "print(a)\n",
    "b = list(i for i in range(10))\n",
    "print(b)"
   ]
  },
  {
   "cell_type": "code",
   "execution_count": 46,
   "id": "405b8586",
   "metadata": {},
   "outputs": [
    {
     "name": "stdout",
     "output_type": "stream",
     "text": [
      "[5, 6, 7, 8, 9, 10, 11, 12, 13, 14]\n",
      "[0, 2, 4, 6, 8, 10, 12, 14, 16, 18]\n"
     ]
    }
   ],
   "source": [
    "c = [i+5 for i in range(10)]\n",
    "print(c)\n",
    "d = list(i*2 for i in range(10))\n",
    "print(d)"
   ]
  },
  {
   "cell_type": "markdown",
   "id": "05efd51c",
   "metadata": {},
   "source": [
    "### 22.5.1. 리스트 표현식에서 if 조건문 사용하기"
   ]
  },
  {
   "cell_type": "code",
   "execution_count": 48,
   "id": "243e4e11",
   "metadata": {},
   "outputs": [
    {
     "name": "stdout",
     "output_type": "stream",
     "text": [
      "[0, 2, 4, 6, 8]\n"
     ]
    }
   ],
   "source": [
    "a = [i for i in range(10) if i % 2 == 0]\n",
    "print(a)"
   ]
  },
  {
   "cell_type": "markdown",
   "id": "789798c7",
   "metadata": {},
   "source": [
    "### 22.5.2. for 반복문과 if 조건문을 여러 번 사용하기"
   ]
  },
  {
   "cell_type": "code",
   "execution_count": 49,
   "id": "b2f9c293",
   "metadata": {},
   "outputs": [
    {
     "name": "stdout",
     "output_type": "stream",
     "text": [
      "[2, 4, 6, 8, 10, 12, 14, 16, 18, 3, 6, 9, 12, 15, 18, 21, 24, 27, 4, 8, 12, 16, 20, 24, 28, 32, 36, 5, 10, 15, 20, 25, 30, 35, 40, 45, 6, 12, 18, 24, 30, 36, 42, 48, 54, 7, 14, 21, 28, 35, 42, 49, 56, 63, 8, 16, 24, 32, 40, 48, 56, 64, 72, 9, 18, 27, 36, 45, 54, 63, 72, 81]\n"
     ]
    }
   ],
   "source": [
    "a = [i * j for j in range(2, 10) for i in range(1, 10)]\n",
    "print(a)"
   ]
  },
  {
   "cell_type": "code",
   "execution_count": 51,
   "id": "fe27505c",
   "metadata": {},
   "outputs": [
    {
     "name": "stdout",
     "output_type": "stream",
     "text": [
      "[2, 4, 6, 8, 10, 12, 14, 16, 18, 3, 6, 9, 12, 15, 18, 21, 24, 27, 4, 8, 12, 16, 20, 24, 28, 32, 36, 5, 10, 15, 20, 25, 30, 35, 40, 45, 6, 12, 18, 24, 30, 36, 42, 48, 54, 7, 14, 21, 28, 35, 42, 49, 56, 63, 8, 16, 24, 32, 40, 48, 56, 64, 72, 9, 18, 27, 36, 45, 54, 63, 72, 81]\n"
     ]
    }
   ],
   "source": [
    "a = [i * j for j in range(2, 10)\n",
    "           for i in range(1, 10)]\n",
    "print(a)"
   ]
  },
  {
   "cell_type": "markdown",
   "id": "d1490f43",
   "metadata": {},
   "source": [
    "## 22.6. 리스트에 map 사용하기"
   ]
  },
  {
   "cell_type": "code",
   "execution_count": 52,
   "id": "fccba49a",
   "metadata": {},
   "outputs": [
    {
     "name": "stdout",
     "output_type": "stream",
     "text": [
      "[1, 2, 3, 4]\n"
     ]
    }
   ],
   "source": [
    "a = [1.2, 2.5, 3.7, 4.6]\n",
    "for i in range(len(a)):\n",
    "    a[i] = int(a[i])\n",
    "print(a)"
   ]
  },
  {
   "cell_type": "code",
   "execution_count": 54,
   "id": "54935f24",
   "metadata": {},
   "outputs": [
    {
     "name": "stdout",
     "output_type": "stream",
     "text": [
      "[1, 2, 3, 4]\n"
     ]
    }
   ],
   "source": [
    "a = [1.2, 2.5, 3.7, 4.6]\n",
    "a = list(map(int, a))\n",
    "print(a)"
   ]
  },
  {
   "cell_type": "code",
   "execution_count": 56,
   "id": "b2d8dd01",
   "metadata": {},
   "outputs": [
    {
     "name": "stdout",
     "output_type": "stream",
     "text": [
      "['0', '1', '2', '3', '4', '5', '6', '7', '8', '9']\n"
     ]
    }
   ],
   "source": [
    "a = list(map(str, range(10)))\n",
    "print(a)"
   ]
  },
  {
   "cell_type": "markdown",
   "id": "21789f6b",
   "metadata": {},
   "source": [
    "### 22.6.1. input().split과 map"
   ]
  },
  {
   "cell_type": "code",
   "execution_count": 57,
   "id": "f1bcbc6e",
   "metadata": {},
   "outputs": [
    {
     "name": "stdout",
     "output_type": "stream",
     "text": [
      "10 20\n"
     ]
    }
   ],
   "source": [
    "a = input().split()"
   ]
  },
  {
   "cell_type": "code",
   "execution_count": 58,
   "id": "32dde888",
   "metadata": {},
   "outputs": [
    {
     "name": "stdout",
     "output_type": "stream",
     "text": [
      "<class 'list'>\n"
     ]
    }
   ],
   "source": [
    "print(type(a))"
   ]
  },
  {
   "cell_type": "code",
   "execution_count": 69,
   "id": "12f646b8",
   "metadata": {
    "scrolled": true
   },
   "outputs": [
    {
     "name": "stdout",
     "output_type": "stream",
     "text": [
      "1.5 3.2\n"
     ]
    },
    {
     "ename": "ValueError",
     "evalue": "invalid literal for int() with base 10: '1.5'",
     "output_type": "error",
     "traceback": [
      "\u001b[0;31m---------------------------------------------------------------------------\u001b[0m",
      "\u001b[0;31mValueError\u001b[0m                                Traceback (most recent call last)",
      "\u001b[0;32m/tmp/ipykernel_33/2391237026.py\u001b[0m in \u001b[0;36m<module>\u001b[0;34m\u001b[0m\n\u001b[1;32m      1\u001b[0m \u001b[0ma\u001b[0m \u001b[0;34m=\u001b[0m \u001b[0mmap\u001b[0m\u001b[0;34m(\u001b[0m\u001b[0mint\u001b[0m\u001b[0;34m,\u001b[0m\u001b[0minput\u001b[0m\u001b[0;34m(\u001b[0m\u001b[0;34m)\u001b[0m\u001b[0;34m.\u001b[0m\u001b[0msplit\u001b[0m\u001b[0;34m(\u001b[0m\u001b[0;34m)\u001b[0m\u001b[0;34m)\u001b[0m\u001b[0;34m\u001b[0m\u001b[0;34m\u001b[0m\u001b[0m\n\u001b[0;32m----> 2\u001b[0;31m \u001b[0mprint\u001b[0m\u001b[0;34m(\u001b[0m\u001b[0mlist\u001b[0m\u001b[0;34m(\u001b[0m\u001b[0ma\u001b[0m\u001b[0;34m)\u001b[0m\u001b[0;34m)\u001b[0m\u001b[0;34m\u001b[0m\u001b[0;34m\u001b[0m\u001b[0m\n\u001b[0m",
      "\u001b[0;31mValueError\u001b[0m: invalid literal for int() with base 10: '1.5'"
     ]
    }
   ],
   "source": [
    "a = map(int,input().split())\n",
    "print(list(a))"
   ]
  },
  {
   "cell_type": "markdown",
   "id": "7b484ff2",
   "metadata": {},
   "source": [
    "## 22.7. 튜플 응용하기"
   ]
  },
  {
   "cell_type": "markdown",
   "id": "2898e989",
   "metadata": {},
   "source": [
    "### 22.7.1. 튜플에서 특정 값의 인덱스 구하기"
   ]
  },
  {
   "cell_type": "code",
   "execution_count": 72,
   "id": "856004f9",
   "metadata": {},
   "outputs": [
    {
     "name": "stdout",
     "output_type": "stream",
     "text": [
      "2\n"
     ]
    }
   ],
   "source": [
    "a = (38, 21, 53, 62, 19, 53)\n",
    "print(a.index(53))"
   ]
  },
  {
   "cell_type": "markdown",
   "id": "a5e66a0f",
   "metadata": {},
   "source": [
    "### 22.7.2. 특정 값의 개수 구하기"
   ]
  },
  {
   "cell_type": "code",
   "execution_count": 73,
   "id": "853b05cc",
   "metadata": {},
   "outputs": [
    {
     "data": {
      "text/plain": [
       "2"
      ]
     },
     "execution_count": 73,
     "metadata": {},
     "output_type": "execute_result"
    }
   ],
   "source": [
    "a = (10, 20, 30, 15, 20, 40)\n",
    "a.count(20)"
   ]
  },
  {
   "cell_type": "markdown",
   "id": "88c8ccad",
   "metadata": {},
   "source": [
    "### 22.7.3. for 반복문으로 요소 출력하기"
   ]
  },
  {
   "cell_type": "code",
   "execution_count": 74,
   "id": "2e30736d",
   "metadata": {},
   "outputs": [
    {
     "name": "stdout",
     "output_type": "stream",
     "text": [
      "38 21 53 62 19 "
     ]
    }
   ],
   "source": [
    "a = (38, 21, 53, 62, 19)\n",
    "for i in a:\n",
    "    print(i, end=' ')"
   ]
  },
  {
   "cell_type": "markdown",
   "id": "7e6402f0",
   "metadata": {},
   "source": [
    "### 22.7.4. 튜플 표현식 사용하기"
   ]
  },
  {
   "cell_type": "code",
   "execution_count": 75,
   "id": "1e1aca87",
   "metadata": {},
   "outputs": [
    {
     "name": "stdout",
     "output_type": "stream",
     "text": [
      "(0, 2, 4, 6, 8)\n"
     ]
    }
   ],
   "source": [
    "a = tuple(i for i in range(10) if i % 2 == 0)\n",
    "print(a)"
   ]
  },
  {
   "cell_type": "markdown",
   "id": "59928b29",
   "metadata": {},
   "source": [
    "### 22.7.5. 튜플에 map 사용하기"
   ]
  },
  {
   "cell_type": "code",
   "execution_count": 77,
   "id": "a9f7add9",
   "metadata": {},
   "outputs": [
    {
     "name": "stdout",
     "output_type": "stream",
     "text": [
      "(1, 2, 3, 4)\n"
     ]
    }
   ],
   "source": [
    "a = (1.2, 2.5, 3.7, 4.6)\n",
    "a = tuple(map(int, a))\n",
    "print(a)"
   ]
  },
  {
   "cell_type": "markdown",
   "id": "43523dce",
   "metadata": {},
   "source": [
    "### 22.7.6.  튜플에서 가장 작은 수, 가장 큰 수, 합계 구하기"
   ]
  },
  {
   "cell_type": "code",
   "execution_count": 78,
   "id": "efd2e0c8",
   "metadata": {},
   "outputs": [
    {
     "name": "stdout",
     "output_type": "stream",
     "text": [
      "62 19 193\n"
     ]
    }
   ],
   "source": [
    "a = (38, 21, 53, 62, 19)\n",
    "print(max(a),min(a),sum(a))"
   ]
  },
  {
   "cell_type": "markdown",
   "id": "8e35720d",
   "metadata": {},
   "source": [
    "## 22.8. 퀴즈"
   ]
  },
  {
   "cell_type": "markdown",
   "id": "0f5c28f1",
   "metadata": {},
   "source": [
    "3번 문제"
   ]
  },
  {
   "cell_type": "code",
   "execution_count": 97,
   "id": "c5c76b2e",
   "metadata": {},
   "outputs": [
    {
     "name": "stdout",
     "output_type": "stream",
     "text": [
      "[1, 2, 3, 40]\n",
      "[1, 2, 3, 40]\n",
      "[1, 2, 3, 40]\n",
      "[1, 2, 40]\n"
     ]
    }
   ],
   "source": [
    "a = [1, 2, 3]\n",
    "a.append(40)\n",
    "print(a)\n",
    "\n",
    "a = [1, 2, 3]\n",
    "a.insert(len(a),40)\n",
    "print(a)\n",
    "\n",
    "# a = [1, 2, 3]\n",
    "# a[0:] = 40\n",
    "# print(a)\n",
    "\n",
    "# a = [1, 2, 3]\n",
    "# a[len(a):]=40\n",
    "# print(a)\n",
    "\n",
    "a = [1, 2, 3]\n",
    "a[len(a):]=[40]\n",
    "print(a)\n",
    "\n",
    "a = [1, 2, 3]\n",
    "a[-1:]=[40]\n",
    "print(a)"
   ]
  },
  {
   "cell_type": "markdown",
   "id": "108920b2",
   "metadata": {},
   "source": [
    "4번 문제"
   ]
  },
  {
   "cell_type": "code",
   "execution_count": 101,
   "id": "834d4319",
   "metadata": {},
   "outputs": [
    {
     "name": "stdout",
     "output_type": "stream",
     "text": [
      "(1, 4)\n",
      "5\n",
      "0\n",
      "1\n"
     ]
    }
   ],
   "source": [
    "a = (1,4)\n",
    "print(a[:])\n",
    "# print(a.pop())\n",
    "print(sum(a))\n",
    "print(a.count(10))\n",
    "print(min(a))"
   ]
  },
  {
   "cell_type": "markdown",
   "id": "2860295a",
   "metadata": {},
   "source": [
    "## 22.9. 연습문제"
   ]
  },
  {
   "cell_type": "markdown",
   "id": "0981ac35",
   "metadata": {},
   "source": [
    "## 22.10. 심사문제"
   ]
  },
  {
   "cell_type": "code",
   "execution_count": 123,
   "id": "3548b85f",
   "metadata": {},
   "outputs": [
    {
     "name": "stdout",
     "output_type": "stream",
     "text": [
      "1 5\n",
      "[2, 8, 32]\n"
     ]
    }
   ],
   "source": [
    "x,y = map(int,input().split())\n",
    "A = [2**i for i in range(x,y+1)]\n",
    "A.pop(1)\n",
    "A.pop(-2)\n",
    "print(A)"
   ]
  },
  {
   "cell_type": "markdown",
   "id": "baefa316",
   "metadata": {},
   "source": [
    "## 22.11*. 직접 만든 문제"
   ]
  },
  {
   "cell_type": "markdown",
   "id": "73f1ae47",
   "metadata": {},
   "source": [
    "(문제1)\n",
    "\n",
    "이 코드는 잘 돌아가는데 (\"1, 2\"를 입력하면 [1.0, 2.0]이 나온다.)"
   ]
  },
  {
   "cell_type": "code",
   "execution_count": 71,
   "id": "c9c0564e",
   "metadata": {},
   "outputs": [
    {
     "name": "stdout",
     "output_type": "stream",
     "text": [
      "1 2\n",
      "[1.0, 2.0]\n"
     ]
    }
   ],
   "source": [
    "a = map(float,input().split())\n",
    "print(list(a))"
   ]
  },
  {
   "cell_type": "markdown",
   "id": "58821216",
   "metadata": {},
   "source": [
    "이 코드는 돌아가지 않는다. (\"1.1, 2.1\"를 입력하면 [1, 2]이 나와야 할 것 같은데 그렇지 않다.)"
   ]
  },
  {
   "cell_type": "code",
   "execution_count": 146,
   "id": "b21a3de1",
   "metadata": {},
   "outputs": [
    {
     "name": "stdout",
     "output_type": "stream",
     "text": [
      "1.1 2.1\n"
     ]
    },
    {
     "ename": "ValueError",
     "evalue": "invalid literal for int() with base 10: '1.1'",
     "output_type": "error",
     "traceback": [
      "\u001b[0;31m---------------------------------------------------------------------------\u001b[0m",
      "\u001b[0;31mValueError\u001b[0m                                Traceback (most recent call last)",
      "\u001b[0;32m/tmp/ipykernel_33/2391237026.py\u001b[0m in \u001b[0;36m<module>\u001b[0;34m\u001b[0m\n\u001b[1;32m      1\u001b[0m \u001b[0ma\u001b[0m \u001b[0;34m=\u001b[0m \u001b[0mmap\u001b[0m\u001b[0;34m(\u001b[0m\u001b[0mint\u001b[0m\u001b[0;34m,\u001b[0m\u001b[0minput\u001b[0m\u001b[0;34m(\u001b[0m\u001b[0;34m)\u001b[0m\u001b[0;34m.\u001b[0m\u001b[0msplit\u001b[0m\u001b[0;34m(\u001b[0m\u001b[0;34m)\u001b[0m\u001b[0;34m)\u001b[0m\u001b[0;34m\u001b[0m\u001b[0;34m\u001b[0m\u001b[0m\n\u001b[0;32m----> 2\u001b[0;31m \u001b[0mprint\u001b[0m\u001b[0;34m(\u001b[0m\u001b[0mlist\u001b[0m\u001b[0;34m(\u001b[0m\u001b[0ma\u001b[0m\u001b[0;34m)\u001b[0m\u001b[0;34m)\u001b[0m\u001b[0;34m\u001b[0m\u001b[0;34m\u001b[0m\u001b[0m\n\u001b[0m",
      "\u001b[0;31mValueError\u001b[0m: invalid literal for int() with base 10: '1.1'"
     ]
    }
   ],
   "source": [
    "a = map(int,input().split())\n",
    "print(list(a))"
   ]
  },
  {
   "cell_type": "code",
   "execution_count": 147,
   "id": "80866b15",
   "metadata": {},
   "outputs": [
    {
     "name": "stdout",
     "output_type": "stream",
     "text": [
      "[1, 2]\n"
     ]
    }
   ],
   "source": [
    "a = [1.1, 2.1]\n",
    "a = map(int,a)\n",
    "print(list(a))"
   ]
  },
  {
   "cell_type": "markdown",
   "id": "c4c3ea84",
   "metadata": {},
   "source": [
    "(문제2)\n",
    "\n",
    "다음은 list들의 method들이다.\n",
    "이것들 중 tuple과 호환되는 것을 모두 골라라.\n",
    " - append\n",
    " - index\n",
    " - count\n",
    " - sort\n",
    " - min\n",
    " - max\n",
    " - sum"
   ]
  },
  {
   "cell_type": "code",
   "execution_count": 127,
   "id": "91ab82a0",
   "metadata": {},
   "outputs": [
    {
     "name": "stdout",
     "output_type": "stream",
     "text": [
      "[1, 2, 3, 4]\n"
     ]
    }
   ],
   "source": [
    "# append list\n",
    "a = [1,2,3]\n",
    "a.append(4)\n",
    "print(a)"
   ]
  },
  {
   "cell_type": "code",
   "execution_count": 126,
   "id": "b8712174",
   "metadata": {
    "collapsed": true
   },
   "outputs": [
    {
     "ename": "AttributeError",
     "evalue": "'tuple' object has no attribute 'append'",
     "output_type": "error",
     "traceback": [
      "\u001b[0;31m---------------------------------------------------------------------------\u001b[0m",
      "\u001b[0;31mAttributeError\u001b[0m                            Traceback (most recent call last)",
      "\u001b[0;32m/tmp/ipykernel_33/2020997711.py\u001b[0m in \u001b[0;36m<module>\u001b[0;34m\u001b[0m\n\u001b[1;32m      1\u001b[0m \u001b[0;31m# append tuple\u001b[0m\u001b[0;34m\u001b[0m\u001b[0;34m\u001b[0m\u001b[0m\n\u001b[1;32m      2\u001b[0m \u001b[0ma\u001b[0m \u001b[0;34m=\u001b[0m \u001b[0;34m(\u001b[0m\u001b[0;36m1\u001b[0m\u001b[0;34m,\u001b[0m\u001b[0;36m2\u001b[0m\u001b[0;34m,\u001b[0m\u001b[0;36m3\u001b[0m\u001b[0;34m)\u001b[0m\u001b[0;34m\u001b[0m\u001b[0;34m\u001b[0m\u001b[0m\n\u001b[0;32m----> 3\u001b[0;31m \u001b[0ma\u001b[0m\u001b[0;34m.\u001b[0m\u001b[0mappend\u001b[0m\u001b[0;34m(\u001b[0m\u001b[0;36m4\u001b[0m\u001b[0;34m)\u001b[0m\u001b[0;34m\u001b[0m\u001b[0;34m\u001b[0m\u001b[0m\n\u001b[0m\u001b[1;32m      4\u001b[0m \u001b[0mprint\u001b[0m\u001b[0;34m(\u001b[0m\u001b[0ma\u001b[0m\u001b[0;34m)\u001b[0m\u001b[0;34m\u001b[0m\u001b[0;34m\u001b[0m\u001b[0m\n",
      "\u001b[0;31mAttributeError\u001b[0m: 'tuple' object has no attribute 'append'"
     ]
    }
   ],
   "source": [
    "# append tuple\n",
    "a = (1,2,3)\n",
    "a.append(4)\n",
    "print(a)"
   ]
  },
  {
   "cell_type": "code",
   "execution_count": 127,
   "id": "8c80101f",
   "metadata": {},
   "outputs": [
    {
     "name": "stdout",
     "output_type": "stream",
     "text": [
      "[1, 2, 3, 4]\n"
     ]
    }
   ],
   "source": [
    "# index list\n",
    "a = [1,2,3]\n",
    "print(a.index(2))"
   ]
  },
  {
   "cell_type": "code",
   "execution_count": 129,
   "id": "c8d44d5c",
   "metadata": {},
   "outputs": [
    {
     "name": "stdout",
     "output_type": "stream",
     "text": [
      "1\n"
     ]
    }
   ],
   "source": [
    "# index tuple\n",
    "a = (1,2,3)\n",
    "print(a.index(2))"
   ]
  },
  {
   "cell_type": "code",
   "execution_count": 130,
   "id": "5da0cfd9",
   "metadata": {},
   "outputs": [
    {
     "name": "stdout",
     "output_type": "stream",
     "text": [
      "1\n"
     ]
    }
   ],
   "source": [
    "# count list\n",
    "a = [1,2,3]\n",
    "print(a.count(2))"
   ]
  },
  {
   "cell_type": "code",
   "execution_count": 131,
   "id": "4789d25d",
   "metadata": {},
   "outputs": [
    {
     "name": "stdout",
     "output_type": "stream",
     "text": [
      "1\n"
     ]
    }
   ],
   "source": [
    "# count tuple\n",
    "a = (1,2,3)\n",
    "print(a.count(2))"
   ]
  },
  {
   "cell_type": "code",
   "execution_count": 136,
   "id": "059d1f84",
   "metadata": {},
   "outputs": [
    {
     "name": "stdout",
     "output_type": "stream",
     "text": [
      "[1, 2, 3]\n"
     ]
    }
   ],
   "source": [
    "# sort list\n",
    "a = [1,2,3]\n",
    "a.sort()\n",
    "print(a)"
   ]
  },
  {
   "cell_type": "code",
   "execution_count": 137,
   "id": "4703685d",
   "metadata": {
    "collapsed": true
   },
   "outputs": [
    {
     "ename": "AttributeError",
     "evalue": "'tuple' object has no attribute 'sort'",
     "output_type": "error",
     "traceback": [
      "\u001b[0;31m---------------------------------------------------------------------------\u001b[0m",
      "\u001b[0;31mAttributeError\u001b[0m                            Traceback (most recent call last)",
      "\u001b[0;32m/tmp/ipykernel_33/520146287.py\u001b[0m in \u001b[0;36m<module>\u001b[0;34m\u001b[0m\n\u001b[1;32m      1\u001b[0m \u001b[0;31m# sort tuple\u001b[0m\u001b[0;34m\u001b[0m\u001b[0;34m\u001b[0m\u001b[0m\n\u001b[1;32m      2\u001b[0m \u001b[0ma\u001b[0m \u001b[0;34m=\u001b[0m \u001b[0;34m(\u001b[0m\u001b[0;36m1\u001b[0m\u001b[0;34m,\u001b[0m\u001b[0;36m2\u001b[0m\u001b[0;34m,\u001b[0m\u001b[0;36m3\u001b[0m\u001b[0;34m)\u001b[0m\u001b[0;34m\u001b[0m\u001b[0;34m\u001b[0m\u001b[0m\n\u001b[0;32m----> 3\u001b[0;31m \u001b[0ma\u001b[0m\u001b[0;34m.\u001b[0m\u001b[0msort\u001b[0m\u001b[0;34m(\u001b[0m\u001b[0;34m)\u001b[0m\u001b[0;34m\u001b[0m\u001b[0;34m\u001b[0m\u001b[0m\n\u001b[0m\u001b[1;32m      4\u001b[0m \u001b[0mprint\u001b[0m\u001b[0;34m(\u001b[0m\u001b[0ma\u001b[0m\u001b[0;34m)\u001b[0m\u001b[0;34m\u001b[0m\u001b[0;34m\u001b[0m\u001b[0m\n",
      "\u001b[0;31mAttributeError\u001b[0m: 'tuple' object has no attribute 'sort'"
     ]
    }
   ],
   "source": [
    "# sort tuple\n",
    "a = (1,2,3)\n",
    "a.sort()\n",
    "print(a)"
   ]
  },
  {
   "cell_type": "code",
   "execution_count": 141,
   "id": "90627423",
   "metadata": {},
   "outputs": [
    {
     "name": "stdout",
     "output_type": "stream",
     "text": [
      "19\n"
     ]
    }
   ],
   "source": [
    "a = [38, 21, 53, 62, 19]\n",
    "print(min(a))"
   ]
  },
  {
   "cell_type": "code",
   "execution_count": 145,
   "id": "1a1d9eb1",
   "metadata": {},
   "outputs": [
    {
     "name": "stdout",
     "output_type": "stream",
     "text": [
      "1\n",
      "3\n",
      "6\n"
     ]
    }
   ],
   "source": [
    "# min-max-sum list\n",
    "a = [1,2,3]\n",
    "print(min(a))\n",
    "print(max(a))\n",
    "print(sum(a))"
   ]
  },
  {
   "cell_type": "code",
   "execution_count": 144,
   "id": "104fd382",
   "metadata": {},
   "outputs": [
    {
     "name": "stdout",
     "output_type": "stream",
     "text": [
      "1\n",
      "3\n",
      "6\n"
     ]
    }
   ],
   "source": [
    "# min-max-sum tuple\n",
    "a = (1,2,3)\n",
    "print(min(a))\n",
    "print(max(a))\n",
    "print(sum(a))"
   ]
  },
  {
   "cell_type": "markdown",
   "id": "8ebaf103",
   "metadata": {},
   "source": [
    "|명령어|설명|구분|반환여부|문법|equivalent to|튜플에서의 호환|\n",
    "|:----:|:--:|:---:|:--:|:--:|:-:|:-:|\n",
    "|append|요소 하나를 추가|list의 method|반환하지 않음|*lst*.append(*ele*)|*lst*.insert(len(*lst*),*ele*)|x|\n",
    "|extend|리스트를 연결하여 확장|list의 method|반환하지 않음|*lst*.extend(*lst*)|*lst*+*lst*|x|\n",
    "|insert|특정 인덱스에 요소 추가|list의 method|반환하지 않음|*lst*.insert(*n*,*ele*)||x|\n",
    "|pop|특정 인덱스의 요소를 삭제|list의 method|반환(삭제된 요소)|*lst*.pop(*n*)||x|\n",
    "|remove|특정 값을 찾아서 삭제|list의 method|반환하지 않음|*lst*.remove(*ele*)||x|\n",
    "|index|특정 값의 인덱스 출력|list의 method|반환(해당 인덱스)|*lst*.index(*ele*)||o|\n",
    "|count|특정 값의 개수 출력|list의 method|반환(해당 개수)|*lst*.count(*ele*)||o|\n",
    "|reverse|요소들의 순서를 반전|list의 method|반환하지 않음|*lst*.reverse()||x|\n",
    "|sort|요소들을 정렬|list의 method|반환하지 않음|*lst*.sort()||x|\n",
    "|clear|모든 요소들을 삭제|list의 method|반환하지 않음|*lst*.clear()||x|\n",
    "|copy|복사|list의 method|반환하지 않음|*lst*.copy()||x|\n",
    "|min|최솟값|python의 함수|반환(최솟값)|*lst*.min()||o|\n",
    "|max|최댓값|python의 함수|반환(최댓값)|*lst*.max()||o|\n",
    "|sum|합계|python의 함수|반환(합계)|*lst*.sum()||o|"
   ]
  },
  {
   "cell_type": "markdown",
   "id": "07bfe7a5",
   "metadata": {},
   "source": [
    "# 23. 2차원"
   ]
  },
  {
   "cell_type": "markdown",
   "id": "29400ab7",
   "metadata": {},
   "source": [
    "## 22.1. 리스트 조작하기"
   ]
  }
 ],
 "metadata": {
  "kernelspec": {
   "display_name": "Python 3 (ipykernel)",
   "language": "python",
   "name": "python3"
  },
  "language_info": {
   "codemirror_mode": {
    "name": "ipython",
    "version": 3
   },
   "file_extension": ".py",
   "mimetype": "text/x-python",
   "name": "python",
   "nbconvert_exporter": "python",
   "pygments_lexer": "ipython3",
   "version": "3.9.7"
  }
 },
 "nbformat": 4,
 "nbformat_minor": 5
}
