{
 "cells": [
  {
   "cell_type": "markdown",
   "id": "d12c37e5",
   "metadata": {},
   "source": [
    "# 4. 기본 문법 알아보기"
   ]
  },
  {
   "cell_type": "markdown",
   "id": "1706f023",
   "metadata": {},
   "source": [
    "## 4.1. 세미콜론"
   ]
  },
  {
   "cell_type": "code",
   "execution_count": 1,
   "id": "730f37e9",
   "metadata": {},
   "outputs": [
    {
     "name": "stdout",
     "output_type": "stream",
     "text": [
      "Hello, world!\n"
     ]
    }
   ],
   "source": [
    "print('Hello, world!')"
   ]
  },
  {
   "cell_type": "code",
   "execution_count": 2,
   "id": "55ded09e",
   "metadata": {},
   "outputs": [
    {
     "name": "stdout",
     "output_type": "stream",
     "text": [
      "Hello, world!\n",
      "1234\n"
     ]
    }
   ],
   "source": [
    "print('Hello, world!') ; print('1234')"
   ]
  },
  {
   "cell_type": "markdown",
   "id": "01f0fb8f",
   "metadata": {},
   "source": [
    "## 4.2. 주석"
   ]
  },
  {
   "cell_type": "markdown",
   "id": "eb44a511",
   "metadata": {},
   "source": [
    "### 4.2.1. 한 줄 주석"
   ]
  },
  {
   "cell_type": "code",
   "execution_count": 3,
   "id": "02d38618",
   "metadata": {},
   "outputs": [],
   "source": [
    "#print('Hello, world!')"
   ]
  },
  {
   "cell_type": "code",
   "execution_count": 5,
   "id": "745c1967",
   "metadata": {},
   "outputs": [
    {
     "name": "stdout",
     "output_type": "stream",
     "text": [
      "Hello, world\n"
     ]
    }
   ],
   "source": [
    "a = 1 + 2 #더하기\n",
    "print('Hello, world') #printf('1234567890')"
   ]
  },
  {
   "cell_type": "code",
   "execution_count": 6,
   "id": "06ad10ab",
   "metadata": {},
   "outputs": [
    {
     "name": "stdout",
     "output_type": "stream",
     "text": [
      "Hello, world!\n",
      "1234567890\n"
     ]
    }
   ],
   "source": [
    "print('Hello, world!')\n",
    "print('1234567890')"
   ]
  },
  {
   "cell_type": "markdown",
   "id": "d3ef689b",
   "metadata": {},
   "source": [
    "### 4.2.2. 블록 주석"
   ]
  },
  {
   "cell_type": "code",
   "execution_count": 8,
   "id": "0a39f18c",
   "metadata": {},
   "outputs": [
    {
     "name": "stdout",
     "output_type": "stream",
     "text": [
      "Hello, world!\n",
      "1234567890\n"
     ]
    }
   ],
   "source": [
    "print('Hello, world!')\n",
    "print('1234567890')"
   ]
  },
  {
   "cell_type": "code",
   "execution_count": 7,
   "id": "3b8519e5",
   "metadata": {},
   "outputs": [],
   "source": [
    "# print('Hello, world!')\n",
    "# print('1234567890')"
   ]
  },
  {
   "cell_type": "code",
   "execution_count": 9,
   "id": "47fa59f5",
   "metadata": {},
   "outputs": [],
   "source": [
    "# 단축키는 'Ctrl + /'"
   ]
  },
  {
   "cell_type": "markdown",
   "id": "e3d76eec",
   "metadata": {},
   "source": [
    "## 4.3. 들여쓰기"
   ]
  },
  {
   "cell_type": "code",
   "execution_count": 13,
   "id": "5a2f9996",
   "metadata": {},
   "outputs": [],
   "source": [
    "# 네 칸 들여쓰기 (tab)\n",
    "if a==0:\n",
    "    print('10입니다.')"
   ]
  },
  {
   "cell_type": "code",
   "execution_count": 14,
   "id": "61f0a7bc",
   "metadata": {},
   "outputs": [],
   "source": [
    "# 두 칸 들여쓰기 (마찬가지로 동작함)\n",
    "if a==0:\n",
    "  print('10입니다.')"
   ]
  },
  {
   "cell_type": "markdown",
   "id": "c5e67fd1",
   "metadata": {},
   "source": [
    "## 4.4. 코드 블록"
   ]
  },
  {
   "cell_type": "markdown",
   "id": "9bfe77ec",
   "metadata": {},
   "source": [
    " - 코드 블록은 특정한 동작을 위해서 코드가 모여 있는 상태를 뜻한다.\n",
    " - 들여쓰기를 기준으로 코드 블록을 구성한다.\n",
    " - 들여쓰기 칸 수가 같아야 한다."
   ]
  },
  {
   "cell_type": "code",
   "execution_count": 15,
   "id": "ae2a21d7",
   "metadata": {},
   "outputs": [],
   "source": [
    "if a == 10:\n",
    "      print('10')\n",
    "      print('입니다.')"
   ]
  },
  {
   "cell_type": "code",
   "execution_count": 16,
   "id": "7c40d58f",
   "metadata": {},
   "outputs": [],
   "source": [
    "if a == 10:\n",
    "  print('10')\n",
    "  print('입니다.')"
   ]
  },
  {
   "cell_type": "code",
   "execution_count": 18,
   "id": "e77c92af",
   "metadata": {},
   "outputs": [],
   "source": [
    "# 에러\n",
    "# if a == 10:\n",
    "#   print('10')\n",
    "#     print('입니다.')"
   ]
  },
  {
   "cell_type": "markdown",
   "id": "a2997359",
   "metadata": {},
   "source": [
    "## 4. 5*. 스스로 만든 퀴즈"
   ]
  },
  {
   "cell_type": "markdown",
   "id": "ff619896",
   "metadata": {},
   "source": [
    "다음 6개의 코드들이 작동하는지, 작동하지 않는지 판단해주세요."
   ]
  },
  {
   "cell_type": "code",
   "execution_count": 259,
   "id": "db90ed64",
   "metadata": {
    "scrolled": true
   },
   "outputs": [
    {
     "name": "stdout",
     "output_type": "stream",
     "text": [
      "1\n",
      "2\n",
      "3\n",
      "4\n",
      "5\n"
     ]
    }
   ],
   "source": [
    "#1 : 한 칸 indent\n",
    "a=0\n",
    "for i in range(5):\n",
    " a=a+1\n",
    " print(a)"
   ]
  },
  {
   "cell_type": "code",
   "execution_count": 260,
   "id": "5d998aa9",
   "metadata": {},
   "outputs": [
    {
     "name": "stdout",
     "output_type": "stream",
     "text": [
      "1\n",
      "2\n",
      "3\n",
      "4\n",
      "5\n"
     ]
    }
   ],
   "source": [
    "#2 : 두 칸 indent\n",
    "a=0\n",
    "for i in range(5):\n",
    "  a=a+1\n",
    "  print(a)"
   ]
  },
  {
   "cell_type": "code",
   "execution_count": 261,
   "id": "5a87afba",
   "metadata": {},
   "outputs": [
    {
     "name": "stdout",
     "output_type": "stream",
     "text": [
      "1\n",
      "2\n",
      "3\n",
      "4\n",
      "5\n"
     ]
    }
   ],
   "source": [
    "#3 : 세 칸 indent\n",
    "a=0\n",
    "for i in range(5):\n",
    "   a=a+1\n",
    "   print(a)"
   ]
  },
  {
   "cell_type": "code",
   "execution_count": 262,
   "id": "fa577aec",
   "metadata": {},
   "outputs": [
    {
     "name": "stdout",
     "output_type": "stream",
     "text": [
      "1\n",
      "2\n",
      "3\n",
      "4\n",
      "5\n"
     ]
    }
   ],
   "source": [
    "#4 : 네 칸 indent\n",
    "a=0\n",
    "for i in range(5):\n",
    "    a=a+1\n",
    "    print(a)"
   ]
  },
  {
   "cell_type": "code",
   "execution_count": 258,
   "id": "2575900e",
   "metadata": {},
   "outputs": [
    {
     "name": "stdout",
     "output_type": "stream",
     "text": [
      "1\n",
      "2\n",
      "3\n",
      "4\n",
      "5\n"
     ]
    }
   ],
   "source": [
    "#4 tab indent\n",
    "a=0\n",
    "for i in range(5):\n",
    "    a=a+1\n",
    "    print(a)"
   ]
  },
  {
   "cell_type": "code",
   "execution_count": 264,
   "id": "5c733696",
   "metadata": {},
   "outputs": [
    {
     "name": "stdout",
     "output_type": "stream",
     "text": [
      "1\n",
      "2\n",
      "3\n",
      "4\n",
      "5\n"
     ]
    }
   ],
   "source": [
    "#5 다섯 칸 indent\n",
    "a=0\n",
    "for i in range(5):\n",
    " a=a+1\n",
    " print(a)"
   ]
  },
  {
   "cell_type": "markdown",
   "id": "e2e81313",
   "metadata": {},
   "source": [
    "# 5. 숫자 계산하기"
   ]
  },
  {
   "cell_type": "markdown",
   "id": "59527213",
   "metadata": {},
   "source": [
    "## 5.1. 정수 계산하기"
   ]
  },
  {
   "cell_type": "markdown",
   "id": "856caf48",
   "metadata": {},
   "source": [
    "### 5.1.1 사칙연산"
   ]
  },
  {
   "cell_type": "code",
   "execution_count": 31,
   "id": "0cd84d0c",
   "metadata": {},
   "outputs": [
    {
     "data": {
      "text/plain": [
       "2"
      ]
     },
     "execution_count": 31,
     "metadata": {},
     "output_type": "execute_result"
    }
   ],
   "source": [
    "1+1"
   ]
  },
  {
   "cell_type": "code",
   "execution_count": 20,
   "id": "7228e1bf",
   "metadata": {},
   "outputs": [
    {
     "data": {
      "text/plain": [
       "-1"
      ]
     },
     "execution_count": 20,
     "metadata": {},
     "output_type": "execute_result"
    }
   ],
   "source": [
    "1-2"
   ]
  },
  {
   "cell_type": "code",
   "execution_count": 21,
   "id": "3b938d90",
   "metadata": {},
   "outputs": [
    {
     "data": {
      "text/plain": [
       "4"
      ]
     },
     "execution_count": 21,
     "metadata": {},
     "output_type": "execute_result"
    }
   ],
   "source": [
    "2*2"
   ]
  },
  {
   "cell_type": "code",
   "execution_count": 22,
   "id": "daaf4f5a",
   "metadata": {},
   "outputs": [
    {
     "data": {
      "text/plain": [
       "2.5"
      ]
     },
     "execution_count": 22,
     "metadata": {},
     "output_type": "execute_result"
    }
   ],
   "source": [
    "5/2"
   ]
  },
  {
   "cell_type": "code",
   "execution_count": 27,
   "id": "9337f9af",
   "metadata": {},
   "outputs": [
    {
     "data": {
      "text/plain": [
       "2.0"
      ]
     },
     "execution_count": 27,
     "metadata": {},
     "output_type": "execute_result"
    }
   ],
   "source": [
    "4/2"
   ]
  },
  {
   "cell_type": "code",
   "execution_count": 28,
   "id": "6ebc1645",
   "metadata": {},
   "outputs": [
    {
     "name": "stdout",
     "output_type": "stream",
     "text": [
      "<class 'int'>\n",
      "<class 'float'>\n",
      "2.0\n"
     ]
    }
   ],
   "source": [
    "print(type(1+1)); print(type(5/2)) ; print(4/2)"
   ]
  },
  {
   "cell_type": "markdown",
   "id": "233975d6",
   "metadata": {},
   "source": [
    "### 5.1.2. 정수의 나눗셈 : 몫"
   ]
  },
  {
   "cell_type": "code",
   "execution_count": 32,
   "id": "54a22f3f",
   "metadata": {},
   "outputs": [
    {
     "name": "stdout",
     "output_type": "stream",
     "text": [
      "2\n",
      "2\n"
     ]
    }
   ],
   "source": [
    "print(5//2)\n",
    "print(4//2)"
   ]
  },
  {
   "cell_type": "markdown",
   "id": "bdc1fa24",
   "metadata": {},
   "source": [
    "### 5.1.3. 정수의 나눗셈 : 나눗셈"
   ]
  },
  {
   "cell_type": "code",
   "execution_count": 33,
   "id": "6bd0a459",
   "metadata": {},
   "outputs": [
    {
     "name": "stdout",
     "output_type": "stream",
     "text": [
      "1\n",
      "0\n"
     ]
    }
   ],
   "source": [
    "print(5%2)\n",
    "print(4%2)"
   ]
  },
  {
   "cell_type": "code",
   "execution_count": 39,
   "id": "8bb9e9c5",
   "metadata": {},
   "outputs": [
    {
     "name": "stdout",
     "output_type": "stream",
     "text": [
      "5를 2로 나누면 몫은  2 이고, 나머지는 1 이다.\n"
     ]
    }
   ],
   "source": [
    "print('5를 2로 나누면 몫은 ', 5//2,'이고, 나머지는',5%2,'이다.')"
   ]
  },
  {
   "cell_type": "markdown",
   "id": "726a1d42",
   "metadata": {},
   "source": [
    "### 5.1.4. 거듭제곱을 구하는 ** 연산자"
   ]
  },
  {
   "cell_type": "code",
   "execution_count": 40,
   "id": "88958721",
   "metadata": {},
   "outputs": [
    {
     "data": {
      "text/plain": [
       "1024"
      ]
     },
     "execution_count": 40,
     "metadata": {},
     "output_type": "execute_result"
    }
   ],
   "source": [
    "2**10"
   ]
  },
  {
   "cell_type": "code",
   "execution_count": 41,
   "id": "dc4566e8",
   "metadata": {},
   "outputs": [
    {
     "data": {
      "text/plain": [
       "20"
      ]
     },
     "execution_count": 41,
     "metadata": {},
     "output_type": "execute_result"
    }
   ],
   "source": [
    "2*10"
   ]
  },
  {
   "cell_type": "code",
   "execution_count": 53,
   "id": "a4126dc3",
   "metadata": {},
   "outputs": [
    {
     "name": "stdout",
     "output_type": "stream",
     "text": [
      "1 2 3 4 5\n",
      "2 4 6 8 10\n",
      "3 6 9 12 15\n",
      "4 8 12 16 20\n",
      "5 10 15 20 25\n"
     ]
    }
   ],
   "source": [
    "print(1*1,1*2,1*3,1*4,1*5)\n",
    "print(2*1,2*2,2*3,2*4,2*5)\n",
    "print(3*1,3*2,3*3,3*4,3*5)\n",
    "print(4*1,4*2,4*3,4*4,4*5)\n",
    "print(5*1,5*2,5*3,5*4,5*5)"
   ]
  },
  {
   "cell_type": "code",
   "execution_count": 55,
   "id": "0521d4cb",
   "metadata": {},
   "outputs": [
    {
     "name": "stdout",
     "output_type": "stream",
     "text": [
      "^는 어떤 연산이지?\n",
      "0 3 2 5 4\n",
      "3 0 1 6 7\n",
      "2 1 0 7 6\n",
      "5 6 7 0 1\n",
      "4 7 6 1 0\n"
     ]
    }
   ],
   "source": [
    "print('^는 어떤 연산이지?')\n",
    "print(1^1,1^2,1^3,1^4,1^5)\n",
    "print(2^1,2^2,2^3,2^4,2^5)\n",
    "print(3^1,3^2,3^3,3^4,3^5)\n",
    "print(4^1,4^2,4^3,4^4,4^5)\n",
    "print(5^1,5^2,5^3,5^4,5^5)"
   ]
  },
  {
   "cell_type": "markdown",
   "id": "ae00a19f",
   "metadata": {},
   "source": [
    "### 5.1.5. 값을 정수로 만들기"
   ]
  },
  {
   "cell_type": "code",
   "execution_count": 60,
   "id": "65b1bbf3",
   "metadata": {},
   "outputs": [
    {
     "name": "stdout",
     "output_type": "stream",
     "text": [
      "3\n",
      "<class 'int'>\n",
      "2\n",
      "<class 'int'>\n",
      "10\n",
      "<class 'int'>\n"
     ]
    }
   ],
   "source": [
    "a=3.3 ; print(int(a)) ; print(type(int(a)))\n",
    "b=5/2 ; print(int(b)) ; print(type(int(b)))\n",
    "c='10' ; print(int(c)) ; print(type(int(c)))"
   ]
  },
  {
   "cell_type": "markdown",
   "id": "db955d69",
   "metadata": {},
   "source": [
    "### 5.1.6. 객체의 자료형 알아내기"
   ]
  },
  {
   "cell_type": "code",
   "execution_count": 62,
   "id": "262ad0ae",
   "metadata": {},
   "outputs": [
    {
     "name": "stdout",
     "output_type": "stream",
     "text": [
      "<class 'int'>\n",
      "<class 'float'>\n",
      "<class 'str'>\n"
     ]
    }
   ],
   "source": [
    "print(type(10))\n",
    "print(type(10.1))\n",
    "print(type('10'))"
   ]
  },
  {
   "cell_type": "code",
   "execution_count": 66,
   "id": "f476bf50",
   "metadata": {},
   "outputs": [
    {
     "name": "stdout",
     "output_type": "stream",
     "text": [
      "2 1\n"
     ]
    }
   ],
   "source": [
    "quotient,remainder = divmod(5,2)\n",
    "print(quotient,remainder)"
   ]
  },
  {
   "cell_type": "markdown",
   "id": "8640c6ac",
   "metadata": {},
   "source": [
    "## 5.2. 실수 계산하기"
   ]
  },
  {
   "cell_type": "code",
   "execution_count": 67,
   "id": "28e2c17b",
   "metadata": {},
   "outputs": [
    {
     "data": {
      "text/plain": [
       "5.6"
      ]
     },
     "execution_count": 67,
     "metadata": {},
     "output_type": "execute_result"
    }
   ],
   "source": [
    "3.5+2.1"
   ]
  },
  {
   "cell_type": "code",
   "execution_count": 68,
   "id": "cc5b87ba",
   "metadata": {},
   "outputs": [
    {
     "data": {
      "text/plain": [
       "1.5999999999999996"
      ]
     },
     "execution_count": 68,
     "metadata": {},
     "output_type": "execute_result"
    }
   ],
   "source": [
    "4.3-2.7"
   ]
  },
  {
   "cell_type": "code",
   "execution_count": 69,
   "id": "08e0f748",
   "metadata": {},
   "outputs": [
    {
     "data": {
      "text/plain": [
       "4.65"
      ]
     },
     "execution_count": 69,
     "metadata": {},
     "output_type": "execute_result"
    }
   ],
   "source": [
    "1.5*3.1"
   ]
  },
  {
   "cell_type": "code",
   "execution_count": 70,
   "id": "c9669706",
   "metadata": {},
   "outputs": [
    {
     "data": {
      "text/plain": [
       "1.7741935483870968"
      ]
     },
     "execution_count": 70,
     "metadata": {},
     "output_type": "execute_result"
    }
   ],
   "source": [
    "5.5/3.1"
   ]
  },
  {
   "cell_type": "markdown",
   "id": "e58f3d1e",
   "metadata": {},
   "source": [
    "### 5.2.1. 실수와 정수를 함께 계산하면?"
   ]
  },
  {
   "cell_type": "code",
   "execution_count": 71,
   "id": "a4b72f21",
   "metadata": {},
   "outputs": [
    {
     "data": {
      "text/plain": [
       "9.2"
      ]
     },
     "execution_count": 71,
     "metadata": {},
     "output_type": "execute_result"
    }
   ],
   "source": [
    "4.2+5"
   ]
  },
  {
   "cell_type": "markdown",
   "id": "7c5993e6",
   "metadata": {},
   "source": [
    "### 5.2.2. 값을 실수로 만들기"
   ]
  },
  {
   "cell_type": "code",
   "execution_count": 72,
   "id": "8523d32c",
   "metadata": {},
   "outputs": [
    {
     "name": "stdout",
     "output_type": "stream",
     "text": [
      "5.0\n",
      "3.0\n",
      "5.3\n"
     ]
    }
   ],
   "source": [
    "print(float(5))\n",
    "print(float(1+2))\n",
    "print(float('5.3'))"
   ]
  },
  {
   "cell_type": "code",
   "execution_count": 73,
   "id": "7cbb1ff2",
   "metadata": {},
   "outputs": [
    {
     "data": {
      "text/plain": [
       "(1.2+1.3j)"
      ]
     },
     "execution_count": 73,
     "metadata": {},
     "output_type": "execute_result"
    }
   ],
   "source": [
    "1.2+1.3j"
   ]
  },
  {
   "cell_type": "markdown",
   "id": "8752b75a",
   "metadata": {},
   "source": [
    "## 5.3. 괄호 사용하기"
   ]
  },
  {
   "cell_type": "code",
   "execution_count": 75,
   "id": "e00dc30d",
   "metadata": {},
   "outputs": [
    {
     "name": "stdout",
     "output_type": "stream",
     "text": [
      "37\n",
      "72\n"
     ]
    }
   ],
   "source": [
    "print(35+1*2)\n",
    "print((35+1)*2)"
   ]
  },
  {
   "cell_type": "markdown",
   "id": "19e90494",
   "metadata": {},
   "source": [
    "## 5.4. 퀴즈"
   ]
  },
  {
   "cell_type": "markdown",
   "id": "4fc154d5",
   "metadata": {},
   "source": [
    "## 5.5. 연습문제"
   ]
  },
  {
   "cell_type": "markdown",
   "id": "5ebcc343",
   "metadata": {},
   "source": [
    "## 5.6 심사문제 "
   ]
  },
  {
   "cell_type": "markdown",
   "id": "7666e5c0",
   "metadata": {},
   "source": [
    "## 5.7*. 스스로 만든 퀴즈"
   ]
  },
  {
   "cell_type": "markdown",
   "id": "b86509ee",
   "metadata": {},
   "source": [
    "파이썬에서"
   ]
  },
  {
   "cell_type": "code",
   "execution_count": 146,
   "id": "4d07b0b9",
   "metadata": {},
   "outputs": [
    {
     "data": {
      "text/plain": [
       "81"
      ]
     },
     "execution_count": 146,
     "metadata": {},
     "output_type": "execute_result"
    }
   ],
   "source": [
    "3**4"
   ]
  },
  {
   "cell_type": "markdown",
   "id": "d6e8d276",
   "metadata": {},
   "source": [
    "와 같이 입력하면 3의 네제곱인 81이 출력된다.\n",
    "그런데 보통 수식 입력기에서는 지수를 정의할 때"
   ]
  },
  {
   "cell_type": "code",
   "execution_count": 265,
   "id": "96d47871",
   "metadata": {},
   "outputs": [
    {
     "data": {
      "text/plain": [
       "7"
      ]
     },
     "execution_count": 265,
     "metadata": {},
     "output_type": "execute_result"
    }
   ],
   "source": [
    "3^4"
   ]
  },
  {
   "cell_type": "markdown",
   "id": "070efb32",
   "metadata": {},
   "source": [
    "라고 쓴다.\n",
    "실제 파이썬에서 위의 식을 입력하면 81 대신 7이 뜬다.\n",
    "이건 무슨 연산일까?"
   ]
  },
  {
   "cell_type": "markdown",
   "id": "a761b30f",
   "metadata": {},
   "source": [
    "# 6. 변수와 입력 사용하기"
   ]
  },
  {
   "cell_type": "markdown",
   "id": "713cb834",
   "metadata": {},
   "source": [
    "## 6.1. 변수 만들기"
   ]
  },
  {
   "cell_type": "code",
   "execution_count": 77,
   "id": "83cb1194",
   "metadata": {},
   "outputs": [
    {
     "data": {
      "text/plain": [
       "10"
      ]
     },
     "execution_count": 77,
     "metadata": {},
     "output_type": "execute_result"
    }
   ],
   "source": [
    "x=10\n",
    "x"
   ]
  },
  {
   "cell_type": "code",
   "execution_count": 79,
   "id": "a25f9ef6",
   "metadata": {},
   "outputs": [
    {
     "data": {
      "text/plain": [
       "'hello world'"
      ]
     },
     "execution_count": 79,
     "metadata": {},
     "output_type": "execute_result"
    }
   ],
   "source": [
    "y = 'hello world'\n",
    "y"
   ]
  },
  {
   "cell_type": "markdown",
   "id": "3212fe51",
   "metadata": {},
   "source": [
    "### 6.1.1. 변수의 자료형 알아내기"
   ]
  },
  {
   "cell_type": "code",
   "execution_count": 81,
   "id": "c6bd7ca3",
   "metadata": {},
   "outputs": [
    {
     "name": "stdout",
     "output_type": "stream",
     "text": [
      "<class 'int'>\n",
      "<class 'str'>\n"
     ]
    }
   ],
   "source": [
    "print(type(x))\n",
    "print(type(y))"
   ]
  },
  {
   "cell_type": "markdown",
   "id": "aefca000",
   "metadata": {},
   "source": [
    "### 6.1.2. 변수 여러 개를 한 번에 만들기"
   ]
  },
  {
   "cell_type": "code",
   "execution_count": 82,
   "id": "71c23a78",
   "metadata": {},
   "outputs": [
    {
     "name": "stdout",
     "output_type": "stream",
     "text": [
      "10 20 30\n"
     ]
    }
   ],
   "source": [
    "x,y,z=10,20,30\n",
    "print(x,y,z)"
   ]
  },
  {
   "cell_type": "code",
   "execution_count": 83,
   "id": "00119229",
   "metadata": {},
   "outputs": [
    {
     "name": "stdout",
     "output_type": "stream",
     "text": [
      "20 10\n"
     ]
    }
   ],
   "source": [
    "x, y = 10, 20\n",
    "x, y = y, x\n",
    "print(x,y)"
   ]
  },
  {
   "cell_type": "markdown",
   "id": "75605b29",
   "metadata": {},
   "source": [
    "## 6.2. 변수로 계산하기"
   ]
  },
  {
   "cell_type": "code",
   "execution_count": 84,
   "id": "a2ff79b1",
   "metadata": {},
   "outputs": [
    {
     "name": "stdout",
     "output_type": "stream",
     "text": [
      "30\n"
     ]
    }
   ],
   "source": [
    "a = 10\n",
    "b = 20\n",
    "print(a+b)"
   ]
  },
  {
   "cell_type": "markdown",
   "id": "147830cd",
   "metadata": {},
   "source": [
    "### 6.2.1. 산술 연산 후 할당 연산자 사용하기"
   ]
  },
  {
   "cell_type": "code",
   "execution_count": 86,
   "id": "1b85a07d",
   "metadata": {},
   "outputs": [
    {
     "name": "stdout",
     "output_type": "stream",
     "text": [
      "30\n"
     ]
    }
   ],
   "source": [
    "a=10\n",
    "print(a+20)"
   ]
  },
  {
   "cell_type": "code",
   "execution_count": 87,
   "id": "86828b83",
   "metadata": {},
   "outputs": [
    {
     "name": "stdout",
     "output_type": "stream",
     "text": [
      "30\n"
     ]
    }
   ],
   "source": [
    "a=10\n",
    "a=a+20\n",
    "print(a)"
   ]
  },
  {
   "cell_type": "code",
   "execution_count": 88,
   "id": "8d57731f",
   "metadata": {},
   "outputs": [
    {
     "name": "stdout",
     "output_type": "stream",
     "text": [
      "30\n"
     ]
    }
   ],
   "source": [
    "a=10\n",
    "a+=20\n",
    "print(a)"
   ]
  },
  {
   "cell_type": "markdown",
   "id": "389ea039",
   "metadata": {},
   "source": [
    "## 6.3. 입력값을 변수에 저장하기"
   ]
  },
  {
   "cell_type": "markdown",
   "id": "4a8e7ee9",
   "metadata": {},
   "source": [
    "### 6.3.1. input 함수 사용하기"
   ]
  },
  {
   "cell_type": "code",
   "execution_count": 89,
   "id": "3219376c",
   "metadata": {},
   "outputs": [
    {
     "name": "stdout",
     "output_type": "stream",
     "text": [
      "Hello, world!\n"
     ]
    },
    {
     "data": {
      "text/plain": [
       "'Hello, world!'"
      ]
     },
     "execution_count": 89,
     "metadata": {},
     "output_type": "execute_result"
    }
   ],
   "source": [
    "input()"
   ]
  },
  {
   "cell_type": "markdown",
   "id": "98871dd7",
   "metadata": {},
   "source": [
    "### 6.3.2. input 함수의 결과를 변수에 할당하기"
   ]
  },
  {
   "cell_type": "code",
   "execution_count": 90,
   "id": "3e43c35e",
   "metadata": {},
   "outputs": [
    {
     "name": "stdout",
     "output_type": "stream",
     "text": [
      "Hello world!\n"
     ]
    }
   ],
   "source": [
    "x = input()"
   ]
  },
  {
   "cell_type": "code",
   "execution_count": 91,
   "id": "10871d5e",
   "metadata": {},
   "outputs": [
    {
     "name": "stdout",
     "output_type": "stream",
     "text": [
      "Hello world!\n"
     ]
    }
   ],
   "source": [
    "print(x)"
   ]
  },
  {
   "cell_type": "code",
   "execution_count": 92,
   "id": "53439a76",
   "metadata": {},
   "outputs": [
    {
     "name": "stdout",
     "output_type": "stream",
     "text": [
      "문자열을 입력하세요hello world\n"
     ]
    }
   ],
   "source": [
    "x = input('문자열을 입력하세요')"
   ]
  },
  {
   "cell_type": "code",
   "execution_count": 93,
   "id": "4b2d92c9",
   "metadata": {},
   "outputs": [
    {
     "name": "stdout",
     "output_type": "stream",
     "text": [
      "hello world\n"
     ]
    }
   ],
   "source": [
    "print(x)"
   ]
  },
  {
   "cell_type": "markdown",
   "id": "498d82bf",
   "metadata": {},
   "source": [
    "실행을 해보면 '문자열을 입력하세요: '처럼 안내 문구가 먼저 나옵니다. 여기에 문자열을 입력한 뒤 엔터 키를 누르면 입력한 그대로 출력됩니다. 즉, 이 문자열은 사용자에게 입력받는 값의 용도를 미리 알려줄 때 사용합니다. 다른 말로는 **프롬프트(prompt)**라고도 부릅니다(파이썬 프롬프트 >>>와 같은 의미입니다)."
   ]
  },
  {
   "cell_type": "markdown",
   "id": "1993b591",
   "metadata": {},
   "source": [
    "### 6.3.3. 두 숫자의 합 구하기"
   ]
  },
  {
   "cell_type": "code",
   "execution_count": 96,
   "id": "f8000409",
   "metadata": {},
   "outputs": [
    {
     "name": "stdout",
     "output_type": "stream",
     "text": [
      "첫번재 숫자를 입력하세요: 10\n",
      "두번재 숫자를 입력하세요: 20\n",
      "1020\n"
     ]
    }
   ],
   "source": [
    "a= input('첫번재 숫자를 입력하세요: ')\n",
    "b= input('두번재 숫자를 입력하세요: ')\n",
    "print(a+b)"
   ]
  },
  {
   "cell_type": "code",
   "execution_count": 97,
   "id": "44a16945",
   "metadata": {},
   "outputs": [
    {
     "name": "stdout",
     "output_type": "stream",
     "text": [
      "<class 'str'>\n"
     ]
    }
   ],
   "source": [
    "print(type(a))"
   ]
  },
  {
   "cell_type": "markdown",
   "id": "5c791921",
   "metadata": {},
   "source": [
    "### 6.3.4. 입력 값을 정수로 변환하기"
   ]
  },
  {
   "cell_type": "code",
   "execution_count": 101,
   "id": "e2b71aca",
   "metadata": {},
   "outputs": [
    {
     "name": "stdout",
     "output_type": "stream",
     "text": [
      "첫번째 숫자를 입력하세요 : 10\n"
     ]
    }
   ],
   "source": [
    "a = int(input('첫번째 숫자를 입력하세요 : '))\n",
    "#b = input(int('첫번째 숫자를 입력하세요 : ')) #오류"
   ]
  },
  {
   "cell_type": "code",
   "execution_count": 99,
   "id": "cf78064b",
   "metadata": {},
   "outputs": [
    {
     "name": "stdout",
     "output_type": "stream",
     "text": [
      "10\n",
      "<class 'int'>\n"
     ]
    }
   ],
   "source": [
    "print(a)\n",
    "print(type(a))"
   ]
  },
  {
   "cell_type": "markdown",
   "id": "b36ccc28",
   "metadata": {},
   "source": [
    "## 6.4.1. 입력값을 변수 두 개에 저장하기"
   ]
  },
  {
   "cell_type": "code",
   "execution_count": 108,
   "id": "00eaabca",
   "metadata": {},
   "outputs": [
    {
     "name": "stdout",
     "output_type": "stream",
     "text": [
      "문자열 두 개를 입력하세요: 10 20\n",
      "10\n",
      "20\n"
     ]
    }
   ],
   "source": [
    "a, b = input('문자열 두 개를 입력하세요: ').split() \n",
    "print(a)\n",
    "print(b)"
   ]
  },
  {
   "cell_type": "code",
   "execution_count": 113,
   "id": "426b53fb",
   "metadata": {},
   "outputs": [
    {
     "name": "stdout",
     "output_type": "stream",
     "text": [
      "문자열 두 개를 입력하세요: 10 20\n",
      "10\n",
      "20\n"
     ]
    }
   ],
   "source": [
    "a, b = input('문자열 두 개를 입력하세요: ').split() \n",
    "print(a)\n",
    "print(b)"
   ]
  },
  {
   "cell_type": "code",
   "execution_count": 126,
   "id": "da0b95e9",
   "metadata": {},
   "outputs": [
    {
     "name": "stdout",
     "output_type": "stream",
     "text": [
      "문자열 두 개를 입력하세요: 10, 20.3\n",
      "['10,', '20.3']\n",
      "<class 'list'>\n"
     ]
    }
   ],
   "source": [
    "L = input('문자열 두 개를 입력하세요: ').split()\n",
    "print(L)\n",
    "print(type(L))"
   ]
  },
  {
   "cell_type": "markdown",
   "id": "37b39a32",
   "metadata": {},
   "source": [
    "### 6.4.2 입력 값을 정수로 변환하기"
   ]
  },
  {
   "cell_type": "code",
   "execution_count": 123,
   "id": "b427eac7",
   "metadata": {},
   "outputs": [
    {
     "name": "stdout",
     "output_type": "stream",
     "text": [
      "문자열 두 개를 입력하세요: 10 20\n",
      "10\n",
      "20\n"
     ]
    }
   ],
   "source": [
    "a, b = input('문자열 두 개를 입력하세요: ').split() \n",
    "a=int(a)\n",
    "b=int(b)\n",
    "print(a)\n",
    "print(b)\n",
    "\n",
    "# issue : '10, 20'을 입력하면 잘 출력된다. 그런데 '10.2, 20.3'을 입력하면 에러가 뜬다."
   ]
  },
  {
   "cell_type": "code",
   "execution_count": 121,
   "id": "c6580e72",
   "metadata": {},
   "outputs": [
    {
     "name": "stdout",
     "output_type": "stream",
     "text": [
      "10\n"
     ]
    }
   ],
   "source": [
    "a=10.2\n",
    "a=int(a)\n",
    "print(a)"
   ]
  },
  {
   "cell_type": "markdown",
   "id": "9eb544ca",
   "metadata": {},
   "source": [
    "### 6.4.3. map을 사용하여 정수로 변환하기"
   ]
  },
  {
   "cell_type": "code",
   "execution_count": 124,
   "id": "40fbf800",
   "metadata": {},
   "outputs": [
    {
     "name": "stdout",
     "output_type": "stream",
     "text": [
      "10 20\n"
     ]
    }
   ],
   "source": [
    "a,b = map(int,(10.2,20.3))\n",
    "print(a,b)"
   ]
  },
  {
   "cell_type": "code",
   "execution_count": 127,
   "id": "1023cba1",
   "metadata": {},
   "outputs": [
    {
     "name": "stdout",
     "output_type": "stream",
     "text": [
      "10 20\n"
     ]
    }
   ],
   "source": [
    "a,b = map(int,[10.2,20.3])\n",
    "print(a,b)"
   ]
  },
  {
   "cell_type": "markdown",
   "id": "5f899959",
   "metadata": {},
   "source": [
    "### 6.4.4. 입력받은 값을 콤마를 기준으로 분리하기"
   ]
  },
  {
   "cell_type": "code",
   "execution_count": 128,
   "id": "6eb79c4d",
   "metadata": {},
   "outputs": [
    {
     "name": "stdout",
     "output_type": "stream",
     "text": [
      "숫자 두 개를 입려하세요:10,20\n",
      "10\n",
      "20\n"
     ]
    }
   ],
   "source": [
    "a,b = input('숫자 두 개를 입려하세요:').split(',')\n",
    "print(a)\n",
    "print(b)"
   ]
  },
  {
   "cell_type": "markdown",
   "id": "910ae5cd",
   "metadata": {},
   "source": [
    "## 6.5. 퀴즈"
   ]
  },
  {
   "cell_type": "markdown",
   "id": "4c8718f6",
   "metadata": {},
   "source": [
    "#### 2번문제\n",
    "\n",
    "> 다음 중 변수 이름으로 사용할 수 없는 것을 모두 고르세요.\n",
    "> 1. 300\n",
    "> 2. _53A\n",
    "> 3. if\n",
    "> 4. z\n",
    "> 5. H-80\n",
    "> 6. _hello3\n",
    "> 7. 30seconds\n",
    "> 8. 99%"
   ]
  },
  {
   "cell_type": "markdown",
   "id": "af7b6f04",
   "metadata": {},
   "source": [
    "|순번|코드|사용가능여부|이유|비고|\n",
    "|-|-|-|-|-|\n",
    "|(a)|300|불가능|숫자(3)부터 시작하면 안됩니다.|맞음|\n",
    "|(b)|\\_53A|가능||맞음|\n",
    "|(c)|if|불가능|파이썬의 키워드(if)는 사용할 수 없습니다.|맞음|\n",
    "|(d)|z|가능||맞음|\n",
    "|(e)|H-80|불가능|특수문자(-)는 사용할 수 없습니다.|맞음|\n",
    "|(f)|\\_hello3|가능||틀림|\n",
    "|(g)|30seconds|불가능|숫자(3)부터 시작하면 안됩니다.|맞음|\n",
    "|(h)|99%|불가능|숫자(9)부터 시작하면 안되고 특수문자(%)는 사용할 수 없습니다.|맞음|"
   ]
  },
  {
   "cell_type": "markdown",
   "id": "213ebbb3",
   "metadata": {},
   "source": [
    "> 변수를 지을 때의 규칙\n",
    "> - 영문 문자와 숫자를 사용할 수 있습니다.\n",
    "> - 대소문자를 구분합니다.\n",
    "> - 문자부터 시작해야 하며 숫자부터 시작하면 안 됩니다.\n",
    "> - _(밑줄 문자)로 시작할 수 있습니다.\n",
    "> - 특수 문자(+, -, *, /, $, @, &, % 등)는 사용할 수 없습니다.\n",
    "> - 파이썬의 키워드(if, for, while, and, or 등)는 사용할 수 없습니다."
   ]
  },
  {
   "cell_type": "markdown",
   "id": "40edf53e",
   "metadata": {},
   "source": [
    "#### 3번문제"
   ]
  },
  {
   "cell_type": "code",
   "execution_count": 190,
   "id": "381f86db",
   "metadata": {},
   "outputs": [
    {
     "name": "stdout",
     "output_type": "stream",
     "text": [
      "-20\n"
     ]
    }
   ],
   "source": [
    "a=20\n",
    "b=30\n",
    "c=-a\n",
    "print(c)"
   ]
  },
  {
   "cell_type": "code",
   "execution_count": 191,
   "id": "33dead4d",
   "metadata": {},
   "outputs": [],
   "source": [
    "del a,b,c"
   ]
  },
  {
   "cell_type": "code",
   "execution_count": 215,
   "id": "5557e4e0",
   "metadata": {},
   "outputs": [
    {
     "ename": "SyntaxError",
     "evalue": "invalid syntax (2166200384.py, line 3)",
     "output_type": "error",
     "traceback": [
      "\u001b[0;36m  File \u001b[0;32m\"/tmp/ipykernel_174/2166200384.py\"\u001b[0;36m, line \u001b[0;32m3\u001b[0m\n\u001b[0;31m    b+ =a\u001b[0m\n\u001b[0m       ^\u001b[0m\n\u001b[0;31mSyntaxError\u001b[0m\u001b[0;31m:\u001b[0m invalid syntax\n"
     ]
    }
   ],
   "source": [
    "a=20\n",
    "b=30\n",
    "b+ =a\n",
    "print(b)"
   ]
  },
  {
   "cell_type": "code",
   "execution_count": 196,
   "id": "b3b1421f",
   "metadata": {},
   "outputs": [],
   "source": [
    "del a,b"
   ]
  },
  {
   "cell_type": "code",
   "execution_count": 210,
   "id": "3a8ec759",
   "metadata": {},
   "outputs": [
    {
     "name": "stdout",
     "output_type": "stream",
     "text": [
      "0\n"
     ]
    }
   ],
   "source": [
    "a=20\n",
    "b=30\n",
    "c=a//b\n",
    "print(c)"
   ]
  },
  {
   "cell_type": "code",
   "execution_count": 211,
   "id": "0e45a4a7",
   "metadata": {},
   "outputs": [],
   "source": [
    "del a,b,c"
   ]
  },
  {
   "cell_type": "code",
   "execution_count": 212,
   "id": "e0caad74",
   "metadata": {},
   "outputs": [
    {
     "ename": "NameError",
     "evalue": "name 'c' is not defined",
     "output_type": "error",
     "traceback": [
      "\u001b[0;31m---------------------------------------------------------------------------\u001b[0m",
      "\u001b[0;31mNameError\u001b[0m                                 Traceback (most recent call last)",
      "\u001b[0;32m/tmp/ipykernel_174/3615335262.py\u001b[0m in \u001b[0;36m<module>\u001b[0;34m\u001b[0m\n\u001b[1;32m      1\u001b[0m \u001b[0ma\u001b[0m\u001b[0;34m=\u001b[0m\u001b[0;36m20\u001b[0m\u001b[0;34m\u001b[0m\u001b[0;34m\u001b[0m\u001b[0m\n\u001b[1;32m      2\u001b[0m \u001b[0mb\u001b[0m\u001b[0;34m=\u001b[0m\u001b[0;36m30\u001b[0m\u001b[0;34m\u001b[0m\u001b[0;34m\u001b[0m\u001b[0m\n\u001b[0;32m----> 3\u001b[0;31m \u001b[0mc\u001b[0m\u001b[0;34m-=\u001b[0m\u001b[0mb\u001b[0m\u001b[0;34m\u001b[0m\u001b[0;34m\u001b[0m\u001b[0m\n\u001b[0m\u001b[1;32m      4\u001b[0m \u001b[0mprint\u001b[0m\u001b[0;34m(\u001b[0m\u001b[0mc\u001b[0m\u001b[0;34m)\u001b[0m\u001b[0;34m\u001b[0m\u001b[0;34m\u001b[0m\u001b[0m\n",
      "\u001b[0;31mNameError\u001b[0m: name 'c' is not defined"
     ]
    }
   ],
   "source": [
    "a=20\n",
    "b=30\n",
    "c-=b\n",
    "print(c)"
   ]
  },
  {
   "cell_type": "code",
   "execution_count": 213,
   "id": "eba062d0",
   "metadata": {},
   "outputs": [],
   "source": [
    "del a,b"
   ]
  },
  {
   "cell_type": "code",
   "execution_count": 214,
   "id": "39d08480",
   "metadata": {},
   "outputs": [
    {
     "name": "stdout",
     "output_type": "stream",
     "text": [
      "30\n"
     ]
    }
   ],
   "source": [
    "a=20\n",
    "b=30\n",
    "c=a+10\n",
    "print(c)"
   ]
  },
  {
   "cell_type": "markdown",
   "id": "437c5a38",
   "metadata": {},
   "source": [
    "## 6.6. 연습문제 : 정수 세 개를 입력받고 합계 출력하기"
   ]
  },
  {
   "cell_type": "markdown",
   "id": "8b09ef56",
   "metadata": {},
   "source": [
    "## 6.7. 심사문제 : 변수 만들기"
   ]
  },
  {
   "cell_type": "code",
   "execution_count": 216,
   "id": "c2a2f938",
   "metadata": {},
   "outputs": [
    {
     "name": "stdout",
     "output_type": "stream",
     "text": [
      "50\n",
      "100\n",
      "None\n"
     ]
    }
   ],
   "source": [
    "a=50\n",
    "b=100\n",
    "c=None\n",
    "print(a)\n",
    "print(b)\n",
    "print(c)"
   ]
  },
  {
   "cell_type": "markdown",
   "id": "3c82a390",
   "metadata": {},
   "source": [
    "6.8. 심사문제 : 평균 점수 구하기"
   ]
  },
  {
   "cell_type": "code",
   "execution_count": 225,
   "id": "a0cffaeb",
   "metadata": {},
   "outputs": [
    {
     "name": "stdout",
     "output_type": "stream",
     "text": [
      "10 20 30 40\n",
      "25\n"
     ]
    }
   ],
   "source": [
    "a,b,c,d=map(int,input().split())\n",
    "average=int((a+b+c+d)/4)\n",
    "print(average)"
   ]
  },
  {
   "cell_type": "markdown",
   "id": "a663ec25",
   "metadata": {},
   "source": [
    "## 6.9*. 스스로 만든 문제"
   ]
  },
  {
   "cell_type": "markdown",
   "id": "bb225ff3",
   "metadata": {},
   "source": [
    "리스트 L은 다음과 같이 정의되어 있다."
   ]
  },
  {
   "cell_type": "code",
   "execution_count": 158,
   "id": "91879915",
   "metadata": {},
   "outputs": [],
   "source": [
    "L=[5, 5.3, '5']"
   ]
  },
  {
   "cell_type": "markdown",
   "id": "9150c690",
   "metadata": {},
   "source": [
    "이때, L의 세 원소(?) 5, 5.3, '5'의 데이터타입을 출력하는 코드를 만들어라. (함수 map, type을 사용하여라.)"
   ]
  },
  {
   "cell_type": "code",
   "execution_count": null,
   "id": "e3669797",
   "metadata": {},
   "outputs": [],
   "source": [
    "[int, float, str]"
   ]
  },
  {
   "cell_type": "code",
   "execution_count": 266,
   "id": "94e68409",
   "metadata": {},
   "outputs": [
    {
     "data": {
      "text/plain": [
       "int"
      ]
     },
     "execution_count": 266,
     "metadata": {},
     "output_type": "execute_result"
    }
   ],
   "source": [
    "type(5)"
   ]
  },
  {
   "cell_type": "code",
   "execution_count": 268,
   "id": "18ecb3df",
   "metadata": {},
   "outputs": [
    {
     "name": "stdout",
     "output_type": "stream",
     "text": [
      "<class 'int'>\n",
      "<class 'float'>\n",
      "<class 'str'>\n"
     ]
    }
   ],
   "source": [
    "a,b,c=map(type,L)\n",
    "print(a)\n",
    "print(b)\n",
    "print(c)"
   ]
  },
  {
   "cell_type": "markdown",
   "id": "30a641fc",
   "metadata": {},
   "source": [
    "# 7. 출력 방법 알아보기"
   ]
  },
  {
   "cell_type": "markdown",
   "id": "95ccd365",
   "metadata": {},
   "source": [
    "## 7.1. 값을 여러 개 출력하기"
   ]
  },
  {
   "cell_type": "code",
   "execution_count": 226,
   "id": "6d2acf88",
   "metadata": {},
   "outputs": [
    {
     "name": "stdout",
     "output_type": "stream",
     "text": [
      "1 2 3\n",
      "hello python\n"
     ]
    }
   ],
   "source": [
    "print(1,2,3)\n",
    "print('hello','python')"
   ]
  },
  {
   "cell_type": "markdown",
   "id": "be2a2d7a",
   "metadata": {},
   "source": [
    "### 7.1.1. sep 사이에 문자 넣기"
   ]
  },
  {
   "cell_type": "code",
   "execution_count": 227,
   "id": "41b84a50",
   "metadata": {},
   "outputs": [
    {
     "name": "stdout",
     "output_type": "stream",
     "text": [
      "1 2 3\n",
      "1,2,3\n",
      "123\n",
      "1 2 3\n",
      "1  2  3\n"
     ]
    }
   ],
   "source": [
    "print(1,2,3)\n",
    "print(1,2,3,sep=',')\n",
    "print(1,2,3,sep='')\n",
    "print(1,2,3,sep=' ')\n",
    "print(1,2,3,sep='  ')"
   ]
  },
  {
   "cell_type": "markdown",
   "id": "2905f466",
   "metadata": {},
   "source": [
    "## 7.2. 줄바꿈 활용하기"
   ]
  },
  {
   "cell_type": "code",
   "execution_count": 228,
   "id": "2d180b66",
   "metadata": {},
   "outputs": [
    {
     "name": "stdout",
     "output_type": "stream",
     "text": [
      "1 2 3\n",
      "1\n",
      "2\n",
      "3\n"
     ]
    }
   ],
   "source": [
    "print(1,2,3)\n",
    "print(1,2,3,sep='\\n')"
   ]
  },
  {
   "cell_type": "markdown",
   "id": "92e43258",
   "metadata": {},
   "source": [
    "여기까지 쓰고 \\n 줄을 바꾸겠다."
   ]
  },
  {
   "cell_type": "code",
   "execution_count": 235,
   "id": "fd28fc4c",
   "metadata": {},
   "outputs": [
    {
     "name": "stdout",
     "output_type": "stream",
     "text": [
      "여기까지 쓰고 \n",
      " 줄을 바꾸겠다.\n"
     ]
    }
   ],
   "source": [
    "print('여기까지 쓰고 \\n 줄을 바꾸겠다.')"
   ]
  },
  {
   "cell_type": "code",
   "execution_count": 236,
   "id": "ea88ce02",
   "metadata": {},
   "outputs": [
    {
     "data": {
      "text/plain": [
       "'여기까지 쓰고 \\n 줄을 바꾸겠다.'"
      ]
     },
     "execution_count": 236,
     "metadata": {},
     "output_type": "execute_result"
    }
   ],
   "source": [
    "'여기까지 쓰고 \\n 줄을 바꾸겠다.'"
   ]
  },
  {
   "cell_type": "code",
   "execution_count": 242,
   "id": "1706d78a",
   "metadata": {},
   "outputs": [
    {
     "ename": "SyntaxError",
     "evalue": "unexpected character after line continuation character (2394039199.py, line 1)",
     "output_type": "error",
     "traceback": [
      "\u001b[0;36m  File \u001b[0;32m\"/tmp/ipykernel_174/2394039199.py\"\u001b[0;36m, line \u001b[0;32m1\u001b[0m\n\u001b[0;31m    print('여기까지 쓰고' \\n '줄을 바꾸겠다.')\u001b[0m\n\u001b[0m                                 ^\u001b[0m\n\u001b[0;31mSyntaxError\u001b[0m\u001b[0;31m:\u001b[0m unexpected character after line continuation character\n"
     ]
    }
   ],
   "source": [
    "print('여기까지 쓰고' \\n '줄을 바꾸겠다.')"
   ]
  },
  {
   "cell_type": "code",
   "execution_count": 243,
   "id": "be56ab21",
   "metadata": {},
   "outputs": [
    {
     "name": "stdout",
     "output_type": "stream",
     "text": [
      "x가  30 이고 y가 20 이면 \n",
      " x+y는 50 이다.\n"
     ]
    }
   ],
   "source": [
    "print('x가 ',30,'이고 y가',20,'이면 \\n x+y는',50,'이다.')"
   ]
  },
  {
   "cell_type": "markdown",
   "id": "0083958c",
   "metadata": {},
   "source": [
    "- \\n은 문자열 안에 사용한다."
   ]
  },
  {
   "cell_type": "markdown",
   "id": "d05934e3",
   "metadata": {},
   "source": [
    "### 7.2.1. end 사용하기"
   ]
  },
  {
   "cell_type": "markdown",
   "id": "2677c586",
   "metadata": {},
   "source": [
    ">기본적으로 print의 end에 \\n이 지정되어 있다."
   ]
  },
  {
   "cell_type": "code",
   "execution_count": 244,
   "id": "3c6701f1",
   "metadata": {},
   "outputs": [
    {
     "name": "stdout",
     "output_type": "stream",
     "text": [
      "1\n",
      "2\n",
      "3\n"
     ]
    }
   ],
   "source": [
    "print(1)\n",
    "print(2)\n",
    "print(3)"
   ]
  },
  {
   "cell_type": "code",
   "execution_count": 246,
   "id": "ad363b07",
   "metadata": {},
   "outputs": [
    {
     "name": "stdout",
     "output_type": "stream",
     "text": [
      "1\n",
      "2\n",
      "3\n"
     ]
    }
   ],
   "source": [
    "print(1,end='\\n')\n",
    "print(2,end='\\n')\n",
    "print(3)"
   ]
  },
  {
   "cell_type": "code",
   "execution_count": 245,
   "id": "1a9675d9",
   "metadata": {},
   "outputs": [
    {
     "name": "stdout",
     "output_type": "stream",
     "text": [
      "123\n"
     ]
    }
   ],
   "source": [
    "print(1,end='')\n",
    "print(2,end='')\n",
    "print(3)"
   ]
  },
  {
   "cell_type": "code",
   "execution_count": 247,
   "id": "a64de55f",
   "metadata": {},
   "outputs": [
    {
     "name": "stdout",
     "output_type": "stream",
     "text": [
      "1 2 3\n"
     ]
    }
   ],
   "source": [
    "print(1,end=' ')\n",
    "print(2,end=' ')\n",
    "print(3)"
   ]
  },
  {
   "cell_type": "markdown",
   "id": "6b742b09",
   "metadata": {},
   "source": [
    "## 7.3. 퀴즈"
   ]
  },
  {
   "cell_type": "markdown",
   "id": "8d37e6d7",
   "metadata": {},
   "source": [
    "#### 3번 문제"
   ]
  },
  {
   "cell_type": "code",
   "execution_count": 250,
   "id": "8b21e209",
   "metadata": {},
   "outputs": [
    {
     "name": "stdout",
     "output_type": "stream",
     "text": [
      "Hello Python\n",
      "Hello\n",
      "Python\n",
      "Hello Python\n",
      "Hello\n",
      "Python\n",
      "Hello\n",
      "Python\n"
     ]
    }
   ],
   "source": [
    "print('Hello', 'Python')\n",
    "print('Hello\\nPython')\n",
    "print('Hello', 'Python',end='\\n')\n",
    "print('Hello', 'Python',sep='\\n')\n",
    "print('Hello','\\n', 'Python',sep='')"
   ]
  },
  {
   "cell_type": "markdown",
   "id": "80960e37",
   "metadata": {},
   "source": [
    "## 7.4. 연습문제 : 날짜와 시간 출력하기"
   ]
  },
  {
   "cell_type": "markdown",
   "id": "46bda37f",
   "metadata": {},
   "source": [
    "## 7.5. 심사문제 :  날짜와 시간 출력하기"
   ]
  },
  {
   "cell_type": "code",
   "execution_count": 251,
   "id": "71e076e4",
   "metadata": {},
   "outputs": [
    {
     "name": "stdout",
     "output_type": "stream",
     "text": [
      "2022 8 23 4 00 00\n"
     ]
    }
   ],
   "source": [
    "year, month, day, hour, minute, second = input().split()"
   ]
  },
  {
   "cell_type": "code",
   "execution_count": 256,
   "id": "1a1bb19b",
   "metadata": {},
   "outputs": [
    {
     "name": "stdout",
     "output_type": "stream",
     "text": [
      "2022-8-23T4:00:00\n"
     ]
    }
   ],
   "source": [
    "print(year,month,day,sep='-',end='T')\n",
    "print(hour, minute, second, sep=':')"
   ]
  },
  {
   "cell_type": "markdown",
   "id": "ebda9b55",
   "metadata": {},
   "source": [
    "## 7.6*. 스스로 만든 문제"
   ]
  },
  {
   "cell_type": "code",
   "execution_count": 270,
   "id": "0b4457b5",
   "metadata": {},
   "outputs": [
    {
     "name": "stdout",
     "output_type": "stream",
     "text": [
      "김선중 쏘카 3기 17회차\n",
      "김선중/쏘카/3기/17회차\n"
     ]
    }
   ],
   "source": [
    "name, campus, 기, 회차 = input().split()\n",
    "print(name,campus,기,회차,sep='/')"
   ]
  },
  {
   "cell_type": "code",
   "execution_count": 269,
   "id": "91a31322",
   "metadata": {
    "scrolled": true
   },
   "outputs": [
    {
     "name": "stdout",
     "output_type": "stream",
     "text": [
      "김선중 쏘카 3기 17회차\n"
     ]
    }
   ],
   "source": [
    "name, campus, 기, 회차 = input().split()\n"
   ]
  },
  {
   "cell_type": "code",
   "execution_count": 271,
   "id": "580fb4b8",
   "metadata": {},
   "outputs": [
    {
     "name": "stdout",
     "output_type": "stream",
     "text": [
      "hello\n",
      "world\n"
     ]
    }
   ],
   "source": [
    "print('hello');print('world')"
   ]
  },
  {
   "cell_type": "markdown",
   "id": "0e73677a",
   "metadata": {},
   "source": [
    "# **서로 만든 문제들(8월 23일)"
   ]
  },
  {
   "cell_type": "markdown",
   "id": "55c54c38",
   "metadata": {},
   "source": [
    "#### 연수님 문제"
   ]
  },
  {
   "cell_type": "code",
   "execution_count": 281,
   "id": "e937767a",
   "metadata": {},
   "outputs": [],
   "source": [
    "url=\"http://sharebook.kr\""
   ]
  },
  {
   "cell_type": "code",
   "execution_count": 290,
   "id": "cc525c81",
   "metadata": {},
   "outputs": [
    {
     "name": "stdout",
     "output_type": "stream",
     "text": [
      "['http://sharebook', 'kr']\n",
      "<class 'list'>\n",
      "kr\n"
     ]
    }
   ],
   "source": [
    "url_split=url.split('.')\n",
    "print(url_split)\n",
    "print(type(url_split))\n",
    "print(url_split[-1])"
   ]
  },
  {
   "cell_type": "code",
   "execution_count": 285,
   "id": "d8e56961",
   "metadata": {},
   "outputs": [
    {
     "name": "stdout",
     "output_type": "stream",
     "text": [
      "kr\n"
     ]
    }
   ],
   "source": [
    "print(url[-2:])"
   ]
  },
  {
   "cell_type": "markdown",
   "id": "c67d0a91",
   "metadata": {},
   "source": [
    "#### 희성님 문제"
   ]
  },
  {
   "cell_type": "code",
   "execution_count": 279,
   "id": "58347ed2",
   "metadata": {},
   "outputs": [
    {
     "name": "stderr",
     "output_type": "stream",
     "text": [
      "<>:2: SyntaxWarning: \"is\" with a literal. Did you mean \"==\"?\n",
      "<>:2: SyntaxWarning: \"is\" with a literal. Did you mean \"==\"?\n",
      "/tmp/ipykernel_174/2522190273.py:2: SyntaxWarning: \"is\" with a literal. Did you mean \"==\"?\n",
      "  a is -6\n"
     ]
    },
    {
     "data": {
      "text/plain": [
       "False"
      ]
     },
     "execution_count": 279,
     "metadata": {},
     "output_type": "execute_result"
    }
   ],
   "source": [
    "a=-6\n",
    "a is -6"
   ]
  },
  {
   "cell_type": "code",
   "execution_count": 280,
   "id": "8557aff1",
   "metadata": {},
   "outputs": [
    {
     "name": "stderr",
     "output_type": "stream",
     "text": [
      "<>:2: SyntaxWarning: \"is\" with a literal. Did you mean \"==\"?\n",
      "<>:2: SyntaxWarning: \"is\" with a literal. Did you mean \"==\"?\n",
      "/tmp/ipykernel_174/910685623.py:2: SyntaxWarning: \"is\" with a literal. Did you mean \"==\"?\n",
      "  a is -5\n"
     ]
    },
    {
     "data": {
      "text/plain": [
       "True"
      ]
     },
     "execution_count": 280,
     "metadata": {},
     "output_type": "execute_result"
    }
   ],
   "source": [
    "a=-5\n",
    "a is -5"
   ]
  },
  {
   "cell_type": "code",
   "execution_count": 274,
   "id": "78f73e87",
   "metadata": {},
   "outputs": [
    {
     "name": "stderr",
     "output_type": "stream",
     "text": [
      "<>:2: SyntaxWarning: \"is\" with a literal. Did you mean \"==\"?\n",
      "<>:2: SyntaxWarning: \"is\" with a literal. Did you mean \"==\"?\n",
      "/tmp/ipykernel_174/3917151905.py:2: SyntaxWarning: \"is\" with a literal. Did you mean \"==\"?\n",
      "  a is 4\n"
     ]
    },
    {
     "data": {
      "text/plain": [
       "True"
      ]
     },
     "execution_count": 274,
     "metadata": {},
     "output_type": "execute_result"
    }
   ],
   "source": [
    "a=4\n",
    "a is 4"
   ]
  },
  {
   "cell_type": "markdown",
   "id": "7f820afb",
   "metadata": {},
   "source": [
    "# 8. 불과 비교논리 연산자 사용하기"
   ]
  },
  {
   "cell_type": "markdown",
   "id": "95cbe4ed",
   "metadata": {},
   "source": [
    "## 8.1. 불과 비교 연산자 사용하기"
   ]
  },
  {
   "cell_type": "code",
   "execution_count": 293,
   "id": "0832a91d",
   "metadata": {},
   "outputs": [
    {
     "data": {
      "text/plain": [
       "True"
      ]
     },
     "execution_count": 293,
     "metadata": {},
     "output_type": "execute_result"
    }
   ],
   "source": [
    "True"
   ]
  },
  {
   "cell_type": "code",
   "execution_count": 294,
   "id": "f59888ed",
   "metadata": {},
   "outputs": [
    {
     "data": {
      "text/plain": [
       "False"
      ]
     },
     "execution_count": 294,
     "metadata": {},
     "output_type": "execute_result"
    }
   ],
   "source": [
    "False"
   ]
  },
  {
   "cell_type": "markdown",
   "id": "edc48ed2",
   "metadata": {},
   "source": [
    "### 8.1.1. 비교 연산자의 판단 결과"
   ]
  },
  {
   "cell_type": "code",
   "execution_count": 296,
   "id": "9a43ba26",
   "metadata": {},
   "outputs": [
    {
     "data": {
      "text/plain": [
       "True"
      ]
     },
     "execution_count": 296,
     "metadata": {},
     "output_type": "execute_result"
    }
   ],
   "source": [
    "3>1"
   ]
  },
  {
   "cell_type": "code",
   "execution_count": 295,
   "id": "9256cadd",
   "metadata": {},
   "outputs": [
    {
     "data": {
      "text/plain": [
       "False"
      ]
     },
     "execution_count": 295,
     "metadata": {},
     "output_type": "execute_result"
    }
   ],
   "source": [
    "1>3"
   ]
  },
  {
   "cell_type": "markdown",
   "id": "2c08bd73",
   "metadata": {},
   "source": [
    "### 8.1.2. 숫자가 같은지 다른지 비교하기"
   ]
  },
  {
   "cell_type": "code",
   "execution_count": 297,
   "id": "67d79ab6",
   "metadata": {},
   "outputs": [
    {
     "data": {
      "text/plain": [
       "True"
      ]
     },
     "execution_count": 297,
     "metadata": {},
     "output_type": "execute_result"
    }
   ],
   "source": [
    "10==10"
   ]
  },
  {
   "cell_type": "code",
   "execution_count": 298,
   "id": "11b734a7",
   "metadata": {},
   "outputs": [
    {
     "data": {
      "text/plain": [
       "True"
      ]
     },
     "execution_count": 298,
     "metadata": {},
     "output_type": "execute_result"
    }
   ],
   "source": [
    "10!=5"
   ]
  },
  {
   "cell_type": "markdown",
   "id": "4da6f274",
   "metadata": {},
   "source": [
    "### 8.1.3. 문자열이 같은지 다른지 비교하기"
   ]
  },
  {
   "cell_type": "code",
   "execution_count": 301,
   "id": "0db0354c",
   "metadata": {},
   "outputs": [
    {
     "data": {
      "text/plain": [
       "True"
      ]
     },
     "execution_count": 301,
     "metadata": {},
     "output_type": "execute_result"
    }
   ],
   "source": [
    "'Python' == 'Python'"
   ]
  },
  {
   "cell_type": "code",
   "execution_count": 303,
   "id": "60cbd1e0",
   "metadata": {},
   "outputs": [
    {
     "data": {
      "text/plain": [
       "False"
      ]
     },
     "execution_count": 303,
     "metadata": {},
     "output_type": "execute_result"
    }
   ],
   "source": [
    "'Python' == 'python'"
   ]
  },
  {
   "cell_type": "markdown",
   "id": "4e2f4403",
   "metadata": {},
   "source": [
    "### 8.1.4. 부등호 사용하기"
   ]
  },
  {
   "cell_type": "code",
   "execution_count": 304,
   "id": "9a02625d",
   "metadata": {},
   "outputs": [
    {
     "data": {
      "text/plain": [
       "False"
      ]
     },
     "execution_count": 304,
     "metadata": {},
     "output_type": "execute_result"
    }
   ],
   "source": [
    "10>20"
   ]
  },
  {
   "cell_type": "markdown",
   "id": "f0909f62",
   "metadata": {},
   "source": [
    "### 8.1.5. 객체가 같은지 다른지 비교하기"
   ]
  },
  {
   "cell_type": "code",
   "execution_count": 305,
   "id": "0fe773ff",
   "metadata": {},
   "outputs": [
    {
     "data": {
      "text/plain": [
       "True"
      ]
     },
     "execution_count": 305,
     "metadata": {},
     "output_type": "execute_result"
    }
   ],
   "source": [
    "1==1.0"
   ]
  },
  {
   "cell_type": "markdown",
   "id": "1d22837b",
   "metadata": {},
   "source": [
    ">1과 1.0은 정수와 실수라는 차이점이 있지만 값은 같다."
   ]
  },
  {
   "cell_type": "code",
   "execution_count": 306,
   "id": "f34805ff",
   "metadata": {},
   "outputs": [
    {
     "name": "stderr",
     "output_type": "stream",
     "text": [
      "<>:1: SyntaxWarning: \"is\" with a literal. Did you mean \"==\"?\n",
      "<>:1: SyntaxWarning: \"is\" with a literal. Did you mean \"==\"?\n",
      "/tmp/ipykernel_174/3336455986.py:1: SyntaxWarning: \"is\" with a literal. Did you mean \"==\"?\n",
      "  1 is 1.0\n"
     ]
    },
    {
     "data": {
      "text/plain": [
       "False"
      ]
     },
     "execution_count": 306,
     "metadata": {},
     "output_type": "execute_result"
    }
   ],
   "source": [
    "1 is 1.0"
   ]
  },
  {
   "cell_type": "markdown",
   "id": "caf5eecf",
   "metadata": {},
   "source": [
    ">1과 1.0은 각각 정수 객체, 실수 객체이므로 객체로서는 서로 다르다."
   ]
  },
  {
   "cell_type": "code",
   "execution_count": 309,
   "id": "102a0d93",
   "metadata": {},
   "outputs": [
    {
     "name": "stdout",
     "output_type": "stream",
     "text": [
      "140467712256304\n",
      "140467644419856\n"
     ]
    }
   ],
   "source": [
    "print(id(1),id(1.0),sep='\\n')"
   ]
  },
  {
   "cell_type": "markdown",
   "id": "833ea4ce",
   "metadata": {},
   "source": [
    "## 8.2. 논리 연산자 사용하기"
   ]
  },
  {
   "cell_type": "markdown",
   "id": "61c79b64",
   "metadata": {},
   "source": [
    "### 8.2.1. 논리 연산자와 비교 연산자를 함께 사용하기"
   ]
  },
  {
   "cell_type": "code",
   "execution_count": 315,
   "id": "808e708e",
   "metadata": {},
   "outputs": [
    {
     "name": "stdout",
     "output_type": "stream",
     "text": [
      "False\n",
      "True\n",
      "True\n",
      "True\n",
      "False\n",
      "False\n"
     ]
    }
   ],
   "source": [
    "print(bool(0))\n",
    "print(bool(1))\n",
    "print(bool(2))\n",
    "print(bool(3))\n",
    "print(bool(0.0))\n",
    "print(bool(0.00))"
   ]
  },
  {
   "cell_type": "markdown",
   "id": "5a7dbdc6",
   "metadata": {},
   "source": [
    "$$\\text{bool}(x)=\\begin{cases}\n",
    "\\text{'False'}&(x==0)\\\\\n",
    "\\text{'True'}&(\\text{otherwise})\n",
    "\\end{cases}$$"
   ]
  },
  {
   "cell_type": "markdown",
   "id": "ca6793a1",
   "metadata": {},
   "source": [
    "> 문자열 'Python'도 불로 따지면 True라서 True and True가 되어 True가 나올 것 같지만 'Python'이 나왔습니다. 왜냐하면 파이썬에서 논리 연산자는 마지막으로 단락 평가를 실시한 값을 그대로 반환하기 때문입니다. 따라서 논리 연산자는 무조건 불을 반환하지 않습니다."
   ]
  },
  {
   "cell_type": "code",
   "execution_count": 326,
   "id": "4ba47cec",
   "metadata": {},
   "outputs": [
    {
     "data": {
      "text/plain": [
       "'Python'"
      ]
     },
     "execution_count": 326,
     "metadata": {},
     "output_type": "execute_result"
    }
   ],
   "source": [
    "True and 'Python'"
   ]
  },
  {
   "cell_type": "markdown",
   "id": "ea25fe94",
   "metadata": {},
   "source": [
    "마지막으로 단락평가를 실시한 값이 'Python'이므로 'Python'이 출력된다."
   ]
  },
  {
   "cell_type": "code",
   "execution_count": 327,
   "id": "cdc05f90",
   "metadata": {},
   "outputs": [
    {
     "data": {
      "text/plain": [
       "True"
      ]
     },
     "execution_count": 327,
     "metadata": {},
     "output_type": "execute_result"
    }
   ],
   "source": [
    "True or 'Python'"
   ]
  },
  {
   "cell_type": "markdown",
   "id": "269dbce3",
   "metadata": {},
   "source": [
    "\"True or\"에서 이미 boolean 값이 True로 결정된다."
   ]
  },
  {
   "cell_type": "code",
   "execution_count": 336,
   "id": "9b1c986c",
   "metadata": {},
   "outputs": [
    {
     "data": {
      "text/plain": [
       "True"
      ]
     },
     "execution_count": 336,
     "metadata": {},
     "output_type": "execute_result"
    }
   ],
   "source": [
    "'Python' and True"
   ]
  },
  {
   "cell_type": "markdown",
   "id": "3be03982",
   "metadata": {},
   "source": [
    "마지막으로 단락평가를 실시한 값이 True이므로 True가 출력된다."
   ]
  },
  {
   "cell_type": "code",
   "execution_count": 330,
   "id": "df38b1ea",
   "metadata": {},
   "outputs": [
    {
     "data": {
      "text/plain": [
       "'Python'"
      ]
     },
     "execution_count": 330,
     "metadata": {},
     "output_type": "execute_result"
    }
   ],
   "source": [
    "'Python' or True"
   ]
  },
  {
   "cell_type": "markdown",
   "id": "be442552",
   "metadata": {},
   "source": [
    "\"or True\"에서 이미 boolean 값이 True로 결정된다."
   ]
  },
  {
   "cell_type": "code",
   "execution_count": 332,
   "id": "76bab0ce",
   "metadata": {},
   "outputs": [
    {
     "data": {
      "text/plain": [
       "False"
      ]
     },
     "execution_count": 332,
     "metadata": {},
     "output_type": "execute_result"
    }
   ],
   "source": [
    "False and 'Python'"
   ]
  },
  {
   "cell_type": "markdown",
   "id": "4258d4e3",
   "metadata": {},
   "source": [
    "\"False and\"에서 이미 boolean 값이 False로 결정된다."
   ]
  },
  {
   "cell_type": "code",
   "execution_count": 333,
   "id": "a59f80f0",
   "metadata": {},
   "outputs": [
    {
     "data": {
      "text/plain": [
       "'Python'"
      ]
     },
     "execution_count": 333,
     "metadata": {},
     "output_type": "execute_result"
    }
   ],
   "source": [
    "False or 'Python'"
   ]
  },
  {
   "cell_type": "markdown",
   "id": "965f9b01",
   "metadata": {},
   "source": [
    "마지막으로 단락평가를 실시한 값이 'Python'이므로 'Python'이 출력된다."
   ]
  },
  {
   "cell_type": "code",
   "execution_count": 334,
   "id": "2baa7c97",
   "metadata": {},
   "outputs": [
    {
     "data": {
      "text/plain": [
       "False"
      ]
     },
     "execution_count": 334,
     "metadata": {},
     "output_type": "execute_result"
    }
   ],
   "source": [
    "'Python' and False"
   ]
  },
  {
   "cell_type": "markdown",
   "id": "9cf112b4",
   "metadata": {},
   "source": [
    "\"and False\"에서 이미 boolean 값이 False로 결정된다."
   ]
  },
  {
   "cell_type": "code",
   "execution_count": 337,
   "id": "a252ba74",
   "metadata": {},
   "outputs": [
    {
     "data": {
      "text/plain": [
       "'Python'"
      ]
     },
     "execution_count": 337,
     "metadata": {},
     "output_type": "execute_result"
    }
   ],
   "source": [
    "'Python' or False"
   ]
  },
  {
   "cell_type": "markdown",
   "id": "3fa9ee91",
   "metadata": {},
   "source": [
    "★★★★★★ 이건 뭐지?\n",
    "\n",
    "가설 : A or B는 $max\\{A,B\\}$의 의미이다.\n",
    "예를 들어\n",
    "\n",
    "True or True = max{1,1}=1=True\n",
    "\n",
    "True or False = max{1,0}=1=True\n",
    "\n",
    "False or True = max{0,1}=1=True\n",
    "\n",
    "False or False = max{0,0}=0=False\n",
    "\n",
    "그런데 임의의 문자열 x에 대하여 x\\ge0이다. 따라서\n",
    "\n",
    "'Python' or False = max{x,0}=x='Python'\n",
    "\n",
    "이다. 즉 A or B = $\\max\\{A, B\\}$, A and B = $\\min\\{A, B\\}$라는 것인데, 이 가설은 $(A,B)\\in\\{0,1\\}^2$인 경우에는 참이다. 하지만 다른 경우에는 예외가 있다. $0\\le\\text{'Python'}\\le1$로 가정하고 생각해봤을 때, \n",
    "\n",
    "'Python' and True = True\n",
    "\n",
    "인 것이 설명되지 않는다.\n",
    "\n",
    "'Python' and True = $\\min\\{\\text{'Python'}, 1\\}$='Python' 이어야 할 것 같기 떄문이다."
   ]
  },
  {
   "cell_type": "code",
   "execution_count": 321,
   "id": "99c5d215",
   "metadata": {},
   "outputs": [
    {
     "data": {
      "text/plain": [
       "10"
      ]
     },
     "execution_count": 321,
     "metadata": {},
     "output_type": "execute_result"
    }
   ],
   "source": [
    "True and 10"
   ]
  },
  {
   "cell_type": "code",
   "execution_count": 338,
   "id": "81b0b63e",
   "metadata": {},
   "outputs": [
    {
     "data": {
      "text/plain": [
       "True"
      ]
     },
     "execution_count": 338,
     "metadata": {},
     "output_type": "execute_result"
    }
   ],
   "source": [
    "True or 10"
   ]
  },
  {
   "cell_type": "code",
   "execution_count": 340,
   "id": "86984259",
   "metadata": {},
   "outputs": [
    {
     "data": {
      "text/plain": [
       "True"
      ]
     },
     "execution_count": 340,
     "metadata": {},
     "output_type": "execute_result"
    }
   ],
   "source": [
    "10 and True"
   ]
  },
  {
   "cell_type": "code",
   "execution_count": 341,
   "id": "44816034",
   "metadata": {},
   "outputs": [
    {
     "data": {
      "text/plain": [
       "10"
      ]
     },
     "execution_count": 341,
     "metadata": {},
     "output_type": "execute_result"
    }
   ],
   "source": [
    "10 or True"
   ]
  },
  {
   "cell_type": "code",
   "execution_count": 342,
   "id": "e100f88b",
   "metadata": {},
   "outputs": [
    {
     "data": {
      "text/plain": [
       "False"
      ]
     },
     "execution_count": 342,
     "metadata": {},
     "output_type": "execute_result"
    }
   ],
   "source": [
    "False and 10"
   ]
  },
  {
   "cell_type": "code",
   "execution_count": 343,
   "id": "fd1c4f4a",
   "metadata": {},
   "outputs": [
    {
     "data": {
      "text/plain": [
       "10"
      ]
     },
     "execution_count": 343,
     "metadata": {},
     "output_type": "execute_result"
    }
   ],
   "source": [
    "False or 10"
   ]
  },
  {
   "cell_type": "code",
   "execution_count": 344,
   "id": "d2d7a113",
   "metadata": {},
   "outputs": [
    {
     "data": {
      "text/plain": [
       "False"
      ]
     },
     "execution_count": 344,
     "metadata": {},
     "output_type": "execute_result"
    }
   ],
   "source": [
    "10 and False"
   ]
  },
  {
   "cell_type": "code",
   "execution_count": 345,
   "id": "c27a4b01",
   "metadata": {},
   "outputs": [
    {
     "data": {
      "text/plain": [
       "10"
      ]
     },
     "execution_count": 345,
     "metadata": {},
     "output_type": "execute_result"
    }
   ],
   "source": [
    "10 or False"
   ]
  },
  {
   "cell_type": "markdown",
   "id": "45bb9229",
   "metadata": {},
   "source": [
    "'Python'을 10으로 대체했을 때에도 결과가 완전히 같다."
   ]
  },
  {
   "cell_type": "code",
   "execution_count": 339,
   "id": "f56369d4",
   "metadata": {
    "scrolled": true
   },
   "outputs": [
    {
     "data": {
      "text/plain": [
       "3"
      ]
     },
     "execution_count": 339,
     "metadata": {},
     "output_type": "execute_result"
    }
   ],
   "source": [
    "True+2"
   ]
  },
  {
   "cell_type": "markdown",
   "id": "4daa7a8a",
   "metadata": {},
   "source": [
    "True는 숫자 1로도 동작한다."
   ]
  },
  {
   "cell_type": "code",
   "execution_count": 323,
   "id": "c3b8b357",
   "metadata": {},
   "outputs": [
    {
     "name": "stdout",
     "output_type": "stream",
     "text": [
      "<class 'bool'>\n"
     ]
    }
   ],
   "source": [
    "print(type(True))"
   ]
  },
  {
   "cell_type": "code",
   "execution_count": 324,
   "id": "5f1c7e62",
   "metadata": {},
   "outputs": [
    {
     "data": {
      "text/plain": [
       "'Python'"
      ]
     },
     "execution_count": 324,
     "metadata": {},
     "output_type": "execute_result"
    }
   ],
   "source": [
    "True and 'Python'"
   ]
  },
  {
   "cell_type": "markdown",
   "id": "7fd4af39",
   "metadata": {},
   "source": [
    "## 8.3. 퀴즈"
   ]
  },
  {
   "cell_type": "markdown",
   "id": "7740555e",
   "metadata": {},
   "source": [
    "#### 2번 문제"
   ]
  },
  {
   "cell_type": "code",
   "execution_count": 346,
   "id": "7f47be24",
   "metadata": {},
   "outputs": [
    {
     "data": {
      "text/plain": [
       "True"
      ]
     },
     "execution_count": 346,
     "metadata": {},
     "output_type": "execute_result"
    }
   ],
   "source": [
    "6==2*3"
   ]
  },
  {
   "cell_type": "code",
   "execution_count": 347,
   "id": "171860d8",
   "metadata": {},
   "outputs": [
    {
     "name": "stderr",
     "output_type": "stream",
     "text": [
      "<>:1: SyntaxWarning: \"is\" with a literal. Did you mean \"==\"?\n",
      "<>:1: SyntaxWarning: \"is\" with a literal. Did you mean \"==\"?\n",
      "/tmp/ipykernel_174/1350344336.py:1: SyntaxWarning: \"is\" with a literal. Did you mean \"==\"?\n",
      "  6 is 2*3\n"
     ]
    },
    {
     "data": {
      "text/plain": [
       "True"
      ]
     },
     "execution_count": 347,
     "metadata": {},
     "output_type": "execute_result"
    }
   ],
   "source": [
    "6 is 2*3"
   ]
  },
  {
   "cell_type": "code",
   "execution_count": 348,
   "id": "d556f85e",
   "metadata": {},
   "outputs": [
    {
     "name": "stdout",
     "output_type": "stream",
     "text": [
      "<class 'int'>\n"
     ]
    }
   ],
   "source": [
    "print(type(2*3))"
   ]
  },
  {
   "cell_type": "markdown",
   "id": "6e0def6e",
   "metadata": {},
   "source": [
    "#### 3번 문제"
   ]
  },
  {
   "cell_type": "code",
   "execution_count": 349,
   "id": "1510b59e",
   "metadata": {},
   "outputs": [
    {
     "ename": "SyntaxError",
     "evalue": "cannot assign to operator (4282741320.py, line 1)",
     "output_type": "error",
     "traceback": [
      "\u001b[0;36m  File \u001b[0;32m\"/tmp/ipykernel_174/4282741320.py\"\u001b[0;36m, line \u001b[0;32m1\u001b[0m\n\u001b[0;31m    a=10 or b=10\u001b[0m\n\u001b[0m      ^\u001b[0m\n\u001b[0;31mSyntaxError\u001b[0m\u001b[0;31m:\u001b[0m cannot assign to operator\n"
     ]
    }
   ],
   "source": [
    "a=10 or b=10"
   ]
  },
  {
   "cell_type": "code",
   "execution_count": 350,
   "id": "d243cac9",
   "metadata": {},
   "outputs": [
    {
     "ename": "SyntaxError",
     "evalue": "cannot assign to operator (2165501183.py, line 1)",
     "output_type": "error",
     "traceback": [
      "\u001b[0;36m  File \u001b[0;32m\"/tmp/ipykernel_174/2165501183.py\"\u001b[0;36m, line \u001b[0;32m1\u001b[0m\n\u001b[0;31m    True or b=10\u001b[0m\n\u001b[0m    ^\u001b[0m\n\u001b[0;31mSyntaxError\u001b[0m\u001b[0;31m:\u001b[0m cannot assign to operator\n"
     ]
    }
   ],
   "source": [
    "True or b=10"
   ]
  },
  {
   "cell_type": "code",
   "execution_count": 351,
   "id": "0456b8f5",
   "metadata": {},
   "outputs": [
    {
     "data": {
      "text/plain": [
       "True"
      ]
     },
     "execution_count": 351,
     "metadata": {},
     "output_type": "execute_result"
    }
   ],
   "source": [
    "True or b"
   ]
  },
  {
   "cell_type": "markdown",
   "id": "369057aa",
   "metadata": {},
   "source": [
    "## 8.4. 연습문제 : 합격 여부 출력하기"
   ]
  },
  {
   "cell_type": "code",
   "execution_count": 353,
   "id": "65d33dab",
   "metadata": {},
   "outputs": [
    {
     "name": "stdout",
     "output_type": "stream",
     "text": [
      "100 100 100 50\n",
      "False\n"
     ]
    }
   ],
   "source": [
    "a,b,c,d = map(int,input().split())\n",
    "print(a >= 90 and b > 80 and c > 85 and d >=80)"
   ]
  },
  {
   "cell_type": "markdown",
   "id": "13561d6f",
   "metadata": {},
   "source": [
    "# 9. 문자열 사용하기"
   ]
  },
  {
   "cell_type": "markdown",
   "id": "6bb6f106",
   "metadata": {},
   "source": [
    "## 9.1. 문자열 사용하기"
   ]
  },
  {
   "cell_type": "code",
   "execution_count": 361,
   "id": "68fc812c",
   "metadata": {},
   "outputs": [
    {
     "data": {
      "text/plain": [
       "'Hello, world!'"
      ]
     },
     "execution_count": 361,
     "metadata": {},
     "output_type": "execute_result"
    }
   ],
   "source": [
    "hello = 'Hello, world!'\n",
    "hello"
   ]
  },
  {
   "cell_type": "code",
   "execution_count": 362,
   "id": "49fed3a7",
   "metadata": {},
   "outputs": [
    {
     "data": {
      "text/plain": [
       "'Hello, world'"
      ]
     },
     "execution_count": 362,
     "metadata": {},
     "output_type": "execute_result"
    }
   ],
   "source": [
    "hello = \"Hello, world\"\n",
    "hello"
   ]
  },
  {
   "cell_type": "code",
   "execution_count": 363,
   "id": "3b3f2a05",
   "metadata": {},
   "outputs": [
    {
     "ename": "SyntaxError",
     "evalue": "invalid syntax (4072323194.py, line 1)",
     "output_type": "error",
     "traceback": [
      "\u001b[0;36m  File \u001b[0;32m\"/tmp/ipykernel_174/4072323194.py\"\u001b[0;36m, line \u001b[0;32m1\u001b[0m\n\u001b[0;31m    hello = ''Hello, world!''\u001b[0m\n\u001b[0m              ^\u001b[0m\n\u001b[0;31mSyntaxError\u001b[0m\u001b[0;31m:\u001b[0m invalid syntax\n"
     ]
    }
   ],
   "source": [
    "hello = ''Hello, world!''\n",
    "hello"
   ]
  },
  {
   "cell_type": "code",
   "execution_count": 364,
   "id": "9c7ae5c8",
   "metadata": {},
   "outputs": [
    {
     "ename": "SyntaxError",
     "evalue": "EOF while scanning triple-quoted string literal (4098890314.py, line 2)",
     "output_type": "error",
     "traceback": [
      "\u001b[0;36m  File \u001b[0;32m\"/tmp/ipykernel_174/4098890314.py\"\u001b[0;36m, line \u001b[0;32m2\u001b[0m\n\u001b[0;31m    hello\u001b[0m\n\u001b[0m         \n^\u001b[0m\n\u001b[0;31mSyntaxError\u001b[0m\u001b[0;31m:\u001b[0m EOF while scanning triple-quoted string literal\n"
     ]
    }
   ],
   "source": [
    "hello = \"\"\"Hello, world!\"\"\n",
    "hello"
   ]
  },
  {
   "cell_type": "code",
   "execution_count": 365,
   "id": "203456b0",
   "metadata": {},
   "outputs": [
    {
     "data": {
      "text/plain": [
       "'Hello, world!'"
      ]
     },
     "execution_count": 365,
     "metadata": {},
     "output_type": "execute_result"
    }
   ],
   "source": [
    "hello = '''Hello, world!'''\n",
    "hello"
   ]
  },
  {
   "cell_type": "code",
   "execution_count": 366,
   "id": "5d0db9f3",
   "metadata": {},
   "outputs": [
    {
     "data": {
      "text/plain": [
       "'Hello, world!'"
      ]
     },
     "execution_count": 366,
     "metadata": {},
     "output_type": "execute_result"
    }
   ],
   "source": [
    "hello = \"\"\"Hello, world!\"\"\"\n",
    "hello"
   ]
  },
  {
   "cell_type": "code",
   "execution_count": 367,
   "id": "54de8ac6",
   "metadata": {},
   "outputs": [
    {
     "ename": "SyntaxError",
     "evalue": "EOL while scanning string literal (958330681.py, line 1)",
     "output_type": "error",
     "traceback": [
      "\u001b[0;36m  File \u001b[0;32m\"/tmp/ipykernel_174/958330681.py\"\u001b[0;36m, line \u001b[0;32m1\u001b[0m\n\u001b[0;31m    hello = ''''Hello, world!''''\u001b[0m\n\u001b[0m                                 ^\u001b[0m\n\u001b[0;31mSyntaxError\u001b[0m\u001b[0;31m:\u001b[0m EOL while scanning string literal\n"
     ]
    }
   ],
   "source": [
    "hello = ''''Hello, world!''''\n",
    "hello"
   ]
  },
  {
   "cell_type": "code",
   "execution_count": 368,
   "id": "5226cefc",
   "metadata": {},
   "outputs": [
    {
     "data": {
      "text/plain": [
       "\"''Hello, world!\""
      ]
     },
     "execution_count": 368,
     "metadata": {},
     "output_type": "execute_result"
    }
   ],
   "source": [
    "hello = '''''Hello, world!'''''\n",
    "hello"
   ]
  },
  {
   "cell_type": "markdown",
   "id": "9170797e",
   "metadata": {},
   "source": [
    "작은따옴표 혹은 큰따옴표가가 홀수개이면 먹히지만, 짝수개일때는 먹히지 않는다. 가령 '''Hello, world!'''라고 적을 때에 맨 앞의 작은따옴표 세 개에서 앞의 두 개는 서로 상쇄되어 없어지는 것 같다. 그러니까 실제로는 작은따옴표가 한 개 있는 것과 같은 것이다.\n",
    "\n",
    "하지만 다음 예에서 보듯 '와 '''는 차이가 있는 것 같기도 하다."
   ]
  },
  {
   "cell_type": "markdown",
   "id": "b2a00b8d",
   "metadata": {},
   "source": [
    "### 9.1.1. 여러 줄로 된 문자열 사용하기."
   ]
  },
  {
   "cell_type": "code",
   "execution_count": 372,
   "id": "cfcbc576",
   "metadata": {},
   "outputs": [
    {
     "name": "stdout",
     "output_type": "stream",
     "text": [
      "Hello world!\n",
      "안녕하세요.\n",
      "Python입니다.\n"
     ]
    }
   ],
   "source": [
    "hello = '''Hello world!\n",
    "안녕하세요.\n",
    "Python입니다.'''\n",
    "print(hello)"
   ]
  },
  {
   "cell_type": "code",
   "execution_count": 373,
   "id": "7ddb0562",
   "metadata": {},
   "outputs": [
    {
     "data": {
      "text/plain": [
       "'Hello world!\\n안녕하세요.\\nPython입니다.'"
      ]
     },
     "execution_count": 373,
     "metadata": {},
     "output_type": "execute_result"
    }
   ],
   "source": [
    "hello = '''Hello world!\n",
    "안녕하세요.\n",
    "Python입니다.'''\n",
    "hello"
   ]
  },
  {
   "cell_type": "code",
   "execution_count": 378,
   "id": "529e6a4e",
   "metadata": {},
   "outputs": [
    {
     "ename": "SyntaxError",
     "evalue": "EOL while scanning string literal (4150390292.py, line 1)",
     "output_type": "error",
     "traceback": [
      "\u001b[0;36m  File \u001b[0;32m\"/tmp/ipykernel_174/4150390292.py\"\u001b[0;36m, line \u001b[0;32m1\u001b[0m\n\u001b[0;31m    hello = 'Hello world!\u001b[0m\n\u001b[0m                         ^\u001b[0m\n\u001b[0;31mSyntaxError\u001b[0m\u001b[0;31m:\u001b[0m EOL while scanning string literal\n"
     ]
    }
   ],
   "source": [
    "hello = 'Hello world!\n",
    "안녕하세요.\n",
    "Python입니다.'\n",
    "print(hello)"
   ]
  },
  {
   "cell_type": "code",
   "execution_count": 379,
   "id": "d999d4f6",
   "metadata": {},
   "outputs": [
    {
     "ename": "SyntaxError",
     "evalue": "invalid syntax (664608060.py, line 1)",
     "output_type": "error",
     "traceback": [
      "\u001b[0;36m  File \u001b[0;32m\"/tmp/ipykernel_174/664608060.py\"\u001b[0;36m, line \u001b[0;32m1\u001b[0m\n\u001b[0;31m    hello = ''Hello world!\u001b[0m\n\u001b[0m              ^\u001b[0m\n\u001b[0;31mSyntaxError\u001b[0m\u001b[0;31m:\u001b[0m invalid syntax\n"
     ]
    }
   ],
   "source": [
    "hello = ''Hello world!\n",
    "안녕하세요.\n",
    "Python입니다.''\n",
    "print(hello)"
   ]
  },
  {
   "cell_type": "code",
   "execution_count": 380,
   "id": "cf5528e9",
   "metadata": {},
   "outputs": [
    {
     "ename": "SyntaxError",
     "evalue": "EOL while scanning string literal (423250409.py, line 3)",
     "output_type": "error",
     "traceback": [
      "\u001b[0;36m  File \u001b[0;32m\"/tmp/ipykernel_174/423250409.py\"\u001b[0;36m, line \u001b[0;32m3\u001b[0m\n\u001b[0;31m    Python입니다.''''\u001b[0m\n\u001b[0m                  \n^\u001b[0m\n\u001b[0;31mSyntaxError\u001b[0m\u001b[0;31m:\u001b[0m EOL while scanning string literal\n"
     ]
    }
   ],
   "source": [
    "hello = ''''Hello world!\n",
    "안녕하세요.\n",
    "Python입니다.''''\n",
    "print(hello)"
   ]
  },
  {
   "cell_type": "code",
   "execution_count": 381,
   "id": "a4c3eba5",
   "metadata": {},
   "outputs": [
    {
     "name": "stdout",
     "output_type": "stream",
     "text": [
      "''Hello world!\n",
      "안녕하세요.\n",
      "Python입니다.\n"
     ]
    }
   ],
   "source": [
    "hello = '''''Hello world!\n",
    "안녕하세요.\n",
    "Python입니다.'''''\n",
    "print(hello)"
   ]
  },
  {
   "cell_type": "markdown",
   "id": "efc0d0d3",
   "metadata": {},
   "source": [
    "이번에도 다섯 개는 세 개와 마찬가지로 된다. 한 개, 두 개, 네 개는 안된다."
   ]
  },
  {
   "cell_type": "code",
   "execution_count": 388,
   "id": "ac5cfafd",
   "metadata": {},
   "outputs": [
    {
     "name": "stdout",
     "output_type": "stream",
     "text": [
      "Hello world!\n",
      "안녕하세요.\n",
      "Python입니다.\n"
     ]
    }
   ],
   "source": [
    "hello = \"\"\"Hello world!\n",
    "안녕하세요.\n",
    "Python입니다.\"\"\"\n",
    "print(hello)"
   ]
  },
  {
   "cell_type": "markdown",
   "id": "ad1fbe09",
   "metadata": {},
   "source": [
    "### 9.1.2. 문자열 안에 작은따옴표나 큰따옴표 포함하기"
   ]
  },
  {
   "cell_type": "code",
   "execution_count": 383,
   "id": "15602b53",
   "metadata": {},
   "outputs": [
    {
     "name": "stdout",
     "output_type": "stream",
     "text": [
      "Python isn't difficult\n"
     ]
    }
   ],
   "source": [
    "s = \"Python isn't difficult\"\n",
    "print(s)"
   ]
  },
  {
   "cell_type": "code",
   "execution_count": 385,
   "id": "8c2cf161",
   "metadata": {},
   "outputs": [
    {
     "name": "stdout",
     "output_type": "stream",
     "text": [
      "Python isn't difficult\n"
     ]
    }
   ],
   "source": [
    "s = 'Python isn\\'t difficult'\n",
    "print(s)"
   ]
  },
  {
   "cell_type": "code",
   "execution_count": 384,
   "id": "b35d1745",
   "metadata": {},
   "outputs": [
    {
     "name": "stdout",
     "output_type": "stream",
     "text": [
      "He said \"Python is easy\"\n"
     ]
    }
   ],
   "source": [
    "s = 'He said \"Python is easy\"'\n",
    "print(s)"
   ]
  },
  {
   "cell_type": "code",
   "execution_count": 386,
   "id": "6e2d6cbf",
   "metadata": {},
   "outputs": [
    {
     "name": "stdout",
     "output_type": "stream",
     "text": [
      "He said \"Python is easy\"\n"
     ]
    }
   ],
   "source": [
    "s = \"He said \\\"Python is easy\\\"\"\n",
    "print(s)"
   ]
  },
  {
   "cell_type": "markdown",
   "id": "1797b819",
   "metadata": {},
   "source": [
    "## 9.2. 퀴즈"
   ]
  },
  {
   "cell_type": "markdown",
   "id": "3ec1f26b",
   "metadata": {},
   "source": [
    "#### 3번 문제"
   ]
  },
  {
   "cell_type": "code",
   "execution_count": 396,
   "id": "097bff75",
   "metadata": {},
   "outputs": [
    {
     "name": "stdout",
     "output_type": "stream",
     "text": [
      "Hello, 'Python'\n"
     ]
    }
   ],
   "source": [
    "print('Hello, \\'Python\\'')"
   ]
  },
  {
   "cell_type": "code",
   "execution_count": 397,
   "id": "40543f77",
   "metadata": {},
   "outputs": [
    {
     "ename": "SyntaxError",
     "evalue": "invalid syntax (2109327760.py, line 1)",
     "output_type": "error",
     "traceback": [
      "\u001b[0;36m  File \u001b[0;32m\"/tmp/ipykernel_174/2109327760.py\"\u001b[0;36m, line \u001b[0;32m1\u001b[0m\n\u001b[0;31m    print('Hello, 'Python'')\u001b[0m\n\u001b[0m                   ^\u001b[0m\n\u001b[0;31mSyntaxError\u001b[0m\u001b[0;31m:\u001b[0m invalid syntax\n"
     ]
    }
   ],
   "source": [
    "print('Hello, 'Python'')"
   ]
  },
  {
   "cell_type": "code",
   "execution_count": 398,
   "id": "5c4b03e7",
   "metadata": {},
   "outputs": [
    {
     "name": "stdout",
     "output_type": "stream",
     "text": [
      "Hello, 'Python'\n"
     ]
    }
   ],
   "source": [
    "print(\"Hello, 'Python'\")"
   ]
  },
  {
   "cell_type": "code",
   "execution_count": 399,
   "id": "6acd5448",
   "metadata": {},
   "outputs": [
    {
     "name": "stdout",
     "output_type": "stream",
     "text": [
      "\"Hello\", Python\n"
     ]
    }
   ],
   "source": [
    "print(\"\"\"\"Hello\", Python\"\"\")"
   ]
  },
  {
   "cell_type": "code",
   "execution_count": 400,
   "id": "13d171fa",
   "metadata": {},
   "outputs": [
    {
     "ename": "SyntaxError",
     "evalue": "invalid syntax (3245846950.py, line 1)",
     "output_type": "error",
     "traceback": [
      "\u001b[0;36m  File \u001b[0;32m\"/tmp/ipykernel_174/3245846950.py\"\u001b[0;36m, line \u001b[0;32m1\u001b[0m\n\u001b[0;31m    print(\"\"Hello\", Python\")\u001b[0m\n\u001b[0m            ^\u001b[0m\n\u001b[0;31mSyntaxError\u001b[0m\u001b[0;31m:\u001b[0m invalid syntax\n"
     ]
    }
   ],
   "source": [
    "print(\"\"Hello\", Python\")"
   ]
  },
  {
   "cell_type": "code",
   "execution_count": null,
   "id": "f9847129",
   "metadata": {},
   "outputs": [],
   "source": []
  }
 ],
 "metadata": {
  "kernelspec": {
   "display_name": "Python 3 (ipykernel)",
   "language": "python",
   "name": "python3"
  },
  "language_info": {
   "codemirror_mode": {
    "name": "ipython",
    "version": 3
   },
   "file_extension": ".py",
   "mimetype": "text/x-python",
   "name": "python",
   "nbconvert_exporter": "python",
   "pygments_lexer": "ipython3",
   "version": "3.9.7"
  }
 },
 "nbformat": 4,
 "nbformat_minor": 5
}
