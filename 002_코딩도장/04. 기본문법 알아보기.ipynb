{
 "cells": [
  {
   "cell_type": "markdown",
   "id": "21f84077",
   "metadata": {},
   "source": [
    "# 4. 기본 문법 알아보기"
   ]
  },
  {
   "cell_type": "markdown",
   "id": "d9ef8672",
   "metadata": {},
   "source": [
    "## 4.1. 세미콜론"
   ]
  },
  {
   "cell_type": "code",
   "execution_count": 1,
   "id": "2b78d816",
   "metadata": {},
   "outputs": [
    {
     "name": "stdout",
     "output_type": "stream",
     "text": [
      "Hello, world!\n"
     ]
    }
   ],
   "source": [
    "print('Hello, world!')"
   ]
  },
  {
   "cell_type": "code",
   "execution_count": 2,
   "id": "77fc692c",
   "metadata": {},
   "outputs": [
    {
     "name": "stdout",
     "output_type": "stream",
     "text": [
      "Hello, world!\n",
      "1234\n"
     ]
    }
   ],
   "source": [
    "print('Hello, world!') ; print('1234')"
   ]
  },
  {
   "cell_type": "markdown",
   "id": "e000f5c1",
   "metadata": {},
   "source": [
    "## 4.2. 주석"
   ]
  },
  {
   "cell_type": "markdown",
   "id": "fc01640a",
   "metadata": {},
   "source": [
    "### 4.2.1. 한 줄 주석"
   ]
  },
  {
   "cell_type": "code",
   "execution_count": 3,
   "id": "d2645f1f",
   "metadata": {},
   "outputs": [],
   "source": [
    "#print('Hello, world!')"
   ]
  },
  {
   "cell_type": "code",
   "execution_count": 5,
   "id": "943f3714",
   "metadata": {},
   "outputs": [
    {
     "name": "stdout",
     "output_type": "stream",
     "text": [
      "Hello, world\n"
     ]
    }
   ],
   "source": [
    "a = 1 + 2 #더하기\n",
    "print('Hello, world') #printf('1234567890')"
   ]
  },
  {
   "cell_type": "code",
   "execution_count": 6,
   "id": "3150cdfa",
   "metadata": {},
   "outputs": [
    {
     "name": "stdout",
     "output_type": "stream",
     "text": [
      "Hello, world!\n",
      "1234567890\n"
     ]
    }
   ],
   "source": [
    "print('Hello, world!')\n",
    "print('1234567890')"
   ]
  },
  {
   "cell_type": "markdown",
   "id": "dd27fcb8",
   "metadata": {},
   "source": [
    "### 4.2.2. 블록 주석"
   ]
  },
  {
   "cell_type": "code",
   "execution_count": 8,
   "id": "58e31e56",
   "metadata": {},
   "outputs": [
    {
     "name": "stdout",
     "output_type": "stream",
     "text": [
      "Hello, world!\n",
      "1234567890\n"
     ]
    }
   ],
   "source": [
    "print('Hello, world!')\n",
    "print('1234567890')"
   ]
  },
  {
   "cell_type": "code",
   "execution_count": 7,
   "id": "0ec283d3",
   "metadata": {},
   "outputs": [],
   "source": [
    "# print('Hello, world!')\n",
    "# print('1234567890')"
   ]
  },
  {
   "cell_type": "code",
   "execution_count": 9,
   "id": "b3affef5",
   "metadata": {},
   "outputs": [],
   "source": [
    "# 단축키는 'Ctrl + /'"
   ]
  },
  {
   "cell_type": "markdown",
   "id": "ceb2fef0",
   "metadata": {},
   "source": [
    "## 4.3. 들여쓰기"
   ]
  },
  {
   "cell_type": "code",
   "execution_count": 13,
   "id": "b42c2993",
   "metadata": {},
   "outputs": [],
   "source": [
    "# 네 칸 들여쓰기 (tab)\n",
    "if a==0:\n",
    "    print('10입니다.')"
   ]
  },
  {
   "cell_type": "code",
   "execution_count": 14,
   "id": "ad17f145",
   "metadata": {},
   "outputs": [],
   "source": [
    "# 두 칸 들여쓰기 (마찬가지로 동작함)\n",
    "if a==0:\n",
    "  print('10입니다.')"
   ]
  },
  {
   "cell_type": "markdown",
   "id": "d6a1e51c",
   "metadata": {},
   "source": [
    "## 4.4. 코드 블록"
   ]
  },
  {
   "cell_type": "markdown",
   "id": "41320262",
   "metadata": {},
   "source": [
    " - 코드 블록은 특정한 동작을 위해서 코드가 모여 있는 상태를 뜻한다.\n",
    " - 들여쓰기를 기준으로 코드 블록을 구성한다.\n",
    " - 들여쓰기 칸 수가 같아야 한다."
   ]
  },
  {
   "cell_type": "code",
   "execution_count": 15,
   "id": "016ad5b1",
   "metadata": {},
   "outputs": [],
   "source": [
    "if a == 10:\n",
    "      print('10')\n",
    "      print('입니다.')"
   ]
  },
  {
   "cell_type": "code",
   "execution_count": 16,
   "id": "7236d323",
   "metadata": {},
   "outputs": [],
   "source": [
    "if a == 10:\n",
    "  print('10')\n",
    "  print('입니다.')"
   ]
  },
  {
   "cell_type": "code",
   "execution_count": 18,
   "id": "77303d7e",
   "metadata": {},
   "outputs": [],
   "source": [
    "# 에러\n",
    "# if a == 10:\n",
    "#   print('10')\n",
    "#     print('입니다.')"
   ]
  },
  {
   "cell_type": "markdown",
   "id": "113a9459",
   "metadata": {},
   "source": [
    "## 4. 5*. 스스로 만든 퀴즈"
   ]
  },
  {
   "cell_type": "markdown",
   "id": "31cf9a01",
   "metadata": {},
   "source": [
    "다음 6개의 코드들이 작동하는지, 작동하지 않는지 판단해주세요."
   ]
  },
  {
   "cell_type": "code",
   "execution_count": 259,
   "id": "5edadab3",
   "metadata": {
    "scrolled": true
   },
   "outputs": [
    {
     "name": "stdout",
     "output_type": "stream",
     "text": [
      "1\n",
      "2\n",
      "3\n",
      "4\n",
      "5\n"
     ]
    }
   ],
   "source": [
    "#1 : 한 칸 indent\n",
    "a=0\n",
    "for i in range(5):\n",
    " a=a+1\n",
    " print(a)"
   ]
  },
  {
   "cell_type": "code",
   "execution_count": 260,
   "id": "7f82d926",
   "metadata": {},
   "outputs": [
    {
     "name": "stdout",
     "output_type": "stream",
     "text": [
      "1\n",
      "2\n",
      "3\n",
      "4\n",
      "5\n"
     ]
    }
   ],
   "source": [
    "#2 : 두 칸 indent\n",
    "a=0\n",
    "for i in range(5):\n",
    "  a=a+1\n",
    "  print(a)"
   ]
  },
  {
   "cell_type": "code",
   "execution_count": 261,
   "id": "b7834631",
   "metadata": {},
   "outputs": [
    {
     "name": "stdout",
     "output_type": "stream",
     "text": [
      "1\n",
      "2\n",
      "3\n",
      "4\n",
      "5\n"
     ]
    }
   ],
   "source": [
    "#3 : 세 칸 indent\n",
    "a=0\n",
    "for i in range(5):\n",
    "   a=a+1\n",
    "   print(a)"
   ]
  },
  {
   "cell_type": "code",
   "execution_count": 262,
   "id": "22e3e886",
   "metadata": {},
   "outputs": [
    {
     "name": "stdout",
     "output_type": "stream",
     "text": [
      "1\n",
      "2\n",
      "3\n",
      "4\n",
      "5\n"
     ]
    }
   ],
   "source": [
    "#4 : 네 칸 indent\n",
    "a=0\n",
    "for i in range(5):\n",
    "    a=a+1\n",
    "    print(a)"
   ]
  },
  {
   "cell_type": "code",
   "execution_count": 258,
   "id": "c5e8cb38",
   "metadata": {},
   "outputs": [
    {
     "name": "stdout",
     "output_type": "stream",
     "text": [
      "1\n",
      "2\n",
      "3\n",
      "4\n",
      "5\n"
     ]
    }
   ],
   "source": [
    "#4 tab indent\n",
    "a=0\n",
    "for i in range(5):\n",
    "    a=a+1\n",
    "    print(a)"
   ]
  },
  {
   "cell_type": "code",
   "execution_count": 264,
   "id": "6d100ce6",
   "metadata": {},
   "outputs": [
    {
     "name": "stdout",
     "output_type": "stream",
     "text": [
      "1\n",
      "2\n",
      "3\n",
      "4\n",
      "5\n"
     ]
    }
   ],
   "source": [
    "#5 다섯 칸 indent\n",
    "a=0\n",
    "for i in range(5):\n",
    " a=a+1\n",
    " print(a)"
   ]
  }
 ],
 "metadata": {
  "kernelspec": {
   "display_name": "Python 3 (ipykernel)",
   "language": "python",
   "name": "python3"
  },
  "language_info": {
   "codemirror_mode": {
    "name": "ipython",
    "version": 3
   },
   "file_extension": ".py",
   "mimetype": "text/x-python",
   "name": "python",
   "nbconvert_exporter": "python",
   "pygments_lexer": "ipython3",
   "version": "3.9.7"
  }
 },
 "nbformat": 4,
 "nbformat_minor": 5
}
