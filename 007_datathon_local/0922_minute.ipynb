{
 "cells": [
  {
   "cell_type": "markdown",
   "id": "48f625da",
   "metadata": {},
   "source": [
    "# 1. 쏘카3기 Datathon"
   ]
  },
  {
   "cell_type": "markdown",
   "id": "2944fcf7",
   "metadata": {},
   "source": [
    "[쏘카3기 Datathon, notion](https://www.notion.so/modulabs/3-Datathon-cf0c3028808d45f4a073a1f6b6076fb8)의 페이지를 요약한 것이다.\n",
    "\n",
    "이것은 오전에 김경민 캠퍼스 매니저님의 주도로 진행된 Datathon OT의 내용이기도 하다.\n",
    "- EDA는 무엇인가요?\n",
    "- EDA는 왜 필요할까요?\n",
    "- 왜 데이터톤을 하는 걸까요?\n",
    "- 세부일정\n",
    " - 9/21(수) : 팀빌딩, 주제선정\n",
    " - 9/22(목) : OT(데이터 오픈), 프로젝트 진행, 글쓰기 풀잎\n",
    " - 9/23(금) : 프로젝트 진행\n",
    " - 9/26(월) : 프로젝트 진행\n",
    " - 9/27(화) : 결과물 제출(1시), 발표회(3시)\n",
    "- 진행방식\n",
    " - LMS Fundamental 조(네 개 조)를 기반으로 팀을 선정한다.\n",
    " - 각 팀은 각자 dataset을 선택한다.\n",
    " - 각 팀은 분석목표를 설정한다.\n",
    " - 각 팀은 결과를 github url로 제출한다.\n",
    " - 발표, 응원, 격려의 시간\n",
    "- 축하와 응원의 점수\n",
    "  - 점수 : 기준에 따른 운영진이 생각한 정량화된 점수의 평균\n",
    "  - 점수 부여 기준\n",
    "   - **EDA 및 시각화**가 적절하게 이루어졌는가? (20%)\n",
    "   - 데이터 분석 내용에 따른 **결과 도출과정**이 **논리적**인가? (20%)\n",
    "   - **도출된 결론**에 **충분한 설득력**이 있는가? (20%)\n",
    "   - **결과물**에 **팀원들의 협업 내용**이 잘 나타나 있는가? (30%)\n",
    "  - 발표가 **매끄럽게 진행**되었고 **발표시간을 준수**하였는지?  (10%)\n",
    "   - 캠퍼스 그루들의 👍(좋아요, 응원)을 정성적으로 반영 (+α)\n",
    "   \n",
    "[DATATHON-SOCAR, padlet](https://padlet.com/kmkim5/tzxrv6sda6vtzlb9)도 중요한 페이지이다.\n",
    "\n"
   ]
  },
  {
   "cell_type": "markdown",
   "id": "3d50e9cb",
   "metadata": {},
   "source": [
    "# 2. 전체회의(세 개 조)"
   ]
  },
  {
   "attachments": {
    "image-2.png": {
     "image/png": "[encoded data removed]"
    }
   },
   "cell_type": "markdown",
   "id": "c813ce8f",
   "metadata": {},
   "source": [
    "## 2.1. 데이터셋 설명\n",
    "- [데이터셋 출처](https://www.kaggle.com/competitions/instacart-market-basket-analysis/rules)\n",
    "- overview > evaluation > Submission File\n",
    "\n",
    "![image-2.png](attachment:image-2.png)\n",
    "\n",
    "- Data\n",
    " - 깃허브에 올리면 안된다. 100MB 이상은 올라갈 수 없다.\n",
    " - column 해석이 아직 되어 있지 않은 상태. 더 알게 되면 공유 부탁드린다.\n",
    " - [각 column에 대한 해석 글](https://gist.github.com/jeremystan/c3b39d947d9b88b3ccff3147dbcf6c6b)\n",
    "   - `dow`의 경우 일요일 = 0인지 월요일 = 0 인지 불명확하다는 점이 있다.\n",
    "   - foreign key : 외래키 (데이터베이스 용어)\n",
    "- Rule\n",
    "  - 룰의 숙지가 중요할 것이다."
   ]
  },
  {
   "attachments": {
    "image.png": {
     "image/png": "[encoded data removed]"
    }
   },
   "cell_type": "markdown",
   "id": "77caa9ec",
   "metadata": {},
   "source": [
    "## 2.2. 질문 및 토의\n",
    "- 김종태 : 결국 이 문제에서 하고 싶은 것은 무엇인가?\n",
    "  - \"user id가 주어지면, 다음에 이 사람이 어떤 제품들을 구매할 지를 예측하는 문제이다.\"\n",
    "- 김예진 : 개괄적인 것들을 봤으니, 각자 데이터를 해석하는 시간이 필요할 것 같다.\n",
    "  - 3시 반에 중간 취합 할 예정.\n",
    "- 김선중 : 외래키란 무엇인지?\n",
    "  - [관련 글](https://bamdule.tistory.com/45)\n",
    "\n",
    "![image.png](attachment:image.png)\n",
    "\n",
    "- 김종태\n",
    "  - 아래에 좋은 글들이 있다. 영어로된 원문은, kaggle 참여자 한 명이 작업을 해놓은 것이다.\n",
    "  - [좋은 글(한국어 번역)](https://nomadcoder.tistory.com/entry/Kaggle-%ED%95%84%EC%82%AC-Instacart-%EA%B5%AC%EB%A7%A4%EC%9E%90%EB%93%A4%EC%9D%80-%EC%96%B4%EB%96%A4-%EB%AC%BC%EA%B1%B4%EC%9D%84-%EC%9E%AC%EA%B5%AC%EB%A7%A4%ED%95%A0%EA%B9%8C)\n",
    "  - [좋은 글(원문)](https://www.kaggle.com/code/sudalairajkumar/simple-exploration-notebook-instacart)\n",
    "  - dow : day of weekday에서 0이 일요일인가 토요일인가? 월요일인가?\n",
    "    - 현재로서는 알 수 없다."
   ]
  },
  {
   "cell_type": "markdown",
   "id": "5eb81601",
   "metadata": {},
   "source": [
    "# 3. 작업경과"
   ]
  },
  {
   "cell_type": "markdown",
   "id": "800f1da5",
   "metadata": {},
   "source": [
    "## 3.1. 오전\n",
    " - GitHub repository 이름이 `datatone_group4`였다.\n",
    " 이것을 `datathon_group7`으로 바꾸자는 제안(김선중)이 있었고 반영되었다.\n",
    " - padlet에 일단 기본적인 사항을 올렸다(김선중). 하지만, padlet에 보여지는 것 또한 중요할 수 있으므로, 추후에 수정될 여지가 있다(황한용)."
   ]
  },
  {
   "cell_type": "markdown",
   "id": "0541e4d9",
   "metadata": {},
   "source": [
    "## 3.2. 경원 퍼실님의 조언\n",
    " - clustering에 대하여\n",
    "   - 기존의 feature들 (e.g. 요일, 시간, department, aisle 등)을 토대로 하여 각각의 sample들을 clustering한다.\n",
    "   그러면 각각의 sample들이 어떤 cluster에 포함되어 있는지 하는 것을 가지고 새로운 feature를 만들 수 있다 (e.g. cluster 1, cluster 2, etc)\n",
    " - 평가지표에 대하여\n",
    "   - 주어진 평가지표 및 문제는 존재하지 않는다. 직접 만들어서 해결해나가면 된다."
   ]
  },
  {
   "cell_type": "markdown",
   "id": "6adc0543",
   "metadata": {},
   "source": [
    "## 3.3. 오후"
   ]
  },
  {
   "cell_type": "code",
   "execution_count": null,
   "id": "58991e7b",
   "metadata": {},
   "outputs": [],
   "source": []
  }
 ],
 "metadata": {
  "kernelspec": {
   "display_name": "Python 3 (ipykernel)",
   "language": "python",
   "name": "python3"
  },
  "language_info": {
   "codemirror_mode": {
    "name": "ipython",
    "version": 3
   },
   "file_extension": ".py",
   "mimetype": "text/x-python",
   "name": "python",
   "nbconvert_exporter": "python",
   "pygments_lexer": "ipython3",
   "version": "3.9.12"
  }
 },
 "nbformat": 4,
 "nbformat_minor": 5
}
