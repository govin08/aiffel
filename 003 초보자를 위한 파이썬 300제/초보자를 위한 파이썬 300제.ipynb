{
 "cells": [
  {
   "cell_type": "markdown",
   "id": "bbf1b375",
   "metadata": {},
   "source": [
    "# 01 파이썬 시작하기"
   ]
  },
  {
   "cell_type": "markdown",
   "id": "00e54262",
   "metadata": {},
   "source": [
    "## 001 ~ 010"
   ]
  },
  {
   "cell_type": "code",
   "execution_count": 1,
   "id": "af68bc62",
   "metadata": {},
   "outputs": [
    {
     "name": "stdout",
     "output_type": "stream",
     "text": [
      "Hello World\n"
     ]
    }
   ],
   "source": [
    "print('Hello World')"
   ]
  },
  {
   "cell_type": "code",
   "execution_count": 2,
   "id": "78a3b0a3",
   "metadata": {},
   "outputs": [
    {
     "name": "stdout",
     "output_type": "stream",
     "text": [
      "Mary's cosmetics\n"
     ]
    }
   ],
   "source": [
    "print('Mary\\'s cosmetics')"
   ]
  },
  {
   "cell_type": "code",
   "execution_count": 3,
   "id": "bd61c8b9",
   "metadata": {},
   "outputs": [
    {
     "name": "stdout",
     "output_type": "stream",
     "text": [
      "신싸가 소리질렀다. \"도둑이야\"\n"
     ]
    }
   ],
   "source": [
    "print('신싸가 소리질렀다. \\\"도둑이야\\\"')"
   ]
  },
  {
   "cell_type": "code",
   "execution_count": 5,
   "id": "e6b20e54",
   "metadata": {},
   "outputs": [
    {
     "name": "stdout",
     "output_type": "stream",
     "text": [
      "\"C:\\Windows\"\n"
     ]
    }
   ],
   "source": [
    "print('\\\"C:\\\\Windows\"')"
   ]
  },
  {
   "cell_type": "code",
   "execution_count": 6,
   "id": "1a6a3241",
   "metadata": {},
   "outputs": [
    {
     "name": "stdout",
     "output_type": "stream",
     "text": [
      "안녕하세요.\n",
      " 만나서\t\t 반갑습니다.\n"
     ]
    }
   ],
   "source": [
    "print(\"안녕하세요.\\n 만나서\\t\\t 반갑습니다.\")"
   ]
  },
  {
   "cell_type": "markdown",
   "id": "f5ae8ba5",
   "metadata": {},
   "source": [
    "|명령어|약어|설명|\n",
    "|:------:|:---:|:---:|\n",
    "|\\n|new line, 개행|줄을 바꿉니다. (커서를 아래로 이동합니다.)|\n",
    "|\\t|tab|지정된 길이만큼 커서를 오른쪽으로 이동합니다.|"
   ]
  },
  {
   "cell_type": "code",
   "execution_count": 7,
   "id": "c51c918a",
   "metadata": {
    "scrolled": true
   },
   "outputs": [
    {
     "name": "stdout",
     "output_type": "stream",
     "text": [
      "오늘은 일요일\n"
     ]
    }
   ],
   "source": [
    "print(\"오늘은\", \"일요일\")"
   ]
  },
  {
   "cell_type": "code",
   "execution_count": 13,
   "id": "f6e5a372",
   "metadata": {},
   "outputs": [
    {
     "name": "stdout",
     "output_type": "stream",
     "text": [
      "naver;kakao;sk;samsung\n"
     ]
    }
   ],
   "source": [
    "print('naver','kakao','sk','samsung',sep=';')"
   ]
  },
  {
   "cell_type": "code",
   "execution_count": 14,
   "id": "a6f0582b",
   "metadata": {},
   "outputs": [
    {
     "name": "stdout",
     "output_type": "stream",
     "text": [
      "naver/kakao/sk/samsung\n"
     ]
    }
   ],
   "source": [
    "print('naver','kakao','sk','samsung',sep='/')"
   ]
  },
  {
   "cell_type": "code",
   "execution_count": 17,
   "id": "673684f8",
   "metadata": {},
   "outputs": [
    {
     "name": "stdout",
     "output_type": "stream",
     "text": [
      "firstsecond\n"
     ]
    }
   ],
   "source": [
    "print(\"first\",end='');print(\"second\")"
   ]
  },
  {
   "cell_type": "code",
   "execution_count": 18,
   "id": "f26d51fc",
   "metadata": {
    "scrolled": true
   },
   "outputs": [
    {
     "name": "stdout",
     "output_type": "stream",
     "text": [
      "1.6666666666666667\n"
     ]
    }
   ],
   "source": [
    "print(5/3)"
   ]
  },
  {
   "cell_type": "markdown",
   "id": "a735879e",
   "metadata": {},
   "source": [
    "# 02 파이썬 변수"
   ]
  },
  {
   "cell_type": "markdown",
   "id": "c916e2a4",
   "metadata": {},
   "source": [
    "## 011 ~ 020"
   ]
  },
  {
   "cell_type": "code",
   "execution_count": 26,
   "id": "f7e83713",
   "metadata": {},
   "outputs": [
    {
     "name": "stdout",
     "output_type": "stream",
     "text": [
      "총 평가금액은 500000 원 입니다.\n"
     ]
    }
   ],
   "source": [
    "삼성전자 = 50000\n",
    "총평가금액 = 삼성전자*10\n",
    "print(\"총 평가금액은\",총평가금액,\"원 입니다.\")"
   ]
  },
  {
   "cell_type": "code",
   "execution_count": 27,
   "id": "a6ba716f",
   "metadata": {},
   "outputs": [],
   "source": [
    "시가총액 = '298조'\n",
    "현재가 = '50,000원'\n",
    "PER = '15.79'"
   ]
  },
  {
   "cell_type": "code",
   "execution_count": 31,
   "id": "fa182bd0",
   "metadata": {},
   "outputs": [
    {
     "name": "stdout",
     "output_type": "stream",
     "text": [
      "hello! python\n",
      "hello! python\n"
     ]
    }
   ],
   "source": [
    "s='hello'\n",
    "t='python'\n",
    "print(s,t,sep='! ')\n",
    "print(s+'!',t)"
   ]
  },
  {
   "cell_type": "code",
   "execution_count": 32,
   "id": "04c869cc",
   "metadata": {},
   "outputs": [
    {
     "data": {
      "text/plain": [
       "8"
      ]
     },
     "execution_count": 32,
     "metadata": {},
     "output_type": "execute_result"
    }
   ],
   "source": [
    "2+2*3"
   ]
  },
  {
   "cell_type": "code",
   "execution_count": 33,
   "id": "3fd93aaf",
   "metadata": {},
   "outputs": [
    {
     "name": "stdout",
     "output_type": "stream",
     "text": [
      "<class 'str'>\n"
     ]
    }
   ],
   "source": [
    "a='132'\n",
    "print(type(a))"
   ]
  },
  {
   "cell_type": "code",
   "execution_count": 40,
   "id": "5bd70d25",
   "metadata": {},
   "outputs": [
    {
     "name": "stdout",
     "output_type": "stream",
     "text": [
      "720 <class 'int'>\n"
     ]
    }
   ],
   "source": [
    "num_str = '720'\n",
    "num_int = int(num_str)\n",
    "print(num_int,type(num_int))"
   ]
  },
  {
   "cell_type": "code",
   "execution_count": 41,
   "id": "e28402a8",
   "metadata": {},
   "outputs": [
    {
     "name": "stdout",
     "output_type": "stream",
     "text": [
      "100 <class 'str'>\n"
     ]
    }
   ],
   "source": [
    "num = 100\n",
    "num_str = str(num) \n",
    "print(num_str,type(num_str))"
   ]
  },
  {
   "cell_type": "code",
   "execution_count": 42,
   "id": "9b17ca41",
   "metadata": {
    "scrolled": true
   },
   "outputs": [
    {
     "name": "stdout",
     "output_type": "stream",
     "text": [
      "15.79 <class 'float'>\n"
     ]
    }
   ],
   "source": [
    "a='15.79'\n",
    "a_float=float(a)\n",
    "print(a_float,type(a_float))"
   ]
  },
  {
   "cell_type": "code",
   "execution_count": 44,
   "id": "f4c0fc7e",
   "metadata": {},
   "outputs": [
    {
     "name": "stdout",
     "output_type": "stream",
     "text": [
      "2018 2019 2020\n"
     ]
    }
   ],
   "source": [
    "year = '2020'\n",
    "year = int(year)\n",
    "print(year-2,year-1,year)"
   ]
  },
  {
   "cell_type": "code",
   "execution_count": 49,
   "id": "22631881",
   "metadata": {},
   "outputs": [
    {
     "name": "stdout",
     "output_type": "stream",
     "text": [
      "총 원리합계는  1749024 원 입니다.\n"
     ]
    }
   ],
   "source": [
    "payment_per_month = 48584\n",
    "months = 36\n",
    "final_value = payment_per_month*months\n",
    "print(\"총 원리합계는 \",final_value,\"원 입니다.\")"
   ]
  },
  {
   "cell_type": "markdown",
   "id": "e4f6e0e7",
   "metadata": {},
   "source": [
    "# 03 파이썬 문자열"
   ]
  },
  {
   "cell_type": "markdown",
   "id": "ef2dcb78",
   "metadata": {},
   "source": [
    "## 021 ~ 030"
   ]
  },
  {
   "cell_type": "code",
   "execution_count": 67,
   "id": "5755b80c",
   "metadata": {},
   "outputs": [
    {
     "name": "stdout",
     "output_type": "stream",
     "text": [
      "pt\n",
      "pt\n",
      "p t\n"
     ]
    }
   ],
   "source": [
    "letters = 'python'\n",
    "print(letters[:3:2])\n",
    "print(letters[0]+letters[2])\n",
    "print(letters[0],letters[2])"
   ]
  },
  {
   "cell_type": "code",
   "execution_count": 64,
   "id": "04f3f457",
   "metadata": {},
   "outputs": [
    {
     "name": "stdout",
     "output_type": "stream",
     "text": [
      "8\n",
      "0 2\n",
      "1 4\n",
      "2 가\n",
      "3  \n",
      "4 2\n",
      "5 2\n",
      "6 1\n",
      "7 0\n",
      "2210\n"
     ]
    }
   ],
   "source": [
    "licence_plate = \"24가 2210\"\n",
    "print(len(licence_plate))\n",
    "for i in range(len(licence_plate)):\n",
    "    print(i,licence_plate[i])\n",
    "\n",
    "print(licence_plate[4:])"
   ]
  },
  {
   "cell_type": "code",
   "execution_count": 66,
   "id": "ec234b97",
   "metadata": {},
   "outputs": [
    {
     "name": "stdout",
     "output_type": "stream",
     "text": [
      "홀 홀 홀\n",
      "홀홀홀\n",
      "홀홀홀\n"
     ]
    }
   ],
   "source": [
    "string = \"홀짝홀짝홀짝\"\n",
    "print(string[0],string[2],string[4])\n",
    "print(string[0]+string[2]+string[4])\n",
    "print(string[::2])"
   ]
  },
  {
   "cell_type": "code",
   "execution_count": 68,
   "id": "fe6a3421",
   "metadata": {},
   "outputs": [
    {
     "name": "stdout",
     "output_type": "stream",
     "text": [
      "NOHTYP\n"
     ]
    }
   ],
   "source": [
    "string = \"PYTHON\"\n",
    "print(string[::-1])"
   ]
  },
  {
   "cell_type": "code",
   "execution_count": 79,
   "id": "ea8a8588",
   "metadata": {},
   "outputs": [
    {
     "name": "stdout",
     "output_type": "stream",
     "text": [
      "['000', '111', '2222']\n",
      "0001112222\n"
     ]
    }
   ],
   "source": [
    "phone_number = \"000-111-2222\"\n",
    "phone_number_split = phone_number.split('-')\n",
    "print(phone_number_split)\n",
    "phone_number_without_hypens=''.join(phone_number_split)\n",
    "print(phone_number_without_hypens)"
   ]
  },
  {
   "cell_type": "code",
   "execution_count": 81,
   "id": "0a310d6b",
   "metadata": {},
   "outputs": [
    {
     "name": "stdout",
     "output_type": "stream",
     "text": [
      "0001112222\n"
     ]
    }
   ],
   "source": [
    "phone_number = \"000-111-2222\"\n",
    "phone_number_without_hypens = phone_number.replace(\"-\",\"\")\n",
    "print(phone_number_without_hypens)"
   ]
  },
  {
   "cell_type": "code",
   "execution_count": 78,
   "id": "074ada3e",
   "metadata": {},
   "outputs": [
    {
     "name": "stdout",
     "output_type": "stream",
     "text": [
      "['000', '111', '2222']\n",
      "000 111 2222\n"
     ]
    }
   ],
   "source": [
    "phone_number = \"000-111-2222\"\n",
    "phone_number_split = phone_number.split('-')\n",
    "print(phone_number_split)\n",
    "phone_number_without_hypens=' '.join(phone_number_split)\n",
    "print(phone_number_without_hypens)"
   ]
  },
  {
   "cell_type": "code",
   "execution_count": 77,
   "id": "b6afa746",
   "metadata": {},
   "outputs": [
    {
     "name": "stdout",
     "output_type": "stream",
     "text": [
      "000 111 2222\n"
     ]
    }
   ],
   "source": [
    "phone_number = \"000-111-2222\"\n",
    "phone_number_without_hypens = phone_number.replace(\"-\",\" \")\n",
    "print(phone_number_without_hypens)"
   ]
  },
  {
   "cell_type": "code",
   "execution_count": 83,
   "id": "e2b7978d",
   "metadata": {},
   "outputs": [
    {
     "data": {
      "text/plain": [
       "'kr'"
      ]
     },
     "execution_count": 83,
     "metadata": {},
     "output_type": "execute_result"
    }
   ],
   "source": [
    "url = \"http//sharebook.kr\"\n",
    "url_split = url.split('.')\n",
    "url_split[1]"
   ]
  },
  {
   "cell_type": "code",
   "execution_count": 85,
   "id": "0d7281d1",
   "metadata": {},
   "outputs": [
    {
     "ename": "TypeError",
     "evalue": "'str' object does not support item assignment",
     "output_type": "error",
     "traceback": [
      "\u001b[0;31m---------------------------------------------------------------------------\u001b[0m",
      "\u001b[0;31mTypeError\u001b[0m                                 Traceback (most recent call last)",
      "\u001b[0;32m/tmp/ipykernel_47/248313055.py\u001b[0m in \u001b[0;36m<module>\u001b[0;34m\u001b[0m\n\u001b[1;32m      1\u001b[0m \u001b[0mlang\u001b[0m \u001b[0;34m=\u001b[0m \u001b[0;34m'python'\u001b[0m\u001b[0;34m\u001b[0m\u001b[0;34m\u001b[0m\u001b[0m\n\u001b[0;32m----> 2\u001b[0;31m \u001b[0mlang\u001b[0m\u001b[0;34m[\u001b[0m\u001b[0;36m0\u001b[0m\u001b[0;34m]\u001b[0m\u001b[0;34m=\u001b[0m\u001b[0;34m'P'\u001b[0m\u001b[0;34m\u001b[0m\u001b[0;34m\u001b[0m\u001b[0m\n\u001b[0m",
      "\u001b[0;31mTypeError\u001b[0m: 'str' object does not support item assignment"
     ]
    }
   ],
   "source": [
    "lang = 'python'\n",
    "lang[0]='P'\n",
    "print(lang)"
   ]
  },
  {
   "cell_type": "code",
   "execution_count": 86,
   "id": "01a2afa8",
   "metadata": {},
   "outputs": [
    {
     "name": "stdout",
     "output_type": "stream",
     "text": [
      "['P']\n"
     ]
    }
   ],
   "source": [
    "lang = ['python']\n",
    "lang[0]='P'\n",
    "print(lang)"
   ]
  },
  {
   "cell_type": "code",
   "execution_count": 88,
   "id": "ae616fb3",
   "metadata": {},
   "outputs": [
    {
     "name": "stdout",
     "output_type": "stream",
     "text": [
      "Abcdfe2A354A32A\n"
     ]
    }
   ],
   "source": [
    "string = 'abcdfe2a354a32a'\n",
    "string_replaced = string.replace(\"a\",\"A\")\n",
    "print(string_replaced)"
   ]
  },
  {
   "cell_type": "code",
   "execution_count": 89,
   "id": "8436659c",
   "metadata": {},
   "outputs": [
    {
     "name": "stdout",
     "output_type": "stream",
     "text": [
      "abcd\n"
     ]
    }
   ],
   "source": [
    "string = 'abcd'\n",
    "string.replace('b','B')\n",
    "print(string)"
   ]
  },
  {
   "cell_type": "code",
   "execution_count": 90,
   "id": "944cf7bb",
   "metadata": {},
   "outputs": [
    {
     "name": "stdout",
     "output_type": "stream",
     "text": [
      "aBcd\n"
     ]
    }
   ],
   "source": [
    "string = 'abcd'\n",
    "string_replaced = string.replace('b','B')\n",
    "print(string_replaced)"
   ]
  }
 ],
 "metadata": {
  "kernelspec": {
   "display_name": "Python 3 (ipykernel)",
   "language": "python",
   "name": "python3"
  },
  "language_info": {
   "codemirror_mode": {
    "name": "ipython",
    "version": 3
   },
   "file_extension": ".py",
   "mimetype": "text/x-python",
   "name": "python",
   "nbconvert_exporter": "python",
   "pygments_lexer": "ipython3",
   "version": "3.9.7"
  }
 },
 "nbformat": 4,
 "nbformat_minor": 5
}
