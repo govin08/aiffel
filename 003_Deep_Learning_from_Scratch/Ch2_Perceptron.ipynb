{
 "cells": [
  {
   "cell_type": "markdown",
   "id": "7a8ae292",
   "metadata": {},
   "source": [
    "# 02 퍼셉트론"
   ]
  },
  {
   "attachments": {
    "0905_dl_fromscratch_2_2_1.png": {
     "image/png": "[encoded data removed]"
    }
   },
   "cell_type": "markdown",
   "id": "82aa58b0",
   "metadata": {},
   "source": [
    "![0905_dl_fromscratch_2_2_1.png](attachment:0905_dl_fromscratch_2_2_1.png)"
   ]
  },
  {
   "cell_type": "code",
   "execution_count": 1,
   "id": "68061cd9",
   "metadata": {},
   "outputs": [],
   "source": [
    "def testoperator(op):\n",
    "    for i in [0,1]:\n",
    "        for j in [0,1]:\n",
    "            print(op(i,j))"
   ]
  },
  {
   "cell_type": "code",
   "execution_count": 2,
   "id": "3e6c64bb",
   "metadata": {},
   "outputs": [],
   "source": [
    "def AND(x1, x2):\n",
    "    w1, w2, theta = .5, .5, .7\n",
    "    tmp = x1*w1+x2*w2\n",
    "    if tmp <=theta:\n",
    "        return 0\n",
    "    else:\n",
    "        return 1"
   ]
  },
  {
   "cell_type": "code",
   "execution_count": 3,
   "id": "0cb034df",
   "metadata": {},
   "outputs": [
    {
     "name": "stdout",
     "output_type": "stream",
     "text": [
      "0\n",
      "0\n",
      "0\n",
      "1\n"
     ]
    }
   ],
   "source": [
    "testoperator(AND)"
   ]
  },
  {
   "cell_type": "code",
   "execution_count": 4,
   "id": "a8ec8a7b",
   "metadata": {},
   "outputs": [
    {
     "data": {
      "text/plain": [
       "-0.19999999999999996"
      ]
     },
     "execution_count": 4,
     "metadata": {},
     "output_type": "execute_result"
    }
   ],
   "source": [
    "import numpy as np\n",
    "x = np.array([0,1])\n",
    "w = np.array([0.5,0.5])\n",
    "b = -0.7\n",
    "sum(w*x)+b"
   ]
  },
  {
   "cell_type": "code",
   "execution_count": 5,
   "id": "6f9468ec",
   "metadata": {},
   "outputs": [],
   "source": [
    "def AND2(x1, x2):\n",
    "    x = np.array([x1,x2])\n",
    "    w = np.array([0.5,0.5])\n",
    "    b=-0.7\n",
    "    tmp = np.sum(w*x)+b\n",
    "    if tmp <=0:\n",
    "        return 0\n",
    "    else:\n",
    "        return 1"
   ]
  },
  {
   "cell_type": "code",
   "execution_count": 6,
   "id": "4e688ebf",
   "metadata": {},
   "outputs": [
    {
     "name": "stdout",
     "output_type": "stream",
     "text": [
      "0\n",
      "0\n",
      "0\n",
      "1\n"
     ]
    }
   ],
   "source": [
    "testoperator(AND2)"
   ]
  },
  {
   "cell_type": "code",
   "execution_count": 7,
   "id": "eb63b9e9",
   "metadata": {},
   "outputs": [],
   "source": [
    "def NAND(x1, x2):\n",
    "    x = np.array([x1,x2])\n",
    "    w = np.array([0.5,0.5])\n",
    "    b=-0.7\n",
    "    tmp = np.sum(w*x)+b\n",
    "    if tmp >0:\n",
    "        return 0\n",
    "    else:\n",
    "        return 1"
   ]
  },
  {
   "cell_type": "code",
   "execution_count": 8,
   "id": "83ccda75",
   "metadata": {},
   "outputs": [
    {
     "name": "stdout",
     "output_type": "stream",
     "text": [
      "1\n",
      "1\n",
      "1\n",
      "0\n"
     ]
    }
   ],
   "source": [
    "testoperator(NAND)"
   ]
  },
  {
   "cell_type": "code",
   "execution_count": 10,
   "id": "5ced6724",
   "metadata": {},
   "outputs": [],
   "source": [
    "def OR(x1, x2):\n",
    "    x = np.array([x1,x2])\n",
    "    w = np.array([0.5,0.5])\n",
    "    b = -0.2\n",
    "    tmp = np.sum(w*x)+b\n",
    "    if tmp <= 0:\n",
    "        return 0\n",
    "    else:\n",
    "        return 1"
   ]
  },
  {
   "cell_type": "code",
   "execution_count": 11,
   "id": "4f31659f",
   "metadata": {},
   "outputs": [
    {
     "name": "stdout",
     "output_type": "stream",
     "text": [
      "0\n",
      "1\n",
      "1\n",
      "1\n"
     ]
    }
   ],
   "source": [
    "testoperator(OR)"
   ]
  },
  {
   "cell_type": "code",
   "execution_count": 12,
   "id": "55b7e2ff",
   "metadata": {},
   "outputs": [],
   "source": [
    "def XOR(x1, x2):\n",
    "    s1 = NAND(x1, x2)\n",
    "    s2 = OR(x1, x2)\n",
    "    y = AND(s1, s2)\n",
    "    return y"
   ]
  },
  {
   "cell_type": "code",
   "execution_count": 26,
   "id": "d402b9bb",
   "metadata": {},
   "outputs": [
    {
     "name": "stdout",
     "output_type": "stream",
     "text": [
      "        TT   TF   FT   FF\n",
      "   s1    0    1    1    1\n",
      "   s2    1    1    1    0\n",
      "   y     0    1    1    0\n"
     ]
    }
   ],
   "source": [
    "print(\"{:>5}{:>5}{:>5}{:>5}{:>5}\".format(\"\",\"TT\",\"TF\",\"FT\",\"FF\"))\n",
    "print(\"{:>5}{:>5}{:>5}{:>5}{:>5}\".format(\"s1\",NAND(1,1), NAND(1,0), NAND(0,1), NAND(0,0)))\n",
    "print(\"{:>5}{:>5}{:>5}{:>5}{:>5}\".format(\"s2\",OR(1,1),   OR(1,0),   OR(0,1),   OR(0,0)))\n",
    "print(\"{:>5}{:>5}{:>5}{:>5}{:>5}\".format(\"y \",0,         1,         1,         0))"
   ]
  }
 ],
 "metadata": {
  "kernelspec": {
   "display_name": "Python 3 (ipykernel)",
   "language": "python",
   "name": "python3"
  },
  "language_info": {
   "codemirror_mode": {
    "name": "ipython",
    "version": 3
   },
   "file_extension": ".py",
   "mimetype": "text/x-python",
   "name": "python",
   "nbconvert_exporter": "python",
   "pygments_lexer": "ipython3",
   "version": "3.9.7"
  }
 },
 "nbformat": 4,
 "nbformat_minor": 5
}
